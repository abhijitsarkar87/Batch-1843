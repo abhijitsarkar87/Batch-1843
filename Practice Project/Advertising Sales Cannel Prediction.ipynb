{
 "cells": [
  {
   "cell_type": "code",
   "execution_count": 1,
   "id": "d977501e",
   "metadata": {},
   "outputs": [],
   "source": [
    "# import lib\n",
    "import numpy as np\n",
    "import pandas as pd\n",
    "import matplotlib.pyplot as plt\n",
    "%matplotlib inline\n",
    "\n",
    "import seaborn as sns\n",
    "import sklearn\n",
    "\n",
    "from sklearn.model_selection import train_test_split\n",
    "from sklearn.linear_model import LinearRegression\n",
    "from sklearn.metrics import r2_score, mean_absolute_error, mean_squared_error\n",
    "\n",
    "import warnings\n",
    "warnings.filterwarnings('ignore')"
   ]
  },
  {
   "cell_type": "code",
   "execution_count": 2,
   "id": "bcdc333c",
   "metadata": {},
   "outputs": [],
   "source": [
    "df=pd.read_csv('Advertise_sales.csv',header=0,names=['Sl','TV','Radio','Newspaper','Sales'])"
   ]
  },
  {
   "cell_type": "code",
   "execution_count": 3,
   "id": "965d3ad4",
   "metadata": {},
   "outputs": [
    {
     "data": {
      "text/html": [
       "<div>\n",
       "<style scoped>\n",
       "    .dataframe tbody tr th:only-of-type {\n",
       "        vertical-align: middle;\n",
       "    }\n",
       "\n",
       "    .dataframe tbody tr th {\n",
       "        vertical-align: top;\n",
       "    }\n",
       "\n",
       "    .dataframe thead th {\n",
       "        text-align: right;\n",
       "    }\n",
       "</style>\n",
       "<table border=\"1\" class=\"dataframe\">\n",
       "  <thead>\n",
       "    <tr style=\"text-align: right;\">\n",
       "      <th></th>\n",
       "      <th>Sl</th>\n",
       "      <th>TV</th>\n",
       "      <th>Radio</th>\n",
       "      <th>Newspaper</th>\n",
       "      <th>Sales</th>\n",
       "    </tr>\n",
       "  </thead>\n",
       "  <tbody>\n",
       "    <tr>\n",
       "      <th>0</th>\n",
       "      <td>1</td>\n",
       "      <td>230.1</td>\n",
       "      <td>37.8</td>\n",
       "      <td>69.2</td>\n",
       "      <td>22.1</td>\n",
       "    </tr>\n",
       "    <tr>\n",
       "      <th>1</th>\n",
       "      <td>2</td>\n",
       "      <td>44.5</td>\n",
       "      <td>39.3</td>\n",
       "      <td>45.1</td>\n",
       "      <td>10.4</td>\n",
       "    </tr>\n",
       "    <tr>\n",
       "      <th>2</th>\n",
       "      <td>3</td>\n",
       "      <td>17.2</td>\n",
       "      <td>45.9</td>\n",
       "      <td>69.3</td>\n",
       "      <td>9.3</td>\n",
       "    </tr>\n",
       "    <tr>\n",
       "      <th>3</th>\n",
       "      <td>4</td>\n",
       "      <td>151.5</td>\n",
       "      <td>41.3</td>\n",
       "      <td>58.5</td>\n",
       "      <td>18.5</td>\n",
       "    </tr>\n",
       "    <tr>\n",
       "      <th>4</th>\n",
       "      <td>5</td>\n",
       "      <td>180.8</td>\n",
       "      <td>10.8</td>\n",
       "      <td>58.4</td>\n",
       "      <td>12.9</td>\n",
       "    </tr>\n",
       "  </tbody>\n",
       "</table>\n",
       "</div>"
      ],
      "text/plain": [
       "   Sl     TV  Radio  Newspaper  Sales\n",
       "0   1  230.1   37.8       69.2   22.1\n",
       "1   2   44.5   39.3       45.1   10.4\n",
       "2   3   17.2   45.9       69.3    9.3\n",
       "3   4  151.5   41.3       58.5   18.5\n",
       "4   5  180.8   10.8       58.4   12.9"
      ]
     },
     "execution_count": 3,
     "metadata": {},
     "output_type": "execute_result"
    }
   ],
   "source": [
    "df.head()"
   ]
  },
  {
   "cell_type": "code",
   "execution_count": 4,
   "id": "a908cea4",
   "metadata": {},
   "outputs": [
    {
     "data": {
      "text/html": [
       "<div>\n",
       "<style scoped>\n",
       "    .dataframe tbody tr th:only-of-type {\n",
       "        vertical-align: middle;\n",
       "    }\n",
       "\n",
       "    .dataframe tbody tr th {\n",
       "        vertical-align: top;\n",
       "    }\n",
       "\n",
       "    .dataframe thead th {\n",
       "        text-align: right;\n",
       "    }\n",
       "</style>\n",
       "<table border=\"1\" class=\"dataframe\">\n",
       "  <thead>\n",
       "    <tr style=\"text-align: right;\">\n",
       "      <th></th>\n",
       "      <th>Sl</th>\n",
       "      <th>TV</th>\n",
       "      <th>Radio</th>\n",
       "      <th>Newspaper</th>\n",
       "      <th>Sales</th>\n",
       "    </tr>\n",
       "  </thead>\n",
       "  <tbody>\n",
       "    <tr>\n",
       "      <th>195</th>\n",
       "      <td>196</td>\n",
       "      <td>38.2</td>\n",
       "      <td>3.7</td>\n",
       "      <td>13.8</td>\n",
       "      <td>7.6</td>\n",
       "    </tr>\n",
       "    <tr>\n",
       "      <th>196</th>\n",
       "      <td>197</td>\n",
       "      <td>94.2</td>\n",
       "      <td>4.9</td>\n",
       "      <td>8.1</td>\n",
       "      <td>9.7</td>\n",
       "    </tr>\n",
       "    <tr>\n",
       "      <th>197</th>\n",
       "      <td>198</td>\n",
       "      <td>177.0</td>\n",
       "      <td>9.3</td>\n",
       "      <td>6.4</td>\n",
       "      <td>12.8</td>\n",
       "    </tr>\n",
       "    <tr>\n",
       "      <th>198</th>\n",
       "      <td>199</td>\n",
       "      <td>283.6</td>\n",
       "      <td>42.0</td>\n",
       "      <td>66.2</td>\n",
       "      <td>25.5</td>\n",
       "    </tr>\n",
       "    <tr>\n",
       "      <th>199</th>\n",
       "      <td>200</td>\n",
       "      <td>232.1</td>\n",
       "      <td>8.6</td>\n",
       "      <td>8.7</td>\n",
       "      <td>13.4</td>\n",
       "    </tr>\n",
       "  </tbody>\n",
       "</table>\n",
       "</div>"
      ],
      "text/plain": [
       "      Sl     TV  Radio  Newspaper  Sales\n",
       "195  196   38.2    3.7       13.8    7.6\n",
       "196  197   94.2    4.9        8.1    9.7\n",
       "197  198  177.0    9.3        6.4   12.8\n",
       "198  199  283.6   42.0       66.2   25.5\n",
       "199  200  232.1    8.6        8.7   13.4"
      ]
     },
     "execution_count": 4,
     "metadata": {},
     "output_type": "execute_result"
    }
   ],
   "source": [
    "df.tail()"
   ]
  },
  {
   "cell_type": "code",
   "execution_count": 5,
   "id": "5a80919d",
   "metadata": {},
   "outputs": [
    {
     "data": {
      "text/html": [
       "<div>\n",
       "<style scoped>\n",
       "    .dataframe tbody tr th:only-of-type {\n",
       "        vertical-align: middle;\n",
       "    }\n",
       "\n",
       "    .dataframe tbody tr th {\n",
       "        vertical-align: top;\n",
       "    }\n",
       "\n",
       "    .dataframe thead th {\n",
       "        text-align: right;\n",
       "    }\n",
       "</style>\n",
       "<table border=\"1\" class=\"dataframe\">\n",
       "  <thead>\n",
       "    <tr style=\"text-align: right;\">\n",
       "      <th></th>\n",
       "      <th>Sl</th>\n",
       "      <th>TV</th>\n",
       "      <th>Radio</th>\n",
       "      <th>Newspaper</th>\n",
       "      <th>Sales</th>\n",
       "    </tr>\n",
       "  </thead>\n",
       "  <tbody>\n",
       "    <tr>\n",
       "      <th>91</th>\n",
       "      <td>92</td>\n",
       "      <td>28.6</td>\n",
       "      <td>1.5</td>\n",
       "      <td>33.0</td>\n",
       "      <td>7.3</td>\n",
       "    </tr>\n",
       "  </tbody>\n",
       "</table>\n",
       "</div>"
      ],
      "text/plain": [
       "    Sl    TV  Radio  Newspaper  Sales\n",
       "91  92  28.6    1.5       33.0    7.3"
      ]
     },
     "execution_count": 5,
     "metadata": {},
     "output_type": "execute_result"
    }
   ],
   "source": [
    "df.sample()"
   ]
  },
  {
   "cell_type": "markdown",
   "id": "a19c551a",
   "metadata": {},
   "source": [
    "# Lets Know the Columns:\n",
    "\n",
    "1. Sl= Seial Number\n",
    "2. TV= Ads given in Television\n",
    "3. Radio= Ads given in Radio\n",
    "4. Newspaper= Ads given in Newspaper\n",
    "5. Sales= Total Sales"
   ]
  },
  {
   "cell_type": "code",
   "execution_count": 6,
   "id": "42c9fbdd",
   "metadata": {},
   "outputs": [
    {
     "name": "stdout",
     "output_type": "stream",
     "text": [
      "<class 'pandas.core.frame.DataFrame'>\n",
      "RangeIndex: 200 entries, 0 to 199\n",
      "Data columns (total 5 columns):\n",
      " #   Column     Non-Null Count  Dtype  \n",
      "---  ------     --------------  -----  \n",
      " 0   Sl         200 non-null    int64  \n",
      " 1   TV         200 non-null    float64\n",
      " 2   Radio      200 non-null    float64\n",
      " 3   Newspaper  200 non-null    float64\n",
      " 4   Sales      200 non-null    float64\n",
      "dtypes: float64(4), int64(1)\n",
      "memory usage: 7.9 KB\n"
     ]
    }
   ],
   "source": [
    "df.info()"
   ]
  },
  {
   "cell_type": "markdown",
   "id": "175298be",
   "metadata": {},
   "source": [
    "Determine The value to be in integer and float Values,No categorical data\n",
    "Size of the data 7.9kb."
   ]
  },
  {
   "cell_type": "markdown",
   "id": "534ab2b3",
   "metadata": {},
   "source": [
    "## Checking Duplicate values"
   ]
  },
  {
   "cell_type": "code",
   "execution_count": 7,
   "id": "161cc065",
   "metadata": {},
   "outputs": [
    {
     "data": {
      "text/plain": [
       "10"
      ]
     },
     "execution_count": 7,
     "metadata": {},
     "output_type": "execute_result"
    }
   ],
   "source": [
    "df[\"TV\"].duplicated().sum() # Ten dublicate values however those are in integer"
   ]
  },
  {
   "cell_type": "code",
   "execution_count": 8,
   "id": "43c00865",
   "metadata": {},
   "outputs": [
    {
     "data": {
      "text/plain": [
       "33"
      ]
     },
     "execution_count": 8,
     "metadata": {},
     "output_type": "execute_result"
    }
   ],
   "source": [
    "df['Radio'].duplicated().sum() # 33 same values however those are in integer"
   ]
  },
  {
   "cell_type": "code",
   "execution_count": 9,
   "id": "73eb380c",
   "metadata": {},
   "outputs": [
    {
     "data": {
      "text/plain": [
       "28"
      ]
     },
     "execution_count": 9,
     "metadata": {},
     "output_type": "execute_result"
    }
   ],
   "source": [
    "df['Newspaper'].duplicated().sum() #28 same values however those are in integer"
   ]
  },
  {
   "cell_type": "code",
   "execution_count": 10,
   "id": "7c6e5bd4",
   "metadata": {},
   "outputs": [
    {
     "data": {
      "text/plain": [
       "79"
      ]
     },
     "execution_count": 10,
     "metadata": {},
     "output_type": "execute_result"
    }
   ],
   "source": [
    "df['Sales'].duplicated().sum() #78 same values however these is a target variable"
   ]
  },
  {
   "cell_type": "code",
   "execution_count": 11,
   "id": "e9344acc",
   "metadata": {},
   "outputs": [
    {
     "data": {
      "text/plain": [
       "array([22.1, 10.4,  9.3, 18.5, 12.9,  7.2, 11.8, 13.2,  4.8, 10.6,  8.6,\n",
       "       17.4,  9.2,  9.7, 19. , 22.4, 12.5, 24.4, 11.3, 14.6, 18. ,  5.6,\n",
       "       15.5, 12. , 15. , 15.9, 18.9, 10.5, 21.4, 11.9,  9.6,  9.5, 12.8,\n",
       "       25.4, 14.7, 10.1, 21.5, 16.6, 17.1, 20.7,  8.5, 14.9, 23.2, 14.8,\n",
       "       11.4, 10.7, 22.6, 21.2, 20.2, 23.7,  5.5, 23.8, 18.4,  8.1, 24.2,\n",
       "       15.7, 14. , 13.4, 22.3, 18.3, 12.4,  8.8, 11. , 17. ,  8.7,  6.9,\n",
       "       14.2,  5.3, 12.3, 13.6, 21.7, 15.2, 16. , 16.7, 11.2,  7.3, 19.4,\n",
       "       22.2, 11.5, 16.9, 11.7, 17.2, 19.2, 19.8, 21.8, 14.1, 12.6, 12.2,\n",
       "        9.4,  6.6,  7. , 11.6, 19.7, 24.7,  1.6, 12.7,  5.7, 19.6, 10.8,\n",
       "       20.8, 10.9, 20.1, 10.3, 16.1, 15.6,  3.2, 15.3, 14.4, 13.3,  8. ,\n",
       "        8.4, 14.5,  7.6, 27. , 26.2, 17.6, 17.3,  6.7,  9.9,  5.9, 25.5])"
      ]
     },
     "execution_count": 11,
     "metadata": {},
     "output_type": "execute_result"
    }
   ],
   "source": [
    "df['Sales'].unique()"
   ]
  },
  {
   "cell_type": "code",
   "execution_count": 12,
   "id": "c3a97071",
   "metadata": {},
   "outputs": [],
   "source": [
    "# continious values ... in sales"
   ]
  },
  {
   "cell_type": "markdown",
   "id": "f5b3b10f",
   "metadata": {},
   "source": [
    "df.drop_duplicates() # to delete dublicate values"
   ]
  },
  {
   "cell_type": "markdown",
   "id": "b8633001",
   "metadata": {},
   "source": [
    "## Checking nunique Values(Non-Unique)"
   ]
  },
  {
   "cell_type": "code",
   "execution_count": 13,
   "id": "04c46441",
   "metadata": {},
   "outputs": [
    {
     "data": {
      "text/plain": [
       "167"
      ]
     },
     "execution_count": 13,
     "metadata": {},
     "output_type": "execute_result"
    }
   ],
   "source": [
    "df['Radio'].nunique()"
   ]
  },
  {
   "cell_type": "code",
   "execution_count": 14,
   "id": "1ffa0944",
   "metadata": {},
   "outputs": [
    {
     "data": {
      "text/plain": [
       "190"
      ]
     },
     "execution_count": 14,
     "metadata": {},
     "output_type": "execute_result"
    }
   ],
   "source": [
    "df['TV'].nunique()"
   ]
  },
  {
   "cell_type": "code",
   "execution_count": 15,
   "id": "b1f331e7",
   "metadata": {},
   "outputs": [
    {
     "data": {
      "text/plain": [
       "172"
      ]
     },
     "execution_count": 15,
     "metadata": {},
     "output_type": "execute_result"
    }
   ],
   "source": [
    "df['Newspaper'].nunique()"
   ]
  },
  {
   "cell_type": "markdown",
   "id": "6ebd2d7c",
   "metadata": {},
   "source": [
    "## Null Values"
   ]
  },
  {
   "cell_type": "code",
   "execution_count": 16,
   "id": "6f8350e1",
   "metadata": {},
   "outputs": [
    {
     "data": {
      "text/plain": [
       "Sl           0\n",
       "TV           0\n",
       "Radio        0\n",
       "Newspaper    0\n",
       "Sales        0\n",
       "dtype: int64"
      ]
     },
     "execution_count": 16,
     "metadata": {},
     "output_type": "execute_result"
    }
   ],
   "source": [
    "df.isnull().sum()"
   ]
  },
  {
   "cell_type": "code",
   "execution_count": 17,
   "id": "c53eb3d3",
   "metadata": {},
   "outputs": [
    {
     "data": {
      "text/plain": [
       "<AxesSubplot:>"
      ]
     },
     "execution_count": 17,
     "metadata": {},
     "output_type": "execute_result"
    },
    {
     "data": {
      "image/png": "[encoded data removed]",
      "text/plain": [
       "<Figure size 432x288 with 2 Axes>"
      ]
     },
     "metadata": {
      "needs_background": "light"
     },
     "output_type": "display_data"
    }
   ],
   "source": [
    "sns.heatmap(df.isnull())"
   ]
  },
  {
   "cell_type": "code",
   "execution_count": 18,
   "id": "7096ef12",
   "metadata": {},
   "outputs": [],
   "source": [
    "# droping serial number columns.\n",
    "df.drop(['Sl'],axis=1,inplace=True)"
   ]
  },
  {
   "cell_type": "markdown",
   "id": "343af2cb",
   "metadata": {},
   "source": [
    "# EDA(Exploratory Data Analysis)"
   ]
  },
  {
   "cell_type": "markdown",
   "id": "08bd374c",
   "metadata": {},
   "source": [
    "### Univariate Analysis"
   ]
  },
  {
   "cell_type": "code",
   "execution_count": 19,
   "id": "2b2e0fa8",
   "metadata": {},
   "outputs": [
    {
     "name": "stdout",
     "output_type": "stream",
     "text": [
      "Minimum Price 0.7 Maximum Price 296.4\n"
     ]
    },
    {
     "data": {
      "image/png": "[encoded data removed]",
      "text/plain": [
       "<Figure size 432x360 with 1 Axes>"
      ]
     },
     "metadata": {
      "needs_background": "light"
     },
     "output_type": "display_data"
    }
   ],
   "source": [
    "plt.figure(figsize=(6,5))\n",
    "sns.histplot(x='TV',data=df)\n",
    "print(\"Minimum Price\",df['TV'].min(),\"Maximum Price\",df['TV'].max())"
   ]
  },
  {
   "cell_type": "markdown",
   "id": "9400e9c0",
   "metadata": {},
   "source": [
    "Maximum Money Paid for advertising In Television is between 200 to 230,followed by Price range 0 to 30, 60 to 100."
   ]
  },
  {
   "cell_type": "code",
   "execution_count": 20,
   "id": "160831f4",
   "metadata": {},
   "outputs": [
    {
     "name": "stdout",
     "output_type": "stream",
     "text": [
      "Minimum Price 0.0 Maximum Price 49.6\n"
     ]
    },
    {
     "data": {
      "image/png": "[encoded data removed]",
      "text/plain": [
       "<Figure size 432x360 with 1 Axes>"
      ]
     },
     "metadata": {
      "needs_background": "light"
     },
     "output_type": "display_data"
    }
   ],
   "source": [
    "plt.figure(figsize=(6,5))\n",
    "sns.histplot(x='Radio',data=df)\n",
    "print(\"Minimum Price\",df['Radio'].min(),\"Maximum Price\",df['Radio'].max())"
   ]
  },
  {
   "cell_type": "markdown",
   "id": "0e19a6de",
   "metadata": {},
   "source": [
    "Maximum Money for Radio Advertisement is paid between 0 to 5, followed by a range of 39 to 44.\n",
    "\n",
    "All range money paid is between 0 to 49.6, All advertisement count is used is more than 15."
   ]
  },
  {
   "cell_type": "code",
   "execution_count": 21,
   "id": "cd4415fe",
   "metadata": {},
   "outputs": [
    {
     "name": "stdout",
     "output_type": "stream",
     "text": [
      "News Paper Maximum Sales 0.3 News Paper Minimum Sales 0.3\n"
     ]
    },
    {
     "data": {
      "image/png": "[encoded data removed]",
      "text/plain": [
       "<Figure size 432x360 with 1 Axes>"
      ]
     },
     "metadata": {
      "needs_background": "light"
     },
     "output_type": "display_data"
    }
   ],
   "source": [
    "plt.figure(figsize=(6,5))\n",
    "sns.histplot(x='Newspaper',data=df)\n",
    "plt.title('Maximum and Minimum Money Paid for NewsPaper Advertisement')\n",
    "print(\"News Paper Maximum Sales\",df['Newspaper'].min(),\"News Paper Minimum Sales\",df['Newspaper'].min())"
   ]
  },
  {
   "cell_type": "markdown",
   "id": "ade2f2e7",
   "metadata": {},
   "source": [
    "Maximum Money Paid for Newspaper add is between 0 to 10, followed 10 to 42... lower people opted by news paper adds.  "
   ]
  },
  {
   "cell_type": "code",
   "execution_count": 22,
   "id": "d5bcd36b",
   "metadata": {
    "scrolled": true
   },
   "outputs": [
    {
     "name": "stdout",
     "output_type": "stream",
     "text": [
      "Maximum Sales 27.0\n"
     ]
    },
    {
     "data": {
      "image/png": "[encoded data removed]",
      "text/plain": [
       "<Figure size 432x360 with 1 Axes>"
      ]
     },
     "metadata": {
      "needs_background": "light"
     },
     "output_type": "display_data"
    }
   ],
   "source": [
    "plt.figure(figsize=(6,5))\n",
    "sns.histplot(x='Sales',data=df)\n",
    "print(\"Maximum Sales\",df['Sales'].max())"
   ]
  },
  {
   "cell_type": "markdown",
   "id": "2641c786",
   "metadata": {},
   "source": [
    "Maximum Sales Counts are noted between 8 to 13"
   ]
  },
  {
   "cell_type": "markdown",
   "id": "97c5162d",
   "metadata": {},
   "source": [
    "# Bivariate"
   ]
  },
  {
   "cell_type": "code",
   "execution_count": 23,
   "id": "0516d832",
   "metadata": {},
   "outputs": [
    {
     "data": {
      "text/plain": [
       "<seaborn.axisgrid.FacetGrid at 0x254ddaf41c0>"
      ]
     },
     "execution_count": 23,
     "metadata": {},
     "output_type": "execute_result"
    },
    {
     "data": {
      "image/png": "[encoded data removed]",
      "text/plain": [
       "<Figure size 360x360 with 1 Axes>"
      ]
     },
     "metadata": {
      "needs_background": "light"
     },
     "output_type": "display_data"
    }
   ],
   "source": [
    "sns.lmplot(x='TV',y='Sales',data=df)"
   ]
  },
  {
   "cell_type": "markdown",
   "id": "e0e046be",
   "metadata": {},
   "source": [
    "TV Advertisement have a very positive correlation with sales, their is a few deviation in sales from ads above 150."
   ]
  },
  {
   "cell_type": "code",
   "execution_count": 24,
   "id": "d18ac94f",
   "metadata": {},
   "outputs": [
    {
     "data": {
      "text/plain": [
       "<seaborn.axisgrid.FacetGrid at 0x254ddab91c0>"
      ]
     },
     "execution_count": 24,
     "metadata": {},
     "output_type": "execute_result"
    },
    {
     "data": {
      "image/png": "[encoded data removed]",
      "text/plain": [
       "<Figure size 360x360 with 1 Axes>"
      ]
     },
     "metadata": {
      "needs_background": "light"
     },
     "output_type": "display_data"
    }
   ],
   "source": [
    "sns.lmplot(x='Radio',y='Sales',data=df)"
   ]
  },
  {
   "cell_type": "markdown",
   "id": "85af639b",
   "metadata": {},
   "source": [
    "Radio advertisement show posite sales till 25 but graph shows some negative deviation between 40 to 50"
   ]
  },
  {
   "cell_type": "code",
   "execution_count": 25,
   "id": "06fe31a0",
   "metadata": {},
   "outputs": [
    {
     "data": {
      "text/plain": [
       "<seaborn.axisgrid.FacetGrid at 0x254dda239a0>"
      ]
     },
     "execution_count": 25,
     "metadata": {},
     "output_type": "execute_result"
    },
    {
     "data": {
      "image/png": "[encoded data removed]",
      "text/plain": [
       "<Figure size 360x360 with 1 Axes>"
      ]
     },
     "metadata": {
      "needs_background": "light"
     },
     "output_type": "display_data"
    }
   ],
   "source": [
    "sns.lmplot(x='Newspaper',y='Sales',data=df)"
   ]
  },
  {
   "cell_type": "markdown",
   "id": "0baa8ae9",
   "metadata": {},
   "source": [
    "Maximum Sale with Newspaper between 0 to 40, sales are quite high and low...but its shows a positive relation"
   ]
  },
  {
   "cell_type": "markdown",
   "id": "c5a56425",
   "metadata": {},
   "source": [
    "# Multivariate Analysis"
   ]
  },
  {
   "cell_type": "code",
   "execution_count": 26,
   "id": "f132e31f",
   "metadata": {},
   "outputs": [
    {
     "data": {
      "text/plain": [
       "<seaborn.axisgrid.JointGrid at 0x254dda53070>"
      ]
     },
     "execution_count": 26,
     "metadata": {},
     "output_type": "execute_result"
    },
    {
     "data": {
      "image/png": "[encoded data removed]",
      "text/plain": [
       "<Figure size 432x432 with 3 Axes>"
      ]
     },
     "metadata": {
      "needs_background": "light"
     },
     "output_type": "display_data"
    }
   ],
   "source": [
    "sns.jointplot(y='Newspaper',x='TV',data=df,kind='reg')"
   ]
  },
  {
   "cell_type": "markdown",
   "id": "ce1a203f",
   "metadata": {},
   "source": [
    "Newspaper ads are high between 0 to 40 Ads, where as TV ads have high impact its shows high 200 to 250"
   ]
  },
  {
   "cell_type": "code",
   "execution_count": 27,
   "id": "b9be304b",
   "metadata": {},
   "outputs": [
    {
     "data": {
      "text/plain": [
       "<seaborn.axisgrid.JointGrid at 0x254deceee80>"
      ]
     },
     "execution_count": 27,
     "metadata": {},
     "output_type": "execute_result"
    },
    {
     "data": {
      "image/png": "[encoded data removed]",
      "text/plain": [
       "<Figure size 432x432 with 3 Axes>"
      ]
     },
     "metadata": {
      "needs_background": "light"
     },
     "output_type": "display_data"
    }
   ],
   "source": [
    "sns.jointplot(x='TV',y='Radio',data=df,kind='reg')"
   ]
  },
  {
   "cell_type": "markdown",
   "id": "af073649",
   "metadata": {},
   "source": [
    "Tv ads are quite more prefered by then radio"
   ]
  },
  {
   "cell_type": "code",
   "execution_count": 28,
   "id": "f2725bfe",
   "metadata": {},
   "outputs": [
    {
     "data": {
      "text/plain": [
       "<seaborn.axisgrid.JointGrid at 0x254df2e3790>"
      ]
     },
     "execution_count": 28,
     "metadata": {},
     "output_type": "execute_result"
    },
    {
     "data": {
      "image/png": "[encoded data removed]",
      "text/plain": [
       "<Figure size 432x432 with 3 Axes>"
      ]
     },
     "metadata": {
      "needs_background": "light"
     },
     "output_type": "display_data"
    }
   ],
   "source": [
    "sns.jointplot(x='Radio',y='Newspaper',data=df,kind='reg')"
   ]
  },
  {
   "cell_type": "markdown",
   "id": "cbf07265",
   "metadata": {},
   "source": [
    "Radio ads are more prefered then Newspaper"
   ]
  },
  {
   "cell_type": "markdown",
   "id": "cf3da476",
   "metadata": {},
   "source": [
    "# Perarson Plot(Pair plot)"
   ]
  },
  {
   "cell_type": "code",
   "execution_count": 29,
   "id": "f1c70ea2",
   "metadata": {},
   "outputs": [
    {
     "data": {
      "text/plain": [
       "<seaborn.axisgrid.PairGrid at 0x254df42e220>"
      ]
     },
     "execution_count": 29,
     "metadata": {},
     "output_type": "execute_result"
    },
    {
     "data": {
      "image/png": "[encoded data removed]",
      "text/plain": [
       "<Figure size 720x720 with 20 Axes>"
      ]
     },
     "metadata": {
      "needs_background": "light"
     },
     "output_type": "display_data"
    }
   ],
   "source": [
    "sns.pairplot(data=df)"
   ]
  },
  {
   "cell_type": "markdown",
   "id": "c8ba87aa",
   "metadata": {},
   "source": [
    "# Description Statistics"
   ]
  },
  {
   "cell_type": "code",
   "execution_count": 30,
   "id": "adfa3d51",
   "metadata": {},
   "outputs": [
    {
     "data": {
      "text/html": [
       "<div>\n",
       "<style scoped>\n",
       "    .dataframe tbody tr th:only-of-type {\n",
       "        vertical-align: middle;\n",
       "    }\n",
       "\n",
       "    .dataframe tbody tr th {\n",
       "        vertical-align: top;\n",
       "    }\n",
       "\n",
       "    .dataframe thead th {\n",
       "        text-align: right;\n",
       "    }\n",
       "</style>\n",
       "<table border=\"1\" class=\"dataframe\">\n",
       "  <thead>\n",
       "    <tr style=\"text-align: right;\">\n",
       "      <th></th>\n",
       "      <th>TV</th>\n",
       "      <th>Radio</th>\n",
       "      <th>Newspaper</th>\n",
       "      <th>Sales</th>\n",
       "    </tr>\n",
       "  </thead>\n",
       "  <tbody>\n",
       "    <tr>\n",
       "      <th>count</th>\n",
       "      <td>200.000000</td>\n",
       "      <td>200.000000</td>\n",
       "      <td>200.000000</td>\n",
       "      <td>200.000000</td>\n",
       "    </tr>\n",
       "    <tr>\n",
       "      <th>mean</th>\n",
       "      <td>147.042500</td>\n",
       "      <td>23.264000</td>\n",
       "      <td>30.554000</td>\n",
       "      <td>14.022500</td>\n",
       "    </tr>\n",
       "    <tr>\n",
       "      <th>std</th>\n",
       "      <td>85.854236</td>\n",
       "      <td>14.846809</td>\n",
       "      <td>21.778621</td>\n",
       "      <td>5.217457</td>\n",
       "    </tr>\n",
       "    <tr>\n",
       "      <th>min</th>\n",
       "      <td>0.700000</td>\n",
       "      <td>0.000000</td>\n",
       "      <td>0.300000</td>\n",
       "      <td>1.600000</td>\n",
       "    </tr>\n",
       "    <tr>\n",
       "      <th>25%</th>\n",
       "      <td>74.375000</td>\n",
       "      <td>9.975000</td>\n",
       "      <td>12.750000</td>\n",
       "      <td>10.375000</td>\n",
       "    </tr>\n",
       "    <tr>\n",
       "      <th>50%</th>\n",
       "      <td>149.750000</td>\n",
       "      <td>22.900000</td>\n",
       "      <td>25.750000</td>\n",
       "      <td>12.900000</td>\n",
       "    </tr>\n",
       "    <tr>\n",
       "      <th>75%</th>\n",
       "      <td>218.825000</td>\n",
       "      <td>36.525000</td>\n",
       "      <td>45.100000</td>\n",
       "      <td>17.400000</td>\n",
       "    </tr>\n",
       "    <tr>\n",
       "      <th>max</th>\n",
       "      <td>296.400000</td>\n",
       "      <td>49.600000</td>\n",
       "      <td>114.000000</td>\n",
       "      <td>27.000000</td>\n",
       "    </tr>\n",
       "  </tbody>\n",
       "</table>\n",
       "</div>"
      ],
      "text/plain": [
       "               TV       Radio   Newspaper       Sales\n",
       "count  200.000000  200.000000  200.000000  200.000000\n",
       "mean   147.042500   23.264000   30.554000   14.022500\n",
       "std     85.854236   14.846809   21.778621    5.217457\n",
       "min      0.700000    0.000000    0.300000    1.600000\n",
       "25%     74.375000    9.975000   12.750000   10.375000\n",
       "50%    149.750000   22.900000   25.750000   12.900000\n",
       "75%    218.825000   36.525000   45.100000   17.400000\n",
       "max    296.400000   49.600000  114.000000   27.000000"
      ]
     },
     "execution_count": 30,
     "metadata": {},
     "output_type": "execute_result"
    }
   ],
   "source": [
    "df.describe()"
   ]
  },
  {
   "cell_type": "code",
   "execution_count": 31,
   "id": "90072a0a",
   "metadata": {},
   "outputs": [
    {
     "data": {
      "text/plain": [
       "Text(0.5, 1.0, 'Description')"
      ]
     },
     "execution_count": 31,
     "metadata": {},
     "output_type": "execute_result"
    },
    {
     "data": {
      "image/png": "[encoded data removed]",
      "text/plain": [
       "<Figure size 1296x288 with 2 Axes>"
      ]
     },
     "metadata": {
      "needs_background": "light"
     },
     "output_type": "display_data"
    }
   ],
   "source": [
    "plt.figure(figsize=(18,4))\n",
    "sns.heatmap(round(df.describe()[:].transpose(),2),square=False,annot=True,linewidth=0.02,linecolor='white',fmt='0.1f')\n",
    "plt.xlabel('Feature Size',fontsize=12)\n",
    "plt.ylabel('Feature Name',fontsize=12)\n",
    "plt.title('Description',fontsize=20)"
   ]
  },
  {
   "cell_type": "markdown",
   "id": "261776e4",
   "metadata": {},
   "source": [
    "### My observation on columns:\n",
    "0. Null values: NIL\n",
    "1. Right Skewed:  Radio,Newspaper\n",
    "2. Left Skewed:   TV\n",
    "3. Standard Deviation: TV,Newspaper \n",
    "4. Outliers: Newpaper,TV having maximum outlier"
   ]
  },
  {
   "cell_type": "markdown",
   "id": "9c9c5bc8",
   "metadata": {},
   "source": [
    "# Correlation"
   ]
  },
  {
   "cell_type": "code",
   "execution_count": 32,
   "id": "66ac50eb",
   "metadata": {},
   "outputs": [
    {
     "data": {
      "text/html": [
       "<div>\n",
       "<style scoped>\n",
       "    .dataframe tbody tr th:only-of-type {\n",
       "        vertical-align: middle;\n",
       "    }\n",
       "\n",
       "    .dataframe tbody tr th {\n",
       "        vertical-align: top;\n",
       "    }\n",
       "\n",
       "    .dataframe thead th {\n",
       "        text-align: right;\n",
       "    }\n",
       "</style>\n",
       "<table border=\"1\" class=\"dataframe\">\n",
       "  <thead>\n",
       "    <tr style=\"text-align: right;\">\n",
       "      <th></th>\n",
       "      <th>TV</th>\n",
       "      <th>Radio</th>\n",
       "      <th>Newspaper</th>\n",
       "      <th>Sales</th>\n",
       "    </tr>\n",
       "  </thead>\n",
       "  <tbody>\n",
       "    <tr>\n",
       "      <th>TV</th>\n",
       "      <td>1.000000</td>\n",
       "      <td>0.054809</td>\n",
       "      <td>0.056648</td>\n",
       "      <td>0.782224</td>\n",
       "    </tr>\n",
       "    <tr>\n",
       "      <th>Radio</th>\n",
       "      <td>0.054809</td>\n",
       "      <td>1.000000</td>\n",
       "      <td>0.354104</td>\n",
       "      <td>0.576223</td>\n",
       "    </tr>\n",
       "    <tr>\n",
       "      <th>Newspaper</th>\n",
       "      <td>0.056648</td>\n",
       "      <td>0.354104</td>\n",
       "      <td>1.000000</td>\n",
       "      <td>0.228299</td>\n",
       "    </tr>\n",
       "    <tr>\n",
       "      <th>Sales</th>\n",
       "      <td>0.782224</td>\n",
       "      <td>0.576223</td>\n",
       "      <td>0.228299</td>\n",
       "      <td>1.000000</td>\n",
       "    </tr>\n",
       "  </tbody>\n",
       "</table>\n",
       "</div>"
      ],
      "text/plain": [
       "                 TV     Radio  Newspaper     Sales\n",
       "TV         1.000000  0.054809   0.056648  0.782224\n",
       "Radio      0.054809  1.000000   0.354104  0.576223\n",
       "Newspaper  0.056648  0.354104   1.000000  0.228299\n",
       "Sales      0.782224  0.576223   0.228299  1.000000"
      ]
     },
     "execution_count": 32,
     "metadata": {},
     "output_type": "execute_result"
    }
   ],
   "source": [
    "df.corr()"
   ]
  },
  {
   "cell_type": "code",
   "execution_count": 33,
   "id": "3702ebb6",
   "metadata": {},
   "outputs": [
    {
     "data": {
      "text/plain": [
       "Newspaper    0.228299\n",
       "Radio        0.576223\n",
       "TV           0.782224\n",
       "Sales        1.000000\n",
       "Name: Sales, dtype: float64"
      ]
     },
     "execution_count": 33,
     "metadata": {},
     "output_type": "execute_result"
    }
   ],
   "source": [
    "df.corr().Sales.sort_values()"
   ]
  },
  {
   "cell_type": "code",
   "execution_count": 34,
   "id": "68d3057f",
   "metadata": {},
   "outputs": [
    {
     "data": {
      "text/plain": [
       "<AxesSubplot:>"
      ]
     },
     "execution_count": 34,
     "metadata": {},
     "output_type": "execute_result"
    },
    {
     "data": {
      "image/png": "[encoded data removed]",
      "text/plain": [
       "<Figure size 720x360 with 2 Axes>"
      ]
     },
     "metadata": {
      "needs_background": "light"
     },
     "output_type": "display_data"
    }
   ],
   "source": [
    "plt.figure(figsize=(10,5))\n",
    "sns.heatmap(df.corr(),annot=True,linewidth=0.02,linecolor='white',fmt='0.2f',cmap='Blues')"
   ]
  },
  {
   "cell_type": "markdown",
   "id": "79dcc2be",
   "metadata": {},
   "source": [
    "### Observation:\n",
    "    \n",
    "1. TV is 78 percentage postively correlated  with Sales\n",
    "2. Radio is 58 percentage positively correlated with Sales\n",
    "3. Newspaper is 23 Percentage positively correlated with Sales\n",
    "\n",
    "Maximum correlation:-TV\n",
    "Lowest Correlation:- Newspaper"
   ]
  },
  {
   "cell_type": "code",
   "execution_count": 35,
   "id": "8900544e",
   "metadata": {},
   "outputs": [
    {
     "data": {
      "text/plain": [
       "Text(0.5, 1.0, 'CORRELATION')"
      ]
     },
     "execution_count": 35,
     "metadata": {},
     "output_type": "execute_result"
    },
    {
     "data": {
      "image/png": "[encoded data removed]",
      "text/plain": [
       "<Figure size 720x360 with 1 Axes>"
      ]
     },
     "metadata": {
      "needs_background": "light"
     },
     "output_type": "display_data"
    }
   ],
   "source": [
    "plt.figure(figsize=(10,5))\n",
    "df.corr()['Sales'].sort_values(ascending=False).drop(['Sales']).plot(kind='bar',color='g')\n",
    "plt.xlabel('Features_graph',fontsize=14)\n",
    "plt.ylabel('Feature_Name',fontsize=14)\n",
    "plt.title('CORRELATION',fontsize=20)"
   ]
  },
  {
   "cell_type": "markdown",
   "id": "734bcdde",
   "metadata": {},
   "source": [
    "# Outliers"
   ]
  },
  {
   "cell_type": "code",
   "execution_count": 36,
   "id": "54b2843f",
   "metadata": {},
   "outputs": [
    {
     "data": {
      "text/plain": [
       "<AxesSubplot:>"
      ]
     },
     "execution_count": 36,
     "metadata": {},
     "output_type": "execute_result"
    },
    {
     "data": {
      "image/png": "[encoded data removed]",
      "text/plain": [
       "<Figure size 432x288 with 1 Axes>"
      ]
     },
     "metadata": {
      "needs_background": "light"
     },
     "output_type": "display_data"
    }
   ],
   "source": [
    "df['TV'].plot.box()"
   ]
  },
  {
   "cell_type": "markdown",
   "id": "18bd9554",
   "metadata": {},
   "source": [
    "TV column show No outliers"
   ]
  },
  {
   "cell_type": "code",
   "execution_count": 37,
   "id": "e976991a",
   "metadata": {},
   "outputs": [
    {
     "data": {
      "text/plain": [
       "<AxesSubplot:xlabel='Radio'>"
      ]
     },
     "execution_count": 37,
     "metadata": {},
     "output_type": "execute_result"
    },
    {
     "data": {
      "image/png": "[encoded data removed]",
      "text/plain": [
       "<Figure size 432x288 with 1 Axes>"
      ]
     },
     "metadata": {
      "needs_background": "light"
     },
     "output_type": "display_data"
    }
   ],
   "source": [
    "sns.boxplot(x='Radio',data=df)"
   ]
  },
  {
   "cell_type": "markdown",
   "id": "81769327",
   "metadata": {},
   "source": [
    "Radio Column Shows No Outliers"
   ]
  },
  {
   "cell_type": "code",
   "execution_count": 38,
   "id": "13722128",
   "metadata": {},
   "outputs": [
    {
     "data": {
      "text/plain": [
       "<AxesSubplot:xlabel='Newspaper'>"
      ]
     },
     "execution_count": 38,
     "metadata": {},
     "output_type": "execute_result"
    },
    {
     "data": {
      "image/png": "[encoded data removed]",
      "text/plain": [
       "<Figure size 432x288 with 1 Axes>"
      ]
     },
     "metadata": {
      "needs_background": "light"
     },
     "output_type": "display_data"
    }
   ],
   "source": [
    "sns.boxplot(x='Newspaper',data=df)"
   ]
  },
  {
   "cell_type": "markdown",
   "id": "f1c7ff5a",
   "metadata": {},
   "source": [
    "From all the following data we find outliers are present in Newspaper column"
   ]
  },
  {
   "cell_type": "code",
   "execution_count": 39,
   "id": "975535aa",
   "metadata": {},
   "outputs": [
    {
     "data": {
      "text/plain": [
       "<AxesSubplot:xlabel='Sales'>"
      ]
     },
     "execution_count": 39,
     "metadata": {},
     "output_type": "execute_result"
    },
    {
     "data": {
      "image/png": "[encoded data removed]",
      "text/plain": [
       "<Figure size 432x288 with 1 Axes>"
      ]
     },
     "metadata": {
      "needs_background": "light"
     },
     "output_type": "display_data"
    }
   ],
   "source": [
    "sns.boxplot(data=df,x='Sales')"
   ]
  },
  {
   "cell_type": "markdown",
   "id": "b4304d66",
   "metadata": {},
   "source": [
    "Sales column showes No outliers"
   ]
  },
  {
   "cell_type": "markdown",
   "id": "7ba2ee74",
   "metadata": {},
   "source": [
    "# Skewness"
   ]
  },
  {
   "cell_type": "code",
   "execution_count": 40,
   "id": "7b29d97e",
   "metadata": {},
   "outputs": [
    {
     "data": {
      "text/plain": [
       "TV          -0.069853\n",
       "Radio        0.094175\n",
       "Newspaper    0.894720\n",
       "Sales        0.407571\n",
       "dtype: float64"
      ]
     },
     "execution_count": 40,
     "metadata": {},
     "output_type": "execute_result"
    }
   ],
   "source": [
    "df.skew()"
   ]
  },
  {
   "cell_type": "markdown",
   "id": "cb1c25d0",
   "metadata": {},
   "source": [
    "Outcome shows: Skewness Threshold is taken is(+/-65).\n",
    "`Column showing skewness are..\n",
    "- Newspaper"
   ]
  },
  {
   "cell_type": "code",
   "execution_count": 41,
   "id": "84c5bcab",
   "metadata": {},
   "outputs": [
    {
     "data": {
      "text/plain": [
       "<AxesSubplot:xlabel='Newspaper', ylabel='Density'>"
      ]
     },
     "execution_count": 41,
     "metadata": {},
     "output_type": "execute_result"
    },
    {
     "data": {
      "image/png": "[encoded data removed]",
      "text/plain": [
       "<Figure size 432x288 with 1 Axes>"
      ]
     },
     "metadata": {
      "needs_background": "light"
     },
     "output_type": "display_data"
    }
   ],
   "source": [
    "sns.distplot(df['Newspaper'])"
   ]
  },
  {
   "cell_type": "markdown",
   "id": "2a49b737",
   "metadata": {},
   "source": [
    "The data is the given graph shows is not Normalised.The building blocks are beyond the normal curve."
   ]
  },
  {
   "cell_type": "markdown",
   "id": "b74617bd",
   "metadata": {},
   "source": [
    "## Lets Check with Other Graphs As well"
   ]
  },
  {
   "cell_type": "code",
   "execution_count": 42,
   "id": "b8d8b689",
   "metadata": {},
   "outputs": [
    {
     "data": {
      "text/plain": [
       "<AxesSubplot:xlabel='Radio', ylabel='Density'>"
      ]
     },
     "execution_count": 42,
     "metadata": {},
     "output_type": "execute_result"
    },
    {
     "data": {
      "image/png": "[encoded data removed]",
      "text/plain": [
       "<Figure size 432x288 with 1 Axes>"
      ]
     },
     "metadata": {
      "needs_background": "light"
     },
     "output_type": "display_data"
    }
   ],
   "source": [
    "sns.distplot(df['Radio'])"
   ]
  },
  {
   "cell_type": "markdown",
   "id": "6e1c7571",
   "metadata": {},
   "source": [
    "The data column are not normalised. The building blocks are beyond the normal Curve. Bimodel Graph(Having two Modes)"
   ]
  },
  {
   "cell_type": "code",
   "execution_count": 43,
   "id": "2762dc28",
   "metadata": {},
   "outputs": [
    {
     "data": {
      "text/plain": [
       "<AxesSubplot:xlabel='TV', ylabel='Density'>"
      ]
     },
     "execution_count": 43,
     "metadata": {},
     "output_type": "execute_result"
    },
    {
     "data": {
      "image/png": "[encoded data removed]",
      "text/plain": [
       "<Figure size 432x288 with 1 Axes>"
      ]
     },
     "metadata": {
      "needs_background": "light"
     },
     "output_type": "display_data"
    }
   ],
   "source": [
    "sns.distplot(df['TV'])"
   ]
  },
  {
   "cell_type": "markdown",
   "id": "f2405b77",
   "metadata": {},
   "source": [
    "The data column are not normalised. The building blocks are beyond the normal Curve. Bidomial Graph(Having two modes)"
   ]
  },
  {
   "cell_type": "code",
   "execution_count": 44,
   "id": "e47f88e8",
   "metadata": {},
   "outputs": [
    {
     "data": {
      "text/plain": [
       "<AxesSubplot:xlabel='Sales', ylabel='Density'>"
      ]
     },
     "execution_count": 44,
     "metadata": {},
     "output_type": "execute_result"
    },
    {
     "data": {
      "image/png": "[encoded data removed]",
      "text/plain": [
       "<Figure size 432x288 with 1 Axes>"
      ]
     },
     "metadata": {
      "needs_background": "light"
     },
     "output_type": "display_data"
    }
   ],
   "source": [
    "sns.distplot(df['Sales'])"
   ]
  },
  {
   "cell_type": "markdown",
   "id": "1e8db93e",
   "metadata": {},
   "source": [
    "The data column are not normalised. The building blocks are beyond the normal Curve"
   ]
  },
  {
   "cell_type": "markdown",
   "id": "9c126a00",
   "metadata": {},
   "source": [
    "# Data Cleansing"
   ]
  },
  {
   "cell_type": "code",
   "execution_count": 45,
   "id": "feba9228",
   "metadata": {},
   "outputs": [
    {
     "data": {
      "text/plain": [
       "Newspaper    0.228299\n",
       "Radio        0.576223\n",
       "TV           0.782224\n",
       "Sales        1.000000\n",
       "Name: Sales, dtype: float64"
      ]
     },
     "execution_count": 45,
     "metadata": {},
     "output_type": "execute_result"
    }
   ],
   "source": [
    "#checking correlation\n",
    "df.corr()['Sales'].sort_values()"
   ]
  },
  {
   "cell_type": "markdown",
   "id": "e6eef2ab",
   "metadata": {},
   "source": [
    "### Delete Outliers"
   ]
  },
  {
   "cell_type": "code",
   "execution_count": 46,
   "id": "e5cde22b",
   "metadata": {},
   "outputs": [],
   "source": [
    "from scipy.stats import zscore"
   ]
  },
  {
   "cell_type": "code",
   "execution_count": 47,
   "id": "77deda90",
   "metadata": {},
   "outputs": [],
   "source": [
    "z=np.abs(zscore(df))"
   ]
  },
  {
   "cell_type": "code",
   "execution_count": 48,
   "id": "9946f2a0",
   "metadata": {},
   "outputs": [
    {
     "data": {
      "text/html": [
       "<div>\n",
       "<style scoped>\n",
       "    .dataframe tbody tr th:only-of-type {\n",
       "        vertical-align: middle;\n",
       "    }\n",
       "\n",
       "    .dataframe tbody tr th {\n",
       "        vertical-align: top;\n",
       "    }\n",
       "\n",
       "    .dataframe thead th {\n",
       "        text-align: right;\n",
       "    }\n",
       "</style>\n",
       "<table border=\"1\" class=\"dataframe\">\n",
       "  <thead>\n",
       "    <tr style=\"text-align: right;\">\n",
       "      <th></th>\n",
       "      <th>TV</th>\n",
       "      <th>Radio</th>\n",
       "      <th>Newspaper</th>\n",
       "      <th>Sales</th>\n",
       "    </tr>\n",
       "  </thead>\n",
       "  <tbody>\n",
       "    <tr>\n",
       "      <th>0</th>\n",
       "      <td>0.969852</td>\n",
       "      <td>0.981522</td>\n",
       "      <td>1.778945</td>\n",
       "      <td>1.552053</td>\n",
       "    </tr>\n",
       "    <tr>\n",
       "      <th>1</th>\n",
       "      <td>1.197376</td>\n",
       "      <td>1.082808</td>\n",
       "      <td>0.669579</td>\n",
       "      <td>0.696046</td>\n",
       "    </tr>\n",
       "    <tr>\n",
       "      <th>2</th>\n",
       "      <td>1.516155</td>\n",
       "      <td>1.528463</td>\n",
       "      <td>1.783549</td>\n",
       "      <td>0.907406</td>\n",
       "    </tr>\n",
       "    <tr>\n",
       "      <th>3</th>\n",
       "      <td>0.052050</td>\n",
       "      <td>1.217855</td>\n",
       "      <td>1.286405</td>\n",
       "      <td>0.860330</td>\n",
       "    </tr>\n",
       "    <tr>\n",
       "      <th>4</th>\n",
       "      <td>0.394182</td>\n",
       "      <td>0.841614</td>\n",
       "      <td>1.281802</td>\n",
       "      <td>0.215683</td>\n",
       "    </tr>\n",
       "    <tr>\n",
       "      <th>...</th>\n",
       "      <td>...</td>\n",
       "      <td>...</td>\n",
       "      <td>...</td>\n",
       "      <td>...</td>\n",
       "    </tr>\n",
       "    <tr>\n",
       "      <th>195</th>\n",
       "      <td>1.270941</td>\n",
       "      <td>1.321031</td>\n",
       "      <td>0.771217</td>\n",
       "      <td>1.234053</td>\n",
       "    </tr>\n",
       "    <tr>\n",
       "      <th>196</th>\n",
       "      <td>0.617035</td>\n",
       "      <td>1.240003</td>\n",
       "      <td>1.033598</td>\n",
       "      <td>0.830548</td>\n",
       "    </tr>\n",
       "    <tr>\n",
       "      <th>197</th>\n",
       "      <td>0.349810</td>\n",
       "      <td>0.942899</td>\n",
       "      <td>1.111852</td>\n",
       "      <td>0.234898</td>\n",
       "    </tr>\n",
       "    <tr>\n",
       "      <th>198</th>\n",
       "      <td>1.594565</td>\n",
       "      <td>1.265121</td>\n",
       "      <td>1.640850</td>\n",
       "      <td>2.205347</td>\n",
       "    </tr>\n",
       "    <tr>\n",
       "      <th>199</th>\n",
       "      <td>0.993206</td>\n",
       "      <td>0.990165</td>\n",
       "      <td>1.005979</td>\n",
       "      <td>0.119610</td>\n",
       "    </tr>\n",
       "  </tbody>\n",
       "</table>\n",
       "<p>200 rows × 4 columns</p>\n",
       "</div>"
      ],
      "text/plain": [
       "           TV     Radio  Newspaper     Sales\n",
       "0    0.969852  0.981522   1.778945  1.552053\n",
       "1    1.197376  1.082808   0.669579  0.696046\n",
       "2    1.516155  1.528463   1.783549  0.907406\n",
       "3    0.052050  1.217855   1.286405  0.860330\n",
       "4    0.394182  0.841614   1.281802  0.215683\n",
       "..        ...       ...        ...       ...\n",
       "195  1.270941  1.321031   0.771217  1.234053\n",
       "196  0.617035  1.240003   1.033598  0.830548\n",
       "197  0.349810  0.942899   1.111852  0.234898\n",
       "198  1.594565  1.265121   1.640850  2.205347\n",
       "199  0.993206  0.990165   1.005979  0.119610\n",
       "\n",
       "[200 rows x 4 columns]"
      ]
     },
     "execution_count": 48,
     "metadata": {},
     "output_type": "execute_result"
    }
   ],
   "source": [
    "z"
   ]
  },
  {
   "cell_type": "code",
   "execution_count": 49,
   "id": "047d7e7e",
   "metadata": {},
   "outputs": [
    {
     "data": {
      "text/plain": [
       "(array([ 16, 101], dtype=int64), array([2, 2], dtype=int64))"
      ]
     },
     "execution_count": 49,
     "metadata": {},
     "output_type": "execute_result"
    }
   ],
   "source": [
    "threshold=3\n",
    "np.where(z>3)"
   ]
  },
  {
   "cell_type": "code",
   "execution_count": 50,
   "id": "a85d5413",
   "metadata": {},
   "outputs": [
    {
     "data": {
      "text/plain": [
       "3.8411707150992718"
      ]
     },
     "execution_count": 50,
     "metadata": {},
     "output_type": "execute_result"
    }
   ],
   "source": [
    "z.iloc[16,2]"
   ]
  },
  {
   "cell_type": "code",
   "execution_count": 51,
   "id": "9bde9840",
   "metadata": {},
   "outputs": [],
   "source": [
    "new_df=df[(z<3).all(axis=1)]"
   ]
  },
  {
   "cell_type": "markdown",
   "id": "f42f0752",
   "metadata": {},
   "source": [
    "## Data Frame Size count"
   ]
  },
  {
   "cell_type": "code",
   "execution_count": 52,
   "id": "acfde9aa",
   "metadata": {},
   "outputs": [
    {
     "name": "stdout",
     "output_type": "stream",
     "text": [
      "Old Data Frame (200, 4)\n",
      "New Data Frame (198, 4)\n"
     ]
    }
   ],
   "source": [
    "print(\"Old Data Frame\",df.shape)\n",
    "\n",
    "print(\"New Data Frame\",new_df.shape)"
   ]
  },
  {
   "cell_type": "markdown",
   "id": "5ecf6649",
   "metadata": {},
   "source": [
    "## Percentage of DATA LOSS:"
   ]
  },
  {
   "cell_type": "code",
   "execution_count": 53,
   "id": "054d73d9",
   "metadata": {},
   "outputs": [
    {
     "name": "stdout",
     "output_type": "stream",
     "text": [
      "Loss Percentage 1.0\n"
     ]
    }
   ],
   "source": [
    "print(\"Loss Percentage\",((df.shape[0]-new_df.shape[0])/df.shape[0])*100)"
   ]
  },
  {
   "cell_type": "code",
   "execution_count": 54,
   "id": "20c2f264",
   "metadata": {},
   "outputs": [
    {
     "data": {
      "text/html": [
       "<div>\n",
       "<style scoped>\n",
       "    .dataframe tbody tr th:only-of-type {\n",
       "        vertical-align: middle;\n",
       "    }\n",
       "\n",
       "    .dataframe tbody tr th {\n",
       "        vertical-align: top;\n",
       "    }\n",
       "\n",
       "    .dataframe thead th {\n",
       "        text-align: right;\n",
       "    }\n",
       "</style>\n",
       "<table border=\"1\" class=\"dataframe\">\n",
       "  <thead>\n",
       "    <tr style=\"text-align: right;\">\n",
       "      <th></th>\n",
       "      <th>TV</th>\n",
       "      <th>Radio</th>\n",
       "      <th>Newspaper</th>\n",
       "      <th>Sales</th>\n",
       "    </tr>\n",
       "  </thead>\n",
       "  <tbody>\n",
       "    <tr>\n",
       "      <th>0</th>\n",
       "      <td>230.1</td>\n",
       "      <td>37.8</td>\n",
       "      <td>69.2</td>\n",
       "      <td>22.1</td>\n",
       "    </tr>\n",
       "    <tr>\n",
       "      <th>1</th>\n",
       "      <td>44.5</td>\n",
       "      <td>39.3</td>\n",
       "      <td>45.1</td>\n",
       "      <td>10.4</td>\n",
       "    </tr>\n",
       "    <tr>\n",
       "      <th>2</th>\n",
       "      <td>17.2</td>\n",
       "      <td>45.9</td>\n",
       "      <td>69.3</td>\n",
       "      <td>9.3</td>\n",
       "    </tr>\n",
       "    <tr>\n",
       "      <th>3</th>\n",
       "      <td>151.5</td>\n",
       "      <td>41.3</td>\n",
       "      <td>58.5</td>\n",
       "      <td>18.5</td>\n",
       "    </tr>\n",
       "    <tr>\n",
       "      <th>4</th>\n",
       "      <td>180.8</td>\n",
       "      <td>10.8</td>\n",
       "      <td>58.4</td>\n",
       "      <td>12.9</td>\n",
       "    </tr>\n",
       "    <tr>\n",
       "      <th>...</th>\n",
       "      <td>...</td>\n",
       "      <td>...</td>\n",
       "      <td>...</td>\n",
       "      <td>...</td>\n",
       "    </tr>\n",
       "    <tr>\n",
       "      <th>195</th>\n",
       "      <td>38.2</td>\n",
       "      <td>3.7</td>\n",
       "      <td>13.8</td>\n",
       "      <td>7.6</td>\n",
       "    </tr>\n",
       "    <tr>\n",
       "      <th>196</th>\n",
       "      <td>94.2</td>\n",
       "      <td>4.9</td>\n",
       "      <td>8.1</td>\n",
       "      <td>9.7</td>\n",
       "    </tr>\n",
       "    <tr>\n",
       "      <th>197</th>\n",
       "      <td>177.0</td>\n",
       "      <td>9.3</td>\n",
       "      <td>6.4</td>\n",
       "      <td>12.8</td>\n",
       "    </tr>\n",
       "    <tr>\n",
       "      <th>198</th>\n",
       "      <td>283.6</td>\n",
       "      <td>42.0</td>\n",
       "      <td>66.2</td>\n",
       "      <td>25.5</td>\n",
       "    </tr>\n",
       "    <tr>\n",
       "      <th>199</th>\n",
       "      <td>232.1</td>\n",
       "      <td>8.6</td>\n",
       "      <td>8.7</td>\n",
       "      <td>13.4</td>\n",
       "    </tr>\n",
       "  </tbody>\n",
       "</table>\n",
       "<p>198 rows × 4 columns</p>\n",
       "</div>"
      ],
      "text/plain": [
       "        TV  Radio  Newspaper  Sales\n",
       "0    230.1   37.8       69.2   22.1\n",
       "1     44.5   39.3       45.1   10.4\n",
       "2     17.2   45.9       69.3    9.3\n",
       "3    151.5   41.3       58.5   18.5\n",
       "4    180.8   10.8       58.4   12.9\n",
       "..     ...    ...        ...    ...\n",
       "195   38.2    3.7       13.8    7.6\n",
       "196   94.2    4.9        8.1    9.7\n",
       "197  177.0    9.3        6.4   12.8\n",
       "198  283.6   42.0       66.2   25.5\n",
       "199  232.1    8.6        8.7   13.4\n",
       "\n",
       "[198 rows x 4 columns]"
      ]
     },
     "execution_count": 54,
     "metadata": {},
     "output_type": "execute_result"
    }
   ],
   "source": [
    "new_df"
   ]
  },
  {
   "cell_type": "code",
   "execution_count": 55,
   "id": "a1e792d0",
   "metadata": {},
   "outputs": [],
   "source": [
    "x=new_df.iloc[:,:-1] # X data\n",
    "y=new_df.iloc[:,-1] # Y data"
   ]
  },
  {
   "cell_type": "code",
   "execution_count": 56,
   "id": "1525bce6",
   "metadata": {},
   "outputs": [
    {
     "name": "stdout",
     "output_type": "stream",
     "text": [
      "X Shape (198, 3) Y Shape  (198,)\n"
     ]
    }
   ],
   "source": [
    "print(\"X Shape\",x.shape,\"Y Shape \",y.shape)"
   ]
  },
  {
   "cell_type": "markdown",
   "id": "0f6168a7",
   "metadata": {},
   "source": [
    "# Checking Mulicolinarity:"
   ]
  },
  {
   "cell_type": "code",
   "execution_count": 57,
   "id": "71fbf8c9",
   "metadata": {},
   "outputs": [],
   "source": [
    "from statsmodels.stats.outliers_influence import variance_inflation_factor\n",
    "\n",
    "def calc_vif(x):# here x is the x train data\n",
    "    vif=pd.DataFrame()\n",
    "    vif['Variable']=x.columns #x columns\n",
    "    vif['Vif Factors']=[variance_inflation_factor(x.values,i) for i in range(x.shape[1])] #data from x column\n",
    "    return vif\n",
    "    "
   ]
  },
  {
   "cell_type": "code",
   "execution_count": 58,
   "id": "3aff3f97",
   "metadata": {},
   "outputs": [
    {
     "data": {
      "text/html": [
       "<div>\n",
       "<style scoped>\n",
       "    .dataframe tbody tr th:only-of-type {\n",
       "        vertical-align: middle;\n",
       "    }\n",
       "\n",
       "    .dataframe tbody tr th {\n",
       "        vertical-align: top;\n",
       "    }\n",
       "\n",
       "    .dataframe thead th {\n",
       "        text-align: right;\n",
       "    }\n",
       "</style>\n",
       "<table border=\"1\" class=\"dataframe\">\n",
       "  <thead>\n",
       "    <tr style=\"text-align: right;\">\n",
       "      <th></th>\n",
       "      <th>Variable</th>\n",
       "      <th>Vif Factors</th>\n",
       "    </tr>\n",
       "  </thead>\n",
       "  <tbody>\n",
       "    <tr>\n",
       "      <th>0</th>\n",
       "      <td>TV</td>\n",
       "      <td>2.502183</td>\n",
       "    </tr>\n",
       "    <tr>\n",
       "      <th>1</th>\n",
       "      <td>Radio</td>\n",
       "      <td>3.275285</td>\n",
       "    </tr>\n",
       "    <tr>\n",
       "      <th>2</th>\n",
       "      <td>Newspaper</td>\n",
       "      <td>3.126386</td>\n",
       "    </tr>\n",
       "  </tbody>\n",
       "</table>\n",
       "</div>"
      ],
      "text/plain": [
       "    Variable  Vif Factors\n",
       "0         TV     2.502183\n",
       "1      Radio     3.275285\n",
       "2  Newspaper     3.126386"
      ]
     },
     "execution_count": 58,
     "metadata": {},
     "output_type": "execute_result"
    }
   ],
   "source": [
    "calc_vif(x)"
   ]
  },
  {
   "cell_type": "markdown",
   "id": "d8c9ef93",
   "metadata": {},
   "source": [
    "All the data are below 10, Hence feature engineering is not required. "
   ]
  },
  {
   "cell_type": "markdown",
   "id": "a65f114a",
   "metadata": {},
   "source": [
    "# Remove Skewness"
   ]
  },
  {
   "cell_type": "code",
   "execution_count": 59,
   "id": "673b0791",
   "metadata": {},
   "outputs": [],
   "source": [
    "from sklearn.preprocessing import power_transform\n",
    "\n",
    "x=power_transform(x,method='yeo-johnson')"
   ]
  },
  {
   "cell_type": "markdown",
   "id": "249db1e6",
   "metadata": {},
   "source": [
    "# Standardization"
   ]
  },
  {
   "cell_type": "code",
   "execution_count": 60,
   "id": "e3ef2215",
   "metadata": {},
   "outputs": [],
   "source": [
    "from sklearn.preprocessing import StandardScaler\n",
    "scaler=StandardScaler()\n",
    "\n",
    "x=scaler.fit_transform(x)"
   ]
  },
  {
   "cell_type": "code",
   "execution_count": 61,
   "id": "1fe1c3bb",
   "metadata": {},
   "outputs": [
    {
     "name": "stdout",
     "output_type": "stream",
     "text": [
      "Mean  0\n",
      "Standard Deviation  1\n"
     ]
    }
   ],
   "source": [
    "print(\"Mean \",round(x.mean()))\n",
    "print(\"Standard Deviation \",round(x.std()))"
   ]
  },
  {
   "cell_type": "markdown",
   "id": "b2d937c8",
   "metadata": {},
   "source": [
    "### Target variable for further process"
   ]
  },
  {
   "cell_type": "code",
   "execution_count": 62,
   "id": "d27919b9",
   "metadata": {},
   "outputs": [
    {
     "data": {
      "text/plain": [
       "array([22.1, 10.4,  9.3, 18.5, 12.9,  7.2, 11.8, 13.2,  4.8, 10.6,  8.6,\n",
       "       17.4,  9.2,  9.7, 19. , 22.4, 24.4, 11.3, 14.6, 18. , 12.5,  5.6,\n",
       "       15.5, 12. , 15. , 15.9, 18.9, 10.5, 21.4, 11.9,  9.6,  9.5, 12.8,\n",
       "       25.4, 14.7, 10.1, 21.5, 16.6, 17.1, 20.7,  8.5, 14.9, 23.2, 14.8,\n",
       "       11.4, 10.7, 22.6, 21.2, 20.2, 23.7,  5.5, 23.8, 18.4,  8.1, 24.2,\n",
       "       15.7, 14. , 13.4, 22.3, 18.3, 12.4,  8.8, 11. , 17. ,  8.7,  6.9,\n",
       "       14.2,  5.3, 12.3, 13.6, 21.7, 15.2, 16. , 16.7, 11.2,  7.3, 19.4,\n",
       "       22.2, 11.5, 16.9, 11.7, 17.2, 19.2, 19.8, 21.8, 14.1, 12.6, 12.2,\n",
       "        9.4,  6.6,  7. , 11.6, 19.7, 24.7,  1.6, 12.7,  5.7, 19.6, 10.8,\n",
       "       20.8, 10.9, 20.1, 10.3, 16.1, 15.6,  3.2, 15.3, 14.4, 13.3,  8. ,\n",
       "        8.4, 14.5,  7.6, 27. , 26.2, 17.6, 17.3,  6.7,  9.9,  5.9, 25.5])"
      ]
     },
     "execution_count": 62,
     "metadata": {},
     "output_type": "execute_result"
    }
   ],
   "source": [
    "y.unique()"
   ]
  },
  {
   "cell_type": "markdown",
   "id": "9d9e56ae",
   "metadata": {},
   "source": [
    "## As the target variable is in continious variable so we will follow the linear model"
   ]
  },
  {
   "cell_type": "code",
   "execution_count": 63,
   "id": "6d82edec",
   "metadata": {},
   "outputs": [],
   "source": [
    "from sklearn.linear_model import LinearRegression\n",
    "lr=LinearRegression()"
   ]
  },
  {
   "cell_type": "code",
   "execution_count": 64,
   "id": "77303d4e",
   "metadata": {},
   "outputs": [
    {
     "name": "stdout",
     "output_type": "stream",
     "text": [
      "At random State 11,The r2 train score 0.9014591991462395, r2 test score 0.8972492635077352\n",
      "At random State 14,The r2 train score 0.9018202902818369, r2 test score 0.9044740825894079\n",
      "At random State 16,The r2 train score 0.9042053414007357, r2 test score 0.9045623076959016\n",
      "At random State 41,The r2 train score 0.904239159702787, r2 test score 0.9025836894767865\n",
      "At random State 52,The r2 train score 0.9046174985298451, r2 test score 0.8967282650561448\n",
      "At random State 56,The r2 train score 0.9047313937219776, r2 test score 0.8956637717653418\n",
      "At random State 60,The r2 train score 0.9042772776529262, r2 test score 0.8972583648585333\n",
      "At random State 69,The r2 train score 0.9046557308912601, r2 test score 0.9029630525227291\n",
      "At random State 92,The r2 train score 0.9040653293009999, r2 test score 0.8978441563922774\n",
      "At random State 101,The r2 train score 0.9041427749605053, r2 test score 0.9023666783986454\n",
      "At random State 102,The r2 train score 0.9040849147012333, r2 test score 0.9029651097074514\n",
      "At random State 122,The r2 train score 0.9046679755177387, r2 test score 0.9046148336224064\n",
      "At random State 131,The r2 train score 0.9021761478223329, r2 test score 0.9015147774561667\n",
      "At random State 144,The r2 train score 0.9042317879681855, r2 test score 0.899241119864839\n",
      "At random State 158,The r2 train score 0.9048593151910431, r2 test score 0.9021181253244736\n",
      "At random State 168,The r2 train score 0.9031594511773366, r2 test score 0.8993440612267427\n",
      "At random State 185,The r2 train score 0.902413840059365, r2 test score 0.9047758806399494\n"
     ]
    }
   ],
   "source": [
    "for i in range(1,200):\n",
    "    x_train,x_test,y_train,y_test=train_test_split(x,y,random_state=i,test_size=0.3)\n",
    "    lr.fit(x_train,y_train)\n",
    "    \n",
    "    pred_train=lr.predict(x_train)\n",
    "    pred_test=lr.predict(x_test)\n",
    "    \n",
    "    if round(r2_score(y_train,pred_train),2)==round(r2_score(y_test,pred_test),2):\n",
    "        print(f\"At random State {i},The r2 train score {r2_score(y_train,pred_train)}, r2 test score {r2_score(y_test,pred_test)}\")"
   ]
  },
  {
   "cell_type": "code",
   "execution_count": 65,
   "id": "7ee82522",
   "metadata": {},
   "outputs": [],
   "source": [
    "from sklearn.metrics import mean_absolute_error\n",
    "from sklearn.metrics import mean_squared_error"
   ]
  },
  {
   "cell_type": "code",
   "execution_count": 66,
   "id": "0286da8d",
   "metadata": {},
   "outputs": [
    {
     "name": "stdout",
     "output_type": "stream",
     "text": [
      "Training R2 Score  90.42053414007357 Test R2 Score  90.45623076959016\n",
      "Mean Absolute Error  1.2 Mean Absolute Error  1.26\n",
      "Mean Squared Error  2.641342087356916 Mean Squared Test Error  2.381915632301329\n"
     ]
    }
   ],
   "source": [
    "x_train,x_test,y_train,y_test=train_test_split(x,y,random_state=16,test_size=0.3)\n",
    "lr.fit(x_train,y_train)#train\n",
    "\n",
    "#predict\n",
    "pred_train=lr.predict(x_train)\n",
    "pred_test=lr.predict(x_test)\n",
    "\n",
    "print(\"Training R2 Score \", r2_score(y_train,pred_train)*100,\"Test R2 Score \",r2_score(y_test,pred_test)*100)\n",
    "\n",
    "print(\"Mean Absolute Error \",round(mean_absolute_error(y_train,pred_train),2),\"Mean Absolute Error \",round(mean_absolute_error(y_test,pred_test),2))\n",
    "print(\"Mean Squared Error \",mean_squared_error(y_train,pred_train),\"Mean Squared Test Error \",mean_squared_error(y_test,pred_test))"
   ]
  },
  {
   "cell_type": "markdown",
   "id": "34a8c1a1",
   "metadata": {},
   "source": [
    "# Cross Validation"
   ]
  },
  {
   "cell_type": "code",
   "execution_count": 67,
   "id": "1b18b06e",
   "metadata": {},
   "outputs": [
    {
     "name": "stdout",
     "output_type": "stream",
     "text": [
      "At CrossFold  2 The CV_Score is  0.9017064197605746 Training accuracy score is  0.9042053414007357 Test accuracy 0.9045623076959016\n",
      "At CrossFold  3 The CV_Score is  0.8973645562112824 Training accuracy score is  0.9042053414007357 Test accuracy 0.9045623076959016\n",
      "At CrossFold  4 The CV_Score is  0.8986654359289576 Training accuracy score is  0.9042053414007357 Test accuracy 0.9045623076959016\n",
      "At CrossFold  5 The CV_Score is  0.895827096855507 Training accuracy score is  0.9042053414007357 Test accuracy 0.9045623076959016\n",
      "At CrossFold  6 The CV_Score is  0.8987009469201537 Training accuracy score is  0.9042053414007357 Test accuracy 0.9045623076959016\n",
      "At CrossFold  7 The CV_Score is  0.894944294999198 Training accuracy score is  0.9042053414007357 Test accuracy 0.9045623076959016\n",
      "At CrossFold  8 The CV_Score is  0.8980187277211998 Training accuracy score is  0.9042053414007357 Test accuracy 0.9045623076959016\n",
      "At CrossFold  9 The CV_Score is  0.8938982316418994 Training accuracy score is  0.9042053414007357 Test accuracy 0.9045623076959016\n"
     ]
    }
   ],
   "source": [
    "from sklearn.model_selection import cross_val_score\n",
    "\n",
    "r2_train=r2_score(y_train,pred_train)#pred train\n",
    "r2_test=r2_score(y_test,pred_test)#predict test\n",
    "\n",
    "for i in range(2,10):\n",
    "    cv_score=cross_val_score(lr,x,y,cv=i)\n",
    "    cv_mean=cv_score.mean()\n",
    "    \n",
    "    print(\"At CrossFold \",i,\"The CV_Score is \",cv_mean,\"Training accuracy score is \",r2_train,\"Test accuracy\", r2_test)\n",
    "    "
   ]
  },
  {
   "cell_type": "code",
   "execution_count": 68,
   "id": "595928d2",
   "metadata": {},
   "outputs": [
    {
     "data": {
      "text/plain": [
       "0.9045623076959016"
      ]
     },
     "execution_count": 68,
     "metadata": {},
     "output_type": "execute_result"
    }
   ],
   "source": [
    "lr_score_selected=cross_val_score(lr,x,y,cv=2).mean() # mean value\n",
    "\n",
    "pred_lr= lr.predict(x_test)# predict linear regression\n",
    "\n",
    "lss=r2_score(y_test,pred_lr) #saved value for \n",
    "lss"
   ]
  },
  {
   "cell_type": "code",
   "execution_count": 69,
   "id": "a3f9bd9d",
   "metadata": {},
   "outputs": [
    {
     "name": "stdout",
     "output_type": "stream",
     "text": [
      "The cv score is:  0.9017064197605746 \n",
      "The Accuracy score is:  0.9045623076959016\n"
     ]
    }
   ],
   "source": [
    "print(\"The cv score is: \",lr_score_selected,\"\\nThe Accuracy score is: \",lss)"
   ]
  },
  {
   "cell_type": "markdown",
   "id": "21acba26",
   "metadata": {},
   "source": [
    "Since the number of folds doesn't have such impact on the accuracy and cv_score.  But on a safe side we will go with cv=2\n",
    "Here we have handled the problem of the overfitting and the underfitting by checking the training and testing score."
   ]
  },
  {
   "cell_type": "markdown",
   "id": "324f9279",
   "metadata": {},
   "source": [
    "# Regularlization:"
   ]
  },
  {
   "cell_type": "code",
   "execution_count": 70,
   "id": "fe8be64a",
   "metadata": {},
   "outputs": [
    {
     "name": "stdout",
     "output_type": "stream",
     "text": [
      "{'alpha': 0.1, 'selection': 'random'}\n",
      "0.8902097399252135\n"
     ]
    }
   ],
   "source": [
    "from sklearn.model_selection import GridSearchCV\n",
    "from sklearn.linear_model import Lasso\n",
    "parameter={'alpha':[0.0001,0.001,0.01,0.1,1],'selection':['cyclic', 'random']}\n",
    "ls=Lasso()\n",
    "gsv=GridSearchCV(ls,parameter)\n",
    "gsv.fit(x_train,y_train)\n",
    "\n",
    "print(gsv.best_params_)\n",
    "print(gsv.best_score_) "
   ]
  },
  {
   "cell_type": "code",
   "execution_count": 71,
   "id": "da0955f2",
   "metadata": {},
   "outputs": [
    {
     "name": "stdout",
     "output_type": "stream",
     "text": [
      "{'alpha': 0.001, 'solver': 'saga'}\n",
      "0.8897188025580999\n"
     ]
    }
   ],
   "source": [
    "from sklearn.model_selection import GridSearchCV\n",
    "from sklearn.linear_model import Ridge\n",
    "parameter={'alpha':[0.0001,0.001,0.01,0.1,1],'solver':['auto','svd', 'cholesky', 'lsqr', 'sparse_cg', 'sag', 'saga', 'lbfgs']}\n",
    "rd=Ridge()\n",
    "gsv=GridSearchCV(rd,parameter)\n",
    "gsv.fit(x_train,y_train)\n",
    "\n",
    "print(gsv.best_params_)\n",
    "print(gsv.best_score_) "
   ]
  },
  {
   "cell_type": "code",
   "execution_count": 72,
   "id": "ebf822dc",
   "metadata": {},
   "outputs": [
    {
     "name": "stdout",
     "output_type": "stream",
     "text": [
      "{'alpha': 0.01, 'selection': 'random'}\n",
      "0.8897790447299669\n"
     ]
    }
   ],
   "source": [
    "from sklearn.model_selection import GridSearchCV\n",
    "from sklearn.linear_model import ElasticNet\n",
    "parameter={'alpha':[0.0001,0.001,0.01,0.1,1],'selection':['cyclic', 'random']}\n",
    "en=ElasticNet()\n",
    "gsv=GridSearchCV(en,parameter)\n",
    "gsv.fit(x_train,y_train)\n",
    "\n",
    "print(gsv.best_params_)\n",
    "print(gsv.best_score_) "
   ]
  },
  {
   "cell_type": "code",
   "execution_count": 73,
   "id": "45ade502",
   "metadata": {},
   "outputs": [
    {
     "data": {
      "image/png": "[encoded data removed]",
      "text/plain": [
       "<Figure size 720x432 with 1 Axes>"
      ]
     },
     "metadata": {
      "needs_background": "light"
     },
     "output_type": "display_data"
    }
   ],
   "source": [
    "plt.figure(figsize=(10,6))\n",
    "plt.scatter(x=pred_test,y=y_test,color='r')\n",
    "\n",
    "plt.plot(pred_test,pred_test,color='b')\n",
    "plt.xlabel('Actual ',fontsize=14)\n",
    "plt.ylabel('Predicted ',fontsize=14)\n",
    "plt.title(\"Linear Regression\",fontsize=18)\n",
    "plt.show()"
   ]
  },
  {
   "cell_type": "code",
   "execution_count": 74,
   "id": "c5554165",
   "metadata": {},
   "outputs": [
    {
     "data": {
      "text/plain": [
       "array([3.8933025 , 2.72574199, 0.02567379])"
      ]
     },
     "execution_count": 74,
     "metadata": {},
     "output_type": "execute_result"
    }
   ],
   "source": [
    "lr.coef_"
   ]
  },
  {
   "cell_type": "code",
   "execution_count": 75,
   "id": "2d85f6ad",
   "metadata": {},
   "outputs": [
    {
     "data": {
      "text/plain": [
       "0.9035292036334897"
      ]
     },
     "execution_count": 75,
     "metadata": {},
     "output_type": "execute_result"
    }
   ],
   "source": [
    "# Lasso works better so using the same model..\n",
    "ls=Lasso(alpha=0.1)\n",
    "ls.fit(x_train,y_train)\n",
    "ls.score(x_train,y_train)"
   ]
  },
  {
   "cell_type": "code",
   "execution_count": 76,
   "id": "a57a5564",
   "metadata": {},
   "outputs": [
    {
     "data": {
      "text/plain": [
       "array([3.804908  , 2.64365634, 0.        ])"
      ]
     },
     "execution_count": 76,
     "metadata": {},
     "output_type": "execute_result"
    }
   ],
   "source": [
    "ls.coef_"
   ]
  },
  {
   "cell_type": "markdown",
   "id": "4e182da7",
   "metadata": {},
   "source": [
    "# Model_Selection"
   ]
  },
  {
   "cell_type": "markdown",
   "id": "ffcec974",
   "metadata": {},
   "source": [
    "# Decision Tree"
   ]
  },
  {
   "cell_type": "code",
   "execution_count": 77,
   "id": "0ace995e",
   "metadata": {},
   "outputs": [
    {
     "name": "stdout",
     "output_type": "stream",
     "text": [
      "{'criterion': 'absolute_error', 'max_features': 'auto', 'splitter': 'best'}\n",
      "0.943215625399553\n"
     ]
    }
   ],
   "source": [
    "from sklearn.model_selection import GridSearchCV\n",
    "from sklearn.tree import DecisionTreeRegressor\n",
    "\n",
    "parameter={'criterion':['squared_error','friedman_mse', 'absolute_error', 'poisson'],\n",
    "          'splitter':['best', 'random'],\n",
    "          'max_features':['auto','sqrt', 'log2']}\n",
    "\n",
    "dtc=DecisionTreeRegressor()\n",
    "gsv=GridSearchCV(dtc,parameter)\n",
    "gsv.fit(x_train,y_train)\n",
    "\n",
    "print(gsv.best_params_)\n",
    "print(gsv.best_score_) "
   ]
  },
  {
   "cell_type": "code",
   "execution_count": 78,
   "id": "68047a45",
   "metadata": {},
   "outputs": [
    {
     "name": "stdout",
     "output_type": "stream",
     "text": [
      "Training R2 Score  100.0 Test R2 Score  95.96519058664673\n",
      "Mean Absolute Error  0.0 Mean Absolute Error  0.77\n",
      "Mean Squared Error  0.0 Mean Squared Test Error  1.0069999999999997\n"
     ]
    }
   ],
   "source": [
    "dtc=DecisionTreeRegressor(criterion='squared_error',max_features='auto',splitter='best')\n",
    "dtc.fit(x_train,y_train)\n",
    "\n",
    "pred_train=dtc.predict(x_train)\n",
    "pred_test=dtc.predict(x_test)\n",
    "\n",
    "\n",
    "print(\"Training R2 Score \", r2_score(y_train,pred_train)*100,\"Test R2 Score \",r2_score(y_test,pred_test)*100)\n",
    "print(\"Mean Absolute Error \",round(mean_absolute_error(y_train,pred_train),2),\"Mean Absolute Error \",round(mean_absolute_error(y_test,pred_test),2))\n",
    "print(\"Mean Squared Error \",mean_squared_error(y_train,pred_train),\"Mean Squared Test Error \",mean_squared_error(y_test,pred_test))"
   ]
  },
  {
   "cell_type": "code",
   "execution_count": 79,
   "id": "e58cd5b0",
   "metadata": {},
   "outputs": [
    {
     "name": "stdout",
     "output_type": "stream",
     "text": [
      "At CrossFold  2 The CV_Score is  0.9344810445351089 Training accuracy score is  1.0 Test accuracy 0.9596519058664673\n",
      "At CrossFold  3 The CV_Score is  0.9437056401684835 Training accuracy score is  1.0 Test accuracy 0.9596519058664673\n",
      "At CrossFold  4 The CV_Score is  0.9389650379313178 Training accuracy score is  1.0 Test accuracy 0.9596519058664673\n",
      "At CrossFold  5 The CV_Score is  0.954699936581366 Training accuracy score is  1.0 Test accuracy 0.9596519058664673\n",
      "At CrossFold  6 The CV_Score is  0.9361763503728161 Training accuracy score is  1.0 Test accuracy 0.9596519058664673\n",
      "At CrossFold  7 The CV_Score is  0.9472549933464698 Training accuracy score is  1.0 Test accuracy 0.9596519058664673\n",
      "At CrossFold  8 The CV_Score is  0.9465773343587833 Training accuracy score is  1.0 Test accuracy 0.9596519058664673\n",
      "At CrossFold  9 The CV_Score is  0.9384780186531698 Training accuracy score is  1.0 Test accuracy 0.9596519058664673\n"
     ]
    }
   ],
   "source": [
    "r2_train=r2_score(y_train,pred_train)#pred train\n",
    "r2_test=r2_score(y_test,pred_test)#predict test\n",
    "\n",
    "for i in range(2,10):\n",
    "    cv_score=cross_val_score(dtc,x,y,cv=i)\n",
    "    cv_mean=cv_score.mean()\n",
    "    \n",
    "    print(\"At CrossFold \",i,\"The CV_Score is \",cv_mean,\"Training accuracy score is \",r2_train,\"Test accuracy\", r2_test)"
   ]
  },
  {
   "cell_type": "markdown",
   "id": "9c0b00aa",
   "metadata": {},
   "source": [
    "Cv score is better in  cross_val score 5 as its near to Test Accuracy"
   ]
  },
  {
   "cell_type": "markdown",
   "id": "6bec8be6",
   "metadata": {},
   "source": [
    "# Model Map Ploting "
   ]
  },
  {
   "cell_type": "code",
   "execution_count": 80,
   "id": "e164055f",
   "metadata": {},
   "outputs": [
    {
     "data": {
      "image/png": "[encoded data removed]",
      "text/plain": [
       "<Figure size 720x432 with 1 Axes>"
      ]
     },
     "metadata": {
      "needs_background": "light"
     },
     "output_type": "display_data"
    }
   ],
   "source": [
    "plt.figure(figsize=(10,6))\n",
    "plt.scatter(x=pred_test,y=y_test,color='r')\n",
    "\n",
    "plt.plot(pred_test,pred_test,color='b')\n",
    "plt.xlabel('Actual ',fontsize=14)\n",
    "plt.ylabel('Predicted ',fontsize=14)\n",
    "plt.title(\"Linear Regression\",fontsize=18)\n",
    "plt.show()"
   ]
  },
  {
   "cell_type": "markdown",
   "id": "d70571d5",
   "metadata": {},
   "source": [
    "# Support Vector Machine"
   ]
  },
  {
   "cell_type": "code",
   "execution_count": 81,
   "id": "5dcb554d",
   "metadata": {},
   "outputs": [
    {
     "name": "stdout",
     "output_type": "stream",
     "text": [
      "{'gamma': 'scale', 'kernel': 'linear'}\n",
      "0.8903935476947001\n"
     ]
    }
   ],
   "source": [
    "from sklearn.model_selection import GridSearchCV\n",
    "from sklearn.svm import SVR\n",
    "\n",
    "parameter={'kernel':['linear', 'poly', 'rbf','sigmoid'],'gamma':['scale', 'auto']}\n",
    "\n",
    "svr=SVR()\n",
    "gsv=GridSearchCV(svr,parameter)\n",
    "gsv.fit(x_train,y_train)\n",
    "\n",
    "print(gsv.best_params_)\n",
    "print(gsv.best_score_) "
   ]
  },
  {
   "cell_type": "code",
   "execution_count": 82,
   "id": "6acfe2bc",
   "metadata": {},
   "outputs": [
    {
     "name": "stdout",
     "output_type": "stream",
     "text": [
      "Training R2 Score  90.34392196015732 Test R2 Score  90.12406882022296\n",
      "Mean Absolute Error  1.21 Mean Absolute Error  1.27\n",
      "Mean Squared Error  2.662466331461536 Mean Squared Test Error  2.46481597498066\n"
     ]
    }
   ],
   "source": [
    "svr=SVR(kernel='linear',gamma='scale')\n",
    "svr.fit(x_train,y_train)\n",
    "\n",
    "pred_train=svr.predict(x_train)\n",
    "pred_test=svr.predict(x_test)\n",
    "\n",
    "print(\"Training R2 Score \", r2_score(y_train,pred_train)*100,\"Test R2 Score \",r2_score(y_test,pred_test)*100)\n",
    "print(\"Mean Absolute Error \",round(mean_absolute_error(y_train,pred_train),2),\"Mean Absolute Error \",round(mean_absolute_error(y_test,pred_test),2))\n",
    "print(\"Mean Squared Error \",mean_squared_error(y_train,pred_train),\"Mean Squared Test Error \",mean_squared_error(y_test,pred_test))"
   ]
  },
  {
   "cell_type": "code",
   "execution_count": 83,
   "id": "4c2b409e",
   "metadata": {},
   "outputs": [
    {
     "name": "stdout",
     "output_type": "stream",
     "text": [
      "At CrossFold  2 The CV_Score is  0.8992671015275284 Training accuracy score is  0.9034392196015731 Test accuracy 0.9012406882022296\n",
      "At CrossFold  3 The CV_Score is  0.8922295274684725 Training accuracy score is  0.9034392196015731 Test accuracy 0.9012406882022296\n",
      "At CrossFold  4 The CV_Score is  0.8898608995264119 Training accuracy score is  0.9034392196015731 Test accuracy 0.9012406882022296\n",
      "At CrossFold  5 The CV_Score is  0.8884794953695188 Training accuracy score is  0.9034392196015731 Test accuracy 0.9012406882022296\n",
      "At CrossFold  6 The CV_Score is  0.891514598281771 Training accuracy score is  0.9034392196015731 Test accuracy 0.9012406882022296\n",
      "At CrossFold  7 The CV_Score is  0.8897041434381473 Training accuracy score is  0.9034392196015731 Test accuracy 0.9012406882022296\n",
      "At CrossFold  8 The CV_Score is  0.8931375674411823 Training accuracy score is  0.9034392196015731 Test accuracy 0.9012406882022296\n",
      "At CrossFold  9 The CV_Score is  0.8874287555413792 Training accuracy score is  0.9034392196015731 Test accuracy 0.9012406882022296\n"
     ]
    }
   ],
   "source": [
    "r2_train=r2_score(y_train,pred_train)#pred train\n",
    "r2_test=r2_score(y_test,pred_test)#predict test\n",
    "\n",
    "for i in range(2,10):\n",
    "    cv_score=cross_val_score(svr,x,y,cv=i)\n",
    "    cv_mean=cv_score.mean()\n",
    "    \n",
    "    print(\"At CrossFold \",i,\"The CV_Score is \",cv_mean,\"Training accuracy score is \",r2_train,\"Test accuracy\", r2_test)"
   ]
  },
  {
   "cell_type": "markdown",
   "id": "5910fc7f",
   "metadata": {},
   "source": [
    "cross fold 2 is better in SVR as its near to r2 test score"
   ]
  },
  {
   "cell_type": "code",
   "execution_count": 84,
   "id": "f3def13e",
   "metadata": {},
   "outputs": [
    {
     "data": {
      "image/png": "[encoded data removed]",
      "text/plain": [
       "<Figure size 720x432 with 1 Axes>"
      ]
     },
     "metadata": {
      "needs_background": "light"
     },
     "output_type": "display_data"
    }
   ],
   "source": [
    "plt.figure(figsize=(10,6))\n",
    "plt.scatter(x=pred_test,y=y_test,color='orange')\n",
    "plt.plot(pred_test,pred_test,color='black')\n",
    "plt.xlabel(\"Actual\",fontsize=14)\n",
    "plt.ylabel(\"Predicted\",fontsize=14)\n",
    "plt.title(\"Linear Regression\",fontsize=20)\n",
    "plt.show()"
   ]
  },
  {
   "cell_type": "markdown",
   "id": "53a0185b",
   "metadata": {},
   "source": [
    "## Regularization"
   ]
  },
  {
   "cell_type": "code",
   "execution_count": 85,
   "id": "feda6f49",
   "metadata": {},
   "outputs": [
    {
     "name": "stdout",
     "output_type": "stream",
     "text": [
      "{'alpha': 0.1, 'random_state': 0}\n"
     ]
    }
   ],
   "source": [
    "from sklearn.linear_model import Lasso\n",
    "\n",
    "parameters={'alpha':[.0001,.001,.01,.1,1,10],'random_state':list(range(0,10))}\n",
    "\n",
    "ls=Lasso()\n",
    "clf=GridSearchCV(ls,parameters)\n",
    "clf.fit(x_train,y_train)\n",
    "\n",
    "\n",
    "print(clf.best_params_)"
   ]
  },
  {
   "cell_type": "code",
   "execution_count": 86,
   "id": "a92eb5cb",
   "metadata": {},
   "outputs": [
    {
     "data": {
      "text/plain": [
       "90.35292036334897"
      ]
     },
     "execution_count": 86,
     "metadata": {},
     "output_type": "execute_result"
    }
   ],
   "source": [
    "ls=Lasso(alpha=0.1,random_state=0)\n",
    "ls.fit(x_train,y_train)# Training\n",
    "\n",
    "ls_score_training=ls.score(x_train,y_train)#score\n",
    "pred_ls=ls.predict(x_test)\n",
    "\n",
    "ls_score_training*100"
   ]
  },
  {
   "cell_type": "code",
   "execution_count": 87,
   "id": "f52d5ed7",
   "metadata": {},
   "outputs": [
    {
     "name": "stdout",
     "output_type": "stream",
     "text": [
      "0.9011953503758984\n"
     ]
    },
    {
     "data": {
      "text/plain": [
       "0.9014616379006017"
      ]
     },
     "execution_count": 87,
     "metadata": {},
     "output_type": "execute_result"
    }
   ],
   "source": [
    "pred_ls=ls.predict(x_test)\n",
    "\n",
    "lss = r2_score(y_test,pred_ls)\n",
    "print(lss)\n",
    "\n",
    "cv_score=cross_val_score(ls,x,y,cv=2)\n",
    "cv_mean=cv_score.mean()\n",
    "cv_mean"
   ]
  },
  {
   "cell_type": "markdown",
   "id": "dfeeddc4",
   "metadata": {},
   "source": [
    "## KNeighborsRegressor"
   ]
  },
  {
   "cell_type": "code",
   "execution_count": 88,
   "id": "b8222b79",
   "metadata": {},
   "outputs": [
    {
     "name": "stdout",
     "output_type": "stream",
     "text": [
      "{'algorithm': 'auto', 'leaf_size': 28, 'n_neighbors': 4, 'weights': 'distance'} 0.9355859312853398\n"
     ]
    }
   ],
   "source": [
    "from sklearn.model_selection import GridSearchCV\n",
    "from sklearn.neighbors import KNeighborsRegressor\n",
    "\n",
    "parameter={'n_neighbors':list(range(1,10)),'weights' :['uniform','distance'],'algorithm':['auto', 'ball_tree', 'kd_tree', 'brute'],\n",
    "          'leaf_size':list(range(28,40))}\n",
    "\n",
    "knr=KNeighborsRegressor()\n",
    "gsv=GridSearchCV(knr,parameter)\n",
    "gsv.fit(x_train,y_train)\n",
    "\n",
    "print(gsv.best_params_,gsv.best_score_)"
   ]
  },
  {
   "cell_type": "code",
   "execution_count": 89,
   "id": "e1f11111",
   "metadata": {},
   "outputs": [
    {
     "name": "stdout",
     "output_type": "stream",
     "text": [
      "Train and Test r2 score 1.0 ,  0.9312069113835496\n",
      "Train and Test MSE score 0.0 , 1.7169247203473827\n",
      "Train and test Absolute  0.0 , 0.0\n"
     ]
    }
   ],
   "source": [
    "knn=KNeighborsRegressor(leaf_size=28,n_neighbors=4,weights='distance')\n",
    "knn.fit(x_train,y_train)\n",
    "\n",
    "pred_train=knn.predict(x_train)\n",
    "pred_test=knn.predict(x_test)\n",
    "\n",
    "print(\"Train and Test r2 score\",r2_score(y_train,pred_train),\", \",r2_score(y_test,pred_test))\n",
    "print(\"Train and Test MSE score\",mean_squared_error(y_train,pred_train),\",\",mean_squared_error(y_test,pred_test))\n",
    "print(\"Train and test Absolute \",mean_absolute_error(y_train,pred_train),\",\",mean_absolute_error(y_train,pred_train))"
   ]
  },
  {
   "cell_type": "code",
   "execution_count": 90,
   "id": "8f8b1825",
   "metadata": {},
   "outputs": [
    {
     "name": "stdout",
     "output_type": "stream",
     "text": [
      "At cross fold 2 the cv_score 0.9370623219873347 and training_score is 1.0 and testing_score is 0.9312069113835496\n",
      "At cross fold 3 the cv_score 0.9184548402730784 and training_score is 1.0 and testing_score is 0.9312069113835496\n",
      "At cross fold 4 the cv_score 0.9493356014464307 and training_score is 1.0 and testing_score is 0.9312069113835496\n",
      "At cross fold 5 the cv_score 0.9459434217880343 and training_score is 1.0 and testing_score is 0.9312069113835496\n",
      "At cross fold 6 the cv_score 0.9426013484634543 and training_score is 1.0 and testing_score is 0.9312069113835496\n",
      "At cross fold 7 the cv_score 0.9506542093847313 and training_score is 1.0 and testing_score is 0.9312069113835496\n",
      "At cross fold 8 the cv_score 0.9503655671384781 and training_score is 1.0 and testing_score is 0.9312069113835496\n",
      "At cross fold 9 the cv_score 0.9415199239694011 and training_score is 1.0 and testing_score is 0.9312069113835496\n"
     ]
    }
   ],
   "source": [
    "from sklearn.model_selection import cross_val_score\n",
    "\n",
    "r2score_train=r2_score(y_train,pred_train)\n",
    "r2score_test=r2_score(y_test,pred_test)\n",
    "\n",
    "for i in range(2,10):\n",
    "    cv_score=cross_val_score(knn,x,y,cv=i)\n",
    "    cv_mean=cv_score.mean()\n",
    "    \n",
    "    print(f\"At cross fold {i} the cv_score {cv_mean} and training_score is {r2score_train} and testing_score is {r2score_test}\")"
   ]
  },
  {
   "cell_type": "markdown",
   "id": "5d82c65e",
   "metadata": {},
   "source": [
    "Almost all the accuracy are near by the Cross fold 2 is being selected as maximum models that cv to be better and its also near to the test accuracy."
   ]
  },
  {
   "cell_type": "code",
   "execution_count": 91,
   "id": "aef82258",
   "metadata": {},
   "outputs": [
    {
     "data": {
      "image/png": "[encoded data removed]",
      "text/plain": [
       "<Figure size 720x432 with 1 Axes>"
      ]
     },
     "metadata": {
      "needs_background": "light"
     },
     "output_type": "display_data"
    }
   ],
   "source": [
    "plt.figure(figsize=(10,6))\n",
    "plt.scatter(x=pred_test,y=y_test,color='r')\n",
    "plt.plot(pred_test,pred_test,color='black')\n",
    "plt.xlabel(\"Actual\",fontsize=14)\n",
    "plt.ylabel(\"Predict\",fontsize=14)\n",
    "plt.title(\"Regression Model\",fontsize=20)\n",
    "plt.show()"
   ]
  },
  {
   "cell_type": "markdown",
   "id": "c5629309",
   "metadata": {},
   "source": [
    "# Stochastic Gradient Descent (SGD-Regressor)"
   ]
  },
  {
   "cell_type": "code",
   "execution_count": 92,
   "id": "0ea1c031",
   "metadata": {},
   "outputs": [
    {
     "name": "stdout",
     "output_type": "stream",
     "text": [
      "Best Score 0.8913141866080856\n",
      "Best Parameter {'alpha': 0.1, 'max_iter': 1022, 'n_iter_no_change': 1, 'penalty': 'l1', 'validation_fraction': 0.2}\n"
     ]
    }
   ],
   "source": [
    "from sklearn.linear_model import SGDRegressor\n",
    "parameters={'alpha':[0.0001,0.001,0.01,0.1],'penalty':['l2', 'l1', 'elasticnet'],'max_iter':list(range(1000,1050)),'validation_fraction':[0.1,0.2,0.3,0.4],'n_iter_no_change':list(range(1,10))}\n",
    "\n",
    "sgd=SGDRegressor()\n",
    "gsv=GridSearchCV(sgd,parameters)\n",
    "gsv.fit(x_train,y_train)\n",
    "\n",
    "print('Best Score',gsv.best_score_)\n",
    "print(\"Best Parameter\",gsv.best_params_)\n"
   ]
  },
  {
   "cell_type": "markdown",
   "id": "e046814e",
   "metadata": {},
   "source": [
    "### Model: SGD"
   ]
  },
  {
   "cell_type": "code",
   "execution_count": 93,
   "id": "9c8e829d",
   "metadata": {},
   "outputs": [
    {
     "name": "stdout",
     "output_type": "stream",
     "text": [
      "Train and Test r2 score 0.9030884326914026 ,  0.901980157757225\n",
      "Train and Test MSE score 2.6721385641629807 , 2.4463604355587494\n",
      "Train and test Absolute Error 1.2081922413359731 , 1.2081922413359731\n"
     ]
    }
   ],
   "source": [
    "sgd=SGDRegressor(alpha=0.1,max_iter=1036,n_iter_no_change=1,penalty='l1',validation_fraction=0.3)\n",
    "sgd.fit(x_train,y_train)\n",
    "\n",
    "pred_train=sgd.predict(x_train)\n",
    "pred_test=sgd.predict(x_test)\n",
    "\n",
    "print(\"Train and Test r2 score\",r2_score(y_train,pred_train),\", \",r2_score(y_test,pred_test))\n",
    "print(\"Train and Test MSE score\",mean_squared_error(y_train,pred_train),\",\",mean_squared_error(y_test,pred_test))\n",
    "print(\"Train and test Absolute Error\",mean_absolute_error(y_train,pred_train),\",\",mean_absolute_error(y_train,pred_train))"
   ]
  },
  {
   "cell_type": "markdown",
   "id": "ec89a561",
   "metadata": {},
   "source": [
    "### Cross Validation Score on SGD"
   ]
  },
  {
   "cell_type": "code",
   "execution_count": 94,
   "id": "52030ad9",
   "metadata": {},
   "outputs": [
    {
     "name": "stdout",
     "output_type": "stream",
     "text": [
      "Cross fold 2 the cv_score 0.8999889936590757 and training_score is 0.9030884326914026 and testing_score is 0.901980157757225\n",
      "Cross fold 3 the cv_score 0.8964788690076698 and training_score is 0.9030884326914026 and testing_score is 0.901980157757225\n",
      "Cross fold 4 the cv_score 0.8986257545088745 and training_score is 0.9030884326914026 and testing_score is 0.901980157757225\n",
      "Cross fold 5 the cv_score 0.8962566047493636 and training_score is 0.9030884326914026 and testing_score is 0.901980157757225\n",
      "Cross fold 6 the cv_score 0.8980308354748731 and training_score is 0.9030884326914026 and testing_score is 0.901980157757225\n",
      "Cross fold 7 the cv_score 0.8953184198920395 and training_score is 0.9030884326914026 and testing_score is 0.901980157757225\n",
      "Cross fold 8 the cv_score 0.8983742597328124 and training_score is 0.9030884326914026 and testing_score is 0.901980157757225\n",
      "Cross fold 9 the cv_score 0.894352898155601 and training_score is 0.9030884326914026 and testing_score is 0.901980157757225\n"
     ]
    }
   ],
   "source": [
    "from sklearn.model_selection import cross_val_score\n",
    "\n",
    "r2score_train=r2_score(y_train,pred_train)\n",
    "r2score_test=r2_score(y_test,pred_test)\n",
    "\n",
    "for i in range(2,10):\n",
    "    cv_score=cross_val_score(sgd,x,y,cv=i)\n",
    "    cv_mean=cv_score.mean()\n",
    "    \n",
    "    print(f\"Cross fold {i} the cv_score {cv_mean} and training_score is {r2score_train} and testing_score is {r2score_test}\")"
   ]
  },
  {
   "cell_type": "markdown",
   "id": "dbbe3bd9",
   "metadata": {},
   "source": [
    "At Cross Fold 2, the testing score is close to cv_score so we will select this "
   ]
  },
  {
   "cell_type": "code",
   "execution_count": 95,
   "id": "b2c91f4f",
   "metadata": {},
   "outputs": [
    {
     "data": {
      "image/png": "[encoded data removed]",
      "text/plain": [
       "<Figure size 720x432 with 1 Axes>"
      ]
     },
     "metadata": {
      "needs_background": "light"
     },
     "output_type": "display_data"
    }
   ],
   "source": [
    "plt.figure(figsize=(10,6))\n",
    "plt.scatter(x=pred_test,y=y_test,color='orange')\n",
    "plt.plot(pred_test,pred_test,color='b')\n",
    "plt.xlabel(\"Actual\",fontsize=14)\n",
    "plt.ylabel(\"Predict\",fontsize=14)\n",
    "plt.title(\"Regression Model\",fontsize=20)\n",
    "plt.show()"
   ]
  },
  {
   "cell_type": "markdown",
   "id": "7b8bdca5",
   "metadata": {},
   "source": [
    "### Model Regularization"
   ]
  },
  {
   "cell_type": "code",
   "execution_count": 96,
   "id": "ab8078dc",
   "metadata": {},
   "outputs": [
    {
     "name": "stdout",
     "output_type": "stream",
     "text": [
      "{'alpha': 0.1, 'random_state': 0}\n"
     ]
    }
   ],
   "source": [
    "from sklearn.linear_model import Lasso\n",
    "\n",
    "parameters={'alpha':[.0001,.001,.01,.1,1,10],'random_state':list(range(0,10))}\n",
    "\n",
    "ls=Lasso()\n",
    "clf=GridSearchCV(ls,parameters)\n",
    "clf.fit(x_train,y_train)\n",
    "\n",
    "\n",
    "print(clf.best_params_)"
   ]
  },
  {
   "cell_type": "code",
   "execution_count": 97,
   "id": "f9bab810",
   "metadata": {},
   "outputs": [
    {
     "data": {
      "text/plain": [
       "90.35292036334897"
      ]
     },
     "execution_count": 97,
     "metadata": {},
     "output_type": "execute_result"
    }
   ],
   "source": [
    "ls=Lasso(alpha=0.1,random_state=0)\n",
    "ls.fit(x_train,y_train)# Training\n",
    "\n",
    "ls_score_training=ls.score(x_train,y_train)#score\n",
    "pred_ls=ls.predict(x_test)#pred_test\n",
    "\n",
    "ls_score_training*100"
   ]
  },
  {
   "cell_type": "code",
   "execution_count": 98,
   "id": "04d8f030",
   "metadata": {},
   "outputs": [
    {
     "name": "stdout",
     "output_type": "stream",
     "text": [
      "0.9011953503758984\n"
     ]
    },
    {
     "data": {
      "text/plain": [
       "0.9015188651254686"
      ]
     },
     "execution_count": 98,
     "metadata": {},
     "output_type": "execute_result"
    }
   ],
   "source": [
    "pred_ls=ls.predict(x_test)\n",
    "\n",
    "lss = r2_score(y_test,pred_ls)\n",
    "print(lss)\n",
    "\n",
    "cv_score=cross_val_score(sgd,x,y,cv=2)\n",
    "cv_mean=cv_score.mean()\n",
    "cv_mean"
   ]
  },
  {
   "cell_type": "markdown",
   "id": "2f1d245a",
   "metadata": {},
   "source": [
    "# Ensemble technique"
   ]
  },
  {
   "cell_type": "markdown",
   "id": "77af1abb",
   "metadata": {},
   "source": [
    "### Hyper Papameter Tuning- Random Forest Regressor"
   ]
  },
  {
   "cell_type": "code",
   "execution_count": 99,
   "id": "d5ce3a23",
   "metadata": {},
   "outputs": [
    {
     "name": "stdout",
     "output_type": "stream",
     "text": [
      "Best Parameter {'criterion': 'absolute_error', 'max_features': 'sqrt', 'n_estimators': 106, 'random_state': 1}\n",
      "Best Score 0.9134097885191073\n"
     ]
    }
   ],
   "source": [
    "from sklearn.ensemble import RandomForestRegressor\n",
    "parameters={'n_estimators':list(range(100,125)),\n",
    "           'criterion':['squared_error', 'absolute_error', 'poisson'],\n",
    "            'random_state':list(range(1,10)),\n",
    "           'max_features':['sqrt','log2']}\n",
    "\n",
    "rf=RandomForestRegressor()\n",
    "gs=GridSearchCV(rf,parameters)\n",
    "gs.fit(x_train,y_train)\n",
    "\n",
    "print(\"Best Parameter\",gs.best_params_)\n",
    "print(\"Best Score\",gs.best_score_)"
   ]
  },
  {
   "cell_type": "markdown",
   "id": "02462637",
   "metadata": {},
   "source": [
    "### Model Random Forest Regressor"
   ]
  },
  {
   "cell_type": "code",
   "execution_count": 100,
   "id": "fc005324",
   "metadata": {},
   "outputs": [
    {
     "name": "stdout",
     "output_type": "stream",
     "text": [
      "Train and Test r2 score 0.9871454165003477 ,  0.9354526551312852\n",
      "Train and Test MSE score 0.35443888949081814 , 1.6109602616589527\n",
      "Train and test Absolute Error 0.40970741044571934 , 1.0117138364779874\n"
     ]
    }
   ],
   "source": [
    "#Train\n",
    "rf=RandomForestRegressor(n_estimators= 106,criterion='absolute_error',random_state=1,max_features='sqrt')\n",
    "rf.fit(x_train,y_train)\n",
    "\n",
    "pred_train=rf.predict(x_train) #predict train\n",
    "pred_test=rf.predict(x_test)# predict Test\n",
    "\n",
    "#Checking score and Errors\n",
    "print(\"Train and Test r2 score\",r2_score(y_train,pred_train),\", \",r2_score(y_test,pred_test))\n",
    "print(\"Train and Test MSE score\",mean_squared_error(y_train,pred_train),\",\",mean_squared_error(y_test,pred_test))\n",
    "print(\"Train and test Absolute Error\",mean_absolute_error(y_train,pred_train),\",\",mean_absolute_error(y_test,pred_test))"
   ]
  },
  {
   "cell_type": "markdown",
   "id": "77188925",
   "metadata": {},
   "source": [
    "### Cross validation With Random Forest"
   ]
  },
  {
   "cell_type": "code",
   "execution_count": 101,
   "id": "77a200b1",
   "metadata": {},
   "outputs": [
    {
     "name": "stdout",
     "output_type": "stream",
     "text": [
      "Cross fold 2 the cv_score 0.8956810943724827 and training_score is 0.9871454165003477 and testing_score is 0.9354526551312852\n",
      "Cross fold 3 the cv_score 0.9189635088794365 and training_score is 0.9871454165003477 and testing_score is 0.9354526551312852\n",
      "Cross fold 4 the cv_score 0.9268843942055485 and training_score is 0.9871454165003477 and testing_score is 0.9354526551312852\n",
      "Cross fold 5 the cv_score 0.9282428554165139 and training_score is 0.9871454165003477 and testing_score is 0.9354526551312852\n",
      "Cross fold 6 the cv_score 0.9318341308383237 and training_score is 0.9871454165003477 and testing_score is 0.9354526551312852\n",
      "Cross fold 7 the cv_score 0.9305695715444388 and training_score is 0.9871454165003477 and testing_score is 0.9354526551312852\n",
      "Cross fold 8 the cv_score 0.9394312986001396 and training_score is 0.9871454165003477 and testing_score is 0.9354526551312852\n",
      "Cross fold 9 the cv_score 0.9304888891845591 and training_score is 0.9871454165003477 and testing_score is 0.9354526551312852\n"
     ]
    }
   ],
   "source": [
    "from sklearn.model_selection import cross_val_score\n",
    "\n",
    "r2score_train=r2_score(y_train,pred_train)\n",
    "r2score_test=r2_score(y_test,pred_test)\n",
    "\n",
    "for i in range(2,10):\n",
    "    cv_score=cross_val_score(rf,x,y,cv=i)\n",
    "    cv_mean=cv_score.mean()\n",
    "    \n",
    "    print(f\"Cross fold {i} the cv_score {cv_mean} and training_score is {r2score_train} and testing_score is {r2score_test}\")"
   ]
  },
  {
   "cell_type": "markdown",
   "id": "90ece8d2",
   "metadata": {},
   "source": [
    "At Cross Fold 8 the score is close to R2 accuracy testing_score "
   ]
  },
  {
   "cell_type": "markdown",
   "id": "e245e86c",
   "metadata": {},
   "source": [
    "### Graph Ploting(Random Forest)"
   ]
  },
  {
   "cell_type": "code",
   "execution_count": 102,
   "id": "c895683c",
   "metadata": {},
   "outputs": [
    {
     "data": {
      "image/png": "[encoded data removed]",
      "text/plain": [
       "<Figure size 720x432 with 1 Axes>"
      ]
     },
     "metadata": {
      "needs_background": "light"
     },
     "output_type": "display_data"
    }
   ],
   "source": [
    "plt.figure(figsize=(10,6))\n",
    "plt.scatter(x=pred_test,y=y_test,color='red')\n",
    "plt.plot(pred_test,pred_test,color='blue')\n",
    "plt.xlabel(\"Actual\",fontsize=14)\n",
    "plt.ylabel(\"Predicted\",fontsize=14)\n",
    "plt.title(\"Linear Regression\",fontsize=22)\n",
    "plt.show()"
   ]
  },
  {
   "cell_type": "markdown",
   "id": "4fd8efce",
   "metadata": {},
   "source": [
    "### Regularization {Random Forest}"
   ]
  },
  {
   "cell_type": "code",
   "execution_count": 103,
   "id": "81a388bd",
   "metadata": {},
   "outputs": [
    {
     "name": "stdout",
     "output_type": "stream",
     "text": [
      "{'alpha': 0.1, 'random_state': 0}\n"
     ]
    }
   ],
   "source": [
    "from sklearn.linear_model import Lasso\n",
    "\n",
    "parameters={'alpha':[.0001,.001,.01,.1,1,10],'random_state':list(range(0,10))}\n",
    "\n",
    "ls=Lasso()\n",
    "clf=GridSearchCV(ls,parameters)\n",
    "clf.fit(x_train,y_train)\n",
    "    \n",
    "print(clf.best_params_)"
   ]
  },
  {
   "cell_type": "code",
   "execution_count": 104,
   "id": "588418dc",
   "metadata": {},
   "outputs": [
    {
     "name": "stdout",
     "output_type": "stream",
     "text": [
      " Model Train Score 90.35292036334897\n"
     ]
    }
   ],
   "source": [
    "# final training\n",
    "ls=Lasso(alpha=0.1,random_state=0)\n",
    "ls.fit(x_train,y_train)\n",
    "\n",
    "ls_score_training=ls.score(x_train,y_train) # train\n",
    "pred_ls=ls.predict(x_test)# predict\n",
    "\n",
    "print(\" Model Train Score\",ls_score_training*100)"
   ]
  },
  {
   "cell_type": "code",
   "execution_count": 105,
   "id": "219d608b",
   "metadata": {},
   "outputs": [
    {
     "name": "stdout",
     "output_type": "stream",
     "text": [
      "Test R2 Score 0.9011953503758984\n",
      "Mean Score 0.9394312986001396\n"
     ]
    }
   ],
   "source": [
    "pred_ls=ls.predict(x_test)\n",
    "lss = r2_score(y_test,pred_ls)\n",
    "print(\"Test R2 Score\",lss)# test score\n",
    "\n",
    "cv_score=cross_val_score(rf,x,y,cv=8)\n",
    "cv_mean=cv_score.mean()\n",
    "print(\"Mean Score\",cv_mean)# mean Score"
   ]
  },
  {
   "cell_type": "markdown",
   "id": "e39c010d",
   "metadata": {},
   "source": [
    "# Hyper-Parameter Tuning (Extra Trees)"
   ]
  },
  {
   "cell_type": "code",
   "execution_count": 106,
   "id": "78d6a834",
   "metadata": {},
   "outputs": [
    {
     "name": "stdout",
     "output_type": "stream",
     "text": [
      "Score  0.9819519842027914  Best parameter  {'max_features': 3, 'n_estimators': 100, 'random_state': 3}\n"
     ]
    }
   ],
   "source": [
    "from sklearn.ensemble import ExtraTreesRegressor\n",
    "from sklearn.model_selection import GridSearchCV\n",
    "\n",
    "parameter={'n_estimators':list(range(100,105)),\n",
    "           'max_features':list(range(1,20)),\n",
    "          'random_state':list(range(1,20))}\n",
    "\n",
    "et=ExtraTreesRegressor()\n",
    "gsv=GridSearchCV(et,parameter)\n",
    "gsv.fit(x_train,y_train)\n",
    "\n",
    "print(\"Score \",gsv.best_score_,\" Best parameter \",gsv.best_params_)"
   ]
  },
  {
   "cell_type": "markdown",
   "id": "b12bd66b",
   "metadata": {},
   "source": [
    "### Training the Extra Trees Model based on given Hyper Parameter "
   ]
  },
  {
   "cell_type": "code",
   "execution_count": 107,
   "id": "fdd24a44",
   "metadata": {},
   "outputs": [
    {
     "name": "stdout",
     "output_type": "stream",
     "text": [
      "Train and Test r2 score 0.9999998880440563 ,  0.9907026672013468\n",
      "Train and Test MSE score 3.086956521728912e-06 , 0.23204104999999886\n",
      "Train and test Absolute Error 0.00027536231885527836 , 0.3664833333333329\n"
     ]
    }
   ],
   "source": [
    "et=ExtraTreesRegressor(n_estimators=100 ,max_features= 3,random_state=3 )\n",
    "et.fit(x_train,y_train)#train\n",
    "et_score=et.score(x_train,y_train)\n",
    "\n",
    "#predict\n",
    "pred_train=et.predict(x_train)\n",
    "pred_test=et.predict(x_test)\n",
    "\n",
    "#Checking Score and erros\n",
    "print(\"Train and Test r2 score\",r2_score(y_train,pred_train),\", \",r2_score(y_test,pred_test))\n",
    "print(\"Train and Test MSE score\",mean_squared_error(y_train,pred_train),\",\",mean_squared_error(y_test,pred_test))\n",
    "print(\"Train and test Absolute Error\",mean_absolute_error(y_train,pred_train),\",\",mean_absolute_error(y_test,pred_test))"
   ]
  },
  {
   "cell_type": "markdown",
   "id": "e2ad13d4",
   "metadata": {},
   "source": [
    "### Checking Cross Validation Score based on model "
   ]
  },
  {
   "cell_type": "code",
   "execution_count": 108,
   "id": "dd82d6f1",
   "metadata": {},
   "outputs": [
    {
     "name": "stdout",
     "output_type": "stream",
     "text": [
      "Cross fold 2 the cv_score 0.9845673874895311 and training_score is 0.9907026672013468 and testing_score is 0.9907026672013468\n",
      "Cross fold 3 the cv_score 0.9871665184347785 and training_score is 0.9907026672013468 and testing_score is 0.9907026672013468\n",
      "Cross fold 4 the cv_score 0.9879420845324123 and training_score is 0.9907026672013468 and testing_score is 0.9907026672013468\n",
      "Cross fold 5 the cv_score 0.9870701969322386 and training_score is 0.9907026672013468 and testing_score is 0.9907026672013468\n",
      "Cross fold 6 the cv_score 0.9880972194464346 and training_score is 0.9907026672013468 and testing_score is 0.9907026672013468\n",
      "Cross fold 7 the cv_score 0.988010654200859 and training_score is 0.9907026672013468 and testing_score is 0.9907026672013468\n",
      "Cross fold 8 the cv_score 0.9885454402569922 and training_score is 0.9907026672013468 and testing_score is 0.9907026672013468\n",
      "Cross fold 9 the cv_score 0.9873342327701862 and training_score is 0.9907026672013468 and testing_score is 0.9907026672013468\n"
     ]
    }
   ],
   "source": [
    "r2score_train=r2_score(y_test,pred_test) #score r2 train\n",
    "r2score_test=r2_score(y_test,pred_test)# score r2 test\n",
    "#checking cv score\n",
    "for i in range(2,10):\n",
    "    cv_score=cross_val_score(et,x,y,cv=i)\n",
    "    cv_mean=cv_score.mean()\n",
    "    \n",
    "    #checking cross validation, cross_val_mean with r2_score\n",
    "    \n",
    "    print(f\"Cross fold {i} the cv_score {cv_mean} and training_score is {r2score_train} and testing_score is {r2score_test}\")          "
   ]
  },
  {
   "cell_type": "markdown",
   "id": "1be80ac1",
   "metadata": {},
   "source": [
    "Allmost all the training score is approx 99 percentage with compare of testing score, we are selecting 3 as per perdictions with other models also"
   ]
  },
  {
   "cell_type": "markdown",
   "id": "3a6ec22f",
   "metadata": {},
   "source": [
    "### Checking Graph for the Model {ExtraTrees Model}"
   ]
  },
  {
   "cell_type": "code",
   "execution_count": 109,
   "id": "a28eefa3",
   "metadata": {},
   "outputs": [
    {
     "data": {
      "image/png": "[encoded data removed]",
      "text/plain": [
       "<Figure size 720x432 with 1 Axes>"
      ]
     },
     "metadata": {
      "needs_background": "light"
     },
     "output_type": "display_data"
    }
   ],
   "source": [
    "plt.figure(figsize=(10,6))\n",
    "plt.scatter(x=pred_test,y=y_test,color='red')\n",
    "plt.plot(pred_test,pred_test,color='black')\n",
    "plt.xlabel(\"Actual\",fontsize=14)\n",
    "plt.ylabel(\"predict\",fontsize=14)\n",
    "plt.title(\"Extra Trees Regressor\",fontsize=20)\n",
    "plt.savefig('et.png')\n",
    "plt.show()"
   ]
  },
  {
   "cell_type": "markdown",
   "id": "e79b6fa7",
   "metadata": {},
   "source": [
    "### Model Regularization"
   ]
  },
  {
   "cell_type": "code",
   "execution_count": 110,
   "id": "e745bd0e",
   "metadata": {},
   "outputs": [
    {
     "name": "stdout",
     "output_type": "stream",
     "text": [
      "{'alpha': 0.1, 'random_state': 0}\n"
     ]
    }
   ],
   "source": [
    "from sklearn.linear_model import Lasso\n",
    "\n",
    "parameters={'alpha':[.0001,.001,.01,.1,1,10],'random_state':list(range(0,10))}\n",
    "\n",
    "ls=Lasso()\n",
    "clf=GridSearchCV(ls,parameters)\n",
    "clf.fit(x_train,y_train)\n",
    "    \n",
    "print(clf.best_params_)"
   ]
  },
  {
   "cell_type": "code",
   "execution_count": 111,
   "id": "59598c49",
   "metadata": {},
   "outputs": [
    {
     "name": "stdout",
     "output_type": "stream",
     "text": [
      " Model Train Score 90.35292036334897\n"
     ]
    }
   ],
   "source": [
    "# final training\n",
    "ls=Lasso(alpha=0.1,random_state=0)\n",
    "ls.fit(x_train,y_train)\n",
    "ls_score_training=ls.score(x_train,y_train) # train\n",
    "\n",
    "print(\" Model Train Score\",ls_score_training*100)"
   ]
  },
  {
   "cell_type": "code",
   "execution_count": 112,
   "id": "6d98965d",
   "metadata": {},
   "outputs": [
    {
     "name": "stdout",
     "output_type": "stream",
     "text": [
      "Test R2 Score 0.9011953503758984\n",
      "Mean Score 0.9845673874895311\n"
     ]
    }
   ],
   "source": [
    "pred_ls=ls.predict(x_test)# predict\n",
    "lss = r2_score(y_test,pred_ls)\n",
    "\n",
    "print(\"Test R2 Score\",lss)# test score\n",
    "\n",
    "cv_score=cross_val_score(et,x,y,cv=2)\n",
    "cv_mean=cv_score.mean()\n",
    "print(\"Mean Score\",cv_mean)# mean Score"
   ]
  },
  {
   "cell_type": "markdown",
   "id": "e3c38964",
   "metadata": {},
   "source": [
    "# Hyper parameter tuning for Ada Boost"
   ]
  },
  {
   "cell_type": "code",
   "execution_count": 113,
   "id": "31284031",
   "metadata": {},
   "outputs": [
    {
     "name": "stdout",
     "output_type": "stream",
     "text": [
      "Best Score 0.9526124641322469  Best Parameters  {'learning_rate': 2.0, 'loss': 'exponential', 'n_estimators': 52}\n"
     ]
    }
   ],
   "source": [
    "from sklearn.ensemble import AdaBoostRegressor\n",
    "ada=AdaBoostRegressor()\n",
    "\n",
    "parameter={'learning_rate':[1.0,2.0,3.0,4.0,5.0,6.0],\n",
    "           'loss':['linear', 'square', 'exponential'],\n",
    "           'n_estimators':list(range(50,70))}\n",
    "\n",
    "gsv=GridSearchCV(ada,parameter)\n",
    "gsv.fit(x_train,y_train)\n",
    "\n",
    "print(\"Best Score\",gsv.best_score_,\" Best Parameters \",gsv.best_params_)"
   ]
  },
  {
   "cell_type": "markdown",
   "id": "4cc3bacb",
   "metadata": {},
   "source": [
    "### Model: Ada Boost"
   ]
  },
  {
   "cell_type": "code",
   "execution_count": 114,
   "id": "2e12ee6b",
   "metadata": {},
   "outputs": [
    {
     "name": "stdout",
     "output_type": "stream",
     "text": [
      "Train and Test r2 score 0.9796665982062589 ,  0.9650244722532398\n",
      "Train and Test MSE score 0.5606520313582432 , 0.8729125178608228\n",
      "Train and test Absolute Error 0.6233462107885481 , 0.7607157242984215\n"
     ]
    }
   ],
   "source": [
    "ada=AdaBoostRegressor(learning_rate=2.0,loss='exponential',n_estimators=57)\n",
    "ada.fit(x_train,y_train)\n",
    "\n",
    "#predict\n",
    "pred_train=ada.predict(x_train)\n",
    "pred_test=ada.predict(x_test)\n",
    "\n",
    "#error and score\n",
    "print(\"Train and Test r2 score\",r2_score(y_train,pred_train),\", \",r2_score(y_test,pred_test))\n",
    "print(\"Train and Test MSE score\",mean_squared_error(y_train,pred_train),\",\",mean_squared_error(y_test,pred_test))\n",
    "print(\"Train and test Absolute Error\",mean_absolute_error(y_train,pred_train),\",\",mean_absolute_error(y_test,pred_test))"
   ]
  },
  {
   "cell_type": "markdown",
   "id": "bb87c8c6",
   "metadata": {},
   "source": [
    "### Cross Validation Score (Ada Boost)"
   ]
  },
  {
   "cell_type": "code",
   "execution_count": 115,
   "id": "67dc2ab9",
   "metadata": {},
   "outputs": [
    {
     "name": "stdout",
     "output_type": "stream",
     "text": [
      "Cross fold 2 the cv_score 0.9501237577138819 and training_score is 0.9650244722532398 and testing_score is 0.9650244722532398\n",
      "Cross fold 3 the cv_score 0.9534415695870555 and training_score is 0.9650244722532398 and testing_score is 0.9650244722532398\n",
      "Cross fold 4 the cv_score 0.9563509240391616 and training_score is 0.9650244722532398 and testing_score is 0.9650244722532398\n",
      "Cross fold 5 the cv_score 0.9551924797706685 and training_score is 0.9650244722532398 and testing_score is 0.9650244722532398\n",
      "Cross fold 6 the cv_score 0.9619269171719882 and training_score is 0.9650244722532398 and testing_score is 0.9650244722532398\n",
      "Cross fold 7 the cv_score 0.9572788945931812 and training_score is 0.9650244722532398 and testing_score is 0.9650244722532398\n",
      "Cross fold 8 the cv_score 0.9538238515331251 and training_score is 0.9650244722532398 and testing_score is 0.9650244722532398\n",
      "Cross fold 9 the cv_score 0.9528769651536629 and training_score is 0.9650244722532398 and testing_score is 0.9650244722532398\n"
     ]
    }
   ],
   "source": [
    "r2score_train=r2_score(y_test,pred_test) #score r2 train\n",
    "r2score_test=r2_score(y_test,pred_test)# score r2 test\n",
    "#checking cv score\n",
    "for i in range(2,10):\n",
    "    cv_score=cross_val_score(ada,x,y,cv=i)\n",
    "    cv_mean=cv_score.mean()\n",
    "    \n",
    "    #checking cross validation, cross_val_mean with r2_score\n",
    "    \n",
    "    print(f\"Cross fold {i} the cv_score {cv_mean} and training_score is {r2score_train} and testing_score is {r2score_test}\")          "
   ]
  },
  {
   "cell_type": "markdown",
   "id": "d3cc66d4",
   "metadata": {},
   "source": [
    "### Graph Ploting\"Ada Boost\""
   ]
  },
  {
   "cell_type": "code",
   "execution_count": 116,
   "id": "160bf7d8",
   "metadata": {},
   "outputs": [
    {
     "data": {
      "image/png": "[encoded data removed]",
      "text/plain": [
       "<Figure size 720x432 with 1 Axes>"
      ]
     },
     "metadata": {
      "needs_background": "light"
     },
     "output_type": "display_data"
    }
   ],
   "source": [
    "plt.figure(figsize=(10,6))\n",
    "plt.scatter(x=pred_test,y=y_test,color='red')\n",
    "plt.plot(pred_test,pred_test,color='black')\n",
    "plt.xlabel(\"Actual\",fontsize=14)\n",
    "plt.ylabel(\"predict\",fontsize=14)\n",
    "plt.title(\"Ada Boost Regressor\",fontsize=20)\n",
    "plt.savefig('et.png')\n",
    "plt.show()"
   ]
  },
  {
   "cell_type": "markdown",
   "id": "b65aa7aa",
   "metadata": {},
   "source": [
    "# Hyper Parameter- Gradient Boosting "
   ]
  },
  {
   "cell_type": "code",
   "execution_count": 118,
   "id": "5b0ff154",
   "metadata": {},
   "outputs": [
    {
     "name": "stdout",
     "output_type": "stream",
     "text": [
      "Best Score 0.9716818226320114  Best Parameters  {'criterion': 'friedman_mse', 'learning_rate': 0.2, 'loss': 'absolute_error', 'validation_fraction': 0.8}\n"
     ]
    }
   ],
   "source": [
    "from sklearn.ensemble import GradientBoostingRegressor\n",
    "\n",
    "parameter={'loss':['squared_error','absolute_error', 'huber', 'quantile'],\n",
    "           'learning_rate':[0.1,0.2,0.3,0.4,0.5],\n",
    "          'criterion':['friedman_mse', 'squared_error', 'mse'],\n",
    "          'validation_fraction':[0.1,0.2,0.3,0.4,0.5,0.6,0.7,0.8,0.9,1]}\n",
    "                          \n",
    "gbr=GradientBoostingRegressor()\n",
    "gsv=GridSearchCV(gbr,parameter)\n",
    "gsv.fit(x_train,y_train)\n",
    "\n",
    "print(\"Best Score\",gsv.best_score_,\" Best Parameters \",gsv.best_params_)"
   ]
  },
  {
   "cell_type": "markdown",
   "id": "cf0c0b02",
   "metadata": {},
   "source": [
    "### Model: Gradient Boost"
   ]
  },
  {
   "cell_type": "code",
   "execution_count": 122,
   "id": "7096d487",
   "metadata": {},
   "outputs": [
    {
     "name": "stdout",
     "output_type": "stream",
     "text": [
      "Train and Test r2 score 0.994159902143707 ,  0.9650244722532398\n",
      "Train and Test MSE score 0.1610287722475173 , 0.8729125178608228\n",
      "Train and test Absolute Error 0.21395093875449245 , 0.7607157242984215\n"
     ]
    }
   ],
   "source": [
    "gbr=GradientBoostingRegressor(criterion='friedman_mse',learning_rate=0.2,loss='absolute_error',alpha=0.6,validation_fraction= 0.8)\n",
    "gbr.fit(x_train,y_train)\n",
    "\n",
    "gbr.score(x_train,y_train)# test score\n",
    "\n",
    "pred_train=gbr.predict(x_train)\n",
    "pred_dec=gbr.predict(x_test)\n",
    "\n",
    "#checking error and scores\n",
    "print(\"Train and Test r2 score\",r2_score(y_train,pred_train),\", \",r2_score(y_test,pred_test))\n",
    "print(\"Train and Test MSE score\",mean_squared_error(y_train,pred_train),\",\",mean_squared_error(y_test,pred_test))\n",
    "print(\"Train and test Absolute Error\",mean_absolute_error(y_train,pred_train),\",\",mean_absolute_error(y_test,pred_test))"
   ]
  },
  {
   "cell_type": "markdown",
   "id": "bf098ed5",
   "metadata": {},
   "source": [
    "### Cross Validation Gradient Boost"
   ]
  },
  {
   "cell_type": "code",
   "execution_count": 123,
   "id": "549fc467",
   "metadata": {},
   "outputs": [
    {
     "name": "stdout",
     "output_type": "stream",
     "text": [
      "Cross fold 2 the cv_score 0.9637756808406772 and training_score is 0.9650244722532398 and testing_score is 0.9650244722532398\n",
      "Cross fold 3 the cv_score 0.973602252488165 and training_score is 0.9650244722532398 and testing_score is 0.9650244722532398\n",
      "Cross fold 4 the cv_score 0.9723343352839754 and training_score is 0.9650244722532398 and testing_score is 0.9650244722532398\n",
      "Cross fold 5 the cv_score 0.9705971084294326 and training_score is 0.9650244722532398 and testing_score is 0.9650244722532398\n",
      "Cross fold 6 the cv_score 0.9719879265345303 and training_score is 0.9650244722532398 and testing_score is 0.9650244722532398\n",
      "Cross fold 7 the cv_score 0.9705964717402537 and training_score is 0.9650244722532398 and testing_score is 0.9650244722532398\n",
      "Cross fold 8 the cv_score 0.9677681732755189 and training_score is 0.9650244722532398 and testing_score is 0.9650244722532398\n",
      "Cross fold 9 the cv_score 0.9716535022434064 and training_score is 0.9650244722532398 and testing_score is 0.9650244722532398\n"
     ]
    }
   ],
   "source": [
    "r2score_train=r2_score(y_test,pred_test) #score r2 train\n",
    "r2score_test=r2_score(y_test,pred_test)# score r2 test\n",
    "#checking cv score\n",
    "for i in range(2,10):\n",
    "    cv_score=cross_val_score(gbr,x,y,cv=i)\n",
    "    cv_mean=cv_score.mean()\n",
    "    \n",
    "    #checking cross validation, cross_val_mean with r2_score\n",
    "    \n",
    "    print(f\"Cross fold {i} the cv_score {cv_mean} and training_score is {r2score_train} and testing_score is {r2score_test}\")          "
   ]
  },
  {
   "cell_type": "markdown",
   "id": "3a7698e9",
   "metadata": {},
   "source": [
    "### Graph Gradient Boost"
   ]
  },
  {
   "cell_type": "code",
   "execution_count": 124,
   "id": "cf3fa1db",
   "metadata": {},
   "outputs": [
    {
     "data": {
      "image/png": "[encoded data removed]",
      "text/plain": [
       "<Figure size 720x432 with 1 Axes>"
      ]
     },
     "metadata": {
      "needs_background": "light"
     },
     "output_type": "display_data"
    }
   ],
   "source": [
    "plt.figure(figsize=(10,6))\n",
    "plt.scatter(x=pred_test,y=y_test,color='red')\n",
    "plt.plot(pred_test,pred_test,color='black')\n",
    "plt.xlabel(\"Actual\",fontsize=14)\n",
    "plt.ylabel(\"predict\",fontsize=14)\n",
    "plt.title(\"Ada Boost Regressor\",fontsize=20)\n",
    "plt.savefig('et.png')\n",
    "plt.show()"
   ]
  },
  {
   "cell_type": "markdown",
   "id": "dcf1041f",
   "metadata": {},
   "source": [
    "## Saving Model"
   ]
  },
  {
   "cell_type": "code",
   "execution_count": 140,
   "id": "0882a23a",
   "metadata": {},
   "outputs": [],
   "source": [
    "import pickle\n",
    "filename='advertise.pkl'\n",
    "pickle.dump(et,open(filename,'wb'))"
   ]
  },
  {
   "cell_type": "code",
   "execution_count": 141,
   "id": "2ad500f0",
   "metadata": {},
   "outputs": [],
   "source": [
    "loaded_model=pickle.load(open('advertise.pkl','rb'))"
   ]
  },
  {
   "cell_type": "code",
   "execution_count": 142,
   "id": "88301f1c",
   "metadata": {},
   "outputs": [
    {
     "name": "stdout",
     "output_type": "stream",
     "text": [
      "99.07026672013468\n"
     ]
    }
   ],
   "source": [
    "result=loaded_model.score(x_test,y_test)\n",
    "print(result*100)"
   ]
  },
  {
   "cell_type": "code",
   "execution_count": 143,
   "id": "c95a7a11",
   "metadata": {},
   "outputs": [],
   "source": [
    "conclusion=pd.DataFrame([loaded_model.predict(x_test)[:],pred_test[:]],index=['Predicted','Original'])"
   ]
  },
  {
   "cell_type": "code",
   "execution_count": 144,
   "id": "9539dbd3",
   "metadata": {},
   "outputs": [
    {
     "data": {
      "text/html": [
       "<div>\n",
       "<style scoped>\n",
       "    .dataframe tbody tr th:only-of-type {\n",
       "        vertical-align: middle;\n",
       "    }\n",
       "\n",
       "    .dataframe tbody tr th {\n",
       "        vertical-align: top;\n",
       "    }\n",
       "\n",
       "    .dataframe thead th {\n",
       "        text-align: right;\n",
       "    }\n",
       "</style>\n",
       "<table border=\"1\" class=\"dataframe\">\n",
       "  <thead>\n",
       "    <tr style=\"text-align: right;\">\n",
       "      <th></th>\n",
       "      <th>0</th>\n",
       "      <th>1</th>\n",
       "      <th>2</th>\n",
       "      <th>3</th>\n",
       "      <th>4</th>\n",
       "      <th>5</th>\n",
       "      <th>6</th>\n",
       "      <th>7</th>\n",
       "      <th>8</th>\n",
       "      <th>9</th>\n",
       "      <th>...</th>\n",
       "      <th>50</th>\n",
       "      <th>51</th>\n",
       "      <th>52</th>\n",
       "      <th>53</th>\n",
       "      <th>54</th>\n",
       "      <th>55</th>\n",
       "      <th>56</th>\n",
       "      <th>57</th>\n",
       "      <th>58</th>\n",
       "      <th>59</th>\n",
       "    </tr>\n",
       "  </thead>\n",
       "  <tbody>\n",
       "    <tr>\n",
       "      <th>Predicted</th>\n",
       "      <td>9.234000</td>\n",
       "      <td>17.087000</td>\n",
       "      <td>21.008000</td>\n",
       "      <td>23.486000</td>\n",
       "      <td>10.90500</td>\n",
       "      <td>14.18500</td>\n",
       "      <td>10.885000</td>\n",
       "      <td>11.769000</td>\n",
       "      <td>11.634000</td>\n",
       "      <td>21.422000</td>\n",
       "      <td>...</td>\n",
       "      <td>12.237000</td>\n",
       "      <td>9.846000</td>\n",
       "      <td>14.565</td>\n",
       "      <td>17.247000</td>\n",
       "      <td>20.225000</td>\n",
       "      <td>8.382000</td>\n",
       "      <td>12.941000</td>\n",
       "      <td>11.358000</td>\n",
       "      <td>13.028000</td>\n",
       "      <td>18.07900</td>\n",
       "    </tr>\n",
       "    <tr>\n",
       "      <th>Original</th>\n",
       "      <td>10.581818</td>\n",
       "      <td>15.972727</td>\n",
       "      <td>20.731818</td>\n",
       "      <td>22.826667</td>\n",
       "      <td>9.65625</td>\n",
       "      <td>13.93125</td>\n",
       "      <td>10.391667</td>\n",
       "      <td>12.405882</td>\n",
       "      <td>10.947619</td>\n",
       "      <td>22.043902</td>\n",
       "      <td>...</td>\n",
       "      <td>12.940741</td>\n",
       "      <td>10.481818</td>\n",
       "      <td>14.425</td>\n",
       "      <td>16.528571</td>\n",
       "      <td>19.464286</td>\n",
       "      <td>8.185714</td>\n",
       "      <td>13.346667</td>\n",
       "      <td>10.391667</td>\n",
       "      <td>13.468966</td>\n",
       "      <td>18.51087</td>\n",
       "    </tr>\n",
       "  </tbody>\n",
       "</table>\n",
       "<p>2 rows × 60 columns</p>\n",
       "</div>"
      ],
      "text/plain": [
       "                  0          1          2          3         4         5   \\\n",
       "Predicted   9.234000  17.087000  21.008000  23.486000  10.90500  14.18500   \n",
       "Original   10.581818  15.972727  20.731818  22.826667   9.65625  13.93125   \n",
       "\n",
       "                  6          7          8          9   ...         50  \\\n",
       "Predicted  10.885000  11.769000  11.634000  21.422000  ...  12.237000   \n",
       "Original   10.391667  12.405882  10.947619  22.043902  ...  12.940741   \n",
       "\n",
       "                  51      52         53         54        55         56  \\\n",
       "Predicted   9.846000  14.565  17.247000  20.225000  8.382000  12.941000   \n",
       "Original   10.481818  14.425  16.528571  19.464286  8.185714  13.346667   \n",
       "\n",
       "                  57         58        59  \n",
       "Predicted  11.358000  13.028000  18.07900  \n",
       "Original   10.391667  13.468966  18.51087  \n",
       "\n",
       "[2 rows x 60 columns]"
      ]
     },
     "execution_count": 144,
     "metadata": {},
     "output_type": "execute_result"
    }
   ],
   "source": [
    "conclusion"
   ]
  },
  {
   "cell_type": "code",
   "execution_count": null,
   "id": "69161002",
   "metadata": {},
   "outputs": [],
   "source": []
  }
 ],
 "metadata": {
  "kernelspec": {
   "display_name": "Python 3 (ipykernel)",
   "language": "python",
   "name": "python3"
  },
  "language_info": {
   "codemirror_mode": {
    "name": "ipython",
    "version": 3
   },
   "file_extension": ".py",
   "mimetype": "text/x-python",
   "name": "python",
   "nbconvert_exporter": "python",
   "pygments_lexer": "ipython3",
   "version": "3.9.12"
  }
 },
 "nbformat": 4,
 "nbformat_minor": 5
}
