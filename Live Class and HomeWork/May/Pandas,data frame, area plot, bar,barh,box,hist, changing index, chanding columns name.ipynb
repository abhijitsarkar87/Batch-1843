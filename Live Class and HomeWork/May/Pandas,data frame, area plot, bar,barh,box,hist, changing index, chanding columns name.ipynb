{
 "cells": [
  {
   "cell_type": "code",
   "execution_count": 1,
   "id": "b05327e0",
   "metadata": {},
   "outputs": [],
   "source": [
    "import pandas as pd\n",
    "import numpy as np"
   ]
  },
  {
   "cell_type": "code",
   "execution_count": 2,
   "id": "4bea9e1a",
   "metadata": {},
   "outputs": [],
   "source": [
    "df=pd.DataFrame(np.random.randn(8,6),columns=['A','B','C','D','E','F'])"
   ]
  },
  {
   "cell_type": "code",
   "execution_count": 3,
   "id": "39892d5a",
   "metadata": {},
   "outputs": [
    {
     "data": {
      "text/html": [
       "<div>\n",
       "<style scoped>\n",
       "    .dataframe tbody tr th:only-of-type {\n",
       "        vertical-align: middle;\n",
       "    }\n",
       "\n",
       "    .dataframe tbody tr th {\n",
       "        vertical-align: top;\n",
       "    }\n",
       "\n",
       "    .dataframe thead th {\n",
       "        text-align: right;\n",
       "    }\n",
       "</style>\n",
       "<table border=\"1\" class=\"dataframe\">\n",
       "  <thead>\n",
       "    <tr style=\"text-align: right;\">\n",
       "      <th></th>\n",
       "      <th>A</th>\n",
       "      <th>B</th>\n",
       "      <th>C</th>\n",
       "      <th>D</th>\n",
       "      <th>E</th>\n",
       "      <th>F</th>\n",
       "    </tr>\n",
       "  </thead>\n",
       "  <tbody>\n",
       "    <tr>\n",
       "      <th>0</th>\n",
       "      <td>0.843701</td>\n",
       "      <td>-1.010507</td>\n",
       "      <td>-0.996181</td>\n",
       "      <td>0.557067</td>\n",
       "      <td>0.967828</td>\n",
       "      <td>0.959977</td>\n",
       "    </tr>\n",
       "    <tr>\n",
       "      <th>1</th>\n",
       "      <td>-0.910754</td>\n",
       "      <td>0.303559</td>\n",
       "      <td>0.124881</td>\n",
       "      <td>-0.410677</td>\n",
       "      <td>0.112101</td>\n",
       "      <td>0.463457</td>\n",
       "    </tr>\n",
       "    <tr>\n",
       "      <th>2</th>\n",
       "      <td>-0.777171</td>\n",
       "      <td>0.547080</td>\n",
       "      <td>-0.952494</td>\n",
       "      <td>0.495287</td>\n",
       "      <td>1.165711</td>\n",
       "      <td>0.686399</td>\n",
       "    </tr>\n",
       "    <tr>\n",
       "      <th>3</th>\n",
       "      <td>0.033371</td>\n",
       "      <td>-0.236353</td>\n",
       "      <td>-0.209671</td>\n",
       "      <td>0.759488</td>\n",
       "      <td>-0.843038</td>\n",
       "      <td>-2.528152</td>\n",
       "    </tr>\n",
       "    <tr>\n",
       "      <th>4</th>\n",
       "      <td>-1.492211</td>\n",
       "      <td>-0.639295</td>\n",
       "      <td>0.776849</td>\n",
       "      <td>0.062450</td>\n",
       "      <td>0.645124</td>\n",
       "      <td>-0.295456</td>\n",
       "    </tr>\n",
       "    <tr>\n",
       "      <th>5</th>\n",
       "      <td>0.329142</td>\n",
       "      <td>1.331724</td>\n",
       "      <td>-0.385766</td>\n",
       "      <td>-0.704965</td>\n",
       "      <td>0.291502</td>\n",
       "      <td>-2.908954</td>\n",
       "    </tr>\n",
       "    <tr>\n",
       "      <th>6</th>\n",
       "      <td>-0.970559</td>\n",
       "      <td>0.194524</td>\n",
       "      <td>-1.070202</td>\n",
       "      <td>0.169898</td>\n",
       "      <td>0.254893</td>\n",
       "      <td>-0.851344</td>\n",
       "    </tr>\n",
       "    <tr>\n",
       "      <th>7</th>\n",
       "      <td>1.470623</td>\n",
       "      <td>0.564593</td>\n",
       "      <td>0.119838</td>\n",
       "      <td>0.251193</td>\n",
       "      <td>0.767507</td>\n",
       "      <td>0.212078</td>\n",
       "    </tr>\n",
       "  </tbody>\n",
       "</table>\n",
       "</div>"
      ],
      "text/plain": [
       "          A         B         C         D         E         F\n",
       "0  0.843701 -1.010507 -0.996181  0.557067  0.967828  0.959977\n",
       "1 -0.910754  0.303559  0.124881 -0.410677  0.112101  0.463457\n",
       "2 -0.777171  0.547080 -0.952494  0.495287  1.165711  0.686399\n",
       "3  0.033371 -0.236353 -0.209671  0.759488 -0.843038 -2.528152\n",
       "4 -1.492211 -0.639295  0.776849  0.062450  0.645124 -0.295456\n",
       "5  0.329142  1.331724 -0.385766 -0.704965  0.291502 -2.908954\n",
       "6 -0.970559  0.194524 -1.070202  0.169898  0.254893 -0.851344\n",
       "7  1.470623  0.564593  0.119838  0.251193  0.767507  0.212078"
      ]
     },
     "execution_count": 3,
     "metadata": {},
     "output_type": "execute_result"
    }
   ],
   "source": [
    "df"
   ]
  },
  {
   "cell_type": "code",
   "execution_count": 4,
   "id": "5b47cf5b",
   "metadata": {},
   "outputs": [
    {
     "name": "stdout",
     "output_type": "stream",
     "text": [
      "          A         D\n",
      "0  0.843701  0.557067\n",
      "1 -0.910754 -0.410677\n",
      "2 -0.777171  0.495287\n",
      "3  0.033371  0.759488\n",
      "4 -1.492211  0.062450\n",
      "5  0.329142 -0.704965\n",
      "6 -0.970559  0.169898\n",
      "7  1.470623  0.251193\n"
     ]
    }
   ],
   "source": [
    "print(df.loc[0:7,['A','D']])"
   ]
  },
  {
   "cell_type": "code",
   "execution_count": 5,
   "id": "25a50ed0",
   "metadata": {},
   "outputs": [],
   "source": [
    "import pandas as pd\n",
    "import numpy as np"
   ]
  },
  {
   "cell_type": "code",
   "execution_count": 6,
   "id": "0f5e09e5",
   "metadata": {},
   "outputs": [
    {
     "data": {
      "text/html": [
       "<div>\n",
       "<style scoped>\n",
       "    .dataframe tbody tr th:only-of-type {\n",
       "        vertical-align: middle;\n",
       "    }\n",
       "\n",
       "    .dataframe tbody tr th {\n",
       "        vertical-align: top;\n",
       "    }\n",
       "\n",
       "    .dataframe thead th {\n",
       "        text-align: right;\n",
       "    }\n",
       "</style>\n",
       "<table border=\"1\" class=\"dataframe\">\n",
       "  <thead>\n",
       "    <tr style=\"text-align: right;\">\n",
       "      <th></th>\n",
       "      <th>a</th>\n",
       "      <th>b</th>\n",
       "      <th>c</th>\n",
       "      <th>d</th>\n",
       "    </tr>\n",
       "  </thead>\n",
       "  <tbody>\n",
       "    <tr>\n",
       "      <th>0</th>\n",
       "      <td>-0.408679</td>\n",
       "      <td>-1.456524</td>\n",
       "      <td>-0.187258</td>\n",
       "      <td>-2.337003</td>\n",
       "    </tr>\n",
       "    <tr>\n",
       "      <th>1</th>\n",
       "      <td>-0.621236</td>\n",
       "      <td>0.872501</td>\n",
       "      <td>-0.596885</td>\n",
       "      <td>0.039237</td>\n",
       "    </tr>\n",
       "    <tr>\n",
       "      <th>2</th>\n",
       "      <td>-1.386722</td>\n",
       "      <td>0.430091</td>\n",
       "      <td>0.833815</td>\n",
       "      <td>1.152130</td>\n",
       "    </tr>\n",
       "    <tr>\n",
       "      <th>3</th>\n",
       "      <td>-0.216066</td>\n",
       "      <td>0.530330</td>\n",
       "      <td>0.808739</td>\n",
       "      <td>2.858647</td>\n",
       "    </tr>\n",
       "    <tr>\n",
       "      <th>4</th>\n",
       "      <td>0.639863</td>\n",
       "      <td>-0.741198</td>\n",
       "      <td>0.603926</td>\n",
       "      <td>0.883438</td>\n",
       "    </tr>\n",
       "    <tr>\n",
       "      <th>5</th>\n",
       "      <td>-1.028087</td>\n",
       "      <td>1.252682</td>\n",
       "      <td>-2.046835</td>\n",
       "      <td>0.193138</td>\n",
       "    </tr>\n",
       "    <tr>\n",
       "      <th>6</th>\n",
       "      <td>0.912381</td>\n",
       "      <td>-0.357805</td>\n",
       "      <td>-0.490510</td>\n",
       "      <td>0.040239</td>\n",
       "    </tr>\n",
       "    <tr>\n",
       "      <th>7</th>\n",
       "      <td>1.191834</td>\n",
       "      <td>1.126595</td>\n",
       "      <td>1.295858</td>\n",
       "      <td>0.331069</td>\n",
       "    </tr>\n",
       "  </tbody>\n",
       "</table>\n",
       "</div>"
      ],
      "text/plain": [
       "          a         b         c         d\n",
       "0 -0.408679 -1.456524 -0.187258 -2.337003\n",
       "1 -0.621236  0.872501 -0.596885  0.039237\n",
       "2 -1.386722  0.430091  0.833815  1.152130\n",
       "3 -0.216066  0.530330  0.808739  2.858647\n",
       "4  0.639863 -0.741198  0.603926  0.883438\n",
       "5 -1.028087  1.252682 -2.046835  0.193138\n",
       "6  0.912381 -0.357805 -0.490510  0.040239\n",
       "7  1.191834  1.126595  1.295858  0.331069"
      ]
     },
     "execution_count": 6,
     "metadata": {},
     "output_type": "execute_result"
    }
   ],
   "source": [
    "df=pd.DataFrame(np.random.randn(8,4),columns=['a','b','c','d'])\n",
    "df"
   ]
  },
  {
   "cell_type": "code",
   "execution_count": 7,
   "id": "c2342481",
   "metadata": {},
   "outputs": [
    {
     "name": "stdout",
     "output_type": "stream",
     "text": [
      "          a         d\n",
      "0 -0.408679 -2.337003\n",
      "1 -0.621236  0.039237\n",
      "2 -1.386722  1.152130\n",
      "3 -0.216066  2.858647\n",
      "4  0.639863  0.883438\n"
     ]
    }
   ],
   "source": [
    "print(df.loc[0:4,['a','d']])"
   ]
  },
  {
   "cell_type": "code",
   "execution_count": 8,
   "id": "a694429e",
   "metadata": {},
   "outputs": [
    {
     "name": "stdout",
     "output_type": "stream",
     "text": [
      "          a         b         c         d\n",
      "0 -0.408679 -1.456524 -0.187258 -2.337003\n",
      "1 -0.621236  0.872501 -0.596885  0.039237\n",
      "2 -1.386722  0.430091  0.833815  1.152130\n",
      "3 -0.216066  0.530330  0.808739  2.858647\n",
      "4  0.639863 -0.741198  0.603926  0.883438\n",
      "5 -1.028087  1.252682 -2.046835  0.193138\n",
      "6  0.912381 -0.357805 -0.490510  0.040239\n",
      "7  1.191834  1.126595  1.295858  0.331069\n"
     ]
    }
   ],
   "source": [
    "print(df.iloc[0:,:])"
   ]
  },
  {
   "cell_type": "code",
   "execution_count": 9,
   "id": "2bb200ce",
   "metadata": {},
   "outputs": [
    {
     "name": "stdout",
     "output_type": "stream",
     "text": [
      "          a         b\n",
      "0 -0.408679 -1.456524\n",
      "1 -0.621236  0.872501\n",
      "2 -1.386722  0.430091\n",
      "3 -0.216066  0.530330\n",
      "4  0.639863 -0.741198\n",
      "5 -1.028087  1.252682\n",
      "6  0.912381 -0.357805\n",
      "7  1.191834  1.126595\n"
     ]
    }
   ],
   "source": [
    "print(df.iloc[:,0:2])"
   ]
  },
  {
   "cell_type": "code",
   "execution_count": 10,
   "id": "b05c1f87",
   "metadata": {},
   "outputs": [
    {
     "name": "stdout",
     "output_type": "stream",
     "text": [
      "          a         b         c         d\n",
      "2 -1.386722  0.430091  0.833815  1.152130\n",
      "3 -0.216066  0.530330  0.808739  2.858647\n",
      "4  0.639863 -0.741198  0.603926  0.883438\n",
      "5 -1.028087  1.252682 -2.046835  0.193138\n"
     ]
    }
   ],
   "source": [
    "print(df.iloc[2:6,:])"
   ]
  },
  {
   "cell_type": "code",
   "execution_count": 11,
   "id": "2ba99b1d",
   "metadata": {},
   "outputs": [],
   "source": [
    "df=pd.DataFrame(np.random.randn(5,4),index=['f','i','r','s','t'])"
   ]
  },
  {
   "cell_type": "code",
   "execution_count": 12,
   "id": "232766af",
   "metadata": {},
   "outputs": [
    {
     "data": {
      "text/html": [
       "<div>\n",
       "<style scoped>\n",
       "    .dataframe tbody tr th:only-of-type {\n",
       "        vertical-align: middle;\n",
       "    }\n",
       "\n",
       "    .dataframe tbody tr th {\n",
       "        vertical-align: top;\n",
       "    }\n",
       "\n",
       "    .dataframe thead th {\n",
       "        text-align: right;\n",
       "    }\n",
       "</style>\n",
       "<table border=\"1\" class=\"dataframe\">\n",
       "  <thead>\n",
       "    <tr style=\"text-align: right;\">\n",
       "      <th></th>\n",
       "      <th>0</th>\n",
       "      <th>1</th>\n",
       "      <th>2</th>\n",
       "      <th>3</th>\n",
       "    </tr>\n",
       "  </thead>\n",
       "  <tbody>\n",
       "    <tr>\n",
       "      <th>f</th>\n",
       "      <td>1.736137</td>\n",
       "      <td>0.884509</td>\n",
       "      <td>-0.693703</td>\n",
       "      <td>-1.557225</td>\n",
       "    </tr>\n",
       "    <tr>\n",
       "      <th>i</th>\n",
       "      <td>0.162237</td>\n",
       "      <td>-1.146864</td>\n",
       "      <td>0.214102</td>\n",
       "      <td>-1.114891</td>\n",
       "    </tr>\n",
       "    <tr>\n",
       "      <th>r</th>\n",
       "      <td>-0.576682</td>\n",
       "      <td>-1.882462</td>\n",
       "      <td>-0.514709</td>\n",
       "      <td>0.932607</td>\n",
       "    </tr>\n",
       "    <tr>\n",
       "      <th>s</th>\n",
       "      <td>1.345062</td>\n",
       "      <td>0.875442</td>\n",
       "      <td>-0.729127</td>\n",
       "      <td>-0.268368</td>\n",
       "    </tr>\n",
       "    <tr>\n",
       "      <th>t</th>\n",
       "      <td>0.731584</td>\n",
       "      <td>-0.744325</td>\n",
       "      <td>-1.220495</td>\n",
       "      <td>0.692497</td>\n",
       "    </tr>\n",
       "  </tbody>\n",
       "</table>\n",
       "</div>"
      ],
      "text/plain": [
       "          0         1         2         3\n",
       "f  1.736137  0.884509 -0.693703 -1.557225\n",
       "i  0.162237 -1.146864  0.214102 -1.114891\n",
       "r -0.576682 -1.882462 -0.514709  0.932607\n",
       "s  1.345062  0.875442 -0.729127 -0.268368\n",
       "t  0.731584 -0.744325 -1.220495  0.692497"
      ]
     },
     "execution_count": 12,
     "metadata": {},
     "output_type": "execute_result"
    }
   ],
   "source": [
    "df"
   ]
  },
  {
   "cell_type": "code",
   "execution_count": 13,
   "id": "98d3d192",
   "metadata": {},
   "outputs": [
    {
     "name": "stdout",
     "output_type": "stream",
     "text": [
      "          2         3\n",
      "f -0.693703 -1.557225\n",
      "i  0.214102 -1.114891\n",
      "r -0.514709  0.932607\n"
     ]
    }
   ],
   "source": [
    "print(df.iloc[:3,2:])"
   ]
  },
  {
   "cell_type": "code",
   "execution_count": 14,
   "id": "65258235",
   "metadata": {},
   "outputs": [
    {
     "name": "stdout",
     "output_type": "stream",
     "text": [
      "          0         2\n",
      "f  1.736137 -0.693703\n",
      "i  0.162237  0.214102\n",
      "r -0.576682 -0.514709\n",
      "s  1.345062 -0.729127\n",
      "t  0.731584 -1.220495\n"
     ]
    }
   ],
   "source": [
    "print(df.loc['f':'t',[0,2]])"
   ]
  },
  {
   "cell_type": "markdown",
   "id": "6f9f7172",
   "metadata": {},
   "source": [
    "# NEGATIVE INDEXING"
   ]
  },
  {
   "cell_type": "code",
   "execution_count": 15,
   "id": "1e92b49c",
   "metadata": {},
   "outputs": [
    {
     "data": {
      "text/html": [
       "<div>\n",
       "<style scoped>\n",
       "    .dataframe tbody tr th:only-of-type {\n",
       "        vertical-align: middle;\n",
       "    }\n",
       "\n",
       "    .dataframe tbody tr th {\n",
       "        vertical-align: top;\n",
       "    }\n",
       "\n",
       "    .dataframe thead th {\n",
       "        text-align: right;\n",
       "    }\n",
       "</style>\n",
       "<table border=\"1\" class=\"dataframe\">\n",
       "  <thead>\n",
       "    <tr style=\"text-align: right;\">\n",
       "      <th></th>\n",
       "      <th>0</th>\n",
       "      <th>1</th>\n",
       "      <th>2</th>\n",
       "      <th>3</th>\n",
       "    </tr>\n",
       "  </thead>\n",
       "  <tbody>\n",
       "    <tr>\n",
       "      <th>0</th>\n",
       "      <td>1.061832</td>\n",
       "      <td>0.397842</td>\n",
       "      <td>-1.010868</td>\n",
       "      <td>-0.918099</td>\n",
       "    </tr>\n",
       "    <tr>\n",
       "      <th>1</th>\n",
       "      <td>-1.140490</td>\n",
       "      <td>0.489540</td>\n",
       "      <td>-0.801594</td>\n",
       "      <td>2.587979</td>\n",
       "    </tr>\n",
       "    <tr>\n",
       "      <th>2</th>\n",
       "      <td>0.237986</td>\n",
       "      <td>-0.737151</td>\n",
       "      <td>0.059700</td>\n",
       "      <td>-0.912331</td>\n",
       "    </tr>\n",
       "    <tr>\n",
       "      <th>3</th>\n",
       "      <td>-0.282053</td>\n",
       "      <td>1.193090</td>\n",
       "      <td>0.075823</td>\n",
       "      <td>-0.565545</td>\n",
       "    </tr>\n",
       "    <tr>\n",
       "      <th>4</th>\n",
       "      <td>1.335220</td>\n",
       "      <td>1.142075</td>\n",
       "      <td>0.261908</td>\n",
       "      <td>1.202573</td>\n",
       "    </tr>\n",
       "    <tr>\n",
       "      <th>5</th>\n",
       "      <td>-0.025698</td>\n",
       "      <td>-0.296390</td>\n",
       "      <td>1.009931</td>\n",
       "      <td>-1.802474</td>\n",
       "    </tr>\n",
       "    <tr>\n",
       "      <th>6</th>\n",
       "      <td>0.895676</td>\n",
       "      <td>-0.370839</td>\n",
       "      <td>-0.644237</td>\n",
       "      <td>-1.065384</td>\n",
       "    </tr>\n",
       "    <tr>\n",
       "      <th>7</th>\n",
       "      <td>0.371724</td>\n",
       "      <td>-0.883420</td>\n",
       "      <td>0.397333</td>\n",
       "      <td>0.072615</td>\n",
       "    </tr>\n",
       "  </tbody>\n",
       "</table>\n",
       "</div>"
      ],
      "text/plain": [
       "          0         1         2         3\n",
       "0  1.061832  0.397842 -1.010868 -0.918099\n",
       "1 -1.140490  0.489540 -0.801594  2.587979\n",
       "2  0.237986 -0.737151  0.059700 -0.912331\n",
       "3 -0.282053  1.193090  0.075823 -0.565545\n",
       "4  1.335220  1.142075  0.261908  1.202573\n",
       "5 -0.025698 -0.296390  1.009931 -1.802474\n",
       "6  0.895676 -0.370839 -0.644237 -1.065384\n",
       "7  0.371724 -0.883420  0.397333  0.072615"
      ]
     },
     "execution_count": 15,
     "metadata": {},
     "output_type": "execute_result"
    }
   ],
   "source": [
    "df=pd.DataFrame(np.random.randn(8,4),dtype=float)\n",
    "df"
   ]
  },
  {
   "cell_type": "code",
   "execution_count": 16,
   "id": "9f4013ea",
   "metadata": {},
   "outputs": [
    {
     "name": "stdout",
     "output_type": "stream",
     "text": [
      "          1\n",
      "1  0.489540\n",
      "2 -0.737151\n",
      "3  1.193090\n",
      "4  1.142075\n",
      "5 -0.296390\n",
      "6 -0.370839\n"
     ]
    }
   ],
   "source": [
    "print(df.iloc[1:7,-3:-2])"
   ]
  },
  {
   "cell_type": "code",
   "execution_count": 17,
   "id": "1e5a3a65",
   "metadata": {},
   "outputs": [
    {
     "name": "stdout",
     "output_type": "stream",
     "text": [
      "          0        1         2         3\n",
      "7  0.371724 -0.88342  0.397333  0.072615\n"
     ]
    }
   ],
   "source": [
    "print(df.iloc[7:,-4:])"
   ]
  },
  {
   "cell_type": "code",
   "execution_count": 18,
   "id": "2fc5bd49",
   "metadata": {},
   "outputs": [
    {
     "name": "stdout",
     "output_type": "stream",
     "text": [
      "          1         2         3\n",
      "6 -0.370839 -0.644237 -1.065384\n",
      "7 -0.883420  0.397333  0.072615\n"
     ]
    }
   ],
   "source": [
    "print(df.iloc[6:,-3:])"
   ]
  },
  {
   "cell_type": "code",
   "execution_count": 19,
   "id": "94d15cdb",
   "metadata": {},
   "outputs": [
    {
     "name": "stdout",
     "output_type": "stream",
     "text": [
      "          0         1         2\n",
      "3 -0.282053  1.193090  0.075823\n",
      "4  1.335220  1.142075  0.261908\n",
      "5 -0.025698 -0.296390  1.009931\n"
     ]
    }
   ],
   "source": [
    "print(df.iloc[3:6,-4:-1])"
   ]
  },
  {
   "cell_type": "markdown",
   "id": "540cfd10",
   "metadata": {},
   "source": [
    "# PANDAS VISUALIZATION"
   ]
  },
  {
   "cell_type": "markdown",
   "id": "c2dca5b4",
   "metadata": {},
   "source": [
    "These methords can be provided as the kind keyword argument to plot(),these include-"
   ]
  },
  {
   "cell_type": "code",
   "execution_count": 20,
   "id": "a2dc24c3",
   "metadata": {},
   "outputs": [
    {
     "data": {
      "text/plain": [
       "\"\\nBAR or barh for bar plots\\nHist for histogram\\nBox for Boxplot\\n'Area' for area plots\\n'Scatter' for scatter plots\\n\""
      ]
     },
     "execution_count": 20,
     "metadata": {},
     "output_type": "execute_result"
    }
   ],
   "source": [
    "\"\"\"\n",
    "BAR or barh for bar plots\n",
    "Hist for histogram\n",
    "Box for Boxplot\n",
    "'Area' for area plots\n",
    "'Scatter' for scatter plots\n",
    "\"\"\""
   ]
  },
  {
   "cell_type": "code",
   "execution_count": 21,
   "id": "5001747e",
   "metadata": {},
   "outputs": [],
   "source": [
    "import pandas as pd\n",
    "import numpy as np"
   ]
  },
  {
   "cell_type": "code",
   "execution_count": 22,
   "id": "575975ff",
   "metadata": {},
   "outputs": [
    {
     "name": "stdout",
     "output_type": "stream",
     "text": [
      "          a         b         c         d\n",
      "0 -1.489524  0.316671 -0.186481  0.098500\n",
      "1  0.125762  2.170783 -0.812836  0.626582\n",
      "2  1.092443 -1.371210 -1.191130  1.400230\n",
      "3 -0.461881  0.946863 -0.439489 -0.031907\n",
      "4  0.590381 -2.432739  0.199938 -0.121642\n",
      "5  0.690415 -0.015321  0.124262  0.666266\n",
      "6 -1.388522  0.820395 -1.488397  0.646330\n",
      "7  1.897009  0.310871  1.715521  1.123754\n"
     ]
    }
   ],
   "source": [
    "# creating numpy random data table in data frame  \n",
    "\n",
    "df1=pd.DataFrame(np.random.randn(8,4),columns=['a','b','c','d'])\n",
    "print(df1)"
   ]
  },
  {
   "cell_type": "code",
   "execution_count": 23,
   "id": "5f23b2a7",
   "metadata": {},
   "outputs": [
    {
     "data": {
      "text/plain": [
       "<AxesSubplot:>"
      ]
     },
     "execution_count": 23,
     "metadata": {},
     "output_type": "execute_result"
    },
    {
     "data": {
      "image/png": "[encoded data removed]",
      "text/plain": [
       "<Figure size 432x288 with 1 Axes>"
      ]
     },
     "metadata": {
      "needs_background": "light"
     },
     "output_type": "display_data"
    }
   ],
   "source": [
    "# ploting the same df in bar\n",
    "\n",
    "df1.plot.bar()"
   ]
  },
  {
   "cell_type": "markdown",
   "id": "39a25884",
   "metadata": {},
   "source": [
    "#TO CREATE HORIZONTAL BAR PLOTS, use the Barh function ((barh where h is horizontal)"
   ]
  },
  {
   "cell_type": "code",
   "execution_count": 24,
   "id": "508314f3",
   "metadata": {},
   "outputs": [
    {
     "data": {
      "text/plain": [
       "<AxesSubplot:>"
      ]
     },
     "execution_count": 24,
     "metadata": {},
     "output_type": "execute_result"
    },
    {
     "data": {
      "image/png": "[encoded data removed]",
      "text/plain": [
       "<Figure size 432x288 with 1 Axes>"
      ]
     },
     "metadata": {
      "needs_background": "light"
     },
     "output_type": "display_data"
    }
   ],
   "source": [
    "df.plot.barh(stacked=True)"
   ]
  },
  {
   "cell_type": "code",
   "execution_count": 25,
   "id": "7b142c68",
   "metadata": {
    "scrolled": true
   },
   "outputs": [
    {
     "data": {
      "text/plain": [
       "<AxesSubplot:>"
      ]
     },
     "execution_count": 25,
     "metadata": {},
     "output_type": "execute_result"
    },
    {
     "data": {
      "image/png": "[encoded data removed]",
      "text/plain": [
       "<Figure size 432x288 with 1 Axes>"
      ]
     },
     "metadata": {
      "needs_background": "light"
     },
     "output_type": "display_data"
    }
   ],
   "source": [
    "\"TO CREATE HORIZONTAL BAR PLOTS, use the Bar function\"\n",
    "\n",
    "df.plot.bar(stacked=True)"
   ]
  },
  {
   "cell_type": "code",
   "execution_count": 26,
   "id": "f8d88a8f",
   "metadata": {},
   "outputs": [
    {
     "data": {
      "text/plain": [
       "'HISTOGRAM CAN BE PLOTTED USING THE hist()methord. we can specify number of bins'"
      ]
     },
     "execution_count": 26,
     "metadata": {},
     "output_type": "execute_result"
    }
   ],
   "source": [
    "\"HISTOGRAM CAN BE PLOTTED USING THE hist()methord. we can specify number of bins\""
   ]
  },
  {
   "cell_type": "code",
   "execution_count": 27,
   "id": "3cb22301",
   "metadata": {},
   "outputs": [
    {
     "data": {
      "text/plain": [
       "'Histogram is used to collection information of frequency'"
      ]
     },
     "execution_count": 27,
     "metadata": {},
     "output_type": "execute_result"
    },
    {
     "data": {
      "image/png": "[encoded data removed]",
      "text/plain": [
       "<Figure size 432x288 with 1 Axes>"
      ]
     },
     "metadata": {
      "needs_background": "light"
     },
     "output_type": "display_data"
    }
   ],
   "source": [
    "df.plot.hist()\n",
    "\n",
    "\"Histogram is used to collection information of frequency\""
   ]
  },
  {
   "cell_type": "code",
   "execution_count": 28,
   "id": "b509c12b",
   "metadata": {},
   "outputs": [],
   "source": [
    "import pandas as pd\n",
    "import numpy as np"
   ]
  },
  {
   "cell_type": "code",
   "execution_count": 29,
   "id": "97465843",
   "metadata": {},
   "outputs": [],
   "source": [
    "df=pd.DataFrame(np.random.randn(10,4),columns=['a','b','c','d'])"
   ]
  },
  {
   "cell_type": "code",
   "execution_count": 30,
   "id": "1fdfc2c5",
   "metadata": {},
   "outputs": [
    {
     "data": {
      "text/html": [
       "<div>\n",
       "<style scoped>\n",
       "    .dataframe tbody tr th:only-of-type {\n",
       "        vertical-align: middle;\n",
       "    }\n",
       "\n",
       "    .dataframe tbody tr th {\n",
       "        vertical-align: top;\n",
       "    }\n",
       "\n",
       "    .dataframe thead th {\n",
       "        text-align: right;\n",
       "    }\n",
       "</style>\n",
       "<table border=\"1\" class=\"dataframe\">\n",
       "  <thead>\n",
       "    <tr style=\"text-align: right;\">\n",
       "      <th></th>\n",
       "      <th>a</th>\n",
       "      <th>b</th>\n",
       "      <th>c</th>\n",
       "      <th>d</th>\n",
       "    </tr>\n",
       "  </thead>\n",
       "  <tbody>\n",
       "    <tr>\n",
       "      <th>0</th>\n",
       "      <td>-0.898821</td>\n",
       "      <td>0.669132</td>\n",
       "      <td>-0.183061</td>\n",
       "      <td>-0.294127</td>\n",
       "    </tr>\n",
       "    <tr>\n",
       "      <th>1</th>\n",
       "      <td>-0.715460</td>\n",
       "      <td>-1.040327</td>\n",
       "      <td>-0.614045</td>\n",
       "      <td>-0.472146</td>\n",
       "    </tr>\n",
       "    <tr>\n",
       "      <th>2</th>\n",
       "      <td>-0.987048</td>\n",
       "      <td>-0.090031</td>\n",
       "      <td>0.324339</td>\n",
       "      <td>-1.363280</td>\n",
       "    </tr>\n",
       "    <tr>\n",
       "      <th>3</th>\n",
       "      <td>1.538516</td>\n",
       "      <td>-0.746399</td>\n",
       "      <td>-0.007420</td>\n",
       "      <td>-0.253945</td>\n",
       "    </tr>\n",
       "    <tr>\n",
       "      <th>4</th>\n",
       "      <td>-0.524531</td>\n",
       "      <td>2.168836</td>\n",
       "      <td>-1.153352</td>\n",
       "      <td>-0.416073</td>\n",
       "    </tr>\n",
       "    <tr>\n",
       "      <th>5</th>\n",
       "      <td>0.403307</td>\n",
       "      <td>1.271054</td>\n",
       "      <td>0.533993</td>\n",
       "      <td>-1.604974</td>\n",
       "    </tr>\n",
       "    <tr>\n",
       "      <th>6</th>\n",
       "      <td>0.643060</td>\n",
       "      <td>0.592590</td>\n",
       "      <td>-0.035304</td>\n",
       "      <td>0.409019</td>\n",
       "    </tr>\n",
       "    <tr>\n",
       "      <th>7</th>\n",
       "      <td>-0.903291</td>\n",
       "      <td>-0.242603</td>\n",
       "      <td>-1.767515</td>\n",
       "      <td>0.287868</td>\n",
       "    </tr>\n",
       "    <tr>\n",
       "      <th>8</th>\n",
       "      <td>-1.486288</td>\n",
       "      <td>-1.295777</td>\n",
       "      <td>-0.367683</td>\n",
       "      <td>-1.224233</td>\n",
       "    </tr>\n",
       "    <tr>\n",
       "      <th>9</th>\n",
       "      <td>0.865030</td>\n",
       "      <td>-0.029403</td>\n",
       "      <td>-2.698375</td>\n",
       "      <td>1.085757</td>\n",
       "    </tr>\n",
       "  </tbody>\n",
       "</table>\n",
       "</div>"
      ],
      "text/plain": [
       "          a         b         c         d\n",
       "0 -0.898821  0.669132 -0.183061 -0.294127\n",
       "1 -0.715460 -1.040327 -0.614045 -0.472146\n",
       "2 -0.987048 -0.090031  0.324339 -1.363280\n",
       "3  1.538516 -0.746399 -0.007420 -0.253945\n",
       "4 -0.524531  2.168836 -1.153352 -0.416073\n",
       "5  0.403307  1.271054  0.533993 -1.604974\n",
       "6  0.643060  0.592590 -0.035304  0.409019\n",
       "7 -0.903291 -0.242603 -1.767515  0.287868\n",
       "8 -1.486288 -1.295777 -0.367683 -1.224233\n",
       "9  0.865030 -0.029403 -2.698375  1.085757"
      ]
     },
     "execution_count": 30,
     "metadata": {},
     "output_type": "execute_result"
    }
   ],
   "source": [
    "df"
   ]
  },
  {
   "cell_type": "code",
   "execution_count": 31,
   "id": "64ad161b",
   "metadata": {},
   "outputs": [
    {
     "data": {
      "text/plain": [
       "<AxesSubplot:>"
      ]
     },
     "execution_count": 31,
     "metadata": {},
     "output_type": "execute_result"
    },
    {
     "data": {
      "image/png": "[encoded data removed]",
      "text/plain": [
       "<Figure size 432x288 with 1 Axes>"
      ]
     },
     "metadata": {
      "needs_background": "light"
     },
     "output_type": "display_data"
    }
   ],
   "source": [
    "df.plot.bar(stacked=True)"
   ]
  },
  {
   "cell_type": "code",
   "execution_count": 32,
   "id": "2bd2ded8",
   "metadata": {},
   "outputs": [
    {
     "data": {
      "text/plain": [
       "<AxesSubplot:>"
      ]
     },
     "execution_count": 32,
     "metadata": {},
     "output_type": "execute_result"
    },
    {
     "data": {
      "image/png": "[encoded data removed]",
      "text/plain": [
       "<Figure size 432x288 with 1 Axes>"
      ]
     },
     "metadata": {
      "needs_background": "light"
     },
     "output_type": "display_data"
    }
   ],
   "source": [
    "df.plot.barh(stacked=True)"
   ]
  },
  {
   "cell_type": "code",
   "execution_count": 33,
   "id": "8d1d7d98",
   "metadata": {},
   "outputs": [
    {
     "data": {
      "text/plain": [
       "<AxesSubplot:ylabel='Frequency'>"
      ]
     },
     "execution_count": 33,
     "metadata": {},
     "output_type": "execute_result"
    },
    {
     "data": {
      "image/png": "[encoded data removed]",
      "text/plain": [
       "<Figure size 432x288 with 1 Axes>"
      ]
     },
     "metadata": {
      "needs_background": "light"
     },
     "output_type": "display_data"
    }
   ],
   "source": [
    "df.plot.hist(stacked=True)"
   ]
  },
  {
   "cell_type": "code",
   "execution_count": 34,
   "id": "5cbcdf51",
   "metadata": {},
   "outputs": [],
   "source": [
    "import pandas as pd\n",
    "import numpy as np"
   ]
  },
  {
   "cell_type": "code",
   "execution_count": 35,
   "id": "a07e9b84",
   "metadata": {},
   "outputs": [
    {
     "data": {
      "text/html": [
       "<div>\n",
       "<style scoped>\n",
       "    .dataframe tbody tr th:only-of-type {\n",
       "        vertical-align: middle;\n",
       "    }\n",
       "\n",
       "    .dataframe tbody tr th {\n",
       "        vertical-align: top;\n",
       "    }\n",
       "\n",
       "    .dataframe thead th {\n",
       "        text-align: right;\n",
       "    }\n",
       "</style>\n",
       "<table border=\"1\" class=\"dataframe\">\n",
       "  <thead>\n",
       "    <tr style=\"text-align: right;\">\n",
       "      <th></th>\n",
       "      <th>a</th>\n",
       "      <th>b</th>\n",
       "      <th>c</th>\n",
       "      <th>d</th>\n",
       "    </tr>\n",
       "  </thead>\n",
       "  <tbody>\n",
       "    <tr>\n",
       "      <th>0</th>\n",
       "      <td>1.620912</td>\n",
       "      <td>-1.097318</td>\n",
       "      <td>0.215550</td>\n",
       "      <td>0.078284</td>\n",
       "    </tr>\n",
       "    <tr>\n",
       "      <th>1</th>\n",
       "      <td>1.722669</td>\n",
       "      <td>0.538460</td>\n",
       "      <td>1.368190</td>\n",
       "      <td>0.082865</td>\n",
       "    </tr>\n",
       "    <tr>\n",
       "      <th>2</th>\n",
       "      <td>-1.251289</td>\n",
       "      <td>-1.601313</td>\n",
       "      <td>-0.324087</td>\n",
       "      <td>0.948324</td>\n",
       "    </tr>\n",
       "    <tr>\n",
       "      <th>3</th>\n",
       "      <td>0.112423</td>\n",
       "      <td>0.078617</td>\n",
       "      <td>1.751528</td>\n",
       "      <td>0.613056</td>\n",
       "    </tr>\n",
       "    <tr>\n",
       "      <th>4</th>\n",
       "      <td>-0.656892</td>\n",
       "      <td>0.146025</td>\n",
       "      <td>1.063005</td>\n",
       "      <td>-0.578163</td>\n",
       "    </tr>\n",
       "    <tr>\n",
       "      <th>5</th>\n",
       "      <td>0.234446</td>\n",
       "      <td>0.152520</td>\n",
       "      <td>0.058090</td>\n",
       "      <td>-3.461365</td>\n",
       "    </tr>\n",
       "    <tr>\n",
       "      <th>6</th>\n",
       "      <td>0.812457</td>\n",
       "      <td>0.211142</td>\n",
       "      <td>-0.581034</td>\n",
       "      <td>1.933709</td>\n",
       "    </tr>\n",
       "    <tr>\n",
       "      <th>7</th>\n",
       "      <td>-0.727728</td>\n",
       "      <td>-0.900780</td>\n",
       "      <td>-1.123209</td>\n",
       "      <td>-0.622255</td>\n",
       "    </tr>\n",
       "  </tbody>\n",
       "</table>\n",
       "</div>"
      ],
      "text/plain": [
       "          a         b         c         d\n",
       "0  1.620912 -1.097318  0.215550  0.078284\n",
       "1  1.722669  0.538460  1.368190  0.082865\n",
       "2 -1.251289 -1.601313 -0.324087  0.948324\n",
       "3  0.112423  0.078617  1.751528  0.613056\n",
       "4 -0.656892  0.146025  1.063005 -0.578163\n",
       "5  0.234446  0.152520  0.058090 -3.461365\n",
       "6  0.812457  0.211142 -0.581034  1.933709\n",
       "7 -0.727728 -0.900780 -1.123209 -0.622255"
      ]
     },
     "execution_count": 35,
     "metadata": {},
     "output_type": "execute_result"
    }
   ],
   "source": [
    "df=pd.DataFrame(np.random.randn(8,4),columns=['a','b','c','d'])\n",
    "df"
   ]
  },
  {
   "cell_type": "code",
   "execution_count": 36,
   "id": "cbc4c5c2",
   "metadata": {},
   "outputs": [
    {
     "data": {
      "text/plain": [
       "<AxesSubplot:>"
      ]
     },
     "execution_count": 36,
     "metadata": {},
     "output_type": "execute_result"
    },
    {
     "data": {
      "image/png": "[encoded data removed]",
      "text/plain": [
       "<Figure size 432x288 with 1 Axes>"
      ]
     },
     "metadata": {
      "needs_background": "light"
     },
     "output_type": "display_data"
    }
   ],
   "source": [
    "df.plot.bar(stacked=True)"
   ]
  },
  {
   "cell_type": "code",
   "execution_count": 37,
   "id": "59200371",
   "metadata": {},
   "outputs": [
    {
     "data": {
      "text/plain": [
       "<AxesSubplot:>"
      ]
     },
     "execution_count": 37,
     "metadata": {},
     "output_type": "execute_result"
    },
    {
     "data": {
      "image/png": "[encoded data removed]",
      "text/plain": [
       "<Figure size 432x288 with 1 Axes>"
      ]
     },
     "metadata": {
      "needs_background": "light"
     },
     "output_type": "display_data"
    }
   ],
   "source": [
    "df.plot.barh(stacked=True)"
   ]
  },
  {
   "cell_type": "code",
   "execution_count": 38,
   "id": "516dce6c",
   "metadata": {},
   "outputs": [
    {
     "data": {
      "text/plain": [
       "<AxesSubplot:ylabel='Frequency'>"
      ]
     },
     "execution_count": 38,
     "metadata": {},
     "output_type": "execute_result"
    },
    {
     "data": {
      "image/png": "[encoded data removed]",
      "text/plain": [
       "<Figure size 432x288 with 1 Axes>"
      ]
     },
     "metadata": {
      "needs_background": "light"
     },
     "output_type": "display_data"
    }
   ],
   "source": [
    "df.plot.hist()"
   ]
  },
  {
   "cell_type": "code",
   "execution_count": 39,
   "id": "bb3e7a1d",
   "metadata": {},
   "outputs": [
    {
     "data": {
      "text/plain": [
       "<AxesSubplot:ylabel='Frequency'>"
      ]
     },
     "execution_count": 39,
     "metadata": {},
     "output_type": "execute_result"
    },
    {
     "data": {
      "image/png": "[encoded data removed]",
      "text/plain": [
       "<Figure size 432x288 with 1 Axes>"
      ]
     },
     "metadata": {
      "needs_background": "light"
     },
     "output_type": "display_data"
    }
   ],
   "source": [
    "df.plot.hist(stacked=True)"
   ]
  },
  {
   "cell_type": "code",
   "execution_count": 40,
   "id": "16a34e51",
   "metadata": {},
   "outputs": [
    {
     "data": {
      "text/plain": [
       "<AxesSubplot:>"
      ]
     },
     "execution_count": 40,
     "metadata": {},
     "output_type": "execute_result"
    },
    {
     "data": {
      "image/png": "[encoded data removed]",
      "text/plain": [
       "<Figure size 432x288 with 1 Axes>"
      ]
     },
     "metadata": {
      "needs_background": "light"
     },
     "output_type": "display_data"
    }
   ],
   "source": [
    "df.plot.box()"
   ]
  },
  {
   "cell_type": "code",
   "execution_count": 41,
   "id": "9becd51e",
   "metadata": {},
   "outputs": [],
   "source": [
    "import numpy as np"
   ]
  },
  {
   "cell_type": "code",
   "execution_count": 42,
   "id": "3486ba0f",
   "metadata": {},
   "outputs": [],
   "source": [
    "import pandas as pd"
   ]
  },
  {
   "cell_type": "code",
   "execution_count": 43,
   "id": "df5c7073",
   "metadata": {},
   "outputs": [],
   "source": [
    "df=pd.DataFrame(np.random.randn(10,8),columns=['a','b','c','d','e','f','g','h'])"
   ]
  },
  {
   "cell_type": "code",
   "execution_count": 44,
   "id": "252c5b10",
   "metadata": {},
   "outputs": [
    {
     "data": {
      "text/html": [
       "<div>\n",
       "<style scoped>\n",
       "    .dataframe tbody tr th:only-of-type {\n",
       "        vertical-align: middle;\n",
       "    }\n",
       "\n",
       "    .dataframe tbody tr th {\n",
       "        vertical-align: top;\n",
       "    }\n",
       "\n",
       "    .dataframe thead th {\n",
       "        text-align: right;\n",
       "    }\n",
       "</style>\n",
       "<table border=\"1\" class=\"dataframe\">\n",
       "  <thead>\n",
       "    <tr style=\"text-align: right;\">\n",
       "      <th></th>\n",
       "      <th>a</th>\n",
       "      <th>b</th>\n",
       "      <th>c</th>\n",
       "      <th>d</th>\n",
       "      <th>e</th>\n",
       "      <th>f</th>\n",
       "      <th>g</th>\n",
       "      <th>h</th>\n",
       "    </tr>\n",
       "  </thead>\n",
       "  <tbody>\n",
       "    <tr>\n",
       "      <th>0</th>\n",
       "      <td>0.494251</td>\n",
       "      <td>0.958706</td>\n",
       "      <td>0.146366</td>\n",
       "      <td>1.229519</td>\n",
       "      <td>0.890199</td>\n",
       "      <td>-0.238394</td>\n",
       "      <td>-0.796564</td>\n",
       "      <td>-1.136048</td>\n",
       "    </tr>\n",
       "    <tr>\n",
       "      <th>1</th>\n",
       "      <td>-0.329245</td>\n",
       "      <td>-0.595293</td>\n",
       "      <td>0.875595</td>\n",
       "      <td>1.176292</td>\n",
       "      <td>-0.858218</td>\n",
       "      <td>0.768186</td>\n",
       "      <td>0.747284</td>\n",
       "      <td>0.038673</td>\n",
       "    </tr>\n",
       "    <tr>\n",
       "      <th>2</th>\n",
       "      <td>-0.181208</td>\n",
       "      <td>-0.187979</td>\n",
       "      <td>-0.662836</td>\n",
       "      <td>-1.076611</td>\n",
       "      <td>0.363571</td>\n",
       "      <td>0.384775</td>\n",
       "      <td>0.296414</td>\n",
       "      <td>0.074215</td>\n",
       "    </tr>\n",
       "    <tr>\n",
       "      <th>3</th>\n",
       "      <td>-0.622348</td>\n",
       "      <td>-0.489549</td>\n",
       "      <td>1.960408</td>\n",
       "      <td>0.065080</td>\n",
       "      <td>0.295721</td>\n",
       "      <td>-0.280380</td>\n",
       "      <td>1.191934</td>\n",
       "      <td>0.497466</td>\n",
       "    </tr>\n",
       "    <tr>\n",
       "      <th>4</th>\n",
       "      <td>-0.587428</td>\n",
       "      <td>0.741200</td>\n",
       "      <td>-0.765402</td>\n",
       "      <td>0.377713</td>\n",
       "      <td>0.861697</td>\n",
       "      <td>0.446559</td>\n",
       "      <td>1.611649</td>\n",
       "      <td>-0.043435</td>\n",
       "    </tr>\n",
       "    <tr>\n",
       "      <th>5</th>\n",
       "      <td>0.833493</td>\n",
       "      <td>-0.794124</td>\n",
       "      <td>-0.713018</td>\n",
       "      <td>-1.273029</td>\n",
       "      <td>0.107298</td>\n",
       "      <td>2.014302</td>\n",
       "      <td>0.450806</td>\n",
       "      <td>-0.181329</td>\n",
       "    </tr>\n",
       "    <tr>\n",
       "      <th>6</th>\n",
       "      <td>-0.038498</td>\n",
       "      <td>-1.240384</td>\n",
       "      <td>-0.709396</td>\n",
       "      <td>-0.862138</td>\n",
       "      <td>-0.264137</td>\n",
       "      <td>-0.536443</td>\n",
       "      <td>1.752370</td>\n",
       "      <td>-0.899545</td>\n",
       "    </tr>\n",
       "    <tr>\n",
       "      <th>7</th>\n",
       "      <td>-0.203727</td>\n",
       "      <td>-0.242302</td>\n",
       "      <td>-0.216273</td>\n",
       "      <td>-0.119477</td>\n",
       "      <td>0.187563</td>\n",
       "      <td>-0.497471</td>\n",
       "      <td>-0.996389</td>\n",
       "      <td>-1.103591</td>\n",
       "    </tr>\n",
       "    <tr>\n",
       "      <th>8</th>\n",
       "      <td>-0.126803</td>\n",
       "      <td>0.100329</td>\n",
       "      <td>-1.785793</td>\n",
       "      <td>-0.133987</td>\n",
       "      <td>-0.009152</td>\n",
       "      <td>1.906768</td>\n",
       "      <td>0.297753</td>\n",
       "      <td>-0.265384</td>\n",
       "    </tr>\n",
       "    <tr>\n",
       "      <th>9</th>\n",
       "      <td>-0.514345</td>\n",
       "      <td>0.315023</td>\n",
       "      <td>-2.741916</td>\n",
       "      <td>-1.463791</td>\n",
       "      <td>0.399752</td>\n",
       "      <td>1.475294</td>\n",
       "      <td>-0.746600</td>\n",
       "      <td>0.399765</td>\n",
       "    </tr>\n",
       "  </tbody>\n",
       "</table>\n",
       "</div>"
      ],
      "text/plain": [
       "          a         b         c         d         e         f         g  \\\n",
       "0  0.494251  0.958706  0.146366  1.229519  0.890199 -0.238394 -0.796564   \n",
       "1 -0.329245 -0.595293  0.875595  1.176292 -0.858218  0.768186  0.747284   \n",
       "2 -0.181208 -0.187979 -0.662836 -1.076611  0.363571  0.384775  0.296414   \n",
       "3 -0.622348 -0.489549  1.960408  0.065080  0.295721 -0.280380  1.191934   \n",
       "4 -0.587428  0.741200 -0.765402  0.377713  0.861697  0.446559  1.611649   \n",
       "5  0.833493 -0.794124 -0.713018 -1.273029  0.107298  2.014302  0.450806   \n",
       "6 -0.038498 -1.240384 -0.709396 -0.862138 -0.264137 -0.536443  1.752370   \n",
       "7 -0.203727 -0.242302 -0.216273 -0.119477  0.187563 -0.497471 -0.996389   \n",
       "8 -0.126803  0.100329 -1.785793 -0.133987 -0.009152  1.906768  0.297753   \n",
       "9 -0.514345  0.315023 -2.741916 -1.463791  0.399752  1.475294 -0.746600   \n",
       "\n",
       "          h  \n",
       "0 -1.136048  \n",
       "1  0.038673  \n",
       "2  0.074215  \n",
       "3  0.497466  \n",
       "4 -0.043435  \n",
       "5 -0.181329  \n",
       "6 -0.899545  \n",
       "7 -1.103591  \n",
       "8 -0.265384  \n",
       "9  0.399765  "
      ]
     },
     "execution_count": 44,
     "metadata": {},
     "output_type": "execute_result"
    }
   ],
   "source": [
    "df"
   ]
  },
  {
   "cell_type": "code",
   "execution_count": 45,
   "id": "b160d012",
   "metadata": {},
   "outputs": [
    {
     "data": {
      "text/plain": [
       "<AxesSubplot:xlabel='a', ylabel='b'>"
      ]
     },
     "execution_count": 45,
     "metadata": {},
     "output_type": "execute_result"
    },
    {
     "data": {
      "image/png": "[encoded data removed]",
      "text/plain": [
       "<Figure size 432x288 with 1 Axes>"
      ]
     },
     "metadata": {
      "needs_background": "light"
     },
     "output_type": "display_data"
    }
   ],
   "source": [
    "df.plot.scatter(x='a',y='b')"
   ]
  },
  {
   "cell_type": "markdown",
   "id": "55dd935d",
   "metadata": {},
   "source": [
    "# CHANGE THE INDEX"
   ]
  },
  {
   "cell_type": "code",
   "execution_count": 46,
   "id": "b6f64628",
   "metadata": {},
   "outputs": [],
   "source": [
    "import pandas as pd"
   ]
  },
  {
   "cell_type": "code",
   "execution_count": 47,
   "id": "c6dbc409",
   "metadata": {},
   "outputs": [
    {
     "data": {
      "text/html": [
       "<div>\n",
       "<style scoped>\n",
       "    .dataframe tbody tr th:only-of-type {\n",
       "        vertical-align: middle;\n",
       "    }\n",
       "\n",
       "    .dataframe tbody tr th {\n",
       "        vertical-align: top;\n",
       "    }\n",
       "\n",
       "    .dataframe thead th {\n",
       "        text-align: right;\n",
       "    }\n",
       "</style>\n",
       "<table border=\"1\" class=\"dataframe\">\n",
       "  <thead>\n",
       "    <tr style=\"text-align: right;\">\n",
       "      <th></th>\n",
       "      <th>Day</th>\n",
       "      <th>Visitor</th>\n",
       "      <th>Bounce_rate</th>\n",
       "    </tr>\n",
       "  </thead>\n",
       "  <tbody>\n",
       "    <tr>\n",
       "      <th>0</th>\n",
       "      <td>1</td>\n",
       "      <td>200</td>\n",
       "      <td>20</td>\n",
       "    </tr>\n",
       "    <tr>\n",
       "      <th>1</th>\n",
       "      <td>2</td>\n",
       "      <td>300</td>\n",
       "      <td>30</td>\n",
       "    </tr>\n",
       "    <tr>\n",
       "      <th>2</th>\n",
       "      <td>3</td>\n",
       "      <td>100</td>\n",
       "      <td>40</td>\n",
       "    </tr>\n",
       "    <tr>\n",
       "      <th>3</th>\n",
       "      <td>4</td>\n",
       "      <td>400</td>\n",
       "      <td>60</td>\n",
       "    </tr>\n",
       "  </tbody>\n",
       "</table>\n",
       "</div>"
      ],
      "text/plain": [
       "   Day  Visitor  Bounce_rate\n",
       "0    1      200           20\n",
       "1    2      300           30\n",
       "2    3      100           40\n",
       "3    4      400           60"
      ]
     },
     "execution_count": 47,
     "metadata": {},
     "output_type": "execute_result"
    }
   ],
   "source": [
    "df=pd.DataFrame({'Day':[1,2,3,4],'Visitor': [200,300,100,400], 'Bounce_rate': [20,30,40,60]})\n",
    "\n",
    "df"
   ]
  },
  {
   "cell_type": "code",
   "execution_count": 48,
   "id": "8e33a29f",
   "metadata": {},
   "outputs": [
    {
     "data": {
      "text/html": [
       "<div>\n",
       "<style scoped>\n",
       "    .dataframe tbody tr th:only-of-type {\n",
       "        vertical-align: middle;\n",
       "    }\n",
       "\n",
       "    .dataframe tbody tr th {\n",
       "        vertical-align: top;\n",
       "    }\n",
       "\n",
       "    .dataframe thead th {\n",
       "        text-align: right;\n",
       "    }\n",
       "</style>\n",
       "<table border=\"1\" class=\"dataframe\">\n",
       "  <thead>\n",
       "    <tr style=\"text-align: right;\">\n",
       "      <th></th>\n",
       "      <th>Visitor</th>\n",
       "      <th>Bounce_rate</th>\n",
       "    </tr>\n",
       "    <tr>\n",
       "      <th>Day</th>\n",
       "      <th></th>\n",
       "      <th></th>\n",
       "    </tr>\n",
       "  </thead>\n",
       "  <tbody>\n",
       "    <tr>\n",
       "      <th>1</th>\n",
       "      <td>200</td>\n",
       "      <td>20</td>\n",
       "    </tr>\n",
       "    <tr>\n",
       "      <th>2</th>\n",
       "      <td>300</td>\n",
       "      <td>30</td>\n",
       "    </tr>\n",
       "    <tr>\n",
       "      <th>3</th>\n",
       "      <td>100</td>\n",
       "      <td>40</td>\n",
       "    </tr>\n",
       "    <tr>\n",
       "      <th>4</th>\n",
       "      <td>400</td>\n",
       "      <td>60</td>\n",
       "    </tr>\n",
       "  </tbody>\n",
       "</table>\n",
       "</div>"
      ],
      "text/plain": [
       "     Visitor  Bounce_rate\n",
       "Day                      \n",
       "1        200           20\n",
       "2        300           30\n",
       "3        100           40\n",
       "4        400           60"
      ]
     },
     "execution_count": 48,
     "metadata": {},
     "output_type": "execute_result"
    }
   ],
   "source": [
    "#changing the index(here df1 gets gets new index)\n",
    "\n",
    "df1=df.set_index(\"Day\")\n",
    "\n",
    "df1"
   ]
  },
  {
   "cell_type": "code",
   "execution_count": 49,
   "id": "32674798",
   "metadata": {},
   "outputs": [
    {
     "data": {
      "text/html": [
       "<div>\n",
       "<style scoped>\n",
       "    .dataframe tbody tr th:only-of-type {\n",
       "        vertical-align: middle;\n",
       "    }\n",
       "\n",
       "    .dataframe tbody tr th {\n",
       "        vertical-align: top;\n",
       "    }\n",
       "\n",
       "    .dataframe thead th {\n",
       "        text-align: right;\n",
       "    }\n",
       "</style>\n",
       "<table border=\"1\" class=\"dataframe\">\n",
       "  <thead>\n",
       "    <tr style=\"text-align: right;\">\n",
       "      <th></th>\n",
       "      <th>Visitor</th>\n",
       "      <th>Bounce_rate</th>\n",
       "    </tr>\n",
       "    <tr>\n",
       "      <th>Day</th>\n",
       "      <th></th>\n",
       "      <th></th>\n",
       "    </tr>\n",
       "  </thead>\n",
       "  <tbody>\n",
       "    <tr>\n",
       "      <th>1</th>\n",
       "      <td>200</td>\n",
       "      <td>20</td>\n",
       "    </tr>\n",
       "    <tr>\n",
       "      <th>2</th>\n",
       "      <td>300</td>\n",
       "      <td>30</td>\n",
       "    </tr>\n",
       "    <tr>\n",
       "      <th>3</th>\n",
       "      <td>100</td>\n",
       "      <td>40</td>\n",
       "    </tr>\n",
       "    <tr>\n",
       "      <th>4</th>\n",
       "      <td>400</td>\n",
       "      <td>60</td>\n",
       "    </tr>\n",
       "  </tbody>\n",
       "</table>\n",
       "</div>"
      ],
      "text/plain": [
       "     Visitor  Bounce_rate\n",
       "Day                      \n",
       "1        200           20\n",
       "2        300           30\n",
       "3        100           40\n",
       "4        400           60"
      ]
     },
     "execution_count": 49,
     "metadata": {},
     "output_type": "execute_result"
    }
   ],
   "source": [
    "# changing the index (df here gets the new index)\n",
    "\n",
    "\n",
    "df.set_index(\"Day\", inplace= True)\n",
    "\n",
    "df"
   ]
  },
  {
   "cell_type": "markdown",
   "id": "a077763a",
   "metadata": {},
   "source": [
    "# RENAME COLUMN"
   ]
  },
  {
   "cell_type": "code",
   "execution_count": 50,
   "id": "adcaa312",
   "metadata": {},
   "outputs": [
    {
     "data": {
      "text/html": [
       "<div>\n",
       "<style scoped>\n",
       "    .dataframe tbody tr th:only-of-type {\n",
       "        vertical-align: middle;\n",
       "    }\n",
       "\n",
       "    .dataframe tbody tr th {\n",
       "        vertical-align: top;\n",
       "    }\n",
       "\n",
       "    .dataframe thead th {\n",
       "        text-align: right;\n",
       "    }\n",
       "</style>\n",
       "<table border=\"1\" class=\"dataframe\">\n",
       "  <thead>\n",
       "    <tr style=\"text-align: right;\">\n",
       "      <th></th>\n",
       "      <th>users</th>\n",
       "      <th>Bounce_rate</th>\n",
       "    </tr>\n",
       "    <tr>\n",
       "      <th>Day</th>\n",
       "      <th></th>\n",
       "      <th></th>\n",
       "    </tr>\n",
       "  </thead>\n",
       "  <tbody>\n",
       "    <tr>\n",
       "      <th>1</th>\n",
       "      <td>200</td>\n",
       "      <td>20</td>\n",
       "    </tr>\n",
       "    <tr>\n",
       "      <th>2</th>\n",
       "      <td>300</td>\n",
       "      <td>30</td>\n",
       "    </tr>\n",
       "    <tr>\n",
       "      <th>3</th>\n",
       "      <td>100</td>\n",
       "      <td>40</td>\n",
       "    </tr>\n",
       "    <tr>\n",
       "      <th>4</th>\n",
       "      <td>400</td>\n",
       "      <td>60</td>\n",
       "    </tr>\n",
       "  </tbody>\n",
       "</table>\n",
       "</div>"
      ],
      "text/plain": [
       "     users  Bounce_rate\n",
       "Day                    \n",
       "1      200           20\n",
       "2      300           30\n",
       "3      100           40\n",
       "4      400           60"
      ]
     },
     "execution_count": 50,
     "metadata": {},
     "output_type": "execute_result"
    }
   ],
   "source": [
    "df=df.rename(columns={\"Visitor\":\"users\"})\n",
    "df"
   ]
  },
  {
   "cell_type": "code",
   "execution_count": null,
   "id": "17674f26",
   "metadata": {},
   "outputs": [],
   "source": []
  }
 ],
 "metadata": {
  "kernelspec": {
   "display_name": "Python 3 (ipykernel)",
   "language": "python",
   "name": "python3"
  },
  "language_info": {
   "codemirror_mode": {
    "name": "ipython",
    "version": 3
   },
   "file_extension": ".py",
   "mimetype": "text/x-python",
   "name": "python",
   "nbconvert_exporter": "python",
   "pygments_lexer": "ipython3",
   "version": "3.9.12"
  }
 },
 "nbformat": 4,
 "nbformat_minor": 5
}
