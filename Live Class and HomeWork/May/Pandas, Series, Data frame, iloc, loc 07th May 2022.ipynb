{
 "cells": [
  {
   "cell_type": "markdown",
   "id": "f7f02fa3",
   "metadata": {},
   "source": [
    "# PANDAS"
   ]
  },
  {
   "cell_type": "markdown",
   "id": "92faf99a",
   "metadata": {},
   "source": [
    "Pandas is a PYTHON library for data analysis, pandas is a fast, powerful,flexible and easy to use open source data analysis and manipulation tool, build on top of the python programming language."
   ]
  },
  {
   "cell_type": "markdown",
   "id": "a930ccc6",
   "metadata": {},
   "source": [
    "Series in pandas"
   ]
  },
  {
   "cell_type": "code",
   "execution_count": 1,
   "id": "4da98701",
   "metadata": {},
   "outputs": [],
   "source": [
    "import pandas as pd"
   ]
  },
  {
   "cell_type": "code",
   "execution_count": 2,
   "id": "d1c30ebb",
   "metadata": {},
   "outputs": [
    {
     "data": {
      "text/plain": [
       "0    1\n",
       "1    2\n",
       "2    3\n",
       "3    4\n",
       "4    5\n",
       "dtype: int64"
      ]
     },
     "execution_count": 2,
     "metadata": {},
     "output_type": "execute_result"
    }
   ],
   "source": [
    "data=([1,2,3,4,5])\n",
    "\n",
    "k=pd.Series(data)\n",
    "\n",
    "k"
   ]
  },
  {
   "cell_type": "code",
   "execution_count": 3,
   "id": "28cd8ed6",
   "metadata": {},
   "outputs": [
    {
     "data": {
      "text/plain": [
       "0    112\n",
       "1     13\n",
       "2     87\n",
       "3     98\n",
       "dtype: int64"
      ]
     },
     "execution_count": 3,
     "metadata": {},
     "output_type": "execute_result"
    }
   ],
   "source": [
    "a=pd.Series([112,13,87,98])\n",
    "\n",
    "a\n"
   ]
  },
  {
   "cell_type": "raw",
   "id": "4b6efaff",
   "metadata": {},
   "source": [
    "\"\"\"\n",
    "         |------------> Series(1 dimention)\n",
    "pandas---|\n",
    "         |---------> DataFrame(2 dimention)\n",
    "\n",
    "\"\"\""
   ]
  },
  {
   "cell_type": "markdown",
   "id": "d6c58c04",
   "metadata": {},
   "source": [
    "### Adding index in Pandas Series"
   ]
  },
  {
   "cell_type": "code",
   "execution_count": 4,
   "id": "872372bb",
   "metadata": {},
   "outputs": [
    {
     "name": "stdout",
     "output_type": "stream",
     "text": [
      "10    1\n",
      "11    2\n",
      "12    3\n",
      "13    4\n",
      "14    5\n",
      "15    6\n",
      "dtype: int64 "
     ]
    }
   ],
   "source": [
    "p= pd.Series([1,2,3,4,5,6],index=[10,11,12,13,14,15])\n",
    "\n",
    "print(p,end=\" \")"
   ]
  },
  {
   "cell_type": "code",
   "execution_count": 5,
   "id": "0032a1e0",
   "metadata": {},
   "outputs": [
    {
     "name": "stdout",
     "output_type": "stream",
     "text": [
      "100    11\n",
      "101    12\n",
      "102    13\n",
      "103    14\n",
      "104    15\n",
      "105    16\n",
      "106    17\n",
      "107    18\n",
      "dtype: int64\n"
     ]
    }
   ],
   "source": [
    "d=pd.Series([11,12,13,14,15,16,17,18],index=[100,101,102,103,104,105,106,107])\n",
    "\n",
    "print(d)"
   ]
  },
  {
   "cell_type": "code",
   "execution_count": 6,
   "id": "4ee29f81",
   "metadata": {},
   "outputs": [],
   "source": [
    "# Series(data,index,dtype)\n",
    "\n",
    "s=pd.Series([1,2,3,4,5],index=[11,12,13,14,15],dtype=float)"
   ]
  },
  {
   "cell_type": "code",
   "execution_count": 7,
   "id": "f6b2a638",
   "metadata": {},
   "outputs": [
    {
     "name": "stdout",
     "output_type": "stream",
     "text": [
      "11    1.0\n",
      "12    2.0\n",
      "13    3.0\n",
      "14    4.0\n",
      "15    5.0\n",
      "dtype: float64\n"
     ]
    }
   ],
   "source": [
    "print(s)"
   ]
  },
  {
   "cell_type": "code",
   "execution_count": 8,
   "id": "87932dac",
   "metadata": {},
   "outputs": [
    {
     "name": "stdout",
     "output_type": "stream",
     "text": [
      "0    121.0\n",
      "1    123.0\n",
      "2    313.0\n",
      "3     77.0\n",
      "dtype: float64\n"
     ]
    }
   ],
   "source": [
    "data=([121,123,313,77])\n",
    "\n",
    "s=pd.Series(data,dtype=float)\n",
    "\n",
    "print(s)"
   ]
  },
  {
   "cell_type": "code",
   "execution_count": 9,
   "id": "4f3c2d3b",
   "metadata": {},
   "outputs": [
    {
     "name": "stdout",
     "output_type": "stream",
     "text": [
      "1    10\n",
      "2    20\n",
      "3    30\n",
      "4    40\n",
      "5    50\n",
      "6    60\n",
      "dtype: int64\n"
     ]
    }
   ],
   "source": [
    "# accessing data from series\n",
    "\n",
    "si=pd.Series([10,20,30,40,50,60],index=[1,2,3,4,5,6])\n",
    "\n",
    "print(si)"
   ]
  },
  {
   "cell_type": "code",
   "execution_count": 10,
   "id": "24d7625a",
   "metadata": {},
   "outputs": [
    {
     "data": {
      "text/plain": [
       "50"
      ]
     },
     "execution_count": 10,
     "metadata": {},
     "output_type": "execute_result"
    }
   ],
   "source": [
    "#finding index 5\n",
    "\n",
    "si[5]"
   ]
  },
  {
   "cell_type": "code",
   "execution_count": 11,
   "id": "b134c1f2",
   "metadata": {},
   "outputs": [
    {
     "data": {
      "text/plain": [
       "1    10\n",
       "2    20\n",
       "3    30\n",
       "4    40\n",
       "5    50\n",
       "dtype: int64"
      ]
     },
     "execution_count": 11,
     "metadata": {},
     "output_type": "execute_result"
    }
   ],
   "source": [
    "# f\n",
    "\n",
    "si[:5]"
   ]
  },
  {
   "cell_type": "code",
   "execution_count": 12,
   "id": "ce922bd6",
   "metadata": {},
   "outputs": [
    {
     "name": "stdout",
     "output_type": "stream",
     "text": [
      "0    10\n",
      "1    20\n",
      "2    30\n",
      "3    40\n",
      "4    50\n",
      "5    60\n",
      "dtype: int64\n"
     ]
    }
   ],
   "source": [
    "# accessing data from series\n",
    "\n",
    "si=pd.Series([10,20,30,40,50,60])\n",
    "\n",
    "print(si)"
   ]
  },
  {
   "cell_type": "code",
   "execution_count": 13,
   "id": "c36a1ded",
   "metadata": {},
   "outputs": [
    {
     "data": {
      "text/plain": [
       "1    20\n",
       "2    30\n",
       "3    40\n",
       "dtype: int64"
      ]
     },
     "execution_count": 13,
     "metadata": {},
     "output_type": "execute_result"
    }
   ],
   "source": [
    "si[1:4]"
   ]
  },
  {
   "cell_type": "code",
   "execution_count": 14,
   "id": "376a035a",
   "metadata": {},
   "outputs": [
    {
     "data": {
      "text/plain": [
       "1    20\n",
       "2    30\n",
       "3    40\n",
       "4    50\n",
       "5    60\n",
       "dtype: int64"
      ]
     },
     "execution_count": 14,
     "metadata": {},
     "output_type": "execute_result"
    }
   ],
   "source": [
    "si[1:]"
   ]
  },
  {
   "cell_type": "code",
   "execution_count": 15,
   "id": "89542e45",
   "metadata": {},
   "outputs": [
    {
     "data": {
      "text/plain": [
       "0    1\n",
       "1    2\n",
       "2    3\n",
       "3    4\n",
       "dtype: int32"
      ]
     },
     "execution_count": 15,
     "metadata": {},
     "output_type": "execute_result"
    }
   ],
   "source": [
    "# passing data from list\n",
    "\n",
    "import numpy as np\n",
    "data=np.array([1,2,3,4])\n",
    "m=pd.Series(data)\n",
    "m\n"
   ]
  },
  {
   "cell_type": "code",
   "execution_count": 16,
   "id": "3b9fe816",
   "metadata": {},
   "outputs": [],
   "source": [
    "import numpy as np"
   ]
  },
  {
   "cell_type": "code",
   "execution_count": 17,
   "id": "36a1f6e7",
   "metadata": {},
   "outputs": [],
   "source": [
    "data=np.array([11,12,13,14,1])\n",
    "p=pd.Series(data)"
   ]
  },
  {
   "cell_type": "code",
   "execution_count": 18,
   "id": "57d510f7",
   "metadata": {},
   "outputs": [
    {
     "data": {
      "text/plain": [
       "0    11\n",
       "1    12\n",
       "2    13\n",
       "3    14\n",
       "4     1\n",
       "dtype: int32"
      ]
     },
     "execution_count": 18,
     "metadata": {},
     "output_type": "execute_result"
    }
   ],
   "source": [
    "p"
   ]
  },
  {
   "cell_type": "code",
   "execution_count": 19,
   "id": "2c288c83",
   "metadata": {},
   "outputs": [
    {
     "data": {
      "text/plain": [
       "3    14\n",
       "4     1\n",
       "dtype: int32"
      ]
     },
     "execution_count": 19,
     "metadata": {},
     "output_type": "execute_result"
    }
   ],
   "source": [
    "p[3:]"
   ]
  },
  {
   "cell_type": "markdown",
   "id": "ffd0ee9e",
   "metadata": {},
   "source": [
    "# Pandas dict:"
   ]
  },
  {
   "cell_type": "code",
   "execution_count": 20,
   "id": "dd6dc8b9",
   "metadata": {},
   "outputs": [],
   "source": [
    "demodict={'Name':'Abhijit', 'Age':30}"
   ]
  },
  {
   "cell_type": "code",
   "execution_count": 21,
   "id": "fcdb5341",
   "metadata": {},
   "outputs": [
    {
     "data": {
      "text/plain": [
       "{'Name': 'Abhijit', 'Age': 30}"
      ]
     },
     "execution_count": 21,
     "metadata": {},
     "output_type": "execute_result"
    }
   ],
   "source": [
    "demodict"
   ]
  },
  {
   "cell_type": "code",
   "execution_count": 22,
   "id": "c9faf3b5",
   "metadata": {},
   "outputs": [],
   "source": [
    "s1=pd.Series(demodict)"
   ]
  },
  {
   "cell_type": "code",
   "execution_count": 23,
   "id": "8f097684",
   "metadata": {},
   "outputs": [
    {
     "data": {
      "text/plain": [
       "Name    Abhijit\n",
       "Age          30\n",
       "dtype: object"
      ]
     },
     "execution_count": 23,
     "metadata": {},
     "output_type": "execute_result"
    }
   ],
   "source": [
    "s1"
   ]
  },
  {
   "cell_type": "code",
   "execution_count": 24,
   "id": "adfdb2e8",
   "metadata": {},
   "outputs": [],
   "source": [
    "dictcricket={'name':'Abhijit','run':'78','ball':90}"
   ]
  },
  {
   "cell_type": "code",
   "execution_count": 25,
   "id": "c103165a",
   "metadata": {},
   "outputs": [],
   "source": [
    "result=pd.Series(dictcricket)"
   ]
  },
  {
   "cell_type": "code",
   "execution_count": 26,
   "id": "cf7ea881",
   "metadata": {},
   "outputs": [
    {
     "data": {
      "text/plain": [
       "name    Abhijit\n",
       "run          78\n",
       "ball         90\n",
       "dtype: object"
      ]
     },
     "execution_count": 26,
     "metadata": {},
     "output_type": "execute_result"
    }
   ],
   "source": [
    "result"
   ]
  },
  {
   "cell_type": "markdown",
   "id": "7ffd58fb",
   "metadata": {},
   "source": [
    "# DATAFRAME"
   ]
  },
  {
   "cell_type": "code",
   "execution_count": 27,
   "id": "575ea66a",
   "metadata": {},
   "outputs": [
    {
     "data": {
      "text/plain": [
       "'columns are of three type (int,boolean,char)\\n   size- MUTABLE\\n   Labled axes(rows and columns)\\n   can perform arithmetic operations on rows and columns\\n   \\n   caling DataFrame= pandas.DataFrame\\n   \\n   A pandas DataFrame can be created using the following constructor\\n   pandas.DataFrame(Data,index,columns,dtype,copy)\\n   \\n'"
      ]
     },
     "execution_count": 27,
     "metadata": {},
     "output_type": "execute_result"
    }
   ],
   "source": [
    "# DataFrame is two dimensional data structure i.e can be alligned IN TUBLER fasion in\n",
    "\n",
    "\"\"\"Features of data Frame\"\"\"\n",
    "\n",
    "\"\"\"columns are of three type (int,boolean,char)\n",
    "   size- MUTABLE\n",
    "   Labled axes(rows and columns)\n",
    "   can perform arithmetic operations on rows and columns\n",
    "   \n",
    "   caling DataFrame= pandas.DataFrame\n",
    "   \n",
    "   A pandas DataFrame can be created using the following constructor\n",
    "   pandas.DataFrame(Data,index,columns,dtype,copy)\n",
    "   \n",
    "\"\"\"\n"
   ]
  },
  {
   "cell_type": "markdown",
   "id": "2d324c80",
   "metadata": {},
   "source": [
    "# Pandas DataFrame"
   ]
  },
  {
   "cell_type": "code",
   "execution_count": 28,
   "id": "c1537dd3",
   "metadata": {},
   "outputs": [],
   "source": [
    "# importing Pandas\n",
    "\n",
    "import pandas as pd"
   ]
  },
  {
   "cell_type": "code",
   "execution_count": 29,
   "id": "c71b075e",
   "metadata": {},
   "outputs": [],
   "source": [
    "# example\n",
    "\n",
    "data=[1,2,3,4]\n",
    "df=pd.DataFrame(data)\n"
   ]
  },
  {
   "cell_type": "code",
   "execution_count": 30,
   "id": "f138aa77",
   "metadata": {},
   "outputs": [
    {
     "data": {
      "text/html": [
       "<div>\n",
       "<style scoped>\n",
       "    .dataframe tbody tr th:only-of-type {\n",
       "        vertical-align: middle;\n",
       "    }\n",
       "\n",
       "    .dataframe tbody tr th {\n",
       "        vertical-align: top;\n",
       "    }\n",
       "\n",
       "    .dataframe thead th {\n",
       "        text-align: right;\n",
       "    }\n",
       "</style>\n",
       "<table border=\"1\" class=\"dataframe\">\n",
       "  <thead>\n",
       "    <tr style=\"text-align: right;\">\n",
       "      <th></th>\n",
       "      <th>0</th>\n",
       "    </tr>\n",
       "  </thead>\n",
       "  <tbody>\n",
       "    <tr>\n",
       "      <th>0</th>\n",
       "      <td>1</td>\n",
       "    </tr>\n",
       "    <tr>\n",
       "      <th>1</th>\n",
       "      <td>2</td>\n",
       "    </tr>\n",
       "    <tr>\n",
       "      <th>2</th>\n",
       "      <td>3</td>\n",
       "    </tr>\n",
       "    <tr>\n",
       "      <th>3</th>\n",
       "      <td>4</td>\n",
       "    </tr>\n",
       "  </tbody>\n",
       "</table>\n",
       "</div>"
      ],
      "text/plain": [
       "   0\n",
       "0  1\n",
       "1  2\n",
       "2  3\n",
       "3  4"
      ]
     },
     "execution_count": 30,
     "metadata": {},
     "output_type": "execute_result"
    }
   ],
   "source": [
    "# checking df\n",
    "df"
   ]
  },
  {
   "cell_type": "code",
   "execution_count": 31,
   "id": "04be6833",
   "metadata": {},
   "outputs": [
    {
     "data": {
      "text/html": [
       "<div>\n",
       "<style scoped>\n",
       "    .dataframe tbody tr th:only-of-type {\n",
       "        vertical-align: middle;\n",
       "    }\n",
       "\n",
       "    .dataframe tbody tr th {\n",
       "        vertical-align: top;\n",
       "    }\n",
       "\n",
       "    .dataframe thead th {\n",
       "        text-align: right;\n",
       "    }\n",
       "</style>\n",
       "<table border=\"1\" class=\"dataframe\">\n",
       "  <thead>\n",
       "    <tr style=\"text-align: right;\">\n",
       "      <th></th>\n",
       "      <th>0</th>\n",
       "      <th>1</th>\n",
       "    </tr>\n",
       "  </thead>\n",
       "  <tbody>\n",
       "    <tr>\n",
       "      <th>0</th>\n",
       "      <td>Alex</td>\n",
       "      <td>10</td>\n",
       "    </tr>\n",
       "    <tr>\n",
       "      <th>1</th>\n",
       "      <td>bob</td>\n",
       "      <td>12</td>\n",
       "    </tr>\n",
       "    <tr>\n",
       "      <th>2</th>\n",
       "      <td>Clarke</td>\n",
       "      <td>13</td>\n",
       "    </tr>\n",
       "  </tbody>\n",
       "</table>\n",
       "</div>"
      ],
      "text/plain": [
       "        0   1\n",
       "0    Alex  10\n",
       "1     bob  12\n",
       "2  Clarke  13"
      ]
     },
     "execution_count": 31,
     "metadata": {},
     "output_type": "execute_result"
    }
   ],
   "source": [
    "data=[['Alex',10],['bob',12],['Clarke',13]]\n",
    "\n",
    "df=pd.DataFrame(data)\n",
    "\n",
    "df\n"
   ]
  },
  {
   "cell_type": "code",
   "execution_count": 32,
   "id": "4b544fd7",
   "metadata": {},
   "outputs": [],
   "source": [
    "# creating dataframe list with Name and Marks Columns\n",
    "\n",
    "data=[['Abhijit',70],['Anubhav',90],['Srourav',98],['Atanu',76]]\n",
    "\n",
    "df=pd.DataFrame(data,columns=['Name','Marks'])"
   ]
  },
  {
   "cell_type": "code",
   "execution_count": 33,
   "id": "8f5d6fc5",
   "metadata": {
    "scrolled": true
   },
   "outputs": [
    {
     "data": {
      "text/html": [
       "<div>\n",
       "<style scoped>\n",
       "    .dataframe tbody tr th:only-of-type {\n",
       "        vertical-align: middle;\n",
       "    }\n",
       "\n",
       "    .dataframe tbody tr th {\n",
       "        vertical-align: top;\n",
       "    }\n",
       "\n",
       "    .dataframe thead th {\n",
       "        text-align: right;\n",
       "    }\n",
       "</style>\n",
       "<table border=\"1\" class=\"dataframe\">\n",
       "  <thead>\n",
       "    <tr style=\"text-align: right;\">\n",
       "      <th></th>\n",
       "      <th>Name</th>\n",
       "      <th>Marks</th>\n",
       "    </tr>\n",
       "  </thead>\n",
       "  <tbody>\n",
       "    <tr>\n",
       "      <th>0</th>\n",
       "      <td>Abhijit</td>\n",
       "      <td>70</td>\n",
       "    </tr>\n",
       "    <tr>\n",
       "      <th>1</th>\n",
       "      <td>Anubhav</td>\n",
       "      <td>90</td>\n",
       "    </tr>\n",
       "    <tr>\n",
       "      <th>2</th>\n",
       "      <td>Srourav</td>\n",
       "      <td>98</td>\n",
       "    </tr>\n",
       "    <tr>\n",
       "      <th>3</th>\n",
       "      <td>Atanu</td>\n",
       "      <td>76</td>\n",
       "    </tr>\n",
       "  </tbody>\n",
       "</table>\n",
       "</div>"
      ],
      "text/plain": [
       "      Name  Marks\n",
       "0  Abhijit     70\n",
       "1  Anubhav     90\n",
       "2  Srourav     98\n",
       "3    Atanu     76"
      ]
     },
     "execution_count": 33,
     "metadata": {},
     "output_type": "execute_result"
    }
   ],
   "source": [
    "df"
   ]
  },
  {
   "cell_type": "code",
   "execution_count": 34,
   "id": "0bdaa623",
   "metadata": {},
   "outputs": [],
   "source": [
    "# importing warning, and removing warning\n",
    "\n",
    "import warnings\n",
    "\n",
    "warnings.filterwarnings('ignore')"
   ]
  },
  {
   "cell_type": "code",
   "execution_count": 35,
   "id": "d698cabc",
   "metadata": {},
   "outputs": [
    {
     "name": "stdout",
     "output_type": "stream",
     "text": [
      "    name  marks\n",
      "0   Arun     90\n",
      "1  Bittu     87\n",
      "2  pintu     76\n",
      "3   renu     56\n"
     ]
    }
   ],
   "source": [
    "# creating dataframe with column(Name and Marks) data type is float\n",
    "\n",
    "data=[['Arun',90],['Bittu',87],['pintu',76],['renu',56]]\n",
    "\n",
    "de=pd.DataFrame(data,columns=['name','marks'],dtype=int)\n",
    "\n",
    "print(de)\n",
    "\n"
   ]
  },
  {
   "cell_type": "code",
   "execution_count": 36,
   "id": "79dbdc2b",
   "metadata": {},
   "outputs": [],
   "source": [
    "data={'Name':['Abhijit','jeet','pranab','ratul'],'Marks':[90,76,56,89]}"
   ]
  },
  {
   "cell_type": "code",
   "execution_count": 37,
   "id": "18e96949",
   "metadata": {},
   "outputs": [
    {
     "data": {
      "text/html": [
       "<div>\n",
       "<style scoped>\n",
       "    .dataframe tbody tr th:only-of-type {\n",
       "        vertical-align: middle;\n",
       "    }\n",
       "\n",
       "    .dataframe tbody tr th {\n",
       "        vertical-align: top;\n",
       "    }\n",
       "\n",
       "    .dataframe thead th {\n",
       "        text-align: right;\n",
       "    }\n",
       "</style>\n",
       "<table border=\"1\" class=\"dataframe\">\n",
       "  <thead>\n",
       "    <tr style=\"text-align: right;\">\n",
       "      <th></th>\n",
       "      <th>Name</th>\n",
       "      <th>Marks</th>\n",
       "    </tr>\n",
       "  </thead>\n",
       "  <tbody>\n",
       "    <tr>\n",
       "      <th>0</th>\n",
       "      <td>Abhijit</td>\n",
       "      <td>90</td>\n",
       "    </tr>\n",
       "    <tr>\n",
       "      <th>1</th>\n",
       "      <td>jeet</td>\n",
       "      <td>76</td>\n",
       "    </tr>\n",
       "    <tr>\n",
       "      <th>2</th>\n",
       "      <td>pranab</td>\n",
       "      <td>56</td>\n",
       "    </tr>\n",
       "    <tr>\n",
       "      <th>3</th>\n",
       "      <td>ratul</td>\n",
       "      <td>89</td>\n",
       "    </tr>\n",
       "  </tbody>\n",
       "</table>\n",
       "</div>"
      ],
      "text/plain": [
       "      Name  Marks\n",
       "0  Abhijit     90\n",
       "1     jeet     76\n",
       "2   pranab     56\n",
       "3    ratul     89"
      ]
     },
     "execution_count": 37,
     "metadata": {},
     "output_type": "execute_result"
    }
   ],
   "source": [
    "df=pd.DataFrame(data)\n",
    "df"
   ]
  },
  {
   "cell_type": "code",
   "execution_count": 38,
   "id": "de9852ce",
   "metadata": {},
   "outputs": [],
   "source": [
    "data={'Sports':['cricket','footbal'],'Year':[1987,1980]}"
   ]
  },
  {
   "cell_type": "code",
   "execution_count": 39,
   "id": "b632b2d6",
   "metadata": {},
   "outputs": [],
   "source": [
    "df=pd.DataFrame(data)"
   ]
  },
  {
   "cell_type": "code",
   "execution_count": 40,
   "id": "2a706a8f",
   "metadata": {},
   "outputs": [
    {
     "data": {
      "text/html": [
       "<div>\n",
       "<style scoped>\n",
       "    .dataframe tbody tr th:only-of-type {\n",
       "        vertical-align: middle;\n",
       "    }\n",
       "\n",
       "    .dataframe tbody tr th {\n",
       "        vertical-align: top;\n",
       "    }\n",
       "\n",
       "    .dataframe thead th {\n",
       "        text-align: right;\n",
       "    }\n",
       "</style>\n",
       "<table border=\"1\" class=\"dataframe\">\n",
       "  <thead>\n",
       "    <tr style=\"text-align: right;\">\n",
       "      <th></th>\n",
       "      <th>Sports</th>\n",
       "      <th>Year</th>\n",
       "    </tr>\n",
       "  </thead>\n",
       "  <tbody>\n",
       "    <tr>\n",
       "      <th>0</th>\n",
       "      <td>cricket</td>\n",
       "      <td>1987</td>\n",
       "    </tr>\n",
       "    <tr>\n",
       "      <th>1</th>\n",
       "      <td>footbal</td>\n",
       "      <td>1980</td>\n",
       "    </tr>\n",
       "  </tbody>\n",
       "</table>\n",
       "</div>"
      ],
      "text/plain": [
       "    Sports  Year\n",
       "0  cricket  1987\n",
       "1  footbal  1980"
      ]
     },
     "execution_count": 40,
     "metadata": {},
     "output_type": "execute_result"
    }
   ],
   "source": [
    "df"
   ]
  },
  {
   "cell_type": "code",
   "execution_count": 41,
   "id": "e7350efc",
   "metadata": {},
   "outputs": [
    {
     "data": {
      "text/plain": [
       "'(NAN)- Means Not A number'"
      ]
     },
     "execution_count": 41,
     "metadata": {},
     "output_type": "execute_result"
    }
   ],
   "source": [
    "# Observe, NAN is appened on the missing Area\n",
    "\n",
    "\"(NAN)- Means Not A number\""
   ]
  },
  {
   "cell_type": "code",
   "execution_count": 42,
   "id": "db2400f6",
   "metadata": {},
   "outputs": [],
   "source": [
    "# in list we are creating 03 dictionary\n",
    "\n",
    "data=[{'a':1,'b':2},{'a':3,'b':4,'c':5},{'a':6,'c':8}]"
   ]
  },
  {
   "cell_type": "code",
   "execution_count": 43,
   "id": "34a2749d",
   "metadata": {},
   "outputs": [],
   "source": [
    "df=pd.DataFrame(data,dtype=float)"
   ]
  },
  {
   "cell_type": "code",
   "execution_count": 44,
   "id": "71768196",
   "metadata": {},
   "outputs": [
    {
     "data": {
      "text/html": [
       "<div>\n",
       "<style scoped>\n",
       "    .dataframe tbody tr th:only-of-type {\n",
       "        vertical-align: middle;\n",
       "    }\n",
       "\n",
       "    .dataframe tbody tr th {\n",
       "        vertical-align: top;\n",
       "    }\n",
       "\n",
       "    .dataframe thead th {\n",
       "        text-align: right;\n",
       "    }\n",
       "</style>\n",
       "<table border=\"1\" class=\"dataframe\">\n",
       "  <thead>\n",
       "    <tr style=\"text-align: right;\">\n",
       "      <th></th>\n",
       "      <th>a</th>\n",
       "      <th>b</th>\n",
       "      <th>c</th>\n",
       "    </tr>\n",
       "  </thead>\n",
       "  <tbody>\n",
       "    <tr>\n",
       "      <th>0</th>\n",
       "      <td>1.0</td>\n",
       "      <td>2.0</td>\n",
       "      <td>NaN</td>\n",
       "    </tr>\n",
       "    <tr>\n",
       "      <th>1</th>\n",
       "      <td>3.0</td>\n",
       "      <td>4.0</td>\n",
       "      <td>5.0</td>\n",
       "    </tr>\n",
       "    <tr>\n",
       "      <th>2</th>\n",
       "      <td>6.0</td>\n",
       "      <td>NaN</td>\n",
       "      <td>8.0</td>\n",
       "    </tr>\n",
       "  </tbody>\n",
       "</table>\n",
       "</div>"
      ],
      "text/plain": [
       "     a    b    c\n",
       "0  1.0  2.0  NaN\n",
       "1  3.0  4.0  5.0\n",
       "2  6.0  NaN  8.0"
      ]
     },
     "execution_count": 44,
     "metadata": {},
     "output_type": "execute_result"
    }
   ],
   "source": [
    "df"
   ]
  },
  {
   "cell_type": "code",
   "execution_count": 45,
   "id": "b6ff8ea5",
   "metadata": {},
   "outputs": [
    {
     "data": {
      "text/html": [
       "<div>\n",
       "<style scoped>\n",
       "    .dataframe tbody tr th:only-of-type {\n",
       "        vertical-align: middle;\n",
       "    }\n",
       "\n",
       "    .dataframe tbody tr th {\n",
       "        vertical-align: top;\n",
       "    }\n",
       "\n",
       "    .dataframe thead th {\n",
       "        text-align: right;\n",
       "    }\n",
       "</style>\n",
       "<table border=\"1\" class=\"dataframe\">\n",
       "  <thead>\n",
       "    <tr style=\"text-align: right;\">\n",
       "      <th></th>\n",
       "      <th>a</th>\n",
       "      <th>b</th>\n",
       "      <th>c</th>\n",
       "    </tr>\n",
       "  </thead>\n",
       "  <tbody>\n",
       "    <tr>\n",
       "      <th>0</th>\n",
       "      <td>11</td>\n",
       "      <td>12.0</td>\n",
       "      <td>NaN</td>\n",
       "    </tr>\n",
       "    <tr>\n",
       "      <th>1</th>\n",
       "      <td>13</td>\n",
       "      <td>14.0</td>\n",
       "      <td>15.0</td>\n",
       "    </tr>\n",
       "    <tr>\n",
       "      <th>2</th>\n",
       "      <td>16</td>\n",
       "      <td>NaN</td>\n",
       "      <td>18.0</td>\n",
       "    </tr>\n",
       "  </tbody>\n",
       "</table>\n",
       "</div>"
      ],
      "text/plain": [
       "    a     b     c\n",
       "0  11  12.0   NaN\n",
       "1  13  14.0  15.0\n",
       "2  16   NaN  18.0"
      ]
     },
     "execution_count": 45,
     "metadata": {},
     "output_type": "execute_result"
    }
   ],
   "source": [
    "data=[{'a':11,'b':12},{'a':13,'b':14,'c':15},{'a':16,'c':18}]\n",
    "\n",
    "df=pd.DataFrame(data,dtype=int)\n",
    "\n",
    "df"
   ]
  },
  {
   "cell_type": "code",
   "execution_count": 46,
   "id": "9770f753",
   "metadata": {},
   "outputs": [
    {
     "data": {
      "text/html": [
       "<div>\n",
       "<style scoped>\n",
       "    .dataframe tbody tr th:only-of-type {\n",
       "        vertical-align: middle;\n",
       "    }\n",
       "\n",
       "    .dataframe tbody tr th {\n",
       "        vertical-align: top;\n",
       "    }\n",
       "\n",
       "    .dataframe thead th {\n",
       "        text-align: right;\n",
       "    }\n",
       "</style>\n",
       "<table border=\"1\" class=\"dataframe\">\n",
       "  <thead>\n",
       "    <tr style=\"text-align: right;\">\n",
       "      <th></th>\n",
       "      <th>a</th>\n",
       "      <th>b</th>\n",
       "      <th>c</th>\n",
       "    </tr>\n",
       "  </thead>\n",
       "  <tbody>\n",
       "    <tr>\n",
       "      <th>first</th>\n",
       "      <td>101.0</td>\n",
       "      <td>102.0</td>\n",
       "      <td>NaN</td>\n",
       "    </tr>\n",
       "    <tr>\n",
       "      <th>second</th>\n",
       "      <td>103.0</td>\n",
       "      <td>104.0</td>\n",
       "      <td>105.0</td>\n",
       "    </tr>\n",
       "    <tr>\n",
       "      <th>third</th>\n",
       "      <td>106.0</td>\n",
       "      <td>107.0</td>\n",
       "      <td>NaN</td>\n",
       "    </tr>\n",
       "  </tbody>\n",
       "</table>\n",
       "</div>"
      ],
      "text/plain": [
       "            a      b      c\n",
       "first   101.0  102.0    NaN\n",
       "second  103.0  104.0  105.0\n",
       "third   106.0  107.0    NaN"
      ]
     },
     "execution_count": 46,
     "metadata": {},
     "output_type": "execute_result"
    }
   ],
   "source": [
    "data=[{'a':101,'b':102},{'a':103,'b':104,'c':105},{'a':106,'b':107}]\n",
    "\n",
    "df1=pd.DataFrame(data, index=['first','second','third'],dtype=float)\n",
    "\n",
    "df1"
   ]
  },
  {
   "cell_type": "code",
   "execution_count": 47,
   "id": "27b65301",
   "metadata": {},
   "outputs": [
    {
     "data": {
      "text/html": [
       "<div>\n",
       "<style scoped>\n",
       "    .dataframe tbody tr th:only-of-type {\n",
       "        vertical-align: middle;\n",
       "    }\n",
       "\n",
       "    .dataframe tbody tr th {\n",
       "        vertical-align: top;\n",
       "    }\n",
       "\n",
       "    .dataframe thead th {\n",
       "        text-align: right;\n",
       "    }\n",
       "</style>\n",
       "<table border=\"1\" class=\"dataframe\">\n",
       "  <thead>\n",
       "    <tr style=\"text-align: right;\">\n",
       "      <th></th>\n",
       "      <th>a</th>\n",
       "      <th>b</th>\n",
       "    </tr>\n",
       "  </thead>\n",
       "  <tbody>\n",
       "    <tr>\n",
       "      <th>First</th>\n",
       "      <td>1</td>\n",
       "      <td>2</td>\n",
       "    </tr>\n",
       "    <tr>\n",
       "      <th>Second</th>\n",
       "      <td>3</td>\n",
       "      <td>4</td>\n",
       "    </tr>\n",
       "    <tr>\n",
       "      <th>Third</th>\n",
       "      <td>6</td>\n",
       "      <td>7</td>\n",
       "    </tr>\n",
       "  </tbody>\n",
       "</table>\n",
       "</div>"
      ],
      "text/plain": [
       "        a  b\n",
       "First   1  2\n",
       "Second  3  4\n",
       "Third   6  7"
      ]
     },
     "execution_count": 47,
     "metadata": {},
     "output_type": "execute_result"
    }
   ],
   "source": [
    "# in list dictionary display a and b columb\n",
    "\n",
    "data=[{'a':1,'b':2},{'a':3,'b':4,'c':5},{'a':6,'b':7,'c':8}]\n",
    "\n",
    "df=pd.DataFrame(data,index=['First','Second','Third'],columns=['a','b'],dtype=int)\n",
    "\n",
    "df"
   ]
  },
  {
   "cell_type": "code",
   "execution_count": 48,
   "id": "36efe29b",
   "metadata": {},
   "outputs": [
    {
     "data": {
      "text/html": [
       "<div>\n",
       "<style scoped>\n",
       "    .dataframe tbody tr th:only-of-type {\n",
       "        vertical-align: middle;\n",
       "    }\n",
       "\n",
       "    .dataframe tbody tr th {\n",
       "        vertical-align: top;\n",
       "    }\n",
       "\n",
       "    .dataframe thead th {\n",
       "        text-align: right;\n",
       "    }\n",
       "</style>\n",
       "<table border=\"1\" class=\"dataframe\">\n",
       "  <thead>\n",
       "    <tr style=\"text-align: right;\">\n",
       "      <th></th>\n",
       "      <th>a</th>\n",
       "      <th>c</th>\n",
       "      <th>b1</th>\n",
       "    </tr>\n",
       "  </thead>\n",
       "  <tbody>\n",
       "    <tr>\n",
       "      <th>First</th>\n",
       "      <td>1</td>\n",
       "      <td>NaN</td>\n",
       "      <td>NaN</td>\n",
       "    </tr>\n",
       "    <tr>\n",
       "      <th>Second</th>\n",
       "      <td>3</td>\n",
       "      <td>5.0</td>\n",
       "      <td>NaN</td>\n",
       "    </tr>\n",
       "    <tr>\n",
       "      <th>Third</th>\n",
       "      <td>6</td>\n",
       "      <td>8.0</td>\n",
       "      <td>NaN</td>\n",
       "    </tr>\n",
       "  </tbody>\n",
       "</table>\n",
       "</div>"
      ],
      "text/plain": [
       "        a    c  b1\n",
       "First   1  NaN NaN\n",
       "Second  3  5.0 NaN\n",
       "Third   6  8.0 NaN"
      ]
     },
     "execution_count": 48,
     "metadata": {},
     "output_type": "execute_result"
    }
   ],
   "source": [
    "#  b1 column doesnot exist to nan value is assigned\n",
    "\n",
    "data=[{'a':1,'b':2},{'a':3,'b':4,'c':5},{'a':6,'b':7,'c':8}]\n",
    "\n",
    "df=pd.DataFrame(data,index=['First','Second','Third'],columns=['a','c','b1'],dtype=int)\n",
    "\n",
    "df"
   ]
  },
  {
   "cell_type": "code",
   "execution_count": 49,
   "id": "9b777abc",
   "metadata": {},
   "outputs": [],
   "source": [
    "import pandas as pd\n",
    "import numpy as np"
   ]
  },
  {
   "cell_type": "raw",
   "id": "160c5ba8",
   "metadata": {},
   "source": [
    "generating Random data from numerical python\n",
    "\n",
    "\"\"\"\n",
    "df=pandas.DataFrame(np.random.randn(8rows,4column),index=[a,b,c,d,e,f,g,h],columns=['A','B','C','D']) #=generate +ve,-ve\n",
    "df=pd.DataFrame(data=np.random.rand(8,4),index=['a','b','c','d','e','f','g','h'],columns=['A','B','C','D']) #generate +ve\n",
    "df=pd.DataFrame(data=np.random.random(8,5),index=['a','b','c','d','e','f','g','h'],columns=['A','B','C','D'])\n",
    "\"\"\""
   ]
  },
  {
   "cell_type": "code",
   "execution_count": 50,
   "id": "0181a0e3",
   "metadata": {},
   "outputs": [],
   "source": [
    "df=pd.DataFrame(np.random.rand(8,4),columns=['A','B','C','D'])"
   ]
  },
  {
   "cell_type": "code",
   "execution_count": 51,
   "id": "1538906e",
   "metadata": {},
   "outputs": [
    {
     "data": {
      "text/html": [
       "<div>\n",
       "<style scoped>\n",
       "    .dataframe tbody tr th:only-of-type {\n",
       "        vertical-align: middle;\n",
       "    }\n",
       "\n",
       "    .dataframe tbody tr th {\n",
       "        vertical-align: top;\n",
       "    }\n",
       "\n",
       "    .dataframe thead th {\n",
       "        text-align: right;\n",
       "    }\n",
       "</style>\n",
       "<table border=\"1\" class=\"dataframe\">\n",
       "  <thead>\n",
       "    <tr style=\"text-align: right;\">\n",
       "      <th></th>\n",
       "      <th>A</th>\n",
       "      <th>B</th>\n",
       "      <th>C</th>\n",
       "      <th>D</th>\n",
       "    </tr>\n",
       "  </thead>\n",
       "  <tbody>\n",
       "    <tr>\n",
       "      <th>0</th>\n",
       "      <td>0.543515</td>\n",
       "      <td>0.260388</td>\n",
       "      <td>0.759490</td>\n",
       "      <td>0.681470</td>\n",
       "    </tr>\n",
       "    <tr>\n",
       "      <th>1</th>\n",
       "      <td>0.263170</td>\n",
       "      <td>0.203481</td>\n",
       "      <td>0.187157</td>\n",
       "      <td>0.928354</td>\n",
       "    </tr>\n",
       "    <tr>\n",
       "      <th>2</th>\n",
       "      <td>0.216520</td>\n",
       "      <td>0.795084</td>\n",
       "      <td>0.464157</td>\n",
       "      <td>0.773730</td>\n",
       "    </tr>\n",
       "    <tr>\n",
       "      <th>3</th>\n",
       "      <td>0.370464</td>\n",
       "      <td>0.987511</td>\n",
       "      <td>0.994984</td>\n",
       "      <td>0.628879</td>\n",
       "    </tr>\n",
       "    <tr>\n",
       "      <th>4</th>\n",
       "      <td>0.443692</td>\n",
       "      <td>0.869684</td>\n",
       "      <td>0.865831</td>\n",
       "      <td>0.844326</td>\n",
       "    </tr>\n",
       "    <tr>\n",
       "      <th>5</th>\n",
       "      <td>0.820683</td>\n",
       "      <td>0.908828</td>\n",
       "      <td>0.502893</td>\n",
       "      <td>0.470219</td>\n",
       "    </tr>\n",
       "    <tr>\n",
       "      <th>6</th>\n",
       "      <td>0.542198</td>\n",
       "      <td>0.486836</td>\n",
       "      <td>0.017355</td>\n",
       "      <td>0.794758</td>\n",
       "    </tr>\n",
       "    <tr>\n",
       "      <th>7</th>\n",
       "      <td>0.702728</td>\n",
       "      <td>0.297828</td>\n",
       "      <td>0.498811</td>\n",
       "      <td>0.691973</td>\n",
       "    </tr>\n",
       "  </tbody>\n",
       "</table>\n",
       "</div>"
      ],
      "text/plain": [
       "          A         B         C         D\n",
       "0  0.543515  0.260388  0.759490  0.681470\n",
       "1  0.263170  0.203481  0.187157  0.928354\n",
       "2  0.216520  0.795084  0.464157  0.773730\n",
       "3  0.370464  0.987511  0.994984  0.628879\n",
       "4  0.443692  0.869684  0.865831  0.844326\n",
       "5  0.820683  0.908828  0.502893  0.470219\n",
       "6  0.542198  0.486836  0.017355  0.794758\n",
       "7  0.702728  0.297828  0.498811  0.691973"
      ]
     },
     "execution_count": 51,
     "metadata": {},
     "output_type": "execute_result"
    }
   ],
   "source": [
    "df"
   ]
  },
  {
   "cell_type": "code",
   "execution_count": 52,
   "id": "d8af3899",
   "metadata": {},
   "outputs": [
    {
     "name": "stdout",
     "output_type": "stream",
     "text": [
      "0    0.543515\n",
      "1    0.263170\n",
      "2    0.216520\n",
      "3    0.370464\n",
      "4    0.443692\n",
      "5    0.820683\n",
      "6    0.542198\n",
      "7    0.702728\n",
      "Name: A, dtype: float64\n"
     ]
    }
   ],
   "source": [
    "# finding by location function\n",
    "\n",
    "print(df.loc[:,'A'])"
   ]
  },
  {
   "cell_type": "code",
   "execution_count": 53,
   "id": "a13a8c54",
   "metadata": {},
   "outputs": [
    {
     "name": "stdout",
     "output_type": "stream",
     "text": [
      "          A         B\n",
      "0  0.543515  0.260388\n",
      "1  0.263170  0.203481\n",
      "2  0.216520  0.795084\n",
      "3  0.370464  0.987511\n",
      "4  0.443692  0.869684\n",
      "5  0.820683  0.908828\n",
      "6  0.542198  0.486836\n",
      "7  0.702728  0.297828\n"
     ]
    }
   ],
   "source": [
    "print(df.loc[:,'A':'B'])"
   ]
  },
  {
   "cell_type": "code",
   "execution_count": null,
   "id": "bdcf7975",
   "metadata": {},
   "outputs": [],
   "source": []
  }
 ],
 "metadata": {
  "kernelspec": {
   "display_name": "Python 3 (ipykernel)",
   "language": "python",
   "name": "python3"
  },
  "language_info": {
   "codemirror_mode": {
    "name": "ipython",
    "version": 3
   },
   "file_extension": ".py",
   "mimetype": "text/x-python",
   "name": "python",
   "nbconvert_exporter": "python",
   "pygments_lexer": "ipython3",
   "version": "3.9.12"
  }
 },
 "nbformat": 4,
 "nbformat_minor": 5
}
