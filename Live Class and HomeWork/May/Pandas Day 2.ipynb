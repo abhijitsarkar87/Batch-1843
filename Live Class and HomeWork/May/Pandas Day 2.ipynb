{
 "cells": [
  {
   "cell_type": "markdown",
   "id": "00f1ab69",
   "metadata": {},
   "source": [
    "# PANDAS DAY TWO"
   ]
  },
  {
   "cell_type": "code",
   "execution_count": 1,
   "id": "37dbf76f",
   "metadata": {},
   "outputs": [
    {
     "data": {
      "text/plain": [
       "'\\nPandas \\n\\n1> Series--------->1D data\\n\\n2> DataFrame------>2ndim Data\\n\\nIndex and slicing:\\n    \\n>iloc: search index location wise,, o response for last row.\\n\\n>df.loc: search by location wise,, all rows are fetched by loc search\\n'"
      ]
     },
     "execution_count": 1,
     "metadata": {},
     "output_type": "execute_result"
    }
   ],
   "source": [
    "\"\"\"\n",
    "Pandas \n",
    "\n",
    "1> Series--------->1D data\n",
    "\n",
    "2> DataFrame------>2ndim Data\n",
    "\n",
    "Index and slicing:\n",
    "    \n",
    ">iloc: search index location wise,, o response for last row.\n",
    "\n",
    ">df.loc: search by location wise,, all rows are fetched by loc search\n",
    "\"\"\""
   ]
  },
  {
   "cell_type": "code",
   "execution_count": 2,
   "id": "24e8cab9",
   "metadata": {},
   "outputs": [],
   "source": [
    "import pandas as pd"
   ]
  },
  {
   "cell_type": "code",
   "execution_count": 4,
   "id": "b2380ed2",
   "metadata": {},
   "outputs": [],
   "source": [
    "import numpy as np"
   ]
  },
  {
   "cell_type": "code",
   "execution_count": 6,
   "id": "9ee7cd2e",
   "metadata": {},
   "outputs": [],
   "source": [
    "df=pd.DataFrame(np.random.random ([8,5]),columns=['A','B','C','D','E'])"
   ]
  },
  {
   "cell_type": "code",
   "execution_count": 7,
   "id": "04ea72e6",
   "metadata": {},
   "outputs": [
    {
     "data": {
      "text/html": [
       "<div>\n",
       "<style scoped>\n",
       "    .dataframe tbody tr th:only-of-type {\n",
       "        vertical-align: middle;\n",
       "    }\n",
       "\n",
       "    .dataframe tbody tr th {\n",
       "        vertical-align: top;\n",
       "    }\n",
       "\n",
       "    .dataframe thead th {\n",
       "        text-align: right;\n",
       "    }\n",
       "</style>\n",
       "<table border=\"1\" class=\"dataframe\">\n",
       "  <thead>\n",
       "    <tr style=\"text-align: right;\">\n",
       "      <th></th>\n",
       "      <th>A</th>\n",
       "      <th>B</th>\n",
       "      <th>C</th>\n",
       "      <th>D</th>\n",
       "      <th>E</th>\n",
       "    </tr>\n",
       "  </thead>\n",
       "  <tbody>\n",
       "    <tr>\n",
       "      <th>0</th>\n",
       "      <td>0.642790</td>\n",
       "      <td>0.855205</td>\n",
       "      <td>0.780432</td>\n",
       "      <td>0.178582</td>\n",
       "      <td>0.540349</td>\n",
       "    </tr>\n",
       "    <tr>\n",
       "      <th>1</th>\n",
       "      <td>0.407880</td>\n",
       "      <td>0.320686</td>\n",
       "      <td>0.793819</td>\n",
       "      <td>0.973711</td>\n",
       "      <td>0.399330</td>\n",
       "    </tr>\n",
       "    <tr>\n",
       "      <th>2</th>\n",
       "      <td>0.394655</td>\n",
       "      <td>0.704332</td>\n",
       "      <td>0.420413</td>\n",
       "      <td>0.228474</td>\n",
       "      <td>0.201116</td>\n",
       "    </tr>\n",
       "    <tr>\n",
       "      <th>3</th>\n",
       "      <td>0.542983</td>\n",
       "      <td>0.868908</td>\n",
       "      <td>0.296867</td>\n",
       "      <td>0.100932</td>\n",
       "      <td>0.526818</td>\n",
       "    </tr>\n",
       "    <tr>\n",
       "      <th>4</th>\n",
       "      <td>0.303988</td>\n",
       "      <td>0.860637</td>\n",
       "      <td>0.017250</td>\n",
       "      <td>0.427801</td>\n",
       "      <td>0.222403</td>\n",
       "    </tr>\n",
       "    <tr>\n",
       "      <th>5</th>\n",
       "      <td>0.473165</td>\n",
       "      <td>0.237754</td>\n",
       "      <td>0.785574</td>\n",
       "      <td>0.968935</td>\n",
       "      <td>0.985750</td>\n",
       "    </tr>\n",
       "    <tr>\n",
       "      <th>6</th>\n",
       "      <td>0.634849</td>\n",
       "      <td>0.799685</td>\n",
       "      <td>0.398144</td>\n",
       "      <td>0.450321</td>\n",
       "      <td>0.136927</td>\n",
       "    </tr>\n",
       "    <tr>\n",
       "      <th>7</th>\n",
       "      <td>0.047619</td>\n",
       "      <td>0.014874</td>\n",
       "      <td>0.308818</td>\n",
       "      <td>0.697685</td>\n",
       "      <td>0.534818</td>\n",
       "    </tr>\n",
       "  </tbody>\n",
       "</table>\n",
       "</div>"
      ],
      "text/plain": [
       "          A         B         C         D         E\n",
       "0  0.642790  0.855205  0.780432  0.178582  0.540349\n",
       "1  0.407880  0.320686  0.793819  0.973711  0.399330\n",
       "2  0.394655  0.704332  0.420413  0.228474  0.201116\n",
       "3  0.542983  0.868908  0.296867  0.100932  0.526818\n",
       "4  0.303988  0.860637  0.017250  0.427801  0.222403\n",
       "5  0.473165  0.237754  0.785574  0.968935  0.985750\n",
       "6  0.634849  0.799685  0.398144  0.450321  0.136927\n",
       "7  0.047619  0.014874  0.308818  0.697685  0.534818"
      ]
     },
     "execution_count": 7,
     "metadata": {},
     "output_type": "execute_result"
    }
   ],
   "source": [
    "df"
   ]
  },
  {
   "cell_type": "code",
   "execution_count": 10,
   "id": "75c137be",
   "metadata": {},
   "outputs": [],
   "source": [
    "df1=pd.DataFrame(np.random.randn(8,4),columns=['A','B','C','D'])"
   ]
  },
  {
   "cell_type": "code",
   "execution_count": 11,
   "id": "cc36de22",
   "metadata": {},
   "outputs": [
    {
     "data": {
      "text/html": [
       "<div>\n",
       "<style scoped>\n",
       "    .dataframe tbody tr th:only-of-type {\n",
       "        vertical-align: middle;\n",
       "    }\n",
       "\n",
       "    .dataframe tbody tr th {\n",
       "        vertical-align: top;\n",
       "    }\n",
       "\n",
       "    .dataframe thead th {\n",
       "        text-align: right;\n",
       "    }\n",
       "</style>\n",
       "<table border=\"1\" class=\"dataframe\">\n",
       "  <thead>\n",
       "    <tr style=\"text-align: right;\">\n",
       "      <th></th>\n",
       "      <th>A</th>\n",
       "      <th>B</th>\n",
       "      <th>C</th>\n",
       "      <th>D</th>\n",
       "    </tr>\n",
       "  </thead>\n",
       "  <tbody>\n",
       "    <tr>\n",
       "      <th>0</th>\n",
       "      <td>-1.411672</td>\n",
       "      <td>-0.371100</td>\n",
       "      <td>-0.338720</td>\n",
       "      <td>-0.266824</td>\n",
       "    </tr>\n",
       "    <tr>\n",
       "      <th>1</th>\n",
       "      <td>-2.428395</td>\n",
       "      <td>0.584197</td>\n",
       "      <td>1.657431</td>\n",
       "      <td>0.216584</td>\n",
       "    </tr>\n",
       "    <tr>\n",
       "      <th>2</th>\n",
       "      <td>-0.013467</td>\n",
       "      <td>-1.039044</td>\n",
       "      <td>0.487187</td>\n",
       "      <td>0.597568</td>\n",
       "    </tr>\n",
       "    <tr>\n",
       "      <th>3</th>\n",
       "      <td>-4.048224</td>\n",
       "      <td>-0.869336</td>\n",
       "      <td>1.076532</td>\n",
       "      <td>-1.676679</td>\n",
       "    </tr>\n",
       "    <tr>\n",
       "      <th>4</th>\n",
       "      <td>0.577565</td>\n",
       "      <td>-1.579452</td>\n",
       "      <td>-0.164368</td>\n",
       "      <td>0.289153</td>\n",
       "    </tr>\n",
       "    <tr>\n",
       "      <th>5</th>\n",
       "      <td>0.327686</td>\n",
       "      <td>-0.788779</td>\n",
       "      <td>1.598792</td>\n",
       "      <td>-2.178848</td>\n",
       "    </tr>\n",
       "    <tr>\n",
       "      <th>6</th>\n",
       "      <td>0.743597</td>\n",
       "      <td>0.261109</td>\n",
       "      <td>1.006681</td>\n",
       "      <td>-1.568575</td>\n",
       "    </tr>\n",
       "    <tr>\n",
       "      <th>7</th>\n",
       "      <td>0.418046</td>\n",
       "      <td>0.222733</td>\n",
       "      <td>0.466340</td>\n",
       "      <td>0.172801</td>\n",
       "    </tr>\n",
       "  </tbody>\n",
       "</table>\n",
       "</div>"
      ],
      "text/plain": [
       "          A         B         C         D\n",
       "0 -1.411672 -0.371100 -0.338720 -0.266824\n",
       "1 -2.428395  0.584197  1.657431  0.216584\n",
       "2 -0.013467 -1.039044  0.487187  0.597568\n",
       "3 -4.048224 -0.869336  1.076532 -1.676679\n",
       "4  0.577565 -1.579452 -0.164368  0.289153\n",
       "5  0.327686 -0.788779  1.598792 -2.178848\n",
       "6  0.743597  0.261109  1.006681 -1.568575\n",
       "7  0.418046  0.222733  0.466340  0.172801"
      ]
     },
     "execution_count": 11,
     "metadata": {},
     "output_type": "execute_result"
    }
   ],
   "source": [
    "df1"
   ]
  },
  {
   "cell_type": "code",
   "execution_count": 12,
   "id": "1e55d030",
   "metadata": {},
   "outputs": [],
   "source": [
    "df2=pd.DataFrame(np.random.rand(8,5),columns=['A','B','C','D','E'])"
   ]
  },
  {
   "cell_type": "code",
   "execution_count": 13,
   "id": "a3365579",
   "metadata": {},
   "outputs": [
    {
     "data": {
      "text/html": [
       "<div>\n",
       "<style scoped>\n",
       "    .dataframe tbody tr th:only-of-type {\n",
       "        vertical-align: middle;\n",
       "    }\n",
       "\n",
       "    .dataframe tbody tr th {\n",
       "        vertical-align: top;\n",
       "    }\n",
       "\n",
       "    .dataframe thead th {\n",
       "        text-align: right;\n",
       "    }\n",
       "</style>\n",
       "<table border=\"1\" class=\"dataframe\">\n",
       "  <thead>\n",
       "    <tr style=\"text-align: right;\">\n",
       "      <th></th>\n",
       "      <th>A</th>\n",
       "      <th>B</th>\n",
       "      <th>C</th>\n",
       "      <th>D</th>\n",
       "      <th>E</th>\n",
       "    </tr>\n",
       "  </thead>\n",
       "  <tbody>\n",
       "    <tr>\n",
       "      <th>0</th>\n",
       "      <td>0.946987</td>\n",
       "      <td>0.606771</td>\n",
       "      <td>0.766614</td>\n",
       "      <td>0.430341</td>\n",
       "      <td>0.331784</td>\n",
       "    </tr>\n",
       "    <tr>\n",
       "      <th>1</th>\n",
       "      <td>0.743469</td>\n",
       "      <td>0.382472</td>\n",
       "      <td>0.955654</td>\n",
       "      <td>0.658613</td>\n",
       "      <td>0.187496</td>\n",
       "    </tr>\n",
       "    <tr>\n",
       "      <th>2</th>\n",
       "      <td>0.037715</td>\n",
       "      <td>0.581947</td>\n",
       "      <td>0.986354</td>\n",
       "      <td>0.208781</td>\n",
       "      <td>0.438979</td>\n",
       "    </tr>\n",
       "    <tr>\n",
       "      <th>3</th>\n",
       "      <td>0.287088</td>\n",
       "      <td>0.613484</td>\n",
       "      <td>0.956124</td>\n",
       "      <td>0.477933</td>\n",
       "      <td>0.224806</td>\n",
       "    </tr>\n",
       "    <tr>\n",
       "      <th>4</th>\n",
       "      <td>0.494716</td>\n",
       "      <td>0.990344</td>\n",
       "      <td>0.131296</td>\n",
       "      <td>0.603788</td>\n",
       "      <td>0.589840</td>\n",
       "    </tr>\n",
       "    <tr>\n",
       "      <th>5</th>\n",
       "      <td>0.251204</td>\n",
       "      <td>0.302741</td>\n",
       "      <td>0.705283</td>\n",
       "      <td>0.083959</td>\n",
       "      <td>0.759718</td>\n",
       "    </tr>\n",
       "    <tr>\n",
       "      <th>6</th>\n",
       "      <td>0.190971</td>\n",
       "      <td>0.805135</td>\n",
       "      <td>0.244622</td>\n",
       "      <td>0.324835</td>\n",
       "      <td>0.157701</td>\n",
       "    </tr>\n",
       "    <tr>\n",
       "      <th>7</th>\n",
       "      <td>0.275129</td>\n",
       "      <td>0.248462</td>\n",
       "      <td>0.908729</td>\n",
       "      <td>0.786266</td>\n",
       "      <td>0.867569</td>\n",
       "    </tr>\n",
       "  </tbody>\n",
       "</table>\n",
       "</div>"
      ],
      "text/plain": [
       "          A         B         C         D         E\n",
       "0  0.946987  0.606771  0.766614  0.430341  0.331784\n",
       "1  0.743469  0.382472  0.955654  0.658613  0.187496\n",
       "2  0.037715  0.581947  0.986354  0.208781  0.438979\n",
       "3  0.287088  0.613484  0.956124  0.477933  0.224806\n",
       "4  0.494716  0.990344  0.131296  0.603788  0.589840\n",
       "5  0.251204  0.302741  0.705283  0.083959  0.759718\n",
       "6  0.190971  0.805135  0.244622  0.324835  0.157701\n",
       "7  0.275129  0.248462  0.908729  0.786266  0.867569"
      ]
     },
     "execution_count": 13,
     "metadata": {},
     "output_type": "execute_result"
    }
   ],
   "source": [
    "df2"
   ]
  },
  {
   "cell_type": "code",
   "execution_count": 14,
   "id": "a2837e9f",
   "metadata": {},
   "outputs": [
    {
     "data": {
      "text/html": [
       "<div>\n",
       "<style scoped>\n",
       "    .dataframe tbody tr th:only-of-type {\n",
       "        vertical-align: middle;\n",
       "    }\n",
       "\n",
       "    .dataframe tbody tr th {\n",
       "        vertical-align: top;\n",
       "    }\n",
       "\n",
       "    .dataframe thead th {\n",
       "        text-align: right;\n",
       "    }\n",
       "</style>\n",
       "<table border=\"1\" class=\"dataframe\">\n",
       "  <thead>\n",
       "    <tr style=\"text-align: right;\">\n",
       "      <th></th>\n",
       "      <th>A</th>\n",
       "      <th>B</th>\n",
       "      <th>C</th>\n",
       "      <th>D</th>\n",
       "    </tr>\n",
       "  </thead>\n",
       "  <tbody>\n",
       "    <tr>\n",
       "      <th>0</th>\n",
       "      <td>-1.411672</td>\n",
       "      <td>-0.371100</td>\n",
       "      <td>-0.338720</td>\n",
       "      <td>-0.266824</td>\n",
       "    </tr>\n",
       "    <tr>\n",
       "      <th>1</th>\n",
       "      <td>-2.428395</td>\n",
       "      <td>0.584197</td>\n",
       "      <td>1.657431</td>\n",
       "      <td>0.216584</td>\n",
       "    </tr>\n",
       "    <tr>\n",
       "      <th>2</th>\n",
       "      <td>-0.013467</td>\n",
       "      <td>-1.039044</td>\n",
       "      <td>0.487187</td>\n",
       "      <td>0.597568</td>\n",
       "    </tr>\n",
       "    <tr>\n",
       "      <th>3</th>\n",
       "      <td>-4.048224</td>\n",
       "      <td>-0.869336</td>\n",
       "      <td>1.076532</td>\n",
       "      <td>-1.676679</td>\n",
       "    </tr>\n",
       "    <tr>\n",
       "      <th>4</th>\n",
       "      <td>0.577565</td>\n",
       "      <td>-1.579452</td>\n",
       "      <td>-0.164368</td>\n",
       "      <td>0.289153</td>\n",
       "    </tr>\n",
       "    <tr>\n",
       "      <th>5</th>\n",
       "      <td>0.327686</td>\n",
       "      <td>-0.788779</td>\n",
       "      <td>1.598792</td>\n",
       "      <td>-2.178848</td>\n",
       "    </tr>\n",
       "    <tr>\n",
       "      <th>6</th>\n",
       "      <td>0.743597</td>\n",
       "      <td>0.261109</td>\n",
       "      <td>1.006681</td>\n",
       "      <td>-1.568575</td>\n",
       "    </tr>\n",
       "    <tr>\n",
       "      <th>7</th>\n",
       "      <td>0.418046</td>\n",
       "      <td>0.222733</td>\n",
       "      <td>0.466340</td>\n",
       "      <td>0.172801</td>\n",
       "    </tr>\n",
       "  </tbody>\n",
       "</table>\n",
       "</div>"
      ],
      "text/plain": [
       "          A         B         C         D\n",
       "0 -1.411672 -0.371100 -0.338720 -0.266824\n",
       "1 -2.428395  0.584197  1.657431  0.216584\n",
       "2 -0.013467 -1.039044  0.487187  0.597568\n",
       "3 -4.048224 -0.869336  1.076532 -1.676679\n",
       "4  0.577565 -1.579452 -0.164368  0.289153\n",
       "5  0.327686 -0.788779  1.598792 -2.178848\n",
       "6  0.743597  0.261109  1.006681 -1.568575\n",
       "7  0.418046  0.222733  0.466340  0.172801"
      ]
     },
     "execution_count": 14,
     "metadata": {},
     "output_type": "execute_result"
    }
   ],
   "source": [
    "df1"
   ]
  },
  {
   "cell_type": "code",
   "execution_count": 15,
   "id": "8edc1abb",
   "metadata": {},
   "outputs": [
    {
     "data": {
      "text/html": [
       "<div>\n",
       "<style scoped>\n",
       "    .dataframe tbody tr th:only-of-type {\n",
       "        vertical-align: middle;\n",
       "    }\n",
       "\n",
       "    .dataframe tbody tr th {\n",
       "        vertical-align: top;\n",
       "    }\n",
       "\n",
       "    .dataframe thead th {\n",
       "        text-align: right;\n",
       "    }\n",
       "</style>\n",
       "<table border=\"1\" class=\"dataframe\">\n",
       "  <thead>\n",
       "    <tr style=\"text-align: right;\">\n",
       "      <th></th>\n",
       "      <th>C</th>\n",
       "      <th>D</th>\n",
       "    </tr>\n",
       "  </thead>\n",
       "  <tbody>\n",
       "    <tr>\n",
       "      <th>6</th>\n",
       "      <td>1.006681</td>\n",
       "      <td>-1.568575</td>\n",
       "    </tr>\n",
       "    <tr>\n",
       "      <th>7</th>\n",
       "      <td>0.466340</td>\n",
       "      <td>0.172801</td>\n",
       "    </tr>\n",
       "  </tbody>\n",
       "</table>\n",
       "</div>"
      ],
      "text/plain": [
       "          C         D\n",
       "6  1.006681 -1.568575\n",
       "7  0.466340  0.172801"
      ]
     },
     "execution_count": 15,
     "metadata": {},
     "output_type": "execute_result"
    }
   ],
   "source": [
    "df1.iloc[6:,2:]"
   ]
  },
  {
   "cell_type": "code",
   "execution_count": 16,
   "id": "e14e65f9",
   "metadata": {},
   "outputs": [
    {
     "data": {
      "text/html": [
       "<div>\n",
       "<style scoped>\n",
       "    .dataframe tbody tr th:only-of-type {\n",
       "        vertical-align: middle;\n",
       "    }\n",
       "\n",
       "    .dataframe tbody tr th {\n",
       "        vertical-align: top;\n",
       "    }\n",
       "\n",
       "    .dataframe thead th {\n",
       "        text-align: right;\n",
       "    }\n",
       "</style>\n",
       "<table border=\"1\" class=\"dataframe\">\n",
       "  <thead>\n",
       "    <tr style=\"text-align: right;\">\n",
       "      <th></th>\n",
       "      <th>C</th>\n",
       "      <th>D</th>\n",
       "    </tr>\n",
       "  </thead>\n",
       "  <tbody>\n",
       "    <tr>\n",
       "      <th>6</th>\n",
       "      <td>1.006681</td>\n",
       "      <td>-1.568575</td>\n",
       "    </tr>\n",
       "    <tr>\n",
       "      <th>7</th>\n",
       "      <td>0.466340</td>\n",
       "      <td>0.172801</td>\n",
       "    </tr>\n",
       "  </tbody>\n",
       "</table>\n",
       "</div>"
      ],
      "text/plain": [
       "          C         D\n",
       "6  1.006681 -1.568575\n",
       "7  0.466340  0.172801"
      ]
     },
     "execution_count": 16,
     "metadata": {},
     "output_type": "execute_result"
    }
   ],
   "source": [
    "df1.loc[6:7,'C':'D']"
   ]
  },
  {
   "cell_type": "code",
   "execution_count": 17,
   "id": "3ce09317",
   "metadata": {},
   "outputs": [
    {
     "data": {
      "text/html": [
       "<div>\n",
       "<style scoped>\n",
       "    .dataframe tbody tr th:only-of-type {\n",
       "        vertical-align: middle;\n",
       "    }\n",
       "\n",
       "    .dataframe tbody tr th {\n",
       "        vertical-align: top;\n",
       "    }\n",
       "\n",
       "    .dataframe thead th {\n",
       "        text-align: right;\n",
       "    }\n",
       "</style>\n",
       "<table border=\"1\" class=\"dataframe\">\n",
       "  <thead>\n",
       "    <tr style=\"text-align: right;\">\n",
       "      <th></th>\n",
       "      <th>A</th>\n",
       "      <th>B</th>\n",
       "      <th>C</th>\n",
       "      <th>D</th>\n",
       "      <th>E</th>\n",
       "    </tr>\n",
       "  </thead>\n",
       "  <tbody>\n",
       "    <tr>\n",
       "      <th>0</th>\n",
       "      <td>0.946987</td>\n",
       "      <td>0.606771</td>\n",
       "      <td>0.766614</td>\n",
       "      <td>0.430341</td>\n",
       "      <td>0.331784</td>\n",
       "    </tr>\n",
       "    <tr>\n",
       "      <th>1</th>\n",
       "      <td>0.743469</td>\n",
       "      <td>0.382472</td>\n",
       "      <td>0.955654</td>\n",
       "      <td>0.658613</td>\n",
       "      <td>0.187496</td>\n",
       "    </tr>\n",
       "    <tr>\n",
       "      <th>2</th>\n",
       "      <td>0.037715</td>\n",
       "      <td>0.581947</td>\n",
       "      <td>0.986354</td>\n",
       "      <td>0.208781</td>\n",
       "      <td>0.438979</td>\n",
       "    </tr>\n",
       "    <tr>\n",
       "      <th>3</th>\n",
       "      <td>0.287088</td>\n",
       "      <td>0.613484</td>\n",
       "      <td>0.956124</td>\n",
       "      <td>0.477933</td>\n",
       "      <td>0.224806</td>\n",
       "    </tr>\n",
       "    <tr>\n",
       "      <th>4</th>\n",
       "      <td>0.494716</td>\n",
       "      <td>0.990344</td>\n",
       "      <td>0.131296</td>\n",
       "      <td>0.603788</td>\n",
       "      <td>0.589840</td>\n",
       "    </tr>\n",
       "    <tr>\n",
       "      <th>5</th>\n",
       "      <td>0.251204</td>\n",
       "      <td>0.302741</td>\n",
       "      <td>0.705283</td>\n",
       "      <td>0.083959</td>\n",
       "      <td>0.759718</td>\n",
       "    </tr>\n",
       "    <tr>\n",
       "      <th>6</th>\n",
       "      <td>0.190971</td>\n",
       "      <td>0.805135</td>\n",
       "      <td>0.244622</td>\n",
       "      <td>0.324835</td>\n",
       "      <td>0.157701</td>\n",
       "    </tr>\n",
       "    <tr>\n",
       "      <th>7</th>\n",
       "      <td>0.275129</td>\n",
       "      <td>0.248462</td>\n",
       "      <td>0.908729</td>\n",
       "      <td>0.786266</td>\n",
       "      <td>0.867569</td>\n",
       "    </tr>\n",
       "  </tbody>\n",
       "</table>\n",
       "</div>"
      ],
      "text/plain": [
       "          A         B         C         D         E\n",
       "0  0.946987  0.606771  0.766614  0.430341  0.331784\n",
       "1  0.743469  0.382472  0.955654  0.658613  0.187496\n",
       "2  0.037715  0.581947  0.986354  0.208781  0.438979\n",
       "3  0.287088  0.613484  0.956124  0.477933  0.224806\n",
       "4  0.494716  0.990344  0.131296  0.603788  0.589840\n",
       "5  0.251204  0.302741  0.705283  0.083959  0.759718\n",
       "6  0.190971  0.805135  0.244622  0.324835  0.157701\n",
       "7  0.275129  0.248462  0.908729  0.786266  0.867569"
      ]
     },
     "execution_count": 17,
     "metadata": {},
     "output_type": "execute_result"
    }
   ],
   "source": [
    "df2"
   ]
  },
  {
   "cell_type": "code",
   "execution_count": 18,
   "id": "0577de88",
   "metadata": {},
   "outputs": [
    {
     "data": {
      "text/html": [
       "<div>\n",
       "<style scoped>\n",
       "    .dataframe tbody tr th:only-of-type {\n",
       "        vertical-align: middle;\n",
       "    }\n",
       "\n",
       "    .dataframe tbody tr th {\n",
       "        vertical-align: top;\n",
       "    }\n",
       "\n",
       "    .dataframe thead th {\n",
       "        text-align: right;\n",
       "    }\n",
       "</style>\n",
       "<table border=\"1\" class=\"dataframe\">\n",
       "  <thead>\n",
       "    <tr style=\"text-align: right;\">\n",
       "      <th></th>\n",
       "      <th>C</th>\n",
       "      <th>D</th>\n",
       "      <th>E</th>\n",
       "    </tr>\n",
       "  </thead>\n",
       "  <tbody>\n",
       "    <tr>\n",
       "      <th>4</th>\n",
       "      <td>0.131296</td>\n",
       "      <td>0.603788</td>\n",
       "      <td>0.589840</td>\n",
       "    </tr>\n",
       "    <tr>\n",
       "      <th>5</th>\n",
       "      <td>0.705283</td>\n",
       "      <td>0.083959</td>\n",
       "      <td>0.759718</td>\n",
       "    </tr>\n",
       "    <tr>\n",
       "      <th>6</th>\n",
       "      <td>0.244622</td>\n",
       "      <td>0.324835</td>\n",
       "      <td>0.157701</td>\n",
       "    </tr>\n",
       "    <tr>\n",
       "      <th>7</th>\n",
       "      <td>0.908729</td>\n",
       "      <td>0.786266</td>\n",
       "      <td>0.867569</td>\n",
       "    </tr>\n",
       "  </tbody>\n",
       "</table>\n",
       "</div>"
      ],
      "text/plain": [
       "          C         D         E\n",
       "4  0.131296  0.603788  0.589840\n",
       "5  0.705283  0.083959  0.759718\n",
       "6  0.244622  0.324835  0.157701\n",
       "7  0.908729  0.786266  0.867569"
      ]
     },
     "execution_count": 18,
     "metadata": {},
     "output_type": "execute_result"
    }
   ],
   "source": [
    "df2.iloc[4:,2:]"
   ]
  },
  {
   "cell_type": "markdown",
   "id": "6571784b",
   "metadata": {},
   "source": [
    "### Negative indexing"
   ]
  },
  {
   "cell_type": "code",
   "execution_count": 19,
   "id": "d0b5bb0a",
   "metadata": {},
   "outputs": [
    {
     "data": {
      "text/html": [
       "<div>\n",
       "<style scoped>\n",
       "    .dataframe tbody tr th:only-of-type {\n",
       "        vertical-align: middle;\n",
       "    }\n",
       "\n",
       "    .dataframe tbody tr th {\n",
       "        vertical-align: top;\n",
       "    }\n",
       "\n",
       "    .dataframe thead th {\n",
       "        text-align: right;\n",
       "    }\n",
       "</style>\n",
       "<table border=\"1\" class=\"dataframe\">\n",
       "  <thead>\n",
       "    <tr style=\"text-align: right;\">\n",
       "      <th></th>\n",
       "      <th>A</th>\n",
       "      <th>B</th>\n",
       "      <th>C</th>\n",
       "      <th>D</th>\n",
       "      <th>E</th>\n",
       "    </tr>\n",
       "  </thead>\n",
       "  <tbody>\n",
       "    <tr>\n",
       "      <th>0</th>\n",
       "      <td>0.946987</td>\n",
       "      <td>0.606771</td>\n",
       "      <td>0.766614</td>\n",
       "      <td>0.430341</td>\n",
       "      <td>0.331784</td>\n",
       "    </tr>\n",
       "    <tr>\n",
       "      <th>1</th>\n",
       "      <td>0.743469</td>\n",
       "      <td>0.382472</td>\n",
       "      <td>0.955654</td>\n",
       "      <td>0.658613</td>\n",
       "      <td>0.187496</td>\n",
       "    </tr>\n",
       "    <tr>\n",
       "      <th>2</th>\n",
       "      <td>0.037715</td>\n",
       "      <td>0.581947</td>\n",
       "      <td>0.986354</td>\n",
       "      <td>0.208781</td>\n",
       "      <td>0.438979</td>\n",
       "    </tr>\n",
       "    <tr>\n",
       "      <th>3</th>\n",
       "      <td>0.287088</td>\n",
       "      <td>0.613484</td>\n",
       "      <td>0.956124</td>\n",
       "      <td>0.477933</td>\n",
       "      <td>0.224806</td>\n",
       "    </tr>\n",
       "    <tr>\n",
       "      <th>4</th>\n",
       "      <td>0.494716</td>\n",
       "      <td>0.990344</td>\n",
       "      <td>0.131296</td>\n",
       "      <td>0.603788</td>\n",
       "      <td>0.589840</td>\n",
       "    </tr>\n",
       "    <tr>\n",
       "      <th>5</th>\n",
       "      <td>0.251204</td>\n",
       "      <td>0.302741</td>\n",
       "      <td>0.705283</td>\n",
       "      <td>0.083959</td>\n",
       "      <td>0.759718</td>\n",
       "    </tr>\n",
       "    <tr>\n",
       "      <th>6</th>\n",
       "      <td>0.190971</td>\n",
       "      <td>0.805135</td>\n",
       "      <td>0.244622</td>\n",
       "      <td>0.324835</td>\n",
       "      <td>0.157701</td>\n",
       "    </tr>\n",
       "    <tr>\n",
       "      <th>7</th>\n",
       "      <td>0.275129</td>\n",
       "      <td>0.248462</td>\n",
       "      <td>0.908729</td>\n",
       "      <td>0.786266</td>\n",
       "      <td>0.867569</td>\n",
       "    </tr>\n",
       "  </tbody>\n",
       "</table>\n",
       "</div>"
      ],
      "text/plain": [
       "          A         B         C         D         E\n",
       "0  0.946987  0.606771  0.766614  0.430341  0.331784\n",
       "1  0.743469  0.382472  0.955654  0.658613  0.187496\n",
       "2  0.037715  0.581947  0.986354  0.208781  0.438979\n",
       "3  0.287088  0.613484  0.956124  0.477933  0.224806\n",
       "4  0.494716  0.990344  0.131296  0.603788  0.589840\n",
       "5  0.251204  0.302741  0.705283  0.083959  0.759718\n",
       "6  0.190971  0.805135  0.244622  0.324835  0.157701\n",
       "7  0.275129  0.248462  0.908729  0.786266  0.867569"
      ]
     },
     "execution_count": 19,
     "metadata": {},
     "output_type": "execute_result"
    }
   ],
   "source": [
    "df2"
   ]
  },
  {
   "cell_type": "code",
   "execution_count": 20,
   "id": "89cf27be",
   "metadata": {},
   "outputs": [
    {
     "data": {
      "text/html": [
       "<div>\n",
       "<style scoped>\n",
       "    .dataframe tbody tr th:only-of-type {\n",
       "        vertical-align: middle;\n",
       "    }\n",
       "\n",
       "    .dataframe tbody tr th {\n",
       "        vertical-align: top;\n",
       "    }\n",
       "\n",
       "    .dataframe thead th {\n",
       "        text-align: right;\n",
       "    }\n",
       "</style>\n",
       "<table border=\"1\" class=\"dataframe\">\n",
       "  <thead>\n",
       "    <tr style=\"text-align: right;\">\n",
       "      <th></th>\n",
       "      <th>C</th>\n",
       "    </tr>\n",
       "  </thead>\n",
       "  <tbody>\n",
       "    <tr>\n",
       "      <th>0</th>\n",
       "      <td>0.766614</td>\n",
       "    </tr>\n",
       "    <tr>\n",
       "      <th>1</th>\n",
       "      <td>0.955654</td>\n",
       "    </tr>\n",
       "    <tr>\n",
       "      <th>2</th>\n",
       "      <td>0.986354</td>\n",
       "    </tr>\n",
       "    <tr>\n",
       "      <th>3</th>\n",
       "      <td>0.956124</td>\n",
       "    </tr>\n",
       "    <tr>\n",
       "      <th>4</th>\n",
       "      <td>0.131296</td>\n",
       "    </tr>\n",
       "    <tr>\n",
       "      <th>5</th>\n",
       "      <td>0.705283</td>\n",
       "    </tr>\n",
       "    <tr>\n",
       "      <th>6</th>\n",
       "      <td>0.244622</td>\n",
       "    </tr>\n",
       "    <tr>\n",
       "      <th>7</th>\n",
       "      <td>0.908729</td>\n",
       "    </tr>\n",
       "  </tbody>\n",
       "</table>\n",
       "</div>"
      ],
      "text/plain": [
       "          C\n",
       "0  0.766614\n",
       "1  0.955654\n",
       "2  0.986354\n",
       "3  0.956124\n",
       "4  0.131296\n",
       "5  0.705283\n",
       "6  0.244622\n",
       "7  0.908729"
      ]
     },
     "execution_count": 20,
     "metadata": {},
     "output_type": "execute_result"
    }
   ],
   "source": [
    "df2.iloc[:,-3:-2]"
   ]
  },
  {
   "cell_type": "code",
   "execution_count": 21,
   "id": "4aaed3d3",
   "metadata": {},
   "outputs": [
    {
     "data": {
      "text/html": [
       "<div>\n",
       "<style scoped>\n",
       "    .dataframe tbody tr th:only-of-type {\n",
       "        vertical-align: middle;\n",
       "    }\n",
       "\n",
       "    .dataframe tbody tr th {\n",
       "        vertical-align: top;\n",
       "    }\n",
       "\n",
       "    .dataframe thead th {\n",
       "        text-align: right;\n",
       "    }\n",
       "</style>\n",
       "<table border=\"1\" class=\"dataframe\">\n",
       "  <thead>\n",
       "    <tr style=\"text-align: right;\">\n",
       "      <th></th>\n",
       "      <th>B</th>\n",
       "      <th>C</th>\n",
       "    </tr>\n",
       "  </thead>\n",
       "  <tbody>\n",
       "    <tr>\n",
       "      <th>4</th>\n",
       "      <td>0.990344</td>\n",
       "      <td>0.131296</td>\n",
       "    </tr>\n",
       "    <tr>\n",
       "      <th>5</th>\n",
       "      <td>0.302741</td>\n",
       "      <td>0.705283</td>\n",
       "    </tr>\n",
       "    <tr>\n",
       "      <th>6</th>\n",
       "      <td>0.805135</td>\n",
       "      <td>0.244622</td>\n",
       "    </tr>\n",
       "    <tr>\n",
       "      <th>7</th>\n",
       "      <td>0.248462</td>\n",
       "      <td>0.908729</td>\n",
       "    </tr>\n",
       "  </tbody>\n",
       "</table>\n",
       "</div>"
      ],
      "text/plain": [
       "          B         C\n",
       "4  0.990344  0.131296\n",
       "5  0.302741  0.705283\n",
       "6  0.805135  0.244622\n",
       "7  0.248462  0.908729"
      ]
     },
     "execution_count": 21,
     "metadata": {},
     "output_type": "execute_result"
    }
   ],
   "source": [
    "df2.iloc[4:,-4:-2]"
   ]
  },
  {
   "cell_type": "markdown",
   "id": "0d259b2a",
   "metadata": {},
   "source": [
    "-------------------------------------------------------------------------------"
   ]
  },
  {
   "cell_type": "markdown",
   "id": "215d5ec6",
   "metadata": {},
   "source": [
    "# PANDAS Visualization:"
   ]
  },
  {
   "cell_type": "markdown",
   "id": "2578b3dd",
   "metadata": {},
   "source": [
    "These methords can be provided as the kind keywords arguments to plot().These include-\n",
    "\n",
    ">bar or barh(bar-horizontal) for bar plots\n",
    ">>hist for histogram\n",
    ">>>box for boxplot\n",
    ">>>>area for area plots\n",
    ">>>>>scatter fr scatter plots"
   ]
  },
  {
   "cell_type": "markdown",
   "id": "f662d246",
   "metadata": {},
   "source": [
    "### BAR PLOTS"
   ]
  },
  {
   "cell_type": "code",
   "execution_count": 22,
   "id": "1c0ede71",
   "metadata": {},
   "outputs": [],
   "source": [
    "import numpy as np  #np library to generate number \n",
    "import pandas as pd #pd lib to generate number"
   ]
  },
  {
   "cell_type": "code",
   "execution_count": 24,
   "id": "fdf66102",
   "metadata": {},
   "outputs": [],
   "source": [
    "df=pd.DataFrame(np.random.random([8,4]),columns=['A','B','C','D'])"
   ]
  },
  {
   "cell_type": "code",
   "execution_count": 25,
   "id": "adb452cc",
   "metadata": {},
   "outputs": [
    {
     "data": {
      "text/html": [
       "<div>\n",
       "<style scoped>\n",
       "    .dataframe tbody tr th:only-of-type {\n",
       "        vertical-align: middle;\n",
       "    }\n",
       "\n",
       "    .dataframe tbody tr th {\n",
       "        vertical-align: top;\n",
       "    }\n",
       "\n",
       "    .dataframe thead th {\n",
       "        text-align: right;\n",
       "    }\n",
       "</style>\n",
       "<table border=\"1\" class=\"dataframe\">\n",
       "  <thead>\n",
       "    <tr style=\"text-align: right;\">\n",
       "      <th></th>\n",
       "      <th>A</th>\n",
       "      <th>B</th>\n",
       "      <th>C</th>\n",
       "      <th>D</th>\n",
       "    </tr>\n",
       "  </thead>\n",
       "  <tbody>\n",
       "    <tr>\n",
       "      <th>0</th>\n",
       "      <td>0.408269</td>\n",
       "      <td>0.145795</td>\n",
       "      <td>0.678118</td>\n",
       "      <td>0.961899</td>\n",
       "    </tr>\n",
       "    <tr>\n",
       "      <th>1</th>\n",
       "      <td>0.859855</td>\n",
       "      <td>0.857721</td>\n",
       "      <td>0.031953</td>\n",
       "      <td>0.297636</td>\n",
       "    </tr>\n",
       "    <tr>\n",
       "      <th>2</th>\n",
       "      <td>0.870287</td>\n",
       "      <td>0.717364</td>\n",
       "      <td>0.373404</td>\n",
       "      <td>0.740679</td>\n",
       "    </tr>\n",
       "    <tr>\n",
       "      <th>3</th>\n",
       "      <td>0.812376</td>\n",
       "      <td>0.997742</td>\n",
       "      <td>0.921672</td>\n",
       "      <td>0.487612</td>\n",
       "    </tr>\n",
       "    <tr>\n",
       "      <th>4</th>\n",
       "      <td>0.331312</td>\n",
       "      <td>0.446119</td>\n",
       "      <td>0.711336</td>\n",
       "      <td>0.949022</td>\n",
       "    </tr>\n",
       "    <tr>\n",
       "      <th>5</th>\n",
       "      <td>0.776471</td>\n",
       "      <td>0.568114</td>\n",
       "      <td>0.746680</td>\n",
       "      <td>0.479655</td>\n",
       "    </tr>\n",
       "    <tr>\n",
       "      <th>6</th>\n",
       "      <td>0.196550</td>\n",
       "      <td>0.012432</td>\n",
       "      <td>0.568491</td>\n",
       "      <td>0.080283</td>\n",
       "    </tr>\n",
       "    <tr>\n",
       "      <th>7</th>\n",
       "      <td>0.138559</td>\n",
       "      <td>0.717429</td>\n",
       "      <td>0.769976</td>\n",
       "      <td>0.221402</td>\n",
       "    </tr>\n",
       "  </tbody>\n",
       "</table>\n",
       "</div>"
      ],
      "text/plain": [
       "          A         B         C         D\n",
       "0  0.408269  0.145795  0.678118  0.961899\n",
       "1  0.859855  0.857721  0.031953  0.297636\n",
       "2  0.870287  0.717364  0.373404  0.740679\n",
       "3  0.812376  0.997742  0.921672  0.487612\n",
       "4  0.331312  0.446119  0.711336  0.949022\n",
       "5  0.776471  0.568114  0.746680  0.479655\n",
       "6  0.196550  0.012432  0.568491  0.080283\n",
       "7  0.138559  0.717429  0.769976  0.221402"
      ]
     },
     "execution_count": 25,
     "metadata": {},
     "output_type": "execute_result"
    }
   ],
   "source": [
    "df"
   ]
  },
  {
   "cell_type": "code",
   "execution_count": 27,
   "id": "68e4fe05",
   "metadata": {},
   "outputs": [],
   "source": [
    "df1=pd.DataFrame(np.random.rand(8,5),columns=['A','B','C','D','E'])"
   ]
  },
  {
   "cell_type": "code",
   "execution_count": 29,
   "id": "63fabf58",
   "metadata": {},
   "outputs": [],
   "source": [
    "df2=pd.DataFrame(np.random.randn(8,6),columns=['A','B','C','D','E','F'])"
   ]
  },
  {
   "cell_type": "code",
   "execution_count": 30,
   "id": "efcec86e",
   "metadata": {},
   "outputs": [
    {
     "data": {
      "text/plain": [
       "<AxesSubplot:>"
      ]
     },
     "execution_count": 30,
     "metadata": {},
     "output_type": "execute_result"
    },
    {
     "data": {
      "image/png": "[encoded data removed]",
      "text/plain": [
       "<Figure size 432x288 with 1 Axes>"
      ]
     },
     "metadata": {
      "needs_background": "light"
     },
     "output_type": "display_data"
    }
   ],
   "source": [
    "df.plot.bar()"
   ]
  },
  {
   "cell_type": "code",
   "execution_count": 31,
   "id": "64940673",
   "metadata": {},
   "outputs": [
    {
     "data": {
      "text/html": [
       "<div>\n",
       "<style scoped>\n",
       "    .dataframe tbody tr th:only-of-type {\n",
       "        vertical-align: middle;\n",
       "    }\n",
       "\n",
       "    .dataframe tbody tr th {\n",
       "        vertical-align: top;\n",
       "    }\n",
       "\n",
       "    .dataframe thead th {\n",
       "        text-align: right;\n",
       "    }\n",
       "</style>\n",
       "<table border=\"1\" class=\"dataframe\">\n",
       "  <thead>\n",
       "    <tr style=\"text-align: right;\">\n",
       "      <th></th>\n",
       "      <th>A</th>\n",
       "      <th>B</th>\n",
       "      <th>C</th>\n",
       "      <th>D</th>\n",
       "    </tr>\n",
       "  </thead>\n",
       "  <tbody>\n",
       "    <tr>\n",
       "      <th>0</th>\n",
       "      <td>0.408269</td>\n",
       "      <td>0.145795</td>\n",
       "      <td>0.678118</td>\n",
       "      <td>0.961899</td>\n",
       "    </tr>\n",
       "    <tr>\n",
       "      <th>1</th>\n",
       "      <td>0.859855</td>\n",
       "      <td>0.857721</td>\n",
       "      <td>0.031953</td>\n",
       "      <td>0.297636</td>\n",
       "    </tr>\n",
       "    <tr>\n",
       "      <th>2</th>\n",
       "      <td>0.870287</td>\n",
       "      <td>0.717364</td>\n",
       "      <td>0.373404</td>\n",
       "      <td>0.740679</td>\n",
       "    </tr>\n",
       "    <tr>\n",
       "      <th>3</th>\n",
       "      <td>0.812376</td>\n",
       "      <td>0.997742</td>\n",
       "      <td>0.921672</td>\n",
       "      <td>0.487612</td>\n",
       "    </tr>\n",
       "    <tr>\n",
       "      <th>4</th>\n",
       "      <td>0.331312</td>\n",
       "      <td>0.446119</td>\n",
       "      <td>0.711336</td>\n",
       "      <td>0.949022</td>\n",
       "    </tr>\n",
       "    <tr>\n",
       "      <th>5</th>\n",
       "      <td>0.776471</td>\n",
       "      <td>0.568114</td>\n",
       "      <td>0.746680</td>\n",
       "      <td>0.479655</td>\n",
       "    </tr>\n",
       "    <tr>\n",
       "      <th>6</th>\n",
       "      <td>0.196550</td>\n",
       "      <td>0.012432</td>\n",
       "      <td>0.568491</td>\n",
       "      <td>0.080283</td>\n",
       "    </tr>\n",
       "    <tr>\n",
       "      <th>7</th>\n",
       "      <td>0.138559</td>\n",
       "      <td>0.717429</td>\n",
       "      <td>0.769976</td>\n",
       "      <td>0.221402</td>\n",
       "    </tr>\n",
       "  </tbody>\n",
       "</table>\n",
       "</div>"
      ],
      "text/plain": [
       "          A         B         C         D\n",
       "0  0.408269  0.145795  0.678118  0.961899\n",
       "1  0.859855  0.857721  0.031953  0.297636\n",
       "2  0.870287  0.717364  0.373404  0.740679\n",
       "3  0.812376  0.997742  0.921672  0.487612\n",
       "4  0.331312  0.446119  0.711336  0.949022\n",
       "5  0.776471  0.568114  0.746680  0.479655\n",
       "6  0.196550  0.012432  0.568491  0.080283\n",
       "7  0.138559  0.717429  0.769976  0.221402"
      ]
     },
     "execution_count": 31,
     "metadata": {},
     "output_type": "execute_result"
    }
   ],
   "source": [
    "df"
   ]
  },
  {
   "cell_type": "code",
   "execution_count": 32,
   "id": "a13b30e0",
   "metadata": {},
   "outputs": [
    {
     "data": {
      "text/plain": [
       "'\\nY axis--> shows values measures, Whereas X axis----->shows rows values(A to D).\\n\\nIn x asis; colours shows rows resp (Blue is A,Orange is B,Green is C,Red is D).\\n\\n'"
      ]
     },
     "execution_count": 32,
     "metadata": {},
     "output_type": "execute_result"
    }
   ],
   "source": [
    "# study of df\n",
    "\"\"\"\n",
    "Y axis--> shows values measures, Whereas X axis----->shows rows WITH values(A to D).\n",
    "\n",
    "In x asis; colours shows rows resp (Blue is A,Orange is B,Green is C,Red is D).\n",
    "\n",
    "\"\"\""
   ]
  },
  {
   "cell_type": "code",
   "execution_count": 33,
   "id": "be9985da",
   "metadata": {},
   "outputs": [
    {
     "data": {
      "text/plain": [
       "<AxesSubplot:>"
      ]
     },
     "execution_count": 33,
     "metadata": {},
     "output_type": "execute_result"
    },
    {
     "data": {
      "image/png": "[encoded data removed]",
      "text/plain": [
       "<Figure size 432x288 with 1 Axes>"
      ]
     },
     "metadata": {
      "needs_background": "light"
     },
     "output_type": "display_data"
    }
   ],
   "source": [
    "df.plot.bar(stacked=True) \n",
    "#Here stacked is a collection of a(blue) to d(red) columns in single bar. resp.."
   ]
  },
  {
   "cell_type": "code",
   "execution_count": 34,
   "id": "d5f1c7e6",
   "metadata": {},
   "outputs": [
    {
     "data": {
      "text/plain": [
       "<AxesSubplot:>"
      ]
     },
     "execution_count": 34,
     "metadata": {},
     "output_type": "execute_result"
    },
    {
     "data": {
      "image/png": "[encoded data removed]",
      "text/plain": [
       "<Figure size 432x288 with 1 Axes>"
      ]
     },
     "metadata": {
      "needs_background": "light"
     },
     "output_type": "display_data"
    }
   ],
   "source": [
    "# to get horizontal bar plots, we use barh methord-\n",
    "\n",
    "df.plot.barh(stacked=True)"
   ]
  },
  {
   "cell_type": "code",
   "execution_count": 35,
   "id": "a3e61f7f",
   "metadata": {},
   "outputs": [
    {
     "data": {
      "text/plain": [
       "datetime.datetime(2022, 6, 30, 11, 7, 30, 216579)"
      ]
     },
     "execution_count": 35,
     "metadata": {},
     "output_type": "execute_result"
    }
   ],
   "source": [
    "import datetime\n",
    "datetime.datetime.now()"
   ]
  },
  {
   "cell_type": "code",
   "execution_count": 36,
   "id": "75887e6b",
   "metadata": {},
   "outputs": [],
   "source": [
    "# histogram works on interval or bins. Y-axis is frequency whereas X-axis tells us element name."
   ]
  },
  {
   "cell_type": "code",
   "execution_count": 37,
   "id": "286a9bfe",
   "metadata": {},
   "outputs": [
    {
     "data": {
      "text/plain": [
       "<AxesSubplot:ylabel='Frequency'>"
      ]
     },
     "execution_count": 37,
     "metadata": {},
     "output_type": "execute_result"
    },
    {
     "data": {
      "image/png": "[encoded data removed]",
      "text/plain": [
       "<Figure size 432x288 with 1 Axes>"
      ]
     },
     "metadata": {
      "needs_background": "light"
     },
     "output_type": "display_data"
    }
   ],
   "source": [
    "df.plot.hist()"
   ]
  },
  {
   "cell_type": "code",
   "execution_count": 38,
   "id": "8fb0a28e",
   "metadata": {},
   "outputs": [
    {
     "data": {
      "text/html": [
       "<div>\n",
       "<style scoped>\n",
       "    .dataframe tbody tr th:only-of-type {\n",
       "        vertical-align: middle;\n",
       "    }\n",
       "\n",
       "    .dataframe tbody tr th {\n",
       "        vertical-align: top;\n",
       "    }\n",
       "\n",
       "    .dataframe thead th {\n",
       "        text-align: right;\n",
       "    }\n",
       "</style>\n",
       "<table border=\"1\" class=\"dataframe\">\n",
       "  <thead>\n",
       "    <tr style=\"text-align: right;\">\n",
       "      <th></th>\n",
       "      <th>A</th>\n",
       "      <th>B</th>\n",
       "      <th>C</th>\n",
       "      <th>D</th>\n",
       "      <th>E</th>\n",
       "      <th>F</th>\n",
       "    </tr>\n",
       "  </thead>\n",
       "  <tbody>\n",
       "    <tr>\n",
       "      <th>0</th>\n",
       "      <td>-0.442018</td>\n",
       "      <td>0.883010</td>\n",
       "      <td>-0.566477</td>\n",
       "      <td>0.361107</td>\n",
       "      <td>0.066260</td>\n",
       "      <td>-0.363166</td>\n",
       "    </tr>\n",
       "    <tr>\n",
       "      <th>1</th>\n",
       "      <td>0.256212</td>\n",
       "      <td>-1.211722</td>\n",
       "      <td>-1.352238</td>\n",
       "      <td>0.779175</td>\n",
       "      <td>-1.231905</td>\n",
       "      <td>-0.918587</td>\n",
       "    </tr>\n",
       "    <tr>\n",
       "      <th>2</th>\n",
       "      <td>-0.732305</td>\n",
       "      <td>0.126323</td>\n",
       "      <td>0.825607</td>\n",
       "      <td>-0.302870</td>\n",
       "      <td>-0.415096</td>\n",
       "      <td>-0.905092</td>\n",
       "    </tr>\n",
       "    <tr>\n",
       "      <th>3</th>\n",
       "      <td>-0.439772</td>\n",
       "      <td>-1.916459</td>\n",
       "      <td>-0.568354</td>\n",
       "      <td>0.600350</td>\n",
       "      <td>-1.390301</td>\n",
       "      <td>1.849835</td>\n",
       "    </tr>\n",
       "    <tr>\n",
       "      <th>4</th>\n",
       "      <td>0.743018</td>\n",
       "      <td>0.706462</td>\n",
       "      <td>0.071145</td>\n",
       "      <td>0.281605</td>\n",
       "      <td>-0.768891</td>\n",
       "      <td>0.278753</td>\n",
       "    </tr>\n",
       "    <tr>\n",
       "      <th>5</th>\n",
       "      <td>2.637841</td>\n",
       "      <td>1.081373</td>\n",
       "      <td>1.179622</td>\n",
       "      <td>0.473405</td>\n",
       "      <td>0.935680</td>\n",
       "      <td>-0.863880</td>\n",
       "    </tr>\n",
       "    <tr>\n",
       "      <th>6</th>\n",
       "      <td>-1.084840</td>\n",
       "      <td>1.267788</td>\n",
       "      <td>-1.145174</td>\n",
       "      <td>-2.145374</td>\n",
       "      <td>0.263941</td>\n",
       "      <td>0.464532</td>\n",
       "    </tr>\n",
       "    <tr>\n",
       "      <th>7</th>\n",
       "      <td>-0.519156</td>\n",
       "      <td>-0.642976</td>\n",
       "      <td>0.181787</td>\n",
       "      <td>-0.333030</td>\n",
       "      <td>-0.626108</td>\n",
       "      <td>0.619938</td>\n",
       "    </tr>\n",
       "  </tbody>\n",
       "</table>\n",
       "</div>"
      ],
      "text/plain": [
       "          A         B         C         D         E         F\n",
       "0 -0.442018  0.883010 -0.566477  0.361107  0.066260 -0.363166\n",
       "1  0.256212 -1.211722 -1.352238  0.779175 -1.231905 -0.918587\n",
       "2 -0.732305  0.126323  0.825607 -0.302870 -0.415096 -0.905092\n",
       "3 -0.439772 -1.916459 -0.568354  0.600350 -1.390301  1.849835\n",
       "4  0.743018  0.706462  0.071145  0.281605 -0.768891  0.278753\n",
       "5  2.637841  1.081373  1.179622  0.473405  0.935680 -0.863880\n",
       "6 -1.084840  1.267788 -1.145174 -2.145374  0.263941  0.464532\n",
       "7 -0.519156 -0.642976  0.181787 -0.333030 -0.626108  0.619938"
      ]
     },
     "execution_count": 38,
     "metadata": {},
     "output_type": "execute_result"
    }
   ],
   "source": [
    "df2"
   ]
  },
  {
   "cell_type": "code",
   "execution_count": 42,
   "id": "d67df825",
   "metadata": {},
   "outputs": [
    {
     "data": {
      "text/plain": [
       "<AxesSubplot:ylabel='Frequency'>"
      ]
     },
     "execution_count": 42,
     "metadata": {},
     "output_type": "execute_result"
    },
    {
     "data": {
      "image/png": "[encoded data removed]",
      "text/plain": [
       "<Figure size 432x288 with 1 Axes>"
      ]
     },
     "metadata": {
      "needs_background": "light"
     },
     "output_type": "display_data"
    }
   ],
   "source": [
    "df2.plot.hist()"
   ]
  },
  {
   "cell_type": "code",
   "execution_count": 39,
   "id": "aa64c0d2",
   "metadata": {},
   "outputs": [
    {
     "data": {
      "text/plain": [
       "<AxesSubplot:>"
      ]
     },
     "execution_count": 39,
     "metadata": {},
     "output_type": "execute_result"
    },
    {
     "data": {
      "image/png": "[encoded data removed]",
      "text/plain": [
       "<Figure size 432x288 with 1 Axes>"
      ]
     },
     "metadata": {
      "needs_background": "light"
     },
     "output_type": "display_data"
    }
   ],
   "source": [
    "df2.plot.box()"
   ]
  },
  {
   "cell_type": "code",
   "execution_count": 40,
   "id": "b3aeb4c7",
   "metadata": {},
   "outputs": [
    {
     "data": {
      "text/html": [
       "<div>\n",
       "<style scoped>\n",
       "    .dataframe tbody tr th:only-of-type {\n",
       "        vertical-align: middle;\n",
       "    }\n",
       "\n",
       "    .dataframe tbody tr th {\n",
       "        vertical-align: top;\n",
       "    }\n",
       "\n",
       "    .dataframe thead th {\n",
       "        text-align: right;\n",
       "    }\n",
       "</style>\n",
       "<table border=\"1\" class=\"dataframe\">\n",
       "  <thead>\n",
       "    <tr style=\"text-align: right;\">\n",
       "      <th></th>\n",
       "      <th>A</th>\n",
       "      <th>B</th>\n",
       "      <th>C</th>\n",
       "      <th>D</th>\n",
       "      <th>E</th>\n",
       "    </tr>\n",
       "  </thead>\n",
       "  <tbody>\n",
       "    <tr>\n",
       "      <th>0</th>\n",
       "      <td>0.662676</td>\n",
       "      <td>0.030880</td>\n",
       "      <td>0.280809</td>\n",
       "      <td>0.428254</td>\n",
       "      <td>0.369933</td>\n",
       "    </tr>\n",
       "    <tr>\n",
       "      <th>1</th>\n",
       "      <td>0.834779</td>\n",
       "      <td>0.667888</td>\n",
       "      <td>0.742592</td>\n",
       "      <td>0.658516</td>\n",
       "      <td>0.784097</td>\n",
       "    </tr>\n",
       "    <tr>\n",
       "      <th>2</th>\n",
       "      <td>0.958684</td>\n",
       "      <td>0.603754</td>\n",
       "      <td>0.814235</td>\n",
       "      <td>0.762389</td>\n",
       "      <td>0.232444</td>\n",
       "    </tr>\n",
       "    <tr>\n",
       "      <th>3</th>\n",
       "      <td>0.603060</td>\n",
       "      <td>0.545986</td>\n",
       "      <td>0.378844</td>\n",
       "      <td>0.173988</td>\n",
       "      <td>0.540490</td>\n",
       "    </tr>\n",
       "    <tr>\n",
       "      <th>4</th>\n",
       "      <td>0.779623</td>\n",
       "      <td>0.851896</td>\n",
       "      <td>0.846791</td>\n",
       "      <td>0.167233</td>\n",
       "      <td>0.331367</td>\n",
       "    </tr>\n",
       "    <tr>\n",
       "      <th>5</th>\n",
       "      <td>0.323119</td>\n",
       "      <td>0.860806</td>\n",
       "      <td>0.602303</td>\n",
       "      <td>0.668578</td>\n",
       "      <td>0.773793</td>\n",
       "    </tr>\n",
       "    <tr>\n",
       "      <th>6</th>\n",
       "      <td>0.746227</td>\n",
       "      <td>0.175268</td>\n",
       "      <td>0.317620</td>\n",
       "      <td>0.907697</td>\n",
       "      <td>0.860556</td>\n",
       "    </tr>\n",
       "    <tr>\n",
       "      <th>7</th>\n",
       "      <td>0.829020</td>\n",
       "      <td>0.722258</td>\n",
       "      <td>0.733186</td>\n",
       "      <td>0.852230</td>\n",
       "      <td>0.556632</td>\n",
       "    </tr>\n",
       "  </tbody>\n",
       "</table>\n",
       "</div>"
      ],
      "text/plain": [
       "          A         B         C         D         E\n",
       "0  0.662676  0.030880  0.280809  0.428254  0.369933\n",
       "1  0.834779  0.667888  0.742592  0.658516  0.784097\n",
       "2  0.958684  0.603754  0.814235  0.762389  0.232444\n",
       "3  0.603060  0.545986  0.378844  0.173988  0.540490\n",
       "4  0.779623  0.851896  0.846791  0.167233  0.331367\n",
       "5  0.323119  0.860806  0.602303  0.668578  0.773793\n",
       "6  0.746227  0.175268  0.317620  0.907697  0.860556\n",
       "7  0.829020  0.722258  0.733186  0.852230  0.556632"
      ]
     },
     "execution_count": 40,
     "metadata": {},
     "output_type": "execute_result"
    }
   ],
   "source": [
    "df1"
   ]
  },
  {
   "cell_type": "code",
   "execution_count": 41,
   "id": "b84d3bf1",
   "metadata": {},
   "outputs": [
    {
     "data": {
      "text/plain": [
       "<AxesSubplot:>"
      ]
     },
     "execution_count": 41,
     "metadata": {},
     "output_type": "execute_result"
    },
    {
     "data": {
      "image/png": "[encoded data removed]",
      "text/plain": [
       "<Figure size 432x288 with 1 Axes>"
      ]
     },
     "metadata": {
      "needs_background": "light"
     },
     "output_type": "display_data"
    }
   ],
   "source": [
    "df1.plot.box()"
   ]
  },
  {
   "cell_type": "code",
   "execution_count": 43,
   "id": "12be93ae",
   "metadata": {},
   "outputs": [
    {
     "data": {
      "text/html": [
       "<div>\n",
       "<style scoped>\n",
       "    .dataframe tbody tr th:only-of-type {\n",
       "        vertical-align: middle;\n",
       "    }\n",
       "\n",
       "    .dataframe tbody tr th {\n",
       "        vertical-align: top;\n",
       "    }\n",
       "\n",
       "    .dataframe thead th {\n",
       "        text-align: right;\n",
       "    }\n",
       "</style>\n",
       "<table border=\"1\" class=\"dataframe\">\n",
       "  <thead>\n",
       "    <tr style=\"text-align: right;\">\n",
       "      <th></th>\n",
       "      <th>A</th>\n",
       "      <th>B</th>\n",
       "      <th>C</th>\n",
       "      <th>D</th>\n",
       "    </tr>\n",
       "  </thead>\n",
       "  <tbody>\n",
       "    <tr>\n",
       "      <th>0</th>\n",
       "      <td>0.408269</td>\n",
       "      <td>0.145795</td>\n",
       "      <td>0.678118</td>\n",
       "      <td>0.961899</td>\n",
       "    </tr>\n",
       "    <tr>\n",
       "      <th>1</th>\n",
       "      <td>0.859855</td>\n",
       "      <td>0.857721</td>\n",
       "      <td>0.031953</td>\n",
       "      <td>0.297636</td>\n",
       "    </tr>\n",
       "    <tr>\n",
       "      <th>2</th>\n",
       "      <td>0.870287</td>\n",
       "      <td>0.717364</td>\n",
       "      <td>0.373404</td>\n",
       "      <td>0.740679</td>\n",
       "    </tr>\n",
       "    <tr>\n",
       "      <th>3</th>\n",
       "      <td>0.812376</td>\n",
       "      <td>0.997742</td>\n",
       "      <td>0.921672</td>\n",
       "      <td>0.487612</td>\n",
       "    </tr>\n",
       "    <tr>\n",
       "      <th>4</th>\n",
       "      <td>0.331312</td>\n",
       "      <td>0.446119</td>\n",
       "      <td>0.711336</td>\n",
       "      <td>0.949022</td>\n",
       "    </tr>\n",
       "    <tr>\n",
       "      <th>5</th>\n",
       "      <td>0.776471</td>\n",
       "      <td>0.568114</td>\n",
       "      <td>0.746680</td>\n",
       "      <td>0.479655</td>\n",
       "    </tr>\n",
       "    <tr>\n",
       "      <th>6</th>\n",
       "      <td>0.196550</td>\n",
       "      <td>0.012432</td>\n",
       "      <td>0.568491</td>\n",
       "      <td>0.080283</td>\n",
       "    </tr>\n",
       "    <tr>\n",
       "      <th>7</th>\n",
       "      <td>0.138559</td>\n",
       "      <td>0.717429</td>\n",
       "      <td>0.769976</td>\n",
       "      <td>0.221402</td>\n",
       "    </tr>\n",
       "  </tbody>\n",
       "</table>\n",
       "</div>"
      ],
      "text/plain": [
       "          A         B         C         D\n",
       "0  0.408269  0.145795  0.678118  0.961899\n",
       "1  0.859855  0.857721  0.031953  0.297636\n",
       "2  0.870287  0.717364  0.373404  0.740679\n",
       "3  0.812376  0.997742  0.921672  0.487612\n",
       "4  0.331312  0.446119  0.711336  0.949022\n",
       "5  0.776471  0.568114  0.746680  0.479655\n",
       "6  0.196550  0.012432  0.568491  0.080283\n",
       "7  0.138559  0.717429  0.769976  0.221402"
      ]
     },
     "execution_count": 43,
     "metadata": {},
     "output_type": "execute_result"
    }
   ],
   "source": [
    "df"
   ]
  },
  {
   "cell_type": "code",
   "execution_count": 45,
   "id": "f190fd6c",
   "metadata": {},
   "outputs": [
    {
     "data": {
      "text/plain": [
       "<AxesSubplot:>"
      ]
     },
     "execution_count": 45,
     "metadata": {},
     "output_type": "execute_result"
    },
    {
     "data": {
      "image/png": "[encoded data removed]",
      "text/plain": [
       "<Figure size 432x288 with 1 Axes>"
      ]
     },
     "metadata": {
      "needs_background": "light"
     },
     "output_type": "display_data"
    }
   ],
   "source": [
    "df.plot.barh(stacked=True)"
   ]
  },
  {
   "cell_type": "code",
   "execution_count": 46,
   "id": "4fc78818",
   "metadata": {},
   "outputs": [
    {
     "data": {
      "text/html": [
       "<div>\n",
       "<style scoped>\n",
       "    .dataframe tbody tr th:only-of-type {\n",
       "        vertical-align: middle;\n",
       "    }\n",
       "\n",
       "    .dataframe tbody tr th {\n",
       "        vertical-align: top;\n",
       "    }\n",
       "\n",
       "    .dataframe thead th {\n",
       "        text-align: right;\n",
       "    }\n",
       "</style>\n",
       "<table border=\"1\" class=\"dataframe\">\n",
       "  <thead>\n",
       "    <tr style=\"text-align: right;\">\n",
       "      <th></th>\n",
       "      <th>A</th>\n",
       "      <th>B</th>\n",
       "      <th>C</th>\n",
       "      <th>D</th>\n",
       "    </tr>\n",
       "  </thead>\n",
       "  <tbody>\n",
       "    <tr>\n",
       "      <th>0</th>\n",
       "      <td>0.408269</td>\n",
       "      <td>0.145795</td>\n",
       "      <td>0.678118</td>\n",
       "      <td>0.961899</td>\n",
       "    </tr>\n",
       "    <tr>\n",
       "      <th>1</th>\n",
       "      <td>0.859855</td>\n",
       "      <td>0.857721</td>\n",
       "      <td>0.031953</td>\n",
       "      <td>0.297636</td>\n",
       "    </tr>\n",
       "    <tr>\n",
       "      <th>2</th>\n",
       "      <td>0.870287</td>\n",
       "      <td>0.717364</td>\n",
       "      <td>0.373404</td>\n",
       "      <td>0.740679</td>\n",
       "    </tr>\n",
       "    <tr>\n",
       "      <th>3</th>\n",
       "      <td>0.812376</td>\n",
       "      <td>0.997742</td>\n",
       "      <td>0.921672</td>\n",
       "      <td>0.487612</td>\n",
       "    </tr>\n",
       "    <tr>\n",
       "      <th>4</th>\n",
       "      <td>0.331312</td>\n",
       "      <td>0.446119</td>\n",
       "      <td>0.711336</td>\n",
       "      <td>0.949022</td>\n",
       "    </tr>\n",
       "    <tr>\n",
       "      <th>5</th>\n",
       "      <td>0.776471</td>\n",
       "      <td>0.568114</td>\n",
       "      <td>0.746680</td>\n",
       "      <td>0.479655</td>\n",
       "    </tr>\n",
       "    <tr>\n",
       "      <th>6</th>\n",
       "      <td>0.196550</td>\n",
       "      <td>0.012432</td>\n",
       "      <td>0.568491</td>\n",
       "      <td>0.080283</td>\n",
       "    </tr>\n",
       "    <tr>\n",
       "      <th>7</th>\n",
       "      <td>0.138559</td>\n",
       "      <td>0.717429</td>\n",
       "      <td>0.769976</td>\n",
       "      <td>0.221402</td>\n",
       "    </tr>\n",
       "  </tbody>\n",
       "</table>\n",
       "</div>"
      ],
      "text/plain": [
       "          A         B         C         D\n",
       "0  0.408269  0.145795  0.678118  0.961899\n",
       "1  0.859855  0.857721  0.031953  0.297636\n",
       "2  0.870287  0.717364  0.373404  0.740679\n",
       "3  0.812376  0.997742  0.921672  0.487612\n",
       "4  0.331312  0.446119  0.711336  0.949022\n",
       "5  0.776471  0.568114  0.746680  0.479655\n",
       "6  0.196550  0.012432  0.568491  0.080283\n",
       "7  0.138559  0.717429  0.769976  0.221402"
      ]
     },
     "execution_count": 46,
     "metadata": {},
     "output_type": "execute_result"
    }
   ],
   "source": [
    "df"
   ]
  },
  {
   "cell_type": "code",
   "execution_count": 47,
   "id": "9ddde6e5",
   "metadata": {},
   "outputs": [
    {
     "data": {
      "text/plain": [
       "<AxesSubplot:ylabel='Frequency'>"
      ]
     },
     "execution_count": 47,
     "metadata": {},
     "output_type": "execute_result"
    },
    {
     "data": {
      "image/png": "[encoded data removed]",
      "text/plain": [
       "<Figure size 432x288 with 1 Axes>"
      ]
     },
     "metadata": {
      "needs_background": "light"
     },
     "output_type": "display_data"
    }
   ],
   "source": [
    "df.plot.hist()"
   ]
  },
  {
   "cell_type": "code",
   "execution_count": 48,
   "id": "b0dcee9a",
   "metadata": {},
   "outputs": [
    {
     "data": {
      "text/plain": [
       "<AxesSubplot:>"
      ]
     },
     "execution_count": 48,
     "metadata": {},
     "output_type": "execute_result"
    },
    {
     "data": {
      "image/png": "[encoded data removed]",
      "text/plain": [
       "<Figure size 432x288 with 1 Axes>"
      ]
     },
     "metadata": {
      "needs_background": "light"
     },
     "output_type": "display_data"
    }
   ],
   "source": [
    "df.plot.box()"
   ]
  },
  {
   "cell_type": "code",
   "execution_count": 49,
   "id": "2f36cd74",
   "metadata": {},
   "outputs": [
    {
     "data": {
      "text/plain": [
       "<AxesSubplot:>"
      ]
     },
     "execution_count": 49,
     "metadata": {},
     "output_type": "execute_result"
    },
    {
     "data": {
      "image/png": "[encoded data removed]",
      "text/plain": [
       "<Figure size 432x288 with 1 Axes>"
      ]
     },
     "metadata": {
      "needs_background": "light"
     },
     "output_type": "display_data"
    }
   ],
   "source": [
    "df.plot.bar()"
   ]
  },
  {
   "cell_type": "code",
   "execution_count": 50,
   "id": "92e09ea3",
   "metadata": {},
   "outputs": [
    {
     "data": {
      "text/plain": [
       "<AxesSubplot:>"
      ]
     },
     "execution_count": 50,
     "metadata": {},
     "output_type": "execute_result"
    },
    {
     "data": {
      "image/png": "[encoded data removed]",
      "text/plain": [
       "<Figure size 432x288 with 1 Axes>"
      ]
     },
     "metadata": {
      "needs_background": "light"
     },
     "output_type": "display_data"
    }
   ],
   "source": [
    "df.plot.barh()"
   ]
  },
  {
   "cell_type": "code",
   "execution_count": 51,
   "id": "a029d6c2",
   "metadata": {},
   "outputs": [
    {
     "data": {
      "text/plain": [
       "<AxesSubplot:>"
      ]
     },
     "execution_count": 51,
     "metadata": {},
     "output_type": "execute_result"
    },
    {
     "data": {
      "image/png": "[encoded data removed]",
      "text/plain": [
       "<Figure size 432x288 with 1 Axes>"
      ]
     },
     "metadata": {
      "needs_background": "light"
     },
     "output_type": "display_data"
    }
   ],
   "source": [
    "df.plot.bar(stacked=True)"
   ]
  },
  {
   "cell_type": "code",
   "execution_count": 52,
   "id": "a6ac4ce2",
   "metadata": {},
   "outputs": [
    {
     "data": {
      "text/plain": [
       "<AxesSubplot:>"
      ]
     },
     "execution_count": 52,
     "metadata": {},
     "output_type": "execute_result"
    },
    {
     "data": {
      "image/png": "[encoded data removed]",
      "text/plain": [
       "<Figure size 432x288 with 1 Axes>"
      ]
     },
     "metadata": {
      "needs_background": "light"
     },
     "output_type": "display_data"
    }
   ],
   "source": [
    "df.plot.area()"
   ]
  },
  {
   "cell_type": "code",
   "execution_count": 55,
   "id": "e28e3bbf",
   "metadata": {},
   "outputs": [
    {
     "data": {
      "text/plain": [
       "<AxesSubplot:xlabel='A', ylabel='B'>"
      ]
     },
     "execution_count": 55,
     "metadata": {},
     "output_type": "execute_result"
    },
    {
     "data": {
      "image/png": "[encoded data removed]",
      "text/plain": [
       "<Figure size 432x288 with 1 Axes>"
      ]
     },
     "metadata": {
      "needs_background": "light"
     },
     "output_type": "display_data"
    }
   ],
   "source": [
    "df.plot.scatter(x='A',y='B')"
   ]
  },
  {
   "cell_type": "code",
   "execution_count": 56,
   "id": "458f31e3",
   "metadata": {},
   "outputs": [
    {
     "data": {
      "text/plain": [
       "<AxesSubplot:xlabel='A', ylabel='B'>"
      ]
     },
     "execution_count": 56,
     "metadata": {},
     "output_type": "execute_result"
    },
    {
     "data": {
      "image/png": "[encoded data removed]",
      "text/plain": [
       "<Figure size 432x288 with 1 Axes>"
      ]
     },
     "metadata": {
      "needs_background": "light"
     },
     "output_type": "display_data"
    }
   ],
   "source": [
    "df2.plot.scatter(x='A',y='B')"
   ]
  },
  {
   "cell_type": "code",
   "execution_count": 58,
   "id": "65387f55",
   "metadata": {},
   "outputs": [
    {
     "data": {
      "text/plain": [
       "<AxesSubplot:xlabel='A', ylabel='B'>"
      ]
     },
     "execution_count": 58,
     "metadata": {},
     "output_type": "execute_result"
    },
    {
     "data": {
      "image/png": "[encoded data removed]",
      "text/plain": [
       "<Figure size 432x288 with 1 Axes>"
      ]
     },
     "metadata": {
      "needs_background": "light"
     },
     "output_type": "display_data"
    }
   ],
   "source": [
    "df1.plot.scatter(x='A',y='B')"
   ]
  },
  {
   "cell_type": "markdown",
   "id": "ebf72291",
   "metadata": {},
   "source": [
    "# WORKING with pandas final"
   ]
  },
  {
   "cell_type": "markdown",
   "id": "32494891",
   "metadata": {},
   "source": [
    "#### Changing index value in pandas"
   ]
  },
  {
   "cell_type": "code",
   "execution_count": 59,
   "id": "9478f514",
   "metadata": {},
   "outputs": [
    {
     "name": "stdout",
     "output_type": "stream",
     "text": [
      "   Day  Visitor  Bounce_Rate\n",
      "0    1      200           20\n",
      "1    2      300           60\n",
      "2    3      100           10\n",
      "3    4      230           45\n"
     ]
    }
   ],
   "source": [
    "import pandas as pd\n",
    "\n",
    "df= pd.DataFrame({'Day':[1,2,3,4],'Visitor':[200,300,100,230],'Bounce_Rate': [20,60,10,45]})\n",
    "print(df)"
   ]
  },
  {
   "cell_type": "code",
   "execution_count": 60,
   "id": "a756097b",
   "metadata": {},
   "outputs": [],
   "source": [
    "# setting index as day by(set_index) in new variable\n",
    "\n",
    "df1=df.set_index('Day')"
   ]
  },
  {
   "cell_type": "code",
   "execution_count": 61,
   "id": "d6936b71",
   "metadata": {},
   "outputs": [
    {
     "data": {
      "text/html": [
       "<div>\n",
       "<style scoped>\n",
       "    .dataframe tbody tr th:only-of-type {\n",
       "        vertical-align: middle;\n",
       "    }\n",
       "\n",
       "    .dataframe tbody tr th {\n",
       "        vertical-align: top;\n",
       "    }\n",
       "\n",
       "    .dataframe thead th {\n",
       "        text-align: right;\n",
       "    }\n",
       "</style>\n",
       "<table border=\"1\" class=\"dataframe\">\n",
       "  <thead>\n",
       "    <tr style=\"text-align: right;\">\n",
       "      <th></th>\n",
       "      <th>Visitor</th>\n",
       "      <th>Bounce_Rate</th>\n",
       "    </tr>\n",
       "    <tr>\n",
       "      <th>Day</th>\n",
       "      <th></th>\n",
       "      <th></th>\n",
       "    </tr>\n",
       "  </thead>\n",
       "  <tbody>\n",
       "    <tr>\n",
       "      <th>1</th>\n",
       "      <td>200</td>\n",
       "      <td>20</td>\n",
       "    </tr>\n",
       "    <tr>\n",
       "      <th>2</th>\n",
       "      <td>300</td>\n",
       "      <td>60</td>\n",
       "    </tr>\n",
       "    <tr>\n",
       "      <th>3</th>\n",
       "      <td>100</td>\n",
       "      <td>10</td>\n",
       "    </tr>\n",
       "    <tr>\n",
       "      <th>4</th>\n",
       "      <td>230</td>\n",
       "      <td>45</td>\n",
       "    </tr>\n",
       "  </tbody>\n",
       "</table>\n",
       "</div>"
      ],
      "text/plain": [
       "     Visitor  Bounce_Rate\n",
       "Day                      \n",
       "1        200           20\n",
       "2        300           60\n",
       "3        100           10\n",
       "4        230           45"
      ]
     },
     "execution_count": 61,
     "metadata": {},
     "output_type": "execute_result"
    }
   ],
   "source": [
    "df1"
   ]
  },
  {
   "cell_type": "code",
   "execution_count": 62,
   "id": "7906a2c1",
   "metadata": {},
   "outputs": [
    {
     "data": {
      "text/html": [
       "<div>\n",
       "<style scoped>\n",
       "    .dataframe tbody tr th:only-of-type {\n",
       "        vertical-align: middle;\n",
       "    }\n",
       "\n",
       "    .dataframe tbody tr th {\n",
       "        vertical-align: top;\n",
       "    }\n",
       "\n",
       "    .dataframe thead th {\n",
       "        text-align: right;\n",
       "    }\n",
       "</style>\n",
       "<table border=\"1\" class=\"dataframe\">\n",
       "  <thead>\n",
       "    <tr style=\"text-align: right;\">\n",
       "      <th></th>\n",
       "      <th>Day</th>\n",
       "      <th>Visitor</th>\n",
       "      <th>Bounce_Rate</th>\n",
       "    </tr>\n",
       "  </thead>\n",
       "  <tbody>\n",
       "    <tr>\n",
       "      <th>0</th>\n",
       "      <td>1</td>\n",
       "      <td>200</td>\n",
       "      <td>20</td>\n",
       "    </tr>\n",
       "    <tr>\n",
       "      <th>1</th>\n",
       "      <td>2</td>\n",
       "      <td>300</td>\n",
       "      <td>60</td>\n",
       "    </tr>\n",
       "    <tr>\n",
       "      <th>2</th>\n",
       "      <td>3</td>\n",
       "      <td>100</td>\n",
       "      <td>10</td>\n",
       "    </tr>\n",
       "    <tr>\n",
       "      <th>3</th>\n",
       "      <td>4</td>\n",
       "      <td>230</td>\n",
       "      <td>45</td>\n",
       "    </tr>\n",
       "  </tbody>\n",
       "</table>\n",
       "</div>"
      ],
      "text/plain": [
       "   Day  Visitor  Bounce_Rate\n",
       "0    1      200           20\n",
       "1    2      300           60\n",
       "2    3      100           10\n",
       "3    4      230           45"
      ]
     },
     "execution_count": 62,
     "metadata": {},
     "output_type": "execute_result"
    }
   ],
   "source": [
    "df #df is not changed, yet"
   ]
  },
  {
   "cell_type": "code",
   "execution_count": 63,
   "id": "1f22c0de",
   "metadata": {},
   "outputs": [
    {
     "name": "stdout",
     "output_type": "stream",
     "text": [
      "     Visitor  Bounce_Rate\n",
      "Day                      \n",
      "1        200           20\n",
      "2        300           60\n",
      "3        100           10\n",
      "4        230           45\n"
     ]
    }
   ],
   "source": [
    "# changing the value of index at df by inplace=True.\n",
    "\n",
    "# df.set_index('index column name',inplace=True)\n",
    "df.set_index('Day',inplace= True)\n",
    "\n",
    "print(df)"
   ]
  },
  {
   "cell_type": "markdown",
   "id": "e2aac177",
   "metadata": {},
   "source": [
    "#### Changing the column name"
   ]
  },
  {
   "cell_type": "code",
   "execution_count": 64,
   "id": "c5399b1d",
   "metadata": {},
   "outputs": [],
   "source": [
    "df=df.rename(columns={'Visitor':'Users'})"
   ]
  },
  {
   "cell_type": "code",
   "execution_count": 65,
   "id": "0ddd5d0a",
   "metadata": {},
   "outputs": [
    {
     "name": "stdout",
     "output_type": "stream",
     "text": [
      "     Users  Bounce_Rate\n",
      "Day                    \n",
      "1      200           20\n",
      "2      300           60\n",
      "3      100           10\n",
      "4      230           45\n"
     ]
    }
   ],
   "source": [
    "print(df)"
   ]
  }
 ],
 "metadata": {
  "kernelspec": {
   "display_name": "Python 3 (ipykernel)",
   "language": "python",
   "name": "python3"
  },
  "language_info": {
   "codemirror_mode": {
    "name": "ipython",
    "version": 3
   },
   "file_extension": ".py",
   "mimetype": "text/x-python",
   "name": "python",
   "nbconvert_exporter": "python",
   "pygments_lexer": "ipython3",
   "version": "3.9.12"
  }
 },
 "nbformat": 4,
 "nbformat_minor": 5
}
