{
 "cells": [
  {
   "cell_type": "markdown",
   "id": "080f0999",
   "metadata": {},
   "source": [
    "# Seaborn Visualization Library"
   ]
  },
  {
   "cell_type": "code",
   "execution_count": 1,
   "id": "f0dc478c",
   "metadata": {},
   "outputs": [],
   "source": [
    "import pandas as pd\n",
    "import matplotlib.pyplot as plt\n",
    "import seaborn as sns"
   ]
  },
  {
   "cell_type": "code",
   "execution_count": 2,
   "id": "c03f4a1b",
   "metadata": {},
   "outputs": [],
   "source": [
    "import warnings\n",
    "warnings.filterwarnings('ignore')"
   ]
  },
  {
   "cell_type": "raw",
   "id": "654d3cf6",
   "metadata": {},
   "source": [
    "Seaborn is a Python data visualization library based on matplotlib. \n",
    "It provides a high-level interface for drawing attractive and informative statistical graphics.\n",
    "Seaborn helps to explore and understand your data. Its plotting functions operate on dataframes and arrays containing whole datasets and internally perform the necessary semantic mapping and statistical aggregation to produce informative plots."
   ]
  },
  {
   "cell_type": "raw",
   "id": "4ab6fa23",
   "metadata": {},
   "source": [
    "few example for Seaborn plots.\n",
    "\n",
    ">strip plot\n",
    ">swarm plot\n",
    ">lm plot\n",
    ">count plot"
   ]
  },
  {
   "cell_type": "code",
   "execution_count": 5,
   "id": "1e547aa0",
   "metadata": {},
   "outputs": [],
   "source": [
    "x=['Sunday','Monday','Tuesday','Wednusday','Thursday']\n",
    "y=[4,5,6,7,8]"
   ]
  },
  {
   "cell_type": "code",
   "execution_count": 7,
   "id": "dc206a83",
   "metadata": {},
   "outputs": [
    {
     "data": {
      "text/plain": [
       "<AxesSubplot:>"
      ]
     },
     "execution_count": 7,
     "metadata": {},
     "output_type": "execute_result"
    },
    {
     "data": {
      "image/png": "[encoded data removed]",
      "text/plain": [
       "<Figure size 432x288 with 1 Axes>"
      ]
     },
     "metadata": {
      "needs_background": "light"
     },
     "output_type": "display_data"
    }
   ],
   "source": [
    "sns.stripplot(x,y)   # x axis is days, y axis is numbers"
   ]
  },
  {
   "cell_type": "code",
   "execution_count": 8,
   "id": "2ab953fb",
   "metadata": {},
   "outputs": [],
   "source": [
    "#load the data\n",
    "ds=pd.read_csv(\"emptest.csv\",\n",
    "              index_col='SNo')"
   ]
  },
  {
   "cell_type": "code",
   "execution_count": 9,
   "id": "e1cdcc75",
   "metadata": {},
   "outputs": [
    {
     "data": {
      "text/html": [
       "<div>\n",
       "<style scoped>\n",
       "    .dataframe tbody tr th:only-of-type {\n",
       "        vertical-align: middle;\n",
       "    }\n",
       "\n",
       "    .dataframe tbody tr th {\n",
       "        vertical-align: top;\n",
       "    }\n",
       "\n",
       "    .dataframe thead th {\n",
       "        text-align: right;\n",
       "    }\n",
       "</style>\n",
       "<table border=\"1\" class=\"dataframe\">\n",
       "  <thead>\n",
       "    <tr style=\"text-align: right;\">\n",
       "      <th></th>\n",
       "      <th>Name</th>\n",
       "      <th>Age</th>\n",
       "      <th>City</th>\n",
       "      <th>Salary</th>\n",
       "    </tr>\n",
       "    <tr>\n",
       "      <th>SNo</th>\n",
       "      <th></th>\n",
       "      <th></th>\n",
       "      <th></th>\n",
       "      <th></th>\n",
       "    </tr>\n",
       "  </thead>\n",
       "  <tbody>\n",
       "    <tr>\n",
       "      <th>1</th>\n",
       "      <td>Tom</td>\n",
       "      <td>28</td>\n",
       "      <td>Toronto</td>\n",
       "      <td>20000.0</td>\n",
       "    </tr>\n",
       "    <tr>\n",
       "      <th>2</th>\n",
       "      <td>Lee</td>\n",
       "      <td>32</td>\n",
       "      <td>HongKong</td>\n",
       "      <td>3000.0</td>\n",
       "    </tr>\n",
       "    <tr>\n",
       "      <th>3</th>\n",
       "      <td>Steven</td>\n",
       "      <td>43</td>\n",
       "      <td>BayArea</td>\n",
       "      <td>8300.0</td>\n",
       "    </tr>\n",
       "    <tr>\n",
       "      <th>4</th>\n",
       "      <td>Ram</td>\n",
       "      <td>38</td>\n",
       "      <td>Hyderabad</td>\n",
       "      <td>3900.0</td>\n",
       "    </tr>\n",
       "    <tr>\n",
       "      <th>5</th>\n",
       "      <td>Dave</td>\n",
       "      <td>34</td>\n",
       "      <td>Toronto</td>\n",
       "      <td>8000.0</td>\n",
       "    </tr>\n",
       "  </tbody>\n",
       "</table>\n",
       "</div>"
      ],
      "text/plain": [
       "       Name  Age       City   Salary\n",
       "SNo                                 \n",
       "1       Tom   28    Toronto  20000.0\n",
       "2       Lee   32   HongKong   3000.0\n",
       "3    Steven   43    BayArea   8300.0\n",
       "4       Ram   38  Hyderabad   3900.0\n",
       "5      Dave   34    Toronto   8000.0"
      ]
     },
     "execution_count": 9,
     "metadata": {},
     "output_type": "execute_result"
    }
   ],
   "source": [
    "ds"
   ]
  },
  {
   "cell_type": "code",
   "execution_count": 10,
   "id": "1cf56924",
   "metadata": {},
   "outputs": [
    {
     "data": {
      "image/png": "[encoded data removed]",
      "text/plain": [
       "<Figure size 432x288 with 1 Axes>"
      ]
     },
     "metadata": {
      "needs_background": "light"
     },
     "output_type": "display_data"
    }
   ],
   "source": [
    "# create violinplot(\"Salary\") *column name is important along with data source\n",
    "\n",
    "sns.violinplot(x=\"Salary\",data=ds)\n",
    "plt.show()"
   ]
  },
  {
   "cell_type": "code",
   "execution_count": 15,
   "id": "06cdae94",
   "metadata": {},
   "outputs": [
    {
     "data": {
      "text/plain": [
       "<AxesSubplot:xlabel='Age'>"
      ]
     },
     "execution_count": 15,
     "metadata": {},
     "output_type": "execute_result"
    },
    {
     "data": {
      "image/png": "[encoded data removed]",
      "text/plain": [
       "<Figure size 432x288 with 1 Axes>"
      ]
     },
     "metadata": {
      "needs_background": "light"
     },
     "output_type": "display_data"
    }
   ],
   "source": [
    "sns.violinplot(x='Age',data=ds)\n",
    "# need to update data source and x values"
   ]
  },
  {
   "cell_type": "code",
   "execution_count": null,
   "id": "372771aa",
   "metadata": {},
   "outputs": [],
   "source": []
  }
 ],
 "metadata": {
  "kernelspec": {
   "display_name": "Python 3 (ipykernel)",
   "language": "python",
   "name": "python3"
  },
  "language_info": {
   "codemirror_mode": {
    "name": "ipython",
    "version": 3
   },
   "file_extension": ".py",
   "mimetype": "text/x-python",
   "name": "python",
   "nbconvert_exporter": "python",
   "pygments_lexer": "ipython3",
   "version": "3.9.12"
  }
 },
 "nbformat": 4,
 "nbformat_minor": 5
}
