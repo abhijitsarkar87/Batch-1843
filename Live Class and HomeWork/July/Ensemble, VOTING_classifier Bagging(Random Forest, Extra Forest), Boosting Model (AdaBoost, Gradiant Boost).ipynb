{
 "cells": [
  {
   "cell_type": "markdown",
   "id": "25448890",
   "metadata": {},
   "source": [
    "# Ensemble:"
   ]
  },
  {
   "cell_type": "code",
   "execution_count": null,
   "id": "1d7bb497",
   "metadata": {},
   "outputs": [],
   "source": [
    "\"We use this for BIG DATASET where lakhs of rows and 100 of columns\""
   ]
  },
  {
   "cell_type": "markdown",
   "id": "3243d5b5",
   "metadata": {},
   "source": [
    "What are ensemble methods?\n",
    "\n",
    "Ensemble learning is a machine learning paradigm where multiple models (often called “weak learners”) are trained to solve the same problem and combined to get better results. The main hypothesis is that when weak models are correctly combined we can obtain more accurate and/or robust models."
   ]
  },
  {
   "cell_type": "markdown",
   "id": "e1c77524",
   "metadata": {},
   "source": [
    "### Bagging:\n",
    "    \n",
    "In this the data is divided into chunks and each chunks are sent for trainning parallelly. when they are sent they are weak learner and when all trainning are completed and mean is calculated then we can say that the system becomes more aqurate and robust.\n",
    "    \n",
    "    They are of two type:\n",
    "    \n",
    "    1. Random Forest: \n",
    "    \n",
    " #default\n",
    " sklearn.ensemble.RandomForestClassifier(n_estimators=100, *, criterion='gini')\n",
    "    \n",
    "    2. Extra Trees: We use this dat is more than control.\n",
    "    \n",
    "#default\n",
    "sklearn.ensemble.ExtraTreesClassifier(n_estimators=100, *, criterion='gini')\n",
    "\n",
    "######### Homogeneous in nature ### can be used in regressor and classifier"
   ]
  },
  {
   "cell_type": "markdown",
   "id": "992d2223",
   "metadata": {},
   "source": [
    "###  Boosting:"
   ]
  },
  {
   "cell_type": "markdown",
   "id": "56602ec6",
   "metadata": {},
   "source": [
    "#Sequential Order purpose.\n",
    "#used for huge data set\n",
    "#it avoid avoid bias,avoid variance\n",
    "#sequential technique is used to get high accuracy.\n",
    "\n",
    "They are of two type:\n",
    "\n",
    "    1. AdaBoost\n",
    "    \n",
    "a> AdaBoostClassifier\n",
    "\n",
    "sklearn.ensemble.AdaBoostClassifier(base_estimator=None,n_estimators=50,learning_rate=1.0)\n",
    "\n",
    "b> sklearn.ensemble.AdaBoostRegressor(base_estimator=None, *, n_estimators=50, learning_rate=1.0)\n",
    "\n",
    "    2. Gradient\n",
    "    \n",
    "a> GradientBoostingClassifier\n",
    "\n",
    "sklearn.ensemble.GradientBoostingClassifier(learning_rate=0.1,n_estimators=100)\n",
    "\n",
    "b> GradientBoostingRegressor\n",
    "\n",
    "sklearn.ensemble.GradientBoostingRegressor(learning_rate=0.1, n_estimators=100)"
   ]
  },
  {
   "cell_type": "code",
   "execution_count": 1,
   "id": "ab6c8eb4",
   "metadata": {},
   "outputs": [
    {
     "name": "stdout",
     "output_type": "stream",
     "text": [
      "1.1.1\n"
     ]
    }
   ],
   "source": [
    "# checking sklearn version:\n",
    "\n",
    "import sklearn\n",
    "\n",
    "print(sklearn.__version__)"
   ]
  },
  {
   "cell_type": "code",
   "execution_count": 2,
   "id": "ceca74e5",
   "metadata": {},
   "outputs": [],
   "source": [
    "from sklearn.datasets import load_iris\n",
    "from sklearn.model_selection import train_test_split\n",
    "from sklearn.metrics import accuracy_score, confusion_matrix, classification_report"
   ]
  },
  {
   "cell_type": "code",
   "execution_count": 3,
   "id": "083a3bb5",
   "metadata": {},
   "outputs": [],
   "source": [
    "import warnings\n",
    "warnings.filterwarnings(\"ignore\")"
   ]
  },
  {
   "cell_type": "code",
   "execution_count": 4,
   "id": "44ab8e18",
   "metadata": {},
   "outputs": [],
   "source": [
    "#Loading iris Data-Set\n",
    "\n",
    "iris =load_iris()"
   ]
  },
  {
   "cell_type": "code",
   "execution_count": 5,
   "id": "92d0917e",
   "metadata": {},
   "outputs": [
    {
     "data": {
      "text/plain": [
       "{'data': array([[5.1, 3.5, 1.4, 0.2],\n",
       "        [4.9, 3. , 1.4, 0.2],\n",
       "        [4.7, 3.2, 1.3, 0.2],\n",
       "        [4.6, 3.1, 1.5, 0.2],\n",
       "        [5. , 3.6, 1.4, 0.2],\n",
       "        [5.4, 3.9, 1.7, 0.4],\n",
       "        [4.6, 3.4, 1.4, 0.3],\n",
       "        [5. , 3.4, 1.5, 0.2],\n",
       "        [4.4, 2.9, 1.4, 0.2],\n",
       "        [4.9, 3.1, 1.5, 0.1],\n",
       "        [5.4, 3.7, 1.5, 0.2],\n",
       "        [4.8, 3.4, 1.6, 0.2],\n",
       "        [4.8, 3. , 1.4, 0.1],\n",
       "        [4.3, 3. , 1.1, 0.1],\n",
       "        [5.8, 4. , 1.2, 0.2],\n",
       "        [5.7, 4.4, 1.5, 0.4],\n",
       "        [5.4, 3.9, 1.3, 0.4],\n",
       "        [5.1, 3.5, 1.4, 0.3],\n",
       "        [5.7, 3.8, 1.7, 0.3],\n",
       "        [5.1, 3.8, 1.5, 0.3],\n",
       "        [5.4, 3.4, 1.7, 0.2],\n",
       "        [5.1, 3.7, 1.5, 0.4],\n",
       "        [4.6, 3.6, 1. , 0.2],\n",
       "        [5.1, 3.3, 1.7, 0.5],\n",
       "        [4.8, 3.4, 1.9, 0.2],\n",
       "        [5. , 3. , 1.6, 0.2],\n",
       "        [5. , 3.4, 1.6, 0.4],\n",
       "        [5.2, 3.5, 1.5, 0.2],\n",
       "        [5.2, 3.4, 1.4, 0.2],\n",
       "        [4.7, 3.2, 1.6, 0.2],\n",
       "        [4.8, 3.1, 1.6, 0.2],\n",
       "        [5.4, 3.4, 1.5, 0.4],\n",
       "        [5.2, 4.1, 1.5, 0.1],\n",
       "        [5.5, 4.2, 1.4, 0.2],\n",
       "        [4.9, 3.1, 1.5, 0.2],\n",
       "        [5. , 3.2, 1.2, 0.2],\n",
       "        [5.5, 3.5, 1.3, 0.2],\n",
       "        [4.9, 3.6, 1.4, 0.1],\n",
       "        [4.4, 3. , 1.3, 0.2],\n",
       "        [5.1, 3.4, 1.5, 0.2],\n",
       "        [5. , 3.5, 1.3, 0.3],\n",
       "        [4.5, 2.3, 1.3, 0.3],\n",
       "        [4.4, 3.2, 1.3, 0.2],\n",
       "        [5. , 3.5, 1.6, 0.6],\n",
       "        [5.1, 3.8, 1.9, 0.4],\n",
       "        [4.8, 3. , 1.4, 0.3],\n",
       "        [5.1, 3.8, 1.6, 0.2],\n",
       "        [4.6, 3.2, 1.4, 0.2],\n",
       "        [5.3, 3.7, 1.5, 0.2],\n",
       "        [5. , 3.3, 1.4, 0.2],\n",
       "        [7. , 3.2, 4.7, 1.4],\n",
       "        [6.4, 3.2, 4.5, 1.5],\n",
       "        [6.9, 3.1, 4.9, 1.5],\n",
       "        [5.5, 2.3, 4. , 1.3],\n",
       "        [6.5, 2.8, 4.6, 1.5],\n",
       "        [5.7, 2.8, 4.5, 1.3],\n",
       "        [6.3, 3.3, 4.7, 1.6],\n",
       "        [4.9, 2.4, 3.3, 1. ],\n",
       "        [6.6, 2.9, 4.6, 1.3],\n",
       "        [5.2, 2.7, 3.9, 1.4],\n",
       "        [5. , 2. , 3.5, 1. ],\n",
       "        [5.9, 3. , 4.2, 1.5],\n",
       "        [6. , 2.2, 4. , 1. ],\n",
       "        [6.1, 2.9, 4.7, 1.4],\n",
       "        [5.6, 2.9, 3.6, 1.3],\n",
       "        [6.7, 3.1, 4.4, 1.4],\n",
       "        [5.6, 3. , 4.5, 1.5],\n",
       "        [5.8, 2.7, 4.1, 1. ],\n",
       "        [6.2, 2.2, 4.5, 1.5],\n",
       "        [5.6, 2.5, 3.9, 1.1],\n",
       "        [5.9, 3.2, 4.8, 1.8],\n",
       "        [6.1, 2.8, 4. , 1.3],\n",
       "        [6.3, 2.5, 4.9, 1.5],\n",
       "        [6.1, 2.8, 4.7, 1.2],\n",
       "        [6.4, 2.9, 4.3, 1.3],\n",
       "        [6.6, 3. , 4.4, 1.4],\n",
       "        [6.8, 2.8, 4.8, 1.4],\n",
       "        [6.7, 3. , 5. , 1.7],\n",
       "        [6. , 2.9, 4.5, 1.5],\n",
       "        [5.7, 2.6, 3.5, 1. ],\n",
       "        [5.5, 2.4, 3.8, 1.1],\n",
       "        [5.5, 2.4, 3.7, 1. ],\n",
       "        [5.8, 2.7, 3.9, 1.2],\n",
       "        [6. , 2.7, 5.1, 1.6],\n",
       "        [5.4, 3. , 4.5, 1.5],\n",
       "        [6. , 3.4, 4.5, 1.6],\n",
       "        [6.7, 3.1, 4.7, 1.5],\n",
       "        [6.3, 2.3, 4.4, 1.3],\n",
       "        [5.6, 3. , 4.1, 1.3],\n",
       "        [5.5, 2.5, 4. , 1.3],\n",
       "        [5.5, 2.6, 4.4, 1.2],\n",
       "        [6.1, 3. , 4.6, 1.4],\n",
       "        [5.8, 2.6, 4. , 1.2],\n",
       "        [5. , 2.3, 3.3, 1. ],\n",
       "        [5.6, 2.7, 4.2, 1.3],\n",
       "        [5.7, 3. , 4.2, 1.2],\n",
       "        [5.7, 2.9, 4.2, 1.3],\n",
       "        [6.2, 2.9, 4.3, 1.3],\n",
       "        [5.1, 2.5, 3. , 1.1],\n",
       "        [5.7, 2.8, 4.1, 1.3],\n",
       "        [6.3, 3.3, 6. , 2.5],\n",
       "        [5.8, 2.7, 5.1, 1.9],\n",
       "        [7.1, 3. , 5.9, 2.1],\n",
       "        [6.3, 2.9, 5.6, 1.8],\n",
       "        [6.5, 3. , 5.8, 2.2],\n",
       "        [7.6, 3. , 6.6, 2.1],\n",
       "        [4.9, 2.5, 4.5, 1.7],\n",
       "        [7.3, 2.9, 6.3, 1.8],\n",
       "        [6.7, 2.5, 5.8, 1.8],\n",
       "        [7.2, 3.6, 6.1, 2.5],\n",
       "        [6.5, 3.2, 5.1, 2. ],\n",
       "        [6.4, 2.7, 5.3, 1.9],\n",
       "        [6.8, 3. , 5.5, 2.1],\n",
       "        [5.7, 2.5, 5. , 2. ],\n",
       "        [5.8, 2.8, 5.1, 2.4],\n",
       "        [6.4, 3.2, 5.3, 2.3],\n",
       "        [6.5, 3. , 5.5, 1.8],\n",
       "        [7.7, 3.8, 6.7, 2.2],\n",
       "        [7.7, 2.6, 6.9, 2.3],\n",
       "        [6. , 2.2, 5. , 1.5],\n",
       "        [6.9, 3.2, 5.7, 2.3],\n",
       "        [5.6, 2.8, 4.9, 2. ],\n",
       "        [7.7, 2.8, 6.7, 2. ],\n",
       "        [6.3, 2.7, 4.9, 1.8],\n",
       "        [6.7, 3.3, 5.7, 2.1],\n",
       "        [7.2, 3.2, 6. , 1.8],\n",
       "        [6.2, 2.8, 4.8, 1.8],\n",
       "        [6.1, 3. , 4.9, 1.8],\n",
       "        [6.4, 2.8, 5.6, 2.1],\n",
       "        [7.2, 3. , 5.8, 1.6],\n",
       "        [7.4, 2.8, 6.1, 1.9],\n",
       "        [7.9, 3.8, 6.4, 2. ],\n",
       "        [6.4, 2.8, 5.6, 2.2],\n",
       "        [6.3, 2.8, 5.1, 1.5],\n",
       "        [6.1, 2.6, 5.6, 1.4],\n",
       "        [7.7, 3. , 6.1, 2.3],\n",
       "        [6.3, 3.4, 5.6, 2.4],\n",
       "        [6.4, 3.1, 5.5, 1.8],\n",
       "        [6. , 3. , 4.8, 1.8],\n",
       "        [6.9, 3.1, 5.4, 2.1],\n",
       "        [6.7, 3.1, 5.6, 2.4],\n",
       "        [6.9, 3.1, 5.1, 2.3],\n",
       "        [5.8, 2.7, 5.1, 1.9],\n",
       "        [6.8, 3.2, 5.9, 2.3],\n",
       "        [6.7, 3.3, 5.7, 2.5],\n",
       "        [6.7, 3. , 5.2, 2.3],\n",
       "        [6.3, 2.5, 5. , 1.9],\n",
       "        [6.5, 3. , 5.2, 2. ],\n",
       "        [6.2, 3.4, 5.4, 2.3],\n",
       "        [5.9, 3. , 5.1, 1.8]]),\n",
       " 'target': array([0, 0, 0, 0, 0, 0, 0, 0, 0, 0, 0, 0, 0, 0, 0, 0, 0, 0, 0, 0, 0, 0,\n",
       "        0, 0, 0, 0, 0, 0, 0, 0, 0, 0, 0, 0, 0, 0, 0, 0, 0, 0, 0, 0, 0, 0,\n",
       "        0, 0, 0, 0, 0, 0, 1, 1, 1, 1, 1, 1, 1, 1, 1, 1, 1, 1, 1, 1, 1, 1,\n",
       "        1, 1, 1, 1, 1, 1, 1, 1, 1, 1, 1, 1, 1, 1, 1, 1, 1, 1, 1, 1, 1, 1,\n",
       "        1, 1, 1, 1, 1, 1, 1, 1, 1, 1, 1, 1, 2, 2, 2, 2, 2, 2, 2, 2, 2, 2,\n",
       "        2, 2, 2, 2, 2, 2, 2, 2, 2, 2, 2, 2, 2, 2, 2, 2, 2, 2, 2, 2, 2, 2,\n",
       "        2, 2, 2, 2, 2, 2, 2, 2, 2, 2, 2, 2, 2, 2, 2, 2, 2, 2]),\n",
       " 'frame': None,\n",
       " 'target_names': array(['setosa', 'versicolor', 'virginica'], dtype='<U10'),\n",
       " 'DESCR': '.. _iris_dataset:\\n\\nIris plants dataset\\n--------------------\\n\\n**Data Set Characteristics:**\\n\\n    :Number of Instances: 150 (50 in each of three classes)\\n    :Number of Attributes: 4 numeric, predictive attributes and the class\\n    :Attribute Information:\\n        - sepal length in cm\\n        - sepal width in cm\\n        - petal length in cm\\n        - petal width in cm\\n        - class:\\n                - Iris-Setosa\\n                - Iris-Versicolour\\n                - Iris-Virginica\\n                \\n    :Summary Statistics:\\n\\n    ============== ==== ==== ======= ===== ====================\\n                    Min  Max   Mean    SD   Class Correlation\\n    ============== ==== ==== ======= ===== ====================\\n    sepal length:   4.3  7.9   5.84   0.83    0.7826\\n    sepal width:    2.0  4.4   3.05   0.43   -0.4194\\n    petal length:   1.0  6.9   3.76   1.76    0.9490  (high!)\\n    petal width:    0.1  2.5   1.20   0.76    0.9565  (high!)\\n    ============== ==== ==== ======= ===== ====================\\n\\n    :Missing Attribute Values: None\\n    :Class Distribution: 33.3% for each of 3 classes.\\n    :Creator: R.A. Fisher\\n    :Donor: Michael Marshall (MARSHALL%PLU@io.arc.nasa.gov)\\n    :Date: July, 1988\\n\\nThe famous Iris database, first used by Sir R.A. Fisher. The dataset is taken\\nfrom Fisher\\'s paper. Note that it\\'s the same as in R, but not as in the UCI\\nMachine Learning Repository, which has two wrong data points.\\n\\nThis is perhaps the best known database to be found in the\\npattern recognition literature.  Fisher\\'s paper is a classic in the field and\\nis referenced frequently to this day.  (See Duda & Hart, for example.)  The\\ndata set contains 3 classes of 50 instances each, where each class refers to a\\ntype of iris plant.  One class is linearly separable from the other 2; the\\nlatter are NOT linearly separable from each other.\\n\\n.. topic:: References\\n\\n   - Fisher, R.A. \"The use of multiple measurements in taxonomic problems\"\\n     Annual Eugenics, 7, Part II, 179-188 (1936); also in \"Contributions to\\n     Mathematical Statistics\" (John Wiley, NY, 1950).\\n   - Duda, R.O., & Hart, P.E. (1973) Pattern Classification and Scene Analysis.\\n     (Q327.D83) John Wiley & Sons.  ISBN 0-471-22361-1.  See page 218.\\n   - Dasarathy, B.V. (1980) \"Nosing Around the Neighborhood: A New System\\n     Structure and Classification Rule for Recognition in Partially Exposed\\n     Environments\".  IEEE Transactions on Pattern Analysis and Machine\\n     Intelligence, Vol. PAMI-2, No. 1, 67-71.\\n   - Gates, G.W. (1972) \"The Reduced Nearest Neighbor Rule\".  IEEE Transactions\\n     on Information Theory, May 1972, 431-433.\\n   - See also: 1988 MLC Proceedings, 54-64.  Cheeseman et al\"s AUTOCLASS II\\n     conceptual clustering system finds 3 classes in the data.\\n   - Many, many more ...',\n",
       " 'feature_names': ['sepal length (cm)',\n",
       "  'sepal width (cm)',\n",
       "  'petal length (cm)',\n",
       "  'petal width (cm)'],\n",
       " 'filename': 'iris.csv',\n",
       " 'data_module': 'sklearn.datasets.data'}"
      ]
     },
     "execution_count": 5,
     "metadata": {},
     "output_type": "execute_result"
    }
   ],
   "source": [
    "iris"
   ]
  },
  {
   "cell_type": "code",
   "execution_count": 6,
   "id": "c8179449",
   "metadata": {},
   "outputs": [],
   "source": [
    "x= iris.data[:,:4]"
   ]
  },
  {
   "cell_type": "code",
   "execution_count": 7,
   "id": "b0697f44",
   "metadata": {},
   "outputs": [],
   "source": [
    "y=iris.target"
   ]
  },
  {
   "cell_type": "code",
   "execution_count": 8,
   "id": "4954cae4",
   "metadata": {},
   "outputs": [],
   "source": [
    "# train_test_split\n",
    "\n",
    "train_x,test_x,train_y,test_y=train_test_split(x,y,test_size=0.20,random_state=42)"
   ]
  },
  {
   "cell_type": "code",
   "execution_count": 9,
   "id": "9da16e94",
   "metadata": {},
   "outputs": [
    {
     "data": {
      "text/plain": [
       "(120, 4)"
      ]
     },
     "execution_count": 9,
     "metadata": {},
     "output_type": "execute_result"
    }
   ],
   "source": [
    "train_x.shape"
   ]
  },
  {
   "cell_type": "markdown",
   "id": "3dd620c3",
   "metadata": {},
   "source": [
    "# Bagging"
   ]
  },
  {
   "cell_type": "markdown",
   "id": "b5f1b103",
   "metadata": {},
   "source": [
    "Random Forest are of two type:\n",
    "\n",
    "    1.RandomForestClassifer\n",
    "    \n",
    "    sklearn.ensemble.RandomForestClassifier(n_estimators=100, *, criterion='gini')\n",
    "    \n",
    "    2. RandomForestRegressor\n",
    "    sklearn.ensemble.RandomForestRegressor(n_estimators=100, *, criterion='squared_error')"
   ]
  },
  {
   "cell_type": "markdown",
   "id": "a4120e7e",
   "metadata": {},
   "source": [
    "## Extra Trees: (We use this for bulk dataset)\n",
    "    \n",
    "    #ExtraTreesClassifier \n",
    "    sklearn.ensemble.ExtraTreesClassifier(n_estimators=100, *, criterion='gini')\n",
    "    \n",
    "    #ExtraTreesRegressor\n",
    "    sklearn.linear_model.LinearRegression(*, fit_intercept=True)"
   ]
  },
  {
   "cell_type": "code",
   "execution_count": 10,
   "id": "649974da",
   "metadata": {},
   "outputs": [
    {
     "name": "stdout",
     "output_type": "stream",
     "text": [
      "1.0\n",
      "[[10  0  0]\n",
      " [ 0  9  0]\n",
      " [ 0  0 11]]\n",
      "              precision    recall  f1-score   support\n",
      "\n",
      "           0       1.00      1.00      1.00        10\n",
      "           1       1.00      1.00      1.00         9\n",
      "           2       1.00      1.00      1.00        11\n",
      "\n",
      "    accuracy                           1.00        30\n",
      "   macro avg       1.00      1.00      1.00        30\n",
      "weighted avg       1.00      1.00      1.00        30\n",
      "\n"
     ]
    }
   ],
   "source": [
    "from sklearn.ensemble import RandomForestClassifier\n",
    "\n",
    "rf=RandomForestClassifier(n_estimators=100, random_state=42)\n",
    "\n",
    "#RandomForestClassifier(100)\n",
    "\n",
    "rf.fit(train_x,train_y)\n",
    "pred_rf=rf.predict(test_x)\n",
    "\n",
    "print(accuracy_score(pred_rf,test_y))\n",
    "print(confusion_matrix(pred_rf,test_y))\n",
    "print(classification_report(pred_rf,test_y))"
   ]
  },
  {
   "cell_type": "markdown",
   "id": "d96f1776",
   "metadata": {},
   "source": [
    "# Boosting:"
   ]
  },
  {
   "cell_type": "code",
   "execution_count": null,
   "id": "aff8e118",
   "metadata": {},
   "outputs": [],
   "source": [
    "\"AdaBoost Classifier can work with other other classifiers also but we wont apply any other model here\"\n",
    "\n",
    "# we dont use any other model as its homogeneous"
   ]
  },
  {
   "cell_type": "code",
   "execution_count": 14,
   "id": "d4a967ec",
   "metadata": {},
   "outputs": [
    {
     "name": "stdout",
     "output_type": "stream",
     "text": [
      "1.0\n",
      "[[10  0  0]\n",
      " [ 0  9  0]\n",
      " [ 0  0 11]]\n",
      "              precision    recall  f1-score   support\n",
      "\n",
      "           0       1.00      1.00      1.00        10\n",
      "           1       1.00      1.00      1.00         9\n",
      "           2       1.00      1.00      1.00        11\n",
      "\n",
      "    accuracy                           1.00        30\n",
      "   macro avg       1.00      1.00      1.00        30\n",
      "weighted avg       1.00      1.00      1.00        30\n",
      "\n"
     ]
    }
   ],
   "source": [
    "from sklearn.ensemble import AdaBoostClassifier\n",
    "\n",
    "# sklearn.ensemble.AdaBoostClassifier(base_estimator=DecisonTrees , *, n_estimators=50,Learning_rate=1.0)\n",
    "# NOTE: n_estimators can be changed till 50----250 (number of tress working here default is 50)\n",
    "# Learning_rate=1.0(Help model increase learning rate of the machine)\n",
    "\n",
    "ad=AdaBoostClassifier()\n",
    "ad.fit(train_x,train_y)\n",
    "ad_pred=ad.predict(test_x)\n",
    "\n",
    "print(accuracy_score(ad_pred,test_y))\n",
    "print(confusion_matrix(ad_pred,test_y))\n",
    "print(classification_report(ad_pred,test_y))"
   ]
  },
  {
   "cell_type": "code",
   "execution_count": 16,
   "id": "e7fb9a7d",
   "metadata": {},
   "outputs": [
    {
     "name": "stdout",
     "output_type": "stream",
     "text": [
      "1.0\n",
      "[[10  0  0]\n",
      " [ 0  9  0]\n",
      " [ 0  0 11]]\n",
      "              precision    recall  f1-score   support\n",
      "\n",
      "           0       1.00      1.00      1.00        10\n",
      "           1       1.00      1.00      1.00         9\n",
      "           2       1.00      1.00      1.00        11\n",
      "\n",
      "    accuracy                           1.00        30\n",
      "   macro avg       1.00      1.00      1.00        30\n",
      "weighted avg       1.00      1.00      1.00        30\n",
      "\n"
     ]
    }
   ],
   "source": [
    "ad=AdaBoostClassifier(n_estimators=50)\n",
    "ad.fit(train_x,train_y)\n",
    "ad_predict=ad.predict(test_x)\n",
    "\n",
    "print(accuracy_score(ad_predict,test_y))\n",
    "print(confusion_matrix(ad_predict,test_y))\n",
    "print(classification_report(ad_predict,test_y))"
   ]
  },
  {
   "cell_type": "code",
   "execution_count": 17,
   "id": "64e60b49",
   "metadata": {},
   "outputs": [
    {
     "name": "stdout",
     "output_type": "stream",
     "text": [
      "1.0\n",
      "[[10  0  0]\n",
      " [ 0  9  0]\n",
      " [ 0  0 11]]\n",
      "              precision    recall  f1-score   support\n",
      "\n",
      "           0       1.00      1.00      1.00        10\n",
      "           1       1.00      1.00      1.00         9\n",
      "           2       1.00      1.00      1.00        11\n",
      "\n",
      "    accuracy                           1.00        30\n",
      "   macro avg       1.00      1.00      1.00        30\n",
      "weighted avg       1.00      1.00      1.00        30\n",
      "\n"
     ]
    }
   ],
   "source": [
    "ad=AdaBoostClassifier(n_estimators=200)\n",
    "ad.fit(train_x,train_y)\n",
    "ad_predict=ad.predict(test_x)\n",
    "\n",
    "print(accuracy_score(ad_predict,test_y))\n",
    "print(confusion_matrix(ad_predict,test_y))\n",
    "print(classification_report(ad_predict,test_y))"
   ]
  },
  {
   "cell_type": "markdown",
   "id": "e23efee8",
   "metadata": {},
   "source": [
    "# IF WE ARE WORKING WITH BASE_ESTIMATOR SVC IN ADABOOST\n",
    "\n",
    "#NOTE--ALGORITHM='SAMME','SAMME.R'\n",
    "#USING BOTH ONE BY ONE"
   ]
  },
  {
   "cell_type": "code",
   "execution_count": 18,
   "id": "db6dbbfc",
   "metadata": {},
   "outputs": [],
   "source": [
    "# IMPORTING svc Support vector Classifier\n",
    "from sklearn.svm import SVC\n",
    "svc=SVC() #note: here SVC(will have default parameter=rbf)"
   ]
  },
  {
   "cell_type": "code",
   "execution_count": 21,
   "id": "5be15960",
   "metadata": {},
   "outputs": [
    {
     "name": "stdout",
     "output_type": "stream",
     "text": [
      "0.3416666666666667\n",
      "[[ 0 40  0]\n",
      " [ 0 41  0]\n",
      " [ 0 39  0]]\n",
      "              precision    recall  f1-score   support\n",
      "\n",
      "           0       0.00      0.00      0.00        40\n",
      "           1       0.34      1.00      0.51        41\n",
      "           2       0.00      0.00      0.00        39\n",
      "\n",
      "    accuracy                           0.34       120\n",
      "   macro avg       0.11      0.33      0.17       120\n",
      "weighted avg       0.12      0.34      0.17       120\n",
      "\n"
     ]
    }
   ],
   "source": [
    "# creating ada boost\n",
    "# default algorithm='SAMME.R'is now changed to SAMME as it wont work with svc\n",
    "ad=AdaBoostClassifier(n_estimators=50,base_estimator=svc,algorithm='SAMME')\n",
    "ad.fit(train_x,train_y)\n",
    "ad_pred=ad.predict(train_x)\n",
    "\n",
    "print(accuracy_score(train_y,ad_pred))\n",
    "print(confusion_matrix(train_y,ad_pred))\n",
    "print(classification_report(train_y,ad_pred))"
   ]
  },
  {
   "cell_type": "markdown",
   "id": "7839ff4f",
   "metadata": {},
   "source": [
    "\n",
    "# It wont work with svc \n",
    "\n",
    "\n",
    "\n",
    "# as default algorithm='SAMME.R'\n",
    "\n",
    "ad=AdaBoostClassifier(n_estimators=50,base_estimator=svc)\n",
    "ad.fit(train_x,train_y)\n",
    "ad_pred=ad.predict(train_x)\n",
    "\n",
    "print(accuracy_score(train_y,ad_pred))\n",
    "print(confusion_matrix(train_y,ad_pred))\n",
    "print(classification_report(train_y,ad_pred))"
   ]
  },
  {
   "cell_type": "code",
   "execution_count": 24,
   "id": "73663ce3",
   "metadata": {},
   "outputs": [
    {
     "name": "stdout",
     "output_type": "stream",
     "text": [
      "1.0\n",
      "[[10  0  0]\n",
      " [ 0  9  0]\n",
      " [ 0  0 11]]\n",
      "              precision    recall  f1-score   support\n",
      "\n",
      "           0       1.00      1.00      1.00        10\n",
      "           1       1.00      1.00      1.00         9\n",
      "           2       1.00      1.00      1.00        11\n",
      "\n",
      "    accuracy                           1.00        30\n",
      "   macro avg       1.00      1.00      1.00        30\n",
      "weighted avg       1.00      1.00      1.00        30\n",
      "\n"
     ]
    }
   ],
   "source": [
    "# changing default svc deafault kernal value to =linear\n",
    "\n",
    "svc=SVC(probability=True,kernel='linear')\n",
    "\n",
    "#creating ADABoost:\n",
    "\n",
    "ad=AdaBoostClassifier(n_estimators=50,base_estimator=svc)\n",
    "ad.fit(train_x,train_y)\n",
    "ad_pred=ad.predict(test_x)\n",
    "\n",
    "print(accuracy_score(ad_pred,test_y))\n",
    "print(confusion_matrix(ad_pred,test_y))\n",
    "print(classification_report(ad_pred,test_y))"
   ]
  },
  {
   "cell_type": "code",
   "execution_count": 26,
   "id": "2ea5ce8d",
   "metadata": {},
   "outputs": [
    {
     "data": {
      "text/plain": [
       "1.0"
      ]
     },
     "execution_count": 26,
     "metadata": {},
     "output_type": "execute_result"
    }
   ],
   "source": [
    "from sklearn.ensemble import GradientBoostingClassifier\n",
    "\n",
    "gb=GradientBoostingClassifier()\n",
    "\n",
    "gb.fit(train_x,train_y)\n",
    "gb.score(train_x,train_y)"
   ]
  },
  {
   "cell_type": "code",
   "execution_count": 32,
   "id": "fdc521b2",
   "metadata": {},
   "outputs": [],
   "source": [
    "gbpred=gb.predict(test_x)"
   ]
  },
  {
   "cell_type": "code",
   "execution_count": 33,
   "id": "5e6835d8",
   "metadata": {},
   "outputs": [
    {
     "name": "stdout",
     "output_type": "stream",
     "text": [
      "1.0\n",
      "[[10  0  0]\n",
      " [ 0  9  0]\n",
      " [ 0  0 11]]\n",
      "              precision    recall  f1-score   support\n",
      "\n",
      "           0       1.00      1.00      1.00        10\n",
      "           1       1.00      1.00      1.00         9\n",
      "           2       1.00      1.00      1.00        11\n",
      "\n",
      "    accuracy                           1.00        30\n",
      "   macro avg       1.00      1.00      1.00        30\n",
      "weighted avg       1.00      1.00      1.00        30\n",
      "\n"
     ]
    }
   ],
   "source": [
    "print(accuracy_score(test_y,gbpred))\n",
    "print(confusion_matrix(test_y,gbpred))\n",
    "print(classification_report(test_y,gbpred))"
   ]
  },
  {
   "cell_type": "markdown",
   "id": "565a9b4c",
   "metadata": {},
   "source": [
    "# VOTING CLASSIFIER"
   ]
  },
  {
   "cell_type": "markdown",
   "id": "e633e14e",
   "metadata": {},
   "source": [
    "Voting are hetrogenious--- \"Various classifier can be used\"\n",
    "    \n",
    "    They are of two type:\n",
    "    \n",
    "        1.Hard-voting:\n",
    "        \n",
    "In this whole dataset it provided to different different models, now they make a prediction out of it, After the prediction, the one with highest vote wins the case.\n",
    "        \n",
    "        KNN says A\n",
    "        MNB Says B\n",
    "        DTC says A\n",
    "        SVC says A\n",
    "        \n",
    "        \"Here A wins with Majority\n",
    "        \n",
    "        \n",
    "2.Soft-voting\n",
    "        \n",
    "When a entire dataset is passed on all the models, Then the model start predecting in terms of probabilities.\n",
    "\n",
    "class_name---->"
   ]
  },
  {
   "cell_type": "code",
   "execution_count": 35,
   "id": "115af0cb",
   "metadata": {},
   "outputs": [],
   "source": [
    "# import libraries\n",
    "\n",
    "from sklearn.ensemble import VotingClassifier"
   ]
  },
  {
   "cell_type": "code",
   "execution_count": 47,
   "id": "fb36c88e",
   "metadata": {},
   "outputs": [],
   "source": [
    "# from sklearn.neighbors import KNeighborsClassifier\n",
    "from sklearn.svm import SVC\n",
    "from sklearn.tree import DecisionTreeClassifier\n",
    "\n",
    "estimator=[]\n",
    "estimator.append(('KNN',KNeighborsClassifier()))\n",
    "estimator.append(('SVC',SVC(probability=False))))\n",
    "estimator.append(('DTC',DecisionTreeClassifier()))"
   ]
  },
  {
   "cell_type": "code",
   "execution_count": 44,
   "id": "761360b5",
   "metadata": {},
   "outputs": [
    {
     "name": "stdout",
     "output_type": "stream",
     "text": [
      "[('KNN', KNeighborsClassifier()), ('SVC', SVC()), ('DTC', DecisionTreeClassifier())]\n"
     ]
    }
   ],
   "source": [
    "print(estimator)"
   ]
  },
  {
   "cell_type": "code",
   "execution_count": 45,
   "id": "4d21e4c7",
   "metadata": {},
   "outputs": [
    {
     "name": "stdout",
     "output_type": "stream",
     "text": [
      "[1 0 2 1 1 0 1 2 1 1 2 0 0 0 0 1 2 1 1 2 0 2 0 2 2 2 2 2 0 0]\n",
      "Hard Voting Score 1\n"
     ]
    }
   ],
   "source": [
    "# Voting Classifier with Hard Voting\n",
    "\n",
    "vot_hard=VotingClassifier(estimators=estimator,voting='hard')\n",
    "vot_hard.fit(train_x,train_y)\n",
    "y_predict=vot_hard.predict(test_x)\n",
    "\n",
    "print(y_predict)\n",
    "\n",
    "# using accuracy score mertics to predict score\n",
    "\n",
    "score=accuracy_score(y_predict,test_y)\n",
    "print(\"Hard Voting Score %d\" %score)"
   ]
  },
  {
   "cell_type": "markdown",
   "id": "6ffa9379",
   "metadata": {},
   "source": [
    "# SOFT-VOting"
   ]
  },
  {
   "cell_type": "code",
   "execution_count": 48,
   "id": "c01aa355",
   "metadata": {},
   "outputs": [],
   "source": [
    "estimator=[]\n",
    "estimator.append(('KNN',KNeighborsClassifier()))\n",
    "estimator.append(('SVC',SVC(probability=True)))\n",
    "estimator.append(('DTC',DecisionTreeClassifier()))"
   ]
  },
  {
   "cell_type": "code",
   "execution_count": 49,
   "id": "de308cb7",
   "metadata": {},
   "outputs": [
    {
     "name": "stdout",
     "output_type": "stream",
     "text": [
      "[1 0 2 1 1 0 1 2 1 1 2 0 0 0 0 1 2 1 1 2 0 2 0 2 2 2 2 2 0 0]\n"
     ]
    }
   ],
   "source": [
    "vot_soft=VotingClassifier(estimators=estimator,voting='soft')\n",
    "vot_soft.fit(train_x,train_y)\n",
    "y_predict=vot_soft.predict(test_x)\n",
    "\n",
    "print(y_predict)"
   ]
  },
  {
   "cell_type": "code",
   "execution_count": 51,
   "id": "81d768e3",
   "metadata": {},
   "outputs": [
    {
     "name": "stdout",
     "output_type": "stream",
     "text": [
      "Hence the Soft Vote is 1\n"
     ]
    }
   ],
   "source": [
    "score=accuracy_score(y_predict,test_y)\n",
    "\n",
    "print(\"Hence the Soft Vote is %d\" %score)"
   ]
  },
  {
   "cell_type": "markdown",
   "id": "f9a8538c",
   "metadata": {},
   "source": [
    "-----------------------------------------------------------------------"
   ]
  },
  {
   "cell_type": "markdown",
   "id": "a7187c1f",
   "metadata": {},
   "source": [
    "Ensemble Over"
   ]
  }
 ],
 "metadata": {
  "kernelspec": {
   "display_name": "Python 3 (ipykernel)",
   "language": "python",
   "name": "python3"
  },
  "language_info": {
   "codemirror_mode": {
    "name": "ipython",
    "version": 3
   },
   "file_extension": ".py",
   "mimetype": "text/x-python",
   "name": "python",
   "nbconvert_exporter": "python",
   "pygments_lexer": "ipython3",
   "version": "3.9.12"
  }
 },
 "nbformat": 4,
 "nbformat_minor": 5
}
