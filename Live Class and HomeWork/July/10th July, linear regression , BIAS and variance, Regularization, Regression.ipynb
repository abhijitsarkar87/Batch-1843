{
 "cells": [
  {
   "cell_type": "markdown",
   "id": "be337479",
   "metadata": {},
   "source": [
    "### Regularization"
   ]
  },
  {
   "cell_type": "markdown",
   "id": "1fb810f1",
   "metadata": {},
   "source": [
    "Regularization is a technique used to reduce the errors by fitting the function appropriately on the given training set and avoid overfitting.\n",
    "\n",
    "The commonly used regularization techniques are : \n",
    " \n",
    "\n",
    "L1 regularization\n",
    "L2 regularization\n",
    "Dropout regularization\n",
    "\n",
    "This article focus on L1 and L2 regularization. \n",
    "\n",
    "A regression model which uses L1 Regularization technique is called LASSO(Least Absolute Shrinkage and Selection Operator) regression. \n",
    "\n",
    "A regression model that uses L2 regularization technique is called Ridge regression. \n",
    "\n",
    "Lasso Regression adds “absolute value of magnitude” of coefficient as penalty term to the loss function(L). "
   ]
  },
  {
   "cell_type": "markdown",
   "id": "7b505b5b",
   "metadata": {},
   "source": [
    "### NOTE:\n",
    "\n",
    "#In lasso regression the variable can be completely omited which in underfit and overfit\n",
    "\n",
    "#In ridge regresssion the variable will reduce the difference between very high and very low to a normal extent \n",
    "\n",
    "in both lasso,ridge Alpha is the parameter is used to control the value...."
   ]
  },
  {
   "cell_type": "markdown",
   "id": "648599d0",
   "metadata": {},
   "source": [
    "### Elastic net linear regression\n",
    "\n",
    "Elastic net linear regression uses the penalties from both the lasso and ridge techniques to regularize regression models. The technique combines both the lasso and ridge regression methods by learning from their shortcomings to improve the regularization of statistical models."
   ]
  },
  {
   "cell_type": "markdown",
   "id": "fc0f467e",
   "metadata": {},
   "source": [
    "# Regularization in Machine Learning"
   ]
  },
  {
   "cell_type": "markdown",
   "id": "047d5b5a",
   "metadata": {},
   "source": [
    "While training a machine learning model, the model can easily be over-fitted or under-fitted. To this, we use regularization in machine learning to properly fit a model onto our test set. regularization techniques help reduce the chance of overfitting an underfitting and helps us get an optimal model. "
   ]
  },
  {
   "cell_type": "markdown",
   "id": "69eedc42",
   "metadata": {},
   "source": [
    "### What are Overfitting and underfitting?"
   ]
  },
  {
   "cell_type": "markdown",
   "id": "f0082783",
   "metadata": {},
   "source": [
    "Overfitting- is when it understand all it points and give and cant predict any new data points.\n",
    "\n",
    "Underfitting- is when it doesn't understand the data and draws a best fit lines away from learning points."
   ]
  },
  {
   "cell_type": "markdown",
   "id": "997fa738",
   "metadata": {},
   "source": [
    "To train the machine learning model, we give it data to learn from. The process of plotting a series of data points and drawing the best fit line to understand the relationship of variables is called Data Fitting. Our model is the best fit when it can find all necessary patterns in our data and avoid the random data points and un-necessary patterns called as Noise."
   ]
  },
  {
   "cell_type": "markdown",
   "id": "0b764b98",
   "metadata": {},
   "source": [
    "## BIAS and VARIANCE"
   ]
  },
  {
   "cell_type": "markdown",
   "id": "152a61a7",
   "metadata": {},
   "source": [
    "A Bias occurs when an algorithm has limited flixible to learn from data, Such models pay very little attention to the training data and oversimplify the model therefore the validation error, prediction error and training error follow similar trends.\n",
    "\n",
    "Such models always lead to a high error on training and test data.High Bias causes underfitting in our model"
   ]
  },
  {
   "cell_type": "markdown",
   "id": "997a918a",
   "metadata": {},
   "source": [
    "\n",
    "Variance defines the algorithm's sensitivity to specific sets of data. A model with a high variance pays a lot of attention to training data and doesn't generalize therefore the validation error or prediction error are far apart from each other. Such models usually perform very well on training data but have high error rates on the test data.\n",
    "\n",
    "High Variance cause overfitting in our model"
   ]
  },
  {
   "cell_type": "code",
   "execution_count": 1,
   "id": "a002ab5b",
   "metadata": {},
   "outputs": [],
   "source": [
    "import numpy as np\n",
    "import pandas as pd\n",
    "import matplotlib.pyplot as plt\n",
    "import sklearn\n",
    "\n",
    "from sklearn.datasets import load_boston\n",
    "from sklearn.linear_model import LinearRegression\n",
    "\n",
    "from sklearn.metrics import mean_squared_error\n",
    "from sklearn.model_selection import train_test_split\n",
    "import warnings\n",
    "warnings.filterwarnings(\"ignore\")"
   ]
  },
  {
   "cell_type": "code",
   "execution_count": 2,
   "id": "f7f34a14",
   "metadata": {},
   "outputs": [],
   "source": [
    "data=load_boston()"
   ]
  },
  {
   "cell_type": "code",
   "execution_count": 3,
   "id": "df6f0d05",
   "metadata": {},
   "outputs": [
    {
     "data": {
      "text/plain": [
       "{'data': array([[6.3200e-03, 1.8000e+01, 2.3100e+00, ..., 1.5300e+01, 3.9690e+02,\n",
       "         4.9800e+00],\n",
       "        [2.7310e-02, 0.0000e+00, 7.0700e+00, ..., 1.7800e+01, 3.9690e+02,\n",
       "         9.1400e+00],\n",
       "        [2.7290e-02, 0.0000e+00, 7.0700e+00, ..., 1.7800e+01, 3.9283e+02,\n",
       "         4.0300e+00],\n",
       "        ...,\n",
       "        [6.0760e-02, 0.0000e+00, 1.1930e+01, ..., 2.1000e+01, 3.9690e+02,\n",
       "         5.6400e+00],\n",
       "        [1.0959e-01, 0.0000e+00, 1.1930e+01, ..., 2.1000e+01, 3.9345e+02,\n",
       "         6.4800e+00],\n",
       "        [4.7410e-02, 0.0000e+00, 1.1930e+01, ..., 2.1000e+01, 3.9690e+02,\n",
       "         7.8800e+00]]),\n",
       " 'target': array([24. , 21.6, 34.7, 33.4, 36.2, 28.7, 22.9, 27.1, 16.5, 18.9, 15. ,\n",
       "        18.9, 21.7, 20.4, 18.2, 19.9, 23.1, 17.5, 20.2, 18.2, 13.6, 19.6,\n",
       "        15.2, 14.5, 15.6, 13.9, 16.6, 14.8, 18.4, 21. , 12.7, 14.5, 13.2,\n",
       "        13.1, 13.5, 18.9, 20. , 21. , 24.7, 30.8, 34.9, 26.6, 25.3, 24.7,\n",
       "        21.2, 19.3, 20. , 16.6, 14.4, 19.4, 19.7, 20.5, 25. , 23.4, 18.9,\n",
       "        35.4, 24.7, 31.6, 23.3, 19.6, 18.7, 16. , 22.2, 25. , 33. , 23.5,\n",
       "        19.4, 22. , 17.4, 20.9, 24.2, 21.7, 22.8, 23.4, 24.1, 21.4, 20. ,\n",
       "        20.8, 21.2, 20.3, 28. , 23.9, 24.8, 22.9, 23.9, 26.6, 22.5, 22.2,\n",
       "        23.6, 28.7, 22.6, 22. , 22.9, 25. , 20.6, 28.4, 21.4, 38.7, 43.8,\n",
       "        33.2, 27.5, 26.5, 18.6, 19.3, 20.1, 19.5, 19.5, 20.4, 19.8, 19.4,\n",
       "        21.7, 22.8, 18.8, 18.7, 18.5, 18.3, 21.2, 19.2, 20.4, 19.3, 22. ,\n",
       "        20.3, 20.5, 17.3, 18.8, 21.4, 15.7, 16.2, 18. , 14.3, 19.2, 19.6,\n",
       "        23. , 18.4, 15.6, 18.1, 17.4, 17.1, 13.3, 17.8, 14. , 14.4, 13.4,\n",
       "        15.6, 11.8, 13.8, 15.6, 14.6, 17.8, 15.4, 21.5, 19.6, 15.3, 19.4,\n",
       "        17. , 15.6, 13.1, 41.3, 24.3, 23.3, 27. , 50. , 50. , 50. , 22.7,\n",
       "        25. , 50. , 23.8, 23.8, 22.3, 17.4, 19.1, 23.1, 23.6, 22.6, 29.4,\n",
       "        23.2, 24.6, 29.9, 37.2, 39.8, 36.2, 37.9, 32.5, 26.4, 29.6, 50. ,\n",
       "        32. , 29.8, 34.9, 37. , 30.5, 36.4, 31.1, 29.1, 50. , 33.3, 30.3,\n",
       "        34.6, 34.9, 32.9, 24.1, 42.3, 48.5, 50. , 22.6, 24.4, 22.5, 24.4,\n",
       "        20. , 21.7, 19.3, 22.4, 28.1, 23.7, 25. , 23.3, 28.7, 21.5, 23. ,\n",
       "        26.7, 21.7, 27.5, 30.1, 44.8, 50. , 37.6, 31.6, 46.7, 31.5, 24.3,\n",
       "        31.7, 41.7, 48.3, 29. , 24. , 25.1, 31.5, 23.7, 23.3, 22. , 20.1,\n",
       "        22.2, 23.7, 17.6, 18.5, 24.3, 20.5, 24.5, 26.2, 24.4, 24.8, 29.6,\n",
       "        42.8, 21.9, 20.9, 44. , 50. , 36. , 30.1, 33.8, 43.1, 48.8, 31. ,\n",
       "        36.5, 22.8, 30.7, 50. , 43.5, 20.7, 21.1, 25.2, 24.4, 35.2, 32.4,\n",
       "        32. , 33.2, 33.1, 29.1, 35.1, 45.4, 35.4, 46. , 50. , 32.2, 22. ,\n",
       "        20.1, 23.2, 22.3, 24.8, 28.5, 37.3, 27.9, 23.9, 21.7, 28.6, 27.1,\n",
       "        20.3, 22.5, 29. , 24.8, 22. , 26.4, 33.1, 36.1, 28.4, 33.4, 28.2,\n",
       "        22.8, 20.3, 16.1, 22.1, 19.4, 21.6, 23.8, 16.2, 17.8, 19.8, 23.1,\n",
       "        21. , 23.8, 23.1, 20.4, 18.5, 25. , 24.6, 23. , 22.2, 19.3, 22.6,\n",
       "        19.8, 17.1, 19.4, 22.2, 20.7, 21.1, 19.5, 18.5, 20.6, 19. , 18.7,\n",
       "        32.7, 16.5, 23.9, 31.2, 17.5, 17.2, 23.1, 24.5, 26.6, 22.9, 24.1,\n",
       "        18.6, 30.1, 18.2, 20.6, 17.8, 21.7, 22.7, 22.6, 25. , 19.9, 20.8,\n",
       "        16.8, 21.9, 27.5, 21.9, 23.1, 50. , 50. , 50. , 50. , 50. , 13.8,\n",
       "        13.8, 15. , 13.9, 13.3, 13.1, 10.2, 10.4, 10.9, 11.3, 12.3,  8.8,\n",
       "         7.2, 10.5,  7.4, 10.2, 11.5, 15.1, 23.2,  9.7, 13.8, 12.7, 13.1,\n",
       "        12.5,  8.5,  5. ,  6.3,  5.6,  7.2, 12.1,  8.3,  8.5,  5. , 11.9,\n",
       "        27.9, 17.2, 27.5, 15. , 17.2, 17.9, 16.3,  7. ,  7.2,  7.5, 10.4,\n",
       "         8.8,  8.4, 16.7, 14.2, 20.8, 13.4, 11.7,  8.3, 10.2, 10.9, 11. ,\n",
       "         9.5, 14.5, 14.1, 16.1, 14.3, 11.7, 13.4,  9.6,  8.7,  8.4, 12.8,\n",
       "        10.5, 17.1, 18.4, 15.4, 10.8, 11.8, 14.9, 12.6, 14.1, 13. , 13.4,\n",
       "        15.2, 16.1, 17.8, 14.9, 14.1, 12.7, 13.5, 14.9, 20. , 16.4, 17.7,\n",
       "        19.5, 20.2, 21.4, 19.9, 19. , 19.1, 19.1, 20.1, 19.9, 19.6, 23.2,\n",
       "        29.8, 13.8, 13.3, 16.7, 12. , 14.6, 21.4, 23. , 23.7, 25. , 21.8,\n",
       "        20.6, 21.2, 19.1, 20.6, 15.2,  7. ,  8.1, 13.6, 20.1, 21.8, 24.5,\n",
       "        23.1, 19.7, 18.3, 21.2, 17.5, 16.8, 22.4, 20.6, 23.9, 22. , 11.9]),\n",
       " 'feature_names': array(['CRIM', 'ZN', 'INDUS', 'CHAS', 'NOX', 'RM', 'AGE', 'DIS', 'RAD',\n",
       "        'TAX', 'PTRATIO', 'B', 'LSTAT'], dtype='<U7'),\n",
       " 'DESCR': \".. _boston_dataset:\\n\\nBoston house prices dataset\\n---------------------------\\n\\n**Data Set Characteristics:**  \\n\\n    :Number of Instances: 506 \\n\\n    :Number of Attributes: 13 numeric/categorical predictive. Median Value (attribute 14) is usually the target.\\n\\n    :Attribute Information (in order):\\n        - CRIM     per capita crime rate by town\\n        - ZN       proportion of residential land zoned for lots over 25,000 sq.ft.\\n        - INDUS    proportion of non-retail business acres per town\\n        - CHAS     Charles River dummy variable (= 1 if tract bounds river; 0 otherwise)\\n        - NOX      nitric oxides concentration (parts per 10 million)\\n        - RM       average number of rooms per dwelling\\n        - AGE      proportion of owner-occupied units built prior to 1940\\n        - DIS      weighted distances to five Boston employment centres\\n        - RAD      index of accessibility to radial highways\\n        - TAX      full-value property-tax rate per $10,000\\n        - PTRATIO  pupil-teacher ratio by town\\n        - B        1000(Bk - 0.63)^2 where Bk is the proportion of black people by town\\n        - LSTAT    % lower status of the population\\n        - MEDV     Median value of owner-occupied homes in $1000's\\n\\n    :Missing Attribute Values: None\\n\\n    :Creator: Harrison, D. and Rubinfeld, D.L.\\n\\nThis is a copy of UCI ML housing dataset.\\nhttps://archive.ics.uci.edu/ml/machine-learning-databases/housing/\\n\\n\\nThis dataset was taken from the StatLib library which is maintained at Carnegie Mellon University.\\n\\nThe Boston house-price data of Harrison, D. and Rubinfeld, D.L. 'Hedonic\\nprices and the demand for clean air', J. Environ. Economics & Management,\\nvol.5, 81-102, 1978.   Used in Belsley, Kuh & Welsch, 'Regression diagnostics\\n...', Wiley, 1980.   N.B. Various transformations are used in the table on\\npages 244-261 of the latter.\\n\\nThe Boston house-price data has been used in many machine learning papers that address regression\\nproblems.   \\n     \\n.. topic:: References\\n\\n   - Belsley, Kuh & Welsch, 'Regression diagnostics: Identifying Influential Data and Sources of Collinearity', Wiley, 1980. 244-261.\\n   - Quinlan,R. (1993). Combining Instance-Based and Model-Based Learning. In Proceedings on the Tenth International Conference of Machine Learning, 236-243, University of Massachusetts, Amherst. Morgan Kaufmann.\\n\",\n",
       " 'filename': 'boston_house_prices.csv',\n",
       " 'data_module': 'sklearn.datasets.data'}"
      ]
     },
     "execution_count": 3,
     "metadata": {},
     "output_type": "execute_result"
    }
   ],
   "source": [
    "data"
   ]
  },
  {
   "cell_type": "code",
   "execution_count": 4,
   "id": "903e4017",
   "metadata": {},
   "outputs": [
    {
     "data": {
      "text/plain": [
       "dict_keys(['data', 'target', 'feature_names', 'DESCR', 'filename', 'data_module'])"
      ]
     },
     "execution_count": 4,
     "metadata": {},
     "output_type": "execute_result"
    }
   ],
   "source": [
    "data.keys()"
   ]
  },
  {
   "cell_type": "code",
   "execution_count": 5,
   "id": "b6340b3a",
   "metadata": {},
   "outputs": [],
   "source": [
    "ds=pd.DataFrame(data.data,columns=data.feature_names)"
   ]
  },
  {
   "cell_type": "code",
   "execution_count": 6,
   "id": "8b1e89b4",
   "metadata": {},
   "outputs": [
    {
     "data": {
      "text/html": [
       "<div>\n",
       "<style scoped>\n",
       "    .dataframe tbody tr th:only-of-type {\n",
       "        vertical-align: middle;\n",
       "    }\n",
       "\n",
       "    .dataframe tbody tr th {\n",
       "        vertical-align: top;\n",
       "    }\n",
       "\n",
       "    .dataframe thead th {\n",
       "        text-align: right;\n",
       "    }\n",
       "</style>\n",
       "<table border=\"1\" class=\"dataframe\">\n",
       "  <thead>\n",
       "    <tr style=\"text-align: right;\">\n",
       "      <th></th>\n",
       "      <th>CRIM</th>\n",
       "      <th>ZN</th>\n",
       "      <th>INDUS</th>\n",
       "      <th>CHAS</th>\n",
       "      <th>NOX</th>\n",
       "      <th>RM</th>\n",
       "      <th>AGE</th>\n",
       "      <th>DIS</th>\n",
       "      <th>RAD</th>\n",
       "      <th>TAX</th>\n",
       "      <th>PTRATIO</th>\n",
       "      <th>B</th>\n",
       "      <th>LSTAT</th>\n",
       "    </tr>\n",
       "  </thead>\n",
       "  <tbody>\n",
       "    <tr>\n",
       "      <th>0</th>\n",
       "      <td>0.00632</td>\n",
       "      <td>18.0</td>\n",
       "      <td>2.31</td>\n",
       "      <td>0.0</td>\n",
       "      <td>0.538</td>\n",
       "      <td>6.575</td>\n",
       "      <td>65.2</td>\n",
       "      <td>4.0900</td>\n",
       "      <td>1.0</td>\n",
       "      <td>296.0</td>\n",
       "      <td>15.3</td>\n",
       "      <td>396.90</td>\n",
       "      <td>4.98</td>\n",
       "    </tr>\n",
       "    <tr>\n",
       "      <th>1</th>\n",
       "      <td>0.02731</td>\n",
       "      <td>0.0</td>\n",
       "      <td>7.07</td>\n",
       "      <td>0.0</td>\n",
       "      <td>0.469</td>\n",
       "      <td>6.421</td>\n",
       "      <td>78.9</td>\n",
       "      <td>4.9671</td>\n",
       "      <td>2.0</td>\n",
       "      <td>242.0</td>\n",
       "      <td>17.8</td>\n",
       "      <td>396.90</td>\n",
       "      <td>9.14</td>\n",
       "    </tr>\n",
       "    <tr>\n",
       "      <th>2</th>\n",
       "      <td>0.02729</td>\n",
       "      <td>0.0</td>\n",
       "      <td>7.07</td>\n",
       "      <td>0.0</td>\n",
       "      <td>0.469</td>\n",
       "      <td>7.185</td>\n",
       "      <td>61.1</td>\n",
       "      <td>4.9671</td>\n",
       "      <td>2.0</td>\n",
       "      <td>242.0</td>\n",
       "      <td>17.8</td>\n",
       "      <td>392.83</td>\n",
       "      <td>4.03</td>\n",
       "    </tr>\n",
       "    <tr>\n",
       "      <th>3</th>\n",
       "      <td>0.03237</td>\n",
       "      <td>0.0</td>\n",
       "      <td>2.18</td>\n",
       "      <td>0.0</td>\n",
       "      <td>0.458</td>\n",
       "      <td>6.998</td>\n",
       "      <td>45.8</td>\n",
       "      <td>6.0622</td>\n",
       "      <td>3.0</td>\n",
       "      <td>222.0</td>\n",
       "      <td>18.7</td>\n",
       "      <td>394.63</td>\n",
       "      <td>2.94</td>\n",
       "    </tr>\n",
       "    <tr>\n",
       "      <th>4</th>\n",
       "      <td>0.06905</td>\n",
       "      <td>0.0</td>\n",
       "      <td>2.18</td>\n",
       "      <td>0.0</td>\n",
       "      <td>0.458</td>\n",
       "      <td>7.147</td>\n",
       "      <td>54.2</td>\n",
       "      <td>6.0622</td>\n",
       "      <td>3.0</td>\n",
       "      <td>222.0</td>\n",
       "      <td>18.7</td>\n",
       "      <td>396.90</td>\n",
       "      <td>5.33</td>\n",
       "    </tr>\n",
       "    <tr>\n",
       "      <th>...</th>\n",
       "      <td>...</td>\n",
       "      <td>...</td>\n",
       "      <td>...</td>\n",
       "      <td>...</td>\n",
       "      <td>...</td>\n",
       "      <td>...</td>\n",
       "      <td>...</td>\n",
       "      <td>...</td>\n",
       "      <td>...</td>\n",
       "      <td>...</td>\n",
       "      <td>...</td>\n",
       "      <td>...</td>\n",
       "      <td>...</td>\n",
       "    </tr>\n",
       "    <tr>\n",
       "      <th>501</th>\n",
       "      <td>0.06263</td>\n",
       "      <td>0.0</td>\n",
       "      <td>11.93</td>\n",
       "      <td>0.0</td>\n",
       "      <td>0.573</td>\n",
       "      <td>6.593</td>\n",
       "      <td>69.1</td>\n",
       "      <td>2.4786</td>\n",
       "      <td>1.0</td>\n",
       "      <td>273.0</td>\n",
       "      <td>21.0</td>\n",
       "      <td>391.99</td>\n",
       "      <td>9.67</td>\n",
       "    </tr>\n",
       "    <tr>\n",
       "      <th>502</th>\n",
       "      <td>0.04527</td>\n",
       "      <td>0.0</td>\n",
       "      <td>11.93</td>\n",
       "      <td>0.0</td>\n",
       "      <td>0.573</td>\n",
       "      <td>6.120</td>\n",
       "      <td>76.7</td>\n",
       "      <td>2.2875</td>\n",
       "      <td>1.0</td>\n",
       "      <td>273.0</td>\n",
       "      <td>21.0</td>\n",
       "      <td>396.90</td>\n",
       "      <td>9.08</td>\n",
       "    </tr>\n",
       "    <tr>\n",
       "      <th>503</th>\n",
       "      <td>0.06076</td>\n",
       "      <td>0.0</td>\n",
       "      <td>11.93</td>\n",
       "      <td>0.0</td>\n",
       "      <td>0.573</td>\n",
       "      <td>6.976</td>\n",
       "      <td>91.0</td>\n",
       "      <td>2.1675</td>\n",
       "      <td>1.0</td>\n",
       "      <td>273.0</td>\n",
       "      <td>21.0</td>\n",
       "      <td>396.90</td>\n",
       "      <td>5.64</td>\n",
       "    </tr>\n",
       "    <tr>\n",
       "      <th>504</th>\n",
       "      <td>0.10959</td>\n",
       "      <td>0.0</td>\n",
       "      <td>11.93</td>\n",
       "      <td>0.0</td>\n",
       "      <td>0.573</td>\n",
       "      <td>6.794</td>\n",
       "      <td>89.3</td>\n",
       "      <td>2.3889</td>\n",
       "      <td>1.0</td>\n",
       "      <td>273.0</td>\n",
       "      <td>21.0</td>\n",
       "      <td>393.45</td>\n",
       "      <td>6.48</td>\n",
       "    </tr>\n",
       "    <tr>\n",
       "      <th>505</th>\n",
       "      <td>0.04741</td>\n",
       "      <td>0.0</td>\n",
       "      <td>11.93</td>\n",
       "      <td>0.0</td>\n",
       "      <td>0.573</td>\n",
       "      <td>6.030</td>\n",
       "      <td>80.8</td>\n",
       "      <td>2.5050</td>\n",
       "      <td>1.0</td>\n",
       "      <td>273.0</td>\n",
       "      <td>21.0</td>\n",
       "      <td>396.90</td>\n",
       "      <td>7.88</td>\n",
       "    </tr>\n",
       "  </tbody>\n",
       "</table>\n",
       "<p>506 rows × 13 columns</p>\n",
       "</div>"
      ],
      "text/plain": [
       "        CRIM    ZN  INDUS  CHAS    NOX     RM   AGE     DIS  RAD    TAX  \\\n",
       "0    0.00632  18.0   2.31   0.0  0.538  6.575  65.2  4.0900  1.0  296.0   \n",
       "1    0.02731   0.0   7.07   0.0  0.469  6.421  78.9  4.9671  2.0  242.0   \n",
       "2    0.02729   0.0   7.07   0.0  0.469  7.185  61.1  4.9671  2.0  242.0   \n",
       "3    0.03237   0.0   2.18   0.0  0.458  6.998  45.8  6.0622  3.0  222.0   \n",
       "4    0.06905   0.0   2.18   0.0  0.458  7.147  54.2  6.0622  3.0  222.0   \n",
       "..       ...   ...    ...   ...    ...    ...   ...     ...  ...    ...   \n",
       "501  0.06263   0.0  11.93   0.0  0.573  6.593  69.1  2.4786  1.0  273.0   \n",
       "502  0.04527   0.0  11.93   0.0  0.573  6.120  76.7  2.2875  1.0  273.0   \n",
       "503  0.06076   0.0  11.93   0.0  0.573  6.976  91.0  2.1675  1.0  273.0   \n",
       "504  0.10959   0.0  11.93   0.0  0.573  6.794  89.3  2.3889  1.0  273.0   \n",
       "505  0.04741   0.0  11.93   0.0  0.573  6.030  80.8  2.5050  1.0  273.0   \n",
       "\n",
       "     PTRATIO       B  LSTAT  \n",
       "0       15.3  396.90   4.98  \n",
       "1       17.8  396.90   9.14  \n",
       "2       17.8  392.83   4.03  \n",
       "3       18.7  394.63   2.94  \n",
       "4       18.7  396.90   5.33  \n",
       "..       ...     ...    ...  \n",
       "501     21.0  391.99   9.67  \n",
       "502     21.0  396.90   9.08  \n",
       "503     21.0  396.90   5.64  \n",
       "504     21.0  393.45   6.48  \n",
       "505     21.0  396.90   7.88  \n",
       "\n",
       "[506 rows x 13 columns]"
      ]
     },
     "execution_count": 6,
     "metadata": {},
     "output_type": "execute_result"
    }
   ],
   "source": [
    "ds"
   ]
  },
  {
   "cell_type": "code",
   "execution_count": 7,
   "id": "9f7e98f6",
   "metadata": {},
   "outputs": [],
   "source": [
    "ds['target']=pd.DataFrame(data=data.target)"
   ]
  },
  {
   "cell_type": "code",
   "execution_count": 8,
   "id": "8d76277c",
   "metadata": {},
   "outputs": [
    {
     "data": {
      "text/html": [
       "<div>\n",
       "<style scoped>\n",
       "    .dataframe tbody tr th:only-of-type {\n",
       "        vertical-align: middle;\n",
       "    }\n",
       "\n",
       "    .dataframe tbody tr th {\n",
       "        vertical-align: top;\n",
       "    }\n",
       "\n",
       "    .dataframe thead th {\n",
       "        text-align: right;\n",
       "    }\n",
       "</style>\n",
       "<table border=\"1\" class=\"dataframe\">\n",
       "  <thead>\n",
       "    <tr style=\"text-align: right;\">\n",
       "      <th></th>\n",
       "      <th>CRIM</th>\n",
       "      <th>ZN</th>\n",
       "      <th>INDUS</th>\n",
       "      <th>CHAS</th>\n",
       "      <th>NOX</th>\n",
       "      <th>RM</th>\n",
       "      <th>AGE</th>\n",
       "      <th>DIS</th>\n",
       "      <th>RAD</th>\n",
       "      <th>TAX</th>\n",
       "      <th>PTRATIO</th>\n",
       "      <th>B</th>\n",
       "      <th>LSTAT</th>\n",
       "      <th>target</th>\n",
       "    </tr>\n",
       "  </thead>\n",
       "  <tbody>\n",
       "    <tr>\n",
       "      <th>0</th>\n",
       "      <td>0.00632</td>\n",
       "      <td>18.0</td>\n",
       "      <td>2.31</td>\n",
       "      <td>0.0</td>\n",
       "      <td>0.538</td>\n",
       "      <td>6.575</td>\n",
       "      <td>65.2</td>\n",
       "      <td>4.0900</td>\n",
       "      <td>1.0</td>\n",
       "      <td>296.0</td>\n",
       "      <td>15.3</td>\n",
       "      <td>396.90</td>\n",
       "      <td>4.98</td>\n",
       "      <td>24.0</td>\n",
       "    </tr>\n",
       "    <tr>\n",
       "      <th>1</th>\n",
       "      <td>0.02731</td>\n",
       "      <td>0.0</td>\n",
       "      <td>7.07</td>\n",
       "      <td>0.0</td>\n",
       "      <td>0.469</td>\n",
       "      <td>6.421</td>\n",
       "      <td>78.9</td>\n",
       "      <td>4.9671</td>\n",
       "      <td>2.0</td>\n",
       "      <td>242.0</td>\n",
       "      <td>17.8</td>\n",
       "      <td>396.90</td>\n",
       "      <td>9.14</td>\n",
       "      <td>21.6</td>\n",
       "    </tr>\n",
       "    <tr>\n",
       "      <th>2</th>\n",
       "      <td>0.02729</td>\n",
       "      <td>0.0</td>\n",
       "      <td>7.07</td>\n",
       "      <td>0.0</td>\n",
       "      <td>0.469</td>\n",
       "      <td>7.185</td>\n",
       "      <td>61.1</td>\n",
       "      <td>4.9671</td>\n",
       "      <td>2.0</td>\n",
       "      <td>242.0</td>\n",
       "      <td>17.8</td>\n",
       "      <td>392.83</td>\n",
       "      <td>4.03</td>\n",
       "      <td>34.7</td>\n",
       "    </tr>\n",
       "    <tr>\n",
       "      <th>3</th>\n",
       "      <td>0.03237</td>\n",
       "      <td>0.0</td>\n",
       "      <td>2.18</td>\n",
       "      <td>0.0</td>\n",
       "      <td>0.458</td>\n",
       "      <td>6.998</td>\n",
       "      <td>45.8</td>\n",
       "      <td>6.0622</td>\n",
       "      <td>3.0</td>\n",
       "      <td>222.0</td>\n",
       "      <td>18.7</td>\n",
       "      <td>394.63</td>\n",
       "      <td>2.94</td>\n",
       "      <td>33.4</td>\n",
       "    </tr>\n",
       "    <tr>\n",
       "      <th>4</th>\n",
       "      <td>0.06905</td>\n",
       "      <td>0.0</td>\n",
       "      <td>2.18</td>\n",
       "      <td>0.0</td>\n",
       "      <td>0.458</td>\n",
       "      <td>7.147</td>\n",
       "      <td>54.2</td>\n",
       "      <td>6.0622</td>\n",
       "      <td>3.0</td>\n",
       "      <td>222.0</td>\n",
       "      <td>18.7</td>\n",
       "      <td>396.90</td>\n",
       "      <td>5.33</td>\n",
       "      <td>36.2</td>\n",
       "    </tr>\n",
       "    <tr>\n",
       "      <th>...</th>\n",
       "      <td>...</td>\n",
       "      <td>...</td>\n",
       "      <td>...</td>\n",
       "      <td>...</td>\n",
       "      <td>...</td>\n",
       "      <td>...</td>\n",
       "      <td>...</td>\n",
       "      <td>...</td>\n",
       "      <td>...</td>\n",
       "      <td>...</td>\n",
       "      <td>...</td>\n",
       "      <td>...</td>\n",
       "      <td>...</td>\n",
       "      <td>...</td>\n",
       "    </tr>\n",
       "    <tr>\n",
       "      <th>501</th>\n",
       "      <td>0.06263</td>\n",
       "      <td>0.0</td>\n",
       "      <td>11.93</td>\n",
       "      <td>0.0</td>\n",
       "      <td>0.573</td>\n",
       "      <td>6.593</td>\n",
       "      <td>69.1</td>\n",
       "      <td>2.4786</td>\n",
       "      <td>1.0</td>\n",
       "      <td>273.0</td>\n",
       "      <td>21.0</td>\n",
       "      <td>391.99</td>\n",
       "      <td>9.67</td>\n",
       "      <td>22.4</td>\n",
       "    </tr>\n",
       "    <tr>\n",
       "      <th>502</th>\n",
       "      <td>0.04527</td>\n",
       "      <td>0.0</td>\n",
       "      <td>11.93</td>\n",
       "      <td>0.0</td>\n",
       "      <td>0.573</td>\n",
       "      <td>6.120</td>\n",
       "      <td>76.7</td>\n",
       "      <td>2.2875</td>\n",
       "      <td>1.0</td>\n",
       "      <td>273.0</td>\n",
       "      <td>21.0</td>\n",
       "      <td>396.90</td>\n",
       "      <td>9.08</td>\n",
       "      <td>20.6</td>\n",
       "    </tr>\n",
       "    <tr>\n",
       "      <th>503</th>\n",
       "      <td>0.06076</td>\n",
       "      <td>0.0</td>\n",
       "      <td>11.93</td>\n",
       "      <td>0.0</td>\n",
       "      <td>0.573</td>\n",
       "      <td>6.976</td>\n",
       "      <td>91.0</td>\n",
       "      <td>2.1675</td>\n",
       "      <td>1.0</td>\n",
       "      <td>273.0</td>\n",
       "      <td>21.0</td>\n",
       "      <td>396.90</td>\n",
       "      <td>5.64</td>\n",
       "      <td>23.9</td>\n",
       "    </tr>\n",
       "    <tr>\n",
       "      <th>504</th>\n",
       "      <td>0.10959</td>\n",
       "      <td>0.0</td>\n",
       "      <td>11.93</td>\n",
       "      <td>0.0</td>\n",
       "      <td>0.573</td>\n",
       "      <td>6.794</td>\n",
       "      <td>89.3</td>\n",
       "      <td>2.3889</td>\n",
       "      <td>1.0</td>\n",
       "      <td>273.0</td>\n",
       "      <td>21.0</td>\n",
       "      <td>393.45</td>\n",
       "      <td>6.48</td>\n",
       "      <td>22.0</td>\n",
       "    </tr>\n",
       "    <tr>\n",
       "      <th>505</th>\n",
       "      <td>0.04741</td>\n",
       "      <td>0.0</td>\n",
       "      <td>11.93</td>\n",
       "      <td>0.0</td>\n",
       "      <td>0.573</td>\n",
       "      <td>6.030</td>\n",
       "      <td>80.8</td>\n",
       "      <td>2.5050</td>\n",
       "      <td>1.0</td>\n",
       "      <td>273.0</td>\n",
       "      <td>21.0</td>\n",
       "      <td>396.90</td>\n",
       "      <td>7.88</td>\n",
       "      <td>11.9</td>\n",
       "    </tr>\n",
       "  </tbody>\n",
       "</table>\n",
       "<p>506 rows × 14 columns</p>\n",
       "</div>"
      ],
      "text/plain": [
       "        CRIM    ZN  INDUS  CHAS    NOX     RM   AGE     DIS  RAD    TAX  \\\n",
       "0    0.00632  18.0   2.31   0.0  0.538  6.575  65.2  4.0900  1.0  296.0   \n",
       "1    0.02731   0.0   7.07   0.0  0.469  6.421  78.9  4.9671  2.0  242.0   \n",
       "2    0.02729   0.0   7.07   0.0  0.469  7.185  61.1  4.9671  2.0  242.0   \n",
       "3    0.03237   0.0   2.18   0.0  0.458  6.998  45.8  6.0622  3.0  222.0   \n",
       "4    0.06905   0.0   2.18   0.0  0.458  7.147  54.2  6.0622  3.0  222.0   \n",
       "..       ...   ...    ...   ...    ...    ...   ...     ...  ...    ...   \n",
       "501  0.06263   0.0  11.93   0.0  0.573  6.593  69.1  2.4786  1.0  273.0   \n",
       "502  0.04527   0.0  11.93   0.0  0.573  6.120  76.7  2.2875  1.0  273.0   \n",
       "503  0.06076   0.0  11.93   0.0  0.573  6.976  91.0  2.1675  1.0  273.0   \n",
       "504  0.10959   0.0  11.93   0.0  0.573  6.794  89.3  2.3889  1.0  273.0   \n",
       "505  0.04741   0.0  11.93   0.0  0.573  6.030  80.8  2.5050  1.0  273.0   \n",
       "\n",
       "     PTRATIO       B  LSTAT  target  \n",
       "0       15.3  396.90   4.98    24.0  \n",
       "1       17.8  396.90   9.14    21.6  \n",
       "2       17.8  392.83   4.03    34.7  \n",
       "3       18.7  394.63   2.94    33.4  \n",
       "4       18.7  396.90   5.33    36.2  \n",
       "..       ...     ...    ...     ...  \n",
       "501     21.0  391.99   9.67    22.4  \n",
       "502     21.0  396.90   9.08    20.6  \n",
       "503     21.0  396.90   5.64    23.9  \n",
       "504     21.0  393.45   6.48    22.0  \n",
       "505     21.0  396.90   7.88    11.9  \n",
       "\n",
       "[506 rows x 14 columns]"
      ]
     },
     "execution_count": 8,
     "metadata": {},
     "output_type": "execute_result"
    }
   ],
   "source": [
    "ds"
   ]
  },
  {
   "cell_type": "code",
   "execution_count": 9,
   "id": "ffc09fcd",
   "metadata": {},
   "outputs": [
    {
     "name": "stdout",
     "output_type": "stream",
     "text": [
      "<class 'pandas.core.frame.DataFrame'>\n",
      "RangeIndex: 506 entries, 0 to 505\n",
      "Data columns (total 14 columns):\n",
      " #   Column   Non-Null Count  Dtype  \n",
      "---  ------   --------------  -----  \n",
      " 0   CRIM     506 non-null    float64\n",
      " 1   ZN       506 non-null    float64\n",
      " 2   INDUS    506 non-null    float64\n",
      " 3   CHAS     506 non-null    float64\n",
      " 4   NOX      506 non-null    float64\n",
      " 5   RM       506 non-null    float64\n",
      " 6   AGE      506 non-null    float64\n",
      " 7   DIS      506 non-null    float64\n",
      " 8   RAD      506 non-null    float64\n",
      " 9   TAX      506 non-null    float64\n",
      " 10  PTRATIO  506 non-null    float64\n",
      " 11  B        506 non-null    float64\n",
      " 12  LSTAT    506 non-null    float64\n",
      " 13  target   506 non-null    float64\n",
      "dtypes: float64(14)\n",
      "memory usage: 55.5 KB\n"
     ]
    }
   ],
   "source": [
    "ds.info()"
   ]
  },
  {
   "cell_type": "code",
   "execution_count": 10,
   "id": "09b4f477",
   "metadata": {},
   "outputs": [
    {
     "data": {
      "text/plain": [
       "(506, 14)"
      ]
     },
     "execution_count": 10,
     "metadata": {},
     "output_type": "execute_result"
    }
   ],
   "source": [
    "ds.shape"
   ]
  },
  {
   "cell_type": "code",
   "execution_count": 11,
   "id": "9b70c389",
   "metadata": {},
   "outputs": [
    {
     "data": {
      "text/plain": [
       "7084"
      ]
     },
     "execution_count": 11,
     "metadata": {},
     "output_type": "execute_result"
    }
   ],
   "source": [
    "ds.size"
   ]
  },
  {
   "cell_type": "code",
   "execution_count": 12,
   "id": "18421d9d",
   "metadata": {},
   "outputs": [
    {
     "data": {
      "text/plain": [
       "CRIM       0\n",
       "ZN         0\n",
       "INDUS      0\n",
       "CHAS       0\n",
       "NOX        0\n",
       "RM         0\n",
       "AGE        0\n",
       "DIS        0\n",
       "RAD        0\n",
       "TAX        0\n",
       "PTRATIO    0\n",
       "B          0\n",
       "LSTAT      0\n",
       "target     0\n",
       "dtype: int64"
      ]
     },
     "execution_count": 12,
     "metadata": {},
     "output_type": "execute_result"
    }
   ],
   "source": [
    "ds.isnull().sum()"
   ]
  },
  {
   "cell_type": "code",
   "execution_count": 13,
   "id": "84d695a1",
   "metadata": {},
   "outputs": [],
   "source": [
    "x=ds.iloc[:,0:13]"
   ]
  },
  {
   "cell_type": "code",
   "execution_count": 14,
   "id": "43af2f02",
   "metadata": {},
   "outputs": [
    {
     "data": {
      "text/html": [
       "<div>\n",
       "<style scoped>\n",
       "    .dataframe tbody tr th:only-of-type {\n",
       "        vertical-align: middle;\n",
       "    }\n",
       "\n",
       "    .dataframe tbody tr th {\n",
       "        vertical-align: top;\n",
       "    }\n",
       "\n",
       "    .dataframe thead th {\n",
       "        text-align: right;\n",
       "    }\n",
       "</style>\n",
       "<table border=\"1\" class=\"dataframe\">\n",
       "  <thead>\n",
       "    <tr style=\"text-align: right;\">\n",
       "      <th></th>\n",
       "      <th>CRIM</th>\n",
       "      <th>ZN</th>\n",
       "      <th>INDUS</th>\n",
       "      <th>CHAS</th>\n",
       "      <th>NOX</th>\n",
       "      <th>RM</th>\n",
       "      <th>AGE</th>\n",
       "      <th>DIS</th>\n",
       "      <th>RAD</th>\n",
       "      <th>TAX</th>\n",
       "      <th>PTRATIO</th>\n",
       "      <th>B</th>\n",
       "      <th>LSTAT</th>\n",
       "    </tr>\n",
       "  </thead>\n",
       "  <tbody>\n",
       "    <tr>\n",
       "      <th>0</th>\n",
       "      <td>0.00632</td>\n",
       "      <td>18.0</td>\n",
       "      <td>2.31</td>\n",
       "      <td>0.0</td>\n",
       "      <td>0.538</td>\n",
       "      <td>6.575</td>\n",
       "      <td>65.2</td>\n",
       "      <td>4.0900</td>\n",
       "      <td>1.0</td>\n",
       "      <td>296.0</td>\n",
       "      <td>15.3</td>\n",
       "      <td>396.90</td>\n",
       "      <td>4.98</td>\n",
       "    </tr>\n",
       "    <tr>\n",
       "      <th>1</th>\n",
       "      <td>0.02731</td>\n",
       "      <td>0.0</td>\n",
       "      <td>7.07</td>\n",
       "      <td>0.0</td>\n",
       "      <td>0.469</td>\n",
       "      <td>6.421</td>\n",
       "      <td>78.9</td>\n",
       "      <td>4.9671</td>\n",
       "      <td>2.0</td>\n",
       "      <td>242.0</td>\n",
       "      <td>17.8</td>\n",
       "      <td>396.90</td>\n",
       "      <td>9.14</td>\n",
       "    </tr>\n",
       "    <tr>\n",
       "      <th>2</th>\n",
       "      <td>0.02729</td>\n",
       "      <td>0.0</td>\n",
       "      <td>7.07</td>\n",
       "      <td>0.0</td>\n",
       "      <td>0.469</td>\n",
       "      <td>7.185</td>\n",
       "      <td>61.1</td>\n",
       "      <td>4.9671</td>\n",
       "      <td>2.0</td>\n",
       "      <td>242.0</td>\n",
       "      <td>17.8</td>\n",
       "      <td>392.83</td>\n",
       "      <td>4.03</td>\n",
       "    </tr>\n",
       "    <tr>\n",
       "      <th>3</th>\n",
       "      <td>0.03237</td>\n",
       "      <td>0.0</td>\n",
       "      <td>2.18</td>\n",
       "      <td>0.0</td>\n",
       "      <td>0.458</td>\n",
       "      <td>6.998</td>\n",
       "      <td>45.8</td>\n",
       "      <td>6.0622</td>\n",
       "      <td>3.0</td>\n",
       "      <td>222.0</td>\n",
       "      <td>18.7</td>\n",
       "      <td>394.63</td>\n",
       "      <td>2.94</td>\n",
       "    </tr>\n",
       "    <tr>\n",
       "      <th>4</th>\n",
       "      <td>0.06905</td>\n",
       "      <td>0.0</td>\n",
       "      <td>2.18</td>\n",
       "      <td>0.0</td>\n",
       "      <td>0.458</td>\n",
       "      <td>7.147</td>\n",
       "      <td>54.2</td>\n",
       "      <td>6.0622</td>\n",
       "      <td>3.0</td>\n",
       "      <td>222.0</td>\n",
       "      <td>18.7</td>\n",
       "      <td>396.90</td>\n",
       "      <td>5.33</td>\n",
       "    </tr>\n",
       "    <tr>\n",
       "      <th>...</th>\n",
       "      <td>...</td>\n",
       "      <td>...</td>\n",
       "      <td>...</td>\n",
       "      <td>...</td>\n",
       "      <td>...</td>\n",
       "      <td>...</td>\n",
       "      <td>...</td>\n",
       "      <td>...</td>\n",
       "      <td>...</td>\n",
       "      <td>...</td>\n",
       "      <td>...</td>\n",
       "      <td>...</td>\n",
       "      <td>...</td>\n",
       "    </tr>\n",
       "    <tr>\n",
       "      <th>501</th>\n",
       "      <td>0.06263</td>\n",
       "      <td>0.0</td>\n",
       "      <td>11.93</td>\n",
       "      <td>0.0</td>\n",
       "      <td>0.573</td>\n",
       "      <td>6.593</td>\n",
       "      <td>69.1</td>\n",
       "      <td>2.4786</td>\n",
       "      <td>1.0</td>\n",
       "      <td>273.0</td>\n",
       "      <td>21.0</td>\n",
       "      <td>391.99</td>\n",
       "      <td>9.67</td>\n",
       "    </tr>\n",
       "    <tr>\n",
       "      <th>502</th>\n",
       "      <td>0.04527</td>\n",
       "      <td>0.0</td>\n",
       "      <td>11.93</td>\n",
       "      <td>0.0</td>\n",
       "      <td>0.573</td>\n",
       "      <td>6.120</td>\n",
       "      <td>76.7</td>\n",
       "      <td>2.2875</td>\n",
       "      <td>1.0</td>\n",
       "      <td>273.0</td>\n",
       "      <td>21.0</td>\n",
       "      <td>396.90</td>\n",
       "      <td>9.08</td>\n",
       "    </tr>\n",
       "    <tr>\n",
       "      <th>503</th>\n",
       "      <td>0.06076</td>\n",
       "      <td>0.0</td>\n",
       "      <td>11.93</td>\n",
       "      <td>0.0</td>\n",
       "      <td>0.573</td>\n",
       "      <td>6.976</td>\n",
       "      <td>91.0</td>\n",
       "      <td>2.1675</td>\n",
       "      <td>1.0</td>\n",
       "      <td>273.0</td>\n",
       "      <td>21.0</td>\n",
       "      <td>396.90</td>\n",
       "      <td>5.64</td>\n",
       "    </tr>\n",
       "    <tr>\n",
       "      <th>504</th>\n",
       "      <td>0.10959</td>\n",
       "      <td>0.0</td>\n",
       "      <td>11.93</td>\n",
       "      <td>0.0</td>\n",
       "      <td>0.573</td>\n",
       "      <td>6.794</td>\n",
       "      <td>89.3</td>\n",
       "      <td>2.3889</td>\n",
       "      <td>1.0</td>\n",
       "      <td>273.0</td>\n",
       "      <td>21.0</td>\n",
       "      <td>393.45</td>\n",
       "      <td>6.48</td>\n",
       "    </tr>\n",
       "    <tr>\n",
       "      <th>505</th>\n",
       "      <td>0.04741</td>\n",
       "      <td>0.0</td>\n",
       "      <td>11.93</td>\n",
       "      <td>0.0</td>\n",
       "      <td>0.573</td>\n",
       "      <td>6.030</td>\n",
       "      <td>80.8</td>\n",
       "      <td>2.5050</td>\n",
       "      <td>1.0</td>\n",
       "      <td>273.0</td>\n",
       "      <td>21.0</td>\n",
       "      <td>396.90</td>\n",
       "      <td>7.88</td>\n",
       "    </tr>\n",
       "  </tbody>\n",
       "</table>\n",
       "<p>506 rows × 13 columns</p>\n",
       "</div>"
      ],
      "text/plain": [
       "        CRIM    ZN  INDUS  CHAS    NOX     RM   AGE     DIS  RAD    TAX  \\\n",
       "0    0.00632  18.0   2.31   0.0  0.538  6.575  65.2  4.0900  1.0  296.0   \n",
       "1    0.02731   0.0   7.07   0.0  0.469  6.421  78.9  4.9671  2.0  242.0   \n",
       "2    0.02729   0.0   7.07   0.0  0.469  7.185  61.1  4.9671  2.0  242.0   \n",
       "3    0.03237   0.0   2.18   0.0  0.458  6.998  45.8  6.0622  3.0  222.0   \n",
       "4    0.06905   0.0   2.18   0.0  0.458  7.147  54.2  6.0622  3.0  222.0   \n",
       "..       ...   ...    ...   ...    ...    ...   ...     ...  ...    ...   \n",
       "501  0.06263   0.0  11.93   0.0  0.573  6.593  69.1  2.4786  1.0  273.0   \n",
       "502  0.04527   0.0  11.93   0.0  0.573  6.120  76.7  2.2875  1.0  273.0   \n",
       "503  0.06076   0.0  11.93   0.0  0.573  6.976  91.0  2.1675  1.0  273.0   \n",
       "504  0.10959   0.0  11.93   0.0  0.573  6.794  89.3  2.3889  1.0  273.0   \n",
       "505  0.04741   0.0  11.93   0.0  0.573  6.030  80.8  2.5050  1.0  273.0   \n",
       "\n",
       "     PTRATIO       B  LSTAT  \n",
       "0       15.3  396.90   4.98  \n",
       "1       17.8  396.90   9.14  \n",
       "2       17.8  392.83   4.03  \n",
       "3       18.7  394.63   2.94  \n",
       "4       18.7  396.90   5.33  \n",
       "..       ...     ...    ...  \n",
       "501     21.0  391.99   9.67  \n",
       "502     21.0  396.90   9.08  \n",
       "503     21.0  396.90   5.64  \n",
       "504     21.0  393.45   6.48  \n",
       "505     21.0  396.90   7.88  \n",
       "\n",
       "[506 rows x 13 columns]"
      ]
     },
     "execution_count": 14,
     "metadata": {},
     "output_type": "execute_result"
    }
   ],
   "source": [
    "x"
   ]
  },
  {
   "cell_type": "code",
   "execution_count": 15,
   "id": "26a02816",
   "metadata": {},
   "outputs": [],
   "source": [
    "y=data.target"
   ]
  },
  {
   "cell_type": "code",
   "execution_count": 16,
   "id": "9d86e7d2",
   "metadata": {},
   "outputs": [
    {
     "data": {
      "text/plain": [
       "(506,)"
      ]
     },
     "execution_count": 16,
     "metadata": {},
     "output_type": "execute_result"
    }
   ],
   "source": [
    "y.shape"
   ]
  },
  {
   "cell_type": "code",
   "execution_count": 17,
   "id": "b8dc8bd2",
   "metadata": {},
   "outputs": [],
   "source": [
    "train_x,test_x,train_y,test_y=train_test_split(x,y,test_size=.32,random_state=47)"
   ]
  },
  {
   "cell_type": "code",
   "execution_count": 18,
   "id": "870e7dfc",
   "metadata": {},
   "outputs": [
    {
     "data": {
      "text/plain": [
       "(344, 13)"
      ]
     },
     "execution_count": 18,
     "metadata": {},
     "output_type": "execute_result"
    }
   ],
   "source": [
    "train_x.shape"
   ]
  },
  {
   "cell_type": "code",
   "execution_count": 19,
   "id": "d58985f0",
   "metadata": {},
   "outputs": [
    {
     "data": {
      "text/plain": [
       "(344,)"
      ]
     },
     "execution_count": 19,
     "metadata": {},
     "output_type": "execute_result"
    }
   ],
   "source": [
    "train_y.shape"
   ]
  },
  {
   "cell_type": "code",
   "execution_count": 20,
   "id": "a3765ec5",
   "metadata": {},
   "outputs": [
    {
     "data": {
      "text/plain": [
       "(162, 13)"
      ]
     },
     "execution_count": 20,
     "metadata": {},
     "output_type": "execute_result"
    }
   ],
   "source": [
    "test_x.shape"
   ]
  },
  {
   "cell_type": "code",
   "execution_count": 21,
   "id": "d7cd727a",
   "metadata": {},
   "outputs": [
    {
     "data": {
      "text/plain": [
       "(162,)"
      ]
     },
     "execution_count": 21,
     "metadata": {},
     "output_type": "execute_result"
    }
   ],
   "source": [
    "test_y.shape"
   ]
  },
  {
   "cell_type": "code",
   "execution_count": 22,
   "id": "5b3e573d",
   "metadata": {},
   "outputs": [],
   "source": [
    "lm=LinearRegression()"
   ]
  },
  {
   "cell_type": "code",
   "execution_count": 23,
   "id": "1b23678d",
   "metadata": {},
   "outputs": [
    {
     "data": {
      "text/plain": [
       "LinearRegression()"
      ]
     },
     "execution_count": 23,
     "metadata": {},
     "output_type": "execute_result"
    }
   ],
   "source": [
    "lm.fit(train_x,train_y)"
   ]
  },
  {
   "cell_type": "code",
   "execution_count": 24,
   "id": "85841d8a",
   "metadata": {},
   "outputs": [
    {
     "data": {
      "text/plain": [
       "0.7665377487934006"
      ]
     },
     "execution_count": 24,
     "metadata": {},
     "output_type": "execute_result"
    }
   ],
   "source": [
    "lm.score(train_x,train_y)"
   ]
  },
  {
   "cell_type": "code",
   "execution_count": 25,
   "id": "32568ec7",
   "metadata": {},
   "outputs": [
    {
     "data": {
      "text/plain": [
       "array([-1.10477962e-01,  3.78295361e-02,  9.08933058e-03,  3.12782839e+00,\n",
       "       -1.61112914e+01,  4.83746926e+00, -1.48440766e-02, -1.41142212e+00,\n",
       "        2.59718929e-01, -1.21424852e-02, -9.36906645e-01,  9.14706110e-03,\n",
       "       -3.99081206e-01])"
      ]
     },
     "execution_count": 25,
     "metadata": {},
     "output_type": "execute_result"
    }
   ],
   "source": [
    "lm.coef_"
   ]
  },
  {
   "cell_type": "code",
   "execution_count": 26,
   "id": "c82b8f47",
   "metadata": {},
   "outputs": [
    {
     "data": {
      "text/plain": [
       "array(['CRIM', 'ZN', 'INDUS', 'CHAS', 'NOX', 'RM', 'AGE', 'DIS', 'RAD',\n",
       "       'TAX', 'PTRATIO', 'B', 'LSTAT'], dtype='<U7')"
      ]
     },
     "execution_count": 26,
     "metadata": {},
     "output_type": "execute_result"
    }
   ],
   "source": [
    "data.feature_names"
   ]
  },
  {
   "cell_type": "code",
   "execution_count": 27,
   "id": "055c26c2",
   "metadata": {},
   "outputs": [
    {
     "data": {
      "text/plain": [
       "<BarContainer object of 13 artists>"
      ]
     },
     "execution_count": 27,
     "metadata": {},
     "output_type": "execute_result"
    },
    {
     "data": {
      "image/png": "[encoded data removed]",
      "text/plain": [
       "<Figure size 504x432 with 1 Axes>"
      ]
     },
     "metadata": {
      "needs_background": "light"
     },
     "output_type": "display_data"
    }
   ],
   "source": [
    "plt.figure(figsize=(7,6))\n",
    "\n",
    "plt.bar(data.feature_names,lm.coef_)"
   ]
  },
  {
   "cell_type": "code",
   "execution_count": 28,
   "id": "80d0b170",
   "metadata": {},
   "outputs": [
    {
     "data": {
      "text/plain": [
       "(506, 14)"
      ]
     },
     "execution_count": 28,
     "metadata": {},
     "output_type": "execute_result"
    }
   ],
   "source": [
    "ds.shape"
   ]
  },
  {
   "cell_type": "code",
   "execution_count": 29,
   "id": "2b8c6f0c",
   "metadata": {},
   "outputs": [
    {
     "data": {
      "text/plain": [
       "0      396.90\n",
       "1      396.90\n",
       "2      392.83\n",
       "3      394.63\n",
       "4      396.90\n",
       "        ...  \n",
       "501    391.99\n",
       "502    396.90\n",
       "503    396.90\n",
       "504    393.45\n",
       "505    396.90\n",
       "Name: B, Length: 506, dtype: float64"
      ]
     },
     "execution_count": 29,
     "metadata": {},
     "output_type": "execute_result"
    }
   ],
   "source": [
    "ds['B']"
   ]
  },
  {
   "cell_type": "code",
   "execution_count": 30,
   "id": "8825fb00",
   "metadata": {},
   "outputs": [
    {
     "data": {
      "text/plain": [
       "<matplotlib.collections.PathCollection at 0x1d91d846340>"
      ]
     },
     "execution_count": 30,
     "metadata": {},
     "output_type": "execute_result"
    },
    {
     "data": {
      "image/png": "[encoded data removed]",
      "text/plain": [
       "<Figure size 432x288 with 1 Axes>"
      ]
     },
     "metadata": {
      "needs_background": "light"
     },
     "output_type": "display_data"
    }
   ],
   "source": [
    "plt.scatter(ds['B'],y)"
   ]
  },
  {
   "cell_type": "code",
   "execution_count": 31,
   "id": "aa74aa77",
   "metadata": {},
   "outputs": [
    {
     "data": {
      "text/plain": [
       "<matplotlib.collections.PathCollection at 0x1d91d8b7f40>"
      ]
     },
     "execution_count": 31,
     "metadata": {},
     "output_type": "execute_result"
    },
    {
     "data": {
      "image/png": "[encoded data removed]",
      "text/plain": [
       "<Figure size 432x288 with 1 Axes>"
      ]
     },
     "metadata": {
      "needs_background": "light"
     },
     "output_type": "display_data"
    }
   ],
   "source": [
    "plt.scatter(ds['RM'],y)"
   ]
  },
  {
   "cell_type": "code",
   "execution_count": 32,
   "id": "c00b0fe9",
   "metadata": {},
   "outputs": [
    {
     "data": {
      "text/plain": [
       "<matplotlib.collections.PathCollection at 0x1d91d91ba60>"
      ]
     },
     "execution_count": 32,
     "metadata": {},
     "output_type": "execute_result"
    },
    {
     "data": {
      "image/png": "[encoded data removed]",
      "text/plain": [
       "<Figure size 432x288 with 1 Axes>"
      ]
     },
     "metadata": {
      "needs_background": "light"
     },
     "output_type": "display_data"
    }
   ],
   "source": [
    "plt.scatter(ds['CRIM'],y)"
   ]
  },
  {
   "cell_type": "code",
   "execution_count": 33,
   "id": "f194acd3",
   "metadata": {},
   "outputs": [
    {
     "data": {
      "text/plain": [
       "array([-1.10477962e-01,  3.78295361e-02,  9.08933058e-03,  3.12782839e+00,\n",
       "       -1.61112914e+01,  4.83746926e+00, -1.48440766e-02, -1.41142212e+00,\n",
       "        2.59718929e-01, -1.21424852e-02, -9.36906645e-01,  9.14706110e-03,\n",
       "       -3.99081206e-01])"
      ]
     },
     "execution_count": 33,
     "metadata": {},
     "output_type": "execute_result"
    }
   ],
   "source": [
    "lm.coef_"
   ]
  },
  {
   "cell_type": "code",
   "execution_count": 34,
   "id": "1af1d078",
   "metadata": {},
   "outputs": [
    {
     "name": "stdout",
     "output_type": "stream",
     "text": [
      "Result predict [15.93891888 32.34111451 24.42002642 30.87824992 27.35719811 19.615433\n",
      " 23.05981337 31.95748808 32.39966118 22.40509582 24.89194947 27.29836789\n",
      " 20.13913926 27.68760888 31.76486714 10.38003267 36.16486026 15.01423769\n",
      " 11.78163591 15.59985251 35.21375069 22.18885023 38.72867424 20.33510893\n",
      " 28.46218143 18.94597577 24.09675641 20.8218838  19.62007378 26.46551886\n",
      " 14.18435365 25.9096614  17.63365209  8.13114295 32.59594712 19.01110948\n",
      " 12.34109137 27.15235686 22.7656168  18.73306674 23.66607687 25.18441482\n",
      " 37.27122544 21.29977287 32.21780907 19.97693546  7.16617762 28.09155156\n",
      " 36.40831692 21.59231517 28.94516185 23.8392457   7.42651089 24.24734204\n",
      "  6.22910824 21.87434925 18.37938856 13.17124682  6.08209187 30.08796618\n",
      " 12.35217022 17.73999458 17.96258998 19.05582206 42.28920781 22.38939614\n",
      " 20.48427266 23.82207535 25.57893453 27.45322871 29.57197027 19.50723883\n",
      " 24.51250508 22.68855573 30.97551413 13.68664321 17.87535942 20.33133088\n",
      " 16.65372831 16.95741704  2.51165959 33.9756888  31.77940811 21.45631648\n",
      " 32.97434457 16.54879847 22.96958896 25.8035978  21.6146338  20.30609946\n",
      " 16.89486599 20.43508393 14.25012587 17.3032971  33.05887078 18.21024624\n",
      " 41.11244173 28.53727396  5.67848479 21.74769936 25.44156209 15.32033492\n",
      " 21.24543256 15.93388691 15.2859505  34.35970209 20.23554325 16.88060856\n",
      " 12.87392853 18.15417977 12.57574166 20.71210932 33.00993936 21.16798818\n",
      " 14.48358505 17.18421244 19.83332028 28.52201044 37.39736945 19.63427427\n",
      " 12.85780696 20.39677217 27.69423734 24.54126087  9.3777214  19.76655657\n",
      " 33.50991166 18.16445851 30.43145687 19.04128145 14.17663167 13.33674254\n",
      " 13.36105007 21.37875356 15.5314713  33.25109643 18.33298945 20.52994927\n",
      " 18.77843147 12.67473316 38.73542261 21.54979302 18.57265612 27.26490861\n",
      " 17.20604234 23.16828108 17.29495069 18.0937848  30.11130459 34.30422417\n",
      " 23.1875785  37.56596685 21.89069305  9.12177047 31.13012473 20.97793273\n",
      " 35.45832651 13.44482525 27.26220579 10.50736582 17.83843691 20.25411101]\n",
      "Actual result  [20.6 31.6 25.  30.8 23.7 23.  17.8 30.7 41.3 23.  28.7 24.5 18.3 25.\n",
      " 27.  13.2 33.3 17.2  6.3 15.6 35.1 23.1 41.7 16.7 22.9 14.1 22.2 24.5\n",
      " 17.7 23.2 13.1 23.9 20.1  7.2 27.5 20.4 12.7 25.2 22.9 19.9 23.  23.8\n",
      " 50.  24.5 31.6 50.  23.1 28.7 36.  20.7 22.  24.4  8.5 23.1 13.8 20.6\n",
      " 19.8 11.5 10.2 30.5 13.5 19.3 27.9 19.6 48.5 19.8 20.9 21.4 24.2 24.3\n",
      " 23.  18.6 27.5 20.  37.  13.6 17.8 18.8 17.8 20.8  8.8 34.9 42.8 20.2\n",
      " 33.1 19.1 25.  22.  22.7 16.8 12.7 18.8 13.5 17.4 30.3 16.1 46.  31.2\n",
      "  7.4 19.6 29.6 15.7 19.3 14.1 18.4 35.4 21.8 17.5 15.6 19.5 13.6 16.1\n",
      " 36.4 21.2 11.  14.2 19.2 22.5 44.  20.3 11.3 19.3 26.6 21.4  8.7 15.\n",
      " 37.9 12.1 24.8 18.  19.7 13.4 18.5 21.7 15.6 32.  22.6 20.4 18.2 12.8\n",
      " 21.9 11.9 10.9 22.8 19.9 50.  18.7 18.4 29.1 30.1 19.4 42.3 20.   9.7\n",
      " 50.  20.1 39.8 17.2 27.1 17.8 18.2 20.6]\n"
     ]
    }
   ],
   "source": [
    "pred=lm.predict(test_x)\n",
    "print(\"Result predict\",pred)\n",
    "print(\"Actual result \",test_y)"
   ]
  },
  {
   "cell_type": "code",
   "execution_count": 35,
   "id": "10bcaf5d",
   "metadata": {},
   "outputs": [
    {
     "name": "stdout",
     "output_type": "stream",
     "text": [
      "Mean Squared Error \n",
      " 27.833516998595737\n"
     ]
    }
   ],
   "source": [
    "print(\"Mean Squared Error \\n\",mean_squared_error(pred,test_y))"
   ]
  },
  {
   "cell_type": "code",
   "execution_count": 36,
   "id": "28011dad",
   "metadata": {},
   "outputs": [],
   "source": [
    "# predict the house price of the following\n",
    "\n",
    "t=np.array([0.00632,18.0,2.31,0.0,0.538,65.2,4.0900,1.0,296.0,15.3,396.90,4.98,34])"
   ]
  },
  {
   "cell_type": "code",
   "execution_count": 37,
   "id": "6320311d",
   "metadata": {},
   "outputs": [
    {
     "data": {
      "text/plain": [
       "(13,)"
      ]
     },
     "execution_count": 37,
     "metadata": {},
     "output_type": "execute_result"
    }
   ],
   "source": [
    "t.shape"
   ]
  },
  {
   "cell_type": "code",
   "execution_count": 38,
   "id": "08841ef0",
   "metadata": {},
   "outputs": [],
   "source": [
    "t=t.reshape(1,-1)"
   ]
  },
  {
   "cell_type": "code",
   "execution_count": 39,
   "id": "d0461f1a",
   "metadata": {},
   "outputs": [
    {
     "data": {
      "text/plain": [
       "(1, 13)"
      ]
     },
     "execution_count": 39,
     "metadata": {},
     "output_type": "execute_result"
    }
   ],
   "source": [
    "t.shape"
   ]
  },
  {
   "cell_type": "code",
   "execution_count": 40,
   "id": "d2728ca4",
   "metadata": {},
   "outputs": [
    {
     "data": {
      "text/plain": [
       "array([25.76173266])"
      ]
     },
     "execution_count": 40,
     "metadata": {},
     "output_type": "execute_result"
    }
   ],
   "source": [
    "lm.predict(t)"
   ]
  },
  {
   "cell_type": "markdown",
   "id": "ae3ec450",
   "metadata": {},
   "source": [
    "# Regulaization::L1 AND L2 REGULARIZATION"
   ]
  },
  {
   "cell_type": "code",
   "execution_count": 41,
   "id": "acd0bdbe",
   "metadata": {},
   "outputs": [],
   "source": [
    "from sklearn.linear_model import Lasso,Ridge"
   ]
  },
  {
   "cell_type": "code",
   "execution_count": 42,
   "id": "42caf05d",
   "metadata": {},
   "outputs": [
    {
     "data": {
      "text/plain": [
       "0.7665377066131066"
      ]
     },
     "execution_count": 42,
     "metadata": {},
     "output_type": "execute_result"
    }
   ],
   "source": [
    "#will reduce the coefficient to zero(these features are not informative)\n",
    "\n",
    "# alpha value(---->.0001, 0.001, 0.01, 0.1,1,10--->higher value will reduce coefficients towards 0 and impact output)\n",
    "#Default value of alpha= 1.0\n",
    "# alpha=0.1\n",
    "\n",
    "ls=Lasso(alpha=0.0001)\n",
    "#ls=lasso(alpha=1.0) #by default\n",
    "\n",
    "ls.fit(train_x,train_y)\n",
    "ls.score(train_x,train_y)"
   ]
  },
  {
   "cell_type": "code",
   "execution_count": 43,
   "id": "7d84a635",
   "metadata": {},
   "outputs": [
    {
     "data": {
      "text/plain": [
       "array([-1.10458660e-01,  3.78363623e-02,  8.93013693e-03,  3.12616280e+00,\n",
       "       -1.60781664e+01,  4.83763415e+00, -1.48725710e-02, -1.41096290e+00,\n",
       "        2.59629860e-01, -1.21452157e-02, -9.36465601e-01,  9.14911341e-03,\n",
       "       -3.99108100e-01])"
      ]
     },
     "execution_count": 43,
     "metadata": {},
     "output_type": "execute_result"
    }
   ],
   "source": [
    "ls.coef_"
   ]
  },
  {
   "cell_type": "code",
   "execution_count": 44,
   "id": "c10a6087",
   "metadata": {},
   "outputs": [
    {
     "data": {
      "image/png": "[encoded data removed]",
      "text/plain": [
       "<Figure size 504x360 with 1 Axes>"
      ]
     },
     "metadata": {
      "needs_background": "light"
     },
     "output_type": "display_data"
    }
   ],
   "source": [
    "plt.figure(figsize=(7,5))\n",
    "plt.bar(data.feature_names,ls.coef_)\n",
    "plt.show()"
   ]
  },
  {
   "cell_type": "code",
   "execution_count": 45,
   "id": "ce792d16",
   "metadata": {},
   "outputs": [
    {
     "data": {
      "text/plain": [
       "0.7665377404511846"
      ]
     },
     "execution_count": 45,
     "metadata": {},
     "output_type": "execute_result"
    }
   ],
   "source": [
    "rd=Ridge(alpha=0.001)\n",
    "#rd=Ridge()\n",
    "rd.fit(train_x,train_y)\n",
    "rd.score(train_x,train_y)"
   ]
  },
  {
   "cell_type": "code",
   "execution_count": 46,
   "id": "0af52939",
   "metadata": {},
   "outputs": [
    {
     "data": {
      "text/plain": [
       "array([-1.10469454e-01,  3.78325083e-02,  9.01694308e-03,  3.12757754e+00,\n",
       "       -1.60962167e+01,  4.83763698e+00, -1.48589939e-02, -1.41122328e+00,\n",
       "        2.59678001e-01, -1.21436369e-02, -9.36703361e-01,  9.14802813e-03,\n",
       "       -3.99086085e-01])"
      ]
     },
     "execution_count": 46,
     "metadata": {},
     "output_type": "execute_result"
    }
   ],
   "source": [
    "rd.coef_"
   ]
  },
  {
   "cell_type": "code",
   "execution_count": 47,
   "id": "890873ec",
   "metadata": {},
   "outputs": [
    {
     "data": {
      "image/png": "[encoded data removed]",
      "text/plain": [
       "<Figure size 576x360 with 1 Axes>"
      ]
     },
     "metadata": {
      "needs_background": "light"
     },
     "output_type": "display_data"
    }
   ],
   "source": [
    "plt.figure(figsize=(8,5))\n",
    "plt.bar(data.feature_names,rd.coef_)\n",
    "plt.show()"
   ]
  },
  {
   "cell_type": "code",
   "execution_count": 48,
   "id": "78f745e3",
   "metadata": {},
   "outputs": [],
   "source": [
    "from sklearn.linear_model import ElasticNet"
   ]
  },
  {
   "cell_type": "code",
   "execution_count": 49,
   "id": "bc4041d3",
   "metadata": {},
   "outputs": [],
   "source": [
    "enr=ElasticNet(alpha=.0001)\n",
    "\n",
    "enr.fit(train_x,train_y)\n",
    "enrpredict=enr.predict(train_x)"
   ]
  },
  {
   "cell_type": "code",
   "execution_count": 50,
   "id": "82998456",
   "metadata": {},
   "outputs": [
    {
     "data": {
      "text/plain": [
       "0.7665350353498002"
      ]
     },
     "execution_count": 50,
     "metadata": {},
     "output_type": "execute_result"
    }
   ],
   "source": [
    "enr.score(train_x,train_y)"
   ]
  },
  {
   "cell_type": "code",
   "execution_count": 51,
   "id": "7af849c8",
   "metadata": {},
   "outputs": [
    {
     "data": {
      "text/plain": [
       "array([-1.10324402e-01,  3.78833591e-02,  7.78451711e-03,  3.12271676e+00,\n",
       "       -1.58395847e+01,  4.84037502e+00, -1.51106613e-02, -1.40782817e+00,\n",
       "        2.58982284e-01, -1.21633723e-02, -9.33246638e-01,  9.16444801e-03,\n",
       "       -3.99178375e-01])"
      ]
     },
     "execution_count": 51,
     "metadata": {},
     "output_type": "execute_result"
    }
   ],
   "source": [
    "enr.coef_"
   ]
  },
  {
   "cell_type": "raw",
   "id": "6d2eed8b",
   "metadata": {},
   "source": [
    "# LASSO(L1), ridge(L2) and elastic NET this 3 are used is used for Regularization\n",
    "\n",
    "#elastic NET (have both Lasso and ridge)"
   ]
  },
  {
   "cell_type": "raw",
   "id": "03904529",
   "metadata": {},
   "source": [
    "CLASSIFIERS\n",
    "\n",
    ">>DECISION TREE    --------->(CAN BE USEDFOR REGRESSOR,FOR CLASSIFIER)\n",
    ">>KNN-K Nearest Neighbour--> (CAN BE USEDFOR REGRESSOR,FOR CLASSIFIER)\n",
    ">>NB- naive bayes----------> (CAN BE USEDFOR REGRESSOR,FOR CLASSIFIER)\n",
    ">>SVM- SUPPORT VECTOR MACHINE(CAN BE USEDFOR REGRESSOR,FOR CLASSIFIER as SVR)\n",
    "1.(INSIDE SVM)svr- SUPPORT VECTOR REGRESSOR"
   ]
  },
  {
   "cell_type": "code",
   "execution_count": 52,
   "id": "2e89f832",
   "metadata": {},
   "outputs": [],
   "source": [
    "from sklearn.svm import SVR"
   ]
  },
  {
   "cell_type": "code",
   "execution_count": 54,
   "id": "642943b0",
   "metadata": {},
   "outputs": [
    {
     "name": "stdout",
     "output_type": "stream",
     "text": [
      "0.7387466427426315\n",
      "0.22465074374482608\n",
      "0.23495154421727116\n",
      "0.10781229392263536\n"
     ]
    }
   ],
   "source": [
    "# Using svm-->svr classifier \n",
    "\n",
    "kernallist=['linear','poly', 'rbf', 'sigmoid']\n",
    "\n",
    "for i in kernallist:\n",
    "    svr=SVR(kernel=i)\n",
    "    svr.fit(train_x,train_y)\n",
    "    print(svr.score(train_x,train_y))\n",
    "    "
   ]
  },
  {
   "cell_type": "code",
   "execution_count": 57,
   "id": "debfd48d",
   "metadata": {},
   "outputs": [
    {
     "name": "stdout",
     "output_type": "stream",
     "text": [
      "0.7387466427426315\n",
      "predict \n",
      " [18.33629223 11.07737326 24.81185402 31.72673665 32.54549125 20.87561147\n",
      " 26.71403013 14.49151106 31.59897035 20.62337315 16.08589623 20.79374971\n",
      " 23.07684409 21.68668259 14.83704434 25.2287015  18.91207487 22.67076179\n",
      " 22.11287836 34.09808376 23.96120092 21.19853555 21.8194755  32.60978138\n",
      " 20.51683657 27.03345845 -6.66593328 21.49957862 14.62483144 23.48314135\n",
      " 16.70204735 27.44527019 21.65204422 18.78233798 24.20094394 24.99411406\n",
      " 15.14362815 24.83038133 41.81225646 33.51319757 22.85857714 16.87564881\n",
      " 12.59786628  5.93464812 26.46079525 24.73621204 24.13129888 14.01551503\n",
      " 25.09448589 14.10099148 32.95642496 16.7064389  17.39312153 17.29331439\n",
      " 22.82424948 20.59423522 21.34226793 14.58837257 23.20549246 27.14172477\n",
      " 36.2969362  17.8176151  16.55425216 12.1506228  13.09532352 19.1746415\n",
      " 21.40112199 27.70771686 24.91279493 23.66189955 19.55885846  6.04863182\n",
      " 30.85777447 25.32828599  8.61512759 25.37311401 18.82022449 20.71760714\n",
      " 29.75327548  7.06409199 15.96678337 12.8893535  17.88309452 21.0593512\n",
      " -1.87907919 11.46387219 28.54375853  8.24458998 18.52847116 20.60678852\n",
      " 17.37397955 17.42783353 28.74045542 11.28447776 23.24115577 29.24199136\n",
      " 17.59444273 11.39377959 31.37721806 16.87034986 14.88255338 16.10836433\n",
      " 17.00823904  2.35305127 21.55662762 15.35362161 10.26055904 19.36686878\n",
      " 15.79828699 22.60570689 15.82052918 18.14718037 21.34766015 27.66552886\n",
      " 31.66972623 24.81302488 21.33559364 22.27371189 30.2381406  21.83944997\n",
      " 15.99388242 14.67135069 24.59236714 11.73832164 21.7650949  19.18510018\n",
      " 23.94580216 44.21450669 20.12667221 21.60978456 12.45477979 29.9360993\n",
      " 20.06735252 21.18116547 35.78575319 33.07032392 35.7834897  25.54475767\n",
      " 20.42046448 29.44848701 17.4128921  17.5829441  23.6791133  31.8650947\n",
      " 26.03893136 17.71559077 12.08622934  6.87574969 22.33389159 21.70297242\n",
      " 14.38299812 23.52855117 30.93392606 25.27445839 26.60577499 17.47816584\n",
      " 21.68251118 37.29091684 15.72700721 22.23200904 21.65321004 27.11207402\n",
      " 18.55216355 32.19144965 22.01868904 19.78443655 31.8560541  16.32793656\n",
      " 18.12552352 19.08392567 41.59083087 29.03190922 20.14139315 28.64070897\n",
      " 37.94025644 26.91979298 20.13724284 20.51000232 25.40697875 26.597996\n",
      " 16.46935114 33.91550698  3.35511984 22.07954769 17.8023908  20.59426681\n",
      " 23.50549268  4.72675106 16.93656884 15.92159853 22.20119394 41.37585892\n",
      " 21.00260157 28.42665945 19.15559808  4.90351939 15.97163169 15.13434076\n",
      " 19.963706    5.39235423 18.91008278 36.23579237 23.27609983 23.04314003\n",
      " 26.49878346 36.37379313 26.56035243 21.33072843 18.37585286 19.11290047\n",
      " 16.12764337 29.80249947 24.70280018 14.54379586 31.10603978 18.25584463\n",
      " 37.33641451 15.47525594 20.94194103 26.16403574 27.663578   -1.27201992\n",
      " 19.28257287 19.04975724 23.36346061 21.58397703 12.51992322 26.80954585\n",
      " 18.00632287 28.84809377 19.51743754 16.09238857 21.14173485 34.95160282\n",
      "  5.68118561 17.74716897 20.69631526 20.37736122 17.88041699 21.96564245\n",
      " 14.37646177 24.22686607 20.09604668 31.84173118 18.26099803 24.57123\n",
      " 25.24308147 37.94841732 18.72684254 23.78196006 22.97784624 17.76809829\n",
      " 33.65209246 29.43320958 16.79989189 17.9379001   8.78759447 18.04435999\n",
      " 13.00172516 26.16066923 11.41320851 22.75314849 30.1627228  12.62400158\n",
      " 17.26943131 16.73326116 11.13062099 19.43757065  4.55189544 13.75406493\n",
      " 24.45685508 15.39908649 11.04848763  1.66199636 30.15000652 19.73056323\n",
      " 13.2929453  27.21797987 20.65445188 40.25247108 29.99625199 25.54178639\n",
      "  9.85255455 27.19210041 36.14752585 21.50369626 24.93388239 39.91111638\n",
      " 24.67127413 22.13938947 12.02353888 19.78041596 25.28653836 10.57507498\n",
      " 20.72460581  9.7779616  17.31688741 42.61319853 34.33629866 20.59774957\n",
      " 14.06688668 15.07098329 17.53206151 19.90608539 25.1535549  17.76638919\n",
      " 40.33475206 28.65466963 14.24232769 26.99090403 27.33840705 22.91841884\n",
      " 16.66362685 31.34954481 29.82076184 23.7735658  10.19749481 23.30004675\n",
      " 23.93701722 37.39031171 24.1471599  24.12821936 13.66831192 15.42229194\n",
      " 23.61560243 27.91711243 28.84613591 21.84468549 20.80435403 24.74817647\n",
      " 19.54884166 26.19033263 21.06262854 33.91199654 21.79258581 19.96391331\n",
      " 14.23910514 19.96351031 31.32292299 23.43238573 34.32823517 20.06518968\n",
      " 14.89691366 18.27313695] \n",
      "\n",
      "0.22465074374482608\n",
      "predict \n",
      " [15.36379209 20.49909833 23.72946439 24.37235515 23.76489728 22.33326971\n",
      " 23.09000761 13.43460116 22.38944934 22.63321974 11.83510214 22.22688928\n",
      " 24.10142597 21.82915279 20.25454754 22.82177456 20.50045806 22.94687312\n",
      " 23.2613505  22.56222521 22.9186574  23.22314044 22.8431427  23.49566581\n",
      " 22.21861856 23.22873494 10.83468935 22.59732283 20.10305854 19.92101082\n",
      " 15.5351803  22.46226218 23.55660029 22.23711158 22.9098553  23.71547582\n",
      " 12.28600616 23.56433197 24.19383802 23.35526091 23.19948966 14.65206395\n",
      " 11.69993048 19.83006258 23.64126455 23.52331272 14.87849537 20.32720825\n",
      " 23.59642514 11.73419605 24.23883181 13.90833645 16.06680285 21.6361733\n",
      " 22.89089522 23.29973034 20.99151766 15.77034198 22.48275128 22.19119867\n",
      " 22.39796881 22.31006149 22.77548098 14.37054366 21.17688783 14.86273415\n",
      " 24.37691802 23.68559769 23.59675859 22.53236174 21.84363565 12.09016521\n",
      " 23.35258578 23.05849384 13.86335743 24.21441608 21.98576481 23.1824994\n",
      " 24.29787717 11.10209796 19.09358821 21.5048467  15.90360923 23.13075531\n",
      " 11.18906228 13.71541453 22.85158097 11.51479112 14.7796423  22.03302717\n",
      " 13.86697224 14.91837787 23.17253928 14.25077132 23.21426906 23.23061643\n",
      " 14.90493753 14.19137332 24.3110392  21.81656416 15.14386091 22.82045411\n",
      " 22.07440758 13.95727546 22.2758798  21.69791211 12.46309992 22.18459203\n",
      " 20.14983728 23.0459424  12.30680019 14.61940663 22.62403109 23.31811491\n",
      " 24.09900489 23.58705129 15.52044447 22.97656529 24.69229898 23.4060313\n",
      " 14.48471672 22.07677377 16.50747768 14.65092075 22.2928333  21.1461994\n",
      " 22.69781782 22.48376436 23.27771423 20.97150032 12.84571189 23.90898822\n",
      " 23.26907204 23.31943815 23.2454247  23.36344072 22.52912158 21.04234866\n",
      " 23.53443715 23.31152702 21.50744309 22.53538635 16.58101835 22.11483134\n",
      " 23.90771872 22.34348168 12.17932871 11.76541269 23.28220012 22.95004776\n",
      " 11.94825654 23.04882374 23.22726527 23.62555004 22.22791662 15.8781178\n",
      " 22.21277473 22.97765754 21.94667843 20.51905135 23.12862166 23.0364047\n",
      " 21.7493362  23.80000132 23.11569989 21.98437442 22.76910399 21.12799334\n",
      " 23.94890742 22.87297973 22.35893565 22.33631061 19.86617256 22.12376637\n",
      " 22.19883149 23.13604568 14.78984736 16.41249625 22.50689677 23.95347076\n",
      " 22.00801274 23.95361278 14.15289613 21.26094908 20.50893186 17.68958634\n",
      " 22.13936301 13.14767901 13.5237676  22.49538818 23.11687937 22.76558287\n",
      " 23.32613736 23.20754425 13.47975364 11.72799746 20.46788031 14.54020356\n",
      " 14.88021278 13.7599029  22.09096352 23.03693774 22.69204501 22.36964451\n",
      " 23.85272224 22.06145468 23.65062763 15.53731122 15.30771674 15.98309068\n",
      " 20.17244915 23.39648685 23.9031055  11.51448573 24.47108298 22.79302571\n",
      " 20.89325342 24.11530292 20.29743165 22.45548642 23.57931815 13.9630941\n",
      " 21.3262076  16.95358406 21.80708433 21.7996221  21.36668781 22.41994\n",
      " 18.43183008 23.68896577 14.33690293 12.37753104 21.95591878 23.16100693\n",
      " 15.21041409 14.33145947 22.72289208 19.37355933 20.1523606  22.2400407\n",
      " 14.80664721 23.06220016 21.74559329 24.44632265 14.67061356 24.17229925\n",
      " 22.91617504 23.14128289 15.09766838 22.72968779 20.86092759 12.13907144\n",
      " 23.05486809 22.37706591 20.2419215  19.58300492 12.2789239  13.67855165\n",
      " 19.02179757 20.46851843 13.50870739 20.05483791 22.77055824 11.74364452\n",
      " 22.31767327 14.7004569  12.68796307 22.41984668 11.91114843 12.01635204\n",
      " 22.77860915 21.13246918 20.49512737 10.60254544 22.84957587 23.62291341\n",
      " 19.20599842 23.76118268 22.92583769 22.05838553 23.06980851 22.63259058\n",
      " 11.29491401 22.20346336 23.3599929  23.0669817  23.14051792 24.16535445\n",
      " 23.16382551 23.45537473 14.74367781 19.88612481 23.75413522 11.89931432\n",
      " 22.32973904 14.65323741 21.8924896  24.25581449 20.93306778 22.704593\n",
      " 22.88051037 11.74317884 14.74430096 20.25110119 21.88289662 17.77579028\n",
      " 20.98475972 23.0441593  21.7880512  22.23088827 23.64263156 24.1249541\n",
      " 14.90910079 24.23778268 21.97882585 23.49953053 22.05561345 23.72391106\n",
      " 22.87368425 22.29889853 20.1991051  22.51756993 11.75773884 14.46553551\n",
      " 22.9006874  24.50406251 15.45212198 21.97839628 23.24871188 22.84322786\n",
      " 20.48442674 22.19431224 23.24884377 22.30843543 22.52973721 23.26851102\n",
      " 21.59313586 23.11598372 23.00950561 23.6911568  22.34185186 23.01333583\n",
      " 15.04546953 20.21658345] \n",
      "\n",
      "0.23495154421727116\n",
      "Prediction \n",
      " [15.56124856 19.93269084 24.5856404  25.31181956 24.39707296 23.89124533\n",
      " 24.25058772 14.61258636 22.47866079 24.17366082 13.14098678 21.1537666\n",
      " 23.67918882 22.08758637 19.29617888 23.25028334 19.28062867 24.14655362\n",
      " 24.32968063 23.28627691 23.0402404  24.3977443  23.00002015 24.64051918\n",
      " 22.34849746 23.28751298 13.05570087 23.04957769 19.23135078 19.0818284\n",
      " 15.50139279 23.93352384 23.75643734 22.42778758 23.15864901 23.07159546\n",
      " 13.30590872 21.61877717 25.22245333 24.10580807 24.29370781 15.42841866\n",
      " 13.11364343 19.14664611 23.77167085 22.89872812 15.47658975 19.34953406\n",
      " 23.67406494 13.11392788 24.92430253 14.53923462 15.68450351 20.71284099\n",
      " 23.2488364  24.24476778 19.72637904 15.520943   22.72367481 22.80785935\n",
      " 23.1517052  23.42705223 23.81819162 15.11071453 21.29647304 15.43417245\n",
      " 23.85316208 23.1031752  24.5161956  23.48804533 22.09713134 13.79783259\n",
      " 23.62828135 24.31110175 14.99901967 23.07791986 22.19113449 23.04788684\n",
      " 24.97068177 13.05371081 17.42910468 21.87073499 15.66955687 24.21921463\n",
      " 13.00862903 15.1538772  23.03132813 13.0749025  15.18054479 20.79905322\n",
      " 14.79558547 15.42794363 24.28084434 14.86448892 23.55956009 23.25718442\n",
      " 15.22224449 15.35867325 24.6755213  22.1049727  15.42037343 20.16207948\n",
      " 22.64855249 15.14771134 22.45263042 21.99111786 13.28560305 23.74264966\n",
      " 19.24486327 23.22747861 13.26131493 15.35884666 22.70523099 23.41377077\n",
      " 22.89860364 23.81545554 15.55728678 23.90562054 22.32715958 22.81060666\n",
      " 15.29373091 21.97449315 15.69166222 15.42377158 20.93950241 20.54116704\n",
      " 23.31326293 23.21580112 22.78132093 20.1585485  13.38362863 24.44056029\n",
      " 24.22482031 24.37441265 23.58233878 21.63933128 23.03333209 19.75332295\n",
      " 22.63961267 23.13619148 21.84774225 21.87394224 15.79047263 22.27581378\n",
      " 25.49233488 22.75314954 13.20681397 13.16899135 23.56641506 23.18940734\n",
      " 13.30015995 23.42176277 21.57077498 23.67025541 22.40618009 15.66589819\n",
      " 20.32813108 24.25155611 21.87910925 19.85000045 23.4449375  23.14334593\n",
      " 20.77526711 24.43862188 21.30209977 22.62118945 23.22207473 20.54568666\n",
      " 21.73714646 24.00472926 23.117255   22.96619518 18.48318905 22.26919928\n",
      " 22.33904912 22.04412099 15.45106218 15.75898437 23.11181284 22.97970948\n",
      " 23.57360588 23.33288172 15.35137805 19.85912485 19.71314984 16.02181423\n",
      " 22.35068882 15.17201758 14.63905299 22.60108147 24.11538558 23.46198958\n",
      " 24.41777878 24.39403418 14.335683   14.38195311 19.92941667 15.42350607\n",
      " 15.18926344 15.30092911 21.98299649 24.50647363 24.20687434 22.47599404\n",
      " 23.75493619 22.23720849 24.03566385 15.47082588 15.48559687 15.68724944\n",
      " 19.20692354 21.66555974 23.1608581  13.07151175 22.240147   21.35354044\n",
      " 20.08258055 23.3633943  19.61722307 22.69440337 23.80763594 15.31563395\n",
      " 20.64517736 15.89938941 20.29407717 22.09190211 21.72102971 22.96109663\n",
      " 16.20994568 24.58101741 15.11552914 13.36600784 22.22707349 24.3256083\n",
      " 15.29343984 15.17692576 23.1913098  16.7740798  19.49967982 22.38367025\n",
      " 15.42981967 23.86388776 22.03493151 24.43928199 15.31719928 23.7477185\n",
      " 24.38548412 23.74507961 15.50677135 23.20015976 19.64781748 13.62494257\n",
      " 24.23805553 22.64124039 19.62156939 18.59799674 14.62392299 14.76257736\n",
      " 17.87652381 19.77553357 15.37153482 19.32691656 23.30926627 13.14152505\n",
      " 22.88429114 15.33636902 14.07945901 23.92727713 13.37134323 13.29045502\n",
      " 20.6278606  21.27789353 19.946478   13.00480289 23.7546129  23.49854731\n",
      " 16.64959027 24.52225179 24.04256982 22.23667908 24.25395069 23.21416225\n",
      " 13.02794407 22.35548118 23.17193419 23.87528701 23.50300311 24.73147622\n",
      " 23.34095139 23.7115152  15.4313244  19.02752209 23.07484111 13.1899702\n",
      " 23.87764768 15.44453567 22.14611533 25.60332098 20.05998206 21.16694254\n",
      " 23.32766264 13.11855706 15.38051448 19.296588   20.95031924 15.97291882\n",
      " 20.13082954 24.16675695 22.48142401 22.36957176 23.58751588 23.28031285\n",
      " 15.47177708 24.92308054 22.19383709 23.30471269 23.22055644 24.49744057\n",
      " 23.13162663 22.41042012 19.46327238 23.07800487 13.12151117 15.37998822\n",
      " 23.73531785 23.50230025 15.54288034 22.6261741  24.13342344 22.84645391\n",
      " 19.49942161 22.50902608 23.13597277 23.08212303 23.04745096 23.53478234\n",
      " 21.94673837 24.20667968 24.46522049 23.4108744  23.10772426 23.24332005\n",
      " 15.48232372 19.28700559] \n",
      "\n"
     ]
    }
   ],
   "source": [
    "svr=SVR(kernel='linear')\n",
    "svr.fit(train_x,train_y)\n",
    "print(svr.score(train_x,train_y))\n",
    "pred_y=svr.predict(train_x)\n",
    "print('predict \\n',pred_y,\"\\n\")\n",
    "\n",
    "\n",
    "svr=SVR(kernel='poly')\n",
    "svr.fit(train_x,train_y)\n",
    "print(svr.score(train_x,train_y))\n",
    "pred_y=svr.predict(train_x)\n",
    "print('predict \\n',pred_y,\"\\n\")\n",
    "\n",
    "svr=SVR(kernel='rbf')\n",
    "svr.fit(train_x,train_y)\n",
    "print(svr.score(train_x,train_y))\n",
    "pred_y=svr.predict(train_x)\n",
    "print(\"Prediction \\n\",pred_y,\"\\n\")"
   ]
  },
  {
   "cell_type": "code",
   "execution_count": 58,
   "id": "db5b1ec5",
   "metadata": {},
   "outputs": [],
   "source": [
    "from sklearn.neighbors import KNeighborsClassifier # main lib\n",
    "from sklearn.neighbors import KNeighborsRegressor # for regression "
   ]
  },
  {
   "cell_type": "code",
   "execution_count": 59,
   "id": "34061eef",
   "metadata": {},
   "outputs": [
    {
     "name": "stdout",
     "output_type": "stream",
     "text": [
      "0.6697242195016293\n"
     ]
    }
   ],
   "source": [
    "from sklearn.neighbors import KNeighborsRegressor # for regression \n",
    "\n",
    "knr=KNeighborsRegressor() # making instance and calling.\n",
    "\n",
    "knr.fit(train_x,train_y)\n",
    "print(knr.score(train_x,train_y))\n",
    "predict_knr=knr.predict(train_x)\n"
   ]
  },
  {
   "cell_type": "code",
   "execution_count": 60,
   "id": "2ac4f693",
   "metadata": {},
   "outputs": [
    {
     "name": "stdout",
     "output_type": "stream",
     "text": [
      "1.0\n",
      "[13.8 14.6 24.7 35.4 32.4 20.3 24.4 13.3 31.5 22.  13.4 21.7 21.9 21.\n",
      " 16.2 23.9 20.4 20.7 20.6 33.8 23.2 21.1 20.1 36.1 18.9 23.3  7.  18.9\n",
      " 13.3 23.8 23.2 32.5 23.3 16.2 23.8 24.8 14.5 24.1 50.  33.2 22.2  7.2\n",
      " 11.8 14.4 24.8 26.6 15.  14.3 22.3  7.5 37.3 14.9 19.1 17.5 22.2 19.3\n",
      " 19.2 19.1 22.6 23.9 43.1 16.6 19.4 13.8 13.9 13.1 20.9 26.4 25.3 21.6\n",
      " 27.1 16.3 32.7 33.  12.  23.1 18.9 23.1 27.9 15.  13.8 16.5 19.9 19.\n",
      " 17.9 15.2 24.   8.3 19.9 21.2 14.9 12.6 33.4 21.9 22.9 29.4 16.8  5.6\n",
      " 31.1 15.2 20.8 18.9 16.  11.9 20.3 16.6 11.7 20.5 14.  21.7  8.4 15.4\n",
      " 21.  28.6 29.  24.8 21.7 20.5 34.9 22.9 20.1 17.6 29.8 12.3 20.8 19.4\n",
      " 20.6 50.  24.3 22.7 10.2 29.1 20.  21.1 43.8 34.9 38.7 22.8 22.  31.5\n",
      " 14.5 17.5 23.7 31.7 30.1 18.5 19.   8.4 24.7 20.4 13.4 25.  32.  24.6\n",
      " 22.8 20.  19.8 45.4 20.2 21.5 21.  22.  18.3 33.1 24.1 21.7 33.2 19.5\n",
      " 18.6 18.5 48.8 23.6 23.8 29.  44.8 23.9 13.3 23.2 22.  24.1 17.3 34.6\n",
      " 10.5 21.2 15.3 21.2 21.6  5.  13.  16.1 21.2 50.  20.1 28.4 16.4  8.1\n",
      " 13.4 13.1 50.   5.  20.5 50.  29.6 24.  22.  37.6 25.  25.  21.4 19.5\n",
      " 17.4 29.8 24.4 17.2 32.9 23.1 50.  18.2 19.1 24.6 28.  13.8 19.3 21.4\n",
      " 16.5 21.7 12.7 28.4 21.8 26.6 15.2 14.3 19.4 35.2 27.5 13.9 22.4 15.6\n",
      " 19.6 24.3  8.5 23.9 18.4 32.2 17.8 24.7 36.2 43.5 12.5 23.3 18.5 27.5\n",
      " 33.4 29.9 15.4 19.4  7.  16.7 15.6 23.3 10.4 17.  28.7  9.5 22.5 14.6\n",
      " 10.8 26.4 10.4 11.7 22.6 14.8 11.8  8.8 34.7 17.1 13.1 25.  18.7 50.\n",
      " 28.2 22.6  7.2 25.1 46.7 22.5 28.1 50.  25.  22.6 10.5 17.4 26.2 10.9\n",
      " 21.4  8.3 19.6 50.  50.  20.3 23.7 14.9 17.1 17.1 26.5 20.6 50.  36.2\n",
      " 20.  30.1 23.7 19.4 14.1 28.5 26.7 23.4 14.4 23.4 23.1 48.3 22.3 22.4\n",
      "  9.6 10.2 22.2 23.5 50.  21.5 19.7 22.1 18.7 23.6 21.7 31.  24.4 19.6\n",
      " 14.5 19.5 37.2 22.8 36.5 22.2 15.1 18.1]\n"
     ]
    }
   ],
   "source": [
    "from sklearn.tree import DecisionTreeRegressor # calling lib\n",
    "\n",
    "dtr=DecisionTreeRegressor()\n",
    "dtr.fit(train_x,train_y)\n",
    "print(dtr.score(train_x,train_y))\n",
    "predict_dtr=dtr.predict(train_x)\n",
    "print(predict_dtr)"
   ]
  },
  {
   "cell_type": "code",
   "execution_count": null,
   "id": "93a381eb",
   "metadata": {},
   "outputs": [],
   "source": []
  }
 ],
 "metadata": {
  "kernelspec": {
   "display_name": "Python 3 (ipykernel)",
   "language": "python",
   "name": "python3"
  },
  "language_info": {
   "codemirror_mode": {
    "name": "ipython",
    "version": 3
   },
   "file_extension": ".py",
   "mimetype": "text/x-python",
   "name": "python",
   "nbconvert_exporter": "python",
   "pygments_lexer": "ipython3",
   "version": "3.9.12"
  }
 },
 "nbformat": 4,
 "nbformat_minor": 5
}
