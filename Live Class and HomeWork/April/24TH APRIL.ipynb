{
 "cells": [
  {
   "cell_type": "code",
   "execution_count": 1,
   "id": "17228a2b",
   "metadata": {},
   "outputs": [],
   "source": [
    "# importing sqlit3\n",
    "import sqlite3"
   ]
  },
  {
   "cell_type": "code",
   "execution_count": 2,
   "id": "05931ae3",
   "metadata": {},
   "outputs": [],
   "source": [
    "# object creation and new data base creation\n",
    "\n",
    "db1=sqlite3.connect(\"new_studentdatabase.db\")"
   ]
  },
  {
   "cell_type": "code",
   "execution_count": 3,
   "id": "8e6a3aa4",
   "metadata": {},
   "outputs": [],
   "source": [
    "# setting up cursor to work(working in temporary memory area) \n",
    "\n",
    "cur=db1.cursor()"
   ]
  },
  {
   "cell_type": "code",
   "execution_count": 4,
   "id": "7d0e08d3",
   "metadata": {},
   "outputs": [
    {
     "data": {
      "text/plain": [
       "<sqlite3.Cursor at 0x1cc0802f180>"
      ]
     },
     "execution_count": 4,
     "metadata": {},
     "output_type": "execute_result"
    }
   ],
   "source": [
    "# creating table name\n",
    "cur.execute(\"create table student(name text,id int primary key,marks int)\")"
   ]
  },
  {
   "cell_type": "code",
   "execution_count": 5,
   "id": "4313cc75",
   "metadata": {},
   "outputs": [
    {
     "name": "stdout",
     "output_type": "stream",
     "text": [
      "-1\n"
     ]
    }
   ],
   "source": [
    "print(cur.rowcount)"
   ]
  },
  {
   "cell_type": "code",
   "execution_count": 9,
   "id": "30ae69bb",
   "metadata": {},
   "outputs": [
    {
     "data": {
      "text/plain": [
       "<sqlite3.Cursor at 0x1cc0802f180>"
      ]
     },
     "execution_count": 9,
     "metadata": {},
     "output_type": "execute_result"
    }
   ],
   "source": [
    "cur.execute(\"insert into student values('Ajit',1,50)\")"
   ]
  },
  {
   "cell_type": "code",
   "execution_count": 10,
   "id": "4c1d63cd",
   "metadata": {},
   "outputs": [],
   "source": [
    "db1.commit()"
   ]
  },
  {
   "cell_type": "code",
   "execution_count": 12,
   "id": "227f5ff1",
   "metadata": {},
   "outputs": [
    {
     "ename": "IntegrityError",
     "evalue": "UNIQUE constraint failed: student.id",
     "output_type": "error",
     "traceback": [
      "\u001b[1;31m---------------------------------------------------------------------------\u001b[0m",
      "\u001b[1;31mIntegrityError\u001b[0m                            Traceback (most recent call last)",
      "\u001b[1;32mC:\\Users\\ABHIJI~1\\AppData\\Local\\Temp/ipykernel_12496/4006187719.py\u001b[0m in \u001b[0;36m<module>\u001b[1;34m\u001b[0m\n\u001b[1;32m----> 1\u001b[1;33m \u001b[0mcur\u001b[0m\u001b[1;33m.\u001b[0m\u001b[0mexecute\u001b[0m\u001b[1;33m(\u001b[0m\u001b[1;34m\"insert into student values('Amit',2,56),('Aniket',3,67),('barun',4,90),('rajib',6,98),('rohit',5,78),('ratan',7,89)\"\u001b[0m\u001b[1;33m)\u001b[0m\u001b[1;33m\u001b[0m\u001b[1;33m\u001b[0m\u001b[0m\n\u001b[0m\u001b[0;32m      2\u001b[0m \u001b[0mdb1\u001b[0m\u001b[1;33m.\u001b[0m\u001b[0mcommit\u001b[0m\u001b[1;33m(\u001b[0m\u001b[1;33m)\u001b[0m\u001b[1;33m\u001b[0m\u001b[1;33m\u001b[0m\u001b[0m\n\u001b[0;32m      3\u001b[0m \u001b[1;33m\u001b[0m\u001b[0m\n\u001b[0;32m      4\u001b[0m \u001b[0mprint\u001b[0m\u001b[1;33m(\u001b[0m\u001b[0mcur\u001b[0m\u001b[1;33m.\u001b[0m\u001b[0mrowcount\u001b[0m\u001b[1;33m)\u001b[0m\u001b[1;33m\u001b[0m\u001b[1;33m\u001b[0m\u001b[0m\n",
      "\u001b[1;31mIntegrityError\u001b[0m: UNIQUE constraint failed: student.id"
     ]
    }
   ],
   "source": [
    "cur.execute(\"insert into student values('Amit',2,56),('Aniket',3,67),('barun',4,90),('rajib',6,98),('rohit',5,78),('ratan',7,89)\")\n",
    "db1.commit()"
   ]
  },
  {
   "cell_type": "code",
   "execution_count": 13,
   "id": "081ee060",
   "metadata": {},
   "outputs": [
    {
     "name": "stdout",
     "output_type": "stream",
     "text": [
      "-1\n"
     ]
    }
   ],
   "source": [
    "print(cur.rowcount)"
   ]
  },
  {
   "cell_type": "code",
   "execution_count": 14,
   "id": "ac9df329",
   "metadata": {},
   "outputs": [
    {
     "name": "stdout",
     "output_type": "stream",
     "text": [
      "('Ajit', 1, 50)\n",
      "('Amit', 2, 56)\n",
      "('Aniket', 3, 67)\n",
      "('barun', 4, 90)\n",
      "('rajib', 6, 98)\n",
      "('rohit', 5, 78)\n",
      "('ratan', 7, 89)\n"
     ]
    }
   ],
   "source": [
    "result=cur.execute(\"Select * from student\")\n",
    "\n",
    "for i in result:\n",
    "    print(i)"
   ]
  },
  {
   "cell_type": "code",
   "execution_count": 15,
   "id": "f5cb89f6",
   "metadata": {},
   "outputs": [],
   "source": [
    "db1.commit()"
   ]
  },
  {
   "cell_type": "code",
   "execution_count": 18,
   "id": "c1388c6a",
   "metadata": {},
   "outputs": [],
   "source": [
    "cur.execute(\"insert into student values('chintu',8,70),('chunmun',9,90),('ravi',10,67),('ratul',11,87),('ramesh',12,45)\")\n",
    "db1.commit()"
   ]
  },
  {
   "cell_type": "code",
   "execution_count": 19,
   "id": "a00a2978",
   "metadata": {},
   "outputs": [
    {
     "name": "stdout",
     "output_type": "stream",
     "text": [
      "('Ajit', 1, 50) ('Amit', 2, 56) ('Aniket', 3, 67) ('barun', 4, 90) ('rajib', 6, 98) ('rohit', 5, 78) ('ratan', 7, 89) ('chintu', 8, 70) ('chunmun', 9, 90) ('ravi', 10, 67) ('ratul', 11, 87) ('ramesh', 12, 45) "
     ]
    }
   ],
   "source": [
    "result=cur.execute(\"select * from student\")\n",
    "\n",
    "for i in result:\n",
    "    print(i,end=\" \")"
   ]
  },
  {
   "cell_type": "code",
   "execution_count": 1,
   "id": "cc27a988",
   "metadata": {},
   "outputs": [],
   "source": [
    "import sqlite3"
   ]
  },
  {
   "cell_type": "code",
   "execution_count": 2,
   "id": "3b7e1296",
   "metadata": {},
   "outputs": [],
   "source": [
    "db1=sqlite3.connect(\"new_studentdatabase.db\")"
   ]
  },
  {
   "cell_type": "code",
   "execution_count": 3,
   "id": "e177b6c2",
   "metadata": {},
   "outputs": [],
   "source": [
    "cur=db1.cursor()"
   ]
  },
  {
   "cell_type": "code",
   "execution_count": 5,
   "id": "23040492",
   "metadata": {},
   "outputs": [
    {
     "name": "stdout",
     "output_type": "stream",
     "text": [
      "('Ajit', 1, 50)\n",
      "('Amit', 2, 56)\n",
      "('Aniket', 3, 67)\n",
      "('barun', 4, 90)\n",
      "('rajib', 6, 98)\n",
      "('rohit', 5, 78)\n",
      "('ratan', 7, 89)\n",
      "('chintu', 8, 70)\n",
      "('chunmun', 9, 90)\n",
      "('ravi', 10, 67)\n",
      "('ratul', 11, 87)\n",
      "('ramesh', 12, 45)\n"
     ]
    }
   ],
   "source": [
    "result=cur.execute(\"select * from student\")\n",
    "\n",
    "for i in result:\n",
    "    print(i)"
   ]
  },
  {
   "cell_type": "code",
   "execution_count": 7,
   "id": "6a631a39",
   "metadata": {},
   "outputs": [],
   "source": [
    "cur.execute(\"insert into student values('jack',13,40),('jill',14,60),('jishan',15,80)\")\n",
    "db1.commit()"
   ]
  },
  {
   "cell_type": "code",
   "execution_count": 8,
   "id": "09184ef8",
   "metadata": {},
   "outputs": [
    {
     "name": "stdout",
     "output_type": "stream",
     "text": [
      "('Ajit', 1, 50)\n",
      "('Amit', 2, 56)\n",
      "('Aniket', 3, 67)\n",
      "('barun', 4, 90)\n",
      "('rajib', 6, 98)\n",
      "('rohit', 5, 78)\n",
      "('ratan', 7, 89)\n",
      "('chintu', 8, 70)\n",
      "('chunmun', 9, 90)\n",
      "('ravi', 10, 67)\n",
      "('ratul', 11, 87)\n",
      "('ramesh', 12, 45)\n",
      "('jack', 13, 40)\n",
      "('jill', 14, 60)\n",
      "('jishan', 15, 80)\n"
     ]
    }
   ],
   "source": [
    "result=cur.execute(\"select * from student\")\n",
    "\n",
    "for i in result:\n",
    "    print(i)"
   ]
  },
  {
   "cell_type": "code",
   "execution_count": 10,
   "id": "182678be",
   "metadata": {},
   "outputs": [
    {
     "name": "stdout",
     "output_type": "stream",
     "text": [
      "(56,)\n"
     ]
    }
   ],
   "source": [
    "results=cur.execute(\"select marks from student where id=2\")\n",
    "\n",
    "for i in result:\n",
    "    print (i)"
   ]
  },
  {
   "cell_type": "code",
   "execution_count": 11,
   "id": "19f2c7e6",
   "metadata": {},
   "outputs": [
    {
     "name": "stdout",
     "output_type": "stream",
     "text": [
      "('Amit', 56)\n"
     ]
    }
   ],
   "source": [
    "results=cur.execute(\"select name,marks from student where id=2\")\n",
    "\n",
    "for i in result:\n",
    "    print(i)"
   ]
  },
  {
   "cell_type": "code",
   "execution_count": 12,
   "id": "5743c705",
   "metadata": {},
   "outputs": [
    {
     "name": "stdout",
     "output_type": "stream",
     "text": [
      "('barun', 4, 90)\n",
      "('rajib', 6, 98)\n",
      "('ratan', 7, 89)\n",
      "('chunmun', 9, 90)\n",
      "('ratul', 11, 87)\n",
      "('jishan', 15, 80)\n"
     ]
    }
   ],
   "source": [
    "result=cur.execute(\"select * from student where marks>=80\")\n",
    "\n",
    "for i in result:\n",
    "    print(i)"
   ]
  },
  {
   "cell_type": "code",
   "execution_count": 14,
   "id": "7a9ebded",
   "metadata": {},
   "outputs": [
    {
     "name": "stdout",
     "output_type": "stream",
     "text": [
      "('Ajit', 1, 50)\n",
      "('Amit', 2, 56)\n",
      "('Aniket', 3, 67)\n",
      "('rohit', 5, 78)\n",
      "('chintu', 8, 70)\n",
      "('ravi', 10, 67)\n",
      "('ramesh', 12, 45)\n",
      "('jack', 13, 40)\n",
      "('jill', 14, 60)\n",
      "('jishan', 15, 80)\n"
     ]
    }
   ],
   "source": [
    "result=cur.execute(\"select * from student where marks<=80\")\n",
    "\n",
    "for i in result:\n",
    "    print(i)"
   ]
  },
  {
   "cell_type": "code",
   "execution_count": 19,
   "id": "a7bdc20e",
   "metadata": {},
   "outputs": [
    {
     "name": "stdout",
     "output_type": "stream",
     "text": [
      "('ramesh',)\n"
     ]
    }
   ],
   "source": [
    "result=cur.execute(\"select name from student where marks=45\")\n",
    "\n",
    "for i in result:\n",
    "    print(i)"
   ]
  },
  {
   "cell_type": "code",
   "execution_count": 20,
   "id": "42b2c9ff",
   "metadata": {},
   "outputs": [
    {
     "name": "stdout",
     "output_type": "stream",
     "text": [
      "(60,)\n"
     ]
    }
   ],
   "source": [
    "result=cur.execute(\"select marks from student where name='jill'\")\n",
    "\n",
    "for i in result:\n",
    "    print(i)"
   ]
  },
  {
   "cell_type": "code",
   "execution_count": 29,
   "id": "81c07952",
   "metadata": {},
   "outputs": [],
   "source": [
    "#if a is true and b is true, result will be true\n",
    "#true and false is false"
   ]
  },
  {
   "cell_type": "markdown",
   "id": "dcaf0d94",
   "metadata": {},
   "source": [
    "Fetch all Methord:"
   ]
  },
  {
   "cell_type": "code",
   "execution_count": 23,
   "id": "0dca612e",
   "metadata": {},
   "outputs": [
    {
     "name": "stdout",
     "output_type": "stream",
     "text": [
      "('Ajit', 1, 50) ('Amit', 2, 56) ('Aniket', 3, 67) ('barun', 4, 90) ('rajib', 6, 98) ('rohit', 5, 78) ('ratan', 7, 89) ('chintu', 8, 70) ('chunmun', 9, 90) ('ravi', 10, 67) ('ratul', 11, 87) ('ramesh', 12, 45) ('jack', 13, 40) ('jill', 14, 60) ('jishan', 15, 80) "
     ]
    }
   ],
   "source": [
    "result=cur.execute(\"select * from student\")\n",
    "\n",
    "for i in result:\n",
    "    print (i,end=\" \")"
   ]
  },
  {
   "cell_type": "code",
   "execution_count": 24,
   "id": "27d90203",
   "metadata": {},
   "outputs": [
    {
     "data": {
      "text/plain": [
       "[('Ajit', 1, 50),\n",
       " ('Amit', 2, 56),\n",
       " ('Aniket', 3, 67),\n",
       " ('barun', 4, 90),\n",
       " ('rajib', 6, 98),\n",
       " ('rohit', 5, 78),\n",
       " ('ratan', 7, 89),\n",
       " ('chintu', 8, 70),\n",
       " ('chunmun', 9, 90),\n",
       " ('ravi', 10, 67),\n",
       " ('ratul', 11, 87),\n",
       " ('ramesh', 12, 45),\n",
       " ('jack', 13, 40),\n",
       " ('jill', 14, 60),\n",
       " ('jishan', 15, 80)]"
      ]
     },
     "execution_count": 24,
     "metadata": {},
     "output_type": "execute_result"
    }
   ],
   "source": [
    "result=cur.execute(\"select * from student\")\n",
    "# fetchall function\n",
    "result.fetchall()"
   ]
  },
  {
   "cell_type": "markdown",
   "id": "831b520e",
   "metadata": {},
   "source": [
    "order by clause"
   ]
  },
  {
   "cell_type": "code",
   "execution_count": 25,
   "id": "e7f9821a",
   "metadata": {},
   "outputs": [
    {
     "name": "stdout",
     "output_type": "stream",
     "text": [
      "('Ajit', 1, 50)\n",
      "('Amit', 2, 56)\n",
      "('Aniket', 3, 67)\n",
      "('barun', 4, 90)\n",
      "('chintu', 8, 70)\n",
      "('chunmun', 9, 90)\n",
      "('jack', 13, 40)\n",
      "('jill', 14, 60)\n",
      "('jishan', 15, 80)\n",
      "('rajib', 6, 98)\n",
      "('ramesh', 12, 45)\n",
      "('ratan', 7, 89)\n",
      "('ratul', 11, 87)\n",
      "('ravi', 10, 67)\n",
      "('rohit', 5, 78)\n"
     ]
    }
   ],
   "source": [
    "# order by accending\n",
    "\n",
    "results=cur.execute(\"select * from student order by name asc\")\n",
    "\n",
    "for i in results:\n",
    "    print(i)"
   ]
  },
  {
   "cell_type": "code",
   "execution_count": 30,
   "id": "e2c4cbe1",
   "metadata": {},
   "outputs": [
    {
     "name": "stdout",
     "output_type": "stream",
     "text": [
      "('rohit', 5, 78) ('ravi', 10, 67) ('ratul', 11, 87) ('ratan', 7, 89) ('ramesh', 12, 45) ('rajib', 6, 98) ('jishan', 15, 80) ('jill', 14, 60) ('jack', 13, 40) ('chunmun', 9, 90) ('chintu', 8, 70) ('barun', 4, 90) ('Aniket', 3, 67) ('Amit', 2, 56) ('Ajit', 1, 50) "
     ]
    }
   ],
   "source": [
    "# order by decending\n",
    "\n",
    "result=cur.execute(\"select * from student order by name desc\")\n",
    "\n",
    "for i in result:\n",
    "    print(i,end=\" \")\n",
    "    "
   ]
  },
  {
   "cell_type": "markdown",
   "id": "aa28e1ce",
   "metadata": {},
   "source": [
    "# AND Operator"
   ]
  },
  {
   "cell_type": "code",
   "execution_count": 32,
   "id": "37da131b",
   "metadata": {},
   "outputs": [
    {
     "name": "stdout",
     "output_type": "stream",
     "text": [
      "('chintu', 8, 70)\n"
     ]
    }
   ],
   "source": [
    "#result displayed as true (true and true)\n",
    "\n",
    "results=cur.execute(\"Select * from student where name='chintu' and marks=70\")\n",
    "\n",
    "for i in result:\n",
    "    print(i)"
   ]
  },
  {
   "cell_type": "code",
   "execution_count": 34,
   "id": "829aa381",
   "metadata": {},
   "outputs": [],
   "source": [
    "# no results true and false is false\n",
    "\n",
    "results=cur.execute(\"Select * from student where name='chintu'  and marks=80\")\n",
    "\n",
    "for i in result:\n",
    "    print(i)"
   ]
  },
  {
   "cell_type": "code",
   "execution_count": 35,
   "id": "5a3c91e5",
   "metadata": {},
   "outputs": [],
   "source": [
    "# true and true is true\n",
    "\n",
    "results= cur.execute(\"select * from student where id=4 and marks=90\")"
   ]
  },
  {
   "cell_type": "code",
   "execution_count": 36,
   "id": "e43dbf1c",
   "metadata": {},
   "outputs": [
    {
     "name": "stdout",
     "output_type": "stream",
     "text": [
      "('barun', 4, 90)\n"
     ]
    }
   ],
   "source": [
    "for i in result:\n",
    "    print(i)"
   ]
  },
  {
   "cell_type": "code",
   "execution_count": 37,
   "id": "0b4a8833",
   "metadata": {},
   "outputs": [],
   "source": [
    "# true and false is false so \n",
    "\n",
    "result=cur.execute(\"select * from student where id=4 and marks= 80\")\n",
    "\n",
    "for i in result:\n",
    "    print(i)"
   ]
  },
  {
   "cell_type": "markdown",
   "id": "01dc03a0",
   "metadata": {},
   "source": [
    "# Or operator:"
   ]
  },
  {
   "cell_type": "code",
   "execution_count": 38,
   "id": "cb335d57",
   "metadata": {},
   "outputs": [
    {
     "name": "stdout",
     "output_type": "stream",
     "text": [
      "('barun', 4, 90)\n",
      "('jishan', 15, 80)\n"
     ]
    }
   ],
   "source": [
    "result=cur.execute(\"select * from student where id=4 or marks=80\")\n",
    "\n",
    "for i in result:\n",
    "    print(i)"
   ]
  },
  {
   "cell_type": "code",
   "execution_count": 40,
   "id": "819616bf",
   "metadata": {},
   "outputs": [
    {
     "name": "stdout",
     "output_type": "stream",
     "text": [
      "('Ajit', 1, 50)\n",
      "('barun', 4, 90)\n",
      "('chunmun', 9, 90)\n"
     ]
    }
   ],
   "source": [
    "result=cur.execute(\"select * from student where id=1 or marks=90\")\n",
    "\n",
    "for i in result:\n",
    "    print(i)"
   ]
  },
  {
   "cell_type": "code",
   "execution_count": 41,
   "id": "e1efb9c6",
   "metadata": {},
   "outputs": [
    {
     "data": {
      "text/plain": [
       "[('Ajit', 1, 50), ('barun', 4, 90), ('chunmun', 9, 90)]"
      ]
     },
     "execution_count": 41,
     "metadata": {},
     "output_type": "execute_result"
    }
   ],
   "source": [
    "result=cur.execute(\"select * from student where id=1 or marks=90\")\n",
    "\n",
    "result.fetchall()"
   ]
  },
  {
   "cell_type": "markdown",
   "id": "de13936c",
   "metadata": {},
   "source": [
    "# AGGREGATE FUNCTION"
   ]
  },
  {
   "cell_type": "code",
   "execution_count": 42,
   "id": "3a26ff27",
   "metadata": {},
   "outputs": [
    {
     "data": {
      "text/plain": [
       "(98,)"
      ]
     },
     "execution_count": 42,
     "metadata": {},
     "output_type": "execute_result"
    }
   ],
   "source": [
    "# FIND MAXIMUM MARKS by fetch one function\n",
    "\n",
    "results=cur.execute(\"select max(marks) from student\")\n",
    "results.fetchone()"
   ]
  },
  {
   "cell_type": "code",
   "execution_count": 46,
   "id": "6d64cfa9",
   "metadata": {},
   "outputs": [
    {
     "data": {
      "text/plain": [
       "(40,)"
      ]
     },
     "execution_count": 46,
     "metadata": {},
     "output_type": "execute_result"
    }
   ],
   "source": [
    "# find minimum marks by fetch one function\n",
    "\n",
    "results=cur.execute(\"select min(marks) from student\")\n",
    "results.fetchone()"
   ]
  },
  {
   "cell_type": "code",
   "execution_count": 48,
   "id": "afea683e",
   "metadata": {},
   "outputs": [
    {
     "data": {
      "text/plain": [
       "(71.13333333333334,)"
      ]
     },
     "execution_count": 48,
     "metadata": {},
     "output_type": "execute_result"
    }
   ],
   "source": [
    "# find avg marks by fetch one function\n",
    "\n",
    "results=cur.execute(\"select avg(marks) from student\")\n",
    "results.fetchone()"
   ]
  },
  {
   "cell_type": "code",
   "execution_count": 49,
   "id": "6ba9b7a1",
   "metadata": {},
   "outputs": [
    {
     "data": {
      "text/plain": [
       "(1067,)"
      ]
     },
     "execution_count": 49,
     "metadata": {},
     "output_type": "execute_result"
    }
   ],
   "source": [
    "# find sum\n",
    "\n",
    "results=cur.execute(\"select sum(marks) from student\")\n",
    "\n",
    "results.fetchone()"
   ]
  },
  {
   "cell_type": "code",
   "execution_count": 50,
   "id": "225b871d",
   "metadata": {},
   "outputs": [
    {
     "data": {
      "text/plain": [
       "(15,)"
      ]
     },
     "execution_count": 50,
     "metadata": {},
     "output_type": "execute_result"
    }
   ],
   "source": [
    "# count id's\n",
    "\n",
    "result=cur.execute(\"Select count(id) from student\")\n",
    "results.fetchone()"
   ]
  },
  {
   "cell_type": "code",
   "execution_count": 51,
   "id": "15aa2f17",
   "metadata": {},
   "outputs": [
    {
     "data": {
      "text/plain": [
       "[('Ajit', 1, 50),\n",
       " ('Amit', 2, 56),\n",
       " ('Aniket', 3, 67),\n",
       " ('barun', 4, 90),\n",
       " ('rajib', 6, 98),\n",
       " ('rohit', 5, 78),\n",
       " ('ratan', 7, 89),\n",
       " ('chintu', 8, 70),\n",
       " ('chunmun', 9, 90),\n",
       " ('ravi', 10, 67),\n",
       " ('ratul', 11, 87),\n",
       " ('ramesh', 12, 45),\n",
       " ('jack', 13, 40),\n",
       " ('jill', 14, 60),\n",
       " ('jishan', 15, 80)]"
      ]
     },
     "execution_count": 51,
     "metadata": {},
     "output_type": "execute_result"
    }
   ],
   "source": [
    "result=cur.execute(\"select * from student\")\n",
    "results.fetchall()"
   ]
  },
  {
   "cell_type": "code",
   "execution_count": 54,
   "id": "21871cd8",
   "metadata": {},
   "outputs": [],
   "source": [
    "# no result as no marks is nill\n",
    "\n",
    "result=cur.execute(\"select * from student where marks is null \")\n",
    "\n",
    "for i in result:\n",
    "    print(i)"
   ]
  },
  {
   "cell_type": "code",
   "execution_count": 55,
   "id": "16d3788a",
   "metadata": {},
   "outputs": [
    {
     "name": "stdout",
     "output_type": "stream",
     "text": [
      "('Ajit', 1, 50)\n",
      "('Amit', 2, 56)\n",
      "('Aniket', 3, 67)\n",
      "('barun', 4, 90)\n",
      "('rajib', 6, 98)\n",
      "('rohit', 5, 78)\n",
      "('ratan', 7, 89)\n",
      "('chintu', 8, 70)\n",
      "('chunmun', 9, 90)\n",
      "('ravi', 10, 67)\n",
      "('ratul', 11, 87)\n",
      "('ramesh', 12, 45)\n",
      "('jack', 13, 40)\n",
      "('jill', 14, 60)\n",
      "('jishan', 15, 80)\n"
     ]
    }
   ],
   "source": [
    "# \n",
    "\n",
    "result=cur.execute(\"select * from student where marks is not null\")\n",
    "\n",
    "for i in result:\n",
    "    print(i)"
   ]
  },
  {
   "cell_type": "markdown",
   "id": "27cf1fb0",
   "metadata": {},
   "source": [
    "# LIKE OPERATOR"
   ]
  },
  {
   "cell_type": "code",
   "execution_count": 57,
   "id": "6f0c737b",
   "metadata": {},
   "outputs": [],
   "source": [
    "results=cur.execute(\"select * from student where name like 'D%'\")\n",
    "\n",
    "for i in results:\n",
    "    print(i)"
   ]
  },
  {
   "cell_type": "code",
   "execution_count": 58,
   "id": "73f3dfd7",
   "metadata": {},
   "outputs": [],
   "source": [
    "result=cur.execute(\"select * from student where name like 'a%'\")"
   ]
  },
  {
   "cell_type": "code",
   "execution_count": 59,
   "id": "bae34b84",
   "metadata": {},
   "outputs": [
    {
     "name": "stdout",
     "output_type": "stream",
     "text": [
      "('Ajit', 1, 50)\n",
      "('Amit', 2, 56)\n",
      "('Aniket', 3, 67)\n"
     ]
    }
   ],
   "source": [
    "for i in results:\n",
    "    print(i)"
   ]
  },
  {
   "cell_type": "code",
   "execution_count": 60,
   "id": "41e6b929",
   "metadata": {},
   "outputs": [
    {
     "name": "stdout",
     "output_type": "stream",
     "text": [
      "('barun', 4, 90)\n",
      "('ratan', 7, 89)\n",
      "('chunmun', 9, 90)\n",
      "('jishan', 15, 80)\n"
     ]
    }
   ],
   "source": [
    "result=cur.execute(\"select * from student where name like '%n'\")\n",
    "\n",
    "for i in results:\n",
    "    print(i)"
   ]
  },
  {
   "cell_type": "code",
   "execution_count": 62,
   "id": "830c8b30",
   "metadata": {},
   "outputs": [
    {
     "name": "stdout",
     "output_type": "stream",
     "text": [
      "('chunmun', 9, 90)\n"
     ]
    }
   ],
   "source": [
    "result=cur.execute(\"select * from student where name like '%nm%' \")\n",
    "\n",
    "for i in results:\n",
    "    print(i)"
   ]
  },
  {
   "cell_type": "code",
   "execution_count": 64,
   "id": "448c46d0",
   "metadata": {},
   "outputs": [
    {
     "name": "stdout",
     "output_type": "stream",
     "text": [
      "('Ajit', 1, 50) ('Amit', 2, 56) ('Aniket', 3, 67) ('rajib', 6, 98) ('rohit', 5, 78) ('chintu', 8, 70) ('ravi', 10, 67) ('jill', 14, 60) ('jishan', 15, 80) "
     ]
    }
   ],
   "source": [
    "result=cur.execute(\"select * from student where name like '%i%'\")\n",
    "\n",
    "for i in results:\n",
    "    print(i, end=\" \")"
   ]
  },
  {
   "cell_type": "code",
   "execution_count": 65,
   "id": "f42f5a6a",
   "metadata": {},
   "outputs": [
    {
     "name": "stdout",
     "output_type": "stream",
     "text": [
      "('chintu', 8, 70)\n",
      "('chunmun', 9, 90)\n"
     ]
    }
   ],
   "source": [
    "result=cur.execute(\"select * from student where name like '_h%'\")\n",
    "\n",
    "for i in results:\n",
    "    print(i)"
   ]
  },
  {
   "cell_type": "code",
   "execution_count": 66,
   "id": "1439a714",
   "metadata": {},
   "outputs": [
    {
     "name": "stdout",
     "output_type": "stream",
     "text": [
      "('chintu', 8, 70)\n"
     ]
    }
   ],
   "source": [
    "result=cur.execute(\"select * from student where marks is 70\")\n",
    "\n",
    "for i in result:\n",
    "    print(i)"
   ]
  },
  {
   "cell_type": "code",
   "execution_count": 67,
   "id": "1313f457",
   "metadata": {},
   "outputs": [
    {
     "name": "stdout",
     "output_type": "stream",
     "text": [
      "('Ajit', 1, 50) ('Amit', 2, 56) ('Aniket', 3, 67) ('barun', 4, 90) ('rajib', 6, 98) ('rohit', 5, 78) ('ratan', 7, 89) ('chunmun', 9, 90) ('ravi', 10, 67) ('ratul', 11, 87) ('ramesh', 12, 45) ('jack', 13, 40) ('jill', 14, 60) ('jishan', 15, 80) "
     ]
    }
   ],
   "source": [
    "result=cur.execute(\"select * from student where marks is not 70\")\n",
    "\n",
    "for i in result:\n",
    "    print(i,end=\" \")"
   ]
  },
  {
   "cell_type": "code",
   "execution_count": 74,
   "id": "c3c419ed",
   "metadata": {},
   "outputs": [
    {
     "name": "stdout",
     "output_type": "stream",
     "text": [
      "('Amit', 2, 56)\n",
      "('Aniket', 3, 67)\n",
      "('barun', 4, 90)\n",
      "('rajib', 6, 98)\n",
      "('rohit', 5, 78)\n",
      "('ratan', 7, 89)\n",
      "('chintu', 8, 70)\n",
      "('chunmun', 9, 90)\n",
      "('ravi', 10, 67)\n",
      "('ratul', 11, 87)\n",
      "('ramesh', 12, 45)\n",
      "('jack', 13, 40)\n",
      "('jill', 14, 60)\n",
      "('jishan', 15, 100)\n"
     ]
    }
   ],
   "source": [
    "results=cur.execute(\"select * from student where name is not 'Ajit'\")\n",
    "\n",
    "for i in results:\n",
    "    print(i)"
   ]
  },
  {
   "cell_type": "markdown",
   "id": "4f1586a8",
   "metadata": {},
   "source": [
    "# Update record:"
   ]
  },
  {
   "cell_type": "code",
   "execution_count": 71,
   "id": "4799a9eb",
   "metadata": {},
   "outputs": [],
   "source": [
    "# update(table) set(column name)= (new value) where id=(value)\n",
    "\n",
    "# example: update student set marks=81 where id=4"
   ]
  },
  {
   "cell_type": "code",
   "execution_count": 73,
   "id": "8c7f6510",
   "metadata": {},
   "outputs": [],
   "source": [
    "# update the record\n",
    "\n",
    "sql=\"update student set marks=100 where id=15\"\n",
    "cur.execute(sql)\n",
    "db1.commit()"
   ]
  },
  {
   "cell_type": "code",
   "execution_count": 75,
   "id": "b1252db6",
   "metadata": {},
   "outputs": [],
   "source": [
    "sql=\"update student set marks=100 where name='jack'\"\n",
    "cur.execute(sql)\n",
    "db1.commit()"
   ]
  },
  {
   "cell_type": "code",
   "execution_count": 76,
   "id": "578f68e7",
   "metadata": {},
   "outputs": [
    {
     "name": "stdout",
     "output_type": "stream",
     "text": [
      "('Ajit', 1, 50)\n",
      "('Amit', 2, 56)\n",
      "('Aniket', 3, 67)\n",
      "('barun', 4, 90)\n",
      "('rajib', 6, 98)\n",
      "('rohit', 5, 78)\n",
      "('ratan', 7, 89)\n",
      "('chintu', 8, 70)\n",
      "('chunmun', 9, 90)\n",
      "('ravi', 10, 67)\n",
      "('ratul', 11, 87)\n",
      "('ramesh', 12, 45)\n",
      "('jack', 13, 100)\n",
      "('jill', 14, 60)\n",
      "('jishan', 15, 100)\n"
     ]
    }
   ],
   "source": [
    "results=cur.execute(\"select * from student\")\n",
    "\n",
    "for i in result:\n",
    "    print(i)"
   ]
  },
  {
   "cell_type": "code",
   "execution_count": 77,
   "id": "3b454889",
   "metadata": {},
   "outputs": [],
   "source": [
    "# multiple record update\n",
    "sql=\"update student set marks=100 where id in(1,2)\"\n",
    "cur.execute(sql)\n",
    "db1.commit()"
   ]
  },
  {
   "cell_type": "code",
   "execution_count": 1,
   "id": "b899d103",
   "metadata": {},
   "outputs": [
    {
     "ename": "NameError",
     "evalue": "name 'cur' is not defined",
     "output_type": "error",
     "traceback": [
      "\u001b[1;31m---------------------------------------------------------------------------\u001b[0m",
      "\u001b[1;31mNameError\u001b[0m                                 Traceback (most recent call last)",
      "\u001b[1;32mC:\\Users\\ABHIJI~1\\AppData\\Local\\Temp/ipykernel_10620/2488412389.py\u001b[0m in \u001b[0;36m<module>\u001b[1;34m\u001b[0m\n\u001b[1;32m----> 1\u001b[1;33m \u001b[0mresults\u001b[0m\u001b[1;33m=\u001b[0m\u001b[0mcur\u001b[0m\u001b[1;33m.\u001b[0m\u001b[0mexecute\u001b[0m\u001b[1;33m(\u001b[0m\u001b[1;34m\"select * from student\"\u001b[0m\u001b[1;33m)\u001b[0m\u001b[1;33m\u001b[0m\u001b[1;33m\u001b[0m\u001b[0m\n\u001b[0m\u001b[0;32m      2\u001b[0m \u001b[1;33m\u001b[0m\u001b[0m\n\u001b[0;32m      3\u001b[0m \u001b[1;32mfor\u001b[0m \u001b[0mi\u001b[0m \u001b[1;32min\u001b[0m \u001b[0mresult\u001b[0m\u001b[1;33m:\u001b[0m\u001b[1;33m\u001b[0m\u001b[1;33m\u001b[0m\u001b[0m\n\u001b[0;32m      4\u001b[0m     \u001b[0mprint\u001b[0m\u001b[1;33m(\u001b[0m\u001b[0mi\u001b[0m\u001b[1;33m,\u001b[0m\u001b[0mend\u001b[0m\u001b[1;33m=\u001b[0m\u001b[1;34m\" \"\u001b[0m\u001b[1;33m)\u001b[0m\u001b[1;33m\u001b[0m\u001b[1;33m\u001b[0m\u001b[0m\n",
      "\u001b[1;31mNameError\u001b[0m: name 'cur' is not defined"
     ]
    }
   ],
   "source": [
    "results=cur.execute(\"select * from student\")\n",
    "\n",
    "for i in result:\n",
    "    print(i,end=\" \")"
   ]
  },
  {
   "cell_type": "code",
   "execution_count": 1,
   "id": "3fcd3956",
   "metadata": {},
   "outputs": [],
   "source": [
    "import sqlite3"
   ]
  },
  {
   "cell_type": "code",
   "execution_count": 2,
   "id": "42b54c52",
   "metadata": {},
   "outputs": [],
   "source": [
    "db1=sqlite3.connect(\"new_studentdatabase.db\")"
   ]
  },
  {
   "cell_type": "code",
   "execution_count": 4,
   "id": "bab56c58",
   "metadata": {},
   "outputs": [],
   "source": [
    "cur=db1.cursor()"
   ]
  },
  {
   "cell_type": "code",
   "execution_count": 5,
   "id": "ce038b43",
   "metadata": {},
   "outputs": [
    {
     "name": "stdout",
     "output_type": "stream",
     "text": [
      "('Ajit', 1, 100) ('Amit', 2, 100) ('Aniket', 3, 67) ('barun', 4, 90) ('rajib', 6, 98) ('rohit', 5, 78) ('ratan', 7, 89) ('chintu', 8, 70) ('chunmun', 9, 90) ('ravi', 10, 67) ('ratul', 11, 87) ('ramesh', 12, 45) ('jack', 13, 100) ('jill', 14, 60) ('jishan', 15, 100) "
     ]
    }
   ],
   "source": [
    "result=cur.execute(\"select * from student\")\n",
    "\n",
    "for i in result:\n",
    "    print(i,end=\" \")"
   ]
  },
  {
   "cell_type": "code",
   "execution_count": 8,
   "id": "8cf303a6",
   "metadata": {},
   "outputs": [],
   "source": [
    "sql=\"update student set marks=100 where id in(12)\"\n",
    "cur.execute(sql)\n",
    "db1.commit()"
   ]
  },
  {
   "cell_type": "code",
   "execution_count": 10,
   "id": "958c1fa6",
   "metadata": {},
   "outputs": [
    {
     "name": "stdout",
     "output_type": "stream",
     "text": [
      "(90, 'barun', 4)\n",
      "(98, 'rajib', 6)\n",
      "(89, 'ratan', 7)\n",
      "(90, 'chunmun', 9)\n",
      "(87, 'ratul', 11)\n",
      "(100, 'ramesh', 12)\n",
      "(100, 'jack', 13)\n",
      "(100, 'jishan', 15)\n"
     ]
    }
   ],
   "source": [
    "result=cur.execute(\"select marks,name,id from student where id>=2 and marks>=80\")\n",
    "\n",
    "for i in result:\n",
    "    print(i)"
   ]
  },
  {
   "cell_type": "code",
   "execution_count": 5,
   "id": "a95768cf",
   "metadata": {},
   "outputs": [],
   "source": [
    "import sqlite3"
   ]
  },
  {
   "cell_type": "code",
   "execution_count": 7,
   "id": "fabeb5d4",
   "metadata": {},
   "outputs": [],
   "source": [
    "db1=sqlite3.connect(\"new_studentdatabase.db\")"
   ]
  },
  {
   "cell_type": "code",
   "execution_count": 8,
   "id": "34b5b95c",
   "metadata": {},
   "outputs": [],
   "source": [
    "cur=db1.cursor()"
   ]
  },
  {
   "cell_type": "markdown",
   "id": "6f28e8ec",
   "metadata": {},
   "source": [
    "# delete any unwanted records:"
   ]
  },
  {
   "cell_type": "markdown",
   "id": "ba2303b8",
   "metadata": {},
   "source": [
    "FORMAT\n",
    "\n",
    "#sql=\"delete from student where id=6\"\n",
    "\n",
    "#cur.execute(sql)"
   ]
  },
  {
   "cell_type": "code",
   "execution_count": 17,
   "id": "435b4e15",
   "metadata": {},
   "outputs": [],
   "source": [
    "sql=\"delete from student where id=6\"\n",
    "cur.execute(sql)\n",
    "db1.commit()"
   ]
  },
  {
   "cell_type": "code",
   "execution_count": 18,
   "id": "4aca9734",
   "metadata": {},
   "outputs": [
    {
     "data": {
      "text/plain": [
       "<function Cursor.fetchall>"
      ]
     },
     "execution_count": 18,
     "metadata": {},
     "output_type": "execute_result"
    }
   ],
   "source": [
    "result=cur.execute(\"select * from student\")\n",
    "result.fetchall"
   ]
  },
  {
   "cell_type": "code",
   "execution_count": 19,
   "id": "4f7c3735",
   "metadata": {},
   "outputs": [
    {
     "name": "stdout",
     "output_type": "stream",
     "text": [
      "('Ajit', 1, 100)\n",
      "('Amit', 2, 20)\n",
      "('Aniket', 3, 67)\n",
      "('barun', 4, 90)\n",
      "('rohit', 5, 78)\n",
      "('ratan', 7, 89)\n",
      "('chintu', 8, 70)\n",
      "('chunmun', 9, 90)\n",
      "('ravi', 10, 67)\n",
      "('ratul', 11, 87)\n",
      "('ramesh', 12, 100)\n",
      "('jack', 13, 100)\n",
      "('jill', 14, 60)\n",
      "('jishan', 15, 100)\n"
     ]
    }
   ],
   "source": [
    "for i in result:\n",
    "    print(i)"
   ]
  },
  {
   "cell_type": "code",
   "execution_count": 1,
   "id": "741a02ae",
   "metadata": {},
   "outputs": [],
   "source": [
    "import sqlite3"
   ]
  },
  {
   "cell_type": "code",
   "execution_count": 2,
   "id": "e2514a1b",
   "metadata": {},
   "outputs": [],
   "source": [
    "db1=sqlite3.connect(\"new_studentdatabase.db\")"
   ]
  },
  {
   "cell_type": "code",
   "execution_count": 3,
   "id": "8d4f4b7b",
   "metadata": {},
   "outputs": [],
   "source": [
    "cur=db1.cursor()"
   ]
  },
  {
   "cell_type": "code",
   "execution_count": 4,
   "id": "323f1685",
   "metadata": {},
   "outputs": [
    {
     "name": "stdout",
     "output_type": "stream",
     "text": [
      "('Ajit', 1, 100)\n",
      "('Amit', 2, 20)\n",
      "('Aniket', 3, 67)\n",
      "('barun', 4, 90)\n",
      "('rohit', 5, 78)\n",
      "('ratan', 7, 89)\n",
      "('chintu', 8, 70)\n",
      "('chunmun', 9, 90)\n",
      "('ravi', 10, 67)\n",
      "('ratul', 11, 87)\n",
      "('ramesh', 12, 100)\n",
      "('jack', 13, 100)\n",
      "('jill', 14, 60)\n",
      "('jishan', 15, 100)\n"
     ]
    }
   ],
   "source": [
    "result=cur.execute(\"select * from student\")\n",
    "\n",
    "for i in result:\n",
    "    print(i)"
   ]
  },
  {
   "cell_type": "code",
   "execution_count": 6,
   "id": "37f784a8",
   "metadata": {},
   "outputs": [],
   "source": [
    "sql=\"update student set marks=90 where id=12\"\n",
    "\n",
    "cur.execute(sql)\n",
    "db1.commit()"
   ]
  },
  {
   "cell_type": "code",
   "execution_count": 8,
   "id": "80d0b16f",
   "metadata": {},
   "outputs": [
    {
     "data": {
      "text/plain": [
       "[('Ajit', 1, 100),\n",
       " ('Amit', 2, 20),\n",
       " ('Aniket', 3, 67),\n",
       " ('barun', 4, 90),\n",
       " ('rohit', 5, 78),\n",
       " ('ratan', 7, 89),\n",
       " ('chintu', 8, 70),\n",
       " ('chunmun', 9, 90),\n",
       " ('ravi', 10, 67),\n",
       " ('ratul', 11, 87),\n",
       " ('ramesh', 12, 90),\n",
       " ('jack', 13, 100),\n",
       " ('jill', 14, 60),\n",
       " ('jishan', 15, 100)]"
      ]
     },
     "execution_count": 8,
     "metadata": {},
     "output_type": "execute_result"
    }
   ],
   "source": [
    "result=cur.execute(\"select * from student\")\n",
    "\n",
    "result.fetchall()"
   ]
  },
  {
   "cell_type": "code",
   "execution_count": 9,
   "id": "1af8552a",
   "metadata": {},
   "outputs": [
    {
     "data": {
      "text/plain": [
       "[('Ajit', 1, 100),\n",
       " ('Amit', 2, 20),\n",
       " ('Aniket', 3, 67),\n",
       " ('barun', 4, 90),\n",
       " ('rohit', 5, 78),\n",
       " ('ratan', 7, 89),\n",
       " ('chintu', 8, 70),\n",
       " ('chunmun', 9, 90),\n",
       " ('ravi', 10, 67),\n",
       " ('ratul', 11, 87),\n",
       " ('ramesh', 12, 90),\n",
       " ('jack', 13, 100),\n",
       " ('jill', 14, 60),\n",
       " ('jishan', 15, 100)]"
      ]
     },
     "execution_count": 9,
     "metadata": {},
     "output_type": "execute_result"
    }
   ],
   "source": [
    "result=cur.execute(\"select * from student\")\n",
    "\n",
    "result.fetchall()"
   ]
  },
  {
   "cell_type": "code",
   "execution_count": 11,
   "id": "abce9c54",
   "metadata": {},
   "outputs": [],
   "source": [
    "sql=\"delete from student where id in(15,14)\"\n",
    "\n",
    "cur.execute(sql)\n",
    "db1.commit()"
   ]
  },
  {
   "cell_type": "code",
   "execution_count": 12,
   "id": "8cead2fd",
   "metadata": {},
   "outputs": [],
   "source": [
    "r=cur.execute(\"Select * from student\")"
   ]
  },
  {
   "cell_type": "code",
   "execution_count": 13,
   "id": "a5430c5d",
   "metadata": {},
   "outputs": [
    {
     "data": {
      "text/plain": [
       "[('Ajit', 1, 100),\n",
       " ('Amit', 2, 20),\n",
       " ('Aniket', 3, 67),\n",
       " ('barun', 4, 90),\n",
       " ('rohit', 5, 78),\n",
       " ('ratan', 7, 89),\n",
       " ('chintu', 8, 70),\n",
       " ('chunmun', 9, 90),\n",
       " ('ravi', 10, 67),\n",
       " ('ratul', 11, 87),\n",
       " ('ramesh', 12, 90),\n",
       " ('jack', 13, 100)]"
      ]
     },
     "execution_count": 13,
     "metadata": {},
     "output_type": "execute_result"
    }
   ],
   "source": [
    "# after fectching 14,15 got deleted\n",
    "\n",
    "r.fetchall()"
   ]
  },
  {
   "cell_type": "markdown",
   "id": "636a03ba",
   "metadata": {},
   "source": [
    "# DROP TABLE student"
   ]
  },
  {
   "cell_type": "code",
   "execution_count": 14,
   "id": "8c2a40c7",
   "metadata": {},
   "outputs": [],
   "source": [
    "# delete command is used to delete a row \n",
    "\n",
    "# drop command \n",
    "\n",
    "sql='drop table student'\n",
    "results=cur.execute(sql)"
   ]
  },
  {
   "cell_type": "code",
   "execution_count": 15,
   "id": "f3990dcd",
   "metadata": {
    "scrolled": true
   },
   "outputs": [
    {
     "ename": "OperationalError",
     "evalue": "no such table: student",
     "output_type": "error",
     "traceback": [
      "\u001b[1;31m---------------------------------------------------------------------------\u001b[0m",
      "\u001b[1;31mOperationalError\u001b[0m                          Traceback (most recent call last)",
      "\u001b[1;32mC:\\Users\\ABHIJI~1\\AppData\\Local\\Temp/ipykernel_21672/2832442896.py\u001b[0m in \u001b[0;36m<module>\u001b[1;34m\u001b[0m\n\u001b[1;32m----> 1\u001b[1;33m \u001b[0mresults\u001b[0m\u001b[1;33m=\u001b[0m\u001b[0mcur\u001b[0m\u001b[1;33m.\u001b[0m\u001b[0mexecute\u001b[0m\u001b[1;33m(\u001b[0m\u001b[1;34m'select * from student'\u001b[0m\u001b[1;33m)\u001b[0m\u001b[1;33m\u001b[0m\u001b[1;33m\u001b[0m\u001b[0m\n\u001b[0m\u001b[0;32m      2\u001b[0m \u001b[0mresults\u001b[0m\u001b[1;33m.\u001b[0m\u001b[0mfetchall\u001b[0m\u001b[1;33m(\u001b[0m\u001b[1;33m)\u001b[0m\u001b[1;33m\u001b[0m\u001b[1;33m\u001b[0m\u001b[0m\n",
      "\u001b[1;31mOperationalError\u001b[0m: no such table: student"
     ]
    }
   ],
   "source": [
    "results=cur.execute('select * from student')\n",
    "results.fetchall()"
   ]
  },
  {
   "cell_type": "code",
   "execution_count": 17,
   "id": "ed7da07e",
   "metadata": {},
   "outputs": [],
   "source": [
    "# \n",
    "db1.close()"
   ]
  },
  {
   "cell_type": "code",
   "execution_count": null,
   "id": "ed34455d",
   "metadata": {},
   "outputs": [],
   "source": []
  },
  {
   "cell_type": "markdown",
   "id": "621dd18d",
   "metadata": {},
   "source": [
    "# LIFE CYCLE OF TABLE:"
   ]
  },
  {
   "cell_type": "markdown",
   "id": "c240864d",
   "metadata": {},
   "source": [
    "\"\"\"\n",
    "CREATE DATABASE : import sqlite3\n",
    "                  db1=sqlit3.connect(\"new_studentdatabase.db\")\n",
    "                  \n",
    "CONNECT TO DATA BASE  : cur=db1.connect()\n",
    "\n",
    "            CREATE TABLE and INSERTION ON TABLE : \n",
    "\n",
    "cur.execute(\"create table student(name text,id int primarykey, marks notnull)\")\n",
    "cur.execute(\"insert into student values('chintu',8,70),('chunmun',9,90),('ravi',10,67),('ratul',11,87),('ramesh',12,45)\")\n",
    "db1.commit()\n",
    "\n",
    "QUARY ON TABLE  :   r=cur.execute(\"select name,id where marks= 90\")\n",
    "\n",
    "UPDATE OF TABLE : sql=\"update student set marks=100 where id in(12)\"\n",
    "                  cur.execute(sql)\n",
    "                  db1.commit()\n",
    "\n",
    "DELETE A ROW  : sql=\"delete from student where id=13\"\n",
    "\n",
    "DELETE A TABLE: sql=\"delete from student where id in(15,14)\"\n",
    "                cur.execute(sql)\n",
    "                db1.commit()\n",
    "\n",
    "DROP THE DATABASE= sql='drop table student'\n",
    "                   results=cur.execute(sql)\n",
    "\n",
    "CLOSE DATA BASE= DB1.CLOSE\n",
    "\n",
    "\n",
    "\"\"\""
   ]
  },
  {
   "cell_type": "markdown",
   "id": "9250f26e",
   "metadata": {},
   "source": [
    "# Adding data in table with CSV (coma seperated values) file directly "
   ]
  },
  {
   "cell_type": "code",
   "execution_count": 18,
   "id": "8c13d6b5",
   "metadata": {},
   "outputs": [],
   "source": [
    "# importing sql lite\n",
    "\n",
    "import sqlite3"
   ]
  },
  {
   "cell_type": "code",
   "execution_count": 21,
   "id": "5cfa6525",
   "metadata": {},
   "outputs": [],
   "source": [
    "# creating data base\n",
    "db=sqlite3.connect(\"D:\\MySQLite3_database\\scores_database.db\")\n",
    "\n",
    "# connecting to cursor\n",
    "cur=db.cursor()"
   ]
  },
  {
   "cell_type": "code",
   "execution_count": 22,
   "id": "4a199c29",
   "metadata": {},
   "outputs": [
    {
     "data": {
      "text/plain": [
       "<sqlite3.Cursor at 0x2addf8a3490>"
      ]
     },
     "execution_count": 22,
     "metadata": {},
     "output_type": "execute_result"
    }
   ],
   "source": [
    "# creating table\n",
    "cur.execute(\"CREATE TABLE score(gender TEXT, student_id INT PRIMARY KEY, marks int)\")"
   ]
  },
  {
   "cell_type": "code",
   "execution_count": 24,
   "id": "84b7f28d",
   "metadata": {},
   "outputs": [
    {
     "data": {
      "text/plain": [
       "<sqlite3.Cursor at 0x2addf8a3490>"
      ]
     },
     "execution_count": 24,
     "metadata": {},
     "output_type": "execute_result"
    }
   ],
   "source": [
    "# insert records into the table.(single record inserting)\n",
    "cur.execute(\"INSERT INTO score(gender, student_id, marks) values('Male',100,55)\")"
   ]
  },
  {
   "cell_type": "code",
   "execution_count": 25,
   "id": "6034cebe",
   "metadata": {},
   "outputs": [],
   "source": [
    "# save the records permenently.(If you don't commit,next time you will not see the records in the table)\n",
    "db.commit()"
   ]
  },
  {
   "cell_type": "code",
   "execution_count": 26,
   "id": "dc34b0c6",
   "metadata": {},
   "outputs": [
    {
     "name": "stdout",
     "output_type": "stream",
     "text": [
      "1 Records inserted\n"
     ]
    }
   ],
   "source": [
    "print(cur.rowcount, \"Records inserted\")"
   ]
  },
  {
   "cell_type": "markdown",
   "id": "6b70a777",
   "metadata": {},
   "source": [
    "# inserting records from csv file"
   ]
  },
  {
   "cell_type": "code",
   "execution_count": 31,
   "id": "1bffbeb4",
   "metadata": {},
   "outputs": [
    {
     "name": "stdout",
     "output_type": "stream",
     "text": [
      "10 Records inserted\n"
     ]
    }
   ],
   "source": [
    "# open scores_file.csv file in read mode\n",
    "\n",
    "with open('scores_file.csv','r')as file:\n",
    "    total_records=0\n",
    "    for row in file:\n",
    "        cur.execute(\"insert into score values(?,?,?)\",row.split(\",\"))\n",
    "        db.commit()\n",
    "        total_records+=1\n",
    "print(total_records,'Records inserted')    \n",
    "    "
   ]
  },
  {
   "cell_type": "code",
   "execution_count": 34,
   "id": "babfda91",
   "metadata": {},
   "outputs": [
    {
     "name": "stdout",
     "output_type": "stream",
     "text": [
      "('Male', 100, 55)\n",
      "('female', 101, 50)\n",
      "('male', 102, 67)\n",
      "('female', 103, 78)\n",
      "('male', 104, 79)\n",
      "('male', 105, 89)\n",
      "('female', 106, 98)\n",
      "('male', 107, 99)\n",
      "('male', 108, 45)\n",
      "('male', 109, 87)\n",
      "('female', 110, 69)\n"
     ]
    }
   ],
   "source": [
    "result=cur.execute(\"select * from score\")\n",
    "for row in result:\n",
    "    print(row)"
   ]
  },
  {
   "cell_type": "code",
   "execution_count": 37,
   "id": "640bbda3",
   "metadata": {},
   "outputs": [],
   "source": [
    "sql=\"select * from score where student_id = 104\""
   ]
  },
  {
   "cell_type": "code",
   "execution_count": 38,
   "id": "a1884d63",
   "metadata": {},
   "outputs": [
    {
     "name": "stdout",
     "output_type": "stream",
     "text": [
      "('male', 104, 79)\n"
     ]
    }
   ],
   "source": [
    "result=cur.execute(sql)\n",
    "\n",
    "for i in result:\n",
    "    print(i)"
   ]
  },
  {
   "cell_type": "markdown",
   "id": "58d7ea54",
   "metadata": {},
   "source": [
    "How to change the order of records(Inscreasing or decreasing)"
   ]
  },
  {
   "cell_type": "code",
   "execution_count": 40,
   "id": "8818c834",
   "metadata": {},
   "outputs": [
    {
     "name": "stdout",
     "output_type": "stream",
     "text": [
      "('male', 107, 99)\n",
      "('female', 106, 98)\n",
      "('male', 105, 89)\n",
      "('male', 109, 87)\n",
      "('male', 104, 79)\n",
      "('female', 103, 78)\n",
      "('female', 110, 69)\n",
      "('male', 102, 67)\n",
      "('Male', 100, 55)\n",
      "('female', 101, 50)\n",
      "('male', 108, 45)\n"
     ]
    }
   ],
   "source": [
    "result=cur.execute(\"SELECT * FROM score ORDER BY marks desc \")\n",
    "for i in result:\n",
    "    print(i)"
   ]
  },
  {
   "cell_type": "code",
   "execution_count": 43,
   "id": "115d2494",
   "metadata": {},
   "outputs": [
    {
     "name": "stdout",
     "output_type": "stream",
     "text": [
      "('female', 110, 69)\n",
      "('male', 109, 87)\n",
      "('male', 108, 45)\n",
      "('male', 107, 99)\n",
      "('female', 106, 98)\n",
      "('male', 105, 89)\n",
      "('male', 104, 79)\n",
      "('female', 103, 78)\n",
      "('male', 102, 67)\n",
      "('female', 101, 50)\n",
      "('Male', 100, 55)\n"
     ]
    }
   ],
   "source": [
    "# descending\n",
    "\n",
    "result=cur.execute(\"SELECT * FROM score ORDER BY student_id desc\")\n",
    "\n",
    "for i in result:\n",
    "    print(i)"
   ]
  },
  {
   "cell_type": "code",
   "execution_count": 44,
   "id": "e25804d9",
   "metadata": {},
   "outputs": [],
   "source": [
    "# single record update:\n",
    "\n",
    "sql=\"UPDATE score SET MARKS = 90 WHERE student_id=100\""
   ]
  },
  {
   "cell_type": "code",
   "execution_count": 47,
   "id": "3ab9c54d",
   "metadata": {},
   "outputs": [
    {
     "data": {
      "text/plain": [
       "<sqlite3.Cursor at 0x2addf8a3490>"
      ]
     },
     "execution_count": 47,
     "metadata": {},
     "output_type": "execute_result"
    }
   ],
   "source": [
    "cur.execute(sql)"
   ]
  },
  {
   "cell_type": "code",
   "execution_count": 50,
   "id": "45be5e5c",
   "metadata": {},
   "outputs": [
    {
     "name": "stdout",
     "output_type": "stream",
     "text": [
      "('male', 108, 45)\n",
      "('female', 101, 50)\n",
      "('male', 102, 67)\n",
      "('female', 110, 69)\n",
      "('female', 103, 78)\n",
      "('male', 104, 79)\n",
      "('male', 109, 87)\n",
      "('male', 105, 89)\n",
      "('Male', 100, 90)\n",
      "('female', 106, 98)\n",
      "('male', 107, 99)\n"
     ]
    }
   ],
   "source": [
    "# accending\n",
    "\n",
    "result=cur.execute(\"SELECT * FROM score ORDER BY marks asc\")\n",
    "\n",
    "for i in result:\n",
    "    print(i)"
   ]
  },
  {
   "cell_type": "code",
   "execution_count": 54,
   "id": "bfa2e277",
   "metadata": {},
   "outputs": [
    {
     "name": "stdout",
     "output_type": "stream",
     "text": [
      "minimum marks (45,)\n"
     ]
    }
   ],
   "source": [
    "# minimum\n",
    "\n",
    "result= cur.execute(\"SELECT MIN(marks) FROM score\")\n",
    "print('minimum marks',result.fetchone())"
   ]
  },
  {
   "cell_type": "code",
   "execution_count": 55,
   "id": "411f5204",
   "metadata": {},
   "outputs": [
    {
     "name": "stdout",
     "output_type": "stream",
     "text": [
      "maximum marks = (99,)\n"
     ]
    }
   ],
   "source": [
    "# maximum\n",
    "\n",
    "result= cur.execute(\"SELECT MAX(marks) FROM score\")\n",
    "print('maximum marks =',result.fetchone())"
   ]
  },
  {
   "cell_type": "code",
   "execution_count": 56,
   "id": "d6f09467",
   "metadata": {},
   "outputs": [],
   "source": [
    "db.close()\n",
    "\n",
    "balaji agro, dealshare\n",
    "\n",
    "nungi\n",
    "\n",
    "()\n"
   ]
  }
 ],
 "metadata": {
  "kernelspec": {
   "display_name": "Python 3 (ipykernel)",
   "language": "python",
   "name": "python3"
  },
  "language_info": {
   "codemirror_mode": {
    "name": "ipython",
    "version": 3
   },
   "file_extension": ".py",
   "mimetype": "text/x-python",
   "name": "python",
   "nbconvert_exporter": "python",
   "pygments_lexer": "ipython3",
   "version": "3.9.7"
  }
 },
 "nbformat": 4,
 "nbformat_minor": 5
}
