{
 "cells": [
  {
   "cell_type": "markdown",
   "id": "d773a3a5",
   "metadata": {},
   "source": [
    "# Exercise 2"
   ]
  },
  {
   "cell_type": "code",
   "execution_count": 1,
   "id": "04b349eb",
   "metadata": {},
   "outputs": [],
   "source": [
    "import sqlite3"
   ]
  },
  {
   "cell_type": "code",
   "execution_count": 2,
   "id": "8c8c0cce",
   "metadata": {},
   "outputs": [],
   "source": [
    "db=sqlite3.connect(\"G:/Data_Base/sports_database.db\")"
   ]
  },
  {
   "cell_type": "code",
   "execution_count": 3,
   "id": "486ff047",
   "metadata": {},
   "outputs": [],
   "source": [
    "cur=db.cursor()"
   ]
  },
  {
   "cell_type": "code",
   "execution_count": 4,
   "id": "a65aab46",
   "metadata": {},
   "outputs": [
    {
     "ename": "OperationalError",
     "evalue": "table Sports already exists",
     "output_type": "error",
     "traceback": [
      "\u001b[1;31m---------------------------------------------------------------------------\u001b[0m",
      "\u001b[1;31mOperationalError\u001b[0m                          Traceback (most recent call last)",
      "Input \u001b[1;32mIn [4]\u001b[0m, in \u001b[0;36m<cell line: 1>\u001b[1;34m()\u001b[0m\n\u001b[1;32m----> 1\u001b[0m \u001b[43mcur\u001b[49m\u001b[38;5;241;43m.\u001b[39;49m\u001b[43mexecute\u001b[49m\u001b[43m(\u001b[49m\u001b[38;5;124;43m\"\u001b[39;49m\u001b[38;5;124;43mCreate table Sports(Name text unique ,Id int Primary key ,Country text not null )\u001b[39;49m\u001b[38;5;124;43m\"\u001b[39;49m\u001b[43m)\u001b[49m\n",
      "\u001b[1;31mOperationalError\u001b[0m: table Sports already exists"
     ]
    }
   ],
   "source": [
    "cur.execute(\"Create table Sports(Name text unique ,Id int Primary key ,Country text not null )\")"
   ]
  },
  {
   "cell_type": "code",
   "execution_count": 5,
   "id": "ac40da75",
   "metadata": {},
   "outputs": [
    {
     "ename": "IntegrityError",
     "evalue": "UNIQUE constraint failed: Sports.Id",
     "output_type": "error",
     "traceback": [
      "\u001b[1;31m---------------------------------------------------------------------------\u001b[0m",
      "\u001b[1;31mIntegrityError\u001b[0m                            Traceback (most recent call last)",
      "Input \u001b[1;32mIn [5]\u001b[0m, in \u001b[0;36m<cell line: 1>\u001b[1;34m()\u001b[0m\n\u001b[1;32m----> 1\u001b[0m \u001b[43mcur\u001b[49m\u001b[38;5;241;43m.\u001b[39;49m\u001b[43mexecute\u001b[49m\u001b[43m(\u001b[49m\u001b[38;5;124;43m\"\u001b[39;49m\u001b[38;5;124;43minsert into sports values(\u001b[39;49m\u001b[38;5;124;43m'\u001b[39;49m\u001b[38;5;124;43mRiaz\u001b[39;49m\u001b[38;5;124;43m'\u001b[39;49m\u001b[38;5;124;43m,101,\u001b[39;49m\u001b[38;5;124;43m'\u001b[39;49m\u001b[38;5;124;43mAustralia\u001b[39;49m\u001b[38;5;124;43m'\u001b[39;49m\u001b[38;5;124;43m),(\u001b[39;49m\u001b[38;5;124;43m'\u001b[39;49m\u001b[38;5;124;43mJohn\u001b[39;49m\u001b[38;5;124;43m'\u001b[39;49m\u001b[38;5;124;43m,102,\u001b[39;49m\u001b[38;5;124;43m'\u001b[39;49m\u001b[38;5;124;43mAmerica\u001b[39;49m\u001b[38;5;124;43m'\u001b[39;49m\u001b[38;5;124;43m),(\u001b[39;49m\u001b[38;5;124;43m'\u001b[39;49m\u001b[38;5;124;43mShewag\u001b[39;49m\u001b[38;5;124;43m'\u001b[39;49m\u001b[38;5;124;43m,103,\u001b[39;49m\u001b[38;5;124;43m'\u001b[39;49m\u001b[38;5;124;43mIndia\u001b[39;49m\u001b[38;5;124;43m'\u001b[39;49m\u001b[38;5;124;43m)\u001b[39;49m\u001b[38;5;124;43m\"\u001b[39;49m\u001b[43m)\u001b[49m\n",
      "\u001b[1;31mIntegrityError\u001b[0m: UNIQUE constraint failed: Sports.Id"
     ]
    }
   ],
   "source": [
    "cur.execute(\"insert into sports values('Riaz',101,'Australia'),('John',102,'America'),('Shewag',103,'India')\")"
   ]
  },
  {
   "cell_type": "code",
   "execution_count": 6,
   "id": "5f90d393",
   "metadata": {},
   "outputs": [],
   "source": [
    "db.commit()"
   ]
  },
  {
   "cell_type": "code",
   "execution_count": 7,
   "id": "1b1c79b5",
   "metadata": {},
   "outputs": [
    {
     "data": {
      "text/plain": [
       "[('Riaz', 101, 'Australia'),\n",
       " ('John', 102, 'America'),\n",
       " ('Shewag', 103, 'India')]"
      ]
     },
     "execution_count": 7,
     "metadata": {},
     "output_type": "execute_result"
    }
   ],
   "source": [
    "r=cur.execute(\"Select * from sports\")\n",
    "r.fetchall()"
   ]
  },
  {
   "cell_type": "markdown",
   "id": "84df3580",
   "metadata": {},
   "source": [
    "# EMPLOYEE DATABASE WITH DB AND python programing:"
   ]
  },
  {
   "cell_type": "code",
   "execution_count": 1,
   "id": "1f66d2d3",
   "metadata": {},
   "outputs": [],
   "source": [
    "import sqlite3"
   ]
  },
  {
   "cell_type": "code",
   "execution_count": 2,
   "id": "00c79c7e",
   "metadata": {},
   "outputs": [],
   "source": [
    "db=sqlite3.connect('emp_database.db')"
   ]
  },
  {
   "cell_type": "code",
   "execution_count": 3,
   "id": "1d2b9ccd",
   "metadata": {},
   "outputs": [],
   "source": [
    "# connection is provided to db and db is connected to def function.\n",
    "\n",
    "def sql_table(db):\n",
    "    cur=db.cursor()\n",
    "    cur.execute(\"create table emplist(id integer primary key, name text unqiue,salary real, department text, position text, hiredate date )\")\n",
    "    db.commit()"
   ]
  },
  {
   "cell_type": "code",
   "execution_count": 4,
   "id": "bd7d5b5c",
   "metadata": {},
   "outputs": [],
   "source": [
    "# calling function sql_table\n",
    "\n",
    "sql_table(db)"
   ]
  },
  {
   "cell_type": "code",
   "execution_count": 6,
   "id": "41042e0e",
   "metadata": {},
   "outputs": [],
   "source": [
    "cur=db.cursor()\n",
    "cur.execute(\"insert into emplist values(1,'Ankit',22000,'Hr','Recruter',2020-06-22)\")\n",
    "db.commit()"
   ]
  },
  {
   "cell_type": "code",
   "execution_count": 7,
   "id": "7313b6fa",
   "metadata": {},
   "outputs": [
    {
     "data": {
      "text/plain": [
       "[(1, 'Ankit', 22000.0, 'Hr', 'Recruter', 1992)]"
      ]
     },
     "execution_count": 7,
     "metadata": {},
     "output_type": "execute_result"
    }
   ],
   "source": [
    "result=cur.execute(\"Select * from emplist\")\n",
    "result.fetchall()"
   ]
  },
  {
   "cell_type": "code",
   "execution_count": 22,
   "id": "ed38bddd",
   "metadata": {},
   "outputs": [],
   "source": [
    "#we can use dinamic values \n",
    "\n",
    "def sql_table(db,entities):# in function->adding db,entities means row values\n",
    "    cur=db.cursor()\n",
    "    cur.execute(\"insert into emplist(id,name,salary,department,position,hiredate) values(?,?,?,?,?,?)\",entities)\n",
    "    db.commit()\n",
    "    \n",
    "\n"
   ]
  },
  {
   "cell_type": "code",
   "execution_count": 13,
   "id": "1f92ca1f",
   "metadata": {},
   "outputs": [],
   "source": [
    "entities=(2,'Andrew',30000,'HR','Manager',2015-4-6)"
   ]
  },
  {
   "cell_type": "code",
   "execution_count": 23,
   "id": "4fae584c",
   "metadata": {},
   "outputs": [
    {
     "ename": "ProgrammingError",
     "evalue": "Incorrect number of bindings supplied. The current statement uses 6, and there are 2 supplied.",
     "output_type": "error",
     "traceback": [
      "\u001b[1;31m---------------------------------------------------------------------------\u001b[0m",
      "\u001b[1;31mProgrammingError\u001b[0m                          Traceback (most recent call last)",
      "Input \u001b[1;32mIn [23]\u001b[0m, in \u001b[0;36m<cell line: 1>\u001b[1;34m()\u001b[0m\n\u001b[1;32m----> 1\u001b[0m \u001b[43msql_table\u001b[49m\u001b[43m(\u001b[49m\u001b[43mdb\u001b[49m\u001b[43m,\u001b[49m\u001b[43mentities\u001b[49m\u001b[43m)\u001b[49m\n",
      "Input \u001b[1;32mIn [22]\u001b[0m, in \u001b[0;36msql_table\u001b[1;34m(db, entities)\u001b[0m\n\u001b[0;32m      3\u001b[0m \u001b[38;5;28;01mdef\u001b[39;00m \u001b[38;5;21msql_table\u001b[39m(db,entities):\u001b[38;5;66;03m# in function->adding db,entities means row values\u001b[39;00m\n\u001b[0;32m      4\u001b[0m     cur\u001b[38;5;241m=\u001b[39mdb\u001b[38;5;241m.\u001b[39mcursor()\n\u001b[1;32m----> 5\u001b[0m     \u001b[43mcur\u001b[49m\u001b[38;5;241;43m.\u001b[39;49m\u001b[43mexecute\u001b[49m\u001b[43m(\u001b[49m\u001b[38;5;124;43m\"\u001b[39;49m\u001b[38;5;124;43minsert into emplist(id,name,salary,department,position,hiredate) values(?,?,?,?,?,?)\u001b[39;49m\u001b[38;5;124;43m\"\u001b[39;49m\u001b[43m,\u001b[49m\u001b[43mentities\u001b[49m\u001b[43m)\u001b[49m\n\u001b[0;32m      6\u001b[0m     db\u001b[38;5;241m.\u001b[39mcommit()\n",
      "\u001b[1;31mProgrammingError\u001b[0m: Incorrect number of bindings supplied. The current statement uses 6, and there are 2 supplied."
     ]
    }
   ],
   "source": [
    "sql_table(db,entities)"
   ]
  },
  {
   "cell_type": "code",
   "execution_count": 15,
   "id": "37627ab6",
   "metadata": {},
   "outputs": [],
   "source": [
    "entities=(3,'Pranab',23000,'Finance','Manager',2020-6-9)"
   ]
  },
  {
   "cell_type": "code",
   "execution_count": 16,
   "id": "e7a5f1c1",
   "metadata": {},
   "outputs": [],
   "source": [
    "sql_table(db,entities)"
   ]
  },
  {
   "cell_type": "code",
   "execution_count": 24,
   "id": "d0b5b1a2",
   "metadata": {},
   "outputs": [
    {
     "data": {
      "text/plain": [
       "[(1, 'Ankit', 22000.0, 'Hr', 'Recruter', 1992),\n",
       " (2, 'Andrew', 30000.0, 'HR', 'Manager', 2005),\n",
       " (3, 'Pranab', 23000.0, 'Finance', 'Manager', 2005),\n",
       " (4, 'Thomas', 34000.0, 'Finance', 'Officer', 1970)]"
      ]
     },
     "execution_count": 24,
     "metadata": {},
     "output_type": "execute_result"
    }
   ],
   "source": [
    "result=cur.execute(\"Select * from emplist\")\n",
    "result.fetchall()"
   ]
  },
  {
   "cell_type": "code",
   "execution_count": 20,
   "id": "7e7c1699",
   "metadata": {},
   "outputs": [],
   "source": [
    "def sql_insert(db,entities):\n",
    "    cur=db.cursor()\n",
    "    cur.execute(\" insert into emplist(id,name,salary,department,position,hiredate)values(?,?,?,?,?,?)\",entities)\n",
    "    db.commit()"
   ]
  },
  {
   "cell_type": "code",
   "execution_count": 21,
   "id": "9c2432b8",
   "metadata": {},
   "outputs": [],
   "source": [
    "entities=(4,'Thomas',34000,'Finance','Officer',1997-5-22)"
   ]
  },
  {
   "cell_type": "code",
   "execution_count": 23,
   "id": "a9082bd0",
   "metadata": {},
   "outputs": [],
   "source": [
    "sql_insert(db,entities)"
   ]
  },
  {
   "cell_type": "code",
   "execution_count": 25,
   "id": "7a950456",
   "metadata": {},
   "outputs": [
    {
     "data": {
      "text/plain": [
       "[(1, 'Ankit')]"
      ]
     },
     "execution_count": 25,
     "metadata": {},
     "output_type": "execute_result"
    }
   ],
   "source": [
    "res=cur.execute('Select id,name from Emplist where salary is 22000')\n",
    "res.fetchall()"
   ]
  },
  {
   "cell_type": "code",
   "execution_count": 27,
   "id": "e3c1571c",
   "metadata": {},
   "outputs": [
    {
     "data": {
      "text/plain": [
       "[(2, 'Andrew'), (3, 'Pranab'), (4, 'Thomas')]"
      ]
     },
     "execution_count": 27,
     "metadata": {},
     "output_type": "execute_result"
    }
   ],
   "source": [
    "res=cur.execute('Select id,name from Emplist where salary>22000')\n",
    "res.fetchall()"
   ]
  },
  {
   "cell_type": "code",
   "execution_count": 28,
   "id": "f83d851c",
   "metadata": {},
   "outputs": [
    {
     "data": {
      "text/plain": [
       "[]"
      ]
     },
     "execution_count": 28,
     "metadata": {},
     "output_type": "execute_result"
    }
   ],
   "source": [
    "res=cur.execute('Select id,name from Emplist where salary<22000')\n",
    "res.fetchall()"
   ]
  },
  {
   "cell_type": "code",
   "execution_count": 32,
   "id": "d6a36dc4",
   "metadata": {},
   "outputs": [
    {
     "data": {
      "text/plain": [
       "[('Ankit', 'Recruter'), ('Pranab', 'Manager')]"
      ]
     },
     "execution_count": 32,
     "metadata": {},
     "output_type": "execute_result"
    }
   ],
   "source": [
    "res=cur.execute('Select name,position from Emplist where id in (1,3,5) ')\n",
    "res.fetchall()"
   ]
  },
  {
   "cell_type": "code",
   "execution_count": 33,
   "id": "0d9f288b",
   "metadata": {},
   "outputs": [],
   "source": [
    "def sql_insert(db,entities):\n",
    "    cur=db.cursor()\n",
    "    cur.execute(\"insert into emplist(id,name,salary,department,position,hiredate) values(?,?,?,?,?,?)\",entities)\n",
    "    db.commit()"
   ]
  },
  {
   "cell_type": "code",
   "execution_count": 34,
   "id": "3f54fdca",
   "metadata": {},
   "outputs": [],
   "source": [
    "entities=(122,'Rajiv',24000,'HR','sr Manager',1998-8-27)"
   ]
  },
  {
   "cell_type": "code",
   "execution_count": 35,
   "id": "5c244b87",
   "metadata": {},
   "outputs": [
    {
     "data": {
      "text/plain": [
       "[(1, 'Ankit', 22000.0, 'Hr', 'Recruter', 1992),\n",
       " (2, 'Andrew', 30000.0, 'HR', 'Manager', 2005),\n",
       " (3, 'Pranab', 23000.0, 'Finance', 'Manager', 2005),\n",
       " (4, 'Thomas', 34000.0, 'Finance', 'Officer', 1970)]"
      ]
     },
     "execution_count": 35,
     "metadata": {},
     "output_type": "execute_result"
    }
   ],
   "source": [
    "result=cur.execute(\"Select * from emplist\")\n",
    "result.fetchall()"
   ]
  },
  {
   "cell_type": "code",
   "execution_count": 36,
   "id": "3322c5c4",
   "metadata": {},
   "outputs": [],
   "source": [
    "sql_insert(db,entities)"
   ]
  },
  {
   "cell_type": "code",
   "execution_count": 37,
   "id": "61762825",
   "metadata": {},
   "outputs": [
    {
     "data": {
      "text/plain": [
       "[(1, 'Ankit', 22000.0, 'Hr', 'Recruter', 1992),\n",
       " (2, 'Andrew', 30000.0, 'HR', 'Manager', 2005),\n",
       " (3, 'Pranab', 23000.0, 'Finance', 'Manager', 2005),\n",
       " (4, 'Thomas', 34000.0, 'Finance', 'Officer', 1970),\n",
       " (122, 'Rajiv', 24000.0, 'HR', 'sr Manager', 1963)]"
      ]
     },
     "execution_count": 37,
     "metadata": {},
     "output_type": "execute_result"
    }
   ],
   "source": [
    "result=cur.execute(\"Select * from emplist\")\n",
    "result.fetchall()"
   ]
  },
  {
   "cell_type": "code",
   "execution_count": 42,
   "id": "cc79bc08",
   "metadata": {},
   "outputs": [],
   "source": [
    "def sql_update(db):\n",
    "    cur=db.cursor()\n",
    "    cur.execute(\"Update emplist set name='Martin' where id is 3 \")\n",
    "    db.commit()"
   ]
  },
  {
   "cell_type": "code",
   "execution_count": 43,
   "id": "a7529328",
   "metadata": {},
   "outputs": [],
   "source": [
    "sql_update(db)"
   ]
  },
  {
   "cell_type": "code",
   "execution_count": 44,
   "id": "3781f952",
   "metadata": {},
   "outputs": [
    {
     "data": {
      "text/plain": [
       "[(1, 'Ankit', 22000.0, 'Hr', 'Recruter', 1992),\n",
       " (2, 'Andrew', 30000.0, 'HR', 'Manager', 2005),\n",
       " (3, 'Martin', 23000.0, 'Finance', 'Manager', 2005),\n",
       " (4, 'Thomas', 34000.0, 'Finance', 'Officer', 1970),\n",
       " (122, 'Rajiv', 24000.0, 'HR', 'sr Manager', 1963)]"
      ]
     },
     "execution_count": 44,
     "metadata": {},
     "output_type": "execute_result"
    }
   ],
   "source": [
    "result=cur.execute(\"Select * from emplist\")\n",
    "result.fetchall()"
   ]
  },
  {
   "cell_type": "code",
   "execution_count": 45,
   "id": "e1523439",
   "metadata": {},
   "outputs": [],
   "source": [
    "def sql_update(db):\n",
    "    cur=db.cursor()\n",
    "    cur.execute(\"Update emplist set id=122 where name is 'Rajiv' \")\n",
    "    db.commit()"
   ]
  },
  {
   "cell_type": "code",
   "execution_count": 46,
   "id": "d1090430",
   "metadata": {},
   "outputs": [],
   "source": [
    "sql_update(db)"
   ]
  },
  {
   "cell_type": "code",
   "execution_count": 47,
   "id": "76129e72",
   "metadata": {},
   "outputs": [
    {
     "data": {
      "text/plain": [
       "[(1, 'Ankit', 22000.0, 'Hr', 'Recruter', 1992),\n",
       " (2, 'Andrew', 30000.0, 'HR', 'Manager', 2005),\n",
       " (3, 'Martin', 23000.0, 'Finance', 'Manager', 2005),\n",
       " (4, 'Thomas', 34000.0, 'Finance', 'Officer', 1970),\n",
       " (122, 'Rajiv', 24000.0, 'HR', 'sr Manager', 1963)]"
      ]
     },
     "execution_count": 47,
     "metadata": {},
     "output_type": "execute_result"
    }
   ],
   "source": [
    "result=cur.execute(\"Select * from emplist\")\n",
    "result.fetchall()"
   ]
  },
  {
   "cell_type": "code",
   "execution_count": 50,
   "id": "021c9076",
   "metadata": {},
   "outputs": [
    {
     "data": {
      "text/plain": [
       "[(22000.0, 26600.0, 34000.0)]"
      ]
     },
     "execution_count": 50,
     "metadata": {},
     "output_type": "execute_result"
    }
   ],
   "source": [
    "result=cur.execute(\"Select min(salary),avg(salary),max(salary) from emplist\")\n",
    "result.fetchall()"
   ]
  },
  {
   "cell_type": "code",
   "execution_count": 53,
   "id": "c000756d",
   "metadata": {},
   "outputs": [
    {
     "data": {
      "text/plain": [
       "[('Hr',), ('HR',), ('Finance',)]"
      ]
     },
     "execution_count": 53,
     "metadata": {},
     "output_type": "execute_result"
    }
   ],
   "source": [
    "r=cur.execute(\"Select Distinct(department) from emplist\")\n",
    "r.fetchall()"
   ]
  },
  {
   "cell_type": "code",
   "execution_count": 55,
   "id": "db736661",
   "metadata": {},
   "outputs": [
    {
     "data": {
      "text/plain": [
       "[(3,)]"
      ]
     },
     "execution_count": 55,
     "metadata": {},
     "output_type": "execute_result"
    }
   ],
   "source": [
    "r=cur.execute(\"select count(Distinct(department)) from emplist\")\n",
    "r.fetchall()"
   ]
  },
  {
   "cell_type": "code",
   "execution_count": 56,
   "id": "d4f666e7",
   "metadata": {},
   "outputs": [
    {
     "data": {
      "text/plain": [
       "[(4,)]"
      ]
     },
     "execution_count": 56,
     "metadata": {},
     "output_type": "execute_result"
    }
   ],
   "source": [
    "r=cur.execute(\"select count(Distinct(position)) from emplist\")\n",
    "r.fetchall()"
   ]
  },
  {
   "cell_type": "code",
   "execution_count": 60,
   "id": "dad81bb2",
   "metadata": {},
   "outputs": [
    {
     "data": {
      "text/plain": [
       "[(57000.0, 'Finance'), (54000.0, 'HR'), (22000.0, 'Hr')]"
      ]
     },
     "execution_count": 60,
     "metadata": {},
     "output_type": "execute_result"
    }
   ],
   "source": [
    "r=cur.execute(\"select sum(salary),department from emplist group by department\")\n",
    "r.fetchall()"
   ]
  },
  {
   "cell_type": "code",
   "execution_count": 58,
   "id": "da38e32c",
   "metadata": {},
   "outputs": [
    {
     "data": {
      "text/plain": [
       "[(53000.0, 'Manager'),\n",
       " (34000.0, 'Officer'),\n",
       " (22000.0, 'Recruter'),\n",
       " (24000.0, 'sr Manager')]"
      ]
     },
     "execution_count": 58,
     "metadata": {},
     "output_type": "execute_result"
    }
   ],
   "source": [
    "r=cur.execute(\"select sum(salary),position from emplist group by position\")\n",
    "r.fetchall()"
   ]
  },
  {
   "cell_type": "code",
   "execution_count": 59,
   "id": "283be03b",
   "metadata": {},
   "outputs": [
    {
     "data": {
      "text/plain": [
       "[(1, 'Ankit', 22000.0, 'Hr', 'Recruter', 1992),\n",
       " (2, 'Andrew', 30000.0, 'HR', 'Manager', 2005),\n",
       " (3, 'Martin', 23000.0, 'Finance', 'Manager', 2005),\n",
       " (4, 'Thomas', 34000.0, 'Finance', 'Officer', 1970),\n",
       " (122, 'Rajiv', 24000.0, 'HR', 'sr Manager', 1963)]"
      ]
     },
     "execution_count": 59,
     "metadata": {},
     "output_type": "execute_result"
    }
   ],
   "source": [
    "result=cur.execute(\"Select * from emplist\")\n",
    "result.fetchall()"
   ]
  },
  {
   "cell_type": "code",
   "execution_count": 72,
   "id": "9bec38b7",
   "metadata": {},
   "outputs": [
    {
     "data": {
      "text/plain": [
       "[('Finance', 3, 'Martin', 'Manager', 23000.0),\n",
       " ('HR', 2, 'Andrew', 'Manager', 30000.0),\n",
       " ('Hr', 1, 'Ankit', 'Recruter', 22000.0)]"
      ]
     },
     "execution_count": 72,
     "metadata": {},
     "output_type": "execute_result"
    }
   ],
   "source": [
    "results=cur.execute(\"Select department,id,name,position,salary from emplist group by Department\")\n",
    "results.fetchall()"
   ]
  },
  {
   "cell_type": "code",
   "execution_count": 70,
   "id": "854188ee",
   "metadata": {},
   "outputs": [],
   "source": [
    "def sql_query(sql):\n",
    "    cur=db.cursor()\n",
    "    result=cur.execute(sql)\n",
    "    return result"
   ]
  },
  {
   "cell_type": "code",
   "execution_count": 75,
   "id": "4aa23e7f",
   "metadata": {},
   "outputs": [
    {
     "data": {
      "text/plain": [
       "[(1, 'Ankit', 22000.0, 'Hr', 'Recruter', 1992),\n",
       " (2, 'Andrew', 30000.0, 'HR', 'Manager', 2005),\n",
       " (3, 'Martin', 23000.0, 'Finance', 'Manager', 2005),\n",
       " (4, 'Thomas', 34000.0, 'Finance', 'Officer', 1970),\n",
       " (10, 'Jack', 32000.0, 'Marketing', 'Feild sales', 1973),\n",
       " (122, 'Rajiv', 24000.0, 'HR', 'sr Manager', 1963)]"
      ]
     },
     "execution_count": 75,
     "metadata": {},
     "output_type": "execute_result"
    }
   ],
   "source": [
    "sql=\"Select * from emplist\"\n",
    "\n",
    "responce=sql_query(sql)\n",
    "responce.fetchall()"
   ]
  },
  {
   "cell_type": "code",
   "execution_count": 73,
   "id": "0af5da7a",
   "metadata": {},
   "outputs": [
    {
     "data": {
      "text/plain": [
       "[('Ankit', 1), ('Andrew', 2), ('Martin', 3), ('Thomas', 4), ('Rajiv', 122)]"
      ]
     },
     "execution_count": 73,
     "metadata": {},
     "output_type": "execute_result"
    }
   ],
   "source": [
    "sql=\"select name,id from emplist\"\n",
    "\n",
    "r=sql_query(sql)\n",
    "r.fetchall()"
   ]
  },
  {
   "cell_type": "code",
   "execution_count": 74,
   "id": "62bd5e0a",
   "metadata": {},
   "outputs": [
    {
     "data": {
      "text/plain": [
       "[]"
      ]
     },
     "execution_count": 74,
     "metadata": {},
     "output_type": "execute_result"
    }
   ],
   "source": [
    "sql=\"insert into emplist values(10,'Jack',32000,'Marketing','Feild sales',2007-12-22)\"\n",
    "\n",
    "r=sql_query(sql)\n",
    "r.fetchall()"
   ]
  },
  {
   "cell_type": "code",
   "execution_count": 3,
   "id": "27d28cf6",
   "metadata": {},
   "outputs": [],
   "source": [
    "cur=db.cursor()"
   ]
  },
  {
   "cell_type": "code",
   "execution_count": 12,
   "id": "5a55ba3d",
   "metadata": {},
   "outputs": [],
   "source": [
    "def sql_insert(db,entities):\n",
    "    cur=db.cursor()\n",
    "    cur.execute(\"Insert into emplist(id,name,salary,department,position,hiredate) values(?,?,?,?,?,?)\",entities)\n",
    "    db.commit()"
   ]
  },
  {
   "cell_type": "code",
   "execution_count": 20,
   "id": "c20e37cc",
   "metadata": {},
   "outputs": [],
   "source": [
    "entities=[(11,'romio',15000,'IT','Executive','2000-12-22'),(140,'roni',25000,'IT','Executive','2000-12-22')]"
   ]
  },
  {
   "cell_type": "code",
   "execution_count": 21,
   "id": "2bed568f",
   "metadata": {},
   "outputs": [
    {
     "ename": "ProgrammingError",
     "evalue": "Incorrect number of bindings supplied. The current statement uses 6, and there are 2 supplied.",
     "output_type": "error",
     "traceback": [
      "\u001b[1;31m---------------------------------------------------------------------------\u001b[0m",
      "\u001b[1;31mProgrammingError\u001b[0m                          Traceback (most recent call last)",
      "Input \u001b[1;32mIn [21]\u001b[0m, in \u001b[0;36m<cell line: 1>\u001b[1;34m()\u001b[0m\n\u001b[1;32m----> 1\u001b[0m \u001b[43msql_insert\u001b[49m\u001b[43m(\u001b[49m\u001b[43mdb\u001b[49m\u001b[43m,\u001b[49m\u001b[43mentities\u001b[49m\u001b[43m)\u001b[49m\n\u001b[0;32m      2\u001b[0m db\u001b[38;5;241m.\u001b[39mcommit()\n",
      "Input \u001b[1;32mIn [12]\u001b[0m, in \u001b[0;36msql_insert\u001b[1;34m(db, entitie)\u001b[0m\n\u001b[0;32m      1\u001b[0m \u001b[38;5;28;01mdef\u001b[39;00m \u001b[38;5;21msql_insert\u001b[39m(db,entitie):\n\u001b[0;32m      2\u001b[0m     cur\u001b[38;5;241m=\u001b[39mdb\u001b[38;5;241m.\u001b[39mcursor()\n\u001b[1;32m----> 3\u001b[0m     \u001b[43mcur\u001b[49m\u001b[38;5;241;43m.\u001b[39;49m\u001b[43mexecute\u001b[49m\u001b[43m(\u001b[49m\u001b[38;5;124;43m\"\u001b[39;49m\u001b[38;5;124;43mInsert into emplist(id,name,salary,department,position,hiredate) values(?,?,?,?,?,?)\u001b[39;49m\u001b[38;5;124;43m\"\u001b[39;49m\u001b[43m,\u001b[49m\u001b[43mentitie\u001b[49m\u001b[43m)\u001b[49m\n\u001b[0;32m      4\u001b[0m     db\u001b[38;5;241m.\u001b[39mcommit()\n",
      "\u001b[1;31mProgrammingError\u001b[0m: Incorrect number of bindings supplied. The current statement uses 6, and there are 2 supplied."
     ]
    }
   ],
   "source": [
    "sql_insert(db,entities)\n",
    "db.commit()"
   ]
  },
  {
   "cell_type": "code",
   "execution_count": 10,
   "id": "d02aff9d",
   "metadata": {},
   "outputs": [
    {
     "data": {
      "text/plain": [
       "[(1, 'Ankit', 22000.0, 'Hr', 'Recruter', 1992),\n",
       " (2, 'Andrew', 30000.0, 'HR', 'Manager', 2005),\n",
       " (3, 'Martin', 23000.0, 'Finance', 'Manager', 2005),\n",
       " (4, 'Thomas', 34000.0, 'Finance', 'Officer', 1970),\n",
       " (122, 'Rajiv', 24000.0, 'HR', 'sr Manager', 1963)]"
      ]
     },
     "execution_count": 10,
     "metadata": {},
     "output_type": "execute_result"
    }
   ],
   "source": [
    "result=cur.execute(\"Select * from emplist\")\n",
    "result.fetchall()"
   ]
  },
  {
   "cell_type": "code",
   "execution_count": null,
   "id": "f38cad09",
   "metadata": {},
   "outputs": [],
   "source": [
    "# many entities in one.\n",
    "\n",
    "cur.executemany(\"Insert into emplist(id,name,salary,department,position,hiredate) values(?,?,?,?,?,?)\",entities)"
   ]
  }
 ],
 "metadata": {
  "kernelspec": {
   "display_name": "Python 3 (ipykernel)",
   "language": "python",
   "name": "python3"
  },
  "language_info": {
   "codemirror_mode": {
    "name": "ipython",
    "version": 3
   },
   "file_extension": ".py",
   "mimetype": "text/x-python",
   "name": "python",
   "nbconvert_exporter": "python",
   "pygments_lexer": "ipython3",
   "version": "3.9.12"
  }
 },
 "nbformat": 4,
 "nbformat_minor": 5
}
