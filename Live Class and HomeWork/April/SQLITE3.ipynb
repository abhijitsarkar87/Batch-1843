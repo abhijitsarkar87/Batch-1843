{
 "cells": [
  {
   "cell_type": "markdown",
   "id": "89115f0d",
   "metadata": {},
   "source": [
    "# SQLITE3"
   ]
  },
  {
   "cell_type": "code",
   "execution_count": 1,
   "id": "49f78814",
   "metadata": {},
   "outputs": [],
   "source": [
    "import sqlite3"
   ]
  },
  {
   "cell_type": "code",
   "execution_count": 2,
   "id": "06c1d997",
   "metadata": {},
   "outputs": [],
   "source": [
    "db1=sqlite3.connect(\"D:\\MySQLite3_database\\scoredb.db\")"
   ]
  },
  {
   "cell_type": "code",
   "execution_count": 3,
   "id": "973619d8",
   "metadata": {},
   "outputs": [],
   "source": [
    "cur=db1.cursor()"
   ]
  },
  {
   "cell_type": "code",
   "execution_count": 4,
   "id": "7557640c",
   "metadata": {},
   "outputs": [
    {
     "data": {
      "text/plain": [
       "<sqlite3.Cursor at 0x2d31fbf6260>"
      ]
     },
     "execution_count": 4,
     "metadata": {},
     "output_type": "execute_result"
    }
   ],
   "source": [
    "cur.execute(\"create table score(id primary key,sportname text unique, dateofevent date,country text not null)\")"
   ]
  },
  {
   "cell_type": "code",
   "execution_count": 6,
   "id": "a6b0161d",
   "metadata": {},
   "outputs": [
    {
     "data": {
      "text/plain": [
       "<sqlite3.Cursor at 0x2d31fbf6260>"
      ]
     },
     "execution_count": 6,
     "metadata": {},
     "output_type": "execute_result"
    }
   ],
   "source": [
    "cur.execute(\"insert into score values(101,'Cricket',2022-05-06,'India'),(102,'tenis',2022-05-06,'China')\")"
   ]
  },
  {
   "cell_type": "code",
   "execution_count": 7,
   "id": "6398909e",
   "metadata": {},
   "outputs": [
    {
     "name": "stdout",
     "output_type": "stream",
     "text": [
      "2 rows\n"
     ]
    }
   ],
   "source": [
    "print(cur.rowcount,\"rows\")"
   ]
  },
  {
   "cell_type": "code",
   "execution_count": 8,
   "id": "02f4f573",
   "metadata": {},
   "outputs": [
    {
     "data": {
      "text/plain": [
       "<sqlite3.Cursor at 0x2d31fbf6260>"
      ]
     },
     "execution_count": 8,
     "metadata": {},
     "output_type": "execute_result"
    }
   ],
   "source": [
    "cur.execute(\"insert into score values(103,'football',2022-05-05,'bangladesh'),(104,'basketball',2022-05-04,'Norway')\")"
   ]
  },
  {
   "cell_type": "code",
   "execution_count": 14,
   "id": "fce74736",
   "metadata": {},
   "outputs": [
    {
     "name": "stdout",
     "output_type": "stream",
     "text": [
      "2\n"
     ]
    }
   ],
   "source": [
    "print(cur.rowcount)"
   ]
  },
  {
   "cell_type": "code",
   "execution_count": 16,
   "id": "1e3bfc24",
   "metadata": {},
   "outputs": [],
   "source": [
    "db1.commit()"
   ]
  },
  {
   "cell_type": "code",
   "execution_count": 20,
   "id": "10e4a102",
   "metadata": {},
   "outputs": [
    {
     "data": {
      "text/plain": [
       "[(101, 'Cricket', 2011, 'India'),\n",
       " (102, 'tenis', 2011, 'China'),\n",
       " (103, 'football', 2012, 'bangladesh'),\n",
       " (104, 'basketball', 2013, 'Norway')]"
      ]
     },
     "execution_count": 20,
     "metadata": {},
     "output_type": "execute_result"
    }
   ],
   "source": [
    "sql1=(\"select * from score\")\n",
    "\n",
    "cur.execute(sql1)\n",
    "cur.fetchall()"
   ]
  },
  {
   "cell_type": "markdown",
   "id": "94e42f37",
   "metadata": {},
   "source": [
    "# EMPLOYEE DATABASE with DB and python programmatically"
   ]
  },
  {
   "cell_type": "code",
   "execution_count": 1,
   "id": "6e4a07eb",
   "metadata": {},
   "outputs": [],
   "source": [
    "import sqlite3"
   ]
  },
  {
   "cell_type": "code",
   "execution_count": 5,
   "id": "f6890c1c",
   "metadata": {},
   "outputs": [],
   "source": [
    "con=sqlite3.connect(\"employeedatabase.db\")"
   ]
  },
  {
   "cell_type": "code",
   "execution_count": 6,
   "id": "3d8e0f08",
   "metadata": {},
   "outputs": [],
   "source": [
    "# creating function\n",
    "\n",
    "def sql_table(con):\n",
    "    cur=con.cursor()\n",
    "    cur.execute(\"create table employee (id integer primary key,name text, salary real,department text, position text,hiredate date)\")\n",
    "    con.commit()"
   ]
  },
  {
   "cell_type": "code",
   "execution_count": 7,
   "id": "19418a46",
   "metadata": {},
   "outputs": [],
   "source": [
    "# calling function to create table(con)\n",
    "\n",
    "sql_table(con)"
   ]
  },
  {
   "cell_type": "code",
   "execution_count": 8,
   "id": "88e283ed",
   "metadata": {},
   "outputs": [
    {
     "data": {
      "text/plain": [
       "<sqlite3.Cursor at 0x288f04d6880>"
      ]
     },
     "execution_count": 8,
     "metadata": {},
     "output_type": "execute_result"
    }
   ],
   "source": [
    "cur=con.cursor()\n",
    "cur.execute(\"insert into employee values( 1,'ranjit',9000,'hr','manager','2019-07-20')\")"
   ]
  },
  {
   "cell_type": "code",
   "execution_count": 9,
   "id": "c7a6474b",
   "metadata": {},
   "outputs": [
    {
     "data": {
      "text/plain": [
       "[(1, 'ranjit', 9000.0, 'hr', 'manager', '2019-07-20')]"
      ]
     },
     "execution_count": 9,
     "metadata": {},
     "output_type": "execute_result"
    }
   ],
   "source": [
    "result=cur.execute(\"Select * from employee\")\n",
    "result.fetchall()"
   ]
  },
  {
   "cell_type": "markdown",
   "id": "4003c5b6",
   "metadata": {},
   "source": [
    "we can also pass values/arguments to an INSERT statement in the execute() method. You can use the question mark(?) as a placeholder for each value. The syntax of the INSERT will be like the following:"
   ]
  },
  {
   "cell_type": "markdown",
   "id": "74ac513a",
   "metadata": {},
   "source": [
    "cur.execute(\"\"\" insert into employee(id,name,salary,department,postion,hiredate) values(?.?.?.?.?.?) \"\"\",entities)\n",
    "\n",
    "entites=(2,'jhon',4000,'IT','Engineer','2018-02-06')"
   ]
  },
  {
   "cell_type": "code",
   "execution_count": 10,
   "id": "76144e96",
   "metadata": {},
   "outputs": [
    {
     "data": {
      "text/plain": [
       "<sqlite3.Cursor at 0x288f04d6880>"
      ]
     },
     "execution_count": 10,
     "metadata": {},
     "output_type": "execute_result"
    }
   ],
   "source": [
    "cur.execute(\"insert into employee values (2,'henna',5000,'hr','manager','2018-08-19')\")"
   ]
  },
  {
   "cell_type": "markdown",
   "id": "5d9e0b0e",
   "metadata": {},
   "source": [
    "# Entities:"
   ]
  },
  {
   "cell_type": "code",
   "execution_count": 11,
   "id": "721999be",
   "metadata": {},
   "outputs": [],
   "source": [
    "def sql_insert(con,entities):\n",
    "    cur=con.cursor()\n",
    "    cur.execute(\"insert into employee(id,name,salary,department,position,hiredate) values(?,?,?,?,?,?)\",entities)"
   ]
  },
  {
   "cell_type": "code",
   "execution_count": 12,
   "id": "2fe57b93",
   "metadata": {},
   "outputs": [],
   "source": [
    "entities=(3,'ravi',4500,'it','Engineer','2019-06-20')\n",
    "sql_insert(con,entities)\n",
    "\n",
    "entities=(4,'chabi',5000,'Hr','Manager','2020-07-20')\n",
    "sql_insert(con,entities)\n",
    "\n",
    "entities=(5,'suzen',6000,'it','Engineer','2021-08-21')\n",
    "sql_insert(con,entities)"
   ]
  },
  {
   "cell_type": "code",
   "execution_count": 13,
   "id": "1439da3f",
   "metadata": {},
   "outputs": [
    {
     "data": {
      "text/plain": [
       "[(1, 'ranjit', 9000.0, 'hr', 'manager', '2019-07-20'),\n",
       " (2, 'henna', 5000.0, 'hr', 'manager', '2018-08-19'),\n",
       " (3, 'ravi', 4500.0, 'it', 'Engineer', '2019-06-20'),\n",
       " (4, 'chabi', 5000.0, 'Hr', 'Manager', '2020-07-20'),\n",
       " (5, 'suzen', 6000.0, 'it', 'Engineer', '2021-08-21')]"
      ]
     },
     "execution_count": 13,
     "metadata": {},
     "output_type": "execute_result"
    }
   ],
   "source": [
    "result=cur.execute(\"select * from employee\")\n",
    "result.fetchall()"
   ]
  },
  {
   "cell_type": "markdown",
   "id": "30ea6ed9",
   "metadata": {},
   "source": [
    "# update function"
   ]
  },
  {
   "cell_type": "code",
   "execution_count": 14,
   "id": "efee38eb",
   "metadata": {},
   "outputs": [],
   "source": [
    "def sql_update(con):\n",
    "    cur=con.cursor()\n",
    "    cur.execute('update employee set name=\"Martin\" where id=4')\n",
    "    con.commit()"
   ]
  },
  {
   "cell_type": "code",
   "execution_count": 15,
   "id": "8a4a7b46",
   "metadata": {},
   "outputs": [],
   "source": [
    "sql_update(con)"
   ]
  },
  {
   "cell_type": "code",
   "execution_count": 16,
   "id": "51ae49b3",
   "metadata": {},
   "outputs": [
    {
     "data": {
      "text/plain": [
       "[(1, 'ranjit', 9000.0, 'hr', 'manager', '2019-07-20'),\n",
       " (2, 'henna', 5000.0, 'hr', 'manager', '2018-08-19'),\n",
       " (3, 'ravi', 4500.0, 'it', 'Engineer', '2019-06-20'),\n",
       " (4, 'Martin', 5000.0, 'Hr', 'Manager', '2020-07-20'),\n",
       " (5, 'suzen', 6000.0, 'it', 'Engineer', '2021-08-21')]"
      ]
     },
     "execution_count": 16,
     "metadata": {},
     "output_type": "execute_result"
    }
   ],
   "source": [
    "results=cur.execute(\"select * from employee\")\n",
    "results.fetchall()"
   ]
  },
  {
   "cell_type": "code",
   "execution_count": 17,
   "id": "1965670d",
   "metadata": {},
   "outputs": [
    {
     "data": {
      "text/plain": [
       "[(1, 'ranjit'), (2, 'henna'), (3, 'ravi'), (4, 'Martin'), (5, 'suzen')]"
      ]
     },
     "execution_count": 17,
     "metadata": {},
     "output_type": "execute_result"
    }
   ],
   "source": [
    "results=cur.execute(\"select id,name from employee\")\n",
    "results.fetchall()"
   ]
  },
  {
   "cell_type": "code",
   "execution_count": 18,
   "id": "d4a32295",
   "metadata": {},
   "outputs": [
    {
     "name": "stdout",
     "output_type": "stream",
     "text": [
      "(1, 'ranjit', 9000.0, 'hr', 'manager', '2019-07-20') (5, 'suzen', 6000.0, 'it', 'Engineer', '2021-08-21') "
     ]
    }
   ],
   "source": [
    "results=cur.execute(\"Select * from employee where salary >5000\")\n",
    "for i in result:\n",
    "    print(i,end=\" \")"
   ]
  },
  {
   "cell_type": "code",
   "execution_count": 19,
   "id": "f391b366",
   "metadata": {},
   "outputs": [
    {
     "name": "stdout",
     "output_type": "stream",
     "text": [
      "(1, 'ranjit')\n",
      "(2, 'henna')\n"
     ]
    }
   ],
   "source": [
    "result1=cur.execute(\"Select id,name from employee where department in ('hr')\")\n",
    "for i in result1:\n",
    "    print(i)"
   ]
  },
  {
   "cell_type": "markdown",
   "id": "b6da55ce",
   "metadata": {},
   "source": [
    "# minimum function"
   ]
  },
  {
   "cell_type": "code",
   "execution_count": 20,
   "id": "96c4e55f",
   "metadata": {},
   "outputs": [
    {
     "name": "stdout",
     "output_type": "stream",
     "text": [
      "(4500.0,)\n"
     ]
    }
   ],
   "source": [
    "result=cur.execute(\"select min(salary)from employee\")\n",
    "for i in result:\n",
    "    print (i)"
   ]
  },
  {
   "cell_type": "markdown",
   "id": "8a1b4a6a",
   "metadata": {},
   "source": [
    "# count id"
   ]
  },
  {
   "cell_type": "code",
   "execution_count": 21,
   "id": "7e272c59",
   "metadata": {},
   "outputs": [
    {
     "data": {
      "text/plain": [
       "[(5,)]"
      ]
     },
     "execution_count": 21,
     "metadata": {},
     "output_type": "execute_result"
    }
   ],
   "source": [
    "results=cur.execute(\"select count(id) from employee\")\n",
    "results.fetchall()"
   ]
  },
  {
   "cell_type": "markdown",
   "id": "6666c7f4",
   "metadata": {},
   "source": [
    "# distinct count"
   ]
  },
  {
   "cell_type": "code",
   "execution_count": 22,
   "id": "b00bd45d",
   "metadata": {},
   "outputs": [
    {
     "data": {
      "text/plain": [
       "[('hr',), ('it',), ('Hr',)]"
      ]
     },
     "execution_count": 22,
     "metadata": {},
     "output_type": "execute_result"
    }
   ],
   "source": [
    "result=cur.execute(\"select distinct(department) from employee\")\n",
    "results.fetchall()"
   ]
  },
  {
   "cell_type": "markdown",
   "id": "ecad36bc",
   "metadata": {},
   "source": [
    "# count"
   ]
  },
  {
   "cell_type": "code",
   "execution_count": 23,
   "id": "13d4cd56",
   "metadata": {},
   "outputs": [
    {
     "data": {
      "text/plain": [
       "[(3,)]"
      ]
     },
     "execution_count": 23,
     "metadata": {},
     "output_type": "execute_result"
    }
   ],
   "source": [
    "result=cur.execute(\"select count(distinct(department)) from employee\")\n",
    "result.fetchall()"
   ]
  },
  {
   "cell_type": "markdown",
   "id": "54b5f1f4",
   "metadata": {},
   "source": [
    "# sum"
   ]
  },
  {
   "cell_type": "code",
   "execution_count": 24,
   "id": "3803a3a2",
   "metadata": {},
   "outputs": [],
   "source": [
    "result=cur.execute(\"select sum(salary),position from employee group by position\")"
   ]
  },
  {
   "cell_type": "code",
   "execution_count": 25,
   "id": "7963bdb0",
   "metadata": {},
   "outputs": [
    {
     "data": {
      "text/plain": [
       "[(10500.0, 'Engineer'), (5000.0, 'Manager'), (14000.0, 'manager')]"
      ]
     },
     "execution_count": 25,
     "metadata": {},
     "output_type": "execute_result"
    }
   ],
   "source": [
    "result.fetchall()"
   ]
  },
  {
   "cell_type": "code",
   "execution_count": 26,
   "id": "748c30b4",
   "metadata": {},
   "outputs": [
    {
     "data": {
      "text/plain": [
       "[(5000.0, 'Hr'), (14000.0, 'hr'), (10500.0, 'it')]"
      ]
     },
     "execution_count": 26,
     "metadata": {},
     "output_type": "execute_result"
    }
   ],
   "source": [
    "result=cur.execute(\"select sum(salary),department from employee group by department\")\n",
    "result.fetchall()"
   ]
  },
  {
   "cell_type": "code",
   "execution_count": 27,
   "id": "31b1a83c",
   "metadata": {},
   "outputs": [],
   "source": [
    "import sqlite3"
   ]
  },
  {
   "cell_type": "code",
   "execution_count": 29,
   "id": "477f542d",
   "metadata": {},
   "outputs": [],
   "source": [
    "con=sqlite3.connect(\"employeedatabase.db\")"
   ]
  },
  {
   "cell_type": "code",
   "execution_count": 30,
   "id": "6e5dfd92",
   "metadata": {},
   "outputs": [],
   "source": [
    "cur=con.cursor()"
   ]
  },
  {
   "cell_type": "code",
   "execution_count": 31,
   "id": "47d16393",
   "metadata": {},
   "outputs": [],
   "source": [
    "def sql_query(sql):\n",
    "    cur=con.cursor()\n",
    "    results=cur.execute(sql)\n",
    "    return results"
   ]
  },
  {
   "cell_type": "code",
   "execution_count": 32,
   "id": "528c835f",
   "metadata": {},
   "outputs": [
    {
     "data": {
      "text/plain": [
       "[(1, 'ranjit', 9000.0, 'hr', 'manager', '2019-07-20'),\n",
       " (2, 'henna', 5000.0, 'hr', 'manager', '2018-08-19'),\n",
       " (3, 'ravi', 4500.0, 'it', 'Engineer', '2019-06-20'),\n",
       " (4, 'Martin', 5000.0, 'Hr', 'Manager', '2020-07-20'),\n",
       " (5, 'suzen', 6000.0, 'it', 'Engineer', '2021-08-21')]"
      ]
     },
     "execution_count": 32,
     "metadata": {},
     "output_type": "execute_result"
    }
   ],
   "source": [
    "# make querry\n",
    "sql=\"select * from employee\"\n",
    "\n",
    "#pass query in function\n",
    "respond=sql_query(sql)\n",
    "respond.fetchall()"
   ]
  },
  {
   "cell_type": "code",
   "execution_count": 33,
   "id": "d6c3f05d",
   "metadata": {},
   "outputs": [
    {
     "data": {
      "text/plain": [
       "[(1, 'ranjit'), (2, 'henna'), (3, 'ravi'), (4, 'Martin'), (5, 'suzen')]"
      ]
     },
     "execution_count": 33,
     "metadata": {},
     "output_type": "execute_result"
    }
   ],
   "source": [
    "sql=\" select id,name position from employee\"\n",
    "\n",
    "respond=sql_query(sql)\n",
    "respond.fetchall()"
   ]
  },
  {
   "cell_type": "markdown",
   "id": "8421b770",
   "metadata": {},
   "source": [
    "# SQLITE3 EXECUTEMANY(BULK INSERT)"
   ]
  },
  {
   "cell_type": "markdown",
   "id": "1c6e8792",
   "metadata": {},
   "source": [
    "We can use the executemany statement to insert multiple rows at once."
   ]
  },
  {
   "cell_type": "code",
   "execution_count": 34,
   "id": "ac2cbde5",
   "metadata": {},
   "outputs": [],
   "source": [
    "entities=(4,'joseph',4000,'account','CA','2016-12-05'),(5,'Maria',1000,'sales','sales Executive','2019-12-3')"
   ]
  },
  {
   "cell_type": "code",
   "execution_count": 35,
   "id": "9b6cb4fd",
   "metadata": {},
   "outputs": [
    {
     "data": {
      "text/plain": [
       "[(1, 'ranjit', 9000.0, 'hr', 'manager', '2019-07-20'),\n",
       " (2, 'henna', 5000.0, 'hr', 'manager', '2018-08-19'),\n",
       " (3, 'ravi', 4500.0, 'it', 'Engineer', '2019-06-20'),\n",
       " (4, 'Martin', 5000.0, 'Hr', 'Manager', '2020-07-20'),\n",
       " (5, 'suzen', 6000.0, 'it', 'Engineer', '2021-08-21')]"
      ]
     },
     "execution_count": 35,
     "metadata": {},
     "output_type": "execute_result"
    }
   ],
   "source": [
    "result=cur.execute('select * from employee')\n",
    "\n",
    "result.fetchall()"
   ]
  },
  {
   "cell_type": "markdown",
   "id": "ef1d18de",
   "metadata": {},
   "source": [
    "### Another methord to insert many values by def function.\n",
    "\n",
    "cur.executemany(\"insert into employee(id,name,salary,department,position,hiredate),values(?,?,?,?,?,?)\",entities)"
   ]
  },
  {
   "cell_type": "code",
   "execution_count": 38,
   "id": "59b07a8a",
   "metadata": {},
   "outputs": [],
   "source": [
    "con.close()"
   ]
  },
  {
   "cell_type": "markdown",
   "id": "9210ed67",
   "metadata": {},
   "source": [
    "# EXERCISE 3.SQLite "
   ]
  },
  {
   "cell_type": "markdown",
   "id": "8c6fa81a",
   "metadata": {},
   "source": [
    "### Referential Integrity."
   ]
  },
  {
   "cell_type": "code",
   "execution_count": 40,
   "id": "40eaa88b",
   "metadata": {},
   "outputs": [],
   "source": [
    "# is required to maintain the data consistancy between two tables.\n",
    "\n",
    "import sqlite3"
   ]
  },
  {
   "cell_type": "code",
   "execution_count": 41,
   "id": "210c7a51",
   "metadata": {},
   "outputs": [],
   "source": [
    "db=sqlite3.connect(\"Student_Database.db\")"
   ]
  },
  {
   "cell_type": "code",
   "execution_count": 42,
   "id": "956691b4",
   "metadata": {},
   "outputs": [],
   "source": [
    "cur=db.cursor()"
   ]
  },
  {
   "cell_type": "code",
   "execution_count": 52,
   "id": "464b507e",
   "metadata": {},
   "outputs": [
    {
     "ename": "OperationalError",
     "evalue": "table Course already exists",
     "output_type": "error",
     "traceback": [
      "\u001b[1;31m---------------------------------------------------------------------------\u001b[0m",
      "\u001b[1;31mOperationalError\u001b[0m                          Traceback (most recent call last)",
      "Input \u001b[1;32mIn [52]\u001b[0m, in \u001b[0;36m<cell line: 1>\u001b[1;34m()\u001b[0m\n\u001b[1;32m----> 1\u001b[0m \u001b[43mcur\u001b[49m\u001b[38;5;241;43m.\u001b[39;49m\u001b[43mexecute\u001b[49m\u001b[43m(\u001b[49m\u001b[38;5;124;43m\"\u001b[39;49m\u001b[38;5;124;43mcreate table Course(Course_ID int Primary Key, Course_Name text,Duration int)\u001b[39;49m\u001b[38;5;124;43m\"\u001b[39;49m\u001b[43m)\u001b[49m\n",
      "\u001b[1;31mOperationalError\u001b[0m: table Course already exists"
     ]
    }
   ],
   "source": [
    "cur.execute(\"create table Course(Course_ID int Primary Key, Course_Name text,Duration int)\")"
   ]
  },
  {
   "cell_type": "code",
   "execution_count": 56,
   "id": "f6204bde",
   "metadata": {},
   "outputs": [
    {
     "ename": "OperationalError",
     "evalue": "table student already exists",
     "output_type": "error",
     "traceback": [
      "\u001b[1;31m---------------------------------------------------------------------------\u001b[0m",
      "\u001b[1;31mOperationalError\u001b[0m                          Traceback (most recent call last)",
      "Input \u001b[1;32mIn [56]\u001b[0m, in \u001b[0;36m<cell line: 3>\u001b[1;34m()\u001b[0m\n\u001b[0;32m      1\u001b[0m \u001b[38;5;66;03m# Here student table will come foreign key as we are calling this from course take which is primary key over their. \u001b[39;00m\n\u001b[1;32m----> 3\u001b[0m \u001b[43mcur\u001b[49m\u001b[38;5;241;43m.\u001b[39;49m\u001b[43mexecute\u001b[49m\u001b[43m(\u001b[49m\u001b[38;5;124;43m\"\u001b[39;49m\u001b[38;5;124;43mCreate table student(roll_no int primary key,studentname text,age int,course_ID int,foreign key(course_ID) references course(Course_ID))\u001b[39;49m\u001b[38;5;124;43m\"\u001b[39;49m\u001b[43m)\u001b[49m\n",
      "\u001b[1;31mOperationalError\u001b[0m: table student already exists"
     ]
    }
   ],
   "source": [
    "# Here student table will come foreign key as we are calling this from course take which is primary key over their. \n",
    "\n",
    "cur.execute(\"Create table student(roll_no int primary key,studentname text,age int,course_ID int,foreign key(course_ID) references course(Course_ID))\")"
   ]
  },
  {
   "cell_type": "code",
   "execution_count": 54,
   "id": "fbb6943c",
   "metadata": {},
   "outputs": [
    {
     "ename": "IntegrityError",
     "evalue": "UNIQUE constraint failed: Course.Course_ID",
     "output_type": "error",
     "traceback": [
      "\u001b[1;31m---------------------------------------------------------------------------\u001b[0m",
      "\u001b[1;31mIntegrityError\u001b[0m                            Traceback (most recent call last)",
      "Input \u001b[1;32mIn [54]\u001b[0m, in \u001b[0;36m<cell line: 1>\u001b[1;34m()\u001b[0m\n\u001b[1;32m----> 1\u001b[0m \u001b[43mcur\u001b[49m\u001b[38;5;241;43m.\u001b[39;49m\u001b[43mexecute\u001b[49m\u001b[43m(\u001b[49m\u001b[38;5;124;43m\"\u001b[39;49m\u001b[38;5;124;43minsert into course values(78,\u001b[39;49m\u001b[38;5;124;43m'\u001b[39;49m\u001b[38;5;124;43mData Science\u001b[39;49m\u001b[38;5;124;43m'\u001b[39;49m\u001b[38;5;124;43m,12),(56,\u001b[39;49m\u001b[38;5;124;43m'\u001b[39;49m\u001b[38;5;124;43mPython\u001b[39;49m\u001b[38;5;124;43m'\u001b[39;49m\u001b[38;5;124;43m,4),(101,\u001b[39;49m\u001b[38;5;124;43m'\u001b[39;49m\u001b[38;5;124;43mDataBase\u001b[39;49m\u001b[38;5;124;43m'\u001b[39;49m\u001b[38;5;124;43m,7)\u001b[39;49m\u001b[38;5;124;43m\"\u001b[39;49m\u001b[43m)\u001b[49m\n\u001b[0;32m      3\u001b[0m \u001b[38;5;28mprint\u001b[39m(cur\u001b[38;5;241m.\u001b[39mrowcount,\u001b[38;5;124m'\u001b[39m\u001b[38;5;124mrows\u001b[39m\u001b[38;5;124m'\u001b[39m)\n\u001b[0;32m      5\u001b[0m db\u001b[38;5;241m.\u001b[39mcommit()\n",
      "\u001b[1;31mIntegrityError\u001b[0m: UNIQUE constraint failed: Course.Course_ID"
     ]
    }
   ],
   "source": [
    "cur.execute(\"insert into course values(78,'Data Science',12),(56,'Python',4),(101,'DataBase',7)\")\n",
    "\n",
    "print(cur.rowcount,'rows')\n",
    "\n",
    "db.commit()"
   ]
  },
  {
   "cell_type": "code",
   "execution_count": 47,
   "id": "a15bd3ed",
   "metadata": {},
   "outputs": [
    {
     "ename": "IntegrityError",
     "evalue": "UNIQUE constraint failed: student.roll_no",
     "output_type": "error",
     "traceback": [
      "\u001b[1;31m---------------------------------------------------------------------------\u001b[0m",
      "\u001b[1;31mIntegrityError\u001b[0m                            Traceback (most recent call last)",
      "Input \u001b[1;32mIn [47]\u001b[0m, in \u001b[0;36m<cell line: 1>\u001b[1;34m()\u001b[0m\n\u001b[1;32m----> 1\u001b[0m \u001b[43mcur\u001b[49m\u001b[38;5;241;43m.\u001b[39;49m\u001b[43mexecute\u001b[49m\u001b[43m(\u001b[49m\u001b[38;5;124;43m\"\u001b[39;49m\u001b[38;5;124;43minsert into student values(1,\u001b[39;49m\u001b[38;5;124;43m'\u001b[39;49m\u001b[38;5;124;43mAmit\u001b[39;49m\u001b[38;5;124;43m'\u001b[39;49m\u001b[38;5;124;43m,22,78),(2,\u001b[39;49m\u001b[38;5;124;43m'\u001b[39;49m\u001b[38;5;124;43mPeter\u001b[39;49m\u001b[38;5;124;43m'\u001b[39;49m\u001b[38;5;124;43m,33,56),(10,\u001b[39;49m\u001b[38;5;124;43m'\u001b[39;49m\u001b[38;5;124;43mDinesh\u001b[39;49m\u001b[38;5;124;43m'\u001b[39;49m\u001b[38;5;124;43m,27,101),(4,\u001b[39;49m\u001b[38;5;124;43m'\u001b[39;49m\u001b[38;5;124;43mAndrew\u001b[39;49m\u001b[38;5;124;43m'\u001b[39;49m\u001b[38;5;124;43m,24,78)\u001b[39;49m\u001b[38;5;124;43m\"\u001b[39;49m\u001b[43m)\u001b[49m\n\u001b[0;32m      3\u001b[0m \u001b[38;5;28mprint\u001b[39m(cur\u001b[38;5;241m.\u001b[39mrowcount,\u001b[38;5;124m'\u001b[39m\u001b[38;5;124mrows\u001b[39m\u001b[38;5;124m'\u001b[39m)\n\u001b[0;32m      5\u001b[0m db\u001b[38;5;241m.\u001b[39mcommit()\n",
      "\u001b[1;31mIntegrityError\u001b[0m: UNIQUE constraint failed: student.roll_no"
     ]
    }
   ],
   "source": [
    "cur.execute(\"insert into student values(1,'Amit',22,78),(2,'Peter',33,56),(10,'Dinesh',27,101),(4,'Andrew',24,78)\")\n",
    "\n",
    "print(cur.rowcount,'rows')\n",
    "\n",
    "db.commit()"
   ]
  },
  {
   "cell_type": "code",
   "execution_count": 55,
   "id": "941b2f3d",
   "metadata": {},
   "outputs": [
    {
     "ename": "IntegrityError",
     "evalue": "UNIQUE constraint failed: student.roll_no",
     "output_type": "error",
     "traceback": [
      "\u001b[1;31m---------------------------------------------------------------------------\u001b[0m",
      "\u001b[1;31mIntegrityError\u001b[0m                            Traceback (most recent call last)",
      "Input \u001b[1;32mIn [55]\u001b[0m, in \u001b[0;36m<cell line: 1>\u001b[1;34m()\u001b[0m\n\u001b[1;32m----> 1\u001b[0m \u001b[43mcur\u001b[49m\u001b[38;5;241;43m.\u001b[39;49m\u001b[43mexecute\u001b[49m\u001b[43m(\u001b[49m\u001b[38;5;124;43m\"\u001b[39;49m\u001b[38;5;124;43minsert into student values(4,\u001b[39;49m\u001b[38;5;124;43m'\u001b[39;49m\u001b[38;5;124;43mAndrew\u001b[39;49m\u001b[38;5;124;43m'\u001b[39;49m\u001b[38;5;124;43m,24,78)\u001b[39;49m\u001b[38;5;124;43m\"\u001b[39;49m\u001b[43m)\u001b[49m\n\u001b[0;32m      3\u001b[0m \u001b[38;5;28mprint\u001b[39m(cur\u001b[38;5;241m.\u001b[39mrowcount,\u001b[38;5;124m'\u001b[39m\u001b[38;5;124mrows\u001b[39m\u001b[38;5;124m'\u001b[39m)\n\u001b[0;32m      5\u001b[0m db\u001b[38;5;241m.\u001b[39mcommit()\n",
      "\u001b[1;31mIntegrityError\u001b[0m: UNIQUE constraint failed: student.roll_no"
     ]
    }
   ],
   "source": [
    "cur.execute(\"insert into student values(4,'Andrew',24,78)\")\n",
    "\n",
    "print(cur.rowcount,'rows')\n",
    "\n",
    "db.commit()"
   ]
  },
  {
   "cell_type": "code",
   "execution_count": 57,
   "id": "ab5f72da",
   "metadata": {},
   "outputs": [
    {
     "data": {
      "text/plain": [
       "[(78, 'Data Science', 12), (56, 'Python', 4), (101, 'DataBase', 7)]"
      ]
     },
     "execution_count": 57,
     "metadata": {},
     "output_type": "execute_result"
    }
   ],
   "source": [
    "result=cur.execute(\"Select * from course\")\n",
    "result.fetchall()"
   ]
  },
  {
   "cell_type": "code",
   "execution_count": 58,
   "id": "7c0e26ea",
   "metadata": {},
   "outputs": [
    {
     "data": {
      "text/plain": [
       "[(1, 'Amit', 22, 78),\n",
       " (2, 'Peter', 33, 56),\n",
       " (10, 'Dinesh', 27, 101),\n",
       " (4, 'Andrew', 24, 78)]"
      ]
     },
     "execution_count": 58,
     "metadata": {},
     "output_type": "execute_result"
    }
   ],
   "source": [
    "result=cur.execute(\"Select * from student\")\n",
    "result.fetchall()"
   ]
  },
  {
   "cell_type": "code",
   "execution_count": 65,
   "id": "6a186c82",
   "metadata": {},
   "outputs": [],
   "source": [
    "# finding id whose id is Data Science.\n",
    "\n",
    "result=cur.execute(\"select course_id from course where Course_Name='Data Science'\")"
   ]
  },
  {
   "cell_type": "code",
   "execution_count": 67,
   "id": "a9f96d0d",
   "metadata": {},
   "outputs": [
    {
     "name": "stdout",
     "output_type": "stream",
     "text": [
      "(78,)\n"
     ]
    }
   ],
   "source": [
    "for i in result:\n",
    "    print(i)"
   ]
  },
  {
   "cell_type": "markdown",
   "id": "b566c6eb",
   "metadata": {},
   "source": [
    "# SUBquery(query inside query)"
   ]
  },
  {
   "cell_type": "code",
   "execution_count": 68,
   "id": "db423d6f",
   "metadata": {},
   "outputs": [
    {
     "data": {
      "text/plain": [
       "'\\nexample:\\n    select* from student where cid=(select course_Id from course where course_Name is \"Data Science\")\\n\\n'"
      ]
     },
     "execution_count": 68,
     "metadata": {},
     "output_type": "execute_result"
    }
   ],
   "source": [
    "# Nested Query\n",
    "\"\"\"\n",
    "example:\n",
    "    select* from student where cid=(select course_Id from course where course_Name is \"Data Science\")\n",
    "\n",
    "\"\"\"\n"
   ]
  },
  {
   "cell_type": "code",
   "execution_count": 70,
   "id": "bcd5f516",
   "metadata": {},
   "outputs": [],
   "source": [
    "result=cur.execute(\"select * from student where course_id=(Select course_ID from course where course_Name is 'Data Science')\")"
   ]
  },
  {
   "cell_type": "code",
   "execution_count": 71,
   "id": "e9426f85",
   "metadata": {},
   "outputs": [
    {
     "data": {
      "text/plain": [
       "[(1, 'Amit', 22, 78), (4, 'Andrew', 24, 78)]"
      ]
     },
     "execution_count": 71,
     "metadata": {},
     "output_type": "execute_result"
    }
   ],
   "source": [
    "result.fetchall()"
   ]
  },
  {
   "cell_type": "code",
   "execution_count": 72,
   "id": "40db3f38",
   "metadata": {},
   "outputs": [],
   "source": [
    "result=cur.execute(\"Select * from  Student where course_Id=(Select course_Id from course where Course_Name is 'Python')\")"
   ]
  },
  {
   "cell_type": "code",
   "execution_count": 73,
   "id": "8a8d2ecf",
   "metadata": {},
   "outputs": [
    {
     "data": {
      "text/plain": [
       "[(2, 'Peter', 33, 56)]"
      ]
     },
     "execution_count": 73,
     "metadata": {},
     "output_type": "execute_result"
    }
   ],
   "source": [
    "result.fetchall()"
   ]
  },
  {
   "cell_type": "markdown",
   "id": "434fc0d4",
   "metadata": {},
   "source": [
    "## JOIN:"
   ]
  },
  {
   "cell_type": "code",
   "execution_count": 74,
   "id": "abdaef4a",
   "metadata": {},
   "outputs": [
    {
     "data": {
      "text/plain": [
       "'\\ninnerjoin= common data from both the table will be called\\nleft join= data from left table side\\nright join= data from right table side\\n\\nfull outer join= All the data from table \\n'"
      ]
     },
     "execution_count": 74,
     "metadata": {},
     "output_type": "execute_result"
    }
   ],
   "source": [
    "\"\"\"\n",
    "innerjoin= common data from both the table will be called\n",
    "left join= data from left table side\n",
    "right join= data from right table side\n",
    "\n",
    "full outer join= All the data from table \n",
    "\"\"\""
   ]
  },
  {
   "cell_type": "markdown",
   "id": "f54fd98f",
   "metadata": {},
   "source": [
    "### Inner joint"
   ]
  },
  {
   "cell_type": "code",
   "execution_count": 79,
   "id": "485e8522",
   "metadata": {},
   "outputs": [],
   "source": [
    "result=cur.execute(\"Select student.roll_no,student.course_Id,student.studentName,course.course_id,course.course_Name from student INNER JOIN course on student.course_Id = course.course_ID\")"
   ]
  },
  {
   "cell_type": "code",
   "execution_count": 80,
   "id": "7e4dc5b0",
   "metadata": {},
   "outputs": [
    {
     "name": "stdout",
     "output_type": "stream",
     "text": [
      "(1, 78, 'Amit', 78, 'Data Science')\n",
      "(2, 56, 'Peter', 56, 'Python')\n",
      "(10, 101, 'Dinesh', 101, 'DataBase')\n",
      "(4, 78, 'Andrew', 78, 'Data Science')\n"
     ]
    }
   ],
   "source": [
    "for i in result:\n",
    "    print(i)"
   ]
  },
  {
   "cell_type": "code",
   "execution_count": 81,
   "id": "3ded0563",
   "metadata": {},
   "outputs": [
    {
     "name": "stdout",
     "output_type": "stream",
     "text": [
      "(1, 78, 'Amit', 78, 'Data Science')\n",
      "(2, 56, 'Peter', 56, 'Python')\n",
      "(10, 101, 'Dinesh', 101, 'DataBase')\n",
      "(4, 78, 'Andrew', 78, 'Data Science')\n"
     ]
    }
   ],
   "source": [
    "result=cur.execute(\"Select student.roll_no,student.course_Id,student.studentName,course.course_id,course.course_Name from student LEFT JOIN course on student.course_Id = course.course_ID\")\n",
    "for i in result:\n",
    "    print(i)"
   ]
  },
  {
   "cell_type": "code",
   "execution_count": 87,
   "id": "b94ad62e",
   "metadata": {},
   "outputs": [
    {
     "ename": "OperationalError",
     "evalue": "RIGHT and FULL OUTER JOINs are not currently supported",
     "output_type": "error",
     "traceback": [
      "\u001b[1;31m---------------------------------------------------------------------------\u001b[0m",
      "\u001b[1;31mOperationalError\u001b[0m                          Traceback (most recent call last)",
      "Input \u001b[1;32mIn [87]\u001b[0m, in \u001b[0;36m<cell line: 1>\u001b[1;34m()\u001b[0m\n\u001b[1;32m----> 1\u001b[0m result\u001b[38;5;241m=\u001b[39m\u001b[43mcur\u001b[49m\u001b[38;5;241;43m.\u001b[39;49m\u001b[43mexecute\u001b[49m\u001b[43m(\u001b[49m\u001b[38;5;124;43m\"\u001b[39;49m\u001b[38;5;124;43mSelect student.roll_no, Course.course_Id, student.studentName, course.course_Name from course RIGHT JOIN course on student.course_Id = course.course_ID\u001b[39;49m\u001b[38;5;124;43m\"\u001b[39;49m\u001b[43m)\u001b[49m\n\u001b[0;32m      2\u001b[0m \u001b[38;5;28;01mfor\u001b[39;00m i \u001b[38;5;129;01min\u001b[39;00m result:\n\u001b[0;32m      3\u001b[0m     \u001b[38;5;28mprint\u001b[39m(i)\n",
      "\u001b[1;31mOperationalError\u001b[0m: RIGHT and FULL OUTER JOINs are not currently supported"
     ]
    }
   ],
   "source": [
    "result=cur.execute(\"Select student.roll_no, Course.course_Id, student.studentName, course.course_Name from course RIGHT JOIN course on student.course_Id = course.course_ID\")\n",
    "for i in result:\n",
    "    print(i)"
   ]
  },
  {
   "cell_type": "code",
   "execution_count": null,
   "id": "5b396b5e",
   "metadata": {},
   "outputs": [],
   "source": []
  }
 ],
 "metadata": {
  "kernelspec": {
   "display_name": "Python 3 (ipykernel)",
   "language": "python",
   "name": "python3"
  },
  "language_info": {
   "codemirror_mode": {
    "name": "ipython",
    "version": 3
   },
   "file_extension": ".py",
   "mimetype": "text/x-python",
   "name": "python",
   "nbconvert_exporter": "python",
   "pygments_lexer": "ipython3",
   "version": "3.9.12"
  }
 },
 "nbformat": 4,
 "nbformat_minor": 5
}
