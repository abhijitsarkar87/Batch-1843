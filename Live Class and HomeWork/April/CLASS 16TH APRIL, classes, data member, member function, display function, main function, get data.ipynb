{
 "cells": [
  {
   "cell_type": "markdown",
   "id": "227fc11f",
   "metadata": {},
   "source": [
    "# CLASS"
   ]
  },
  {
   "cell_type": "code",
   "execution_count": 1,
   "id": "b9e92e50",
   "metadata": {},
   "outputs": [],
   "source": [
    "# CLASS consist of body having 1>--- data member, 2>-----member function\n",
    "\n",
    "# we call the class with an object or instances\n"
   ]
  },
  {
   "cell_type": "code",
   "execution_count": 4,
   "id": "6d60f315",
   "metadata": {},
   "outputs": [],
   "source": [
    "# Q. what is a class? \n",
    "\n",
    "# Ans: class is a architecture of the object.It is a proper description of the attributes and methords of the class.\n",
    "\n",
    "# example: like you can make many cars of the same type from a design of the car. we write class as   class student:"
   ]
  },
  {
   "cell_type": "code",
   "execution_count": 5,
   "id": "4cd0d509",
   "metadata": {},
   "outputs": [],
   "source": [
    "# data member :- A class variable or instance variable that holds data associated with a class and its object\n",
    "\n",
    "# member function:- Function that code the specify some work or task\n",
    "\n",
    "# Instance or object:- An individual object of a certain class an object obj that belongs to a class circle \n",
    "# example: think of a dog as a type,your dog is instance"
   ]
  },
  {
   "cell_type": "markdown",
   "id": "959c3e27",
   "metadata": {},
   "source": [
    " --------classes----------------------"
   ]
  },
  {
   "cell_type": "code",
   "execution_count": 14,
   "id": "d67a3c7a",
   "metadata": {},
   "outputs": [],
   "source": [
    "# class\n",
    "\n",
    "class student:\n",
    "    \n",
    "    # initialization constructor--- to give values to data members\n",
    "    \n",
    "    def __init__(self,name,grade):\n",
    "        self.name=name\n",
    "        self.grade=grade\n",
    "        \n",
    "    # member function\n",
    "    \n",
    "    def display(self):\n",
    "        print(\"Name :\",self.name,\" Grade:\" ,self.grade)"
   ]
  },
  {
   "cell_type": "code",
   "execution_count": 9,
   "id": "019d78d5",
   "metadata": {},
   "outputs": [
    {
     "name": "stdout",
     "output_type": "stream",
     "text": [
      "Name : Abhijit  Grade: 9\n"
     ]
    }
   ],
   "source": [
    "# creat object\n",
    "\n",
    "stud1=student(\"Abhijit\",9)\n",
    "stud1.display()"
   ]
  },
  {
   "cell_type": "code",
   "execution_count": 10,
   "id": "9afa9c5d",
   "metadata": {},
   "outputs": [
    {
     "name": "stdout",
     "output_type": "stream",
     "text": [
      "Name : Jack  Grade: 10\n"
     ]
    }
   ],
   "source": [
    "# creat object\n",
    "\n",
    "stud2=student(\"Jack\",10)\n",
    "stud2.display()"
   ]
  },
  {
   "cell_type": "code",
   "execution_count": 16,
   "id": "46af2995",
   "metadata": {},
   "outputs": [
    {
     "data": {
      "text/plain": [
       "'Abhijit'"
      ]
     },
     "execution_count": 16,
     "metadata": {},
     "output_type": "execute_result"
    }
   ],
   "source": [
    "stud1.name"
   ]
  },
  {
   "cell_type": "code",
   "execution_count": 17,
   "id": "428c5faa",
   "metadata": {},
   "outputs": [
    {
     "data": {
      "text/plain": [
       "9"
      ]
     },
     "execution_count": 17,
     "metadata": {},
     "output_type": "execute_result"
    }
   ],
   "source": [
    "stud1.grade"
   ]
  },
  {
   "cell_type": "code",
   "execution_count": 19,
   "id": "7e75bb48",
   "metadata": {},
   "outputs": [
    {
     "data": {
      "text/plain": [
       "10"
      ]
     },
     "execution_count": 19,
     "metadata": {},
     "output_type": "execute_result"
    }
   ],
   "source": [
    "stud2.grade"
   ]
  },
  {
   "cell_type": "code",
   "execution_count": 20,
   "id": "f942c834",
   "metadata": {},
   "outputs": [
    {
     "data": {
      "text/plain": [
       "'Jack'"
      ]
     },
     "execution_count": 20,
     "metadata": {},
     "output_type": "execute_result"
    }
   ],
   "source": [
    "stud2.name"
   ]
  },
  {
   "cell_type": "code",
   "execution_count": 22,
   "id": "487de5ec",
   "metadata": {},
   "outputs": [
    {
     "name": "stdout",
     "output_type": "stream",
     "text": [
      " hello : Ranjeet your code is 1220\n"
     ]
    }
   ],
   "source": [
    "#class\n",
    "\n",
    "class staff:\n",
    "    #class variable\n",
    "    salary=9000\n",
    "    \n",
    "    # initialization constructor and data member\n",
    "    def __init__(self,name,code,):\n",
    "        self.name=name\n",
    "        self.code=code\n",
    "        \n",
    "    #member function\n",
    "    def display(self):\n",
    "        print(\" hello :\",self.name,\"your code is\",self.code)\n",
    "        \n",
    " # calling display object\n",
    "\n",
    "st1=staff(\"Ranjeet\", 1220)\n",
    "st1.display()\n",
    "    "
   ]
  },
  {
   "cell_type": "code",
   "execution_count": 23,
   "id": "8698189d",
   "metadata": {},
   "outputs": [
    {
     "data": {
      "text/plain": [
       "'Ranjeet'"
      ]
     },
     "execution_count": 23,
     "metadata": {},
     "output_type": "execute_result"
    }
   ],
   "source": [
    "# calling instance variable\n",
    "st1.name"
   ]
  },
  {
   "cell_type": "code",
   "execution_count": 24,
   "id": "610bcd42",
   "metadata": {},
   "outputs": [
    {
     "data": {
      "text/plain": [
       "1220"
      ]
     },
     "execution_count": 24,
     "metadata": {},
     "output_type": "execute_result"
    }
   ],
   "source": [
    "# calling instance variable\n",
    "st1.code"
   ]
  },
  {
   "cell_type": "code",
   "execution_count": 26,
   "id": "dd226f69",
   "metadata": {},
   "outputs": [
    {
     "name": "stdout",
     "output_type": "stream",
     "text": [
      " hello : koyel your code is 1221\n"
     ]
    }
   ],
   "source": [
    "st2=staff(\"koyel\", 1221)\n",
    "st2.display()"
   ]
  },
  {
   "cell_type": "code",
   "execution_count": 27,
   "id": "023230f1",
   "metadata": {},
   "outputs": [
    {
     "data": {
      "text/plain": [
       "'koyel'"
      ]
     },
     "execution_count": 27,
     "metadata": {},
     "output_type": "execute_result"
    }
   ],
   "source": [
    "st2.name"
   ]
  },
  {
   "cell_type": "code",
   "execution_count": 28,
   "id": "d39b544e",
   "metadata": {},
   "outputs": [
    {
     "data": {
      "text/plain": [
       "1221"
      ]
     },
     "execution_count": 28,
     "metadata": {},
     "output_type": "execute_result"
    }
   ],
   "source": [
    "st2.code"
   ]
  },
  {
   "cell_type": "code",
   "execution_count": 33,
   "id": "77c43f9e",
   "metadata": {},
   "outputs": [],
   "source": [
    "#class\n",
    "class student:\n",
    "    #class variable\n",
    "    fees=100\n",
    "    \n",
    "    # initialization/ data member\n",
    "    def __init__(self,name,grade):\n",
    "        self.name=name\n",
    "        self.grade=grade\n",
    "        \n",
    "    def display(self):\n",
    "        print(\"Hi\",self.name,\" Grade is\" ,self.grade)\n",
    "    "
   ]
  },
  {
   "cell_type": "code",
   "execution_count": 34,
   "id": "289aea69",
   "metadata": {},
   "outputs": [
    {
     "name": "stdout",
     "output_type": "stream",
     "text": [
      "Hi Raj  Grade is 4\n"
     ]
    }
   ],
   "source": [
    "# calling object by calling display(self)\n",
    "\n",
    "std1=student(\"Raj\",4)\n",
    "std1.display()"
   ]
  },
  {
   "cell_type": "code",
   "execution_count": 35,
   "id": "16121eaa",
   "metadata": {},
   "outputs": [
    {
     "name": "stdout",
     "output_type": "stream",
     "text": [
      "Hi Sangeet  Grade is 3\n"
     ]
    }
   ],
   "source": [
    "# calling object by calling display(self)\n",
    "\n",
    "std2=student(\"Sangeet\", 3)\n",
    "std2.display()"
   ]
  },
  {
   "cell_type": "code",
   "execution_count": 38,
   "id": "bd3dcd35",
   "metadata": {},
   "outputs": [
    {
     "data": {
      "text/plain": [
       "'Sangeet'"
      ]
     },
     "execution_count": 38,
     "metadata": {},
     "output_type": "execute_result"
    }
   ],
   "source": [
    "# calling instance variable\n",
    "std2.name"
   ]
  },
  {
   "cell_type": "code",
   "execution_count": 39,
   "id": "ba0e96a9",
   "metadata": {},
   "outputs": [
    {
     "data": {
      "text/plain": [
       "3"
      ]
     },
     "execution_count": 39,
     "metadata": {},
     "output_type": "execute_result"
    }
   ],
   "source": [
    "# calling intance variable\n",
    "std2.grade"
   ]
  },
  {
   "cell_type": "code",
   "execution_count": 41,
   "id": "cfb59286",
   "metadata": {},
   "outputs": [
    {
     "data": {
      "text/plain": [
       "'Raj'"
      ]
     },
     "execution_count": 41,
     "metadata": {},
     "output_type": "execute_result"
    }
   ],
   "source": [
    "# calling instance variable\n",
    "std1.name"
   ]
  },
  {
   "cell_type": "code",
   "execution_count": 42,
   "id": "30fcdc53",
   "metadata": {},
   "outputs": [
    {
     "data": {
      "text/plain": [
       "4"
      ]
     },
     "execution_count": 42,
     "metadata": {},
     "output_type": "execute_result"
    }
   ],
   "source": [
    "\n",
    "std1.grade"
   ]
  },
  {
   "cell_type": "code",
   "execution_count": 43,
   "id": "39e82306",
   "metadata": {},
   "outputs": [],
   "source": [
    "#class\n",
    "\n",
    "class person:\n",
    "    \n",
    "    #initialization, data member\n",
    "    def __init__(self,id,name):\n",
    "        self.name=name\n",
    "        self.id=id\n",
    "        \n",
    "    # function member    \n",
    "    def display(self):\n",
    "        print(\"your id number\",self.id,\"and your name is\",self.name)\n",
    "        "
   ]
  },
  {
   "cell_type": "code",
   "execution_count": 44,
   "id": "d2b0b9a4",
   "metadata": {},
   "outputs": [
    {
     "name": "stdout",
     "output_type": "stream",
     "text": [
      "your id number 2030 and your name is Ranjeet\n"
     ]
    }
   ],
   "source": [
    "# object calling\n",
    "\n",
    "p1=person(2030,\"Ranjeet\")\n",
    "p1.display()"
   ]
  },
  {
   "cell_type": "code",
   "execution_count": 45,
   "id": "c524ffae",
   "metadata": {},
   "outputs": [
    {
     "name": "stdout",
     "output_type": "stream",
     "text": [
      "your id number 4030 and your name is Faraan\n"
     ]
    }
   ],
   "source": [
    "# object calling\n",
    "\n",
    "p2=person(4030,\"Faraan\")\n",
    "p2.display()"
   ]
  },
  {
   "cell_type": "code",
   "execution_count": 46,
   "id": "ad0aebb6",
   "metadata": {},
   "outputs": [
    {
     "data": {
      "text/plain": [
       "'Faraan'"
      ]
     },
     "execution_count": 46,
     "metadata": {},
     "output_type": "execute_result"
    }
   ],
   "source": [
    "# calling instance variable\n",
    "p2.name"
   ]
  },
  {
   "cell_type": "code",
   "execution_count": 47,
   "id": "87e7f01c",
   "metadata": {},
   "outputs": [
    {
     "data": {
      "text/plain": [
       "4030"
      ]
     },
     "execution_count": 47,
     "metadata": {},
     "output_type": "execute_result"
    }
   ],
   "source": [
    "# calling instance variable\n",
    "\n",
    "p2.id"
   ]
  },
  {
   "cell_type": "code",
   "execution_count": 48,
   "id": "cfc239a9",
   "metadata": {},
   "outputs": [
    {
     "data": {
      "text/plain": [
       "'Ranjeet'"
      ]
     },
     "execution_count": 48,
     "metadata": {},
     "output_type": "execute_result"
    }
   ],
   "source": [
    "# calling instance variable\n",
    "p1.name"
   ]
  },
  {
   "cell_type": "code",
   "execution_count": 49,
   "id": "dfa66f5f",
   "metadata": {},
   "outputs": [
    {
     "data": {
      "text/plain": [
       "2030"
      ]
     },
     "execution_count": 49,
     "metadata": {},
     "output_type": "execute_result"
    }
   ],
   "source": [
    "# calling instance variable\n",
    "\n",
    "p1.id"
   ]
  },
  {
   "cell_type": "code",
   "execution_count": 1,
   "id": "cd51e97d",
   "metadata": {},
   "outputs": [],
   "source": [
    "#constructor is a special method. you can think of as a function which initializes or activates the attributes or properties\n",
    "#0f the class for a object. use keyword __init__ to create a methord for constructor."
   ]
  },
  {
   "cell_type": "code",
   "execution_count": 2,
   "id": "ced3dda7",
   "metadata": {},
   "outputs": [],
   "source": [
    "class Employee:\n",
    "    \n",
    "    #initialization/data member\n",
    "    def __init__(self,name,age,id,salary):\n",
    "        self.name=name\n",
    "        self.age=age\n",
    "        self.id=id\n",
    "        self.salary=salary\n",
    "    # member function\n",
    "    def display(self):\n",
    "        print(\"Hi\",self.name,\"your age is\",self.age,\"your id number\",self.id,\"and salary is\",self.salary)\n",
    "    "
   ]
  },
  {
   "cell_type": "code",
   "execution_count": 3,
   "id": "e09ffcb9",
   "metadata": {},
   "outputs": [
    {
     "name": "stdout",
     "output_type": "stream",
     "text": [
      "Hi jhon your age is 23 your id number 1200 and salary is 12000\n"
     ]
    }
   ],
   "source": [
    "emp1=Employee(\"jhon\",23,1200,12000)\n",
    "emp1.display()"
   ]
  },
  {
   "cell_type": "code",
   "execution_count": 4,
   "id": "7183d216",
   "metadata": {},
   "outputs": [
    {
     "name": "stdout",
     "output_type": "stream",
     "text": [
      "Hi Andrew your age is 24 your id number 1201 and salary is 13000\n"
     ]
    }
   ],
   "source": [
    "emp2=Employee(\"Andrew\",24,1201,13000)\n",
    "emp2.display()"
   ]
  },
  {
   "cell_type": "code",
   "execution_count": 6,
   "id": "651ff8b4",
   "metadata": {},
   "outputs": [
    {
     "name": "stdout",
     "output_type": "stream",
     "text": [
      "Hi Andy your age is 25 your id number 1202 and salary is 12500\n"
     ]
    }
   ],
   "source": [
    "emp3=Employee(\"Andy\",25,1202,12500)\n",
    "emp3.display()"
   ]
  },
  {
   "cell_type": "code",
   "execution_count": 7,
   "id": "25513f0a",
   "metadata": {},
   "outputs": [
    {
     "data": {
      "text/plain": [
       "13000"
      ]
     },
     "execution_count": 7,
     "metadata": {},
     "output_type": "execute_result"
    }
   ],
   "source": [
    "emp2.salary"
   ]
  },
  {
   "cell_type": "code",
   "execution_count": 8,
   "id": "7ac80d83",
   "metadata": {},
   "outputs": [
    {
     "data": {
      "text/plain": [
       "23"
      ]
     },
     "execution_count": 8,
     "metadata": {},
     "output_type": "execute_result"
    }
   ],
   "source": [
    "emp1.age"
   ]
  },
  {
   "cell_type": "code",
   "execution_count": 9,
   "id": "9b875fde",
   "metadata": {},
   "outputs": [
    {
     "data": {
      "text/plain": [
       "'jhon'"
      ]
     },
     "execution_count": 9,
     "metadata": {},
     "output_type": "execute_result"
    }
   ],
   "source": [
    "emp1.name"
   ]
  },
  {
   "cell_type": "code",
   "execution_count": 10,
   "id": "de74dda9",
   "metadata": {},
   "outputs": [
    {
     "data": {
      "text/plain": [
       "25"
      ]
     },
     "execution_count": 10,
     "metadata": {},
     "output_type": "execute_result"
    }
   ],
   "source": [
    "emp3.age"
   ]
  },
  {
   "cell_type": "code",
   "execution_count": 11,
   "id": "67281e20",
   "metadata": {},
   "outputs": [
    {
     "data": {
      "text/plain": [
       "'Andy'"
      ]
     },
     "execution_count": 11,
     "metadata": {},
     "output_type": "execute_result"
    }
   ],
   "source": [
    "emp3.name"
   ]
  },
  {
   "cell_type": "code",
   "execution_count": 13,
   "id": "bd619991",
   "metadata": {},
   "outputs": [],
   "source": [
    "#class\n",
    "\n",
    "class Company:\n",
    "    \n",
    "    #initialization/data member\n",
    "    def __init__(self,name,location,number_of_employees):\n",
    "        self.name=name\n",
    "        self.location=location\n",
    "        self.number_of_employees=number_of_employees\n",
    "        \n",
    "    # member function\n",
    "    def display(self):\n",
    "        print(\"hi\",self.name,\"loction \",self.location,\" Total employees\",self.number_of_employees)"
   ]
  },
  {
   "cell_type": "code",
   "execution_count": 14,
   "id": "299a4b78",
   "metadata": {},
   "outputs": [],
   "source": [
    "c=Company(\"jit\",\"UK\",25000)\n"
   ]
  },
  {
   "cell_type": "code",
   "execution_count": 19,
   "id": "de6e762b",
   "metadata": {},
   "outputs": [
    {
     "name": "stdout",
     "output_type": "stream",
     "text": [
      "jit\n"
     ]
    }
   ],
   "source": [
    "print(c.name)"
   ]
  },
  {
   "cell_type": "code",
   "execution_count": 16,
   "id": "c3ca4843",
   "metadata": {},
   "outputs": [
    {
     "name": "stdout",
     "output_type": "stream",
     "text": [
      "UK\n"
     ]
    }
   ],
   "source": [
    "print(c.location)"
   ]
  },
  {
   "cell_type": "code",
   "execution_count": 18,
   "id": "ad66c395",
   "metadata": {},
   "outputs": [
    {
     "name": "stdout",
     "output_type": "stream",
     "text": [
      "25000\n"
     ]
    }
   ],
   "source": [
    "print(c.number_of_employees)"
   ]
  },
  {
   "cell_type": "code",
   "execution_count": 20,
   "id": "0464f5d0",
   "metadata": {},
   "outputs": [],
   "source": [
    "#class\n",
    "class car:\n",
    "    # initialization/data member\n",
    "    def __init__(self,company,color):\n",
    "        self.company=company\n",
    "        self.color=color\n",
    "        \n",
    "    # member function\n",
    "    def display(self):\n",
    "        print(\"This is a \",self.color,self.company)"
   ]
  },
  {
   "cell_type": "code",
   "execution_count": 21,
   "id": "a792295e",
   "metadata": {},
   "outputs": [],
   "source": [
    "# this is used in development purpose\n",
    "\n",
    "def main():\n",
    "    c=car(\"Ferrari\",\"Red\")\n",
    "    c.display()\n",
    "    "
   ]
  },
  {
   "cell_type": "code",
   "execution_count": 22,
   "id": "d705d69f",
   "metadata": {},
   "outputs": [
    {
     "name": "stdout",
     "output_type": "stream",
     "text": [
      "This is a  Red Ferrari\n"
     ]
    }
   ],
   "source": [
    "# this is used development purpose\n",
    "\n",
    "if __name__==\"__main__\":\n",
    "    main()"
   ]
  },
  {
   "cell_type": "code",
   "execution_count": 23,
   "id": "1659bd1c",
   "metadata": {},
   "outputs": [],
   "source": [
    "class Employee:\n",
    "    def __init__(self,name,age):\n",
    "        print(\"initialization methord is used\")\n",
    "        self.name=name\n",
    "        self.age=age\n",
    "        \n",
    "    def getdata(self,name,age):\n",
    "        print(\"Getdata methord is called\")\n",
    "        self.name=name\n",
    "        self.age=age\n",
    "        \n",
    "    def display(self):\n",
    "        print(\"My name is\",self.name,\"and my age is\",self.age)\n"
   ]
  },
  {
   "cell_type": "code",
   "execution_count": 28,
   "id": "81ece3c8",
   "metadata": {},
   "outputs": [],
   "source": [
    "def main():\n",
    "    e=Employee(\"Rajveer\",45)\n",
    "    e.display()\n",
    "    \n",
    "    e.getdata(\"GetData\", 90)\n",
    "    e.display()\n",
    "    "
   ]
  },
  {
   "cell_type": "code",
   "execution_count": 29,
   "id": "9e442c0d",
   "metadata": {},
   "outputs": [
    {
     "name": "stdout",
     "output_type": "stream",
     "text": [
      "initialization methord is used\n",
      "My name is Rajveer and my age is 45\n",
      "Getdata methord is called\n",
      "My name is GetData and my age is 90\n"
     ]
    }
   ],
   "source": [
    "if __name__ ==\"__main__\":\n",
    "    main()\n"
   ]
  },
  {
   "cell_type": "code",
   "execution_count": 1,
   "id": "01c11fae",
   "metadata": {},
   "outputs": [],
   "source": [
    "#class\n",
    "\n",
    "class player:\n",
    "    def __init__(self,name,age,sports):\n",
    "        print(\"FROM Initialization/data member\")\n",
    "        self.name=name\n",
    "        self.age=age\n",
    "        self.sports=sports\n",
    "        \n",
    "    def getdata(self,name,age,sports):\n",
    "        print(\"From get data\")\n",
    "        self.name=name\n",
    "        self.age=age\n",
    "        self.sports=sports\n",
    "        \n",
    "    def display(self):\n",
    "        print(\"My name is\",self.name,\"age\",self.age,\"and I love\",self.sports)\n",
    "        "
   ]
  },
  {
   "cell_type": "code",
   "execution_count": 3,
   "id": "58d7389a",
   "metadata": {},
   "outputs": [
    {
     "name": "stdout",
     "output_type": "stream",
     "text": [
      "FROM Initialization/data member\n",
      "My name is Sachin Tendulkar age 25 and I love Cricket\n"
     ]
    }
   ],
   "source": [
    "play1=player(\"Sachin Tendulkar\",25,\"Cricket\")\n",
    "play1.display()"
   ]
  },
  {
   "cell_type": "code",
   "execution_count": 6,
   "id": "717609a0",
   "metadata": {},
   "outputs": [
    {
     "name": "stdout",
     "output_type": "stream",
     "text": [
      "From get data\n",
      "My name is kholi age 27 and I love cricket\n"
     ]
    }
   ],
   "source": [
    "play1.getdata(\"kholi\",27,\"cricket\")\n",
    "play1.display()"
   ]
  },
  {
   "cell_type": "code",
   "execution_count": 7,
   "id": "d7d14c7a",
   "metadata": {},
   "outputs": [
    {
     "name": "stdout",
     "output_type": "stream",
     "text": [
      "From get data\n"
     ]
    }
   ],
   "source": [
    "play1.getdata(\"shewag\",28,\"cricket\")"
   ]
  },
  {
   "cell_type": "code",
   "execution_count": 8,
   "id": "532c5583",
   "metadata": {},
   "outputs": [
    {
     "name": "stdout",
     "output_type": "stream",
     "text": [
      "My name is shewag age 28 and I love cricket\n"
     ]
    }
   ],
   "source": [
    "play1.display()"
   ]
  },
  {
   "cell_type": "code",
   "execution_count": 9,
   "id": "f080744e",
   "metadata": {},
   "outputs": [],
   "source": [
    "class military:\n",
    "    \n",
    "    def __init__(self,name,weapon):\n",
    "        self.name=name\n",
    "        self.weapon=weapon\n",
    "        \n",
    "    def getdata(self,name,weapon):\n",
    "        self.name=name\n",
    "        self.weapon=weapon\n",
    "        \n",
    "    def displaydata(self):\n",
    "        print(\"I am \",self.name,\"my weapon is\",self.weapon)"
   ]
  },
  {
   "cell_type": "code",
   "execution_count": 21,
   "id": "d4e5aa89",
   "metadata": {},
   "outputs": [
    {
     "name": "stdout",
     "output_type": "stream",
     "text": [
      "I am  India my weapon is agni missile\n"
     ]
    }
   ],
   "source": [
    "\n",
    "mil1=military(\"India\",\"agni missile\")\n",
    "mil1.displaydata()"
   ]
  },
  {
   "cell_type": "code",
   "execution_count": 22,
   "id": "dcf78bcd",
   "metadata": {},
   "outputs": [
    {
     "name": "stdout",
     "output_type": "stream",
     "text": [
      "I am  Russia my weapon is S-400\n"
     ]
    }
   ],
   "source": [
    "mil2=military(\"Russia\",\"S-400\")\n",
    "mil2.displaydata()"
   ]
  },
  {
   "cell_type": "code",
   "execution_count": 23,
   "id": "62795209",
   "metadata": {},
   "outputs": [
    {
     "data": {
      "text/plain": [
       "'Russia'"
      ]
     },
     "execution_count": 23,
     "metadata": {},
     "output_type": "execute_result"
    }
   ],
   "source": [
    "mil2.name"
   ]
  },
  {
   "cell_type": "code",
   "execution_count": 24,
   "id": "e8aa13ce",
   "metadata": {},
   "outputs": [
    {
     "data": {
      "text/plain": [
       "'India'"
      ]
     },
     "execution_count": 24,
     "metadata": {},
     "output_type": "execute_result"
    }
   ],
   "source": [
    "mil1.name"
   ]
  },
  {
   "cell_type": "code",
   "execution_count": 28,
   "id": "a6d9d1c0",
   "metadata": {},
   "outputs": [],
   "source": [
    "def main():\n",
    "    \n",
    "    m1=military(\"porkisthan\",\"Terror\")\n",
    "    m1.displaydata()\n",
    "    \n",
    "    m2=military(\"america\",\"Fighter jets\")\n",
    "    m2.displaydata()"
   ]
  },
  {
   "cell_type": "code",
   "execution_count": 29,
   "id": "22b8354f",
   "metadata": {},
   "outputs": [
    {
     "name": "stdout",
     "output_type": "stream",
     "text": [
      "I am  porkisthan my weapon is Terror\n",
      "I am  america my weapon is Fighter jets\n"
     ]
    }
   ],
   "source": [
    "if __name__==\"__main__\":\n",
    "    main()"
   ]
  },
  {
   "cell_type": "code",
   "execution_count": 26,
   "id": "153f0d6f",
   "metadata": {},
   "outputs": [
    {
     "name": "stdout",
     "output_type": "stream",
     "text": [
      "My name is raj My id number stands 45 I am sin\n"
     ]
    }
   ],
   "source": [
    "class employee:\n",
    "    \n",
    "    def __init__(self,name,id,status):\n",
    "        self.name=name\n",
    "        self.id=id\n",
    "        self.status=status\n",
    "        \n",
    "    def getdata(self,name, id,status):\n",
    "        self.name=name\n",
    "        self.id=id\n",
    "        self.status=status\n",
    "    \n",
    "    def display(self):\n",
    "        print(\"My name is\",self.name,\"My id number stands\",self.id,\"I am\",self.status)\n",
    "        \n",
    "        \n",
    "em1=employee(\"raj\",45,\"sin\")\n",
    "em1.display()"
   ]
  },
  {
   "cell_type": "code",
   "execution_count": 28,
   "id": "c0a8e218",
   "metadata": {},
   "outputs": [
    {
     "name": "stdout",
     "output_type": "stream",
     "text": [
      "My name is ravi My id number stands 90 I am sin\n"
     ]
    }
   ],
   "source": [
    "em1.getdata(\"ravi\",90,\"sin\")\n",
    "em1.display()"
   ]
  },
  {
   "cell_type": "code",
   "execution_count": 30,
   "id": "8eeddf80",
   "metadata": {},
   "outputs": [
    {
     "name": "stdout",
     "output_type": "stream",
     "text": [
      "My name is rahul My id number stands 89 I am sin\n"
     ]
    }
   ],
   "source": [
    "em1.getdata(\"rahul\",89,\"sin\")\n",
    "em1.display()"
   ]
  },
  {
   "cell_type": "code",
   "execution_count": 31,
   "id": "7deca95a",
   "metadata": {},
   "outputs": [
    {
     "name": "stdout",
     "output_type": "stream",
     "text": [
      "My name is kim My id number stands 78 I am married\n"
     ]
    }
   ],
   "source": [
    "em1.getdata(\"kim\",78,\"married\")\n",
    "em1.display()"
   ]
  },
  {
   "cell_type": "code",
   "execution_count": 32,
   "id": "b4321206",
   "metadata": {},
   "outputs": [],
   "source": [
    "def main():\n",
    "    \n",
    "    ep1=employee(\"Ankit\",23,\"single\")\n",
    "    ep1.display()"
   ]
  },
  {
   "cell_type": "code",
   "execution_count": 33,
   "id": "2289a7c1",
   "metadata": {},
   "outputs": [
    {
     "name": "stdout",
     "output_type": "stream",
     "text": [
      "My name is Ankit My id number stands 23 I am single\n"
     ]
    }
   ],
   "source": [
    "if __name__==\"__main__\":\n",
    "    main()"
   ]
  },
  {
   "cell_type": "code",
   "execution_count": 34,
   "id": "1439f0f6",
   "metadata": {},
   "outputs": [
    {
     "name": "stdout",
     "output_type": "stream",
     "text": [
      "My name is Aneek My id number stands 34 I am Married\n"
     ]
    }
   ],
   "source": [
    "ep2=employee(\"Aneek\",34,\"Married\")\n",
    "ep2.display()"
   ]
  },
  {
   "cell_type": "code",
   "execution_count": 35,
   "id": "311bd600",
   "metadata": {},
   "outputs": [],
   "source": [
    "def main():\n",
    "    ep3=employee(\"Arun\",34,\"Single\")\n",
    "    ep3.display()\n",
    "    \n",
    "    ep4=employee(\"Shib\",43,\"Divorced\")\n",
    "    ep4.display()"
   ]
  },
  {
   "cell_type": "code",
   "execution_count": 36,
   "id": "def4e50f",
   "metadata": {},
   "outputs": [
    {
     "name": "stdout",
     "output_type": "stream",
     "text": [
      "My name is Arun My id number stands 34 I am Single\n",
      "My name is Shib My id number stands 43 I am Divorced\n"
     ]
    }
   ],
   "source": [
    "if __name__==\"__main__\":\n",
    "    main()"
   ]
  },
  {
   "cell_type": "code",
   "execution_count": 1,
   "id": "4beb9519",
   "metadata": {},
   "outputs": [],
   "source": [
    "class colour:\n",
    "    \n",
    "    def __init__(self,name,use):\n",
    "        self.name=name\n",
    "        self.use=use\n",
    "        \n",
    "    def getdata(self,name,use):\n",
    "        self.name=name\n",
    "        self.use=use\n",
    "        \n",
    "    def display(self):\n",
    "        print(\"My name is\",self.name,\"I love to \",self.use)"
   ]
  },
  {
   "cell_type": "code",
   "execution_count": 11,
   "id": "5b367066",
   "metadata": {},
   "outputs": [],
   "source": [
    "def main():\n",
    "    color1=colour(\"Papaya\",\"BE Green\")\n",
    "    color1.display()\n",
    "    \n",
    "    color1.getdata(\"Water\",\"Be blue\")\n",
    "    color1.display()"
   ]
  },
  {
   "cell_type": "code",
   "execution_count": 12,
   "id": "e964f549",
   "metadata": {},
   "outputs": [
    {
     "name": "stdout",
     "output_type": "stream",
     "text": [
      "My name is Papaya I love to  BE Green\n",
      "My name is Water I love to  Be blue\n"
     ]
    }
   ],
   "source": [
    "if __name__==\"__main__\":\n",
    "    main()"
   ]
  },
  {
   "cell_type": "code",
   "execution_count": 13,
   "id": "93e7dc15",
   "metadata": {},
   "outputs": [
    {
     "name": "stdout",
     "output_type": "stream",
     "text": [
      "My name is rose I love to  Red\n"
     ]
    }
   ],
   "source": [
    "color2=colour(\"rose\",\"Red\")\n",
    "color2.display()"
   ]
  },
  {
   "cell_type": "code",
   "execution_count": 14,
   "id": "47f07aeb",
   "metadata": {},
   "outputs": [
    {
     "name": "stdout",
     "output_type": "stream",
     "text": [
      "My name is Egg I love to  Wite\n"
     ]
    }
   ],
   "source": [
    "color2.getdata(\"Egg\",\"Wite\")\n",
    "color2.display()"
   ]
  },
  {
   "cell_type": "code",
   "execution_count": 33,
   "id": "9965ccf5",
   "metadata": {},
   "outputs": [
    {
     "name": "stdout",
     "output_type": "stream",
     "text": [
      "I am done \n"
     ]
    }
   ],
   "source": [
    "class employee:\n",
    "    \n",
    "    def __init__(self,id,stream):\n",
    "        self.id=id\n",
    "        self.stream=stream\n",
    "        \n",
    "    def getdata(self,id,stream):\n",
    "        self.id=id\n",
    "        self.stream=stream\n",
    "        \n",
    "    def display(self):\n",
    "        print(\"Id number\",self.id,\"stream \",self.stream) \n",
    "        \n",
    "print(\"I am done \")        "
   ]
  },
  {
   "cell_type": "code",
   "execution_count": 34,
   "id": "3b418791",
   "metadata": {},
   "outputs": [],
   "source": [
    "def main():\n",
    "    rahul=employee(121,\"BSC\")\n",
    "    rahul.display()\n",
    "    \n",
    "    rahul.getdata(90,\"BBA\")\n",
    "    rahul.display()"
   ]
  },
  {
   "cell_type": "code",
   "execution_count": 35,
   "id": "f9872dbd",
   "metadata": {},
   "outputs": [
    {
     "name": "stdout",
     "output_type": "stream",
     "text": [
      "Id number 121 stream  BSC\n",
      "Id number 90 stream  BBA\n"
     ]
    }
   ],
   "source": [
    "if __name__==\"__main__\":\n",
    "    main()"
   ]
  },
  {
   "cell_type": "code",
   "execution_count": 39,
   "id": "fb28a1ce",
   "metadata": {},
   "outputs": [
    {
     "data": {
      "text/plain": [
       "'Ratan Lal'"
      ]
     },
     "execution_count": 39,
     "metadata": {},
     "output_type": "execute_result"
    }
   ],
   "source": [
    "rahul.id"
   ]
  },
  {
   "cell_type": "code",
   "execution_count": 40,
   "id": "9c34d730",
   "metadata": {},
   "outputs": [
    {
     "data": {
      "text/plain": [
       "'Santi debi'"
      ]
     },
     "execution_count": 40,
     "metadata": {},
     "output_type": "execute_result"
    }
   ],
   "source": [
    "rahul.stream"
   ]
  },
  {
   "cell_type": "code",
   "execution_count": 41,
   "id": "ad86d348",
   "metadata": {},
   "outputs": [],
   "source": [
    "rahul.getdata(30,\"MBa\")"
   ]
  },
  {
   "cell_type": "code",
   "execution_count": 42,
   "id": "24b1c78e",
   "metadata": {},
   "outputs": [
    {
     "name": "stdout",
     "output_type": "stream",
     "text": [
      "Fathers Name is  30 And his Mothers Name is  MBa\n"
     ]
    }
   ],
   "source": [
    "rahul.display()"
   ]
  },
  {
   "cell_type": "code",
   "execution_count": 43,
   "id": "27aa3e1d",
   "metadata": {},
   "outputs": [
    {
     "name": "stdout",
     "output_type": "stream",
     "text": [
      "Name of the book is R D sharma Color of the book is blue\n"
     ]
    }
   ],
   "source": [
    "class book:\n",
    "    \n",
    "    def __init__(self,name_book,color_book):\n",
    "        self.name_book=name_book\n",
    "        self.color_book=color_book\n",
    "        \n",
    "    def getdata(self,name_book,color_book):\n",
    "        self.name_book=name_book\n",
    "        self.color_book=color_book\n",
    "        \n",
    "    def display(self):\n",
    "        print(\"Name of the book is\",self.name_book,\"Color of the book is\",self.color_book)\n",
    "        \n",
    "bk=book(\"R D sharma\",\"blue\")\n",
    "bk.display()"
   ]
  },
  {
   "cell_type": "code",
   "execution_count": 44,
   "id": "8cf44924",
   "metadata": {},
   "outputs": [],
   "source": [
    "bk.getdata(\"The Time Machine\",\"black\")"
   ]
  },
  {
   "cell_type": "code",
   "execution_count": 45,
   "id": "8b3e0255",
   "metadata": {},
   "outputs": [
    {
     "name": "stdout",
     "output_type": "stream",
     "text": [
      "Name of the book is The Time Machine Color of the book is black\n"
     ]
    }
   ],
   "source": [
    "bk.display()"
   ]
  },
  {
   "cell_type": "code",
   "execution_count": 49,
   "id": "10afbb7c",
   "metadata": {},
   "outputs": [],
   "source": [
    "def main():\n",
    "    bk1=book(\"6 secrets\",\" Black and Red\")\n",
    "    bk1.display()"
   ]
  },
  {
   "cell_type": "code",
   "execution_count": 50,
   "id": "6d35859f",
   "metadata": {},
   "outputs": [
    {
     "name": "stdout",
     "output_type": "stream",
     "text": [
      "Name of the book is 6 secrets Color of the book is  Black and Red\n"
     ]
    }
   ],
   "source": [
    "if __name__==\"__main__\":\n",
    "    main()"
   ]
  },
  {
   "cell_type": "code",
   "execution_count": null,
   "id": "ef20bce2",
   "metadata": {},
   "outputs": [],
   "source": []
  }
 ],
 "metadata": {
  "kernelspec": {
   "display_name": "Python 3 (ipykernel)",
   "language": "python",
   "name": "python3"
  },
  "language_info": {
   "codemirror_mode": {
    "name": "ipython",
    "version": 3
   },
   "file_extension": ".py",
   "mimetype": "text/x-python",
   "name": "python",
   "nbconvert_exporter": "python",
   "pygments_lexer": "ipython3",
   "version": "3.9.7"
  }
 },
 "nbformat": 4,
 "nbformat_minor": 5
}
