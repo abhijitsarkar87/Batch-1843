{
 "cells": [
  {
   "cell_type": "code",
   "execution_count": 5,
   "id": "542e2d85",
   "metadata": {},
   "outputs": [],
   "source": [
    "import sqlite3"
   ]
  },
  {
   "cell_type": "code",
   "execution_count": 6,
   "id": "646bb387",
   "metadata": {},
   "outputs": [],
   "source": [
    "mydb=sqlite3.connect(\"G:/Data_Base/Scores_database.db\")"
   ]
  },
  {
   "cell_type": "code",
   "execution_count": 7,
   "id": "830a7f0b",
   "metadata": {},
   "outputs": [],
   "source": [
    "cur=mydb.cursor()"
   ]
  },
  {
   "cell_type": "code",
   "execution_count": 21,
   "id": "1bb96925",
   "metadata": {},
   "outputs": [
    {
     "data": {
      "text/plain": [
       "<sqlite3.Cursor at 0x1d3b42b06c0>"
      ]
     },
     "execution_count": 21,
     "metadata": {},
     "output_type": "execute_result"
    }
   ],
   "source": [
    "cur.execute(\"create table scores(gender char(6),name text, score int)\")"
   ]
  },
  {
   "cell_type": "code",
   "execution_count": 22,
   "id": "43539c66",
   "metadata": {},
   "outputs": [],
   "source": [
    "mydb.commit()"
   ]
  },
  {
   "cell_type": "code",
   "execution_count": 23,
   "id": "1b25f5c8",
   "metadata": {},
   "outputs": [
    {
     "data": {
      "text/plain": [
       "<sqlite3.Cursor at 0x1d3b42b06c0>"
      ]
     },
     "execution_count": 23,
     "metadata": {},
     "output_type": "execute_result"
    }
   ],
   "source": [
    "cur.execute(\"Insert into scores values('Male','Abhijit', 78 ),('Male','Ranjit',89),('female','Ritu',90),('male','Ranjan',70)\")"
   ]
  },
  {
   "cell_type": "code",
   "execution_count": 24,
   "id": "4d143399",
   "metadata": {},
   "outputs": [],
   "source": [
    "mydb.commit()"
   ]
  },
  {
   "cell_type": "code",
   "execution_count": 25,
   "id": "504aa877",
   "metadata": {},
   "outputs": [
    {
     "data": {
      "text/plain": [
       "[('Male', 'Abhijit', 78),\n",
       " ('Male', 'Ranjit', 89),\n",
       " ('female', 'Ritu', 90),\n",
       " ('male', 'Ranjan', 70)]"
      ]
     },
     "execution_count": 25,
     "metadata": {},
     "output_type": "execute_result"
    }
   ],
   "source": [
    "result=cur.execute(\"select * from scores\")\n",
    "result.fetchall()"
   ]
  },
  {
   "cell_type": "code",
   "execution_count": 26,
   "id": "64bd040f",
   "metadata": {},
   "outputs": [
    {
     "data": {
      "text/plain": [
       "<sqlite3.Cursor at 0x1d3b42b06c0>"
      ]
     },
     "execution_count": 26,
     "metadata": {},
     "output_type": "execute_result"
    }
   ],
   "source": [
    "cur.execute(\"Insert into scores values('Male','Dinesh',87),('female','umesh',90)\")"
   ]
  },
  {
   "cell_type": "code",
   "execution_count": 28,
   "id": "88ac6ab6",
   "metadata": {},
   "outputs": [],
   "source": [
    "mydb.commit()"
   ]
  },
  {
   "cell_type": "code",
   "execution_count": 29,
   "id": "2dfcad9e",
   "metadata": {},
   "outputs": [
    {
     "data": {
      "text/plain": [
       "[('Male', 'Abhijit', 78),\n",
       " ('Male', 'Ranjit', 89),\n",
       " ('female', 'Ritu', 90),\n",
       " ('male', 'Ranjan', 70),\n",
       " ('Male', 'Dinesh', 87),\n",
       " ('female', 'umesh', 90)]"
      ]
     },
     "execution_count": 29,
     "metadata": {},
     "output_type": "execute_result"
    }
   ],
   "source": [
    "result=cur.execute(\"Select * from scores\")\n",
    "result.fetchall()"
   ]
  },
  {
   "cell_type": "code",
   "execution_count": 9,
   "id": "1544a9d3",
   "metadata": {},
   "outputs": [
    {
     "name": "stdout",
     "output_type": "stream",
     "text": [
      "8 Records inserted\n"
     ]
    }
   ],
   "source": [
    "with open('scores_file.csv','r')as file:\n",
    "    total_records=0\n",
    "    for row in file:\n",
    "        cur.execute(\"insert into scores values(?,?,?)\",row.split(\",\"))\n",
    "        mydb.commit()\n",
    "        total_records+=1\n",
    "print(total_records,'Records inserted')\n",
    "    "
   ]
  },
  {
   "cell_type": "code",
   "execution_count": 11,
   "id": "edde4f48",
   "metadata": {},
   "outputs": [
    {
     "data": {
      "text/plain": [
       "[('Male', 'Abhijit', 78),\n",
       " ('Male', 'Ranjit', 89),\n",
       " ('female', 'Ritu', 90),\n",
       " ('male', 'Ranjan', 70),\n",
       " ('male', 'Virat', 88),\n",
       " ('male', 'Virat', 88),\n",
       " ('female', 'heena', 68),\n",
       " ('male', 'sam', 86),\n",
       " ('male', 'jack', 99),\n",
       " ('female', 'deepika', 79),\n",
       " ('male', 'deepak', 87),\n",
       " ('female', 'rimi', 76),\n",
       " ('male', 'rik', 89)]"
      ]
     },
     "execution_count": 11,
     "metadata": {},
     "output_type": "execute_result"
    }
   ],
   "source": [
    "result=cur.execute(\"Select * from scores\")\n",
    "\n",
    "result.fetchall()"
   ]
  },
  {
   "cell_type": "markdown",
   "id": "feb47367",
   "metadata": {},
   "source": [
    "# Practice Question:"
   ]
  },
  {
   "cell_type": "code",
   "execution_count": 12,
   "id": "b3e6a279",
   "metadata": {},
   "outputs": [],
   "source": [
    "import sqlite3"
   ]
  },
  {
   "cell_type": "code",
   "execution_count": 13,
   "id": "e572b735",
   "metadata": {},
   "outputs": [],
   "source": [
    "meradb=sqlite3.connect(\"Employee_Database.db\")"
   ]
  },
  {
   "cell_type": "code",
   "execution_count": 14,
   "id": "fa94d571",
   "metadata": {},
   "outputs": [],
   "source": [
    "cur=meradb.cursor()"
   ]
  },
  {
   "cell_type": "code",
   "execution_count": 15,
   "id": "4ebdec62",
   "metadata": {},
   "outputs": [
    {
     "data": {
      "text/plain": [
       "<sqlite3.Cursor at 0x1af02a9a730>"
      ]
     },
     "execution_count": 15,
     "metadata": {},
     "output_type": "execute_result"
    }
   ],
   "source": [
    "cur.execute(\"Create Table Employees(Id int primary key, Name text, Age int, Address char(20), salary real)\")"
   ]
  },
  {
   "cell_type": "code",
   "execution_count": 17,
   "id": "50aa6eb9",
   "metadata": {},
   "outputs": [],
   "source": [
    "meradb.commit()"
   ]
  },
  {
   "cell_type": "code",
   "execution_count": 27,
   "id": "c2e61265",
   "metadata": {},
   "outputs": [],
   "source": [
    "sql=(\"insert into Employees values (1000,'Abhijit',29,'BK',2000) ,(1001,'Ankit',30,'CH',2100) ,(1002,'Anup',27,'PJ',1900) ,(1003,'Rupa',28,'BOM',1800)\")"
   ]
  },
  {
   "cell_type": "code",
   "execution_count": 28,
   "id": "06fc3c92",
   "metadata": {},
   "outputs": [],
   "source": [
    "cur.execute(sql)\n",
    "meradb.commit()"
   ]
  },
  {
   "cell_type": "code",
   "execution_count": 40,
   "id": "36876d62",
   "metadata": {},
   "outputs": [
    {
     "data": {
      "text/plain": [
       "[(100, 'Abhijit', 29, 'BK', 2000.0),\n",
       " (101, 'Ankit', 30, 'CH', 2100.0),\n",
       " (102, 'Anup', 27, 'PJ', 1900.0),\n",
       " (103, 'Rupa', 28, 'BOM', 1800.0),\n",
       " (1000, 'Abhijit', 29, 'BK', 2000.0),\n",
       " (1001, 'Ankit', 30, 'CH', 2100.0),\n",
       " (1002, 'Anup', 27, 'PJ', 1900.0),\n",
       " (1003, 'Rupa', 28, 'BOM', 1800.0),\n",
       " (1005, 'Anik', 78, 'MAA', 1700.0),\n",
       " (1006, 'Bipul', 38, 'IXR', 1900.0),\n",
       " (1007, 'Vinit', 45, 'PAT', 2100.0)]"
      ]
     },
     "execution_count": 40,
     "metadata": {},
     "output_type": "execute_result"
    }
   ],
   "source": [
    "q=cur.execute(\"Select * from Employees\")\n",
    "q.fetchall()"
   ]
  },
  {
   "cell_type": "code",
   "execution_count": 34,
   "id": "e5d6ad75",
   "metadata": {},
   "outputs": [],
   "source": [
    "result=cur.execute(\"select Name,id from employees where salary>=2000\")"
   ]
  },
  {
   "cell_type": "code",
   "execution_count": 35,
   "id": "2a9e78c2",
   "metadata": {},
   "outputs": [
    {
     "data": {
      "text/plain": [
       "[('Abhijit', 100), ('Ankit', 101), ('Abhijit', 1000), ('Ankit', 1001)]"
      ]
     },
     "execution_count": 35,
     "metadata": {},
     "output_type": "execute_result"
    }
   ],
   "source": [
    "result.fetchall()"
   ]
  },
  {
   "cell_type": "code",
   "execution_count": 38,
   "id": "dde24a85",
   "metadata": {},
   "outputs": [
    {
     "data": {
      "text/plain": [
       "[('Ankit', 101, 2100.0),\n",
       " ('Anup', 102, 1900.0),\n",
       " ('Rupa', 103, 1800.0),\n",
       " ('Abhijit', 1000, 2000.0),\n",
       " ('Ankit', 1001, 2100.0),\n",
       " ('Anup', 1002, 1900.0),\n",
       " ('Rupa', 1003, 1800.0)]"
      ]
     },
     "execution_count": 38,
     "metadata": {},
     "output_type": "execute_result"
    }
   ],
   "source": [
    "result=cur.execute(\"Select Name, Id, Salary from employees where id>100\")\n",
    "result.fetchall()"
   ]
  },
  {
   "cell_type": "code",
   "execution_count": 39,
   "id": "9960b77e",
   "metadata": {},
   "outputs": [],
   "source": [
    "sql=(\"insert into employees values (1005,'Anik',78,'MAA',1700),(1006,'Bipul',38,'IXR',1900),(1007,'Vinit',45,'PAT',2100)\")\n",
    "cur.execute(sql)\n",
    "meradb.commit()"
   ]
  },
  {
   "cell_type": "code",
   "execution_count": 1,
   "id": "ae5701ce",
   "metadata": {},
   "outputs": [],
   "source": [
    "sql=(\"update employees set id=1020 where name is 'Anup' \")"
   ]
  },
  {
   "cell_type": "markdown",
   "id": "57a678b4",
   "metadata": {},
   "source": [
    "------------------------------------------------------------------"
   ]
  },
  {
   "cell_type": "markdown",
   "id": "64021b72",
   "metadata": {},
   "source": [
    "# SQLite3 24th June 2022"
   ]
  },
  {
   "cell_type": "code",
   "execution_count": 2,
   "id": "3c546783",
   "metadata": {},
   "outputs": [
    {
     "data": {
      "text/plain": [
       "'\\nBasisc constraint\\n\\n>primary key- 1. Unique constraint, 2.Not null\\n\\n>Not Null\\n\\n'"
      ]
     },
     "execution_count": 2,
     "metadata": {},
     "output_type": "execute_result"
    }
   ],
   "source": [
    "\"\"\"\n",
    "Basisc constraint\n",
    "\n",
    ">primary key- 1. Unique constraint, 2.Not null\n",
    "\n",
    ">Not Null means no blank values can be inserted in table\n",
    "\n",
    "\"\"\""
   ]
  },
  {
   "cell_type": "code",
   "execution_count": 3,
   "id": "6c949aa9",
   "metadata": {},
   "outputs": [],
   "source": [
    "import sqlite3"
   ]
  },
  {
   "cell_type": "markdown",
   "id": "faabafb7",
   "metadata": {},
   "source": [
    "#### Adding date in table:"
   ]
  },
  {
   "cell_type": "code",
   "execution_count": null,
   "id": "18b96469",
   "metadata": {},
   "outputs": [],
   "source": [
    "db"
   ]
  }
 ],
 "metadata": {
  "kernelspec": {
   "display_name": "Python 3 (ipykernel)",
   "language": "python",
   "name": "python3"
  },
  "language_info": {
   "codemirror_mode": {
    "name": "ipython",
    "version": 3
   },
   "file_extension": ".py",
   "mimetype": "text/x-python",
   "name": "python",
   "nbconvert_exporter": "python",
   "pygments_lexer": "ipython3",
   "version": "3.9.12"
  }
 },
 "nbformat": 4,
 "nbformat_minor": 5
}
