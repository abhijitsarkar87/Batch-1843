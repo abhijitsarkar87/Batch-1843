{
 "cells": [
  {
   "cell_type": "markdown",
   "id": "665ca740",
   "metadata": {},
   "source": [
    "# Functions in python"
   ]
  },
  {
   "cell_type": "code",
   "execution_count": 1,
   "id": "c9df1e72",
   "metadata": {},
   "outputs": [],
   "source": [
    "# function are of 3 type \n",
    "\n",
    "#1. built in functions/ Pre-Defined Function \n",
    "# Example:- *Range() *len() *input() *float/int/type function, help() function\n",
    "\n",
    "#2. user defined function\n",
    "\n",
    "#3  Lamda Function/Anonymous function"
   ]
  },
  {
   "cell_type": "code",
   "execution_count": 2,
   "id": "733c72d4",
   "metadata": {},
   "outputs": [
    {
     "name": "stdout",
     "output_type": "stream",
     "text": [
      "\n",
      "Welcome to Python 3.9's help utility!\n",
      "\n",
      "If this is your first time using Python, you should definitely check out\n",
      "the tutorial on the Internet at https://docs.python.org/3.9/tutorial/.\n",
      "\n",
      "Enter the name of any module, keyword, or topic to get help on writing\n",
      "Python programs and using Python modules.  To quit this help utility and\n",
      "return to the interpreter, just type \"quit\".\n",
      "\n",
      "To get a list of available modules, keywords, symbols, or topics, type\n",
      "\"modules\", \"keywords\", \"symbols\", or \"topics\".  Each module also comes\n",
      "with a one-line summary of what it does; to list the modules whose name\n",
      "or summary contain a given string such as \"spam\", type \"modules spam\".\n",
      "\n",
      "\n",
      "You are now leaving help and returning to the Python interpreter.\n",
      "If you want to ask for help on a particular object directly from the\n",
      "interpreter, you can type \"help(object)\".  Executing \"help('string')\"\n",
      "has the same effect as typing a particular string at the help> prompt.\n"
     ]
    }
   ],
   "source": [
    "help()"
   ]
  },
  {
   "cell_type": "markdown",
   "id": "c551dfd5",
   "metadata": {},
   "source": [
    "Max function"
   ]
  },
  {
   "cell_type": "code",
   "execution_count": 3,
   "id": "898d2983",
   "metadata": {},
   "outputs": [
    {
     "data": {
      "text/plain": [
       "98"
      ]
     },
     "execution_count": 3,
     "metadata": {},
     "output_type": "execute_result"
    }
   ],
   "source": [
    "# Max function This function is used to find maximum. max(list name)\n",
    "\n",
    "p=[34,56,78,98,23,45]\n",
    "\n",
    "max(p)\n",
    "\n"
   ]
  },
  {
   "cell_type": "code",
   "execution_count": 4,
   "id": "e6712796",
   "metadata": {},
   "outputs": [
    {
     "data": {
      "text/plain": [
       "23"
      ]
     },
     "execution_count": 4,
     "metadata": {},
     "output_type": "execute_result"
    }
   ],
   "source": [
    "# Minimum function is used to find minimum. min(list name)\n",
    "min(p)"
   ]
  },
  {
   "cell_type": "markdown",
   "id": "4451354b",
   "metadata": {},
   "source": [
    "built in functions / Pre-Defined Function \n"
   ]
  },
  {
   "cell_type": "code",
   "execution_count": 5,
   "id": "68444010",
   "metadata": {},
   "outputs": [],
   "source": [
    "#1. built in functions/ Pre-Defined Function \n",
    "\n",
    "# Example:- *Range() *len() *input() *float/int/type function, help() function"
   ]
  },
  {
   "cell_type": "markdown",
   "id": "e968d65f",
   "metadata": {},
   "source": [
    "user defined function"
   ]
  },
  {
   "cell_type": "code",
   "execution_count": 6,
   "id": "5005349c",
   "metadata": {},
   "outputs": [],
   "source": [
    "#Green is keyword\n",
    "\n",
    "def functionname():\n",
    "    print(\"I am learning user defined function\")"
   ]
  },
  {
   "cell_type": "code",
   "execution_count": 7,
   "id": "477ffc18",
   "metadata": {},
   "outputs": [
    {
     "name": "stdout",
     "output_type": "stream",
     "text": [
      "I am learning user defined function\n"
     ]
    }
   ],
   "source": [
    "functionname()"
   ]
  },
  {
   "cell_type": "code",
   "execution_count": 8,
   "id": "779d5860",
   "metadata": {},
   "outputs": [],
   "source": [
    "def function1():\n",
    "    print(\"I am learning and creating function1\")"
   ]
  },
  {
   "cell_type": "code",
   "execution_count": 9,
   "id": "089143cf",
   "metadata": {},
   "outputs": [
    {
     "name": "stdout",
     "output_type": "stream",
     "text": [
      "I am learning and creating function1\n"
     ]
    }
   ],
   "source": [
    "function1()"
   ]
  },
  {
   "cell_type": "code",
   "execution_count": 10,
   "id": "285489f3",
   "metadata": {},
   "outputs": [],
   "source": [
    "def function2():\n",
    "    print(\"Inside function2\")"
   ]
  },
  {
   "cell_type": "code",
   "execution_count": 11,
   "id": "41482276",
   "metadata": {},
   "outputs": [
    {
     "name": "stdout",
     "output_type": "stream",
     "text": [
      "Inside function2\n"
     ]
    }
   ],
   "source": [
    "function2()"
   ]
  },
  {
   "cell_type": "code",
   "execution_count": 12,
   "id": "cbe07d08",
   "metadata": {},
   "outputs": [],
   "source": [
    "def addfunction():\n",
    "    a=2\n",
    "    b=3\n",
    "    c=a+b\n",
    "    print(\"Sum of a and b-->\",c)"
   ]
  },
  {
   "cell_type": "code",
   "execution_count": 13,
   "id": "dd21abf3",
   "metadata": {},
   "outputs": [
    {
     "name": "stdout",
     "output_type": "stream",
     "text": [
      "Sum of a and b--> 5\n"
     ]
    }
   ],
   "source": [
    "addfunction()"
   ]
  },
  {
   "cell_type": "code",
   "execution_count": 14,
   "id": "75a0b48f",
   "metadata": {},
   "outputs": [],
   "source": [
    "def multiplyfunction():\n",
    "    a=2\n",
    "    b=3\n",
    "    c=a*b\n",
    "    print(\"Multiply of A*B---->\",c)"
   ]
  },
  {
   "cell_type": "code",
   "execution_count": 15,
   "id": "840505a7",
   "metadata": {},
   "outputs": [
    {
     "name": "stdout",
     "output_type": "stream",
     "text": [
      "Multiply of A*B----> 6\n"
     ]
    }
   ],
   "source": [
    "multiplyfunction()"
   ]
  },
  {
   "cell_type": "code",
   "execution_count": 16,
   "id": "3a5e4650",
   "metadata": {},
   "outputs": [],
   "source": [
    "def areaofrectangle():\n",
    "    length=5\n",
    "    breadth=6\n",
    "    area=(length*breadth)\n",
    "    print(\"length %d Breadth %d Hence area of rectangle is\"%(length,breadth),area)"
   ]
  },
  {
   "cell_type": "code",
   "execution_count": 17,
   "id": "119f1eb6",
   "metadata": {},
   "outputs": [
    {
     "name": "stdout",
     "output_type": "stream",
     "text": [
      "length 5 Breadth 6 Hence area of rectangle is 30\n"
     ]
    }
   ],
   "source": [
    "areaofrectangle()"
   ]
  },
  {
   "cell_type": "code",
   "execution_count": 18,
   "id": "ca455b26",
   "metadata": {},
   "outputs": [],
   "source": [
    "def areofrectangle():\n",
    "    \n",
    "    length=3\n",
    "    breadth=6\n",
    "    areanew=(length*breadth)\n",
    "    \n",
    "    print(\"Area of Rectangle=\",areanew)\n",
    "    print(\"Area of rectangle with length=\",length,\"Breadth=\",breadth,\"is\",areanew)"
   ]
  },
  {
   "cell_type": "code",
   "execution_count": 19,
   "id": "59604bc0",
   "metadata": {},
   "outputs": [
    {
     "name": "stdout",
     "output_type": "stream",
     "text": [
      "Area of Rectangle= 18\n",
      "Area of rectangle with length= 3 Breadth= 6 is 18\n"
     ]
    }
   ],
   "source": [
    "areofrectangle()"
   ]
  },
  {
   "cell_type": "code",
   "execution_count": 20,
   "id": "51566b9d",
   "metadata": {},
   "outputs": [],
   "source": [
    "def areaoftriangle():\n",
    "    \n",
    "    base=30\n",
    "    height=15\n",
    "    areatriangle=(1/2)*base*height\n",
    "    \n",
    "    print(\"Area of Triangle=\",areatriangle)\n",
    "    print(\"Base=\",base,\"Height=\",height,\"Hence area is=\",areatriangle)"
   ]
  },
  {
   "cell_type": "code",
   "execution_count": 21,
   "id": "495d5e91",
   "metadata": {},
   "outputs": [
    {
     "name": "stdout",
     "output_type": "stream",
     "text": [
      "Area of Triangle= 225.0\n",
      "Base= 30 Height= 15 Hence area is= 225.0\n"
     ]
    }
   ],
   "source": [
    "areaoftriangle()"
   ]
  },
  {
   "cell_type": "code",
   "execution_count": 22,
   "id": "b9368429",
   "metadata": {},
   "outputs": [],
   "source": [
    "def areofcircle():\n",
    "    pie=3.14\n",
    "    radius=20\n",
    "    areacircle=pie*(radius**2)\n",
    "    \n",
    "    print(\"Area of circle=\",areacircle)\n",
    "    print(\"pie %f radius %d, Area of Circle\" %(pie,radius),areacircle)"
   ]
  },
  {
   "cell_type": "code",
   "execution_count": 23,
   "id": "a79434ee",
   "metadata": {},
   "outputs": [
    {
     "name": "stdout",
     "output_type": "stream",
     "text": [
      "Area of circle= 1256.0\n",
      "pie 3.140000 radius 20, Area of Circle 1256.0\n"
     ]
    }
   ],
   "source": [
    "areofcircle()"
   ]
  },
  {
   "cell_type": "code",
   "execution_count": 24,
   "id": "4db08ca7",
   "metadata": {},
   "outputs": [],
   "source": [
    "# area of circle without float value"
   ]
  },
  {
   "cell_type": "code",
   "execution_count": 25,
   "id": "97e2efd0",
   "metadata": {},
   "outputs": [],
   "source": [
    "def areofcircle2():\n",
    "    pie=3.14\n",
    "    radius=20\n",
    "    areacircle=pie*(radius**2)\n",
    "    \n",
    "    print(\"Area of circle=\",int(areacircle))\n",
    "    print(\"pie %f radius %d, Area of Circle\" %(pie,radius),int(areacircle))"
   ]
  },
  {
   "cell_type": "code",
   "execution_count": 26,
   "id": "e6a92b0b",
   "metadata": {},
   "outputs": [
    {
     "name": "stdout",
     "output_type": "stream",
     "text": [
      "Area of circle= 1256\n",
      "pie 3.140000 radius 20, Area of Circle 1256\n"
     ]
    }
   ],
   "source": [
    "areofcircle2()"
   ]
  },
  {
   "cell_type": "code",
   "execution_count": 1,
   "id": "487d112b",
   "metadata": {},
   "outputs": [],
   "source": [
    "def areacircle1():\n",
    "    pi=3.14\n",
    "    r=int(input(\"Enter the value of radius\"))\n",
    "    area=pi*(r**2)\n",
    "    print(\"Area of new circle=\",round(area))"
   ]
  },
  {
   "cell_type": "code",
   "execution_count": 2,
   "id": "eb02ab0b",
   "metadata": {},
   "outputs": [
    {
     "name": "stdout",
     "output_type": "stream",
     "text": [
      "Enter the value of radius5\n",
      "Area of new circle= 78\n"
     ]
    }
   ],
   "source": [
    "areacircle1()"
   ]
  },
  {
   "cell_type": "code",
   "execution_count": 6,
   "id": "68052ed5",
   "metadata": {},
   "outputs": [],
   "source": [
    "def sumfunction():\n",
    "    number1=int(input(\"Enter the first Number-----> \"))\n",
    "    number2=int(input(\"Enter the secound Number---> \"))\n",
    "    Sum=number1+number2\n",
    "    return Sum"
   ]
  },
  {
   "cell_type": "code",
   "execution_count": 7,
   "id": "670ab586",
   "metadata": {},
   "outputs": [
    {
     "name": "stdout",
     "output_type": "stream",
     "text": [
      "Enter the first Number-----> 7\n",
      "Enter the secound Number---> 14\n"
     ]
    },
    {
     "data": {
      "text/plain": [
       "21"
      ]
     },
     "execution_count": 7,
     "metadata": {},
     "output_type": "execute_result"
    }
   ],
   "source": [
    "sumfunction()"
   ]
  },
  {
   "cell_type": "code",
   "execution_count": 8,
   "id": "6cb36f5d",
   "metadata": {},
   "outputs": [],
   "source": [
    "def subtractf():\n",
    "    a=100\n",
    "    b=80\n",
    "    c=a-b\n",
    "    return c"
   ]
  },
  {
   "cell_type": "code",
   "execution_count": 10,
   "id": "1981b9a3",
   "metadata": {},
   "outputs": [],
   "source": [
    "# as per return function it moves to p variable\n",
    "\n",
    "p=subtractf()"
   ]
  },
  {
   "cell_type": "code",
   "execution_count": 11,
   "id": "a77f9b98",
   "metadata": {},
   "outputs": [
    {
     "data": {
      "text/plain": [
       "20"
      ]
     },
     "execution_count": 11,
     "metadata": {},
     "output_type": "execute_result"
    }
   ],
   "source": [
    "p"
   ]
  },
  {
   "cell_type": "code",
   "execution_count": 6,
   "id": "c317fb64",
   "metadata": {},
   "outputs": [],
   "source": [
    "def dividefunction():\n",
    "    \n",
    "    p=10\n",
    "    m=2\n",
    "    n=10/2\n",
    "    print(\"After divide we found the value as =\",int(n))"
   ]
  },
  {
   "cell_type": "code",
   "execution_count": 7,
   "id": "690058d6",
   "metadata": {},
   "outputs": [
    {
     "name": "stdout",
     "output_type": "stream",
     "text": [
      "After divide we found the value as = 5\n"
     ]
    }
   ],
   "source": [
    "dividefunction()"
   ]
  },
  {
   "cell_type": "code",
   "execution_count": 2,
   "id": "43fb65a1",
   "metadata": {},
   "outputs": [],
   "source": [
    "def testfunction():\n",
    "    for i in [\"A\",\"B\",\"C\",\"D\",\"E\"]:\n",
    "        print(i)"
   ]
  },
  {
   "cell_type": "code",
   "execution_count": 3,
   "id": "96d38769",
   "metadata": {},
   "outputs": [
    {
     "name": "stdout",
     "output_type": "stream",
     "text": [
      "A\n",
      "B\n",
      "C\n",
      "D\n",
      "E\n"
     ]
    }
   ],
   "source": [
    "testfunction()"
   ]
  },
  {
   "cell_type": "code",
   "execution_count": 4,
   "id": "9b0d915c",
   "metadata": {},
   "outputs": [],
   "source": [
    "def testf1():\n",
    "    list1=[]\n",
    "    for i in [100,200,300,400,500]:\n",
    "        list1.append(i)\n",
    "        print(list1)\n",
    "        print(\"Final list of numbers =\",list1)"
   ]
  },
  {
   "cell_type": "code",
   "execution_count": 5,
   "id": "205e3f5c",
   "metadata": {},
   "outputs": [
    {
     "name": "stdout",
     "output_type": "stream",
     "text": [
      "[100]\n",
      "Final list of numbers = [100]\n",
      "[100, 200]\n",
      "Final list of numbers = [100, 200]\n",
      "[100, 200, 300]\n",
      "Final list of numbers = [100, 200, 300]\n",
      "[100, 200, 300, 400]\n",
      "Final list of numbers = [100, 200, 300, 400]\n",
      "[100, 200, 300, 400, 500]\n",
      "Final list of numbers = [100, 200, 300, 400, 500]\n"
     ]
    }
   ],
   "source": [
    "testf1()"
   ]
  },
  {
   "cell_type": "code",
   "execution_count": 6,
   "id": "6ec92053",
   "metadata": {},
   "outputs": [],
   "source": [
    "def testfunctionchac():\n",
    "    list2=[]\n",
    "    for i in [\"a\",\"b\",\"c\",\"d\",\"e\"]:\n",
    "        list2.append(i)\n",
    "        print(list2)\n",
    "        print(\"Finally characters are =\",list2)"
   ]
  },
  {
   "cell_type": "code",
   "execution_count": 7,
   "id": "cbb51582",
   "metadata": {},
   "outputs": [
    {
     "name": "stdout",
     "output_type": "stream",
     "text": [
      "['a']\n",
      "Finally characters are = ['a']\n",
      "['a', 'b']\n",
      "Finally characters are = ['a', 'b']\n",
      "['a', 'b', 'c']\n",
      "Finally characters are = ['a', 'b', 'c']\n",
      "['a', 'b', 'c', 'd']\n",
      "Finally characters are = ['a', 'b', 'c', 'd']\n",
      "['a', 'b', 'c', 'd', 'e']\n",
      "Finally characters are = ['a', 'b', 'c', 'd', 'e']\n"
     ]
    }
   ],
   "source": [
    "testfunctionchac()"
   ]
  },
  {
   "cell_type": "code",
   "execution_count": 8,
   "id": "4b904496",
   "metadata": {},
   "outputs": [],
   "source": [
    "def testloop():\n",
    "    j=0\n",
    "    while(j<5):\n",
    "        print(j)\n",
    "        \n",
    "        j=j+1"
   ]
  },
  {
   "cell_type": "code",
   "execution_count": 9,
   "id": "a3ceb67a",
   "metadata": {},
   "outputs": [
    {
     "name": "stdout",
     "output_type": "stream",
     "text": [
      "0\n",
      "1\n",
      "2\n",
      "3\n",
      "4\n"
     ]
    }
   ],
   "source": [
    "testloop()"
   ]
  },
  {
   "cell_type": "markdown",
   "id": "b292b294",
   "metadata": {},
   "source": [
    "Parameter function"
   ]
  },
  {
   "cell_type": "code",
   "execution_count": 10,
   "id": "e405fb84",
   "metadata": {},
   "outputs": [],
   "source": [
    "def addfunc(a,b):\n",
    "    c=a+b\n",
    "    print(c)"
   ]
  },
  {
   "cell_type": "code",
   "execution_count": 12,
   "id": "842ae401",
   "metadata": {},
   "outputs": [
    {
     "name": "stdout",
     "output_type": "stream",
     "text": [
      "40\n"
     ]
    }
   ],
   "source": [
    "addfunc(30,10)"
   ]
  },
  {
   "cell_type": "code",
   "execution_count": 13,
   "id": "b8c37e29",
   "metadata": {},
   "outputs": [
    {
     "name": "stdout",
     "output_type": "stream",
     "text": [
      "58\n"
     ]
    }
   ],
   "source": [
    "addfunc(50,8)"
   ]
  },
  {
   "cell_type": "code",
   "execution_count": 14,
   "id": "214d141e",
   "metadata": {},
   "outputs": [
    {
     "name": "stdout",
     "output_type": "stream",
     "text": [
      "67\n"
     ]
    }
   ],
   "source": [
    "addfunc(60,7)"
   ]
  },
  {
   "cell_type": "code",
   "execution_count": 15,
   "id": "1cda21bc",
   "metadata": {},
   "outputs": [],
   "source": [
    "def mul(a,b):\n",
    "    res=a*b\n",
    "    print(res)\n",
    "    \n",
    "    "
   ]
  },
  {
   "cell_type": "code",
   "execution_count": 16,
   "id": "4f6e3ca9",
   "metadata": {},
   "outputs": [
    {
     "name": "stdout",
     "output_type": "stream",
     "text": [
      "4\n"
     ]
    }
   ],
   "source": [
    "mul(2,2)"
   ]
  }
 ],
 "metadata": {
  "kernelspec": {
   "display_name": "Python 3 (ipykernel)",
   "language": "python",
   "name": "python3"
  },
  "language_info": {
   "codemirror_mode": {
    "name": "ipython",
    "version": 3
   },
   "file_extension": ".py",
   "mimetype": "text/x-python",
   "name": "python",
   "nbconvert_exporter": "python",
   "pygments_lexer": "ipython3",
   "version": "3.9.12"
  }
 },
 "nbformat": 4,
 "nbformat_minor": 5
}
