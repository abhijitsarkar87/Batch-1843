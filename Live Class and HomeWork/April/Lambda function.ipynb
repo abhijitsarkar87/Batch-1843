{
 "cells": [
  {
   "cell_type": "markdown",
   "id": "29a0edd0",
   "metadata": {},
   "source": [
    "Map lambda function\n",
    "\n",
    "notes: it applies on list"
   ]
  },
  {
   "cell_type": "code",
   "execution_count": null,
   "id": "16a31ba1",
   "metadata": {},
   "outputs": [],
   "source": []
  },
  {
   "cell_type": "code",
   "execution_count": 1,
   "id": "23a7310c",
   "metadata": {},
   "outputs": [
    {
     "data": {
      "text/plain": [
       "3"
      ]
     },
     "execution_count": 1,
     "metadata": {},
     "output_type": "execute_result"
    }
   ],
   "source": [
    "t=lambda x,y: x+y;\n",
    "t(1,2)"
   ]
  },
  {
   "cell_type": "code",
   "execution_count": 2,
   "id": "b4dbd4b2",
   "metadata": {},
   "outputs": [
    {
     "data": {
      "text/plain": [
       "6"
      ]
     },
     "execution_count": 2,
     "metadata": {},
     "output_type": "execute_result"
    }
   ],
   "source": [
    "ti=lambda x,y,z: x+y-z;\n",
    "ti(7,8,9)"
   ]
  },
  {
   "cell_type": "code",
   "execution_count": 3,
   "id": "95c416c0",
   "metadata": {},
   "outputs": [
    {
     "data": {
      "text/plain": [
       "39"
      ]
     },
     "execution_count": 3,
     "metadata": {},
     "output_type": "execute_result"
    }
   ],
   "source": [
    "tii=lambda x,v,c: x**v-c;\n",
    "\n",
    "tii(7,2,10)"
   ]
  },
  {
   "cell_type": "code",
   "execution_count": 10,
   "id": "93674863",
   "metadata": {},
   "outputs": [
    {
     "data": {
      "text/plain": [
       "[0, 2, 4, 6, 8, 10]"
      ]
     },
     "execution_count": 10,
     "metadata": {},
     "output_type": "execute_result"
    }
   ],
   "source": [
    "mylist=[0,1,2,3,4,5];\n",
    "\n",
    "list(map(lambda x:x*2, mylist))"
   ]
  },
  {
   "cell_type": "code",
   "execution_count": 5,
   "id": "e8a0270f",
   "metadata": {},
   "outputs": [
    {
     "data": {
      "text/plain": [
       "<map at 0x232afa1fc70>"
      ]
     },
     "execution_count": 5,
     "metadata": {},
     "output_type": "execute_result"
    }
   ],
   "source": [
    "list1=[1,2,3,4,5]\n",
    "\n",
    "map(lambda x:x+2, list1)"
   ]
  },
  {
   "cell_type": "code",
   "execution_count": 7,
   "id": "e1026858",
   "metadata": {},
   "outputs": [
    {
     "data": {
      "text/plain": [
       "[3, 4, 5, 6, 7]"
      ]
     },
     "execution_count": 7,
     "metadata": {},
     "output_type": "execute_result"
    }
   ],
   "source": [
    "list(map(lambda x:x+2, list1))"
   ]
  },
  {
   "cell_type": "code",
   "execution_count": 11,
   "id": "95670d00",
   "metadata": {},
   "outputs": [
    {
     "data": {
      "text/plain": [
       "[0, 1, 2, 3, 4, 5]"
      ]
     },
     "execution_count": 11,
     "metadata": {},
     "output_type": "execute_result"
    }
   ],
   "source": [
    "list(map(lambda x:x*1, mylist))"
   ]
  },
  {
   "cell_type": "code",
   "execution_count": 13,
   "id": "fd41ee11",
   "metadata": {},
   "outputs": [
    {
     "data": {
      "text/plain": [
       "range(0, 5)"
      ]
     },
     "execution_count": 13,
     "metadata": {},
     "output_type": "execute_result"
    }
   ],
   "source": [
    "range(5)"
   ]
  },
  {
   "cell_type": "code",
   "execution_count": 12,
   "id": "d326e6a5",
   "metadata": {},
   "outputs": [
    {
     "data": {
      "text/plain": [
       "[0, 1, 2, 3, 4]"
      ]
     },
     "execution_count": 12,
     "metadata": {},
     "output_type": "execute_result"
    }
   ],
   "source": [
    "\n",
    "list(range(5))"
   ]
  },
  {
   "cell_type": "code",
   "execution_count": 18,
   "id": "fb2f4f69",
   "metadata": {},
   "outputs": [
    {
     "name": "stdout",
     "output_type": "stream",
     "text": [
      "[95.0, 35.6, 97.7, 99.14, 103.64]\n"
     ]
    }
   ],
   "source": [
    "# lambda with fahrenheit:\n",
    "\n",
    "c=[35,2,36.5,37.3,39.8]\n",
    "\n",
    "F=list(map(lambda x: (9/5)*x+32, c))\n",
    "\n",
    "print(F)"
   ]
  },
  {
   "cell_type": "code",
   "execution_count": 23,
   "id": "13f43002",
   "metadata": {},
   "outputs": [
    {
     "name": "stdout",
     "output_type": "stream",
     "text": [
      "[35.0, 2.000000000000001, 36.5, 37.300000000000004, 39.800000000000004]\n"
     ]
    }
   ],
   "source": [
    "# lambda with celcius\n",
    "\n",
    "Fehrenheit=[95.0, 35.6, 97.7, 99.14, 103.64]\n",
    "\n",
    "C=list(map(lambda x: (5/9)* (x-32),Fehrenheit))\n",
    "\n",
    "print(C)"
   ]
  },
  {
   "cell_type": "code",
   "execution_count": 24,
   "id": "4e6c3e26",
   "metadata": {},
   "outputs": [
    {
     "name": "stdout",
     "output_type": "stream",
     "text": [
      "[87.80000000000001, 94.1, 133.88, 192.20000000000002, 194.0]\n"
     ]
    }
   ],
   "source": [
    "c=[31,34.5,56.6,89,90]\n",
    "\n",
    "fahren=list(map(lambda x: (9/5)*x+32, c))\n",
    "print(fahren)"
   ]
  },
  {
   "cell_type": "code",
   "execution_count": 26,
   "id": "02965b4e",
   "metadata": {},
   "outputs": [
    {
     "name": "stdout",
     "output_type": "stream",
     "text": [
      "[31.000000000000007, 34.5, 56.6, 89.00000000000001, 90.0]\n"
     ]
    }
   ],
   "source": [
    "celcius=list(map(lambda x: (5/9)*(x-32),fahren))\n",
    "print(celcius)"
   ]
  },
  {
   "cell_type": "code",
   "execution_count": 27,
   "id": "2461a0a9",
   "metadata": {},
   "outputs": [],
   "source": [
    "#round off in lambda function"
   ]
  },
  {
   "cell_type": "code",
   "execution_count": 28,
   "id": "a2114473",
   "metadata": {},
   "outputs": [],
   "source": [
    "newlist=[round(x,2) for x in celcius]"
   ]
  },
  {
   "cell_type": "code",
   "execution_count": 29,
   "id": "203727f4",
   "metadata": {},
   "outputs": [
    {
     "name": "stdout",
     "output_type": "stream",
     "text": [
      "[31.0, 34.5, 56.6, 89.0, 90.0]\n"
     ]
    }
   ],
   "source": [
    "print(newlist)"
   ]
  },
  {
   "cell_type": "code",
   "execution_count": 31,
   "id": "d012596b",
   "metadata": {},
   "outputs": [
    {
     "name": "stdout",
     "output_type": "stream",
     "text": [
      "['31.00', '34.50', '56.60', '89.00', '90.00']\n"
     ]
    }
   ],
   "source": [
    "newlist1=['%.2f' %j for j in celcius]\n",
    "print(newlist1)"
   ]
  },
  {
   "cell_type": "markdown",
   "id": "0421515a",
   "metadata": {},
   "source": [
    "---------------------"
   ]
  },
  {
   "cell_type": "markdown",
   "id": "83d016c7",
   "metadata": {},
   "source": [
    "# FILTER IN LAMBDA"
   ]
  },
  {
   "cell_type": "markdown",
   "id": "e877b4f7",
   "metadata": {},
   "source": [
    "filter() function\n",
    "\n",
    "#It returns the item where function is true.\n",
    "\n",
    "#If none of the element meets condition, it will return nothing. we are checking if value is greater than 2."
   ]
  },
  {
   "cell_type": "code",
   "execution_count": 33,
   "id": "58fe7cf1",
   "metadata": {},
   "outputs": [
    {
     "data": {
      "text/plain": [
       "[1]"
      ]
     },
     "execution_count": 33,
     "metadata": {},
     "output_type": "execute_result"
    }
   ],
   "source": [
    "# my list where  x is less than 2\n",
    "\n",
    "mylist=[1,2,3,4,5]\n",
    "\n",
    "list(filter(lambda x : x<2, mylist))\n"
   ]
  },
  {
   "cell_type": "code",
   "execution_count": 34,
   "id": "6d2bd972",
   "metadata": {},
   "outputs": [
    {
     "data": {
      "text/plain": [
       "[3, 4, 5]"
      ]
     },
     "execution_count": 34,
     "metadata": {},
     "output_type": "execute_result"
    }
   ],
   "source": [
    "# my list where x is more than 2\n",
    "\n",
    "mylist=[1,2,3,4,5]\n",
    "\n",
    "list(filter(lambda x : x>2, mylist))"
   ]
  },
  {
   "cell_type": "code",
   "execution_count": 36,
   "id": "0b77951e",
   "metadata": {},
   "outputs": [
    {
     "data": {
      "text/plain": [
       "[0, 2, 4, 6, 8, 10]"
      ]
     },
     "execution_count": 36,
     "metadata": {},
     "output_type": "execute_result"
    }
   ],
   "source": [
    "# filter is done for even numbers range(11)\n",
    "\n",
    "even= lambda x:x%2==0;\n",
    "\n",
    "list(filter(even, range(11)))"
   ]
  },
  {
   "cell_type": "code",
   "execution_count": 37,
   "id": "90cc93a7",
   "metadata": {},
   "outputs": [
    {
     "data": {
      "text/plain": [
       "[0, 2, 4, 6, 8, 10]"
      ]
     },
     "execution_count": 37,
     "metadata": {},
     "output_type": "execute_result"
    }
   ],
   "source": [
    "# you can do it by list comprehension\n",
    "\n",
    "[x for x in range(11) if x%2==0]"
   ]
  },
  {
   "cell_type": "code",
   "execution_count": 38,
   "id": "a3d9c7b0",
   "metadata": {},
   "outputs": [
    {
     "data": {
      "text/plain": [
       "[1, 3, 5, 7, 9]"
      ]
     },
     "execution_count": 38,
     "metadata": {},
     "output_type": "execute_result"
    }
   ],
   "source": [
    "[x for x in range(11) if x%2!=0]"
   ]
  }
 ],
 "metadata": {
  "kernelspec": {
   "display_name": "Python 3 (ipykernel)",
   "language": "python",
   "name": "python3"
  },
  "language_info": {
   "codemirror_mode": {
    "name": "ipython",
    "version": 3
   },
   "file_extension": ".py",
   "mimetype": "text/x-python",
   "name": "python",
   "nbconvert_exporter": "python",
   "pygments_lexer": "ipython3",
   "version": "3.9.12"
  }
 },
 "nbformat": 4,
 "nbformat_minor": 5
}
