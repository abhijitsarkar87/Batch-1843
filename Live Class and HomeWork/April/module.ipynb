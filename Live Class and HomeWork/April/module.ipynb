{
 "cells": [
  {
   "cell_type": "markdown",
   "id": "3dfe48eb",
   "metadata": {},
   "source": [
    "# Modules"
   ]
  },
  {
   "cell_type": "code",
   "execution_count": 1,
   "id": "87f55eed",
   "metadata": {},
   "outputs": [],
   "source": [
    "import keyword"
   ]
  },
  {
   "cell_type": "code",
   "execution_count": null,
   "id": "f4309253",
   "metadata": {},
   "outputs": [],
   "source": [
    "# importing keyword lists\n",
    "\n",
    "keyword.kwlist"
   ]
  },
  {
   "cell_type": "code",
   "execution_count": 3,
   "id": "d0ce4926",
   "metadata": {},
   "outputs": [
    {
     "name": "stdout",
     "output_type": "stream",
     "text": [
      "['False', 'None', 'True', '__peg_parser__', 'and', 'as', 'assert', 'async', 'await', 'break', 'class', 'continue', 'def', 'del', 'elif', 'else', 'except', 'finally', 'for', 'from', 'global', 'if', 'import', 'in', 'is', 'lambda', 'nonlocal', 'not', 'or', 'pass', 'raise', 'return', 'try', 'while', 'with', 'yield']\n"
     ]
    }
   ],
   "source": [
    "# printing keyword list\n",
    "\n",
    "print(keyword.kwlist)"
   ]
  },
  {
   "cell_type": "code",
   "execution_count": 4,
   "id": "12115724",
   "metadata": {},
   "outputs": [],
   "source": [
    "# importing system\n",
    "\n",
    "import sys"
   ]
  },
  {
   "cell_type": "code",
   "execution_count": 5,
   "id": "7145817a",
   "metadata": {},
   "outputs": [
    {
     "data": {
      "text/plain": [
       "['C:\\\\Users\\\\ABHIJIT SARKAR\\\\Documents\\\\Python commands 16th,17th april live session',\n",
       " 'C:\\\\Anaconda\\\\python39.zip',\n",
       " 'C:\\\\Anaconda\\\\DLLs',\n",
       " 'C:\\\\Anaconda\\\\lib',\n",
       " 'C:\\\\Anaconda',\n",
       " '',\n",
       " 'C:\\\\Anaconda\\\\lib\\\\site-packages',\n",
       " 'C:\\\\Anaconda\\\\lib\\\\site-packages\\\\locket-0.2.1-py3.9.egg',\n",
       " 'C:\\\\Anaconda\\\\lib\\\\site-packages\\\\win32',\n",
       " 'C:\\\\Anaconda\\\\lib\\\\site-packages\\\\win32\\\\lib',\n",
       " 'C:\\\\Anaconda\\\\lib\\\\site-packages\\\\Pythonwin',\n",
       " 'C:\\\\Anaconda\\\\lib\\\\site-packages\\\\IPython\\\\extensions',\n",
       " 'C:\\\\Users\\\\ABHIJIT SARKAR\\\\.ipython']"
      ]
     },
     "execution_count": 5,
     "metadata": {},
     "output_type": "execute_result"
    }
   ],
   "source": [
    "# importing system path of python\n",
    "\n",
    "sys.path"
   ]
  },
  {
   "cell_type": "code",
   "execution_count": 5,
   "id": "32a396ef",
   "metadata": {},
   "outputs": [],
   "source": [
    "# importing os details\n",
    "\n",
    "import os"
   ]
  },
  {
   "cell_type": "code",
   "execution_count": 6,
   "id": "024d241f",
   "metadata": {},
   "outputs": [
    {
     "data": {
      "text/plain": [
       "'C:\\\\Users\\\\ABHIJIT SARKAR\\\\Documents\\\\Python commands 16th,17th april live session'"
      ]
     },
     "execution_count": 6,
     "metadata": {},
     "output_type": "execute_result"
    }
   ],
   "source": [
    "# getting current working directory\n",
    "\n",
    "os.getcwd()"
   ]
  },
  {
   "cell_type": "code",
   "execution_count": 7,
   "id": "c3e23adb",
   "metadata": {},
   "outputs": [],
   "source": [
    "# changing directory\n",
    "\n",
    "#os.chdir(chdir means change directory)\n",
    "\n",
    "# getcwd(means current working directory)"
   ]
  },
  {
   "cell_type": "code",
   "execution_count": 9,
   "id": "28ee1a73",
   "metadata": {},
   "outputs": [
    {
     "name": "stdout",
     "output_type": "stream",
     "text": [
      "['.ipynb_checkpoints', 'CLASS 16TH APRIL, classes, data member, member function, display function, main function, get data.ipynb', 'Untitled.ipynb']\n"
     ]
    }
   ],
   "source": [
    "# shows the list of files and folders in working directory\n",
    "print(os.listdir())"
   ]
  },
  {
   "cell_type": "code",
   "execution_count": null,
   "id": "2aab49bb",
   "metadata": {},
   "outputs": [],
   "source": []
  },
  {
   "cell_type": "markdown",
   "id": "7ae119b3",
   "metadata": {},
   "source": [
    "MATH"
   ]
  },
  {
   "cell_type": "code",
   "execution_count": 10,
   "id": "cdb98faa",
   "metadata": {},
   "outputs": [],
   "source": [
    "#importing math from python\n",
    "\n",
    "import math"
   ]
  },
  {
   "cell_type": "code",
   "execution_count": 11,
   "id": "d6711d43",
   "metadata": {},
   "outputs": [
    {
     "data": {
      "text/plain": [
       "3.141592653589793"
      ]
     },
     "execution_count": 11,
     "metadata": {},
     "output_type": "execute_result"
    }
   ],
   "source": [
    "# we get pi value directly by math.pie\n",
    "\n",
    "math.pi"
   ]
  },
  {
   "cell_type": "code",
   "execution_count": 12,
   "id": "ab9e13d1",
   "metadata": {},
   "outputs": [
    {
     "data": {
      "text/plain": [
       "4.0"
      ]
     },
     "execution_count": 12,
     "metadata": {},
     "output_type": "execute_result"
    }
   ],
   "source": [
    "# calculating square root\n",
    "\n",
    "math.sqrt(16)"
   ]
  },
  {
   "cell_type": "code",
   "execution_count": 13,
   "id": "67eaa2f0",
   "metadata": {},
   "outputs": [
    {
     "data": {
      "text/plain": [
       "8.0"
      ]
     },
     "execution_count": 13,
     "metadata": {},
     "output_type": "execute_result"
    }
   ],
   "source": [
    "#calculating power function (2*2*2)\n",
    "\n",
    "math.pow(2,3)"
   ]
  },
  {
   "cell_type": "markdown",
   "id": "0a1fb940",
   "metadata": {},
   "source": [
    "IMPORT WITH RENAMING >>WE CAN IMPORT A MODULE BY RENAMING IT AS FOLLOWS<<"
   ]
  },
  {
   "cell_type": "code",
   "execution_count": 14,
   "id": "173f6655",
   "metadata": {},
   "outputs": [],
   "source": [
    "import math as m"
   ]
  },
  {
   "cell_type": "code",
   "execution_count": 15,
   "id": "f84b8cdd",
   "metadata": {},
   "outputs": [
    {
     "data": {
      "text/plain": [
       "3.141592653589793"
      ]
     },
     "execution_count": 15,
     "metadata": {},
     "output_type": "execute_result"
    }
   ],
   "source": [
    "m.pi"
   ]
  },
  {
   "cell_type": "code",
   "execution_count": 16,
   "id": "ba6423ce",
   "metadata": {},
   "outputs": [
    {
     "data": {
      "text/plain": [
       "4.0"
      ]
     },
     "execution_count": 16,
     "metadata": {},
     "output_type": "execute_result"
    }
   ],
   "source": [
    "m.pow(2,2)"
   ]
  },
  {
   "cell_type": "code",
   "execution_count": 4,
   "id": "167ef364",
   "metadata": {},
   "outputs": [],
   "source": [
    "# calling import spectific name from a module without importing the module without\n",
    "# importing the module as a whole. here is an example"
   ]
  },
  {
   "cell_type": "code",
   "execution_count": 5,
   "id": "b749f61f",
   "metadata": {},
   "outputs": [],
   "source": [
    "from math import pi"
   ]
  },
  {
   "cell_type": "code",
   "execution_count": 6,
   "id": "49a98b70",
   "metadata": {},
   "outputs": [
    {
     "data": {
      "text/plain": [
       "3.141592653589793"
      ]
     },
     "execution_count": 6,
     "metadata": {},
     "output_type": "execute_result"
    }
   ],
   "source": [
    "pi"
   ]
  },
  {
   "cell_type": "code",
   "execution_count": 7,
   "id": "b3bd4c9a",
   "metadata": {},
   "outputs": [],
   "source": [
    "from math import sqrt"
   ]
  },
  {
   "cell_type": "code",
   "execution_count": 9,
   "id": "0f5b834b",
   "metadata": {},
   "outputs": [
    {
     "data": {
      "text/plain": [
       "3.0"
      ]
     },
     "execution_count": 9,
     "metadata": {},
     "output_type": "execute_result"
    }
   ],
   "source": [
    "sqrt(9)"
   ]
  },
  {
   "cell_type": "code",
   "execution_count": 12,
   "id": "4370f07d",
   "metadata": {},
   "outputs": [
    {
     "data": {
      "text/plain": [
       "dict_keys(['__name__', '__doc__', '__package__', '__loader__', '__spec__', 'acos', 'acosh', 'asin', 'asinh', 'atan', 'atan2', 'atanh', 'ceil', 'copysign', 'cos', 'cosh', 'degrees', 'dist', 'erf', 'erfc', 'exp', 'expm1', 'fabs', 'factorial', 'floor', 'fmod', 'frexp', 'fsum', 'gamma', 'gcd', 'hypot', 'isclose', 'isfinite', 'isinf', 'isnan', 'isqrt', 'lcm', 'ldexp', 'lgamma', 'log', 'log1p', 'log10', 'log2', 'modf', 'pow', 'radians', 'remainder', 'sin', 'sinh', 'sqrt', 'tan', 'tanh', 'trunc', 'prod', 'perm', 'comb', 'nextafter', 'ulp', 'pi', 'e', 'tau', 'inf', 'nan'])"
      ]
     },
     "execution_count": 12,
     "metadata": {},
     "output_type": "execute_result"
    }
   ],
   "source": [
    "import math\n",
    "\n",
    "math.__dict__.keys()"
   ]
  },
  {
   "cell_type": "code",
   "execution_count": null,
   "id": "3afc78c8",
   "metadata": {},
   "outputs": [],
   "source": []
  },
  {
   "cell_type": "markdown",
   "id": "25203dd9",
   "metadata": {},
   "source": [
    "GET CURRENT DATE AND TIME"
   ]
  },
  {
   "cell_type": "code",
   "execution_count": 13,
   "id": "5ed6b903",
   "metadata": {},
   "outputs": [],
   "source": [
    "import datetime"
   ]
  },
  {
   "cell_type": "code",
   "execution_count": 14,
   "id": "a9771b93",
   "metadata": {},
   "outputs": [
    {
     "data": {
      "text/plain": [
       "datetime.datetime(2022, 4, 23, 15, 40, 25, 641295)"
      ]
     },
     "execution_count": 14,
     "metadata": {},
     "output_type": "execute_result"
    }
   ],
   "source": [
    "# current date time of now\n",
    "\n",
    "dt=datetime.datetime.now()\n",
    "dt"
   ]
  },
  {
   "cell_type": "markdown",
   "id": "94029e4d",
   "metadata": {},
   "source": [
    "Get Current Date"
   ]
  },
  {
   "cell_type": "code",
   "execution_count": 15,
   "id": "3662154e",
   "metadata": {},
   "outputs": [
    {
     "data": {
      "text/plain": [
       "datetime.date(2022, 4, 23)"
      ]
     },
     "execution_count": 15,
     "metadata": {},
     "output_type": "execute_result"
    }
   ],
   "source": [
    "#current date of today\n",
    "\n",
    "dt1=datetime.date.today()\n",
    "dt1"
   ]
  },
  {
   "cell_type": "code",
   "execution_count": 17,
   "id": "2603efb8",
   "metadata": {},
   "outputs": [],
   "source": [
    "#commonly used classes in the date time module are:\n",
    "\n",
    "#date class\n",
    "#time class\n",
    "#datetime class\n",
    "#timedelta class"
   ]
  },
  {
   "cell_type": "code",
   "execution_count": 19,
   "id": "ebdfd139",
   "metadata": {},
   "outputs": [],
   "source": [
    "import datetime\n",
    "\n",
    "d=datetime.date(2022,5,23)"
   ]
  },
  {
   "cell_type": "code",
   "execution_count": 20,
   "id": "b1f417c6",
   "metadata": {},
   "outputs": [
    {
     "data": {
      "text/plain": [
       "datetime.date(2022, 5, 23)"
      ]
     },
     "execution_count": 20,
     "metadata": {},
     "output_type": "execute_result"
    }
   ],
   "source": [
    "d"
   ]
  },
  {
   "cell_type": "code",
   "execution_count": 22,
   "id": "1c9f0ddb",
   "metadata": {},
   "outputs": [
    {
     "data": {
      "text/plain": [
       "datetime.date(2021, 12, 20)"
      ]
     },
     "execution_count": 22,
     "metadata": {},
     "output_type": "execute_result"
    }
   ],
   "source": [
    "from datetime import date\n",
    "\n",
    "a=date(2021,12,20)\n",
    "\n",
    "a"
   ]
  },
  {
   "cell_type": "code",
   "execution_count": 23,
   "id": "005281d1",
   "metadata": {},
   "outputs": [
    {
     "data": {
      "text/plain": [
       "datetime.date(2022, 4, 23)"
      ]
     },
     "execution_count": 23,
     "metadata": {},
     "output_type": "execute_result"
    }
   ],
   "source": [
    "# get current date\n",
    "\n",
    "td=date.today()\n",
    "td"
   ]
  },
  {
   "cell_type": "code",
   "execution_count": 24,
   "id": "05554c74",
   "metadata": {},
   "outputs": [
    {
     "name": "stdout",
     "output_type": "stream",
     "text": [
      "Year= 2022\n",
      "Month= 4\n",
      "day= 23\n"
     ]
    }
   ],
   "source": [
    "print(\"Year=\",td.year)\n",
    "print(\"Month=\",td.month)\n",
    "print(\"day=\",td.day)"
   ]
  },
  {
   "cell_type": "markdown",
   "id": "a5809c4c",
   "metadata": {},
   "source": [
    "A time object instantiated from the time class represents the local time"
   ]
  },
  {
   "cell_type": "code",
   "execution_count": 25,
   "id": "eb33ea4c",
   "metadata": {},
   "outputs": [
    {
     "name": "stdout",
     "output_type": "stream",
     "text": [
      "00:00:00\n",
      "11:35:06\n"
     ]
    }
   ],
   "source": [
    "from datetime import time\n",
    "a=time()\n",
    "print(a)\n",
    "\n",
    "# time(hour,minute,second)\n",
    "b=time(11,35,6)\n",
    "print(b)"
   ]
  },
  {
   "cell_type": "code",
   "execution_count": null,
   "id": "e3ac5d62",
   "metadata": {},
   "outputs": [],
   "source": []
  }
 ],
 "metadata": {
  "kernelspec": {
   "display_name": "Python 3 (ipykernel)",
   "language": "python",
   "name": "python3"
  },
  "language_info": {
   "codemirror_mode": {
    "name": "ipython",
    "version": 3
   },
   "file_extension": ".py",
   "mimetype": "text/x-python",
   "name": "python",
   "nbconvert_exporter": "python",
   "pygments_lexer": "ipython3",
   "version": "3.9.7"
  }
 },
 "nbformat": 4,
 "nbformat_minor": 5
}
