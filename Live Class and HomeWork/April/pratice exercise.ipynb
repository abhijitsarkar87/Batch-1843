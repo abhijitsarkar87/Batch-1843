{
 "cells": [
  {
   "cell_type": "code",
   "execution_count": 3,
   "id": "e3c3785e",
   "metadata": {},
   "outputs": [],
   "source": [
    "import sqlite3"
   ]
  },
  {
   "cell_type": "code",
   "execution_count": 4,
   "id": "8a4631eb",
   "metadata": {},
   "outputs": [],
   "source": [
    "con=sqlite3.connect(\"Employeedatabse.db\")"
   ]
  },
  {
   "cell_type": "code",
   "execution_count": 5,
   "id": "d2830c1f",
   "metadata": {},
   "outputs": [],
   "source": [
    "cur=con.cursor()"
   ]
  },
  {
   "cell_type": "code",
   "execution_count": 6,
   "id": "d52d2b51",
   "metadata": {},
   "outputs": [
    {
     "data": {
      "text/plain": [
       "<sqlite3.Cursor at 0x29a9b76c880>"
      ]
     },
     "execution_count": 6,
     "metadata": {},
     "output_type": "execute_result"
    }
   ],
   "source": [
    "cur.execute(\"create table employee(id int primary key, name free, age int)\")"
   ]
  },
  {
   "cell_type": "code",
   "execution_count": 7,
   "id": "0841fef0",
   "metadata": {},
   "outputs": [
    {
     "data": {
      "text/plain": [
       "<sqlite3.Cursor at 0x29a9b76c880>"
      ]
     },
     "execution_count": 7,
     "metadata": {},
     "output_type": "execute_result"
    }
   ],
   "source": [
    "cur.execute(\"insert into employee values(101,'john',23),(102,'ajeet',25),(103,'punnet',26)\")"
   ]
  },
  {
   "cell_type": "code",
   "execution_count": 8,
   "id": "10b488fd",
   "metadata": {},
   "outputs": [
    {
     "name": "stdout",
     "output_type": "stream",
     "text": [
      "3 Rows Inbound\n"
     ]
    }
   ],
   "source": [
    "print(cur.rowcount,'Rows Inbound')"
   ]
  },
  {
   "cell_type": "code",
   "execution_count": 12,
   "id": "48a30e1f",
   "metadata": {},
   "outputs": [
    {
     "name": "stdout",
     "output_type": "stream",
     "text": [
      "2 Rows Inbound\n"
     ]
    }
   ],
   "source": [
    "cur.execute(\"insert into employee values(106,'jeet',28),(107,'pink',29)\")\n",
    "\n",
    "print(cur.rowcount,'Rows Inbound')"
   ]
  },
  {
   "cell_type": "code",
   "execution_count": 16,
   "id": "2c6c2010",
   "metadata": {},
   "outputs": [
    {
     "name": "stdout",
     "output_type": "stream",
     "text": [
      "(101, 'john', 23)\n",
      "(102, 'ajeet', 25)\n",
      "(103, 'punnet', 26)\n",
      "(104, 'jeet', 28)\n",
      "(105, 'pink', 29)\n",
      "(106, 'jeet', 28)\n",
      "(107, 'pink', 29)\n"
     ]
    }
   ],
   "source": [
    "r=cur.execute(\"select * from employee\")\n",
    "\n",
    "for i in r:\n",
    "    print(i)"
   ]
  },
  {
   "cell_type": "code",
   "execution_count": 17,
   "id": "cb718e35",
   "metadata": {},
   "outputs": [
    {
     "name": "stdout",
     "output_type": "stream",
     "text": [
      "(23, 'john')\n",
      "(25, 'ajeet')\n",
      "(26, 'punnet')\n",
      "(28, 'jeet')\n",
      "(29, 'pink')\n",
      "(28, 'jeet')\n",
      "(29, 'pink')\n"
     ]
    }
   ],
   "source": [
    "r=cur.execute(\"select age,name from employee\")\n",
    "\n",
    "for i in r:\n",
    "    print(i)"
   ]
  },
  {
   "cell_type": "code",
   "execution_count": 18,
   "id": "83fd392e",
   "metadata": {},
   "outputs": [
    {
     "name": "stdout",
     "output_type": "stream",
     "text": [
      "(23, 101)\n",
      "(25, 102)\n",
      "(26, 103)\n",
      "(28, 104)\n",
      "(29, 105)\n",
      "(28, 106)\n",
      "(29, 107)\n"
     ]
    }
   ],
   "source": [
    "r=cur.execute(\"select age,id from employee\")\n",
    "\n",
    "for i in r:\n",
    "    print(i)"
   ]
  },
  {
   "cell_type": "code",
   "execution_count": 19,
   "id": "4614909d",
   "metadata": {},
   "outputs": [
    {
     "name": "stdout",
     "output_type": "stream",
     "text": [
      "(23,)\n",
      "(29,)\n"
     ]
    }
   ],
   "source": [
    "r=cur.execute(\"select age from employee where id in(101,105)\")\n",
    "\n",
    "for i in r:\n",
    "    print(i)"
   ]
  },
  {
   "cell_type": "code",
   "execution_count": 22,
   "id": "7ed85032",
   "metadata": {},
   "outputs": [
    {
     "data": {
      "text/plain": [
       "('jeet',)"
      ]
     },
     "execution_count": 22,
     "metadata": {},
     "output_type": "execute_result"
    }
   ],
   "source": [
    "r=cur.execute(\"select name from employee where id=104\")\n",
    "r.fetchone()"
   ]
  },
  {
   "cell_type": "code",
   "execution_count": 23,
   "id": "4c31cb30",
   "metadata": {},
   "outputs": [
    {
     "name": "stdout",
     "output_type": "stream",
     "text": [
      "('pink', 29)\n"
     ]
    }
   ],
   "source": [
    "r=cur.execute(\"select name,age from employee where id=105\")\n",
    "\n",
    "for i in r:\n",
    "    print(i)"
   ]
  },
  {
   "cell_type": "code",
   "execution_count": 25,
   "id": "0aff2050",
   "metadata": {},
   "outputs": [
    {
     "data": {
      "text/plain": [
       "('pink', 29)"
      ]
     },
     "execution_count": 25,
     "metadata": {},
     "output_type": "execute_result"
    }
   ],
   "source": [
    "r=cur.execute(\"select name,age from employee where id=105\")\n",
    "r.fetchone()"
   ]
  },
  {
   "cell_type": "code",
   "execution_count": 27,
   "id": "f9992a47",
   "metadata": {},
   "outputs": [],
   "source": [
    "con.commit()"
   ]
  },
  {
   "cell_type": "code",
   "execution_count": 29,
   "id": "11b87696",
   "metadata": {},
   "outputs": [
    {
     "data": {
      "text/plain": [
       "[(101, 'john', 23),\n",
       " (102, 'ajeet', 25),\n",
       " (103, 'punnet', 26),\n",
       " (104, 'jeet', 28),\n",
       " (105, 'pink', 29),\n",
       " (106, 'jeet', 28),\n",
       " (107, 'pink', 29)]"
      ]
     },
     "execution_count": 29,
     "metadata": {},
     "output_type": "execute_result"
    }
   ],
   "source": [
    "r=cur.execute(\"Select * from employee\")\n",
    "r.fetchall()"
   ]
  },
  {
   "cell_type": "code",
   "execution_count": 31,
   "id": "52f479aa",
   "metadata": {},
   "outputs": [
    {
     "data": {
      "text/plain": [
       "[(102, 'ajeet', 25),\n",
       " (104, 'jeet', 28),\n",
       " (106, 'jeet', 28),\n",
       " (101, 'john', 23),\n",
       " (105, 'pink', 29),\n",
       " (107, 'pink', 29),\n",
       " (103, 'punnet', 26)]"
      ]
     },
     "execution_count": 31,
     "metadata": {},
     "output_type": "execute_result"
    }
   ],
   "source": [
    "# order by assending\n",
    "\n",
    "r=cur.execute(\"Select * from employee order by name asc\")\n",
    "r.fetchall()"
   ]
  },
  {
   "cell_type": "code",
   "execution_count": 32,
   "id": "834f07f7",
   "metadata": {},
   "outputs": [
    {
     "data": {
      "text/plain": [
       "[(103, 'punnet', 26),\n",
       " (105, 'pink', 29),\n",
       " (107, 'pink', 29),\n",
       " (101, 'john', 23),\n",
       " (104, 'jeet', 28),\n",
       " (106, 'jeet', 28),\n",
       " (102, 'ajeet', 25)]"
      ]
     },
     "execution_count": 32,
     "metadata": {},
     "output_type": "execute_result"
    }
   ],
   "source": [
    "# order by descending\n",
    "\n",
    "r=cur.execute(\"Select * from employee order by name desc\")\n",
    "r.fetchall()"
   ]
  },
  {
   "cell_type": "code",
   "execution_count": 6,
   "id": "617bd3f1",
   "metadata": {},
   "outputs": [],
   "source": [
    "import sqlite3\n",
    "con=sqlite3.connect(\"Employeedatabse.db\")"
   ]
  },
  {
   "cell_type": "code",
   "execution_count": 7,
   "id": "196ad2dc",
   "metadata": {},
   "outputs": [],
   "source": [
    "cur=con.cursor()"
   ]
  },
  {
   "cell_type": "code",
   "execution_count": 8,
   "id": "1d87495f",
   "metadata": {},
   "outputs": [
    {
     "data": {
      "text/plain": [
       "[(101, 'john', 23),\n",
       " (102, 'ajeet', 25),\n",
       " (103, 'punnet', 26),\n",
       " (104, 'jeet', 28),\n",
       " (105, 'pink', 29),\n",
       " (106, 'jeet', 28),\n",
       " (107, 'pink', 29)]"
      ]
     },
     "execution_count": 8,
     "metadata": {},
     "output_type": "execute_result"
    }
   ],
   "source": [
    "r=cur.execute(\"select * from employee\")\n",
    "\n",
    "r.fetchall()"
   ]
  },
  {
   "cell_type": "code",
   "execution_count": 23,
   "id": "6e9ee2c2",
   "metadata": {},
   "outputs": [],
   "source": [
    "# any one is true or both\n",
    "\n",
    "r=cur.execute(\"select * from employee where id>105 or name='pink'\")"
   ]
  },
  {
   "cell_type": "code",
   "execution_count": 24,
   "id": "62bdbf78",
   "metadata": {},
   "outputs": [
    {
     "data": {
      "text/plain": [
       "[(105, 'pink', 29), (106, 'jeet', 28), (107, 'pink', 29)]"
      ]
     },
     "execution_count": 24,
     "metadata": {},
     "output_type": "execute_result"
    }
   ],
   "source": [
    "r.fetchall()"
   ]
  },
  {
   "cell_type": "code",
   "execution_count": 32,
   "id": "42b81747",
   "metadata": {},
   "outputs": [],
   "source": [
    "# both the statement needs to be true\n",
    "\n",
    "r=cur.execute(\"select * from employee where id=102 and name='ajeet' \")"
   ]
  },
  {
   "cell_type": "code",
   "execution_count": 33,
   "id": "7edc8bf9",
   "metadata": {},
   "outputs": [
    {
     "data": {
      "text/plain": [
       "[(102, 'ajeet', 25)]"
      ]
     },
     "execution_count": 33,
     "metadata": {},
     "output_type": "execute_result"
    }
   ],
   "source": [
    "r.fetchall()"
   ]
  },
  {
   "cell_type": "markdown",
   "id": "9ccad321",
   "metadata": {},
   "source": [
    "# max function"
   ]
  },
  {
   "cell_type": "code",
   "execution_count": 34,
   "id": "079734f0",
   "metadata": {},
   "outputs": [
    {
     "data": {
      "text/plain": [
       "[(101, 'john', 23),\n",
       " (102, 'ajeet', 25),\n",
       " (103, 'punnet', 26),\n",
       " (104, 'jeet', 28),\n",
       " (105, 'pink', 29),\n",
       " (106, 'jeet', 28),\n",
       " (107, 'pink', 29)]"
      ]
     },
     "execution_count": 34,
     "metadata": {},
     "output_type": "execute_result"
    }
   ],
   "source": [
    "re=cur.execute(\"select * from employee\")\n",
    "\n",
    "re.fetchall()"
   ]
  },
  {
   "cell_type": "code",
   "execution_count": 37,
   "id": "843b50fe",
   "metadata": {},
   "outputs": [
    {
     "data": {
      "text/plain": [
       "<sqlite3.Cursor at 0x1f84bde1b90>"
      ]
     },
     "execution_count": 37,
     "metadata": {},
     "output_type": "execute_result"
    }
   ],
   "source": [
    "cur.execute(\"update employee set age= 25 where name='john'\")"
   ]
  },
  {
   "cell_type": "code",
   "execution_count": 38,
   "id": "1f675368",
   "metadata": {},
   "outputs": [],
   "source": [
    "con.commit()"
   ]
  },
  {
   "cell_type": "code",
   "execution_count": 40,
   "id": "c9f19d4e",
   "metadata": {},
   "outputs": [
    {
     "data": {
      "text/plain": [
       "[(101, 'john', 25),\n",
       " (102, 'ajeet', 25),\n",
       " (103, 'punnet', 26),\n",
       " (104, 'jeet', 28),\n",
       " (105, 'pink', 29),\n",
       " (106, 'jeet', 28),\n",
       " (107, 'pink', 29)]"
      ]
     },
     "execution_count": 40,
     "metadata": {},
     "output_type": "execute_result"
    }
   ],
   "source": [
    "re=cur.execute(\"select * from employee\")\n",
    "\n",
    "re.fetchall()"
   ]
  },
  {
   "cell_type": "code",
   "execution_count": 41,
   "id": "f4b620ec",
   "metadata": {},
   "outputs": [],
   "source": [
    "cur.execute(\"update employee set age=27 where id=101\")\n",
    "\n",
    "con.commit()"
   ]
  },
  {
   "cell_type": "code",
   "execution_count": 42,
   "id": "23b4276a",
   "metadata": {},
   "outputs": [
    {
     "data": {
      "text/plain": [
       "[(101, 'john', 27),\n",
       " (102, 'ajeet', 25),\n",
       " (103, 'punnet', 26),\n",
       " (104, 'jeet', 28),\n",
       " (105, 'pink', 29),\n",
       " (106, 'jeet', 28),\n",
       " (107, 'pink', 29)]"
      ]
     },
     "execution_count": 42,
     "metadata": {},
     "output_type": "execute_result"
    }
   ],
   "source": [
    "re=cur.execute(\"select * from employee\")\n",
    "\n",
    "re.fetchall()"
   ]
  },
  {
   "cell_type": "code",
   "execution_count": 43,
   "id": "03e497b3",
   "metadata": {},
   "outputs": [],
   "source": [
    "cur.execute(\"update employee set name='bubhan' where id=107\")\n",
    "con.commit()"
   ]
  },
  {
   "cell_type": "code",
   "execution_count": 44,
   "id": "7edebb16",
   "metadata": {},
   "outputs": [
    {
     "data": {
      "text/plain": [
       "[(101, 'john', 27),\n",
       " (102, 'ajeet', 25),\n",
       " (103, 'punnet', 26),\n",
       " (104, 'jeet', 28),\n",
       " (105, 'pink', 29),\n",
       " (106, 'jeet', 28),\n",
       " (107, 'bubhan', 29)]"
      ]
     },
     "execution_count": 44,
     "metadata": {},
     "output_type": "execute_result"
    }
   ],
   "source": [
    "re=cur.execute(\"select * from employee\")\n",
    "\n",
    "re.fetchall()"
   ]
  },
  {
   "cell_type": "markdown",
   "id": "cac6d6bc",
   "metadata": {},
   "source": [
    "# Like operator"
   ]
  },
  {
   "cell_type": "code",
   "execution_count": 46,
   "id": "4c982739",
   "metadata": {},
   "outputs": [
    {
     "data": {
      "text/plain": [
       "[(102, 'ajeet', 25), (103, 'punnet', 26), (104, 'jeet', 28), (106, 'jeet', 28)]"
      ]
     },
     "execution_count": 46,
     "metadata": {},
     "output_type": "execute_result"
    }
   ],
   "source": [
    "result=cur.execute(\"select * from employee where name like '%e%'\")\n",
    "result.fetchall()"
   ]
  },
  {
   "cell_type": "code",
   "execution_count": 47,
   "id": "c85adff7",
   "metadata": {},
   "outputs": [
    {
     "data": {
      "text/plain": [
       "[(103, 'punnet', 26), (105, 'pink', 29)]"
      ]
     },
     "execution_count": 47,
     "metadata": {},
     "output_type": "execute_result"
    }
   ],
   "source": [
    "result=cur.execute(\"select * from employee where name like 'p%'\")\n",
    "result.fetchall()"
   ]
  },
  {
   "cell_type": "code",
   "execution_count": 50,
   "id": "91bbbd40",
   "metadata": {},
   "outputs": [
    {
     "data": {
      "text/plain": [
       "[(102, 'ajeet', 25), (103, 'punnet', 26), (104, 'jeet', 28), (106, 'jeet', 28)]"
      ]
     },
     "execution_count": 50,
     "metadata": {},
     "output_type": "execute_result"
    }
   ],
   "source": [
    "result=cur.execute(\"select * from employee where name like '%t'\")\n",
    "result.fetchall()"
   ]
  },
  {
   "cell_type": "code",
   "execution_count": 60,
   "id": "b757ca3f",
   "metadata": {},
   "outputs": [
    {
     "ename": "IntegrityError",
     "evalue": "UNIQUE constraint failed: employee.id",
     "output_type": "error",
     "traceback": [
      "\u001b[1;31m---------------------------------------------------------------------------\u001b[0m",
      "\u001b[1;31mIntegrityError\u001b[0m                            Traceback (most recent call last)",
      "\u001b[1;32mC:\\Users\\ABHIJI~1\\AppData\\Local\\Temp/ipykernel_27952/3277136275.py\u001b[0m in \u001b[0;36m<module>\u001b[1;34m\u001b[0m\n\u001b[1;32m----> 1\u001b[1;33m \u001b[0mcur\u001b[0m\u001b[1;33m.\u001b[0m\u001b[0mexecute\u001b[0m\u001b[1;33m(\u001b[0m\u001b[1;34m\"insert into employee values(108,'jack',52),(109,'heena',null)\"\u001b[0m\u001b[1;33m)\u001b[0m\u001b[1;33m\u001b[0m\u001b[1;33m\u001b[0m\u001b[0m\n\u001b[0m\u001b[0;32m      2\u001b[0m \u001b[1;33m\u001b[0m\u001b[0m\n\u001b[0;32m      3\u001b[0m \u001b[0mprint\u001b[0m\u001b[1;33m(\u001b[0m\u001b[0mcur\u001b[0m\u001b[1;33m.\u001b[0m\u001b[0mrowcount\u001b[0m\u001b[1;33m,\u001b[0m\u001b[1;34m\"Rows\"\u001b[0m\u001b[1;33m)\u001b[0m\u001b[1;33m\u001b[0m\u001b[1;33m\u001b[0m\u001b[0m\n",
      "\u001b[1;31mIntegrityError\u001b[0m: UNIQUE constraint failed: employee.id"
     ]
    }
   ],
   "source": [
    "cur.execute(\"insert into employee values(108,'jack',52),(109,'heena',null)\")\n",
    "\n",
    "print(cur.rowcount,\"Rows\")"
   ]
  },
  {
   "cell_type": "code",
   "execution_count": 61,
   "id": "e3cb4643",
   "metadata": {},
   "outputs": [
    {
     "name": "stdout",
     "output_type": "stream",
     "text": [
      "2 Rows\n"
     ]
    }
   ],
   "source": [
    "cur.execute(\"insert into employee values(110,'jack',52),(111,'heena',null)\")\n",
    "\n",
    "print(cur.rowcount,\"Rows\")\n",
    "\n",
    "con.commit()"
   ]
  },
  {
   "cell_type": "markdown",
   "id": "53b20054",
   "metadata": {},
   "source": [
    "# NULL"
   ]
  },
  {
   "cell_type": "code",
   "execution_count": 62,
   "id": "aa54fc0f",
   "metadata": {},
   "outputs": [
    {
     "name": "stdout",
     "output_type": "stream",
     "text": [
      "(111, 'heena', None)\n"
     ]
    }
   ],
   "source": [
    "# no result as no marks is nill\n",
    "\n",
    "result=cur.execute(\"select * from employee where age is null \")\n",
    "\n",
    "for i in result:\n",
    "    print(i)"
   ]
  },
  {
   "cell_type": "markdown",
   "id": "0a04ab1a",
   "metadata": {},
   "source": [
    "# Is and Is not"
   ]
  },
  {
   "cell_type": "code",
   "execution_count": 63,
   "id": "7d80a251",
   "metadata": {},
   "outputs": [
    {
     "data": {
      "text/plain": [
       "[]"
      ]
     },
     "execution_count": 63,
     "metadata": {},
     "output_type": "execute_result"
    }
   ],
   "source": [
    "result=cur.execute(\"select * from employee where name is 'null'\")\n",
    "\n",
    "result.fetchall()"
   ]
  },
  {
   "cell_type": "code",
   "execution_count": 64,
   "id": "8f0aec8b",
   "metadata": {},
   "outputs": [
    {
     "data": {
      "text/plain": [
       "[(101, 'john', 27),\n",
       " (102, 'ajeet', 25),\n",
       " (103, 'punnet', 26),\n",
       " (104, 'jeet', 28),\n",
       " (105, 'pink', 29),\n",
       " (106, 'jeet', 28),\n",
       " (107, 'bubhan', 29),\n",
       " (108, 'jack', 52),\n",
       " (109, 'heena', 0),\n",
       " (110, 'jack', 52),\n",
       " (111, 'heena', None)]"
      ]
     },
     "execution_count": 64,
     "metadata": {},
     "output_type": "execute_result"
    }
   ],
   "source": [
    "result=cur.execute(\"select * from employee where name is not'null' \")\n",
    "result.fetchall()"
   ]
  },
  {
   "cell_type": "markdown",
   "id": "2cd627c5",
   "metadata": {},
   "source": [
    "# Delete any Unwanted records:"
   ]
  },
  {
   "cell_type": "code",
   "execution_count": 69,
   "id": "0332d0bb",
   "metadata": {},
   "outputs": [
    {
     "data": {
      "text/plain": [
       "[(101, 'john', 27),\n",
       " (102, 'ajeet', 25),\n",
       " (103, 'punnet', 26),\n",
       " (104, 'jeet', 28),\n",
       " (105, 'pink', 29),\n",
       " (106, 'jeet', 28),\n",
       " (107, 'bubhan', 29),\n",
       " (108, 'jack', 52),\n",
       " (109, 'heena', 0),\n",
       " (110, 'jack', 52),\n",
       " (111, 'heena', None)]"
      ]
     },
     "execution_count": 69,
     "metadata": {},
     "output_type": "execute_result"
    }
   ],
   "source": [
    "result=cur.execute(\"select * from employee where name is not'null' \")\n",
    "result.fetchall()"
   ]
  },
  {
   "cell_type": "code",
   "execution_count": 77,
   "id": "2b1f60ea",
   "metadata": {},
   "outputs": [],
   "source": [
    "con.execute(\"delete from employee where age=27\")\n",
    "con.commit()"
   ]
  },
  {
   "cell_type": "code",
   "execution_count": 78,
   "id": "8fd90b2d",
   "metadata": {},
   "outputs": [
    {
     "data": {
      "text/plain": [
       "[(102, 'ajeet', 25),\n",
       " (103, 'punnet', 26),\n",
       " (104, 'jeet', 28),\n",
       " (105, 'pink', 29),\n",
       " (106, 'jeet', 28),\n",
       " (107, 'bubhan', 29),\n",
       " (108, 'jack', 52),\n",
       " (109, 'heena', 0),\n",
       " (110, 'jack', 52),\n",
       " (111, 'heena', None)]"
      ]
     },
     "execution_count": 78,
     "metadata": {},
     "output_type": "execute_result"
    }
   ],
   "source": [
    "result=cur.execute(\"select * from employee where name is not'null' \")\n",
    "result.fetchall()"
   ]
  },
  {
   "cell_type": "code",
   "execution_count": 79,
   "id": "35f2d804",
   "metadata": {},
   "outputs": [],
   "source": [
    "con.execute(\"delete from employee where name='heena'\")\n",
    "con.commit()"
   ]
  },
  {
   "cell_type": "code",
   "execution_count": 80,
   "id": "7f599d06",
   "metadata": {},
   "outputs": [
    {
     "data": {
      "text/plain": [
       "[(102, 'ajeet', 25),\n",
       " (103, 'punnet', 26),\n",
       " (104, 'jeet', 28),\n",
       " (105, 'pink', 29),\n",
       " (106, 'jeet', 28),\n",
       " (107, 'bubhan', 29),\n",
       " (108, 'jack', 52),\n",
       " (110, 'jack', 52)]"
      ]
     },
     "execution_count": 80,
     "metadata": {},
     "output_type": "execute_result"
    }
   ],
   "source": [
    "result=cur.execute(\"select * from employee where name is not'null' \")\n",
    "result.fetchall()"
   ]
  },
  {
   "cell_type": "code",
   "execution_count": 81,
   "id": "9072f309",
   "metadata": {},
   "outputs": [],
   "source": [
    "sql=\"delete from employee where id='106'\"\n",
    "\n",
    "con.execute(sql)\n",
    "con.commit()"
   ]
  },
  {
   "cell_type": "code",
   "execution_count": 82,
   "id": "c921d22f",
   "metadata": {},
   "outputs": [
    {
     "data": {
      "text/plain": [
       "[(102, 'ajeet', 25),\n",
       " (103, 'punnet', 26),\n",
       " (104, 'jeet', 28),\n",
       " (105, 'pink', 29),\n",
       " (107, 'bubhan', 29),\n",
       " (108, 'jack', 52),\n",
       " (110, 'jack', 52)]"
      ]
     },
     "execution_count": 82,
     "metadata": {},
     "output_type": "execute_result"
    }
   ],
   "source": [
    "result=cur.execute(\"select * from employee where name is not'null' \")\n",
    "result.fetchall()"
   ]
  },
  {
   "cell_type": "code",
   "execution_count": 83,
   "id": "0a1823b3",
   "metadata": {},
   "outputs": [],
   "source": [
    "sql=\"update employee set id=101 where id=110\"\n",
    "\n",
    "cur.execute(sql)\n",
    "con.commit()"
   ]
  },
  {
   "cell_type": "code",
   "execution_count": 84,
   "id": "f33dc569",
   "metadata": {},
   "outputs": [
    {
     "data": {
      "text/plain": [
       "[(102, 'ajeet', 25),\n",
       " (103, 'punnet', 26),\n",
       " (104, 'jeet', 28),\n",
       " (105, 'pink', 29),\n",
       " (107, 'bubhan', 29),\n",
       " (108, 'jack', 52),\n",
       " (101, 'jack', 52)]"
      ]
     },
     "execution_count": 84,
     "metadata": {},
     "output_type": "execute_result"
    }
   ],
   "source": [
    "result=cur.execute(\"select * from employee where name is not'null' \")\n",
    "result.fetchall()"
   ]
  },
  {
   "cell_type": "markdown",
   "id": "1117df39",
   "metadata": {},
   "source": [
    "# DROP TABLE"
   ]
  },
  {
   "cell_type": "code",
   "execution_count": 85,
   "id": "11b992a3",
   "metadata": {},
   "outputs": [],
   "source": [
    "# DELETING TABLE\n",
    "\n",
    "sql=\"drop table employee\"\n",
    "\n",
    "cur.execute(sql)\n",
    "con.commit()"
   ]
  },
  {
   "cell_type": "code",
   "execution_count": 86,
   "id": "f62c45f7",
   "metadata": {},
   "outputs": [
    {
     "ename": "OperationalError",
     "evalue": "no such table: employee",
     "output_type": "error",
     "traceback": [
      "\u001b[1;31m---------------------------------------------------------------------------\u001b[0m",
      "\u001b[1;31mOperationalError\u001b[0m                          Traceback (most recent call last)",
      "\u001b[1;32mC:\\Users\\ABHIJI~1\\AppData\\Local\\Temp/ipykernel_27952/2139521110.py\u001b[0m in \u001b[0;36m<module>\u001b[1;34m\u001b[0m\n\u001b[1;32m----> 1\u001b[1;33m \u001b[0mresult\u001b[0m\u001b[1;33m=\u001b[0m\u001b[0mcur\u001b[0m\u001b[1;33m.\u001b[0m\u001b[0mexecute\u001b[0m\u001b[1;33m(\u001b[0m\u001b[1;34m\"select * from employee where name is not'null' \"\u001b[0m\u001b[1;33m)\u001b[0m\u001b[1;33m\u001b[0m\u001b[1;33m\u001b[0m\u001b[0m\n\u001b[0m\u001b[0;32m      2\u001b[0m \u001b[0mresult\u001b[0m\u001b[1;33m.\u001b[0m\u001b[0mfetchall\u001b[0m\u001b[1;33m(\u001b[0m\u001b[1;33m)\u001b[0m\u001b[1;33m\u001b[0m\u001b[1;33m\u001b[0m\u001b[0m\n",
      "\u001b[1;31mOperationalError\u001b[0m: no such table: employee"
     ]
    }
   ],
   "source": [
    "result=cur.execute(\"select * from employee where name is not'null' \")\n",
    "result.fetchall()"
   ]
  },
  {
   "cell_type": "markdown",
   "id": "d1431b26",
   "metadata": {},
   "source": [
    "# closing database"
   ]
  },
  {
   "cell_type": "code",
   "execution_count": 87,
   "id": "38e2549f",
   "metadata": {},
   "outputs": [],
   "source": [
    "con.close()"
   ]
  },
  {
   "cell_type": "markdown",
   "id": "e4deeab0",
   "metadata": {},
   "source": [
    "# life cycle of data base"
   ]
  },
  {
   "cell_type": "markdown",
   "id": "56108603",
   "metadata": {},
   "source": [
    "\"\"\"\n",
    "CREATE DATABASE : import sqlite3\n",
    "                  db1=sqlit3.connect(\"new_studentdatabase.db\")\n",
    "                  \n",
    "CONNECT TO DATA BASE  : cur=db1.connect()\n",
    "\n",
    "            CREATE TABLE and INSERTION ON TABLE : \n",
    "\n",
    "cur.execute(\"create table student(name text,id int primarykey, marks notnull)\")\n",
    "cur.execute(\"insert into student values('chintu',8,70),('chunmun',9,90),('ravi',10,67),('ratul',11,87),('ramesh',12,45)\")\n",
    "db1.commit()\n",
    "\n",
    "QUARY ON TABLE  :   r=cur.execute(\"select name,id where marks= 90\")\n",
    "\n",
    "UPDATE OF TABLE : sql=\"update student set marks=100 where id in(12)\"\n",
    "                  cur.execute(sql)\n",
    "                  db1.commit()\n",
    "\n",
    "DELETE A ROW  : sql=\"delete from student where id=13\"\n",
    "\n",
    "DELETE A TABLE: sql=\"delete from student where id in(15,14)\"\n",
    "                cur.execute(sql)\n",
    "                db1.commit()\n",
    "\n",
    "DROP THE DATABASE= sql='drop table student'\n",
    "                   results=cur.execute(sql)\n",
    "\n",
    "CLOSE DATA BASE= connection.CLOSE"
   ]
  },
  {
   "cell_type": "markdown",
   "id": "f5177dcd",
   "metadata": {},
   "source": [
    "# Adding data in table with CSV (coma seperated values) file directly"
   ]
  },
  {
   "cell_type": "code",
   "execution_count": null,
   "id": "1592d46b",
   "metadata": {},
   "outputs": [],
   "source": []
  }
 ],
 "metadata": {
  "kernelspec": {
   "display_name": "Python 3 (ipykernel)",
   "language": "python",
   "name": "python3"
  },
  "language_info": {
   "codemirror_mode": {
    "name": "ipython",
    "version": 3
   },
   "file_extension": ".py",
   "mimetype": "text/x-python",
   "name": "python",
   "nbconvert_exporter": "python",
   "pygments_lexer": "ipython3",
   "version": "3.9.7"
  }
 },
 "nbformat": 4,
 "nbformat_minor": 5
}
