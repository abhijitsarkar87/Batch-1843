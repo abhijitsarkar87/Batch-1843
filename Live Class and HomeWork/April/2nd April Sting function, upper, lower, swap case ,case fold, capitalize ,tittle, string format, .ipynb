{
 "cells": [
  {
   "cell_type": "markdown",
   "id": "0ac66074",
   "metadata": {},
   "source": [
    "# STRING FUNCTION"
   ]
  },
  {
   "cell_type": "code",
   "execution_count": 60,
   "id": "4e6b5f87",
   "metadata": {},
   "outputs": [],
   "source": [
    "                # used to change the words or sentence \n",
    "    \n",
    "# string.upper()               makes all alphabetic words to capital\n",
    "\n",
    "# string.lower()               makes aplphabetic to small letter\n",
    "\n",
    "# variable can be written as---------------------------------------   \n",
    "# ---------------------->first_name or firstname else it wont accept\n",
    "\n",
    "# string.swapcase()            to change Upper to lower,lower to Upper\n",
    "# STRING.split()               SPLIT ALL THE SENTENCE IN WORDS\n",
    "# string.title()               all letter first word will be capitalized\n",
    "\n",
    "  # To check if the word is in capital case or lower case\n",
    "    \n",
    "# string.islower-------> to check if word is in lower case\n",
    "# string.isupper-------> to check if words is in upper case\n",
    "\n",
    "# STRING.Capitalize will only capitalize the 1st of the sentence,\n",
    "\n",
    "# STRING.title() will capialize all the 1st letter of the words to capital.\n",
    "\n",
    "    #To check if the string is alpha,digit,numeric,alnum\n",
    "\n",
    "# string.isalpha()             to check if the string is alphabetical\n",
    "# string.isdigit()             to check if the string is numeric\n",
    "# string.isnumeric()           to check if the string is numeric\n",
    "# string.isalnum()             to check if the string is alphanumeric\n",
    "\n",
    "# sTRING.CASEFOLD would ignore the matching of words by lowercase or uppercase\n"
   ]
  },
  {
   "cell_type": "code",
   "execution_count": 1,
   "id": "f94d5260",
   "metadata": {},
   "outputs": [],
   "source": [
    "string1=\"Computer\""
   ]
  },
  {
   "cell_type": "code",
   "execution_count": 2,
   "id": "81c5916e",
   "metadata": {},
   "outputs": [
    {
     "data": {
      "text/plain": [
       "'Computer'"
      ]
     },
     "execution_count": 2,
     "metadata": {},
     "output_type": "execute_result"
    }
   ],
   "source": [
    "string1"
   ]
  },
  {
   "cell_type": "code",
   "execution_count": 4,
   "id": "26fc6601",
   "metadata": {},
   "outputs": [
    {
     "data": {
      "text/plain": [
       "'COMPUTER'"
      ]
     },
     "execution_count": 4,
     "metadata": {},
     "output_type": "execute_result"
    }
   ],
   "source": [
    "string1.upper()"
   ]
  },
  {
   "cell_type": "code",
   "execution_count": 9,
   "id": "63f28586",
   "metadata": {},
   "outputs": [],
   "source": [
    "first_name=\"abhijit\""
   ]
  },
  {
   "cell_type": "code",
   "execution_count": 10,
   "id": "333591eb",
   "metadata": {},
   "outputs": [
    {
     "data": {
      "text/plain": [
       "'abhijit'"
      ]
     },
     "execution_count": 10,
     "metadata": {},
     "output_type": "execute_result"
    }
   ],
   "source": [
    "first_name"
   ]
  },
  {
   "cell_type": "code",
   "execution_count": 11,
   "id": "cf4ae82a",
   "metadata": {},
   "outputs": [],
   "source": [
    "comp=string1.upper()"
   ]
  },
  {
   "cell_type": "code",
   "execution_count": 13,
   "id": "2c04cc43",
   "metadata": {},
   "outputs": [
    {
     "data": {
      "text/plain": [
       "'COMPUTER'"
      ]
     },
     "execution_count": 13,
     "metadata": {},
     "output_type": "execute_result"
    }
   ],
   "source": [
    "comp"
   ]
  },
  {
   "cell_type": "code",
   "execution_count": 14,
   "id": "f3554057",
   "metadata": {},
   "outputs": [],
   "source": [
    "# string.lower() will make the all words in lower case\n",
    "\n",
    "complow=comp.lower()"
   ]
  },
  {
   "cell_type": "code",
   "execution_count": 15,
   "id": "d7daa2f4",
   "metadata": {},
   "outputs": [
    {
     "data": {
      "text/plain": [
       "'computer'"
      ]
     },
     "execution_count": 15,
     "metadata": {},
     "output_type": "execute_result"
    }
   ],
   "source": [
    "complow"
   ]
  },
  {
   "cell_type": "code",
   "execution_count": 17,
   "id": "3d0dc3cd",
   "metadata": {},
   "outputs": [],
   "source": [
    "city=\"pune\""
   ]
  },
  {
   "cell_type": "code",
   "execution_count": 21,
   "id": "e973bf1b",
   "metadata": {},
   "outputs": [],
   "source": [
    "# string.upper() will make the all words in capital.\n",
    "\n",
    "newcity=city.upper()"
   ]
  },
  {
   "cell_type": "code",
   "execution_count": 22,
   "id": "ff70e2aa",
   "metadata": {},
   "outputs": [
    {
     "data": {
      "text/plain": [
       "'PUNE'"
      ]
     },
     "execution_count": 22,
     "metadata": {},
     "output_type": "execute_result"
    }
   ],
   "source": [
    "newcity"
   ]
  },
  {
   "cell_type": "code",
   "execution_count": 24,
   "id": "d5aba8fb",
   "metadata": {},
   "outputs": [],
   "source": [
    "b=\"LenoVo\""
   ]
  },
  {
   "cell_type": "code",
   "execution_count": 26,
   "id": "ad1e1f0c",
   "metadata": {},
   "outputs": [
    {
     "data": {
      "text/plain": [
       "'LenoVo'"
      ]
     },
     "execution_count": 26,
     "metadata": {},
     "output_type": "execute_result"
    }
   ],
   "source": [
    "b"
   ]
  },
  {
   "cell_type": "code",
   "execution_count": 27,
   "id": "23579106",
   "metadata": {},
   "outputs": [
    {
     "data": {
      "text/plain": [
       "'lENOvO'"
      ]
     },
     "execution_count": 27,
     "metadata": {},
     "output_type": "execute_result"
    }
   ],
   "source": [
    "# capital letter become lower and lower become upper\n",
    "\n",
    "b.swapcase()"
   ]
  },
  {
   "cell_type": "code",
   "execution_count": 29,
   "id": "bff8406c",
   "metadata": {},
   "outputs": [
    {
     "data": {
      "text/plain": [
       "'PARRot'"
      ]
     },
     "execution_count": 29,
     "metadata": {},
     "output_type": "execute_result"
    }
   ],
   "source": [
    "# another swap case\n",
    "\n",
    "c=\"parrOT\"\n",
    "\n",
    "c.swapcase()"
   ]
  },
  {
   "cell_type": "code",
   "execution_count": 30,
   "id": "726eeb74",
   "metadata": {},
   "outputs": [],
   "source": [
    "# split function will split the data by seeing the space in the sentence.\n",
    "\n",
    "check=\" I love to be a part of data scientist \""
   ]
  },
  {
   "cell_type": "code",
   "execution_count": 32,
   "id": "dbe54daf",
   "metadata": {},
   "outputs": [],
   "source": [
    "# split function will split the data by seeing the space in the sentence.\n",
    "\n",
    "newcheck=check.split()"
   ]
  },
  {
   "cell_type": "code",
   "execution_count": 33,
   "id": "de7e3872",
   "metadata": {},
   "outputs": [
    {
     "data": {
      "text/plain": [
       "['I', 'love', 'to', 'be', 'a', 'part', 'of', 'data', 'scientist']"
      ]
     },
     "execution_count": 33,
     "metadata": {},
     "output_type": "execute_result"
    }
   ],
   "source": [
    "newcheck"
   ]
  },
  {
   "cell_type": "code",
   "execution_count": 7,
   "id": "0fef5351",
   "metadata": {},
   "outputs": [],
   "source": [
    "# TO CHECK IF THE STRING HELD \"Alphabetic\", \"NUMARIC\" OR \"ALPHA-NUMARIC\""
   ]
  },
  {
   "cell_type": "code",
   "execution_count": 41,
   "id": "de9b4227",
   "metadata": {},
   "outputs": [],
   "source": [
    "#To check if the string is alpha,digit,numeric,alnum\n",
    "\n",
    "# string.isalpha()             to check if the string is alphabetical\n",
    "\n",
    "# string.isdigit()             to check if the string is numeric\n",
    "\n",
    "# string.isnumeric()           to check if the string is numeric\n",
    "\n",
    "# string.isalnum()             to check if the string is alphanumeric\n"
   ]
  },
  {
   "cell_type": "code",
   "execution_count": 35,
   "id": "57b4f5b6",
   "metadata": {},
   "outputs": [
    {
     "data": {
      "text/plain": [
       "'abhijit'"
      ]
     },
     "execution_count": 35,
     "metadata": {},
     "output_type": "execute_result"
    }
   ],
   "source": [
    "ab=\"abhijit\"\n",
    "ab"
   ]
  },
  {
   "cell_type": "code",
   "execution_count": 36,
   "id": "41a451bc",
   "metadata": {},
   "outputs": [
    {
     "data": {
      "text/plain": [
       "True"
      ]
     },
     "execution_count": 36,
     "metadata": {},
     "output_type": "execute_result"
    }
   ],
   "source": [
    "# string.isalpha()             to check if the string is alphabetical\n",
    "\n",
    "ab.isalpha()"
   ]
  },
  {
   "cell_type": "code",
   "execution_count": 37,
   "id": "81a80c7e",
   "metadata": {},
   "outputs": [
    {
     "data": {
      "text/plain": [
       "False"
      ]
     },
     "execution_count": 37,
     "metadata": {},
     "output_type": "execute_result"
    }
   ],
   "source": [
    "# string.isnumeric()           to check if the string is numeric\n",
    "\n",
    "ab.isnumeric()"
   ]
  },
  {
   "cell_type": "code",
   "execution_count": 38,
   "id": "388c965f",
   "metadata": {},
   "outputs": [
    {
     "data": {
      "text/plain": [
       "False"
      ]
     },
     "execution_count": 38,
     "metadata": {},
     "output_type": "execute_result"
    }
   ],
   "source": [
    "# string.isdigit()             to check if the string is numeric\n",
    "\n",
    "ab.isdigit()"
   ]
  },
  {
   "cell_type": "code",
   "execution_count": 40,
   "id": "6f16f8ac",
   "metadata": {},
   "outputs": [
    {
     "data": {
      "text/plain": [
       "True"
      ]
     },
     "execution_count": 40,
     "metadata": {},
     "output_type": "execute_result"
    }
   ],
   "source": [
    "ab.isalnum()"
   ]
  },
  {
   "cell_type": "code",
   "execution_count": 43,
   "id": "92c6b4e4",
   "metadata": {},
   "outputs": [],
   "source": [
    "abc=\"Abhijit87\""
   ]
  },
  {
   "cell_type": "code",
   "execution_count": 44,
   "id": "f00bff14",
   "metadata": {},
   "outputs": [
    {
     "data": {
      "text/plain": [
       "True"
      ]
     },
     "execution_count": 44,
     "metadata": {},
     "output_type": "execute_result"
    }
   ],
   "source": [
    "# string.isalnum()             to check if the string is alphanumeric\n",
    "\n",
    "abc.isalnum()"
   ]
  },
  {
   "cell_type": "code",
   "execution_count": 46,
   "id": "0a7d29ce",
   "metadata": {},
   "outputs": [
    {
     "data": {
      "text/plain": [
       "' one day i will become a good data scientist'"
      ]
     },
     "execution_count": 46,
     "metadata": {},
     "output_type": "execute_result"
    }
   ],
   "source": [
    "string2= \" one day i will become a good data scientist\"\n",
    "\n",
    "string2"
   ]
  },
  {
   "cell_type": "code",
   "execution_count": 47,
   "id": "7efae86b",
   "metadata": {},
   "outputs": [
    {
     "data": {
      "text/plain": [
       "' One Day I Will Become A Good Data Scientist'"
      ]
     },
     "execution_count": 47,
     "metadata": {},
     "output_type": "execute_result"
    }
   ],
   "source": [
    "# string.title() will capitalize all 1st letter, alphabet word of to capital\n",
    "\n",
    "string2.title()"
   ]
  },
  {
   "cell_type": "code",
   "execution_count": 48,
   "id": "04fa6637",
   "metadata": {},
   "outputs": [
    {
     "data": {
      "text/plain": [
       "' I love to be a part of data scientist '"
      ]
     },
     "execution_count": 48,
     "metadata": {},
     "output_type": "execute_result"
    }
   ],
   "source": [
    "check"
   ]
  },
  {
   "cell_type": "code",
   "execution_count": 50,
   "id": "5d512cea",
   "metadata": {},
   "outputs": [
    {
     "data": {
      "text/plain": [
       "' I Love To Be A Part Of Data Scientist '"
      ]
     },
     "execution_count": 50,
     "metadata": {},
     "output_type": "execute_result"
    }
   ],
   "source": [
    "check.title()"
   ]
  },
  {
   "cell_type": "code",
   "execution_count": 51,
   "id": "b9680006",
   "metadata": {},
   "outputs": [],
   "source": [
    " # To check if the word is in capital case or lower case\n",
    "    \n",
    "    # string.islower-------> to check if word is in lower case\n",
    "    \n",
    "    # string.isupper-------> to check if words is in upper case\n",
    "    "
   ]
  },
  {
   "cell_type": "code",
   "execution_count": 52,
   "id": "f716f4ff",
   "metadata": {},
   "outputs": [],
   "source": [
    "rocks=\"brown\""
   ]
  },
  {
   "cell_type": "code",
   "execution_count": 53,
   "id": "c69324c9",
   "metadata": {},
   "outputs": [
    {
     "data": {
      "text/plain": [
       "True"
      ]
     },
     "execution_count": 53,
     "metadata": {},
     "output_type": "execute_result"
    }
   ],
   "source": [
    "rocks.islower()"
   ]
  },
  {
   "cell_type": "code",
   "execution_count": 54,
   "id": "2c3abd7e",
   "metadata": {},
   "outputs": [
    {
     "data": {
      "text/plain": [
       "False"
      ]
     },
     "execution_count": 54,
     "metadata": {},
     "output_type": "execute_result"
    }
   ],
   "source": [
    "rocks.isupper()"
   ]
  },
  {
   "cell_type": "code",
   "execution_count": 57,
   "id": "d0d916e9",
   "metadata": {},
   "outputs": [],
   "source": [
    "pen=\"GREEN COLOUR\""
   ]
  },
  {
   "cell_type": "code",
   "execution_count": 58,
   "id": "cca31ba1",
   "metadata": {},
   "outputs": [
    {
     "data": {
      "text/plain": [
       "True"
      ]
     },
     "execution_count": 58,
     "metadata": {},
     "output_type": "execute_result"
    }
   ],
   "source": [
    "pen.isupper()"
   ]
  },
  {
   "cell_type": "code",
   "execution_count": 59,
   "id": "6dec9f12",
   "metadata": {},
   "outputs": [
    {
     "data": {
      "text/plain": [
       "False"
      ]
     },
     "execution_count": 59,
     "metadata": {},
     "output_type": "execute_result"
    }
   ],
   "source": [
    "pen.islower()"
   ]
  },
  {
   "cell_type": "markdown",
   "id": "308fd3e1",
   "metadata": {},
   "source": [
    "CASEFOLD"
   ]
  },
  {
   "cell_type": "code",
   "execution_count": 61,
   "id": "cd6fd174",
   "metadata": {},
   "outputs": [],
   "source": [
    "# sTRING.CASEFOLD() will ignore the matching of words by lowercase or uppercase"
   ]
  },
  {
   "cell_type": "code",
   "execution_count": 1,
   "id": "74ce90cb",
   "metadata": {},
   "outputs": [
    {
     "name": "stdout",
     "output_type": "stream",
     "text": [
      "Both the words in string1 and string2 matches\n"
     ]
    }
   ],
   "source": [
    "string1=\"tesla\"\n",
    "string2=\"Tesla\"\n",
    "\n",
    "if string1.casefold()==string2.casefold():\n",
    "    print(\"Both the words in string1 and string2 matches\")\n",
    "else:\n",
    "    print(\"Couldn't find a match\")"
   ]
  },
  {
   "cell_type": "markdown",
   "id": "9a77d734",
   "metadata": {},
   "source": [
    "CAPITALIZE().....>>>AND<<..............TITTLE()"
   ]
  },
  {
   "cell_type": "code",
   "execution_count": 8,
   "id": "b54e6ed1",
   "metadata": {},
   "outputs": [],
   "source": [
    "# Capitalize will only capitalize the 1st of the sentence,\n",
    "\n",
    "# title()will capialize all the 1st letter of the words to capital."
   ]
  },
  {
   "cell_type": "code",
   "execution_count": 2,
   "id": "603053eb",
   "metadata": {},
   "outputs": [],
   "source": [
    "j=\"desk top\""
   ]
  },
  {
   "cell_type": "code",
   "execution_count": 4,
   "id": "c724025b",
   "metadata": {},
   "outputs": [
    {
     "data": {
      "text/plain": [
       "'Desk top'"
      ]
     },
     "execution_count": 4,
     "metadata": {},
     "output_type": "execute_result"
    }
   ],
   "source": [
    "# Capitalize will only capitalize the 1st of the sentence,\n",
    "\n",
    "j.capitalize()"
   ]
  },
  {
   "cell_type": "code",
   "execution_count": 6,
   "id": "3a8e1cb7",
   "metadata": {},
   "outputs": [
    {
     "data": {
      "text/plain": [
       "'Desk Top'"
      ]
     },
     "execution_count": 6,
     "metadata": {},
     "output_type": "execute_result"
    }
   ],
   "source": [
    "# title()will capialize all the 1st letter of the words to capital.\n",
    "\n",
    "j.title()"
   ]
  },
  {
   "cell_type": "code",
   "execution_count": 9,
   "id": "4cb6593e",
   "metadata": {},
   "outputs": [],
   "source": [
    "#Age=11 Age hold digit or numaric data in C AGE IS REPRESENTED BY %d\n",
    "\n",
    "#Name=\"Jhon\" name hold string data in C it is represented by %s"
   ]
  },
  {
   "cell_type": "code",
   "execution_count": 18,
   "id": "2409f377",
   "metadata": {},
   "outputs": [
    {
     "name": "stdout",
     "output_type": "stream",
     "text": [
      "Hello John!\n"
     ]
    }
   ],
   "source": [
    "#printing Hello Jhone by command in C,\n",
    "\n",
    "name=\"John\"\n",
    "print(\"Hello %s!\"%name)"
   ]
  },
  {
   "cell_type": "code",
   "execution_count": 19,
   "id": "e12b2d52",
   "metadata": {},
   "outputs": [
    {
     "name": "stdout",
     "output_type": "stream",
     "text": [
      "Hello John he is 21\n"
     ]
    }
   ],
   "source": [
    "name=\"John\"\n",
    "age=21\n",
    "\n",
    "print(\"Hello %s he is %d\" %(name,age))"
   ]
  },
  {
   "cell_type": "code",
   "execution_count": 20,
   "id": "e470a0ed",
   "metadata": {},
   "outputs": [
    {
     "name": "stdout",
     "output_type": "stream",
     "text": [
      "I Love India\n"
     ]
    }
   ],
   "source": [
    "me=\"I\"\n",
    "love=\"Love\"\n",
    "country=\"India\"\n",
    "\n",
    "print(\"%s %s %s\"%(me,love,country))"
   ]
  },
  {
   "cell_type": "code",
   "execution_count": 21,
   "id": "13a44412",
   "metadata": {},
   "outputs": [
    {
     "name": "stdout",
     "output_type": "stream",
     "text": [
      " Hello, John is 21 years old\n"
     ]
    }
   ],
   "source": [
    "#This print out\"John is 23 years Old.\"\n",
    "\n",
    "name=\"John\"\n",
    "year=21\n",
    "\n",
    "print(\" Hello, %s is %d years old\" %(name,year) )"
   ]
  },
  {
   "cell_type": "code",
   "execution_count": 22,
   "id": "f71c8aea",
   "metadata": {},
   "outputs": [
    {
     "name": "stdout",
     "output_type": "stream",
     "text": [
      "Welcome, to bengal abhijit to pin 827013\n"
     ]
    }
   ],
   "source": [
    "# welcome to bengal abhijit to pin 700028\n",
    "\n",
    "name=\"abhijit\"\n",
    "place= \"bengal\"\n",
    "pin= 827013\n",
    "\n",
    "print(\"Welcome, to %s %s to pin %d\" %(place,name,pin))"
   ]
  },
  {
   "cell_type": "code",
   "execution_count": 23,
   "id": "91b685aa",
   "metadata": {},
   "outputs": [
    {
     "name": "stdout",
     "output_type": "stream",
     "text": [
      "his name is John he is 24 year old. \n"
     ]
    }
   ],
   "source": [
    "name=\"John\"\n",
    "age=24\n",
    "\n",
    "print(\"his name is {} he is {} year old. \".format(name,age))"
   ]
  },
  {
   "cell_type": "code",
   "execution_count": 27,
   "id": "f3bb7aab",
   "metadata": {},
   "outputs": [
    {
     "name": "stdout",
     "output_type": "stream",
     "text": [
      "an eggs and spam\n",
      "an spam and eggs\n"
     ]
    }
   ],
   "source": [
    "print('an {0} and {1}' .format(\"eggs\",\"spam\"))\n",
    "print('an {1} and {0}' .format(\"eggs\",\"spam\"))"
   ]
  },
  {
   "cell_type": "markdown",
   "id": "6899586d",
   "metadata": {},
   "source": [
    "-------------------------------------------------------------------------------"
   ]
  },
  {
   "cell_type": "code",
   "execution_count": 28,
   "id": "3f5abad0",
   "metadata": {},
   "outputs": [
    {
     "name": "stdout",
     "output_type": "stream",
     "text": [
      "an eggs and spam\n",
      "an eggs and spam\n"
     ]
    }
   ],
   "source": [
    "print('an {} and {}' .format(\"eggs\",\"spam\"))\n",
    "print('an {} and {}' .format(\"eggs\",\"spam\"))"
   ]
  }
 ],
 "metadata": {
  "kernelspec": {
   "display_name": "Python 3 (ipykernel)",
   "language": "python",
   "name": "python3"
  },
  "language_info": {
   "codemirror_mode": {
    "name": "ipython",
    "version": 3
   },
   "file_extension": ".py",
   "mimetype": "text/x-python",
   "name": "python",
   "nbconvert_exporter": "python",
   "pygments_lexer": "ipython3",
   "version": "3.9.12"
  }
 },
 "nbformat": 4,
 "nbformat_minor": 5
}
