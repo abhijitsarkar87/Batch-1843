{
 "cells": [
  {
   "cell_type": "markdown",
   "id": "bcd48e33",
   "metadata": {},
   "source": [
    "# SQLITE"
   ]
  },
  {
   "cell_type": "markdown",
   "id": "3bd14d84",
   "metadata": {},
   "source": [
    "### Know about SQLlite\n",
    "\n",
    "\"\"\"\n",
    "Data Base is the logical collections of tables. Whereas tables are collection of rows and column.\n",
    "coloums are known as attributed,characterstics and Rows are also known as Tuples.\n",
    "\n",
    "DMBS= Full form Data Base Management system, \n",
    "USERs by using SQL (Structured Query Lanaguage) one can interact with DBMS.\n",
    "\n",
    "SQL is of 3 type.\n",
    "\n",
    "1. DDL(Data Defination Language)-->Creat,Alter,Drop\n",
    "2. DML(Data Manipulation Language)--->Select, Update, Delete\n",
    "3. DCL(Data Control Language)---->Grant-REvoke,commit-Rollback\n",
    "\n",
    "\n",
    "we can import by calling----> import sqllite3\n",
    "\n",
    "we can create or creat connection with DB with -----> db=sqlite3.connect\n",
    "\n",
    "we need to create cursor area or pointer area form where we are working.----->cur=db.cursor()\n",
    "\n",
    "\"\"\""
   ]
  },
  {
   "cell_type": "code",
   "execution_count": 1,
   "id": "9396e427",
   "metadata": {},
   "outputs": [],
   "source": [
    "# calling sql library(sql is a realtional data )\n",
    "\n",
    "import sqlite3"
   ]
  },
  {
   "cell_type": "code",
   "execution_count": 2,
   "id": "587f50ed",
   "metadata": {},
   "outputs": [],
   "source": [
    "# connecting and creating a DB named(\"Stuent_database\")\n",
    "\n",
    "mydb=sqlite3.connect(\"Student_database.db\")"
   ]
  },
  {
   "cell_type": "code",
   "execution_count": 3,
   "id": "6caefa17",
   "metadata": {},
   "outputs": [],
   "source": [
    "# cursor is created (cusrsor is an object, its works as a pointer)\n",
    "\n",
    "cur=mydb.cursor()"
   ]
  },
  {
   "cell_type": "code",
   "execution_count": 4,
   "id": "cf507cc5",
   "metadata": {},
   "outputs": [
    {
     "data": {
      "text/plain": [
       "<sqlite3.Cursor at 0x1948b87e730>"
      ]
     },
     "execution_count": 4,
     "metadata": {},
     "output_type": "execute_result"
    }
   ],
   "source": [
    "# creating table (\"create table <table name> (id int primary key, name text, marks int)\")\n",
    "\n",
    "cur.execute(\"Create table NewStudent (id int primary key, name text,marks int)\")"
   ]
  },
  {
   "cell_type": "markdown",
   "id": "32cdac92",
   "metadata": {},
   "source": [
    "### INSERT DATA in student table"
   ]
  },
  {
   "cell_type": "code",
   "execution_count": 5,
   "id": "845ffcdd",
   "metadata": {},
   "outputs": [
    {
     "data": {
      "text/plain": [
       "<sqlite3.Cursor at 0x1948b87e730>"
      ]
     },
     "execution_count": 5,
     "metadata": {},
     "output_type": "execute_result"
    }
   ],
   "source": [
    "cur.execute(\"insert into Newstudent(id,name,marks) values(1,'John',90)\")"
   ]
  },
  {
   "cell_type": "code",
   "execution_count": 6,
   "id": "ac295604",
   "metadata": {},
   "outputs": [
    {
     "name": "stdout",
     "output_type": "stream",
     "text": [
      "1 REcords inserted\n"
     ]
    }
   ],
   "source": [
    "print(cur.rowcount,\"REcords inserted\")"
   ]
  },
  {
   "cell_type": "code",
   "execution_count": 7,
   "id": "fd5aa7ca",
   "metadata": {},
   "outputs": [],
   "source": [
    "# db.commit()will save ur work done"
   ]
  },
  {
   "cell_type": "code",
   "execution_count": 8,
   "id": "89d60550",
   "metadata": {},
   "outputs": [],
   "source": [
    "mydb.commit()"
   ]
  },
  {
   "cell_type": "code",
   "execution_count": 9,
   "id": "f4a34b1d",
   "metadata": {},
   "outputs": [],
   "source": [
    "cur.execute(\"insert into Newstudent(id,name,marks) values(2,'Andrew',78)\")\n",
    "mydb.commit() #inserted data and saved"
   ]
  },
  {
   "cell_type": "code",
   "execution_count": 10,
   "id": "4817744f",
   "metadata": {},
   "outputs": [
    {
     "name": "stdout",
     "output_type": "stream",
     "text": [
      "<sqlite3.Cursor object at 0x000001948B87E730>\n"
     ]
    }
   ],
   "source": [
    "results=cur.execute(\"Select * from Newstudent\")\n",
    "\n",
    "print(results) # will not print need to use loop"
   ]
  },
  {
   "cell_type": "code",
   "execution_count": 11,
   "id": "6a001fa8",
   "metadata": {},
   "outputs": [
    {
     "name": "stdout",
     "output_type": "stream",
     "text": [
      "(1, 'John', 90)\n",
      "(2, 'Andrew', 78)\n"
     ]
    }
   ],
   "source": [
    "for i in results:\n",
    "    print(i)"
   ]
  },
  {
   "cell_type": "code",
   "execution_count": 12,
   "id": "89d2b953",
   "metadata": {},
   "outputs": [
    {
     "data": {
      "text/plain": [
       "<sqlite3.Cursor at 0x1948b87e730>"
      ]
     },
     "execution_count": 12,
     "metadata": {},
     "output_type": "execute_result"
    }
   ],
   "source": [
    "cur.execute(\"Select * from Newstudent\")\n",
    "\n",
    "# wont show directly, need to add variable to show details and call by loop."
   ]
  },
  {
   "cell_type": "code",
   "execution_count": 14,
   "id": "4eaeee0c",
   "metadata": {},
   "outputs": [
    {
     "data": {
      "text/plain": [
       "<sqlite3.Cursor at 0x1948b87e730>"
      ]
     },
     "execution_count": 14,
     "metadata": {},
     "output_type": "execute_result"
    }
   ],
   "source": [
    "cur.execute(\"insert into Newstudent(id,name,marks) values(3,'Andy',80)\")"
   ]
  },
  {
   "cell_type": "code",
   "execution_count": 15,
   "id": "18814d8d",
   "metadata": {},
   "outputs": [
    {
     "name": "stdout",
     "output_type": "stream",
     "text": [
      "1\n"
     ]
    }
   ],
   "source": [
    "print(cur.rowcount)"
   ]
  },
  {
   "cell_type": "code",
   "execution_count": 16,
   "id": "f07f0a45",
   "metadata": {},
   "outputs": [],
   "source": [
    "mydb.commit()"
   ]
  },
  {
   "cell_type": "code",
   "execution_count": 17,
   "id": "dc127ccd",
   "metadata": {},
   "outputs": [],
   "source": [
    "cur.execute(\"insert into Newstudent values(4,'jack',78)\")\n",
    "mydb.commit()"
   ]
  },
  {
   "cell_type": "code",
   "execution_count": 19,
   "id": "06574930",
   "metadata": {},
   "outputs": [],
   "source": [
    "#DATA BASE WILL BE CREATED IN THE GIVEN LOCATION"
   ]
  },
  {
   "cell_type": "code",
   "execution_count": 18,
   "id": "94352195",
   "metadata": {},
   "outputs": [
    {
     "data": {
      "text/plain": [
       "'\\ndb1=sqlite3.connect(\"E:/MySQlite_DataBase/studentdb.db\")\\n\\n# this will created dataBase to perticular location\\n\\n'"
      ]
     },
     "execution_count": 18,
     "metadata": {},
     "output_type": "execute_result"
    }
   ],
   "source": [
    "\"\"\"\n",
    "db1=sqlite3.connect(\"E:/MySQlite_DataBase/studentdb.db\")\n",
    "\n",
    "# this will created dataBase to perticular location\n",
    "\n",
    "\"\"\""
   ]
  },
  {
   "cell_type": "code",
   "execution_count": 20,
   "id": "67fa1db6",
   "metadata": {},
   "outputs": [],
   "source": [
    "cur.execute(\"insert into Newstudent values(5,'Jill',88)\")\n",
    "mydb.commit()"
   ]
  },
  {
   "cell_type": "code",
   "execution_count": 22,
   "id": "529a06d2",
   "metadata": {},
   "outputs": [
    {
     "name": "stdout",
     "output_type": "stream",
     "text": [
      "(1, 'John', 90)\n",
      "(2, 'Andrew', 78)\n",
      "(3, 'Andy', 80)\n",
      "(4, 'jack', 78)\n",
      "(5, 'Jill', 88)\n"
     ]
    }
   ],
   "source": [
    "result=cur.execute(\"Select * from Newstudent\")\n",
    "\n",
    "for i in result:\n",
    "    print(i)"
   ]
  },
  {
   "cell_type": "markdown",
   "id": "8a75bb1a",
   "metadata": {},
   "source": [
    "### SELECT ONLY column from table"
   ]
  },
  {
   "cell_type": "code",
   "execution_count": 25,
   "id": "3532d181",
   "metadata": {},
   "outputs": [
    {
     "data": {
      "text/plain": [
       "<sqlite3.Cursor at 0x1948b87e730>"
      ]
     },
     "execution_count": 25,
     "metadata": {},
     "output_type": "execute_result"
    }
   ],
   "source": [
    "cur.execute(\"Select Name,id from Newstudent\")"
   ]
  },
  {
   "cell_type": "code",
   "execution_count": 26,
   "id": "7a0f3c6f",
   "metadata": {},
   "outputs": [
    {
     "name": "stdout",
     "output_type": "stream",
     "text": [
      "('John', 1)\n",
      "('Andrew', 2)\n",
      "('Andy', 3)\n",
      "('jack', 4)\n",
      "('Jill', 5)\n"
     ]
    }
   ],
   "source": [
    "result=cur.execute(\"Select Name,id from Newstudent\")\n",
    "\n",
    "for i in result:\n",
    "    print(i)"
   ]
  },
  {
   "cell_type": "code",
   "execution_count": 27,
   "id": "904ded30",
   "metadata": {},
   "outputs": [],
   "source": [
    "result=cur.execute(\"Select Name, Id, marks from Newstudent\" )"
   ]
  },
  {
   "cell_type": "code",
   "execution_count": 28,
   "id": "50fe1fff",
   "metadata": {},
   "outputs": [
    {
     "name": "stdout",
     "output_type": "stream",
     "text": [
      "('John', 1, 90)\n",
      "('Andrew', 2, 78)\n",
      "('Andy', 3, 80)\n",
      "('jack', 4, 78)\n",
      "('Jill', 5, 88)\n"
     ]
    }
   ],
   "source": [
    "for i in result:\n",
    "    print(i)"
   ]
  },
  {
   "cell_type": "code",
   "execution_count": 32,
   "id": "ccee8f79",
   "metadata": {},
   "outputs": [],
   "source": [
    "result=cur.execute(\"Select * from NewStudent\")"
   ]
  },
  {
   "cell_type": "code",
   "execution_count": 33,
   "id": "1cc3d077",
   "metadata": {},
   "outputs": [
    {
     "name": "stdout",
     "output_type": "stream",
     "text": [
      "(1, 'John', 90)\n",
      "(2, 'Andrew', 78)\n",
      "(3, 'Andy', 80)\n",
      "(4, 'jack', 78)\n",
      "(5, 'Jill', 88)\n"
     ]
    }
   ],
   "source": [
    "for i in result:\n",
    "    print (i)"
   ]
  },
  {
   "cell_type": "code",
   "execution_count": 34,
   "id": "92b06925",
   "metadata": {},
   "outputs": [
    {
     "name": "stdout",
     "output_type": "stream",
     "text": [
      "('John', 90)\n",
      "('Andrew', 78)\n",
      "('Andy', 80)\n",
      "('jack', 78)\n",
      "('Jill', 88)\n"
     ]
    }
   ],
   "source": [
    "result=cur.execute(\"select name,marks from Newstudent\")\n",
    "\n",
    "for i in result:\n",
    "    print(i)"
   ]
  },
  {
   "cell_type": "code",
   "execution_count": 36,
   "id": "73938898",
   "metadata": {},
   "outputs": [
    {
     "name": "stdout",
     "output_type": "stream",
     "text": [
      "(1, 'John', 90)\n"
     ]
    }
   ],
   "source": [
    "result=cur.execute(\"select * from Newstudent where id=1 \")\n",
    "\n",
    "for i in result:\n",
    "    print(i)"
   ]
  },
  {
   "cell_type": "code",
   "execution_count": 38,
   "id": "4e393bfe",
   "metadata": {},
   "outputs": [
    {
     "name": "stdout",
     "output_type": "stream",
     "text": [
      "(2, 'Andrew', 78)\n"
     ]
    }
   ],
   "source": [
    "result=cur.execute(\"select * from Newstudent where id=2 \")\n",
    "\n",
    "for i in result:\n",
    "    print(i)"
   ]
  },
  {
   "cell_type": "code",
   "execution_count": 41,
   "id": "3d8c4686",
   "metadata": {},
   "outputs": [],
   "source": [
    "result=cur.execute(\"Select * from NewStudent where id=4\")"
   ]
  },
  {
   "cell_type": "code",
   "execution_count": 42,
   "id": "49dab754",
   "metadata": {},
   "outputs": [
    {
     "name": "stdout",
     "output_type": "stream",
     "text": [
      "(4, 'jack', 78)\n"
     ]
    }
   ],
   "source": [
    "for i in result:\n",
    "    print(i)"
   ]
  },
  {
   "cell_type": "markdown",
   "id": "7b2c0461",
   "metadata": {},
   "source": [
    "#### LIMIT KEYWORD"
   ]
  },
  {
   "cell_type": "code",
   "execution_count": 43,
   "id": "f95b4b62",
   "metadata": {},
   "outputs": [],
   "source": [
    "result=cur.execute(\"Select * from NewStudent limit 3\") #will show on 3 from top"
   ]
  },
  {
   "cell_type": "code",
   "execution_count": 44,
   "id": "9da6a519",
   "metadata": {},
   "outputs": [
    {
     "name": "stdout",
     "output_type": "stream",
     "text": [
      "(1, 'John', 90)\n",
      "(2, 'Andrew', 78)\n",
      "(3, 'Andy', 80)\n"
     ]
    }
   ],
   "source": [
    "for i in result:\n",
    "    print(i)"
   ]
  },
  {
   "cell_type": "code",
   "execution_count": 45,
   "id": "21160ed9",
   "metadata": {},
   "outputs": [
    {
     "name": "stdout",
     "output_type": "stream",
     "text": [
      "(1, 'John', 90)\n",
      "(2, 'Andrew', 78)\n",
      "(3, 'Andy', 80)\n",
      "(4, 'jack', 78)\n",
      "(5, 'Jill', 88)\n"
     ]
    }
   ],
   "source": [
    "result=cur.execute(\"select * from NewStudent limit 5\")\n",
    "\n",
    "for i in result:\n",
    "    print(i)"
   ]
  },
  {
   "cell_type": "code",
   "execution_count": 50,
   "id": "24b9097b",
   "metadata": {},
   "outputs": [
    {
     "name": "stdout",
     "output_type": "stream",
     "text": [
      "(1, 'John', 90)\n",
      "(2, 'Andrew', 78)\n",
      "(3, 'Andy', 80)\n",
      "(4, 'jack', 78)\n",
      "(5, 'Jill', 88)\n"
     ]
    }
   ],
   "source": [
    "result= cur.execute(\"Select * from Newstudent limit 0,5\")\n",
    "\n",
    "for i in result:\n",
    "    print(i)"
   ]
  },
  {
   "cell_type": "code",
   "execution_count": 52,
   "id": "4821f23a",
   "metadata": {},
   "outputs": [
    {
     "name": "stdout",
     "output_type": "stream",
     "text": [
      "-1\n"
     ]
    }
   ],
   "source": [
    "print(cur.rowcount) "
   ]
  },
  {
   "cell_type": "code",
   "execution_count": 53,
   "id": "7eb2fb5b",
   "metadata": {},
   "outputs": [],
   "source": [
    "result= cur.execute(\"Select * from Newstudent where marks>60\")"
   ]
  },
  {
   "cell_type": "code",
   "execution_count": 54,
   "id": "88c0ee8b",
   "metadata": {},
   "outputs": [
    {
     "name": "stdout",
     "output_type": "stream",
     "text": [
      "(1, 'John', 90)\n",
      "(2, 'Andrew', 78)\n",
      "(3, 'Andy', 80)\n",
      "(4, 'jack', 78)\n",
      "(5, 'Jill', 88)\n"
     ]
    }
   ],
   "source": [
    "for i in result:\n",
    "    print(i)"
   ]
  },
  {
   "cell_type": "code",
   "execution_count": 58,
   "id": "7af3f69c",
   "metadata": {},
   "outputs": [
    {
     "name": "stdout",
     "output_type": "stream",
     "text": [
      "(90,)\n"
     ]
    }
   ],
   "source": [
    "result=cur.execute(\"select marks from newstudent where name= 'John' \")\n",
    "\n",
    "for i in result:\n",
    "    print(i)"
   ]
  },
  {
   "cell_type": "markdown",
   "id": "21a1d7f6",
   "metadata": {},
   "source": [
    "### Logical Operator(And, Or, Not Null)\n",
    "\n",
    "\"\"\"\n",
    "AND operator will check both the statements and would find both boolean from the given data and will give us the filtered data.\n",
    "\n",
    "OR operator will check both booleans, if any one is correct.\n",
    "\n",
    "NOT-NULL: Will check if the given table and display No-empty data.\n",
    "\n",
    "NULL: WILL check for NUll values.\n",
    "\n",
    "\"\"\""
   ]
  },
  {
   "cell_type": "code",
   "execution_count": 60,
   "id": "2b487006",
   "metadata": {},
   "outputs": [
    {
     "name": "stdout",
     "output_type": "stream",
     "text": [
      "(2, 'Andrew', 78)\n",
      "(4, 'jack', 78)\n"
     ]
    }
   ],
   "source": [
    "result=cur.execute(\"select * from Newstudent where marks>70 and marks<80\")\n",
    "\n",
    "for i in result:\n",
    "    print(i)"
   ]
  },
  {
   "cell_type": "code",
   "execution_count": 68,
   "id": "cdf76969",
   "metadata": {},
   "outputs": [
    {
     "name": "stdout",
     "output_type": "stream",
     "text": [
      "(1, 'John', 90)\n",
      "(2, 'Andrew', 78)\n"
     ]
    }
   ],
   "source": [
    "result=cur.execute(\"Select * from Newstudent where id<3 and marks<100\")\n",
    "\n",
    "for i in result:\n",
    "    print(i)\n",
    "    "
   ]
  },
  {
   "cell_type": "code",
   "execution_count": 73,
   "id": "fb23a1a8",
   "metadata": {},
   "outputs": [
    {
     "name": "stdout",
     "output_type": "stream",
     "text": [
      "('John', 90)\n",
      "('Jill', 88)\n"
     ]
    }
   ],
   "source": [
    "result=cur.execute(\"Select name,marks from Newstudent where name='Jhon' or marks>80 \")\n",
    "\n",
    "for i in result:\n",
    "    print(i)"
   ]
  },
  {
   "cell_type": "code",
   "execution_count": 75,
   "id": "2d530cba",
   "metadata": {},
   "outputs": [
    {
     "data": {
      "text/plain": [
       "[(1, 'John', 90),\n",
       " (2, 'Andrew', 78),\n",
       " (3, 'Andy', 80),\n",
       " (4, 'jack', 78),\n",
       " (5, 'Jill', 88)]"
      ]
     },
     "execution_count": 75,
     "metadata": {},
     "output_type": "execute_result"
    }
   ],
   "source": [
    "result=cur.execute(\"Select * from Newstudent\")\n",
    "result.fetchall()"
   ]
  },
  {
   "cell_type": "code",
   "execution_count": 77,
   "id": "96730f34",
   "metadata": {},
   "outputs": [
    {
     "data": {
      "text/plain": [
       "[(1, 'John', 90),\n",
       " (5, 'Jill', 88),\n",
       " (3, 'Andy', 80),\n",
       " (2, 'Andrew', 78),\n",
       " (4, 'jack', 78)]"
      ]
     },
     "execution_count": 77,
     "metadata": {},
     "output_type": "execute_result"
    }
   ],
   "source": [
    "# ORDER BY CLAUSE (select * from student order by name asc)\n",
    "\n",
    "\n",
    "result=cur.execute(\"Select * from Newstudent order by marks desc\")\n",
    "\n",
    "result.fetchall()\n",
    "\n"
   ]
  },
  {
   "cell_type": "code",
   "execution_count": 79,
   "id": "9beae905",
   "metadata": {},
   "outputs": [
    {
     "data": {
      "text/plain": [
       "[(2, 'Andrew', 78),\n",
       " (4, 'jack', 78),\n",
       " (3, 'Andy', 80),\n",
       " (5, 'Jill', 88),\n",
       " (1, 'John', 90)]"
      ]
     },
     "execution_count": 79,
     "metadata": {},
     "output_type": "execute_result"
    }
   ],
   "source": [
    "result=cur.execute(\"Select * from Newstudent order by marks asc\")\n",
    "\n",
    "result.fetchall()"
   ]
  },
  {
   "cell_type": "code",
   "execution_count": 80,
   "id": "c840b86b",
   "metadata": {},
   "outputs": [
    {
     "data": {
      "text/plain": [
       "[(5, 'Jill', 88)]"
      ]
     },
     "execution_count": 80,
     "metadata": {},
     "output_type": "execute_result"
    }
   ],
   "source": [
    "result=cur.execute(\"Select * from Newstudent where name='Jill' and Marks='88'\")\n",
    "\n",
    "result.fetchall()"
   ]
  },
  {
   "cell_type": "code",
   "execution_count": 81,
   "id": "2fddabda",
   "metadata": {},
   "outputs": [],
   "source": [
    "result=cur.execute(\"select * from Newstudent where Name='A%' or marks>80\")"
   ]
  },
  {
   "cell_type": "code",
   "execution_count": 82,
   "id": "6ca8b89a",
   "metadata": {},
   "outputs": [
    {
     "name": "stdout",
     "output_type": "stream",
     "text": [
      "(1, 'John', 90)\n",
      "(5, 'Jill', 88)\n"
     ]
    }
   ],
   "source": [
    "for i in result:\n",
    "    print(i)"
   ]
  },
  {
   "cell_type": "code",
   "execution_count": 1,
   "id": "1b243a0b",
   "metadata": {},
   "outputs": [
    {
     "ename": "SyntaxError",
     "evalue": "EOL while scanning string literal (3157119385.py, line 1)",
     "output_type": "error",
     "traceback": [
      "\u001b[1;36m  Input \u001b[1;32mIn [1]\u001b[1;36m\u001b[0m\n\u001b[1;33m    result=cur.execute(\"select * from Newstudent where Name like 'A%')\u001b[0m\n\u001b[1;37m                                                                      ^\u001b[0m\n\u001b[1;31mSyntaxError\u001b[0m\u001b[1;31m:\u001b[0m EOL while scanning string literal\n"
     ]
    }
   ],
   "source": [
    "result=cur.execute(\"select * from Newstudent where Name like 'A%')"
   ]
  },
  {
   "cell_type": "markdown",
   "id": "08781512",
   "metadata": {},
   "source": [
    "###  Aggregate functions:(count,min,max,Avg,sum)"
   ]
  },
  {
   "cell_type": "code",
   "execution_count": 87,
   "id": "24f70f1f",
   "metadata": {},
   "outputs": [
    {
     "data": {
      "text/plain": [
       "[(78,)]"
      ]
     },
     "execution_count": 87,
     "metadata": {},
     "output_type": "execute_result"
    }
   ],
   "source": [
    "result=cur.execute(\"select min(marks) from Newstudent\")\n",
    "result.fetchall()"
   ]
  },
  {
   "cell_type": "markdown",
   "id": "4c597e92",
   "metadata": {},
   "source": [
    "single row can be called result.fetchone(), \n",
    "\n",
    "result.fetchall() for calling more than one"
   ]
  },
  {
   "cell_type": "code",
   "execution_count": 88,
   "id": "cb558a4b",
   "metadata": {},
   "outputs": [
    {
     "data": {
      "text/plain": [
       "[(90,)]"
      ]
     },
     "execution_count": 88,
     "metadata": {},
     "output_type": "execute_result"
    }
   ],
   "source": [
    "result=cur.execute(\"Select max(marks) from Newstudent\")\n",
    "\n",
    "result.fetchall()"
   ]
  },
  {
   "cell_type": "code",
   "execution_count": 89,
   "id": "b0ee1209",
   "metadata": {},
   "outputs": [
    {
     "data": {
      "text/plain": [
       "(82.8,)"
      ]
     },
     "execution_count": 89,
     "metadata": {},
     "output_type": "execute_result"
    }
   ],
   "source": [
    "result=cur.execute(\"select avg(marks) from Newstudent\")\n",
    "result.fetchone()"
   ]
  },
  {
   "cell_type": "code",
   "execution_count": 90,
   "id": "257e892a",
   "metadata": {},
   "outputs": [
    {
     "data": {
      "text/plain": [
       "(5,)"
      ]
     },
     "execution_count": 90,
     "metadata": {},
     "output_type": "execute_result"
    }
   ],
   "source": [
    "result=cur.execute(\"Select count(marks) from Newstudent\")\n",
    "result.fetchone()"
   ]
  },
  {
   "cell_type": "code",
   "execution_count": 91,
   "id": "25657b77",
   "metadata": {},
   "outputs": [
    {
     "data": {
      "text/plain": [
       "[(5, 82.8, 78, 90)]"
      ]
     },
     "execution_count": 91,
     "metadata": {},
     "output_type": "execute_result"
    }
   ],
   "source": [
    "result=cur.execute(\"select count(name), Avg(marks), min(marks),max(marks) from Newstudent\")\n",
    "result.fetchall()"
   ]
  },
  {
   "cell_type": "code",
   "execution_count": 96,
   "id": "06a21702",
   "metadata": {},
   "outputs": [
    {
     "data": {
      "text/plain": [
       "[]"
      ]
     },
     "execution_count": 96,
     "metadata": {},
     "output_type": "execute_result"
    }
   ],
   "source": [
    "result=cur.execute(\"select * from Newstudent where marks is null\")\n",
    "result.fetchall()"
   ]
  },
  {
   "cell_type": "code",
   "execution_count": 97,
   "id": "119f5d45",
   "metadata": {},
   "outputs": [
    {
     "data": {
      "text/plain": [
       "[(1, 'John', 90),\n",
       " (2, 'Andrew', 78),\n",
       " (3, 'Andy', 80),\n",
       " (4, 'jack', 78),\n",
       " (5, 'Jill', 88)]"
      ]
     },
     "execution_count": 97,
     "metadata": {},
     "output_type": "execute_result"
    }
   ],
   "source": [
    "result=cur.execute(\"select * from Newstudent where marks is not null\")\n",
    "result.fetchall()"
   ]
  },
  {
   "cell_type": "code",
   "execution_count": 99,
   "id": "3ee8933d",
   "metadata": {},
   "outputs": [
    {
     "data": {
      "text/plain": [
       "<sqlite3.Cursor at 0x1948b87e730>"
      ]
     },
     "execution_count": 99,
     "metadata": {},
     "output_type": "execute_result"
    }
   ],
   "source": [
    "cur.execute(\"insert into Newstudent values(6,'ABC',79),(9,'DBC',78),(10,'FEB',67)\")"
   ]
  },
  {
   "cell_type": "code",
   "execution_count": 100,
   "id": "2086a758",
   "metadata": {},
   "outputs": [
    {
     "data": {
      "text/plain": [
       "3"
      ]
     },
     "execution_count": 100,
     "metadata": {},
     "output_type": "execute_result"
    }
   ],
   "source": [
    "cur.rowcount"
   ]
  },
  {
   "cell_type": "code",
   "execution_count": 102,
   "id": "6e9f92e6",
   "metadata": {},
   "outputs": [
    {
     "name": "stdout",
     "output_type": "stream",
     "text": [
      "(1, 'John', 90)\n",
      "(4, 'jack', 78)\n",
      "(5, 'Jill', 88)\n"
     ]
    }
   ],
   "source": [
    "result=cur.execute(\"Select * from Newstudent where name like'J%' \")\n",
    "\n",
    "for i in result:\n",
    "    print(i)"
   ]
  },
  {
   "cell_type": "code",
   "execution_count": 118,
   "id": "ae2de077",
   "metadata": {},
   "outputs": [],
   "source": [
    "result=cur.execute(\"Select * from NewStudent\")"
   ]
  },
  {
   "cell_type": "code",
   "execution_count": 104,
   "id": "0c70879f",
   "metadata": {},
   "outputs": [
    {
     "data": {
      "text/plain": [
       "[(1, 'John', 90),\n",
       " (2, 'Andrew', 78),\n",
       " (3, 'Andy', 80),\n",
       " (4, 'jack', 78),\n",
       " (5, 'Jill', 88),\n",
       " (6, 'ABC', 79),\n",
       " (9, 'DBC', 78),\n",
       " (10, 'FEB', 67)]"
      ]
     },
     "execution_count": 104,
     "metadata": {},
     "output_type": "execute_result"
    }
   ],
   "source": [
    "result.fetchall()"
   ]
  },
  {
   "cell_type": "code",
   "execution_count": 105,
   "id": "cefd5232",
   "metadata": {},
   "outputs": [],
   "source": [
    "sql=\"Insert into Newstudent values(8,'McDonald',69),(7,'Michel',59),(12,'Austin',89),(11,'adele',88)\""
   ]
  },
  {
   "cell_type": "code",
   "execution_count": 106,
   "id": "295079ce",
   "metadata": {},
   "outputs": [
    {
     "data": {
      "text/plain": [
       "<sqlite3.Cursor at 0x1948b87e730>"
      ]
     },
     "execution_count": 106,
     "metadata": {},
     "output_type": "execute_result"
    }
   ],
   "source": [
    "cur.execute(sql)"
   ]
  },
  {
   "cell_type": "code",
   "execution_count": 107,
   "id": "e5f82052",
   "metadata": {},
   "outputs": [],
   "source": [
    "mydb.commit()"
   ]
  },
  {
   "cell_type": "code",
   "execution_count": 111,
   "id": "5f65ed61",
   "metadata": {},
   "outputs": [
    {
     "data": {
      "text/plain": [
       "4"
      ]
     },
     "execution_count": 111,
     "metadata": {},
     "output_type": "execute_result"
    }
   ],
   "source": [
    "cur.rowcount"
   ]
  },
  {
   "cell_type": "code",
   "execution_count": 116,
   "id": "5e1e6b3d",
   "metadata": {},
   "outputs": [
    {
     "data": {
      "text/plain": [
       "[(1, 'John', 90),\n",
       " (2, 'Andrew', 78),\n",
       " (3, 'Andy', 80),\n",
       " (4, 'jack', 78),\n",
       " (5, 'Jill', 88),\n",
       " (6, 'ABC', 79),\n",
       " (7, 'Michel', 59),\n",
       " (8, 'McDonald', 69),\n",
       " (9, 'DBC', 78),\n",
       " (10, 'FEB', 67),\n",
       " (11, 'adele', 88),\n",
       " (12, 'Austin', 89)]"
      ]
     },
     "execution_count": 116,
     "metadata": {},
     "output_type": "execute_result"
    }
   ],
   "source": [
    "result.fetchall()"
   ]
  },
  {
   "cell_type": "code",
   "execution_count": 121,
   "id": "c490509b",
   "metadata": {},
   "outputs": [
    {
     "data": {
      "text/plain": [
       "<sqlite3.Cursor at 0x1948b87e730>"
      ]
     },
     "execution_count": 121,
     "metadata": {},
     "output_type": "execute_result"
    }
   ],
   "source": [
    "sql=\"select * from Newstudent order by id asc\"\n",
    "\n",
    "cur.execute(sql)"
   ]
  },
  {
   "cell_type": "code",
   "execution_count": 122,
   "id": "9b5a4f2d",
   "metadata": {},
   "outputs": [],
   "source": [
    "mydb.commit()"
   ]
  },
  {
   "cell_type": "code",
   "execution_count": 123,
   "id": "41fdfe86",
   "metadata": {},
   "outputs": [
    {
     "data": {
      "text/plain": [
       "[(1, 'John', 90),\n",
       " (2, 'Andrew', 78),\n",
       " (3, 'Andy', 80),\n",
       " (4, 'jack', 78),\n",
       " (5, 'Jill', 88),\n",
       " (6, 'ABC', 79),\n",
       " (7, 'Michel', 59),\n",
       " (8, 'McDonald', 69),\n",
       " (9, 'DBC', 78),\n",
       " (10, 'FEB', 67),\n",
       " (11, 'adele', 88),\n",
       " (12, 'Austin', 89)]"
      ]
     },
     "execution_count": 123,
     "metadata": {},
     "output_type": "execute_result"
    }
   ],
   "source": [
    "result.fetchall()"
   ]
  },
  {
   "cell_type": "code",
   "execution_count": 133,
   "id": "d07f7aec",
   "metadata": {},
   "outputs": [],
   "source": [
    "# checking all char starting with A\n",
    "\n",
    "result=cur.execute(\"select * from Newstudent where name like 'A%' \" )"
   ]
  },
  {
   "cell_type": "code",
   "execution_count": 134,
   "id": "bdebd271",
   "metadata": {},
   "outputs": [
    {
     "name": "stdout",
     "output_type": "stream",
     "text": [
      "(2, 'Andrew', 78)\n",
      "(3, 'Andy', 80)\n",
      "(6, 'ABC', 79)\n",
      "(12, 'Austin', 89)\n",
      "(11, 'adele', 88)\n"
     ]
    }
   ],
   "source": [
    "for i in result:\n",
    "    print(i)"
   ]
  },
  {
   "cell_type": "code",
   "execution_count": 135,
   "id": "78f3cf8b",
   "metadata": {},
   "outputs": [
    {
     "data": {
      "text/plain": [
       "[(5, 'Jill', 88), (7, 'Michel', 59)]"
      ]
     },
     "execution_count": 135,
     "metadata": {},
     "output_type": "execute_result"
    }
   ],
   "source": [
    "# Checking all char ending with l\n",
    "\n",
    "result=cur.execute(\"select * from Newstudent where name like '%l' \" )\n",
    "\n",
    "result.fetchall()"
   ]
  },
  {
   "cell_type": "code",
   "execution_count": 146,
   "id": "9c50e7de",
   "metadata": {},
   "outputs": [
    {
     "name": "stdout",
     "output_type": "stream",
     "text": [
      "(10, 'FEB', 67)\n"
     ]
    }
   ],
   "source": [
    "# checking all char mid word _a \n",
    "\n",
    "result=cur.execute(\"Select * from Newstudent where name like '_e%' \")\n",
    "\n",
    "for i in result:\n",
    "    print (i)"
   ]
  },
  {
   "cell_type": "code",
   "execution_count": 147,
   "id": "fd5c546a",
   "metadata": {},
   "outputs": [
    {
     "data": {
      "text/plain": [
       "(11, 'adele', 88)"
      ]
     },
     "execution_count": 147,
     "metadata": {},
     "output_type": "execute_result"
    }
   ],
   "source": [
    "# checking all char mid word to be e\n",
    "result=cur.execute(\"Select * from Newstudent where name like '__e%'\")\n",
    "result.fetchone()"
   ]
  },
  {
   "cell_type": "code",
   "execution_count": 148,
   "id": "1a08d6ce",
   "metadata": {},
   "outputs": [
    {
     "data": {
      "text/plain": [
       "(1, 'John', 90)"
      ]
     },
     "execution_count": 148,
     "metadata": {},
     "output_type": "execute_result"
    }
   ],
   "source": [
    "# checking all char 4 word.\n",
    "result=cur.execute(\"Select * from Newstudent where name like '____'\")\n",
    "result.fetchone()# 4char value "
   ]
  },
  {
   "cell_type": "markdown",
   "id": "d6ec5702",
   "metadata": {},
   "source": [
    "### NOT IN,  NOT, UPDATE OPERATOR"
   ]
  },
  {
   "cell_type": "code",
   "execution_count": 151,
   "id": "8b5c4bd7",
   "metadata": {},
   "outputs": [
    {
     "data": {
      "text/plain": [
       "[(2, 'Andrew', 78),\n",
       " (3, 'Andy', 80),\n",
       " (4, 'jack', 78),\n",
       " (5, 'Jill', 88),\n",
       " (6, 'ABC', 79),\n",
       " (9, 'DBC', 78),\n",
       " (10, 'FEB', 67),\n",
       " (8, 'McDonald', 69),\n",
       " (7, 'Michel', 59),\n",
       " (12, 'Austin', 89),\n",
       " (11, 'adele', 88)]"
      ]
     },
     "execution_count": 151,
     "metadata": {},
     "output_type": "execute_result"
    }
   ],
   "source": [
    "result=cur.execute(\"Select * from NewStudent where name is NOt 'John'\")\n",
    "\n",
    "result.fetchall()"
   ]
  },
  {
   "cell_type": "code",
   "execution_count": 152,
   "id": "66caa452",
   "metadata": {},
   "outputs": [
    {
     "data": {
      "text/plain": [
       "[(1, 'John', 90)]"
      ]
     },
     "execution_count": 152,
     "metadata": {},
     "output_type": "execute_result"
    }
   ],
   "source": [
    "result=cur.execute(\"select * from Newstudent where name is 'John'\")\n",
    "\n",
    "result.fetchall()"
   ]
  },
  {
   "cell_type": "code",
   "execution_count": 153,
   "id": "b1d1a958",
   "metadata": {},
   "outputs": [
    {
     "data": {
      "text/plain": [
       "<sqlite3.Cursor at 0x1948b87e730>"
      ]
     },
     "execution_count": 153,
     "metadata": {},
     "output_type": "execute_result"
    }
   ],
   "source": [
    "# upadte(DMl)\n",
    "sql=\"update Newstudent set marks=81 where id=4\"\n",
    "cur.execute(sql)\n"
   ]
  },
  {
   "cell_type": "code",
   "execution_count": 155,
   "id": "bb8d0ed3",
   "metadata": {},
   "outputs": [],
   "source": [
    "mydb.commit()"
   ]
  },
  {
   "cell_type": "code",
   "execution_count": 158,
   "id": "ad6ed9d9",
   "metadata": {},
   "outputs": [
    {
     "data": {
      "text/plain": [
       "[(1, 'John', 90),\n",
       " (2, 'Andrew', 78),\n",
       " (3, 'Andy', 80),\n",
       " (4, 'jack', 81),\n",
       " (5, 'Jill', 88),\n",
       " (6, 'ABC', 79),\n",
       " (9, 'DBC', 78),\n",
       " (10, 'FEB', 67),\n",
       " (8, 'McDonald', 69),\n",
       " (7, 'Michel', 59),\n",
       " (12, 'Austin', 89),\n",
       " (11, 'adele', 88)]"
      ]
     },
     "execution_count": 158,
     "metadata": {},
     "output_type": "execute_result"
    }
   ],
   "source": [
    "result=cur.execute(\"Select * from Newstudent\")\n",
    "result.fetchall()"
   ]
  },
  {
   "cell_type": "code",
   "execution_count": 160,
   "id": "3443a25d",
   "metadata": {},
   "outputs": [
    {
     "data": {
      "text/plain": [
       "<sqlite3.Cursor at 0x1948b87e730>"
      ]
     },
     "execution_count": 160,
     "metadata": {},
     "output_type": "execute_result"
    }
   ],
   "source": [
    "# multiple record update:\n",
    "\n",
    "sql=\"update Newstudent set marks=90 where id in (1,3,5)\"\n",
    "\n",
    "cur.execute(sql)\n"
   ]
  },
  {
   "cell_type": "code",
   "execution_count": 161,
   "id": "67c68e46",
   "metadata": {},
   "outputs": [],
   "source": [
    "mydb.commit()"
   ]
  },
  {
   "cell_type": "code",
   "execution_count": 164,
   "id": "18f3f819",
   "metadata": {},
   "outputs": [
    {
     "data": {
      "text/plain": [
       "[(1, 'John', 90),\n",
       " (2, 'Andrew', 78),\n",
       " (3, 'Andy', 90),\n",
       " (4, 'jack', 81),\n",
       " (5, 'Jill', 90),\n",
       " (6, 'ABC', 79),\n",
       " (9, 'DBC', 78),\n",
       " (10, 'FEB', 67),\n",
       " (8, 'McDonald', 69),\n",
       " (7, 'Michel', 59),\n",
       " (12, 'Austin', 89),\n",
       " (11, 'adele', 88)]"
      ]
     },
     "execution_count": 164,
     "metadata": {},
     "output_type": "execute_result"
    }
   ],
   "source": [
    "result=cur.execute(\"select * from newStudent\")\n",
    "\n",
    "result.fetchall()"
   ]
  },
  {
   "cell_type": "markdown",
   "id": "ee86d353",
   "metadata": {},
   "source": [
    "# Delete record:"
   ]
  },
  {
   "cell_type": "code",
   "execution_count": 166,
   "id": "0dd87220",
   "metadata": {},
   "outputs": [
    {
     "data": {
      "text/plain": [
       "<sqlite3.Cursor at 0x1948b87e730>"
      ]
     },
     "execution_count": 166,
     "metadata": {},
     "output_type": "execute_result"
    }
   ],
   "source": [
    "cur.execute(\"delete from Newstudent where marks=59\")"
   ]
  },
  {
   "cell_type": "code",
   "execution_count": 168,
   "id": "5773891f",
   "metadata": {},
   "outputs": [],
   "source": [
    "mydb.commit()"
   ]
  },
  {
   "cell_type": "code",
   "execution_count": 169,
   "id": "41ae80fe",
   "metadata": {},
   "outputs": [
    {
     "data": {
      "text/plain": [
       "[(1, 'John', 90),\n",
       " (2, 'Andrew', 78),\n",
       " (3, 'Andy', 90),\n",
       " (4, 'jack', 81),\n",
       " (5, 'Jill', 90),\n",
       " (6, 'ABC', 79),\n",
       " (9, 'DBC', 78),\n",
       " (10, 'FEB', 67),\n",
       " (8, 'McDonald', 69),\n",
       " (12, 'Austin', 89),\n",
       " (11, 'adele', 88)]"
      ]
     },
     "execution_count": 169,
     "metadata": {},
     "output_type": "execute_result"
    }
   ],
   "source": [
    "re=cur.execute(\"select * from Newstudent\")\n",
    "\n",
    "re.fetchall()"
   ]
  },
  {
   "cell_type": "code",
   "execution_count": 1,
   "id": "80f36e3d",
   "metadata": {},
   "outputs": [],
   "source": [
    "# del is to delete the row\n",
    "# drop of table\n",
    "# db.close will close the database\n",
    "# drop database will drop database.\n"
   ]
  },
  {
   "cell_type": "markdown",
   "id": "bbc827b0",
   "metadata": {},
   "source": [
    "---------------------------------------"
   ]
  },
  {
   "cell_type": "code",
   "execution_count": 3,
   "id": "244a2440",
   "metadata": {},
   "outputs": [],
   "source": [
    "import sqlite3"
   ]
  },
  {
   "cell_type": "markdown",
   "id": "23518623",
   "metadata": {},
   "source": [
    "## ADDING DATA IN TABLE WITH CSV(Coma Seperated values)file directly"
   ]
  },
  {
   "cell_type": "code",
   "execution_count": 6,
   "id": "0efde1b9",
   "metadata": {},
   "outputs": [],
   "source": [
    "mdb=sqlite3.connect(\"G:/Data_Base/scores_datbase.db\") # db gets created on the location"
   ]
  },
  {
   "cell_type": "code",
   "execution_count": 7,
   "id": "c43f8cf4",
   "metadata": {},
   "outputs": [],
   "source": [
    "cur=mdb.cursor()"
   ]
  },
  {
   "cell_type": "code",
   "execution_count": 10,
   "id": "e6a5541a",
   "metadata": {},
   "outputs": [
    {
     "data": {
      "text/plain": [
       "<sqlite3.Cursor at 0x1c09a90d7a0>"
      ]
     },
     "execution_count": 10,
     "metadata": {},
     "output_type": "execute_result"
    }
   ],
   "source": [
    "cur.execute(\"Create table Score(name TEXT ,id INT primarykey ,gender char(6) ,Score int)\")"
   ]
  },
  {
   "cell_type": "code",
   "execution_count": 11,
   "id": "d3e44f7a",
   "metadata": {},
   "outputs": [],
   "source": [
    "mdb.commit()"
   ]
  },
  {
   "cell_type": "code",
   "execution_count": 16,
   "id": "7c500ded",
   "metadata": {},
   "outputs": [],
   "source": [
    "sql=\"insert into score values('Rohit',101 ,'Male',55)\"\n",
    "cur.execute(sql)\n",
    "mdb.commit()"
   ]
  },
  {
   "cell_type": "code",
   "execution_count": 19,
   "id": "41e6f219",
   "metadata": {},
   "outputs": [],
   "source": [
    "sql=\"insert into score values('Ram',102,'Male',56),('Rihana',103,'Female',30),('Ritu',104,'Female',60)\""
   ]
  },
  {
   "cell_type": "code",
   "execution_count": 20,
   "id": "9d79d1b1",
   "metadata": {},
   "outputs": [],
   "source": [
    "cur.execute(sql)\n",
    "mdb.commit()"
   ]
  },
  {
   "cell_type": "code",
   "execution_count": 22,
   "id": "d31fca52",
   "metadata": {},
   "outputs": [
    {
     "data": {
      "text/plain": [
       "3"
      ]
     },
     "execution_count": 22,
     "metadata": {},
     "output_type": "execute_result"
    }
   ],
   "source": [
    "cur.rowcount"
   ]
  },
  {
   "cell_type": "code",
   "execution_count": 44,
   "id": "8c39a22c",
   "metadata": {},
   "outputs": [],
   "source": [
    "result=cur.execute(\"Select * from score\")"
   ]
  },
  {
   "cell_type": "code",
   "execution_count": 45,
   "id": "e958ffcf",
   "metadata": {},
   "outputs": [
    {
     "data": {
      "text/plain": [
       "[('Ram', 102, 'Male', 79),\n",
       " ('Rihana', 103, 'Female', 30),\n",
       " ('Ritu', 104, 'Female', 60),\n",
       " ('Ram', 100, 'Male', 79)]"
      ]
     },
     "execution_count": 45,
     "metadata": {},
     "output_type": "execute_result"
    }
   ],
   "source": [
    "result.fetchall()"
   ]
  },
  {
   "cell_type": "code",
   "execution_count": 32,
   "id": "7c49ef14",
   "metadata": {},
   "outputs": [],
   "source": [
    "sql=\"delete from score where score=55 \""
   ]
  },
  {
   "cell_type": "code",
   "execution_count": 33,
   "id": "a67afc26",
   "metadata": {},
   "outputs": [],
   "source": [
    "cur.execute(sql)\n",
    "\n",
    "mdb.commit()"
   ]
  },
  {
   "cell_type": "code",
   "execution_count": 36,
   "id": "48cd571e",
   "metadata": {},
   "outputs": [],
   "source": [
    "sql=\"insert into score values('Ram',100,'Male',59)\""
   ]
  },
  {
   "cell_type": "code",
   "execution_count": 37,
   "id": "d5b56cff",
   "metadata": {},
   "outputs": [
    {
     "data": {
      "text/plain": [
       "<sqlite3.Cursor at 0x1c09a90d7a0>"
      ]
     },
     "execution_count": 37,
     "metadata": {},
     "output_type": "execute_result"
    }
   ],
   "source": [
    "cur.execute(sql)"
   ]
  },
  {
   "cell_type": "code",
   "execution_count": 38,
   "id": "612234a8",
   "metadata": {},
   "outputs": [],
   "source": [
    "db.commit()"
   ]
  },
  {
   "cell_type": "code",
   "execution_count": 41,
   "id": "179afff7",
   "metadata": {},
   "outputs": [],
   "source": [
    "sql=\"update score set score=79 where name is 'Ram' \""
   ]
  },
  {
   "cell_type": "code",
   "execution_count": 43,
   "id": "93a07882",
   "metadata": {},
   "outputs": [],
   "source": [
    "cur.execute(sql)\n",
    "db.commit()"
   ]
  },
  {
   "cell_type": "code",
   "execution_count": 49,
   "id": "0455f245",
   "metadata": {},
   "outputs": [],
   "source": [
    "db.close()"
   ]
  }
 ],
 "metadata": {
  "kernelspec": {
   "display_name": "Python 3 (ipykernel)",
   "language": "python",
   "name": "python3"
  },
  "language_info": {
   "codemirror_mode": {
    "name": "ipython",
    "version": 3
   },
   "file_extension": ".py",
   "mimetype": "text/x-python",
   "name": "python",
   "nbconvert_exporter": "python",
   "pygments_lexer": "ipython3",
   "version": "3.9.12"
  }
 },
 "nbformat": 4,
 "nbformat_minor": 5
}
