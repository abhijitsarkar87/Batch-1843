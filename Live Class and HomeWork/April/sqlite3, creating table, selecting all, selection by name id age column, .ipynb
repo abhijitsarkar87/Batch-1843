{
 "cells": [
  {
   "cell_type": "code",
   "execution_count": 2,
   "id": "fb20050b",
   "metadata": {},
   "outputs": [],
   "source": [
    "import sqlite3"
   ]
  },
  {
   "cell_type": "code",
   "execution_count": 3,
   "id": "13c06beb",
   "metadata": {},
   "outputs": [],
   "source": [
    "# First connection object\n",
    "\n",
    "db=sqlite3.connect(\"student_database.db\")"
   ]
  },
  {
   "cell_type": "code",
   "execution_count": 4,
   "id": "2cf77570",
   "metadata": {},
   "outputs": [],
   "source": [
    "# create cursor object from connection (cur is created that means temprory work area is created)\n",
    "\n",
    "cur=db.cursor()"
   ]
  },
  {
   "cell_type": "markdown",
   "id": "aca51a63",
   "metadata": {},
   "source": [
    "# Create table in student_database"
   ]
  },
  {
   "cell_type": "code",
   "execution_count": 5,
   "id": "1f0ccfd7",
   "metadata": {},
   "outputs": [
    {
     "data": {
      "text/plain": [
       "<sqlite3.Cursor at 0x196c7d79180>"
      ]
     },
     "execution_count": 5,
     "metadata": {},
     "output_type": "execute_result"
    }
   ],
   "source": [
    "# forming table named student in \"student_database.db\"\n",
    "# Primary key is a constraint(it will not allow any blank data within it nor any dublicate)\n",
    "\n",
    "cur.execute(\"create table student(id int Primary key,name text,marks int)\")"
   ]
  },
  {
   "cell_type": "code",
   "execution_count": 6,
   "id": "90d4a44f",
   "metadata": {},
   "outputs": [],
   "source": [
    "cur.execute(\"insert into student(id,name,marks) values(1,'Ram',80)\")\n",
    "db.commit()"
   ]
  },
  {
   "cell_type": "code",
   "execution_count": 7,
   "id": "c5c3a4e9",
   "metadata": {},
   "outputs": [
    {
     "name": "stdout",
     "output_type": "stream",
     "text": [
      "1 Record(s) inserted\n"
     ]
    }
   ],
   "source": [
    "# Finding cur(cursor) row counts\n",
    "\n",
    "print(cur.rowcount,\"Record(s) inserted\")"
   ]
  },
  {
   "cell_type": "code",
   "execution_count": 8,
   "id": "5d817229",
   "metadata": {},
   "outputs": [],
   "source": [
    "cur.execute(\"insert into student(id,name,marks) values(2,'teena',90)\")\n",
    "db.commit()"
   ]
  },
  {
   "cell_type": "code",
   "execution_count": 9,
   "id": "ba419e95",
   "metadata": {},
   "outputs": [
    {
     "name": "stdout",
     "output_type": "stream",
     "text": [
      "1 Record(s) inserted\n"
     ]
    }
   ],
   "source": [
    "print(cur.rowcount,\"Record(s) inserted\")"
   ]
  },
  {
   "cell_type": "code",
   "execution_count": 10,
   "id": "e955a3ec",
   "metadata": {},
   "outputs": [
    {
     "name": "stdout",
     "output_type": "stream",
     "text": [
      "(1, 'Ram', 80)\n",
      "(2, 'teena', 90)\n"
     ]
    }
   ],
   "source": [
    "results=cur.execute(\"select * from student\")\n",
    "\n",
    "for row in results:\n",
    "    print(row)"
   ]
  },
  {
   "cell_type": "code",
   "execution_count": 11,
   "id": "704a9371",
   "metadata": {},
   "outputs": [
    {
     "data": {
      "text/plain": [
       "<sqlite3.Cursor at 0x196c7d79180>"
      ]
     },
     "execution_count": 11,
     "metadata": {},
     "output_type": "execute_result"
    }
   ],
   "source": [
    "cur.execute(\"insert into student values(3,'roni', 98)\")"
   ]
  },
  {
   "cell_type": "code",
   "execution_count": 12,
   "id": "75c31500",
   "metadata": {},
   "outputs": [],
   "source": [
    "cur.execute(\"insert into student values(4,'Amit',100)\")\n",
    "db.commit()"
   ]
  },
  {
   "cell_type": "code",
   "execution_count": 13,
   "id": "afa31b2a",
   "metadata": {},
   "outputs": [],
   "source": [
    "cur.execute(\" insert into student values(5,'john', 60)\")\n",
    "db.commit()"
   ]
  },
  {
   "cell_type": "code",
   "execution_count": 14,
   "id": "ab947d69",
   "metadata": {},
   "outputs": [
    {
     "name": "stdout",
     "output_type": "stream",
     "text": [
      "(1, 'Ram', 80)\n",
      "(2, 'teena', 90)\n",
      "(3, 'roni', 98)\n",
      "(4, 'Amit', 100)\n",
      "(5, 'john', 60)\n"
     ]
    }
   ],
   "source": [
    "resultss=cur.execute(\"Select * from student\")\n",
    "\n",
    "for row in resultss:\n",
    "    print(row)"
   ]
  },
  {
   "cell_type": "code",
   "execution_count": 15,
   "id": "34318862",
   "metadata": {},
   "outputs": [],
   "source": [
    "cur.execute(\"insert into student values(8,'tina',80)\")\n",
    "db.commit()"
   ]
  },
  {
   "cell_type": "code",
   "execution_count": 16,
   "id": "7a0628d7",
   "metadata": {},
   "outputs": [],
   "source": [
    "cur.execute(\"Insert into student values(11,'pawan',100)\")\n",
    "db.commit()"
   ]
  },
  {
   "cell_type": "code",
   "execution_count": 17,
   "id": "b10a2e14",
   "metadata": {},
   "outputs": [],
   "source": [
    "cur.execute(\"Insert into student values(15,'rabi',100)\")\n",
    "db.commit()"
   ]
  },
  {
   "cell_type": "code",
   "execution_count": 18,
   "id": "7e831a64",
   "metadata": {},
   "outputs": [
    {
     "name": "stdout",
     "output_type": "stream",
     "text": [
      "(1, 'Ram', 80)\n",
      "(2, 'teena', 90)\n",
      "(3, 'roni', 98)\n",
      "(4, 'Amit', 100)\n",
      "(5, 'john', 60)\n",
      "(8, 'tina', 80)\n",
      "(11, 'pawan', 100)\n",
      "(15, 'rabi', 100)\n"
     ]
    }
   ],
   "source": [
    "results=cur.execute(\"select * from student\")\n",
    "\n",
    "for i in results:\n",
    "    print(i)"
   ]
  },
  {
   "cell_type": "code",
   "execution_count": 19,
   "id": "1820c1f3",
   "metadata": {},
   "outputs": [],
   "source": [
    "cur.execute(\"insert into student Values(21,'rohit',50)\")\n",
    "db.commit()"
   ]
  },
  {
   "cell_type": "code",
   "execution_count": 20,
   "id": "0247ef66",
   "metadata": {},
   "outputs": [
    {
     "name": "stdout",
     "output_type": "stream",
     "text": [
      "(1, 'Ram', 80)\n",
      "(2, 'teena', 90)\n",
      "(3, 'roni', 98)\n",
      "(4, 'Amit', 100)\n",
      "(5, 'john', 60)\n",
      "(8, 'tina', 80)\n",
      "(11, 'pawan', 100)\n",
      "(15, 'rabi', 100)\n",
      "(21, 'rohit', 50)\n"
     ]
    }
   ],
   "source": [
    "results=cur.execute(\"Select * from student\")\n",
    "\n",
    "for i in results:\n",
    "    print(i)"
   ]
  },
  {
   "cell_type": "code",
   "execution_count": 21,
   "id": "d938ebfa",
   "metadata": {},
   "outputs": [
    {
     "name": "stdout",
     "output_type": "stream",
     "text": [
      "2 Records insercted\n"
     ]
    }
   ],
   "source": [
    "cur.execute(\" insert into student values(22,'kabir',59),(23,'Anil',40)\")\n",
    "db.commit()\n",
    "\n",
    "print(cur.rowcount,'Records insercted')\n"
   ]
  },
  {
   "cell_type": "code",
   "execution_count": 22,
   "id": "3dbd83d8",
   "metadata": {},
   "outputs": [
    {
     "data": {
      "text/plain": [
       "<sqlite3.Cursor at 0x196c7d79180>"
      ]
     },
     "execution_count": 22,
     "metadata": {},
     "output_type": "execute_result"
    }
   ],
   "source": [
    "cur.execute(\" insert into student values(24,'Nikhil',75),(27,'pandu',80)\")"
   ]
  },
  {
   "cell_type": "code",
   "execution_count": 23,
   "id": "7287962b",
   "metadata": {},
   "outputs": [],
   "source": [
    "db.commit()"
   ]
  },
  {
   "cell_type": "code",
   "execution_count": 24,
   "id": "41a80a2c",
   "metadata": {},
   "outputs": [
    {
     "name": "stdout",
     "output_type": "stream",
     "text": [
      "(1, 'Ram', 80)\n",
      "(2, 'teena', 90)\n",
      "(3, 'roni', 98)\n",
      "(4, 'Amit', 100)\n",
      "(5, 'john', 60)\n",
      "(8, 'tina', 80)\n",
      "(11, 'pawan', 100)\n",
      "(15, 'rabi', 100)\n",
      "(21, 'rohit', 50)\n",
      "(22, 'kabir', 59)\n",
      "(23, 'Anil', 40)\n",
      "(24, 'Nikhil', 75)\n",
      "(27, 'pandu', 80)\n"
     ]
    }
   ],
   "source": [
    "result1=cur.execute(\"Select * from student\")\n",
    "\n",
    "for i in result1:\n",
    "    print(i)"
   ]
  },
  {
   "cell_type": "code",
   "execution_count": 26,
   "id": "c3c163b7",
   "metadata": {},
   "outputs": [],
   "source": [
    "cur.execute(\"insert into student values(28,'Pankaj',60)\")\n",
    "db.commit()"
   ]
  },
  {
   "cell_type": "code",
   "execution_count": 27,
   "id": "a84d8660",
   "metadata": {},
   "outputs": [],
   "source": [
    "cur.execute(\"insert into student values(30,'ravi',92)\")\n",
    "db.commit()"
   ]
  },
  {
   "cell_type": "code",
   "execution_count": 32,
   "id": "f953c4d2",
   "metadata": {},
   "outputs": [
    {
     "name": "stdout",
     "output_type": "stream",
     "text": [
      "(1, 'Ram', 80)\n",
      "(2, 'teena', 90)\n",
      "(3, 'roni', 98)\n",
      "(4, 'Amit', 100)\n",
      "(5, 'john', 60)\n",
      "(8, 'tina', 80)\n",
      "(11, 'pawan', 100)\n",
      "(15, 'rabi', 100)\n",
      "(21, 'rohit', 50)\n",
      "(22, 'kabir', 59)\n",
      "(23, 'Anil', 40)\n",
      "(24, 'Nikhil', 75)\n",
      "(27, 'pandu', 80)\n",
      "(28, 'Pankaj', 60)\n",
      "(30, 'ravi', 92)\n",
      "(40, 'Tannu', 98)\n",
      "(31, 'Tannu', 99)\n"
     ]
    }
   ],
   "source": [
    "results=cur.execute(\"select * from student\")\n",
    "\n",
    "for i in results:\n",
    "    print(i)"
   ]
  },
  {
   "cell_type": "code",
   "execution_count": 34,
   "id": "0ba84684",
   "metadata": {},
   "outputs": [
    {
     "ename": "IntegrityError",
     "evalue": "UNIQUE constraint failed: student.id",
     "output_type": "error",
     "traceback": [
      "\u001b[1;31m---------------------------------------------------------------------------\u001b[0m",
      "\u001b[1;31mIntegrityError\u001b[0m                            Traceback (most recent call last)",
      "\u001b[1;32mC:\\Users\\ABHIJI~1\\AppData\\Local\\Temp/ipykernel_27916/2623502922.py\u001b[0m in \u001b[0;36m<module>\u001b[1;34m\u001b[0m\n\u001b[1;32m----> 1\u001b[1;33m \u001b[0mcur\u001b[0m\u001b[1;33m.\u001b[0m\u001b[0mexecute\u001b[0m\u001b[1;33m(\u001b[0m\u001b[1;34m\"insert into student values(32,'Umesh',100)\"\u001b[0m\u001b[1;33m)\u001b[0m\u001b[1;33m\u001b[0m\u001b[1;33m\u001b[0m\u001b[0m\n\u001b[0m\u001b[0;32m      2\u001b[0m \u001b[0mdb\u001b[0m\u001b[1;33m.\u001b[0m\u001b[0mcommit\u001b[0m\u001b[1;33m(\u001b[0m\u001b[1;33m)\u001b[0m\u001b[1;33m\u001b[0m\u001b[1;33m\u001b[0m\u001b[0m\n",
      "\u001b[1;31mIntegrityError\u001b[0m: UNIQUE constraint failed: student.id"
     ]
    }
   ],
   "source": [
    "cur.execute(\"insert into student values(32,'Umesh',100)\")\n",
    "db.commit()"
   ]
  },
  {
   "cell_type": "code",
   "execution_count": 35,
   "id": "c6d59c98",
   "metadata": {},
   "outputs": [
    {
     "name": "stdout",
     "output_type": "stream",
     "text": [
      "(1, 'Ram', 80)\n",
      "(2, 'teena', 90)\n",
      "(3, 'roni', 98)\n",
      "(4, 'Amit', 100)\n",
      "(5, 'john', 60)\n",
      "(8, 'tina', 80)\n",
      "(11, 'pawan', 100)\n",
      "(15, 'rabi', 100)\n",
      "(21, 'rohit', 50)\n",
      "(22, 'kabir', 59)\n",
      "(23, 'Anil', 40)\n",
      "(24, 'Nikhil', 75)\n",
      "(27, 'pandu', 80)\n",
      "(28, 'Pankaj', 60)\n",
      "(30, 'ravi', 92)\n",
      "(40, 'Tannu', 98)\n",
      "(31, 'Tannu', 99)\n",
      "(32, 'Umesh', 100)\n"
     ]
    }
   ],
   "source": [
    "results=cur.execute(\"select * from student\")\n",
    "\n",
    "for i in results:\n",
    "    print(i)"
   ]
  },
  {
   "cell_type": "code",
   "execution_count": 1,
   "id": "46d6e7ed",
   "metadata": {},
   "outputs": [],
   "source": [
    "import sqlite3\n"
   ]
  },
  {
   "cell_type": "code",
   "execution_count": 2,
   "id": "929e028b",
   "metadata": {},
   "outputs": [],
   "source": [
    "db=sqlite3.connect(\"Student_database.db\")"
   ]
  },
  {
   "cell_type": "code",
   "execution_count": 3,
   "id": "c4aa1f33",
   "metadata": {},
   "outputs": [],
   "source": [
    "cur=db.cursor()"
   ]
  },
  {
   "cell_type": "code",
   "execution_count": 4,
   "id": "263fa119",
   "metadata": {},
   "outputs": [
    {
     "name": "stdout",
     "output_type": "stream",
     "text": [
      "(1, 'Ram', 80)\n",
      "(2, 'teena', 90)\n",
      "(3, 'roni', 98)\n",
      "(4, 'Amit', 100)\n",
      "(5, 'john', 60)\n",
      "(8, 'tina', 80)\n",
      "(11, 'pawan', 100)\n",
      "(15, 'rabi', 100)\n",
      "(21, 'rohit', 50)\n",
      "(22, 'kabir', 59)\n",
      "(23, 'Anil', 40)\n",
      "(24, 'Nikhil', 75)\n",
      "(27, 'pandu', 80)\n",
      "(28, 'Pankaj', 60)\n",
      "(30, 'ravi', 92)\n"
     ]
    }
   ],
   "source": [
    "results=cur.execute(\"select * from student\")\n",
    "\n",
    "for i in result:\n",
    "    print(i)"
   ]
  },
  {
   "cell_type": "code",
   "execution_count": 6,
   "id": "dc84d93a",
   "metadata": {},
   "outputs": [],
   "source": [
    "cur.execute(\"insert into student values(51,'ram',98)\")\n",
    "db.commit()"
   ]
  },
  {
   "cell_type": "code",
   "execution_count": 7,
   "id": "eec690fd",
   "metadata": {},
   "outputs": [],
   "source": [
    "cur.execute(\"insert into student values(52,'Umesh',100)\")\n",
    "db.commit()"
   ]
  },
  {
   "cell_type": "code",
   "execution_count": 2,
   "id": "6af03e5f",
   "metadata": {},
   "outputs": [],
   "source": [
    "import sqlite3\n"
   ]
  },
  {
   "cell_type": "code",
   "execution_count": 3,
   "id": "ee56ce6d",
   "metadata": {},
   "outputs": [],
   "source": [
    "db=sqlite3.connect(\"student_database.db\")"
   ]
  },
  {
   "cell_type": "code",
   "execution_count": 4,
   "id": "018ff71e",
   "metadata": {},
   "outputs": [],
   "source": [
    "cur=db.cursor"
   ]
  },
  {
   "cell_type": "code",
   "execution_count": 8,
   "id": "0c517e11",
   "metadata": {},
   "outputs": [],
   "source": [
    "cur=db.cursor()"
   ]
  },
  {
   "cell_type": "code",
   "execution_count": 10,
   "id": "421f205f",
   "metadata": {},
   "outputs": [],
   "source": [
    "result=cur.execute(\"select * from student\")"
   ]
  },
  {
   "cell_type": "code",
   "execution_count": 12,
   "id": "5636fda5",
   "metadata": {},
   "outputs": [
    {
     "name": "stdout",
     "output_type": "stream",
     "text": [
      "(1, 'Ram', 80)\n",
      "(2, 'teena', 90)\n",
      "(3, 'roni', 98)\n",
      "(4, 'Amit', 100)\n",
      "(5, 'john', 60)\n",
      "(8, 'tina', 80)\n",
      "(11, 'pawan', 100)\n",
      "(15, 'rabi', 100)\n",
      "(21, 'rohit', 50)\n",
      "(22, 'kabir', 59)\n",
      "(23, 'Anil', 40)\n",
      "(24, 'Nikhil', 75)\n",
      "(27, 'pandu', 80)\n",
      "(28, 'Pankaj', 60)\n",
      "(30, 'ravi', 92)\n",
      "(51, 'ram', 98)\n",
      "(52, 'Umesh', 100)\n"
     ]
    }
   ],
   "source": [
    "for i in result:\n",
    "    print(i)"
   ]
  },
  {
   "cell_type": "code",
   "execution_count": 14,
   "id": "d831e070",
   "metadata": {},
   "outputs": [],
   "source": [
    "cur.execute(\"insert into student values(53,'jhonty',35),(54,'juhi',60),(55,'romio',80)\")\n",
    "db.commit()\n"
   ]
  },
  {
   "cell_type": "code",
   "execution_count": 15,
   "id": "008846ab",
   "metadata": {},
   "outputs": [
    {
     "name": "stdout",
     "output_type": "stream",
     "text": [
      "3 Records insercted\n"
     ]
    }
   ],
   "source": [
    "print(cur.rowcount,'Records insercted')"
   ]
  },
  {
   "cell_type": "code",
   "execution_count": 16,
   "id": "addd6073",
   "metadata": {},
   "outputs": [],
   "source": [
    "result=cur.execute(\"select * from student\")"
   ]
  },
  {
   "cell_type": "code",
   "execution_count": 17,
   "id": "30c2e742",
   "metadata": {
    "scrolled": true
   },
   "outputs": [
    {
     "name": "stdout",
     "output_type": "stream",
     "text": [
      "(1, 'Ram', 80)\n",
      "(2, 'teena', 90)\n",
      "(3, 'roni', 98)\n",
      "(4, 'Amit', 100)\n",
      "(5, 'john', 60)\n",
      "(8, 'tina', 80)\n",
      "(11, 'pawan', 100)\n",
      "(15, 'rabi', 100)\n",
      "(21, 'rohit', 50)\n",
      "(22, 'kabir', 59)\n",
      "(23, 'Anil', 40)\n",
      "(24, 'Nikhil', 75)\n",
      "(27, 'pandu', 80)\n",
      "(28, 'Pankaj', 60)\n",
      "(30, 'ravi', 92)\n",
      "(51, 'ram', 98)\n",
      "(52, 'Umesh', 100)\n",
      "(53, 'jhonty', 35)\n",
      "(54, 'juhi', 60)\n",
      "(55, 'romio', 80)\n"
     ]
    }
   ],
   "source": [
    "for i in result:\n",
    "    print(i)"
   ]
  },
  {
   "cell_type": "markdown",
   "id": "3b4e3529",
   "metadata": {},
   "source": [
    "data base will be created in the given location"
   ]
  },
  {
   "cell_type": "code",
   "execution_count": 1,
   "id": "aeff53c4",
   "metadata": {},
   "outputs": [],
   "source": [
    "import sqlite3"
   ]
  },
  {
   "cell_type": "code",
   "execution_count": 2,
   "id": "01e96ca5",
   "metadata": {},
   "outputs": [],
   "source": [
    "db1=sqlite3.connect(\"Employee_DataBase\")"
   ]
  },
  {
   "cell_type": "code",
   "execution_count": 3,
   "id": "8c220918",
   "metadata": {},
   "outputs": [],
   "source": [
    "cur=db1.cursor()"
   ]
  },
  {
   "cell_type": "code",
   "execution_count": 5,
   "id": "9c896063",
   "metadata": {},
   "outputs": [
    {
     "data": {
      "text/plain": [
       "<sqlite3.Cursor at 0x1d3a4a380a0>"
      ]
     },
     "execution_count": 5,
     "metadata": {},
     "output_type": "execute_result"
    }
   ],
   "source": [
    "cur.execute(\" create table employee(id int, name text, age int)\")"
   ]
  },
  {
   "cell_type": "code",
   "execution_count": 7,
   "id": "a963a898",
   "metadata": {},
   "outputs": [],
   "source": [
    "cur.execute(\"insert into employee values(121,'abhijit',30)\")\n",
    "db1.commit()"
   ]
  },
  {
   "cell_type": "code",
   "execution_count": 8,
   "id": "04c56844",
   "metadata": {},
   "outputs": [],
   "source": [
    "cur.execute(\"insert into employee values(122,'Aman',30)\")\n",
    "db1.commit()"
   ]
  },
  {
   "cell_type": "code",
   "execution_count": 10,
   "id": "16547893",
   "metadata": {},
   "outputs": [],
   "source": [
    "cur.execute(\"insert into employee values(123,'Ritesh',32)\")\n",
    "db1.commit()"
   ]
  },
  {
   "cell_type": "code",
   "execution_count": 12,
   "id": "583921b6",
   "metadata": {},
   "outputs": [
    {
     "name": "stdout",
     "output_type": "stream",
     "text": [
      "(121, 'abhijit', 30)\n",
      "(121, 'abhijit', 30)\n",
      "(122, 'Aman', 30)\n",
      "(123, 'Ritesh', 32)\n"
     ]
    }
   ],
   "source": [
    "result=cur.execute(\"select * from employee\")\n",
    "\n",
    "for i in result:\n",
    "    print(i)\n",
    "\n",
    "            "
   ]
  },
  {
   "cell_type": "code",
   "execution_count": 13,
   "id": "9df67cc3",
   "metadata": {},
   "outputs": [
    {
     "name": "stdout",
     "output_type": "stream",
     "text": [
      "-1\n"
     ]
    }
   ],
   "source": [
    "print(cur.rowcount)"
   ]
  },
  {
   "cell_type": "code",
   "execution_count": 14,
   "id": "cd744fbc",
   "metadata": {},
   "outputs": [
    {
     "data": {
      "text/plain": [
       "<sqlite3.Cursor at 0x1d3a4a380a0>"
      ]
     },
     "execution_count": 14,
     "metadata": {},
     "output_type": "execute_result"
    }
   ],
   "source": [
    "cur.execute(\"insert into employee values(124,'Ravi',34),(125,'Era',35)\")"
   ]
  },
  {
   "cell_type": "code",
   "execution_count": 16,
   "id": "7821a5dc",
   "metadata": {},
   "outputs": [],
   "source": [
    "db1.commit()"
   ]
  },
  {
   "cell_type": "code",
   "execution_count": 19,
   "id": "ac1dc76f",
   "metadata": {},
   "outputs": [],
   "source": [
    "cur.execute(\"insert into employee values(126,'ji',36),(127,'lko',37),(128,'kilo',38)\")\n",
    "db1.commit()"
   ]
  },
  {
   "cell_type": "code",
   "execution_count": 20,
   "id": "f86999b3",
   "metadata": {},
   "outputs": [
    {
     "name": "stdout",
     "output_type": "stream",
     "text": [
      "3\n"
     ]
    }
   ],
   "source": [
    "print(cur.rowcount)"
   ]
  },
  {
   "cell_type": "code",
   "execution_count": 21,
   "id": "bdc73fff",
   "metadata": {},
   "outputs": [
    {
     "name": "stdout",
     "output_type": "stream",
     "text": [
      "(121, 'abhijit', 30)\n",
      "(121, 'abhijit', 30)\n",
      "(122, 'Aman', 30)\n",
      "(123, 'Ritesh', 32)\n",
      "(124, 'Ravi', 34)\n",
      "(125, 'Era', 35)\n",
      "(126, 'ji', 36)\n",
      "(127, 'lko', 37)\n",
      "(128, 'kilo', 38)\n"
     ]
    }
   ],
   "source": [
    "result1=cur.execute(\"select * from employee\")\n",
    "\n",
    "for i in result1:\n",
    "    print(i)"
   ]
  },
  {
   "cell_type": "code",
   "execution_count": 22,
   "id": "f3b48737",
   "metadata": {},
   "outputs": [],
   "source": [
    "import sqlite3"
   ]
  },
  {
   "cell_type": "code",
   "execution_count": 24,
   "id": "9db530e2",
   "metadata": {},
   "outputs": [],
   "source": [
    "db1=sqlite3.connect(\"Employee_DataBase\")"
   ]
  },
  {
   "cell_type": "code",
   "execution_count": 25,
   "id": "a82a9441",
   "metadata": {},
   "outputs": [],
   "source": [
    "cur=db1.cursor()"
   ]
  },
  {
   "cell_type": "code",
   "execution_count": 32,
   "id": "d826f1cc",
   "metadata": {},
   "outputs": [],
   "source": [
    "result=cur.execute(\"select * from employee\")"
   ]
  },
  {
   "cell_type": "code",
   "execution_count": 33,
   "id": "c9ec96b9",
   "metadata": {},
   "outputs": [
    {
     "name": "stdout",
     "output_type": "stream",
     "text": [
      "(121, 'abhijit', 30)\n",
      "(121, 'abhijit', 30)\n",
      "(122, 'Aman', 30)\n",
      "(123, 'Ritesh', 32)\n",
      "(124, 'Ravi', 34)\n",
      "(125, 'Era', 35)\n",
      "(126, 'ji', 36)\n",
      "(127, 'lko', 37)\n",
      "(128, 'kilo', 38)\n"
     ]
    }
   ],
   "source": [
    "for i in result:\n",
    "    print(i)"
   ]
  },
  {
   "cell_type": "code",
   "execution_count": 1,
   "id": "a7b1ca3b",
   "metadata": {},
   "outputs": [],
   "source": [
    "import sqlite3"
   ]
  },
  {
   "cell_type": "code",
   "execution_count": 2,
   "id": "eb971749",
   "metadata": {},
   "outputs": [],
   "source": [
    "db1=sqlite3.connect(\"Employee_DataBase\")"
   ]
  },
  {
   "cell_type": "code",
   "execution_count": 5,
   "id": "b2bce4d5",
   "metadata": {},
   "outputs": [],
   "source": [
    "cur=db1.cursor()"
   ]
  },
  {
   "cell_type": "code",
   "execution_count": 6,
   "id": "ab2c7626",
   "metadata": {},
   "outputs": [],
   "source": [
    "results=cur.execute(\"select * from employee\")"
   ]
  },
  {
   "cell_type": "code",
   "execution_count": 7,
   "id": "6b0aae33",
   "metadata": {},
   "outputs": [
    {
     "name": "stdout",
     "output_type": "stream",
     "text": [
      "(121, 'abhijit', 30)\n",
      "(121, 'abhijit', 30)\n",
      "(122, 'Aman', 30)\n",
      "(123, 'Ritesh', 32)\n",
      "(124, 'Ravi', 34)\n",
      "(125, 'Era', 35)\n",
      "(126, 'ji', 36)\n",
      "(127, 'lko', 37)\n",
      "(128, 'kilo', 38)\n"
     ]
    }
   ],
   "source": [
    "for i in results:\n",
    "    print(i)"
   ]
  },
  {
   "cell_type": "code",
   "execution_count": 8,
   "id": "10145c40",
   "metadata": {},
   "outputs": [],
   "source": [
    "cur.execute(\"insert into employee values(129,'jack',34),(130,'jill',35)\")\n",
    "db1.commit()"
   ]
  },
  {
   "cell_type": "code",
   "execution_count": 10,
   "id": "cfa33571",
   "metadata": {},
   "outputs": [
    {
     "name": "stdout",
     "output_type": "stream",
     "text": [
      "2\n"
     ]
    }
   ],
   "source": [
    "# printing rows \n",
    "\n",
    "print(cur.rowcount)"
   ]
  },
  {
   "cell_type": "markdown",
   "id": "673f685e",
   "metadata": {},
   "source": [
    "# ACCESSING data stored in SQLite using PYTHON"
   ]
  },
  {
   "cell_type": "code",
   "execution_count": 11,
   "id": "50c6f20c",
   "metadata": {},
   "outputs": [],
   "source": [
    "# selcting all from employee\n",
    "\n",
    "result=cur.execute(\"Select * from employee\")"
   ]
  },
  {
   "cell_type": "code",
   "execution_count": 12,
   "id": "61bfaa9e",
   "metadata": {},
   "outputs": [
    {
     "name": "stdout",
     "output_type": "stream",
     "text": [
      "(121, 'abhijit', 30)\n",
      "(121, 'abhijit', 30)\n",
      "(122, 'Aman', 30)\n",
      "(123, 'Ritesh', 32)\n",
      "(124, 'Ravi', 34)\n",
      "(125, 'Era', 35)\n",
      "(126, 'ji', 36)\n",
      "(127, 'lko', 37)\n",
      "(128, 'kilo', 38)\n",
      "(129, 'jack', 34)\n",
      "(130, 'jill', 35)\n"
     ]
    }
   ],
   "source": [
    "for i in result:\n",
    "    print(i)"
   ]
  },
  {
   "cell_type": "code",
   "execution_count": 20,
   "id": "4f4e4b2e",
   "metadata": {},
   "outputs": [
    {
     "name": "stdout",
     "output_type": "stream",
     "text": [
      "(121,) (121,) (122,) (123,) (124,) (125,) (126,) (127,) (128,) (129,) (130,) "
     ]
    }
   ],
   "source": [
    "result=cur.execute(\"select id from employee\")\n",
    "\n",
    "for i in result:\n",
    "    print(i, end=\" \")"
   ]
  },
  {
   "cell_type": "code",
   "execution_count": 19,
   "id": "6ea56fb1",
   "metadata": {},
   "outputs": [
    {
     "name": "stdout",
     "output_type": "stream",
     "text": [
      "('abhijit',) ('abhijit',) ('Aman',) ('Ritesh',) ('Ravi',) ('Era',) ('ji',) ('lko',) ('kilo',) ('jack',) ('jill',) "
     ]
    }
   ],
   "source": [
    "result=cur.execute(\"select name from employee\")\n",
    "\n",
    "for i in result:\n",
    "    print(i,end=\" \")"
   ]
  },
  {
   "cell_type": "code",
   "execution_count": 18,
   "id": "609a683b",
   "metadata": {},
   "outputs": [
    {
     "name": "stdout",
     "output_type": "stream",
     "text": [
      "(30,) (30,) (30,) (32,) (34,) (35,) (36,) (37,) (38,) (34,) (35,) "
     ]
    }
   ],
   "source": [
    "result=cur.execute(\"select age from employee\")\n",
    "\n",
    "for i in result:\n",
    "    print(i,end=\" \")"
   ]
  },
  {
   "cell_type": "code",
   "execution_count": 23,
   "id": "cbf92da6",
   "metadata": {},
   "outputs": [
    {
     "name": "stdout",
     "output_type": "stream",
     "text": [
      "(30, 121) (30, 121) (30, 122) (32, 123) (34, 124) (35, 125) (36, 126) (37, 127) (38, 128) (34, 129) (35, 130) "
     ]
    }
   ],
   "source": [
    "result=cur.execute(\"select age,id from employee\")\n",
    "\n",
    "for i in result:\n",
    "    print(i,end=\" \")"
   ]
  },
  {
   "cell_type": "code",
   "execution_count": 24,
   "id": "6b1e9794",
   "metadata": {},
   "outputs": [
    {
     "name": "stdout",
     "output_type": "stream",
     "text": [
      "(121, 'abhijit', 30) (121, 'abhijit', 30) (122, 'Aman', 30) (123, 'Ritesh', 32) (124, 'Ravi', 34) (125, 'Era', 35) (126, 'ji', 36) (127, 'lko', 37) (128, 'kilo', 38) (129, 'jack', 34) (130, 'jill', 35) "
     ]
    }
   ],
   "source": [
    "result=cur.execute(\"select id,name,age from employee\")\n",
    "\n",
    "for i in result:\n",
    "    print(i,end=\" \")"
   ]
  },
  {
   "cell_type": "code",
   "execution_count": 25,
   "id": "6ed65304",
   "metadata": {},
   "outputs": [
    {
     "data": {
      "text/plain": [
       "'thank you'"
      ]
     },
     "execution_count": 25,
     "metadata": {},
     "output_type": "execute_result"
    }
   ],
   "source": [
    "\"thank you\""
   ]
  }
 ],
 "metadata": {
  "kernelspec": {
   "display_name": "Python 3 (ipykernel)",
   "language": "python",
   "name": "python3"
  },
  "language_info": {
   "codemirror_mode": {
    "name": "ipython",
    "version": 3
   },
   "file_extension": ".py",
   "mimetype": "text/x-python",
   "name": "python",
   "nbconvert_exporter": "python",
   "pygments_lexer": "ipython3",
   "version": "3.9.7"
  }
 },
 "nbformat": 4,
 "nbformat_minor": 5
}
