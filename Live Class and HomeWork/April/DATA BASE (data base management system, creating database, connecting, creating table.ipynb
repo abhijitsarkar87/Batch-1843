{
 "cells": [
  {
   "cell_type": "markdown",
   "id": "f4a186c0",
   "metadata": {},
   "source": [
    "# DATABASE"
   ]
  },
  {
   "cell_type": "code",
   "execution_count": 1,
   "id": "a0902e9c",
   "metadata": {},
   "outputs": [],
   "source": [
    "# COLUMNS ARE KNOWN AS Columns/Attributes/Characteristics\n",
    "# rows are also known as tuple\n",
    "# number of rows and columns are known as Table\n",
    "# collection of logically connected table are known database Ex: database of(Employee,Employeers,projects)"
   ]
  },
  {
   "cell_type": "markdown",
   "id": "f8f037f0",
   "metadata": {},
   "source": [
    "#we can excess and maintain by software technology by data management system"
   ]
  },
  {
   "cell_type": "code",
   "execution_count": 2,
   "id": "1476ead6",
   "metadata": {},
   "outputs": [],
   "source": [
    "# we can use SQl (structured Query Language) to maintain the data base management\n",
    "\n",
    "#(Data base of company)<---(SQL is used for data base management)---> (user)"
   ]
  },
  {
   "cell_type": "code",
   "execution_count": 3,
   "id": "4d3698ae",
   "metadata": {},
   "outputs": [],
   "source": [
    "# DBMS are of two type \n",
    "\n",
    "# Relational data base (structured date with rows and column) ex:MS Sql server, SQLite,My SQL, Oracle\n",
    "\n",
    "# Non- relational data base (non-structured data frm fb or twitter etc) ex: mongo db, Cassandra DB\n",
    "\n",
    "# open source(Free software) \n",
    "\n",
    "# lisensed or propretor(need to purchase)"
   ]
  },
  {
   "cell_type": "code",
   "execution_count": 4,
   "id": "b5163add",
   "metadata": {},
   "outputs": [],
   "source": [
    "# SQL lite  1. <<<<Open source - free>>> \n",
    "#           2. <<<Relational DBMS - paid>>>\n",
    "\n",
    "# SQL is divided into 3 parts:\n",
    "\n",
    "# DDL(Data Defination Language)- Create,after,drop  \n",
    "# DML(Data Manipulation language)- Select,update,delete\n",
    "# DCL(Data control language)-remoke,remove,commit,grant\n"
   ]
  },
  {
   "cell_type": "code",
   "execution_count": 5,
   "id": "84afa91b",
   "metadata": {},
   "outputs": [],
   "source": [
    "#  Need to call SQ lite before creating data base"
   ]
  },
  {
   "cell_type": "code",
   "execution_count": 6,
   "id": "4a438c37",
   "metadata": {},
   "outputs": [],
   "source": [
    "# sqlite 3\n",
    "\n",
    "import sqlite3"
   ]
  },
  {
   "cell_type": "code",
   "execution_count": 7,
   "id": "91d0c6af",
   "metadata": {},
   "outputs": [
    {
     "data": {
      "text/plain": [
       "'\"\\nWorking with database using SQLite(Structured Query Language)\\n1. Create a connection Object.\\n2. From the connection object, create a cursor object.\\n3. Using the cursor object,call the execute methord with create table query as the parameter\\n'"
      ]
     },
     "execution_count": 7,
     "metadata": {},
     "output_type": "execute_result"
    }
   ],
   "source": [
    "\"\"\"\"\n",
    "Working with database using SQLite(Structured Query Language)\n",
    "1. Create a connection Object.\n",
    "2. From the connection object, create a cursor object.\n",
    "3. Using the cursor object,call the execute methord with create table query as the parameter\n",
    "\"\"\""
   ]
  },
  {
   "cell_type": "markdown",
   "id": "fb99d5be",
   "metadata": {},
   "source": [
    "# Create Database:"
   ]
  },
  {
   "cell_type": "code",
   "execution_count": 8,
   "id": "fb03fa60",
   "metadata": {},
   "outputs": [],
   "source": [
    "# student database will be created in jupiter notebook Home\n",
    "\n",
    "#First Connection Object\n",
    "\n",
    "db=sqlite3.connect(\"Student_database.db\")"
   ]
  },
  {
   "cell_type": "code",
   "execution_count": 9,
   "id": "093c15f2",
   "metadata": {},
   "outputs": [],
   "source": [
    "# second step: From the connection object, create a cursor object."
   ]
  },
  {
   "cell_type": "code",
   "execution_count": 10,
   "id": "cd451c6c",
   "metadata": {},
   "outputs": [
    {
     "data": {
      "text/plain": [
       "' \\nCURSER\\n\\nA curser in Sql is a temprory work area created in system memory when a SQL statement is executed\\nA SQL curser is a set of rows together with a pointer that identifies a current row.\\nIt is a database object to retrieve data from a result set one row at a time\\n\\n'"
      ]
     },
     "execution_count": 10,
     "metadata": {},
     "output_type": "execute_result"
    }
   ],
   "source": [
    "\"\"\" \n",
    "CURSER\n",
    "\n",
    "A curser in Sql is a temprory work area created in system memory when a SQL statement is executed\n",
    "A SQL curser is a set of rows together with a pointer that identifies a current row.\n",
    "It is a database object to retrieve data from a result set one row at a time\n",
    "\n",
    "\"\"\""
   ]
  },
  {
   "cell_type": "code",
   "execution_count": 11,
   "id": "e115bd51",
   "metadata": {},
   "outputs": [],
   "source": [
    "# create cursor object from connection\n",
    "\n",
    "cur=db.cursor()"
   ]
  },
  {
   "cell_type": "markdown",
   "id": "de059ff6",
   "metadata": {},
   "source": [
    "# Create table in student_database"
   ]
  },
  {
   "cell_type": "markdown",
   "id": "fa5908cb",
   "metadata": {},
   "source": [
    "\"\"\"\n",
    "SQL Data type\n",
    "\n",
    "1. interger---numeric values\n",
    "2. real-------decimal values/float\n",
    "3. text-------character values(free)\n",
    "4. char(20)---character values(till20)\n",
    "\n",
    "\n",
    "\"\"\""
   ]
  },
  {
   "cell_type": "code",
   "execution_count": 12,
   "id": "82dcaa7a",
   "metadata": {},
   "outputs": [
    {
     "data": {
      "text/plain": [
       "<sqlite3.Cursor at 0x2797d6e6b90>"
      ]
     },
     "execution_count": 12,
     "metadata": {},
     "output_type": "execute_result"
    }
   ],
   "source": [
    "# creating table \n",
    "\n",
    "cur.execute(\"create table student (id int primary key,name text,marks int)\")"
   ]
  },
  {
   "cell_type": "markdown",
   "id": "0fe407b8",
   "metadata": {},
   "source": [
    "# INSERT DATA IN STUDENT TABLE"
   ]
  },
  {
   "cell_type": "code",
   "execution_count": 13,
   "id": "371a34bd",
   "metadata": {},
   "outputs": [
    {
     "data": {
      "text/plain": [
       "<sqlite3.Cursor at 0x2797d6e6b90>"
      ]
     },
     "execution_count": 13,
     "metadata": {},
     "output_type": "execute_result"
    }
   ],
   "source": [
    "# feeding line 1\n",
    "\n",
    "cur.execute(\"insert into student(id,name,marks) values(1,'john',90)\")"
   ]
  },
  {
   "cell_type": "code",
   "execution_count": 9,
   "id": "d0321f85",
   "metadata": {},
   "outputs": [
    {
     "ename": "NameError",
     "evalue": "name 'db' is not defined",
     "output_type": "error",
     "traceback": [
      "\u001b[1;31m---------------------------------------------------------------------------\u001b[0m",
      "\u001b[1;31mNameError\u001b[0m                                 Traceback (most recent call last)",
      "\u001b[1;32mC:\\Users\\ABHIJI~1\\AppData\\Local\\Temp/ipykernel_20436/243504416.py\u001b[0m in \u001b[0;36m<module>\u001b[1;34m\u001b[0m\n\u001b[0;32m      1\u001b[0m \u001b[1;31m# saving the line 1 inserted\u001b[0m\u001b[1;33m\u001b[0m\u001b[1;33m\u001b[0m\u001b[0m\n\u001b[1;32m----> 2\u001b[1;33m \u001b[0mdb\u001b[0m\u001b[1;33m.\u001b[0m\u001b[0mcommit\u001b[0m\u001b[1;33m(\u001b[0m\u001b[1;33m)\u001b[0m\u001b[1;33m\u001b[0m\u001b[1;33m\u001b[0m\u001b[0m\n\u001b[0m",
      "\u001b[1;31mNameError\u001b[0m: name 'db' is not defined"
     ]
    }
   ],
   "source": [
    "# saving the line 1 inserted\n",
    "db.commit()"
   ]
  },
  {
   "cell_type": "code",
   "execution_count": 15,
   "id": "8135f05c",
   "metadata": {},
   "outputs": [
    {
     "name": "stdout",
     "output_type": "stream",
     "text": [
      "1 Records(s) inserted\n"
     ]
    }
   ],
   "source": [
    "# displaying rows\n",
    "print(cur.rowcount,\"Records(s) inserted\")"
   ]
  },
  {
   "cell_type": "code",
   "execution_count": 16,
   "id": "b23e41fc",
   "metadata": {},
   "outputs": [],
   "source": [
    "# saving line 2\n",
    "\n",
    "cur.execute(\"insert into student(id,name,marks) values(2,'dev',70)\")\n",
    "\n",
    "db.commit()"
   ]
  },
  {
   "cell_type": "code",
   "execution_count": 17,
   "id": "c40b95d9",
   "metadata": {},
   "outputs": [
    {
     "name": "stdout",
     "output_type": "stream",
     "text": [
      "(1, 'john', 90)\n",
      "(2, 'dev', 70)\n"
     ]
    }
   ],
   "source": [
    "results=cur.execute(\"select * from student\")\n",
    "\n",
    "for row in results:\n",
    "    print(row)"
   ]
  },
  {
   "cell_type": "code",
   "execution_count": 18,
   "id": "461937fb",
   "metadata": {},
   "outputs": [],
   "source": [
    "cur.execute(\"insert into student values(4,'a',34)\")\n",
    "db.commit()"
   ]
  },
  {
   "cell_type": "code",
   "execution_count": 19,
   "id": "3e525196",
   "metadata": {},
   "outputs": [],
   "source": [
    "cur.execute(\"insert into student values(5,'b',56)\")\n",
    "db.commit()"
   ]
  },
  {
   "cell_type": "code",
   "execution_count": 20,
   "id": "0b26ee58",
   "metadata": {},
   "outputs": [],
   "source": [
    "cur.execute(\"insert into student values(6,'c',67)\")\n",
    "db.commit()"
   ]
  },
  {
   "cell_type": "code",
   "execution_count": 21,
   "id": "624fdb9e",
   "metadata": {},
   "outputs": [],
   "source": [
    "cur.execute(\"insert into student values (7,'d', 90)\")\n",
    "db.commit()"
   ]
  },
  {
   "cell_type": "code",
   "execution_count": 22,
   "id": "f2cec722",
   "metadata": {},
   "outputs": [],
   "source": [
    "results=cur.execute(\"select * from student\")"
   ]
  },
  {
   "cell_type": "code",
   "execution_count": 23,
   "id": "bcb171ff",
   "metadata": {},
   "outputs": [
    {
     "name": "stdout",
     "output_type": "stream",
     "text": [
      "(1, 'john', 90)\n",
      "(2, 'dev', 70)\n",
      "(4, 'a', 34)\n",
      "(5, 'b', 56)\n",
      "(6, 'c', 67)\n",
      "(7, 'd', 90)\n"
     ]
    }
   ],
   "source": [
    "for row in results:\n",
    "    print (row)"
   ]
  },
  {
   "cell_type": "code",
   "execution_count": 24,
   "id": "921655e4",
   "metadata": {},
   "outputs": [
    {
     "name": "stdout",
     "output_type": "stream",
     "text": [
      "(1, 'john', 90)\n",
      "(2, 'dev', 70)\n",
      "(4, 'a', 34)\n",
      "(5, 'b', 56)\n",
      "(6, 'c', 67)\n",
      "(7, 'd', 90)\n"
     ]
    }
   ],
   "source": [
    "results=cur.execute(\"select* from student\")\n",
    "for row in results:\n",
    "    print(row)"
   ]
  },
  {
   "cell_type": "code",
   "execution_count": 10,
   "id": "9e9fcb8d",
   "metadata": {},
   "outputs": [],
   "source": [
    "import sqlite3"
   ]
  },
  {
   "cell_type": "code",
   "execution_count": 11,
   "id": "72fdee99",
   "metadata": {},
   "outputs": [],
   "source": [
    "db1=sqlite3.connect(\"Testing 1db.db\")"
   ]
  },
  {
   "cell_type": "code",
   "execution_count": 12,
   "id": "acf25af8",
   "metadata": {},
   "outputs": [],
   "source": [
    "cur=db1.cursor()"
   ]
  },
  {
   "cell_type": "code",
   "execution_count": 13,
   "id": "e5983663",
   "metadata": {},
   "outputs": [
    {
     "ename": "OperationalError",
     "evalue": "table t1 already exists",
     "output_type": "error",
     "traceback": [
      "\u001b[1;31m---------------------------------------------------------------------------\u001b[0m",
      "\u001b[1;31mOperationalError\u001b[0m                          Traceback (most recent call last)",
      "\u001b[1;32mC:\\Users\\ABHIJI~1\\AppData\\Local\\Temp/ipykernel_20436/921197047.py\u001b[0m in \u001b[0;36m<module>\u001b[1;34m\u001b[0m\n\u001b[1;32m----> 1\u001b[1;33m \u001b[0mdb1\u001b[0m\u001b[1;33m=\u001b[0m\u001b[0mcur\u001b[0m\u001b[1;33m.\u001b[0m\u001b[0mexecute\u001b[0m\u001b[1;33m(\u001b[0m\u001b[1;34m\"create table t1(name text,age int,id int)\"\u001b[0m\u001b[1;33m)\u001b[0m\u001b[1;33m\u001b[0m\u001b[1;33m\u001b[0m\u001b[0m\n\u001b[0m",
      "\u001b[1;31mOperationalError\u001b[0m: table t1 already exists"
     ]
    }
   ],
   "source": [
    "db1=cur.execute(\"create table t1(name text,age int,id int)\")"
   ]
  },
  {
   "cell_type": "code",
   "execution_count": 14,
   "id": "70044063",
   "metadata": {},
   "outputs": [],
   "source": [
    "cur.execute(\"insert into t1 values('jack',23,1),('jill',24,2)\")\n",
    "db1.commit()"
   ]
  },
  {
   "cell_type": "code",
   "execution_count": 15,
   "id": "f010454a",
   "metadata": {},
   "outputs": [],
   "source": [
    "result=cur.execute(\"select * from t1\")"
   ]
  },
  {
   "cell_type": "code",
   "execution_count": 16,
   "id": "d9c662d2",
   "metadata": {},
   "outputs": [
    {
     "name": "stdout",
     "output_type": "stream",
     "text": [
      "('jack', 23, 1)\n",
      "('jill', 24, 2)\n"
     ]
    }
   ],
   "source": [
    "for i in result:\n",
    "    print(i)"
   ]
  },
  {
   "cell_type": "code",
   "execution_count": 18,
   "id": "e1f7cfa0",
   "metadata": {},
   "outputs": [
    {
     "name": "stdout",
     "output_type": "stream",
     "text": [
      "3 Row records\n"
     ]
    }
   ],
   "source": [
    "cur.execute(\"insert into t1 values('ram',23,3),('robin',58,4),('ravi',59,5)\")\n",
    "db1.commit()\n",
    "\n",
    "print(cur.rowcount,\"Row records\")\n"
   ]
  },
  {
   "cell_type": "code",
   "execution_count": 20,
   "id": "18d80ffe",
   "metadata": {},
   "outputs": [
    {
     "name": "stdout",
     "output_type": "stream",
     "text": [
      "('jack', 23, 1)\n",
      "('jill', 24, 2)\n",
      "('ram', 23, 3)\n",
      "('robin', 58, 4)\n",
      "('ravi', 59, 5)\n",
      "('ram', 23, 3)\n",
      "('robin', 58, 4)\n",
      "('ravi', 59, 5)\n"
     ]
    }
   ],
   "source": [
    "result=cur.execute(\"select * from t1\")\n",
    "\n",
    "for i in result:\n",
    "    print(i)\n"
   ]
  },
  {
   "cell_type": "code",
   "execution_count": 21,
   "id": "8ca6d5c0",
   "metadata": {},
   "outputs": [],
   "source": [
    "import sqlite3"
   ]
  },
  {
   "cell_type": "code",
   "execution_count": 22,
   "id": "3be44f30",
   "metadata": {},
   "outputs": [],
   "source": [
    "# first object calling\n",
    "\n",
    "db=sqlite3.connect(\"newtestdb.db\")"
   ]
  },
  {
   "cell_type": "code",
   "execution_count": 24,
   "id": "6b50dc59",
   "metadata": {},
   "outputs": [],
   "source": [
    "# calling cursor object\n",
    "\n",
    "cur=db.cursor()"
   ]
  },
  {
   "cell_type": "code",
   "execution_count": 26,
   "id": "96622431",
   "metadata": {},
   "outputs": [
    {
     "data": {
      "text/plain": [
       "<sqlite3.Cursor at 0x1f696053730>"
      ]
     },
     "execution_count": 26,
     "metadata": {},
     "output_type": "execute_result"
    }
   ],
   "source": [
    "# table creation\n",
    "cur.execute(\"create table new1(color text, color_code int)\")"
   ]
  },
  {
   "cell_type": "code",
   "execution_count": 27,
   "id": "3f6b1806",
   "metadata": {},
   "outputs": [],
   "source": [
    "# insert values\n",
    "cur.execute(\"insert into new1 values('black',10),('purple',20),('orange',30)\")\n",
    "db.commit()"
   ]
  },
  {
   "cell_type": "code",
   "execution_count": 28,
   "id": "c974d181",
   "metadata": {},
   "outputs": [
    {
     "name": "stdout",
     "output_type": "stream",
     "text": [
      "3 rows\n"
     ]
    }
   ],
   "source": [
    "print(cur.rowcount,'rows')"
   ]
  },
  {
   "cell_type": "code",
   "execution_count": 1,
   "id": "b66c8a5c",
   "metadata": {},
   "outputs": [],
   "source": [
    "import sqlite3"
   ]
  },
  {
   "cell_type": "code",
   "execution_count": 3,
   "id": "276c33f6",
   "metadata": {},
   "outputs": [],
   "source": [
    "db=sqlite3.connect(\"nothernpointdb.db\")"
   ]
  },
  {
   "cell_type": "code",
   "execution_count": 4,
   "id": "39155cea",
   "metadata": {},
   "outputs": [],
   "source": [
    "cur=db.cursor()"
   ]
  },
  {
   "cell_type": "code",
   "execution_count": 5,
   "id": "d5ed3f2a",
   "metadata": {},
   "outputs": [
    {
     "data": {
      "text/plain": [
       "<sqlite3.Cursor at 0x287ec8de8f0>"
      ]
     },
     "execution_count": 5,
     "metadata": {},
     "output_type": "execute_result"
    }
   ],
   "source": [
    "cur.execute(\"create table Schools(Area text,school_code int)\")"
   ]
  },
  {
   "cell_type": "code",
   "execution_count": 7,
   "id": "8b10e7cf",
   "metadata": {},
   "outputs": [],
   "source": [
    "cur.execute(\"insert into schools values('Mgm',124)\")\n",
    "db.commit()"
   ]
  },
  {
   "cell_type": "code",
   "execution_count": 8,
   "id": "f9a8fe19",
   "metadata": {},
   "outputs": [
    {
     "name": "stdout",
     "output_type": "stream",
     "text": [
      "3 rows\n"
     ]
    }
   ],
   "source": [
    "cur.execute(\"insert into schools values('hcs',120),('chimaya',67),('dav',47)\")\n",
    "db.commit()\n",
    "print(cur.rowcount,\"rows\")"
   ]
  },
  {
   "cell_type": "code",
   "execution_count": 10,
   "id": "8c3b9744",
   "metadata": {},
   "outputs": [
    {
     "name": "stdout",
     "output_type": "stream",
     "text": [
      "('Mgm', 124) ('hcs', 120) ('chimaya', 67) ('dav', 47) "
     ]
    }
   ],
   "source": [
    "result=cur.execute(\"select * from Schools\")\n",
    "\n",
    "for i in result:\n",
    "    print(i,end=\" \")"
   ]
  },
  {
   "cell_type": "code",
   "execution_count": 11,
   "id": "7c7f721e",
   "metadata": {},
   "outputs": [
    {
     "name": "stdout",
     "output_type": "stream",
     "text": [
      "('Mgm',)\n",
      "('hcs',)\n",
      "('chimaya',)\n",
      "('dav',)\n"
     ]
    }
   ],
   "source": [
    "results=cur.execute(\"select Area from schools\")\n",
    "\n",
    "for i in results:\n",
    "    print(i)"
   ]
  },
  {
   "cell_type": "code",
   "execution_count": 13,
   "id": "297862b7",
   "metadata": {},
   "outputs": [
    {
     "name": "stdout",
     "output_type": "stream",
     "text": [
      "(124,)\n",
      "(120,)\n",
      "(67,)\n",
      "(47,)\n"
     ]
    }
   ],
   "source": [
    "result=cur.execute(\"select school_code from schools\")\n",
    "\n",
    "for i in results:\n",
    "    print(i)"
   ]
  },
  {
   "cell_type": "code",
   "execution_count": 15,
   "id": "ce4a405a",
   "metadata": {},
   "outputs": [
    {
     "data": {
      "text/plain": [
       "'thank you'"
      ]
     },
     "execution_count": 15,
     "metadata": {},
     "output_type": "execute_result"
    }
   ],
   "source": [
    "\"\"\"thank you\"\"\""
   ]
  }
 ],
 "metadata": {
  "kernelspec": {
   "display_name": "Python 3 (ipykernel)",
   "language": "python",
   "name": "python3"
  },
  "language_info": {
   "codemirror_mode": {
    "name": "ipython",
    "version": 3
   },
   "file_extension": ".py",
   "mimetype": "text/x-python",
   "name": "python",
   "nbconvert_exporter": "python",
   "pygments_lexer": "ipython3",
   "version": "3.9.12"
  }
 },
 "nbformat": 4,
 "nbformat_minor": 5
}
