{
 "cells": [
  {
   "cell_type": "markdown",
   "id": "78d41c09",
   "metadata": {},
   "source": [
    "Variable number of Arguments we can write as (*Args)\n",
    "\n",
    "(*) can be used where you don't know exact number of arguments that can be put to a function"
   ]
  },
  {
   "cell_type": "code",
   "execution_count": 1,
   "id": "0823a27e",
   "metadata": {},
   "outputs": [],
   "source": [
    "def plus (*args):\n",
    "    return sum(args)"
   ]
  },
  {
   "cell_type": "code",
   "execution_count": 3,
   "id": "e019713b",
   "metadata": {},
   "outputs": [
    {
     "data": {
      "text/plain": [
       "57"
      ]
     },
     "execution_count": 3,
     "metadata": {},
     "output_type": "execute_result"
    }
   ],
   "source": [
    "plus(12,45)"
   ]
  },
  {
   "cell_type": "code",
   "execution_count": 4,
   "id": "cbad0eba",
   "metadata": {},
   "outputs": [
    {
     "data": {
      "text/plain": [
       "12"
      ]
     },
     "execution_count": 4,
     "metadata": {},
     "output_type": "execute_result"
    }
   ],
   "source": [
    "plus(9,1,2)"
   ]
  },
  {
   "cell_type": "code",
   "execution_count": 5,
   "id": "58e8333f",
   "metadata": {},
   "outputs": [],
   "source": [
    "# finding Max from (*args) or undefined dATAS\n",
    "\n",
    "def mu(*args):\n",
    "    return max(args)"
   ]
  },
  {
   "cell_type": "code",
   "execution_count": 6,
   "id": "205e0e00",
   "metadata": {},
   "outputs": [
    {
     "data": {
      "text/plain": [
       "6"
      ]
     },
     "execution_count": 6,
     "metadata": {},
     "output_type": "execute_result"
    }
   ],
   "source": [
    "mu(2,4,6)"
   ]
  },
  {
   "cell_type": "code",
   "execution_count": 7,
   "id": "93460cc5",
   "metadata": {},
   "outputs": [
    {
     "data": {
      "text/plain": [
       "90"
      ]
     },
     "execution_count": 7,
     "metadata": {},
     "output_type": "execute_result"
    }
   ],
   "source": [
    "mu(67,89,90)"
   ]
  },
  {
   "cell_type": "code",
   "execution_count": 8,
   "id": "dc50cd1c",
   "metadata": {},
   "outputs": [],
   "source": [
    "def addthree(a,b,c):\n",
    "    result=a+b+c\n",
    "    print(result)"
   ]
  },
  {
   "cell_type": "code",
   "execution_count": 10,
   "id": "bf1c1fbb",
   "metadata": {},
   "outputs": [
    {
     "name": "stdout",
     "output_type": "stream",
     "text": [
      "6\n"
     ]
    }
   ],
   "source": [
    "# after calling addthree a=2,b=1,c=3 are being added\n",
    "addthree(2,1,3)"
   ]
  },
  {
   "cell_type": "code",
   "execution_count": 11,
   "id": "6f717cf7",
   "metadata": {},
   "outputs": [],
   "source": [
    "def addthreenew(a,b,c):\n",
    "    result=a+b+c\n",
    "    return (result)"
   ]
  },
  {
   "cell_type": "code",
   "execution_count": 12,
   "id": "4936e6b3",
   "metadata": {},
   "outputs": [
    {
     "data": {
      "text/plain": [
       "7"
      ]
     },
     "execution_count": 12,
     "metadata": {},
     "output_type": "execute_result"
    }
   ],
   "source": [
    "p=addthreenew(1,2,4)\n",
    "\n",
    "p"
   ]
  },
  {
   "cell_type": "code",
   "execution_count": 13,
   "id": "348a3f0c",
   "metadata": {},
   "outputs": [
    {
     "data": {
      "text/plain": [
       "7"
      ]
     },
     "execution_count": 13,
     "metadata": {},
     "output_type": "execute_result"
    }
   ],
   "source": [
    "p"
   ]
  },
  {
   "cell_type": "markdown",
   "id": "500a508b",
   "metadata": {},
   "source": [
    "user defined function are that are created by the user like addthree, plus as created by me.\n",
    "\n",
    "whereas the pre-assigned function are those that are defined already in python like print(),sum(),int(),max(),min()"
   ]
  },
  {
   "cell_type": "code",
   "execution_count": 25,
   "id": "81ec5639",
   "metadata": {},
   "outputs": [],
   "source": [
    "# for pre- defined\n",
    "\n",
    "def mi(*args):\n",
    "    return min(args)"
   ]
  },
  {
   "cell_type": "code",
   "execution_count": 26,
   "id": "18b69322",
   "metadata": {},
   "outputs": [
    {
     "data": {
      "text/plain": [
       "3"
      ]
     },
     "execution_count": 26,
     "metadata": {},
     "output_type": "execute_result"
    }
   ],
   "source": [
    "mi(3,5,6,8)"
   ]
  },
  {
   "cell_type": "code",
   "execution_count": 27,
   "id": "4aab6da4",
   "metadata": {},
   "outputs": [
    {
     "data": {
      "text/plain": [
       "18"
      ]
     },
     "execution_count": 27,
     "metadata": {},
     "output_type": "execute_result"
    }
   ],
   "source": [
    "# user defined function\n",
    "\n",
    "plus(2,3,6,7)"
   ]
  },
  {
   "cell_type": "code",
   "execution_count": 33,
   "id": "304bb8f9",
   "metadata": {},
   "outputs": [],
   "source": [
    "# for pre defined\n",
    "\n",
    "# green words or (keys) are prefined\n",
    "\n",
    "def maxnew(*args):\n",
    "    return max(*args)"
   ]
  },
  {
   "cell_type": "code",
   "execution_count": 36,
   "id": "90b4da0c",
   "metadata": {},
   "outputs": [],
   "source": [
    "# print max(*args wont work) we can use return"
   ]
  },
  {
   "cell_type": "code",
   "execution_count": 35,
   "id": "75f79249",
   "metadata": {},
   "outputs": [
    {
     "data": {
      "text/plain": [
       "90"
      ]
     },
     "execution_count": 35,
     "metadata": {},
     "output_type": "execute_result"
    }
   ],
   "source": [
    "maxnew(67,90,21)"
   ]
  },
  {
   "cell_type": "code",
   "execution_count": 34,
   "id": "3bffbe78",
   "metadata": {},
   "outputs": [
    {
     "data": {
      "text/plain": [
       "89"
      ]
     },
     "execution_count": 34,
     "metadata": {},
     "output_type": "execute_result"
    }
   ],
   "source": [
    "maxnew(23,34,89)"
   ]
  },
  {
   "cell_type": "markdown",
   "id": "00551f6a",
   "metadata": {},
   "source": [
    "HOW DO MACHINE CALCULATE THE FUNCTION\n",
    "def sumfunction(*numbers)\n",
    "    \n",
    "    s=s+n\n",
    "    s=0+1(1st number)\n",
    "    \n",
    "    now s=1\n",
    "    \n",
    "    s=s+n\n",
    "    s=1+2(2nd number)\n",
    "    \n",
    "    now s=3(you got result 3 on 54)\n",
    "    \n",
    "same on 57\n",
    "    \n",
    "now s=3\n",
    "\n",
    "s=s+n\n",
    "s=3+3\n",
    "s=6\n",
    "hence the result is 6\n",
    "\n",
    "\n"
   ]
  },
  {
   "cell_type": "code",
   "execution_count": 53,
   "id": "9c0cbf82",
   "metadata": {},
   "outputs": [],
   "source": [
    "#s=s+n     FOR s+=n\n",
    "\n",
    "def sumfunc(*numbers):\n",
    "    s=0\n",
    "    for n in numbers:\n",
    "        s+=n \n",
    "    return s "
   ]
  },
  {
   "cell_type": "code",
   "execution_count": 54,
   "id": "ead40f97",
   "metadata": {},
   "outputs": [
    {
     "name": "stdout",
     "output_type": "stream",
     "text": [
      "3\n"
     ]
    }
   ],
   "source": [
    "print(sumfunc(1,2))"
   ]
  },
  {
   "cell_type": "code",
   "execution_count": 57,
   "id": "38bce8de",
   "metadata": {},
   "outputs": [
    {
     "data": {
      "text/plain": [
       "6"
      ]
     },
     "execution_count": 57,
     "metadata": {},
     "output_type": "execute_result"
    }
   ],
   "source": [
    "sumfunc(1,2,3)"
   ]
  },
  {
   "cell_type": "code",
   "execution_count": 56,
   "id": "ea984107",
   "metadata": {},
   "outputs": [
    {
     "name": "stdout",
     "output_type": "stream",
     "text": [
      "6\n"
     ]
    }
   ],
   "source": [
    "print(sumfunc(3,1,2))"
   ]
  },
  {
   "cell_type": "markdown",
   "id": "9440d1f3",
   "metadata": {},
   "source": [
    "Functions: LAMBDA "
   ]
  },
  {
   "cell_type": "markdown",
   "id": "a8c7cb8e",
   "metadata": {},
   "source": [
    "Lambda expression can be stored on variable\n",
    "\n",
    "variable=lambda expressions\n",
    "\n",
    "it consist of:\n",
    "    \n",
    "the keyword : lambda\n",
    "\n",
    "A bound variable: x\n",
    "\n",
    "A body x*2\n",
    "\n",
    "How to write the formula\n",
    "\n",
    "#variable= lambda x,y:x+y\n",
    "\n",
    "#variable(,)"
   ]
  },
  {
   "cell_type": "code",
   "execution_count": 2,
   "id": "fc4c437a",
   "metadata": {},
   "outputs": [
    {
     "data": {
      "text/plain": [
       "10"
      ]
     },
     "execution_count": 2,
     "metadata": {},
     "output_type": "execute_result"
    }
   ],
   "source": [
    "test= lambda x:x*2\n",
    "test (5)"
   ]
  },
  {
   "cell_type": "code",
   "execution_count": 3,
   "id": "7aaac18f",
   "metadata": {},
   "outputs": [
    {
     "data": {
      "text/plain": [
       "10"
      ]
     },
     "execution_count": 3,
     "metadata": {},
     "output_type": "execute_result"
    }
   ],
   "source": [
    "m=lambda x,y,z:x+y+z\n",
    "m(2,3,5)"
   ]
  },
  {
   "cell_type": "code",
   "execution_count": 4,
   "id": "3df50b7f",
   "metadata": {},
   "outputs": [
    {
     "data": {
      "text/plain": [
       "25"
      ]
     },
     "execution_count": 4,
     "metadata": {},
     "output_type": "execute_result"
    }
   ],
   "source": [
    "#find square\n",
    "\n",
    "square= lambda x:x**2\n",
    "square(5)\n"
   ]
  },
  {
   "cell_type": "code",
   "execution_count": 6,
   "id": "8e2776cb",
   "metadata": {},
   "outputs": [
    {
     "data": {
      "text/plain": [
       "5"
      ]
     },
     "execution_count": 6,
     "metadata": {},
     "output_type": "execute_result"
    }
   ],
   "source": [
    "testadd= lambda x,y:x+y\n",
    "testadd(2,3)"
   ]
  },
  {
   "cell_type": "code",
   "execution_count": 7,
   "id": "239338ae",
   "metadata": {},
   "outputs": [
    {
     "data": {
      "text/plain": [
       "10.5"
      ]
     },
     "execution_count": 7,
     "metadata": {},
     "output_type": "execute_result"
    }
   ],
   "source": [
    "m=lambda x,y,z: x+y/z\n",
    "m(10,2,4)"
   ]
  },
  {
   "cell_type": "code",
   "execution_count": 9,
   "id": "bb1daeee",
   "metadata": {},
   "outputs": [
    {
     "data": {
      "text/plain": [
       "8.0"
      ]
     },
     "execution_count": 9,
     "metadata": {},
     "output_type": "execute_result"
    }
   ],
   "source": [
    "#find squareroot\n",
    "\n",
    "\n",
    "sqroot=lambda x:x**(1/2)\n",
    "sqroot(64)"
   ]
  },
  {
   "cell_type": "code",
   "execution_count": 10,
   "id": "058bfaff",
   "metadata": {},
   "outputs": [
    {
     "data": {
      "text/plain": [
       "5.0"
      ]
     },
     "execution_count": 10,
     "metadata": {},
     "output_type": "execute_result"
    }
   ],
   "source": [
    "sqroot(25)"
   ]
  },
  {
   "cell_type": "code",
   "execution_count": 11,
   "id": "563c5d55",
   "metadata": {},
   "outputs": [
    {
     "data": {
      "text/plain": [
       "27"
      ]
     },
     "execution_count": 11,
     "metadata": {},
     "output_type": "execute_result"
    }
   ],
   "source": [
    "#find cube\n",
    "\n",
    "cube=lambda x:x**3\n",
    "cube(3)"
   ]
  },
  {
   "cell_type": "code",
   "execution_count": 12,
   "id": "ba0a35a3",
   "metadata": {},
   "outputs": [
    {
     "data": {
      "text/plain": [
       "3.0"
      ]
     },
     "execution_count": 12,
     "metadata": {},
     "output_type": "execute_result"
    }
   ],
   "source": [
    "# find cubroot\n",
    "\n",
    "cuberoot=lambda x:x**(1/3)\n",
    "cuberoot(27)"
   ]
  },
  {
   "cell_type": "code",
   "execution_count": 13,
   "id": "dbec5a59",
   "metadata": {},
   "outputs": [
    {
     "name": "stdout",
     "output_type": "stream",
     "text": [
      "Value of total : 15\n",
      "value of 2nd value : 12\n"
     ]
    }
   ],
   "source": [
    "# add var is add variable name taken, arg1,arg2 taken in x,y\n",
    "\n",
    "addvar=lambda arg1,arg2: arg1+arg2\n",
    "print(\"Value of total :\" ,addvar(5,10))\n",
    "print(\"value of 2nd value :\",addvar(10,2))\n"
   ]
  },
  {
   "cell_type": "markdown",
   "id": "2c68eaa8",
   "metadata": {},
   "source": [
    "CONVERT TEMPERATURE IN FAHRENHEIT"
   ]
  },
  {
   "cell_type": "code",
   "execution_count": 20,
   "id": "b4088591",
   "metadata": {},
   "outputs": [],
   "source": [
    "def fahrenheit(T):\n",
    "    return((9/5)*T +32)\n",
    "\n",
    "# formula to change fahrenheit to celsius is(9/5 into  temp + 32)"
   ]
  },
  {
   "cell_type": "code",
   "execution_count": 21,
   "id": "fcc957a3",
   "metadata": {},
   "outputs": [
    {
     "data": {
      "text/plain": [
       "95.0"
      ]
     },
     "execution_count": 21,
     "metadata": {},
     "output_type": "execute_result"
    }
   ],
   "source": [
    "f=fahrenheit(35)\n",
    "f"
   ]
  },
  {
   "cell_type": "code",
   "execution_count": 25,
   "id": "876fa485",
   "metadata": {},
   "outputs": [],
   "source": [
    "def celsius(T):\n",
    "    \n",
    "    return((5/9)*(T-32))\n",
    "\n",
    "# formula to change celsius to fahrenheit is ((5/9) *(Temperature-32))"
   ]
  },
  {
   "cell_type": "code",
   "execution_count": 26,
   "id": "6bacd8ce",
   "metadata": {},
   "outputs": [
    {
     "data": {
      "text/plain": [
       "35.0"
      ]
     },
     "execution_count": 26,
     "metadata": {},
     "output_type": "execute_result"
    }
   ],
   "source": [
    "celsius(95)"
   ]
  },
  {
   "cell_type": "code",
   "execution_count": 29,
   "id": "6b2d3e52",
   "metadata": {},
   "outputs": [
    {
     "data": {
      "text/plain": [
       "95.0"
      ]
     },
     "execution_count": 29,
     "metadata": {},
     "output_type": "execute_result"
    }
   ],
   "source": [
    "# lambda function with fahrenheit \n",
    "\n",
    "F=lambda x: (9/5)*x +32;\n",
    "\n",
    "F(35)"
   ]
  },
  {
   "cell_type": "code",
   "execution_count": 30,
   "id": "8e43c1de",
   "metadata": {},
   "outputs": [
    {
     "data": {
      "text/plain": [
       "35.0"
      ]
     },
     "execution_count": 30,
     "metadata": {},
     "output_type": "execute_result"
    }
   ],
   "source": [
    "C= lambda x: (5/9)*(x-32);\n",
    "C(95)"
   ]
  },
  {
   "cell_type": "markdown",
   "id": "0c65de2b",
   "metadata": {},
   "source": [
    "MAP IN LAMBDA-------> IT APPLIES ON LIST"
   ]
  },
  {
   "cell_type": "code",
   "execution_count": null,
   "id": "882447ef",
   "metadata": {},
   "outputs": [],
   "source": []
  }
 ],
 "metadata": {
  "kernelspec": {
   "display_name": "Python 3 (ipykernel)",
   "language": "python",
   "name": "python3"
  },
  "language_info": {
   "codemirror_mode": {
    "name": "ipython",
    "version": 3
   },
   "file_extension": ".py",
   "mimetype": "text/x-python",
   "name": "python",
   "nbconvert_exporter": "python",
   "pygments_lexer": "ipython3",
   "version": "3.9.12"
  }
 },
 "nbformat": 4,
 "nbformat_minor": 5
}
