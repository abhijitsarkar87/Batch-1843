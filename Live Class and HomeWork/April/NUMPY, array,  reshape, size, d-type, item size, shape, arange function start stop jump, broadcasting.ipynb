{
 "cells": [
  {
   "cell_type": "markdown",
   "id": "1b4ae003",
   "metadata": {},
   "source": [
    "# NUMPY-- Numerical Python"
   ]
  },
  {
   "cell_type": "markdown",
   "id": "a8b51424",
   "metadata": {},
   "source": [
    "\"Numpy is a Python package, It stands for Numerical Python,It consist of numerical pythons\""
   ]
  },
  {
   "cell_type": "code",
   "execution_count": 4,
   "id": "84170be3",
   "metadata": {},
   "outputs": [],
   "source": [
    "# calling numpy Library\n",
    "\n",
    "import numpy"
   ]
  },
  {
   "cell_type": "code",
   "execution_count": 5,
   "id": "7d3cda9b",
   "metadata": {},
   "outputs": [
    {
     "data": {
      "text/plain": [
       "array([1, 2, 3, 4, 5])"
      ]
     },
     "execution_count": 5,
     "metadata": {},
     "output_type": "execute_result"
    }
   ],
   "source": [
    "# array is a continues memory location [1],[2],[3],[4],[5]\n",
    "\n",
    "numpy.array([1,2,3,4,5])"
   ]
  },
  {
   "cell_type": "code",
   "execution_count": 4,
   "id": "36b3b8ba",
   "metadata": {},
   "outputs": [
    {
     "data": {
      "text/plain": [
       "array([11, 12, 13, 14, 15])"
      ]
     },
     "execution_count": 4,
     "metadata": {},
     "output_type": "execute_result"
    }
   ],
   "source": [
    "# array is a continues memory location [11],[12],[13],[14],[15]\n",
    "\n",
    "numpy.array([11,12,13,14,15])"
   ]
  },
  {
   "cell_type": "code",
   "execution_count": 6,
   "id": "a5935d2e",
   "metadata": {},
   "outputs": [],
   "source": [
    "a=numpy.array([11,12,14,15,18])\n"
   ]
  },
  {
   "cell_type": "code",
   "execution_count": 7,
   "id": "19f297a2",
   "metadata": {},
   "outputs": [
    {
     "data": {
      "text/plain": [
       "array([11, 12, 14, 15, 18])"
      ]
     },
     "execution_count": 7,
     "metadata": {},
     "output_type": "execute_result"
    }
   ],
   "source": [
    "a"
   ]
  },
  {
   "cell_type": "code",
   "execution_count": 8,
   "id": "3bcd5a45",
   "metadata": {},
   "outputs": [],
   "source": [
    "b=numpy.array([90,30,40,89,2,15])"
   ]
  },
  {
   "cell_type": "code",
   "execution_count": 9,
   "id": "1c7cbafa",
   "metadata": {},
   "outputs": [
    {
     "data": {
      "text/plain": [
       "array([90, 30, 40, 89,  2, 15])"
      ]
     },
     "execution_count": 9,
     "metadata": {},
     "output_type": "execute_result"
    }
   ],
   "source": [
    "b"
   ]
  },
  {
   "cell_type": "code",
   "execution_count": 10,
   "id": "2596a806",
   "metadata": {},
   "outputs": [],
   "source": [
    "import numpy as np"
   ]
  },
  {
   "cell_type": "code",
   "execution_count": 12,
   "id": "095d29de",
   "metadata": {},
   "outputs": [],
   "source": [
    "a=np.array([1,12,13,115,199])"
   ]
  },
  {
   "cell_type": "code",
   "execution_count": 14,
   "id": "f1cc391e",
   "metadata": {},
   "outputs": [
    {
     "data": {
      "text/plain": [
       "array([  1,  12,  13, 115, 199])"
      ]
     },
     "execution_count": 14,
     "metadata": {},
     "output_type": "execute_result"
    }
   ],
   "source": [
    "a"
   ]
  },
  {
   "cell_type": "code",
   "execution_count": 15,
   "id": "2276d532",
   "metadata": {},
   "outputs": [
    {
     "data": {
      "text/plain": [
       "array([13, 16, 76, 98])"
      ]
     },
     "execution_count": 15,
     "metadata": {},
     "output_type": "execute_result"
    }
   ],
   "source": [
    "b=np.array([13,16,76,98])\n",
    "\n",
    "b"
   ]
  },
  {
   "cell_type": "code",
   "execution_count": 16,
   "id": "81d22035",
   "metadata": {},
   "outputs": [
    {
     "data": {
      "text/plain": [
       "5"
      ]
     },
     "execution_count": 16,
     "metadata": {},
     "output_type": "execute_result"
    }
   ],
   "source": [
    "# a.size will tell us the size of elements in (a)\n",
    "\n",
    "a.size"
   ]
  },
  {
   "cell_type": "code",
   "execution_count": 22,
   "id": "aff4215f",
   "metadata": {},
   "outputs": [
    {
     "data": {
      "text/plain": [
       "4"
      ]
     },
     "execution_count": 22,
     "metadata": {},
     "output_type": "execute_result"
    }
   ],
   "source": [
    "#checking elements in b\n",
    "\n",
    "b.size"
   ]
  },
  {
   "cell_type": "code",
   "execution_count": 23,
   "id": "ad7dbe1d",
   "metadata": {},
   "outputs": [
    {
     "name": "stdout",
     "output_type": "stream",
     "text": [
      "(5,)\n"
     ]
    },
    {
     "data": {
      "text/plain": [
       "'showing a 1 dimension data or a vector data'"
      ]
     },
     "execution_count": 23,
     "metadata": {},
     "output_type": "execute_result"
    }
   ],
   "source": [
    "# checking shape of a\n",
    "\n",
    "print(a.shape)\n",
    "\n",
    "\"showing a 1 dimension data or a vector data\"\n"
   ]
  },
  {
   "cell_type": "code",
   "execution_count": 25,
   "id": "d029fa5d",
   "metadata": {},
   "outputs": [
    {
     "name": "stdout",
     "output_type": "stream",
     "text": [
      "(4,)\n"
     ]
    },
    {
     "data": {
      "text/plain": [
       "'b.shape is showing 1 dimension data or a vector data '"
      ]
     },
     "execution_count": 25,
     "metadata": {},
     "output_type": "execute_result"
    }
   ],
   "source": [
    "print(b.shape)\n",
    "\n",
    "\"b.shape is showing 1 dimension data or a vector data \""
   ]
  },
  {
   "cell_type": "markdown",
   "id": "5776eb89",
   "metadata": {},
   "source": [
    "# WORKING WITH 2 DIMENSION DATA "
   ]
  },
  {
   "cell_type": "code",
   "execution_count": 26,
   "id": "32276d09",
   "metadata": {},
   "outputs": [],
   "source": [
    "#CREATING TWO DIMENSION DATA \n",
    "\n",
    "# C= NP.ARRAY([ROW1[COLUMN1,COLUMN2],ROW2[COLOUMN1,COLOUMN2]])\n",
    "\n",
    "C=np.array([[1,2],[3,4]])\n"
   ]
  },
  {
   "cell_type": "code",
   "execution_count": 27,
   "id": "874032e4",
   "metadata": {},
   "outputs": [
    {
     "data": {
      "text/plain": [
       "array([[1, 2],\n",
       "       [3, 4]])"
      ]
     },
     "execution_count": 27,
     "metadata": {},
     "output_type": "execute_result"
    }
   ],
   "source": [
    "C"
   ]
  },
  {
   "cell_type": "code",
   "execution_count": 30,
   "id": "203a6b6b",
   "metadata": {},
   "outputs": [
    {
     "name": "stdout",
     "output_type": "stream",
     "text": [
      "(2, 2)\n"
     ]
    },
    {
     "data": {
      "text/plain": [
       "'Here C.shape showing us 2 dimension data'"
      ]
     },
     "execution_count": 30,
     "metadata": {},
     "output_type": "execute_result"
    }
   ],
   "source": [
    "print(C.shape)\n",
    "\n",
    "\"Here C.shape showing us 2 dimension data\""
   ]
  },
  {
   "cell_type": "code",
   "execution_count": 33,
   "id": "4e6745a5",
   "metadata": {},
   "outputs": [],
   "source": [
    "d=np.array([[3,6],[19,91]])"
   ]
  },
  {
   "cell_type": "code",
   "execution_count": 34,
   "id": "0554cd90",
   "metadata": {},
   "outputs": [
    {
     "name": "stdout",
     "output_type": "stream",
     "text": [
      "(2, 2) dimension\n",
      "4 size\n"
     ]
    }
   ],
   "source": [
    "print(d.shape,\"dimension\")\n",
    "print(d.size,\"size\")"
   ]
  },
  {
   "cell_type": "code",
   "execution_count": 6,
   "id": "0be19ad3",
   "metadata": {},
   "outputs": [
    {
     "name": "stdout",
     "output_type": "stream",
     "text": [
      "6 size of the elements\n",
      "(2, 3) shape of the data\n"
     ]
    }
   ],
   "source": [
    "f=np.array([[12,13,14],[15,16,18]])\n",
    "print(f.size,'size of the elements')\n",
    "print(f.shape,'shape of the data')"
   ]
  },
  {
   "cell_type": "code",
   "execution_count": 8,
   "id": "412adfa9",
   "metadata": {},
   "outputs": [
    {
     "data": {
      "text/plain": [
       "array([[ 1,  2,  3,  4],\n",
       "       [ 5,  6,  7,  8],\n",
       "       [ 9, 10, 11, 12],\n",
       "       [13, 14, 15, 16]])"
      ]
     },
     "execution_count": 8,
     "metadata": {},
     "output_type": "execute_result"
    }
   ],
   "source": [
    "fi=np.array([[1,2,3,4],[5,6,7,8],[9,10,11,12],[13,14,15,16]])\n",
    "fi"
   ]
  },
  {
   "cell_type": "code",
   "execution_count": 10,
   "id": "f40f0e75",
   "metadata": {},
   "outputs": [
    {
     "data": {
      "text/plain": [
       "16"
      ]
     },
     "execution_count": 10,
     "metadata": {},
     "output_type": "execute_result"
    }
   ],
   "source": [
    "fi.size"
   ]
  },
  {
   "cell_type": "code",
   "execution_count": 11,
   "id": "5765b809",
   "metadata": {},
   "outputs": [
    {
     "data": {
      "text/plain": [
       "(4, 4)"
      ]
     },
     "execution_count": 11,
     "metadata": {},
     "output_type": "execute_result"
    }
   ],
   "source": [
    "fi.shape"
   ]
  },
  {
   "cell_type": "code",
   "execution_count": 16,
   "id": "1302136e",
   "metadata": {},
   "outputs": [
    {
     "data": {
      "text/plain": [
       "array([[1, 2, 3],\n",
       "       [4, 5, 6],\n",
       "       [7, 8, 9]])"
      ]
     },
     "execution_count": 16,
     "metadata": {},
     "output_type": "execute_result"
    }
   ],
   "source": [
    "h=np.array([[1,2,3],[4,5,6],[7,8,9]])\n",
    "h"
   ]
  },
  {
   "cell_type": "code",
   "execution_count": 17,
   "id": "84763265",
   "metadata": {},
   "outputs": [
    {
     "data": {
      "text/plain": [
       "9"
      ]
     },
     "execution_count": 17,
     "metadata": {},
     "output_type": "execute_result"
    }
   ],
   "source": [
    "h.size"
   ]
  },
  {
   "cell_type": "code",
   "execution_count": 18,
   "id": "c9a35fde",
   "metadata": {},
   "outputs": [
    {
     "data": {
      "text/plain": [
       "(3, 3)"
      ]
     },
     "execution_count": 18,
     "metadata": {},
     "output_type": "execute_result"
    }
   ],
   "source": [
    "h.shape"
   ]
  },
  {
   "cell_type": "markdown",
   "id": "b757936c",
   "metadata": {},
   "source": [
    "RE-SHAPE METHORD"
   ]
  },
  {
   "cell_type": "code",
   "execution_count": 20,
   "id": "ea3ced41",
   "metadata": {},
   "outputs": [],
   "source": [
    "# we can re-shape the content,if it is [4rows,3column]then we change it[3rows,4column]"
   ]
  },
  {
   "cell_type": "code",
   "execution_count": 21,
   "id": "b747df5d",
   "metadata": {},
   "outputs": [
    {
     "data": {
      "text/plain": [
       "array([[ 1,  2,  3],\n",
       "       [ 4,  5,  6],\n",
       "       [ 7,  8,  9],\n",
       "       [10, 11, 12]])"
      ]
     },
     "execution_count": 21,
     "metadata": {},
     "output_type": "execute_result"
    }
   ],
   "source": [
    "o=np.array([[1,2,3],[4,5,6],[7,8,9],[10,11,12]])\n",
    "o"
   ]
  },
  {
   "cell_type": "code",
   "execution_count": 22,
   "id": "81fbca7d",
   "metadata": {},
   "outputs": [
    {
     "data": {
      "text/plain": [
       "12"
      ]
     },
     "execution_count": 22,
     "metadata": {},
     "output_type": "execute_result"
    }
   ],
   "source": [
    "# checking the size\n",
    "\n",
    "o.size"
   ]
  },
  {
   "cell_type": "code",
   "execution_count": 23,
   "id": "281391f9",
   "metadata": {},
   "outputs": [
    {
     "data": {
      "text/plain": [
       "(4, 3)"
      ]
     },
     "execution_count": 23,
     "metadata": {},
     "output_type": "execute_result"
    }
   ],
   "source": [
    "# checking the shape\n",
    "\n",
    "o.shape"
   ]
  },
  {
   "cell_type": "code",
   "execution_count": 26,
   "id": "d0dbacad",
   "metadata": {},
   "outputs": [
    {
     "data": {
      "text/plain": [
       "array([[ 1,  2,  3,  4],\n",
       "       [ 5,  6,  7,  8],\n",
       "       [ 9, 10, 11, 12]])"
      ]
     },
     "execution_count": 26,
     "metadata": {},
     "output_type": "execute_result"
    }
   ],
   "source": [
    "# changing the size of the variable o, now the elements are in 3row,4column\n",
    "o.reshape(3,4)"
   ]
  },
  {
   "cell_type": "code",
   "execution_count": 27,
   "id": "f188773e",
   "metadata": {},
   "outputs": [
    {
     "data": {
      "text/plain": [
       "array([[ 1,  2,  3,  4,  5,  6],\n",
       "       [ 7,  8,  9, 10, 11, 12]])"
      ]
     },
     "execution_count": 27,
     "metadata": {},
     "output_type": "execute_result"
    }
   ],
   "source": [
    "# changing the size of the variable o, now the elements are in 2rows, 6 column\n",
    "\n",
    "o.reshape(2,6)"
   ]
  },
  {
   "cell_type": "code",
   "execution_count": 28,
   "id": "c6c85efc",
   "metadata": {},
   "outputs": [
    {
     "data": {
      "text/plain": [
       "12"
      ]
     },
     "execution_count": 28,
     "metadata": {},
     "output_type": "execute_result"
    }
   ],
   "source": [
    "# finding maximum from o by maximum function\n",
    "\n",
    "o.max()"
   ]
  },
  {
   "cell_type": "code",
   "execution_count": 29,
   "id": "edf0e0b1",
   "metadata": {},
   "outputs": [
    {
     "data": {
      "text/plain": [
       "1"
      ]
     },
     "execution_count": 29,
     "metadata": {},
     "output_type": "execute_result"
    }
   ],
   "source": [
    "# finding minimum from o by minimum function\n",
    "\n",
    "o.min()"
   ]
  },
  {
   "cell_type": "code",
   "execution_count": 30,
   "id": "f46bcea1",
   "metadata": {},
   "outputs": [
    {
     "data": {
      "text/plain": [
       "dtype('int32')"
      ]
     },
     "execution_count": 30,
     "metadata": {},
     "output_type": "execute_result"
    }
   ],
   "source": [
    "# finding data type from o variable by dtype \n",
    "\n",
    "o.dtype"
   ]
  },
  {
   "cell_type": "code",
   "execution_count": 31,
   "id": "3768783e",
   "metadata": {},
   "outputs": [
    {
     "data": {
      "text/plain": [
       "4"
      ]
     },
     "execution_count": 31,
     "metadata": {},
     "output_type": "execute_result"
    }
   ],
   "source": [
    "# this says that one elements contains 4 bytes\n",
    "\n",
    "o.itemsize"
   ]
  },
  {
   "cell_type": "code",
   "execution_count": 32,
   "id": "9db32816",
   "metadata": {},
   "outputs": [
    {
     "data": {
      "text/plain": [
       "12"
      ]
     },
     "execution_count": 32,
     "metadata": {},
     "output_type": "execute_result"
    }
   ],
   "source": [
    "o.size"
   ]
  },
  {
   "cell_type": "code",
   "execution_count": 33,
   "id": "20e82071",
   "metadata": {},
   "outputs": [
    {
     "data": {
      "text/plain": [
       "<memory at 0x000002743E7DF5F0>"
      ]
     },
     "execution_count": 33,
     "metadata": {},
     "output_type": "execute_result"
    }
   ],
   "source": [
    "# to check which memory location it is \n",
    "\n",
    "o.data"
   ]
  },
  {
   "cell_type": "markdown",
   "id": "987fa906",
   "metadata": {},
   "source": [
    "# ARANGE FUNCTION"
   ]
  },
  {
   "cell_type": "code",
   "execution_count": 34,
   "id": "7f1a8536",
   "metadata": {},
   "outputs": [],
   "source": [
    "o=np.arange(6)"
   ]
  },
  {
   "cell_type": "code",
   "execution_count": 35,
   "id": "b369463d",
   "metadata": {},
   "outputs": [
    {
     "data": {
      "text/plain": [
       "array([0, 1, 2, 3, 4, 5])"
      ]
     },
     "execution_count": 35,
     "metadata": {},
     "output_type": "execute_result"
    }
   ],
   "source": [
    "o"
   ]
  },
  {
   "cell_type": "code",
   "execution_count": 38,
   "id": "a849b2d8",
   "metadata": {},
   "outputs": [],
   "source": [
    "op=np.arange(10)"
   ]
  },
  {
   "cell_type": "code",
   "execution_count": 39,
   "id": "8619e478",
   "metadata": {},
   "outputs": [
    {
     "data": {
      "text/plain": [
       "array([0, 1, 2, 3, 4, 5, 6, 7, 8, 9])"
      ]
     },
     "execution_count": 39,
     "metadata": {},
     "output_type": "execute_result"
    }
   ],
   "source": [
    "op"
   ]
  },
  {
   "cell_type": "code",
   "execution_count": 41,
   "id": "e33dcf67",
   "metadata": {},
   "outputs": [],
   "source": [
    "# reshape o into 2rows and 3 columns\n",
    "\n",
    "a=o.reshape(2,3)"
   ]
  },
  {
   "cell_type": "code",
   "execution_count": 42,
   "id": "3d2a5f68",
   "metadata": {},
   "outputs": [
    {
     "data": {
      "text/plain": [
       "array([[0, 1, 2],\n",
       "       [3, 4, 5]])"
      ]
     },
     "execution_count": 42,
     "metadata": {},
     "output_type": "execute_result"
    }
   ],
   "source": [
    "a"
   ]
  },
  {
   "cell_type": "code",
   "execution_count": 43,
   "id": "1ffc3024",
   "metadata": {},
   "outputs": [],
   "source": [
    "x=np.arange(15)"
   ]
  },
  {
   "cell_type": "code",
   "execution_count": 44,
   "id": "a4dc7030",
   "metadata": {},
   "outputs": [
    {
     "data": {
      "text/plain": [
       "array([ 0,  1,  2,  3,  4,  5,  6,  7,  8,  9, 10, 11, 12, 13, 14])"
      ]
     },
     "execution_count": 44,
     "metadata": {},
     "output_type": "execute_result"
    }
   ],
   "source": [
    "x"
   ]
  },
  {
   "cell_type": "code",
   "execution_count": 48,
   "id": "3232b0d8",
   "metadata": {},
   "outputs": [],
   "source": [
    "# making new variable output from x and breaking x into 3 rows 5 columns\n",
    "\n",
    "output=x.reshape(3,5)"
   ]
  },
  {
   "cell_type": "code",
   "execution_count": 46,
   "id": "27241b87",
   "metadata": {},
   "outputs": [
    {
     "data": {
      "text/plain": [
       "array([[ 0,  1,  2,  3,  4],\n",
       "       [ 5,  6,  7,  8,  9],\n",
       "       [10, 11, 12, 13, 14]])"
      ]
     },
     "execution_count": 46,
     "metadata": {},
     "output_type": "execute_result"
    }
   ],
   "source": [
    "#checking output of output\n",
    "\n",
    "output"
   ]
  },
  {
   "cell_type": "code",
   "execution_count": 47,
   "id": "e430d2cf",
   "metadata": {},
   "outputs": [
    {
     "data": {
      "text/plain": [
       "array([[ 0,  1,  2],\n",
       "       [ 3,  4,  5],\n",
       "       [ 6,  7,  8],\n",
       "       [ 9, 10, 11],\n",
       "       [12, 13, 14]])"
      ]
     },
     "execution_count": 47,
     "metadata": {},
     "output_type": "execute_result"
    }
   ],
   "source": [
    "output.reshape(5,3)"
   ]
  },
  {
   "cell_type": "code",
   "execution_count": 55,
   "id": "f57755ca",
   "metadata": {},
   "outputs": [],
   "source": [
    "a=np.arange(21)"
   ]
  },
  {
   "cell_type": "code",
   "execution_count": 50,
   "id": "889f3d35",
   "metadata": {},
   "outputs": [],
   "source": [
    "e=a.reshape(3,7)"
   ]
  },
  {
   "cell_type": "code",
   "execution_count": 56,
   "id": "d7409e2f",
   "metadata": {},
   "outputs": [
    {
     "data": {
      "text/plain": [
       "array([[ 0,  1,  2,  3,  4,  5,  6],\n",
       "       [ 7,  8,  9, 10, 11, 12, 13],\n",
       "       [14, 15, 16, 17, 18, 19, 20]])"
      ]
     },
     "execution_count": 56,
     "metadata": {},
     "output_type": "execute_result"
    }
   ],
   "source": [
    "e"
   ]
  },
  {
   "cell_type": "code",
   "execution_count": 59,
   "id": "7f3fa50f",
   "metadata": {},
   "outputs": [],
   "source": [
    "a=np.array([[1,2],[3,4],[5,6]],dtype='float64')"
   ]
  },
  {
   "cell_type": "code",
   "execution_count": 60,
   "id": "57a71a06",
   "metadata": {},
   "outputs": [
    {
     "data": {
      "text/plain": [
       "array([[1., 2.],\n",
       "       [3., 4.],\n",
       "       [5., 6.]])"
      ]
     },
     "execution_count": 60,
     "metadata": {},
     "output_type": "execute_result"
    }
   ],
   "source": [
    "a"
   ]
  },
  {
   "cell_type": "code",
   "execution_count": 61,
   "id": "c05bc330",
   "metadata": {},
   "outputs": [
    {
     "data": {
      "text/plain": [
       "array([[1., 2., 3.],\n",
       "       [4., 5., 6.]])"
      ]
     },
     "execution_count": 61,
     "metadata": {},
     "output_type": "execute_result"
    }
   ],
   "source": [
    "a.reshape(2,3)"
   ]
  },
  {
   "cell_type": "code",
   "execution_count": 62,
   "id": "744a5b72",
   "metadata": {},
   "outputs": [
    {
     "data": {
      "text/plain": [
       "dtype('float64')"
      ]
     },
     "execution_count": 62,
     "metadata": {},
     "output_type": "execute_result"
    }
   ],
   "source": [
    "# checking data type of a\n",
    "\n",
    "a.dtype"
   ]
  },
  {
   "cell_type": "code",
   "execution_count": 63,
   "id": "6eef0b0f",
   "metadata": {},
   "outputs": [
    {
     "data": {
      "text/plain": [
       "(3, 2)"
      ]
     },
     "execution_count": 63,
     "metadata": {},
     "output_type": "execute_result"
    }
   ],
   "source": [
    "# checking dimension()\n",
    "a.shape"
   ]
  },
  {
   "cell_type": "code",
   "execution_count": 64,
   "id": "06a9284c",
   "metadata": {},
   "outputs": [
    {
     "data": {
      "text/plain": [
       "6"
      ]
     },
     "execution_count": 64,
     "metadata": {},
     "output_type": "execute_result"
    }
   ],
   "source": [
    "# checking size\n",
    "a.size"
   ]
  },
  {
   "cell_type": "code",
   "execution_count": 65,
   "id": "47f76dd6",
   "metadata": {},
   "outputs": [
    {
     "data": {
      "text/plain": [
       "8"
      ]
     },
     "execution_count": 65,
     "metadata": {},
     "output_type": "execute_result"
    }
   ],
   "source": [
    "# checking bytes consumed by per elements in variable a \n",
    "a.itemsize"
   ]
  },
  {
   "cell_type": "code",
   "execution_count": 66,
   "id": "0853c810",
   "metadata": {},
   "outputs": [
    {
     "data": {
      "text/plain": [
       "2"
      ]
     },
     "execution_count": 66,
     "metadata": {},
     "output_type": "execute_result"
    }
   ],
   "source": [
    "#will update the dimension of the file(01 is rows, 2nd is columns)\n",
    "a.ndim"
   ]
  },
  {
   "cell_type": "code",
   "execution_count": 67,
   "id": "ab8595da",
   "metadata": {},
   "outputs": [
    {
     "data": {
      "text/plain": [
       "array([[1., 2.],\n",
       "       [3., 4.],\n",
       "       [5., 6.]])"
      ]
     },
     "execution_count": 67,
     "metadata": {},
     "output_type": "execute_result"
    }
   ],
   "source": [
    "a"
   ]
  },
  {
   "cell_type": "code",
   "execution_count": 68,
   "id": "379b2e6a",
   "metadata": {},
   "outputs": [
    {
     "data": {
      "text/plain": [
       "(3, 2)"
      ]
     },
     "execution_count": 68,
     "metadata": {},
     "output_type": "execute_result"
    }
   ],
   "source": [
    "#  a.shape wil tell us the size of the table\n",
    "\n",
    "a.shape"
   ]
  },
  {
   "cell_type": "code",
   "execution_count": 72,
   "id": "b05a184d",
   "metadata": {},
   "outputs": [],
   "source": [
    "x=np.arange((25),dtype=\"float64\")"
   ]
  },
  {
   "cell_type": "code",
   "execution_count": 73,
   "id": "63432802",
   "metadata": {},
   "outputs": [
    {
     "data": {
      "text/plain": [
       "array([ 0.,  1.,  2.,  3.,  4.,  5.,  6.,  7.,  8.,  9., 10., 11., 12.,\n",
       "       13., 14., 15., 16., 17., 18., 19., 20., 21., 22., 23., 24.])"
      ]
     },
     "execution_count": 73,
     "metadata": {},
     "output_type": "execute_result"
    }
   ],
   "source": [
    "x"
   ]
  },
  {
   "cell_type": "code",
   "execution_count": 74,
   "id": "540f602c",
   "metadata": {},
   "outputs": [],
   "source": [
    "x1=x.reshape(5,5)"
   ]
  },
  {
   "cell_type": "code",
   "execution_count": 75,
   "id": "a7c74b96",
   "metadata": {},
   "outputs": [
    {
     "data": {
      "text/plain": [
       "array([[ 0.,  1.,  2.,  3.,  4.],\n",
       "       [ 5.,  6.,  7.,  8.,  9.],\n",
       "       [10., 11., 12., 13., 14.],\n",
       "       [15., 16., 17., 18., 19.],\n",
       "       [20., 21., 22., 23., 24.]])"
      ]
     },
     "execution_count": 75,
     "metadata": {},
     "output_type": "execute_result"
    }
   ],
   "source": [
    "x1"
   ]
  },
  {
   "cell_type": "code",
   "execution_count": 76,
   "id": "bd8c74dd",
   "metadata": {},
   "outputs": [
    {
     "data": {
      "text/plain": [
       "dtype('float64')"
      ]
     },
     "execution_count": 76,
     "metadata": {},
     "output_type": "execute_result"
    }
   ],
   "source": [
    "# checking data type of new variable x1\n",
    "\n",
    "x1.dtype"
   ]
  },
  {
   "cell_type": "code",
   "execution_count": 77,
   "id": "f531500f",
   "metadata": {},
   "outputs": [
    {
     "data": {
      "text/plain": [
       "8"
      ]
     },
     "execution_count": 77,
     "metadata": {},
     "output_type": "execute_result"
    }
   ],
   "source": [
    "# checking bytes consumed by per elements\n",
    "\n",
    "x1.itemsize"
   ]
  },
  {
   "cell_type": "code",
   "execution_count": 78,
   "id": "54db0f1c",
   "metadata": {},
   "outputs": [
    {
     "data": {
      "text/plain": [
       "25"
      ]
     },
     "execution_count": 78,
     "metadata": {},
     "output_type": "execute_result"
    }
   ],
   "source": [
    "# checking the size of the all ements inside x1\n",
    "\n",
    "x1.size"
   ]
  },
  {
   "cell_type": "code",
   "execution_count": 79,
   "id": "2ab83cb8",
   "metadata": {},
   "outputs": [
    {
     "data": {
      "text/plain": [
       "2"
      ]
     },
     "execution_count": 79,
     "metadata": {},
     "output_type": "execute_result"
    }
   ],
   "source": [
    "# checking the dimension of the x1\n",
    "\n",
    "x1.ndim"
   ]
  },
  {
   "cell_type": "code",
   "execution_count": 80,
   "id": "15dcce42",
   "metadata": {},
   "outputs": [
    {
     "name": "stdout",
     "output_type": "stream",
     "text": [
      "(5, 5)\n"
     ]
    }
   ],
   "source": [
    "# checking the shape of the variable in x1\n",
    "\n",
    "print(x1.shape)"
   ]
  },
  {
   "cell_type": "code",
   "execution_count": 81,
   "id": "19ec05e6",
   "metadata": {},
   "outputs": [],
   "source": [
    "a=np.arange((12),dtype='int32').reshape(4,3)"
   ]
  },
  {
   "cell_type": "code",
   "execution_count": 82,
   "id": "dc6348b0",
   "metadata": {},
   "outputs": [
    {
     "data": {
      "text/plain": [
       "array([[ 0,  1,  2],\n",
       "       [ 3,  4,  5],\n",
       "       [ 6,  7,  8],\n",
       "       [ 9, 10, 11]])"
      ]
     },
     "execution_count": 82,
     "metadata": {},
     "output_type": "execute_result"
    }
   ],
   "source": [
    "a"
   ]
  },
  {
   "cell_type": "code",
   "execution_count": 84,
   "id": "c8bb2b9d",
   "metadata": {},
   "outputs": [
    {
     "data": {
      "text/plain": [
       "dtype('int32')"
      ]
     },
     "execution_count": 84,
     "metadata": {},
     "output_type": "execute_result"
    }
   ],
   "source": [
    "a.dtype"
   ]
  },
  {
   "cell_type": "code",
   "execution_count": 85,
   "id": "f6fdefcc",
   "metadata": {},
   "outputs": [
    {
     "data": {
      "text/plain": [
       "12"
      ]
     },
     "execution_count": 85,
     "metadata": {},
     "output_type": "execute_result"
    }
   ],
   "source": [
    "a.size"
   ]
  },
  {
   "cell_type": "code",
   "execution_count": 86,
   "id": "208392c7",
   "metadata": {},
   "outputs": [
    {
     "data": {
      "text/plain": [
       "(4, 3)"
      ]
     },
     "execution_count": 86,
     "metadata": {},
     "output_type": "execute_result"
    }
   ],
   "source": [
    "a.shape"
   ]
  },
  {
   "cell_type": "code",
   "execution_count": 87,
   "id": "5e8a0d06",
   "metadata": {},
   "outputs": [
    {
     "data": {
      "text/plain": [
       "4"
      ]
     },
     "execution_count": 87,
     "metadata": {},
     "output_type": "execute_result"
    }
   ],
   "source": [
    "a.itemsize"
   ]
  },
  {
   "cell_type": "code",
   "execution_count": 88,
   "id": "9392b529",
   "metadata": {},
   "outputs": [
    {
     "data": {
      "text/plain": [
       "2"
      ]
     },
     "execution_count": 88,
     "metadata": {},
     "output_type": "execute_result"
    }
   ],
   "source": [
    "a.ndim"
   ]
  },
  {
   "cell_type": "markdown",
   "id": "e9567092",
   "metadata": {},
   "source": [
    "# RAVEL FUNCTION"
   ]
  },
  {
   "cell_type": "code",
   "execution_count": 89,
   "id": "ff4e5d24",
   "metadata": {},
   "outputs": [
    {
     "name": "stdout",
     "output_type": "stream",
     "text": [
      "[ 0  1  2  3  4  5  6  7  8  9 10 11]\n"
     ]
    }
   ],
   "source": [
    "# ravel operation where you can convert one numpy array into a single row\n",
    "\n",
    "print(a.ravel())"
   ]
  },
  {
   "cell_type": "code",
   "execution_count": 90,
   "id": "513305ef",
   "metadata": {},
   "outputs": [],
   "source": [
    "import numpy as np\n",
    "\n",
    "b=np.array([[1.5,2.3,6.7],[8.9,6,0]],dtype='int32')"
   ]
  },
  {
   "cell_type": "code",
   "execution_count": 91,
   "id": "632c21d6",
   "metadata": {},
   "outputs": [
    {
     "data": {
      "text/plain": [
       "array([[1, 2, 6],\n",
       "       [8, 6, 0]])"
      ]
     },
     "execution_count": 91,
     "metadata": {},
     "output_type": "execute_result"
    }
   ],
   "source": [
    "b"
   ]
  },
  {
   "cell_type": "code",
   "execution_count": 92,
   "id": "277af2d5",
   "metadata": {},
   "outputs": [
    {
     "data": {
      "text/plain": [
       "array([[0., 0., 0., 0.],\n",
       "       [0., 0., 0., 0.],\n",
       "       [0., 0., 0., 0.]])"
      ]
     },
     "execution_count": 92,
     "metadata": {},
     "output_type": "execute_result"
    }
   ],
   "source": [
    "np.zeros([3,4])"
   ]
  },
  {
   "cell_type": "code",
   "execution_count": 93,
   "id": "01a9e2e9",
   "metadata": {},
   "outputs": [
    {
     "data": {
      "text/plain": [
       "array([[1., 1., 1., 1.],\n",
       "       [1., 1., 1., 1.],\n",
       "       [1., 1., 1., 1.]])"
      ]
     },
     "execution_count": 93,
     "metadata": {},
     "output_type": "execute_result"
    }
   ],
   "source": [
    "np.ones([3,4])"
   ]
  },
  {
   "cell_type": "code",
   "execution_count": 94,
   "id": "f7ac1e7c",
   "metadata": {},
   "outputs": [
    {
     "data": {
      "text/plain": [
       "array([0, 1, 2, 3, 4])"
      ]
     },
     "execution_count": 94,
     "metadata": {},
     "output_type": "execute_result"
    }
   ],
   "source": [
    "# ARANGE FUNCTION\n",
    "\n",
    "np.arange(5)"
   ]
  },
  {
   "cell_type": "code",
   "execution_count": 95,
   "id": "5652eb41",
   "metadata": {},
   "outputs": [
    {
     "data": {
      "text/plain": [
       "array([0, 1, 2, 3, 4, 5, 6, 7, 8, 9])"
      ]
     },
     "execution_count": 95,
     "metadata": {},
     "output_type": "execute_result"
    }
   ],
   "source": [
    "np.arange(0,10)"
   ]
  },
  {
   "cell_type": "code",
   "execution_count": 96,
   "id": "d1638f5e",
   "metadata": {},
   "outputs": [
    {
     "data": {
      "text/plain": [
       "array([0, 2, 4, 6, 8])"
      ]
     },
     "execution_count": 96,
     "metadata": {},
     "output_type": "execute_result"
    }
   ],
   "source": [
    "#(start---->stop------>jump or loop)\n",
    "\n",
    "np.arange(0,10,2)"
   ]
  },
  {
   "cell_type": "code",
   "execution_count": 97,
   "id": "7c827932",
   "metadata": {},
   "outputs": [
    {
     "data": {
      "text/plain": [
       "array([10, 15, 20, 25])"
      ]
     },
     "execution_count": 97,
     "metadata": {},
     "output_type": "execute_result"
    }
   ],
   "source": [
    "# start no 10, end no 30, jump of 5\n",
    "\n",
    "np.arange(10,30,5)"
   ]
  },
  {
   "cell_type": "code",
   "execution_count": 98,
   "id": "71cea220",
   "metadata": {},
   "outputs": [],
   "source": [
    "b=np.arange(25).reshape(5,5)"
   ]
  },
  {
   "cell_type": "code",
   "execution_count": 99,
   "id": "f80f3900",
   "metadata": {},
   "outputs": [
    {
     "data": {
      "text/plain": [
       "array([[ 0,  1,  2,  3,  4],\n",
       "       [ 5,  6,  7,  8,  9],\n",
       "       [10, 11, 12, 13, 14],\n",
       "       [15, 16, 17, 18, 19],\n",
       "       [20, 21, 22, 23, 24]])"
      ]
     },
     "execution_count": 99,
     "metadata": {},
     "output_type": "execute_result"
    }
   ],
   "source": [
    "b"
   ]
  },
  {
   "cell_type": "markdown",
   "id": "ef2900d1",
   "metadata": {},
   "source": [
    "# BROADCASTING IN NUMPY:"
   ]
  },
  {
   "cell_type": "code",
   "execution_count": 100,
   "id": "ef199631",
   "metadata": {},
   "outputs": [
    {
     "data": {
      "text/plain": [
       "' BROADCASTING IN NUMPY\\nThe term broadcasting describes how numpy treats arrays with arthmetic operation. \\nsubject to certain constraints, the smaller array is \"broadcast\"across the larger\\narray so that they have compatible shapes.Broadcasting provides a means of vectorizing \\narray operations\\n'"
      ]
     },
     "execution_count": 100,
     "metadata": {},
     "output_type": "execute_result"
    }
   ],
   "source": [
    "\"\"\" BROADCASTING IN NUMPY\n",
    "The term broadcasting describes how numpy treats arrays with arthmetic operation. subject to certain constraints, the smaller \n",
    "array is \"broadcast\" across the larger array so that they have compatible shapes. Broadcasting provides a means of vectorizing \n",
    "array operations\n",
    "\"\"\""
   ]
  },
  {
   "cell_type": "code",
   "execution_count": 102,
   "id": "edc4a82c",
   "metadata": {},
   "outputs": [
    {
     "data": {
      "text/plain": [
       "array([2., 4., 6.])"
      ]
     },
     "execution_count": 102,
     "metadata": {},
     "output_type": "execute_result"
    }
   ],
   "source": [
    "a=np.array([1.0,2.0,3.0])\n",
    "b=np.array([2.0,2.0,2.0])\n",
    "a*b"
   ]
  },
  {
   "cell_type": "code",
   "execution_count": 103,
   "id": "0d53a438",
   "metadata": {},
   "outputs": [
    {
     "data": {
      "text/plain": [
       "array([2., 4., 6.])"
      ]
     },
     "execution_count": 103,
     "metadata": {},
     "output_type": "execute_result"
    }
   ],
   "source": [
    "a=np.array([1.0,2.0,3.0])\n",
    "b=2.0\n",
    "a*b"
   ]
  },
  {
   "cell_type": "code",
   "execution_count": 104,
   "id": "8d7a0677",
   "metadata": {},
   "outputs": [
    {
     "data": {
      "text/plain": [
       "array([2., 4., 6.])"
      ]
     },
     "execution_count": 104,
     "metadata": {},
     "output_type": "execute_result"
    }
   ],
   "source": [
    "a=np.array([1.0,2.0,3.0])\n",
    "b=np.array(2.0)\n",
    "a*b"
   ]
  },
  {
   "cell_type": "code",
   "execution_count": 107,
   "id": "d91f675a",
   "metadata": {},
   "outputs": [
    {
     "name": "stdout",
     "output_type": "stream",
     "text": [
      "[10 20 30 40 50] values of a\n",
      "[0 1 2 3 4] values of b\n"
     ]
    }
   ],
   "source": [
    "a=np.array([10,20,30,40,50])\n",
    "b=np.arange(5)\n",
    "print(a,\"values of a\")\n",
    "print(b,\"values of b\")"
   ]
  },
  {
   "cell_type": "code",
   "execution_count": 108,
   "id": "eee4133a",
   "metadata": {},
   "outputs": [
    {
     "data": {
      "text/plain": [
       "array([  0,  20,  60, 120, 200])"
      ]
     },
     "execution_count": 108,
     "metadata": {},
     "output_type": "execute_result"
    }
   ],
   "source": [
    "a*b"
   ]
  },
  {
   "cell_type": "code",
   "execution_count": 109,
   "id": "dcb6fdb2",
   "metadata": {},
   "outputs": [
    {
     "data": {
      "text/plain": [
       "array([10, 21, 32, 43, 54])"
      ]
     },
     "execution_count": 109,
     "metadata": {},
     "output_type": "execute_result"
    }
   ],
   "source": [
    "a+b"
   ]
  },
  {
   "cell_type": "code",
   "execution_count": 110,
   "id": "3f7999a0",
   "metadata": {},
   "outputs": [
    {
     "data": {
      "text/plain": [
       "array([10, 19, 28, 37, 46])"
      ]
     },
     "execution_count": 110,
     "metadata": {},
     "output_type": "execute_result"
    }
   ],
   "source": [
    "a-b"
   ]
  },
  {
   "cell_type": "code",
   "execution_count": 111,
   "id": "0215eae4",
   "metadata": {},
   "outputs": [
    {
     "data": {
      "text/plain": [
       "array([ 0,  1,  4,  9, 16], dtype=int32)"
      ]
     },
     "execution_count": 111,
     "metadata": {},
     "output_type": "execute_result"
    }
   ],
   "source": [
    "b**2"
   ]
  },
  {
   "cell_type": "markdown",
   "id": "f37de554",
   "metadata": {},
   "source": [
    "Random Function"
   ]
  },
  {
   "cell_type": "code",
   "execution_count": 112,
   "id": "0e9c499a",
   "metadata": {},
   "outputs": [],
   "source": [
    "b=np.random.randn(4,3)"
   ]
  },
  {
   "cell_type": "code",
   "execution_count": 113,
   "id": "64a4f0d3",
   "metadata": {},
   "outputs": [
    {
     "data": {
      "text/plain": [
       "array([[-0.45600079,  0.81048735, -0.1493198 ],\n",
       "       [ 1.02313727,  1.44910874,  0.75990424],\n",
       "       [-0.4490374 , -0.71791139,  0.13764583],\n",
       "       [ 1.30687253, -0.93242516, -0.44047803]])"
      ]
     },
     "execution_count": 113,
     "metadata": {},
     "output_type": "execute_result"
    }
   ],
   "source": [
    "b"
   ]
  },
  {
   "cell_type": "code",
   "execution_count": 116,
   "id": "9c351b08",
   "metadata": {},
   "outputs": [],
   "source": [
    "c=np.ones([4,3])"
   ]
  },
  {
   "cell_type": "code",
   "execution_count": 117,
   "id": "23f26206",
   "metadata": {},
   "outputs": [
    {
     "data": {
      "text/plain": [
       "array([[1., 1., 1.],\n",
       "       [1., 1., 1.],\n",
       "       [1., 1., 1.],\n",
       "       [1., 1., 1.]])"
      ]
     },
     "execution_count": 117,
     "metadata": {},
     "output_type": "execute_result"
    }
   ],
   "source": [
    "c"
   ]
  },
  {
   "cell_type": "code",
   "execution_count": 118,
   "id": "eaf34dcc",
   "metadata": {},
   "outputs": [
    {
     "data": {
      "text/plain": [
       "array([[0.54399921, 1.81048735, 0.8506802 ],\n",
       "       [2.02313727, 2.44910874, 1.75990424],\n",
       "       [0.5509626 , 0.28208861, 1.13764583],\n",
       "       [2.30687253, 0.06757484, 0.55952197]])"
      ]
     },
     "execution_count": 118,
     "metadata": {},
     "output_type": "execute_result"
    }
   ],
   "source": [
    "b+c"
   ]
  },
  {
   "cell_type": "markdown",
   "id": "d5142fc5",
   "metadata": {},
   "source": [
    "# UNIVERSAL FUNCTIONS"
   ]
  },
  {
   "cell_type": "code",
   "execution_count": 119,
   "id": "509d5710",
   "metadata": {},
   "outputs": [],
   "source": [
    "B=np.arange(3)"
   ]
  },
  {
   "cell_type": "code",
   "execution_count": 120,
   "id": "c4d8b2c6",
   "metadata": {},
   "outputs": [
    {
     "data": {
      "text/plain": [
       "array([0, 1, 2])"
      ]
     },
     "execution_count": 120,
     "metadata": {},
     "output_type": "execute_result"
    }
   ],
   "source": [
    "B"
   ]
  },
  {
   "cell_type": "code",
   "execution_count": 121,
   "id": "fce0a971",
   "metadata": {},
   "outputs": [
    {
     "data": {
      "text/plain": [
       "array([1.        , 2.71828183, 7.3890561 ])"
      ]
     },
     "execution_count": 121,
     "metadata": {},
     "output_type": "execute_result"
    }
   ],
   "source": [
    "# finding exponent of the data\n",
    "np.exp(B)"
   ]
  },
  {
   "cell_type": "code",
   "execution_count": 122,
   "id": "ba3afeb4",
   "metadata": {},
   "outputs": [
    {
     "data": {
      "text/plain": [
       "array([0.        , 1.        , 1.41421356])"
      ]
     },
     "execution_count": 122,
     "metadata": {},
     "output_type": "execute_result"
    }
   ],
   "source": [
    "# finding the sq root of the data\n",
    "\n",
    "np.sqrt(B)"
   ]
  },
  {
   "cell_type": "code",
   "execution_count": 123,
   "id": "589377c2",
   "metadata": {},
   "outputs": [
    {
     "data": {
      "text/plain": [
       "array([2, 2, 6])"
      ]
     },
     "execution_count": 123,
     "metadata": {},
     "output_type": "execute_result"
    }
   ],
   "source": [
    "c=np.array([2,1,4])\n",
    "np.add(B,c)"
   ]
  },
  {
   "cell_type": "markdown",
   "id": "3859b137",
   "metadata": {},
   "source": [
    "# INDEXING,SLICING AND ITERATING"
   ]
  },
  {
   "cell_type": "code",
   "execution_count": 124,
   "id": "377cb24d",
   "metadata": {},
   "outputs": [],
   "source": [
    "a=np.arange(10)"
   ]
  },
  {
   "cell_type": "code",
   "execution_count": 125,
   "id": "4ba1f488",
   "metadata": {},
   "outputs": [
    {
     "data": {
      "text/plain": [
       "array([0, 1, 2, 3, 4, 5, 6, 7, 8, 9])"
      ]
     },
     "execution_count": 125,
     "metadata": {},
     "output_type": "execute_result"
    }
   ],
   "source": [
    "a"
   ]
  },
  {
   "cell_type": "code",
   "execution_count": 126,
   "id": "d3947387",
   "metadata": {},
   "outputs": [
    {
     "data": {
      "text/plain": [
       "2"
      ]
     },
     "execution_count": 126,
     "metadata": {},
     "output_type": "execute_result"
    }
   ],
   "source": [
    "a[2]"
   ]
  },
  {
   "cell_type": "code",
   "execution_count": 127,
   "id": "73800a61",
   "metadata": {},
   "outputs": [
    {
     "name": "stdout",
     "output_type": "stream",
     "text": [
      "9\n"
     ]
    }
   ],
   "source": [
    "print(a[9])"
   ]
  },
  {
   "cell_type": "code",
   "execution_count": 128,
   "id": "ff5969f3",
   "metadata": {},
   "outputs": [
    {
     "data": {
      "text/plain": [
       "9"
      ]
     },
     "execution_count": 128,
     "metadata": {},
     "output_type": "execute_result"
    }
   ],
   "source": [
    "a[9]"
   ]
  },
  {
   "cell_type": "code",
   "execution_count": 129,
   "id": "5cf0e1f9",
   "metadata": {},
   "outputs": [
    {
     "data": {
      "text/plain": [
       "5"
      ]
     },
     "execution_count": 129,
     "metadata": {},
     "output_type": "execute_result"
    }
   ],
   "source": [
    "a[-5]"
   ]
  },
  {
   "cell_type": "code",
   "execution_count": 131,
   "id": "a0e127c2",
   "metadata": {},
   "outputs": [
    {
     "data": {
      "text/plain": [
       "array([2, 3, 4])"
      ]
     },
     "execution_count": 131,
     "metadata": {},
     "output_type": "execute_result"
    }
   ],
   "source": [
    "a[-8:-5]"
   ]
  },
  {
   "cell_type": "code",
   "execution_count": 132,
   "id": "f63a1772",
   "metadata": {},
   "outputs": [],
   "source": [
    "d2=np.arange(20)"
   ]
  },
  {
   "cell_type": "code",
   "execution_count": 133,
   "id": "826c1c8c",
   "metadata": {},
   "outputs": [
    {
     "data": {
      "text/plain": [
       "array([ 0,  1,  2,  3,  4,  5,  6,  7,  8,  9, 10, 11, 12, 13, 14, 15, 16,\n",
       "       17, 18, 19])"
      ]
     },
     "execution_count": 133,
     "metadata": {},
     "output_type": "execute_result"
    }
   ],
   "source": [
    "d2"
   ]
  },
  {
   "cell_type": "code",
   "execution_count": 134,
   "id": "43b49689",
   "metadata": {},
   "outputs": [
    {
     "data": {
      "text/plain": [
       "array([11, 12, 13, 14])"
      ]
     },
     "execution_count": 134,
     "metadata": {},
     "output_type": "execute_result"
    }
   ],
   "source": [
    "d2[11:15]"
   ]
  },
  {
   "cell_type": "code",
   "execution_count": 1,
   "id": "0e810160",
   "metadata": {},
   "outputs": [],
   "source": [
    "import numpy as np"
   ]
  },
  {
   "cell_type": "code",
   "execution_count": 2,
   "id": "048c8891",
   "metadata": {},
   "outputs": [],
   "source": [
    "d3=np.array([np.nan,1,2,3,np.nan,6,7,8])"
   ]
  },
  {
   "cell_type": "code",
   "execution_count": 3,
   "id": "8036ba8e",
   "metadata": {},
   "outputs": [
    {
     "data": {
      "text/plain": [
       "array([nan,  1.,  2.,  3., nan,  6.,  7.,  8.])"
      ]
     },
     "execution_count": 3,
     "metadata": {},
     "output_type": "execute_result"
    }
   ],
   "source": [
    "d3"
   ]
  },
  {
   "cell_type": "markdown",
   "id": "7fbf70a0",
   "metadata": {},
   "source": [
    "the random module provides nice functions to generate random numbers(and also statistical distributions) of any given shape.rand function will generate any number between 0 to 1"
   ]
  },
  {
   "cell_type": "code",
   "execution_count": 4,
   "id": "f9a537ae",
   "metadata": {},
   "outputs": [
    {
     "data": {
      "text/plain": [
       "array([[0.22612377, 0.14704058],\n",
       "       [0.15888992, 0.29999561]])"
      ]
     },
     "execution_count": 4,
     "metadata": {},
     "output_type": "execute_result"
    }
   ],
   "source": [
    "np.random.rand(2,2)"
   ]
  },
  {
   "cell_type": "markdown",
   "id": "66f8e5fb",
   "metadata": {},
   "source": [
    "Randn will generate any number for normal distribution in the given dimension format"
   ]
  },
  {
   "cell_type": "code",
   "execution_count": 5,
   "id": "d15e14f4",
   "metadata": {},
   "outputs": [
    {
     "data": {
      "text/plain": [
       "array([[-0.70423887, -0.28992673,  1.05459536],\n",
       "       [-1.13593541,  0.44568755,  0.35852454]])"
      ]
     },
     "execution_count": 5,
     "metadata": {},
     "output_type": "execute_result"
    }
   ],
   "source": [
    "np.random.randn(2,3)"
   ]
  },
  {
   "cell_type": "markdown",
   "id": "6c70a647",
   "metadata": {},
   "source": [
    "# Done with Numpy"
   ]
  },
  {
   "cell_type": "code",
   "execution_count": null,
   "id": "080b4516",
   "metadata": {},
   "outputs": [],
   "source": []
  }
 ],
 "metadata": {
  "kernelspec": {
   "display_name": "Python 3 (ipykernel)",
   "language": "python",
   "name": "python3"
  },
  "language_info": {
   "codemirror_mode": {
    "name": "ipython",
    "version": 3
   },
   "file_extension": ".py",
   "mimetype": "text/x-python",
   "name": "python",
   "nbconvert_exporter": "python",
   "pygments_lexer": "ipython3",
   "version": "3.9.12"
  }
 },
 "nbformat": 4,
 "nbformat_minor": 5
}
