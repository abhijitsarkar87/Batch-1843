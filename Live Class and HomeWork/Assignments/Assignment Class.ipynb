{
 "cells": [
  {
   "cell_type": "code",
   "execution_count": 1,
   "id": "0d86fd95",
   "metadata": {},
   "outputs": [],
   "source": [
    "class complex:\n",
    "    def __init__(self,realpart,imagpart):\n",
    "        self.r=realpart\n",
    "        self.i=imagpart"
   ]
  },
  {
   "cell_type": "code",
   "execution_count": 2,
   "id": "b6306282",
   "metadata": {},
   "outputs": [],
   "source": [
    "x=complex(3.0,-4.5)"
   ]
  },
  {
   "cell_type": "code",
   "execution_count": 3,
   "id": "edcc7254",
   "metadata": {},
   "outputs": [
    {
     "data": {
      "text/plain": [
       "3.0"
      ]
     },
     "execution_count": 3,
     "metadata": {},
     "output_type": "execute_result"
    }
   ],
   "source": [
    "x.r"
   ]
  },
  {
   "cell_type": "code",
   "execution_count": 4,
   "id": "40ba0af6",
   "metadata": {},
   "outputs": [
    {
     "data": {
      "text/plain": [
       "-4.5"
      ]
     },
     "execution_count": 4,
     "metadata": {},
     "output_type": "execute_result"
    }
   ],
   "source": [
    "x.i"
   ]
  },
  {
   "cell_type": "code",
   "execution_count": 5,
   "id": "4097a319",
   "metadata": {},
   "outputs": [],
   "source": [
    "class Lion:\n",
    "    #global class\n",
    "    kind=\"canine\"\n",
    "    def __init__(self,name):\n",
    "        self.name=name #instance variable\n",
    "    "
   ]
  },
  {
   "cell_type": "code",
   "execution_count": 6,
   "id": "4fd435d5",
   "metadata": {},
   "outputs": [],
   "source": [
    "d=Lion(\"Fido\")\n",
    "e=Lion(\"Buddy\")"
   ]
  },
  {
   "cell_type": "code",
   "execution_count": 7,
   "id": "789790e4",
   "metadata": {},
   "outputs": [
    {
     "data": {
      "text/plain": [
       "'canine'"
      ]
     },
     "execution_count": 7,
     "metadata": {},
     "output_type": "execute_result"
    }
   ],
   "source": [
    "d.kind"
   ]
  },
  {
   "cell_type": "code",
   "execution_count": 8,
   "id": "84b8d7d7",
   "metadata": {},
   "outputs": [
    {
     "data": {
      "text/plain": [
       "'canine'"
      ]
     },
     "execution_count": 8,
     "metadata": {},
     "output_type": "execute_result"
    }
   ],
   "source": [
    "e.kind"
   ]
  },
  {
   "cell_type": "code",
   "execution_count": 9,
   "id": "a9318a53",
   "metadata": {},
   "outputs": [
    {
     "data": {
      "text/plain": [
       "'Fido'"
      ]
     },
     "execution_count": 9,
     "metadata": {},
     "output_type": "execute_result"
    }
   ],
   "source": [
    "d.name"
   ]
  },
  {
   "cell_type": "code",
   "execution_count": 10,
   "id": "68f559ea",
   "metadata": {},
   "outputs": [
    {
     "data": {
      "text/plain": [
       "'Buddy'"
      ]
     },
     "execution_count": 10,
     "metadata": {},
     "output_type": "execute_result"
    }
   ],
   "source": [
    "e.name"
   ]
  },
  {
   "cell_type": "code",
   "execution_count": 15,
   "id": "74ac274e",
   "metadata": {},
   "outputs": [],
   "source": [
    "class Pet:\n",
    "    def __init__(self,name):\n",
    "        self.name=name\n",
    "        \n",
    "        self.tricks=[] #creating an empty list for each dog\n",
    "    \n",
    "    def add_trick(self,trick):\n",
    "        self.tricks.append(trick)"
   ]
  },
  {
   "cell_type": "code",
   "execution_count": 16,
   "id": "3d8e0983",
   "metadata": {},
   "outputs": [],
   "source": [
    "d=Pet('Fido')"
   ]
  },
  {
   "cell_type": "code",
   "execution_count": 17,
   "id": "82f0db10",
   "metadata": {},
   "outputs": [],
   "source": [
    "e=Pet(\"Buddy\")"
   ]
  },
  {
   "cell_type": "code",
   "execution_count": 18,
   "id": "ad4339b5",
   "metadata": {},
   "outputs": [],
   "source": [
    "d.add_trick('roll over')\n",
    "e.add_trick('Play dead')"
   ]
  },
  {
   "cell_type": "code",
   "execution_count": 19,
   "id": "b8014e28",
   "metadata": {},
   "outputs": [
    {
     "data": {
      "text/plain": [
       "['roll over']"
      ]
     },
     "execution_count": 19,
     "metadata": {},
     "output_type": "execute_result"
    }
   ],
   "source": [
    "d.tricks"
   ]
  },
  {
   "cell_type": "code",
   "execution_count": 20,
   "id": "893836dc",
   "metadata": {},
   "outputs": [
    {
     "data": {
      "text/plain": [
       "['Play dead']"
      ]
     },
     "execution_count": 20,
     "metadata": {},
     "output_type": "execute_result"
    }
   ],
   "source": [
    "e.tricks"
   ]
  },
  {
   "cell_type": "code",
   "execution_count": 1,
   "id": "48d9ce0b",
   "metadata": {},
   "outputs": [],
   "source": [
    "class Bag:\n",
    "    def __init__(self):\n",
    "        \n",
    "        self.data=[]\n",
    "        \n",
    "    def add(self,x):\n",
    "        self.data.append(x)\n",
    "    \n",
    "    def addtwice(self,x):\n",
    "        self.add(x)\n",
    "        self.add(x)        "
   ]
  },
  {
   "cell_type": "code",
   "execution_count": 2,
   "id": "133ca38c",
   "metadata": {},
   "outputs": [],
   "source": [
    "bg=Bag()\n",
    "bg.addtwice(\"Cricket\")"
   ]
  },
  {
   "cell_type": "code",
   "execution_count": null,
   "id": "2c6c22f5",
   "metadata": {},
   "outputs": [],
   "source": []
  }
 ],
 "metadata": {
  "kernelspec": {
   "display_name": "Python 3 (ipykernel)",
   "language": "python",
   "name": "python3"
  },
  "language_info": {
   "codemirror_mode": {
    "name": "ipython",
    "version": 3
   },
   "file_extension": ".py",
   "mimetype": "text/x-python",
   "name": "python",
   "nbconvert_exporter": "python",
   "pygments_lexer": "ipython3",
   "version": "3.9.12"
  }
 },
 "nbformat": 4,
 "nbformat_minor": 5
}
