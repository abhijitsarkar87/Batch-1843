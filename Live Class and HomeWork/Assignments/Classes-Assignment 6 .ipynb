{
 "cells": [
  {
   "cell_type": "code",
   "execution_count": 3,
   "id": "357ef0e5",
   "metadata": {},
   "outputs": [],
   "source": [
    "class Complex:\n",
    "    def __init__(self,realpart,imagpart):\n",
    "        self.r=realpart\n",
    "        self.i=imagpart"
   ]
  },
  {
   "cell_type": "code",
   "execution_count": 4,
   "id": "4fc95bc9",
   "metadata": {},
   "outputs": [],
   "source": [
    "x=Complex(3.0,-4.5)"
   ]
  },
  {
   "cell_type": "code",
   "execution_count": 5,
   "id": "f95a0fee",
   "metadata": {},
   "outputs": [
    {
     "data": {
      "text/plain": [
       "3.0"
      ]
     },
     "execution_count": 5,
     "metadata": {},
     "output_type": "execute_result"
    }
   ],
   "source": [
    "x.r #realpart"
   ]
  },
  {
   "cell_type": "code",
   "execution_count": 6,
   "id": "52eafb28",
   "metadata": {},
   "outputs": [
    {
     "data": {
      "text/plain": [
       "-4.5"
      ]
     },
     "execution_count": 6,
     "metadata": {},
     "output_type": "execute_result"
    }
   ],
   "source": [
    "x.i #imagepart"
   ]
  },
  {
   "cell_type": "markdown",
   "id": "08e024fc",
   "metadata": {},
   "source": [
    "-------------------------------------------------------------------------------"
   ]
  },
  {
   "cell_type": "code",
   "execution_count": 7,
   "id": "2dbe0721",
   "metadata": {},
   "outputs": [],
   "source": [
    "class Lion:\n",
    "    kind=\"Canine\"  #global var\n",
    "    \n",
    "    def __init__ (self,name):\n",
    "        self.name=name  #instance variable\n",
    "        "
   ]
  },
  {
   "cell_type": "code",
   "execution_count": 8,
   "id": "3b332d7d",
   "metadata": {},
   "outputs": [],
   "source": [
    "d=Lion(\"Frido\")\n",
    "e=Lion(\"Buddy\")"
   ]
  },
  {
   "cell_type": "code",
   "execution_count": 9,
   "id": "ff27cdec",
   "metadata": {},
   "outputs": [
    {
     "data": {
      "text/plain": [
       "'Canine'"
      ]
     },
     "execution_count": 9,
     "metadata": {},
     "output_type": "execute_result"
    }
   ],
   "source": [
    "d.kind  # kind is global var"
   ]
  },
  {
   "cell_type": "code",
   "execution_count": 10,
   "id": "60509cae",
   "metadata": {},
   "outputs": [
    {
     "data": {
      "text/plain": [
       "'Frido'"
      ]
     },
     "execution_count": 10,
     "metadata": {},
     "output_type": "execute_result"
    }
   ],
   "source": [
    "d.name # calling instance"
   ]
  },
  {
   "cell_type": "code",
   "execution_count": 11,
   "id": "400e5ff8",
   "metadata": {},
   "outputs": [
    {
     "data": {
      "text/plain": [
       "'Canine'"
      ]
     },
     "execution_count": 11,
     "metadata": {},
     "output_type": "execute_result"
    }
   ],
   "source": [
    "e.kind # calling global var"
   ]
  },
  {
   "cell_type": "code",
   "execution_count": 12,
   "id": "33264589",
   "metadata": {},
   "outputs": [
    {
     "data": {
      "text/plain": [
       "'Buddy'"
      ]
     },
     "execution_count": 12,
     "metadata": {},
     "output_type": "execute_result"
    }
   ],
   "source": [
    "e.name # calling instance"
   ]
  },
  {
   "cell_type": "markdown",
   "id": "b60a8fe7",
   "metadata": {},
   "source": [
    "-------------------------------------------"
   ]
  },
  {
   "cell_type": "code",
   "execution_count": 20,
   "id": "356dfc70",
   "metadata": {},
   "outputs": [],
   "source": [
    "class pet:\n",
    "    #global variable\n",
    "    kind=\"Animal\"\n",
    "    \n",
    "    def __init__(self,name):\n",
    "        \n",
    "        self.name=name #instance created\n",
    "        self.tricks=[] #creates a new empty list for each dog\n",
    "        \n",
    "    def add_trick(self,trick):\n",
    "        self.tricks.append(trick)"
   ]
  },
  {
   "cell_type": "code",
   "execution_count": 21,
   "id": "ceeaffbe",
   "metadata": {},
   "outputs": [],
   "source": [
    "d=pet('Fido')"
   ]
  },
  {
   "cell_type": "code",
   "execution_count": 22,
   "id": "aae59700",
   "metadata": {},
   "outputs": [
    {
     "data": {
      "text/plain": [
       "'Animal'"
      ]
     },
     "execution_count": 22,
     "metadata": {},
     "output_type": "execute_result"
    }
   ],
   "source": [
    "# global variable\n",
    "\n",
    "d.kind "
   ]
  },
  {
   "cell_type": "code",
   "execution_count": 24,
   "id": "6bd6a568",
   "metadata": {},
   "outputs": [
    {
     "data": {
      "text/plain": [
       "'Fido'"
      ]
     },
     "execution_count": 24,
     "metadata": {},
     "output_type": "execute_result"
    }
   ],
   "source": [
    "d.name "
   ]
  },
  {
   "cell_type": "code",
   "execution_count": 25,
   "id": "310f6805",
   "metadata": {},
   "outputs": [],
   "source": [
    "#  in d adding self.tricks \n",
    "d.add_trick(\"roll over\") "
   ]
  },
  {
   "cell_type": "code",
   "execution_count": 28,
   "id": "b412ee26",
   "metadata": {},
   "outputs": [],
   "source": [
    "e=pet(\"Buddy\")"
   ]
  },
  {
   "cell_type": "code",
   "execution_count": 29,
   "id": "eeebbd95",
   "metadata": {},
   "outputs": [],
   "source": [
    "# adding data in e instance\n",
    "\n",
    "e.add_trick(\"Play dead\")"
   ]
  },
  {
   "cell_type": "code",
   "execution_count": 32,
   "id": "8a720331",
   "metadata": {},
   "outputs": [
    {
     "data": {
      "text/plain": [
       "['roll over']"
      ]
     },
     "execution_count": 32,
     "metadata": {},
     "output_type": "execute_result"
    }
   ],
   "source": [
    "# checking d \n",
    "\n",
    "d.tricks"
   ]
  },
  {
   "cell_type": "code",
   "execution_count": 33,
   "id": "4774f963",
   "metadata": {},
   "outputs": [
    {
     "data": {
      "text/plain": [
       "['Play dead']"
      ]
     },
     "execution_count": 33,
     "metadata": {},
     "output_type": "execute_result"
    }
   ],
   "source": [
    "# checking e instance  \n",
    "e.tricks"
   ]
  },
  {
   "cell_type": "markdown",
   "id": "44910382",
   "metadata": {},
   "source": [
    "#__methord may call another methord attributes of the self argument"
   ]
  },
  {
   "cell_type": "code",
   "execution_count": 34,
   "id": "7cdc8f01",
   "metadata": {},
   "outputs": [],
   "source": [
    "class Bag:\n",
    "    def __init__(self):\n",
    "        self.data=[]\n",
    "        \n",
    "    def add(self,x):\n",
    "        self.data.append(x)\n",
    "    \n",
    "    def addtwice(self,x):\n",
    "        self.add(x)\n",
    "        self.add(x)"
   ]
  },
  {
   "cell_type": "code",
   "execution_count": 35,
   "id": "5e2968c7",
   "metadata": {},
   "outputs": [],
   "source": [
    "bg=Bag()"
   ]
  },
  {
   "cell_type": "code",
   "execution_count": 41,
   "id": "69ac6293",
   "metadata": {},
   "outputs": [],
   "source": [
    "bg.add(\"Cricket\") #in add parameter we added one"
   ]
  },
  {
   "cell_type": "code",
   "execution_count": 43,
   "id": "a5843efc",
   "metadata": {},
   "outputs": [
    {
     "data": {
      "text/plain": [
       "['Cricket', 'Cricket', 'Cricket']"
      ]
     },
     "execution_count": 43,
     "metadata": {},
     "output_type": "execute_result"
    }
   ],
   "source": [
    "bg.addtwice(\"Cricket\")\n",
    "bg.data"
   ]
  },
  {
   "cell_type": "code",
   "execution_count": 44,
   "id": "8cf4944e",
   "metadata": {},
   "outputs": [],
   "source": [
    "bg.addtwice(\"BaketBall\")"
   ]
  },
  {
   "cell_type": "code",
   "execution_count": 45,
   "id": "d80b0dbc",
   "metadata": {},
   "outputs": [
    {
     "data": {
      "text/plain": [
       "['Cricket', 'Cricket', 'Cricket', 'BaketBall', 'BaketBall']"
      ]
     },
     "execution_count": 45,
     "metadata": {},
     "output_type": "execute_result"
    }
   ],
   "source": [
    "bg.data"
   ]
  },
  {
   "cell_type": "code",
   "execution_count": null,
   "id": "5392da48",
   "metadata": {},
   "outputs": [],
   "source": []
  },
  {
   "cell_type": "markdown",
   "id": "9d8c35bc",
   "metadata": {},
   "source": [
    "__File input/output operations"
   ]
  },
  {
   "cell_type": "code",
   "execution_count": 58,
   "id": "aad5fa20",
   "metadata": {},
   "outputs": [],
   "source": [
    "file=open(\"workfile.txt\",\"w\") # make work file and in write mode\n",
    "\n",
    "with open('workfile.txt') as file:\n",
    "    read_data=file.read()"
   ]
  },
  {
   "cell_type": "code",
   "execution_count": 59,
   "id": "df3f1f0d",
   "metadata": {},
   "outputs": [
    {
     "data": {
      "text/plain": [
       "<_io.TextIOWrapper name='workfile.txt' mode='r' encoding='cp1252'>"
      ]
     },
     "execution_count": 59,
     "metadata": {},
     "output_type": "execute_result"
    }
   ],
   "source": [
    "file"
   ]
  },
  {
   "cell_type": "code",
   "execution_count": 62,
   "id": "dd7e1afc",
   "metadata": {},
   "outputs": [
    {
     "data": {
      "text/plain": [
       "'This is the first line. \\nThis is the second line.\\nThis is the third line.'"
      ]
     },
     "execution_count": 62,
     "metadata": {},
     "output_type": "execute_result"
    }
   ],
   "source": [
    "f = open('workfile.txt') # opening a file\n",
    "lines = f.read() # reading a file\n",
    "lines\n",
    "'This is the first line. \\nThis is the second line.\\nThis is the third line.'"
   ]
  },
  {
   "cell_type": "code",
   "execution_count": 63,
   "id": "4b4a7613",
   "metadata": {},
   "outputs": [],
   "source": [
    "f.close() # closing file object"
   ]
  },
  {
   "cell_type": "code",
   "execution_count": 64,
   "id": "6f5e8db9",
   "metadata": {},
   "outputs": [],
   "source": [
    "# EXCEPTION HANDLING:"
   ]
  },
  {
   "cell_type": "code",
   "execution_count": 69,
   "id": "386c90f5",
   "metadata": {},
   "outputs": [
    {
     "name": "stdout",
     "output_type": "stream",
     "text": [
      "Please enter a number : \n",
      "oops! That was no valid number,try again\n",
      "Please enter a number : 5\n"
     ]
    }
   ],
   "source": [
    "while True:\n",
    "    try:\n",
    "        x=int(input(\"Please enter a number : \"))\n",
    "        break\n",
    "    except ValueError:\n",
    "        print(\"oops! That was no valid number,try again\")"
   ]
  },
  {
   "cell_type": "code",
   "execution_count": 70,
   "id": "69b36c83",
   "metadata": {},
   "outputs": [],
   "source": [
    "import math"
   ]
  },
  {
   "cell_type": "code",
   "execution_count": 71,
   "id": "af49bd86",
   "metadata": {},
   "outputs": [
    {
     "data": {
      "text/plain": [
       "0.7071067811865476"
      ]
     },
     "execution_count": 71,
     "metadata": {},
     "output_type": "execute_result"
    }
   ],
   "source": [
    "math.cos(math.pi/4)"
   ]
  },
  {
   "cell_type": "code",
   "execution_count": 72,
   "id": "4ec7f401",
   "metadata": {},
   "outputs": [
    {
     "data": {
      "text/plain": [
       "10.0"
      ]
     },
     "execution_count": 72,
     "metadata": {},
     "output_type": "execute_result"
    }
   ],
   "source": [
    "math.log(1024,2)"
   ]
  },
  {
   "cell_type": "code",
   "execution_count": 73,
   "id": "9d3f95ad",
   "metadata": {},
   "outputs": [],
   "source": [
    "import statistics"
   ]
  },
  {
   "cell_type": "code",
   "execution_count": 74,
   "id": "9937bd2c",
   "metadata": {},
   "outputs": [],
   "source": [
    "dat=[2.76,1.75,1.25,0.25,0.5,1.25,3.5]"
   ]
  },
  {
   "cell_type": "code",
   "execution_count": 75,
   "id": "d74e2ec5",
   "metadata": {},
   "outputs": [
    {
     "data": {
      "text/plain": [
       "1.6085714285714285"
      ]
     },
     "execution_count": 75,
     "metadata": {},
     "output_type": "execute_result"
    }
   ],
   "source": [
    "statistics.mean(dat)"
   ]
  },
  {
   "cell_type": "code",
   "execution_count": 76,
   "id": "8de50fd7",
   "metadata": {},
   "outputs": [
    {
     "data": {
      "text/plain": [
       "1.25"
      ]
     },
     "execution_count": 76,
     "metadata": {},
     "output_type": "execute_result"
    }
   ],
   "source": [
    "statistics.median(dat)"
   ]
  },
  {
   "cell_type": "code",
   "execution_count": 84,
   "id": "8dccd4e5",
   "metadata": {},
   "outputs": [],
   "source": [
    "#write a function to append the numbers 1 to 8 in a list using for loop inside it.\n",
    "\n",
    "def function_append():\n",
    "    s=[] #empty box for appened\n",
    "    \n",
    "    for i in range(1,9):\n",
    "        s.append(i)\n",
    "        print(\"s\",i)\n",
    "    return s\n"
   ]
  },
  {
   "cell_type": "code",
   "execution_count": 85,
   "id": "e53da416",
   "metadata": {},
   "outputs": [
    {
     "name": "stdout",
     "output_type": "stream",
     "text": [
      "s 1\n",
      "s 2\n",
      "s 3\n",
      "s 4\n",
      "s 5\n",
      "s 6\n",
      "s 7\n",
      "s 8\n"
     ]
    },
    {
     "data": {
      "text/plain": [
       "[1, 2, 3, 4, 5, 6, 7, 8]"
      ]
     },
     "execution_count": 85,
     "metadata": {},
     "output_type": "execute_result"
    }
   ],
   "source": [
    "function_append()"
   ]
  },
  {
   "cell_type": "code",
   "execution_count": 97,
   "id": "ea17ce1c",
   "metadata": {},
   "outputs": [],
   "source": [
    "# Write a function to generate the table by using user input.\n",
    "\n",
    "def table():\n",
    "    p=int(input(\"Enter any number to genrate table :\"))\n",
    "    \n",
    "    table=[]\n",
    "    \n",
    "    for i in range(1,11):\n",
    "        table.append(p*i)\n",
    "        \n",
    "        print(\"Value\",p ,\" * \", i ,\"=\",(p*i))\n",
    "    return table\n",
    "        "
   ]
  },
  {
   "cell_type": "code",
   "execution_count": 98,
   "id": "736b071d",
   "metadata": {},
   "outputs": [
    {
     "name": "stdout",
     "output_type": "stream",
     "text": [
      "Enter any number to genrate table :2\n",
      "Value 2  *  1 = 2\n",
      "Value 2  *  2 = 4\n",
      "Value 2  *  3 = 6\n",
      "Value 2  *  4 = 8\n",
      "Value 2  *  5 = 10\n",
      "Value 2  *  6 = 12\n",
      "Value 2  *  7 = 14\n",
      "Value 2  *  8 = 16\n",
      "Value 2  *  9 = 18\n",
      "Value 2  *  10 = 20\n"
     ]
    },
    {
     "data": {
      "text/plain": [
       "[2, 4, 6, 8, 10, 12, 14, 16, 18, 20]"
      ]
     },
     "execution_count": 98,
     "metadata": {},
     "output_type": "execute_result"
    }
   ],
   "source": [
    "table()"
   ]
  },
  {
   "cell_type": "code",
   "execution_count": 111,
   "id": "ddd7542e",
   "metadata": {},
   "outputs": [],
   "source": [
    "def Simple():\n",
    "    p=int(input(\"Enter the Principle Amount \"))\n",
    "    r=int(input(\"Enter the rate \"))\n",
    "    t=int(input(\"Enter the time in year \"))\n",
    "    \n",
    "    SI=p*r*t/100\n",
    "    print(\"Simple Intrest = \",SI)"
   ]
  },
  {
   "cell_type": "code",
   "execution_count": 112,
   "id": "536281b6",
   "metadata": {},
   "outputs": [
    {
     "name": "stdout",
     "output_type": "stream",
     "text": [
      "Enter the Principle Amount 10\n",
      "Enter the rate 20\n",
      "Enter the time 1\n",
      "Simple Intrest =  2.0\n"
     ]
    }
   ],
   "source": [
    "Simple()"
   ]
  },
  {
   "cell_type": "code",
   "execution_count": 113,
   "id": "d602756d",
   "metadata": {},
   "outputs": [
    {
     "name": "stdout",
     "output_type": "stream",
     "text": [
      "enter value10\n",
      "enter value20\n",
      "enter value1\n"
     ]
    },
    {
     "data": {
      "text/plain": [
       "200"
      ]
     },
     "execution_count": 113,
     "metadata": {},
     "output_type": "execute_result"
    }
   ],
   "source": [
    "def si(p,r,t):\n",
    "    \n",
    "    sip=p*r*t\n",
    "    return sip\n",
    "p=int(input(\"enter value\"))\n",
    "\n",
    "r=int(input(\"enter value\"))\n",
    "\n",
    "t=int(input(\"enter value\"))\n",
    "\n",
    "si(p,r,t)    # wrong ans"
   ]
  },
  {
   "cell_type": "code",
   "execution_count": 135,
   "id": "f461bf2e",
   "metadata": {},
   "outputs": [],
   "source": [
    "#Write a function to take user input and append the data in a list\n",
    "\n",
    "def fun_a():\n",
    "    \n",
    "    list_1=[] # empty list\n",
    "    \n",
    "    n=int(input(\"Enter your desired number\"))\n",
    "    \n",
    "    for i in range(0,n):\n",
    "        list_1.append(i)\n",
    "        print(\"Value inserted by loop =\",i,\"Number\",n)\n",
    "    return(list_1)\n",
    "        "
   ]
  },
  {
   "cell_type": "code",
   "execution_count": 136,
   "id": "31123c26",
   "metadata": {},
   "outputs": [
    {
     "name": "stdout",
     "output_type": "stream",
     "text": [
      "Enter your desired number5\n",
      "Value inserted by loop = 0 Number 5\n",
      "Value inserted by loop = 1 Number 5\n",
      "Value inserted by loop = 2 Number 5\n",
      "Value inserted by loop = 3 Number 5\n",
      "Value inserted by loop = 4 Number 5\n"
     ]
    },
    {
     "data": {
      "text/plain": [
       "[0, 1, 2, 3, 4]"
      ]
     },
     "execution_count": 136,
     "metadata": {},
     "output_type": "execute_result"
    }
   ],
   "source": [
    "fun_a()"
   ]
  },
  {
   "cell_type": "code",
   "execution_count": null,
   "id": "1c9de069",
   "metadata": {},
   "outputs": [],
   "source": []
  }
 ],
 "metadata": {
  "kernelspec": {
   "display_name": "Python 3 (ipykernel)",
   "language": "python",
   "name": "python3"
  },
  "language_info": {
   "codemirror_mode": {
    "name": "ipython",
    "version": 3
   },
   "file_extension": ".py",
   "mimetype": "text/x-python",
   "name": "python",
   "nbconvert_exporter": "python",
   "pygments_lexer": "ipython3",
   "version": "3.9.12"
  }
 },
 "nbformat": 4,
 "nbformat_minor": 5
}
