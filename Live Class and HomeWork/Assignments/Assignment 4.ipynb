{
 "cells": [
  {
   "cell_type": "markdown",
   "id": "411cae0d",
   "metadata": {},
   "source": [
    "# LOOPS(if/else condition)"
   ]
  },
  {
   "cell_type": "code",
   "execution_count": 1,
   "id": "917fc0a4",
   "metadata": {},
   "outputs": [
    {
     "name": "stdout",
     "output_type": "stream",
     "text": [
      "0 1 2 3 "
     ]
    }
   ],
   "source": [
    "x=0\n",
    "\n",
    "#define a while loop\n",
    "\n",
    "while(x<4):\n",
    "    print(x,end=\" \")\n",
    "    x=x+1"
   ]
  },
  {
   "cell_type": "code",
   "execution_count": 2,
   "id": "100ebe95",
   "metadata": {},
   "outputs": [
    {
     "name": "stdout",
     "output_type": "stream",
     "text": [
      "1 2 3 4 5 6 7 8 9 "
     ]
    }
   ],
   "source": [
    "# task: print First 10 natural number using while loop:\n",
    "\n",
    "i=1\n",
    "while (i<10):\n",
    "    print(i,end=\" \")\n",
    "    \n",
    "    i=i+1"
   ]
  },
  {
   "cell_type": "code",
   "execution_count": 3,
   "id": "36df2b39",
   "metadata": {},
   "outputs": [
    {
     "name": "stdout",
     "output_type": "stream",
     "text": [
      "2 3 4 5 6 "
     ]
    }
   ],
   "source": [
    "for x in range(2,7):\n",
    "    print(x,end=\" \")"
   ]
  },
  {
   "cell_type": "code",
   "execution_count": 4,
   "id": "7958eee0",
   "metadata": {},
   "outputs": [
    {
     "name": "stdout",
     "output_type": "stream",
     "text": [
      "Jan  Feb  Mar  April  May  June  "
     ]
    }
   ],
   "source": [
    "Months=[\"Jan\",\"Feb\",\"Mar\",\"April\",\"May\",\"June\"]\n",
    "\n",
    "for m in Months:\n",
    "    print(m,end=\"  \")"
   ]
  },
  {
   "cell_type": "code",
   "execution_count": 5,
   "id": "814d737e",
   "metadata": {},
   "outputs": [
    {
     "name": "stdout",
     "output_type": "stream",
     "text": [
      "cat\n",
      "window\n",
      "defensestrate\n"
     ]
    }
   ],
   "source": [
    "# Measur some strings:\n",
    "words=[\"cat\",\"window\",\"defensestrate\"]\n",
    "\n",
    "for w in words:\n",
    "    print(w)"
   ]
  },
  {
   "cell_type": "code",
   "execution_count": 6,
   "id": "d25f34c9",
   "metadata": {},
   "outputs": [
    {
     "name": "stdout",
     "output_type": "stream",
     "text": [
      "cat 3\n",
      "window 6\n",
      "defensestrate 13\n"
     ]
    }
   ],
   "source": [
    "for w in words:\n",
    "    print(w,len(w))"
   ]
  },
  {
   "cell_type": "code",
   "execution_count": 7,
   "id": "ddbfee1b",
   "metadata": {},
   "outputs": [
    {
     "data": {
      "text/plain": [
       "range(5, 10)"
      ]
     },
     "execution_count": 7,
     "metadata": {},
     "output_type": "execute_result"
    }
   ],
   "source": [
    "range(5,10)"
   ]
  },
  {
   "cell_type": "code",
   "execution_count": 8,
   "id": "914c2117",
   "metadata": {},
   "outputs": [
    {
     "data": {
      "text/plain": [
       "range(0, 10, 3)"
      ]
     },
     "execution_count": 8,
     "metadata": {},
     "output_type": "execute_result"
    }
   ],
   "source": [
    "range(0,10,3)"
   ]
  },
  {
   "cell_type": "code",
   "execution_count": 9,
   "id": "1db87f9a",
   "metadata": {},
   "outputs": [
    {
     "data": {
      "text/plain": [
       "[0, 1, 2, 3, 4, 5, 6, 7, 8]"
      ]
     },
     "execution_count": 9,
     "metadata": {},
     "output_type": "execute_result"
    }
   ],
   "source": [
    "list(range(9))"
   ]
  },
  {
   "cell_type": "code",
   "execution_count": 10,
   "id": "642e7106",
   "metadata": {},
   "outputs": [],
   "source": [
    "a=[\"Mary\",\"Had\",\"a\",\"little\",\"lamb\"]"
   ]
  },
  {
   "cell_type": "code",
   "execution_count": 11,
   "id": "87f796cd",
   "metadata": {},
   "outputs": [
    {
     "name": "stdout",
     "output_type": "stream",
     "text": [
      "4\n",
      "3\n",
      "1\n",
      "6\n",
      "4\n"
     ]
    }
   ],
   "source": [
    "for a in a:\n",
    "    print(len(a))"
   ]
  },
  {
   "cell_type": "code",
   "execution_count": 12,
   "id": "cdfaf6a8",
   "metadata": {},
   "outputs": [],
   "source": [
    "x=8\n",
    "y=4\n",
    "if(x<y):\n",
    "    st=\"x is less than y\"\n",
    "else:\n",
    "    st=(\"X is greater than Y\")"
   ]
  },
  {
   "cell_type": "code",
   "execution_count": 13,
   "id": "f7111c0e",
   "metadata": {},
   "outputs": [
    {
     "name": "stdout",
     "output_type": "stream",
     "text": [
      "X is greater than Y\n"
     ]
    }
   ],
   "source": [
    "print(st)"
   ]
  },
  {
   "cell_type": "code",
   "execution_count": 14,
   "id": "d6bcf630",
   "metadata": {},
   "outputs": [
    {
     "name": "stdout",
     "output_type": "stream",
     "text": [
      "Please enter an integer:2\n"
     ]
    }
   ],
   "source": [
    "x=int(input(\"Please enter an integer:\"))"
   ]
  },
  {
   "cell_type": "code",
   "execution_count": 15,
   "id": "82b5f01a",
   "metadata": {},
   "outputs": [
    {
     "name": "stdout",
     "output_type": "stream",
     "text": [
      "More\n"
     ]
    }
   ],
   "source": [
    "if x<0:\n",
    "    x=0\n",
    "    print(\"Negative changed to zero\")\n",
    "elif x==0:\n",
    "    print(\"Zero\")\n",
    "elif x==1:\n",
    "    print(\"Single\")\n",
    "else:\n",
    "    print(\"More\")"
   ]
  },
  {
   "cell_type": "code",
   "execution_count": 17,
   "id": "e3d9567c",
   "metadata": {},
   "outputs": [
    {
     "name": "stdout",
     "output_type": "stream",
     "text": [
      "FREE\n",
      "FREE\n"
     ]
    }
   ],
   "source": [
    "# Task: write a program using if-elif with different country value and total values\n",
    "\n",
    "country=\"AU\"\n",
    "total=100\n",
    "\n",
    "if country==\"US\":\n",
    "    if total<=50:\n",
    "        print(\"Shipping Cost is $50\")\n",
    "    elif total<=100:\n",
    "        print(\"Shipping Cost is $25\")\n",
    "    elif total<=150:\n",
    "        print(\"Shipping Cost $5\")\n",
    "    else:\n",
    "        print(\"FREE\")\n",
    "        \n",
    "if country == \"AU\":\n",
    "    if total <= 50:\n",
    "        print(\"Shipping Cost is $100\")\n",
    "    else:\n",
    "        print(\"FREE\")\n",
    "    \n",
    "if country==\"AU\":\n",
    "    if total<=50:\n",
    "        print(\"Shipping Cost is $100\")\n",
    "    else:\n",
    "        print(\"FREE\")"
   ]
  },
  {
   "cell_type": "code",
   "execution_count": 18,
   "id": "de9f67c9",
   "metadata": {},
   "outputs": [
    {
     "name": "stdout",
     "output_type": "stream",
     "text": [
      "FREE\n",
      "FREE\n"
     ]
    }
   ],
   "source": [
    "Total=100\n",
    "Country=\"US\"\n",
    "\n",
    "if country==\"US\":\n",
    "    if total<=50:\n",
    "        print(\"Shipping Cost is $50\")\n",
    "    elif total<=100:\n",
    "        print(\"Shipping Cost is $25\")\n",
    "    elif total<=150:\n",
    "        print(\"Shipping Cost $5\")\n",
    "    else:\n",
    "        print(\"FREE\")\n",
    "        \n",
    "if country == \"AU\":\n",
    "    if total <= 50:\n",
    "        print(\"Shipping Cost is $100\")\n",
    "    else:\n",
    "        print(\"FREE\")\n",
    "    \n",
    "if country==\"AU\":\n",
    "    if total<=50:\n",
    "        print(\"Shipping Cost is $100\")\n",
    "    else:\n",
    "        print(\"FREE\")"
   ]
  },
  {
   "cell_type": "code",
   "execution_count": 19,
   "id": "dfb94393",
   "metadata": {},
   "outputs": [
    {
     "name": "stdout",
     "output_type": "stream",
     "text": [
      "2  Number is Even\n",
      "4  Number is Even\n",
      "6  Number is Even\n",
      "8  Number is Even\n"
     ]
    }
   ],
   "source": [
    "# write a program to find even or odd using for loop /range function.\n",
    "\n",
    "for i in range(2,10):\n",
    "    if i%2==0:\n",
    "        print(i,\" Number is Even\")\n",
    "        "
   ]
  },
  {
   "cell_type": "code",
   "execution_count": 20,
   "id": "ff3a1ca5",
   "metadata": {},
   "outputs": [
    {
     "name": "stdout",
     "output_type": "stream",
     "text": [
      "This is the odd number 1\n",
      "This is the odd number 3\n",
      "This is the odd number 5\n",
      "This is the odd number 7\n",
      "This is the odd number 9\n"
     ]
    }
   ],
   "source": [
    "for i in range(1,10):\n",
    "    if i%2!=0:\n",
    "        print(\"This is the odd number\",i)"
   ]
  },
  {
   "cell_type": "code",
   "execution_count": 21,
   "id": "d94cceae",
   "metadata": {},
   "outputs": [
    {
     "name": "stdout",
     "output_type": "stream",
     "text": [
      "1 2 3 4 6 7 8 9 11 12 13 14 "
     ]
    }
   ],
   "source": [
    "# write two different loops for break if x is even number and continue when the number is divide by 5.\n",
    "\n",
    "for x in range(0,20):\n",
    "    if (x==15):\n",
    "        break\n",
    "    if(x%5==0):\n",
    "        continue\n",
    "    print(x,end=\" \")\n"
   ]
  },
  {
   "cell_type": "code",
   "execution_count": 22,
   "id": "8202ddc2",
   "metadata": {},
   "outputs": [
    {
     "name": "stdout",
     "output_type": "stream",
     "text": [
      "2 3 4 6 7 8 9 "
     ]
    }
   ],
   "source": [
    "for x in range(2,20):\n",
    "    if x==10:\n",
    "        break\n",
    "    if x%5==0:\n",
    "        continue\n",
    "        \n",
    "        \n",
    "    print(x, end=\" \")"
   ]
  },
  {
   "cell_type": "code",
   "execution_count": 23,
   "id": "ca61c627",
   "metadata": {},
   "outputs": [
    {
     "name": "stdout",
     "output_type": "stream",
     "text": [
      "11 13 15 17 19 Break\n"
     ]
    }
   ],
   "source": [
    "for x in range(10,20):\n",
    "    if x==20:\n",
    "        break\n",
    "    if (x%2==0):# we are boycotting even from range 10 to break 20 point\n",
    "        continue\n",
    "    print(x,end=\" \")\n",
    "    \n",
    "print(\"Break\")"
   ]
  },
  {
   "cell_type": "code",
   "execution_count": 24,
   "id": "924622ba",
   "metadata": {},
   "outputs": [
    {
     "name": "stdout",
     "output_type": "stream",
     "text": [
      "10 12 14 "
     ]
    }
   ],
   "source": [
    "for x in range(10,20):\n",
    "    if(x==15):\n",
    "        break\n",
    "    if (x%2==1):# we are boycotting odds from range 1o to break 15 point\n",
    "        continue\n",
    "    print(x,end=\" \")"
   ]
  },
  {
   "cell_type": "code",
   "execution_count": 25,
   "id": "2f4154d8",
   "metadata": {},
   "outputs": [],
   "source": [
    "# Display numbers divisible by 5 from a list.Iterate the given list of numbers and print only those numbers which are divisible by 5."
   ]
  },
  {
   "cell_type": "code",
   "execution_count": 26,
   "id": "a8631997",
   "metadata": {},
   "outputs": [
    {
     "name": "stdout",
     "output_type": "stream",
     "text": [
      "55\n"
     ]
    }
   ],
   "source": [
    "num_list = [10, 20, 33, 46, 55]\n",
    "\n",
    "for i in num_list:\n",
    "    i%5==0\n",
    "print(i)"
   ]
  },
  {
   "cell_type": "code",
   "execution_count": 27,
   "id": "621969d2",
   "metadata": {},
   "outputs": [
    {
     "name": "stdout",
     "output_type": "stream",
     "text": [
      "Given list: [10, 20, 33, 46, 55]\n",
      "Divisible by 5:\n",
      "10 20 33 46 55 "
     ]
    }
   ],
   "source": [
    "num_list = [10, 20, 33, 46, 55]\n",
    "\n",
    "print(\"Given list:\",num_list)\n",
    "print(\"Divisible by 5:\")\n",
    "\n",
    "for i in num_list:\n",
    "    i%5==0\n",
    "    print(i,end=\" \")\n"
   ]
  },
  {
   "cell_type": "code",
   "execution_count": 28,
   "id": "e81f356c",
   "metadata": {},
   "outputs": [
    {
     "name": "stdout",
     "output_type": "stream",
     "text": [
      "Enter the number5\n",
      "\n",
      "\n",
      "Sum is: 1\n",
      "\n",
      "Sum is: 3\n",
      "\n",
      "Sum is: 6\n",
      "\n",
      "Sum is: 10\n",
      "\n",
      "Sum is: 15"
     ]
    },
    {
     "data": {
      "text/plain": [
       "'\\ns=s+i\\n1=0+1\\n\\n3=1+(1+1) here 1 is first loop\\n6=3+(2+1) n loop-2\\n9=6+(3+1) n loop-3\\n14=9+(4+1) n loop-4\\n20=14+(5+1) n loop-5\\n\\n'"
      ]
     },
     "execution_count": 28,
     "metadata": {},
     "output_type": "execute_result"
    }
   ],
   "source": [
    "# Calculate the sum of all numbers from 1 to a given number\n",
    "# run loop n times, stop: n+1 (because never include stop number in result)\n",
    "# add cur number to sum variable\n",
    "s=0\n",
    "n=int(input(\"Enter the number\"))\n",
    "\n",
    "for i in range(1,n+1,1):\n",
    "   \n",
    "    s=s+i\n",
    "    \n",
    "    print('\\n')\n",
    "    print(\"Sum is:\",s,end=\"\")\n",
    "    \n",
    "  #working step(size1)\n",
    "\"\"\"\n",
    "s=s+i\n",
    "1=0+1\n",
    "\n",
    "3=1+(1+1) here 1 is first loop\n",
    "6=3+(2+1) n loop-2\n",
    "9=6+(3+1) n loop-3\n",
    "14=9+(4+1) n loop-4\n",
    "20=14+(5+1) n loop-5\n",
    "\n",
    "\"\"\""
   ]
  },
  {
   "cell_type": "markdown",
   "id": "cc60b0ca",
   "metadata": {},
   "source": [
    "s=s+1\n",
    "\n",
    "s=0 #### at initial your sum is zero\n",
    "n=int(input(\"Enter the number\")) ## here you enter number 4\n",
    "\n",
    "for i in range(1,n+1,1):\n",
    "### here loop will start 1,2,3,4 okay here 5 will not come because\n",
    "##first number include last number not included\n",
    "\n",
    "#### last one is step we gave 1 that is 1,2,3,4 like that\n",
    "\n",
    "s=s+i # in s we store ans and i iterate the element\n",
    "\n",
    "print(\"Sum is:\",s)"
   ]
  },
  {
   "cell_type": "code",
   "execution_count": 29,
   "id": "4c9a3c04",
   "metadata": {},
   "outputs": [
    {
     "name": "stdout",
     "output_type": "stream",
     "text": [
      "2 4 6 8 10 12 14 16 18 20 "
     ]
    }
   ],
   "source": [
    "# Write a program to print multiplication table of a given number\n",
    "\n",
    "n=2 #start range 1, stop =11,step=1\n",
    "\n",
    "for i in range(1,11,1):\n",
    "    result=n*i\n",
    "    print(result,end=\" \") # variable result added...to fetch output"
   ]
  },
  {
   "cell_type": "code",
   "execution_count": 30,
   "id": "07e528c6",
   "metadata": {},
   "outputs": [
    {
     "name": "stdout",
     "output_type": "stream",
     "text": [
      "Enter the number10\n",
      "\n",
      "\n",
      "Sum is: 1\n",
      "\n",
      "Sum is: 4\n",
      "\n",
      "Sum is: 9\n",
      "\n",
      "Sum is: 16\n",
      "\n",
      "Sum is: 25"
     ]
    },
    {
     "data": {
      "text/plain": [
       "'\\ns=s+i\\n1=0+1\\n---step size 2----\\n4=1+(2+1) here 1 is first loop\\n\\n---step size 4--\\n9=4+(4+1) n loop-2\\n\\n-----step size 6---\\n16=9+(6+1) n loop-3\\n\\n-----step size 8---\\n25=16+(8+1) n loop-4\\n\\n------step size 10---\\n36=25+(10+1) n loop-5\\n\\n'"
      ]
     },
     "execution_count": 30,
     "metadata": {},
     "output_type": "execute_result"
    }
   ],
   "source": [
    "s=0\n",
    "n=int(input(\"Enter the number\"))\n",
    "\n",
    "for i in range(1,n+1,2):\n",
    "   \n",
    "    s=s+i\n",
    "    \n",
    "    print('\\n')\n",
    "    print(\"Sum is:\",s,end=\"\")\n",
    "    \n",
    "    #working step(size2)\n",
    "\"\"\"\n",
    "s=s+i\n",
    "1=0+1\n",
    "---step size 2----\n",
    "4=1+(2+1) here 1 is first loop\n",
    "\n",
    "---step size 4--\n",
    "9=4+(4+1) n loop-2\n",
    "\n",
    "-----step size 6---\n",
    "16=9+(6+1) n loop-3\n",
    "\n",
    "-----step size 8---\n",
    "25=16+(8+1) n loop-4\n",
    "\"\"\""
   ]
  },
  {
   "cell_type": "code",
   "execution_count": 2,
   "id": "9051b6fd",
   "metadata": {},
   "outputs": [
    {
     "name": "stdout",
     "output_type": "stream",
     "text": [
      "[-4, -2, 0, 2, 4]\n"
     ]
    }
   ],
   "source": [
    "vec = [-4, -2, 0, 2, 4]\n",
    "list1=[]\n",
    "for i in vec:\n",
    "    list1.append(i)\n",
    "    i*2\n",
    "print(list1)"
   ]
  },
  {
   "cell_type": "code",
   "execution_count": 3,
   "id": "451d84d3",
   "metadata": {},
   "outputs": [
    {
     "data": {
      "text/plain": [
       "[-4, -2, 0, 2, 4]"
      ]
     },
     "execution_count": 3,
     "metadata": {},
     "output_type": "execute_result"
    }
   ],
   "source": [
    "list1"
   ]
  },
  {
   "cell_type": "code",
   "execution_count": 4,
   "id": "73f171ac",
   "metadata": {},
   "outputs": [
    {
     "data": {
      "text/plain": [
       "[-4, -2, 0, 2, 4]"
      ]
     },
     "execution_count": 4,
     "metadata": {},
     "output_type": "execute_result"
    }
   ],
   "source": [
    "vec"
   ]
  },
  {
   "cell_type": "code",
   "execution_count": 7,
   "id": "0ca6bd40",
   "metadata": {},
   "outputs": [],
   "source": [
    "c=[x for x in vec if x>=0]"
   ]
  },
  {
   "cell_type": "code",
   "execution_count": 8,
   "id": "246efade",
   "metadata": {},
   "outputs": [
    {
     "data": {
      "text/plain": [
       "[0, 2, 4]"
      ]
     },
     "execution_count": 8,
     "metadata": {},
     "output_type": "execute_result"
    }
   ],
   "source": [
    "c"
   ]
  },
  {
   "cell_type": "code",
   "execution_count": 14,
   "id": "01d5a860",
   "metadata": {},
   "outputs": [],
   "source": [
    "def multifyfun():\n",
    "    for x in vec:\n",
    "        abc=x*2\n",
    "        print(abc,end=\" \")\n",
    "    "
   ]
  },
  {
   "cell_type": "code",
   "execution_count": 15,
   "id": "7980f7cb",
   "metadata": {},
   "outputs": [
    {
     "name": "stdout",
     "output_type": "stream",
     "text": [
      "-8 -4 0 4 8 "
     ]
    }
   ],
   "source": [
    "multifyfun()"
   ]
  },
  {
   "cell_type": "code",
   "execution_count": 18,
   "id": "6b8ea63e",
   "metadata": {},
   "outputs": [],
   "source": [
    "c=[x for x in vec if x<0]"
   ]
  },
  {
   "cell_type": "code",
   "execution_count": 19,
   "id": "c7dd9adf",
   "metadata": {},
   "outputs": [
    {
     "data": {
      "text/plain": [
       "[-4, -2]"
      ]
     },
     "execution_count": 19,
     "metadata": {},
     "output_type": "execute_result"
    }
   ],
   "source": [
    "c"
   ]
  },
  {
   "cell_type": "code",
   "execution_count": 21,
   "id": "aa77b9b8",
   "metadata": {},
   "outputs": [],
   "source": [
    "# apply a function to all the elements\n",
    "def fun():\n",
    "    for x in vec:\n",
    "        if x%2==0:\n",
    "            print(x)\n",
    "    \n"
   ]
  },
  {
   "cell_type": "code",
   "execution_count": 23,
   "id": "bdb4fc11",
   "metadata": {},
   "outputs": [
    {
     "name": "stdout",
     "output_type": "stream",
     "text": [
      "-4\n",
      "-2\n",
      "0\n",
      "2\n",
      "4\n"
     ]
    }
   ],
   "source": [
    "fun()"
   ]
  },
  {
   "cell_type": "code",
   "execution_count": 24,
   "id": "9b1228e1",
   "metadata": {},
   "outputs": [],
   "source": [
    "freshfruit = [' banana', ' loganberry ', 'passion fruit ']"
   ]
  },
  {
   "cell_type": "code",
   "execution_count": 26,
   "id": "07f1c63c",
   "metadata": {},
   "outputs": [
    {
     "data": {
      "text/plain": [
       "[' banana', ' loganberry ', 'passion fruit ']"
      ]
     },
     "execution_count": 26,
     "metadata": {},
     "output_type": "execute_result"
    }
   ],
   "source": [
    "freshfruit"
   ]
  },
  {
   "cell_type": "code",
   "execution_count": 29,
   "id": "06c17909",
   "metadata": {},
   "outputs": [
    {
     "name": "stdout",
     "output_type": "stream",
     "text": [
      " banana\n",
      " loganberry \n",
      "passion fruit \n"
     ]
    }
   ],
   "source": [
    "for f in freshfruit:\n",
    "    print(f)"
   ]
  },
  {
   "cell_type": "code",
   "execution_count": 30,
   "id": "a1f2454d",
   "metadata": {},
   "outputs": [
    {
     "data": {
      "text/plain": [
       "[(0, 0), (1, 1), (2, 4), (3, 9), (4, 16), (5, 25)]"
      ]
     },
     "execution_count": 30,
     "metadata": {},
     "output_type": "execute_result"
    }
   ],
   "source": [
    "# create a list of 2-tuples like (number, square)\n",
    "\n",
    "[(x,x**2)for x in range(6)]\n"
   ]
  },
  {
   "cell_type": "code",
   "execution_count": 31,
   "id": "0887d773",
   "metadata": {},
   "outputs": [
    {
     "name": "stdout",
     "output_type": "stream",
     "text": [
      "apple\n",
      "banana\n",
      "orange\n",
      "pear\n"
     ]
    }
   ],
   "source": [
    "basket = ['apple', 'orange', 'apple', 'pear', 'orange', 'banana']\n",
    "\n",
    "for f in sorted(set(basket)):\n",
    "    print(f)\n",
    "    "
   ]
  },
  {
   "cell_type": "code",
   "execution_count": null,
   "id": "fafcd31a",
   "metadata": {},
   "outputs": [],
   "source": [
    "#To loop over a sequence in reverse, first specify the sequence in a forward direction and then call the"
   ]
  },
  {
   "cell_type": "code",
   "execution_count": 37,
   "id": "ceea24aa",
   "metadata": {},
   "outputs": [],
   "source": [
    "def reversedfun():\n",
    "    for i in reversed(range(1,10,2)):\n",
    "        print(i)"
   ]
  },
  {
   "cell_type": "code",
   "execution_count": 38,
   "id": "d3cd169c",
   "metadata": {},
   "outputs": [
    {
     "name": "stdout",
     "output_type": "stream",
     "text": [
      "9\n",
      "7\n",
      "5\n",
      "3\n",
      "1\n"
     ]
    }
   ],
   "source": [
    "reversedfun()"
   ]
  },
  {
   "cell_type": "code",
   "execution_count": null,
   "id": "8a764399",
   "metadata": {},
   "outputs": [],
   "source": []
  }
 ],
 "metadata": {
  "kernelspec": {
   "display_name": "Python 3 (ipykernel)",
   "language": "python",
   "name": "python3"
  },
  "language_info": {
   "codemirror_mode": {
    "name": "ipython",
    "version": 3
   },
   "file_extension": ".py",
   "mimetype": "text/x-python",
   "name": "python",
   "nbconvert_exporter": "python",
   "pygments_lexer": "ipython3",
   "version": "3.9.12"
  }
 },
 "nbformat": 4,
 "nbformat_minor": 5
}
