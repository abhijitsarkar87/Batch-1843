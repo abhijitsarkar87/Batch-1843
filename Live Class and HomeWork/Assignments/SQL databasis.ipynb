{
 "cells": [
  {
   "cell_type": "code",
   "execution_count": 1,
   "id": "a1a38650",
   "metadata": {},
   "outputs": [],
   "source": [
    "import sqlite3"
   ]
  },
  {
   "cell_type": "code",
   "execution_count": 2,
   "id": "98339505",
   "metadata": {},
   "outputs": [],
   "source": [
    "conn=sqlite3.connect(\"Employee_Assignment.db\")"
   ]
  },
  {
   "cell_type": "code",
   "execution_count": 5,
   "id": "6ce8d82c",
   "metadata": {},
   "outputs": [],
   "source": [
    "cur=conn.cursor()"
   ]
  },
  {
   "cell_type": "code",
   "execution_count": 6,
   "id": "d6ec06a8",
   "metadata": {},
   "outputs": [
    {
     "data": {
      "text/plain": [
       "<sqlite3.Cursor at 0x25350685ea0>"
      ]
     },
     "execution_count": 6,
     "metadata": {},
     "output_type": "execute_result"
    }
   ],
   "source": [
    "conn.execute(\"Create Table Employees(ID int primary key,Name text,Age int,Address char(20),salary real)\")"
   ]
  },
  {
   "cell_type": "code",
   "execution_count": 7,
   "id": "12ca6ced",
   "metadata": {},
   "outputs": [
    {
     "data": {
      "text/plain": [
       "<sqlite3.Cursor at 0x25350685b20>"
      ]
     },
     "execution_count": 7,
     "metadata": {},
     "output_type": "execute_result"
    }
   ],
   "source": [
    "conn.execute(\"Insert into Employees(ID,Name,Age,Address,salary) values(1,'Ajeet',27,'Delhi',20000.00)\")\n"
   ]
  },
  {
   "cell_type": "code",
   "execution_count": 9,
   "id": "68af3a9c",
   "metadata": {},
   "outputs": [
    {
     "data": {
      "text/plain": [
       "<sqlite3.Cursor at 0x25350685810>"
      ]
     },
     "execution_count": 9,
     "metadata": {},
     "output_type": "execute_result"
    }
   ],
   "source": [
    "conn.execute(\"insert into Employees values(2,'Allen',22,'London',25000),(3,'Marks',29,'CA',200000),('4','Kanchan',22,'Ghaziabad',65000)\")\n"
   ]
  },
  {
   "cell_type": "code",
   "execution_count": 10,
   "id": "68cd2741",
   "metadata": {},
   "outputs": [],
   "source": [
    "conn.commit()"
   ]
  },
  {
   "cell_type": "code",
   "execution_count": 11,
   "id": "c4f1a42c",
   "metadata": {},
   "outputs": [],
   "source": [
    "result=cur.execute(\"Select * from Employees\")"
   ]
  },
  {
   "cell_type": "code",
   "execution_count": 12,
   "id": "baf58b24",
   "metadata": {},
   "outputs": [
    {
     "name": "stdout",
     "output_type": "stream",
     "text": [
      "(1, 'Ajeet', 27, 'Delhi', 20000.0)\n",
      "(2, 'Allen', 22, 'London', 25000.0)\n",
      "(3, 'Marks', 29, 'CA', 200000.0)\n",
      "(4, 'Kanchan', 22, 'Ghaziabad', 65000.0)\n"
     ]
    }
   ],
   "source": [
    "for i in result:\n",
    "    print(i)"
   ]
  },
  {
   "cell_type": "code",
   "execution_count": 13,
   "id": "615a2aa7",
   "metadata": {},
   "outputs": [
    {
     "data": {
      "text/plain": [
       "<sqlite3.Cursor at 0x25350685f80>"
      ]
     },
     "execution_count": 13,
     "metadata": {},
     "output_type": "execute_result"
    }
   ],
   "source": [
    "cur.execute(\"update Employees set Name='Abhijit' where ID is 2 \")"
   ]
  },
  {
   "cell_type": "code",
   "execution_count": 15,
   "id": "11541801",
   "metadata": {},
   "outputs": [],
   "source": [
    "conn.commit()"
   ]
  },
  {
   "cell_type": "code",
   "execution_count": 16,
   "id": "6fe76aa2",
   "metadata": {},
   "outputs": [],
   "source": [
    "result=cur.execute(\"Select * from Employees\")"
   ]
  },
  {
   "cell_type": "code",
   "execution_count": 17,
   "id": "f383af0f",
   "metadata": {},
   "outputs": [
    {
     "data": {
      "text/plain": [
       "[(1, 'Ajeet', 27, 'Delhi', 20000.0),\n",
       " (2, 'Abhijit', 22, 'London', 25000.0),\n",
       " (3, 'Marks', 29, 'CA', 200000.0),\n",
       " (4, 'Kanchan', 22, 'Ghaziabad', 65000.0)]"
      ]
     },
     "execution_count": 17,
     "metadata": {},
     "output_type": "execute_result"
    }
   ],
   "source": [
    "result.fetchall()"
   ]
  },
  {
   "cell_type": "code",
   "execution_count": 21,
   "id": "b5ef1b26",
   "metadata": {},
   "outputs": [
    {
     "data": {
      "text/plain": [
       "<sqlite3.Cursor at 0x2535056e9d0>"
      ]
     },
     "execution_count": 21,
     "metadata": {},
     "output_type": "execute_result"
    }
   ],
   "source": [
    "conn.execute(\"Delete from Employees where Name is 'Abhijit' \")"
   ]
  },
  {
   "cell_type": "code",
   "execution_count": 22,
   "id": "6c48c9a2",
   "metadata": {},
   "outputs": [],
   "source": [
    "conn.commit()"
   ]
  },
  {
   "cell_type": "code",
   "execution_count": 23,
   "id": "bc4ee40d",
   "metadata": {},
   "outputs": [
    {
     "data": {
      "text/plain": [
       "[(1, 'Ajeet', 27, 'Delhi', 20000.0),\n",
       " (3, 'Marks', 29, 'CA', 200000.0),\n",
       " (4, 'Kanchan', 22, 'Ghaziabad', 65000.0)]"
      ]
     },
     "execution_count": 23,
     "metadata": {},
     "output_type": "execute_result"
    }
   ],
   "source": [
    "result=cur.execute(\"Select * from Employees\")\n",
    "result.fetchall()"
   ]
  },
  {
   "cell_type": "code",
   "execution_count": null,
   "id": "43c666af",
   "metadata": {},
   "outputs": [],
   "source": []
  }
 ],
 "metadata": {
  "kernelspec": {
   "display_name": "Python 3 (ipykernel)",
   "language": "python",
   "name": "python3"
  },
  "language_info": {
   "codemirror_mode": {
    "name": "ipython",
    "version": 3
   },
   "file_extension": ".py",
   "mimetype": "text/x-python",
   "name": "python",
   "nbconvert_exporter": "python",
   "pygments_lexer": "ipython3",
   "version": "3.9.12"
  }
 },
 "nbformat": 4,
 "nbformat_minor": 5
}
