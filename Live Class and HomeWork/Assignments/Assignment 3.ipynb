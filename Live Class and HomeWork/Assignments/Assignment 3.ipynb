{
 "cells": [
  {
   "cell_type": "markdown",
   "id": "d35f68b2",
   "metadata": {},
   "source": [
    "# String finctions in Python"
   ]
  },
  {
   "cell_type": "code",
   "execution_count": 1,
   "id": "3930d03d",
   "metadata": {},
   "outputs": [],
   "source": [
    "name=\"Tesla\""
   ]
  },
  {
   "cell_type": "code",
   "execution_count": 2,
   "id": "aa4e8c03",
   "metadata": {},
   "outputs": [
    {
     "data": {
      "text/plain": [
       "'tesla'"
      ]
     },
     "execution_count": 2,
     "metadata": {},
     "output_type": "execute_result"
    }
   ],
   "source": [
    "name.lower()"
   ]
  },
  {
   "cell_type": "code",
   "execution_count": 3,
   "id": "c8c5b870",
   "metadata": {},
   "outputs": [
    {
     "data": {
      "text/plain": [
       "'TESLA'"
      ]
     },
     "execution_count": 3,
     "metadata": {},
     "output_type": "execute_result"
    }
   ],
   "source": [
    "name.upper()"
   ]
  },
  {
   "cell_type": "code",
   "execution_count": 4,
   "id": "4424c9ee",
   "metadata": {},
   "outputs": [
    {
     "data": {
      "text/plain": [
       "5"
      ]
     },
     "execution_count": 4,
     "metadata": {},
     "output_type": "execute_result"
    }
   ],
   "source": [
    "len(name)"
   ]
  },
  {
   "cell_type": "code",
   "execution_count": 5,
   "id": "6df7b4e6",
   "metadata": {},
   "outputs": [
    {
     "data": {
      "text/plain": [
       "'Tesla'"
      ]
     },
     "execution_count": 5,
     "metadata": {},
     "output_type": "execute_result"
    }
   ],
   "source": [
    "name.capitalize()"
   ]
  },
  {
   "cell_type": "code",
   "execution_count": 6,
   "id": "4c2d4fa8",
   "metadata": {},
   "outputs": [
    {
     "data": {
      "text/plain": [
       "True"
      ]
     },
     "execution_count": 6,
     "metadata": {},
     "output_type": "execute_result"
    }
   ],
   "source": [
    "name.isalpha()"
   ]
  },
  {
   "cell_type": "code",
   "execution_count": 7,
   "id": "33f672f9",
   "metadata": {},
   "outputs": [],
   "source": [
    "startship=\"Enterprise\""
   ]
  },
  {
   "cell_type": "code",
   "execution_count": 8,
   "id": "7847725d",
   "metadata": {},
   "outputs": [
    {
     "data": {
      "text/plain": [
       "False"
      ]
     },
     "execution_count": 8,
     "metadata": {},
     "output_type": "execute_result"
    }
   ],
   "source": [
    "startship.startswith(\"en\")"
   ]
  },
  {
   "cell_type": "code",
   "execution_count": 9,
   "id": "c67295ff",
   "metadata": {},
   "outputs": [
    {
     "data": {
      "text/plain": [
       "True"
      ]
     },
     "execution_count": 9,
     "metadata": {},
     "output_type": "execute_result"
    }
   ],
   "source": [
    "startship.endswith(\"rise\")"
   ]
  },
  {
   "cell_type": "code",
   "execution_count": 10,
   "id": "36a60065",
   "metadata": {},
   "outputs": [],
   "source": [
    "#replace\n",
    "\n",
    "# str.replace(old,new)"
   ]
  },
  {
   "cell_type": "code",
   "execution_count": 11,
   "id": "c201649e",
   "metadata": {},
   "outputs": [],
   "source": [
    "string=\"Welcome Sir\""
   ]
  },
  {
   "cell_type": "code",
   "execution_count": 12,
   "id": "fd983075",
   "metadata": {},
   "outputs": [
    {
     "name": "stdout",
     "output_type": "stream",
     "text": [
      "Welcome Sir\n"
     ]
    }
   ],
   "source": [
    "print(string)"
   ]
  },
  {
   "cell_type": "code",
   "execution_count": 13,
   "id": "803ff463",
   "metadata": {},
   "outputs": [
    {
     "data": {
      "text/plain": [
       "'Welcome Sir'"
      ]
     },
     "execution_count": 13,
     "metadata": {},
     "output_type": "execute_result"
    }
   ],
   "source": [
    "string"
   ]
  },
  {
   "cell_type": "code",
   "execution_count": 14,
   "id": "5f1444c0",
   "metadata": {},
   "outputs": [
    {
     "name": "stdout",
     "output_type": "stream",
     "text": [
      "GoodBye Sir\n"
     ]
    }
   ],
   "source": [
    "#with two Parameters\n",
    "\n",
    "print(string.replace(\"Welcome\",\"GoodBye\"))"
   ]
  },
  {
   "cell_type": "code",
   "execution_count": 15,
   "id": "c188b52a",
   "metadata": {},
   "outputs": [],
   "source": [
    "txt=\"I like bananas\""
   ]
  },
  {
   "cell_type": "code",
   "execution_count": 16,
   "id": "e0961168",
   "metadata": {},
   "outputs": [
    {
     "name": "stdout",
     "output_type": "stream",
     "text": [
      "I like apples\n"
     ]
    }
   ],
   "source": [
    "print(txt.replace(\"bananas\",\"apples\"))"
   ]
  },
  {
   "cell_type": "code",
   "execution_count": 17,
   "id": "8b19578c",
   "metadata": {},
   "outputs": [],
   "source": [
    "x=txt.replace(\"bananas\",\"apples\")"
   ]
  },
  {
   "cell_type": "code",
   "execution_count": 18,
   "id": "17d20319",
   "metadata": {},
   "outputs": [
    {
     "name": "stdout",
     "output_type": "stream",
     "text": [
      "I like apples\n"
     ]
    }
   ],
   "source": [
    "print(x)"
   ]
  },
  {
   "cell_type": "code",
   "execution_count": 19,
   "id": "806653d5",
   "metadata": {},
   "outputs": [],
   "source": [
    "phase=\"the surprise is in here somewhere\""
   ]
  },
  {
   "cell_type": "code",
   "execution_count": 20,
   "id": "130f9f1d",
   "metadata": {},
   "outputs": [
    {
     "data": {
      "text/plain": [
       "4"
      ]
     },
     "execution_count": 20,
     "metadata": {},
     "output_type": "execute_result"
    }
   ],
   "source": [
    "phase.find(\"surprise\")"
   ]
  },
  {
   "cell_type": "code",
   "execution_count": 21,
   "id": "0e64b737",
   "metadata": {},
   "outputs": [],
   "source": [
    "text=\"Hello World DataTrained\""
   ]
  },
  {
   "cell_type": "code",
   "execution_count": 22,
   "id": "4663ea7e",
   "metadata": {},
   "outputs": [
    {
     "name": "stdout",
     "output_type": "stream",
     "text": [
      "['Hello', 'World', 'DataTrained']\n"
     ]
    }
   ],
   "source": [
    "print(text.split())"
   ]
  },
  {
   "cell_type": "code",
   "execution_count": 23,
   "id": "1d7d1d96",
   "metadata": {},
   "outputs": [
    {
     "name": "stdout",
     "output_type": "stream",
     "text": [
      "['Hello World DataTrained']\n"
     ]
    }
   ],
   "source": [
    "#splits at\",\n",
    "print(text.split(\",\")) # no coma"
   ]
  },
  {
   "cell_type": "code",
   "execution_count": 24,
   "id": "9b77b028",
   "metadata": {},
   "outputs": [],
   "source": [
    "test=\"hello,world:, DataTrained\""
   ]
  },
  {
   "cell_type": "code",
   "execution_count": 25,
   "id": "d98a968b",
   "metadata": {},
   "outputs": [
    {
     "name": "stdout",
     "output_type": "stream",
     "text": [
      "['Hello World DataTrained']\n"
     ]
    }
   ],
   "source": [
    "print(text.split(\":\"))"
   ]
  },
  {
   "cell_type": "markdown",
   "id": "7dcb0095",
   "metadata": {},
   "source": [
    "# Task:"
   ]
  },
  {
   "cell_type": "code",
   "execution_count": 26,
   "id": "d9cbf6e6",
   "metadata": {},
   "outputs": [
    {
     "data": {
      "text/plain": [
       "'animals'"
      ]
     },
     "execution_count": 26,
     "metadata": {},
     "output_type": "execute_result"
    }
   ],
   "source": [
    "a=\"Animals\"\n",
    "a.lower()"
   ]
  },
  {
   "cell_type": "code",
   "execution_count": 27,
   "id": "254d431f",
   "metadata": {},
   "outputs": [
    {
     "data": {
      "text/plain": [
       "'honey bee'"
      ]
     },
     "execution_count": 27,
     "metadata": {},
     "output_type": "execute_result"
    }
   ],
   "source": [
    "h=\"Honey Bee\"\n",
    "h.lower()"
   ]
  },
  {
   "cell_type": "code",
   "execution_count": 28,
   "id": "96541411",
   "metadata": {},
   "outputs": [
    {
     "data": {
      "text/plain": [
       "'honey badger'"
      ]
     },
     "execution_count": 28,
     "metadata": {},
     "output_type": "execute_result"
    }
   ],
   "source": [
    "ho=\"Honey Badger\"\n",
    "ho.lower()"
   ]
  },
  {
   "cell_type": "code",
   "execution_count": 29,
   "id": "ec08e9dd",
   "metadata": {},
   "outputs": [],
   "source": [
    "string1=\"Becomes\"\n",
    "string2=\"becomes\"\n",
    "string3=\"BEAR\"\n",
    "string4=\"bEautiful\""
   ]
  },
  {
   "cell_type": "code",
   "execution_count": 30,
   "id": "acdf489c",
   "metadata": {},
   "outputs": [
    {
     "data": {
      "text/plain": [
       "False"
      ]
     },
     "execution_count": 30,
     "metadata": {},
     "output_type": "execute_result"
    }
   ],
   "source": [
    "string1.startswith(\"be\")"
   ]
  },
  {
   "cell_type": "code",
   "execution_count": 31,
   "id": "6e84a920",
   "metadata": {},
   "outputs": [
    {
     "name": "stdout",
     "output_type": "stream",
     "text": [
      "String2  True\n",
      "String3  False\n",
      "String4  False\n"
     ]
    }
   ],
   "source": [
    "print(\"String2 \",string2.startswith(\"be\"))\n",
    "print(\"String3 \",string3.startswith(\"be\"))\n",
    "print(\"String4 \",string4.startswith(\"be\"))"
   ]
  },
  {
   "cell_type": "code",
   "execution_count": 32,
   "id": "0d0e49b2",
   "metadata": {},
   "outputs": [
    {
     "name": "stdout",
     "output_type": "stream",
     "text": [
      "False\n"
     ]
    }
   ],
   "source": [
    "if string1.casefold()==string2.casefold()==string3.casefold()==string4.casefold():\n",
    "    print(True)\n",
    "else:\n",
    "    print(False)"
   ]
  },
  {
   "cell_type": "code",
   "execution_count": 33,
   "id": "f6044e64",
   "metadata": {},
   "outputs": [
    {
     "name": "stdout",
     "output_type": "stream",
     "text": [
      "False\n"
     ]
    }
   ],
   "source": [
    "if string1.startswith(\"be\")==string2.startswith(\"be\")==string3.startswith(\"be\")==string4.startswith(\"be\"):\n",
    "    print(True)\n",
    "else:\n",
    "    print(False)"
   ]
  },
  {
   "cell_type": "code",
   "execution_count": 34,
   "id": "53db3ae3",
   "metadata": {},
   "outputs": [
    {
     "data": {
      "text/plain": [
       "'All here sounds to be negative(false)'"
      ]
     },
     "execution_count": 34,
     "metadata": {},
     "output_type": "execute_result"
    }
   ],
   "source": [
    "\"All here sounds to be negative(false)\" # q3 stands false"
   ]
  },
  {
   "cell_type": "code",
   "execution_count": 35,
   "id": "ddc7a84a",
   "metadata": {},
   "outputs": [
    {
     "name": "stdout",
     "output_type": "stream",
     "text": [
      "Enter your NameAbhijit\n",
      "Your name is  Abhijit\n"
     ]
    }
   ],
   "source": [
    "arg=input(\"Enter your Name\")\n",
    "print(\"Your name is \",arg)"
   ]
  },
  {
   "cell_type": "code",
   "execution_count": 36,
   "id": "88f5ac91",
   "metadata": {},
   "outputs": [
    {
     "name": "stdout",
     "output_type": "stream",
     "text": [
      "Enter your name in Bold letterABHIJIT SARKAR\n",
      "Your Name is  abhijit sarkar\n"
     ]
    }
   ],
   "source": [
    "str1=str(input(\"Enter your name in Bold letter\"))\n",
    "print(\"Your Name is \",str1.lower())"
   ]
  },
  {
   "cell_type": "code",
   "execution_count": 37,
   "id": "ab7c958c",
   "metadata": {},
   "outputs": [
    {
     "name": "stdout",
     "output_type": "stream",
     "text": [
      "Hello World enter your nameabhijit sarkar\n",
      "SO the length of input/char along with space is 14\n"
     ]
    }
   ],
   "source": [
    "str2=str(input(\"Hello World enter your name\"))\n",
    "print(\"SO the length of input/char along with space is\",len(str2))"
   ]
  },
  {
   "cell_type": "code",
   "execution_count": null,
   "id": "bc74790f",
   "metadata": {},
   "outputs": [],
   "source": []
  }
 ],
 "metadata": {
  "kernelspec": {
   "display_name": "Python 3 (ipykernel)",
   "language": "python",
   "name": "python3"
  },
  "language_info": {
   "codemirror_mode": {
    "name": "ipython",
    "version": 3
   },
   "file_extension": ".py",
   "mimetype": "text/x-python",
   "name": "python",
   "nbconvert_exporter": "python",
   "pygments_lexer": "ipython3",
   "version": "3.9.12"
  }
 },
 "nbformat": 4,
 "nbformat_minor": 5
}
