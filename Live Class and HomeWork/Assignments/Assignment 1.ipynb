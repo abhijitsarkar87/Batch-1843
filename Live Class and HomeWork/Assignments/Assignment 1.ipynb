{
 "cells": [
  {
   "cell_type": "code",
   "execution_count": 1,
   "id": "c66449dc",
   "metadata": {},
   "outputs": [
    {
     "data": {
      "text/plain": [
       "12"
      ]
     },
     "execution_count": 1,
     "metadata": {},
     "output_type": "execute_result"
    }
   ],
   "source": [
    "8+4"
   ]
  },
  {
   "cell_type": "code",
   "execution_count": 2,
   "id": "0fcfa717",
   "metadata": {},
   "outputs": [
    {
     "data": {
      "text/plain": [
       "80"
      ]
     },
     "execution_count": 2,
     "metadata": {},
     "output_type": "execute_result"
    }
   ],
   "source": [
    "16*5"
   ]
  },
  {
   "cell_type": "code",
   "execution_count": 3,
   "id": "8b5197b4",
   "metadata": {},
   "outputs": [
    {
     "data": {
      "text/plain": [
       "20"
      ]
     },
     "execution_count": 3,
     "metadata": {},
     "output_type": "execute_result"
    }
   ],
   "source": [
    "50-5*6"
   ]
  },
  {
   "cell_type": "code",
   "execution_count": 4,
   "id": "48697bc2",
   "metadata": {},
   "outputs": [
    {
     "data": {
      "text/plain": [
       "5.0"
      ]
     },
     "execution_count": 4,
     "metadata": {},
     "output_type": "execute_result"
    }
   ],
   "source": [
    "(50-5*6)/4"
   ]
  },
  {
   "cell_type": "code",
   "execution_count": 5,
   "id": "4506f24c",
   "metadata": {},
   "outputs": [
    {
     "data": {
      "text/plain": [
       "'Hello World, its a comment'"
      ]
     },
     "execution_count": 5,
     "metadata": {},
     "output_type": "execute_result"
    }
   ],
   "source": [
    "\"Hello World, its a comment\""
   ]
  },
  {
   "cell_type": "code",
   "execution_count": 6,
   "id": "d53a97c9",
   "metadata": {},
   "outputs": [
    {
     "name": "stdout",
     "output_type": "stream",
     "text": [
      "Hello, World\n"
     ]
    }
   ],
   "source": [
    "print(\"Hello, World\")"
   ]
  },
  {
   "cell_type": "code",
   "execution_count": 7,
   "id": "ac2f21cc",
   "metadata": {},
   "outputs": [],
   "source": [
    "greeting=\"Hello World of Python\""
   ]
  },
  {
   "cell_type": "code",
   "execution_count": 8,
   "id": "7d686093",
   "metadata": {},
   "outputs": [
    {
     "name": "stdout",
     "output_type": "stream",
     "text": [
      "Hello World of Python\n"
     ]
    }
   ],
   "source": [
    "print(greeting)"
   ]
  },
  {
   "cell_type": "code",
   "execution_count": 9,
   "id": "351bc0db",
   "metadata": {},
   "outputs": [
    {
     "data": {
      "text/plain": [
       "1.6"
      ]
     },
     "execution_count": 9,
     "metadata": {},
     "output_type": "execute_result"
    }
   ],
   "source": [
    "(8/5)"
   ]
  },
  {
   "cell_type": "code",
   "execution_count": 10,
   "id": "8853a830",
   "metadata": {},
   "outputs": [
    {
     "data": {
      "text/plain": [
       "5.666666666666667"
      ]
     },
     "execution_count": 10,
     "metadata": {},
     "output_type": "execute_result"
    }
   ],
   "source": [
    "17/3"
   ]
  },
  {
   "cell_type": "code",
   "execution_count": 11,
   "id": "a3e42d28",
   "metadata": {},
   "outputs": [
    {
     "data": {
      "text/plain": [
       "5"
      ]
     },
     "execution_count": 11,
     "metadata": {},
     "output_type": "execute_result"
    }
   ],
   "source": [
    "17//3"
   ]
  },
  {
   "cell_type": "code",
   "execution_count": 12,
   "id": "c4361d16",
   "metadata": {},
   "outputs": [
    {
     "data": {
      "text/plain": [
       "2"
      ]
     },
     "execution_count": 12,
     "metadata": {},
     "output_type": "execute_result"
    }
   ],
   "source": [
    "17%3"
   ]
  },
  {
   "cell_type": "code",
   "execution_count": 13,
   "id": "c22abf49",
   "metadata": {},
   "outputs": [
    {
     "data": {
      "text/plain": [
       "17"
      ]
     },
     "execution_count": 13,
     "metadata": {},
     "output_type": "execute_result"
    }
   ],
   "source": [
    "5*3+2"
   ]
  },
  {
   "cell_type": "code",
   "execution_count": 14,
   "id": "d44e3806",
   "metadata": {},
   "outputs": [
    {
     "data": {
      "text/plain": [
       "25"
      ]
     },
     "execution_count": 14,
     "metadata": {},
     "output_type": "execute_result"
    }
   ],
   "source": [
    "5**2"
   ]
  },
  {
   "cell_type": "code",
   "execution_count": 15,
   "id": "2a03b08a",
   "metadata": {},
   "outputs": [
    {
     "data": {
      "text/plain": [
       "128"
      ]
     },
     "execution_count": 15,
     "metadata": {},
     "output_type": "execute_result"
    }
   ],
   "source": [
    "2**7"
   ]
  },
  {
   "cell_type": "code",
   "execution_count": 16,
   "id": "50adbd78",
   "metadata": {},
   "outputs": [
    {
     "name": "stdout",
     "output_type": "stream",
     "text": [
      "20\n",
      "The value of width= 20\n",
      "The value of width is= 20\n",
      "value= 900\n"
     ]
    }
   ],
   "source": [
    "width=20\n",
    "height=5*9\n",
    "width*height\n",
    "print(width)\n",
    "print('The value of width=',width)\n",
    "print(\"The value of width is=\",width)\n",
    "print(\"value=\",width*height)"
   ]
  },
  {
   "cell_type": "code",
   "execution_count": 17,
   "id": "09f347e6",
   "metadata": {},
   "outputs": [
    {
     "name": "stdout",
     "output_type": "stream",
     "text": [
      "height 45\n"
     ]
    }
   ],
   "source": [
    "print(\"height\",height)"
   ]
  },
  {
   "cell_type": "code",
   "execution_count": 18,
   "id": "1af0b8c2",
   "metadata": {},
   "outputs": [
    {
     "name": "stdout",
     "output_type": "stream",
     "text": [
      "0.125\n",
      "100.5\n"
     ]
    }
   ],
   "source": [
    "tax=12.5/100\n",
    "\n",
    "price=100.50\n",
    "\n",
    "price*tax\n",
    "\n",
    "print(tax)\n",
    "print(price)"
   ]
  },
  {
   "cell_type": "code",
   "execution_count": 19,
   "id": "20fedc52",
   "metadata": {},
   "outputs": [],
   "source": [
    "a=\"The\"\n",
    "b=\" Sun\"\n",
    "c=(a+b)"
   ]
  },
  {
   "cell_type": "code",
   "execution_count": 20,
   "id": "257476b0",
   "metadata": {},
   "outputs": [
    {
     "data": {
      "text/plain": [
       "'The Sun'"
      ]
     },
     "execution_count": 20,
     "metadata": {},
     "output_type": "execute_result"
    }
   ],
   "source": [
    "c"
   ]
  },
  {
   "cell_type": "code",
   "execution_count": 21,
   "id": "a43f318b",
   "metadata": {},
   "outputs": [
    {
     "data": {
      "text/plain": [
       "'The Moon'"
      ]
     },
     "execution_count": 21,
     "metadata": {},
     "output_type": "execute_result"
    }
   ],
   "source": [
    "a,b=\"The\",\" Moon\"\n",
    "(a+b)"
   ]
  },
  {
   "cell_type": "code",
   "execution_count": 22,
   "id": "5049508d",
   "metadata": {},
   "outputs": [],
   "source": [
    "a,b=\"Planets \",\" Universe\"\n",
    "c=(a+b)"
   ]
  },
  {
   "cell_type": "code",
   "execution_count": 23,
   "id": "33189250",
   "metadata": {},
   "outputs": [
    {
     "data": {
      "text/plain": [
       "'Planets  Universe'"
      ]
     },
     "execution_count": 23,
     "metadata": {},
     "output_type": "execute_result"
    }
   ],
   "source": [
    "c"
   ]
  },
  {
   "cell_type": "code",
   "execution_count": 24,
   "id": "6c5d3254",
   "metadata": {},
   "outputs": [
    {
     "data": {
      "text/plain": [
       "'Elon Musk'"
      ]
     },
     "execution_count": 24,
     "metadata": {},
     "output_type": "execute_result"
    }
   ],
   "source": [
    "string1=\"Elon\"\n",
    "string2=\" Musk\"\n",
    "magic_string=string1+string2\n",
    "magic_string"
   ]
  },
  {
   "cell_type": "code",
   "execution_count": 25,
   "id": "7249e75c",
   "metadata": {},
   "outputs": [
    {
     "data": {
      "text/plain": [
       "'Arthur Dent'"
      ]
     },
     "execution_count": 25,
     "metadata": {},
     "output_type": "execute_result"
    }
   ],
   "source": [
    "first_name=\"Arthur\"\n",
    "last_name=\"Dent\"\n",
    "full_name=first_name+\" \"+last_name\n",
    "full_name"
   ]
  },
  {
   "cell_type": "code",
   "execution_count": 26,
   "id": "e21ef163",
   "metadata": {},
   "outputs": [
    {
     "name": "stdout",
     "output_type": "stream",
     "text": [
      "Hello India\n"
     ]
    }
   ],
   "source": [
    "string1=\"Hello\"\n",
    "string2=\" India\"\n",
    "Result=(string1+string2)\n",
    "print(Result)\n"
   ]
  },
  {
   "cell_type": "code",
   "execution_count": 27,
   "id": "85961cce",
   "metadata": {},
   "outputs": [
    {
     "name": "stdout",
     "output_type": "stream",
     "text": [
      "Hey\n",
      "Hey, what's up?   Hey\n"
     ]
    }
   ],
   "source": [
    "prompt=\"Hey, what's up?\"\n",
    "user_input=input()\n",
    "print(prompt,\" \",user_input)"
   ]
  },
  {
   "cell_type": "code",
   "execution_count": 28,
   "id": "dab0e154",
   "metadata": {},
   "outputs": [
    {
     "name": "stdout",
     "output_type": "stream",
     "text": [
      "Enter a number to be doubled2\n",
      "4\n"
     ]
    }
   ],
   "source": [
    "num=int(input(\"Enter a number to be doubled\"))\n",
    "double_num=num*2\n",
    "print(double_num)"
   ]
  },
  {
   "cell_type": "code",
   "execution_count": 29,
   "id": "e6ba962c",
   "metadata": {},
   "outputs": [
    {
     "name": "stdout",
     "output_type": "stream",
     "text": [
      "Enter the First number 2\n",
      "Enter the Other number 2\n",
      "The multiple of First and Secound number is  4\n"
     ]
    }
   ],
   "source": [
    "str1=int(input(\"Enter the First number \"))\n",
    "str2=int(input(\"Enter the Other number \"))\n",
    "result=(str1*str2)\n",
    "print(\"The multiple of First and Secound number is \",result)"
   ]
  },
  {
   "cell_type": "code",
   "execution_count": 30,
   "id": "0d0b6464",
   "metadata": {},
   "outputs": [
    {
     "name": "stdout",
     "output_type": "stream",
     "text": [
      "Enter Principle2000\n",
      "Enter the Rate8\n",
      "Enter the Time3\n",
      "Principle Amount 2000 Rate  8 Time  3 Simple Intrest 480.0\n"
     ]
    }
   ],
   "source": [
    "p=int(input(\"Enter Principle\"))\n",
    "r=int(input(\"Enter the Rate\"))\n",
    "t=int(input(\"Enter the Time\"))\n",
    "\n",
    "simple_intrest=(p*r*t)/100\n",
    "print(\"Principle Amount\",p,\"Rate \",r,\"Time \",t,\"Simple Intrest\",simple_intrest)"
   ]
  },
  {
   "cell_type": "code",
   "execution_count": 31,
   "id": "5c133145",
   "metadata": {},
   "outputs": [
    {
     "data": {
      "text/plain": [
       "3"
      ]
     },
     "execution_count": 31,
     "metadata": {},
     "output_type": "execute_result"
    }
   ],
   "source": [
    "len(\"abc\")"
   ]
  },
  {
   "cell_type": "code",
   "execution_count": 32,
   "id": "aaac225b",
   "metadata": {},
   "outputs": [
    {
     "data": {
      "text/plain": [
       "11"
      ]
     },
     "execution_count": 32,
     "metadata": {},
     "output_type": "execute_result"
    }
   ],
   "source": [
    "str1=(\"Hello World\")\n",
    "\n",
    "len(str1)"
   ]
  },
  {
   "cell_type": "code",
   "execution_count": null,
   "id": "0d061af7",
   "metadata": {},
   "outputs": [],
   "source": []
  }
 ],
 "metadata": {
  "kernelspec": {
   "display_name": "Python 3 (ipykernel)",
   "language": "python",
   "name": "python3"
  },
  "language_info": {
   "codemirror_mode": {
    "name": "ipython",
    "version": 3
   },
   "file_extension": ".py",
   "mimetype": "text/x-python",
   "name": "python",
   "nbconvert_exporter": "python",
   "pygments_lexer": "ipython3",
   "version": "3.9.12"
  }
 },
 "nbformat": 4,
 "nbformat_minor": 5
}
