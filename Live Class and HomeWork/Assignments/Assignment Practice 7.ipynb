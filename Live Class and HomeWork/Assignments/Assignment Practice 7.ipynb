{
 "cells": [
  {
   "cell_type": "code",
   "execution_count": 1,
   "id": "e9b114cf",
   "metadata": {},
   "outputs": [],
   "source": [
    "def main():\n",
    "    x,y=8,4\n",
    "    \n",
    "    if(x<y):\n",
    "        st=\"x is less than y\"\n",
    "    else:\n",
    "        st=\"x is greater than y\"\n",
    "    print(st)\n",
    "    "
   ]
  },
  {
   "cell_type": "code",
   "execution_count": 2,
   "id": "bcf1f9d2",
   "metadata": {},
   "outputs": [
    {
     "name": "stdout",
     "output_type": "stream",
     "text": [
      "x is greater than y\n"
     ]
    }
   ],
   "source": [
    "if __name__==\"__main__\":\n",
    "    main()"
   ]
  },
  {
   "cell_type": "code",
   "execution_count": 3,
   "id": "19fb13ff",
   "metadata": {},
   "outputs": [
    {
     "name": "stdout",
     "output_type": "stream",
     "text": [
      "x is greater than y\n"
     ]
    }
   ],
   "source": [
    "def main():\n",
    "    x,y =8,8\n",
    "    if(x < y):\n",
    "        st= \"x is less than y\"\n",
    "    else:\n",
    "        st= \"x is greater than y\"\n",
    "    print(st)\n",
    "\n",
    "if __name__ == \"__main__\":\n",
    "    main()"
   ]
  },
  {
   "cell_type": "code",
   "execution_count": 4,
   "id": "16b6ce59",
   "metadata": {},
   "outputs": [],
   "source": [
    "def main():\n",
    "    x,y=8,8\n",
    "    \n",
    "    if(x<y):\n",
    "        st=\"x is less than y\"\n",
    "    elif(x==y):\n",
    "        st=\"x is equal to y\"\n",
    "    else:\n",
    "        st=\"x is greater than y\"\n",
    "    print(st)    "
   ]
  },
  {
   "cell_type": "code",
   "execution_count": 5,
   "id": "05737dbf",
   "metadata": {},
   "outputs": [
    {
     "name": "stdout",
     "output_type": "stream",
     "text": [
      "x is equal to y\n"
     ]
    }
   ],
   "source": [
    "if __name__ == \"__main__\":\n",
    "    main()"
   ]
  },
  {
   "cell_type": "code",
   "execution_count": 6,
   "id": "7b6563f7",
   "metadata": {},
   "outputs": [
    {
     "name": "stdout",
     "output_type": "stream",
     "text": [
      "x is equal to y\n"
     ]
    }
   ],
   "source": [
    "class myClass():\n",
    "    \n",
    "    def method1(self):\n",
    "        print(\"DT\")\n",
    "        \n",
    "    def method2(self,someString):\n",
    "        print(\"Software Testing:\"+someString)\n",
    "        \n",
    "    def main():\n",
    "        c=myClass()\n",
    "        c.method1()\n",
    "        c.method2(\"Testing is fun\")\n",
    "        \n",
    "if __name__==\"__main__\":\n",
    "        main()"
   ]
  },
  {
   "cell_type": "code",
   "execution_count": 7,
   "id": "b2331e7c",
   "metadata": {},
   "outputs": [
    {
     "name": "stdout",
     "output_type": "stream",
     "text": [
      "Please Enter Any Name hello\n",
      "Length 5\n",
      "index  0 h\n",
      "index  1 e\n",
      "index  2 l\n",
      "index  3 l\n",
      "index  4 o\n"
     ]
    }
   ],
   "source": [
    "Word=input(\"Please Enter Any Name \")\n",
    "print(\"Length\",len(Word))\n",
    "\n",
    "for i in range(0,len(Word)):\n",
    "    print(\"index \",i ,Word[i])"
   ]
  },
  {
   "cell_type": "code",
   "execution_count": 8,
   "id": "52f92d0c",
   "metadata": {},
   "outputs": [
    {
     "name": "stdout",
     "output_type": "stream",
     "text": [
      "['My', 'name', 'is', 'Kelly']\n"
     ]
    }
   ],
   "source": [
    "list1=[\"M\",\"na\",\"i\",\"Ke\"]\n",
    "list2=[\"y\",\"me\",\"s\",\"lly\"]\n",
    "\n",
    "list3=[i+j for i,j in zip(list1,list2)]\n",
    "print(list3)"
   ]
  },
  {
   "cell_type": "code",
   "execution_count": 9,
   "id": "1ff8f004",
   "metadata": {},
   "outputs": [
    {
     "name": "stdout",
     "output_type": "stream",
     "text": [
      "[1, 4, 9, 16, 25, 36, 49]\n"
     ]
    }
   ],
   "source": [
    "#write a program to turn every item of a list into its square.\n",
    "\n",
    "numbers=[1,2,3,4,5,6,7]\n",
    "#result list\n",
    "res=[]\n",
    "\n",
    "for i in numbers:\n",
    "    #calculate square and add the result\n",
    "    res.append(i*i)\n",
    "print(res)"
   ]
  },
  {
   "cell_type": "code",
   "execution_count": 10,
   "id": "22cfadf6",
   "metadata": {},
   "outputs": [
    {
     "name": "stdout",
     "output_type": "stream",
     "text": [
      "[5, 10, 15, 200, 25, 50, 200]\n"
     ]
    }
   ],
   "source": [
    "#Write a program to find value 20 in the list, and if it is present, replace it with 200. Only update the first occurrence of an item.\n",
    "\n",
    "list1=[5,10,15,20,25,50,200]\n",
    "#get the first coccurence index\n",
    "index=list1.index(20)\n",
    "\n",
    "#update items present at location\n",
    "\n",
    "list1[index]=200\n",
    "print(list1)"
   ]
  },
  {
   "cell_type": "code",
   "execution_count": 11,
   "id": "9cb83ef6",
   "metadata": {},
   "outputs": [
    {
     "name": "stdout",
     "output_type": "stream",
     "text": [
      "[5, 10, 15, 200, 250, 50, 200]\n"
     ]
    }
   ],
   "source": [
    "index=list1.index(25)\n",
    "list1[index]=250\n",
    "print(list1)"
   ]
  },
  {
   "cell_type": "code",
   "execution_count": 12,
   "id": "3170dce2",
   "metadata": {},
   "outputs": [
    {
     "name": "stdout",
     "output_type": "stream",
     "text": [
      "[5, 10, 15, 200, 250, 500, 200]\n"
     ]
    }
   ],
   "source": [
    "index=list1.index(50)\n",
    "list1[index]=500\n",
    "print(list1)"
   ]
  },
  {
   "cell_type": "code",
   "execution_count": 14,
   "id": "2718df69",
   "metadata": {},
   "outputs": [
    {
     "name": "stdout",
     "output_type": "stream",
     "text": [
      "Given Number 56430\n",
      "0\n",
      "3\n",
      "4\n",
      "6\n",
      "5\n"
     ]
    }
   ],
   "source": [
    "#Write a Program to extract each digit from an integer in the reverse order.\n",
    "number=56430\n",
    "print(\"Given Number\",number)\n",
    "\n",
    "while number>0:\n",
    "    #get the last digit\n",
    "    digit=number%10\n",
    "    #remove the last digit and repeat loop\n",
    "    number=number//10\n",
    "    print(digit)"
   ]
  },
  {
   "cell_type": "code",
   "execution_count": 15,
   "id": "2696a787",
   "metadata": {},
   "outputs": [
    {
     "name": "stdout",
     "output_type": "stream",
     "text": [
      "Total digits are: 1\n",
      "Total digits are: 2\n",
      "Total digits are: 3\n",
      "Total digits are: 4\n",
      "Total digits are: 5\n",
      "Total digits are: 6\n",
      "Total digits are: 7\n",
      "Total digits are: 8\n"
     ]
    }
   ],
   "source": [
    "#Count the total number of digits in a number\n",
    "\n",
    "#Solution:\n",
    "\n",
    "num=12345670\n",
    "count=0\n",
    "while num!=0:\n",
    "    #floor division #to reduce the last digit from number\n",
    "    num=num//10\n",
    "    #increment counter by 1\n",
    "    count=count+1\n",
    "    print(\"Total digits are:\",count)"
   ]
  },
  {
   "cell_type": "markdown",
   "id": "8d6d780c",
   "metadata": {},
   "source": [
    "# Assignment 8"
   ]
  },
  {
   "cell_type": "code",
   "execution_count": 16,
   "id": "a4c78346",
   "metadata": {},
   "outputs": [],
   "source": [
    "#Excercise-1"
   ]
  },
  {
   "cell_type": "code",
   "execution_count": 17,
   "id": "5d67a5c0",
   "metadata": {},
   "outputs": [
    {
     "name": "stdout",
     "output_type": "stream",
     "text": [
      "{'Ten': 10, 'twenty': 20, 'Thirty': 30}\n"
     ]
    }
   ],
   "source": [
    "keys=['Ten','twenty','Thirty']\n",
    "values=[10,20,30]\n",
    "\n",
    "# using zip function \n",
    "\n",
    "res_dict=dict(zip(keys,values))\n",
    "print(res_dict)"
   ]
  },
  {
   "cell_type": "code",
   "execution_count": 18,
   "id": "11f9994f",
   "metadata": {},
   "outputs": [
    {
     "name": "stdout",
     "output_type": "stream",
     "text": [
      "{'ten': 10}\n",
      "{'ten': 10, 'twenty': 20}\n",
      "{'ten': 10, 'twenty': 20, 'thirty': 30}\n",
      "Final loop  {'ten': 10, 'twenty': 20, 'thirty': 30}\n"
     ]
    }
   ],
   "source": [
    "#Solution 2:\n",
    "keys=['ten','twenty','thirty']\n",
    "values=[10,20,30]\n",
    "\n",
    "#empty dict\n",
    "res_dict=dict()\n",
    "\n",
    "for i in range(len(keys)):\n",
    "    res_dict.update({keys[i]:values[i]})\n",
    "    print(res_dict)\n",
    "\n",
    "print(\"Final loop \",res_dict)"
   ]
  },
  {
   "cell_type": "code",
   "execution_count": 19,
   "id": "fac2a555",
   "metadata": {},
   "outputs": [],
   "source": [
    "#Exercise 2:"
   ]
  },
  {
   "cell_type": "code",
   "execution_count": 20,
   "id": "7b1787d6",
   "metadata": {},
   "outputs": [
    {
     "name": "stdout",
     "output_type": "stream",
     "text": [
      "{'Ten': 10, 'Twenty': 20, 'Thirty': 30, 'Fourty': 40, 'Fifty': 50}\n"
     ]
    }
   ],
   "source": [
    "# merge two dict:\n",
    "dict1={'Ten':10,'Twenty':20,\"Thirty\":30}\n",
    "dict2={'Thirty':30,'Fourty':40,\"Fifty\":50}\n",
    "\n",
    "dict3=dict1.copy()\n",
    "dict3.update(dict2)\n",
    "print(dict3)"
   ]
  },
  {
   "cell_type": "code",
   "execution_count": 21,
   "id": "75ffe1e6",
   "metadata": {},
   "outputs": [],
   "source": [
    "#Exercise 3: initialize dictonary with default values"
   ]
  },
  {
   "cell_type": "code",
   "execution_count": 22,
   "id": "5f802772",
   "metadata": {},
   "outputs": [
    {
     "name": "stdout",
     "output_type": "stream",
     "text": [
      "{'kelly': {'designation': 'Developer', 'salary': 800}, 'emma': {'designation': 'Developer', 'salary': 800}, 'kim': {'designation': 'Developer', 'salary': 800}}\n"
     ]
    }
   ],
   "source": [
    "employees=['kelly','emma','kim']\n",
    "defaults={\"designation\":'Developer','salary':800}\n",
    "res=dict.fromkeys(employees,defaults)\n",
    "print(res)"
   ]
  },
  {
   "cell_type": "code",
   "execution_count": 23,
   "id": "354b757b",
   "metadata": {},
   "outputs": [
    {
     "name": "stdout",
     "output_type": "stream",
     "text": [
      "{'designation': 'Developer', 'salary': 800}\n"
     ]
    }
   ],
   "source": [
    "print(res['kelly'])"
   ]
  },
  {
   "cell_type": "code",
   "execution_count": 24,
   "id": "b7ae2dc1",
   "metadata": {},
   "outputs": [
    {
     "name": "stdout",
     "output_type": "stream",
     "text": [
      "{'designation': 'Developer', 'salary': 800}\n"
     ]
    }
   ],
   "source": [
    "print(res['emma'])"
   ]
  },
  {
   "cell_type": "code",
   "execution_count": 25,
   "id": "5ffb8224",
   "metadata": {},
   "outputs": [],
   "source": [
    "#create dic by extracting the keys by sample\n",
    "sample_dict={'name':'kelly','age':25,'salary':8000,'city':'New york'}\n",
    "#keys to extract\n",
    "keys=['name','salary']"
   ]
  },
  {
   "cell_type": "code",
   "execution_count": 26,
   "id": "f8a6b7e3",
   "metadata": {},
   "outputs": [
    {
     "name": "stdout",
     "output_type": "stream",
     "text": [
      "{'name': 'kelly', 'salary': 8000}\n"
     ]
    }
   ],
   "source": [
    "new_dict={k:sample_dict[k] for k in keys}\n",
    "print(new_dict)"
   ]
  },
  {
   "cell_type": "code",
   "execution_count": 27,
   "id": "2e94caa4",
   "metadata": {},
   "outputs": [
    {
     "name": "stdout",
     "output_type": "stream",
     "text": [
      "{'salary': 8000, 'name': 'kelly', 'age': 25}\n"
     ]
    }
   ],
   "source": [
    "# using the update() method and loop\n",
    "keys=['salary','name','age']\n",
    "res1=dict()\n",
    "for k in keys:\n",
    "    res1.update({k:sample_dict[k]})\n",
    "print(res1)"
   ]
  },
  {
   "cell_type": "code",
   "execution_count": 28,
   "id": "0e7df503",
   "metadata": {},
   "outputs": [
    {
     "name": "stdout",
     "output_type": "stream",
     "text": [
      "{'name': 'kelly', 'city': 'New york'}\n"
     ]
    }
   ],
   "source": [
    "# delete list of the keys from the dictionary\n",
    "\n",
    "keys=[\"age\",\"salary\"]\n",
    "\n",
    "# using pop method\n",
    "\n",
    "for k in keys:\n",
    "    sample_dict.pop(k)\n",
    "print(sample_dict)"
   ]
  },
  {
   "cell_type": "code",
   "execution_count": 29,
   "id": "ab2f5cf9",
   "metadata": {},
   "outputs": [
    {
     "name": "stdout",
     "output_type": "stream",
     "text": [
      "{'city': 'New york', 'age': 25}\n"
     ]
    }
   ],
   "source": [
    "# keys to remove\n",
    "sample_dict={\"name\":\"kelly\",\"age\":25,\"salary\":8000,\"city\":\"New york\"}\\\n",
    "\n",
    "keys=[\"name\",\"salary\"]\n",
    "sample_dict={k:sample_dict[k] for k in sample_dict.keys()-keys}\n",
    "print(sample_dict)\n"
   ]
  },
  {
   "cell_type": "code",
   "execution_count": 30,
   "id": "1d49681e",
   "metadata": {},
   "outputs": [
    {
     "name": "stdout",
     "output_type": "stream",
     "text": [
      "200 is present in dict\n"
     ]
    }
   ],
   "source": [
    "#Check if a value exists in a dictionary\n",
    "\n",
    "sample_dict={'a':100,\"b\":200,\"c\":300}\n",
    "if 200 in sample_dict.values():\n",
    "    print(\"200 is present in dict\")"
   ]
  },
  {
   "cell_type": "code",
   "execution_count": 31,
   "id": "ec1be5b8",
   "metadata": {},
   "outputs": [
    {
     "name": "stdout",
     "output_type": "stream",
     "text": [
      "{'name': 'kelly', 'age': '25', 'salary': 8000, 'location': 'NewYork'}\n"
     ]
    }
   ],
   "source": [
    "# rename keys of a dictonary\n",
    "sample_dict={\"name\":\"kelly\",\"age\":\"25\",\"salary\":8000,\"city\":\"NewYork\"}\n",
    "\n",
    "sample_dict['location']=sample_dict.pop(\"city\")\n",
    "print(sample_dict)"
   ]
  },
  {
   "cell_type": "code",
   "execution_count": 32,
   "id": "984de21e",
   "metadata": {},
   "outputs": [
    {
     "name": "stdout",
     "output_type": "stream",
     "text": [
      "{'emp1': {'name': 'Jhon', 'salary': 7500}, 'emp2': {'name': 'Emma', 'salary': 8000}, 'emp3': {'name': 'Brad', 'salary': 8500}}\n"
     ]
    }
   ],
   "source": [
    "# change the values of the keys in a nested dictonary\n",
    "\n",
    "sample_dict={\n",
    "    'emp1':{'name':'Jhon',\"salary\":7500},\n",
    "    'emp2':{'name':'Emma','salary':8000},\n",
    "    'emp3':{'name':'Brad','salary':500}}\n",
    "             \n",
    "sample_dict['emp3']['salary']=8500\n",
    "print(sample_dict)"
   ]
  },
  {
   "cell_type": "code",
   "execution_count": 33,
   "id": "509e6c50",
   "metadata": {},
   "outputs": [
    {
     "data": {
      "text/plain": [
       "{'emp1': {'name': 'Jhon', 'salary': 7500},\n",
       " 'emp2': {'name': 'Emma', 'salary': 8000},\n",
       " 'emp3': {'name': 'Brad', 'salary': 8500}}"
      ]
     },
     "execution_count": 33,
     "metadata": {},
     "output_type": "execute_result"
    }
   ],
   "source": [
    "sample_dict"
   ]
  },
  {
   "cell_type": "code",
   "execution_count": null,
   "id": "d48f1e9e",
   "metadata": {},
   "outputs": [],
   "source": []
  }
 ],
 "metadata": {
  "kernelspec": {
   "display_name": "Python 3 (ipykernel)",
   "language": "python",
   "name": "python3"
  },
  "language_info": {
   "codemirror_mode": {
    "name": "ipython",
    "version": 3
   },
   "file_extension": ".py",
   "mimetype": "text/x-python",
   "name": "python",
   "nbconvert_exporter": "python",
   "pygments_lexer": "ipython3",
   "version": "3.9.12"
  }
 },
 "nbformat": 4,
 "nbformat_minor": 5
}
