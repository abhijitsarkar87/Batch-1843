{
 "cells": [
  {
   "cell_type": "code",
   "execution_count": 1,
   "id": "2f2daae2",
   "metadata": {},
   "outputs": [],
   "source": [
    "def square(x):\n",
    "    \"\"\"I am adding doc string named 'Square' \"\"\"\n",
    "    return x*x"
   ]
  },
  {
   "cell_type": "code",
   "execution_count": 2,
   "id": "cfcc61fe",
   "metadata": {},
   "outputs": [
    {
     "name": "stdout",
     "output_type": "stream",
     "text": [
      "I am adding doc string named 'Square' \n"
     ]
    }
   ],
   "source": [
    "print(square.__doc__)"
   ]
  },
  {
   "cell_type": "code",
   "execution_count": 3,
   "id": "012764d8",
   "metadata": {},
   "outputs": [
    {
     "name": "stdout",
     "output_type": "stream",
     "text": [
      "4\n"
     ]
    }
   ],
   "source": [
    "print(square(2))"
   ]
  },
  {
   "cell_type": "code",
   "execution_count": 4,
   "id": "98c9ff23",
   "metadata": {},
   "outputs": [
    {
     "name": "stdout",
     "output_type": "stream",
     "text": [
      "16\n"
     ]
    }
   ],
   "source": [
    "print(square(4))"
   ]
  },
  {
   "cell_type": "code",
   "execution_count": 5,
   "id": "af75678c",
   "metadata": {},
   "outputs": [
    {
     "name": "stdout",
     "output_type": "stream",
     "text": [
      "The Sum is 11\n"
     ]
    }
   ],
   "source": [
    "def add_numbers(x,y):\n",
    "    \"\"\"ADD_Numbers\"\"\"\n",
    "    sum=x+y\n",
    "    return sum\n",
    "num1=5\n",
    "num2=6\n",
    "print(\"The Sum is\",add_numbers(num1,num2))"
   ]
  },
  {
   "cell_type": "code",
   "execution_count": 6,
   "id": "2038794b",
   "metadata": {},
   "outputs": [
    {
     "data": {
      "text/plain": [
       "'ADD_Numbers'"
      ]
     },
     "execution_count": 6,
     "metadata": {},
     "output_type": "execute_result"
    }
   ],
   "source": [
    "add_numbers.__doc__"
   ]
  },
  {
   "cell_type": "code",
   "execution_count": 7,
   "id": "cfbbdfdc",
   "metadata": {},
   "outputs": [],
   "source": [
    "def greet(name,msg):\n",
    "    \"\"\"This Function greets to the person with the provided message\"\"\"\n",
    "    print(\"Hello\",name + ','+ msg)"
   ]
  },
  {
   "cell_type": "code",
   "execution_count": 8,
   "id": "b9012012",
   "metadata": {},
   "outputs": [
    {
     "data": {
      "text/plain": [
       "'This Function greets to the person with the provided message'"
      ]
     },
     "execution_count": 8,
     "metadata": {},
     "output_type": "execute_result"
    }
   ],
   "source": [
    "greet.__doc__"
   ]
  },
  {
   "cell_type": "code",
   "execution_count": 9,
   "id": "04ec83a4",
   "metadata": {},
   "outputs": [
    {
     "name": "stdout",
     "output_type": "stream",
     "text": [
      "Hello Andrew,Good Morning\n"
     ]
    }
   ],
   "source": [
    "greet(\"Andrew\",\"Good Morning\")"
   ]
  },
  {
   "cell_type": "code",
   "execution_count": 10,
   "id": "369b2ae9",
   "metadata": {},
   "outputs": [
    {
     "name": "stdout",
     "output_type": "stream",
     "text": [
      "2\n",
      "4\n"
     ]
    }
   ],
   "source": [
    "def absolute_value(num):\n",
    "    \"\"\"This function returns the absolute value of the entered Number\"\"\"\n",
    "    if num>=0:\n",
    "        return num\n",
    "    else:\n",
    "        return -num\n",
    "print(absolute_value(2))\n",
    "print(absolute_value(-4))"
   ]
  },
  {
   "cell_type": "code",
   "execution_count": 11,
   "id": "c11c26e9",
   "metadata": {},
   "outputs": [
    {
     "data": {
      "text/plain": [
       "'This function returns the absolute value of the entered Number'"
      ]
     },
     "execution_count": 11,
     "metadata": {},
     "output_type": "execute_result"
    }
   ],
   "source": [
    "absolute_value.__doc__"
   ]
  },
  {
   "cell_type": "code",
   "execution_count": 12,
   "id": "b43b9d02",
   "metadata": {},
   "outputs": [],
   "source": [
    "def multiply(a,b):\n",
    "    \"\"\"Multiply two number\"\"\"\n",
    "    multi=(a*b)\n",
    "    print(\"Value of A \",a)\n",
    "    print(\"Value of B \",b)\n",
    "    print(\"\\nValue after multication\",multi)"
   ]
  },
  {
   "cell_type": "code",
   "execution_count": 13,
   "id": "fd93050e",
   "metadata": {},
   "outputs": [
    {
     "name": "stdout",
     "output_type": "stream",
     "text": [
      "Multiply two number\n"
     ]
    }
   ],
   "source": [
    "print(multiply.__doc__)"
   ]
  },
  {
   "cell_type": "code",
   "execution_count": 14,
   "id": "131810f0",
   "metadata": {},
   "outputs": [
    {
     "name": "stdout",
     "output_type": "stream",
     "text": [
      "Value of A  2\n",
      "Value of B  3\n",
      "\n",
      "Value after multication 6\n"
     ]
    }
   ],
   "source": [
    "multiply(2,3)"
   ]
  },
  {
   "cell_type": "code",
   "execution_count": 15,
   "id": "6efbeb50",
   "metadata": {},
   "outputs": [],
   "source": [
    "#write a function division to calculate division of two numbers by taking as a arguments.\n",
    "\n",
    "def my_divfun(a,b):\n",
    "    \"\"\"Division two number\"\"\"\n",
    "    div=a/b\n",
    "    return div\n",
    " "
   ]
  },
  {
   "cell_type": "code",
   "execution_count": 16,
   "id": "147a04dd",
   "metadata": {},
   "outputs": [
    {
     "name": "stdout",
     "output_type": "stream",
     "text": [
      "Division two number\n"
     ]
    },
    {
     "data": {
      "text/plain": [
       "5.0"
      ]
     },
     "execution_count": 16,
     "metadata": {},
     "output_type": "execute_result"
    }
   ],
   "source": [
    "print(my_divfun.__doc__)\n",
    "my_divfun(10,2)"
   ]
  },
  {
   "cell_type": "code",
   "execution_count": 17,
   "id": "2bf9347a",
   "metadata": {},
   "outputs": [],
   "source": [
    "squares=list(map(lambda x:x**2,range(10)))\n",
    "squares=[x**2 for x in range(10)]"
   ]
  },
  {
   "cell_type": "code",
   "execution_count": 18,
   "id": "c44f632b",
   "metadata": {},
   "outputs": [
    {
     "name": "stdout",
     "output_type": "stream",
     "text": [
      "[0, 1, 4, 9, 16, 25, 36, 49, 64, 81]\n"
     ]
    }
   ],
   "source": [
    "print(squares)"
   ]
  },
  {
   "cell_type": "code",
   "execution_count": 19,
   "id": "f2df3521",
   "metadata": {},
   "outputs": [
    {
     "name": "stdout",
     "output_type": "stream",
     "text": [
      "[100, 4, 64, 49, 25, 16, 9, 121, 0, 1]\n"
     ]
    }
   ],
   "source": [
    "# Write the above code to find cube of x.\n",
    "\n",
    "seqs=[10,2,8,7,5,4,3,11,0,1]\n",
    "\n",
    "filtered_data=list(map(lambda x:x*x,seqs))\n",
    "print(filtered_data)\n"
   ]
  },
  {
   "cell_type": "code",
   "execution_count": 20,
   "id": "8cfb99fe",
   "metadata": {},
   "outputs": [
    {
     "name": "stdout",
     "output_type": "stream",
     "text": [
      "[1000, 8, 512, 343, 125, 64, 27, 1331, 0, 1]\n"
     ]
    }
   ],
   "source": [
    "#wite the above code for the expression x**3\n",
    "\n",
    "sq=[10,2,8,7,5,4,3,11,0,1]\n",
    "\n",
    "filtered_result=list(map(lambda x:x**3,sq))\n",
    "\n",
    "print(filtered_result)\n"
   ]
  },
  {
   "cell_type": "code",
   "execution_count": 21,
   "id": "b313e4fa",
   "metadata": {},
   "outputs": [
    {
     "name": "stdout",
     "output_type": "stream",
     "text": [
      "[10, 8, 7, 5, 11]\n"
     ]
    }
   ],
   "source": [
    "#sq greater than 4\n",
    "\n",
    "sequences = [10,2,8,7,5,4,3,11,0, 1]\n",
    "\n",
    "filtered_result = filter (lambda x: x > 4, sequences)\n",
    "print(list(filtered_result))"
   ]
  },
  {
   "cell_type": "code",
   "execution_count": 22,
   "id": "aaf18ae5",
   "metadata": {},
   "outputs": [
    {
     "name": "stdout",
     "output_type": "stream",
     "text": [
      "[10, 8, 7, 11]\n"
     ]
    }
   ],
   "source": [
    "# write the above code for the expression x>5.\n",
    "\n",
    "sequences = [10,2,8,7,5,4,3,11,0, 1]\n",
    "\n",
    "filtered_result = filter (lambda x: x > 5, sequences)\n",
    "print(list(filtered_result))"
   ]
  },
  {
   "cell_type": "code",
   "execution_count": 23,
   "id": "56460141",
   "metadata": {},
   "outputs": [
    {
     "name": "stdout",
     "output_type": "stream",
     "text": [
      "[0, 1, 4, 9, 16, 25, 36, 49, 64, 81]\n"
     ]
    }
   ],
   "source": [
    "square=[]\n",
    "for x in range(10):\n",
    "    square.append(x**2)\n",
    "print(square)"
   ]
  },
  {
   "cell_type": "code",
   "execution_count": 29,
   "id": "5b2b23c9",
   "metadata": {},
   "outputs": [],
   "source": [
    "def user_product(a,b):\n",
    "    multify=a*b\n",
    "    \n",
    "    if multify<=1000:\n",
    "        return multify\n",
    "    else:\n",
    "        return a+b ##product is greater than 1000 calculate sum"
   ]
  },
  {
   "cell_type": "code",
   "execution_count": 31,
   "id": "1da48b07",
   "metadata": {},
   "outputs": [
    {
     "name": "stdout",
     "output_type": "stream",
     "text": [
      "600\n"
     ]
    }
   ],
   "source": [
    "#first condition\n",
    "result=user_product(20,30)\n",
    "print(result)"
   ]
  },
  {
   "cell_type": "code",
   "execution_count": 32,
   "id": "5e55ad6c",
   "metadata": {},
   "outputs": [
    {
     "name": "stdout",
     "output_type": "stream",
     "text": [
      "The result is :  70\n"
     ]
    }
   ],
   "source": [
    "#second condition\n",
    "result=user_product(40,30)\n",
    "print(\"The result is : \",result)"
   ]
  },
  {
   "cell_type": "code",
   "execution_count": 33,
   "id": "f7fd0124",
   "metadata": {},
   "outputs": [],
   "source": [
    "#Check if the first and last number of a list is the same.\n",
    "\n",
    "def first_last_same(numberlist):\n",
    "    print(\"Given list:\",numberlist)\n",
    "    \n",
    "    first_num =numberlist[0] #first number 0\n",
    "    last_num =numberlist[-1] # secnd number -1(as unk)\n",
    "    \n",
    "    if first_num==last_num:\n",
    "        return True\n",
    "    else:\n",
    "        return False        "
   ]
  },
  {
   "cell_type": "code",
   "execution_count": 36,
   "id": "ed4415c0",
   "metadata": {},
   "outputs": [
    {
     "name": "stdout",
     "output_type": "stream",
     "text": [
      "Given list: [10, 20, 30, 40, 10]\n",
      "result is True\n"
     ]
    }
   ],
   "source": [
    "numbers_x=[10,20,30,40,10]\n",
    "\n",
    "print(\"result is\",first_last_same(numbers_x))"
   ]
  },
  {
   "cell_type": "code",
   "execution_count": 37,
   "id": "c5419f6c",
   "metadata": {},
   "outputs": [
    {
     "name": "stdout",
     "output_type": "stream",
     "text": [
      "Given list: [75, 65, 35, 75, 30]\n",
      "Result False\n"
     ]
    }
   ],
   "source": [
    "numbers_y=[75,65,35,75,30]\n",
    "\n",
    "print(\"Result\",first_last_same(numbers_y))"
   ]
  },
  {
   "cell_type": "code",
   "execution_count": null,
   "id": "d17cf495",
   "metadata": {},
   "outputs": [],
   "source": []
  }
 ],
 "metadata": {
  "kernelspec": {
   "display_name": "Python 3 (ipykernel)",
   "language": "python",
   "name": "python3"
  },
  "language_info": {
   "codemirror_mode": {
    "name": "ipython",
    "version": 3
   },
   "file_extension": ".py",
   "mimetype": "text/x-python",
   "name": "python",
   "nbconvert_exporter": "python",
   "pygments_lexer": "ipython3",
   "version": "3.9.12"
  }
 },
 "nbformat": 4,
 "nbformat_minor": 5
}
