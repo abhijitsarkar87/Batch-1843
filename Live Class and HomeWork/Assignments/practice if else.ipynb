{
 "cells": [
  {
   "cell_type": "code",
   "execution_count": 1,
   "id": "4b0a738a",
   "metadata": {},
   "outputs": [
    {
     "name": "stdout",
     "output_type": "stream",
     "text": [
      "0\n",
      "1\n",
      "2\n",
      "3\n"
     ]
    }
   ],
   "source": [
    "x=0\n",
    "\n",
    "while(x<4):\n",
    "    print(x)\n",
    "    x=x+1"
   ]
  },
  {
   "cell_type": "code",
   "execution_count": 2,
   "id": "c446dd6e",
   "metadata": {},
   "outputs": [
    {
     "name": "stdout",
     "output_type": "stream",
     "text": [
      "1 2 3 4 5 6 7 8 9 10 "
     ]
    }
   ],
   "source": [
    "# program 1: Print first 10 natural numbers\n",
    "\n",
    "i=1\n",
    "while i<11:\n",
    "    print(i,end=\" \")\n",
    "    i=i+1"
   ]
  },
  {
   "cell_type": "code",
   "execution_count": 3,
   "id": "9e6babae",
   "metadata": {},
   "outputs": [
    {
     "name": "stdout",
     "output_type": "stream",
     "text": [
      "2\n",
      "3\n",
      "4\n",
      "5\n",
      "6\n"
     ]
    }
   ],
   "source": [
    "for x in range(2,7):\n",
    "    print(x)"
   ]
  },
  {
   "cell_type": "code",
   "execution_count": 4,
   "id": "7e410275",
   "metadata": {},
   "outputs": [
    {
     "name": "stdout",
     "output_type": "stream",
     "text": [
      "Jan\n",
      "Feb\n",
      "Mar\n",
      "April\n",
      "May\n",
      "June\n"
     ]
    }
   ],
   "source": [
    "Months = [\"Jan\",\"Feb\",\"Mar\",\"April\",\"May\",\"June\"]\n",
    "\n",
    "for m in Months:\n",
    "    print(m)\n",
    "\n"
   ]
  },
  {
   "cell_type": "code",
   "execution_count": 7,
   "id": "8ae78e34",
   "metadata": {},
   "outputs": [
    {
     "name": "stdout",
     "output_type": "stream",
     "text": [
      "cat window defenestrate \n",
      " cat 3 \n",
      " window 6 \n",
      " defenestrate 12 "
     ]
    }
   ],
   "source": [
    "# measure some strings:\n",
    "\n",
    "words = ['cat', 'window', 'defenestrate']\n",
    "#will print words\n",
    "for w in words:\n",
    "    print(w,end=\" \")\n",
    "    \n",
    "# will print words\n",
    "for w in words:\n",
    "    print(\"\\n\",w,len(w),end=\" \")"
   ]
  },
  {
   "cell_type": "code",
   "execution_count": 8,
   "id": "7c488dd7",
   "metadata": {},
   "outputs": [
    {
     "data": {
      "text/plain": [
       "range(5, 10)"
      ]
     },
     "execution_count": 8,
     "metadata": {},
     "output_type": "execute_result"
    }
   ],
   "source": [
    "range(5,10)"
   ]
  },
  {
   "cell_type": "code",
   "execution_count": 9,
   "id": "89c225ac",
   "metadata": {},
   "outputs": [
    {
     "data": {
      "text/plain": [
       "range(0, 10, 3)"
      ]
     },
     "execution_count": 9,
     "metadata": {},
     "output_type": "execute_result"
    }
   ],
   "source": [
    "range(0,10,3)"
   ]
  },
  {
   "cell_type": "code",
   "execution_count": 10,
   "id": "1496fe6f",
   "metadata": {},
   "outputs": [
    {
     "data": {
      "text/plain": [
       "[0, 1, 2, 3, 4, 5, 6, 7, 8]"
      ]
     },
     "execution_count": 10,
     "metadata": {},
     "output_type": "execute_result"
    }
   ],
   "source": [
    "list(range(9))"
   ]
  },
  {
   "cell_type": "code",
   "execution_count": 11,
   "id": "76ff882c",
   "metadata": {},
   "outputs": [
    {
     "name": "stdout",
     "output_type": "stream",
     "text": [
      "Mary 5\n",
      "had 5\n",
      "a 5\n",
      "little 5\n",
      "lamb 5\n"
     ]
    }
   ],
   "source": [
    "a = ['Mary', 'had', 'a', 'little', 'lamb']\n",
    "\n",
    "for i in a:\n",
    "    print(i,len(a))"
   ]
  },
  {
   "cell_type": "code",
   "execution_count": 12,
   "id": "39e7aa9a",
   "metadata": {},
   "outputs": [
    {
     "name": "stdout",
     "output_type": "stream",
     "text": [
      "0\n",
      "1\n",
      "2\n",
      "3\n",
      "4\n"
     ]
    }
   ],
   "source": [
    "# count of data inside a list\n",
    "\n",
    "a = ['Mary', 'had', 'a', 'little', 'lamb']\n",
    "for i in range(len(a)):\n",
    "    print(i)"
   ]
  },
  {
   "cell_type": "code",
   "execution_count": 14,
   "id": "811ef2b3",
   "metadata": {},
   "outputs": [
    {
     "name": "stdout",
     "output_type": "stream",
     "text": [
      "X is greater then Y\n"
     ]
    }
   ],
   "source": [
    "x=8\n",
    "y=4\n",
    "\n",
    "if(x<y):\n",
    "    st=\"X is less than Y\"\n",
    "else:\n",
    "    st=\"X is greater then Y\"\n",
    "    \n",
    "print(st)"
   ]
  },
  {
   "cell_type": "code",
   "execution_count": 15,
   "id": "63ef559c",
   "metadata": {},
   "outputs": [
    {
     "name": "stdout",
     "output_type": "stream",
     "text": [
      "Please enter an integer:42\n"
     ]
    }
   ],
   "source": [
    "x=int(input(\"Please enter an integer:\"))"
   ]
  },
  {
   "cell_type": "code",
   "execution_count": 16,
   "id": "53062460",
   "metadata": {},
   "outputs": [
    {
     "name": "stdout",
     "output_type": "stream",
     "text": [
      "More\n"
     ]
    }
   ],
   "source": [
    "if x<0:\n",
    "    x=0\n",
    "    print(\"Negative changed to zero\")\n",
    "elif x==0:\n",
    "    print(\"Zero\")\n",
    "elif x==1:\n",
    "    print(\"Single\")\n",
    "else:\n",
    "    print('More')"
   ]
  },
  {
   "cell_type": "code",
   "execution_count": 26,
   "id": "e6a6cd81",
   "metadata": {},
   "outputs": [
    {
     "name": "stdout",
     "output_type": "stream",
     "text": [
      "Shipping cost is $25\n",
      "Shipping Cost is $100\n"
     ]
    }
   ],
   "source": [
    "#Task :write a program using if-elif with different country value and total values\n",
    "\n",
    "total=50\n",
    "#country=\"US\"\n",
    "country=\"AU\"\n",
    "if country ==\"US\":\n",
    "    if total<=50:\n",
    "        print(\"Shipping Cost is $50\")\n",
    "elif total<=100:\n",
    "    print(\"Shipping cost is $25\")\n",
    "elif total<=150:\n",
    "    print(\"Shipping cost is $5\")\n",
    "else:\n",
    "    print(\"Free\")\n",
    "\n",
    "if country==\"AU\":\n",
    "    if total<=50:\n",
    "        print(\"Shipping Cost is $100\")\n",
    "    else:\n",
    "        print(\"Free\")\n",
    "    \n",
    "\n"
   ]
  },
  {
   "cell_type": "code",
   "execution_count": 25,
   "id": "bf3dd5f3",
   "metadata": {},
   "outputs": [
    {
     "name": "stdout",
     "output_type": "stream",
     "text": [
      "Shipping Cost is $25\n"
     ]
    }
   ],
   "source": [
    "total=100\n",
    "\n",
    "#country = \"US\"\n",
    "\n",
    "country = \"AU\"\n",
    "\n",
    "if country == \"US\":\n",
    "    if total <= 50:\n",
    "        print(\"Shipping Cost is $50\")\n",
    "\n",
    "elif total <= 100:\n",
    "    print(\"Shipping Cost is $25\")\n",
    "\n",
    "elif total <= 150:\n",
    "    print(\"Shipping Costs $5\")\n",
    "\n",
    "else:\n",
    "    print(\"FREE\")\n",
    "\n",
    "if country == \"AU\":\n",
    "    if total <= 50:\n",
    "        print(\"Shipping Cost is $100\")\n",
    "else:\n",
    "\n",
    "     print(\"FREE\")\n",
    "\n"
   ]
  },
  {
   "cell_type": "code",
   "execution_count": 30,
   "id": "81376a30",
   "metadata": {},
   "outputs": [
    {
     "name": "stdout",
     "output_type": "stream",
     "text": [
      "Found an even Number  2\n",
      "Found an even Number  4\n",
      "Found an even Number  6\n",
      "Found an even Number  8\n",
      "Found an even Number  10\n",
      "Found an even Number  12\n",
      "Found an even Number  14\n",
      "Found an even Number  16\n",
      "Found an even Number  18\n"
     ]
    }
   ],
   "source": [
    "#Task : write a program to find even or odd using for loop /range function.\n",
    "\n",
    "for e in range(2,20):\n",
    "    if e%2==0:\n",
    "        print(\"Found an even Number \",e)\n",
    "        continue\n",
    "        print(\"Found a number\",e)\n",
    "    "
   ]
  },
  {
   "cell_type": "code",
   "execution_count": 32,
   "id": "3ee1e69a",
   "metadata": {},
   "outputs": [
    {
     "name": "stdout",
     "output_type": "stream",
     "text": [
      "1\n",
      "3\n"
     ]
    }
   ],
   "source": [
    "#write two different loops for break if x is even number and continue when the number is divide by 5.\n",
    "\n",
    "for x in range(0,20):\n",
    "    if(x==5):\n",
    "        break\n",
    "    if(x%2==0):\n",
    "        continue\n",
    "    print(x)\n",
    "    \n",
    "\n",
    "        "
   ]
  },
  {
   "cell_type": "code",
   "execution_count": 34,
   "id": "2a663353",
   "metadata": {},
   "outputs": [
    {
     "name": "stdout",
     "output_type": "stream",
     "text": [
      "11\n",
      "12\n",
      "13\n",
      "14\n"
     ]
    }
   ],
   "source": [
    "for x in range(10,20):\n",
    "    if(x==15):\n",
    "        break\n",
    "    if(x%5==0):\n",
    "        continue\n",
    "    print(x)"
   ]
  },
  {
   "cell_type": "code",
   "execution_count": 38,
   "id": "04440831",
   "metadata": {},
   "outputs": [
    {
     "name": "stdout",
     "output_type": "stream",
     "text": [
      "Given List: [10, 20, 33, 46, 55]\n",
      "Divisible by 5:\n",
      "10\n",
      "20\n",
      "55\n"
     ]
    }
   ],
   "source": [
    "#Display numbers divisible by 5 from a list.Iterate the given list of numbers and print only those numbers which are divisible by 5.\n",
    "\n",
    "num_list = [10, 20, 33, 46, 55]\n",
    "print(\"Given List:\",num_list)\n",
    "print(\"Divisible by 5:\")\n",
    "\n",
    "for i in num_list:\n",
    "    if i%5==0:\n",
    "        print(i)"
   ]
  },
  {
   "cell_type": "code",
   "execution_count": 56,
   "id": "ad6768c1",
   "metadata": {},
   "outputs": [
    {
     "name": "stdout",
     "output_type": "stream",
     "text": [
      "Enter number4\n",
      "1\n",
      "3\n",
      "\n",
      "\n",
      "SUM is:  4\n"
     ]
    }
   ],
   "source": [
    "# Calculate the sum of all numbers from 1 to a given number\n",
    "s=0\n",
    "n=int(input(\"Enter number\")) # run loop n times\n",
    "\n",
    "# stop: n+1 (because range never include stop number in result)\n",
    "\n",
    "for i in range(1,n+1,2):\n",
    "    # add current number to sum variable\n",
    "    s=s+i\n",
    "    print(i)\n",
    "    \n",
    "print(\"\\n\")\n",
    "print(\"SUM is: \",s)"
   ]
  },
  {
   "cell_type": "code",
   "execution_count": 57,
   "id": "c291cd0b",
   "metadata": {},
   "outputs": [],
   "source": [
    "# Write a program to print multiplication table of a given number"
   ]
  },
  {
   "cell_type": "code",
   "execution_count": 58,
   "id": "03277bde",
   "metadata": {},
   "outputs": [],
   "source": [
    "n=2\n",
    "\n",
    "# stop: 11 (because range never include stop number in result)\n",
    "# run loop 10 times\n",
    "\n",
    "for i in range(1,11,1):\n",
    "    product= n*i"
   ]
  },
  {
   "cell_type": "code",
   "execution_count": 59,
   "id": "18780a34",
   "metadata": {},
   "outputs": [
    {
     "name": "stdout",
     "output_type": "stream",
     "text": [
      "20\n"
     ]
    }
   ],
   "source": [
    "print(product)"
   ]
  },
  {
   "cell_type": "code",
   "execution_count": 60,
   "id": "f18a5188",
   "metadata": {},
   "outputs": [
    {
     "data": {
      "text/plain": [
       "[4, 2, 0, 2, 4]"
      ]
     },
     "execution_count": 60,
     "metadata": {},
     "output_type": "execute_result"
    }
   ],
   "source": [
    "#Practice below codes for list comprehension\n",
    "# create a new list with the values double\n",
    "vec=[-4,-2,0,2,4]\n",
    "\n",
    "[x*2 for x in vec]\n",
    "#filter the list to exclude negative numbers\n",
    "\n",
    "[x for x in vec if x>=0]\n",
    "[abs(x) for  x in vec]\n",
    "\n"
   ]
  },
  {
   "cell_type": "code",
   "execution_count": 61,
   "id": "a3a1bf24",
   "metadata": {},
   "outputs": [
    {
     "data": {
      "text/plain": [
       "['banana', 'loganberry', 'passion fruit']"
      ]
     },
     "execution_count": 61,
     "metadata": {},
     "output_type": "execute_result"
    }
   ],
   "source": [
    "# call a method on each element\n",
    "\n",
    "freshfruit = [' banana', ' loganberry ', 'passion fruit ']\n",
    "\n",
    "[weapon.strip() for weapon in freshfruit]"
   ]
  },
  {
   "cell_type": "code",
   "execution_count": 64,
   "id": "7106734e",
   "metadata": {},
   "outputs": [
    {
     "data": {
      "text/plain": [
       "[(0, 0), (1, 1), (2, 4), (3, 9), (4, 16), (5, 25)]"
      ]
     },
     "execution_count": 64,
     "metadata": {},
     "output_type": "execute_result"
    }
   ],
   "source": [
    "# create a list of 2-tuples like (number, square)\n",
    "\n",
    "[(x, x**2) for x in range(6)]\n",
    "[(0, 0), (1, 1), (2, 4), (3, 9), (4, 16), (5, 25)]"
   ]
  },
  {
   "cell_type": "code",
   "execution_count": 67,
   "id": "36a946f8",
   "metadata": {},
   "outputs": [
    {
     "name": "stdout",
     "output_type": "stream",
     "text": [
      "apple\n",
      "banana\n",
      "orange\n",
      "pear\n"
     ]
    }
   ],
   "source": [
    "#To loop over a sequence in sorted order, use the sorted() function which returns a new sorted list while\n",
    "\n",
    "#leaving the source unaltered.\n",
    "\n",
    "basket = ['apple', 'orange', 'apple', 'pear', 'orange', 'banana']\n",
    "\n",
    "for f in sorted(set(basket)):\n",
    "    print(f)"
   ]
  },
  {
   "cell_type": "code",
   "execution_count": null,
   "id": "cde43499",
   "metadata": {},
   "outputs": [],
   "source": []
  }
 ],
 "metadata": {
  "kernelspec": {
   "display_name": "Python 3 (ipykernel)",
   "language": "python",
   "name": "python3"
  },
  "language_info": {
   "codemirror_mode": {
    "name": "ipython",
    "version": 3
   },
   "file_extension": ".py",
   "mimetype": "text/x-python",
   "name": "python",
   "nbconvert_exporter": "python",
   "pygments_lexer": "ipython3",
   "version": "3.9.12"
  }
 },
 "nbformat": 4,
 "nbformat_minor": 5
}
