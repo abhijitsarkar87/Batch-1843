{
 "cells": [
  {
   "cell_type": "markdown",
   "id": "dc2ce53a",
   "metadata": {},
   "source": [
    "# Machine Learning:"
   ]
  },
  {
   "cell_type": "markdown",
   "id": "0c9c0531",
   "metadata": {},
   "source": [
    "Machine learning (ML) is a type of artificial intelligence (AI) that allows software applications to become more accurate at predicting outcomes without being explicitly programmed to do so."
   ]
  },
  {
   "cell_type": "markdown",
   "id": "f51fedfd",
   "metadata": {},
   "source": [
    "##### ML is of two type:\n",
    "    \n",
    "    1. Supervised Learning\n",
    "    Ex:Child learning under a teacher (Have X as input, Y as a output)\n",
    "    \n",
    "    2. Unsupervied Learning\n",
    "    Ex:Child learning without teacher.(have only X input)"
   ]
  },
  {
   "cell_type": "markdown",
   "id": "084bd9f4",
   "metadata": {},
   "source": [
    "### Category of Supervised Learning"
   ]
  },
  {
   "cell_type": "markdown",
   "id": "3054c0d6",
   "metadata": {},
   "source": [
    "#### Regration:\n",
    "\n",
    "        >LINEAR REGRESSION. \n",
    "It is one of the easiest and most popular Machine Learning algorithms.\n",
    "It is a statistical method that is used for predictive analysis. \n",
    "Linear regression makes predictions for continuous/real or numeric variables \n",
    "\n",
    "Such as sales, salary, age, product price, temp etc\n",
    "        \n",
    "        >Logistical Regression\n",
    "Logistic regression is an example of supervised learning.\n",
    "It is used to calculate or predict the probability of a binary (yes/no) event occurring.\n",
    "    \n",
    "An example of logistic regression could be applying machine learning to determine if a person is likely to be infected with COVID-19 or not.\n",
    "\n",
    "#### Classification:\n",
    "\n",
    "we have categorical data \n",
    "\n",
    "like( sunny weather,)"
   ]
  },
  {
   "cell_type": "markdown",
   "id": "4928e931",
   "metadata": {},
   "source": [
    "# UNSUPERVISED LEARNING:"
   ]
  },
  {
   "cell_type": "markdown",
   "id": "10dfc2a2",
   "metadata": {},
   "source": [
    "Unsupervised learning refers to the use of artificial intelligence (AI) algorithms to identify patterns in data sets containing data points that are neither classified nor labeled. \n",
    "\n",
    "NO Y COLUMN, ONLY X COLUMN."
   ]
  },
  {
   "cell_type": "markdown",
   "id": "908828c4",
   "metadata": {},
   "source": [
    "EQUATION for linear regression:\n",
    "    \n",
    "Formula: \n",
    "a= intercent value\n",
    "b= coefficient\n",
    "x= independent variable\n",
    " y=a+bx"
   ]
  },
  {
   "cell_type": "markdown",
   "id": "b5b5f7e7",
   "metadata": {},
   "source": [
    "-----------------------------------------------------------"
   ]
  },
  {
   "cell_type": "markdown",
   "id": "c57efd8f",
   "metadata": {},
   "source": [
    "--------------------------------------------------------------------------"
   ]
  }
 ],
 "metadata": {
  "kernelspec": {
   "display_name": "Python 3 (ipykernel)",
   "language": "python",
   "name": "python3"
  },
  "language_info": {
   "codemirror_mode": {
    "name": "ipython",
    "version": 3
   },
   "file_extension": ".py",
   "mimetype": "text/x-python",
   "name": "python",
   "nbconvert_exporter": "python",
   "pygments_lexer": "ipython3",
   "version": "3.9.12"
  }
 },
 "nbformat": 4,
 "nbformat_minor": 5
}
