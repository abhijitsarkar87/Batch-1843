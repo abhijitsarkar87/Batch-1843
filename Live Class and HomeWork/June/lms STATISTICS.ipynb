{
 "cells": [
  {
   "cell_type": "markdown",
   "id": "137e7d84",
   "metadata": {},
   "source": [
    "# Inroduction to Statistics"
   ]
  },
  {
   "cell_type": "markdown",
   "id": "551a1f93",
   "metadata": {},
   "source": [
    " Descriptive and inferential \n",
    " \n",
    " \n",
    " ## Descriptive: \n",
    " \n",
    "If data can be described without any statistical tools then it is called descriptive statistics . ex, marks in class , height of student.\n",
    "         \n",
    " ## Inferential:\n",
    " \n",
    "Inferential statistics is a statistical method that allows the researcher to make assumptions about a wider group, using a smaller portion of that group as a guideline.\n",
    "\n",
    "or\n",
    "\n",
    "If data is too big then then we use inferential statistics "
   ]
  },
  {
   "cell_type": "raw",
   "id": "ee9401c6",
   "metadata": {},
   "source": [
    "Population and Sample:\n",
    "    \n",
    "Population: \n",
    "\n",
    "A population is a distinct group of individuals, whether that group comprises a nation or a group of people with a common characteristic.\n",
    "    \n",
    "    Ex: Entire Data UP population\n",
    "    \n",
    "Sample:\n",
    "\n",
    "Subset of a larger population.\n",
    "\n",
    "    Ex: Exit Polls of UP population.\n",
    "\n",
    "    "
   ]
  },
  {
   "cell_type": "markdown",
   "id": "b678f507",
   "metadata": {},
   "source": [
    "Analytics Methodology And How Industry Use Statistics\n",
    "\n",
    "           1.Weather forecasting\n",
    "\n",
    "           2.Giving Insurance\n",
    "\n",
    "           3.Stock Market\n",
    "\n",
    "           4.Drug Effectiveness before releasing to the market\n",
    "\n",
    "           5.Diseased survival probability\n",
    "\n",
    "           6.Election winning and exit poll prediction\n",
    "\n",
    "           7.Loan approval and fraud detection\n",
    "\n",
    "           8.Netflix/Amazon recommendation\n",
    "\n",
    "           9.New Campaign Effectiveness"
   ]
  },
  {
   "cell_type": "markdown",
   "id": "8db8b4aa",
   "metadata": {},
   "source": [
    "#### Parameters and Statistics Mean,Median and Mode"
   ]
  },
  {
   "cell_type": "code",
   "execution_count": 1,
   "id": "c799bb6b",
   "metadata": {},
   "outputs": [
    {
     "data": {
      "text/plain": [
       "'MEDIAN IS CENTER DATA'"
      ]
     },
     "execution_count": 1,
     "metadata": {},
     "output_type": "execute_result"
    }
   ],
   "source": [
    "#Mean (using stat)\n",
    "\n",
    "import statistics as st\n",
    "\n",
    "\"NOTE -- MEAN=AVG\"\n",
    "\"calculate mean=> 15+16+17/3= MEAN VALUE\"\n",
    "\n",
    "\"MEDIAN IS CENTER DATA\""
   ]
  },
  {
   "cell_type": "code",
   "execution_count": 2,
   "id": "36e9ac9a",
   "metadata": {},
   "outputs": [],
   "source": [
    "import numpy as np"
   ]
  },
  {
   "cell_type": "code",
   "execution_count": 3,
   "id": "b7184754",
   "metadata": {},
   "outputs": [],
   "source": [
    "a=np.array([2,4,5,8,9,10,30,32])"
   ]
  },
  {
   "cell_type": "code",
   "execution_count": 4,
   "id": "24e5bff9",
   "metadata": {},
   "outputs": [
    {
     "data": {
      "text/plain": [
       "8.5"
      ]
     },
     "execution_count": 4,
     "metadata": {},
     "output_type": "execute_result"
    }
   ],
   "source": [
    "np.median(a)"
   ]
  },
  {
   "cell_type": "code",
   "execution_count": 5,
   "id": "2036d6b2",
   "metadata": {},
   "outputs": [
    {
     "data": {
      "text/plain": [
       "40"
      ]
     },
     "execution_count": 5,
     "metadata": {},
     "output_type": "execute_result"
    }
   ],
   "source": [
    "x=[10,20,30,40,50,60,70]\n",
    "st.mean(x)"
   ]
  },
  {
   "cell_type": "code",
   "execution_count": 6,
   "id": "53c4072d",
   "metadata": {},
   "outputs": [
    {
     "data": {
      "text/plain": [
       "40"
      ]
     },
     "execution_count": 6,
     "metadata": {},
     "output_type": "execute_result"
    }
   ],
   "source": [
    "st.median(x)"
   ]
  },
  {
   "cell_type": "code",
   "execution_count": 7,
   "id": "293856a1",
   "metadata": {},
   "outputs": [
    {
     "data": {
      "text/plain": [
       "10"
      ]
     },
     "execution_count": 7,
     "metadata": {},
     "output_type": "execute_result"
    }
   ],
   "source": [
    "st.mode(x)"
   ]
  },
  {
   "cell_type": "markdown",
   "id": "6f31d912",
   "metadata": {},
   "source": [
    "# USE OF VARIABLE"
   ]
  },
  {
   "cell_type": "markdown",
   "id": "f1551bae",
   "metadata": {},
   "source": [
    "### Dependent Variable nd Independent Variable.\n",
    "\n",
    "Independent variables do not depend on variables whereas dependent variables depend on various types of variables."
   ]
  },
  {
   "cell_type": "markdown",
   "id": "f6522497",
   "metadata": {},
   "source": [
    "### TYPE OF VARIABLE"
   ]
  },
  {
   "cell_type": "markdown",
   "id": "5986d562",
   "metadata": {},
   "source": [
    "## Numerical\n",
    "-------------------------------------------------------------------------------\n",
    "1.Continuous:refers to the unspecified number of possible measurements between two realistic points.Ex: AGE,MARKS,Height, weight, temperature and length are all examples of continuous data\n",
    "\n",
    "2.Discrete------->Discrete data is a count that involves integers.    \n",
    "\n",
    "The number of students in a class.\n",
    "The number of workers in a company.\n",
    "The number of parts damaged during transportation.\n",
    "Shoe sizes.\n",
    "\n",
    "## Categorical\n",
    "-------------------------------------------------------------------------------\n",
    "1.Odinal Rating----> 1 to 5 star, education level (#following order)\n",
    "\n",
    "2. Normal----------> Gender, Brands"
   ]
  },
  {
   "cell_type": "raw",
   "id": "57d4d213",
   "metadata": {},
   "source": [
    "Descriptive statistics:\n",
    "    1> measure of central tendency\n",
    "     >Mean>>Median>>Mode\n",
    "    2> measure of dispersion (spread)"
   ]
  },
  {
   "cell_type": "markdown",
   "id": "ada21ddc",
   "metadata": {},
   "source": [
    "# Descriptive Statistics"
   ]
  },
  {
   "cell_type": "markdown",
   "id": "64283d59",
   "metadata": {},
   "source": [
    "1. Central Tendency\n",
    "2. Dispersion of Data (Spread)"
   ]
  },
  {
   "cell_type": "code",
   "execution_count": 10,
   "id": "89841095",
   "metadata": {},
   "outputs": [],
   "source": [
    "# Measure of Central Tendency\n",
    "\n",
    "import numpy as np\n",
    "import pandas as pd\n"
   ]
  },
  {
   "cell_type": "code",
   "execution_count": 11,
   "id": "a4d09535",
   "metadata": {},
   "outputs": [],
   "source": [
    "x=np.random.randint(20,35,10)"
   ]
  },
  {
   "cell_type": "code",
   "execution_count": 12,
   "id": "e2d157e2",
   "metadata": {},
   "outputs": [
    {
     "name": "stdout",
     "output_type": "stream",
     "text": [
      "[21 31 32 25 30 23 20 26 33 27]\n"
     ]
    }
   ],
   "source": [
    "print(x)"
   ]
  },
  {
   "cell_type": "code",
   "execution_count": 18,
   "id": "d65cb25c",
   "metadata": {},
   "outputs": [
    {
     "data": {
      "text/plain": [
       "19.16"
      ]
     },
     "execution_count": 18,
     "metadata": {},
     "output_type": "execute_result"
    }
   ],
   "source": [
    "np.var(x)"
   ]
  },
  {
   "cell_type": "code",
   "execution_count": 15,
   "id": "873608a2",
   "metadata": {},
   "outputs": [
    {
     "data": {
      "text/plain": [
       "26.8"
      ]
     },
     "execution_count": 15,
     "metadata": {},
     "output_type": "execute_result"
    }
   ],
   "source": [
    "np.mean(x)"
   ]
  },
  {
   "cell_type": "code",
   "execution_count": 16,
   "id": "9f5450cb",
   "metadata": {},
   "outputs": [
    {
     "data": {
      "text/plain": [
       "26.5"
      ]
     },
     "execution_count": 16,
     "metadata": {},
     "output_type": "execute_result"
    }
   ],
   "source": [
    "np.median(x)"
   ]
  },
  {
   "cell_type": "markdown",
   "id": "5d230c92",
   "metadata": {},
   "source": [
    "### Measure of Dispersion"
   ]
  },
  {
   "cell_type": "code",
   "execution_count": 19,
   "id": "3aa20a8f",
   "metadata": {},
   "outputs": [
    {
     "name": "stdout",
     "output_type": "stream",
     "text": [
      "variance - 19.16\n"
     ]
    }
   ],
   "source": [
    "# variance = Means of Squared deviations\n",
    "\n",
    "print('variance -',np.var(x))"
   ]
  },
  {
   "cell_type": "code",
   "execution_count": 20,
   "id": "1740b0b9",
   "metadata": {},
   "outputs": [
    {
     "name": "stdout",
     "output_type": "stream",
     "text": [
      "standard Deviation - 4.377213725647858\n"
     ]
    }
   ],
   "source": [
    "# std= sqrt of variance\n",
    "\n",
    "print('standard Deviation -',np.std(x))"
   ]
  },
  {
   "cell_type": "code",
   "execution_count": 24,
   "id": "c3a3e75b",
   "metadata": {},
   "outputs": [],
   "source": [
    "#Quartiles\n",
    "\n",
    "y=[12,18,10,43,27,14,18,34]\n",
    "y1=pd.DataFrame(y)"
   ]
  },
  {
   "cell_type": "code",
   "execution_count": 25,
   "id": "70879179",
   "metadata": {},
   "outputs": [
    {
     "data": {
      "text/html": [
       "<div>\n",
       "<style scoped>\n",
       "    .dataframe tbody tr th:only-of-type {\n",
       "        vertical-align: middle;\n",
       "    }\n",
       "\n",
       "    .dataframe tbody tr th {\n",
       "        vertical-align: top;\n",
       "    }\n",
       "\n",
       "    .dataframe thead th {\n",
       "        text-align: right;\n",
       "    }\n",
       "</style>\n",
       "<table border=\"1\" class=\"dataframe\">\n",
       "  <thead>\n",
       "    <tr style=\"text-align: right;\">\n",
       "      <th></th>\n",
       "      <th>0</th>\n",
       "    </tr>\n",
       "  </thead>\n",
       "  <tbody>\n",
       "    <tr>\n",
       "      <th>count</th>\n",
       "      <td>8.000000</td>\n",
       "    </tr>\n",
       "    <tr>\n",
       "      <th>mean</th>\n",
       "      <td>22.000000</td>\n",
       "    </tr>\n",
       "    <tr>\n",
       "      <th>std</th>\n",
       "      <td>11.649647</td>\n",
       "    </tr>\n",
       "    <tr>\n",
       "      <th>min</th>\n",
       "      <td>10.000000</td>\n",
       "    </tr>\n",
       "    <tr>\n",
       "      <th>25%</th>\n",
       "      <td>13.500000</td>\n",
       "    </tr>\n",
       "    <tr>\n",
       "      <th>50%</th>\n",
       "      <td>18.000000</td>\n",
       "    </tr>\n",
       "    <tr>\n",
       "      <th>75%</th>\n",
       "      <td>28.750000</td>\n",
       "    </tr>\n",
       "    <tr>\n",
       "      <th>max</th>\n",
       "      <td>43.000000</td>\n",
       "    </tr>\n",
       "  </tbody>\n",
       "</table>\n",
       "</div>"
      ],
      "text/plain": [
       "               0\n",
       "count   8.000000\n",
       "mean   22.000000\n",
       "std    11.649647\n",
       "min    10.000000\n",
       "25%    13.500000\n",
       "50%    18.000000\n",
       "75%    28.750000\n",
       "max    43.000000"
      ]
     },
     "execution_count": 25,
     "metadata": {},
     "output_type": "execute_result"
    }
   ],
   "source": [
    "y1.describe() # it works on numerical data"
   ]
  },
  {
   "cell_type": "code",
   "execution_count": 26,
   "id": "b9f1edca",
   "metadata": {},
   "outputs": [],
   "source": [
    "#inter Quartile (q3-q1)  here 75-25= IQD\n",
    "# Quartile Range(MAX-MIN) here 43-10"
   ]
  },
  {
   "cell_type": "markdown",
   "id": "e006d2b0",
   "metadata": {},
   "source": [
    "# Distribution"
   ]
  },
  {
   "cell_type": "markdown",
   "id": "f15fd2df",
   "metadata": {},
   "source": [
    "### Normal Distribution:"
   ]
  },
  {
   "cell_type": "markdown",
   "id": "ffd105fa",
   "metadata": {},
   "source": [
    "Synmetric Distribution: Mean==MEDIAN==MODE==000\n",
    "\n",
    "Skewed Right:=> \n",
    "\n",
    "Skewed Left :=>"
   ]
  },
  {
   "cell_type": "markdown",
   "id": "8137b3d5",
   "metadata": {},
   "source": [
    "# Covariance and correlation."
   ]
  },
  {
   "cell_type": "markdown",
   "id": "c6608d7f",
   "metadata": {},
   "source": [
    "### Covariance: \n",
    "\n",
    "1> Change in one variable cause changes in another variable.\n",
    "\n",
    "2> It can take -ve infintite to +ve infinite values, one known as negative relationship other known as positive relationship.\n",
    "\n",
    "3> It is used a linear relationship between two variable.\n",
    "\n",
    "4> give direction like positive or negative.\n",
    "\n",
    "5> It has dimension."
   ]
  },
  {
   "cell_type": "markdown",
   "id": "20c01866",
   "metadata": {},
   "source": [
    "### Correlation: \n",
    "\n",
    "How strong pair has relations are, +1 says strong relation,-1 says negative cor-relation,  indirectly related to each other, dimentionless"
   ]
  },
  {
   "cell_type": "markdown",
   "id": "c9c5e6a2",
   "metadata": {},
   "source": [
    "# Hypothesis"
   ]
  },
  {
   "cell_type": "raw",
   "id": "2192d3ae",
   "metadata": {},
   "source": [
    "Making a guess on the basis of assumption without scientific proof.\n",
    "                    OR\n",
    "    \n",
    "Explaining the situation based on reasonable assumptions. "
   ]
  },
  {
   "cell_type": "markdown",
   "id": "31984f3b",
   "metadata": {},
   "source": [
    "NULL Hypothesis = H0 => Current status/Assumption doesn't change\n",
    "\n",
    "Alternate Hypothesis= H1 => Decisions leads to opposite of H0"
   ]
  },
  {
   "cell_type": "markdown",
   "id": "20485d89",
   "metadata": {},
   "source": [
    "### Statistical Tools:"
   ]
  },
  {
   "cell_type": "markdown",
   "id": "dd95286f",
   "metadata": {},
   "source": [
    "1> T-test\n",
    "\n",
    "2> Anova"
   ]
  },
  {
   "cell_type": "markdown",
   "id": "8f2cb951",
   "metadata": {},
   "source": [
    "# ANOVA- analysis of Variance"
   ]
  },
  {
   "cell_type": "markdown",
   "id": "df36aff8",
   "metadata": {},
   "source": [
    "Anova is used to compare difference in more than 2 groups. it looks for variation in the data with the amount of difference within the group( A group,B group,C group )and (A to B,B to C,C to A) with group .\n",
    "\n",
    "F value:(sample means of between groups)/(sample means of within group)\n",
    "\n",
    "ex:Mean of A,mean of B, mean C\n",
    "\n",
    "if F ration is higher than it indeciates that variation between groups are higher then the individual groups. Means of group a,b,c is different."
   ]
  },
  {
   "cell_type": "markdown",
   "id": "7971390f",
   "metadata": {},
   "source": [
    "# Confusion Matrix:"
   ]
  },
  {
   "cell_type": "raw",
   "id": "ad03c391",
   "metadata": {},
   "source": [
    "Type1_Type2 Error:\n",
    "\n",
    "A-->True Positive(TP) ,B----> False Positive(FP)****Type 1 error\n",
    "Type 2 error****C-->False Negative(FN),D----> True Nagative(TN)"
   ]
  },
  {
   "cell_type": "markdown",
   "id": "36366916",
   "metadata": {},
   "source": [
    "## Types of distribution:\n",
    "\n",
    "#### Uniform: \n",
    "\n",
    "Uniform distribution can be discrete (1,2,3) or continuous(1.1,1.6). In a Uniform distribution, Every event is equally likely to occur. if you think of the die again, each of the six outcomes has an equal probablity of occuring at 1/6\n",
    "\n",
    "#### Binomial:\n",
    "\n",
    "Discrete distribution, two outcomes pass or fail, every trail is indipendent has no dependency, like coin toss\n",
    "\n",
    "\n",
    "#### Normal or gaussian Distribution or bell curve:\n",
    "\n",
    "Normal distribution is the most Continious distribution in nature. Just like binomial distribution, every event is different from one another.In normal distribution mean median mode are equal to zero or at center. can be called as bell shape and can be called as bell curve distribution.\n",
    "\n",
    "ex: age marks salary,avg\n",
    "\n",
    "#### Poisson (poi-son)\n",
    "\n",
    "Discrete distribution, It doesn't measure number of successes for trails, it is probability distribution of the numbers of events occuring in a given period,given the average number of times the event occuers over that time\n",
    "\n",
    "ex: in a restaurant 3 customers visit per minute.This is an avg, however it can varry. possibly 15 customers visit after 5 mints\n",
    "\n",
    "\n",
    "#### Exponential \n",
    "\n",
    "The length of time one has to wait for bus.\n",
    "\n",
    "how long untill i have to replace my computer\n"
   ]
  },
  {
   "cell_type": "markdown",
   "id": "808b7910",
   "metadata": {},
   "source": [
    "# Inferential Statistics:"
   ]
  },
  {
   "cell_type": "code",
   "execution_count": null,
   "id": "bf73712c",
   "metadata": {},
   "outputs": [],
   "source": []
  }
 ],
 "metadata": {
  "kernelspec": {
   "display_name": "Python 3 (ipykernel)",
   "language": "python",
   "name": "python3"
  },
  "language_info": {
   "codemirror_mode": {
    "name": "ipython",
    "version": 3
   },
   "file_extension": ".py",
   "mimetype": "text/x-python",
   "name": "python",
   "nbconvert_exporter": "python",
   "pygments_lexer": "ipython3",
   "version": "3.9.12"
  }
 },
 "nbformat": 4,
 "nbformat_minor": 5
}
