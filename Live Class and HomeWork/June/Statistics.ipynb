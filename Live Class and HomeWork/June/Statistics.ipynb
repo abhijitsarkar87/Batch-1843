{
 "cells": [
  {
   "cell_type": "markdown",
   "id": "44681f4e",
   "metadata": {},
   "source": [
    "# Basic Statistics"
   ]
  },
  {
   "cell_type": "markdown",
   "id": "3bdbbb8e",
   "metadata": {},
   "source": [
    "The science of collecting, organizing, presenting, analysing and interpresting data which helps in making more effective decisions.\n",
    "\n",
    ">Statistics: \n",
    "\"Is a bunch of mathamatics used to summarise, analyze, and interpret a group of numbers or observations\""
   ]
  },
  {
   "cell_type": "markdown",
   "id": "ca15e006",
   "metadata": {},
   "source": [
    "# Variable \n",
    "\n",
    "columns can be called as variable."
   ]
  },
  {
   "cell_type": "markdown",
   "id": "30870814",
   "metadata": {},
   "source": [
    "## VARIABLE are of two type:\n",
    "\n",
    "### Independent\n",
    "\n",
    "\n",
    ">Independent variable are also known as\n",
    "\n",
    "    .Input_variable \n",
    "    .Explainatory_variable     \n",
    "    .Predictor_variable\n",
    "    .Controlled_variable\n",
    "\n",
    "ex: Student reading for Hours.\n",
    "\n",
    "### Dependent variable \n",
    "\n",
    "---------------------------------------\n",
    ">Dependent variable are also known as\n",
    "\n",
    "    .Output_variable\n",
    "    .Outcome variable\n",
    "    .Label\n",
    "    .Predicted\n",
    "    .Responce \n",
    "----------------------\n",
    "ex: marks are dependent\n"
   ]
  },
  {
   "cell_type": "raw",
   "id": "a492409d",
   "metadata": {},
   "source": [
    "Types of Variables/Data\n",
    "----------------------------\n",
    "Data\n",
    "\n",
    "1.Categorical \n",
    "\n",
    "  > Example: Marital Status,Political Party,EyeColor\n",
    "\n",
    "2.Numerical\n",
    "  \n",
    "  > Discrete contains integer > no of children,defects per hour(counted items)\n",
    "    \n",
    "  > Continuous contains real value > Weight,Voltage (Measured Characteristics)"
   ]
  },
  {
   "cell_type": "raw",
   "id": "86c7396c",
   "metadata": {},
   "source": [
    "# Categorical/Nominal Data.\n",
    "---------------------------------\n",
    "\n",
    "> This type of data is non-numeric.\n",
    "> We use to quantify things in categories(like gender,nationality,political party,party etc)\n",
    "> Gender- Male,female\n",
    "> Country- US,UK,UAE\n",
    "> we can assign numbers to the categories, but the numbers would not, in that case,represent their values per say\n",
    "> They will seperate one type from the other.\n",
    "ex: calculation of india's population, bangalore could be city number 1,Mumbai 2 and so on"
   ]
  },
  {
   "cell_type": "markdown",
   "id": "1c45156d",
   "metadata": {},
   "source": [
    "# Odinal Data:\n",
    "    \n",
    "    = 5 star ratings\n",
    "\n",
    "# Interval Data:\n",
    "    \n",
    "    = range of values like Temperature in celsius, Year of bith \n",
    "    "
   ]
  },
  {
   "cell_type": "markdown",
   "id": "b7742c8a",
   "metadata": {},
   "source": [
    "# POPULATION and SAMPLE"
   ]
  },
  {
   "cell_type": "raw",
   "id": "a71a0f79",
   "metadata": {},
   "source": [
    "#FROM A POPULAION OF 1000 cars, I Selected 40 cars from population \n",
    "--------------------------------------------------------------------\n",
    "--------------------------------------------------------------------\n",
    "Here,\n",
    "    we can call this 40 cars as sample or subset of population."
   ]
  },
  {
   "cell_type": "markdown",
   "id": "7c42db11",
   "metadata": {},
   "source": [
    "### Type of Statistics"
   ]
  },
  {
   "cell_type": "raw",
   "id": "0bc4186e",
   "metadata": {},
   "source": [
    "\n",
    "    \n",
    "    1.Descritive: \n",
    "    \n",
    "        a> Central Tendency\n",
    "        \n",
    "           (1.) Mean \n",
    "                =sum of data divided by total number of data\n",
    "           (2.) Median\n",
    "                =gives the central position 2,3,(4),6,10 <in odd condition>\n",
    "                                        2,3,(4,5),10,12 <in even condition>\n",
    "           (3.) mode\n",
    "                 14,13,22,24,16,14,22,22 (14 is 2 times and 22 is 3 times)\n",
    "                = mode will be 22\n",
    "                \n",
    "        b> Dispersion of Data\n",
    "            (1.) Range\n",
    "            (2.) var\n",
    "            (3.) standard deviation\n",
    "            (4.) Percentile\n",
    "            (5.) Screw\n",
    "    \n",
    "    2.Inferential statistics\n",
    "    \n",
    "    "
   ]
  },
  {
   "cell_type": "code",
   "execution_count": 1,
   "id": "0f682df2",
   "metadata": {},
   "outputs": [],
   "source": [
    "# mean median mode and statistics are present in numpy and pandas.\n",
    "\n",
    "import numpy as np\n",
    "import pandas as pd"
   ]
  },
  {
   "cell_type": "code",
   "execution_count": 2,
   "id": "20abc9e2",
   "metadata": {},
   "outputs": [
    {
     "data": {
      "text/plain": [
       "3.5"
      ]
     },
     "execution_count": 2,
     "metadata": {},
     "output_type": "execute_result"
    }
   ],
   "source": [
    "b=np.array([1,2,3,4,5,6])\n",
    "np.mean(b)"
   ]
  },
  {
   "cell_type": "code",
   "execution_count": 3,
   "id": "7873e65c",
   "metadata": {},
   "outputs": [],
   "source": [
    "a=np.array([34,56,67,78,56])"
   ]
  },
  {
   "cell_type": "markdown",
   "id": "14bb3725",
   "metadata": {},
   "source": [
    "# Central Tendency"
   ]
  },
  {
   "cell_type": "markdown",
   "id": "0c1f3919",
   "metadata": {},
   "source": [
    "### Mean \n",
    "     sum of data divided by total number of data\n",
    "        Formula >.np.mean(a)\n",
    "        \n",
    "### Median \n",
    "     gives the central position\n",
    "        Formula  >.np.median(a)\n",
    "        \n",
    "### Mode   \n",
    "     Formula >.ds['Economics'].mode()"
   ]
  },
  {
   "cell_type": "code",
   "execution_count": 4,
   "id": "5e88cee2",
   "metadata": {},
   "outputs": [
    {
     "data": {
      "text/plain": [
       "58.2"
      ]
     },
     "execution_count": 4,
     "metadata": {},
     "output_type": "execute_result"
    }
   ],
   "source": [
    "np.mean(a)"
   ]
  },
  {
   "cell_type": "code",
   "execution_count": 5,
   "id": "0c20c346",
   "metadata": {},
   "outputs": [
    {
     "data": {
      "text/plain": [
       "3.5"
      ]
     },
     "execution_count": 5,
     "metadata": {},
     "output_type": "execute_result"
    }
   ],
   "source": [
    "np.median(b)"
   ]
  },
  {
   "cell_type": "code",
   "execution_count": 6,
   "id": "bdf51e3a",
   "metadata": {},
   "outputs": [
    {
     "data": {
      "text/plain": [
       "56.0"
      ]
     },
     "execution_count": 6,
     "metadata": {},
     "output_type": "execute_result"
    }
   ],
   "source": [
    "np.median(a)"
   ]
  },
  {
   "cell_type": "code",
   "execution_count": 7,
   "id": "dce7164b",
   "metadata": {},
   "outputs": [],
   "source": [
    "b=np.array([100,200,300,400,500,600])"
   ]
  },
  {
   "cell_type": "code",
   "execution_count": 8,
   "id": "ecf9079b",
   "metadata": {},
   "outputs": [
    {
     "data": {
      "text/plain": [
       "350.0"
      ]
     },
     "execution_count": 8,
     "metadata": {},
     "output_type": "execute_result"
    }
   ],
   "source": [
    "np.mean(b)"
   ]
  },
  {
   "cell_type": "code",
   "execution_count": 9,
   "id": "8953359d",
   "metadata": {},
   "outputs": [
    {
     "data": {
      "text/plain": [
       "350.0"
      ]
     },
     "execution_count": 9,
     "metadata": {},
     "output_type": "execute_result"
    }
   ],
   "source": [
    "np.median(b)"
   ]
  },
  {
   "cell_type": "code",
   "execution_count": 10,
   "id": "1049654f",
   "metadata": {},
   "outputs": [],
   "source": [
    "p=np.array([[23,45],[56,76]])"
   ]
  },
  {
   "cell_type": "code",
   "execution_count": 11,
   "id": "950195b6",
   "metadata": {},
   "outputs": [
    {
     "data": {
      "text/plain": [
       "50.0"
      ]
     },
     "execution_count": 11,
     "metadata": {},
     "output_type": "execute_result"
    }
   ],
   "source": [
    "np.mean(p)"
   ]
  },
  {
   "cell_type": "code",
   "execution_count": 12,
   "id": "b341b699",
   "metadata": {},
   "outputs": [
    {
     "data": {
      "text/plain": [
       "50.5"
      ]
     },
     "execution_count": 12,
     "metadata": {},
     "output_type": "execute_result"
    }
   ],
   "source": [
    "np.median(p)"
   ]
  },
  {
   "cell_type": "code",
   "execution_count": 13,
   "id": "d5fd91e3",
   "metadata": {},
   "outputs": [
    {
     "data": {
      "text/plain": [
       "array([[23, 45],\n",
       "       [56, 76]])"
      ]
     },
     "execution_count": 13,
     "metadata": {},
     "output_type": "execute_result"
    }
   ],
   "source": [
    "p"
   ]
  },
  {
   "cell_type": "code",
   "execution_count": 14,
   "id": "9a18c760",
   "metadata": {},
   "outputs": [
    {
     "data": {
      "text/plain": [
       "array([39.5, 60.5])"
      ]
     },
     "execution_count": 14,
     "metadata": {},
     "output_type": "execute_result"
    }
   ],
   "source": [
    "np.mean(p,axis=0) #column wise 23+56,45+76"
   ]
  },
  {
   "cell_type": "code",
   "execution_count": 15,
   "id": "cc2735d8",
   "metadata": {},
   "outputs": [
    {
     "data": {
      "text/plain": [
       "array([34., 66.])"
      ]
     },
     "execution_count": 15,
     "metadata": {},
     "output_type": "execute_result"
    }
   ],
   "source": [
    "np.mean(p,axis=1)# row wise 23+45,56+76"
   ]
  },
  {
   "cell_type": "code",
   "execution_count": 16,
   "id": "b16967d4",
   "metadata": {},
   "outputs": [],
   "source": [
    "j=np.array([[12,14,16],[19,10,34],[76,34,36]])"
   ]
  },
  {
   "cell_type": "code",
   "execution_count": 17,
   "id": "631fbdc1",
   "metadata": {},
   "outputs": [
    {
     "data": {
      "text/plain": [
       "array([[12, 14, 16],\n",
       "       [19, 10, 34],\n",
       "       [76, 34, 36]])"
      ]
     },
     "execution_count": 17,
     "metadata": {},
     "output_type": "execute_result"
    }
   ],
   "source": [
    "j"
   ]
  },
  {
   "cell_type": "code",
   "execution_count": 18,
   "id": "0e408d7e",
   "metadata": {},
   "outputs": [
    {
     "data": {
      "text/plain": [
       "array([35.66666667, 19.33333333, 28.66666667])"
      ]
     },
     "execution_count": 18,
     "metadata": {},
     "output_type": "execute_result"
    }
   ],
   "source": [
    "np.mean(j,axis=0) #by column"
   ]
  },
  {
   "cell_type": "code",
   "execution_count": 19,
   "id": "2852266f",
   "metadata": {},
   "outputs": [
    {
     "data": {
      "text/plain": [
       "array([19., 14., 34.])"
      ]
     },
     "execution_count": 19,
     "metadata": {},
     "output_type": "execute_result"
    }
   ],
   "source": [
    "np.median(j,axis=0) # by column"
   ]
  },
  {
   "cell_type": "code",
   "execution_count": 20,
   "id": "a3fb570e",
   "metadata": {},
   "outputs": [
    {
     "data": {
      "text/plain": [
       "array([14.        , 21.        , 48.66666667])"
      ]
     },
     "execution_count": 20,
     "metadata": {},
     "output_type": "execute_result"
    }
   ],
   "source": [
    "np.mean(j,axis=1) # by row"
   ]
  },
  {
   "cell_type": "code",
   "execution_count": 21,
   "id": "f93063c2",
   "metadata": {},
   "outputs": [
    {
     "data": {
      "text/plain": [
       "array([14., 19., 36.])"
      ]
     },
     "execution_count": 21,
     "metadata": {},
     "output_type": "execute_result"
    }
   ],
   "source": [
    "np.median(j,axis=1) # by row"
   ]
  },
  {
   "cell_type": "code",
   "execution_count": 22,
   "id": "621b5fb8",
   "metadata": {},
   "outputs": [],
   "source": [
    "new=np.array([[14,18,15],[18,16,17],[23,45,68],[31,47,78]])"
   ]
  },
  {
   "cell_type": "code",
   "execution_count": 23,
   "id": "e3d16ac2",
   "metadata": {},
   "outputs": [
    {
     "data": {
      "text/plain": [
       "array([[14, 18, 15],\n",
       "       [18, 16, 17],\n",
       "       [23, 45, 68],\n",
       "       [31, 47, 78]])"
      ]
     },
     "execution_count": 23,
     "metadata": {},
     "output_type": "execute_result"
    }
   ],
   "source": [
    "new"
   ]
  },
  {
   "cell_type": "code",
   "execution_count": 24,
   "id": "e9f4abb7",
   "metadata": {},
   "outputs": [
    {
     "data": {
      "text/plain": [
       "array([21.5, 31.5, 44.5])"
      ]
     },
     "execution_count": 24,
     "metadata": {},
     "output_type": "execute_result"
    }
   ],
   "source": [
    "np.mean(new,axis=0) # col"
   ]
  },
  {
   "cell_type": "code",
   "execution_count": 25,
   "id": "3f722b29",
   "metadata": {},
   "outputs": [
    {
     "data": {
      "text/plain": [
       "array([20.5, 31.5, 42.5])"
      ]
     },
     "execution_count": 25,
     "metadata": {},
     "output_type": "execute_result"
    }
   ],
   "source": [
    "np.median(new,axis=0)"
   ]
  },
  {
   "cell_type": "code",
   "execution_count": 26,
   "id": "7f7cc684",
   "metadata": {},
   "outputs": [
    {
     "data": {
      "text/plain": [
       "array([15.66666667, 17.        , 45.33333333, 52.        ])"
      ]
     },
     "execution_count": 26,
     "metadata": {},
     "output_type": "execute_result"
    }
   ],
   "source": [
    "np.mean(new,axis=1)# row"
   ]
  },
  {
   "cell_type": "code",
   "execution_count": 27,
   "id": "25cbc2b5",
   "metadata": {},
   "outputs": [
    {
     "data": {
      "text/plain": [
       "array([15., 17., 45., 47.])"
      ]
     },
     "execution_count": 27,
     "metadata": {},
     "output_type": "execute_result"
    }
   ],
   "source": [
    "np.median(new,axis=1) # row"
   ]
  },
  {
   "cell_type": "code",
   "execution_count": 28,
   "id": "a7eb98c4",
   "metadata": {},
   "outputs": [],
   "source": [
    "url=\"https://github.com/dsrscientist/dataset1/blob/master/student_marks.csv\"\n",
    "df=pd.read_html(url)"
   ]
  },
  {
   "cell_type": "code",
   "execution_count": 29,
   "id": "c8f870df",
   "metadata": {},
   "outputs": [
    {
     "data": {
      "text/plain": [
       "[   Unnamed: 0 Unnamed: 1 Gender         DOB  Maths  Physics  Chemistry  \\\n",
       " 0         NaN       John      M  05-04-1988     55       45         56   \n",
       " 1         NaN     Suresh      M  04-05-1987     75       96         78   \n",
       " 2         NaN     Ramesh      M  25-05-1989     25       54         89   \n",
       " 3         NaN    Jessica      F  12-08-1990     78       96         86   \n",
       " 4         NaN   Jennifer      F  02-09-1989     58       96         78   \n",
       " 5         NaN       Annu      F  05-04-1988     45       87         52   \n",
       " 6         NaN      pooja      F  04-05-1987     55       64         61   \n",
       " 7         NaN     Ritesh      M  25-05-1989     54       76         87   \n",
       " 8         NaN      Farha      F  12-08-1990     55       63         89   \n",
       " 9         NaN     Mukesh      M  02-09-1989     96       46         77   \n",
       " \n",
       "    English  Biology  Economics  History  Civics  \n",
       " 0       87       21         52       89      65  \n",
       " 1       64       90         61       58       2  \n",
       " 2       76       95         87       56      74  \n",
       " 3       63       54         89       75      45  \n",
       " 4       46       96         77       83      53  \n",
       " 5       89       55         89       87      52  \n",
       " 6       58       75         58       64      61  \n",
       " 7       56       25         56       76      87  \n",
       " 8       75       78         75       63      89  \n",
       " 9       83       58         83       46      77  ]"
      ]
     },
     "execution_count": 29,
     "metadata": {},
     "output_type": "execute_result"
    }
   ],
   "source": [
    "df"
   ]
  },
  {
   "cell_type": "code",
   "execution_count": 30,
   "id": "f68253f9",
   "metadata": {},
   "outputs": [
    {
     "name": "stderr",
     "output_type": "stream",
     "text": [
      "C:\\Users\\jitsa\\anaconda3\\lib\\site-packages\\pandas\\io\\parsers\\base_parser.py:1070: UserWarning: Parsing '25-05-1989' in DD/MM/YYYY format. Provide format or specify infer_datetime_format=True for consistent parsing.\n",
      "  return tools.to_datetime(\n"
     ]
    }
   ],
   "source": [
    "df=pd.read_csv(\"student_marks.csv\",\n",
    "              index_col='Name',\n",
    "              parse_dates=['DOB'])"
   ]
  },
  {
   "cell_type": "code",
   "execution_count": 31,
   "id": "85b17d26",
   "metadata": {},
   "outputs": [
    {
     "data": {
      "text/html": [
       "<div>\n",
       "<style scoped>\n",
       "    .dataframe tbody tr th:only-of-type {\n",
       "        vertical-align: middle;\n",
       "    }\n",
       "\n",
       "    .dataframe tbody tr th {\n",
       "        vertical-align: top;\n",
       "    }\n",
       "\n",
       "    .dataframe thead th {\n",
       "        text-align: right;\n",
       "    }\n",
       "</style>\n",
       "<table border=\"1\" class=\"dataframe\">\n",
       "  <thead>\n",
       "    <tr style=\"text-align: right;\">\n",
       "      <th></th>\n",
       "      <th>Gender</th>\n",
       "      <th>DOB</th>\n",
       "      <th>Maths</th>\n",
       "      <th>Physics</th>\n",
       "      <th>Chemistry</th>\n",
       "      <th>English</th>\n",
       "      <th>Biology</th>\n",
       "      <th>Economics</th>\n",
       "      <th>History</th>\n",
       "      <th>Civics</th>\n",
       "    </tr>\n",
       "    <tr>\n",
       "      <th>Name</th>\n",
       "      <th></th>\n",
       "      <th></th>\n",
       "      <th></th>\n",
       "      <th></th>\n",
       "      <th></th>\n",
       "      <th></th>\n",
       "      <th></th>\n",
       "      <th></th>\n",
       "      <th></th>\n",
       "      <th></th>\n",
       "    </tr>\n",
       "  </thead>\n",
       "  <tbody>\n",
       "    <tr>\n",
       "      <th>John</th>\n",
       "      <td>M</td>\n",
       "      <td>1988-05-04</td>\n",
       "      <td>55</td>\n",
       "      <td>45</td>\n",
       "      <td>56</td>\n",
       "      <td>87</td>\n",
       "      <td>21</td>\n",
       "      <td>52</td>\n",
       "      <td>89</td>\n",
       "      <td>65</td>\n",
       "    </tr>\n",
       "    <tr>\n",
       "      <th>Suresh</th>\n",
       "      <td>M</td>\n",
       "      <td>1987-04-05</td>\n",
       "      <td>75</td>\n",
       "      <td>96</td>\n",
       "      <td>78</td>\n",
       "      <td>64</td>\n",
       "      <td>90</td>\n",
       "      <td>61</td>\n",
       "      <td>58</td>\n",
       "      <td>2</td>\n",
       "    </tr>\n",
       "    <tr>\n",
       "      <th>Ramesh</th>\n",
       "      <td>M</td>\n",
       "      <td>1989-05-25</td>\n",
       "      <td>25</td>\n",
       "      <td>54</td>\n",
       "      <td>89</td>\n",
       "      <td>76</td>\n",
       "      <td>95</td>\n",
       "      <td>87</td>\n",
       "      <td>56</td>\n",
       "      <td>74</td>\n",
       "    </tr>\n",
       "    <tr>\n",
       "      <th>Jessica</th>\n",
       "      <td>F</td>\n",
       "      <td>1990-12-08</td>\n",
       "      <td>78</td>\n",
       "      <td>96</td>\n",
       "      <td>86</td>\n",
       "      <td>63</td>\n",
       "      <td>54</td>\n",
       "      <td>89</td>\n",
       "      <td>75</td>\n",
       "      <td>45</td>\n",
       "    </tr>\n",
       "    <tr>\n",
       "      <th>Jennifer</th>\n",
       "      <td>F</td>\n",
       "      <td>1989-02-09</td>\n",
       "      <td>58</td>\n",
       "      <td>96</td>\n",
       "      <td>78</td>\n",
       "      <td>46</td>\n",
       "      <td>96</td>\n",
       "      <td>77</td>\n",
       "      <td>83</td>\n",
       "      <td>53</td>\n",
       "    </tr>\n",
       "    <tr>\n",
       "      <th>Annu</th>\n",
       "      <td>F</td>\n",
       "      <td>1988-05-04</td>\n",
       "      <td>45</td>\n",
       "      <td>87</td>\n",
       "      <td>52</td>\n",
       "      <td>89</td>\n",
       "      <td>55</td>\n",
       "      <td>89</td>\n",
       "      <td>87</td>\n",
       "      <td>52</td>\n",
       "    </tr>\n",
       "    <tr>\n",
       "      <th>pooja</th>\n",
       "      <td>F</td>\n",
       "      <td>1987-04-05</td>\n",
       "      <td>55</td>\n",
       "      <td>64</td>\n",
       "      <td>61</td>\n",
       "      <td>58</td>\n",
       "      <td>75</td>\n",
       "      <td>58</td>\n",
       "      <td>64</td>\n",
       "      <td>61</td>\n",
       "    </tr>\n",
       "    <tr>\n",
       "      <th>Ritesh</th>\n",
       "      <td>M</td>\n",
       "      <td>1989-05-25</td>\n",
       "      <td>54</td>\n",
       "      <td>76</td>\n",
       "      <td>87</td>\n",
       "      <td>56</td>\n",
       "      <td>25</td>\n",
       "      <td>56</td>\n",
       "      <td>76</td>\n",
       "      <td>87</td>\n",
       "    </tr>\n",
       "    <tr>\n",
       "      <th>Farha</th>\n",
       "      <td>F</td>\n",
       "      <td>1990-12-08</td>\n",
       "      <td>55</td>\n",
       "      <td>63</td>\n",
       "      <td>89</td>\n",
       "      <td>75</td>\n",
       "      <td>78</td>\n",
       "      <td>75</td>\n",
       "      <td>63</td>\n",
       "      <td>89</td>\n",
       "    </tr>\n",
       "    <tr>\n",
       "      <th>Mukesh</th>\n",
       "      <td>M</td>\n",
       "      <td>1989-02-09</td>\n",
       "      <td>96</td>\n",
       "      <td>46</td>\n",
       "      <td>77</td>\n",
       "      <td>83</td>\n",
       "      <td>58</td>\n",
       "      <td>83</td>\n",
       "      <td>46</td>\n",
       "      <td>77</td>\n",
       "    </tr>\n",
       "  </tbody>\n",
       "</table>\n",
       "</div>"
      ],
      "text/plain": [
       "         Gender        DOB  Maths  Physics  Chemistry  English  Biology  \\\n",
       "Name                                                                      \n",
       "John          M 1988-05-04     55       45         56       87       21   \n",
       "Suresh        M 1987-04-05     75       96         78       64       90   \n",
       "Ramesh        M 1989-05-25     25       54         89       76       95   \n",
       "Jessica       F 1990-12-08     78       96         86       63       54   \n",
       "Jennifer      F 1989-02-09     58       96         78       46       96   \n",
       "Annu          F 1988-05-04     45       87         52       89       55   \n",
       "pooja         F 1987-04-05     55       64         61       58       75   \n",
       "Ritesh        M 1989-05-25     54       76         87       56       25   \n",
       "Farha         F 1990-12-08     55       63         89       75       78   \n",
       "Mukesh        M 1989-02-09     96       46         77       83       58   \n",
       "\n",
       "          Economics  History  Civics  \n",
       "Name                                  \n",
       "John             52       89      65  \n",
       "Suresh           61       58       2  \n",
       "Ramesh           87       56      74  \n",
       "Jessica          89       75      45  \n",
       "Jennifer         77       83      53  \n",
       "Annu             89       87      52  \n",
       "pooja            58       64      61  \n",
       "Ritesh           56       76      87  \n",
       "Farha            75       63      89  \n",
       "Mukesh           83       46      77  "
      ]
     },
     "execution_count": 31,
     "metadata": {},
     "output_type": "execute_result"
    }
   ],
   "source": [
    "df"
   ]
  },
  {
   "cell_type": "code",
   "execution_count": 32,
   "id": "d5b07789",
   "metadata": {},
   "outputs": [
    {
     "data": {
      "text/plain": [
       "pandas._libs.tslibs.timestamps.Timestamp"
      ]
     },
     "execution_count": 32,
     "metadata": {},
     "output_type": "execute_result"
    }
   ],
   "source": [
    "type(df['DOB'][0])"
   ]
  },
  {
   "cell_type": "code",
   "execution_count": 33,
   "id": "26a1241a",
   "metadata": {},
   "outputs": [],
   "source": [
    "import pandas as pd\n",
    "import numpy as np\n",
    "import warnings\n",
    "warnings.filterwarnings('ignore')"
   ]
  },
  {
   "cell_type": "code",
   "execution_count": 34,
   "id": "a512a2a5",
   "metadata": {},
   "outputs": [],
   "source": [
    "ds=pd.read_csv(\"student_marks.csv\",\n",
    "              index_col=\"Name\",\n",
    "              parse_dates=[\"DOB\"])"
   ]
  },
  {
   "cell_type": "code",
   "execution_count": 35,
   "id": "7ba8bada",
   "metadata": {},
   "outputs": [
    {
     "name": "stdout",
     "output_type": "stream",
     "text": [
      "         Gender        DOB  Maths  Physics  Chemistry  English  Biology  \\\n",
      "Name                                                                      \n",
      "John          M 1988-05-04     55       45         56       87       21   \n",
      "Suresh        M 1987-04-05     75       96         78       64       90   \n",
      "Ramesh        M 1989-05-25     25       54         89       76       95   \n",
      "Jessica       F 1990-12-08     78       96         86       63       54   \n",
      "Jennifer      F 1989-02-09     58       96         78       46       96   \n",
      "Annu          F 1988-05-04     45       87         52       89       55   \n",
      "pooja         F 1987-04-05     55       64         61       58       75   \n",
      "Ritesh        M 1989-05-25     54       76         87       56       25   \n",
      "Farha         F 1990-12-08     55       63         89       75       78   \n",
      "Mukesh        M 1989-02-09     96       46         77       83       58   \n",
      "\n",
      "          Economics  History  Civics  \n",
      "Name                                  \n",
      "John             52       89      65  \n",
      "Suresh           61       58       2  \n",
      "Ramesh           87       56      74  \n",
      "Jessica          89       75      45  \n",
      "Jennifer         77       83      53  \n",
      "Annu             89       87      52  \n",
      "pooja            58       64      61  \n",
      "Ritesh           56       76      87  \n",
      "Farha            75       63      89  \n",
      "Mukesh           83       46      77  \n"
     ]
    }
   ],
   "source": [
    "print(ds)"
   ]
  },
  {
   "cell_type": "code",
   "execution_count": 36,
   "id": "c01d47d1",
   "metadata": {},
   "outputs": [
    {
     "data": {
      "text/plain": [
       "69.7"
      ]
     },
     "execution_count": 36,
     "metadata": {},
     "output_type": "execute_result"
    }
   ],
   "source": [
    "# mean\n",
    "\n",
    "ds['English'].mean()"
   ]
  },
  {
   "cell_type": "code",
   "execution_count": 37,
   "id": "2a6e7f98",
   "metadata": {},
   "outputs": [
    {
     "data": {
      "text/plain": [
       "59.6"
      ]
     },
     "execution_count": 37,
     "metadata": {},
     "output_type": "execute_result"
    }
   ],
   "source": [
    "ds['Maths'].mean()"
   ]
  },
  {
   "cell_type": "code",
   "execution_count": 38,
   "id": "5c9802f5",
   "metadata": {},
   "outputs": [
    {
     "data": {
      "text/plain": [
       "75.3"
      ]
     },
     "execution_count": 38,
     "metadata": {},
     "output_type": "execute_result"
    }
   ],
   "source": [
    "ds['Chemistry'].mean()"
   ]
  },
  {
   "cell_type": "code",
   "execution_count": 39,
   "id": "af764701",
   "metadata": {},
   "outputs": [
    {
     "data": {
      "text/plain": [
       "72.3"
      ]
     },
     "execution_count": 39,
     "metadata": {},
     "output_type": "execute_result"
    }
   ],
   "source": [
    "ds['Physics'].mean()"
   ]
  },
  {
   "cell_type": "code",
   "execution_count": 40,
   "id": "0f1bccf3",
   "metadata": {},
   "outputs": [
    {
     "data": {
      "text/plain": [
       "64.7"
      ]
     },
     "execution_count": 40,
     "metadata": {},
     "output_type": "execute_result"
    }
   ],
   "source": [
    "ds['Biology'].mean()"
   ]
  },
  {
   "cell_type": "code",
   "execution_count": 41,
   "id": "8ccc4d2a",
   "metadata": {},
   "outputs": [
    {
     "data": {
      "text/plain": [
       "72.7"
      ]
     },
     "execution_count": 41,
     "metadata": {},
     "output_type": "execute_result"
    }
   ],
   "source": [
    "ds['Economics'].mean()"
   ]
  },
  {
   "cell_type": "code",
   "execution_count": 42,
   "id": "adc3bc82",
   "metadata": {},
   "outputs": [
    {
     "data": {
      "text/plain": [
       "69.7"
      ]
     },
     "execution_count": 42,
     "metadata": {},
     "output_type": "execute_result"
    }
   ],
   "source": [
    "ds['History'].mean()"
   ]
  },
  {
   "cell_type": "code",
   "execution_count": 43,
   "id": "a96db5f9",
   "metadata": {},
   "outputs": [
    {
     "data": {
      "text/plain": [
       "60.5"
      ]
     },
     "execution_count": 43,
     "metadata": {},
     "output_type": "execute_result"
    }
   ],
   "source": [
    "ds['Civics'].mean()"
   ]
  },
  {
   "cell_type": "code",
   "execution_count": 44,
   "id": "f37a2301",
   "metadata": {},
   "outputs": [
    {
     "data": {
      "text/plain": [
       "69.5"
      ]
     },
     "execution_count": 44,
     "metadata": {},
     "output_type": "execute_result"
    }
   ],
   "source": [
    "ds['English'].median()"
   ]
  },
  {
   "cell_type": "code",
   "execution_count": 45,
   "id": "f3cb3c4f",
   "metadata": {},
   "outputs": [
    {
     "data": {
      "text/plain": [
       "55.0"
      ]
     },
     "execution_count": 45,
     "metadata": {},
     "output_type": "execute_result"
    }
   ],
   "source": [
    "ds[\"Maths\"].median()"
   ]
  },
  {
   "cell_type": "code",
   "execution_count": 46,
   "id": "7b5a4925",
   "metadata": {},
   "outputs": [
    {
     "data": {
      "text/plain": [
       "70.0"
      ]
     },
     "execution_count": 46,
     "metadata": {},
     "output_type": "execute_result"
    }
   ],
   "source": [
    "ds[\"Physics\"].median()"
   ]
  },
  {
   "cell_type": "code",
   "execution_count": 47,
   "id": "718ce82b",
   "metadata": {},
   "outputs": [
    {
     "data": {
      "text/plain": [
       "78.0"
      ]
     },
     "execution_count": 47,
     "metadata": {},
     "output_type": "execute_result"
    }
   ],
   "source": [
    "ds['Chemistry'].median()"
   ]
  },
  {
   "cell_type": "code",
   "execution_count": 48,
   "id": "a6856cce",
   "metadata": {},
   "outputs": [
    {
     "data": {
      "text/plain": [
       "66.5"
      ]
     },
     "execution_count": 48,
     "metadata": {},
     "output_type": "execute_result"
    }
   ],
   "source": [
    "ds['Biology'].median()"
   ]
  },
  {
   "cell_type": "code",
   "execution_count": 49,
   "id": "330b5416",
   "metadata": {},
   "outputs": [
    {
     "data": {
      "text/plain": [
       "63.0"
      ]
     },
     "execution_count": 49,
     "metadata": {},
     "output_type": "execute_result"
    }
   ],
   "source": [
    "ds['Civics'].median()"
   ]
  },
  {
   "cell_type": "code",
   "execution_count": 50,
   "id": "666e2b3c",
   "metadata": {},
   "outputs": [
    {
     "data": {
      "text/plain": [
       "69.5"
      ]
     },
     "execution_count": 50,
     "metadata": {},
     "output_type": "execute_result"
    }
   ],
   "source": [
    "ds['History'].median()"
   ]
  },
  {
   "cell_type": "code",
   "execution_count": 51,
   "id": "7035ae0c",
   "metadata": {},
   "outputs": [
    {
     "data": {
      "text/plain": [
       "76.0"
      ]
     },
     "execution_count": 51,
     "metadata": {},
     "output_type": "execute_result"
    }
   ],
   "source": [
    "ds['Economics'].median()"
   ]
  },
  {
   "cell_type": "code",
   "execution_count": 52,
   "id": "a550520a",
   "metadata": {},
   "outputs": [
    {
     "data": {
      "text/plain": [
       "0    96\n",
       "Name: Physics, dtype: int64"
      ]
     },
     "execution_count": 52,
     "metadata": {},
     "output_type": "execute_result"
    }
   ],
   "source": [
    "ds['Physics'].mode()"
   ]
  },
  {
   "cell_type": "code",
   "execution_count": 53,
   "id": "f3e840a9",
   "metadata": {},
   "outputs": [
    {
     "data": {
      "text/plain": [
       "0    78\n",
       "1    89\n",
       "Name: Chemistry, dtype: int64"
      ]
     },
     "execution_count": 53,
     "metadata": {},
     "output_type": "execute_result"
    }
   ],
   "source": [
    "ds['Chemistry'].mode()"
   ]
  },
  {
   "cell_type": "code",
   "execution_count": 54,
   "id": "a95b2983",
   "metadata": {},
   "outputs": [
    {
     "data": {
      "text/plain": [
       "0    46\n",
       "1    56\n",
       "2    58\n",
       "3    63\n",
       "4    64\n",
       "5    75\n",
       "6    76\n",
       "7    83\n",
       "8    87\n",
       "9    89\n",
       "Name: English, dtype: int64"
      ]
     },
     "execution_count": 54,
     "metadata": {},
     "output_type": "execute_result"
    }
   ],
   "source": [
    "ds['English'].mode()"
   ]
  },
  {
   "cell_type": "code",
   "execution_count": 55,
   "id": "e953e2f0",
   "metadata": {},
   "outputs": [
    {
     "data": {
      "text/plain": [
       "0     2\n",
       "1    45\n",
       "2    52\n",
       "3    53\n",
       "4    61\n",
       "5    65\n",
       "6    74\n",
       "7    77\n",
       "8    87\n",
       "9    89\n",
       "Name: Civics, dtype: int64"
      ]
     },
     "execution_count": 55,
     "metadata": {},
     "output_type": "execute_result"
    }
   ],
   "source": [
    "ds['Civics'].mode()"
   ]
  },
  {
   "cell_type": "code",
   "execution_count": 56,
   "id": "2ecc5496",
   "metadata": {},
   "outputs": [
    {
     "data": {
      "text/plain": [
       "0    89\n",
       "Name: Economics, dtype: int64"
      ]
     },
     "execution_count": 56,
     "metadata": {},
     "output_type": "execute_result"
    }
   ],
   "source": [
    "ds['Economics'].mode()"
   ]
  },
  {
   "cell_type": "raw",
   "id": "ec3bebc4",
   "metadata": {},
   "source": [
    "# Descriptive Statistics..\n",
    "    \n",
    "  a> Central Tendency\n",
    "        \n",
    "      (1.) Mean \n",
    "                =sum of data divided by total number of data\n",
    "            \n",
    "      (2.) Median\n",
    "                =gives the central position 2,3,(4),6,10 <in odd condition>\n",
    "                                        2,3,(4,5),10,12 <in even condition>\n",
    "      (3.) mode will maximum value Maximum repitaion\n",
    "                 14,13,22,24,16,14,22,22 (14 is 2 times and 22 is 3 times)\n",
    "                = mode will be 22\n",
    "                \n",
    "  b> Dispersion of Data\n",
    "            (1.) Range\n",
    "            (2.) var\n",
    "            (3.) standard deviation\n",
    "            (4.) Percentile\n",
    "            (5.) Screw"
   ]
  },
  {
   "cell_type": "raw",
   "id": "242e4ea6",
   "metadata": {},
   "source": [
    "Dispersion of Data\n",
    "            (1.) Range\n",
    "            (2.) var\n",
    "            (3.) standard deviation\n",
    "            (4.) Percentile\n",
    "            (5.) Screw"
   ]
  },
  {
   "cell_type": "raw",
   "id": "65aa9fd3",
   "metadata": {},
   "source": [
    "# bell curb is uniform distribution or normal ditribution\n",
    "\n",
    ">. where mean==median==mode==0  or are all equal.\n",
    "\n",
    ">. Standard Deviation = (+-1) # gap from mean\n",
    "\n",
    ">. Range is (Max-Min)\n",
    "\n"
   ]
  },
  {
   "cell_type": "markdown",
   "id": "ffcbc618",
   "metadata": {},
   "source": [
    "# Dispersion of Data"
   ]
  },
  {
   "cell_type": "markdown",
   "id": "fd3f0948",
   "metadata": {},
   "source": [
    "### Range\n",
    "\n",
    "Diference of maximum and minimum value will give us range\n",
    "\n",
    "Formula:\n",
    "\n",
    "    range_of_a=(a.max()-a.min()) #will give us the range"
   ]
  },
  {
   "cell_type": "markdown",
   "id": "402b36fc",
   "metadata": {},
   "source": [
    "### Variance: \n",
    "\n",
    "Sum of squared distances from each point to the mean\n",
    "\n",
    "Variance (σ2) is the squared variation of values (Xi) of a random variable (X) from its mean (μ). The variance formula lets us measure this spread from the mean of the random variable. \n",
    "\n",
    "Formula:\n",
    "\n",
    "    >. import numpy as np\n",
    "    >. np.var(a)"
   ]
  },
  {
   "cell_type": "markdown",
   "id": "75582a20",
   "metadata": {},
   "source": [
    "### Standard Deviation\n",
    "\n",
    "Square root of variance is standard deviation.\n",
    "\n",
    "Formula:\n",
    "\n",
    "    >. np.std()"
   ]
  },
  {
   "cell_type": "code",
   "execution_count": 57,
   "id": "c821092e",
   "metadata": {},
   "outputs": [],
   "source": [
    "# find range mean,variance and standard deviation \n",
    "m=np.array([3,5,6,9,10])"
   ]
  },
  {
   "cell_type": "code",
   "execution_count": 58,
   "id": "2ff8fc3e",
   "metadata": {},
   "outputs": [
    {
     "data": {
      "text/plain": [
       "6.6"
      ]
     },
     "execution_count": 58,
     "metadata": {},
     "output_type": "execute_result"
    }
   ],
   "source": [
    "np.mean(m) "
   ]
  },
  {
   "cell_type": "code",
   "execution_count": 59,
   "id": "525361fc",
   "metadata": {},
   "outputs": [],
   "source": [
    "range_of_m=(m.max()-m.min())"
   ]
  },
  {
   "cell_type": "code",
   "execution_count": 60,
   "id": "24bb21ad",
   "metadata": {},
   "outputs": [
    {
     "data": {
      "text/plain": [
       "7"
      ]
     },
     "execution_count": 60,
     "metadata": {},
     "output_type": "execute_result"
    }
   ],
   "source": [
    "range_of_m"
   ]
  },
  {
   "cell_type": "code",
   "execution_count": 61,
   "id": "5a262365",
   "metadata": {},
   "outputs": [
    {
     "data": {
      "text/plain": [
       "6.640000000000001"
      ]
     },
     "execution_count": 61,
     "metadata": {},
     "output_type": "execute_result"
    }
   ],
   "source": [
    "np.var(m)"
   ]
  },
  {
   "cell_type": "code",
   "execution_count": 62,
   "id": "0efd31ca",
   "metadata": {},
   "outputs": [
    {
     "data": {
      "text/plain": [
       "2.5768197453450252"
      ]
     },
     "execution_count": 62,
     "metadata": {},
     "output_type": "execute_result"
    }
   ],
   "source": [
    "np.std(m)"
   ]
  },
  {
   "cell_type": "code",
   "execution_count": 63,
   "id": "342aec87",
   "metadata": {},
   "outputs": [
    {
     "data": {
      "text/plain": [
       "6.64"
      ]
     },
     "execution_count": 63,
     "metadata": {},
     "output_type": "execute_result"
    }
   ],
   "source": [
    "round(np.var(m),2)# variance"
   ]
  },
  {
   "cell_type": "code",
   "execution_count": 64,
   "id": "40a779b6",
   "metadata": {},
   "outputs": [
    {
     "data": {
      "text/plain": [
       "2.58"
      ]
     },
     "execution_count": 64,
     "metadata": {},
     "output_type": "execute_result"
    }
   ],
   "source": [
    "round(np.std(m),2) # standard deviation"
   ]
  },
  {
   "cell_type": "code",
   "execution_count": 65,
   "id": "f4297710",
   "metadata": {},
   "outputs": [],
   "source": [
    "a=np.array([12,15,18,25])"
   ]
  },
  {
   "cell_type": "code",
   "execution_count": 66,
   "id": "a61e8c6c",
   "metadata": {},
   "outputs": [],
   "source": [
    "range_a=a.max()-a.min()"
   ]
  },
  {
   "cell_type": "code",
   "execution_count": 67,
   "id": "738a2d83",
   "metadata": {},
   "outputs": [
    {
     "data": {
      "text/plain": [
       "13"
      ]
     },
     "execution_count": 67,
     "metadata": {},
     "output_type": "execute_result"
    }
   ],
   "source": [
    "range_a"
   ]
  },
  {
   "cell_type": "code",
   "execution_count": 68,
   "id": "b01934a4",
   "metadata": {},
   "outputs": [
    {
     "data": {
      "text/plain": [
       "17.5"
      ]
     },
     "execution_count": 68,
     "metadata": {},
     "output_type": "execute_result"
    }
   ],
   "source": [
    "np.mean(a)"
   ]
  },
  {
   "cell_type": "code",
   "execution_count": 69,
   "id": "be6997af",
   "metadata": {},
   "outputs": [
    {
     "data": {
      "text/plain": [
       "23.2"
      ]
     },
     "execution_count": 69,
     "metadata": {},
     "output_type": "execute_result"
    }
   ],
   "source": [
    "round(np.var(a),1)"
   ]
  },
  {
   "cell_type": "code",
   "execution_count": 70,
   "id": "1a0673d0",
   "metadata": {},
   "outputs": [],
   "source": [
    "# round(np.std(a),1)"
   ]
  },
  {
   "cell_type": "markdown",
   "id": "5bdc2d95",
   "metadata": {},
   "source": [
    "----------------------------------------------------"
   ]
  },
  {
   "cell_type": "code",
   "execution_count": 71,
   "id": "af193b7f",
   "metadata": {},
   "outputs": [
    {
     "data": {
      "text/plain": [
       "datetime.datetime(2022, 7, 4, 22, 36, 34, 868340)"
      ]
     },
     "execution_count": 71,
     "metadata": {},
     "output_type": "execute_result"
    }
   ],
   "source": [
    "import datetime\n",
    "datetime.datetime.now()"
   ]
  },
  {
   "cell_type": "raw",
   "id": "decf43a9",
   "metadata": {},
   "source": [
    "Dispersion of Data\n",
    "            (1.) Range\n",
    "            (2.) variance\n",
    "            (3.) standard deviation\n",
    "            (4.) Percentile\n",
    "            (5.) Screw"
   ]
  },
  {
   "cell_type": "markdown",
   "id": "6f8d939b",
   "metadata": {},
   "source": [
    "### Percentile"
   ]
  },
  {
   "cell_type": "raw",
   "id": "a9460a17",
   "metadata": {},
   "source": [
    "# 60 percentile? Means what is the marks below which 60 percent of the student falls below.\n",
    "\n",
    ">. Ascending order: arrage into ascending order\n",
    ">. step2-Rank: (percentile divided by 100) 60/100= 0.60 will be rank\n",
    ">. Find 60th Percentile: rank * total number numbers(i have marks of 25 person) \n",
    "      0.60*25 person marks=15    \n",
    "      #here we need to go to the 15th position note the marks(ex:its79)\n",
    "      \n",
    ">.And we will add one more number to 15, then it would be 16th. Then we will find the number at 16th position(ex: its 85)\n",
    "        \n",
    ">. then we will divide the (1st position + 2nd position)marks with 2.\n",
    "   ex:  79+85/2 =82\n",
    "   \n",
    ">>> NOw 82 is the marks at which 60 percent of the student falls below.\n",
    "\n",
    "\n",
    "Formula:\n",
    "np.percentile(a,80) #Say,The marks in which 80 percent student fall below\n",
    "np.percentile(a,50) #Say,The marks in which 50 percent of student falls below\n",
    "np.percentile(a,40) #Marks in which 40 percent students falls below\n",
    "np.percentile(a,25) #marks in which 25 percent student falls below"
   ]
  },
  {
   "cell_type": "code",
   "execution_count": 72,
   "id": "cb29e857",
   "metadata": {},
   "outputs": [],
   "source": [
    "import numpy as np\n",
    "import pandas as pd\n",
    "import warnings\n",
    "warnings.filterwarnings('ignore')"
   ]
  },
  {
   "cell_type": "code",
   "execution_count": 73,
   "id": "37e66e67",
   "metadata": {},
   "outputs": [],
   "source": [
    "ds=pd.read_csv(\"president_heights.csv\")"
   ]
  },
  {
   "cell_type": "code",
   "execution_count": 74,
   "id": "4707eab4",
   "metadata": {},
   "outputs": [
    {
     "data": {
      "text/html": [
       "<div>\n",
       "<style scoped>\n",
       "    .dataframe tbody tr th:only-of-type {\n",
       "        vertical-align: middle;\n",
       "    }\n",
       "\n",
       "    .dataframe tbody tr th {\n",
       "        vertical-align: top;\n",
       "    }\n",
       "\n",
       "    .dataframe thead th {\n",
       "        text-align: right;\n",
       "    }\n",
       "</style>\n",
       "<table border=\"1\" class=\"dataframe\">\n",
       "  <thead>\n",
       "    <tr style=\"text-align: right;\">\n",
       "      <th></th>\n",
       "      <th>order</th>\n",
       "      <th>name</th>\n",
       "      <th>height</th>\n",
       "    </tr>\n",
       "  </thead>\n",
       "  <tbody>\n",
       "    <tr>\n",
       "      <th>0</th>\n",
       "      <td>1</td>\n",
       "      <td>George Washington</td>\n",
       "      <td>189</td>\n",
       "    </tr>\n",
       "    <tr>\n",
       "      <th>1</th>\n",
       "      <td>2</td>\n",
       "      <td>John Adams</td>\n",
       "      <td>170</td>\n",
       "    </tr>\n",
       "    <tr>\n",
       "      <th>2</th>\n",
       "      <td>3</td>\n",
       "      <td>Thomas Jefferson</td>\n",
       "      <td>189</td>\n",
       "    </tr>\n",
       "    <tr>\n",
       "      <th>3</th>\n",
       "      <td>4</td>\n",
       "      <td>James Madison</td>\n",
       "      <td>163</td>\n",
       "    </tr>\n",
       "    <tr>\n",
       "      <th>4</th>\n",
       "      <td>5</td>\n",
       "      <td>James Monroe</td>\n",
       "      <td>183</td>\n",
       "    </tr>\n",
       "    <tr>\n",
       "      <th>5</th>\n",
       "      <td>6</td>\n",
       "      <td>John Quincy Adams</td>\n",
       "      <td>171</td>\n",
       "    </tr>\n",
       "    <tr>\n",
       "      <th>6</th>\n",
       "      <td>7</td>\n",
       "      <td>Andrew Jackson</td>\n",
       "      <td>185</td>\n",
       "    </tr>\n",
       "    <tr>\n",
       "      <th>7</th>\n",
       "      <td>8</td>\n",
       "      <td>Martin Van Buren</td>\n",
       "      <td>168</td>\n",
       "    </tr>\n",
       "    <tr>\n",
       "      <th>8</th>\n",
       "      <td>9</td>\n",
       "      <td>William Henry Harrison</td>\n",
       "      <td>173</td>\n",
       "    </tr>\n",
       "    <tr>\n",
       "      <th>9</th>\n",
       "      <td>10</td>\n",
       "      <td>John Tyler</td>\n",
       "      <td>183</td>\n",
       "    </tr>\n",
       "    <tr>\n",
       "      <th>10</th>\n",
       "      <td>11</td>\n",
       "      <td>James K. Polk</td>\n",
       "      <td>173</td>\n",
       "    </tr>\n",
       "    <tr>\n",
       "      <th>11</th>\n",
       "      <td>12</td>\n",
       "      <td>Zachary Taylor</td>\n",
       "      <td>173</td>\n",
       "    </tr>\n",
       "    <tr>\n",
       "      <th>12</th>\n",
       "      <td>13</td>\n",
       "      <td>Millard Fillmore</td>\n",
       "      <td>175</td>\n",
       "    </tr>\n",
       "    <tr>\n",
       "      <th>13</th>\n",
       "      <td>14</td>\n",
       "      <td>Franklin Pierce</td>\n",
       "      <td>178</td>\n",
       "    </tr>\n",
       "    <tr>\n",
       "      <th>14</th>\n",
       "      <td>15</td>\n",
       "      <td>James Buchanan</td>\n",
       "      <td>183</td>\n",
       "    </tr>\n",
       "    <tr>\n",
       "      <th>15</th>\n",
       "      <td>16</td>\n",
       "      <td>Abraham Lincoln</td>\n",
       "      <td>193</td>\n",
       "    </tr>\n",
       "    <tr>\n",
       "      <th>16</th>\n",
       "      <td>17</td>\n",
       "      <td>Andrew Johnson</td>\n",
       "      <td>178</td>\n",
       "    </tr>\n",
       "    <tr>\n",
       "      <th>17</th>\n",
       "      <td>18</td>\n",
       "      <td>Ulysses S. Grant</td>\n",
       "      <td>173</td>\n",
       "    </tr>\n",
       "    <tr>\n",
       "      <th>18</th>\n",
       "      <td>19</td>\n",
       "      <td>Rutherford B. Hayes</td>\n",
       "      <td>174</td>\n",
       "    </tr>\n",
       "    <tr>\n",
       "      <th>19</th>\n",
       "      <td>20</td>\n",
       "      <td>James A. Garfield</td>\n",
       "      <td>183</td>\n",
       "    </tr>\n",
       "    <tr>\n",
       "      <th>20</th>\n",
       "      <td>21</td>\n",
       "      <td>Chester A. Arthur</td>\n",
       "      <td>183</td>\n",
       "    </tr>\n",
       "    <tr>\n",
       "      <th>21</th>\n",
       "      <td>23</td>\n",
       "      <td>Benjamin Harrison</td>\n",
       "      <td>168</td>\n",
       "    </tr>\n",
       "    <tr>\n",
       "      <th>22</th>\n",
       "      <td>25</td>\n",
       "      <td>William McKinley</td>\n",
       "      <td>170</td>\n",
       "    </tr>\n",
       "    <tr>\n",
       "      <th>23</th>\n",
       "      <td>26</td>\n",
       "      <td>Theodore Roosevelt</td>\n",
       "      <td>178</td>\n",
       "    </tr>\n",
       "    <tr>\n",
       "      <th>24</th>\n",
       "      <td>27</td>\n",
       "      <td>William Howard Taft</td>\n",
       "      <td>182</td>\n",
       "    </tr>\n",
       "    <tr>\n",
       "      <th>25</th>\n",
       "      <td>28</td>\n",
       "      <td>Woodrow Wilson</td>\n",
       "      <td>180</td>\n",
       "    </tr>\n",
       "    <tr>\n",
       "      <th>26</th>\n",
       "      <td>29</td>\n",
       "      <td>Warren G. Harding</td>\n",
       "      <td>183</td>\n",
       "    </tr>\n",
       "    <tr>\n",
       "      <th>27</th>\n",
       "      <td>30</td>\n",
       "      <td>Calvin Coolidge</td>\n",
       "      <td>178</td>\n",
       "    </tr>\n",
       "    <tr>\n",
       "      <th>28</th>\n",
       "      <td>31</td>\n",
       "      <td>Herbert Hoover</td>\n",
       "      <td>182</td>\n",
       "    </tr>\n",
       "    <tr>\n",
       "      <th>29</th>\n",
       "      <td>32</td>\n",
       "      <td>Franklin D. Roosevelt</td>\n",
       "      <td>188</td>\n",
       "    </tr>\n",
       "    <tr>\n",
       "      <th>30</th>\n",
       "      <td>33</td>\n",
       "      <td>Harry S. Truman</td>\n",
       "      <td>175</td>\n",
       "    </tr>\n",
       "    <tr>\n",
       "      <th>31</th>\n",
       "      <td>34</td>\n",
       "      <td>Dwight D. Eisenhower</td>\n",
       "      <td>179</td>\n",
       "    </tr>\n",
       "    <tr>\n",
       "      <th>32</th>\n",
       "      <td>35</td>\n",
       "      <td>John F. Kennedy</td>\n",
       "      <td>183</td>\n",
       "    </tr>\n",
       "    <tr>\n",
       "      <th>33</th>\n",
       "      <td>36</td>\n",
       "      <td>Lyndon B. Johnson</td>\n",
       "      <td>193</td>\n",
       "    </tr>\n",
       "    <tr>\n",
       "      <th>34</th>\n",
       "      <td>37</td>\n",
       "      <td>Richard Nixon</td>\n",
       "      <td>182</td>\n",
       "    </tr>\n",
       "    <tr>\n",
       "      <th>35</th>\n",
       "      <td>38</td>\n",
       "      <td>Gerald Ford</td>\n",
       "      <td>183</td>\n",
       "    </tr>\n",
       "    <tr>\n",
       "      <th>36</th>\n",
       "      <td>39</td>\n",
       "      <td>Jimmy Carter</td>\n",
       "      <td>177</td>\n",
       "    </tr>\n",
       "    <tr>\n",
       "      <th>37</th>\n",
       "      <td>40</td>\n",
       "      <td>Ronald Reagan</td>\n",
       "      <td>185</td>\n",
       "    </tr>\n",
       "    <tr>\n",
       "      <th>38</th>\n",
       "      <td>41</td>\n",
       "      <td>George H. W. Bush</td>\n",
       "      <td>188</td>\n",
       "    </tr>\n",
       "    <tr>\n",
       "      <th>39</th>\n",
       "      <td>42</td>\n",
       "      <td>Bill Clinton</td>\n",
       "      <td>188</td>\n",
       "    </tr>\n",
       "    <tr>\n",
       "      <th>40</th>\n",
       "      <td>43</td>\n",
       "      <td>George W. Bush</td>\n",
       "      <td>182</td>\n",
       "    </tr>\n",
       "    <tr>\n",
       "      <th>41</th>\n",
       "      <td>44</td>\n",
       "      <td>Barack Obama</td>\n",
       "      <td>185</td>\n",
       "    </tr>\n",
       "  </tbody>\n",
       "</table>\n",
       "</div>"
      ],
      "text/plain": [
       "    order                    name  height\n",
       "0       1       George Washington     189\n",
       "1       2              John Adams     170\n",
       "2       3        Thomas Jefferson     189\n",
       "3       4           James Madison     163\n",
       "4       5            James Monroe     183\n",
       "5       6       John Quincy Adams     171\n",
       "6       7          Andrew Jackson     185\n",
       "7       8        Martin Van Buren     168\n",
       "8       9  William Henry Harrison     173\n",
       "9      10              John Tyler     183\n",
       "10     11           James K. Polk     173\n",
       "11     12          Zachary Taylor     173\n",
       "12     13        Millard Fillmore     175\n",
       "13     14         Franklin Pierce     178\n",
       "14     15          James Buchanan     183\n",
       "15     16         Abraham Lincoln     193\n",
       "16     17          Andrew Johnson     178\n",
       "17     18        Ulysses S. Grant     173\n",
       "18     19     Rutherford B. Hayes     174\n",
       "19     20       James A. Garfield     183\n",
       "20     21       Chester A. Arthur     183\n",
       "21     23       Benjamin Harrison     168\n",
       "22     25        William McKinley     170\n",
       "23     26      Theodore Roosevelt     178\n",
       "24     27     William Howard Taft     182\n",
       "25     28          Woodrow Wilson     180\n",
       "26     29       Warren G. Harding     183\n",
       "27     30         Calvin Coolidge     178\n",
       "28     31          Herbert Hoover     182\n",
       "29     32   Franklin D. Roosevelt     188\n",
       "30     33         Harry S. Truman     175\n",
       "31     34    Dwight D. Eisenhower     179\n",
       "32     35         John F. Kennedy     183\n",
       "33     36       Lyndon B. Johnson     193\n",
       "34     37           Richard Nixon     182\n",
       "35     38             Gerald Ford     183\n",
       "36     39            Jimmy Carter     177\n",
       "37     40           Ronald Reagan     185\n",
       "38     41       George H. W. Bush     188\n",
       "39     42            Bill Clinton     188\n",
       "40     43          George W. Bush     182\n",
       "41     44            Barack Obama     185"
      ]
     },
     "execution_count": 74,
     "metadata": {},
     "output_type": "execute_result"
    }
   ],
   "source": [
    "ds"
   ]
  },
  {
   "cell_type": "code",
   "execution_count": 75,
   "id": "bd440bd0",
   "metadata": {},
   "outputs": [
    {
     "data": {
      "text/plain": [
       "Index(['order', 'name', 'height'], dtype='object')"
      ]
     },
     "execution_count": 75,
     "metadata": {},
     "output_type": "execute_result"
    }
   ],
   "source": [
    "ds.columns"
   ]
  },
  {
   "cell_type": "code",
   "execution_count": 76,
   "id": "6ececba7",
   "metadata": {},
   "outputs": [],
   "source": [
    "height=ds['height']"
   ]
  },
  {
   "cell_type": "code",
   "execution_count": 77,
   "id": "2a20e777",
   "metadata": {},
   "outputs": [
    {
     "data": {
      "text/html": [
       "<div>\n",
       "<style scoped>\n",
       "    .dataframe tbody tr th:only-of-type {\n",
       "        vertical-align: middle;\n",
       "    }\n",
       "\n",
       "    .dataframe tbody tr th {\n",
       "        vertical-align: top;\n",
       "    }\n",
       "\n",
       "    .dataframe thead th {\n",
       "        text-align: right;\n",
       "    }\n",
       "</style>\n",
       "<table border=\"1\" class=\"dataframe\">\n",
       "  <thead>\n",
       "    <tr style=\"text-align: right;\">\n",
       "      <th></th>\n",
       "      <th>order</th>\n",
       "      <th>name</th>\n",
       "      <th>height</th>\n",
       "    </tr>\n",
       "  </thead>\n",
       "  <tbody>\n",
       "    <tr>\n",
       "      <th>0</th>\n",
       "      <td>1</td>\n",
       "      <td>George Washington</td>\n",
       "      <td>189</td>\n",
       "    </tr>\n",
       "    <tr>\n",
       "      <th>1</th>\n",
       "      <td>2</td>\n",
       "      <td>John Adams</td>\n",
       "      <td>170</td>\n",
       "    </tr>\n",
       "    <tr>\n",
       "      <th>2</th>\n",
       "      <td>3</td>\n",
       "      <td>Thomas Jefferson</td>\n",
       "      <td>189</td>\n",
       "    </tr>\n",
       "    <tr>\n",
       "      <th>3</th>\n",
       "      <td>4</td>\n",
       "      <td>James Madison</td>\n",
       "      <td>163</td>\n",
       "    </tr>\n",
       "    <tr>\n",
       "      <th>4</th>\n",
       "      <td>5</td>\n",
       "      <td>James Monroe</td>\n",
       "      <td>183</td>\n",
       "    </tr>\n",
       "  </tbody>\n",
       "</table>\n",
       "</div>"
      ],
      "text/plain": [
       "   order               name  height\n",
       "0      1  George Washington     189\n",
       "1      2         John Adams     170\n",
       "2      3   Thomas Jefferson     189\n",
       "3      4      James Madison     163\n",
       "4      5       James Monroe     183"
      ]
     },
     "execution_count": 77,
     "metadata": {},
     "output_type": "execute_result"
    }
   ],
   "source": [
    "ds.head()"
   ]
  },
  {
   "cell_type": "code",
   "execution_count": 78,
   "id": "1712acc2",
   "metadata": {},
   "outputs": [
    {
     "name": "stdout",
     "output_type": "stream",
     "text": [
      "Mean height :  179.73809523809524\n",
      "Standard deviation :  7.015868855358296\n"
     ]
    }
   ],
   "source": [
    "print(\"Mean height : \",height.mean())\n",
    "\n",
    "print(\"Standard deviation : \",height.std())"
   ]
  },
  {
   "cell_type": "code",
   "execution_count": 79,
   "id": "cef3cff5",
   "metadata": {},
   "outputs": [
    {
     "name": "stdout",
     "output_type": "stream",
     "text": [
      "Maximum Height 193\n",
      "Minimum Height 163\n"
     ]
    }
   ],
   "source": [
    "print(\"Maximum Height\", height.max())\n",
    "print(\"Minimum Height\", height.min())"
   ]
  },
  {
   "cell_type": "code",
   "execution_count": 80,
   "id": "6ec54d69",
   "metadata": {},
   "outputs": [
    {
     "name": "stdout",
     "output_type": "stream",
     "text": [
      "25th Percentile :  174.25\n",
      "50th Percentile :  182.0\n",
      "100th Percentile:  193.0\n"
     ]
    }
   ],
   "source": [
    "print(\"25th Percentile : \",np.percentile(height,25))\n",
    "print(\"50th Percentile : \",np.percentile(height,50))\n",
    "print(\"100th Percentile: \",np.percentile(height,100))"
   ]
  },
  {
   "cell_type": "code",
   "execution_count": 81,
   "id": "4ae4da75",
   "metadata": {},
   "outputs": [
    {
     "name": "stdout",
     "output_type": "stream",
     "text": [
      "75th Percentile : 183.0\n"
     ]
    }
   ],
   "source": [
    "print(\"75th Percentile :\",np.percentile(height,75))"
   ]
  },
  {
   "cell_type": "markdown",
   "id": "7546ec86",
   "metadata": {},
   "source": [
    "# Visualization Representation:"
   ]
  },
  {
   "cell_type": "code",
   "execution_count": 82,
   "id": "3644481f",
   "metadata": {},
   "outputs": [],
   "source": [
    "import matplotlib.pyplot as plt\n",
    "import seaborn as sns"
   ]
  },
  {
   "cell_type": "code",
   "execution_count": 83,
   "id": "04c486c7",
   "metadata": {},
   "outputs": [
    {
     "data": {
      "text/plain": [
       "(array([ 1.,  2.,  3.,  5.,  3.,  6., 12.,  3.,  5.,  2.]),\n",
       " array([163., 166., 169., 172., 175., 178., 181., 184., 187., 190., 193.]),\n",
       " <BarContainer object of 10 artists>)"
      ]
     },
     "execution_count": 83,
     "metadata": {},
     "output_type": "execute_result"
    },
    {
     "data": {
      "image/png": "[encoded data removed]",
      "text/plain": [
       "<Figure size 432x288 with 1 Axes>"
      ]
     },
     "metadata": {
      "needs_background": "light"
     },
     "output_type": "display_data"
    }
   ],
   "source": [
    "plt.title(\"President Heights Distribution\")\n",
    "plt.xlabel('height (cm)')\n",
    "plt.ylabel('number')\n",
    "plt.hist(height) #we made the variable from ds['height']"
   ]
  },
  {
   "cell_type": "markdown",
   "id": "1dd93d8c",
   "metadata": {},
   "source": [
    "## Scipy library gives all statistics Functions"
   ]
  },
  {
   "cell_type": "code",
   "execution_count": 84,
   "id": "045bd241",
   "metadata": {},
   "outputs": [],
   "source": [
    "import scipy #scientific python library"
   ]
  },
  {
   "cell_type": "code",
   "execution_count": 85,
   "id": "6fe8a4d8",
   "metadata": {},
   "outputs": [
    {
     "data": {
      "text/plain": [
       "'1.7.3'"
      ]
     },
     "execution_count": 85,
     "metadata": {},
     "output_type": "execute_result"
    }
   ],
   "source": [
    "# checking version of the library running. libname.__version__\n",
    "# scipy--statistics--mode\n",
    "scipy.__version__"
   ]
  },
  {
   "cell_type": "code",
   "execution_count": 86,
   "id": "dbcab3fa",
   "metadata": {},
   "outputs": [],
   "source": [
    "a=np.array([3,7,8,9,19,23,75,62,14]).reshape(3,3)"
   ]
  },
  {
   "cell_type": "code",
   "execution_count": 87,
   "id": "023fa333",
   "metadata": {},
   "outputs": [
    {
     "data": {
      "text/plain": [
       "array([[ 3,  7,  8],\n",
       "       [ 9, 19, 23],\n",
       "       [75, 62, 14]])"
      ]
     },
     "execution_count": 87,
     "metadata": {},
     "output_type": "execute_result"
    }
   ],
   "source": [
    "a"
   ]
  },
  {
   "cell_type": "markdown",
   "id": "68c8eaae",
   "metadata": {},
   "source": [
    "### SCIPY"
   ]
  },
  {
   "cell_type": "code",
   "execution_count": 88,
   "id": "66adf637",
   "metadata": {},
   "outputs": [
    {
     "data": {
      "text/plain": [
       "24.444444444444443"
      ]
     },
     "execution_count": 88,
     "metadata": {},
     "output_type": "execute_result"
    }
   ],
   "source": [
    "# USING SCIPY\n",
    "\n",
    "scipy.mean(a)"
   ]
  },
  {
   "cell_type": "code",
   "execution_count": 89,
   "id": "d7229dc5",
   "metadata": {},
   "outputs": [
    {
     "data": {
      "text/plain": [
       "14.0"
      ]
     },
     "execution_count": 89,
     "metadata": {},
     "output_type": "execute_result"
    }
   ],
   "source": [
    "scipy.median(a)"
   ]
  },
  {
   "cell_type": "code",
   "execution_count": 90,
   "id": "f965df04",
   "metadata": {},
   "outputs": [
    {
     "data": {
      "text/plain": [
       "597.8024691358025"
      ]
     },
     "execution_count": 90,
     "metadata": {},
     "output_type": "execute_result"
    }
   ],
   "source": [
    "scipy.var(a)"
   ]
  },
  {
   "cell_type": "code",
   "execution_count": 91,
   "id": "e3f59b2e",
   "metadata": {},
   "outputs": [
    {
     "data": {
      "text/plain": [
       "597.8"
      ]
     },
     "execution_count": 91,
     "metadata": {},
     "output_type": "execute_result"
    }
   ],
   "source": [
    "round(scipy.var(a),2)"
   ]
  },
  {
   "cell_type": "code",
   "execution_count": 92,
   "id": "6c55a03e",
   "metadata": {},
   "outputs": [
    {
     "data": {
      "text/plain": [
       "24.44999936883031"
      ]
     },
     "execution_count": 92,
     "metadata": {},
     "output_type": "execute_result"
    }
   ],
   "source": [
    "scipy.std(a)"
   ]
  },
  {
   "cell_type": "code",
   "execution_count": 93,
   "id": "c5800099",
   "metadata": {},
   "outputs": [
    {
     "data": {
      "text/plain": [
       "24.45"
      ]
     },
     "execution_count": 93,
     "metadata": {},
     "output_type": "execute_result"
    }
   ],
   "source": [
    "round(scipy.std(a),2)"
   ]
  },
  {
   "cell_type": "code",
   "execution_count": 94,
   "id": "c736b448",
   "metadata": {},
   "outputs": [
    {
     "ename": "AttributeError",
     "evalue": "module 'scipy' has no attribute 'mode'",
     "output_type": "error",
     "traceback": [
      "\u001b[1;31m---------------------------------------------------------------------------\u001b[0m",
      "\u001b[1;31mAttributeError\u001b[0m                            Traceback (most recent call last)",
      "Input \u001b[1;32mIn [94]\u001b[0m, in \u001b[0;36m<cell line: 1>\u001b[1;34m()\u001b[0m\n\u001b[1;32m----> 1\u001b[0m \u001b[43mscipy\u001b[49m\u001b[38;5;241;43m.\u001b[39;49m\u001b[43mmode\u001b[49m(a)\n",
      "\u001b[1;31mAttributeError\u001b[0m: module 'scipy' has no attribute 'mode'"
     ]
    }
   ],
   "source": [
    "scipy.mode(a) # cant be used directly, we need to use scipy stats lib "
   ]
  },
  {
   "cell_type": "code",
   "execution_count": 95,
   "id": "8814bb46",
   "metadata": {},
   "outputs": [],
   "source": [
    "import scipy.stats as st"
   ]
  },
  {
   "cell_type": "code",
   "execution_count": 96,
   "id": "62cb26b5",
   "metadata": {},
   "outputs": [
    {
     "data": {
      "text/plain": [
       "ModeResult(mode=array([[3, 7, 8]]), count=array([[1, 1, 1]]))"
      ]
     },
     "execution_count": 96,
     "metadata": {},
     "output_type": "execute_result"
    }
   ],
   "source": [
    "st.mode(a,axis=0)"
   ]
  },
  {
   "cell_type": "code",
   "execution_count": 97,
   "id": "ce58044e",
   "metadata": {},
   "outputs": [
    {
     "data": {
      "text/plain": [
       "array([[ 3,  7,  8],\n",
       "       [ 9, 19, 23],\n",
       "       [75, 62, 14]])"
      ]
     },
     "execution_count": 97,
     "metadata": {},
     "output_type": "execute_result"
    }
   ],
   "source": [
    "a"
   ]
  },
  {
   "cell_type": "code",
   "execution_count": 98,
   "id": "1dfcf7fc",
   "metadata": {},
   "outputs": [
    {
     "data": {
      "text/plain": [
       "ModeResult(mode=array([5]), count=array([3]))"
      ]
     },
     "execution_count": 98,
     "metadata": {},
     "output_type": "execute_result"
    }
   ],
   "source": [
    "p=np.array([5,8,9,5,6,5,10,14])\n",
    "st.mode(p)"
   ]
  },
  {
   "cell_type": "code",
   "execution_count": 99,
   "id": "9ff712e0",
   "metadata": {},
   "outputs": [],
   "source": [
    "b=np.array([[1,3,4,2,2,7],\n",
    "           [5,2,2,1,4,1],\n",
    "           [3,3,2,2,1,1]])"
   ]
  },
  {
   "cell_type": "code",
   "execution_count": 100,
   "id": "17113794",
   "metadata": {},
   "outputs": [
    {
     "data": {
      "text/plain": [
       "array([[1, 3, 4, 2, 2, 7],\n",
       "       [5, 2, 2, 1, 4, 1],\n",
       "       [3, 3, 2, 2, 1, 1]])"
      ]
     },
     "execution_count": 100,
     "metadata": {},
     "output_type": "execute_result"
    }
   ],
   "source": [
    "b"
   ]
  },
  {
   "cell_type": "code",
   "execution_count": 101,
   "id": "dcc786a0",
   "metadata": {},
   "outputs": [
    {
     "data": {
      "text/plain": [
       "ModeResult(mode=array([[1, 3, 2, 2, 1, 1]]), count=array([[1, 2, 2, 2, 1, 2]]))"
      ]
     },
     "execution_count": 101,
     "metadata": {},
     "output_type": "execute_result"
    }
   ],
   "source": [
    "st.mode(b)"
   ]
  },
  {
   "cell_type": "raw",
   "id": "53d65c7a",
   "metadata": {},
   "source": [
    "In first column [1,5,3]=> 1 is mode.\n",
    "In sec column in ascending order [2,3,3]=> 3 is mode\n",
    "In third col in short() [2,2,4]=> 2 is mode\n",
    "\n",
    "[1,2,2]=>2 is mode\n",
    "[2,4,1]=>1 is mode as lowest\n",
    "[1,1,7]=>1 is mode due to two repetation."
   ]
  },
  {
   "cell_type": "markdown",
   "id": "a88cc11c",
   "metadata": {},
   "source": [
    "# Probability"
   ]
  },
  {
   "cell_type": "raw",
   "id": "e3f8300f",
   "metadata": {},
   "source": [
    "Probability is the chance of happening.\n",
    "\n",
    "Dependent Distribution- can be called as Binomial, chance is very high of yes or No.\n",
    "\n",
    "ex: coin toss---> yes is also high, no is also high\n",
    "\n",
    "Poission Distribution:- Independent Distribution, chance of occurence cannot be predicted.\n",
    "\n",
    "ex: Passing on car per hour from toll  gate.\n",
    "    Number of person visiting park per hour."
   ]
  },
  {
   "cell_type": "markdown",
   "id": "e9049ecf",
   "metadata": {},
   "source": [
    "## Random Variable:"
   ]
  },
  {
   "cell_type": "markdown",
   "id": "8be2d165",
   "metadata": {},
   "source": [
    "#### Discrete Random  Variable:\n",
    "    When the random variable can assume only a contable,sometimes infinite, number of values.\n",
    "    Ex:- 1,2,3,4,5\n",
    "    \n",
    "#### Continious Random variable:\n",
    "    when the random variable can assume an uncountable number of values in a line interval.\n",
    "    EX:- 2.3,2500.50"
   ]
  },
  {
   "cell_type": "markdown",
   "id": "5ba76f71",
   "metadata": {},
   "source": [
    "### Probability Mass function:\n",
    "    Random discrete variable, the probability function is usually called the probability mass function"
   ]
  },
  {
   "cell_type": "markdown",
   "id": "f5dd2237",
   "metadata": {},
   "source": [
    "### Probabilty Density Function:"
   ]
  },
  {
   "cell_type": "markdown",
   "id": "bbc0f01e",
   "metadata": {},
   "source": [
    "    Random continious variable, those function is usually called as probability Density Function"
   ]
  },
  {
   "cell_type": "markdown",
   "id": "bd38ce18",
   "metadata": {},
   "source": [
    "### Independent events:\n",
    "\n",
    "Independent events are those, that empact dependent variable.\n",
    "\n",
    "### Dependent events:\n",
    "\n",
    "Dependent events are those, that depends on independent other events."
   ]
  },
  {
   "cell_type": "markdown",
   "id": "9eb7818e",
   "metadata": {},
   "source": [
    "### Types of distributions:\n",
    "    \n",
    "    1.>Discrete data:\n",
    "    -----------------\n",
    "        a>Binomial\n",
    "        \n",
    "        b>Poisson Distribution\n",
    "              >exponential distribution\n",
    "                 >exponential growth(ex: prices,income,population)\n",
    "                    \n",
    "    2.>Continous Data:\n",
    "    ------------------\n",
    "        \n",
    "        a> NORMAL DISTRIBUTION\n",
    "            >GAUSSIAN DISTRIBUTION/normal curve\n",
    "                    > the amount of rainfall in inches in a ear for a city\n",
    "                    > the weight of new born baby.\n",
    "                    > the height of randomly selected student.\n",
    "          "
   ]
  },
  {
   "cell_type": "markdown",
   "id": "fca95955",
   "metadata": {},
   "source": [
    "#### Three sigma Rule/Empirical Rule 68-95-99.7 rule.\n",
    "\n",
    "68 percent Data lies between 1 standard deviation\n",
    "95 percent data lies between 2 standard deviation\n",
    "99.7 percent data lise between 3 rd standard deviation\n",
    "\n",
    "where is 0.03% of data.?\n",
    "\n",
    "They lies very away from the distribution, we call them outliers, or abnormal data."
   ]
  },
  {
   "cell_type": "markdown",
   "id": "9d0e54bf",
   "metadata": {},
   "source": [
    "# Zscore\n",
    "\n",
    "They lies very away from the distribution, we call them outliers, or abnormal data."
   ]
  },
  {
   "cell_type": "code",
   "execution_count": 102,
   "id": "32ac80d7",
   "metadata": {},
   "outputs": [],
   "source": [
    "import pandas as pd\n",
    "import numpy as np\n",
    "import matplotlib.pyplot as plt\n",
    "import seaborn as sns"
   ]
  },
  {
   "cell_type": "markdown",
   "id": "4dfb6fb7",
   "metadata": {},
   "source": [
    "# We can find the outlier by following methord."
   ]
  },
  {
   "cell_type": "code",
   "execution_count": 103,
   "id": "cae3bfde",
   "metadata": {},
   "outputs": [],
   "source": [
    "from scipy.stats import zscore"
   ]
  },
  {
   "cell_type": "code",
   "execution_count": 104,
   "id": "37c9f3cb",
   "metadata": {
    "scrolled": true
   },
   "outputs": [
    {
     "data": {
      "text/plain": [
       "array([ 1.58361516, -0.15836152, -1.18771137, -0.23754227])"
      ]
     },
     "execution_count": 104,
     "metadata": {},
     "output_type": "execute_result"
    }
   ],
   "source": [
    "zscore([56,34,21,33])"
   ]
  },
  {
   "cell_type": "code",
   "execution_count": 105,
   "id": "b3d9b7ea",
   "metadata": {},
   "outputs": [],
   "source": [
    "from scipy.stats import percentileofscore"
   ]
  },
  {
   "cell_type": "code",
   "execution_count": 106,
   "id": "1d5afc3f",
   "metadata": {},
   "outputs": [],
   "source": [
    "df=pd.read_csv('student_marks.csv')"
   ]
  },
  {
   "cell_type": "code",
   "execution_count": 107,
   "id": "c7b6555d",
   "metadata": {},
   "outputs": [
    {
     "data": {
      "text/html": [
       "<div>\n",
       "<style scoped>\n",
       "    .dataframe tbody tr th:only-of-type {\n",
       "        vertical-align: middle;\n",
       "    }\n",
       "\n",
       "    .dataframe tbody tr th {\n",
       "        vertical-align: top;\n",
       "    }\n",
       "\n",
       "    .dataframe thead th {\n",
       "        text-align: right;\n",
       "    }\n",
       "</style>\n",
       "<table border=\"1\" class=\"dataframe\">\n",
       "  <thead>\n",
       "    <tr style=\"text-align: right;\">\n",
       "      <th></th>\n",
       "      <th>Name</th>\n",
       "      <th>Gender</th>\n",
       "      <th>DOB</th>\n",
       "      <th>Maths</th>\n",
       "      <th>Physics</th>\n",
       "      <th>Chemistry</th>\n",
       "      <th>English</th>\n",
       "      <th>Biology</th>\n",
       "      <th>Economics</th>\n",
       "      <th>History</th>\n",
       "      <th>Civics</th>\n",
       "    </tr>\n",
       "  </thead>\n",
       "  <tbody>\n",
       "    <tr>\n",
       "      <th>0</th>\n",
       "      <td>John</td>\n",
       "      <td>M</td>\n",
       "      <td>05-04-1988</td>\n",
       "      <td>55</td>\n",
       "      <td>45</td>\n",
       "      <td>56</td>\n",
       "      <td>87</td>\n",
       "      <td>21</td>\n",
       "      <td>52</td>\n",
       "      <td>89</td>\n",
       "      <td>65</td>\n",
       "    </tr>\n",
       "    <tr>\n",
       "      <th>1</th>\n",
       "      <td>Suresh</td>\n",
       "      <td>M</td>\n",
       "      <td>04-05-1987</td>\n",
       "      <td>75</td>\n",
       "      <td>96</td>\n",
       "      <td>78</td>\n",
       "      <td>64</td>\n",
       "      <td>90</td>\n",
       "      <td>61</td>\n",
       "      <td>58</td>\n",
       "      <td>2</td>\n",
       "    </tr>\n",
       "    <tr>\n",
       "      <th>2</th>\n",
       "      <td>Ramesh</td>\n",
       "      <td>M</td>\n",
       "      <td>25-05-1989</td>\n",
       "      <td>25</td>\n",
       "      <td>54</td>\n",
       "      <td>89</td>\n",
       "      <td>76</td>\n",
       "      <td>95</td>\n",
       "      <td>87</td>\n",
       "      <td>56</td>\n",
       "      <td>74</td>\n",
       "    </tr>\n",
       "    <tr>\n",
       "      <th>3</th>\n",
       "      <td>Jessica</td>\n",
       "      <td>F</td>\n",
       "      <td>12-08-1990</td>\n",
       "      <td>78</td>\n",
       "      <td>96</td>\n",
       "      <td>86</td>\n",
       "      <td>63</td>\n",
       "      <td>54</td>\n",
       "      <td>89</td>\n",
       "      <td>75</td>\n",
       "      <td>45</td>\n",
       "    </tr>\n",
       "    <tr>\n",
       "      <th>4</th>\n",
       "      <td>Jennifer</td>\n",
       "      <td>F</td>\n",
       "      <td>02-09-1989</td>\n",
       "      <td>58</td>\n",
       "      <td>96</td>\n",
       "      <td>78</td>\n",
       "      <td>46</td>\n",
       "      <td>96</td>\n",
       "      <td>77</td>\n",
       "      <td>83</td>\n",
       "      <td>53</td>\n",
       "    </tr>\n",
       "  </tbody>\n",
       "</table>\n",
       "</div>"
      ],
      "text/plain": [
       "       Name Gender         DOB  Maths  Physics  Chemistry  English  Biology  \\\n",
       "0      John      M  05-04-1988     55       45         56       87       21   \n",
       "1    Suresh      M  04-05-1987     75       96         78       64       90   \n",
       "2    Ramesh      M  25-05-1989     25       54         89       76       95   \n",
       "3   Jessica      F  12-08-1990     78       96         86       63       54   \n",
       "4  Jennifer      F  02-09-1989     58       96         78       46       96   \n",
       "\n",
       "   Economics  History  Civics  \n",
       "0         52       89      65  \n",
       "1         61       58       2  \n",
       "2         87       56      74  \n",
       "3         89       75      45  \n",
       "4         77       83      53  "
      ]
     },
     "execution_count": 107,
     "metadata": {},
     "output_type": "execute_result"
    }
   ],
   "source": [
    "df.head()"
   ]
  },
  {
   "cell_type": "code",
   "execution_count": 108,
   "id": "8f738016",
   "metadata": {},
   "outputs": [
    {
     "data": {
      "text/plain": [
       "59.6"
      ]
     },
     "execution_count": 108,
     "metadata": {},
     "output_type": "execute_result"
    }
   ],
   "source": [
    "# mean\n",
    "df['Maths'].mean()"
   ]
  },
  {
   "cell_type": "code",
   "execution_count": 109,
   "id": "362d040d",
   "metadata": {},
   "outputs": [
    {
     "data": {
      "text/plain": [
       "78.0"
      ]
     },
     "execution_count": 109,
     "metadata": {},
     "output_type": "execute_result"
    }
   ],
   "source": [
    "df['Chemistry'].median()"
   ]
  },
  {
   "cell_type": "code",
   "execution_count": 111,
   "id": "d40176c4",
   "metadata": {},
   "outputs": [
    {
     "data": {
      "text/plain": [
       "0    55\n",
       "Name: Maths, dtype: int64"
      ]
     },
     "execution_count": 111,
     "metadata": {},
     "output_type": "execute_result"
    }
   ],
   "source": [
    "df['Maths'].mode()"
   ]
  },
  {
   "cell_type": "code",
   "execution_count": 112,
   "id": "6981af0a",
   "metadata": {},
   "outputs": [
    {
     "data": {
      "text/html": [
       "<div>\n",
       "<style scoped>\n",
       "    .dataframe tbody tr th:only-of-type {\n",
       "        vertical-align: middle;\n",
       "    }\n",
       "\n",
       "    .dataframe tbody tr th {\n",
       "        vertical-align: top;\n",
       "    }\n",
       "\n",
       "    .dataframe thead th {\n",
       "        text-align: right;\n",
       "    }\n",
       "</style>\n",
       "<table border=\"1\" class=\"dataframe\">\n",
       "  <thead>\n",
       "    <tr style=\"text-align: right;\">\n",
       "      <th></th>\n",
       "      <th>Maths</th>\n",
       "      <th>Physics</th>\n",
       "      <th>Chemistry</th>\n",
       "      <th>English</th>\n",
       "      <th>Biology</th>\n",
       "      <th>Economics</th>\n",
       "      <th>History</th>\n",
       "      <th>Civics</th>\n",
       "    </tr>\n",
       "  </thead>\n",
       "  <tbody>\n",
       "    <tr>\n",
       "      <th>count</th>\n",
       "      <td>10.000000</td>\n",
       "      <td>10.000000</td>\n",
       "      <td>10.000000</td>\n",
       "      <td>10.000000</td>\n",
       "      <td>10.000000</td>\n",
       "      <td>10.000000</td>\n",
       "      <td>10.000000</td>\n",
       "      <td>10.0000</td>\n",
       "    </tr>\n",
       "    <tr>\n",
       "      <th>mean</th>\n",
       "      <td>59.600000</td>\n",
       "      <td>72.300000</td>\n",
       "      <td>75.300000</td>\n",
       "      <td>69.700000</td>\n",
       "      <td>64.700000</td>\n",
       "      <td>72.700000</td>\n",
       "      <td>69.700000</td>\n",
       "      <td>60.5000</td>\n",
       "    </tr>\n",
       "    <tr>\n",
       "      <th>std</th>\n",
       "      <td>19.460501</td>\n",
       "      <td>20.661559</td>\n",
       "      <td>14.000397</td>\n",
       "      <td>14.453373</td>\n",
       "      <td>26.998148</td>\n",
       "      <td>14.629119</td>\n",
       "      <td>14.453373</td>\n",
       "      <td>25.3432</td>\n",
       "    </tr>\n",
       "    <tr>\n",
       "      <th>min</th>\n",
       "      <td>25.000000</td>\n",
       "      <td>45.000000</td>\n",
       "      <td>52.000000</td>\n",
       "      <td>46.000000</td>\n",
       "      <td>21.000000</td>\n",
       "      <td>52.000000</td>\n",
       "      <td>46.000000</td>\n",
       "      <td>2.0000</td>\n",
       "    </tr>\n",
       "    <tr>\n",
       "      <th>25%</th>\n",
       "      <td>54.250000</td>\n",
       "      <td>56.250000</td>\n",
       "      <td>65.000000</td>\n",
       "      <td>59.250000</td>\n",
       "      <td>54.250000</td>\n",
       "      <td>58.750000</td>\n",
       "      <td>59.250000</td>\n",
       "      <td>52.2500</td>\n",
       "    </tr>\n",
       "    <tr>\n",
       "      <th>50%</th>\n",
       "      <td>55.000000</td>\n",
       "      <td>70.000000</td>\n",
       "      <td>78.000000</td>\n",
       "      <td>69.500000</td>\n",
       "      <td>66.500000</td>\n",
       "      <td>76.000000</td>\n",
       "      <td>69.500000</td>\n",
       "      <td>63.0000</td>\n",
       "    </tr>\n",
       "    <tr>\n",
       "      <th>75%</th>\n",
       "      <td>70.750000</td>\n",
       "      <td>93.750000</td>\n",
       "      <td>86.750000</td>\n",
       "      <td>81.250000</td>\n",
       "      <td>87.000000</td>\n",
       "      <td>86.000000</td>\n",
       "      <td>81.250000</td>\n",
       "      <td>76.2500</td>\n",
       "    </tr>\n",
       "    <tr>\n",
       "      <th>max</th>\n",
       "      <td>96.000000</td>\n",
       "      <td>96.000000</td>\n",
       "      <td>89.000000</td>\n",
       "      <td>89.000000</td>\n",
       "      <td>96.000000</td>\n",
       "      <td>89.000000</td>\n",
       "      <td>89.000000</td>\n",
       "      <td>89.0000</td>\n",
       "    </tr>\n",
       "  </tbody>\n",
       "</table>\n",
       "</div>"
      ],
      "text/plain": [
       "           Maths    Physics  Chemistry    English    Biology  Economics  \\\n",
       "count  10.000000  10.000000  10.000000  10.000000  10.000000  10.000000   \n",
       "mean   59.600000  72.300000  75.300000  69.700000  64.700000  72.700000   \n",
       "std    19.460501  20.661559  14.000397  14.453373  26.998148  14.629119   \n",
       "min    25.000000  45.000000  52.000000  46.000000  21.000000  52.000000   \n",
       "25%    54.250000  56.250000  65.000000  59.250000  54.250000  58.750000   \n",
       "50%    55.000000  70.000000  78.000000  69.500000  66.500000  76.000000   \n",
       "75%    70.750000  93.750000  86.750000  81.250000  87.000000  86.000000   \n",
       "max    96.000000  96.000000  89.000000  89.000000  96.000000  89.000000   \n",
       "\n",
       "         History   Civics  \n",
       "count  10.000000  10.0000  \n",
       "mean   69.700000  60.5000  \n",
       "std    14.453373  25.3432  \n",
       "min    46.000000   2.0000  \n",
       "25%    59.250000  52.2500  \n",
       "50%    69.500000  63.0000  \n",
       "75%    81.250000  76.2500  \n",
       "max    89.000000  89.0000  "
      ]
     },
     "execution_count": 112,
     "metadata": {},
     "output_type": "execute_result"
    }
   ],
   "source": [
    "df.describe()"
   ]
  },
  {
   "cell_type": "code",
   "execution_count": 113,
   "id": "72cf8989",
   "metadata": {},
   "outputs": [],
   "source": [
    "# calling percentileof score from scipy\n",
    "\n",
    "import scipy\n",
    "from scipy import stats\n",
    "from scipy.stats import percentileofscore"
   ]
  },
  {
   "cell_type": "code",
   "execution_count": 114,
   "id": "d7aa590a",
   "metadata": {},
   "outputs": [
    {
     "data": {
      "text/plain": [
       "70.0"
      ]
     },
     "execution_count": 114,
     "metadata": {},
     "output_type": "execute_result"
    }
   ],
   "source": [
    "percentileofscore(df['Maths'],60)"
   ]
  },
  {
   "cell_type": "code",
   "execution_count": 115,
   "id": "a6fba1e3",
   "metadata": {},
   "outputs": [
    {
     "data": {
      "text/plain": [
       "80.0"
      ]
     },
     "execution_count": 115,
     "metadata": {},
     "output_type": "execute_result"
    }
   ],
   "source": [
    "percentileofscore(df['Maths'],75)"
   ]
  },
  {
   "cell_type": "code",
   "execution_count": 117,
   "id": "9fb96abb",
   "metadata": {},
   "outputs": [
    {
     "data": {
      "text/plain": [
       "20.0"
      ]
     },
     "execution_count": 117,
     "metadata": {},
     "output_type": "execute_result"
    }
   ],
   "source": [
    "percentileofscore(df['Maths'],50)"
   ]
  },
  {
   "cell_type": "code",
   "execution_count": 123,
   "id": "286465de",
   "metadata": {},
   "outputs": [
    {
     "data": {
      "text/plain": [
       "96"
      ]
     },
     "execution_count": 123,
     "metadata": {},
     "output_type": "execute_result"
    }
   ],
   "source": [
    "# for range function finding max()\n",
    "\n",
    "max_m=df['Maths'].max()\n",
    "max_m"
   ]
  },
  {
   "cell_type": "code",
   "execution_count": 124,
   "id": "f7079b81",
   "metadata": {},
   "outputs": [
    {
     "data": {
      "text/plain": [
       "25"
      ]
     },
     "execution_count": 124,
     "metadata": {},
     "output_type": "execute_result"
    }
   ],
   "source": [
    "# finding min\n",
    "\n",
    "min_m=df['Maths'].min()\n",
    "min_m"
   ]
  },
  {
   "cell_type": "code",
   "execution_count": 125,
   "id": "7c4b55de",
   "metadata": {},
   "outputs": [
    {
     "data": {
      "text/plain": [
       "71"
      ]
     },
     "execution_count": 125,
     "metadata": {},
     "output_type": "execute_result"
    }
   ],
   "source": [
    "range_m=(max_m-min_m)\n",
    "range_m"
   ]
  },
  {
   "cell_type": "code",
   "execution_count": 126,
   "id": "c097e529",
   "metadata": {},
   "outputs": [
    {
     "data": {
      "text/plain": [
       "71"
      ]
     },
     "execution_count": 126,
     "metadata": {},
     "output_type": "execute_result"
    }
   ],
   "source": [
    "range_m"
   ]
  },
  {
   "cell_type": "markdown",
   "id": "8fe1427d",
   "metadata": {},
   "source": [
    "# SPREAD OF DATA"
   ]
  },
  {
   "cell_type": "raw",
   "id": "f4b22574",
   "metadata": {},
   "source": [
    "Q1\n",
    "Q2\n",
    "Q3"
   ]
  },
  {
   "cell_type": "raw",
   "id": "9dc471b6",
   "metadata": {},
   "source": [
    "### BOX PLOT\n",
    "\n",
    "1> MAX\n",
    "2> 75TH PERCENTILE(Q3)\n",
    "3> 50TH PERCENTILE(75 TO 25TH PERCENTILE IS IQR(interquartile_range))\n",
    "4> 25TH PERCENTILE(Q1)\n",
    "5> MIN\n",
    "\n",
    "\n",
    "IQR=(75th-25th percentile)will give us IQR"
   ]
  },
  {
   "cell_type": "code",
   "execution_count": 127,
   "id": "6286d864",
   "metadata": {},
   "outputs": [
    {
     "data": {
      "text/plain": [
       "54.25"
      ]
     },
     "execution_count": 127,
     "metadata": {},
     "output_type": "execute_result"
    }
   ],
   "source": [
    "q1=df['Maths'].quantile(0.25)\n",
    "q1"
   ]
  },
  {
   "cell_type": "code",
   "execution_count": 128,
   "id": "b98b4a4c",
   "metadata": {},
   "outputs": [
    {
     "data": {
      "text/plain": [
       "70.75"
      ]
     },
     "execution_count": 128,
     "metadata": {},
     "output_type": "execute_result"
    }
   ],
   "source": [
    "q3=df['Maths'].quantile(0.75)\n",
    "q3"
   ]
  },
  {
   "cell_type": "code",
   "execution_count": 130,
   "id": "bdc13ff9",
   "metadata": {},
   "outputs": [],
   "source": [
    "IQR=q3-q1"
   ]
  },
  {
   "cell_type": "code",
   "execution_count": 131,
   "id": "01d45c54",
   "metadata": {},
   "outputs": [
    {
     "data": {
      "text/plain": [
       "16.5"
      ]
     },
     "execution_count": 131,
     "metadata": {},
     "output_type": "execute_result"
    }
   ],
   "source": [
    "IQR"
   ]
  },
  {
   "cell_type": "code",
   "execution_count": 132,
   "id": "8a9158a0",
   "metadata": {},
   "outputs": [
    {
     "data": {
      "text/plain": [
       "378.71111111111105"
      ]
     },
     "execution_count": 132,
     "metadata": {},
     "output_type": "execute_result"
    }
   ],
   "source": [
    "df['Maths'].var()"
   ]
  },
  {
   "cell_type": "code",
   "execution_count": 134,
   "id": "cfddfbf9",
   "metadata": {},
   "outputs": [
    {
     "data": {
      "text/plain": [
       "19.46050130677807"
      ]
     },
     "execution_count": 134,
     "metadata": {},
     "output_type": "execute_result"
    }
   ],
   "source": [
    "df['Maths'].std()"
   ]
  },
  {
   "cell_type": "markdown",
   "id": "691635f2",
   "metadata": {},
   "source": [
    "# Measure of asymmetry"
   ]
  },
  {
   "cell_type": "raw",
   "id": "25b430fc",
   "metadata": {},
   "source": [
    "##asymnetry or exponential distribution\n",
    "\n",
    "    >right screwed= mean is greater than median\n",
    "    >left screwed = median is greater than mean."
   ]
  }
 ],
 "metadata": {
  "kernelspec": {
   "display_name": "Python 3 (ipykernel)",
   "language": "python",
   "name": "python3"
  },
  "language_info": {
   "codemirror_mode": {
    "name": "ipython",
    "version": 3
   },
   "file_extension": ".py",
   "mimetype": "text/x-python",
   "name": "python",
   "nbconvert_exporter": "python",
   "pygments_lexer": "ipython3",
   "version": "3.9.12"
  }
 },
 "nbformat": 4,
 "nbformat_minor": 5
}
