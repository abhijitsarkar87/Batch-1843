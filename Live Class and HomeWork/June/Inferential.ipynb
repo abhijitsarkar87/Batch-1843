{
 "cells": [
  {
   "cell_type": "markdown",
   "id": "99c79a1b",
   "metadata": {},
   "source": [
    "# Statistics:(3rd Day:Inferentail Statistics)"
   ]
  },
  {
   "cell_type": "markdown",
   "id": "682eaff4",
   "metadata": {},
   "source": [
    "### Inferentail Statistics:\n",
    "        1> Hypothesis Testing\n",
    "            >T-test\n",
    "            >chi-squraetest\n",
    "            >anova test\n",
    "            >manova test\n",
    "            >ancova test\n",
    "            >mancova test"
   ]
  },
  {
   "cell_type": "raw",
   "id": "860273b5",
   "metadata": {},
   "source": [
    "imperical rule: 68%-95%-99.7%\n",
    "    \n",
    "    0.3% they threshold values,abnormal data,outliers we can find them with z score."
   ]
  },
  {
   "cell_type": "markdown",
   "id": "cf5448b6",
   "metadata": {},
   "source": [
    "What is a Z-Score?\n",
    "\n",
    "A Z-Score is a numerical measurement used in statistics of a value's relationship to the mean(average) of a group of values,measured in terms of standard deviations from the mean.\n",
    "\n",
    "A Z-score is 0, it indicates that the data point's score is identical to the mean Score. A Z-score of 1.0 would indicate a value that is one stand deviation from the mean.\n",
    "\n",
    "Z-score may be positive or negative, with a positive value indicating the score is above the mean and a negative score indicating it is below the mean.\n",
    "\n",
    "\n",
    "formula:\n",
    "\n",
    "zScore=X-mean/standard deviation"
   ]
  },
  {
   "cell_type": "raw",
   "id": "63e49781",
   "metadata": {},
   "source": [
    "(length of turtle wing-mean value)**2  divided by standard deviation (1.69)"
   ]
  },
  {
   "cell_type": "markdown",
   "id": "a00c7cd2",
   "metadata": {},
   "source": [
    "### CENTRAL LIMIT THEORAM:"
   ]
  },
  {
   "cell_type": "markdown",
   "id": "725ed162",
   "metadata": {},
   "source": [
    "we need to find data scientist salary from region.\n",
    "\n",
    "There we would take the samples from population and we will calculate the mean1,mean2,mean3 of the sample. And compare to each other. "
   ]
  },
  {
   "cell_type": "markdown",
   "id": "f32ae46d",
   "metadata": {},
   "source": [
    "________________"
   ]
  },
  {
   "cell_type": "markdown",
   "id": "b36eb80f",
   "metadata": {},
   "source": [
    "# HYPOTHESIS TESTING:"
   ]
  },
  {
   "cell_type": "markdown",
   "id": "7b3a2640",
   "metadata": {},
   "source": [
    "we need to take decision about the average salary of medium group of people in indian houses. So here we are taking two decision, one is above 50k or other is below 50k,if one fails, other would be true.\n",
    "\n",
    "-------------------------------------------------------------------------------\n",
    "\n",
    "### Null Hypothesis (Noted as-Ho)\n",
    "\n",
    "case 1: Average salary of indian houses in medium group of people is greater than 5ok.\n",
    "\n",
    "### Alternative Hypothesis (Noted as-Ha)\n",
    "\n",
    "case2: Average salary of indian home in median group of people iss less than 50k."
   ]
  },
  {
   "cell_type": "markdown",
   "id": "10a93d2a",
   "metadata": {},
   "source": [
    "Covariance :(relation between two points)\n",
    "    \n",
    "    (x-mean)(y-mean) find the sum of it devided by N(N is no of population)\n",
    "    \n",
    "    \n",
    "Correlation: Correlation gives a better understanding of covariance. It is normalized covariance.correlation tells us how correlated the variables are to each other.It is also called as pearson coefficient.\n"
   ]
  },
  {
   "cell_type": "code",
   "execution_count": null,
   "id": "ee4e6baa",
   "metadata": {},
   "outputs": [],
   "source": []
  }
 ],
 "metadata": {
  "kernelspec": {
   "display_name": "Python 3 (ipykernel)",
   "language": "python",
   "name": "python3"
  },
  "language_info": {
   "codemirror_mode": {
    "name": "ipython",
    "version": 3
   },
   "file_extension": ".py",
   "mimetype": "text/x-python",
   "name": "python",
   "nbconvert_exporter": "python",
   "pygments_lexer": "ipython3",
   "version": "3.9.12"
  }
 },
 "nbformat": 4,
 "nbformat_minor": 5
}
