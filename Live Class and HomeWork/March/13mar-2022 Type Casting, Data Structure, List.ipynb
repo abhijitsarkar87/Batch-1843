{
 "cells": [
  {
   "cell_type": "markdown",
   "id": "d35f3003",
   "metadata": {},
   "source": [
    "# TYPE CASTING"
   ]
  },
  {
   "cell_type": "code",
   "execution_count": 1,
   "id": "fd4a05e2",
   "metadata": {},
   "outputs": [],
   "source": [
    "# Type casting is of three type\n",
    "# 01 charactor or string ex: a b c d/ \"Jhon\"\n",
    "# 02 Integer ex:Numbers, Age=12\n",
    "# 03 Float type  ex weight= 58.2  Height 5.8ft, boolean=typ true false,"
   ]
  },
  {
   "cell_type": "code",
   "execution_count": 2,
   "id": "21f8d15b",
   "metadata": {},
   "outputs": [
    {
     "data": {
      "text/plain": [
       "90"
      ]
     },
     "execution_count": 2,
     "metadata": {},
     "output_type": "execute_result"
    }
   ],
   "source": [
    "90"
   ]
  },
  {
   "cell_type": "code",
   "execution_count": 3,
   "id": "95a0f9b0",
   "metadata": {},
   "outputs": [
    {
     "data": {
      "text/plain": [
       "int"
      ]
     },
     "execution_count": 3,
     "metadata": {},
     "output_type": "execute_result"
    }
   ],
   "source": [
    "type(90)\n",
    "\n",
    "# shows 90 as int"
   ]
  },
  {
   "cell_type": "code",
   "execution_count": 4,
   "id": "c3b866c6",
   "metadata": {},
   "outputs": [
    {
     "data": {
      "text/plain": [
       "int"
      ]
     },
     "execution_count": 4,
     "metadata": {},
     "output_type": "execute_result"
    }
   ],
   "source": [
    "type(45)\n",
    "\n",
    "# shows 45 as int"
   ]
  },
  {
   "cell_type": "code",
   "execution_count": 5,
   "id": "6ed186d7",
   "metadata": {},
   "outputs": [
    {
     "data": {
      "text/plain": [
       "float"
      ]
     },
     "execution_count": 5,
     "metadata": {},
     "output_type": "execute_result"
    }
   ],
   "source": [
    "type(73.6)\n",
    "\n",
    "# shows 73.6 as float"
   ]
  },
  {
   "cell_type": "code",
   "execution_count": 6,
   "id": "570c4206",
   "metadata": {},
   "outputs": [
    {
     "data": {
      "text/plain": [
       "float"
      ]
     },
     "execution_count": 6,
     "metadata": {},
     "output_type": "execute_result"
    }
   ],
   "source": [
    "type(56.5)\n",
    "\n",
    "# shows 56.5 as float"
   ]
  },
  {
   "cell_type": "code",
   "execution_count": 8,
   "id": "4cbd9995",
   "metadata": {},
   "outputs": [
    {
     "data": {
      "text/plain": [
       "str"
      ]
     },
     "execution_count": 8,
     "metadata": {},
     "output_type": "execute_result"
    }
   ],
   "source": [
    "type('abc')\n",
    "\n",
    "#shows (\"abc\") as string"
   ]
  },
  {
   "cell_type": "code",
   "execution_count": 9,
   "id": "c6fc2e77",
   "metadata": {},
   "outputs": [
    {
     "data": {
      "text/plain": [
       "str"
      ]
     },
     "execution_count": 9,
     "metadata": {},
     "output_type": "execute_result"
    }
   ],
   "source": [
    "type(\"Mumbai\")\n",
    "\n",
    "# shows (\"mumbai\") as string"
   ]
  },
  {
   "cell_type": "code",
   "execution_count": 10,
   "id": "2e48fae6",
   "metadata": {},
   "outputs": [
    {
     "data": {
      "text/plain": [
       "int"
      ]
     },
     "execution_count": 10,
     "metadata": {},
     "output_type": "execute_result"
    }
   ],
   "source": [
    "p=26\n",
    "\n",
    "type(p)"
   ]
  },
  {
   "cell_type": "code",
   "execution_count": 12,
   "id": "ab656de1",
   "metadata": {},
   "outputs": [
    {
     "data": {
      "text/plain": [
       "int"
      ]
     },
     "execution_count": 12,
     "metadata": {},
     "output_type": "execute_result"
    }
   ],
   "source": [
    "a=123\n",
    "\n",
    "b=\"abc\"\n",
    "\n",
    "type(a)"
   ]
  },
  {
   "cell_type": "code",
   "execution_count": 13,
   "id": "d05389a7",
   "metadata": {},
   "outputs": [
    {
     "data": {
      "text/plain": [
       "str"
      ]
     },
     "execution_count": 13,
     "metadata": {},
     "output_type": "execute_result"
    }
   ],
   "source": [
    "type(b)"
   ]
  },
  {
   "cell_type": "code",
   "execution_count": 16,
   "id": "953f7a45",
   "metadata": {},
   "outputs": [
    {
     "data": {
      "text/plain": [
       "123.0"
      ]
     },
     "execution_count": 16,
     "metadata": {},
     "output_type": "execute_result"
    }
   ],
   "source": [
    "# changing the data type of the data (variable (a=123) to float a)\n",
    "\n",
    "float(a)"
   ]
  },
  {
   "cell_type": "code",
   "execution_count": 17,
   "id": "d5fb044c",
   "metadata": {},
   "outputs": [],
   "source": [
    "j=79"
   ]
  },
  {
   "cell_type": "code",
   "execution_count": 18,
   "id": "2b8404e1",
   "metadata": {},
   "outputs": [
    {
     "data": {
      "text/plain": [
       "int"
      ]
     },
     "execution_count": 18,
     "metadata": {},
     "output_type": "execute_result"
    }
   ],
   "source": [
    "type(j)"
   ]
  },
  {
   "cell_type": "code",
   "execution_count": 22,
   "id": "97c9980c",
   "metadata": {},
   "outputs": [],
   "source": [
    "k=float(j)"
   ]
  },
  {
   "cell_type": "code",
   "execution_count": 24,
   "id": "97bfdb3c",
   "metadata": {},
   "outputs": [
    {
     "data": {
      "text/plain": [
       "float"
      ]
     },
     "execution_count": 24,
     "metadata": {},
     "output_type": "execute_result"
    }
   ],
   "source": [
    "type(k)"
   ]
  },
  {
   "cell_type": "code",
   "execution_count": 25,
   "id": "80bd1fe8",
   "metadata": {},
   "outputs": [
    {
     "data": {
      "text/plain": [
       "int"
      ]
     },
     "execution_count": 25,
     "metadata": {},
     "output_type": "execute_result"
    }
   ],
   "source": [
    "type(j)"
   ]
  },
  {
   "cell_type": "code",
   "execution_count": 26,
   "id": "caf62d3e",
   "metadata": {},
   "outputs": [],
   "source": [
    "x=\"20\""
   ]
  },
  {
   "cell_type": "code",
   "execution_count": 27,
   "id": "735549f8",
   "metadata": {},
   "outputs": [
    {
     "data": {
      "text/plain": [
       "str"
      ]
     },
     "execution_count": 27,
     "metadata": {},
     "output_type": "execute_result"
    }
   ],
   "source": [
    "type(x)"
   ]
  },
  {
   "cell_type": "code",
   "execution_count": 28,
   "id": "9ab5094f",
   "metadata": {},
   "outputs": [
    {
     "data": {
      "text/plain": [
       "20"
      ]
     },
     "execution_count": 28,
     "metadata": {},
     "output_type": "execute_result"
    }
   ],
   "source": [
    "int(x)"
   ]
  },
  {
   "cell_type": "code",
   "execution_count": 29,
   "id": "331a6c26",
   "metadata": {},
   "outputs": [
    {
     "data": {
      "text/plain": [
       "str"
      ]
     },
     "execution_count": 29,
     "metadata": {},
     "output_type": "execute_result"
    }
   ],
   "source": [
    "type(x)"
   ]
  },
  {
   "cell_type": "code",
   "execution_count": 30,
   "id": "6795b56e",
   "metadata": {},
   "outputs": [],
   "source": [
    "y=int(x)"
   ]
  },
  {
   "cell_type": "code",
   "execution_count": 31,
   "id": "6cb94816",
   "metadata": {},
   "outputs": [
    {
     "data": {
      "text/plain": [
       "int"
      ]
     },
     "execution_count": 31,
     "metadata": {},
     "output_type": "execute_result"
    }
   ],
   "source": [
    "type(y)"
   ]
  },
  {
   "cell_type": "code",
   "execution_count": 32,
   "id": "b97791fd",
   "metadata": {},
   "outputs": [],
   "source": [
    "u=45.9"
   ]
  },
  {
   "cell_type": "code",
   "execution_count": 33,
   "id": "80f7f277",
   "metadata": {},
   "outputs": [
    {
     "data": {
      "text/plain": [
       "float"
      ]
     },
     "execution_count": 33,
     "metadata": {},
     "output_type": "execute_result"
    }
   ],
   "source": [
    "type(u)"
   ]
  },
  {
   "cell_type": "code",
   "execution_count": 34,
   "id": "b81d63ec",
   "metadata": {},
   "outputs": [
    {
     "data": {
      "text/plain": [
       "45"
      ]
     },
     "execution_count": 34,
     "metadata": {},
     "output_type": "execute_result"
    }
   ],
   "source": [
    "int(u)"
   ]
  },
  {
   "cell_type": "code",
   "execution_count": 35,
   "id": "5160cd1e",
   "metadata": {},
   "outputs": [
    {
     "data": {
      "text/plain": [
       "95"
      ]
     },
     "execution_count": 35,
     "metadata": {},
     "output_type": "execute_result"
    }
   ],
   "source": [
    "int(95.5)"
   ]
  },
  {
   "cell_type": "code",
   "execution_count": 40,
   "id": "e328859c",
   "metadata": {},
   "outputs": [
    {
     "name": "stdout",
     "output_type": "stream",
     "text": [
      "Enter any number1 = 50\n"
     ]
    },
    {
     "data": {
      "text/plain": [
       "'50'"
      ]
     },
     "execution_count": 40,
     "metadata": {},
     "output_type": "execute_result"
    }
   ],
   "source": [
    "a=input(\"Enter any number1 = \")\n",
    "\n",
    "# after entering the value press ENTER key\n",
    "\n",
    "# Input function will give us a string value\n",
    "\n",
    "a"
   ]
  },
  {
   "cell_type": "code",
   "execution_count": 41,
   "id": "4010bf8e",
   "metadata": {},
   "outputs": [
    {
     "name": "stdout",
     "output_type": "stream",
     "text": [
      "Enter any number2 50\n"
     ]
    },
    {
     "data": {
      "text/plain": [
       "'50'"
      ]
     },
     "execution_count": 41,
     "metadata": {},
     "output_type": "execute_result"
    }
   ],
   "source": [
    "b=input(\"Enter any number2 \")\n",
    "\n",
    "# after entering the value press ENTER key\n",
    "\n",
    "# Input function will give us a string value\n",
    "\n",
    "b"
   ]
  },
  {
   "cell_type": "code",
   "execution_count": 42,
   "id": "1b1d5871",
   "metadata": {},
   "outputs": [
    {
     "data": {
      "text/plain": [
       "'5050'"
      ]
     },
     "execution_count": 42,
     "metadata": {},
     "output_type": "execute_result"
    }
   ],
   "source": [
    "a+b\n",
    "\n",
    "# its doing string concatination as because input function gives string value"
   ]
  },
  {
   "cell_type": "markdown",
   "id": "e155031f",
   "metadata": {},
   "source": [
    "#AREA OF RECTANGLE"
   ]
  },
  {
   "cell_type": "code",
   "execution_count": 47,
   "id": "e0da0347",
   "metadata": {},
   "outputs": [
    {
     "name": "stdout",
     "output_type": "stream",
     "text": [
      "Enter length--->20\n"
     ]
    },
    {
     "data": {
      "text/plain": [
       "20"
      ]
     },
     "execution_count": 47,
     "metadata": {},
     "output_type": "execute_result"
    }
   ],
   "source": [
    "# AREA OF RECTANGLE ()\n",
    "\n",
    "length=int(input(\"Enter length--->\"))\n",
    "\n",
    "length"
   ]
  },
  {
   "cell_type": "code",
   "execution_count": 48,
   "id": "efa3c574",
   "metadata": {},
   "outputs": [
    {
     "name": "stdout",
     "output_type": "stream",
     "text": [
      " Enter breadth-->30\n"
     ]
    },
    {
     "data": {
      "text/plain": [
       "30"
      ]
     },
     "execution_count": 48,
     "metadata": {},
     "output_type": "execute_result"
    }
   ],
   "source": [
    "breadth=int(input(\" Enter breadth-->\"))\n",
    "\n",
    "breadth"
   ]
  },
  {
   "cell_type": "code",
   "execution_count": 50,
   "id": "8700f344",
   "metadata": {},
   "outputs": [],
   "source": [
    "areaofrectangle=length*breadth"
   ]
  },
  {
   "cell_type": "code",
   "execution_count": 51,
   "id": "413118c4",
   "metadata": {},
   "outputs": [
    {
     "name": "stdout",
     "output_type": "stream",
     "text": [
      "AREA OF RECTANGLE =  600\n"
     ]
    }
   ],
   "source": [
    "print(\"AREA OF RECTANGLE = \",areaofrectangle)"
   ]
  },
  {
   "cell_type": "code",
   "execution_count": 2,
   "id": "69526407",
   "metadata": {},
   "outputs": [
    {
     "name": "stdout",
     "output_type": "stream",
     "text": [
      "Please Enter Length22\n",
      "Enter breadth2\n",
      "Area Of Rectangle is---> 44\n"
     ]
    }
   ],
   "source": [
    "length=int(input(\"Please Enter Length\"))\n",
    "\n",
    "breadth=int(input(\"Enter breadth\"))\n",
    "\n",
    "areaofrectangle=length*breadth\n",
    "\n",
    "print(\"Area Of Rectangle is--->\",areaofrectangle)\n"
   ]
  },
  {
   "cell_type": "markdown",
   "id": "7971e5db",
   "metadata": {},
   "source": [
    " AREA OF CIRCLE"
   ]
  },
  {
   "cell_type": "code",
   "execution_count": 9,
   "id": "1048b0f5",
   "metadata": {},
   "outputs": [
    {
     "name": "stdout",
     "output_type": "stream",
     "text": [
      "**please enter the radius--->2\n",
      "Hey Area of Circle---> 12.56\n"
     ]
    }
   ],
   "source": [
    "radius=int(input(\"**please enter the radius--->\"))\n",
    "\n",
    "pie=3.14\n",
    "\n",
    "areaofcircle=pie*(radius**2)\n",
    "\n",
    "print(\"Hey Area of Circle--->\",areaofcircle)"
   ]
  },
  {
   "cell_type": "code",
   "execution_count": 10,
   "id": "c1fff5bf",
   "metadata": {},
   "outputs": [
    {
     "name": "stdout",
     "output_type": "stream",
     "text": [
      " enter radius 32\n",
      "PLEASE ENTER PIE 3.14\n",
      "Area of a circle----> 3215.36\n"
     ]
    }
   ],
   "source": [
    "radius=int(input(\" enter radius \"))\n",
    "\n",
    "pie=float(input(\"PLEASE ENTER PIE \"))\n",
    "\n",
    "aoc=pie*radius**2\n",
    "\n",
    "print(\"Area of a circle---->\",aoc)"
   ]
  },
  {
   "cell_type": "code",
   "execution_count": 12,
   "id": "b28a1d7b",
   "metadata": {},
   "outputs": [
    {
     "name": "stdout",
     "output_type": "stream",
     "text": [
      " Enter Base-----> 12\n",
      " Enter Height-> 12\n",
      " I find area of triangle to be=  72.0\n"
     ]
    }
   ],
   "source": [
    "BASE=int(input(\" Enter Base-----> \"))\n",
    "\n",
    "height=int(input(\" Enter Height-> \"))\n",
    "\n",
    "areaoftrinagle=1/2*BASE*height\n",
    "\n",
    "print(\" I find area of triangle to be= \",areaoftrinagle)\n"
   ]
  },
  {
   "cell_type": "code",
   "execution_count": 27,
   "id": "3faae730",
   "metadata": {},
   "outputs": [
    {
     "name": "stdout",
     "output_type": "stream",
     "text": [
      "Enter the radius--->5\n",
      "radius= 5\n",
      "pi value is= 3.14\n",
      "circumference of circle----> 31.400000000000002\n"
     ]
    }
   ],
   "source": [
    "#circumference of circle= 2pi*r\n",
    "\n",
    "radius=int(input(\"Enter the radius--->\"))\n",
    "print(\"radius=\",radius)\n",
    "pi=3.14\n",
    "print(\"pi value is=\",pi)\n",
    "\n",
    "circ=2*pi*radius\n",
    "\n",
    "print(\"circumference of circle---->\",circ)"
   ]
  },
  {
   "cell_type": "code",
   "execution_count": 32,
   "id": "633a3a68",
   "metadata": {},
   "outputs": [
    {
     "name": "stdout",
     "output_type": "stream",
     "text": [
      "Circumference of circle= 31.400000000000002\n"
     ]
    }
   ],
   "source": [
    "pi=3.14\n",
    "r=5\n",
    "circ2=2*pi*r\n",
    "print(\"Circumference of circle=\",circ2)"
   ]
  },
  {
   "cell_type": "markdown",
   "id": "4f2d1307",
   "metadata": {},
   "source": [
    "Rounding off"
   ]
  },
  {
   "cell_type": "code",
   "execution_count": 40,
   "id": "e9be9677",
   "metadata": {},
   "outputs": [],
   "source": [
    "dept=23.46789"
   ]
  },
  {
   "cell_type": "code",
   "execution_count": 41,
   "id": "aee5e1f1",
   "metadata": {},
   "outputs": [
    {
     "data": {
      "text/plain": [
       "23.46789"
      ]
     },
     "execution_count": 41,
     "metadata": {},
     "output_type": "execute_result"
    }
   ],
   "source": [
    "dept"
   ]
  },
  {
   "cell_type": "code",
   "execution_count": 42,
   "id": "be8dc0c1",
   "metadata": {},
   "outputs": [
    {
     "ename": "TypeError",
     "evalue": "'tuple' object is not callable",
     "output_type": "error",
     "traceback": [
      "\u001b[1;31m---------------------------------------------------------------------------\u001b[0m",
      "\u001b[1;31mTypeError\u001b[0m                                 Traceback (most recent call last)",
      "\u001b[1;32mC:\\Users\\ABHIJI~1\\AppData\\Local\\Temp/ipykernel_21276/412268050.py\u001b[0m in \u001b[0;36m<module>\u001b[1;34m\u001b[0m\n\u001b[1;32m----> 1\u001b[1;33m \u001b[0mround\u001b[0m\u001b[1;33m(\u001b[0m\u001b[0mdept\u001b[0m\u001b[1;33m,\u001b[0m\u001b[1;36m2\u001b[0m\u001b[1;33m)\u001b[0m\u001b[1;33m\u001b[0m\u001b[1;33m\u001b[0m\u001b[0m\n\u001b[0m",
      "\u001b[1;31mTypeError\u001b[0m: 'tuple' object is not callable"
     ]
    }
   ],
   "source": [
    "round(dept,2)"
   ]
  },
  {
   "cell_type": "markdown",
   "id": "de98a340",
   "metadata": {},
   "source": [
    "#DATA STRUCTURES"
   ]
  },
  {
   "cell_type": "code",
   "execution_count": 43,
   "id": "c869e584",
   "metadata": {},
   "outputs": [],
   "source": [
    "# DATA STRUCTURES ARE OF 4 TYPE\n",
    "\n",
    "# list, list1[1,2,3,4,5] List-2[32.3, 56.7, 7.9, 6.0] List3[\"a\", \"b\", \"c\", \"d\"]\n",
    "\n",
    "# tuple\n",
    "\n",
    "# dictionary\n",
    "\n",
    "# Sets"
   ]
  },
  {
   "cell_type": "code",
   "execution_count": 45,
   "id": "0dee91b1",
   "metadata": {},
   "outputs": [],
   "source": [
    "list1=[1,2,3,4,5,6,7]"
   ]
  },
  {
   "cell_type": "code",
   "execution_count": 46,
   "id": "17a06363",
   "metadata": {},
   "outputs": [
    {
     "data": {
      "text/plain": [
       "[1, 2, 3, 4, 5, 6, 7]"
      ]
     },
     "execution_count": 46,
     "metadata": {},
     "output_type": "execute_result"
    }
   ],
   "source": [
    "list1"
   ]
  },
  {
   "cell_type": "code",
   "execution_count": 48,
   "id": "ee58b180",
   "metadata": {},
   "outputs": [],
   "source": [
    "list2=[21,23,24,25,26,27,28,29,30]"
   ]
  },
  {
   "cell_type": "code",
   "execution_count": 49,
   "id": "92195bc5",
   "metadata": {},
   "outputs": [
    {
     "data": {
      "text/plain": [
       "[21, 23, 24, 25, 26, 27, 28, 29, 30]"
      ]
     },
     "execution_count": 49,
     "metadata": {},
     "output_type": "execute_result"
    }
   ],
   "source": [
    "list2"
   ]
  },
  {
   "cell_type": "code",
   "execution_count": 50,
   "id": "6aea45fe",
   "metadata": {},
   "outputs": [
    {
     "data": {
      "text/plain": [
       "[11.4, 23.5, 45.7, 49.0]"
      ]
     },
     "execution_count": 50,
     "metadata": {},
     "output_type": "execute_result"
    }
   ],
   "source": [
    "list3=[11.4,23.5,45.7,49.0]\n",
    "\n",
    "list3"
   ]
  },
  {
   "cell_type": "code",
   "execution_count": 52,
   "id": "bb1de1c6",
   "metadata": {},
   "outputs": [
    {
     "data": {
      "text/plain": [
       "['a', 'd', 'f', 'e', 'f', 'e']"
      ]
     },
     "execution_count": 52,
     "metadata": {},
     "output_type": "execute_result"
    }
   ],
   "source": [
    "list4=[\"a\",\"d\",\"f\",\"e\",\"f\",\"e\"]\n",
    "\n",
    "list4"
   ]
  },
  {
   "cell_type": "code",
   "execution_count": 53,
   "id": "34e5c00e",
   "metadata": {},
   "outputs": [
    {
     "data": {
      "text/plain": [
       "['abc', 'sdf', 'cfg', 'ghj', 'koi', 'lop']"
      ]
     },
     "execution_count": 53,
     "metadata": {},
     "output_type": "execute_result"
    }
   ],
   "source": [
    "list5=[\"abc\",\"sdf\",\"cfg\",\"ghj\",\"koi\",\"lop\"]\n",
    "list5"
   ]
  },
  {
   "cell_type": "code",
   "execution_count": 54,
   "id": "8459bc98",
   "metadata": {},
   "outputs": [],
   "source": [
    "list6=[\"abc\",90,\"opi\",87,98,\"lko\"]"
   ]
  },
  {
   "cell_type": "code",
   "execution_count": 55,
   "id": "22688ad8",
   "metadata": {},
   "outputs": [
    {
     "data": {
      "text/plain": [
       "['abc', 90, 'opi', 87, 98, 'lko']"
      ]
     },
     "execution_count": 55,
     "metadata": {},
     "output_type": "execute_result"
    }
   ],
   "source": [
    "list6"
   ]
  },
  {
   "cell_type": "code",
   "execution_count": 56,
   "id": "39c1d30e",
   "metadata": {},
   "outputs": [
    {
     "data": {
      "text/plain": [
       "['ccu', 'pat', 'ixr', 'del', 'bom', 'amd']"
      ]
     },
     "execution_count": 56,
     "metadata": {},
     "output_type": "execute_result"
    }
   ],
   "source": [
    "citylist=[\"ccu\",\"pat\",\"ixr\",\"del\",\"bom\",\"amd\"]\n",
    "\n",
    "citylist"
   ]
  },
  {
   "cell_type": "code",
   "execution_count": 57,
   "id": "5f969313",
   "metadata": {},
   "outputs": [
    {
     "data": {
      "text/plain": [
       "['sause', 'Biscuit', 'Coke', 'Maggi']"
      ]
     },
     "execution_count": 57,
     "metadata": {},
     "output_type": "execute_result"
    }
   ],
   "source": [
    "foodlist=[\"sause\",\"Biscuit\",\"Coke\",\"Maggi\"]\n",
    "\n",
    "foodlist"
   ]
  },
  {
   "cell_type": "code",
   "execution_count": 58,
   "id": "3122bb38",
   "metadata": {},
   "outputs": [
    {
     "data": {
      "text/plain": [
       "['pluto', 'earth', 'mars', 'jupiter']"
      ]
     },
     "execution_count": 58,
     "metadata": {},
     "output_type": "execute_result"
    }
   ],
   "source": [
    "planetlist=[\"pluto\",\"earth\",\"mars\",\"jupiter\"]\n",
    "\n",
    "planetlist"
   ]
  },
  {
   "cell_type": "markdown",
   "id": "f11ffbed",
   "metadata": {},
   "source": [
    "---------------------------------------------------------------------"
   ]
  },
  {
   "cell_type": "markdown",
   "id": "5de6eb4f",
   "metadata": {},
   "source": [
    "------------------------------------------------------------"
   ]
  },
  {
   "cell_type": "code",
   "execution_count": null,
   "id": "2e418ad8",
   "metadata": {},
   "outputs": [],
   "source": []
  }
 ],
 "metadata": {
  "kernelspec": {
   "display_name": "Python 3 (ipykernel)",
   "language": "python",
   "name": "python3"
  },
  "language_info": {
   "codemirror_mode": {
    "name": "ipython",
    "version": 3
   },
   "file_extension": ".py",
   "mimetype": "text/x-python",
   "name": "python",
   "nbconvert_exporter": "python",
   "pygments_lexer": "ipython3",
   "version": "3.9.12"
  }
 },
 "nbformat": 4,
 "nbformat_minor": 5
}
