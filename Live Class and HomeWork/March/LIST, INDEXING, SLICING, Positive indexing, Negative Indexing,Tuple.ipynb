{
 "cells": [
  {
   "cell_type": "code",
   "execution_count": 1,
   "id": "c72aa288",
   "metadata": {},
   "outputs": [],
   "source": [
    "list1=[1,2,3,4,5]"
   ]
  },
  {
   "cell_type": "code",
   "execution_count": 2,
   "id": "7946ed07",
   "metadata": {},
   "outputs": [
    {
     "data": {
      "text/plain": [
       "[1, 2, 3, 4, 5]"
      ]
     },
     "execution_count": 2,
     "metadata": {},
     "output_type": "execute_result"
    }
   ],
   "source": [
    "list1"
   ]
  },
  {
   "cell_type": "code",
   "execution_count": 3,
   "id": "85addb9f",
   "metadata": {},
   "outputs": [],
   "source": [
    "list2=[56,57,58,59]"
   ]
  },
  {
   "cell_type": "code",
   "execution_count": 4,
   "id": "eef1cc7d",
   "metadata": {},
   "outputs": [
    {
     "data": {
      "text/plain": [
       "[56, 57, 58, 59]"
      ]
     },
     "execution_count": 4,
     "metadata": {},
     "output_type": "execute_result"
    }
   ],
   "source": [
    "list2"
   ]
  },
  {
   "cell_type": "code",
   "execution_count": 5,
   "id": "4df9a89f",
   "metadata": {},
   "outputs": [],
   "source": [
    "list3=[\"computer\",\"laptop\",\"Mobile\",\"Battery\"]"
   ]
  },
  {
   "cell_type": "code",
   "execution_count": 6,
   "id": "1bb0e5e0",
   "metadata": {},
   "outputs": [
    {
     "data": {
      "text/plain": [
       "['computer', 'laptop', 'Mobile', 'Battery']"
      ]
     },
     "execution_count": 6,
     "metadata": {},
     "output_type": "execute_result"
    }
   ],
   "source": [
    "list3"
   ]
  },
  {
   "cell_type": "markdown",
   "id": "275a32f9",
   "metadata": {},
   "source": [
    "-----------------------------------------------------------------"
   ]
  },
  {
   "cell_type": "markdown",
   "id": "dcefddb4",
   "metadata": {},
   "source": [
    "INDEXING"
   ]
  },
  {
   "cell_type": "code",
   "execution_count": 7,
   "id": "70205f56",
   "metadata": {},
   "outputs": [
    {
     "data": {
      "text/plain": [
       "'computer'"
      ]
     },
     "execution_count": 7,
     "metadata": {},
     "output_type": "execute_result"
    }
   ],
   "source": [
    "list3[0]"
   ]
  },
  {
   "cell_type": "code",
   "execution_count": 8,
   "id": "36112890",
   "metadata": {},
   "outputs": [
    {
     "data": {
      "text/plain": [
       "'laptop'"
      ]
     },
     "execution_count": 8,
     "metadata": {},
     "output_type": "execute_result"
    }
   ],
   "source": [
    "list3[1]"
   ]
  },
  {
   "cell_type": "code",
   "execution_count": 9,
   "id": "c15b4d03",
   "metadata": {},
   "outputs": [
    {
     "data": {
      "text/plain": [
       "'Mobile'"
      ]
     },
     "execution_count": 9,
     "metadata": {},
     "output_type": "execute_result"
    }
   ],
   "source": [
    "list3[2]"
   ]
  },
  {
   "cell_type": "code",
   "execution_count": 10,
   "id": "7c090576",
   "metadata": {},
   "outputs": [
    {
     "data": {
      "text/plain": [
       "'Battery'"
      ]
     },
     "execution_count": 10,
     "metadata": {},
     "output_type": "execute_result"
    }
   ],
   "source": [
    "list3[3]"
   ]
  },
  {
   "cell_type": "code",
   "execution_count": 11,
   "id": "ea8e2b9a",
   "metadata": {},
   "outputs": [],
   "source": [
    "fruitlist=[\"apple\",\"banana\",\"Grapes\",\"orange\"]"
   ]
  },
  {
   "cell_type": "code",
   "execution_count": 12,
   "id": "53b55af0",
   "metadata": {},
   "outputs": [
    {
     "data": {
      "text/plain": [
       "['apple', 'banana', 'Grapes', 'orange']"
      ]
     },
     "execution_count": 12,
     "metadata": {},
     "output_type": "execute_result"
    }
   ],
   "source": [
    "fruitlist"
   ]
  },
  {
   "cell_type": "code",
   "execution_count": 13,
   "id": "ab4f86e3",
   "metadata": {},
   "outputs": [
    {
     "data": {
      "text/plain": [
       "'Grapes'"
      ]
     },
     "execution_count": 13,
     "metadata": {},
     "output_type": "execute_result"
    }
   ],
   "source": [
    "fruitlist[2]"
   ]
  },
  {
   "cell_type": "code",
   "execution_count": 14,
   "id": "da620973",
   "metadata": {},
   "outputs": [
    {
     "data": {
      "text/plain": [
       "'orange'"
      ]
     },
     "execution_count": 14,
     "metadata": {},
     "output_type": "execute_result"
    }
   ],
   "source": [
    "fruitlist[3]"
   ]
  },
  {
   "cell_type": "code",
   "execution_count": 15,
   "id": "f650be98",
   "metadata": {},
   "outputs": [
    {
     "data": {
      "text/plain": [
       "[56, 57, 58, 59]"
      ]
     },
     "execution_count": 15,
     "metadata": {},
     "output_type": "execute_result"
    }
   ],
   "source": [
    "list2"
   ]
  },
  {
   "cell_type": "code",
   "execution_count": 16,
   "id": "b1a82ecf",
   "metadata": {},
   "outputs": [
    {
     "data": {
      "text/plain": [
       "58"
      ]
     },
     "execution_count": 16,
     "metadata": {},
     "output_type": "execute_result"
    }
   ],
   "source": [
    "list2[2]"
   ]
  },
  {
   "cell_type": "code",
   "execution_count": 17,
   "id": "7a7c53fa",
   "metadata": {},
   "outputs": [
    {
     "data": {
      "text/plain": [
       "59"
      ]
     },
     "execution_count": 17,
     "metadata": {},
     "output_type": "execute_result"
    }
   ],
   "source": [
    "list2[3]"
   ]
  },
  {
   "cell_type": "markdown",
   "id": "8a6a35bb",
   "metadata": {},
   "source": [
    "# SLICING"
   ]
  },
  {
   "cell_type": "markdown",
   "id": "1f35d457",
   "metadata": {},
   "source": [
    "POSITIVE INDEXING"
   ]
  },
  {
   "cell_type": "code",
   "execution_count": 18,
   "id": "d49ee3fc",
   "metadata": {},
   "outputs": [],
   "source": [
    "Fruitlist=[\"apple-0\",\"banana-1\",\"grapes-2\",\"papaya-3\",\"Kiwi-4\",\"Berry-5\"]"
   ]
  },
  {
   "cell_type": "code",
   "execution_count": 19,
   "id": "3f209555",
   "metadata": {},
   "outputs": [
    {
     "data": {
      "text/plain": [
       "['apple-0', 'banana-1', 'grapes-2', 'papaya-3', 'Kiwi-4', 'Berry-5']"
      ]
     },
     "execution_count": 19,
     "metadata": {},
     "output_type": "execute_result"
    }
   ],
   "source": [
    "Fruitlist"
   ]
  },
  {
   "cell_type": "code",
   "execution_count": 20,
   "id": "8a04dbd6",
   "metadata": {},
   "outputs": [
    {
     "data": {
      "text/plain": [
       "['apple-0', 'banana-1', 'grapes-2']"
      ]
     },
     "execution_count": 20,
     "metadata": {},
     "output_type": "execute_result"
    }
   ],
   "source": [
    "Fruitlist[0:3]"
   ]
  },
  {
   "cell_type": "code",
   "execution_count": 21,
   "id": "d068a72e",
   "metadata": {},
   "outputs": [
    {
     "data": {
      "text/plain": [
       "['apple-0']"
      ]
     },
     "execution_count": 21,
     "metadata": {},
     "output_type": "execute_result"
    }
   ],
   "source": [
    "Fruitlist[0:1]"
   ]
  },
  {
   "cell_type": "code",
   "execution_count": 22,
   "id": "c5aca66e",
   "metadata": {},
   "outputs": [
    {
     "data": {
      "text/plain": [
       "['apple-0', 'banana-1', 'grapes-2', 'papaya-3']"
      ]
     },
     "execution_count": 22,
     "metadata": {},
     "output_type": "execute_result"
    }
   ],
   "source": [
    "Fruitlist[0:4]"
   ]
  },
  {
   "cell_type": "code",
   "execution_count": 23,
   "id": "2aad93bb",
   "metadata": {},
   "outputs": [
    {
     "data": {
      "text/plain": [
       "['grapes-2', 'papaya-3', 'Kiwi-4']"
      ]
     },
     "execution_count": 23,
     "metadata": {},
     "output_type": "execute_result"
    }
   ],
   "source": [
    "Fruitlist[2:5]"
   ]
  },
  {
   "cell_type": "code",
   "execution_count": 24,
   "id": "40dbfef0",
   "metadata": {},
   "outputs": [
    {
     "data": {
      "text/plain": [
       "['grapes-2', 'papaya-3', 'Kiwi-4', 'Berry-5']"
      ]
     },
     "execution_count": 24,
     "metadata": {},
     "output_type": "execute_result"
    }
   ],
   "source": [
    "Fruitlist[2:6]"
   ]
  },
  {
   "cell_type": "code",
   "execution_count": 25,
   "id": "cda79573",
   "metadata": {},
   "outputs": [
    {
     "data": {
      "text/plain": [
       "['papaya-3']"
      ]
     },
     "execution_count": 25,
     "metadata": {},
     "output_type": "execute_result"
    }
   ],
   "source": [
    "Fruitlist[3:4]"
   ]
  },
  {
   "cell_type": "code",
   "execution_count": 26,
   "id": "d724ff41",
   "metadata": {},
   "outputs": [
    {
     "data": {
      "text/plain": [
       "['banana-1', 'grapes-2', 'papaya-3', 'Kiwi-4']"
      ]
     },
     "execution_count": 26,
     "metadata": {},
     "output_type": "execute_result"
    }
   ],
   "source": [
    "Fruitlist[1:5]"
   ]
  },
  {
   "cell_type": "markdown",
   "id": "ecec078e",
   "metadata": {},
   "source": [
    "NEGATIVE INDEXING"
   ]
  },
  {
   "cell_type": "code",
   "execution_count": 27,
   "id": "ce4f1771",
   "metadata": {},
   "outputs": [],
   "source": [
    "Newfruitlist=['apple-6','banana-5','grapes-4','papaya-3','Kiwi-2','Berry-1']"
   ]
  },
  {
   "cell_type": "code",
   "execution_count": 28,
   "id": "ab8cb8f1",
   "metadata": {},
   "outputs": [
    {
     "data": {
      "text/plain": [
       "['apple-6', 'banana-5', 'grapes-4', 'papaya-3', 'Kiwi-2', 'Berry-1']"
      ]
     },
     "execution_count": 28,
     "metadata": {},
     "output_type": "execute_result"
    }
   ],
   "source": [
    "Newfruitlist"
   ]
  },
  {
   "cell_type": "code",
   "execution_count": 29,
   "id": "c2afd86c",
   "metadata": {},
   "outputs": [
    {
     "data": {
      "text/plain": [
       "['apple-6', 'banana-5', 'grapes-4', 'papaya-3', 'Kiwi-2', 'Berry-1']"
      ]
     },
     "execution_count": 29,
     "metadata": {},
     "output_type": "execute_result"
    }
   ],
   "source": [
    "Newfruitlist[-6:]"
   ]
  },
  {
   "cell_type": "code",
   "execution_count": 30,
   "id": "c640def9",
   "metadata": {},
   "outputs": [
    {
     "data": {
      "text/plain": [
       "['apple-6', 'banana-5', 'grapes-4', 'papaya-3', 'Kiwi-2']"
      ]
     },
     "execution_count": 30,
     "metadata": {},
     "output_type": "execute_result"
    }
   ],
   "source": [
    "Newfruitlist[:-1]"
   ]
  },
  {
   "cell_type": "code",
   "execution_count": 31,
   "id": "e26ccba8",
   "metadata": {},
   "outputs": [
    {
     "data": {
      "text/plain": [
       "['Kiwi-2']"
      ]
     },
     "execution_count": 31,
     "metadata": {},
     "output_type": "execute_result"
    }
   ],
   "source": [
    "Newfruitlist[-2:-1]"
   ]
  },
  {
   "cell_type": "code",
   "execution_count": 32,
   "id": "517448e6",
   "metadata": {},
   "outputs": [
    {
     "data": {
      "text/plain": [
       "['papaya-3', 'Kiwi-2']"
      ]
     },
     "execution_count": 32,
     "metadata": {},
     "output_type": "execute_result"
    }
   ],
   "source": [
    "Newfruitlist[-3:-1]"
   ]
  },
  {
   "cell_type": "code",
   "execution_count": 33,
   "id": "7863634b",
   "metadata": {},
   "outputs": [
    {
     "data": {
      "text/plain": [
       "['grapes-4', 'papaya-3', 'Kiwi-2']"
      ]
     },
     "execution_count": 33,
     "metadata": {},
     "output_type": "execute_result"
    }
   ],
   "source": [
    "Newfruitlist[-4:-1]"
   ]
  },
  {
   "cell_type": "code",
   "execution_count": 34,
   "id": "d564db35",
   "metadata": {},
   "outputs": [
    {
     "data": {
      "text/plain": [
       "['banana-5', 'grapes-4', 'papaya-3', 'Kiwi-2']"
      ]
     },
     "execution_count": 34,
     "metadata": {},
     "output_type": "execute_result"
    }
   ],
   "source": [
    "Newfruitlist[-5:-1]"
   ]
  },
  {
   "cell_type": "code",
   "execution_count": 35,
   "id": "d4b43414",
   "metadata": {},
   "outputs": [
    {
     "data": {
      "text/plain": [
       "['apple', 'banana', 'Grapes', 'orange']"
      ]
     },
     "execution_count": 35,
     "metadata": {},
     "output_type": "execute_result"
    }
   ],
   "source": [
    "fruitlist[:]"
   ]
  },
  {
   "cell_type": "code",
   "execution_count": 36,
   "id": "d9bfa2f2",
   "metadata": {},
   "outputs": [
    {
     "data": {
      "text/plain": [
       "['apple-6', 'banana-5', 'grapes-4', 'papaya-3', 'Kiwi-2', 'Berry-1']"
      ]
     },
     "execution_count": 36,
     "metadata": {},
     "output_type": "execute_result"
    }
   ],
   "source": [
    "Newfruitlist[0:]"
   ]
  },
  {
   "cell_type": "code",
   "execution_count": 37,
   "id": "be390bfc",
   "metadata": {},
   "outputs": [
    {
     "data": {
      "text/plain": [
       "['apple', 'banana', 'Grapes']"
      ]
     },
     "execution_count": 37,
     "metadata": {},
     "output_type": "execute_result"
    }
   ],
   "source": [
    "fruitlist[:-1]"
   ]
  },
  {
   "cell_type": "markdown",
   "id": "b8880f71",
   "metadata": {},
   "source": [
    "---------------------------------"
   ]
  },
  {
   "cell_type": "code",
   "execution_count": 38,
   "id": "31ca59d2",
   "metadata": {},
   "outputs": [],
   "source": [
    "Planetlist=[\"Mercury\",\"Venus\",\"Earth\"]"
   ]
  },
  {
   "cell_type": "code",
   "execution_count": 39,
   "id": "2e2ef3f6",
   "metadata": {},
   "outputs": [
    {
     "data": {
      "text/plain": [
       "['Mercury', 'Venus', 'Earth']"
      ]
     },
     "execution_count": 39,
     "metadata": {},
     "output_type": "execute_result"
    }
   ],
   "source": [
    "Planetlist"
   ]
  },
  {
   "cell_type": "code",
   "execution_count": 40,
   "id": "9783b284",
   "metadata": {},
   "outputs": [],
   "source": [
    "# Append means adding data from back, 01 data can be added at a time\n",
    "\n",
    "Planetlist.append(\"Neptune\")"
   ]
  },
  {
   "cell_type": "code",
   "execution_count": 41,
   "id": "fc79fa17",
   "metadata": {},
   "outputs": [
    {
     "data": {
      "text/plain": [
       "4"
      ]
     },
     "execution_count": 41,
     "metadata": {},
     "output_type": "execute_result"
    }
   ],
   "source": [
    "len(Planetlist)"
   ]
  },
  {
   "cell_type": "code",
   "execution_count": 42,
   "id": "39134483",
   "metadata": {},
   "outputs": [],
   "source": [
    "#  Insert is used to insert by index\n",
    "\n",
    "Planetlist.insert(1,\"pluto\")"
   ]
  },
  {
   "cell_type": "code",
   "execution_count": 43,
   "id": "496e64c4",
   "metadata": {},
   "outputs": [
    {
     "data": {
      "text/plain": [
       "5"
      ]
     },
     "execution_count": 43,
     "metadata": {},
     "output_type": "execute_result"
    }
   ],
   "source": [
    "#Len function is used to calculate length\n",
    "\n",
    "len(Planetlist)"
   ]
  },
  {
   "cell_type": "code",
   "execution_count": 44,
   "id": "03d55c0d",
   "metadata": {},
   "outputs": [
    {
     "data": {
      "text/plain": [
       "['Mercury', 'pluto', 'Venus', 'Earth', 'Neptune']"
      ]
     },
     "execution_count": 44,
     "metadata": {},
     "output_type": "execute_result"
    }
   ],
   "source": [
    "Planetlist"
   ]
  },
  {
   "cell_type": "code",
   "execution_count": 45,
   "id": "dee983e9",
   "metadata": {},
   "outputs": [],
   "source": [
    "# .Sort is used to locate the data in assending order\n",
    "\n",
    "Planetlist.sort()"
   ]
  },
  {
   "cell_type": "code",
   "execution_count": 46,
   "id": "bfca258c",
   "metadata": {},
   "outputs": [
    {
     "data": {
      "text/plain": [
       "['Earth', 'Mercury', 'Neptune', 'Venus', 'pluto']"
      ]
     },
     "execution_count": 46,
     "metadata": {},
     "output_type": "execute_result"
    }
   ],
   "source": [
    "Planetlist"
   ]
  },
  {
   "cell_type": "code",
   "execution_count": 47,
   "id": "92aa37ab",
   "metadata": {},
   "outputs": [],
   "source": [
    "# In decending order (name.reverse)\n",
    "\n",
    "Planetlist.reverse()"
   ]
  },
  {
   "cell_type": "code",
   "execution_count": 48,
   "id": "216cba9f",
   "metadata": {},
   "outputs": [
    {
     "data": {
      "text/plain": [
       "['pluto', 'Venus', 'Neptune', 'Mercury', 'Earth']"
      ]
     },
     "execution_count": 48,
     "metadata": {},
     "output_type": "execute_result"
    }
   ],
   "source": [
    "Planetlist"
   ]
  },
  {
   "cell_type": "code",
   "execution_count": 49,
   "id": "336baaf6",
   "metadata": {},
   "outputs": [],
   "source": [
    "# Adding multiple Element or data\n",
    "\n",
    "Planetlist.extend([\"Uranus\",\"Jupiter\"])"
   ]
  },
  {
   "cell_type": "code",
   "execution_count": 50,
   "id": "0a800d62",
   "metadata": {},
   "outputs": [
    {
     "data": {
      "text/plain": [
       "['pluto', 'Venus', 'Neptune', 'Mercury', 'Earth', 'Uranus', 'Jupiter']"
      ]
     },
     "execution_count": 50,
     "metadata": {},
     "output_type": "execute_result"
    }
   ],
   "source": [
    "Planetlist"
   ]
  },
  {
   "cell_type": "code",
   "execution_count": 51,
   "id": "8780b811",
   "metadata": {},
   "outputs": [
    {
     "data": {
      "text/plain": [
       "7"
      ]
     },
     "execution_count": 51,
     "metadata": {},
     "output_type": "execute_result"
    }
   ],
   "source": [
    "len(Planetlist)"
   ]
  },
  {
   "cell_type": "code",
   "execution_count": 52,
   "id": "fde16796",
   "metadata": {},
   "outputs": [],
   "source": [
    "Planetlist.sort()"
   ]
  },
  {
   "cell_type": "code",
   "execution_count": 53,
   "id": "d6a2dbaf",
   "metadata": {},
   "outputs": [
    {
     "data": {
      "text/plain": [
       "['Earth', 'Jupiter', 'Mercury', 'Neptune', 'Uranus', 'Venus', 'pluto']"
      ]
     },
     "execution_count": 53,
     "metadata": {},
     "output_type": "execute_result"
    }
   ],
   "source": [
    "Planetlist"
   ]
  },
  {
   "cell_type": "code",
   "execution_count": 54,
   "id": "50e4ab25",
   "metadata": {},
   "outputs": [
    {
     "data": {
      "text/plain": [
       "'Uranus'"
      ]
     },
     "execution_count": 54,
     "metadata": {},
     "output_type": "execute_result"
    }
   ],
   "source": [
    "# IS Used to remove element from back\n",
    "\n",
    "Planetlist.pop(4)"
   ]
  },
  {
   "cell_type": "code",
   "execution_count": 55,
   "id": "ebbc40e8",
   "metadata": {},
   "outputs": [
    {
     "data": {
      "text/plain": [
       "6"
      ]
     },
     "execution_count": 55,
     "metadata": {},
     "output_type": "execute_result"
    }
   ],
   "source": [
    "len(Planetlist)"
   ]
  },
  {
   "cell_type": "code",
   "execution_count": 56,
   "id": "65b2f658",
   "metadata": {},
   "outputs": [
    {
     "ename": "ValueError",
     "evalue": "list.remove(x): x not in list",
     "output_type": "error",
     "traceback": [
      "\u001b[1;31m---------------------------------------------------------------------------\u001b[0m",
      "\u001b[1;31mValueError\u001b[0m                                Traceback (most recent call last)",
      "Input \u001b[1;32mIn [56]\u001b[0m, in \u001b[0;36m<cell line: 3>\u001b[1;34m()\u001b[0m\n\u001b[0;32m      1\u001b[0m \u001b[38;5;66;03m#Removing Uranus from planet list\u001b[39;00m\n\u001b[1;32m----> 3\u001b[0m \u001b[43mPlanetlist\u001b[49m\u001b[38;5;241;43m.\u001b[39;49m\u001b[43mremove\u001b[49m\u001b[43m(\u001b[49m\u001b[38;5;124;43m\"\u001b[39;49m\u001b[38;5;124;43mUranus\u001b[39;49m\u001b[38;5;124;43m\"\u001b[39;49m\u001b[43m)\u001b[49m\n",
      "\u001b[1;31mValueError\u001b[0m: list.remove(x): x not in list"
     ]
    }
   ],
   "source": [
    "#Removing Uranus from planet list\n",
    "\n",
    "Planetlist.remove(\"Uranus\")"
   ]
  },
  {
   "cell_type": "code",
   "execution_count": 57,
   "id": "a6e74392",
   "metadata": {},
   "outputs": [
    {
     "data": {
      "text/plain": [
       "6"
      ]
     },
     "execution_count": 57,
     "metadata": {},
     "output_type": "execute_result"
    }
   ],
   "source": [
    "len(Planetlist)"
   ]
  },
  {
   "cell_type": "code",
   "execution_count": 58,
   "id": "f3c70a93",
   "metadata": {},
   "outputs": [
    {
     "data": {
      "text/plain": [
       "['Earth', 'Jupiter', 'Mercury', 'Neptune', 'Venus', 'pluto']"
      ]
     },
     "execution_count": 58,
     "metadata": {},
     "output_type": "execute_result"
    }
   ],
   "source": [
    "Planetlist"
   ]
  },
  {
   "cell_type": "code",
   "execution_count": 59,
   "id": "b4791b36",
   "metadata": {},
   "outputs": [],
   "source": [
    "# Removing internal data in list\n",
    "\n",
    "Planetlist.clear()"
   ]
  },
  {
   "cell_type": "code",
   "execution_count": 60,
   "id": "6e1b6259",
   "metadata": {},
   "outputs": [
    {
     "data": {
      "text/plain": [
       "0"
      ]
     },
     "execution_count": 60,
     "metadata": {},
     "output_type": "execute_result"
    }
   ],
   "source": [
    "#After removing list is zero\n",
    "\n",
    "len(Planetlist)"
   ]
  },
  {
   "cell_type": "code",
   "execution_count": 61,
   "id": "89b7249b",
   "metadata": {},
   "outputs": [],
   "source": [
    "#Delete planetlist\n",
    "\n",
    "del Planetlist"
   ]
  },
  {
   "cell_type": "code",
   "execution_count": 62,
   "id": "f0c2a569",
   "metadata": {},
   "outputs": [
    {
     "ename": "NameError",
     "evalue": "name 'Planetlist' is not defined",
     "output_type": "error",
     "traceback": [
      "\u001b[1;31m---------------------------------------------------------------------------\u001b[0m",
      "\u001b[1;31mNameError\u001b[0m                                 Traceback (most recent call last)",
      "Input \u001b[1;32mIn [62]\u001b[0m, in \u001b[0;36m<cell line: 3>\u001b[1;34m()\u001b[0m\n\u001b[0;32m      1\u001b[0m \u001b[38;5;66;03m# Shows no list as it is deleted\u001b[39;00m\n\u001b[1;32m----> 3\u001b[0m \u001b[43mPlanetlist\u001b[49m\n",
      "\u001b[1;31mNameError\u001b[0m: name 'Planetlist' is not defined"
     ]
    }
   ],
   "source": [
    "# Shows no list as it is deleted\n",
    "\n",
    "Planetlist"
   ]
  },
  {
   "cell_type": "code",
   "execution_count": 63,
   "id": "8b85b176",
   "metadata": {},
   "outputs": [],
   "source": [
    "List5=[10,20,30,40,60]"
   ]
  },
  {
   "cell_type": "code",
   "execution_count": 64,
   "id": "f24c43fa",
   "metadata": {},
   "outputs": [
    {
     "data": {
      "text/plain": [
       "[10, 20, 30, 40, 60]"
      ]
     },
     "execution_count": 64,
     "metadata": {},
     "output_type": "execute_result"
    }
   ],
   "source": [
    "List5"
   ]
  },
  {
   "cell_type": "code",
   "execution_count": 65,
   "id": "f7a50ddd",
   "metadata": {},
   "outputs": [
    {
     "data": {
      "text/plain": [
       "30"
      ]
     },
     "execution_count": 65,
     "metadata": {},
     "output_type": "execute_result"
    }
   ],
   "source": [
    "List5[2]"
   ]
  },
  {
   "cell_type": "code",
   "execution_count": 66,
   "id": "d821da03",
   "metadata": {},
   "outputs": [],
   "source": [
    "List5[2]=70"
   ]
  },
  {
   "cell_type": "code",
   "execution_count": 67,
   "id": "181a0c1f",
   "metadata": {},
   "outputs": [
    {
     "data": {
      "text/plain": [
       "[10, 20, 70, 40, 60]"
      ]
     },
     "execution_count": 67,
     "metadata": {},
     "output_type": "execute_result"
    }
   ],
   "source": [
    "List5"
   ]
  },
  {
   "cell_type": "code",
   "execution_count": 68,
   "id": "ab50f3fe",
   "metadata": {},
   "outputs": [
    {
     "data": {
      "text/plain": [
       "5"
      ]
     },
     "execution_count": 68,
     "metadata": {},
     "output_type": "execute_result"
    }
   ],
   "source": [
    "len(List5)"
   ]
  },
  {
   "cell_type": "code",
   "execution_count": 69,
   "id": "e3693102",
   "metadata": {},
   "outputs": [],
   "source": [
    "List5.append(80)"
   ]
  },
  {
   "cell_type": "code",
   "execution_count": 70,
   "id": "5b21a355",
   "metadata": {},
   "outputs": [
    {
     "data": {
      "text/plain": [
       "[10, 20, 70, 40, 60, 80]"
      ]
     },
     "execution_count": 70,
     "metadata": {},
     "output_type": "execute_result"
    }
   ],
   "source": [
    "List5"
   ]
  },
  {
   "cell_type": "code",
   "execution_count": 71,
   "id": "4171f1da",
   "metadata": {},
   "outputs": [],
   "source": [
    "List5.insert(3,30)"
   ]
  },
  {
   "cell_type": "code",
   "execution_count": 72,
   "id": "8ec62797",
   "metadata": {},
   "outputs": [
    {
     "data": {
      "text/plain": [
       "[10, 20, 70, 30, 40, 60, 80]"
      ]
     },
     "execution_count": 72,
     "metadata": {},
     "output_type": "execute_result"
    }
   ],
   "source": [
    "List5"
   ]
  },
  {
   "cell_type": "code",
   "execution_count": 73,
   "id": "8a44af7d",
   "metadata": {},
   "outputs": [],
   "source": [
    "List5.sort()"
   ]
  },
  {
   "cell_type": "code",
   "execution_count": 74,
   "id": "6d584ca8",
   "metadata": {},
   "outputs": [
    {
     "data": {
      "text/plain": [
       "[10, 20, 30, 40, 60, 70, 80]"
      ]
     },
     "execution_count": 74,
     "metadata": {},
     "output_type": "execute_result"
    }
   ],
   "source": [
    "List5"
   ]
  },
  {
   "cell_type": "code",
   "execution_count": 75,
   "id": "f2416ce7",
   "metadata": {},
   "outputs": [],
   "source": [
    "List5.reverse()"
   ]
  },
  {
   "cell_type": "code",
   "execution_count": 76,
   "id": "dfd12e4c",
   "metadata": {},
   "outputs": [
    {
     "data": {
      "text/plain": [
       "[80, 70, 60, 40, 30, 20, 10]"
      ]
     },
     "execution_count": 76,
     "metadata": {},
     "output_type": "execute_result"
    }
   ],
   "source": [
    "List5"
   ]
  },
  {
   "cell_type": "code",
   "execution_count": 77,
   "id": "72d3e6d2",
   "metadata": {},
   "outputs": [
    {
     "data": {
      "text/plain": [
       "80"
      ]
     },
     "execution_count": 77,
     "metadata": {},
     "output_type": "execute_result"
    }
   ],
   "source": [
    "List5.pop(-7)"
   ]
  },
  {
   "cell_type": "code",
   "execution_count": 78,
   "id": "eb7ecb68",
   "metadata": {},
   "outputs": [],
   "source": [
    "List5.clear()"
   ]
  },
  {
   "cell_type": "code",
   "execution_count": 79,
   "id": "27bee036",
   "metadata": {},
   "outputs": [
    {
     "data": {
      "text/plain": [
       "[]"
      ]
     },
     "execution_count": 79,
     "metadata": {},
     "output_type": "execute_result"
    }
   ],
   "source": [
    "List5"
   ]
  },
  {
   "cell_type": "code",
   "execution_count": 80,
   "id": "d21dc6da",
   "metadata": {},
   "outputs": [],
   "source": [
    "del List5"
   ]
  },
  {
   "cell_type": "code",
   "execution_count": 81,
   "id": "e73f0c7e",
   "metadata": {},
   "outputs": [
    {
     "ename": "NameError",
     "evalue": "name 'List5' is not defined",
     "output_type": "error",
     "traceback": [
      "\u001b[1;31m---------------------------------------------------------------------------\u001b[0m",
      "\u001b[1;31mNameError\u001b[0m                                 Traceback (most recent call last)",
      "Input \u001b[1;32mIn [81]\u001b[0m, in \u001b[0;36m<cell line: 1>\u001b[1;34m()\u001b[0m\n\u001b[1;32m----> 1\u001b[0m \u001b[43mList5\u001b[49m\n",
      "\u001b[1;31mNameError\u001b[0m: name 'List5' is not defined"
     ]
    }
   ],
   "source": [
    "List5"
   ]
  },
  {
   "cell_type": "markdown",
   "id": "b57a592d",
   "metadata": {},
   "source": [
    "TUPLE \n",
    "\n",
    "# list is mutable//Tuple is un-mutable"
   ]
  },
  {
   "cell_type": "code",
   "execution_count": 82,
   "id": "c0b2bd2a",
   "metadata": {},
   "outputs": [
    {
     "data": {
      "text/plain": [
       "(1, 2, 3, 4, 5, 8)"
      ]
     },
     "execution_count": 82,
     "metadata": {},
     "output_type": "execute_result"
    }
   ],
   "source": [
    "t1=(1,2,3,4,5,8)\n",
    "\n",
    "t1"
   ]
  },
  {
   "cell_type": "code",
   "execution_count": 83,
   "id": "473e3624",
   "metadata": {
    "scrolled": true
   },
   "outputs": [
    {
     "ename": "AttributeError",
     "evalue": "'tuple' object has no attribute 'append'",
     "output_type": "error",
     "traceback": [
      "\u001b[1;31m---------------------------------------------------------------------------\u001b[0m",
      "\u001b[1;31mAttributeError\u001b[0m                            Traceback (most recent call last)",
      "Input \u001b[1;32mIn [83]\u001b[0m, in \u001b[0;36m<cell line: 3>\u001b[1;34m()\u001b[0m\n\u001b[0;32m      1\u001b[0m \u001b[38;5;66;03m#cant add any data\u001b[39;00m\n\u001b[1;32m----> 3\u001b[0m \u001b[43mt1\u001b[49m\u001b[38;5;241;43m.\u001b[39;49m\u001b[43mappend\u001b[49m(\u001b[38;5;241m9\u001b[39m)\n",
      "\u001b[1;31mAttributeError\u001b[0m: 'tuple' object has no attribute 'append'"
     ]
    }
   ],
   "source": [
    "#cant add any data\n",
    "\n",
    "t1.append(9)"
   ]
  },
  {
   "cell_type": "code",
   "execution_count": 84,
   "id": "04839269",
   "metadata": {},
   "outputs": [
    {
     "ename": "AttributeError",
     "evalue": "'tuple' object has no attribute 'pop'",
     "output_type": "error",
     "traceback": [
      "\u001b[1;31m---------------------------------------------------------------------------\u001b[0m",
      "\u001b[1;31mAttributeError\u001b[0m                            Traceback (most recent call last)",
      "Input \u001b[1;32mIn [84]\u001b[0m, in \u001b[0;36m<cell line: 1>\u001b[1;34m()\u001b[0m\n\u001b[1;32m----> 1\u001b[0m \u001b[43mt1\u001b[49m\u001b[38;5;241;43m.\u001b[39;49m\u001b[43mpop\u001b[49m()\n",
      "\u001b[1;31mAttributeError\u001b[0m: 'tuple' object has no attribute 'pop'"
     ]
    }
   ],
   "source": [
    "t1.pop()"
   ]
  },
  {
   "cell_type": "code",
   "execution_count": 85,
   "id": "b89a7914",
   "metadata": {},
   "outputs": [
    {
     "data": {
      "text/plain": [
       "[1, 2, 3, 4, 5, 8]"
      ]
     },
     "execution_count": 85,
     "metadata": {},
     "output_type": "execute_result"
    }
   ],
   "source": [
    "t1=list(t1)\n",
    "\n",
    "t1"
   ]
  },
  {
   "cell_type": "code",
   "execution_count": 86,
   "id": "9054d7c6",
   "metadata": {},
   "outputs": [],
   "source": [
    "t1.append(9)"
   ]
  },
  {
   "cell_type": "code",
   "execution_count": 87,
   "id": "d0637bb3",
   "metadata": {},
   "outputs": [
    {
     "data": {
      "text/plain": [
       "[1, 2, 3, 4, 5, 8, 9]"
      ]
     },
     "execution_count": 87,
     "metadata": {},
     "output_type": "execute_result"
    }
   ],
   "source": [
    "t1"
   ]
  },
  {
   "cell_type": "code",
   "execution_count": 88,
   "id": "fdc3daef",
   "metadata": {},
   "outputs": [],
   "source": [
    "t1=tuple(t1)"
   ]
  },
  {
   "cell_type": "code",
   "execution_count": 89,
   "id": "4be8ff91",
   "metadata": {},
   "outputs": [
    {
     "data": {
      "text/plain": [
       "(1, 2, 3, 4, 5, 8, 9)"
      ]
     },
     "execution_count": 89,
     "metadata": {},
     "output_type": "execute_result"
    }
   ],
   "source": [
    "t1"
   ]
  },
  {
   "cell_type": "code",
   "execution_count": null,
   "id": "27d183c7",
   "metadata": {},
   "outputs": [],
   "source": []
  }
 ],
 "metadata": {
  "kernelspec": {
   "display_name": "Python 3 (ipykernel)",
   "language": "python",
   "name": "python3"
  },
  "language_info": {
   "codemirror_mode": {
    "name": "ipython",
    "version": 3
   },
   "file_extension": ".py",
   "mimetype": "text/x-python",
   "name": "python",
   "nbconvert_exporter": "python",
   "pygments_lexer": "ipython3",
   "version": "3.9.12"
  }
 },
 "nbformat": 4,
 "nbformat_minor": 5
}
