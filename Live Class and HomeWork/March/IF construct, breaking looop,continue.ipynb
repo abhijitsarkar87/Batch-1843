{
 "cells": [
  {
   "cell_type": "code",
   "execution_count": 1,
   "id": "860858b6",
   "metadata": {},
   "outputs": [],
   "source": [
    "# gREEN IS KEYWORD\n",
    "# inisialisation, condition,increment"
   ]
  },
  {
   "cell_type": "markdown",
   "id": "e9a19559",
   "metadata": {},
   "source": [
    "# IF CONSTRUCTS"
   ]
  },
  {
   "cell_type": "code",
   "execution_count": 2,
   "id": "0383ca8b",
   "metadata": {},
   "outputs": [
    {
     "name": "stdout",
     "output_type": "stream",
     "text": [
      "The marks is greater then 50\n"
     ]
    }
   ],
   "source": [
    "marks=60\n",
    "\n",
    "if marks>50:\n",
    "    print(\"The marks is greater then 50\")\n",
    "else:\n",
    "    print(\"The marks is less than 50\")"
   ]
  },
  {
   "cell_type": "code",
   "execution_count": 3,
   "id": "6cd37a0c",
   "metadata": {},
   "outputs": [
    {
     "name": "stdout",
     "output_type": "stream",
     "text": [
      "The marks is less than 50 and the result is 20\n"
     ]
    }
   ],
   "source": [
    "marks=20\n",
    "\n",
    "if marks>50:\n",
    "    print(\"The marks is greater than 50\")\n",
    "else:\n",
    "    print(\"The marks is less than 50 and the result is\",marks)"
   ]
  },
  {
   "cell_type": "code",
   "execution_count": 4,
   "id": "54da15d2",
   "metadata": {},
   "outputs": [
    {
     "name": "stdout",
     "output_type": "stream",
     "text": [
      "The value of x is greater than 100 \n"
     ]
    }
   ],
   "source": [
    "x=150\n",
    "\n",
    "if x>100:\n",
    "    print(\"The value of x is greater than 100 \")\n",
    "else:\n",
    "    print(\"The value of x is less than 100 it is\", x)"
   ]
  },
  {
   "cell_type": "code",
   "execution_count": 5,
   "id": "e709d22b",
   "metadata": {},
   "outputs": [
    {
     "name": "stdout",
     "output_type": "stream",
     "text": [
      "The value of Y is less then 100 it is 90\n"
     ]
    }
   ],
   "source": [
    "y=90\n",
    "\n",
    "if y>100:\n",
    "    print(\"Y is greater than 100\")\n",
    "else:\n",
    "    print(\"The value of Y is less then 100 it is\",y)"
   ]
  },
  {
   "cell_type": "code",
   "execution_count": 6,
   "id": "f677f9f2",
   "metadata": {},
   "outputs": [
    {
     "name": "stdout",
     "output_type": "stream",
     "text": [
      "The number is even 10\n"
     ]
    }
   ],
   "source": [
    "n=10\n",
    "\n",
    "#When n=10 is divided by 2,Then Remender is 0==0 then it will be even else odd\n",
    "\n",
    "# two equal sign is comparison. one qual is assignment operator\n",
    "\n",
    "if n%2==0:\n",
    "    print(\"The number is even\",n)\n",
    "else:\n",
    "    print(\"The number is odd\",n)\n"
   ]
  },
  {
   "cell_type": "code",
   "execution_count": 7,
   "id": "0690607a",
   "metadata": {},
   "outputs": [
    {
     "name": "stdout",
     "output_type": "stream",
     "text": [
      "The Number is odd\n"
     ]
    }
   ],
   "source": [
    "x=11\n",
    "\n",
    "if x%2==0:\n",
    "    print(\"The number is even\")\n",
    "else:\n",
    "    print(\"The Number is odd\")"
   ]
  },
  {
   "cell_type": "code",
   "execution_count": 8,
   "id": "5ff18748",
   "metadata": {},
   "outputs": [
    {
     "name": "stdout",
     "output_type": "stream",
     "text": [
      "The number is odd\n"
     ]
    }
   ],
   "source": [
    "z=11\n",
    "\n",
    "if z%2==1:\n",
    "    print(\"The number is odd\")\n",
    "else:\n",
    "    print(\"The number is even\")"
   ]
  },
  {
   "cell_type": "code",
   "execution_count": 9,
   "id": "09b0e230",
   "metadata": {},
   "outputs": [
    {
     "name": "stdout",
     "output_type": "stream",
     "text": [
      "The number is odd\n"
     ]
    }
   ],
   "source": [
    "z=13\n",
    "\n",
    "if z%2==1:\n",
    "    print(\"The number is odd\")\n",
    "else:\n",
    "    print(\"The Number is even\")"
   ]
  },
  {
   "cell_type": "code",
   "execution_count": 1,
   "id": "50f38da1",
   "metadata": {},
   "outputs": [
    {
     "name": "stdout",
     "output_type": "stream",
     "text": [
      "Please enter your desired number---->20\n",
      "I belive you have entered a EVEN number, that is 20\n"
     ]
    }
   ],
   "source": [
    "p=int(input(\"Please enter your desired number---->\"))\n",
    "\n",
    "if p%2==0:\n",
    "    print(\"I belive you have entered a EVEN number, that is\",p)\n",
    "else:\n",
    "    print(\"I belive its an ODD number\",p)"
   ]
  },
  {
   "cell_type": "code",
   "execution_count": 11,
   "id": "2928fce6",
   "metadata": {},
   "outputs": [
    {
     "name": "stdout",
     "output_type": "stream",
     "text": [
      "Please enter your Marks60\n",
      "Pass\n"
     ]
    }
   ],
   "source": [
    "Marks=int(input(\"Please enter your Marks\"))\n",
    "\n",
    "if Marks>=40:\n",
    "    print(\"Pass\")\n",
    "else:\n",
    "    print(\"Fail\")"
   ]
  },
  {
   "cell_type": "markdown",
   "id": "54112d58",
   "metadata": {},
   "source": [
    "BREAK STATEMENT>>>>>>>>>>>>>"
   ]
  },
  {
   "cell_type": "code",
   "execution_count": 12,
   "id": "5147c541",
   "metadata": {},
   "outputs": [
    {
     "name": "stdout",
     "output_type": "stream",
     "text": [
      "1\n",
      "2\n"
     ]
    }
   ],
   "source": [
    "for i in [1,2,3,4,5]:\n",
    "    if i==3:\n",
    "        break\n",
    "    print(i)"
   ]
  },
  {
   "cell_type": "code",
   "execution_count": 13,
   "id": "41e01a0f",
   "metadata": {},
   "outputs": [
    {
     "name": "stdout",
     "output_type": "stream",
     "text": [
      "apple\n",
      "mango\n"
     ]
    }
   ],
   "source": [
    "for i in [\"apple\",\"mango\",\"banana\",\"Orange\",\"grapes\"]:\n",
    "    if i==\"banana\":\n",
    "        break\n",
    "    print(i)\n",
    "   "
   ]
  },
  {
   "cell_type": "code",
   "execution_count": 1,
   "id": "dc6525ca",
   "metadata": {},
   "outputs": [],
   "source": [
    "for love in[\"fish\",\"ice-cream\",\"momos\",\"Pizza\"]:\n",
    "    if love==\"Pizza\":\n",
    "        break\n",
    "    print(love)"
   ]
  },
  {
   "cell_type": "code",
   "execution_count": 29,
   "id": "a4a517e6",
   "metadata": {},
   "outputs": [
    {
     "name": "stdout",
     "output_type": "stream",
     "text": [
      "10\n",
      "20\n"
     ]
    }
   ],
   "source": [
    "for k in [10,20,30,40,50]:\n",
    "    if k==30:\n",
    "        break\n",
    "    print(k)"
   ]
  },
  {
   "cell_type": "code",
   "execution_count": 15,
   "id": "7fae3e9e",
   "metadata": {},
   "outputs": [
    {
     "name": "stdout",
     "output_type": "stream",
     "text": [
      "1 end 1\n",
      "2 end 1\n",
      "3 end 1\n",
      "4 end 1\n",
      "5 end 1\n",
      "6 end 1\n",
      "7 end 1\n",
      "8 end 1\n",
      "Ended the loop\n"
     ]
    }
   ],
   "source": [
    "for c in [1,2,3,4,5,6,7,8,9,10]:\n",
    "    if c==9:\n",
    "        break\n",
    "    print(c,end=\" \")\n",
    "    print(\"end 1\")\n",
    "    \n",
    "print(\"Ended the loop\")"
   ]
  },
  {
   "cell_type": "code",
   "execution_count": 16,
   "id": "015b755e",
   "metadata": {},
   "outputs": [
    {
     "name": "stdout",
     "output_type": "stream",
     "text": [
      "21\n",
      "end\n",
      "34\n",
      "end\n",
      "54\n",
      "end\n",
      "Loop Ended\n"
     ]
    }
   ],
   "source": [
    "for n in[21,34,54,67,89,90]:\n",
    "    if n==67:\n",
    "        break\n",
    "    print(n)\n",
    "    print(\"end\")\n",
    "    \n",
    "print(\"Loop Ended\")"
   ]
  },
  {
   "cell_type": "code",
   "execution_count": 17,
   "id": "a3311f96",
   "metadata": {},
   "outputs": [
    {
     "name": "stdout",
     "output_type": "stream",
     "text": [
      "abc\n",
      "bcf\n",
      "ghf\n",
      "Ended the Loop\n"
     ]
    }
   ],
   "source": [
    "for k in [\"abc\",\"bcf\",\"ghf\",\"kio\",\"lkj\"]:\n",
    "    if k==\"kio\":\n",
    "        break\n",
    "    print(k)\n",
    "    \n",
    "print(\"Ended the Loop\")"
   ]
  },
  {
   "cell_type": "markdown",
   "id": "89eb059d",
   "metadata": {},
   "source": [
    "CONTINUE>>>>>>>>>>>>>>>>LOOP"
   ]
  },
  {
   "cell_type": "code",
   "execution_count": 18,
   "id": "a5580353",
   "metadata": {},
   "outputs": [
    {
     "name": "stdout",
     "output_type": "stream",
     "text": [
      "1 2 3 4 5 6 60 78 Ended the loop\n"
     ]
    }
   ],
   "source": [
    "for i in [1,2,3,4,5,6,60,7,78,]:\n",
    "    if i==7:\n",
    "        continue\n",
    "    print(i,end=\" \")\n",
    "    \n",
    "print(\"Ended the loop\")"
   ]
  },
  {
   "cell_type": "code",
   "execution_count": 19,
   "id": "27d8492c",
   "metadata": {},
   "outputs": [
    {
     "name": "stdout",
     "output_type": "stream",
     "text": [
      "10\n",
      "End\n",
      "20\n",
      "End\n",
      "30\n",
      "End\n",
      "40\n",
      "End\n",
      "50\n",
      "End\n",
      "60\n",
      "End\n",
      "Ended the continue statement\n"
     ]
    }
   ],
   "source": [
    "for j in[10,20,30,40,50,60,70]:\n",
    "    if j==70:\n",
    "        continue\n",
    "    print(j)\n",
    "    print(\"End\")\n",
    "    \n",
    "print(\"Ended the continue statement\")"
   ]
  },
  {
   "cell_type": "code",
   "execution_count": 22,
   "id": "bf70d56f",
   "metadata": {},
   "outputs": [
    {
     "name": "stdout",
     "output_type": "stream",
     "text": [
      "mango grapes Papaya banana Ended loop of continue\n"
     ]
    }
   ],
   "source": [
    "for pop in [\"mango\",\"grapes\",\"Papaya\",\"leamon\",\"banana\"]:\n",
    "    if pop==\"leamon\":\n",
    "        continue\n",
    "    print(pop,end=\" \")\n",
    "    \n",
    "print(\"Ended loop of continue\")"
   ]
  },
  {
   "cell_type": "code",
   "execution_count": 26,
   "id": "a9ef5b09",
   "metadata": {},
   "outputs": [
    {
     "name": "stdout",
     "output_type": "stream",
     "text": [
      "a b c e  alfa loop ended\n"
     ]
    }
   ],
   "source": [
    "for alfa in[\"a\",\"b\",\"c\",\"d\",\"e\"]:\n",
    "    if alfa==\"d\":\n",
    "        continue\n",
    "    print(alfa ,end=\" \")\n",
    "    \n",
    "print(\" alfa loop ended\")"
   ]
  },
  {
   "cell_type": "markdown",
   "id": "cb12096f",
   "metadata": {},
   "source": [
    "# <<<<< LIST COMPREHENSION>>>>>>>"
   ]
  },
  {
   "cell_type": "code",
   "execution_count": 27,
   "id": "101e0383",
   "metadata": {},
   "outputs": [
    {
     "data": {
      "text/plain": [
       "[10, 20, 30, 40, 50]"
      ]
     },
     "execution_count": 27,
     "metadata": {},
     "output_type": "execute_result"
    }
   ],
   "source": [
    "# MOVING DATA FROM LIST 1 TO ANOTHER LIST OR VARIABLE\n",
    "\n",
    "list1=[10,20,30,40,50]\n",
    "s=[s for s in list1]\n",
    "\n",
    "s"
   ]
  },
  {
   "cell_type": "code",
   "execution_count": 30,
   "id": "6344268a",
   "metadata": {},
   "outputs": [
    {
     "data": {
      "text/plain": [
       "[1, 2, 3, 4, 5, 6, 7, 8]"
      ]
     },
     "execution_count": 30,
     "metadata": {},
     "output_type": "execute_result"
    }
   ],
   "source": [
    "list2=[1,2,3,4,5,6,7,8]\n",
    "\n",
    "b=[b for b in list2]\n",
    "b"
   ]
  },
  {
   "cell_type": "code",
   "execution_count": 31,
   "id": "3ceb3fb8",
   "metadata": {},
   "outputs": [
    {
     "data": {
      "text/plain": [
       "[2, 4, 6, 8, 10]"
      ]
     },
     "execution_count": 31,
     "metadata": {},
     "output_type": "execute_result"
    }
   ],
   "source": [
    "# p for p in list2 where p modulus is equal to zero\n",
    "\n",
    "list2=[1,2,3,4,5,6,7,8,9,10]\n",
    "\n",
    "cb=[p for p in list2 if p%2==0]\n",
    "\n",
    "cb"
   ]
  },
  {
   "cell_type": "code",
   "execution_count": 32,
   "id": "98247909",
   "metadata": {},
   "outputs": [
    {
     "data": {
      "text/plain": [
       "[10, 12, 14, 16, 18, 20]"
      ]
     },
     "execution_count": 32,
     "metadata": {},
     "output_type": "execute_result"
    }
   ],
   "source": [
    "list3=[10,11,12,13,14,15,16,17,18,19,20]\n",
    "bc=[n for n in list3 if n%2==0]\n",
    "\n",
    "bc"
   ]
  },
  {
   "cell_type": "code",
   "execution_count": 33,
   "id": "259011c6",
   "metadata": {},
   "outputs": [
    {
     "data": {
      "text/plain": [
       "[1, 3, 5, 7, 9]"
      ]
     },
     "execution_count": 33,
     "metadata": {},
     "output_type": "execute_result"
    }
   ],
   "source": [
    "list4=[1,2,3,4,5,6,7,8,9,10]\n",
    "bn=[n for n in list4 if n%2!=0]\n",
    "\n",
    "bn"
   ]
  },
  {
   "cell_type": "code",
   "execution_count": 34,
   "id": "fbf91de0",
   "metadata": {},
   "outputs": [
    {
     "data": {
      "text/plain": [
       "[1, 3, 5, 7, 9]"
      ]
     },
     "execution_count": 34,
     "metadata": {},
     "output_type": "execute_result"
    }
   ],
   "source": [
    "list5=[1,2,3,4,5,6,7,8,9,10]\n",
    "bno=[n for n in list5 if n%2==1]\n",
    "\n",
    "bno"
   ]
  },
  {
   "cell_type": "code",
   "execution_count": null,
   "id": "7897884e",
   "metadata": {},
   "outputs": [],
   "source": []
  },
  {
   "cell_type": "code",
   "execution_count": 36,
   "id": "8f0270ea",
   "metadata": {},
   "outputs": [
    {
     "name": "stdout",
     "output_type": "stream",
     "text": [
      "21 12 31 41 556 end of break\n"
     ]
    }
   ],
   "source": [
    "#revision(break finction)\n",
    "\n",
    "for ic in [21,12,31,41,556,67,78]:\n",
    "    if ic==67:\n",
    "        break\n",
    "    print(ic, end=\" \")\n",
    "    \n",
    "print(\"end of break\")\n",
    "\n"
   ]
  },
  {
   "cell_type": "code",
   "execution_count": 37,
   "id": "ab457b1c",
   "metadata": {},
   "outputs": [
    {
     "name": "stdout",
     "output_type": "stream",
     "text": [
      "bokaro patna south parganas End of loop\n"
     ]
    }
   ],
   "source": [
    "for city in [\"bokaro\",\"patna\",\"south parganas\",\"north parganas\",\"delhi\"]:\n",
    "    if city==\"north parganas\":\n",
    "        break\n",
    "    print(city,end=\" \")\n",
    "    \n",
    "print(\"End of loop\")"
   ]
  },
  {
   "cell_type": "code",
   "execution_count": 38,
   "id": "1543688b",
   "metadata": {},
   "outputs": [
    {
     "name": "stdout",
     "output_type": "stream",
     "text": [
      "21\n",
      "23\n",
      "34\n",
      "56\n",
      "98\n",
      "90\n",
      "Ending continue loop without 78\n"
     ]
    }
   ],
   "source": [
    "#revision continue loop\n",
    "\n",
    "for ni in [21,23,34,56,78,98,90]:\n",
    "    if ni==78:\n",
    "        continue\n",
    "    print(ni)\n",
    "print(\"Ending continue loop without 78\")"
   ]
  },
  {
   "cell_type": "code",
   "execution_count": 47,
   "id": "4a3657ec",
   "metadata": {},
   "outputs": [
    {
     "name": "stdout",
     "output_type": "stream",
     "text": [
      "hcs school\n",
      "mgm school\n",
      "ggps school\n",
      "dav school\n",
      "xvs school\n",
      "cresent school\n",
      "Ending by removing dps from schools\n"
     ]
    }
   ],
   "source": [
    "for name in [\"hcs\",\"mgm\",\"dps\",\"ggps\",\"dav\",\"xvs\",\"cresent\"]:\n",
    "    if name==\"dps\":\n",
    "        continue\n",
    "    print(name, end=\" \")\n",
    "    print(\"school\")\n",
    "    \n",
    "print(\"Ending by removing dps from schools\")"
   ]
  },
  {
   "cell_type": "code",
   "execution_count": 51,
   "id": "99a73dc4",
   "metadata": {},
   "outputs": [
    {
     "name": "stdout",
     "output_type": "stream",
     "text": [
      "Enter the marks23\n",
      "Fail\n"
     ]
    }
   ],
   "source": [
    "marks=int(input(\"Enter the marks\"))\n",
    "\n",
    "if marks>50:\n",
    "    print(\"Pass\")\n",
    "else:\n",
    "    print(\"Fail\")"
   ]
  },
  {
   "cell_type": "code",
   "execution_count": 52,
   "id": "ebe3affa",
   "metadata": {},
   "outputs": [
    {
     "name": "stdout",
     "output_type": "stream",
     "text": [
      "the number is equal to twenty\n"
     ]
    }
   ],
   "source": [
    "x=20\n",
    "\n",
    "if x==20:\n",
    "    print(\"the number is equal to twenty\")\n",
    "else:\n",
    "    print(\"The number or then 20 or less than twenty\")"
   ]
  },
  {
   "cell_type": "code",
   "execution_count": 53,
   "id": "bde875d6",
   "metadata": {},
   "outputs": [
    {
     "name": "stdout",
     "output_type": "stream",
     "text": [
      "the number is more than 4O\n"
     ]
    }
   ],
   "source": [
    "y=50\n",
    "\n",
    "if y>40:\n",
    "    print(\"the number is more than 4O\")\n",
    "else:\n",
    "    print(\"the number is less than 40\")"
   ]
  },
  {
   "cell_type": "code",
   "execution_count": 54,
   "id": "f898afa2",
   "metadata": {},
   "outputs": [
    {
     "name": "stdout",
     "output_type": "stream",
     "text": [
      "Enter any number40\n",
      "number above 40 or above\n"
     ]
    }
   ],
   "source": [
    "y=int(input(\"Enter any number\"))\n",
    "\n",
    "if y>39:\n",
    "    print(\"number above 40 or above\")\n",
    "else:\n",
    "    print(\"number is less than 40\")"
   ]
  },
  {
   "cell_type": "code",
   "execution_count": 57,
   "id": "e02d557f",
   "metadata": {},
   "outputs": [
    {
     "data": {
      "text/plain": [
       "[12, 23, 45, 65, 78]"
      ]
     },
     "execution_count": 57,
     "metadata": {},
     "output_type": "execute_result"
    }
   ],
   "source": [
    "list5=[12,23,45,65,78]\n",
    "dp=[ s for s in list5]\n",
    "\n",
    "dp"
   ]
  },
  {
   "cell_type": "code",
   "execution_count": 60,
   "id": "499389ba",
   "metadata": {},
   "outputs": [
    {
     "data": {
      "text/plain": [
       "[12, 78]"
      ]
     },
     "execution_count": 60,
     "metadata": {},
     "output_type": "execute_result"
    }
   ],
   "source": [
    "list5=[12,23,45,65,78]\n",
    "\n",
    "hu=[d for d in list5 if d%2==0]\n",
    "hu"
   ]
  },
  {
   "cell_type": "code",
   "execution_count": 61,
   "id": "f119f9cf",
   "metadata": {},
   "outputs": [
    {
     "data": {
      "text/plain": [
       "[21, 23, 25, 27, 29]"
      ]
     },
     "execution_count": 61,
     "metadata": {},
     "output_type": "execute_result"
    }
   ],
   "source": [
    "list6=[21,22,23,24,25,26,27,28,29,30]\n",
    "op=[ds for ds in list6 if ds%2!=0]\n",
    "op"
   ]
  }
 ],
 "metadata": {
  "kernelspec": {
   "display_name": "Python 3 (ipykernel)",
   "language": "python",
   "name": "python3"
  },
  "language_info": {
   "codemirror_mode": {
    "name": "ipython",
    "version": 3
   },
   "file_extension": ".py",
   "mimetype": "text/x-python",
   "name": "python",
   "nbconvert_exporter": "python",
   "pygments_lexer": "ipython3",
   "version": "3.9.7"
  }
 },
 "nbformat": 4,
 "nbformat_minor": 5
}
