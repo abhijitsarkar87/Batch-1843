{
 "cells": [
  {
   "cell_type": "markdown",
   "id": "c5d31337",
   "metadata": {},
   "source": [
    "### Q1 Python Program to Find the Square Root"
   ]
  },
  {
   "cell_type": "code",
   "execution_count": 1,
   "id": "25140ee8",
   "metadata": {},
   "outputs": [
    {
     "name": "stdout",
     "output_type": "stream",
     "text": [
      "Enter a number: 5\n",
      "The Square Root of 5.0 is 2.23606797749979\n"
     ]
    }
   ],
   "source": [
    "num=float(input(\"Enter a number: \"))\n",
    "num_sqrt=num**0.5\n",
    "\n",
    "print(\"The Square Root of {} is {}\".format(num,num_sqrt))"
   ]
  },
  {
   "cell_type": "markdown",
   "id": "8e9bb1c4",
   "metadata": {},
   "source": [
    "### Q2. Python Program To add Two Numbers"
   ]
  },
  {
   "cell_type": "code",
   "execution_count": 4,
   "id": "49d7374f",
   "metadata": {},
   "outputs": [
    {
     "name": "stdout",
     "output_type": "stream",
     "text": [
      "Enter !st number : 2\n",
      "Enter @nd number : 3\n",
      "\n",
      "The SUM of 2 and 3 is 5\n"
     ]
    }
   ],
   "source": [
    "num1=int(input(\"Enter !st number : \"))\n",
    "num2=int(input(\"Enter @nd number : \"))\n",
    "sum=(num1+num2)\n",
    "print(\"\\nThe SUM of {} and {} is {}\".format(num1,num2,sum))"
   ]
  },
  {
   "cell_type": "markdown",
   "id": "06f4950e",
   "metadata": {},
   "source": [
    "### Q3. Python Program to Calculate the Area of a Triangle"
   ]
  },
  {
   "cell_type": "code",
   "execution_count": 5,
   "id": "d7698589",
   "metadata": {},
   "outputs": [
    {
     "name": "stdout",
     "output_type": "stream",
     "text": [
      "Enter First Number  : 23\n",
      "Enter Second Number : 24\n",
      "Enter Third Number  : 25\n",
      "SEMI_PERIMETER stands : 36.0\n",
      "The AREA of the Triange is 248.55\n"
     ]
    }
   ],
   "source": [
    "a=float(input(\"Enter First Number  : \"))\n",
    "b=float(input(\"Enter Second Number : \"))\n",
    "c=float(input(\"Enter Third Number  : \"))\n",
    "\n",
    "# SEMI_PERIMETER\n",
    "\n",
    "s=(a+b+c)/2\n",
    "\n",
    "# CALCULATE THE AREA\n",
    "\n",
    "area=(s*(s-a)*(s-b)*(s-c))**0.5\n",
    "print(\"SEMI_PERIMETER stands :\",s)\n",
    "print(\"The AREA of the Triange is %0.2f\"%(area))"
   ]
  },
  {
   "cell_type": "markdown",
   "id": "ccfbd0e6",
   "metadata": {},
   "source": [
    "### Q4. Python Program to Swap Two Variables"
   ]
  },
  {
   "cell_type": "code",
   "execution_count": 7,
   "id": "3578e822",
   "metadata": {},
   "outputs": [
    {
     "name": "stdout",
     "output_type": "stream",
     "text": [
      "Enter Value of X 2\n",
      "Enter Value of Y 3\n",
      "Value inserted of X is 2 and Y is 3\n",
      "\n",
      "After Swapping the X is 3 and Y is 2\n"
     ]
    }
   ],
   "source": [
    "x=int(input(\"Enter Value of X \"))\n",
    "y=int(input(\"Enter Value of Y \"))\n",
    "\n",
    "# printing inserted Value\n",
    "print(\"Value inserted of X is {} and Y is {}\".format(x,y))\n",
    "\n",
    "temp=x # value of x shifted to temp\n",
    "x=y # value of y is shifted to x\n",
    "y=temp # value of temp shifted to y\n",
    "\n",
    "print(\"\\nAfter Swapping the X is {} and Y is {}\".format(x,y))"
   ]
  },
  {
   "cell_type": "markdown",
   "id": "7cc17379",
   "metadata": {},
   "source": [
    "### Q5. Python Program to Convert Kilometers to Miles"
   ]
  },
  {
   "cell_type": "code",
   "execution_count": 8,
   "id": "e9d687ce",
   "metadata": {},
   "outputs": [
    {
     "name": "stdout",
     "output_type": "stream",
     "text": [
      "Enter the values of Kilometer2\n",
      "Appling Conversion Factor 0.62137119 on 2\n",
      "\n",
      "The value stands 1.242742\n"
     ]
    }
   ],
   "source": [
    "kilometers=int(input(\"Enter the values of Kilometer\"))\n",
    "\n",
    "# conversion factor\n",
    "conv_factor=0.62137119\n",
    "\n",
    "miles=kilometers*conv_factor\n",
    "print(\"Appling Conversion Factor {1} on {0}\".format(kilometers,conv_factor))\n",
    "print(\"\\nThe value stands %0.6f\"%(miles))"
   ]
  },
  {
   "cell_type": "markdown",
   "id": "69e6c79e",
   "metadata": {},
   "source": [
    "### Q6. Python Program to Convert Celsius To Fahrenheit \n",
    "\n",
    "- Formula F = °C × (9/5) + 32.\n"
   ]
  },
  {
   "cell_type": "code",
   "execution_count": 10,
   "id": "7bd0a06a",
   "metadata": {},
   "outputs": [
    {
     "name": "stdout",
     "output_type": "stream",
     "text": [
      "Enter the Temperature in celsius: 70\n",
      "70.00 Celsius is equals to 158.000 Fahrenheit\n"
     ]
    }
   ],
   "source": [
    "Celsius=int(input(\"Enter the Temperature in celsius: \"))\n",
    "\n",
    "# formula stands\n",
    "Fahrenheit=Celsius*(9/5)+32\n",
    "print(\"%0.2f Celsius is equals to %0.3f Fahrenheit\"%(Celsius,Fahrenheit))"
   ]
  },
  {
   "cell_type": "markdown",
   "id": "05c4ec09",
   "metadata": {},
   "source": [
    "# LIST"
   ]
  },
  {
   "cell_type": "markdown",
   "id": "5deb0d16",
   "metadata": {},
   "source": [
    "### Q1. Python Program to interchange first and last elements in a list"
   ]
  },
  {
   "cell_type": "code",
   "execution_count": 2,
   "id": "61ea0e02",
   "metadata": {},
   "outputs": [
    {
     "name": "stdout",
     "output_type": "stream",
     "text": [
      "Enter the number of elements you want in list5\n",
      "Enter value here: 1\n",
      "['1']\n",
      "Enter value here: 2\n",
      "['2', '1']\n",
      "Enter value here: 3\n",
      "['3', '1', '2']\n",
      "Enter value here: 4\n",
      "['4', '1', '2', '3']\n",
      "Enter value here: 5\n",
      "['5', '1', '2', '3', '4']\n"
     ]
    }
   ],
   "source": [
    "newlist=[]\n",
    "\n",
    "# total number of element required in list\n",
    "element=int(input(\"Enter the number of elements you want in list\"))\n",
    "\n",
    "# element requirement in list\n",
    "for i in range(0,element):\n",
    "    \n",
    "    # this list willl be appended as per the element feeded\n",
    "    list_element=input(\"Enter value here: \")\n",
    "    \n",
    "    # list being appended\n",
    "    newlist.append(list_element)\n",
    "    \n",
    "    newlist[0],newlist[-1]=newlist[-1],newlist[0]\n",
    "    \n",
    "    print(newlist)"
   ]
  },
  {
   "cell_type": "markdown",
   "id": "a3da4bc2",
   "metadata": {},
   "source": [
    "### Q2 Concate two lists into index-wise"
   ]
  },
  {
   "cell_type": "code",
   "execution_count": 3,
   "id": "8ab4ed26",
   "metadata": {},
   "outputs": [
    {
     "name": "stdout",
     "output_type": "stream",
     "text": [
      "['My', 'name', 'is', 'kelly']\n"
     ]
    }
   ],
   "source": [
    "list1=[\"M\",\"na\",\"i\",\"ke\"]\n",
    "list2=[\"y\",\"me\",\"s\",\"lly\"]\n",
    "\n",
    "list3=[i+j for i,j in zip(list1,list2)]\n",
    "print(list3)"
   ]
  },
  {
   "cell_type": "markdown",
   "id": "d2a4cb06",
   "metadata": {},
   "source": [
    "### Q3 Given a Python list. Turn every item of a list into square"
   ]
  },
  {
   "cell_type": "code",
   "execution_count": 6,
   "id": "47be0920",
   "metadata": {},
   "outputs": [
    {
     "data": {
      "text/plain": [
       "[1, 4, 9, 16, 25, 36, 49]"
      ]
     },
     "execution_count": 6,
     "metadata": {},
     "output_type": "execute_result"
    }
   ],
   "source": [
    "aList=[1,2,3,4,5,6,7]\n",
    "aList=[1,2,3,4,5,6,7]\n",
    "\n",
    "aList=[i*i for i in aList]\n",
    "aList"
   ]
  },
  {
   "cell_type": "markdown",
   "id": "637f5bb9",
   "metadata": {},
   "source": [
    "### Q4 Concate two lists in the following order"
   ]
  },
  {
   "cell_type": "code",
   "execution_count": 16,
   "id": "e3cc1012",
   "metadata": {},
   "outputs": [
    {
     "name": "stdout",
     "output_type": "stream",
     "text": [
      "['HelloDear', 'takeSir']\n"
     ]
    }
   ],
   "source": [
    "list1=[\"Hello\",\"take\"]\n",
    "list2=[\"Dear\",\"Sir\"]\n",
    "\n",
    "# zip will not help in such seniario\n",
    "list3=[i+j for i,j in zip(list1,list2)]\n",
    "print(list3)"
   ]
  },
  {
   "cell_type": "code",
   "execution_count": 18,
   "id": "7ed04412",
   "metadata": {},
   "outputs": [
    {
     "data": {
      "text/plain": [
       "['Hello Dear', 'Hello Sir', 'take Dear', 'take Sir']"
      ]
     },
     "execution_count": 18,
     "metadata": {},
     "output_type": "execute_result"
    }
   ],
   "source": [
    "newlist=[x+\" \"+y for x in list1 for y in list2]\n",
    "newlist"
   ]
  },
  {
   "cell_type": "markdown",
   "id": "47e66204",
   "metadata": {},
   "source": [
    "## Q5 Missing "
   ]
  },
  {
   "cell_type": "code",
   "execution_count": 13,
   "id": "075ee990",
   "metadata": {},
   "outputs": [
    {
     "data": {
      "text/plain": [
       "['Mike', 'Emma', 'Kelly', 'Brad']"
      ]
     },
     "execution_count": 13,
     "metadata": {},
     "output_type": "execute_result"
    }
   ],
   "source": [
    "### Q6 Removing empty strings from the list of strings\n",
    "\n",
    "list1=[\"Mike\",\"Emma\",\"Kelly\",\"\",\"Brad\"]\n",
    "\n",
    "newlist=list(filter(None,list1))\n",
    "newlist"
   ]
  },
  {
   "cell_type": "markdown",
   "id": "566afd54",
   "metadata": {},
   "source": [
    "# Dictation"
   ]
  },
  {
   "cell_type": "markdown",
   "id": "2a647cc9",
   "metadata": {},
   "source": [
    "### Q1: Below are the two lists convert it into the dictonary"
   ]
  },
  {
   "cell_type": "code",
   "execution_count": 22,
   "id": "2b4ca39d",
   "metadata": {},
   "outputs": [
    {
     "data": {
      "text/plain": [
       "{'ten': 10, 'Twenty': 20, 'Thirty': 30}"
      ]
     },
     "execution_count": 22,
     "metadata": {},
     "output_type": "execute_result"
    }
   ],
   "source": [
    "keys=[\"ten\",\"Twenty\",\"Thirty\"]\n",
    "values=[10,20,30]\n",
    "\n",
    "# we use dict(zip(keys,values))\n",
    "\n",
    "sampledict=dict(zip(keys,values))\n",
    "sampledict"
   ]
  },
  {
   "cell_type": "markdown",
   "id": "c2a3d2f9",
   "metadata": {},
   "source": [
    "### Q2. Merge following two Python dictionary into one"
   ]
  },
  {
   "cell_type": "code",
   "execution_count": 23,
   "id": "6926d1fe",
   "metadata": {},
   "outputs": [
    {
     "name": "stdout",
     "output_type": "stream",
     "text": [
      "{'Ten': 10, 'Twenty': 20, 'Thirty': 30, 'Fourty': 40, 'fifty': 50}\n"
     ]
    }
   ],
   "source": [
    "dict1={\"Ten\":10,\"Twenty\":20,\"Thirty\":30}\n",
    "dict2={\"Thirty\":30,\"Fourty\":40,\"fifty\":50}\n",
    "\n",
    "dict3={**dict1,**dict2}\n",
    "print(dict3)"
   ]
  },
  {
   "cell_type": "markdown",
   "id": "37fa9748",
   "metadata": {},
   "source": [
    "### Q3 Create a new dictionary by extracting the following keys from a given dictionary "
   ]
  },
  {
   "cell_type": "markdown",
   "id": "4a8dd70b",
   "metadata": {},
   "source": [
    "- Given Dictionary"
   ]
  },
  {
   "cell_type": "code",
   "execution_count": 28,
   "id": "7ab816a8",
   "metadata": {},
   "outputs": [
    {
     "name": "stdout",
     "output_type": "stream",
     "text": [
      "{'name': 'Kelly', 'Salary': 8000}\n"
     ]
    }
   ],
   "source": [
    "# dictionary named sampleD\n",
    "sampleD={\"name\":\"Kelly\",\"Age\":25,\"Salary\":8000,\"City\":\"New York\"}\n",
    "\n",
    "# keys needs to extracted from dictionary\n",
    "keys=['name','Salary']\n",
    "\n",
    "n = {k: sampleD[k] for k in keys}\n",
    "print(n)"
   ]
  },
  {
   "cell_type": "markdown",
   "id": "6baee882",
   "metadata": {},
   "source": [
    "### Q4. Check if a Value 200 exists in a dictionary"
   ]
  },
  {
   "cell_type": "code",
   "execution_count": 29,
   "id": "9b304eb5",
   "metadata": {},
   "outputs": [
    {
     "name": "stdout",
     "output_type": "stream",
     "text": [
      "True\n"
     ]
    }
   ],
   "source": [
    "# dictionary\n",
    "sampleDict={\"a\":100,\"b\":200,\"c\":300}\n",
    "\n",
    "# checking 200 in SampleDict values\n",
    "print(200 in sampleDict.values())"
   ]
  },
  {
   "cell_type": "markdown",
   "id": "2e819101",
   "metadata": {},
   "source": [
    "### Q5. Rename key city to location in the following Dictionary"
   ]
  },
  {
   "cell_type": "code",
   "execution_count": 32,
   "id": "3a33f90f",
   "metadata": {},
   "outputs": [
    {
     "name": "stdout",
     "output_type": "stream",
     "text": [
      "{'name': 'Kelly', 'Age': 25, 'Salary': 8000, 'location': 'NewYork'}\n"
     ]
    }
   ],
   "source": [
    "sampleDict={\"name\":\"Kelly\",\"Age\":25,\"Salary\":8000,\"City\":\"NewYork\"}\n",
    "\n",
    "sampleDict['location']=sampleDict.pop(\"City\")\n",
    "print(sampleDict)"
   ]
  },
  {
   "cell_type": "markdown",
   "id": "35b939ec",
   "metadata": {},
   "source": [
    "#### Q6. Get the key corresponding to the minimum values from the following dictionary"
   ]
  },
  {
   "cell_type": "code",
   "execution_count": 33,
   "id": "bd630562",
   "metadata": {},
   "outputs": [
    {
     "name": "stdout",
     "output_type": "stream",
     "text": [
      "Math\n"
     ]
    }
   ],
   "source": [
    "sampleDict={\"Physics\":82,\"Math\":62,\"History\":75}\n",
    "\n",
    "print(min(sampleDict,key=sampleDict.get))"
   ]
  },
  {
   "cell_type": "markdown",
   "id": "ed015772",
   "metadata": {},
   "source": [
    "# Loop"
   ]
  },
  {
   "cell_type": "markdown",
   "id": "df6e1a25",
   "metadata": {},
   "source": [
    "#### Q1 Python program to print only the odd numbers in given range"
   ]
  },
  {
   "cell_type": "code",
   "execution_count": 55,
   "id": "4033230c",
   "metadata": {},
   "outputs": [
    {
     "name": "stdout",
     "output_type": "stream",
     "text": [
      "Enter the smallest number2\n",
      "Enter the larger value11\n",
      "3,5,7,9,11,"
     ]
    }
   ],
   "source": [
    "num1=int(input(\"Enter the smallest number\"))\n",
    "num2=int(input(\"Enter the larger value\"))\n",
    "\n",
    "for i in range(num1,num2+1):\n",
    "    if (i%2)==0:\n",
    "        continue\n",
    "    else:\n",
    "        print(i,end=\",\")"
   ]
  },
  {
   "cell_type": "markdown",
   "id": "0dd930f2",
   "metadata": {},
   "source": [
    "#### Q2 Write a python Program that prints all the values which are odd and less than 500 from given list of numbers."
   ]
  },
  {
   "cell_type": "code",
   "execution_count": 60,
   "id": "4c7ba1fc",
   "metadata": {},
   "outputs": [
    {
     "name": "stdout",
     "output_type": "stream",
     "text": [
      "69,319,485,83,165,141,263,219,105,47,375,345,399,219,237,217,67,81,379,445,451,93,"
     ]
    }
   ],
   "source": [
    "numbers=[951, 402, 984, 651, 360, 69, 408, 319, 601, 485, 980, 507, 725, 547, 544,\n",
    "    615, 83, 165, 141, 501, 263, 617, 865, 575, 219, 390, 984, 592, 236, 105, 942, 941,\n",
    "    386, 462, 47, 418, 907, 344, 236, 375, 823, 566, 597, 978, 328, 615, 953, 345,\n",
    "    399, 162, 758, 219, 918, 237, 412, 566, 826, 248, 866, 950, 626, 949, 687, 217,\n",
    "    815, 67, 104, 58, 512, 24, 892, 894, 767, 553, 81, 379, 843, 831, 445, 742, 717,\n",
    "    958, 609, 842, 451, 688, 753, 854, 685, 93, 857, 440, 380, 126, 721, 328, 753, 470,\n",
    "    743, 527]\n",
    "\n",
    "for i in numbers:\n",
    "    if i>500 or i%2==0:\n",
    "        continue\n",
    "        \n",
    "    else: \n",
    "        print(i,end=\",\")"
   ]
  },
  {
   "cell_type": "markdown",
   "id": "1e1192b4",
   "metadata": {},
   "source": [
    "#### Q3. Find all the numbers from given list which are factor of both 3,7"
   ]
  },
  {
   "cell_type": "code",
   "execution_count": 61,
   "id": "5f8f0e82",
   "metadata": {},
   "outputs": [
    {
     "name": "stdout",
     "output_type": "stream",
     "text": [
      "651,105,462,399,609,126,"
     ]
    }
   ],
   "source": [
    "for i in numbers:\n",
    "    if i%3==0 and i%7==0:\n",
    "        print(i,end=\",\")"
   ]
  },
  {
   "cell_type": "markdown",
   "id": "10f54ceb",
   "metadata": {},
   "source": [
    "#### Q4. Find the largets number from the given list"
   ]
  },
  {
   "cell_type": "code",
   "execution_count": 67,
   "id": "af7f8a3b",
   "metadata": {},
   "outputs": [
    {
     "name": "stdout",
     "output_type": "stream",
     "text": [
      "984\n"
     ]
    }
   ],
   "source": [
    "# maximum is set to zero\n",
    "max=0\n",
    "\n",
    "for i in numbers:# checking numbers\n",
    "    \n",
    "    # i is greater than max, max is that number i\n",
    "    if i>max:\n",
    "        max=i\n",
    "        \n",
    "print(max)"
   ]
  },
  {
   "cell_type": "markdown",
   "id": "83da5efc",
   "metadata": {},
   "source": [
    "#### Q5 Find the squares of odd numbers and cube roots of even number from the list above"
   ]
  },
  {
   "cell_type": "code",
   "execution_count": 73,
   "id": "e77ec952",
   "metadata": {},
   "outputs": [
    {
     "name": "stdout",
     "output_type": "stream",
     "text": [
      "Square:  951 is 904401 Cube Root:  402 is 64964808 Cube Root:  984 is 952763904 Square:  651 is 423801 Cube Root:  360 is 46656000 Square:  69 is 4761 Cube Root:  408 is 67917312 Square:  319 is 101761 Square:  601 is 361201 Square:  485 is 235225 Cube Root:  980 is 941192000 Square:  507 is 257049 Square:  725 is 525625 Square:  547 is 299209 Cube Root:  544 is 160989184 Square:  615 is 378225 Square:  83 is 6889 Square:  165 is 27225 Square:  141 is 19881 Square:  501 is 251001 Square:  263 is 69169 Square:  617 is 380689 Square:  865 is 748225 Square:  575 is 330625 Square:  219 is 47961 Cube Root:  390 is 59319000 Cube Root:  984 is 952763904 Cube Root:  592 is 207474688 Cube Root:  236 is 13144256 Square:  105 is 11025 Cube Root:  942 is 835896888 Square:  941 is 885481 Cube Root:  386 is 57512456 Cube Root:  462 is 98611128 Square:  47 is 2209 Cube Root:  418 is 73034632 Square:  907 is 822649 Cube Root:  344 is 40707584 Cube Root:  236 is 13144256 Square:  375 is 140625 Square:  823 is 677329 Cube Root:  566 is 181321496 Square:  597 is 356409 Cube Root:  978 is 935441352 Cube Root:  328 is 35287552 Square:  615 is 378225 Square:  953 is 908209 Square:  345 is 119025 Square:  399 is 159201 Cube Root:  162 is 4251528 Cube Root:  758 is 435519512 Square:  219 is 47961 Cube Root:  918 is 773620632 Square:  237 is 56169 Cube Root:  412 is 69934528 Cube Root:  566 is 181321496 Cube Root:  826 is 563559976 Cube Root:  248 is 15252992 Cube Root:  866 is 649461896 Cube Root:  950 is 857375000 Cube Root:  626 is 245314376 Square:  949 is 900601 Square:  687 is 471969 Square:  217 is 47089 Square:  815 is 664225 Square:  67 is 4489 Cube Root:  104 is 1124864 Cube Root:  58 is 195112 Cube Root:  512 is 134217728 Cube Root:  24 is 13824 Cube Root:  892 is 709732288 Cube Root:  894 is 714516984 Square:  767 is 588289 Square:  553 is 305809 Square:  81 is 6561 Square:  379 is 143641 Square:  843 is 710649 Square:  831 is 690561 Square:  445 is 198025 Cube Root:  742 is 408518488 Square:  717 is 514089 Cube Root:  958 is 879217912 Square:  609 is 370881 Cube Root:  842 is 596947688 Square:  451 is 203401 Cube Root:  688 is 325660672 Square:  753 is 567009 Cube Root:  854 is 622835864 Square:  685 is 469225 Square:  93 is 8649 Square:  857 is 734449 Cube Root:  440 is 85184000 Cube Root:  380 is 54872000 Cube Root:  126 is 2000376 Square:  721 is 519841 Cube Root:  328 is 35287552 Square:  753 is 567009 Cube Root:  470 is 103823000 Square:  743 is 552049 Square:  527 is 277729 "
     ]
    }
   ],
   "source": [
    "for i in numbers:\n",
    "    if i%2==0:\n",
    "        print(\"Cube Root: \",i,\"is\",i**3,end=\" \")\n",
    "    else:\n",
    "        print(\"Square: \",i,\"is\",i**2,end=\" \")"
   ]
  },
  {
   "cell_type": "markdown",
   "id": "d2d29adc",
   "metadata": {},
   "source": [
    "#### Q6. Print First 10 natural numbers using while loop"
   ]
  },
  {
   "cell_type": "code",
   "execution_count": 81,
   "id": "e0ce39a3",
   "metadata": {
    "scrolled": false
   },
   "outputs": [
    {
     "name": "stdout",
     "output_type": "stream",
     "text": [
      "0 1 2 3 4 5 6 7 8 9 10 "
     ]
    }
   ],
   "source": [
    "#starts with i=0\n",
    "i=0\n",
    "\n",
    "# while loop till 10\n",
    "while i<=10:\n",
    "    \n",
    "    print(i,end=\" \")\n",
    "    \n",
    "    i+=1"
   ]
  },
  {
   "cell_type": "markdown",
   "id": "ecda2083",
   "metadata": {},
   "source": [
    "#### Q7. Print the following pattern\n",
    "\n",
    "- 1 \n",
    "- 1 2 \n",
    "- 1 2 3 \n",
    "- 1 2 3 4 \n",
    "- 1 2 3 4 5"
   ]
  },
  {
   "cell_type": "code",
   "execution_count": 85,
   "id": "8f59ba29",
   "metadata": {},
   "outputs": [
    {
     "name": "stdout",
     "output_type": "stream",
     "text": [
      "Second Number Pattern\n",
      "1  \n",
      "1 2  \n",
      "1 2 3  \n",
      "1 2 3 4  \n",
      "1 2 3 4 5  \n"
     ]
    }
   ],
   "source": [
    "print(\"Second Number Pattern\")\n",
    "\n",
    "lastNumber=6\n",
    "\n",
    "for row in range(1,lastNumber):\n",
    "    for column in range(1,row+1):\n",
    "        print(column,end=\" \")\n",
    "    print(\" \")"
   ]
  },
  {
   "cell_type": "markdown",
   "id": "caeddc3f",
   "metadata": {},
   "source": [
    "#### Q8 Python Program to find the factorial of number"
   ]
  },
  {
   "cell_type": "code",
   "execution_count": 87,
   "id": "c40a6e76",
   "metadata": {},
   "outputs": [
    {
     "name": "stdout",
     "output_type": "stream",
     "text": [
      "Enter a number: 6\n",
      "The factorial of 6 is 720\n"
     ]
    }
   ],
   "source": [
    "num=int(input(\"Enter a number: \"))\n",
    "\n",
    "#factorial is 1\n",
    "factorial=1\n",
    "\n",
    "# check if the number is negative, postive or zero\n",
    "if num<0: # if number is less than zero\n",
    "    print(\"Sorry, Factorial does not for negative number\")\n",
    "    \n",
    "elif num==0:\n",
    "    print(\"The Factorial of 0 is 1\")\n",
    "else:\n",
    "    for i in range(1,num+1):\n",
    "        factorial=factorial*i\n",
    "    print(\"The factorial of {} is {}\".format(num,factorial))"
   ]
  },
  {
   "cell_type": "markdown",
   "id": "ca5c129e",
   "metadata": {},
   "source": [
    "# If else Costruction"
   ]
  },
  {
   "cell_type": "markdown",
   "id": "eaa92ff5",
   "metadata": {},
   "source": [
    "#### 1. Python Program to check if a Number is Odd or Even"
   ]
  },
  {
   "cell_type": "code",
   "execution_count": 92,
   "id": "ba52bf41",
   "metadata": {},
   "outputs": [
    {
     "name": "stdout",
     "output_type": "stream",
     "text": [
      "Please Enter any Number3\n",
      "The Number 3 is ODD\n"
     ]
    }
   ],
   "source": [
    "num=int(input(\"Please Enter any Number\"))\n",
    "\n",
    "\n",
    "if num%2==0:\n",
    "    print(\"The Number {} is EVEN\".format(num))\n",
    "else:\n",
    "    print(\"The Number {} is ODD\".format(num))"
   ]
  },
  {
   "cell_type": "markdown",
   "id": "1f0e3325",
   "metadata": {},
   "source": [
    "#### 2. Python Program to check if a Number is Positive, Negative or 0"
   ]
  },
  {
   "cell_type": "code",
   "execution_count": 93,
   "id": "7164c2b9",
   "metadata": {},
   "outputs": [
    {
     "name": "stdout",
     "output_type": "stream",
     "text": [
      "Enter a number: -1\n",
      "Negative Number\n"
     ]
    }
   ],
   "source": [
    "num= float(input(\"Enter a number: \"))\n",
    "\n",
    "# number is greater than 0\n",
    "if num>0:\n",
    "    print(\"Positive Number\")\n",
    "    \n",
    "# number is equal to zero\n",
    "elif num == 0:\n",
    "    print(\"Zero\")\n",
    "    \n",
    "# number is negative number    \n",
    "else:\n",
    "    print(\"Negative Number\")"
   ]
  },
  {
   "cell_type": "markdown",
   "id": "1828955f",
   "metadata": {},
   "source": [
    "#### Q3. Python Program to check Leap Year? "
   ]
  },
  {
   "cell_type": "code",
   "execution_count": 94,
   "id": "e1823948",
   "metadata": {},
   "outputs": [
    {
     "name": "stdout",
     "output_type": "stream",
     "text": [
      "Enter a year: 2004\n",
      "2004 is a leap year\n"
     ]
    }
   ],
   "source": [
    "year=int(input(\"Enter a year: \"))\n",
    "\n",
    "if (year%4)==0: \n",
    "    if(year%100)==0:\n",
    "        if(year % 400)==0:\n",
    "            print(\"{0} is a leap year\".format(year))\n",
    "        else:\n",
    "            print(\"{0} is not an leap year\".format(year))\n",
    "    else:\n",
    "        print(\"{0} is a leap year\".format(year))\n",
    "else:\n",
    "    print(\"{0} is not a leap year \".format(year))"
   ]
  },
  {
   "cell_type": "markdown",
   "id": "74386a35",
   "metadata": {},
   "source": [
    "#### Q4. Python program to Find the Largest Among Three Numbers "
   ]
  },
  {
   "cell_type": "code",
   "execution_count": 95,
   "id": "7cc424f8",
   "metadata": {},
   "outputs": [
    {
     "name": "stdout",
     "output_type": "stream",
     "text": [
      "Enter First Number:  3\n",
      "Enter Second number: 4\n",
      "Enter Third Number:  4\n",
      "The largest number is  4.0\n"
     ]
    }
   ],
   "source": [
    "num1=float(input(\"Enter First Number:  \"))\n",
    "num2=float(input(\"Enter Second number: \"))\n",
    "num3=float(input(\"Enter Third Number:  \"))\n",
    "#9873425424\n",
    "\n",
    "if (num1>=num2) and (num1>=num3):\n",
    "    largest=num1\n",
    "    \n",
    "elif (num2>=num1) and (num2>=num3):\n",
    "    largest=num2\n",
    "    \n",
    "else:\n",
    "    largest=num3\n",
    "\n",
    "print(\"The largest number is \",largest)"
   ]
  },
  {
   "cell_type": "markdown",
   "id": "70721b8b",
   "metadata": {},
   "source": [
    "#### Q5. Python Program to Check if a person can vote or not?"
   ]
  },
  {
   "cell_type": "code",
   "execution_count": 97,
   "id": "aab9fd08",
   "metadata": {},
   "outputs": [
    {
     "name": "stdout",
     "output_type": "stream",
     "text": [
      "Enter your age: 20\n",
      "You can vote\n"
     ]
    }
   ],
   "source": [
    "num= int(input(\"Enter your age: \"))\n",
    "\n",
    "if num>170:\n",
    "    print(\"You can Vote\")\n",
    "else:\n",
    "    print(\"You can vote\")"
   ]
  },
  {
   "cell_type": "markdown",
   "id": "7f2bffdc",
   "metadata": {},
   "source": [
    "# Functions"
   ]
  },
  {
   "cell_type": "markdown",
   "id": "15b3ff9c",
   "metadata": {},
   "source": [
    "#### Q1 Python Program to Find Number Divisible by Another Number"
   ]
  },
  {
   "cell_type": "code",
   "execution_count": 99,
   "id": "b886d192",
   "metadata": {},
   "outputs": [
    {
     "name": "stdout",
     "output_type": "stream",
     "text": [
      "Enter First Number:   2\n",
      "Enter Secound Number: 4\n",
      "Enter the Number you want to check: 3\n",
      "2,4 are not divisible by 3\n"
     ]
    }
   ],
   "source": [
    "def divisiblity():\n",
    "    \n",
    "    x=int(input(\"Enter First Number:   \"))\n",
    "    y=int(input(\"Enter Secound Number: \"))\n",
    "    z=int(input(\"Enter the Number you want to check: \"))\n",
    "    \n",
    "    if x%z==0 and y%z==0:\n",
    "        print(f\"{x},{y} are divisible by {z}\")\n",
    "    else:\n",
    "        print(f\"{x},{y} are not divisible by {z}\")\n",
    "\n",
    "divisiblity()"
   ]
  },
  {
   "cell_type": "markdown",
   "id": "730b04f5",
   "metadata": {},
   "source": [
    "### Q2 Python Program to check if a given number is prime or not. "
   ]
  },
  {
   "cell_type": "code",
   "execution_count": 101,
   "id": "bdf1cab0",
   "metadata": {},
   "outputs": [],
   "source": [
    "def prime(num):\n",
    "    \n",
    "    #Prime numbers are greater than 1.\n",
    "    \n",
    "    if num>1:\n",
    "        # check for factors\n",
    "        for i in range(2,num):\n",
    "            if (num%i)==0:\n",
    "                print(num,\"is not a prime number\")\n",
    "                print(i,\"times\",num//i,\"is\",num)\n",
    "                \n",
    "                break\n",
    "                \n",
    "            else:\n",
    "                print(num,\"is a Prime Number\")\n",
    "            # if input number is less than\n",
    "            # or equal to 1, it is not prime\n",
    "            \n",
    "        else:\n",
    "            print(num,\"is not a Prime Number\")"
   ]
  },
  {
   "cell_type": "code",
   "execution_count": 102,
   "id": "a471fce1",
   "metadata": {},
   "outputs": [
    {
     "name": "stdout",
     "output_type": "stream",
     "text": [
      "4 is not a prime number\n",
      "2 times 2 is 4\n"
     ]
    }
   ],
   "source": [
    "prime(4)"
   ]
  },
  {
   "cell_type": "markdown",
   "id": "90fe3f7e",
   "metadata": {},
   "source": [
    "### Q3. Write a python function to find factorial of number."
   ]
  },
  {
   "cell_type": "code",
   "execution_count": 104,
   "id": "87b8c7dd",
   "metadata": {},
   "outputs": [
    {
     "name": "stdout",
     "output_type": "stream",
     "text": [
      "Enter a Number: 5\n",
      "The factorial of 5  is  120\n"
     ]
    }
   ],
   "source": [
    "def Factorial():\n",
    "    \n",
    "    num=int(input(\"Enter a Number: \"))\n",
    "    \n",
    "    factorial=1\n",
    "    \n",
    "    # check if number is less than zero the factorial is not possible \n",
    "    if num<0:\n",
    "        print(\"Sorry the Factorial doesn't exist for negative Numbers\")\n",
    "        \n",
    "    elif num==0:\n",
    "        print(\"The factorial of 0 is 1\")\n",
    "        \n",
    "    else:\n",
    "        \n",
    "        for i in range(1,num+1):\n",
    "            factorial=factorial*i\n",
    "            \n",
    "        print(\"The factorial of\",num,\" is \",factorial)\n",
    "        \n",
    "Factorial()"
   ]
  },
  {
   "cell_type": "code",
   "execution_count": 105,
   "id": "86d1f575",
   "metadata": {},
   "outputs": [
    {
     "name": "stdout",
     "output_type": "stream",
     "text": [
      "Enter a Number: -1\n",
      "Sorry the Factorial doesn't exist for negative Numbers\n"
     ]
    }
   ],
   "source": [
    "Factorial()"
   ]
  },
  {
   "cell_type": "code",
   "execution_count": 106,
   "id": "a78adbcb",
   "metadata": {},
   "outputs": [
    {
     "name": "stdout",
     "output_type": "stream",
     "text": [
      "Enter a Number: 0\n",
      "The factorial of 0 is 1\n"
     ]
    }
   ],
   "source": [
    "Factorial()"
   ]
  },
  {
   "cell_type": "markdown",
   "id": "fcbe3010",
   "metadata": {},
   "source": [
    "### Python Program to Find HCF"
   ]
  },
  {
   "cell_type": "code",
   "execution_count": 107,
   "id": "49671eff",
   "metadata": {},
   "outputs": [
    {
     "data": {
      "text/plain": [
       "24"
      ]
     },
     "execution_count": 107,
     "metadata": {},
     "output_type": "execute_result"
    }
   ],
   "source": [
    "def compute_lcm(x,y):\n",
    "    if x>y:\n",
    "        greater =x\n",
    "    else:\n",
    "        greater =y\n",
    "        \n",
    "    while(True):\n",
    "        if ((greater%x==0)and(greater%y==0)):\n",
    "            lcm=greater\n",
    "            break\n",
    "        greater+=1\n",
    "    return lcm\n",
    "\n",
    "compute_lcm(12,8)"
   ]
  },
  {
   "cell_type": "markdown",
   "id": "a0ac79a1",
   "metadata": {},
   "source": [
    "### Q6. Write a function func1() such that it can accept a variable length of  argument and print all arguments value"
   ]
  },
  {
   "cell_type": "code",
   "execution_count": 109,
   "id": "a66fc401",
   "metadata": {},
   "outputs": [],
   "source": [
    "def func1(*args):\n",
    "    for i in args:\n",
    "        print(i)"
   ]
  },
  {
   "cell_type": "code",
   "execution_count": 110,
   "id": "f71c2e94",
   "metadata": {},
   "outputs": [
    {
     "name": "stdout",
     "output_type": "stream",
     "text": [
      "80\n",
      "100\n"
     ]
    }
   ],
   "source": [
    "func1(80,100)"
   ]
  },
  {
   "cell_type": "code",
   "execution_count": 111,
   "id": "0474b834",
   "metadata": {},
   "outputs": [
    {
     "name": "stdout",
     "output_type": "stream",
     "text": [
      "20\n",
      "40\n",
      "60\n"
     ]
    }
   ],
   "source": [
    "func1(20,40,60)"
   ]
  },
  {
   "cell_type": "markdown",
   "id": "5b1782ad",
   "metadata": {},
   "source": [
    "### Q7. Create an inner function to calculate the addition in the following way Create an outer function that will accept two parameters a and b. Create an inner function inside an outer function that will calculate the addition of a and b, At last, on outer function will add 5 into addition and return it."
   ]
  },
  {
   "cell_type": "code",
   "execution_count": 113,
   "id": "e20a06e9",
   "metadata": {},
   "outputs": [
    {
     "data": {
      "text/plain": [
       "20"
      ]
     },
     "execution_count": 113,
     "metadata": {},
     "output_type": "execute_result"
    }
   ],
   "source": [
    "def outerFun(a,b):\n",
    "    square=a**2\n",
    "    \n",
    "    def innerFun(a,b):\n",
    "        return a+b\n",
    "    \n",
    "    add= innerFun(a,b)\n",
    "    return add+5\n",
    "\n",
    "outerFun(5,10)"
   ]
  },
  {
   "cell_type": "markdown",
   "id": "b0f09312",
   "metadata": {},
   "source": [
    "### Q8. Create the largest item from the given list"
   ]
  },
  {
   "cell_type": "code",
   "execution_count": 1,
   "id": "ddd80c59",
   "metadata": {},
   "outputs": [
    {
     "data": {
      "text/plain": [
       "24"
      ]
     },
     "execution_count": 1,
     "metadata": {},
     "output_type": "execute_result"
    }
   ],
   "source": [
    "a=[4,6,8,24,12,2]\n",
    "max(a)"
   ]
  },
  {
   "cell_type": "code",
   "execution_count": 2,
   "id": "edfe4167",
   "metadata": {},
   "outputs": [
    {
     "name": "stdout",
     "output_type": "stream",
     "text": [
      "Requirement already satisfied: nltk in c:\\users\\jitsa\\anaconda3\\lib\\site-packages (3.7)\n",
      "Requirement already satisfied: joblib in c:\\users\\jitsa\\anaconda3\\lib\\site-packages (from nltk) (1.1.0)\n",
      "Requirement already satisfied: click in c:\\users\\jitsa\\anaconda3\\lib\\site-packages (from nltk) (8.0.4)\n",
      "Requirement already satisfied: regex>=2021.8.3 in c:\\users\\jitsa\\anaconda3\\lib\\site-packages (from nltk) (2022.7.9)\n",
      "Requirement already satisfied: tqdm in c:\\users\\jitsa\\anaconda3\\lib\\site-packages (from nltk) (4.64.1)\n",
      "Requirement already satisfied: colorama in c:\\users\\jitsa\\anaconda3\\lib\\site-packages (from click->nltk) (0.4.5)\n",
      "Note: you may need to restart the kernel to use updated packages.\n"
     ]
    }
   ],
   "source": [
    "#pip install nltk"
   ]
  },
  {
   "cell_type": "code",
   "execution_count": null,
   "id": "9b2b895f",
   "metadata": {},
   "outputs": [
    {
     "name": "stdout",
     "output_type": "stream",
     "text": [
      "showing info https://raw.githubusercontent.com/nltk/nltk_data/gh-pages/index.xml\n"
     ]
    }
   ],
   "source": [
    "import nltk\n",
    "nltk.download()"
   ]
  },
  {
   "cell_type": "code",
   "execution_count": null,
   "id": "c1e2dd77",
   "metadata": {},
   "outputs": [],
   "source": []
  }
 ],
 "metadata": {
  "kernelspec": {
   "display_name": "Python 3 (ipykernel)",
   "language": "python",
   "name": "python3"
  },
  "language_info": {
   "codemirror_mode": {
    "name": "ipython",
    "version": 3
   },
   "file_extension": ".py",
   "mimetype": "text/x-python",
   "name": "python",
   "nbconvert_exporter": "python",
   "pygments_lexer": "ipython3",
   "version": "3.9.13"
  }
 },
 "nbformat": 4,
 "nbformat_minor": 5
}
