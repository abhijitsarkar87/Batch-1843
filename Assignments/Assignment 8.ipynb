{
 "cells": [
  {
   "cell_type": "markdown",
   "id": "096f3520",
   "metadata": {},
   "source": [
    "## Q1 Convert two lists into a Dictonary"
   ]
  },
  {
   "cell_type": "code",
   "execution_count": 1,
   "id": "580680be",
   "metadata": {},
   "outputs": [],
   "source": [
    "keys=['Ten','Twenty','Thirty']\n",
    "values=[10,20,30]"
   ]
  },
  {
   "cell_type": "code",
   "execution_count": 3,
   "id": "ab497cf6",
   "metadata": {},
   "outputs": [
    {
     "name": "stdout",
     "output_type": "stream",
     "text": [
      "{'Ten': 10, 'Twenty': 20, 'Thirty': 30}\n"
     ]
    }
   ],
   "source": [
    "res_dict =dict(zip(keys,values))\n",
    "print(res_dict)"
   ]
  },
  {
   "cell_type": "markdown",
   "id": "fa42388f",
   "metadata": {},
   "source": [
    "#### solution2"
   ]
  },
  {
   "cell_type": "code",
   "execution_count": 5,
   "id": "5ccb3c3b",
   "metadata": {},
   "outputs": [
    {
     "data": {
      "text/plain": [
       "{}"
      ]
     },
     "execution_count": 5,
     "metadata": {},
     "output_type": "execute_result"
    }
   ],
   "source": [
    "#empty dict\n",
    "res_dict=dict()\n",
    "res_dict"
   ]
  },
  {
   "cell_type": "code",
   "execution_count": 6,
   "id": "2dc27093",
   "metadata": {},
   "outputs": [
    {
     "name": "stdout",
     "output_type": "stream",
     "text": [
      "{'Ten': 10, 'Twenty': 20, 'Thirty': 30}\n"
     ]
    }
   ],
   "source": [
    "for i in range(len(keys)):\n",
    "    res_dict.update({keys[i]:values[i]})\n",
    "    \n",
    "print(res_dict)"
   ]
  },
  {
   "cell_type": "markdown",
   "id": "584229b7",
   "metadata": {},
   "source": [
    "### Exercise 2: Merge two Python Dictionaries into one"
   ]
  },
  {
   "cell_type": "code",
   "execution_count": 7,
   "id": "06aa15e1",
   "metadata": {},
   "outputs": [],
   "source": [
    "#dic1\n",
    "dict1={'Ten':10,\"Twenty\":20,\"Thirty\":30}\n",
    "#dic2\n",
    "dict2={\"Thirty\":30,\"Fourty\":40,\"Fifty\":50}"
   ]
  },
  {
   "cell_type": "code",
   "execution_count": 8,
   "id": "1402064a",
   "metadata": {},
   "outputs": [
    {
     "name": "stdout",
     "output_type": "stream",
     "text": [
      "{'Ten': 10, 'Twenty': 20, 'Thirty': 30, 'Fourty': 40, 'Fifty': 50}\n"
     ]
    }
   ],
   "source": [
    "dict1.update(dict2)\n",
    "print(dict1)"
   ]
  },
  {
   "cell_type": "markdown",
   "id": "cd4ae2ff",
   "metadata": {},
   "source": [
    "### Exercise 3, Initialization dictionary with default values:"
   ]
  },
  {
   "cell_type": "code",
   "execution_count": 9,
   "id": "ab667dc6",
   "metadata": {},
   "outputs": [],
   "source": [
    "#Given:\n",
    "employees=['Kelly','Emma']\n",
    "defaults={'designation':'developer','Salary':8000}"
   ]
  },
  {
   "cell_type": "code",
   "execution_count": 10,
   "id": "d4ae632f",
   "metadata": {},
   "outputs": [
    {
     "name": "stdout",
     "output_type": "stream",
     "text": [
      "{'Kelly': {'designation': 'developer', 'Salary': 8000}, 'Emma': {'designation': 'developer', 'Salary': 8000}}\n"
     ]
    }
   ],
   "source": [
    "res=dict.fromkeys(employees,defaults)\n",
    "print(res)"
   ]
  },
  {
   "cell_type": "code",
   "execution_count": 12,
   "id": "e680438f",
   "metadata": {},
   "outputs": [
    {
     "name": "stdout",
     "output_type": "stream",
     "text": [
      "{'designation': 'developer', 'Salary': 8000}\n"
     ]
    }
   ],
   "source": [
    "#individual data\n",
    "print(res['Kelly'])"
   ]
  },
  {
   "cell_type": "code",
   "execution_count": 13,
   "id": "7c7fa064",
   "metadata": {},
   "outputs": [
    {
     "name": "stdout",
     "output_type": "stream",
     "text": [
      "{'designation': 'developer', 'Salary': 8000}\n"
     ]
    }
   ],
   "source": [
    "print(res['Emma'])"
   ]
  },
  {
   "cell_type": "markdown",
   "id": "b70392c3",
   "metadata": {},
   "source": [
    "### Exercise 4. Create a dictonary by extracting the keys from a given dictonary"
   ]
  },
  {
   "cell_type": "code",
   "execution_count": 14,
   "id": "953fc1cb",
   "metadata": {},
   "outputs": [],
   "source": [
    "#given dictionary\n",
    "sample_dict={\"name\":\"Kelly\",\"age\":25,\"salary\":8000,\"city\":\"Newyork\"}"
   ]
  },
  {
   "cell_type": "code",
   "execution_count": 17,
   "id": "311578ba",
   "metadata": {},
   "outputs": [
    {
     "data": {
      "text/plain": [
       "{'name': 'Kelly', 'age': 25, 'salary': 8000, 'city': 'Newyork'}"
      ]
     },
     "execution_count": 17,
     "metadata": {},
     "output_type": "execute_result"
    }
   ],
   "source": [
    "#key to extract keys=['name','salary']\n",
    "sample_dict"
   ]
  },
  {
   "cell_type": "code",
   "execution_count": null,
   "id": "390b1c4b",
   "metadata": {},
   "outputs": [],
   "source": [
    "#solution1:\n",
    "Expected output:{'name':'Kelly','salary':8000}   "
   ]
  },
  {
   "cell_type": "code",
   "execution_count": 19,
   "id": "b17a4e02",
   "metadata": {},
   "outputs": [
    {
     "name": "stdout",
     "output_type": "stream",
     "text": [
      "{'name': 'Kelly', 'salary': 8000}\n"
     ]
    }
   ],
   "source": [
    "keys=[\"name\", \"salary\"]\n",
    "newDict={k:sample_dict[k]for k in keys}\n",
    "print(newDict)"
   ]
  },
  {
   "cell_type": "markdown",
   "id": "11065b2e",
   "metadata": {},
   "source": [
    "Solution2:"
   ]
  },
  {
   "cell_type": "code",
   "execution_count": 20,
   "id": "2e997e90",
   "metadata": {},
   "outputs": [
    {
     "data": {
      "text/plain": [
       "{'name': 'Kelly', 'age': 25, 'salary': 8000, 'city': 'Newyork'}"
      ]
     },
     "execution_count": 20,
     "metadata": {},
     "output_type": "execute_result"
    }
   ],
   "source": [
    "sample_dict"
   ]
  },
  {
   "cell_type": "code",
   "execution_count": 24,
   "id": "fce4629d",
   "metadata": {},
   "outputs": [
    {
     "name": "stdout",
     "output_type": "stream",
     "text": [
      "{'name': 'Kelly', 'age': 25, 'salary': 8000}\n"
     ]
    }
   ],
   "source": [
    "#keys to extract\n",
    "res=dict()\n",
    "keys=['name','age','salary']\n",
    "\n",
    "for k in keys:\n",
    "    res.update({k:sample_dict[k]})\n",
    "    \n",
    "print(res)"
   ]
  },
  {
   "cell_type": "markdown",
   "id": "41d771f2",
   "metadata": {},
   "source": [
    "### Exercise 5: Delete a list of keys from a dictonary"
   ]
  },
  {
   "cell_type": "code",
   "execution_count": 25,
   "id": "e7014808",
   "metadata": {},
   "outputs": [
    {
     "data": {
      "text/plain": [
       "{'name': 'Kelly', 'age': 25, 'salary': 8000, 'city': 'Newyork'}"
      ]
     },
     "execution_count": 25,
     "metadata": {},
     "output_type": "execute_result"
    }
   ],
   "source": [
    "sample_dict"
   ]
  },
  {
   "cell_type": "code",
   "execution_count": 26,
   "id": "0f1becba",
   "metadata": {},
   "outputs": [
    {
     "name": "stdout",
     "output_type": "stream",
     "text": [
      "{'age': 25, 'city': 'Newyork'}\n"
     ]
    }
   ],
   "source": [
    "#keys to remove\n",
    "keys=['name','salary']\n",
    "\n",
    "#solution 1\n",
    "for k in keys:\n",
    "    sample_dict.pop(k)\n",
    "print(sample_dict)"
   ]
  },
  {
   "cell_type": "code",
   "execution_count": 27,
   "id": "ad2f5d2f",
   "metadata": {},
   "outputs": [],
   "source": [
    "# solution 2\n",
    "#given dictionary\n",
    "sample_dict={\"name\":\"Kelly\",\"age\":25,\"salary\":8000,\"city\":\"Newyork\"}"
   ]
  },
  {
   "cell_type": "code",
   "execution_count": 28,
   "id": "971d282d",
   "metadata": {},
   "outputs": [
    {
     "name": "stdout",
     "output_type": "stream",
     "text": [
      "{'city': 'Newyork', 'age': 25}\n"
     ]
    }
   ],
   "source": [
    "keys=['name','salary']\n",
    "sample_dict={k:sample_dict[k]for k in sample_dict.keys()-keys}\n",
    "print(sample_dict)"
   ]
  },
  {
   "cell_type": "markdown",
   "id": "f2b09c60",
   "metadata": {},
   "source": [
    "### Exercise 6: Check if a value exists in a dictonary"
   ]
  },
  {
   "cell_type": "code",
   "execution_count": 29,
   "id": "f91ee64c",
   "metadata": {},
   "outputs": [
    {
     "name": "stdout",
     "output_type": "stream",
     "text": [
      "200 present in the dict\n"
     ]
    }
   ],
   "source": [
    "sample_dict={'a':100,\"b\":200,\"c\":300}\n",
    "\n",
    "if 200 in sample_dict.values():\n",
    "    print(\"200 present in the dict\")"
   ]
  },
  {
   "cell_type": "markdown",
   "id": "b47d7da6",
   "metadata": {},
   "source": [
    "### Exercise 7 : Rename key of a dictionary"
   ]
  },
  {
   "cell_type": "code",
   "execution_count": 30,
   "id": "2088e457",
   "metadata": {},
   "outputs": [],
   "source": [
    "#Write a program to rename key city to a location in the dictonary\n",
    "\n",
    "#given dictionary\n",
    "sample_dict={\"name\":\"Kelly\",\"age\":25,\"salary\":8000,\"city\":\"Newyork\"}"
   ]
  },
  {
   "cell_type": "code",
   "execution_count": 31,
   "id": "a41d7e81",
   "metadata": {},
   "outputs": [
    {
     "name": "stdout",
     "output_type": "stream",
     "text": [
      "{'name': 'Kelly', 'age': 25, 'salary': 8000, 'location': 'Newyork'}\n"
     ]
    }
   ],
   "source": [
    "sample_dict['location']=sample_dict.pop('city')\n",
    "print(sample_dict)"
   ]
  },
  {
   "cell_type": "markdown",
   "id": "780f86ea",
   "metadata": {},
   "source": [
    "### Exercise 8: Change values of a key in a nested dictonary"
   ]
  },
  {
   "cell_type": "code",
   "execution_count": 34,
   "id": "34d56e29",
   "metadata": {},
   "outputs": [],
   "source": [
    "sample_dict={'emp1':{'name':'Jhon','salary':7500},\n",
    "            'emp2':{'name':'Emma','salary':8000},\n",
    "            'emp3':{'name':'Brand','salary':500}}"
   ]
  },
  {
   "cell_type": "code",
   "execution_count": 35,
   "id": "d57a5219",
   "metadata": {},
   "outputs": [
    {
     "data": {
      "text/plain": [
       "{'emp1': {'name': 'Jhon', 'salary': 7500},\n",
       " 'emp2': {'name': 'Emma', 'salary': 8000},\n",
       " 'emp3': {'name': 'Brand', 'salary': 500}}"
      ]
     },
     "execution_count": 35,
     "metadata": {},
     "output_type": "execute_result"
    }
   ],
   "source": [
    "sample_dict"
   ]
  },
  {
   "cell_type": "code",
   "execution_count": 36,
   "id": "1e70355b",
   "metadata": {},
   "outputs": [
    {
     "name": "stdout",
     "output_type": "stream",
     "text": [
      "{'emp1': {'name': 'Jhon', 'salary': 7500}, 'emp2': {'name': 'Emma', 'salary': 8000}, 'emp3': {'name': 'Brand', 'salary': 8500}}\n"
     ]
    }
   ],
   "source": [
    "sample_dict['emp3']['salary']=8500\n",
    "print(sample_dict)"
   ]
  },
  {
   "cell_type": "code",
   "execution_count": 3,
   "id": "1c865724",
   "metadata": {},
   "outputs": [],
   "source": [
    "a= {'Mercury': 100, 'Venus': 200, 'Earth': 300}\n",
    "b={'Star': 500, 'Moon': 600, 'Sun': 700} \n",
    "values=list(a.values())\n",
    "keys=list(b.keys())\n",
    "res_dict =dict(zip(keys,values))\n",
    "print(res_dict)"
   ]
  },
  {
   "cell_type": "code",
   "execution_count": 6,
   "id": "65230b98",
   "metadata": {},
   "outputs": [
    {
     "data": {
      "text/plain": [
       "[100, 200, 300, 500, 600, 700]"
      ]
     },
     "execution_count": 6,
     "metadata": {},
     "output_type": "execute_result"
    }
   ],
   "source": [
    "values=list(a.values())\n",
    "values"
   ]
  },
  {
   "cell_type": "code",
   "execution_count": 8,
   "id": "835cff2f",
   "metadata": {},
   "outputs": [
    {
     "data": {
      "text/plain": [
       "['Star', 'Moon', 'Sun']"
      ]
     },
     "execution_count": 8,
     "metadata": {},
     "output_type": "execute_result"
    }
   ],
   "source": [
    "keys=list(b.keys())\n",
    "keys"
   ]
  },
  {
   "cell_type": "code",
   "execution_count": 9,
   "id": "bd42c45c",
   "metadata": {},
   "outputs": [
    {
     "name": "stdout",
     "output_type": "stream",
     "text": [
      "{'Star': 100, 'Moon': 200, 'Sun': 300}\n"
     ]
    }
   ],
   "source": [
    "res_dict =dict(zip(keys,values))\n",
    "print(res_dict)"
   ]
  },
  {
   "cell_type": "code",
   "execution_count": 10,
   "id": "39c5f156",
   "metadata": {},
   "outputs": [
    {
     "name": "stdout",
     "output_type": "stream",
     "text": [
      "Physics\n"
     ]
    }
   ],
   "source": [
    "MarksDict = {\n",
    "\n",
    "  'Chemistry': 81,\n",
    "\n",
    "  'Physics': 98,\n",
    "\n",
    "  'Maths': 78\n",
    "\n",
    "}\n",
    "\n",
    "max_key = max(MarksDict, key=MarksDict.get)\n",
    "print(max_key)"
   ]
  },
  {
   "cell_type": "code",
   "execution_count": null,
   "id": "864875b5",
   "metadata": {},
   "outputs": [],
   "source": [
    "class container "
   ]
  },
  {
   "cell_type": "code",
   "execution_count": 12,
   "id": "0ad61338",
   "metadata": {},
   "outputs": [
    {
     "name": "stdout",
     "output_type": "stream",
     "text": [
      "Enter the radius of circle2\n",
      "Enter the height of a circle2\n",
      "Height of container  2.0\n",
      "Radius of container  2.0\n",
      "Container 12.56\n"
     ]
    }
   ],
   "source": [
    "def container():\n",
    "    r=float(input(\"Enter the radius of circle\"))\n",
    "    h=float(input(\"Enter the height of a circle\"))\n",
    "    con=(3.14*r*h)\n",
    "    print(\"Height of container \",h)\n",
    "    print(\"Radius of container \",r)\n",
    "    print(\"Container\",con)\n",
    "    \n",
    "container()\n",
    "    \n",
    "    "
   ]
  },
  {
   "cell_type": "code",
   "execution_count": null,
   "id": "66ba23f6",
   "metadata": {},
   "outputs": [],
   "source": [
    "def display1():\n",
    "    count = 0\n",
    "    file = open(\"INDIA.TXT\",\"r\")\n",
    "    for LINE in file:\n",
    "        Words = LINE.split()\n",
    "        for W in Words:\n",
    "            if W == \"India\":\n",
    "                count = count + 1\n",
    "    print (count)\n",
    "    file.close()"
   ]
  },
  {
   "cell_type": "code",
   "execution_count": null,
   "id": "12a841ee",
   "metadata": {},
   "outputs": [],
   "source": [
    "# list of numbers\n",
    "list1 = [13, -11, 10, 5, 9, -54]\n",
    " \n",
    "# iterating each number in list\n",
    "for num in list1:\n",
    " \n",
    "    # checking condition\n",
    "    if num < 0:\n",
    "    print(num, end=\" \")\n",
    "    \n",
    "    "
   ]
  },
  {
   "cell_type": "code",
   "execution_count": 13,
   "id": "a44bd5e1",
   "metadata": {},
   "outputs": [],
   "source": [
    "class CONTAINER:\n",
    "\n",
    "    def __init__(self, radius, height):\n",
    "        self.radius = radius\n",
    "        self.height = height\n",
    "\n",
    "    def CalVolume(self):\n",
    "        return 3.14 * self.radius * self.height\n",
    "\n",
    "    def GetValue(self):\n",
    "        self.radius = int(input(\"Enter the radius : \"))\n",
    "        self.height = int(input(\"Enter the height : \"))\n",
    "        return self.CalVolume()\n",
    "\n",
    "    def ShowContainer(self):\n",
    "        print(\"Radius of container : \", self.radius)\n",
    "        print(\"Height of container : \", self.height)\n",
    "        print(\"Volume of container : \", self.CalVolume())"
   ]
  },
  {
   "cell_type": "code",
   "execution_count": null,
   "id": "7af59096",
   "metadata": {},
   "outputs": [],
   "source": []
  },
  {
   "cell_type": "code",
   "execution_count": null,
   "id": "23390535",
   "metadata": {},
   "outputs": [],
   "source": []
  },
  {
   "cell_type": "code",
   "execution_count": 15,
   "id": "59476b57",
   "metadata": {},
   "outputs": [
    {
     "name": "stdout",
     "output_type": "stream",
     "text": [
      "{'Ten': 10, 'Twenty': 20, 'Thirty': 30}\n"
     ]
    }
   ],
   "source": [
    "keys=['Ten','Twenty','Thirty']\n",
    "values=[10,20,30]\n",
    "\n",
    "res_dict=dict(zip(keys,values))\n",
    "print(res_dict)"
   ]
  },
  {
   "cell_type": "code",
   "execution_count": 16,
   "id": "c1a1456a",
   "metadata": {},
   "outputs": [
    {
     "name": "stdout",
     "output_type": "stream",
     "text": [
      "{'Ten': 10, 'Twenty': 20, 'Thirty': 30}\n"
     ]
    }
   ],
   "source": [
    "# Q2. Using a loop and update() method of a dictionary\n",
    "\n",
    "keys=['Ten','Twenty','Thirty']\n",
    "values=[10,20,30]\n",
    "\n",
    "#empty dictionary\n",
    "res_dict=dict()\n",
    "\n",
    "for i in range(len(keys)):\n",
    "    res_dict.update({keys[i]:values[i]})\n",
    "print(res_dict)"
   ]
  },
  {
   "cell_type": "markdown",
   "id": "e3304617",
   "metadata": {},
   "source": [
    "### Exercise 2: Merge two Python dictionaries into one"
   ]
  },
  {
   "cell_type": "code",
   "execution_count": 18,
   "id": "7d9829b1",
   "metadata": {},
   "outputs": [
    {
     "name": "stdout",
     "output_type": "stream",
     "text": [
      "{'Ten ': 10, 'Twenty ': 20, 'Thirty ': 30, 'Fourty ': 40, 'Fifty ': 50}\n"
     ]
    }
   ],
   "source": [
    "dict1={\"Ten \":10,\"Twenty \":20,\"Thirty \":30}\n",
    "dict2={\"Thirty \":30,\"Fourty \":40,\"Fifty \":50}\n",
    "\n",
    "#Expected output:\n",
    "\n",
    "#{\"Ten\":10,\"Twenty\":20,\"Thirty\":30,\"Fourty\":40,\"Fifty\":50}\n",
    "\n",
    "dict3=dict1.copy()\n",
    "dict3.update(dict2)\n",
    "print(dict3)"
   ]
  },
  {
   "cell_type": "markdown",
   "id": "aa9e065f",
   "metadata": {},
   "source": [
    "### Exercise 3: Initialize dictionary with default values\n",
    "\n",
    "In Python, we can initize the keys with the same.\n",
    "\n",
    "Values.employees  ['Kelly','Emma']\n",
    "defaults={\"designation \":'Developer',\"salary\":8000}"
   ]
  },
  {
   "cell_type": "code",
   "execution_count": 19,
   "id": "f1d8c1ec",
   "metadata": {
    "scrolled": false
   },
   "outputs": [
    {
     "name": "stdout",
     "output_type": "stream",
     "text": [
      "{'Kelly': {'designation': 'Developer', 'Salary': 8000}, 'Emma': {'designation': 'Developer', 'Salary': 8000}}\n",
      "{'designation': 'Developer', 'Salary': 8000}\n"
     ]
    }
   ],
   "source": [
    "#Solution\n",
    "employees =['Kelly','Emma']\n",
    "defaults={\"designation\":'Developer',\"Salary\":8000}\n",
    "\n",
    "res=dict.fromkeys(employees,defaults)\n",
    "print(res)\n",
    "\n",
    "#Individual data\n",
    "print(res[\"Kelly\"])"
   ]
  },
  {
   "cell_type": "markdown",
   "id": "45682973",
   "metadata": {},
   "source": [
    "### Exercise 4: Create a dictionary by extracting the keys from a given dictionary.\n",
    "\n",
    "Write a Python program to create a new dictionary by extracting the mentioned keys from the below dictionary"
   ]
  },
  {
   "cell_type": "code",
   "execution_count": null,
   "id": "2bd93712",
   "metadata": {},
   "outputs": [],
   "source": [
    "sample_dict={\"Name\":\"Kelly\",\"Age\":25,\"Salary\":8000,\"city\":\"New york\"}\n",
    "\n",
    "#keys to extract.\n",
    "keys=['name','salary']\n",
    "\n",
    "#new dict\n",
    "\n",
    "res=dict()\n",
    "\n",
    "for k in ke"
   ]
  }
 ],
 "metadata": {
  "kernelspec": {
   "display_name": "Python 3 (ipykernel)",
   "language": "python",
   "name": "python3"
  },
  "language_info": {
   "codemirror_mode": {
    "name": "ipython",
    "version": 3
   },
   "file_extension": ".py",
   "mimetype": "text/x-python",
   "name": "python",
   "nbconvert_exporter": "python",
   "pygments_lexer": "ipython3",
   "version": "3.9.12"
  }
 },
 "nbformat": 4,
 "nbformat_minor": 5
}
