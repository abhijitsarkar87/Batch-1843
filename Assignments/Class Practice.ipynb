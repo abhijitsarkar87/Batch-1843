{
 "cells": [
  {
   "cell_type": "code",
   "execution_count": 1,
   "id": "b9e5a799",
   "metadata": {},
   "outputs": [],
   "source": [
    "def intrest(p,r,t):\n",
    "    si=(p*r*t)/100\n",
    "    print(\"si=\",si)\n",
    "    \n",
    "def total_amount(p,si):\n",
    "    totalamount=p+si\n",
    "    return totalamount"
   ]
  },
  {
   "cell_type": "code",
   "execution_count": 2,
   "id": "4a76368c",
   "metadata": {},
   "outputs": [
    {
     "name": "stdout",
     "output_type": "stream",
     "text": [
      "si= 500.0\n"
     ]
    }
   ],
   "source": [
    "intrest(5000,5,2)"
   ]
  },
  {
   "cell_type": "code",
   "execution_count": 3,
   "id": "b59168b9",
   "metadata": {},
   "outputs": [
    {
     "data": {
      "text/plain": [
       "5500"
      ]
     },
     "execution_count": 3,
     "metadata": {},
     "output_type": "execute_result"
    }
   ],
   "source": [
    "total_amount(5000,500)"
   ]
  },
  {
   "cell_type": "code",
   "execution_count": 4,
   "id": "e0aaf953",
   "metadata": {},
   "outputs": [],
   "source": [
    "def intrest():\n",
    "    p=int(input(\"Enter Principal: \"))\n",
    "    r=int(input(\"Enter Rate: \"))\n",
    "    t=int(input(\"Enter Time: \"))\n",
    "    \n",
    "    interest=p*r*t\n",
    "    print(interest)"
   ]
  },
  {
   "cell_type": "code",
   "execution_count": 5,
   "id": "c60ca59c",
   "metadata": {},
   "outputs": [
    {
     "name": "stdout",
     "output_type": "stream",
     "text": [
      "Enter Principal: 5000\n",
      "Enter Rate: 50\n",
      "Enter Time: 3\n",
      "750000\n"
     ]
    }
   ],
   "source": [
    "intrest()"
   ]
  },
  {
   "cell_type": "code",
   "execution_count": 10,
   "id": "b0652ecf",
   "metadata": {},
   "outputs": [],
   "source": [
    "class Employee:\n",
    "    def __init__(self,id,name,age):\n",
    "        self.id=id\n",
    "        self.name=name\n",
    "        self.age=age\n",
    "        \n",
    "    def display(self):\n",
    "        print(\"Id:\",self.id,\"Name\",self.name,\"Age\",self.age)\n",
    "        \n",
    "    \n",
    "    def userinput(self):\n",
    "        self.id=input(\"enter id: \")\n",
    "        self.name=input(\"enter name: \")\n",
    "        self.age=input(\"enter age: \")\n",
    "        self.display()\n",
    "        "
   ]
  },
  {
   "cell_type": "code",
   "execution_count": 11,
   "id": "e4749fa8",
   "metadata": {},
   "outputs": [],
   "source": [
    "emp1=Employee(100,\"Abhijit\",20)"
   ]
  },
  {
   "cell_type": "code",
   "execution_count": 12,
   "id": "9e20cb0c",
   "metadata": {},
   "outputs": [
    {
     "name": "stdout",
     "output_type": "stream",
     "text": [
      "Id: 100 Name Abhijit Age 20\n"
     ]
    }
   ],
   "source": [
    "emp1.display()"
   ]
  },
  {
   "cell_type": "code",
   "execution_count": 13,
   "id": "076b51ab",
   "metadata": {},
   "outputs": [],
   "source": [
    "emp2=Employee(200,\"Ankit\",30)"
   ]
  },
  {
   "cell_type": "code",
   "execution_count": 14,
   "id": "9030aa7a",
   "metadata": {},
   "outputs": [
    {
     "data": {
      "text/plain": [
       "200"
      ]
     },
     "execution_count": 14,
     "metadata": {},
     "output_type": "execute_result"
    }
   ],
   "source": [
    "emp2.id"
   ]
  },
  {
   "cell_type": "code",
   "execution_count": 15,
   "id": "add28359",
   "metadata": {},
   "outputs": [
    {
     "name": "stdout",
     "output_type": "stream",
     "text": [
      "Id: 200 Name Ankit Age 30\n"
     ]
    }
   ],
   "source": [
    "emp2.display()"
   ]
  },
  {
   "cell_type": "code",
   "execution_count": 16,
   "id": "a91da052",
   "metadata": {},
   "outputs": [
    {
     "name": "stdout",
     "output_type": "stream",
     "text": [
      "enter id: 1\n",
      "enter name: we\n",
      "enter age: 22\n",
      "Id: 1 Name we Age 22\n"
     ]
    }
   ],
   "source": [
    "emp1.userinput()"
   ]
  },
  {
   "cell_type": "code",
   "execution_count": 14,
   "id": "5633d1a2",
   "metadata": {},
   "outputs": [
    {
     "name": "stdout",
     "output_type": "stream",
     "text": [
      "enter id: 102\n",
      "enter name: Ankita\n",
      "enter age: 22\n",
      "Id: 102 Name Ankita Age 22\n"
     ]
    }
   ],
   "source": [
    "emp1.userinput()"
   ]
  },
  {
   "cell_type": "code",
   "execution_count": 17,
   "id": "aee020b1",
   "metadata": {},
   "outputs": [],
   "source": [
    "class Employee:\n",
    "    # function 1\n",
    "    def __init__(self,id,name,age):\n",
    "        self.id=id\n",
    "        self.name=name\n",
    "        self.age=age\n",
    "        \n",
    "    # function 2\n",
    "    def display(self):\n",
    "        print(\"Id\",self.id,\"Name\",self.name,\"Age:\",self.age)\n",
    "    \n",
    "    # function 3    \n",
    "    def user_input(self):\n",
    "        self.id=input(\"enter id:\")\n",
    "        self.name=input(\"Enter name: \")\n",
    "        self.age=input(\"Enter Age: \")\n",
    "        self.display()"
   ]
  },
  {
   "cell_type": "code",
   "execution_count": 18,
   "id": "02e1a929",
   "metadata": {},
   "outputs": [
    {
     "data": {
      "text/plain": [
       "100"
      ]
     },
     "execution_count": 18,
     "metadata": {},
     "output_type": "execute_result"
    }
   ],
   "source": [
    "emp1=Employee(100,\"Ankit\",20)\n",
    "emp1.id"
   ]
  },
  {
   "cell_type": "code",
   "execution_count": 19,
   "id": "f7650ac8",
   "metadata": {},
   "outputs": [
    {
     "data": {
      "text/plain": [
       "20"
      ]
     },
     "execution_count": 19,
     "metadata": {},
     "output_type": "execute_result"
    }
   ],
   "source": [
    "emp1.age"
   ]
  },
  {
   "cell_type": "code",
   "execution_count": 20,
   "id": "b1c75a35",
   "metadata": {},
   "outputs": [
    {
     "name": "stdout",
     "output_type": "stream",
     "text": [
      "Id 100 Name Ankit Age: 20\n"
     ]
    }
   ],
   "source": [
    "emp1.display()"
   ]
  },
  {
   "cell_type": "code",
   "execution_count": 21,
   "id": "ed26110c",
   "metadata": {},
   "outputs": [
    {
     "name": "stdout",
     "output_type": "stream",
     "text": [
      "enter id:12\n",
      "Enter name: asd\n",
      "Enter Age: 11\n",
      "Id 12 Name asd Age: 11\n"
     ]
    }
   ],
   "source": [
    "emp1.user_input()"
   ]
  },
  {
   "cell_type": "code",
   "execution_count": 22,
   "id": "908b3e94",
   "metadata": {},
   "outputs": [
    {
     "name": "stdout",
     "output_type": "stream",
     "text": [
      "1 abc 800\n",
      "1 abc 520.0\n"
     ]
    }
   ],
   "source": [
    "class Product:\n",
    "    def __init__(self,id,name,price):\n",
    "        self.id=id\n",
    "        self.name=name\n",
    "        self.price=price\n",
    "        \n",
    "    def discount(self):\n",
    "        self.price=self.price-self.price*.35\n",
    "        return self.price\n",
    "    \n",
    "    def display(self):\n",
    "        print(self.id,self.name,self.price)\n",
    "        \n",
    "        self.discount()\n",
    "        print(self.id,self.name,self.price)\n",
    "        \n",
    "p1=Product(1,\"abc\",800)\n",
    "p1.display()\n",
    "\n"
   ]
  },
  {
   "cell_type": "code",
   "execution_count": null,
   "id": "7fbcd5e2",
   "metadata": {},
   "outputs": [],
   "source": []
  }
 ],
 "metadata": {
  "kernelspec": {
   "display_name": "Python 3 (ipykernel)",
   "language": "python",
   "name": "python3"
  },
  "language_info": {
   "codemirror_mode": {
    "name": "ipython",
    "version": 3
   },
   "file_extension": ".py",
   "mimetype": "text/x-python",
   "name": "python",
   "nbconvert_exporter": "python",
   "pygments_lexer": "ipython3",
   "version": "3.9.13"
  }
 },
 "nbformat": 4,
 "nbformat_minor": 5
}
