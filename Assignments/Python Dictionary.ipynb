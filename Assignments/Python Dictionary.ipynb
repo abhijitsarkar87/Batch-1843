{
 "cells": [
  {
   "cell_type": "markdown",
   "id": "8fb5ce34",
   "metadata": {},
   "source": [
    "### Exercise 1: Convert two lists into a dictionary"
   ]
  },
  {
   "cell_type": "code",
   "execution_count": 2,
   "id": "c233368c",
   "metadata": {},
   "outputs": [
    {
     "data": {
      "text/plain": [
       "{'Ten': 10, 'Twenty': 20, 'Thirty': 30}"
      ]
     },
     "execution_count": 2,
     "metadata": {},
     "output_type": "execute_result"
    }
   ],
   "source": [
    "keys=['Ten',\"Twenty\",\"Thirty\"]\n",
    "values=[10,20,30]\n",
    "\n",
    "# solution 1\n",
    "dict1=dict(zip(keys,values))\n",
    "print(\"First Process\\n\",dict1)"
   ]
  },
  {
   "cell_type": "code",
   "execution_count": 5,
   "id": "69d80cdb",
   "metadata": {},
   "outputs": [
    {
     "name": "stdout",
     "output_type": "stream",
     "text": [
      "{'Ten': 10, 'Twenty': 20, 'Thirty': 30}\n"
     ]
    }
   ],
   "source": [
    "# solution 2\n",
    "\n",
    "res_dict=dict()\n",
    "\n",
    "for i in range(len(keys)):\n",
    "    res_dict.update({keys[i]:values[i]})\n",
    "print(res_dict)"
   ]
  },
  {
   "cell_type": "markdown",
   "id": "d111c653",
   "metadata": {},
   "source": [
    "### Exercise 2: Merge two Python Dictionaries into One"
   ]
  },
  {
   "cell_type": "code",
   "execution_count": 9,
   "id": "c85fba36",
   "metadata": {},
   "outputs": [
    {
     "name": "stdout",
     "output_type": "stream",
     "text": [
      "Copied Dict {'Ten': 10, 'Twenty': 20, 'Thirty': 30}\n",
      "\n",
      "Updated Dict\n",
      " {'Ten': 10, 'Twenty': 20, 'Thirty': 30, 'Fourty': 40, 'Fifty': 50}\n"
     ]
    }
   ],
   "source": [
    "dict1={'Ten':10,'Twenty':20,'Thirty':30}\n",
    "dict2={'Thirty':30,'Fourty':40,'Fifty':50}\n",
    "\n",
    "# first dict copied to new dict\n",
    "dict_n=dict1.copy()\n",
    "print(\"Copied Dict\",dict_n)\n",
    "\n",
    "dict_n.update(dict2)\n",
    "print(\"\\nUpdated Dict\\n\",dict_n)"
   ]
  },
  {
   "cell_type": "markdown",
   "id": "9dd411eb",
   "metadata": {},
   "source": [
    "### Exercise 3: Initialize dictionary with default values"
   ]
  },
  {
   "cell_type": "code",
   "execution_count": 10,
   "id": "af7dfdd4",
   "metadata": {},
   "outputs": [],
   "source": [
    "employees=['Kelly','Emma']\n",
    "defaults={'designation':'developer','salary':8000}"
   ]
  },
  {
   "cell_type": "code",
   "execution_count": 12,
   "id": "cb750b2c",
   "metadata": {},
   "outputs": [
    {
     "name": "stdout",
     "output_type": "stream",
     "text": [
      "{'Kelly': {'designation': 'developer', 'salary': 8000}, 'Emma': {'designation': 'developer', 'salary': 8000}}\n"
     ]
    }
   ],
   "source": [
    "# employees becomes key\n",
    "# defaults become keys\n",
    "\n",
    "res=dict.fromkeys(employees,defaults)\n",
    "print(res)"
   ]
  },
  {
   "cell_type": "markdown",
   "id": "50ac32a7",
   "metadata": {},
   "source": [
    "### Exercuse 4: Create a Dictionary by extracting the keys from a given dictionary"
   ]
  },
  {
   "cell_type": "markdown",
   "id": "9b359a3b",
   "metadata": {},
   "source": [
    "- Write a Python program to create a new dictionary by extracting the mentioned keys from the below \n",
    "dictionary"
   ]
  },
  {
   "cell_type": "code",
   "execution_count": 14,
   "id": "bf9d3f24",
   "metadata": {},
   "outputs": [],
   "source": [
    "#Given dictionary:\n",
    "sample_dict = { \"name\": \"Kelly\", \"age\": 25,\"salary\": 8000,\"city\": \"New york\"}"
   ]
  },
  {
   "cell_type": "code",
   "execution_count": 25,
   "id": "f24bbfe9",
   "metadata": {},
   "outputs": [
    {
     "data": {
      "text/plain": [
       "['name', 'age', 'salary', 'city']"
      ]
     },
     "execution_count": 25,
     "metadata": {},
     "output_type": "execute_result"
    }
   ],
   "source": [
    "keys=[i for i in sample_dict]\n",
    "keys"
   ]
  },
  {
   "cell_type": "code",
   "execution_count": 27,
   "id": "6ad904d3",
   "metadata": {},
   "outputs": [
    {
     "name": "stdout",
     "output_type": "stream",
     "text": [
      "{'name': 'Kelly', 'salary': 8000}\n"
     ]
    }
   ],
   "source": [
    "# keys to be extracted \n",
    "keys=['name','salary']\n",
    "\n",
    "# extracting \n",
    "newDict={k:sample_dict[k] for k in keys}\n",
    "\n",
    "print(newDict)"
   ]
  },
  {
   "cell_type": "code",
   "execution_count": 30,
   "id": "02385767",
   "metadata": {},
   "outputs": [
    {
     "name": "stdout",
     "output_type": "stream",
     "text": [
      "{'name': 'Kelly', 'salary': 8000}\n"
     ]
    }
   ],
   "source": [
    "# By loop\n",
    "\n",
    "# keys to be extracted \n",
    "keys=['name','salary']\n",
    "res=dict()\n",
    "\n",
    "for k in keys:\n",
    "    res.update({k:sample_dict[k]})\n",
    "    \n",
    "print(res)"
   ]
  },
  {
   "cell_type": "markdown",
   "id": "d575a03c",
   "metadata": {},
   "source": [
    "### Exercise 5: Delete a list of keys from a dictionary"
   ]
  },
  {
   "cell_type": "code",
   "execution_count": 34,
   "id": "00599822",
   "metadata": {},
   "outputs": [
    {
     "name": "stdout",
     "output_type": "stream",
     "text": [
      "{'age': 25, 'city': 'New York'}\n"
     ]
    }
   ],
   "source": [
    "# Given:\n",
    "sample_dict={\"name\":\"Kelly\",\"age\":25,\"salary\":8000,\"city\":\"New York\"}\n",
    "\n",
    "\n",
    "keys=[\"name\",\"salary\"]\n",
    "\n",
    "for k in keys:\n",
    "    sample_dict.pop(k)\n",
    "print(sample_dict)"
   ]
  },
  {
   "cell_type": "markdown",
   "id": "92b6f37d",
   "metadata": {},
   "source": [
    "#### Proceduce 2"
   ]
  },
  {
   "cell_type": "code",
   "execution_count": 35,
   "id": "c2099482",
   "metadata": {},
   "outputs": [
    {
     "name": "stdout",
     "output_type": "stream",
     "text": [
      "{'age': 25, 'city': 'New York'}\n"
     ]
    }
   ],
   "source": [
    "keys=[\"name\",\"salary\"]\n",
    "\n",
    "sample_dict={k:sample_dict[k] for k in sample_dict.keys()-keys}\n",
    "print(sample_dict)"
   ]
  },
  {
   "cell_type": "markdown",
   "id": "1df1384e",
   "metadata": {},
   "source": [
    "### Exericise 6. Check if a value exists in a dictionary"
   ]
  },
  {
   "cell_type": "code",
   "execution_count": 36,
   "id": "c1dc1ea0",
   "metadata": {},
   "outputs": [
    {
     "name": "stdout",
     "output_type": "stream",
     "text": [
      "200 present in a dict\n"
     ]
    }
   ],
   "source": [
    "sample_dict={'a':100,'b':200,'c':300}\n",
    "\n",
    "#Expected output:200 present in a dict\n",
    "\n",
    "if 200 in sample_dict.values():\n",
    "    print('200 present in a dict')"
   ]
  },
  {
   "cell_type": "markdown",
   "id": "80164bdf",
   "metadata": {},
   "source": [
    "### Exercise 7. Rename key of a dictionary"
   ]
  },
  {
   "cell_type": "code",
   "execution_count": 37,
   "id": "e4117b25",
   "metadata": {},
   "outputs": [
    {
     "name": "stdout",
     "output_type": "stream",
     "text": [
      "{'name': 'Kelly', 'age': 25, 'salary': 8000, 'location': 'New york'}\n"
     ]
    }
   ],
   "source": [
    "sample_dict = {\"name\": \"Kelly\",\n",
    "               \"age\": 25,\n",
    "               \"salary\": 8000,\n",
    "               \"city\": \"New york\"}\n",
    "\n",
    "sample_dict['location']=sample_dict.pop('city')\n",
    "print(sample_dict)          "
   ]
  },
  {
   "cell_type": "markdown",
   "id": "842742fc",
   "metadata": {},
   "source": [
    "### Exercise 8: Change value of a key in a nested dictionary"
   ]
  },
  {
   "cell_type": "code",
   "execution_count": 39,
   "id": "92586187",
   "metadata": {},
   "outputs": [
    {
     "name": "stdout",
     "output_type": "stream",
     "text": [
      "{'emp1': {'name': 'Jhon', 'salary': 7500}, 'emp2': {'name': 'Emma', 'salary': 8000}, 'emp3': {'name': 'Brad', 'salary': 8500}}\n"
     ]
    }
   ],
   "source": [
    "sample_dict={\n",
    "    'emp1':{'name':'Jhon','salary':7500},\n",
    "    'emp2':{'name':'Emma','salary':8000},\n",
    "    'emp3':{'name':'Brad','salary':500}\n",
    "}\n",
    "# emp3 salary changed to 8500\n",
    "sample_dict['emp3']['salary']=8500\n",
    "sample_dict"
   ]
  },
  {
   "cell_type": "code",
   "execution_count": null,
   "id": "41b13fea",
   "metadata": {},
   "outputs": [],
   "source": []
  }
 ],
 "metadata": {
  "kernelspec": {
   "display_name": "Python 3 (ipykernel)",
   "language": "python",
   "name": "python3"
  },
  "language_info": {
   "codemirror_mode": {
    "name": "ipython",
    "version": 3
   },
   "file_extension": ".py",
   "mimetype": "text/x-python",
   "name": "python",
   "nbconvert_exporter": "python",
   "pygments_lexer": "ipython3",
   "version": "3.9.13"
  }
 },
 "nbformat": 4,
 "nbformat_minor": 5
}
