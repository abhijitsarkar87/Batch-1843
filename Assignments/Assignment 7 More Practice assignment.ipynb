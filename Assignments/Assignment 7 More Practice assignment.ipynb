{
 "cells": [
  {
   "cell_type": "code",
   "execution_count": 14,
   "id": "bab172de",
   "metadata": {},
   "outputs": [
    {
     "name": "stdout",
     "output_type": "stream",
     "text": [
      "x is greater than y\n"
     ]
    }
   ],
   "source": [
    "def main():\n",
    "    x,y=8,4\n",
    "    \n",
    "    if(x<y):\n",
    "        st=\"x is less than y\"\n",
    "        \n",
    "    else:\n",
    "        st=\"x is greater than y\"\n",
    "    print(st)\n",
    "    \n",
    "if __name__==\"__main__\":\n",
    "    main()"
   ]
  },
  {
   "cell_type": "code",
   "execution_count": 8,
   "id": "68460c77",
   "metadata": {},
   "outputs": [],
   "source": [
    "def main():\n",
    "    x,y=8,8\n",
    "    \n",
    "    if(x<y):\n",
    "        st=\"x is less than y\"\n",
    "        \n",
    "    else:\n",
    "        st=\"x is greater than y\"\n",
    "        \n",
    "    print(st)"
   ]
  },
  {
   "cell_type": "code",
   "execution_count": 9,
   "id": "7725cff8",
   "metadata": {},
   "outputs": [
    {
     "name": "stdout",
     "output_type": "stream",
     "text": [
      "x is greater than y\n"
     ]
    }
   ],
   "source": [
    "main()"
   ]
  },
  {
   "cell_type": "code",
   "execution_count": 11,
   "id": "9c0e1a48",
   "metadata": {},
   "outputs": [
    {
     "name": "stdout",
     "output_type": "stream",
     "text": [
      "x is same as y\n"
     ]
    }
   ],
   "source": [
    "def main():\n",
    "    x,y=8,8\n",
    "    \n",
    "    if(x<y):\n",
    "        st=\"x is less than y\"\n",
    "        \n",
    "    elif(x==y):\n",
    "        st=\"x is same as y\"\n",
    "        \n",
    "    else:\n",
    "        st=\"x is greater than y\"\n",
    "        \n",
    "    print(st)\n",
    "    \n",
    "if __name__==\"__main__\":\n",
    "    main()"
   ]
  },
  {
   "cell_type": "markdown",
   "id": "bbd5f236",
   "metadata": {},
   "source": [
    "# 4"
   ]
  },
  {
   "cell_type": "code",
   "execution_count": 22,
   "id": "e52c96e6",
   "metadata": {},
   "outputs": [],
   "source": [
    "class myClass():\n",
    "    def method1(self):\n",
    "        print(\"DT\")\n",
    "        \n",
    "    def method2(self,someString):\n",
    "        print(\"Software Testing: \",someString)\n"
   ]
  },
  {
   "cell_type": "code",
   "execution_count": 24,
   "id": "2cb4f742",
   "metadata": {},
   "outputs": [],
   "source": [
    "c=myClass()"
   ]
  },
  {
   "cell_type": "code",
   "execution_count": 27,
   "id": "546862b6",
   "metadata": {},
   "outputs": [
    {
     "name": "stdout",
     "output_type": "stream",
     "text": [
      "DT\n"
     ]
    }
   ],
   "source": [
    "c.method1()"
   ]
  },
  {
   "cell_type": "code",
   "execution_count": 30,
   "id": "4dd87eb6",
   "metadata": {},
   "outputs": [
    {
     "name": "stdout",
     "output_type": "stream",
     "text": [
      "Software Testing:  Testing is fun\n"
     ]
    }
   ],
   "source": [
    "c.method2(\"Testing is fun\")"
   ]
  },
  {
   "cell_type": "code",
   "execution_count": 31,
   "id": "b1464dbd",
   "metadata": {},
   "outputs": [
    {
     "name": "stdout",
     "output_type": "stream",
     "text": [
      "x is greater than y\n"
     ]
    }
   ],
   "source": [
    "if __name__==\"__main__\":\n",
    "    main()"
   ]
  },
  {
   "cell_type": "markdown",
   "id": "89aa008d",
   "metadata": {},
   "source": [
    "### Q5.  Print characters from a string that are present at an even index number"
   ]
  },
  {
   "cell_type": "code",
   "execution_count": 40,
   "id": "c58e58bb",
   "metadata": {},
   "outputs": [
    {
     "name": "stdout",
     "output_type": "stream",
     "text": [
      "Enter any NameHello\n",
      "You have entered  Hello  of Length  5\n",
      "index[ 0 ] H\n",
      "index[ 1 ] e\n",
      "index[ 2 ] l\n",
      "index[ 3 ] l\n"
     ]
    }
   ],
   "source": [
    "def user():\n",
    "    p=str(input(\"Enter any Name\"))\n",
    "    print(\"You have entered \",p,\" of Length \",len(p))\n",
    "    for i in range(0,len(p)-1):\n",
    "        print(\"index[\",i,\"]\",p[i])\n",
    "        \n",
    "        \n",
    "user()\n",
    "        \n",
    "\n"
   ]
  },
  {
   "cell_type": "markdown",
   "id": "e6982aec",
   "metadata": {},
   "source": [
    "### Q6. Concatenate two lists index-wise\n",
    "\n",
    " Write a program to add two lists index-wise. Create a new list that contains the 0th index item from both the list, then the 1st index item, and so on till the last element. any leftover items will get added at the end of the new list."
   ]
  },
  {
   "cell_type": "code",
   "execution_count": 43,
   "id": "dbef0bde",
   "metadata": {},
   "outputs": [
    {
     "data": {
      "text/plain": [
       "['IH', 'NE', 'DL', 'IL', 'AO']"
      ]
     },
     "execution_count": 43,
     "metadata": {},
     "output_type": "execute_result"
    }
   ],
   "source": [
    "list1=[\"H\",\"E\",\"L\",\"L\",\"O\"]\n",
    "list2=[\"I\",\"N\",\"D\",\"I\",\"A\"]\n",
    "\n",
    "[j+i for i,j in zip(list1,list2)]"
   ]
  },
  {
   "cell_type": "code",
   "execution_count": 48,
   "id": "e1ba7ec3",
   "metadata": {},
   "outputs": [
    {
     "data": {
      "text/plain": [
       "['Hey People', 'of India']"
      ]
     },
     "execution_count": 48,
     "metadata": {},
     "output_type": "execute_result"
    }
   ],
   "source": [
    "list1=[\"Hey\",\"of\"]\n",
    "list2=[\"People\",\"India\"]\n",
    "\n",
    "[i+\" \"+j for i,j in zip(list1,list2)]"
   ]
  },
  {
   "cell_type": "markdown",
   "id": "bf27c5ea",
   "metadata": {},
   "source": [
    "### Q7. Turn every item of a list into its square.\n",
    "\n",
    "Given a list of numbers, write a program to turn every item of a list into its square. "
   ]
  },
  {
   "cell_type": "code",
   "execution_count": 54,
   "id": "fe24dadb",
   "metadata": {},
   "outputs": [],
   "source": [
    "numbers=[1,2,3,4,5,6,7]\n",
    "\n",
    "#result list\n",
    "res=[]\n",
    "def square():\n",
    "    for i in numbers:#calculate squares and add to the result list\n",
    "        res.append(i**2)\n",
    "    return res"
   ]
  },
  {
   "cell_type": "code",
   "execution_count": 55,
   "id": "bff4e42d",
   "metadata": {},
   "outputs": [
    {
     "data": {
      "text/plain": [
       "[1, 4, 9, 16, 25, 36, 49]"
      ]
     },
     "execution_count": 55,
     "metadata": {},
     "output_type": "execute_result"
    }
   ],
   "source": [
    "square()"
   ]
  },
  {
   "cell_type": "markdown",
   "id": "6f9b954e",
   "metadata": {},
   "source": [
    "### 8. Replace listâ€™s item with new value if found\n",
    "\n",
    "You have given a Python list. Write a program to find value 20 in the list, and if it is present, replace it with 200. Only update the first occurrence of an item.\n",
    "\n",
    "Solution:"
   ]
  },
  {
   "cell_type": "code",
   "execution_count": 61,
   "id": "1a15a7f5",
   "metadata": {},
   "outputs": [
    {
     "name": "stdout",
     "output_type": "stream",
     "text": [
      "[1, 2, 3, 4, 5, 6, 7, 8, 9, 10, 11, 12, 13, 14, 15, 16, 17, 18, 19, 200]\n"
     ]
    }
   ],
   "source": [
    "list1=list(range(1,21))\n",
    "index=list1.index(20)\n",
    "list1[index]=200\n",
    "\n",
    "print(list1)"
   ]
  },
  {
   "cell_type": "markdown",
   "id": "ac89b025",
   "metadata": {},
   "source": [
    "### 9. Write a Program to extract each digit from an integer in the reverse order."
   ]
  },
  {
   "cell_type": "code",
   "execution_count": 64,
   "id": "60edf5b3",
   "metadata": {},
   "outputs": [
    {
     "name": "stdout",
     "output_type": "stream",
     "text": [
      "Given Number 7536\n",
      "6 3 5 7 "
     ]
    }
   ],
   "source": [
    "number=7536\n",
    "\n",
    "print(\"Given Number\",number)\n",
    "\n",
    "while number>0:\n",
    "    \n",
    "    #get the last digit\n",
    "    digit= number%10\n",
    "    \n",
    "    #remove the last digit and repeat the loop\n",
    "    \n",
    "    number=number//10\n",
    "    print(digit,end=\" \")"
   ]
  },
  {
   "cell_type": "markdown",
   "id": "0f502d8c",
   "metadata": {},
   "source": [
    "### Q10.Count the total number of digits in a number "
   ]
  },
  {
   "cell_type": "code",
   "execution_count": 68,
   "id": "c43e6ef0",
   "metadata": {},
   "outputs": [
    {
     "name": "stdout",
     "output_type": "stream",
     "text": [
      "Total Digits are: 7\n"
     ]
    }
   ],
   "source": [
    "num= 7586890\n",
    "\n",
    "count=0\n",
    "\n",
    "while num!=0:\n",
    "    # floor division\n",
    "    # to reduce the last digit from number\n",
    "    \n",
    "    num=num//10\n",
    "    \n",
    "    # increment counter by 1\n",
    "    \n",
    "    count= count+1\n",
    "    \n",
    "print(\"Total Digits are:\",count)\n",
    "    "
   ]
  },
  {
   "cell_type": "code",
   "execution_count": null,
   "id": "b8731ed7",
   "metadata": {},
   "outputs": [],
   "source": []
  }
 ],
 "metadata": {
  "kernelspec": {
   "display_name": "Python 3 (ipykernel)",
   "language": "python",
   "name": "python3"
  },
  "language_info": {
   "codemirror_mode": {
    "name": "ipython",
    "version": 3
   },
   "file_extension": ".py",
   "mimetype": "text/x-python",
   "name": "python",
   "nbconvert_exporter": "python",
   "pygments_lexer": "ipython3",
   "version": "3.9.12"
  }
 },
 "nbformat": 4,
 "nbformat_minor": 5
}
