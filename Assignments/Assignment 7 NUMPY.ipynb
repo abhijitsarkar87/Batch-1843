{
 "cells": [
  {
   "cell_type": "markdown",
   "id": "97c138cd",
   "metadata": {},
   "source": [
    "# Numpy Tutorial\n",
    "\n",
    "Numpy stands for numerical Python"
   ]
  },
  {
   "cell_type": "code",
   "execution_count": 1,
   "id": "ff63cecf",
   "metadata": {},
   "outputs": [],
   "source": [
    "import numpy as np"
   ]
  },
  {
   "cell_type": "code",
   "execution_count": null,
   "id": "1fb80d6a",
   "metadata": {},
   "outputs": [],
   "source": [
    "# array- continious memory"
   ]
  },
  {
   "cell_type": "code",
   "execution_count": 2,
   "id": "37579b7c",
   "metadata": {},
   "outputs": [
    {
     "data": {
      "text/plain": [
       "array([1, 2, 3, 4, 5, 6])"
      ]
     },
     "execution_count": 2,
     "metadata": {},
     "output_type": "execute_result"
    }
   ],
   "source": [
    "np.array([1,2,3,4,5,6])"
   ]
  },
  {
   "cell_type": "code",
   "execution_count": 4,
   "id": "dcf09b1d",
   "metadata": {},
   "outputs": [
    {
     "data": {
      "text/plain": [
       "array([11, 12,  1,  3, 14, 15])"
      ]
     },
     "execution_count": 4,
     "metadata": {},
     "output_type": "execute_result"
    }
   ],
   "source": [
    "np.array([11,12,1,3,14,15])"
   ]
  },
  {
   "cell_type": "code",
   "execution_count": 6,
   "id": "b3dae20f",
   "metadata": {},
   "outputs": [],
   "source": [
    "#holding in var\n",
    "a=np.array([10,11,12,13,14,15])"
   ]
  },
  {
   "cell_type": "code",
   "execution_count": 7,
   "id": "5a0c42df",
   "metadata": {},
   "outputs": [
    {
     "data": {
      "text/plain": [
       "array([10, 11, 12, 13, 14, 15])"
      ]
     },
     "execution_count": 7,
     "metadata": {},
     "output_type": "execute_result"
    }
   ],
   "source": [
    "a"
   ]
  },
  {
   "cell_type": "code",
   "execution_count": 8,
   "id": "1779081f",
   "metadata": {},
   "outputs": [
    {
     "data": {
      "text/plain": [
       "array([ 90,  20, 303,  45,  67,  98])"
      ]
     },
     "execution_count": 8,
     "metadata": {},
     "output_type": "execute_result"
    }
   ],
   "source": [
    "b=np.array([90,20,303,45,67,98])\n",
    "b"
   ]
  },
  {
   "cell_type": "code",
   "execution_count": 9,
   "id": "c6881e85",
   "metadata": {},
   "outputs": [
    {
     "data": {
      "text/plain": [
       "6"
      ]
     },
     "execution_count": 9,
     "metadata": {},
     "output_type": "execute_result"
    }
   ],
   "source": [
    "#number of element\n",
    "b.size"
   ]
  },
  {
   "cell_type": "code",
   "execution_count": 10,
   "id": "e29bc28e",
   "metadata": {},
   "outputs": [
    {
     "data": {
      "text/plain": [
       "(6,)"
      ]
     },
     "execution_count": 10,
     "metadata": {},
     "output_type": "execute_result"
    }
   ],
   "source": [
    "a.shape"
   ]
  },
  {
   "cell_type": "markdown",
   "id": "5dc8be8c",
   "metadata": {},
   "source": [
    "# rows and columns"
   ]
  },
  {
   "cell_type": "code",
   "execution_count": 16,
   "id": "5f3d2d5f",
   "metadata": {},
   "outputs": [
    {
     "data": {
      "text/plain": [
       "array([[1, 2],\n",
       "       [3, 4]])"
      ]
     },
     "execution_count": 16,
     "metadata": {},
     "output_type": "execute_result"
    }
   ],
   "source": [
    "c=np.array([[1,2],[3,4]])#row1,row2\n",
    "c"
   ]
  },
  {
   "cell_type": "code",
   "execution_count": 17,
   "id": "61f058f8",
   "metadata": {},
   "outputs": [
    {
     "data": {
      "text/plain": [
       "(2, 2)"
      ]
     },
     "execution_count": 17,
     "metadata": {},
     "output_type": "execute_result"
    }
   ],
   "source": [
    "c.shape"
   ]
  },
  {
   "cell_type": "code",
   "execution_count": 18,
   "id": "4bdab700",
   "metadata": {},
   "outputs": [
    {
     "data": {
      "text/plain": [
       "array([[29,  3],\n",
       "       [45,  6],\n",
       "       [98, 56]])"
      ]
     },
     "execution_count": 18,
     "metadata": {},
     "output_type": "execute_result"
    }
   ],
   "source": [
    "d=np.array([[29,3],[45,6],[98,56]])\n",
    "d"
   ]
  },
  {
   "cell_type": "code",
   "execution_count": 19,
   "id": "ebee17f5",
   "metadata": {},
   "outputs": [
    {
     "data": {
      "text/plain": [
       "(3, 2)"
      ]
     },
     "execution_count": 19,
     "metadata": {},
     "output_type": "execute_result"
    }
   ],
   "source": [
    "d.shape"
   ]
  },
  {
   "cell_type": "code",
   "execution_count": 20,
   "id": "05e248d3",
   "metadata": {},
   "outputs": [],
   "source": [
    "f=np.array([[1,2,3,4],[5,6,7,8]])"
   ]
  },
  {
   "cell_type": "code",
   "execution_count": 21,
   "id": "ae22bc81",
   "metadata": {},
   "outputs": [
    {
     "data": {
      "text/plain": [
       "array([[1, 2, 3, 4],\n",
       "       [5, 6, 7, 8]])"
      ]
     },
     "execution_count": 21,
     "metadata": {},
     "output_type": "execute_result"
    }
   ],
   "source": [
    "f"
   ]
  },
  {
   "cell_type": "code",
   "execution_count": 22,
   "id": "b4c85ecb",
   "metadata": {},
   "outputs": [
    {
     "data": {
      "text/plain": [
       "(2, 4)"
      ]
     },
     "execution_count": 22,
     "metadata": {},
     "output_type": "execute_result"
    }
   ],
   "source": [
    "f.shape"
   ]
  },
  {
   "cell_type": "code",
   "execution_count": 23,
   "id": "1822dc83",
   "metadata": {},
   "outputs": [
    {
     "data": {
      "text/plain": [
       "array([[ 1,  2,  3],\n",
       "       [ 4,  5,  6],\n",
       "       [ 7,  8,  9],\n",
       "       [10, 11, 12]])"
      ]
     },
     "execution_count": 23,
     "metadata": {},
     "output_type": "execute_result"
    }
   ],
   "source": [
    "j=np.array([[1,2,3],[4,5,6],[7,8,9],[10,11,12]])\n",
    "j"
   ]
  },
  {
   "cell_type": "code",
   "execution_count": 24,
   "id": "1b849bc6",
   "metadata": {},
   "outputs": [
    {
     "data": {
      "text/plain": [
       "(4, 3)"
      ]
     },
     "execution_count": 24,
     "metadata": {},
     "output_type": "execute_result"
    }
   ],
   "source": [
    "j.shape"
   ]
  },
  {
   "cell_type": "code",
   "execution_count": 29,
   "id": "0de4b9c9",
   "metadata": {},
   "outputs": [
    {
     "data": {
      "text/plain": [
       "2"
      ]
     },
     "execution_count": 29,
     "metadata": {},
     "output_type": "execute_result"
    }
   ],
   "source": [
    "np.ndim(j)"
   ]
  },
  {
   "cell_type": "code",
   "execution_count": 31,
   "id": "7afc1a02",
   "metadata": {},
   "outputs": [
    {
     "data": {
      "text/plain": [
       "array([[ 1,  2,  3,  4],\n",
       "       [ 5,  6,  7,  8],\n",
       "       [ 9, 10, 11, 12]])"
      ]
     },
     "execution_count": 31,
     "metadata": {},
     "output_type": "execute_result"
    }
   ],
   "source": [
    "j.reshape(3,4)"
   ]
  },
  {
   "cell_type": "code",
   "execution_count": 32,
   "id": "83704d14",
   "metadata": {},
   "outputs": [
    {
     "data": {
      "text/plain": [
       "array([[ 1,  2],\n",
       "       [ 3,  4],\n",
       "       [ 5,  6],\n",
       "       [ 7,  8],\n",
       "       [ 9, 10],\n",
       "       [11, 12]])"
      ]
     },
     "execution_count": 32,
     "metadata": {},
     "output_type": "execute_result"
    }
   ],
   "source": [
    "j.reshape(6,2)"
   ]
  },
  {
   "cell_type": "code",
   "execution_count": 33,
   "id": "0f0db9ca",
   "metadata": {},
   "outputs": [
    {
     "data": {
      "text/plain": [
       "1"
      ]
     },
     "execution_count": 33,
     "metadata": {},
     "output_type": "execute_result"
    }
   ],
   "source": [
    "j.min()"
   ]
  },
  {
   "cell_type": "code",
   "execution_count": 34,
   "id": "9151e7a5",
   "metadata": {},
   "outputs": [
    {
     "data": {
      "text/plain": [
       "12"
      ]
     },
     "execution_count": 34,
     "metadata": {},
     "output_type": "execute_result"
    }
   ],
   "source": [
    "j.max()"
   ]
  },
  {
   "cell_type": "code",
   "execution_count": 37,
   "id": "0bb35067",
   "metadata": {},
   "outputs": [
    {
     "data": {
      "text/plain": [
       "dtype('int32')"
      ]
     },
     "execution_count": 37,
     "metadata": {},
     "output_type": "execute_result"
    }
   ],
   "source": [
    "a.dtype # int32 shows 32 bits are consumed (shows bits alocated)"
   ]
  },
  {
   "cell_type": "code",
   "execution_count": 36,
   "id": "ad78f463",
   "metadata": {},
   "outputs": [
    {
     "data": {
      "text/plain": [
       "4"
      ]
     },
     "execution_count": 36,
     "metadata": {},
     "output_type": "execute_result"
    }
   ],
   "source": [
    "a.itemsize # storage has 4 bit (32bit/8bit)=4bit"
   ]
  },
  {
   "cell_type": "code",
   "execution_count": 38,
   "id": "dc4aad92",
   "metadata": {},
   "outputs": [],
   "source": [
    "f=np.array([[1,2,3,4],[5,6,7,8]],dtype='float64')"
   ]
  },
  {
   "cell_type": "code",
   "execution_count": 39,
   "id": "83be5480",
   "metadata": {},
   "outputs": [
    {
     "data": {
      "text/plain": [
       "array([[1., 2., 3., 4.],\n",
       "       [5., 6., 7., 8.]])"
      ]
     },
     "execution_count": 39,
     "metadata": {},
     "output_type": "execute_result"
    }
   ],
   "source": [
    "f"
   ]
  },
  {
   "cell_type": "code",
   "execution_count": 41,
   "id": "050eb6b4",
   "metadata": {},
   "outputs": [
    {
     "data": {
      "text/plain": [
       "dtype('float64')"
      ]
     },
     "execution_count": 41,
     "metadata": {},
     "output_type": "execute_result"
    }
   ],
   "source": [
    "f.dtype "
   ]
  },
  {
   "cell_type": "code",
   "execution_count": 42,
   "id": "4c22362c",
   "metadata": {},
   "outputs": [
    {
     "data": {
      "text/plain": [
       "8"
      ]
     },
     "execution_count": 42,
     "metadata": {},
     "output_type": "execute_result"
    }
   ],
   "source": [
    "f.itemsize #64/8 =8 bit consume"
   ]
  },
  {
   "cell_type": "code",
   "execution_count": 46,
   "id": "8c913a8c",
   "metadata": {},
   "outputs": [
    {
     "name": "stdout",
     "output_type": "stream",
     "text": [
      "[0 1 2 3 4 5 6 7 8 9]\n"
     ]
    },
    {
     "data": {
      "text/plain": [
       "10"
      ]
     },
     "execution_count": 46,
     "metadata": {},
     "output_type": "execute_result"
    }
   ],
   "source": [
    "x=np.arange(10)\n",
    "print(x)\n",
    "len(x)"
   ]
  },
  {
   "cell_type": "code",
   "execution_count": 47,
   "id": "104cd42f",
   "metadata": {},
   "outputs": [
    {
     "data": {
      "text/plain": [
       "array([[0, 1, 2, 3, 4],\n",
       "       [5, 6, 7, 8, 9]])"
      ]
     },
     "execution_count": 47,
     "metadata": {},
     "output_type": "execute_result"
    }
   ],
   "source": [
    "a=x.reshape(2,5)\n",
    "a"
   ]
  },
  {
   "cell_type": "code",
   "execution_count": 48,
   "id": "3bffe548",
   "metadata": {},
   "outputs": [
    {
     "data": {
      "text/plain": [
       "array([[ 0,  1,  2,  3,  4],\n",
       "       [ 5,  6,  7,  8,  9],\n",
       "       [10, 11, 12, 13, 14]])"
      ]
     },
     "execution_count": 48,
     "metadata": {},
     "output_type": "execute_result"
    }
   ],
   "source": [
    "c=np.arange(15)\n",
    "c.reshape(3,5)"
   ]
  },
  {
   "cell_type": "code",
   "execution_count": 51,
   "id": "5015e5e1",
   "metadata": {},
   "outputs": [
    {
     "data": {
      "text/plain": [
       "array([[ 0,  1,  2,  3],\n",
       "       [ 4,  5,  6,  7],\n",
       "       [ 8,  9, 10, 11],\n",
       "       [12, 13, 14, 15],\n",
       "       [16, 17, 18, 19]])"
      ]
     },
     "execution_count": 51,
     "metadata": {},
     "output_type": "execute_result"
    }
   ],
   "source": [
    "z=np.arange(20)\n",
    "a=z.reshape(5,4)\n",
    "a"
   ]
  },
  {
   "cell_type": "code",
   "execution_count": 52,
   "id": "5a3aa64d",
   "metadata": {},
   "outputs": [
    {
     "data": {
      "text/plain": [
       "1"
      ]
     },
     "execution_count": 52,
     "metadata": {},
     "output_type": "execute_result"
    }
   ],
   "source": [
    "z.ndim"
   ]
  },
  {
   "cell_type": "code",
   "execution_count": 53,
   "id": "876fbd21",
   "metadata": {},
   "outputs": [
    {
     "data": {
      "text/plain": [
       "2"
      ]
     },
     "execution_count": 53,
     "metadata": {},
     "output_type": "execute_result"
    }
   ],
   "source": [
    "a.ndim"
   ]
  },
  {
   "cell_type": "code",
   "execution_count": 54,
   "id": "ad4c7f89",
   "metadata": {},
   "outputs": [
    {
     "data": {
      "text/plain": [
       "4"
      ]
     },
     "execution_count": 54,
     "metadata": {},
     "output_type": "execute_result"
    }
   ],
   "source": [
    "a.itemsize"
   ]
  },
  {
   "cell_type": "code",
   "execution_count": 55,
   "id": "172a057d",
   "metadata": {},
   "outputs": [
    {
     "data": {
      "text/plain": [
       "dtype('int32')"
      ]
     },
     "execution_count": 55,
     "metadata": {},
     "output_type": "execute_result"
    }
   ],
   "source": [
    "a.dtype"
   ]
  },
  {
   "cell_type": "code",
   "execution_count": 56,
   "id": "095343ae",
   "metadata": {},
   "outputs": [
    {
     "data": {
      "text/plain": [
       "4"
      ]
     },
     "execution_count": 56,
     "metadata": {},
     "output_type": "execute_result"
    }
   ],
   "source": [
    "z.itemsize"
   ]
  },
  {
   "cell_type": "code",
   "execution_count": 57,
   "id": "fb9fb8e8",
   "metadata": {},
   "outputs": [
    {
     "data": {
      "text/plain": [
       "dtype('int32')"
      ]
     },
     "execution_count": 57,
     "metadata": {},
     "output_type": "execute_result"
    }
   ],
   "source": [
    "z.dtype"
   ]
  },
  {
   "cell_type": "code",
   "execution_count": 59,
   "id": "4a6b8ead",
   "metadata": {},
   "outputs": [
    {
     "data": {
      "text/plain": [
       "array([[ 1,  2,  3,  4,  5],\n",
       "       [66,  7,  8,  9, 10]])"
      ]
     },
     "execution_count": 59,
     "metadata": {},
     "output_type": "execute_result"
    }
   ],
   "source": [
    "\n",
    "a=np.array([1,2,3,4,5,66,7,8,9,10])\n",
    "s=a.reshape(2,5)\n",
    "s"
   ]
  },
  {
   "cell_type": "code",
   "execution_count": 61,
   "id": "ad64e780",
   "metadata": {},
   "outputs": [
    {
     "data": {
      "text/plain": [
       "dtype('int32')"
      ]
     },
     "execution_count": 61,
     "metadata": {},
     "output_type": "execute_result"
    }
   ],
   "source": [
    "s.dtype"
   ]
  },
  {
   "cell_type": "code",
   "execution_count": 62,
   "id": "be140095",
   "metadata": {},
   "outputs": [
    {
     "data": {
      "text/plain": [
       "4"
      ]
     },
     "execution_count": 62,
     "metadata": {},
     "output_type": "execute_result"
    }
   ],
   "source": [
    "s.itemsize"
   ]
  },
  {
   "cell_type": "code",
   "execution_count": 63,
   "id": "7e8cbde4",
   "metadata": {},
   "outputs": [
    {
     "data": {
      "text/plain": [
       "(2, 5)"
      ]
     },
     "execution_count": 63,
     "metadata": {},
     "output_type": "execute_result"
    }
   ],
   "source": [
    "s.shape"
   ]
  },
  {
   "cell_type": "code",
   "execution_count": 64,
   "id": "bf0cbf24",
   "metadata": {},
   "outputs": [
    {
     "data": {
      "text/plain": [
       "2"
      ]
     },
     "execution_count": 64,
     "metadata": {},
     "output_type": "execute_result"
    }
   ],
   "source": [
    "s.ndim"
   ]
  },
  {
   "cell_type": "code",
   "execution_count": 65,
   "id": "61c117df",
   "metadata": {},
   "outputs": [
    {
     "data": {
      "text/plain": [
       "array([ 1,  2,  3,  4,  5, 66,  7,  8,  9, 10])"
      ]
     },
     "execution_count": 65,
     "metadata": {},
     "output_type": "execute_result"
    }
   ],
   "source": [
    "# back to one line\n",
    "s.ravel()"
   ]
  },
  {
   "cell_type": "code",
   "execution_count": 66,
   "id": "861c4248",
   "metadata": {},
   "outputs": [
    {
     "data": {
      "text/plain": [
       "array([[0., 0., 0., 0.],\n",
       "       [0., 0., 0., 0.],\n",
       "       [0., 0., 0., 0.]])"
      ]
     },
     "execution_count": 66,
     "metadata": {},
     "output_type": "execute_result"
    }
   ],
   "source": [
    "np.zeros([3,4])"
   ]
  },
  {
   "cell_type": "code",
   "execution_count": 67,
   "id": "16c2a474",
   "metadata": {},
   "outputs": [
    {
     "data": {
      "text/plain": [
       "array([[1., 1., 1., 1.],\n",
       "       [1., 1., 1., 1.],\n",
       "       [1., 1., 1., 1.]])"
      ]
     },
     "execution_count": 67,
     "metadata": {},
     "output_type": "execute_result"
    }
   ],
   "source": [
    "np.ones([3,4])"
   ]
  },
  {
   "cell_type": "code",
   "execution_count": 68,
   "id": "a61cfa4c",
   "metadata": {},
   "outputs": [
    {
     "data": {
      "text/plain": [
       "array([0, 1, 2, 3, 4])"
      ]
     },
     "execution_count": 68,
     "metadata": {},
     "output_type": "execute_result"
    }
   ],
   "source": [
    "np.arange(5)"
   ]
  },
  {
   "cell_type": "code",
   "execution_count": 69,
   "id": "b4625992",
   "metadata": {},
   "outputs": [
    {
     "data": {
      "text/plain": [
       "array([0, 1, 2, 3, 4])"
      ]
     },
     "execution_count": 69,
     "metadata": {},
     "output_type": "execute_result"
    }
   ],
   "source": [
    "np.arange(0,5)"
   ]
  },
  {
   "cell_type": "code",
   "execution_count": 72,
   "id": "9b25e1c1",
   "metadata": {},
   "outputs": [
    {
     "data": {
      "text/plain": [
       "array([1, 2, 3, 4])"
      ]
     },
     "execution_count": 72,
     "metadata": {},
     "output_type": "execute_result"
    }
   ],
   "source": [
    "np.arange(1,5)"
   ]
  },
  {
   "cell_type": "code",
   "execution_count": 74,
   "id": "bc7600a9",
   "metadata": {},
   "outputs": [
    {
     "data": {
      "text/plain": [
       "array([0, 2, 4])"
      ]
     },
     "execution_count": 74,
     "metadata": {},
     "output_type": "execute_result"
    }
   ],
   "source": [
    "np.arange(0,5,2)"
   ]
  },
  {
   "cell_type": "code",
   "execution_count": 76,
   "id": "4d882400",
   "metadata": {},
   "outputs": [],
   "source": [
    "e=np.arange(5,50,5)\n",
    "c=e.reshape(3,3)"
   ]
  },
  {
   "cell_type": "code",
   "execution_count": 77,
   "id": "067b421d",
   "metadata": {},
   "outputs": [
    {
     "data": {
      "text/plain": [
       "array([[ 5, 10, 15],\n",
       "       [20, 25, 30],\n",
       "       [35, 40, 45]])"
      ]
     },
     "execution_count": 77,
     "metadata": {},
     "output_type": "execute_result"
    }
   ],
   "source": [
    "c"
   ]
  },
  {
   "cell_type": "markdown",
   "id": "2bd9f644",
   "metadata": {},
   "source": [
    "# Broadcasting"
   ]
  },
  {
   "cell_type": "code",
   "execution_count": 78,
   "id": "13007ae0",
   "metadata": {},
   "outputs": [
    {
     "data": {
      "text/plain": [
       "array([ 1,  4,  9, 16, 25])"
      ]
     },
     "execution_count": 78,
     "metadata": {},
     "output_type": "execute_result"
    }
   ],
   "source": [
    "a=np.array([1,2,3,4,5])\n",
    "b=np.array([1,2,3,4,5])\n",
    "#1*1,2*2... so on\n",
    "a*b"
   ]
  },
  {
   "cell_type": "code",
   "execution_count": 79,
   "id": "1d41f801",
   "metadata": {},
   "outputs": [
    {
     "data": {
      "text/plain": [
       "array([2.4, 4.6, 2. , 4. ])"
      ]
     },
     "execution_count": 79,
     "metadata": {},
     "output_type": "execute_result"
    }
   ],
   "source": [
    "a=np.array([1.2,2.3,1,2])\n",
    "a*2"
   ]
  },
  {
   "cell_type": "code",
   "execution_count": 80,
   "id": "ced7e277",
   "metadata": {},
   "outputs": [
    {
     "data": {
      "text/plain": [
       "array([  0,  30,  80, 150])"
      ]
     },
     "execution_count": 80,
     "metadata": {},
     "output_type": "execute_result"
    }
   ],
   "source": [
    "a=np.array([20,30,40,50])\n",
    "b=np.arange(4) #0,1,2,3\n",
    "a*b"
   ]
  },
  {
   "cell_type": "code",
   "execution_count": 81,
   "id": "e6d0e42f",
   "metadata": {},
   "outputs": [
    {
     "data": {
      "text/plain": [
       "array([20, 29, 38, 47])"
      ]
     },
     "execution_count": 81,
     "metadata": {},
     "output_type": "execute_result"
    }
   ],
   "source": [
    "a-b"
   ]
  },
  {
   "cell_type": "code",
   "execution_count": 83,
   "id": "120fd3d9",
   "metadata": {},
   "outputs": [
    {
     "data": {
      "text/plain": [
       "array([  0,  30,  80, 150])"
      ]
     },
     "execution_count": 83,
     "metadata": {},
     "output_type": "execute_result"
    }
   ],
   "source": [
    "a*b"
   ]
  },
  {
   "cell_type": "code",
   "execution_count": 86,
   "id": "6a777164",
   "metadata": {},
   "outputs": [
    {
     "data": {
      "text/plain": [
       "array([     1,     30,   1600, 125000], dtype=int32)"
      ]
     },
     "execution_count": 86,
     "metadata": {},
     "output_type": "execute_result"
    }
   ],
   "source": [
    "a**b"
   ]
  },
  {
   "cell_type": "code",
   "execution_count": 89,
   "id": "24453648",
   "metadata": {},
   "outputs": [
    {
     "data": {
      "text/plain": [
       "array([[1., 1., 1.],\n",
       "       [1., 1., 1.]])"
      ]
     },
     "execution_count": 89,
     "metadata": {},
     "output_type": "execute_result"
    }
   ],
   "source": [
    "c=np.ones([2,3])\n",
    "c"
   ]
  },
  {
   "cell_type": "code",
   "execution_count": 90,
   "id": "5f1af637",
   "metadata": {},
   "outputs": [
    {
     "data": {
      "text/plain": [
       "array([[0.94186603, 0.73775516, 0.2303168 ],\n",
       "       [0.99520251, 0.60358573, 0.44021515]])"
      ]
     },
     "execution_count": 90,
     "metadata": {},
     "output_type": "execute_result"
    }
   ],
   "source": [
    "c=np.random.random([2,3])\n",
    "c"
   ]
  },
  {
   "cell_type": "code",
   "execution_count": 97,
   "id": "ae357b30",
   "metadata": {},
   "outputs": [
    {
     "data": {
      "text/plain": [
       "array([[1., 1., 1.],\n",
       "       [1., 1., 1.]])"
      ]
     },
     "execution_count": 97,
     "metadata": {},
     "output_type": "execute_result"
    }
   ],
   "source": [
    "cb=np.ones([2,3])\n",
    "cb"
   ]
  },
  {
   "cell_type": "code",
   "execution_count": 98,
   "id": "a7230350",
   "metadata": {},
   "outputs": [
    {
     "data": {
      "text/plain": [
       "array([[1.94186603, 1.73775516, 1.2303168 ],\n",
       "       [1.99520251, 1.60358573, 1.44021515]])"
      ]
     },
     "execution_count": 98,
     "metadata": {},
     "output_type": "execute_result"
    }
   ],
   "source": [
    "c+cb"
   ]
  },
  {
   "cell_type": "code",
   "execution_count": 99,
   "id": "5b7a14c4",
   "metadata": {},
   "outputs": [
    {
     "data": {
      "text/plain": [
       "array([[-0.05813397, -0.26224484, -0.7696832 ],\n",
       "       [-0.00479749, -0.39641427, -0.55978485]])"
      ]
     },
     "execution_count": 99,
     "metadata": {},
     "output_type": "execute_result"
    }
   ],
   "source": [
    "c-cb"
   ]
  },
  {
   "cell_type": "code",
   "execution_count": 100,
   "id": "cd9c22ac",
   "metadata": {},
   "outputs": [
    {
     "data": {
      "text/plain": [
       "array([[0.94186603, 0.73775516, 0.2303168 ],\n",
       "       [0.99520251, 0.60358573, 0.44021515]])"
      ]
     },
     "execution_count": 100,
     "metadata": {},
     "output_type": "execute_result"
    }
   ],
   "source": [
    "c*cb"
   ]
  },
  {
   "cell_type": "markdown",
   "id": "d59743fe",
   "metadata": {},
   "source": [
    "# slicing"
   ]
  },
  {
   "cell_type": "code",
   "execution_count": 102,
   "id": "f1ec844f",
   "metadata": {},
   "outputs": [
    {
     "data": {
      "text/plain": [
       "array([0, 1, 2, 3, 4, 5, 6, 7, 8, 9])"
      ]
     },
     "execution_count": 102,
     "metadata": {},
     "output_type": "execute_result"
    }
   ],
   "source": [
    "a=np.arange(10)\n",
    "a"
   ]
  },
  {
   "cell_type": "code",
   "execution_count": 103,
   "id": "def5f96c",
   "metadata": {},
   "outputs": [
    {
     "data": {
      "text/plain": [
       "2"
      ]
     },
     "execution_count": 103,
     "metadata": {},
     "output_type": "execute_result"
    }
   ],
   "source": [
    "a[2]"
   ]
  },
  {
   "cell_type": "code",
   "execution_count": 106,
   "id": "4e5c2865",
   "metadata": {},
   "outputs": [
    {
     "data": {
      "text/plain": [
       "array([0, 1])"
      ]
     },
     "execution_count": 106,
     "metadata": {},
     "output_type": "execute_result"
    }
   ],
   "source": [
    "a[:2]"
   ]
  },
  {
   "cell_type": "code",
   "execution_count": 107,
   "id": "82d5fee8",
   "metadata": {},
   "outputs": [
    {
     "data": {
      "text/plain": [
       "array([[0, 1, 2, 3, 4],\n",
       "       [5, 6, 7, 8, 9]])"
      ]
     },
     "execution_count": 107,
     "metadata": {},
     "output_type": "execute_result"
    }
   ],
   "source": [
    "a.reshape([2,5])\n"
   ]
  },
  {
   "cell_type": "code",
   "execution_count": 108,
   "id": "0771a33a",
   "metadata": {},
   "outputs": [],
   "source": [
    "d3=np.array([np.nan,1,2,3,np.nan,6,7,np.nan])"
   ]
  },
  {
   "cell_type": "code",
   "execution_count": 109,
   "id": "f1fd26d3",
   "metadata": {},
   "outputs": [
    {
     "data": {
      "text/plain": [
       "array([nan,  1.,  2.,  3., nan,  6.,  7., nan])"
      ]
     },
     "execution_count": 109,
     "metadata": {},
     "output_type": "execute_result"
    }
   ],
   "source": [
    "d3"
   ]
  },
  {
   "cell_type": "code",
   "execution_count": 112,
   "id": "1ca74c58",
   "metadata": {},
   "outputs": [
    {
     "data": {
      "text/plain": [
       "array([[nan,  1.,  2.,  3.],\n",
       "       [nan,  6.,  7., nan]])"
      ]
     },
     "execution_count": 112,
     "metadata": {},
     "output_type": "execute_result"
    }
   ],
   "source": [
    "d3.reshape([2,4])"
   ]
  },
  {
   "cell_type": "code",
   "execution_count": 113,
   "id": "dec56378",
   "metadata": {},
   "outputs": [
    {
     "data": {
      "text/plain": [
       "dtype('float64')"
      ]
     },
     "execution_count": 113,
     "metadata": {},
     "output_type": "execute_result"
    }
   ],
   "source": [
    "d3.dtype"
   ]
  },
  {
   "cell_type": "code",
   "execution_count": 115,
   "id": "63d6c947",
   "metadata": {},
   "outputs": [
    {
     "data": {
      "text/plain": [
       "8"
      ]
     },
     "execution_count": 115,
     "metadata": {},
     "output_type": "execute_result"
    }
   ],
   "source": [
    "d3.itemsize"
   ]
  },
  {
   "cell_type": "code",
   "execution_count": 116,
   "id": "78f951a6",
   "metadata": {},
   "outputs": [
    {
     "data": {
      "text/plain": [
       "1"
      ]
     },
     "execution_count": 116,
     "metadata": {},
     "output_type": "execute_result"
    }
   ],
   "source": [
    "d3.ndim"
   ]
  },
  {
   "cell_type": "code",
   "execution_count": 117,
   "id": "d742142e",
   "metadata": {},
   "outputs": [
    {
     "data": {
      "text/plain": [
       "array([nan,  1.,  2.,  3., nan,  6.,  7., nan])"
      ]
     },
     "execution_count": 117,
     "metadata": {},
     "output_type": "execute_result"
    }
   ],
   "source": [
    "d3.ravel()"
   ]
  },
  {
   "cell_type": "code",
   "execution_count": 120,
   "id": "5ff7a856",
   "metadata": {},
   "outputs": [
    {
     "data": {
      "text/plain": [
       "array([[0.87903289, 0.91922256],\n",
       "       [0.15196776, 0.89905863]])"
      ]
     },
     "execution_count": 120,
     "metadata": {},
     "output_type": "execute_result"
    }
   ],
   "source": [
    "np.random.rand(2,2)"
   ]
  },
  {
   "cell_type": "code",
   "execution_count": 122,
   "id": "072eaef9",
   "metadata": {},
   "outputs": [
    {
     "data": {
      "text/plain": [
       "array([[ 0.44776945, -0.24821564],\n",
       "       [ 1.38982899,  0.60998259]])"
      ]
     },
     "execution_count": 122,
     "metadata": {},
     "output_type": "execute_result"
    }
   ],
   "source": [
    "np.random.randn(2,2) # some postive and some negative"
   ]
  },
  {
   "cell_type": "markdown",
   "id": "087c19ce",
   "metadata": {},
   "source": [
    "# More LMS practice"
   ]
  },
  {
   "cell_type": "code",
   "execution_count": 1,
   "id": "c382eade",
   "metadata": {},
   "outputs": [
    {
     "data": {
      "text/plain": [
       "array([5, 8, 9])"
      ]
     },
     "execution_count": 1,
     "metadata": {},
     "output_type": "execute_result"
    }
   ],
   "source": [
    "import numpy as np\n",
    "\n",
    "np.array([5,8,9])# structure in numpy \n",
    "#array hold only numerical"
   ]
  },
  {
   "cell_type": "code",
   "execution_count": 2,
   "id": "605793ec",
   "metadata": {},
   "outputs": [
    {
     "data": {
      "text/plain": [
       "list"
      ]
     },
     "execution_count": 2,
     "metadata": {},
     "output_type": "execute_result"
    }
   ],
   "source": [
    "type([5,8,9])"
   ]
  },
  {
   "cell_type": "code",
   "execution_count": 3,
   "id": "5da6f358",
   "metadata": {},
   "outputs": [
    {
     "data": {
      "text/plain": [
       "numpy.ndarray"
      ]
     },
     "execution_count": 3,
     "metadata": {},
     "output_type": "execute_result"
    }
   ],
   "source": [
    "type(np.array([5,8,9]))"
   ]
  },
  {
   "cell_type": "code",
   "execution_count": 4,
   "id": "3f7876c7",
   "metadata": {},
   "outputs": [
    {
     "name": "stdout",
     "output_type": "stream",
     "text": [
      "Type - int32\n"
     ]
    }
   ],
   "source": [
    "a=np.array([[1,2],[3,4],[4,5]])\n",
    "print(\"Type -\",a.dtype)"
   ]
  },
  {
   "cell_type": "code",
   "execution_count": 5,
   "id": "cad84078",
   "metadata": {},
   "outputs": [
    {
     "data": {
      "text/plain": [
       "array([[1, 2],\n",
       "       [3, 4],\n",
       "       [4, 5]])"
      ]
     },
     "execution_count": 5,
     "metadata": {},
     "output_type": "execute_result"
    }
   ],
   "source": [
    "a"
   ]
  },
  {
   "cell_type": "code",
   "execution_count": 6,
   "id": "697c4f54",
   "metadata": {},
   "outputs": [
    {
     "data": {
      "text/plain": [
       "2"
      ]
     },
     "execution_count": 6,
     "metadata": {},
     "output_type": "execute_result"
    }
   ],
   "source": [
    "a.ndim"
   ]
  },
  {
   "cell_type": "code",
   "execution_count": 7,
   "id": "bb9b6641",
   "metadata": {},
   "outputs": [
    {
     "data": {
      "text/plain": [
       "array([[1, 2, 3],\n",
       "       [4, 4, 5]])"
      ]
     },
     "execution_count": 7,
     "metadata": {},
     "output_type": "execute_result"
    }
   ],
   "source": [
    "a.reshape(2,3)"
   ]
  },
  {
   "cell_type": "code",
   "execution_count": 8,
   "id": "f89b87ab",
   "metadata": {},
   "outputs": [
    {
     "data": {
      "text/plain": [
       "dtype('int32')"
      ]
     },
     "execution_count": 8,
     "metadata": {},
     "output_type": "execute_result"
    }
   ],
   "source": [
    "a.dtype"
   ]
  },
  {
   "cell_type": "code",
   "execution_count": 9,
   "id": "3167b5f2",
   "metadata": {},
   "outputs": [
    {
     "data": {
      "text/plain": [
       "4"
      ]
     },
     "execution_count": 9,
     "metadata": {},
     "output_type": "execute_result"
    }
   ],
   "source": [
    "a.itemsize"
   ]
  },
  {
   "cell_type": "code",
   "execution_count": 10,
   "id": "b001540a",
   "metadata": {},
   "outputs": [
    {
     "data": {
      "text/plain": [
       "array([1., 2., 3.])"
      ]
     },
     "execution_count": 10,
     "metadata": {},
     "output_type": "execute_result"
    }
   ],
   "source": [
    "c=np.array([1,2,3],dtype=float)\n",
    "c"
   ]
  },
  {
   "cell_type": "code",
   "execution_count": 11,
   "id": "a03282bc",
   "metadata": {},
   "outputs": [
    {
     "data": {
      "text/plain": [
       "dtype('float64')"
      ]
     },
     "execution_count": 11,
     "metadata": {},
     "output_type": "execute_result"
    }
   ],
   "source": [
    "c.dtype"
   ]
  },
  {
   "cell_type": "code",
   "execution_count": 12,
   "id": "0ff53ef5",
   "metadata": {},
   "outputs": [
    {
     "data": {
      "text/plain": [
       "8"
      ]
     },
     "execution_count": 12,
     "metadata": {},
     "output_type": "execute_result"
    }
   ],
   "source": [
    "c.itemsize"
   ]
  },
  {
   "cell_type": "code",
   "execution_count": 13,
   "id": "ad708fcb",
   "metadata": {},
   "outputs": [
    {
     "data": {
      "text/plain": [
       "array([[1, 2, 3],\n",
       "       [3, 2, 1]])"
      ]
     },
     "execution_count": 13,
     "metadata": {},
     "output_type": "execute_result"
    }
   ],
   "source": [
    "# creating Matrix\n",
    "np.array(np.mat('1 2 3;3 2 1'))"
   ]
  },
  {
   "cell_type": "code",
   "execution_count": 15,
   "id": "349031da",
   "metadata": {},
   "outputs": [
    {
     "name": "stdout",
     "output_type": "stream",
     "text": [
      "[1, 2]\n"
     ]
    }
   ],
   "source": [
    "#convert a list into an array:\n",
    "\n",
    "a=[1,2]\n",
    "\n",
    "#  Making copy of a\n",
    "c=np.array(a)\n",
    "print(c)"
   ]
  },
  {
   "cell_type": "markdown",
   "id": "2d0bce2d",
   "metadata": {},
   "source": [
    "# Numpy Data Types"
   ]
  },
  {
   "cell_type": "code",
   "execution_count": 16,
   "id": "bcfdedca",
   "metadata": {},
   "outputs": [
    {
     "name": "stdout",
     "output_type": "stream",
     "text": [
      "Type/class of this object:  <class 'numpy.ndarray'>\n",
      "Here is the matrix\n",
      "...........\n",
      " [[1 2 3]\n",
      " [4 5 6]\n",
      " [7 8 9]] \n",
      "------\n",
      "Dimension shows 2\n",
      "Size of the matrix  9\n",
      "Shape of the matrix  (3, 3)\n",
      "Data type of the matrix  int32\n",
      "Item Size  4\n"
     ]
    }
   ],
   "source": [
    "my_mat=[[1,2,3],[4,5,6],[7,8,9]]\n",
    "\n",
    "mat= np.array(my_mat)\n",
    "\n",
    "print(\"Type/class of this object: \",type(mat))\n",
    "print(\"Here is the matrix\\n...........\\n\",mat,\"\\n------\")\n",
    "print(\"Dimension shows \",mat.ndim,sep='')#sep is another option\n",
    "print(\"Size of the matrix \",mat.size)\n",
    "print(\"Shape of the matrix \",mat.shape)\n",
    "print(\"Data type of the matrix \",mat.dtype)\n",
    "print(\"Item Size \",mat.itemsize)"
   ]
  },
  {
   "cell_type": "markdown",
   "id": "9e5189e5",
   "metadata": {},
   "source": [
    "# Arrange and Linspace"
   ]
  },
  {
   "cell_type": "code",
   "execution_count": 17,
   "id": "05d4ee6e",
   "metadata": {},
   "outputs": [],
   "source": [
    "# range- python\n",
    "# aranage for numpy"
   ]
  },
  {
   "cell_type": "code",
   "execution_count": 23,
   "id": "48702a9b",
   "metadata": {},
   "outputs": [
    {
     "data": {
      "text/plain": [
       "array([ 2. ,  2.4,  2.8,  3.2,  3.6,  4. ,  4.4,  4.8,  5.2,  5.6,  6. ,\n",
       "        6.4,  6.8,  7.2,  7.6,  8. ,  8.4,  8.8,  9.2,  9.6, 10. , 10.4])"
      ]
     },
     "execution_count": 23,
     "metadata": {},
     "output_type": "execute_result"
    }
   ],
   "source": [
    "a=np.arange(2,10.5,0.4)\n",
    "a"
   ]
  },
  {
   "cell_type": "code",
   "execution_count": 25,
   "id": "8aed6734",
   "metadata": {},
   "outputs": [
    {
     "data": {
      "text/plain": [
       "array([10.4, 10. ,  9.6,  9.2,  8.8,  8.4,  8. ,  7.6,  7.2,  6.8,  6.4,\n",
       "        6. ,  5.6,  5.2,  4.8,  4.4,  4. ,  3.6,  3.2,  2.8,  2.4,  2. ])"
      ]
     },
     "execution_count": 25,
     "metadata": {},
     "output_type": "execute_result"
    }
   ],
   "source": [
    "# step size is reversed\n",
    "a[::-1] #[start:endpoint:stepsize]"
   ]
  },
  {
   "cell_type": "code",
   "execution_count": 24,
   "id": "46171e8c",
   "metadata": {},
   "outputs": [
    {
     "data": {
      "text/plain": [
       "array([10.4, 10. ,  9.6,  9.2,  8.8,  8.4,  8. ,  7.6,  7.2,  6.8,  6.4])"
      ]
     },
     "execution_count": 24,
     "metadata": {},
     "output_type": "execute_result"
    }
   ],
   "source": [
    "# count till 10 from back \"0 to 9\"\n",
    "a[:10:-1] #[start:endpoint:stepsize]"
   ]
  },
  {
   "cell_type": "code",
   "execution_count": 26,
   "id": "07e47e37",
   "metadata": {},
   "outputs": [
    {
     "name": "stdout",
     "output_type": "stream",
     "text": [
      "Every 5th number from 50 in reverse order \n",
      " [50 45 40 35 30 25 20 15 10  5]\n"
     ]
    }
   ],
   "source": [
    "print(\"Every 5th number from 50 in reverse order \\n\",np.arange(50,0,-5))"
   ]
  },
  {
   "cell_type": "markdown",
   "id": "94c4d733",
   "metadata": {},
   "source": [
    "# Lin space\n",
    "\n",
    "np.linsapce(0,40,10)\n",
    "\n",
    "- would generate linear space between 0 to 40  and ount will be 10 "
   ]
  },
  {
   "cell_type": "code",
   "execution_count": 28,
   "id": "b452eb14",
   "metadata": {},
   "outputs": [
    {
     "name": "stdout",
     "output_type": "stream",
     "text": [
      "Linear spaced number between 0 to 40 \n",
      "\n",
      "------- \n",
      "[ 0.          4.44444444  8.88888889 13.33333333 17.77777778 22.22222222\n",
      " 26.66666667 31.11111111 35.55555556 40.        ]\n"
     ]
    }
   ],
   "source": [
    "# get me 10 numbers having linear space between them like 0 to 40 \n",
    "print(\"Linear spaced number between 0 to 40 \\n\\n------- \")\n",
    "print(np.linspace(0,40,10))"
   ]
  },
  {
   "cell_type": "code",
   "execution_count": 30,
   "id": "a50b4340",
   "metadata": {},
   "outputs": [
    {
     "data": {
      "text/plain": [
       "(array([2.  , 2.25, 2.5 , 2.75]), 0.25)"
      ]
     },
     "execution_count": 30,
     "metadata": {},
     "output_type": "execute_result"
    }
   ],
   "source": [
    "# Include end point (will add the last number) and retsep(will show stop taken)\n",
    "np.linspace(2.0,3.0,num=4,endpoint=False,retstep=True)"
   ]
  },
  {
   "cell_type": "code",
   "execution_count": 31,
   "id": "88fac468",
   "metadata": {},
   "outputs": [
    {
     "data": {
      "text/plain": [
       "(array([2.        , 2.33333333, 2.66666667, 3.        ]), 0.3333333333333333)"
      ]
     },
     "execution_count": 31,
     "metadata": {},
     "output_type": "execute_result"
    }
   ],
   "source": [
    "np.linspace(2.0,3.0,num=4,endpoint=True,retstep=True)"
   ]
  },
  {
   "cell_type": "markdown",
   "id": "e401a124",
   "metadata": {},
   "source": [
    "# Matrix Creation"
   ]
  },
  {
   "cell_type": "code",
   "execution_count": 32,
   "id": "51040787",
   "metadata": {},
   "outputs": [
    {
     "name": "stdout",
     "output_type": "stream",
     "text": [
      "Vector of zeroes\n",
      "------------------------\n",
      "[0. 0. 0. 0. 0.]\n"
     ]
    }
   ],
   "source": [
    "print(\"Vector of zeroes\\n------------------------\")\n",
    "print(np.zeros(5))"
   ]
  },
  {
   "cell_type": "code",
   "execution_count": 34,
   "id": "090552ee",
   "metadata": {},
   "outputs": [
    {
     "data": {
      "text/plain": [
       "array([1., 1., 1., 1., 1.])"
      ]
     },
     "execution_count": 34,
     "metadata": {},
     "output_type": "execute_result"
    }
   ],
   "source": [
    "np.ones(5)"
   ]
  },
  {
   "cell_type": "code",
   "execution_count": 39,
   "id": "e18b08c6",
   "metadata": {},
   "outputs": [
    {
     "data": {
      "text/plain": [
       "array([[1., 1., 1., 1., 1.],\n",
       "       [1., 1., 1., 1., 1.]])"
      ]
     },
     "execution_count": 39,
     "metadata": {},
     "output_type": "execute_result"
    }
   ],
   "source": [
    "# for one we use bracket (for list)\n",
    "np.ones((2,5))"
   ]
  },
  {
   "cell_type": "code",
   "execution_count": 40,
   "id": "b60a8293",
   "metadata": {},
   "outputs": [],
   "source": [
    "# contruct diagonal matrix\n",
    "\n",
    "x= np.arange(30).reshape(3,10)"
   ]
  },
  {
   "cell_type": "code",
   "execution_count": 41,
   "id": "bba8f3c1",
   "metadata": {},
   "outputs": [
    {
     "data": {
      "text/plain": [
       "array([[ 0,  1,  2,  3,  4,  5,  6,  7,  8,  9],\n",
       "       [10, 11, 12, 13, 14, 15, 16, 17, 18, 19],\n",
       "       [20, 21, 22, 23, 24, 25, 26, 27, 28, 29]])"
      ]
     },
     "execution_count": 41,
     "metadata": {},
     "output_type": "execute_result"
    }
   ],
   "source": [
    "x"
   ]
  },
  {
   "cell_type": "markdown",
   "id": "323bdbe1",
   "metadata": {},
   "source": [
    "# Random Number Generation"
   ]
  },
  {
   "cell_type": "code",
   "execution_count": 42,
   "id": "d8821498",
   "metadata": {},
   "outputs": [],
   "source": [
    "import numpy as np"
   ]
  },
  {
   "cell_type": "markdown",
   "id": "bb6b9933",
   "metadata": {},
   "source": [
    "# number genration\n",
    "\n",
    "1. np.random.rand-> positive number with normal distribution\n",
    "2. np.random.randn-> postive and negative number generated \n",
    "3. np.random.randint-> to genrate postive postive number\n"
   ]
  },
  {
   "cell_type": "markdown",
   "id": "7929c630",
   "metadata": {},
   "source": [
    "### NOTE:(Seeding)\n",
    "\n",
    "- As seeding remains same the number rotation will be same\n",
    "- No seeding will give different different numbers\n",
    "\n",
    "### (Rand) Uniform Distribution\n",
    "\n",
    "- Will show the uniform distribution"
   ]
  },
  {
   "cell_type": "code",
   "execution_count": 43,
   "id": "16405874",
   "metadata": {},
   "outputs": [
    {
     "name": "stdout",
     "output_type": "stream",
     "text": [
      "Random number generate (from uniform distribution)\n",
      "[[0.22199317 0.87073231 0.20671916 0.91861091 0.48841119 0.61174386]\n",
      " [0.76590786 0.51841799 0.2968005  0.18772123 0.08074127 0.7384403 ]\n",
      " [0.44130922 0.15830987 0.87993703 0.27408646 0.41423502 0.29607993]\n",
      " [0.62878791 0.57983781 0.5999292  0.26581912 0.28468588 0.25358821]\n",
      " [0.32756395 0.1441643  0.16561286 0.96393053 0.96022672 0.18841466]\n",
      " [0.02430656 0.20455555 0.69984361 0.77951459 0.02293309 0.57766286]\n",
      " [0.00164217 0.51547261 0.63979518 0.9856244  0.2590976  0.80249689]\n",
      " [0.87048309 0.92274961 0.00221421 0.46948837 0.98146874 0.3989448 ]\n",
      " [0.81373248 0.5464565  0.77085409 0.48493107 0.02911156 0.08652569]\n",
      " [0.11145381 0.25124511 0.96491529 0.63176605 0.8166602  0.566082  ]]\n"
     ]
    }
   ],
   "source": [
    "np.random.seed(5)# seeding will generate same number\n",
    "print(\"Random number generate (from uniform distribution)\")\n",
    "print(np.random.rand(10,6))"
   ]
  },
  {
   "cell_type": "code",
   "execution_count": 44,
   "id": "c849cd91",
   "metadata": {},
   "outputs": [
    {
     "name": "stdout",
     "output_type": "stream",
     "text": [
      "Random number generate (from uniform distribution)\n",
      "[[0.22199317 0.87073231 0.20671916 0.91861091 0.48841119 0.61174386]\n",
      " [0.76590786 0.51841799 0.2968005  0.18772123 0.08074127 0.7384403 ]\n",
      " [0.44130922 0.15830987 0.87993703 0.27408646 0.41423502 0.29607993]\n",
      " [0.62878791 0.57983781 0.5999292  0.26581912 0.28468588 0.25358821]\n",
      " [0.32756395 0.1441643  0.16561286 0.96393053 0.96022672 0.18841466]\n",
      " [0.02430656 0.20455555 0.69984361 0.77951459 0.02293309 0.57766286]\n",
      " [0.00164217 0.51547261 0.63979518 0.9856244  0.2590976  0.80249689]\n",
      " [0.87048309 0.92274961 0.00221421 0.46948837 0.98146874 0.3989448 ]\n",
      " [0.81373248 0.5464565  0.77085409 0.48493107 0.02911156 0.08652569]\n",
      " [0.11145381 0.25124511 0.96491529 0.63176605 0.8166602  0.566082  ]]\n"
     ]
    }
   ],
   "source": [
    "np.random.seed(5)# seeding will generate same number\n",
    "print(\"Random number generate (from uniform distribution)\")\n",
    "print(np.random.rand(10,6))"
   ]
  },
  {
   "cell_type": "markdown",
   "id": "73be8811",
   "metadata": {},
   "source": [
    "\n",
    "### (Randn) Mean is 0 and STD is standard normal\n",
    "\n",
    "### Postive and negative Generation"
   ]
  },
  {
   "cell_type": "code",
   "execution_count": 46,
   "id": "c6e7753e",
   "metadata": {},
   "outputs": [
    {
     "name": "stdout",
     "output_type": "stream",
     "text": [
      "Number from Normal distribution with zero mean and standard deviation 1 i.e standard normal\n",
      "[[ 1.13934298  0.4944404  -0.33633626]\n",
      " [-0.10061435  1.41339802  0.22125412]\n",
      " [-1.31077313 -0.68956523 -0.57751323]\n",
      " [ 1.15220477 -0.10716398  2.26010677]\n",
      " [ 0.65661947  0.12480683 -0.43570392]\n",
      " [ 0.97217931 -0.24071114 -0.82412345]\n",
      " [ 0.56813272  0.01275832  1.18906073]\n",
      " [-0.07359332 -2.85968797  0.7893664 ]\n",
      " [-1.87774088  1.53875615  1.82136474]\n",
      " [-0.42703139 -1.16470191 -1.39707402]]\n"
     ]
    }
   ],
   "source": [
    "print(\"Number from Normal distribution with zero mean and standard deviation 1 i.e standard normal\")\n",
    "print(np.random.randn(10,3))"
   ]
  },
  {
   "cell_type": "markdown",
   "id": "15f06735",
   "metadata": {},
   "source": [
    "#### Here the number lies between mean 0 and standard deviation 1"
   ]
  },
  {
   "cell_type": "code",
   "execution_count": 47,
   "id": "61b2baf3",
   "metadata": {},
   "outputs": [
    {
     "name": "stdout",
     "output_type": "stream",
     "text": [
      "Random integer vector:  [18 12  6 12  7 11  8 11 13  5]\n"
     ]
    }
   ],
   "source": [
    "# randint(Low,high, no of size to be drawn )\n",
    "print(\"Random integer vector: \",np.random.randint(5,20,10))"
   ]
  },
  {
   "cell_type": "code",
   "execution_count": 48,
   "id": "5b3b810d",
   "metadata": {},
   "outputs": [
    {
     "name": "stdout",
     "output_type": "stream",
     "text": [
      "\n",
      "Random integer matrix low, high, and matrix shape\n",
      "[[14 10  2 10  1  9 24]\n",
      " [ 8 26  5 16 18 28  5]\n",
      " [19  2 24  6 29  5 19]\n",
      " [ 3 14  2 19  4  2 19]\n",
      " [21 10  1 18  3 15 20]\n",
      " [ 9 11  6 27 16 22 21]]\n"
     ]
    }
   ],
   "source": [
    "print(\"\\nRandom integer matrix low, high, and matrix shape\")\n",
    "print(np.random.randint(1,30,(6,7)))"
   ]
  },
  {
   "cell_type": "markdown",
   "id": "a8543e0f",
   "metadata": {},
   "source": [
    "# by own:"
   ]
  },
  {
   "cell_type": "code",
   "execution_count": 71,
   "id": "e39ade33",
   "metadata": {},
   "outputs": [
    {
     "data": {
      "text/plain": [
       "array([[0.51288995, 0.53182487, 0.89533366, 0.07107016],\n",
       "       [0.34445056, 0.15688357, 0.70314955, 0.86458372],\n",
       "       [0.52913005, 0.52633773, 0.3215009 , 0.48665962]])"
      ]
     },
     "execution_count": 71,
     "metadata": {},
     "output_type": "execute_result"
    }
   ],
   "source": [
    "np.random.rand(3,4)"
   ]
  },
  {
   "cell_type": "code",
   "execution_count": 64,
   "id": "514ffc5f",
   "metadata": {},
   "outputs": [
    {
     "data": {
      "text/plain": [
       "array([[ 1.12890829, -0.96246288,  0.06194162, -1.04606453, -0.94774627],\n",
       "       [-0.03111909,  0.48279349,  0.2791851 , -0.13685186,  1.43637393],\n",
       "       [-0.2948763 ,  0.89485343,  1.29403677,  0.67470281,  0.57764607]])"
      ]
     },
     "execution_count": 64,
     "metadata": {},
     "output_type": "execute_result"
    }
   ],
   "source": [
    "np.random.randn(3,5)"
   ]
  },
  {
   "cell_type": "code",
   "execution_count": 67,
   "id": "007e324e",
   "metadata": {},
   "outputs": [
    {
     "data": {
      "text/plain": [
       "array([ 4, 12, 12,  5,  3])"
      ]
     },
     "execution_count": 67,
     "metadata": {},
     "output_type": "execute_result"
    }
   ],
   "source": [
    "# generated 5 number\n",
    "np.random.randint(3,14,5)"
   ]
  },
  {
   "cell_type": "code",
   "execution_count": 68,
   "id": "37e1a6e3",
   "metadata": {},
   "outputs": [
    {
     "data": {
      "text/plain": [
       "array([[3, 4, 4, 4],\n",
       "       [3, 4, 3, 3],\n",
       "       [4, 3, 3, 4]])"
      ]
     },
     "execution_count": 68,
     "metadata": {},
     "output_type": "execute_result"
    }
   ],
   "source": [
    "# generated 2,5 matrix\n",
    "np.random.randint(3,5,(3,4))"
   ]
  },
  {
   "cell_type": "markdown",
   "id": "dbae27ad",
   "metadata": {},
   "source": [
    "# Numpy Condition"
   ]
  },
  {
   "cell_type": "code",
   "execution_count": 72,
   "id": "37df1199",
   "metadata": {},
   "outputs": [
    {
     "data": {
      "text/plain": [
       "array([ 1,  1,  7, 27,  5, 18, 13, 32, 37, 35])"
      ]
     },
     "execution_count": 72,
     "metadata": {},
     "output_type": "execute_result"
    }
   ],
   "source": [
    "a=np.random.randint(1,40,10)\n",
    "a"
   ]
  },
  {
   "cell_type": "code",
   "execution_count": 73,
   "id": "aac5209a",
   "metadata": {},
   "outputs": [
    {
     "data": {
      "text/plain": [
       "array([10, 10, 10, 25, 10, 18, 13, 25, 25, 25])"
      ]
     },
     "execution_count": 73,
     "metadata": {},
     "output_type": "execute_result"
    }
   ],
   "source": [
    "# replace data with fixed numbers\n",
    "\n",
    "np.clip(a,a_min=10,a_max=25)\n",
    "\n",
    "# any number less than 25 make it 10, more than 25 make it 25"
   ]
  },
  {
   "cell_type": "code",
   "execution_count": 74,
   "id": "9900b2fb",
   "metadata": {},
   "outputs": [
    {
     "name": "stdout",
     "output_type": "stream",
     "text": [
      "(array([0, 1, 2, 4], dtype=int64),)\n"
     ]
    }
   ],
   "source": [
    "# It gives index details\n",
    "print(np.where(a<10))"
   ]
  },
  {
   "cell_type": "code",
   "execution_count": 75,
   "id": "4fdd6708",
   "metadata": {},
   "outputs": [
    {
     "name": "stdout",
     "output_type": "stream",
     "text": [
      "(array([], dtype=int64),)\n"
     ]
    }
   ],
   "source": [
    "# find if data exists in the array\n",
    "print(np.where(a==38))"
   ]
  },
  {
   "cell_type": "markdown",
   "id": "c732e19a",
   "metadata": {},
   "source": [
    "# Reshape"
   ]
  },
  {
   "cell_type": "code",
   "execution_count": 76,
   "id": "c112d7da",
   "metadata": {},
   "outputs": [
    {
     "data": {
      "text/plain": [
       "array([62, 95, 92, 76, 63, 52,  3, 97, 20,  8, 77, 67, 57,  1, 58, 32, 87,\n",
       "       75, 38, 65, 52, 13, 60, 26, 40, 34, 25,  8, 69, 82])"
      ]
     },
     "execution_count": 76,
     "metadata": {},
     "output_type": "execute_result"
    }
   ],
   "source": [
    "import numpy as np\n",
    "from numpy.random import randint as ri\n",
    "\n",
    "a=ri(1,99,30)\n",
    "a"
   ]
  },
  {
   "cell_type": "code",
   "execution_count": 84,
   "id": "6a649a31",
   "metadata": {},
   "outputs": [
    {
     "data": {
      "text/plain": [
       "array([[[62, 95, 92, 76, 63],\n",
       "        [52,  3, 97, 20,  8],\n",
       "        [77, 67, 57,  1, 58]],\n",
       "\n",
       "       [[32, 87, 75, 38, 65],\n",
       "        [52, 13, 60, 26, 40],\n",
       "        [34, 25,  8, 69, 82]]])"
      ]
     },
     "execution_count": 84,
     "metadata": {},
     "output_type": "execute_result"
    }
   ],
   "source": [
    "# 2 matrix (3,5)=15\n",
    "b=a.reshape(2,3,5)\n",
    "b"
   ]
  },
  {
   "cell_type": "code",
   "execution_count": 78,
   "id": "cb86105d",
   "metadata": {},
   "outputs": [
    {
     "data": {
      "text/plain": [
       "array([[62, 95, 92, 76, 63],\n",
       "       [52,  3, 97, 20,  8],\n",
       "       [77, 67, 57,  1, 58],\n",
       "       [32, 87, 75, 38, 65],\n",
       "       [52, 13, 60, 26, 40],\n",
       "       [34, 25,  8, 69, 82]])"
      ]
     },
     "execution_count": 78,
     "metadata": {},
     "output_type": "execute_result"
    }
   ],
   "source": [
    "c=a.reshape(6,5)\n",
    "c"
   ]
  },
  {
   "cell_type": "code",
   "execution_count": 86,
   "id": "52f421ad",
   "metadata": {},
   "outputs": [
    {
     "name": "stdout",
     "output_type": "stream",
     "text": [
      "Min of a :  1\n",
      "Max of a  :  97\n"
     ]
    }
   ],
   "source": [
    "print(\"Min of a : \",c.min())\n",
    "print(\"Max of a  : \",c.max())"
   ]
  },
  {
   "cell_type": "markdown",
   "id": "b97889c4",
   "metadata": {},
   "source": [
    "# Sorting"
   ]
  },
  {
   "cell_type": "code",
   "execution_count": 87,
   "id": "afd5abaa",
   "metadata": {},
   "outputs": [
    {
     "data": {
      "text/plain": [
       "array([[70, 70, 82, 21, 87],\n",
       "       [ 2, 75, 71, 49, 56],\n",
       "       [52, 98, 40,  1, 31],\n",
       "       [43, 88, 72,  5, 63],\n",
       "       [26, 18, 51, 64, 18]])"
      ]
     },
     "execution_count": 87,
     "metadata": {},
     "output_type": "execute_result"
    }
   ],
   "source": [
    "M=ri(1,100,25).reshape(5,5)\n",
    "M\n"
   ]
  },
  {
   "cell_type": "code",
   "execution_count": 90,
   "id": "8465959f",
   "metadata": {},
   "outputs": [
    {
     "name": "stdout",
     "output_type": "stream",
     "text": [
      "Here is the sorted matrix along each row\n",
      " [[21 70 70 82 87]\n",
      " [ 2 49 56 71 75]\n",
      " [ 1 31 40 52 98]\n",
      " [ 5 43 63 72 88]\n",
      " [18 18 26 51 64]]\n"
     ]
    }
   ],
   "source": [
    "#default sort by rows (axis=1)\n",
    "print(\"Here is the sorted matrix along each row\\n\",np.sort(M))# row wise"
   ]
  },
  {
   "cell_type": "code",
   "execution_count": 93,
   "id": "05ba8960",
   "metadata": {},
   "outputs": [
    {
     "name": "stdout",
     "output_type": "stream",
     "text": [
      "Here sort by each column\n",
      "\n",
      " [[ 2 18 40  1 18]\n",
      " [26 70 51  5 31]\n",
      " [43 75 71 21 56]\n",
      " [52 88 72 49 63]\n",
      " [70 98 82 64 87]]\n"
     ]
    }
   ],
   "source": [
    "print(\"Here sort by each column\\n\\n\",np.sort(M,axis=0))"
   ]
  },
  {
   "cell_type": "markdown",
   "id": "b8bf9be9",
   "metadata": {},
   "source": [
    "# Indexing and slicing"
   ]
  },
  {
   "cell_type": "code",
   "execution_count": 94,
   "id": "9140b6e4",
   "metadata": {},
   "outputs": [
    {
     "name": "stdout",
     "output_type": "stream",
     "text": [
      "Array:  [13 14 15 16 17 18 19 20 21 22 23 24 25 26 27 28 29]\n"
     ]
    }
   ],
   "source": [
    "arr= np.arange(13,30)\n",
    "print(\"Array: \",arr)"
   ]
  },
  {
   "cell_type": "code",
   "execution_count": 96,
   "id": "95de83b2",
   "metadata": {},
   "outputs": [
    {
     "name": "stdout",
     "output_type": "stream",
     "text": [
      "Element  at 7th index is  20\n"
     ]
    }
   ],
   "source": [
    "print(\"Element  at 7th index is \",arr[7])"
   ]
  },
  {
   "cell_type": "code",
   "execution_count": 97,
   "id": "5c2b50e2",
   "metadata": {},
   "outputs": [],
   "source": [
    "arr=np.arange(0,21,2)"
   ]
  },
  {
   "cell_type": "code",
   "execution_count": 98,
   "id": "9d62b3f2",
   "metadata": {},
   "outputs": [
    {
     "data": {
      "text/plain": [
       "array([ 0,  2,  4,  6,  8, 10, 12, 14, 16, 18, 20])"
      ]
     },
     "execution_count": 98,
     "metadata": {},
     "output_type": "execute_result"
    }
   ],
   "source": [
    "arr"
   ]
  },
  {
   "cell_type": "code",
   "execution_count": 99,
   "id": "cae3fb3f",
   "metadata": {},
   "outputs": [
    {
     "data": {
      "text/plain": [
       "array([ 4,  8, 18])"
      ]
     },
     "execution_count": 99,
     "metadata": {},
     "output_type": "execute_result"
    }
   ],
   "source": [
    "#pass the index number in list\n",
    "arr[[2,4,9]]"
   ]
  },
  {
   "cell_type": "code",
   "execution_count": 105,
   "id": "955af75b",
   "metadata": {},
   "outputs": [
    {
     "data": {
      "text/plain": [
       "array([[1, 2, 3],\n",
       "       [4, 5, 6],\n",
       "       [7, 8, 9]])"
      ]
     },
     "execution_count": 105,
     "metadata": {},
     "output_type": "execute_result"
    }
   ],
   "source": [
    "a=np.arange(1,10).reshape(3,3)\n",
    "a"
   ]
  },
  {
   "cell_type": "code",
   "execution_count": 109,
   "id": "02a19719",
   "metadata": {},
   "outputs": [
    {
     "data": {
      "text/plain": [
       "array([[1, 2, 3],\n",
       "       [4, 5, 6],\n",
       "       [7, 8, 9]])"
      ]
     },
     "execution_count": 109,
     "metadata": {},
     "output_type": "execute_result"
    }
   ],
   "source": [
    "mat"
   ]
  },
  {
   "cell_type": "code",
   "execution_count": 111,
   "id": "7b731efb",
   "metadata": {},
   "outputs": [
    {
     "name": "stdout",
     "output_type": "stream",
     "text": [
      "\n",
      "Double Bracket is indexing--------------------\n",
      "Element in the row index 1 and column index 2:  6\n"
     ]
    }
   ],
   "source": [
    "print(\"\\nDouble Bracket is indexing--------------------\")\n",
    "print(\"Element in the row index 1 and column index 2: \",mat[1][2])\n",
    "#row 1 and column=2"
   ]
  },
  {
   "cell_type": "code",
   "execution_count": 107,
   "id": "817616c7",
   "metadata": {},
   "outputs": [
    {
     "name": "stdout",
     "output_type": "stream",
     "text": [
      "Entire row at index 2:  [7 8 9]\n"
     ]
    }
   ],
   "source": [
    "print(\"Entire row at index 2: \",mat[2])"
   ]
  },
  {
   "cell_type": "code",
   "execution_count": 108,
   "id": "4c35e7d3",
   "metadata": {},
   "outputs": [
    {
     "name": "stdout",
     "output_type": "stream",
     "text": [
      "Element in row index 1 and column index 2:  [[2 3]\n",
      " [5 6]\n",
      " [8 9]]\n"
     ]
    }
   ],
   "source": [
    "print(\"Element in row index 1 and column index 2: \",mat[:,1:])#row,column\n",
    "# select all rows and column 1 to all"
   ]
  },
  {
   "cell_type": "code",
   "execution_count": 113,
   "id": "074647fb",
   "metadata": {},
   "outputs": [
    {
     "data": {
      "text/plain": [
       "array([[7, 8, 9],\n",
       "       [4, 5, 6]])"
      ]
     },
     "execution_count": 113,
     "metadata": {},
     "output_type": "execute_result"
    }
   ],
   "source": [
    "mat[[2,1]]"
   ]
  },
  {
   "cell_type": "code",
   "execution_count": 116,
   "id": "2509a05c",
   "metadata": {},
   "outputs": [
    {
     "data": {
      "text/plain": [
       "array([[2, 3],\n",
       "       [5, 6]])"
      ]
     },
     "execution_count": 116,
     "metadata": {},
     "output_type": "execute_result"
    }
   ],
   "source": [
    "mat[0:2,[1,2]]"
   ]
  },
  {
   "cell_type": "code",
   "execution_count": 117,
   "id": "eef9abd5",
   "metadata": {},
   "outputs": [
    {
     "name": "stdout",
     "output_type": "stream",
     "text": [
      "Original Index [[1 2 3]\n",
      " [4 5 6]\n",
      " [7 8 9]]\n"
     ]
    }
   ],
   "source": [
    "print(\"Original Index\",mat)"
   ]
  },
  {
   "cell_type": "markdown",
   "id": "50ff50d2",
   "metadata": {},
   "source": [
    "## Update"
   ]
  },
  {
   "cell_type": "code",
   "execution_count": 118,
   "id": "73817dde",
   "metadata": {},
   "outputs": [
    {
     "name": "stdout",
     "output_type": "stream",
     "text": [
      "[[ 1 35  3]\n",
      " [ 4  5  6]\n",
      " [ 7  8  9]]\n"
     ]
    }
   ],
   "source": [
    "mat[0,1]=35\n",
    "print(mat)"
   ]
  },
  {
   "cell_type": "code",
   "execution_count": 119,
   "id": "d7902f4b",
   "metadata": {},
   "outputs": [
    {
     "data": {
      "text/plain": [
       "array([[ 1, 35,  3],\n",
       "       [36,  5,  6],\n",
       "       [ 7,  8,  9]])"
      ]
     },
     "execution_count": 119,
     "metadata": {},
     "output_type": "execute_result"
    }
   ],
   "source": [
    "mat[1,0]=36\n",
    "mat"
   ]
  },
  {
   "cell_type": "markdown",
   "id": "354bb73d",
   "metadata": {},
   "source": [
    "# Subseting"
   ]
  },
  {
   "cell_type": "code",
   "execution_count": 120,
   "id": "98d6b428",
   "metadata": {},
   "outputs": [
    {
     "name": "stdout",
     "output_type": "stream",
     "text": [
      "Matrix of random 2-digit number\n",
      "-----------------\n",
      " [[83 11 32 43 37]\n",
      " [92 39 12 72 65]\n",
      " [20 63 98 64 19]]\n"
     ]
    }
   ],
   "source": [
    "mat=np.array(ri(10,100,15)).reshape(3,5)\n",
    "print(\"Matrix of random 2-digit number\\n-----------------\\n\",mat)"
   ]
  },
  {
   "cell_type": "code",
   "execution_count": 122,
   "id": "8a2cb5b8",
   "metadata": {},
   "outputs": [
    {
     "data": {
      "text/plain": [
       "[array([[ True, False, False, False, False],\n",
       "        [ True, False, False,  True, False],\n",
       "        [False, False,  True, False, False]])]"
      ]
     },
     "execution_count": 122,
     "metadata": {},
     "output_type": "execute_result"
    }
   ],
   "source": [
    "# would show true and false\n",
    "[mat>70]"
   ]
  },
  {
   "cell_type": "code",
   "execution_count": 121,
   "id": "cb021b89",
   "metadata": {},
   "outputs": [
    {
     "data": {
      "text/plain": [
       "array([83, 92, 72, 98])"
      ]
     },
     "execution_count": 121,
     "metadata": {},
     "output_type": "execute_result"
    }
   ],
   "source": [
    "# show me where marks is greater than 70\n",
    "xyz=mat[mat>70]\n",
    "xyz"
   ]
  },
  {
   "cell_type": "code",
   "execution_count": 123,
   "id": "d89ebde9",
   "metadata": {},
   "outputs": [
    {
     "name": "stdout",
     "output_type": "stream",
     "text": [
      "elements greater than 50 \n",
      " [83 92 72 65 63 98 64]\n"
     ]
    }
   ],
   "source": [
    "print(\"elements greater than 50 \\n\",mat[mat>50])"
   ]
  },
  {
   "cell_type": "code",
   "execution_count": 125,
   "id": "d34c8808",
   "metadata": {},
   "outputs": [
    {
     "name": "stdout",
     "output_type": "stream",
     "text": [
      "(array([], dtype=int64), array([], dtype=int64))\n"
     ]
    }
   ],
   "source": [
    "# check if any digit is having 50\n",
    "\n",
    "print(np.where(mat==50))"
   ]
  },
  {
   "cell_type": "code",
   "execution_count": 126,
   "id": "cc012303",
   "metadata": {},
   "outputs": [
    {
     "name": "stdout",
     "output_type": "stream",
     "text": [
      "(array([0], dtype=int64), array([0], dtype=int64))\n"
     ]
    }
   ],
   "source": [
    "#Shows No row,column index have 50\n",
    "\n",
    "# next\n",
    "print(np.where(mat==83))"
   ]
  },
  {
   "cell_type": "code",
   "execution_count": 127,
   "id": "67b12c09",
   "metadata": {},
   "outputs": [
    {
     "data": {
      "text/plain": [
       "array([[83, 11, 32, 43, 37],\n",
       "       [92, 39, 12, 72, 65],\n",
       "       [20, 63, 98, 64, 19]])"
      ]
     },
     "execution_count": 127,
     "metadata": {},
     "output_type": "execute_result"
    }
   ],
   "source": [
    "#shows row is 0 and column is zero\n",
    "\n",
    "# lets check\n",
    "mat"
   ]
  },
  {
   "cell_type": "markdown",
   "id": "da7d1ae5",
   "metadata": {},
   "source": [
    "#  Universal Functions"
   ]
  },
  {
   "cell_type": "code",
   "execution_count": 129,
   "id": "cc48e806",
   "metadata": {},
   "outputs": [],
   "source": [
    "mat1=np.array(ri(1,10,9)).reshape(3,3)\n",
    "mat2=np.array(ri(1,10,9)).reshape(3,3)"
   ]
  },
  {
   "cell_type": "code",
   "execution_count": 130,
   "id": "9374e5af",
   "metadata": {},
   "outputs": [
    {
     "name": "stdout",
     "output_type": "stream",
     "text": [
      "\n",
      " 1st Matrix of Random Single Digit numbers\n",
      "\n",
      " [[1 8 2]\n",
      " [1 3 2]\n",
      " [9 6 2]]\n",
      "\n",
      " 2nd Matrix of Random Single Digit numbers\n",
      "\n",
      " [[5 1 3]\n",
      " [7 1 4]\n",
      " [3 6 7]]\n"
     ]
    }
   ],
   "source": [
    "print(\"\\n 1st Matrix of Random Single Digit numbers\\n\\n\",mat1)\n",
    "print(\"\\n 2nd Matrix of Random Single Digit numbers\\n\\n\",mat2)"
   ]
  },
  {
   "cell_type": "code",
   "execution_count": 131,
   "id": "4e50b76d",
   "metadata": {},
   "outputs": [
    {
     "name": "stdout",
     "output_type": "stream",
     "text": [
      "\n",
      " Addition\n",
      "-----------------\n",
      " [[ 6  9  5]\n",
      " [ 8  4  6]\n",
      " [12 12  9]]\n"
     ]
    }
   ],
   "source": [
    "print(\"\\n Addition\\n-----------------\\n\",mat1+mat2)\n",
    "\n",
    "#5+1=6 and so on"
   ]
  },
  {
   "cell_type": "code",
   "execution_count": 132,
   "id": "ba3278ca",
   "metadata": {},
   "outputs": [
    {
     "name": "stdout",
     "output_type": "stream",
     "text": [
      "\n",
      " Multiplication\n",
      "---------------\n",
      " [[ 5  8  6]\n",
      " [ 7  3  8]\n",
      " [27 36 14]]\n"
     ]
    }
   ],
   "source": [
    "print(\"\\n Multiplication\\n---------------\\n\",mat1*mat2)"
   ]
  },
  {
   "cell_type": "code",
   "execution_count": 134,
   "id": "20f8a86e",
   "metadata": {},
   "outputs": [
    {
     "name": "stdout",
     "output_type": "stream",
     "text": [
      "MAT1\n",
      "   \n",
      " [[1 8 2]\n",
      " [1 3 2]\n",
      " [9 6 2]]\n",
      "MAT2\n",
      "\n",
      " [[5 1 3]\n",
      " [7 1 4]\n",
      " [3 6 7]]\n"
     ]
    }
   ],
   "source": [
    "print(\"MAT1\\n   \\n\",mat1)\n",
    "print(\"MAT2\\n\",mat2)"
   ]
  },
  {
   "cell_type": "code",
   "execution_count": 135,
   "id": "57754d93",
   "metadata": {},
   "outputs": [
    {
     "name": "stdout",
     "output_type": "stream",
     "text": [
      "\n",
      " Division\n",
      "-----------------------\n",
      " [[0.2        8.         0.66666667]\n",
      " [0.14285714 3.         0.5       ]\n",
      " [3.         1.         0.28571429]]\n",
      "\n",
      "Linear Combination : [[ -7  22   0]\n",
      " [-11   7  -2]\n",
      " [ 21   6  -8]]\n"
     ]
    }
   ],
   "source": [
    "print(\"\\n Division\\n-----------------------\\n\",mat1/mat2)\n",
    "\n",
    "print(\"\\nLinear Combination :\",3*mat1-2*mat2)"
   ]
  },
  {
   "cell_type": "markdown",
   "id": "e8027a7e",
   "metadata": {},
   "source": [
    "# Broad casting"
   ]
  },
  {
   "cell_type": "code",
   "execution_count": 141,
   "id": "a545b64a",
   "metadata": {},
   "outputs": [
    {
     "name": "stdout",
     "output_type": "stream",
     "text": [
      "Zero Matrix\n",
      "\n",
      " [[0. 0. 0.]\n",
      " [0. 0. 0.]\n",
      " [0. 0. 0.]]\n"
     ]
    }
   ],
   "source": [
    "start=np.zeros([3,3])\n",
    "print(\"Zero Matrix\\n\\n\",start)"
   ]
  },
  {
   "cell_type": "code",
   "execution_count": 157,
   "id": "608ccb74",
   "metadata": {},
   "outputs": [
    {
     "data": {
      "text/plain": [
       "array([[1., 1., 1.],\n",
       "       [1., 1., 1.],\n",
       "       [1., 1., 1.]])"
      ]
     },
     "execution_count": 157,
     "metadata": {},
     "output_type": "execute_result"
    }
   ],
   "source": [
    "add_rows=np.ones((3,3))\n",
    "add_rows"
   ]
  },
  {
   "cell_type": "code",
   "execution_count": 159,
   "id": "4e23b243",
   "metadata": {},
   "outputs": [
    {
     "name": "stdout",
     "output_type": "stream",
     "text": [
      "[[1 0 2]]\n"
     ]
    }
   ],
   "source": [
    "add_rows=np.array([[1,0,2]])\n",
    "print(add_rows)"
   ]
  },
  {
   "cell_type": "code",
   "execution_count": 153,
   "id": "db3371e5",
   "metadata": {},
   "outputs": [],
   "source": [
    "s=np.array([1,3,2],dtype=int)"
   ]
  },
  {
   "cell_type": "code",
   "execution_count": 164,
   "id": "d17e5c38",
   "metadata": {},
   "outputs": [
    {
     "name": "stdout",
     "output_type": "stream",
     "text": [
      "Zeros\n",
      "\n",
      " [[0. 0. 0.]\n",
      " [0. 0. 0.]\n",
      " [0. 0. 0.]] \n",
      "\n",
      "row\n",
      "\n",
      " [[1 0 2]]\n"
     ]
    }
   ],
   "source": [
    "print(\"Zeros\\n\\n\",start,\"\\n\")\n",
    "# would add row wise\n",
    "print(\"row\\n\\n\",add_rows)"
   ]
  },
  {
   "cell_type": "code",
   "execution_count": 160,
   "id": "db7dd284",
   "metadata": {},
   "outputs": [
    {
     "data": {
      "text/plain": [
       "array([[1., 0., 2.],\n",
       "       [1., 0., 2.],\n",
       "       [1., 0., 2.]])"
      ]
     },
     "execution_count": 160,
     "metadata": {},
     "output_type": "execute_result"
    }
   ],
   "source": [
    "# index0 with all index 0,1,2(column-1)\n",
    "# index1 with all index 0,1,2(column-2)\n",
    "# index2 with all index 0,1,2(column-3)\n",
    "# row wise\n",
    "y=start+add_rows\n",
    "y"
   ]
  },
  {
   "cell_type": "code",
   "execution_count": 166,
   "id": "906d30c1",
   "metadata": {},
   "outputs": [],
   "source": [
    "column=add_rows.T\n",
    "column"
   ]
  },
  {
   "cell_type": "code",
   "execution_count": 170,
   "id": "7ab9d18f",
   "metadata": {},
   "outputs": [],
   "source": [
    "# add column wise\n",
    "su= column+start"
   ]
  },
  {
   "cell_type": "code",
   "execution_count": 171,
   "id": "87e3f695",
   "metadata": {},
   "outputs": [
    {
     "data": {
      "text/plain": [
       "array([[1., 1., 1.],\n",
       "       [0., 0., 0.],\n",
       "       [2., 2., 2.]])"
      ]
     },
     "execution_count": 171,
     "metadata": {},
     "output_type": "execute_result"
    }
   ],
   "source": [
    "su"
   ]
  },
  {
   "cell_type": "markdown",
   "id": "39bf4a3b",
   "metadata": {},
   "source": [
    "# Array Math"
   ]
  },
  {
   "cell_type": "code",
   "execution_count": 174,
   "id": "ec8825f7",
   "metadata": {},
   "outputs": [],
   "source": [
    "mat1=np.array(ri(1,10,9)).reshape(3,3)\n",
    "mat2=np.array(ri(1,10,9)).reshape(3,3)"
   ]
  },
  {
   "cell_type": "code",
   "execution_count": 176,
   "id": "ea8789e9",
   "metadata": {},
   "outputs": [
    {
     "name": "stdout",
     "output_type": "stream",
     "text": [
      "Matrix for random Single Digit Number\n",
      "-----------\n",
      " [[2 2 6]\n",
      " [5 7 6]\n",
      " [7 1 2]]\n",
      "Matrix of random Single DIgit Number\n",
      "-------------\n",
      " [[6 4 4]\n",
      " [3 1 7]\n",
      " [7 2 3]]\n"
     ]
    }
   ],
   "source": [
    "print(\"Matrix for random Single Digit Number\\n-----------\\n\",mat1)\n",
    "print(\"Matrix of random Single DIgit Number\\n-------------\\n\",mat2)"
   ]
  },
  {
   "cell_type": "code",
   "execution_count": 177,
   "id": "3056acc2",
   "metadata": {},
   "outputs": [
    {
     "name": "stdout",
     "output_type": "stream",
     "text": [
      "\n",
      " Square Root of 1st Matrix using\n",
      "--------------------------------\n",
      " [[1.41421356 1.41421356 2.44948974]\n",
      " [2.23606798 2.64575131 2.44948974]\n",
      " [2.64575131 1.         1.41421356]]\n",
      "\n",
      " Square of 1st Matrix using\n",
      "-------------------------------------\n",
      " [[ 4  4 36]\n",
      " [25 49 36]\n",
      " [49  1  4]]\n"
     ]
    }
   ],
   "source": [
    "print(\"\\n Square Root of 1st Matrix using\\n--------------------------------\\n\",np.sqrt(mat1))\n",
    "print(\"\\n Square of 1st Matrix using\\n-------------------------------------\\n\",np.square(mat1))"
   ]
  },
  {
   "cell_type": "markdown",
   "id": "7d0afa4f",
   "metadata": {},
   "source": [
    "# All function all Listed here, call them as per requirement"
   ]
  },
  {
   "cell_type": "code",
   "execution_count": 178,
   "id": "ed79ae07",
   "metadata": {},
   "outputs": [
    {
     "name": "stdout",
     "output_type": "stream",
     "text": [
      "['ALLOW_THREADS', 'AxisError', 'BUFSIZE', 'Bytes0', 'CLIP', 'ComplexWarning', 'DataSource', 'Datetime64', 'ERR_CALL', 'ERR_DEFAULT', 'ERR_IGNORE', 'ERR_LOG', 'ERR_PRINT', 'ERR_RAISE', 'ERR_WARN', 'FLOATING_POINT_SUPPORT', 'FPE_DIVIDEBYZERO', 'FPE_INVALID', 'FPE_OVERFLOW', 'FPE_UNDERFLOW', 'False_', 'Inf', 'Infinity', 'MAXDIMS', 'MAY_SHARE_BOUNDS', 'MAY_SHARE_EXACT', 'MachAr', 'ModuleDeprecationWarning', 'NAN', 'NINF', 'NZERO', 'NaN', 'PINF', 'PZERO', 'RAISE', 'RankWarning', 'SHIFT_DIVIDEBYZERO', 'SHIFT_INVALID', 'SHIFT_OVERFLOW', 'SHIFT_UNDERFLOW', 'ScalarType', 'Str0', 'Tester', 'TooHardError', 'True_', 'UFUNC_BUFSIZE_DEFAULT', 'UFUNC_PYVALS_NAME', 'Uint64', 'VisibleDeprecationWarning', 'WRAP', '_NoValue', '_UFUNC_API', '__NUMPY_SETUP__', '__all__', '__builtins__', '__cached__', '__config__', '__deprecated_attrs__', '__dir__', '__doc__', '__expired_functions__', '__file__', '__getattr__', '__git_version__', '__loader__', '__mkl_version__', '__name__', '__package__', '__path__', '__spec__', '__version__', '_add_newdoc_ufunc', '_distributor_init', '_financial_names', '_globals', '_mat', '_pytesttester', '_version', 'abs', 'absolute', 'add', 'add_docstring', 'add_newdoc', 'add_newdoc_ufunc', 'alen', 'all', 'allclose', 'alltrue', 'amax', 'amin', 'angle', 'any', 'append', 'apply_along_axis', 'apply_over_axes', 'arange', 'arccos', 'arccosh', 'arcsin', 'arcsinh', 'arctan', 'arctan2', 'arctanh', 'argmax', 'argmin', 'argpartition', 'argsort', 'argwhere', 'around', 'array', 'array2string', 'array_equal', 'array_equiv', 'array_repr', 'array_split', 'array_str', 'asanyarray', 'asarray', 'asarray_chkfinite', 'ascontiguousarray', 'asfarray', 'asfortranarray', 'asmatrix', 'asscalar', 'atleast_1d', 'atleast_2d', 'atleast_3d', 'average', 'bartlett', 'base_repr', 'binary_repr', 'bincount', 'bitwise_and', 'bitwise_not', 'bitwise_or', 'bitwise_xor', 'blackman', 'block', 'bmat', 'bool8', 'bool_', 'broadcast', 'broadcast_arrays', 'broadcast_shapes', 'broadcast_to', 'busday_count', 'busday_offset', 'busdaycalendar', 'byte', 'byte_bounds', 'bytes0', 'bytes_', 'c_', 'can_cast', 'cast', 'cbrt', 'cdouble', 'ceil', 'cfloat', 'char', 'character', 'chararray', 'choose', 'clip', 'clongdouble', 'clongfloat', 'column_stack', 'common_type', 'compare_chararrays', 'compat', 'complex128', 'complex64', 'complex_', 'complexfloating', 'compress', 'concatenate', 'conj', 'conjugate', 'convolve', 'copy', 'copysign', 'copyto', 'core', 'corrcoef', 'correlate', 'cos', 'cosh', 'count_nonzero', 'cov', 'cross', 'csingle', 'ctypeslib', 'cumprod', 'cumproduct', 'cumsum', 'datetime64', 'datetime_as_string', 'datetime_data', 'deg2rad', 'degrees', 'delete', 'deprecate', 'deprecate_with_doc', 'diag', 'diag_indices', 'diag_indices_from', 'diagflat', 'diagonal', 'diff', 'digitize', 'disp', 'divide', 'divmod', 'dot', 'double', 'dsplit', 'dstack', 'dtype', 'e', 'ediff1d', 'einsum', 'einsum_path', 'emath', 'empty', 'empty_like', 'equal', 'errstate', 'euler_gamma', 'exp', 'exp2', 'expand_dims', 'expm1', 'extract', 'eye', 'fabs', 'fastCopyAndTranspose', 'fft', 'fill_diagonal', 'find_common_type', 'finfo', 'fix', 'flatiter', 'flatnonzero', 'flexible', 'flip', 'fliplr', 'flipud', 'float16', 'float32', 'float64', 'float_', 'float_power', 'floating', 'floor', 'floor_divide', 'fmax', 'fmin', 'fmod', 'format_float_positional', 'format_float_scientific', 'format_parser', 'frexp', 'frombuffer', 'fromfile', 'fromfunction', 'fromiter', 'frompyfunc', 'fromregex', 'fromstring', 'full', 'full_like', 'gcd', 'generic', 'genfromtxt', 'geomspace', 'get_array_wrap', 'get_include', 'get_printoptions', 'getbufsize', 'geterr', 'geterrcall', 'geterrobj', 'gradient', 'greater', 'greater_equal', 'half', 'hamming', 'hanning', 'heaviside', 'histogram', 'histogram2d', 'histogram_bin_edges', 'histogramdd', 'hsplit', 'hstack', 'hypot', 'i0', 'identity', 'iinfo', 'imag', 'in1d', 'index_exp', 'indices', 'inexact', 'inf', 'info', 'infty', 'inner', 'insert', 'int0', 'int16', 'int32', 'int64', 'int8', 'int_', 'intc', 'integer', 'interp', 'intersect1d', 'intp', 'invert', 'is_busday', 'isclose', 'iscomplex', 'iscomplexobj', 'isfinite', 'isfortran', 'isin', 'isinf', 'isnan', 'isnat', 'isneginf', 'isposinf', 'isreal', 'isrealobj', 'isscalar', 'issctype', 'issubclass_', 'issubdtype', 'issubsctype', 'iterable', 'ix_', 'kaiser', 'kron', 'lcm', 'ldexp', 'left_shift', 'less', 'less_equal', 'lexsort', 'lib', 'linalg', 'linspace', 'little_endian', 'load', 'loads', 'loadtxt', 'log', 'log10', 'log1p', 'log2', 'logaddexp', 'logaddexp2', 'logical_and', 'logical_not', 'logical_or', 'logical_xor', 'logspace', 'longcomplex', 'longdouble', 'longfloat', 'longlong', 'lookfor', 'ma', 'mafromtxt', 'mask_indices', 'mat', 'math', 'matmul', 'matrix', 'matrixlib', 'max', 'maximum', 'maximum_sctype', 'may_share_memory', 'mean', 'median', 'memmap', 'meshgrid', 'mgrid', 'min', 'min_scalar_type', 'minimum', 'mintypecode', 'mkl', 'mod', 'modf', 'moveaxis', 'msort', 'multiply', 'nan', 'nan_to_num', 'nanargmax', 'nanargmin', 'nancumprod', 'nancumsum', 'nanmax', 'nanmean', 'nanmedian', 'nanmin', 'nanpercentile', 'nanprod', 'nanquantile', 'nanstd', 'nansum', 'nanvar', 'nbytes', 'ndarray', 'ndenumerate', 'ndfromtxt', 'ndim', 'ndindex', 'nditer', 'negative', 'nested_iters', 'newaxis', 'nextafter', 'nonzero', 'not_equal', 'numarray', 'number', 'obj2sctype', 'object0', 'object_', 'ogrid', 'oldnumeric', 'ones', 'ones_like', 'os', 'outer', 'packbits', 'pad', 'partition', 'percentile', 'pi', 'piecewise', 'place', 'poly', 'poly1d', 'polyadd', 'polyder', 'polydiv', 'polyfit', 'polyint', 'polymul', 'polynomial', 'polysub', 'polyval', 'positive', 'power', 'printoptions', 'prod', 'product', 'promote_types', 'ptp', 'put', 'put_along_axis', 'putmask', 'quantile', 'r_', 'rad2deg', 'radians', 'random', 'ravel', 'ravel_multi_index', 'real', 'real_if_close', 'rec', 'recarray', 'recfromcsv', 'recfromtxt', 'reciprocal', 'record', 'remainder', 'repeat', 'require', 'reshape', 'resize', 'result_type', 'right_shift', 'rint', 'roll', 'rollaxis', 'roots', 'rot90', 'round', 'round_', 'row_stack', 's_', 'safe_eval', 'save', 'savetxt', 'savez', 'savez_compressed', 'sctype2char', 'sctypeDict', 'sctypes', 'searchsorted', 'select', 'set_numeric_ops', 'set_printoptions', 'set_string_function', 'setbufsize', 'setdiff1d', 'seterr', 'seterrcall', 'seterrobj', 'setxor1d', 'shape', 'shares_memory', 'short', 'show_config', 'sign', 'signbit', 'signedinteger', 'sin', 'sinc', 'single', 'singlecomplex', 'sinh', 'size', 'sometrue', 'sort', 'sort_complex', 'source', 'spacing', 'split', 'sqrt', 'square', 'squeeze', 'stack', 'std', 'str0', 'str_', 'string_', 'subtract', 'sum', 'swapaxes', 'sys', 'take', 'take_along_axis', 'tan', 'tanh', 'tensordot', 'test', 'testing', 'tile', 'timedelta64', 'trace', 'tracemalloc_domain', 'transpose', 'trapz', 'tri', 'tril', 'tril_indices', 'tril_indices_from', 'trim_zeros', 'triu', 'triu_indices', 'triu_indices_from', 'true_divide', 'trunc', 'typecodes', 'typename', 'ubyte', 'ufunc', 'uint', 'uint0', 'uint16', 'uint32', 'uint64', 'uint8', 'uintc', 'uintp', 'ulonglong', 'unicode_', 'union1d', 'unique', 'unpackbits', 'unravel_index', 'unsignedinteger', 'unwrap', 'use_hugepage', 'ushort', 'vander', 'var', 'vdot', 'vectorize', 'version', 'void', 'void0', 'vsplit', 'vstack', 'warnings', 'where', 'who', 'zeros', 'zeros_like']\n"
     ]
    }
   ],
   "source": [
    "import numpy as np\n",
    "print(dir(np))"
   ]
  },
  {
   "cell_type": "markdown",
   "id": "427a17ba",
   "metadata": {},
   "source": [
    "# Math Function"
   ]
  },
  {
   "cell_type": "code",
   "execution_count": 179,
   "id": "774c9d8a",
   "metadata": {},
   "outputs": [
    {
     "name": "stdout",
     "output_type": "stream",
     "text": [
      "['__doc__', '__loader__', '__name__', '__package__', '__spec__', 'acos', 'acosh', 'asin', 'asinh', 'atan', 'atan2', 'atanh', 'ceil', 'comb', 'copysign', 'cos', 'cosh', 'degrees', 'dist', 'e', 'erf', 'erfc', 'exp', 'expm1', 'fabs', 'factorial', 'floor', 'fmod', 'frexp', 'fsum', 'gamma', 'gcd', 'hypot', 'inf', 'isclose', 'isfinite', 'isinf', 'isnan', 'isqrt', 'lcm', 'ldexp', 'lgamma', 'log', 'log10', 'log1p', 'log2', 'modf', 'nan', 'nextafter', 'perm', 'pi', 'pow', 'prod', 'radians', 'remainder', 'sin', 'sinh', 'sqrt', 'tan', 'tanh', 'tau', 'trunc', 'ulp']\n"
     ]
    }
   ],
   "source": [
    "import math\n",
    "print(dir(math))"
   ]
  },
  {
   "cell_type": "code",
   "execution_count": null,
   "id": "ef5e27db",
   "metadata": {},
   "outputs": [],
   "source": []
  }
 ],
 "metadata": {
  "kernelspec": {
   "display_name": "Python 3 (ipykernel)",
   "language": "python",
   "name": "python3"
  },
  "language_info": {
   "codemirror_mode": {
    "name": "ipython",
    "version": 3
   },
   "file_extension": ".py",
   "mimetype": "text/x-python",
   "name": "python",
   "nbconvert_exporter": "python",
   "pygments_lexer": "ipython3",
   "version": "3.9.12"
  }
 },
 "nbformat": 4,
 "nbformat_minor": 5
}
