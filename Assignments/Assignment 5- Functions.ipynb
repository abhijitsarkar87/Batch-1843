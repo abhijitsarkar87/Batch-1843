{
 "cells": [
  {
   "cell_type": "markdown",
   "id": "e9c4af46",
   "metadata": {},
   "source": [
    "# Functions\n",
    "\n",
    "### Practice the Code Given Below"
   ]
  },
  {
   "cell_type": "code",
   "execution_count": 1,
   "id": "71c22794",
   "metadata": {},
   "outputs": [
    {
     "name": "stdout",
     "output_type": "stream",
     "text": [
      "4\n"
     ]
    }
   ],
   "source": [
    "def square(x):\n",
    "    return x*x\n",
    "print(square(2))"
   ]
  },
  {
   "cell_type": "code",
   "execution_count": 2,
   "id": "8c8cc37a",
   "metadata": {},
   "outputs": [
    {
     "name": "stdout",
     "output_type": "stream",
     "text": [
      "The sum is  11\n"
     ]
    }
   ],
   "source": [
    "def add_number(x,y):\n",
    "    sum=x+y\n",
    "    return sum\n",
    "\n",
    "num1=5\n",
    "num2=6\n",
    "print(\"The sum is \",add_number(num1,num2))"
   ]
  },
  {
   "cell_type": "code",
   "execution_count": 3,
   "id": "3c17d4fe",
   "metadata": {},
   "outputs": [
    {
     "name": "stdout",
     "output_type": "stream",
     "text": [
      "Hello  Andrew S,GoodMorning\n"
     ]
    }
   ],
   "source": [
    "def greet(name,msg):\n",
    "    \"\"\"This function greets to the person with the provided message\"\"\"\n",
    "    print(\"Hello \",name+\",\"+msg)\n",
    "    \n",
    "greet(\"Andrew S\",\"GoodMorning\")"
   ]
  },
  {
   "cell_type": "raw",
   "id": "94f67feb",
   "metadata": {},
   "source": [
    "Write a program to create a fuction that two arguments,name and age and print their values"
   ]
  },
  {
   "cell_type": "code",
   "execution_count": 9,
   "id": "d78eb3fb",
   "metadata": {},
   "outputs": [
    {
     "name": "stdout",
     "output_type": "stream",
     "text": [
      "Hello All my name is  rohit & My age is  20\n"
     ]
    }
   ],
   "source": [
    "def fun(name,age):\n",
    "    \"Function having name and age\"\n",
    "    print(\"Hello All my name is \",name+\" & \"+\"My age is \", age)\n",
    "fun(\"rohit\",\"20\")"
   ]
  },
  {
   "cell_type": "markdown",
   "id": "aeb23302",
   "metadata": {},
   "source": [
    "### Task: Write a function absolute_value to find absolute of a given number."
   ]
  },
  {
   "cell_type": "code",
   "execution_count": 10,
   "id": "5c1ac645",
   "metadata": {},
   "outputs": [
    {
     "name": "stdout",
     "output_type": "stream",
     "text": [
      "2\n"
     ]
    }
   ],
   "source": [
    "def absolute_value(num):\n",
    "    \"\"\"This will returns the absolute value of the entered number\"\"\"\n",
    "    \n",
    "    if num>=0:\n",
    "        return num\n",
    "    else:\n",
    "        return -num\n",
    "\n",
    "print(absolute_value(2))"
   ]
  },
  {
   "cell_type": "code",
   "execution_count": 11,
   "id": "d165cc6b",
   "metadata": {},
   "outputs": [
    {
     "name": "stdout",
     "output_type": "stream",
     "text": [
      "4\n"
     ]
    }
   ],
   "source": [
    "print(absolute_value(-4))"
   ]
  },
  {
   "cell_type": "raw",
   "id": "441da205",
   "metadata": {},
   "source": [
    "write a function multiply to calculate multiplication of two numbers by taking as a arguments."
   ]
  },
  {
   "cell_type": "code",
   "execution_count": 13,
   "id": "4ee35a3a",
   "metadata": {},
   "outputs": [
    {
     "name": "stdout",
     "output_type": "stream",
     "text": [
      "Multiplication Shows  4\n"
     ]
    }
   ],
   "source": [
    "def multify(x,y):\n",
    "    r=x*y\n",
    "    print(\"Multiplication Shows \",r)\n",
    "    \n",
    "multify(2,2)"
   ]
  },
  {
   "cell_type": "code",
   "execution_count": 14,
   "id": "2f5d83c4",
   "metadata": {},
   "outputs": [
    {
     "name": "stdout",
     "output_type": "stream",
     "text": [
      "Value of x  2\n",
      "Value of y  2\n"
     ]
    },
    {
     "data": {
      "text/plain": [
       "4"
      ]
     },
     "execution_count": 14,
     "metadata": {},
     "output_type": "execute_result"
    }
   ],
   "source": [
    "def multiply(x,y):\n",
    "    print(\"Value of x \",x)\n",
    "    print(\"Value of y \",y)\n",
    "    return x*y\n",
    "multiply(2,2)"
   ]
  },
  {
   "cell_type": "markdown",
   "id": "6f38e7f9",
   "metadata": {},
   "source": [
    "### write a function division to calculate division of two numbers by taking as a arguments."
   ]
  },
  {
   "cell_type": "code",
   "execution_count": 17,
   "id": "76814d07",
   "metadata": {},
   "outputs": [
    {
     "name": "stdout",
     "output_type": "stream",
     "text": [
      "Value X = 2\n",
      "Value Y = 3\n"
     ]
    },
    {
     "data": {
      "text/plain": [
       "0.6666666666666666"
      ]
     },
     "execution_count": 17,
     "metadata": {},
     "output_type": "execute_result"
    }
   ],
   "source": [
    "def my_func(x,y):\n",
    "    print(\"Value X =\",x)\n",
    "    print(\"Value Y =\",y)\n",
    "    return(x/y)\n",
    "\n",
    "my_func(2,3)\n",
    "    "
   ]
  },
  {
   "cell_type": "markdown",
   "id": "14dbbb68",
   "metadata": {},
   "source": [
    "By local variables and global variables"
   ]
  },
  {
   "cell_type": "code",
   "execution_count": 18,
   "id": "af4e04ac",
   "metadata": {},
   "outputs": [
    {
     "name": "stdout",
     "output_type": "stream",
     "text": [
      "Value inside function:  10\n",
      "Value outside function:  20\n"
     ]
    }
   ],
   "source": [
    "def my_func():\n",
    "    x=10\n",
    "    print(\"Value inside function: \",x)\n",
    "    \n",
    "    \n",
    "    \n",
    "    \n",
    "x=20\n",
    "my_func()\n",
    "print(\"Value outside function: \",x)"
   ]
  },
  {
   "cell_type": "code",
   "execution_count": 21,
   "id": "d0533bb8",
   "metadata": {},
   "outputs": [
    {
     "data": {
      "text/plain": [
       "[0, 1, 4, 9, 16, 25, 36, 49, 64, 81]"
      ]
     },
     "execution_count": 21,
     "metadata": {},
     "output_type": "execute_result"
    }
   ],
   "source": [
    "squares= list(map(lambda x:x**2,range(10)))\n",
    "squares"
   ]
  },
  {
   "cell_type": "code",
   "execution_count": 22,
   "id": "2787b58a",
   "metadata": {},
   "outputs": [],
   "source": [
    "squares=[x**2 for x in range(10)]"
   ]
  },
  {
   "cell_type": "code",
   "execution_count": 23,
   "id": "08a2b242",
   "metadata": {},
   "outputs": [
    {
     "data": {
      "text/plain": [
       "[0, 1, 4, 9, 16, 25, 36, 49, 64, 81]"
      ]
     },
     "execution_count": 23,
     "metadata": {},
     "output_type": "execute_result"
    }
   ],
   "source": [
    "squares"
   ]
  },
  {
   "cell_type": "markdown",
   "id": "26ccb1eb",
   "metadata": {},
   "source": [
    "### Task : Write the above code to find cube of x."
   ]
  },
  {
   "cell_type": "code",
   "execution_count": 28,
   "id": "028e99af",
   "metadata": {},
   "outputs": [
    {
     "data": {
      "text/plain": [
       "[0, 1, 16, 81, 256, 625, 1296, 2401, 4096, 6561]"
      ]
     },
     "execution_count": 28,
     "metadata": {},
     "output_type": "execute_result"
    }
   ],
   "source": [
    "[i**2 for i in squares]"
   ]
  },
  {
   "cell_type": "markdown",
   "id": "9988b75a",
   "metadata": {},
   "source": [
    "### copy the same"
   ]
  },
  {
   "cell_type": "code",
   "execution_count": 24,
   "id": "601eab79",
   "metadata": {},
   "outputs": [
    {
     "data": {
      "text/plain": [
       "[10, 2, 8, 7, 5, 4, 3, 11, 0, 1]"
      ]
     },
     "execution_count": 24,
     "metadata": {},
     "output_type": "execute_result"
    }
   ],
   "source": [
    "sequences = [10,2,8,7,5,4,3,11,0, 1]\n",
    "\n",
    "[i for i in sequences]"
   ]
  },
  {
   "cell_type": "code",
   "execution_count": 30,
   "id": "7bc39167",
   "metadata": {},
   "outputs": [
    {
     "name": "stdout",
     "output_type": "stream",
     "text": [
      "[100, 4, 64, 49, 25, 16, 9, 121, 0, 1]\n"
     ]
    }
   ],
   "source": [
    "ft=map(lambda x:x*x,sequences)\n",
    "print(list(ft))"
   ]
  },
  {
   "cell_type": "markdown",
   "id": "6b1fd9d1",
   "metadata": {},
   "source": [
    "### Task : write the above code for the expression x**3"
   ]
  },
  {
   "cell_type": "code",
   "execution_count": 29,
   "id": "ccaa0722",
   "metadata": {},
   "outputs": [
    {
     "data": {
      "text/plain": [
       "[1000, 8, 512, 343, 125, 64, 27, 1331, 0, 1]"
      ]
     },
     "execution_count": 29,
     "metadata": {},
     "output_type": "execute_result"
    }
   ],
   "source": [
    "list(map(lambda x:x**3,sequences))"
   ]
  },
  {
   "cell_type": "code",
   "execution_count": 31,
   "id": "37395c54",
   "metadata": {},
   "outputs": [
    {
     "data": {
      "text/plain": [
       "[10, 2, 8, 7, 5, 4, 3, 11, 0, 1]"
      ]
     },
     "execution_count": 31,
     "metadata": {},
     "output_type": "execute_result"
    }
   ],
   "source": [
    "sequences"
   ]
  },
  {
   "cell_type": "markdown",
   "id": "6a9d1d29",
   "metadata": {},
   "source": [
    "#### Filter x greater than 4"
   ]
  },
  {
   "cell_type": "code",
   "execution_count": 33,
   "id": "9801202a",
   "metadata": {},
   "outputs": [
    {
     "data": {
      "text/plain": [
       "[10, 8, 7, 5, 11]"
      ]
     },
     "execution_count": 33,
     "metadata": {},
     "output_type": "execute_result"
    }
   ],
   "source": [
    "list(filter(lambda x:x>4,sequences))"
   ]
  },
  {
   "cell_type": "markdown",
   "id": "7a5c5573",
   "metadata": {},
   "source": [
    "#### Task : write the above code for the expression x>5."
   ]
  },
  {
   "cell_type": "code",
   "execution_count": 34,
   "id": "f9d31671",
   "metadata": {},
   "outputs": [
    {
     "data": {
      "text/plain": [
       "[10, 8, 7, 11]"
      ]
     },
     "execution_count": 34,
     "metadata": {},
     "output_type": "execute_result"
    }
   ],
   "source": [
    "list(filter(lambda x:x>5,sequences))"
   ]
  },
  {
   "cell_type": "code",
   "execution_count": 36,
   "id": "8f959c30",
   "metadata": {},
   "outputs": [
    {
     "name": "stdout",
     "output_type": "stream",
     "text": [
      "[0, 1, 4, 9, 16, 25, 36, 49, 64, 81] "
     ]
    }
   ],
   "source": [
    "squares=[]\n",
    "\n",
    "for x in range(10):\n",
    "    squares.append(x**2)\n",
    "    \n",
    "print(squares,end=\" \")"
   ]
  },
  {
   "cell_type": "markdown",
   "id": "614f6eb4",
   "metadata": {},
   "source": [
    "#### Put the above 4 lines in as user defined function and call the function"
   ]
  },
  {
   "cell_type": "code",
   "execution_count": 37,
   "id": "653702b0",
   "metadata": {},
   "outputs": [
    {
     "data": {
      "text/plain": [
       "[0, 1, 4, 9, 16, 25, 36, 49, 64, 81]"
      ]
     },
     "execution_count": 37,
     "metadata": {},
     "output_type": "execute_result"
    }
   ],
   "source": [
    "def udf():\n",
    "    \" Putting the above 4 lines in as user defined function and calling them\"\n",
    "    return squares\n",
    "\n",
    "udf()"
   ]
  },
  {
   "cell_type": "code",
   "execution_count": 40,
   "id": "545dac60",
   "metadata": {},
   "outputs": [
    {
     "name": "stdout",
     "output_type": "stream",
     "text": [
      "[0, 1, 4, 9, 16, 25, 36, 49, 64, 81]\n"
     ]
    }
   ],
   "source": [
    "def udf1():\n",
    "    squares=[]\n",
    "    \n",
    "    for x in range(10):\n",
    "        squares.append(x**2)\n",
    "    return squares\n",
    "\n",
    "print(udf1())"
   ]
  },
  {
   "cell_type": "code",
   "execution_count": 42,
   "id": "0787132d",
   "metadata": {},
   "outputs": [
    {
     "name": "stdout",
     "output_type": "stream",
     "text": [
      "Sum Stands 150\n"
     ]
    }
   ],
   "source": [
    "def user(x,y):\n",
    "    i=x*y\n",
    "    if i<=1000:\n",
    "        print(\"Product of the number is \",i)\n",
    "        \n",
    "    else:\n",
    "        print(\"Sum Stands\",x+y)\n",
    "    \n",
    "user(100,50)"
   ]
  },
  {
   "cell_type": "code",
   "execution_count": 43,
   "id": "6bbd7282",
   "metadata": {},
   "outputs": [
    {
     "name": "stdout",
     "output_type": "stream",
     "text": [
      "Product of the number is  900\n"
     ]
    }
   ],
   "source": [
    "user(90,10)"
   ]
  },
  {
   "cell_type": "code",
   "execution_count": 44,
   "id": "a25f9b2a",
   "metadata": {},
   "outputs": [
    {
     "name": "stdout",
     "output_type": "stream",
     "text": [
      "Sum Stands 150\n"
     ]
    }
   ],
   "source": [
    "def user(x,y):\n",
    "    if (x*y)<=1000:\n",
    "        print(\"Product of the number is \",x*y)\n",
    "        \n",
    "    else:\n",
    "        print(\"Sum Stands\",x+y)\n",
    "    \n",
    "user(100,50)"
   ]
  },
  {
   "cell_type": "code",
   "execution_count": 45,
   "id": "d3dc2ae8",
   "metadata": {},
   "outputs": [
    {
     "name": "stdout",
     "output_type": "stream",
     "text": [
      "Product of the number is  900\n"
     ]
    }
   ],
   "source": [
    "user(90,10)"
   ]
  },
  {
   "cell_type": "code",
   "execution_count": 46,
   "id": "12be57fc",
   "metadata": {},
   "outputs": [
    {
     "name": "stdout",
     "output_type": "stream",
     "text": [
      "600\n"
     ]
    }
   ],
   "source": [
    "def mult_sum(num1,num2):\n",
    "    # calculate product of two number\n",
    "    product=num1*num2\n",
    "    # check if product is lss than 1000\n",
    "    if product<=1000:\n",
    "        return product\n",
    "    else:\n",
    "        # product is greater than 1000 calculate sum\n",
    "        return num1+num2\n",
    "    \n",
    "result= mult_sum(20,30)\n",
    "print(result)"
   ]
  },
  {
   "cell_type": "code",
   "execution_count": 47,
   "id": "17ac6408",
   "metadata": {},
   "outputs": [
    {
     "data": {
      "text/plain": [
       "70"
      ]
     },
     "execution_count": 47,
     "metadata": {},
     "output_type": "execute_result"
    }
   ],
   "source": [
    "mult_sum(40,30)"
   ]
  },
  {
   "cell_type": "markdown",
   "id": "434c8940",
   "metadata": {},
   "source": [
    "### Task: Check if the first and last number of a list is the same."
   ]
  },
  {
   "cell_type": "code",
   "execution_count": 50,
   "id": "2b6c36bd",
   "metadata": {},
   "outputs": [],
   "source": [
    "# Write a function to return True if the first and last number of a given list is same. \n",
    "# If numbers are different then return False.\n",
    "\n",
    "\n",
    "def fst_last(numberList):\n",
    "    print(\"Given List\",numberList)\n",
    "    first_num=numberList[0]\n",
    "    last_num=numberList[-1]\n",
    "    \n",
    "    if first_num==last_num:\n",
    "        return True\n",
    "    else:\n",
    "        return False\n"
   ]
  },
  {
   "cell_type": "code",
   "execution_count": 51,
   "id": "8a74c8bf",
   "metadata": {},
   "outputs": [
    {
     "name": "stdout",
     "output_type": "stream",
     "text": [
      "Given List [10, 20, 30, 40, 50, 10]\n"
     ]
    },
    {
     "data": {
      "text/plain": [
       "True"
      ]
     },
     "execution_count": 51,
     "metadata": {},
     "output_type": "execute_result"
    }
   ],
   "source": [
    "numb=[10,20,30,40,50,10]\n",
    "numb2=[75,65,35,76,30]\n",
    "fst_last(numb)"
   ]
  },
  {
   "cell_type": "code",
   "execution_count": 52,
   "id": "9c60b422",
   "metadata": {},
   "outputs": [
    {
     "name": "stdout",
     "output_type": "stream",
     "text": [
      "Given List [75, 65, 35, 76, 30]\n"
     ]
    },
    {
     "data": {
      "text/plain": [
       "False"
      ]
     },
     "execution_count": 52,
     "metadata": {},
     "output_type": "execute_result"
    }
   ],
   "source": [
    "fst_last(numb2)"
   ]
  },
  {
   "cell_type": "code",
   "execution_count": null,
   "id": "eb7e7cfc",
   "metadata": {},
   "outputs": [],
   "source": []
  }
 ],
 "metadata": {
  "kernelspec": {
   "display_name": "Python 3 (ipykernel)",
   "language": "python",
   "name": "python3"
  },
  "language_info": {
   "codemirror_mode": {
    "name": "ipython",
    "version": 3
   },
   "file_extension": ".py",
   "mimetype": "text/x-python",
   "name": "python",
   "nbconvert_exporter": "python",
   "pygments_lexer": "ipython3",
   "version": "3.9.12"
  }
 },
 "nbformat": 4,
 "nbformat_minor": 5
}
