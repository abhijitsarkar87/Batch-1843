{
 "cells": [
  {
   "cell_type": "markdown",
   "id": "eaa4452b",
   "metadata": {},
   "source": [
    "### Q1. Python Program to print Hello World!"
   ]
  },
  {
   "cell_type": "code",
   "execution_count": 1,
   "id": "d1a88665",
   "metadata": {},
   "outputs": [
    {
     "name": "stdout",
     "output_type": "stream",
     "text": [
      "Hello World\n"
     ]
    }
   ],
   "source": [
    "# this print Hello World!\n",
    "print(\"Hello World\")"
   ]
  },
  {
   "cell_type": "markdown",
   "id": "202d27e7",
   "metadata": {},
   "source": [
    "### Q2. Python Program to Add two Numbers"
   ]
  },
  {
   "cell_type": "code",
   "execution_count": 4,
   "id": "a500c6d5",
   "metadata": {},
   "outputs": [
    {
     "name": "stdout",
     "output_type": "stream",
     "text": [
      "The sum of 1.5 and 6.3 is 7.8\n"
     ]
    }
   ],
   "source": [
    "num1=1.5\n",
    "num2=6.3\n",
    "\n",
    "# add two numbers\n",
    "\n",
    "sum=num1+num2\n",
    "print(\"The sum of {0} and {1} is {2}\".format(num1,num2,sum))"
   ]
  },
  {
   "cell_type": "markdown",
   "id": "846f2cd5",
   "metadata": {},
   "source": [
    "### Q3. Add two Numbers with User Input"
   ]
  },
  {
   "cell_type": "code",
   "execution_count": 6,
   "id": "d87aee6d",
   "metadata": {},
   "outputs": [
    {
     "name": "stdout",
     "output_type": "stream",
     "text": [
      "Enter first number: 1\n",
      "Enter Second Number: 2\n",
      "The sum of 1 and 2 is 3.0\n"
     ]
    }
   ],
   "source": [
    "num1=input(\"Enter first number: \")\n",
    "num2=input(\"Enter Second Number: \")\n",
    "\n",
    "# Add two numbers\n",
    "sum=float(num1)+float(num2)\n",
    "\n",
    "#Display the sum\n",
    "print(\"The sum of {0} and {1} is {2}\".format(num1,num2,sum))"
   ]
  },
  {
   "cell_type": "markdown",
   "id": "f8131c31",
   "metadata": {},
   "source": [
    "### Q4. Progran to find the square root"
   ]
  },
  {
   "cell_type": "code",
   "execution_count": 7,
   "id": "c0c738bf",
   "metadata": {},
   "outputs": [
    {
     "name": "stdout",
     "output_type": "stream",
     "text": [
      "Enter a number: 2\n",
      "The Square root of 2 is 1\n"
     ]
    }
   ],
   "source": [
    "#num=8\n",
    "num=float(input(\"Enter a number: \"))\n",
    "num_sqrt=num**0.5\n",
    "\n",
    "print(\"The Square root of %d is %d\"%(num,num_sqrt))"
   ]
  },
  {
   "cell_type": "markdown",
   "id": "59a91f24",
   "metadata": {},
   "source": [
    "### Q5. Program to calculate the area of a triangle"
   ]
  },
  {
   "cell_type": "code",
   "execution_count": 11,
   "id": "2e21b313",
   "metadata": {},
   "outputs": [
    {
     "name": "stdout",
     "output_type": "stream",
     "text": [
      "Enter first side: 2\n",
      "Enter secound side: 4\n",
      "Enter third side: 4\n",
      "\n",
      " The semi Perimeter of Triange is 5\n",
      " The area of the triangle is 3.87\n"
     ]
    }
   ],
   "source": [
    "# python Program to find the area of triangle\n",
    "\n",
    "a= float(input(\"Enter first side: \"))\n",
    "b= float(input(\"Enter secound side: \"))\n",
    "c= float(input(\"Enter third side: \"))\n",
    "\n",
    "#calculate the semi-perimeter\n",
    "s=(a+b+c)/2\n",
    "\n",
    "# calculate the area\n",
    "area=(s*(s-a)*(s-b)*(s-c))**0.5\n",
    "\n",
    "print(\"\\n The semi Perimeter of Triange is %d\"%s)\n",
    "\n",
    "print(\" The area of the triangle is %0.2f\"%area)"
   ]
  },
  {
   "cell_type": "markdown",
   "id": "31386922",
   "metadata": {},
   "source": [
    "### Q6. Python Program to swap two variables"
   ]
  },
  {
   "cell_type": "code",
   "execution_count": 17,
   "id": "dcc0e8d6",
   "metadata": {},
   "outputs": [
    {
     "name": "stdout",
     "output_type": "stream",
     "text": [
      "Enter value of x: 2\n",
      "Enter value of y: 3\n",
      "After Swaping\n",
      "The value of x after swaping: 3\n",
      "The value of y after swaping: 2\n"
     ]
    }
   ],
   "source": [
    "# To take inputs from the user\n",
    "x=int(input(\"Enter value of x: \"))\n",
    "y=int(input(\"Enter value of y: \"))\n",
    "\n",
    "# create a temperory variable and swap the values\n",
    "temp=x\n",
    "\n",
    "# value moves of of y into x\n",
    "x=y\n",
    "\n",
    "# value of temp moves to y\n",
    "y=temp\n",
    "\n",
    "print(\"After Swaping\")\n",
    "print(\"The value of x after swaping: {0}\".format(x))\n",
    "print(\"The value of y after swaping: {0}\".format(y))"
   ]
  },
  {
   "cell_type": "markdown",
   "id": "1df7b00a",
   "metadata": {},
   "source": [
    "### Q7 Program to generate a random number between 0 to 9"
   ]
  },
  {
   "cell_type": "code",
   "execution_count": 19,
   "id": "118cef50",
   "metadata": {},
   "outputs": [
    {
     "data": {
      "text/plain": [
       "5"
      ]
     },
     "execution_count": 19,
     "metadata": {},
     "output_type": "execute_result"
    }
   ],
   "source": [
    "# import the random module\n",
    "import random\n",
    "\n",
    "# auto generate number\n",
    "random.randint(0,9)"
   ]
  },
  {
   "cell_type": "markdown",
   "id": "b5b72895",
   "metadata": {},
   "source": [
    "### Q8 Taking kilometers input from the user"
   ]
  },
  {
   "cell_type": "code",
   "execution_count": 20,
   "id": "a191782b",
   "metadata": {},
   "outputs": [
    {
     "name": "stdout",
     "output_type": "stream",
     "text": [
      "Enter Kilometer:   2\n",
      "2.00 kilometers is equal to 1.24 miles\n"
     ]
    }
   ],
   "source": [
    "#input kilometer\n",
    "kilometers=int(input(\"Enter Kilometer:   \"))\n",
    "\n",
    "# factor\n",
    "conv_fac=0.621371\n",
    "\n",
    "# calculate miles\n",
    "miles=kilometers*conv_fac\n",
    "\n",
    "# output\n",
    "print(\"%0.2f kilometers is equal to %0.2f miles\"%(kilometers,miles))"
   ]
  },
  {
   "cell_type": "markdown",
   "id": "40b85d7e",
   "metadata": {},
   "source": [
    "### Q9 Python Program to convert temperature in celsius to fahrenheit"
   ]
  },
  {
   "cell_type": "code",
   "execution_count": 21,
   "id": "11a7dae5",
   "metadata": {},
   "outputs": [
    {
     "name": "stdout",
     "output_type": "stream",
     "text": [
      "37 celsius is equal to 99 fahrenheit\n"
     ]
    }
   ],
   "source": [
    "# change this values for a different result\n",
    "celsius=37.5\n",
    "\n",
    "#calculate fahrenheit\n",
    "fahrenheit=(celsius*1.8)+32\n",
    "\n",
    "print('%d celsius is equal to %d fahrenheit'%(celsius,fahrenheit))"
   ]
  },
  {
   "cell_type": "markdown",
   "id": "d5b1466f",
   "metadata": {},
   "source": [
    "### Q10.  Python Program to convert temperature in celsius to fahrenheit"
   ]
  },
  {
   "cell_type": "code",
   "execution_count": 22,
   "id": "a173cc78",
   "metadata": {},
   "outputs": [
    {
     "name": "stdout",
     "output_type": "stream",
     "text": [
      "37.5 degree Celsius is equal to 99.5 Fahrenheit\n"
     ]
    }
   ],
   "source": [
    "celsius=37.5\n",
    "\n",
    "# calculate fahrenheit\n",
    "\n",
    "fahrenheit=(9/5)*celsius+32\n",
    "\n",
    "# Output\n",
    "print('%0.1f degree Celsius is equal to %0.1f Fahrenheit'%(celsius,fahrenheit) )"
   ]
  },
  {
   "cell_type": "markdown",
   "id": "c0c60bc0",
   "metadata": {},
   "source": [
    "### Q11 Program to check whether a number entered by the user is positive negative or zero"
   ]
  },
  {
   "cell_type": "code",
   "execution_count": 28,
   "id": "49ee272b",
   "metadata": {},
   "outputs": [
    {
     "name": "stdout",
     "output_type": "stream",
     "text": [
      "Enter any number of-1\n",
      "User has entered a negative number \n"
     ]
    }
   ],
   "source": [
    "user_input=int(input(\"Enter any number of\"))\n",
    "\n",
    "if user_input==0:\n",
    "    print(\"User has entered a Zero \") \n",
    "    \n",
    "    \n",
    "elif user_input>0:\n",
    "    print(\"User has entered a postive number \")\n",
    "    \n",
    "    \n",
    "else:\n",
    "    print(\"User has entered a negative number \")"
   ]
  },
  {
   "cell_type": "markdown",
   "id": "52314840",
   "metadata": {},
   "source": [
    "### Q12 Program with Using Nested if"
   ]
  },
  {
   "cell_type": "code",
   "execution_count": 29,
   "id": "cb0ad5e5",
   "metadata": {},
   "outputs": [
    {
     "name": "stdout",
     "output_type": "stream",
     "text": [
      "Enter a number: 2\n",
      "Positive Number\n"
     ]
    }
   ],
   "source": [
    "num= float(input(\"Enter a number: \"))\n",
    "\n",
    "if num>=0:\n",
    "    if num==0:\n",
    "        print(\"Zero\")\n",
    "    else:\n",
    "        print(\"Positive Number\")\n",
    "else:\n",
    "    print(\"Negative number\")"
   ]
  },
  {
   "cell_type": "markdown",
   "id": "a764ac16",
   "metadata": {},
   "source": [
    "### Q13. Python program to check if the input number is odd or even."
   ]
  },
  {
   "cell_type": "code",
   "execution_count": 31,
   "id": "4a2249d5",
   "metadata": {},
   "outputs": [
    {
     "name": "stdout",
     "output_type": "stream",
     "text": [
      "Enter a number: 3\n",
      "3.0 is a odd\n"
     ]
    }
   ],
   "source": [
    "user_input= float(input(\"Enter a number: \"))\n",
    "\n",
    "\n",
    "if user_input%2==0:\n",
    "    print(\"{0} is a even\".format(user_input))\n",
    "else:\n",
    "    print(\"{0} is a odd\".format(user_input))"
   ]
  },
  {
   "cell_type": "markdown",
   "id": "9261ab22",
   "metadata": {},
   "source": [
    "### Q14 Python program to check if year is a leap year or not"
   ]
  },
  {
   "cell_type": "code",
   "execution_count": 32,
   "id": "2bd0d86a",
   "metadata": {},
   "outputs": [
    {
     "name": "stdout",
     "output_type": "stream",
     "text": [
      "Enter a year: 2000\n",
      "2000 is a leap year\n"
     ]
    }
   ],
   "source": [
    "#year=2000\n",
    "# to get year(integer input) from the user\n",
    "year=int(input(\"Enter a year: \"))\n",
    "\n",
    "# divided by 100 means century year (ending with 00)\n",
    "# century year divided by 400 is leap year\n",
    "\n",
    "if (year % 400==0) and (year % 100==0):\n",
    "    print(\"{0} is a leap year\".format(year))\n",
    "\n",
    "# not divided by 100 means not a century year\n",
    "# year divided by 4 is a leap year\n",
    "\n",
    "elif(year % 4==0) and (year % 100!=0):\n",
    "    print(\"{0} is a leap year\".format(year))    \n",
    "# if not divided by both 400 (century year) and 4(not century year)\n",
    "#year is not leap year\n",
    "\n",
    "else:\n",
    "    print(\"{0} is not a leap year\".format(year))"
   ]
  },
  {
   "cell_type": "markdown",
   "id": "30c1a38c",
   "metadata": {},
   "source": [
    "### Q15 # Python program to find the largest number among the three input numbers"
   ]
  },
  {
   "cell_type": "code",
   "execution_count": 34,
   "id": "ee4ee613",
   "metadata": {},
   "outputs": [
    {
     "name": "stdout",
     "output_type": "stream",
     "text": [
      "Enter first number: 4\n",
      "Enter Second number: 3\n",
      "Enter third number:  2\n",
      " Number1 is Greater than Number2 and Number3: \n"
     ]
    }
   ],
   "source": [
    "# change the values of num1,num2,num3\n",
    "# for a different result\n",
    "\n",
    "#num1=10\n",
    "#num2=14\n",
    "#num3=12\n",
    "\n",
    "# uncomment following lines to take three numbers from user\n",
    "\n",
    "# number 1\n",
    "num1=float(input(\"Enter first number: \"))\n",
    "# number 2\n",
    "num2=float(input(\"Enter Second number: \"))\n",
    "# number 3\n",
    "num3=float(input(\"Enter third number:  \"))\n",
    "\n",
    "if num1>num2 and num1>num3:\n",
    "    print(\" Number1 is Greater than Number2 and Number3: \")\n",
    "    \n",
    "if num2>num3 and num2>num1:\n",
    "    print(\" Number2 is Greater than Number1 and Number3: \")\n",
    "    \n",
    "if num3>num1 and num3>num2:\n",
    "    print(\" Number3 is Greater than Number2 and Number1 \")"
   ]
  },
  {
   "cell_type": "code",
   "execution_count": 35,
   "id": "5581d2de",
   "metadata": {},
   "outputs": [
    {
     "name": "stdout",
     "output_type": "stream",
     "text": [
      "Enter first number: 5\n",
      "Enter Second number: 6\n",
      "Enter third number:  7\n",
      " Number3 is Greater than Number2 and Number1 \n"
     ]
    }
   ],
   "source": [
    "# uncomment following lines to take three numbers from user\n",
    "\n",
    "num1=float(input(\"Enter first number: \"))\n",
    "num2=float(input(\"Enter Second number: \"))\n",
    "num3=float(input(\"Enter third number:  \"))\n",
    "\n",
    "if num1>num2 and num1>3:\n",
    "    print(\" Number1 is Greater than Number2 and Number3: \")\n",
    "    \n",
    "elif num2>num3 and num2>num1:\n",
    "    print(\" Number2 is Greater than Number1 and Number3: \")\n",
    "    \n",
    "else:\n",
    "    print(\" Number3 is Greater than Number2 and Number1 \")"
   ]
  },
  {
   "cell_type": "markdown",
   "id": "23858047",
   "metadata": {},
   "source": [
    "### 16 Program to check if a number is prime or not"
   ]
  },
  {
   "cell_type": "code",
   "execution_count": 40,
   "id": "30b847ff",
   "metadata": {},
   "outputs": [
    {
     "name": "stdout",
     "output_type": "stream",
     "text": [
      "Enter a number9\n",
      "9 is not a prime number\n"
     ]
    }
   ],
   "source": [
    "num=int(input(\"Enter a number\"))\n",
    "\n",
    "flag=False\n",
    "\n",
    "if num>1: # prime number is greater than one\n",
    "    for i in range(2,num):\n",
    "        if (num % i)==0:\n",
    "            flag=True\n",
    "            break\n",
    "if flag:\n",
    "    print(num,\"is not a prime number\")\n",
    "else:\n",
    "    print(num,\"is a prime number \")"
   ]
  },
  {
   "cell_type": "markdown",
   "id": "9609198e",
   "metadata": {},
   "source": [
    "### 17 Program to check if a number is prime or not"
   ]
  },
  {
   "cell_type": "code",
   "execution_count": 42,
   "id": "e25f9236",
   "metadata": {},
   "outputs": [
    {
     "name": "stdout",
     "output_type": "stream",
     "text": [
      "Enter a number: 4\n",
      "4 is not a prime number\n",
      "2 times 2 is 4\n"
     ]
    }
   ],
   "source": [
    "num=int(input(\"Enter a number: \"))\n",
    "\n",
    "if num>1: # note: prime number is greater than 1\n",
    "    \n",
    "    for i in range(2,num):\n",
    "        if (num%i)==0:\n",
    "            \n",
    "            print(num,\"is not a prime number\")\n",
    "            print(i,\"times\",num//i,\"is\",num)\n",
    "            break\n",
    "        else:\n",
    "            print(num,\"is  a PRIME NUMBER\")\n",
    "\n",
    "# if input is less than or equal to 1, it is not prime\n",
    "else:\n",
    "    print(num,\"is not a prime number\")"
   ]
  },
  {
   "cell_type": "markdown",
   "id": "5518c11b",
   "metadata": {},
   "source": [
    "### 18. Python program to display all the prime numbers within an interva"
   ]
  },
  {
   "cell_type": "code",
   "execution_count": 1,
   "id": "b0b2b941",
   "metadata": {},
   "outputs": [
    {
     "name": "stdout",
     "output_type": "stream",
     "text": [
      "Prime number between 900 and 905 are: \n",
      "900 2 is not a prime number\n",
      "901 is a prime number\n",
      "901 is a prime number\n",
      "901 is a prime number\n",
      "901 is a prime number\n",
      "901 is a prime number\n",
      "901 is a prime number\n",
      "901 is a prime number\n",
      "901 is a prime number\n",
      "901 is a prime number\n",
      "901 is a prime number\n",
      "901 is a prime number\n",
      "901 is a prime number\n",
      "901 is a prime number\n",
      "901 is a prime number\n",
      "901 is a prime number\n",
      "901 17 is not a prime number\n",
      "902 2 is not a prime number\n",
      "903 is a prime number\n",
      "903 3 is not a prime number\n",
      "904 2 is not a prime number\n",
      "905 is a prime number\n",
      "905 is a prime number\n",
      "905 is a prime number\n",
      "905 5 is not a prime number\n"
     ]
    }
   ],
   "source": [
    "lower=900\n",
    "upper=905\n",
    "\n",
    "print(\"Prime number between {0} and {1} are: \".format(lower,upper))\n",
    "\n",
    "for num in range(lower,upper+1):\n",
    "    if num>1:\n",
    "        for i in range(2,num):\n",
    "            if (num%i)==0:\n",
    "                print(num,i,\"is not a prime number\")\n",
    "                break\n",
    "            else:\n",
    "                print(num,\"is a prime number\")"
   ]
  },
  {
   "cell_type": "markdown",
   "id": "4bc581bf",
   "metadata": {},
   "source": [
    "### Q19 Factorial- The factorial of a number is the product of all the integers from 1 to the number."
   ]
  },
  {
   "cell_type": "code",
   "execution_count": 7,
   "id": "ba1f6f3d",
   "metadata": {},
   "outputs": [
    {
     "name": "stdout",
     "output_type": "stream",
     "text": [
      "Enter a number: 6\n",
      "1\n",
      "2\n",
      "6\n",
      "24\n",
      "120\n",
      "720\n",
      "The Factorial of  6 is  720\n"
     ]
    }
   ],
   "source": [
    "# The Factorial of 6 is 1*2*3*4*5*6=720,0!=1\n",
    "\n",
    "num=int(input(\"Enter a number: \"))\n",
    "\n",
    "factorail=1\n",
    "\n",
    "if num<0:\n",
    "    print(\"Sorry, factorial does not exist for negative numbers\")\n",
    "elif num==0:\n",
    "    print(\"The factorial of 0 is 1 \")\n",
    "else:\n",
    "    for i in range(1,num+1):\n",
    "        factorail=factorail*i\n",
    "        \n",
    "        print(factorail)\n",
    "    print(\"The Factorial of \",num,\"is \",factorail)"
   ]
  },
  {
   "cell_type": "code",
   "execution_count": 8,
   "id": "166f7bd9",
   "metadata": {},
   "outputs": [],
   "source": [
    "def factorial(x):\n",
    "    \"\"\"\n",
    "    This is a recursive function to find the factorial of an integer\n",
    "    \n",
    "    \"\"\"\n",
    "    \n",
    "    if x==1:\n",
    "        return 1\n",
    "    else:\n",
    "        #recursive call  to the function\n",
    "        \n",
    "        return(x* factorial(x-1))"
   ]
  },
  {
   "cell_type": "code",
   "execution_count": 9,
   "id": "06876557",
   "metadata": {},
   "outputs": [
    {
     "data": {
      "text/plain": [
       "720"
      ]
     },
     "execution_count": 9,
     "metadata": {},
     "output_type": "execute_result"
    }
   ],
   "source": [
    "factorial(6)"
   ]
  },
  {
   "cell_type": "markdown",
   "id": "28619cf3",
   "metadata": {},
   "source": [
    "### Multiplication table"
   ]
  },
  {
   "cell_type": "code",
   "execution_count": 10,
   "id": "e70a4d7c",
   "metadata": {},
   "outputs": [
    {
     "name": "stdout",
     "output_type": "stream",
     "text": [
      "Enter any Number2\n",
      "2 * 1  =  2\n",
      "2 * 2  =  4\n",
      "2 * 3  =  6\n",
      "2 * 4  =  8\n",
      "2 * 5  =  10\n",
      "2 * 6  =  12\n",
      "2 * 7  =  14\n",
      "2 * 8  =  16\n",
      "2 * 9  =  18\n",
      "2 * 10  =  20\n"
     ]
    }
   ],
   "source": [
    "user=int(input(\"Enter any Number\"))\n",
    "\n",
    "for i in range(1,10+1):\n",
    "    \n",
    "    print(user,\"*\",i,\" = \",user*i)"
   ]
  },
  {
   "cell_type": "markdown",
   "id": "ec64b44b",
   "metadata": {},
   "source": [
    "### 22 Fibonacci sequence is the integer sequences of 0,1,1,2,3,5,8"
   ]
  },
  {
   "cell_type": "code",
   "execution_count": 13,
   "id": "2b3f04e1",
   "metadata": {},
   "outputs": [
    {
     "name": "stdout",
     "output_type": "stream",
     "text": [
      "Enter any number: 6\n",
      "Fibonacci sequence: \n",
      "0\n",
      "1\n",
      "1\n",
      "2\n",
      "3\n",
      "5\n"
     ]
    }
   ],
   "source": [
    "nterms=int(input(\"Enter any number: \"))\n",
    "\n",
    "n1,n2=0,1\n",
    "count=0\n",
    "\n",
    "# check if the number of terms is valid\n",
    "if nterms<=0:\n",
    "    print(\" Please enter a positive Number \")\n",
    "\n",
    "# if there is only one term, return n1\n",
    "\n",
    "elif nterms==1:\n",
    "    print(\"Fibonacci squence upto \",nterms ,\":\")\n",
    "    print(n1)\n",
    "    \n",
    "# generate fibonacci sequence\n",
    "\n",
    "else:\n",
    "    print(\"Fibonacci sequence: \")\n",
    "    while count<nterms:\n",
    "        print(n1)\n",
    "        \n",
    "        nth=n1+n2\n",
    "        # update values\n",
    "        \n",
    "        n1=n2\n",
    "        n2=nth\n",
    "        \n",
    "        count=count+1\n",
    "        "
   ]
  },
  {
   "cell_type": "markdown",
   "id": "102aa38f",
   "metadata": {},
   "source": [
    "### 23 A positive integer is called an armstrong number of order n if \n",
    "\n",
    "- In case of an Armstrong number of 3 digits, the sum of cubes of each digit is equal to the number itself."
   ]
  },
  {
   "cell_type": "raw",
   "id": "fd16198c",
   "metadata": {},
   "source": [
    "ex: 153 =(1*1*1) +(5*5*5)+3*3*3  //153 is an arm strong number\n",
    "\n",
    "ex: 154=(1*1*1)+(5*5*5)+(4*4*4) //we get 190 hence its not an arm strong number"
   ]
  },
  {
   "cell_type": "code",
   "execution_count": 19,
   "id": "e977af5d",
   "metadata": {},
   "outputs": [
    {
     "name": "stdout",
     "output_type": "stream",
     "text": [
      "Enter a number: 153\n",
      "Digit  3\n",
      "15\n",
      "Digit  5\n",
      "1\n",
      "Digit  1\n",
      "0\n",
      "153  is an Armstrong number\n"
     ]
    }
   ],
   "source": [
    "num=int(input(\"Enter a number: \"))\n",
    "sum=0\n",
    "\n",
    "temp=num\n",
    "\n",
    "while temp>0:\n",
    "    digit=temp%10\n",
    "    print(\"Digit \",digit)\n",
    "    sum=sum+digit**3\n",
    "    \n",
    "    temp//=10\n",
    "    print(temp)\n",
    "\n",
    "    #display the result:\n",
    "    \n",
    "if num==sum:\n",
    "    print(num,\" is an Armstrong number\")\n",
    "else:\n",
    "    print(num,\" is Not an Armstrong number\")\n"
   ]
  },
  {
   "cell_type": "markdown",
   "id": "6db5b131",
   "metadata": {},
   "source": [
    "### Q24 Arm strong number"
   ]
  },
  {
   "cell_type": "code",
   "execution_count": 6,
   "id": "775c85b1",
   "metadata": {},
   "outputs": [
    {
     "name": "stdout",
     "output_type": "stream",
     "text": [
      "enter any number of: 153\n",
      "temp 153\n",
      "The digit 3\n",
      "The Sum 27\n",
      "temp 15\n",
      "The digit 5\n",
      "The Sum 152\n",
      "temp 1\n",
      "The digit 1\n",
      "The Sum 153\n",
      "This is an Armstrong number 153\n"
     ]
    }
   ],
   "source": [
    "# insert number\n",
    "num=int(input(\"enter any number of: \"))\n",
    "\n",
    "order=len(str(num))\n",
    "\n",
    "#intitialization\n",
    "sum=0\n",
    "\n",
    "# find the sum of the cube of each digit\n",
    "temp=num\n",
    "\n",
    "while temp>0:\n",
    "    print(\"temp\",temp)\n",
    "    digit=temp%10\n",
    "    print(\"The digit\",digit)\n",
    "    \n",
    "    sum=sum+digit ** order\n",
    "    print(\"The Sum\",sum)\n",
    "    temp//=10\n",
    "    \n",
    "    # display result\n",
    "    \n",
    "if num==sum:\n",
    "    print(\"This is an Armstrong number %d\"%(num))\n",
    "else:\n",
    "    print(\"{0} is not an Armstrong number \".format(num))"
   ]
  },
  {
   "cell_type": "markdown",
   "id": "ebd34054",
   "metadata": {},
   "source": [
    "### FIND all the Armstrong numbers present in between two intervals in Python."
   ]
  },
  {
   "cell_type": "code",
   "execution_count": 24,
   "id": "0176d33b",
   "metadata": {},
   "outputs": [
    {
     "name": "stdout",
     "output_type": "stream",
     "text": [
      "Enter the lower number: 100\n",
      "Enter the upper number: 500\n",
      "153\n"
     ]
    }
   ],
   "source": [
    "lower= int(input(\"Enter the lower number: \"))\n",
    "upper= int(input(\"Enter the upper number: \"))\n",
    "\n",
    "for i in range(lower,upper+1):\n",
    "    \n",
    "    # order of number\n",
    "    order=len(str(i))\n",
    "    \n",
    "    #intialize sum\n",
    "    sum=0\n",
    "    \n",
    "    temp=num\n",
    "    \n",
    "    while temp>0:\n",
    "        digit=temp%10\n",
    "        \n",
    "        sum+=digit**order\n",
    "        \n",
    "        temp//=10\n",
    "        \n",
    "if num==sum:\n",
    "    print(num)\n",
    "        "
   ]
  },
  {
   "cell_type": "markdown",
   "id": "683e03b2",
   "metadata": {},
   "source": [
    "### Q26 sum of natural numbers up to num"
   ]
  },
  {
   "cell_type": "code",
   "execution_count": 1,
   "id": "d5782a70",
   "metadata": {},
   "outputs": [
    {
     "name": "stdout",
     "output_type": "stream",
     "text": [
      "Enter a number3\n",
      "The sum is  6\n"
     ]
    }
   ],
   "source": [
    "num=int(input(\"Enter a number\"))\n",
    "\n",
    "if num<0:\n",
    "    print(\"Enter a postive number\")\n",
    "else:\n",
    "    sum=0\n",
    "    #while loop iterate until zero\n",
    "    \n",
    "    while(num>0):\n",
    "        sum=sum+num\n",
    "        num-=1\n",
    "print(\"The sum is \",sum)"
   ]
  },
  {
   "cell_type": "markdown",
   "id": "f3659d19",
   "metadata": {},
   "source": [
    "### Q27 ASCII stands for American Standard Code for Information Interchange.\n",
    "\n",
    "- It is a numeric value given to different characters and symbols, for computers to store and manipulate. For example, the ASCII value of the letter 'A' is 65"
   ]
  },
  {
   "cell_type": "code",
   "execution_count": 14,
   "id": "2c448247",
   "metadata": {},
   "outputs": [
    {
     "name": "stdout",
     "output_type": "stream",
     "text": [
      "The ASCII value of 'p'  is 112\n"
     ]
    }
   ],
   "source": [
    "# program to find the ascii value\n",
    "c='p'\n",
    "print(\"The ASCII value of '\" + c +\"'  is\", ord(c))"
   ]
  },
  {
   "cell_type": "markdown",
   "id": "c14976f8",
   "metadata": {},
   "source": [
    "# 28 Not given"
   ]
  },
  {
   "cell_type": "markdown",
   "id": "644a92aa",
   "metadata": {},
   "source": [
    "# Q29\n",
    "\n",
    "The highest common factor (H.C.F) or greatest common divisor (G.C.D) of two numbers is the largest positive integer that perfectly divides the the two given numbers.\n",
    "\n",
    "- For example the HCF of 12 and 14 is 2\n"
   ]
  },
  {
   "cell_type": "code",
   "execution_count": 25,
   "id": "1907e954",
   "metadata": {},
   "outputs": [
    {
     "name": "stdout",
     "output_type": "stream",
     "text": [
      "The HCF is  1\n"
     ]
    }
   ],
   "source": [
    "# Python program to find the H.C.F of two numbers\n",
    "\n",
    "# define a function\n",
    "\n",
    "def compute_hcf(x,y):\n",
    "    \n",
    "    if x>y:\n",
    "        smaller=y\n",
    "    else:\n",
    "        smaller=x\n",
    "        \n",
    "    for i in range(1,smaller+1):\n",
    "        if ((x%i==0)and(y%i==0)):\n",
    "            hcf=i\n",
    "        return hcf\n",
    "        \n",
    "num1=54\n",
    "num2=24\n",
    "print(\"The HCF is \",compute_hcf(num1,num2))"
   ]
  },
  {
   "cell_type": "code",
   "execution_count": 26,
   "id": "231502b2",
   "metadata": {},
   "outputs": [
    {
     "data": {
      "text/plain": [
       "1"
      ]
     },
     "execution_count": 26,
     "metadata": {},
     "output_type": "execute_result"
    }
   ],
   "source": [
    "compute_hcf(14,12)"
   ]
  },
  {
   "cell_type": "markdown",
   "id": "173f36ed",
   "metadata": {},
   "source": [
    "# Q30\n",
    "\n",
    "The least common multiple (L.C.M.) of two numbers is the smallest positive integer that is perfectly divisible by the two given numbers.\n",
    "\n",
    "For example the LCM of 12 and 14 is 84"
   ]
  },
  {
   "cell_type": "code",
   "execution_count": 28,
   "id": "7011873e",
   "metadata": {},
   "outputs": [
    {
     "name": "stdout",
     "output_type": "stream",
     "text": [
      "The LCM is  1\n"
     ]
    }
   ],
   "source": [
    "def compute_lcm(x,y):\n",
    "    \n",
    "    #choose the greater number:\n",
    "    \n",
    "    if x>y:\n",
    "        greater=x\n",
    "    else:\n",
    "        greater=y\n",
    "        \n",
    "    while(True):\n",
    "        if ((greater % x==0)and(greater %y==0)):\n",
    "            lcm=greater\n",
    "            break\n",
    "        greater+=1\n",
    "        \n",
    "        return lcm\n",
    "\n",
    "num1=54\n",
    "num2=24\n",
    "print(\"The LCM is \",compute_hcf(num1,num2))"
   ]
  },
  {
   "cell_type": "code",
   "execution_count": null,
   "id": "e34a1a77",
   "metadata": {},
   "outputs": [],
   "source": []
  }
 ],
 "metadata": {
  "kernelspec": {
   "display_name": "Python 3 (ipykernel)",
   "language": "python",
   "name": "python3"
  },
  "language_info": {
   "codemirror_mode": {
    "name": "ipython",
    "version": 3
   },
   "file_extension": ".py",
   "mimetype": "text/x-python",
   "name": "python",
   "nbconvert_exporter": "python",
   "pygments_lexer": "ipython3",
   "version": "3.9.13"
  }
 },
 "nbformat": 4,
 "nbformat_minor": 5
}
