{
 "cells": [
  {
   "cell_type": "code",
   "execution_count": 1,
   "id": "2efbe2ca",
   "metadata": {},
   "outputs": [
    {
     "data": {
      "text/plain": [
       "12"
      ]
     },
     "execution_count": 1,
     "metadata": {},
     "output_type": "execute_result"
    }
   ],
   "source": [
    "8+4"
   ]
  },
  {
   "cell_type": "code",
   "execution_count": 2,
   "id": "04896dd8",
   "metadata": {},
   "outputs": [
    {
     "data": {
      "text/plain": [
       "80"
      ]
     },
     "execution_count": 2,
     "metadata": {},
     "output_type": "execute_result"
    }
   ],
   "source": [
    "16*5"
   ]
  },
  {
   "cell_type": "code",
   "execution_count": 3,
   "id": "9af21e1d",
   "metadata": {},
   "outputs": [
    {
     "data": {
      "text/plain": [
       "20"
      ]
     },
     "execution_count": 3,
     "metadata": {},
     "output_type": "execute_result"
    }
   ],
   "source": [
    "50-5*6"
   ]
  },
  {
   "cell_type": "code",
   "execution_count": 4,
   "id": "f5b31194",
   "metadata": {},
   "outputs": [
    {
     "data": {
      "text/plain": [
       "20"
      ]
     },
     "execution_count": 4,
     "metadata": {},
     "output_type": "execute_result"
    }
   ],
   "source": [
    "(50-5*6)"
   ]
  },
  {
   "cell_type": "code",
   "execution_count": 5,
   "id": "8412f087",
   "metadata": {},
   "outputs": [
    {
     "data": {
      "text/plain": [
       "5.0"
      ]
     },
     "execution_count": 5,
     "metadata": {},
     "output_type": "execute_result"
    }
   ],
   "source": [
    "(50-5*6)/4"
   ]
  },
  {
   "cell_type": "code",
   "execution_count": 7,
   "id": "7316d795",
   "metadata": {},
   "outputs": [],
   "source": [
    "#Now Write Comment\n",
    "# This is my First program\n",
    "# It prints the phrase \"Hello, World\"\n",
    "# The comments are longer than the code!"
   ]
  },
  {
   "cell_type": "code",
   "execution_count": 8,
   "id": "6f71cb9b",
   "metadata": {},
   "outputs": [
    {
     "name": "stdout",
     "output_type": "stream",
     "text": [
      "Greetings\n"
     ]
    }
   ],
   "source": [
    "greeeting=\"Hello world of Python\"\n",
    "print(\"Greetings\")"
   ]
  },
  {
   "cell_type": "code",
   "execution_count": 9,
   "id": "d1e61635",
   "metadata": {},
   "outputs": [
    {
     "data": {
      "text/plain": [
       "1.6"
      ]
     },
     "execution_count": 9,
     "metadata": {},
     "output_type": "execute_result"
    }
   ],
   "source": [
    "# division always return a floating value\n",
    "8/5"
   ]
  },
  {
   "cell_type": "code",
   "execution_count": 10,
   "id": "04a191ef",
   "metadata": {},
   "outputs": [
    {
     "data": {
      "text/plain": [
       "5.666666666666667"
      ]
     },
     "execution_count": 10,
     "metadata": {},
     "output_type": "execute_result"
    }
   ],
   "source": [
    "# classic division returns a float\n",
    "17/3"
   ]
  },
  {
   "cell_type": "code",
   "execution_count": 11,
   "id": "c9dd8184",
   "metadata": {},
   "outputs": [
    {
     "data": {
      "text/plain": [
       "5"
      ]
     },
     "execution_count": 11,
     "metadata": {},
     "output_type": "execute_result"
    }
   ],
   "source": [
    "# floor division discards the fractional part\n",
    "17//3"
   ]
  },
  {
   "cell_type": "code",
   "execution_count": 12,
   "id": "e53f0eb9",
   "metadata": {},
   "outputs": [
    {
     "data": {
      "text/plain": [
       "2"
      ]
     },
     "execution_count": 12,
     "metadata": {},
     "output_type": "execute_result"
    }
   ],
   "source": [
    "# the % operator returns the remainder of the division\n",
    "\n",
    "17%3"
   ]
  },
  {
   "cell_type": "code",
   "execution_count": 13,
   "id": "caf15017",
   "metadata": {},
   "outputs": [
    {
     "data": {
      "text/plain": [
       "17"
      ]
     },
     "execution_count": 13,
     "metadata": {},
     "output_type": "execute_result"
    }
   ],
   "source": [
    "# result * divisor+ remainder\n",
    "\n",
    "5*3+2"
   ]
  },
  {
   "cell_type": "code",
   "execution_count": 14,
   "id": "fbcee2c4",
   "metadata": {},
   "outputs": [
    {
     "data": {
      "text/plain": [
       "25"
      ]
     },
     "execution_count": 14,
     "metadata": {},
     "output_type": "execute_result"
    }
   ],
   "source": [
    "# 5 squared\n",
    "5**2"
   ]
  },
  {
   "cell_type": "code",
   "execution_count": 15,
   "id": "e03c48bd",
   "metadata": {},
   "outputs": [
    {
     "data": {
      "text/plain": [
       "128"
      ]
     },
     "execution_count": 15,
     "metadata": {},
     "output_type": "execute_result"
    }
   ],
   "source": [
    "#2 to the power of 7\n",
    "2**7"
   ]
  },
  {
   "cell_type": "code",
   "execution_count": 16,
   "id": "4938bded",
   "metadata": {},
   "outputs": [
    {
     "name": "stdout",
     "output_type": "stream",
     "text": [
      "20\n",
      "The value of width= 20\n",
      "The value of width is= 20\n",
      "Value = 900\n"
     ]
    }
   ],
   "source": [
    "width=20\n",
    "height=5*9\n",
    "width*height\n",
    "print(width)\n",
    "\n",
    "#use single quote\n",
    "print('The value of width=',width)\n",
    "\n",
    "# use double quote\n",
    "print(\"The value of width is=\",width)\n",
    "\n",
    "print(\"Value =\",width*height)"
   ]
  },
  {
   "cell_type": "code",
   "execution_count": 17,
   "id": "d79148f2",
   "metadata": {},
   "outputs": [
    {
     "name": "stdout",
     "output_type": "stream",
     "text": [
      "Height 45\n",
      "The value of height is = 20\n"
     ]
    }
   ],
   "source": [
    "# Task: Now try to print height yourself\n",
    "print(\"Height\",height)\n",
    "print(\"The value of height is =\",width)"
   ]
  },
  {
   "cell_type": "code",
   "execution_count": 18,
   "id": "6bb9c568",
   "metadata": {},
   "outputs": [
    {
     "name": "stdout",
     "output_type": "stream",
     "text": [
      "Tax 0.125\n",
      "Price 100.5\n",
      "Value Stands 12.5625\n"
     ]
    }
   ],
   "source": [
    "tax=12.5/100\n",
    "price=100.50\n",
    "price*tax\n",
    "\n",
    "# try to print tax and price yourself\n",
    "\n",
    "print(\"Tax\",tax)\n",
    "print(\"Price\",price)\n",
    "print(\"Value Stands\",price*tax)"
   ]
  },
  {
   "cell_type": "code",
   "execution_count": 21,
   "id": "a88968b4",
   "metadata": {},
   "outputs": [
    {
     "data": {
      "text/plain": [
       "'The Sun'"
      ]
     },
     "execution_count": 21,
     "metadata": {},
     "output_type": "execute_result"
    }
   ],
   "source": [
    "# String concatenation:\n",
    "\n",
    "\"The \"+\"Sun\""
   ]
  },
  {
   "cell_type": "code",
   "execution_count": 22,
   "id": "92dc55cd",
   "metadata": {},
   "outputs": [
    {
     "data": {
      "text/plain": [
       "'The  Moon'"
      ]
     },
     "execution_count": 22,
     "metadata": {},
     "output_type": "execute_result"
    }
   ],
   "source": [
    "'The '+' Moon'"
   ]
  },
  {
   "cell_type": "code",
   "execution_count": 23,
   "id": "cb056222",
   "metadata": {},
   "outputs": [
    {
     "data": {
      "text/plain": [
       "'Planets Universe'"
      ]
     },
     "execution_count": 23,
     "metadata": {},
     "output_type": "execute_result"
    }
   ],
   "source": [
    "\"Planets\"+\" Universe\""
   ]
  },
  {
   "cell_type": "code",
   "execution_count": 25,
   "id": "2795cae6",
   "metadata": {},
   "outputs": [],
   "source": [
    "string1=\"Elon\"\n",
    "string2=\"Mask\"\n",
    "magic_string=string1+string2"
   ]
  },
  {
   "cell_type": "code",
   "execution_count": 26,
   "id": "4ef70377",
   "metadata": {},
   "outputs": [
    {
     "data": {
      "text/plain": [
       "'ElonMask'"
      ]
     },
     "execution_count": 26,
     "metadata": {},
     "output_type": "execute_result"
    }
   ],
   "source": [
    "magic_string"
   ]
  },
  {
   "cell_type": "code",
   "execution_count": 27,
   "id": "41a3b44b",
   "metadata": {},
   "outputs": [
    {
     "data": {
      "text/plain": [
       "'Arthur Dent'"
      ]
     },
     "execution_count": 27,
     "metadata": {},
     "output_type": "execute_result"
    }
   ],
   "source": [
    "#  Make variable firstname and lastname and concate them with space:\n",
    "first_name=\"Arthur\"\n",
    "last_name=\"Dent\"\n",
    "\n",
    "fullname=first_name+\" \"+last_name\n",
    "fullname"
   ]
  },
  {
   "cell_type": "markdown",
   "id": "2d68ac1c",
   "metadata": {},
   "source": [
    "### Task"
   ]
  },
  {
   "cell_type": "code",
   "execution_count": 29,
   "id": "1f31e215",
   "metadata": {},
   "outputs": [
    {
     "name": "stdout",
     "output_type": "stream",
     "text": [
      "Hello World\n"
     ]
    }
   ],
   "source": [
    "# Create two strings,concate them, and print the resulting string\n",
    "\n",
    "f=\"Hello\"\n",
    "l=\"World\"\n",
    "fl=f+\" \"+l\n",
    "print(fl)"
   ]
  },
  {
   "cell_type": "code",
   "execution_count": 30,
   "id": "3929394d",
   "metadata": {},
   "outputs": [
    {
     "name": "stdout",
     "output_type": "stream",
     "text": [
      "Word Stands Welcome On Board\n"
     ]
    }
   ],
   "source": [
    "# Create two strings, use concatenation to add a space between them, and print the result.\n",
    "\n",
    "first_n=\"Welcome\"\n",
    "secnd=\"On Board\"\n",
    "\n",
    "fir_sec=first_n+\" \"+secnd\n",
    "\n",
    "print(\"Word Stands\",fir_sec)"
   ]
  },
  {
   "cell_type": "code",
   "execution_count": 31,
   "id": "e1b81c34",
   "metadata": {},
   "outputs": [
    {
     "name": "stdout",
     "output_type": "stream",
     "text": [
      " Hey,What's up?Abhijit\n",
      " You said: Abhijit\n"
     ]
    }
   ],
   "source": [
    "#user Input\n",
    "prompt=\" Hey,What's up?\"\n",
    "\n",
    "user_input=input(prompt)\n",
    "print(\" You said: \"+ user_input)"
   ]
  },
  {
   "cell_type": "code",
   "execution_count": 40,
   "id": "6639f768",
   "metadata": {},
   "outputs": [
    {
     "name": "stdout",
     "output_type": "stream",
     "text": [
      " Hello Please ENTER a number which needs to be doubled 3\n",
      "You said Input as  3 \n",
      "Result is 9\n"
     ]
    }
   ],
   "source": [
    "# Take user input and make twice of that number:\n",
    "promt=\" Hello Please ENTER a number which needs to be doubled \"\n",
    "user_input=int(input(promt))\n",
    "print(\"You said Input as \",user_input, \"\\nResult is\",user_input*user_input)"
   ]
  },
  {
   "cell_type": "code",
   "execution_count": 41,
   "id": "ebfff095",
   "metadata": {},
   "outputs": [
    {
     "name": "stdout",
     "output_type": "stream",
     "text": [
      "Enter a number to be doubled: 3\n",
      "33\n"
     ]
    }
   ],
   "source": [
    "# Take user input and make twicw of that number \n",
    "\n",
    "num=input(\"Enter a number to be doubled: \")\n",
    "doubled_num=num*2\n",
    "print(doubled_num)"
   ]
  },
  {
   "cell_type": "code",
   "execution_count": 43,
   "id": "aa5f9fb8",
   "metadata": {},
   "outputs": [
    {
     "name": "stdout",
     "output_type": "stream",
     "text": [
      "Enter a number to be doubled: 2\n",
      "4.0\n"
     ]
    }
   ],
   "source": [
    "#Take user input and make twice of that number and typecast it to float.\n",
    "\n",
    "num= input(\"Enter a number to be doubled: \")\n",
    "doubled_num= float(num)*2\n",
    "print(doubled_num)"
   ]
  },
  {
   "cell_type": "code",
   "execution_count": 45,
   "id": "96ddc055",
   "metadata": {},
   "outputs": [
    {
     "name": "stdout",
     "output_type": "stream",
     "text": [
      "Enter First number for multiplication 2\n",
      "Enter Second number for multiplication 4\n",
      "RESULT OF MULTIPLICATION  8.0\n"
     ]
    }
   ],
   "source": [
    "# Task: Write a program that uses input() twice to get two numbers from the user, Multiplies the number together and displays the result.\n",
    "\n",
    "user1=float(input(\"Enter First number for multiplication \"))\n",
    "user2=float(input(\"Enter Second number for multiplication \"))\n",
    "\n",
    "print(\"RESULT OF MULTIPLICATION \",user1*user2)\n"
   ]
  },
  {
   "cell_type": "code",
   "execution_count": 50,
   "id": "dbd8664b",
   "metadata": {},
   "outputs": [
    {
     "name": "stdout",
     "output_type": "stream",
     "text": [
      "Enter Principle Amount100\n",
      "Enter Rate 12\n",
      "Enter Time 1\n",
      "Simple Intrest Stands  12.0\n"
     ]
    }
   ],
   "source": [
    "# Calculate simple Intrest by taking user input for principle, rate and time\n",
    "P=int(input(\"Enter Principle Amount\"))\n",
    "R=float(input(\"Enter Rate \"))\n",
    "T=float(input(\"Enter Time \"))\n",
    "SI = (P * R * T)/100\n",
    "\n",
    "print(\"Simple Intrest Stands \",SI)"
   ]
  },
  {
   "cell_type": "code",
   "execution_count": 54,
   "id": "fd88af43",
   "metadata": {},
   "outputs": [
    {
     "data": {
      "text/plain": [
       "112.0"
      ]
     },
     "execution_count": 54,
     "metadata": {},
     "output_type": "execute_result"
    }
   ],
   "source": [
    "Amount=(P+SI)\n",
    "Amount"
   ]
  },
  {
   "cell_type": "code",
   "execution_count": 55,
   "id": "1c2d0331",
   "metadata": {},
   "outputs": [
    {
     "data": {
      "text/plain": [
       "52500.0"
      ]
     },
     "execution_count": 55,
     "metadata": {},
     "output_type": "execute_result"
    }
   ],
   "source": [
    "p=5000\n",
    "t=3\n",
    "r=3.5 \n",
    "si=p*r*t\n",
    "si"
   ]
  },
  {
   "cell_type": "markdown",
   "id": "3a353cdf",
   "metadata": {},
   "source": [
    "# Find Length"
   ]
  },
  {
   "cell_type": "code",
   "execution_count": 56,
   "id": "c6adf8fc",
   "metadata": {},
   "outputs": [
    {
     "data": {
      "text/plain": [
       "3"
      ]
     },
     "execution_count": 56,
     "metadata": {},
     "output_type": "execute_result"
    }
   ],
   "source": [
    "len(\"abc\")"
   ]
  },
  {
   "cell_type": "code",
   "execution_count": 57,
   "id": "89f83d6c",
   "metadata": {},
   "outputs": [
    {
     "data": {
      "text/plain": [
       "3"
      ]
     },
     "execution_count": 57,
     "metadata": {},
     "output_type": "execute_result"
    }
   ],
   "source": [
    "letters=\"abc\"\n",
    "len(letters)"
   ]
  },
  {
   "cell_type": "code",
   "execution_count": 58,
   "id": "d9fbd09e",
   "metadata": {},
   "outputs": [
    {
     "data": {
      "text/plain": [
       "14"
      ]
     },
     "execution_count": 58,
     "metadata": {},
     "output_type": "execute_result"
    }
   ],
   "source": [
    "# Create a string and print its length using len()\n",
    "\n",
    "name=\"Abhijit Sarkar\"\n",
    "len(name)"
   ]
  },
  {
   "cell_type": "markdown",
   "id": "450185d2",
   "metadata": {},
   "source": [
    "### What is a Jupiter notebook?\n",
    "\n",
    "- Jupiter is a open web source application, Here codes can be written and   shared and Its a part of anaconda, its supports python."
   ]
  },
  {
   "cell_type": "markdown",
   "id": "7fff63d8",
   "metadata": {},
   "source": [
    "### How do you add a new code cell below an existing cell?\n",
    "\n",
    "- By Run\n",
    "- By insert new cell\n",
    "- Esc+B"
   ]
  },
  {
   "cell_type": "markdown",
   "id": "7c4b7410",
   "metadata": {},
   "source": [
    "### How do you add a new Markdown cell below an existing cell?\n",
    "\n",
    "- Ctrl+M"
   ]
  },
  {
   "cell_type": "markdown",
   "id": "29a0ae85",
   "metadata": {},
   "source": [
    "### How do you convert a code cell to a Markdown cell or vice versa?\n",
    "- Esc+m\n",
    "- Esc+y"
   ]
  },
  {
   "cell_type": "markdown",
   "id": "31251c0c",
   "metadata": {},
   "source": [
    "### How do you execute a code cell within Jupyter?\n",
    "- Shift+Enter"
   ]
  },
  {
   "cell_type": "markdown",
   "id": "b528ffb5",
   "metadata": {},
   "source": [
    "### What the different arithmetic operations supported in Python?\n",
    "\n",
    "- +\n",
    "- -\n",
    "- *\n",
    "- /"
   ]
  },
  {
   "cell_type": "markdown",
   "id": "0cd98fd1",
   "metadata": {},
   "source": [
    "### How do you perform arithmetic operations using Python?\n",
    "\n",
    "- By using Variable\n",
    "- By using input finction"
   ]
  },
  {
   "cell_type": "markdown",
   "id": "03a47991",
   "metadata": {},
   "source": [
    "### What is the difference between the / and the // operators?\n",
    "\n",
    "- / division will give float value\n",
    "- // division will give int values"
   ]
  },
  {
   "cell_type": "markdown",
   "id": "72dfcf5f",
   "metadata": {},
   "source": [
    "### What is the difference between the * and the ** operators?\n",
    "\n",
    "- (*) used for Multiplication\n",
    "- (**) used for Sq root"
   ]
  },
  {
   "cell_type": "markdown",
   "id": "a10613dc",
   "metadata": {},
   "source": [
    "#### What is the order of precedence for arithmetic operators in Python?\n",
    "\n",
    "- exponentiation is performed first (when available), multiplication and division are performed next, addition and subtraction are performed last."
   ]
  },
  {
   "cell_type": "markdown",
   "id": "e1b4bd3e",
   "metadata": {},
   "source": [
    "#### How do you specify the order in which arithmetic operations are performed in an expression involving multiple operators?\n",
    "\n",
    "According to the PEMDAS rule, \n",
    "\n",
    "- Parenthesis\n",
    "- Exponent\n",
    "- Multiplication\n",
    "- Division\n",
    "- Addition\n",
    "- Substraction\n"
   ]
  },
  {
   "cell_type": "markdown",
   "id": "e9a967b2",
   "metadata": {},
   "source": [
    "### How do you solve a multi-step arithmetic word problem using Python?\n",
    "\n",
    "Examples\n",
    "\n",
    "Let the numbers be a and b. Now, as per the situation,\n",
    "\n",
    "a + b = 40……………………(i)\n",
    "\n",
    "and a – b = 20………………(ii)\n",
    "\n",
    "We can write, a = 40 – b, from equation .(i),\n",
    "\n",
    "no put the value of a in equation(ii), we get,\n",
    "\n",
    "40 – b – b = 20\n",
    "\n",
    "40 – 2b = 20\n",
    "\n",
    "2b = 40 – 20 = 20\n",
    "\n",
    "b = 20/2 = 10\n",
    "\n",
    "b = 10\n",
    "\n",
    "and a = 40 – b\n",
    "\n",
    "= 40 – 10\n",
    "\n",
    "a = 30\n",
    "\n",
    "Therefore, the two numbers are 30 and 10.\n",
    "\n",
    "\n",
    "\n",
    "q= 2a – 5(24 ÷ 6) – 10 × 2 = 24\n",
    "\n",
    "2a – 5(24 ÷ 6) – 10 x 2 = 24\n",
    "\n",
    "=> 2a – 5 (4) – 10x 2 = 24\n",
    "\n",
    "=> 2a – 20 – 10×2 = 24\n",
    "\n",
    "=> 2a – 20 – 20 = 24\n",
    "\n",
    "=> 2a – 40 = 24\n",
    "\n",
    "=> 2a = 24 + 40\n",
    "\n",
    "=> 2a = 64\n",
    "\n",
    "=> a = 32\n",
    "\n",
    "therefore the value of a is 32"
   ]
  },
  {
   "cell_type": "markdown",
   "id": "209ca8e2",
   "metadata": {},
   "source": [
    "### What are variables? Why are they useful?\n",
    "\n",
    "- A variable is a dynamic value that the operating system, Variable are used like a container to store string or int or float. "
   ]
  },
  {
   "cell_type": "markdown",
   "id": "5576df6b",
   "metadata": {},
   "source": [
    "### How do you create a variable in Python?\n",
    "\n",
    "- Just assign a name and add values with = operator"
   ]
  },
  {
   "cell_type": "markdown",
   "id": "c8d32224",
   "metadata": {},
   "source": [
    "###  What is the assignment operator in Python?\n",
    "\n",
    "- (+=) Add and Assign: Add right side operand with left side operand and then assign to left operand\t\n",
    "  a += b\n",
    "  \n",
    "- (-=) Subtract AND: Subtract right operand from left operand and then assign to left operand: True if both operands are equal\n",
    "  a-=b\n",
    " \n",
    "- (*=) Multiply AND: Multiply right operand with left operand and then assign to left operand\ta *= b   \n",
    "\n",
    "- "
   ]
  },
  {
   "cell_type": "markdown",
   "id": "f634a5d7",
   "metadata": {},
   "source": [
    "### What are the rules for naming a variable in Python?\n",
    "\n",
    "- Variable can start with a letter or underscore\n",
    "- Variable number can't start with number\n",
    "- Variable can contain(a_z,A_Z,0 to 9 and _)\n",
    "- Variable name is case sensitive"
   ]
  },
  {
   "cell_type": "markdown",
   "id": "df00b3b1",
   "metadata": {},
   "source": [
    "### How do you view the value of a variable?\n",
    "\n",
    "- Place the variable name and run the cell"
   ]
  },
  {
   "cell_type": "markdown",
   "id": "24baaf48",
   "metadata": {},
   "source": [
    "### How do you store the result of an arithmetic expression in a variable?\n",
    "\n",
    "- To store the variable the equal (=) operator is used"
   ]
  },
  {
   "cell_type": "markdown",
   "id": "59fdbab8",
   "metadata": {},
   "source": [
    "### What happens if you try to access a variable that has not been defined?\n",
    "\n",
    "- Will output that the variable i not defined"
   ]
  },
  {
   "cell_type": "markdown",
   "id": "a32f80cd",
   "metadata": {},
   "source": [
    "### How do you display messages in Python?\n",
    "\n",
    "- We can use print option to print the data with a string inside written in double codes"
   ]
  },
  {
   "cell_type": "markdown",
   "id": "0b211f2e",
   "metadata": {},
   "source": [
    "### What type of inputs can the print function accept?\n",
    "\n",
    "- print function can print message, values can be assigned, Seperators, '\\n' to end\n",
    "\n",
    "Examples:\n",
    "- print(value(s), sep= ' ', end = '\\n', file=file, flush=flush)\n",
    "\n",
    "Parameters: \n",
    "\n",
    "- value(s): Any value, and as many as you like. Will be converted to a string before printed\n",
    "- sep=’separator’ : (Optional) Specify how to separate the objects, if there is more than one.Default :’ ‘\n",
    "- end=’end’: (Optional) Specify what to print at the end.Default : ‘\\n’\n",
    "- file : (Optional) An object with a write method. Default :sys.stdout\n",
    "- flush : (Optional) A Boolean, specifying if the output is flushed (True) or -  - buffered (False). Default: False"
   ]
  },
  {
   "cell_type": "markdown",
   "id": "4026ade2",
   "metadata": {},
   "source": [
    "### What are code comments? How are they useful?\n",
    "\n",
    "- It doesn't affect the program, This is used to share a message, single quote and double quote is used  "
   ]
  },
  {
   "cell_type": "markdown",
   "id": "c748d8dc",
   "metadata": {},
   "source": [
    "### What are the different ways of creating comments in Python code?\n",
    "\n",
    "- \"\" single double\n",
    "- \"\"\" \"\"\" Double quotes are used for sentence comments"
   ]
  },
  {
   "cell_type": "markdown",
   "id": "70a97173",
   "metadata": {},
   "source": [
    "### What are the different comparison operations supported in Python?\n",
    "\n",
    "Python has six comparison operators, which are as follows:\n",
    "\n",
    "- Less than ( < )\n",
    "- Less than or equal to ( <=)\n",
    "- Greater than ( >)\n",
    "- Greater than or equal to ( >=)\n",
    "- Equal to ( == )"
   ]
  },
  {
   "cell_type": "markdown",
   "id": "ddd2f1ca",
   "metadata": {},
   "source": [
    "### What is the result of a comparison operation?\n",
    "\n",
    "- True and False"
   ]
  },
  {
   "cell_type": "markdown",
   "id": "408f2359",
   "metadata": {},
   "source": [
    "### What is the difference between = and == in Python?\n",
    "\n",
    "- Single = is used to assign values\n",
    "- Double = is used to compare the assigned data"
   ]
  },
  {
   "cell_type": "markdown",
   "id": "903cb3ae",
   "metadata": {},
   "source": [
    "### What are the logical operators supported in Python?\n",
    "\n",
    "- And\n",
    "- Are\n",
    "- NOt\n"
   ]
  },
  {
   "cell_type": "markdown",
   "id": "344dc31c",
   "metadata": {},
   "source": [
    "### What is the difference between the and and or operators?\n",
    "\n",
    "1. And operator Both has be True, One False and one True is False\n",
    "2. Or Operator - One has to be True, One False One True, RESULT= True "
   ]
  },
  {
   "cell_type": "markdown",
   "id": "9e183f66",
   "metadata": {},
   "source": [
    "### Can you use comparison and logical operators in the same expression?\n",
    "\n",
    "- Yes we can use comparison and Logical Operator in the same expression"
   ]
  },
  {
   "cell_type": "markdown",
   "id": "1a6066e5",
   "metadata": {},
   "source": [
    "### What is the purpose of using parentheses in arithmetic or logical expressions?\n",
    "\n",
    "- Using Parentheses We can control the order of execution by using parentheses in our expressions."
   ]
  },
  {
   "cell_type": "markdown",
   "id": "fc14c14e",
   "metadata": {},
   "source": [
    "### What is Markdown? Why is it useful? \n",
    "\n",
    "-  Markdown is a plain text formatting syntax aimed at making writing for the internet easier. The philosophy behind Markdown is that plain text documents should be readable without tags "
   ]
  },
  {
   "cell_type": "markdown",
   "id": "b786d8f9",
   "metadata": {},
   "source": [
    "# Exercise:"
   ]
  },
  {
   "cell_type": "markdown",
   "id": "f7bf04c2",
   "metadata": {},
   "source": [
    "A travel company wants to fly a plane to the Bahamas. Flying the plane costs 5000 dollars. So far, 29 people have signed up for the trip. If the company charges 200 dollars per ticket, what is the profit made by the company? Create variables for each numeric quantity and use appropriate arithmetic operations."
   ]
  },
  {
   "cell_type": "code",
   "execution_count": 62,
   "id": "ac35a7ab",
   "metadata": {},
   "outputs": [
    {
     "name": "stdout",
     "output_type": "stream",
     "text": [
      "800\n"
     ]
    }
   ],
   "source": [
    "Amount= 5000\n",
    "count= 29\n",
    "cost=200\n",
    "\n",
    "Total_Outcome= 200*29\n",
    "profit=(Total_Outcome-Amount)\n",
    "print(profit)"
   ]
  },
  {
   "cell_type": "code",
   "execution_count": 65,
   "id": "ba6b1a1b",
   "metadata": {},
   "outputs": [
    {
     "name": "stdout",
     "output_type": "stream",
     "text": [
      "Amount Received 5800\n",
      "800\n"
     ]
    }
   ],
   "source": [
    "Plane_cost=5000\n",
    "total_signups=29\n",
    "ticket_cost=200\n",
    "amount_recieved= total_signups*ticket_cost\n",
    "print(\"Amount Received\",amount_recieved)\n",
    "prof=(amount_recieved-Plane_cost)\n",
    "print(prof)"
   ]
  },
  {
   "cell_type": "code",
   "execution_count": null,
   "id": "d47e16e3",
   "metadata": {},
   "outputs": [],
   "source": []
  }
 ],
 "metadata": {
  "kernelspec": {
   "display_name": "Python 3 (ipykernel)",
   "language": "python",
   "name": "python3"
  },
  "language_info": {
   "codemirror_mode": {
    "name": "ipython",
    "version": 3
   },
   "file_extension": ".py",
   "mimetype": "text/x-python",
   "name": "python",
   "nbconvert_exporter": "python",
   "pygments_lexer": "ipython3",
   "version": "3.9.12"
  }
 },
 "nbformat": 4,
 "nbformat_minor": 5
}
