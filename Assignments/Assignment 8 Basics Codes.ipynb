{
 "cells": [
  {
   "cell_type": "markdown",
   "id": "8a97355a",
   "metadata": {},
   "source": [
    "# Python Variables\n",
    "Variable is a name that is used to refer to memory location. Python variable is also known as an identifier and used to hold value. In Python, we don't need to specify the type of variable because Python is a infer language and smart enough to get variable type. Variable names can be a group of both the letters and digits, but they have to begin with a letter or an underscore. It is recommended to use lowercase letters for the variable name. Rahul and rahul both are two different variables."
   ]
  },
  {
   "cell_type": "markdown",
   "id": "928f2588",
   "metadata": {},
   "source": [
    "# Identifier Naming\n",
    "Variables are the example of identifiers. An Identifier is used to identify the literals used in the program. The rules to name an identifier are given below.\n",
    "\n",
    "The first character of the variable must be an alphabet or underscore ( _ ).\n",
    "\n",
    "All the characters except the first character may be an alphabet of\n",
    "\n",
    "lower-case(a-z),\n",
    "upper-case (A-Z),\n",
    "underscore, or\n",
    "digit (0-9).\n",
    "Identifier name must not contain any white-space, or special character (!, @, #, %, ^, &, *).\n",
    "\n",
    "Identifier name must not be similar to any keyword defined in the language.\n",
    "\n",
    "Identifier names are case sensitive; for example, my name, and MyName is not the same.\n",
    "\n",
    "Examples of valid identifiers: a123, _n, n_9, etc.\n",
    "\n",
    "Examples of invalid identifiers: 1a, n%4, n 9, etc."
   ]
  },
  {
   "cell_type": "markdown",
   "id": "ebab0733",
   "metadata": {},
   "source": [
    "# Declaring Variable and Assigning Values\n",
    "\n",
    "Python does not bind us to declare a variable before using it in the application. It allows us to create a variable at the required time. We don't need to declare explicitly variable in Python. When we assign any value to the variable, that variable is declared automatically. The equal (=) operator is used to assign value to a variable."
   ]
  },
  {
   "cell_type": "code",
   "execution_count": 1,
   "id": "39418d98",
   "metadata": {},
   "outputs": [],
   "source": [
    "a=1\n",
    "b=\"string\"\n",
    "c=1.1"
   ]
  },
  {
   "cell_type": "code",
   "execution_count": 2,
   "id": "de099f09",
   "metadata": {},
   "outputs": [
    {
     "name": "stdout",
     "output_type": "stream",
     "text": [
      "1\n",
      "string\n",
      "1.1\n"
     ]
    }
   ],
   "source": [
    "print(a)\n",
    "print(b)\n",
    "print(c)"
   ]
  },
  {
   "cell_type": "markdown",
   "id": "9bc33d47",
   "metadata": {},
   "source": [
    "# Object References\n",
    "It is necessary to understand how the Python interpreter works when we declare a variable. The process of treating variables is somewhat different from many other programming languages.\n",
    "\n",
    "Python is the highly object-oriented programming language; that's why every data item belongs to a specific type of class. Consider the following example."
   ]
  },
  {
   "cell_type": "code",
   "execution_count": 3,
   "id": "a2a999eb",
   "metadata": {},
   "outputs": [
    {
     "name": "stdout",
     "output_type": "stream",
     "text": [
      "Ram\n"
     ]
    }
   ],
   "source": [
    "print(\"Ram\")"
   ]
  },
  {
   "cell_type": "code",
   "execution_count": 4,
   "id": "038b4f39",
   "metadata": {},
   "outputs": [
    {
     "data": {
      "text/plain": [
       "str"
      ]
     },
     "execution_count": 4,
     "metadata": {},
     "output_type": "execute_result"
    }
   ],
   "source": [
    "type(\"Ram\")"
   ]
  },
  {
   "cell_type": "markdown",
   "id": "bbf88123",
   "metadata": {},
   "source": [
    "In Python, variables are a symbolic name that is a reference or pointer to an object. The variables are used to denote objects by that name.\n",
    "\n",
    "Let's understand the following example"
   ]
  },
  {
   "cell_type": "code",
   "execution_count": 5,
   "id": "3aa4bd58",
   "metadata": {},
   "outputs": [],
   "source": [
    "a=50"
   ]
  },
  {
   "cell_type": "code",
   "execution_count": 6,
   "id": "5eabed4a",
   "metadata": {},
   "outputs": [
    {
     "name": "stdout",
     "output_type": "stream",
     "text": [
      "2870862901072\n",
      "2870862901072\n"
     ]
    }
   ],
   "source": [
    "b=a\n",
    "print(id(a))\n",
    "print(id(b))"
   ]
  },
  {
   "cell_type": "code",
   "execution_count": 7,
   "id": "e85fee84",
   "metadata": {},
   "outputs": [
    {
     "name": "stdout",
     "output_type": "stream",
     "text": [
      "2870949811088\n"
     ]
    }
   ],
   "source": [
    "# Re-assigned variable a\n",
    "a=500\n",
    "print(id(a))"
   ]
  },
  {
   "cell_type": "markdown",
   "id": "c7ac3aa1",
   "metadata": {},
   "source": [
    "# Variable Name\n",
    "\n",
    "Variable names can be any length can have\n",
    "\n",
    "- uppercase,\n",
    "- lowercase (A to Z, a to z),\n",
    "- the digit (0-9), and\n",
    "- underscore character(_).\n",
    "\n",
    "Consider the following example of valid variables names."
   ]
  },
  {
   "cell_type": "code",
   "execution_count": 8,
   "id": "2fa576e8",
   "metadata": {},
   "outputs": [
    {
     "name": "stdout",
     "output_type": "stream",
     "text": [
      "Data Trained\n",
      "20\n",
      "80.5\n"
     ]
    }
   ],
   "source": [
    "name= \"Data Trained\"\n",
    "age=20\n",
    "marks=80.5\n",
    "\n",
    "print(name)\n",
    "print(age)\n",
    "print(marks)"
   ]
  },
  {
   "cell_type": "markdown",
   "id": "77c3462b",
   "metadata": {},
   "source": [
    "# Declaring Variables\n",
    "The variable name should be descriptive to make code more readable.\n",
    "\n",
    "The multi-word keywords can be created by the following method.\n",
    "\n",
    "- Camel Case - In the camel case, each word or abbreviation in the middle of begins with a capital letter. There is no intervention of whitespace. For example - nameOfStudent, valueOfVaraible, etc.\n",
    "- Pascal Case - It is the same as the Camel Case, but here the first word is also capital. For example - NameOfStudent, etc.\n",
    "- Snake Case - In the snake case, Words are separated by the underscore. For example - name_of_student, etc.\n",
    "\n",
    "# Multiple Assignment\n",
    "\n",
    "Python allows us to assign a value to multiple variables in a single statement, which is also known as multiple assignments. We can apply multiple assignments in two ways, either by assigning a single value to multiple variables or assigning multiple values to multiple variables.\n",
    "\n",
    "Consider the following example."
   ]
  },
  {
   "cell_type": "code",
   "execution_count": 9,
   "id": "d54ddcd8",
   "metadata": {},
   "outputs": [
    {
     "name": "stdout",
     "output_type": "stream",
     "text": [
      "50\n",
      "50\n",
      "50\n"
     ]
    }
   ],
   "source": [
    "x=y=z=50\n",
    "\n",
    "print(x)\n",
    "print(y)\n",
    "print(z)"
   ]
  },
  {
   "cell_type": "code",
   "execution_count": 10,
   "id": "cd71d2f8",
   "metadata": {},
   "outputs": [
    {
     "name": "stdout",
     "output_type": "stream",
     "text": [
      "5\n",
      "10\n",
      "15\n"
     ]
    }
   ],
   "source": [
    "# Assigning multiple values to multiple variable\n",
    "\n",
    "a,b,c=5,10,15\n",
    "\n",
    "print(a)\n",
    "print(b)\n",
    "print(c)"
   ]
  },
  {
   "cell_type": "markdown",
   "id": "5f3e4614",
   "metadata": {},
   "source": [
    "# Python Data Types\n",
    "Variables can hold values, and every value has a data-type. Python is a dynamically typed language; hence we do not need to define the type of the variable while declaring it. The interpreter implicitly binds the value with its type."
   ]
  },
  {
   "cell_type": "code",
   "execution_count": 11,
   "id": "f1bf5e23",
   "metadata": {},
   "outputs": [],
   "source": [
    "a=5"
   ]
  },
  {
   "cell_type": "markdown",
   "id": "59aa76f0",
   "metadata": {},
   "source": [
    "The variable a holds integer value five and we did not define its type. Python interpreter will automatically interpret variables a as an integer type.\n",
    "\n",
    "Python enables us to check the type of the variable used in the program. Python provides us the type() function, which returns the type of the variable passed.\n",
    "\n",
    "Consider the following example to define the values of different data types and checking its type."
   ]
  },
  {
   "cell_type": "code",
   "execution_count": 12,
   "id": "c4406383",
   "metadata": {},
   "outputs": [
    {
     "name": "stdout",
     "output_type": "stream",
     "text": [
      "<class 'int'>\n",
      "<class 'str'>\n",
      "<class 'float'>\n"
     ]
    }
   ],
   "source": [
    "a=10\n",
    "b=\"Hi Python\"\n",
    "c= 10.5\n",
    "\n",
    "print(type(a))\n",
    "print(type(b))\n",
    "print(type(c))"
   ]
  },
  {
   "cell_type": "markdown",
   "id": "c2c6aaa0",
   "metadata": {},
   "source": [
    "# Standard data types\n",
    "A variable can hold different types of values. For example, a person's name must be stored as a string whereas its id must be stored as an integer.Python provides various standard data types that define the storage method on each of them.\n",
    "\n",
    "The data types defined in Python are given below.\n",
    "\n",
    "### Numbers\n",
    "Sequence Type\n",
    "Boolean\n",
    "Set\n",
    "Dictionary\n",
    "Numbers\n",
    "Number stores numeric values. The integer, float, and complex values belong to a Python Numbers data-type. Python provides the type() function to know the data-type of the variable. Similarly, the isinstance() function is used to check an object belongs to a particular class.\n",
    "\n",
    "### Python supports three types of numeric data.\n",
    "\n",
    "- Int - Integer value can be any length such as integers 10, 2, 29, -20, -150 etc. Python has no restriction on the length of an integer. Its value belongs to int\n",
    "- Float - Float is used to store floating-point numbers like 1.9, 9.902, 15.2, etc. It is accurate upto 15 decimal points.\n",
    "- complex - A complex number contains an ordered pair, i.e., x + iy where x and y denote the real and imaginary parts, respectively. The complex numbers like 2.14j, 2.0 + 2.3j, etc.\n",
    "\n",
    "Python creates Number objects when a number is assigned to a variable. For example;"
   ]
  },
  {
   "cell_type": "code",
   "execution_count": 13,
   "id": "fbab5950",
   "metadata": {},
   "outputs": [
    {
     "name": "stdout",
     "output_type": "stream",
     "text": [
      "The type a  <class 'int'>\n",
      "The type b  <class 'float'>\n",
      "The type c  <class 'complex'>\n"
     ]
    }
   ],
   "source": [
    "a=5\n",
    "print(\"The type a \",type(a))\n",
    "\n",
    "b=40.5\n",
    "print(\"The type b \",type(b))\n",
    "\n",
    "c=1+3j\n",
    "print(\"The type c \",type(c))"
   ]
  },
  {
   "cell_type": "markdown",
   "id": "f6e31755",
   "metadata": {},
   "source": [
    "# Sequence Type\n",
    "### String\n",
    "- The string can be defined as the sequence of characters represented in the quotation marks. In Python, we can use single, double, or triple quotes to define a string.\n",
    "\n",
    "- String handling in Python is a straightforward task since Python provides built-in functions and operators to perform operations in the string.\n",
    "\n",
    "- In the case of string handling, the operator + is used to concatenate two strings as the operation \"hello\"+\" python\" returns \"hello python\".\n",
    "\n",
    "- The operator * is known as a repetition operator as the operation \"Python\"*2 returns 'Python Python'."
   ]
  },
  {
   "cell_type": "code",
   "execution_count": 14,
   "id": "c6c0d49b",
   "metadata": {},
   "outputs": [
    {
     "name": "stdout",
     "output_type": "stream",
     "text": [
      "string using double qutoes\n",
      " \" A multiple string \"\n"
     ]
    }
   ],
   "source": [
    "# The following example illustrate the string in Python\n",
    "\n",
    "str=\"string using double qutoes\"\n",
    "print(str)\n",
    "\n",
    "s=' \" A multiple string \"'\n",
    "\n",
    "print(s)"
   ]
  },
  {
   "cell_type": "code",
   "execution_count": 17,
   "id": "6ed091a3",
   "metadata": {},
   "outputs": [
    {
     "name": "stdout",
     "output_type": "stream",
     "text": [
      "Print first four character using slice operator   Hel\n",
      "Print 4th Character  l\n",
      "Printing the string Twice   Hello Data Trained Learners  Hello Data Trained Learners \n",
      "Conacatenation of str1 and str2   Hello Data Trained Learners  How are you? \n"
     ]
    }
   ],
   "source": [
    "str1= \" Hello Data Trained Learners \"#str1\n",
    "str2= \" How are you? \"#str2\n",
    "\n",
    "print(\"Print first four character using slice operator \",str1[0:4])\n",
    "print(\"Print 4th Character \",str1[4])\n",
    "print(\"Printing the string Twice \",str1*2)\n",
    "print(\"Conacatenation of str1 and str2 \",str1+str2)"
   ]
  },
  {
   "cell_type": "markdown",
   "id": "10a8fdeb",
   "metadata": {},
   "source": [
    "# List\n",
    "\n",
    "- Python Lists are similar to arrays in C.\n",
    "- However, the list can contain data of different types. \n",
    "- The items stored in the list are separated with a comma (,) and enclosed within square brackets [].\n",
    "- We can use slice : operators to access the data of the list. \n",
    "- The concatenation operator (+) and repetition operator (*) works with the list in the same way as they were working with the strings.\n",
    "\n",
    "Consider the following example."
   ]
  },
  {
   "cell_type": "code",
   "execution_count": 19,
   "id": "bbf4b539",
   "metadata": {},
   "outputs": [
    {
     "name": "stdout",
     "output_type": "stream",
     "text": [
      "Type  <class 'list'>\n",
      "List  [1, 'hi', 'Python', 2]\n",
      "List  [2]\n",
      "First 2  [1, 'hi']\n",
      "Concate  [1, 'hi', 'Python', 2, 1, 'hi', 'Python', 2]\n",
      "List *3  [1, 'hi', 'Python', 2, 1, 'hi', 'Python', 2, 1, 'hi', 'Python', 2]\n"
     ]
    }
   ],
   "source": [
    "list1=[1,\"hi\",\"Python\",2]\n",
    "\n",
    "print(\"Type \",type(list1))\n",
    "\n",
    "print(\"List \",list1)\n",
    "\n",
    "print(\"List \",list1[3:])\n",
    "\n",
    "print(\"First 2 \",list1[0:2])\n",
    "\n",
    "print(\"Concate \",list1+list1)\n",
    "\n",
    "print(\"List *3 \",list1*3)"
   ]
  },
  {
   "cell_type": "markdown",
   "id": "ce747292",
   "metadata": {},
   "source": [
    "# Tuple\n",
    "\n",
    "- A tuple is similar to the list in many ways. \n",
    "- Like lists, tuples also contain the collection of the items of different data types. \n",
    "- The items of the tuple are separated with a comma (,) and enclosed in parentheses ().\n",
    "- tuple is a read-only data structure as we can't modify the size and value of the items of a tuple.\n",
    "\n",
    "Let's see a simple example of the tuple."
   ]
  },
  {
   "cell_type": "code",
   "execution_count": 22,
   "id": "b4e420cb",
   "metadata": {},
   "outputs": [
    {
     "name": "stdout",
     "output_type": "stream",
     "text": [
      "<class 'tuple'>\n",
      "('hi', 'Python', 2)\n",
      "('Python', 2)\n",
      "('hi',)\n",
      "('hi', 'Python', 2, 'hi', 'Python', 2)\n",
      "('hi', 'Python', 2, 'hi', 'Python', 2, 'hi', 'Python', 2)\n"
     ]
    },
    {
     "ename": "TypeError",
     "evalue": "'tuple' object does not support item assignment",
     "output_type": "error",
     "traceback": [
      "\u001b[1;31m---------------------------------------------------------------------------\u001b[0m",
      "\u001b[1;31mTypeError\u001b[0m                                 Traceback (most recent call last)",
      "Input \u001b[1;32mIn [22]\u001b[0m, in \u001b[0;36m<cell line: 11>\u001b[1;34m()\u001b[0m\n\u001b[0;32m      9\u001b[0m \u001b[38;5;28mprint\u001b[39m(tup\u001b[38;5;241m+\u001b[39mtup)\n\u001b[0;32m     10\u001b[0m \u001b[38;5;28mprint\u001b[39m(tup\u001b[38;5;241m*\u001b[39m\u001b[38;5;241m3\u001b[39m)\n\u001b[1;32m---> 11\u001b[0m tup[\u001b[38;5;241m2\u001b[39m]\u001b[38;5;241m=\u001b[39m\u001b[38;5;124m\"\u001b[39m\u001b[38;5;124mhi\u001b[39m\u001b[38;5;124m\"\u001b[39m\n",
      "\u001b[1;31mTypeError\u001b[0m: 'tuple' object does not support item assignment"
     ]
    }
   ],
   "source": [
    "tup=(\"hi\",\"Python\",2)\n",
    "\n",
    "print(type(tup))\n",
    "\n",
    "print(tup)\n",
    "\n",
    "print(tup[1:])\n",
    "print(tup[0:1])\n",
    "print(tup+tup)\n",
    "print(tup*3)\n",
    "tup[2]=\"hi\""
   ]
  },
  {
   "cell_type": "markdown",
   "id": "a1a49dec",
   "metadata": {},
   "source": [
    "# Dictionary\n",
    "\n",
    "- Dictionary is an unordered set of a key-value pair of items. It is like an associative array or a hash table where each key stores a specific value. Key can hold any primitive data type, whereas value is an arbitrary Python object.\n",
    "\n",
    "- The items in the dictionary are separated with the comma (,) and enclosed in the curly braces {}.\n",
    "\n",
    "- Dictionary is an unordered set of a key-value pair of items. It is like an associative array or a hash table where each key stores a specific value. Key can hold any primitive data type, whereas value is an arbitrary Python object.\n",
    "\n",
    "- The items in the dictionary are separated with the comma (,) and enclosed in the curly braces {}.\n",
    "\n",
    "Consider the following example."
   ]
  },
  {
   "cell_type": "code",
   "execution_count": 23,
   "id": "e49c9e84",
   "metadata": {},
   "outputs": [
    {
     "name": "stdout",
     "output_type": "stream",
     "text": [
      "{1: 'Jimmy', 2: 'Alex', 3: 'Jhon', 4: 'Mike'}\n",
      "First Name  Jimmy\n",
      "Second Name  Mike\n"
     ]
    }
   ],
   "source": [
    "d={1:'Jimmy',2:\"Alex\",3:\"Jhon\",4:\"Mike\"}\n",
    "\n",
    "print(d)\n",
    "\n",
    "print(\"First Name \",d[1])\n",
    "print(\"Second Name \",d[4])"
   ]
  },
  {
   "cell_type": "code",
   "execution_count": 24,
   "id": "bd2c38d4",
   "metadata": {},
   "outputs": [
    {
     "name": "stdout",
     "output_type": "stream",
     "text": [
      "Keys\n",
      " dict_keys([1, 2, 3, 4])\n",
      "Values\n",
      " dict_values(['Jimmy', 'Alex', 'Jhon', 'Mike'])\n",
      "Items\n",
      " dict_items([(1, 'Jimmy'), (2, 'Alex'), (3, 'Jhon'), (4, 'Mike')])\n"
     ]
    }
   ],
   "source": [
    "print(\"Keys\\n\",d.keys())\n",
    "print(\"Values\\n\",d.values())\n",
    "print(\"Items\\n\",d.items())\n"
   ]
  },
  {
   "cell_type": "markdown",
   "id": "71356a71",
   "metadata": {},
   "source": [
    "# Boolean\n",
    "Boolean type provides two built-in values, True and False. These values are used to determine the given statement true or false. It denotes by the class bool. True can be represented by any non-zero value or 'T' whereas false can be represented by the 0 or 'F'."
   ]
  },
  {
   "cell_type": "code",
   "execution_count": 25,
   "id": "ddddff3c",
   "metadata": {},
   "outputs": [
    {
     "name": "stdout",
     "output_type": "stream",
     "text": [
      "<class 'bool'>\n",
      "<class 'bool'>\n",
      "False\n"
     ]
    }
   ],
   "source": [
    "print(type(True))\n",
    "print(type(False))\n",
    "print(False)"
   ]
  },
  {
   "cell_type": "markdown",
   "id": "78fe23b8",
   "metadata": {},
   "source": [
    "# Set\n",
    "- Python Set is the unordered collection of the data type. It is iterable, mutable(can modify after creation), and has unique elements.\n",
    "- In set, the order of the elements is undefined; it may return the changed sequence of the element. The set is created by using a built-in function set(), or a sequence of elements is passed in the curly braces and separated by the comma.\n",
    "- It can contain various types of values.\n",
    "\n",
    "Consider the following example."
   ]
  },
  {
   "cell_type": "code",
   "execution_count": 27,
   "id": "3a7bd9d8",
   "metadata": {},
   "outputs": [
    {
     "data": {
      "text/plain": [
       "set()"
      ]
     },
     "execution_count": 27,
     "metadata": {},
     "output_type": "execute_result"
    }
   ],
   "source": [
    "set1=set()\n",
    "set1"
   ]
  },
  {
   "cell_type": "code",
   "execution_count": 28,
   "id": "fbaabfca",
   "metadata": {},
   "outputs": [
    {
     "name": "stdout",
     "output_type": "stream",
     "text": [
      "{2, 3, 'Python', 'James'}\n"
     ]
    }
   ],
   "source": [
    "set2={'James',2,3,'Python'}\n",
    "print(set2)"
   ]
  },
  {
   "cell_type": "code",
   "execution_count": 29,
   "id": "1c5ecd99",
   "metadata": {},
   "outputs": [
    {
     "name": "stdout",
     "output_type": "stream",
     "text": [
      "{2, 3, 10, 'Python', 'James'}\n"
     ]
    }
   ],
   "source": [
    "set2.add(10)\n",
    "print(set2)"
   ]
  },
  {
   "cell_type": "code",
   "execution_count": 30,
   "id": "d73c49d0",
   "metadata": {},
   "outputs": [
    {
     "name": "stdout",
     "output_type": "stream",
     "text": [
      "{2, 3, 10, 'Python', 'James'}\n"
     ]
    }
   ],
   "source": [
    "set2.add(10)\n",
    "print(set2)"
   ]
  },
  {
   "cell_type": "code",
   "execution_count": 31,
   "id": "1c432340",
   "metadata": {},
   "outputs": [
    {
     "name": "stdout",
     "output_type": "stream",
     "text": [
      "{2, 3, 'Python', 'James'}\n"
     ]
    }
   ],
   "source": [
    "set2.remove(10)\n",
    "print(set2)"
   ]
  },
  {
   "cell_type": "markdown",
   "id": "2ba9d86d",
   "metadata": {},
   "source": [
    "# Python Literals\n",
    "Python Literals can be defined as data that is given in a variable or constant.\n",
    "\n",
    "- Python supports the following literals:\n",
    "\n",
    "1. String literals:\n",
    "String literals can be formed by enclosing a text in the quotes. We can use both single as well as double quotes to create a string.\n",
    "\n",
    "- Example:"
   ]
  },
  {
   "cell_type": "code",
   "execution_count": 32,
   "id": "73a7121c",
   "metadata": {},
   "outputs": [
    {
     "data": {
      "text/plain": [
       "('Aman', '12345')"
      ]
     },
     "execution_count": 32,
     "metadata": {},
     "output_type": "execute_result"
    }
   ],
   "source": [
    "\"Aman\",\"12345\""
   ]
  },
  {
   "cell_type": "markdown",
   "id": "b2fa7f56",
   "metadata": {},
   "source": [
    "# Types of Strings:\n",
    "There are two types of Strings supported in Python:\n",
    "\n",
    "- Single-line String\n",
    "\n",
    "Strings that are terminated within a single-line are known as Single line Strings.\n",
    "\n",
    "Example:"
   ]
  },
  {
   "cell_type": "code",
   "execution_count": 34,
   "id": "b9a449ff",
   "metadata": {},
   "outputs": [
    {
     "name": "stdout",
     "output_type": "stream",
     "text": [
      "Hello\n"
     ]
    }
   ],
   "source": [
    "text1=\"Hello\"\n",
    "\n",
    "print(text1)"
   ]
  },
  {
   "cell_type": "markdown",
   "id": "810b3cfe",
   "metadata": {},
   "source": [
    "## Multi-line String\n",
    "A piece of text that is written in multiple lines is known as multiple lines string.\n",
    "\n",
    "Using triple quotation marks:-\n",
    "Example:"
   ]
  },
  {
   "cell_type": "code",
   "execution_count": 36,
   "id": "8ea9793f",
   "metadata": {},
   "outputs": [
    {
     "name": "stdout",
     "output_type": "stream",
     "text": [
      "Welcome to Data Tarined\n"
     ]
    }
   ],
   "source": [
    "str2=\"\"\"Welcome to Data Tarined\"\"\"\n",
    "print(str2)"
   ]
  },
  {
   "cell_type": "markdown",
   "id": "32329153",
   "metadata": {},
   "source": [
    "# 2. Numeric literals:\n",
    "\n",
    "- Numeric Literals are immutable. Numeric literals can belong to following different numerical types.\n",
    "\n",
    "- Int(signed integers) :\n",
    "Numbers( can be both positive and negative) with no fractional part.eg: 100\n",
    "\n",
    "- float(floating point) :\n",
    "Real numbers with both integer and fractional part eg: -26.2\n",
    "\n",
    "- Complex(complex) :\n",
    "In the form of a+bj where a forms the real part and b forms the imaginary part of the complex number. eg: 3.14j\n",
    "\n",
    "Example - Numeric Literals"
   ]
  },
  {
   "cell_type": "code",
   "execution_count": 40,
   "id": "9276779f",
   "metadata": {},
   "outputs": [
    {
     "name": "stdout",
     "output_type": "stream",
     "text": [
      "20 100 141 301\n",
      "100.5 150.0\n",
      "(5+3.14j) 3.14 5.0\n"
     ]
    }
   ],
   "source": [
    "x = 0b10100 #Binary Literals  \n",
    "y = 100 #Decimal Literal   \n",
    "z = 0o215 #Octal Literal  \n",
    "u = 0x12d #Hexadecimal Literal  \n",
    "\n",
    "#Float literal\n",
    "float_1 =100.5\n",
    "float_2 =1.5e2\n",
    "\n",
    "#complex literal\n",
    "a=5+3.14j\n",
    "\n",
    "print(x,y,z,u)\n",
    "print(float_1,float_2)\n",
    "print(a,a.imag,a.real)"
   ]
  },
  {
   "cell_type": "markdown",
   "id": "5c77dd3f",
   "metadata": {},
   "source": [
    "# 3. Boolean literals:\n",
    "A Boolean literal can have any of the two values: True or False.\n",
    "\n",
    "Example - Boolean Literals"
   ]
  },
  {
   "cell_type": "code",
   "execution_count": 43,
   "id": "aa61212a",
   "metadata": {},
   "outputs": [
    {
     "name": "stdout",
     "output_type": "stream",
     "text": [
      " x is  True\n",
      " y is  False\n",
      " z is   False\n",
      " a :  11\n",
      " b :  10\n"
     ]
    }
   ],
   "source": [
    "x=(1==True)\n",
    "y=(2==False)\n",
    "z=(3==True)\n",
    "a=True+10\n",
    "b=False+10\n",
    "\n",
    "print(\" x is \",x)\n",
    "print(\" y is \",y)\n",
    "print(\" z is  \",z)\n",
    "print(\" a : \",a)\n",
    "print(\" b : \",b)"
   ]
  },
  {
   "cell_type": "markdown",
   "id": "1a8b729a",
   "metadata": {},
   "source": [
    "# 4. Special literals.\n",
    "\n",
    "- Python contains one special literal i.e., None.\n",
    "\n",
    "- None is used to specify to that field that is not created. It is also used for the end of lists in Python.\n",
    "\n",
    "Example - Special Literals"
   ]
  },
  {
   "cell_type": "code",
   "execution_count": 44,
   "id": "42aa330a",
   "metadata": {},
   "outputs": [
    {
     "name": "stdout",
     "output_type": "stream",
     "text": [
      "10\n",
      "None\n"
     ]
    }
   ],
   "source": [
    "val1=10\n",
    "val2=None\n",
    "print(val1)\n",
    "print(val2)"
   ]
  },
  {
   "cell_type": "markdown",
   "id": "24fdd2a5",
   "metadata": {},
   "source": [
    "# 5. Literal Collections.\n",
    "Python provides the four types of literal collection such as List literals, Tuple literals, Dict literals, and Set literals.\n",
    "\n",
    "### List:\n",
    "List contains items of different data types. Lists are mutable i.e., modifiable. The values stored in List are separated by comma(,) and enclosed within square brackets([]). We can store different types of data in a List.\n",
    "\n",
    "- Example - List literals"
   ]
  },
  {
   "cell_type": "code",
   "execution_count": 45,
   "id": "d43b114c",
   "metadata": {},
   "outputs": [
    {
     "name": "stdout",
     "output_type": "stream",
     "text": [
      "['John', 1234, 'Peter']\n",
      "[456, 'Andrew']\n"
     ]
    }
   ],
   "source": [
    "list=['John',1234,\"Peter\"]\n",
    "list1=[456,'Andrew']\n",
    "\n",
    "print(list)\n",
    "print(list1)\n"
   ]
  },
  {
   "cell_type": "markdown",
   "id": "11432b37",
   "metadata": {},
   "source": [
    "# Dictionary:\n",
    "Python dictionary stores the data in the key-value pair. It is enclosed by curly-braces {} and each pair is separated by the commas(,).\n",
    "\n",
    "- Example"
   ]
  },
  {
   "cell_type": "code",
   "execution_count": 46,
   "id": "7824b1f2",
   "metadata": {},
   "outputs": [
    {
     "name": "stdout",
     "output_type": "stream",
     "text": [
      "{'Name': 'Peter', 'Age': 18, 'Roll No': 101}\n"
     ]
    }
   ],
   "source": [
    "dict={\"Name\":\"Peter\",\"Age\":18,\"Roll No\":101}\n",
    "print(dict)"
   ]
  },
  {
   "cell_type": "markdown",
   "id": "eaa3b210",
   "metadata": {},
   "source": [
    "# Tuple:\n",
    "Python tuple is a collection of different data-type. It is immutable which means it cannot be modified after creation. It is enclosed by the parentheses () and each element is separated by the comma(,).\n",
    "\n",
    "-Example"
   ]
  },
  {
   "cell_type": "code",
   "execution_count": 48,
   "id": "7976a44d",
   "metadata": {},
   "outputs": [
    {
     "name": "stdout",
     "output_type": "stream",
     "text": [
      "(10, 20, 'Dev', [2, 3, 4])\n"
     ]
    }
   ],
   "source": [
    "tup=(10,20,\"Dev\",[2,3,4])\n",
    "print(tup)"
   ]
  },
  {
   "cell_type": "markdown",
   "id": "336add9a",
   "metadata": {},
   "source": [
    "# Set:\n",
    "Python set is the collection of the unordered dataset. It is enclosed by the {} and each element is separated by the comma(,).\n",
    "\n",
    "Example: - Set Literals"
   ]
  },
  {
   "cell_type": "code",
   "execution_count": 51,
   "id": "747a8403",
   "metadata": {},
   "outputs": [
    {
     "data": {
      "text/plain": [
       "{'apple', 'gauva', 'papaya'}"
      ]
     },
     "execution_count": 51,
     "metadata": {},
     "output_type": "execute_result"
    }
   ],
   "source": [
    "set={\"apple\",\"gauva\",\"gauva\",\"papaya\"}\n",
    "set"
   ]
  },
  {
   "cell_type": "markdown",
   "id": "8511cbde",
   "metadata": {},
   "source": [
    "# Python Operators\n",
    "The operator can be defined as a symbol which is responsible for a particular operation between two operands. Operators are the pillars of a program on which the logic is built in a specific programming language. Python provides a variety of operators, which are described as follows.\n",
    "\n",
    "- Arithmetic operators\n",
    "- Comparison operators\n",
    "- Assignment Operators\n",
    "- Logical Operators\n",
    "- Bitwise Operators\n",
    "- Membership Operators\n",
    "- Identity Operators"
   ]
  },
  {
   "cell_type": "markdown",
   "id": "63b88414",
   "metadata": {},
   "source": [
    "# Arithmetic Operators\n",
    "Arithmetic operators are used to perform arithmetic operations between two operands. It includes\n",
    "\n",
    "- (+) (addition),\n",
    "- (-) (subtraction),\n",
    "- (*) (multiplication),\n",
    "- (/) (divide), %(reminder),\n",
    "- (//) (floor division), and\n",
    "- (**) exponent operators.\n",
    "\n",
    "Consider the following for a detailed explanation of arithmetic operators.\n",
    "\n",
    "### Comparison operators\n",
    "Comparison operators are used to comparing the value of the two operands and returns Boolean true or false accordingly. The comparison operators are described in following.\n",
    "\n",
    "### Assignment Operators\n",
    "The assignment operators are used to assign the value of the right expression to the left operand. The assignment operators are described in the following table."
   ]
  },
  {
   "cell_type": "markdown",
   "id": "e724fb15",
   "metadata": {},
   "source": [
    "### Logical Operators\n",
    "The logical operators are used primarily in the expression evaluation to make a decision. Python supports the following logical operators.\n",
    "\n",
    "### Membership Operators\n",
    "Python membership operators are used to check the membership of value inside a Python data structure. If the value is present in the data structure, then the resulting value is true otherwise it returns false.\n",
    "\n",
    "### Identity Operators\n",
    "The identity operators are used to decide whether an element certain class or type."
   ]
  },
  {
   "cell_type": "markdown",
   "id": "af6d63a8",
   "metadata": {},
   "source": [
    "# Python If-else statements\n",
    "Decision making is the most important aspect of almost all the programming languages. As the name implies, decision making allows us to run a particular block of code for a particular decision. Here, the decisions are made on the validity of the particular conditions. Condition checking is the backbone of decision making.\n",
    "\n",
    "In python, decision making is performed by the following statements.\n",
    "\n",
    "- If Statement : The if statement is used to test a specific condition. If the condition is true, a block of code (if-block) will be executed.\n",
    "\n",
    "- If - else Statement : The if-else statement is similar to if statement except the fact that, it also provides the block of the code for the false case of the condition to be checked. If the condition provided in the if statement is false, then the else statement will be executed.\n",
    "\n",
    "- elif Statement : The elif statement is used to check multiple conditions, if any condition satisfies the operation, it will stop checking otherwise it will continue to check conditions.\n",
    "\n",
    "- Nested if Statement : Nested if statements enable us to use if ? else statement inside an outer if statement."
   ]
  },
  {
   "cell_type": "markdown",
   "id": "ea806305",
   "metadata": {},
   "source": [
    "# Indentation in Python\n",
    "For the ease of programming and to achieve simplicity, python doesn't allow the use of parentheses for the block level code. In Python, indentation is used to declare a block. If two statements are at the same indentation level, then they are the part of the same block.\n",
    "\n",
    "Generally, four spaces are given to indent the statements which are a typical amount of indentation in python.\n",
    "\n",
    "Indentation is the most used part of the python language since it declares the block of code. All the statements of one block are intended at the same level indentation. We will see how the actual indentation takes place in decision making and other stuff in python."
   ]
  },
  {
   "cell_type": "markdown",
   "id": "439f5ddd",
   "metadata": {},
   "source": [
    "## The if statement\n",
    "The if statement is used to test a particular condition and if the condition is true, it executes a block of code known as if-block. The condition of if statement can be any valid logical expression which can be either evaluated to true or false.\n",
    "\n",
    "The syntax of the if-statement is given below."
   ]
  },
  {
   "cell_type": "code",
   "execution_count": 1,
   "id": "b0dea36b",
   "metadata": {},
   "outputs": [
    {
     "name": "stdout",
     "output_type": "stream",
     "text": [
      "enter the number?: 12\n",
      "Number is even\n"
     ]
    }
   ],
   "source": [
    "num=int(input(\"enter the number?: \"))\n",
    "\n",
    "if num%2 ==0:\n",
    "    print(\"Number is even\")"
   ]
  },
  {
   "cell_type": "code",
   "execution_count": 9,
   "id": "46d9aa0c",
   "metadata": {},
   "outputs": [
    {
     "name": "stdout",
     "output_type": "stream",
     "text": [
      "Enter a: 3\n",
      "Enter b: 5\n",
      "Enter c: 6\n",
      "C is largest\n"
     ]
    }
   ],
   "source": [
    "#  Example 2 : Program to print the largest of the three numbers.\n",
    "\n",
    "a= int(input(\"Enter a: \"));\n",
    "b= int(input(\"Enter b: \"));\n",
    "c= int(input(\"Enter c: \"));\n",
    "\n",
    "if a>b and a>c:\n",
    "    print(\"A is largest\");\n",
    "if b>a and b>c:\n",
    "    print(\"B is largest\");\n",
    "if c>a and c>b:\n",
    "    print(\"C is largest\");"
   ]
  },
  {
   "cell_type": "markdown",
   "id": "ba40a6dc",
   "metadata": {},
   "source": [
    "# The if-else statement\n",
    "The if-else statement provides an else block combined with the if statement which is executed in the false case of the condition.\n",
    "\n",
    "If the condition is true, then the if-block is executed. Otherwise, the else-block is executed."
   ]
  },
  {
   "cell_type": "code",
   "execution_count": 10,
   "id": "3fcca248",
   "metadata": {},
   "outputs": [
    {
     "name": "stdout",
     "output_type": "stream",
     "text": [
      "Enter your age12\n",
      "Sorry! you have to wait\n"
     ]
    }
   ],
   "source": [
    "# Example 1: Program to check whether a person is eligible to vote or not.\n",
    "\n",
    "age=int(input(\"Enter your age\"))\n",
    "\n",
    "if age>=18:\n",
    "    print(\"Eligible to vote\")\n",
    "else:\n",
    "    print(\"Sorry! you have to wait\")"
   ]
  },
  {
   "cell_type": "code",
   "execution_count": 11,
   "id": "be46ebf0",
   "metadata": {},
   "outputs": [
    {
     "name": "stdout",
     "output_type": "stream",
     "text": [
      "Enter the number4\n",
      "Number is Even\n"
     ]
    }
   ],
   "source": [
    "# # Example 2: Program to check whether a number is even or not.\n",
    "\n",
    "num= int(input(\"Enter the number\"))\n",
    "\n",
    "if num%2==0:\n",
    "    print(\"Number is Even\")\n",
    "    \n",
    "else:\n",
    "    print(\"Number is Odd\")"
   ]
  },
  {
   "cell_type": "markdown",
   "id": "7e97b9ee",
   "metadata": {},
   "source": [
    "# The elif statement\n",
    "The elif statement enables us to check multiple conditions and execute the specific block of statements depending upon the true condition among them. We can have any number of elif statements in our program depending upon our need. However, using elif is optional.\n",
    "\n",
    "The elif statement works like an if-else-if ladder statement in C. It must be succeeded by an if statement."
   ]
  },
  {
   "cell_type": "code",
   "execution_count": 13,
   "id": "3ebb5d8e",
   "metadata": {},
   "outputs": [
    {
     "name": "stdout",
     "output_type": "stream",
     "text": [
      "Please feed me a number20\n",
      "20  Number Has no match\n"
     ]
    }
   ],
   "source": [
    "# Example 1 : Check if a given number is equal to 10, 50, 100\n",
    "number=int(input(\"Please feed me a number\"))\n",
    "\n",
    "if number==10:\n",
    "    print(\"Number is equal to Ten\")\n",
    "    \n",
    "elif number==50:\n",
    "    print(\"Number is equal to Fifty\")\n",
    "    \n",
    "elif number==100:\n",
    "    print(\"Number is equal to Hundred\")\n",
    "    \n",
    "else:\n",
    "    print(number,\" Number Has no match\")"
   ]
  },
  {
   "cell_type": "code",
   "execution_count": 14,
   "id": "cd346c28",
   "metadata": {},
   "outputs": [
    {
     "name": "stdout",
     "output_type": "stream",
     "text": [
      "Please Enter your Marks50\n",
      " You score grade B....\n"
     ]
    }
   ],
   "source": [
    "# Example 2 : Check if the student has passed and scored which grade.\n",
    "\n",
    "num=int(input(\"Please Enter your Marks\"))\n",
    "\n",
    "if num>85 and  num<=100:\n",
    "    print(\"Congratulation ! you score grade A.....\")\n",
    "    \n",
    "elif num>60 and num<=85:\n",
    "    print(\"You score grade B+.....\")\n",
    "    \n",
    "elif num>40 and num<=60:\n",
    "    print(\" You score grade B....\")\n",
    "    \n",
    "elif num>30 and numb<=40:\n",
    "    print(\" You scored grade C....\")"
   ]
  },
  {
   "cell_type": "markdown",
   "id": "0f79767a",
   "metadata": {},
   "source": [
    "# The Nested if statement\n",
    "The nested if statement enables us to check multiple conditions within conditions and execute the specific block of statements depending upon the true condition among them. We can have any number of if-else,elif statements in our program depending upon our need. However, using elif is optional."
   ]
  },
  {
   "cell_type": "code",
   "execution_count": 15,
   "id": "83d277ab",
   "metadata": {},
   "outputs": [
    {
     "name": "stdout",
     "output_type": "stream",
     "text": [
      "Enter your age: 1\n",
      "You are minor\n"
     ]
    }
   ],
   "source": [
    "# Example: if you are adult and senior citizen.\n",
    "\n",
    "age=int(input(\"Enter your age: \"))\n",
    "\n",
    "if age>18:\n",
    "    print(\"You are an adult\")\n",
    "    \n",
    "    if age>65:\n",
    "        print(\"You are a senior citizen as well\")\n",
    "    else:\n",
    "        print(\" You are not a senior citizen\")\n",
    "        \n",
    "else:\n",
    "    print(\"You are minor\")"
   ]
  },
  {
   "cell_type": "code",
   "execution_count": 18,
   "id": "00addce9",
   "metadata": {},
   "outputs": [
    {
     "name": "stdout",
     "output_type": "stream",
     "text": [
      "enter the year you want to check :2010\n",
      "2010 is not a leap year\n"
     ]
    }
   ],
   "source": [
    "# Example : check if given a leap year or not:\n",
    "\n",
    "year=int(input(\"enter the year you want to check :\"))\n",
    "\n",
    "if (year % 4)==0:\n",
    "    if (year % 100)==0:\n",
    "        if(year % 400)==0:\n",
    "            print(\"{0} is a leap year\".format(year))\n",
    "            \n",
    "        else:\n",
    "            print(\" {0} is not a leap year \".format(year))\n",
    "            \n",
    "    else:\n",
    "        print(\" %0.0d is not a leap year \"%year)\n",
    "else:\n",
    "    print(\"{0} is not a leap year\".format(year))"
   ]
  },
  {
   "cell_type": "code",
   "execution_count": 19,
   "id": "e290abc1",
   "metadata": {},
   "outputs": [
    {
     "name": "stdout",
     "output_type": "stream",
     "text": [
      "Enter Age20\n",
      "You are eligible for DL\n"
     ]
    }
   ],
   "source": [
    "# check driving lisence eligible\n",
    "\n",
    "age= int(input(\"Enter Age\"))\n",
    "\n",
    "if (age>=18):\n",
    "    if age>50:\n",
    "        print(\"Your liscence has expired, please renew your DL\")\n",
    "    else:\n",
    "        print(\"You are eligible for DL\")\n",
    "        \n",
    "else:\n",
    "    if age>=16:\n",
    "        print(\"You are eligible for learner DL 50cc non gear vehicle\")\n",
    "        \n",
    "    else:\n",
    "        print(\"You are not eligbile of DL\")"
   ]
  },
  {
   "cell_type": "markdown",
   "id": "d6ee5c94",
   "metadata": {},
   "source": [
    "----------------------------"
   ]
  },
  {
   "cell_type": "markdown",
   "id": "87eb4616",
   "metadata": {},
   "source": [
    "# Python Loops\n",
    "The flow of the programs written in any programming language is sequential by default. Sometimes we may need to alter the flow of the program. The execution of a specific code may need to be repeated several numbers of times."
   ]
  },
  {
   "cell_type": "markdown",
   "id": "ec8b84a4",
   "metadata": {},
   "source": [
    "# Why we use loops in python?\n",
    "The looping simplifies the complex problems into the easy ones. It enables us to alter the flow of the program so that instead of writing the same code again and again, we can repeat the same code for a finite number of times. \n",
    "\n",
    "- For example, if we need to print the first 10 natural numbers then, instead of using the print statement 10 times, we can print inside a loop which runs up to 10 iterations."
   ]
  },
  {
   "cell_type": "markdown",
   "id": "6720c881",
   "metadata": {},
   "source": [
    "# Advantages of loops\n",
    "There are the following advantages of loops in Python.\n",
    "\n",
    "- It provides code re-usability.\n",
    "- Using loops, we do not need to write the same code again and again.\n",
    "- Using loops, we can traverse over the elements of data structures (array or linked lists).\n",
    "- There are the following loop statements in Python."
   ]
  },
  {
   "cell_type": "markdown",
   "id": "1a98ff0c",
   "metadata": {},
   "source": [
    "# Python for loop\n",
    "The for loop in Python is used to iterate the statements or a part of the program several times. It is frequently used to traverse the data structures like list, tuple, or dictionary.\n",
    "\n",
    "- The syntax of for loop in python is given below."
   ]
  },
  {
   "cell_type": "code",
   "execution_count": 20,
   "id": "89f17420",
   "metadata": {},
   "outputs": [
    {
     "name": "stdout",
     "output_type": "stream",
     "text": [
      "D a t a   T r a i n e d "
     ]
    }
   ],
   "source": [
    "# Itering string using for loop\n",
    "\n",
    "str=\"Data Trained\"\n",
    "\n",
    "for i in str:\n",
    "    print(i,end=\" \")"
   ]
  },
  {
   "cell_type": "code",
   "execution_count": 23,
   "id": "c47de46f",
   "metadata": {},
   "outputs": [
    {
     "name": "stdout",
     "output_type": "stream",
     "text": [
      "Enter any Number 2\n",
      "2 * 1 =  2\n",
      "2 * 2 =  4\n",
      "2 * 3 =  6\n",
      "2 * 4 =  8\n",
      "2 * 5 =  10\n",
      "2 * 6 =  12\n",
      "2 * 7 =  14\n",
      "2 * 8 =  16\n",
      "2 * 9 =  18\n",
      "2 * 10 =  20\n"
     ]
    }
   ],
   "source": [
    "## Example- 2: Program to print the table of the given number\n",
    "l=list(range(1,11))\n",
    "\n",
    "n=int(input(\"Enter any Number \"))\n",
    "\n",
    "for i in l:\n",
    "    print(n,\"*\",i,\"= \",n*i)"
   ]
  },
  {
   "cell_type": "code",
   "execution_count": 25,
   "id": "758ca315",
   "metadata": {},
   "outputs": [
    {
     "name": "stdout",
     "output_type": "stream",
     "text": [
      "10 = 10 + 10\n",
      "40 = 40 + 30\n",
      "63 = 63 + 23\n",
      "106 = 106 + 43\n",
      "171 = 171 + 65\n",
      "183 = 183 + 12\n",
      "183\n"
     ]
    }
   ],
   "source": [
    "# Example-4: Program to print the sum of the given list.\n",
    "\n",
    "list = [10,30,23,43,65,12] \n",
    "\n",
    "sum=0\n",
    "for i in list:\n",
    "    sum=sum+i\n",
    "    print(sum,\"=\",sum,\"+\",i)\n",
    "print(sum)"
   ]
  },
  {
   "cell_type": "markdown",
   "id": "431d6309",
   "metadata": {},
   "source": [
    "# For loop Using range() function\n",
    "The range() function\n",
    "\n",
    "The range() function is used to generate the sequence of the numbers. If we pass the range(10), it will generate the numbers from 0 to 9. The syntax of the range() function is given below.\n",
    "\n",
    "The start represents the beginning of the iteration. The stop represents that the loop will iterate till stop-1. The range(1,5) will generate numbers 1 to 4 iterations. It is optional. The step size is used to skip the specific numbers from the iteration. It is optional to use. By default, the step size is 1. It is optional. Consider the following examples:\n",
    "\n",
    "Example-1: Program to print numbers in sequence."
   ]
  },
  {
   "cell_type": "code",
   "execution_count": 26,
   "id": "f45811f4",
   "metadata": {},
   "outputs": [
    {
     "name": "stdout",
     "output_type": "stream",
     "text": [
      "0 1 2 3 4 5 6 7 8 9 "
     ]
    }
   ],
   "source": [
    "for i in range(10):\n",
    "    print(i,end=\" \")"
   ]
  },
  {
   "cell_type": "code",
   "execution_count": 29,
   "id": "44a3c5fb",
   "metadata": {},
   "outputs": [
    {
     "name": "stdout",
     "output_type": "stream",
     "text": [
      "Enter a number2\n",
      "2 * 0 =  0\n",
      "2 * 1 =  2\n",
      "2 * 2 =  4\n",
      "2 * 3 =  6\n",
      "2 * 4 =  8\n",
      "2 * 5 =  10\n",
      "2 * 6 =  12\n",
      "2 * 7 =  14\n",
      "2 * 8 =  16\n",
      "2 * 9 =  18\n",
      "2 * 10 =  20\n"
     ]
    }
   ],
   "source": [
    "# Example 2: program to print table of the given number\n",
    "\n",
    "n=int(input(\"Enter a number\"))\n",
    "\n",
    "for i in range(11):\n",
    "    print(n,\"*\",i,\"= \",n*i)\n",
    "    "
   ]
  },
  {
   "cell_type": "code",
   "execution_count": 38,
   "id": "4fa94f02",
   "metadata": {},
   "outputs": [
    {
     "name": "stdout",
     "output_type": "stream",
     "text": [
      "Enter the last number of range 5\n",
      "2\n",
      "4\n"
     ]
    }
   ],
   "source": [
    "# Example-3: Program to print even number using step size in range().\n",
    "\n",
    "n=int(input(\"Enter the last number of range \"))\n",
    "      \n",
    "for i in range(1,n):\n",
    "    if(i%2==0):\n",
    "        print(i)\n",
    "    else:\n",
    "        pass\n",
    "        "
   ]
  },
  {
   "cell_type": "code",
   "execution_count": 39,
   "id": "c40fd165",
   "metadata": {},
   "outputs": [
    {
     "name": "stdout",
     "output_type": "stream",
     "text": [
      "Enter the number 10\n",
      "2\n",
      "4\n",
      "6\n",
      "8\n"
     ]
    }
   ],
   "source": [
    "n = int(input(\"Enter the number \"))  \n",
    "for i in range(2,n,2):  \n",
    "    print(i) "
   ]
  },
  {
   "cell_type": "markdown",
   "id": "2bbebadd",
   "metadata": {},
   "source": [
    "We can also use the range() function with sequence of numbers. The len() function is combined with range() function which iterate through a sequence using indexing. Consider the following example."
   ]
  },
  {
   "cell_type": "code",
   "execution_count": 41,
   "id": "b7190662",
   "metadata": {},
   "outputs": [
    {
     "name": "stdout",
     "output_type": "stream",
     "text": [
      "Hello  Data\n",
      "Hello  Trained\n",
      "Hello  Data Trained\n",
      "Hello  datatrain\n"
     ]
    }
   ],
   "source": [
    "list1=['Data','Trained','Data Trained','datatrain']\n",
    "\n",
    "for i in range(len(list1)):\n",
    "    print(\"Hello \",list1[i])"
   ]
  },
  {
   "cell_type": "markdown",
   "id": "c2d05002",
   "metadata": {},
   "source": [
    "# Nested for loop in python\n",
    "Python allows us to nest any number of for loops inside a for loop. The inner loop is executed n number of times for every iteration of the outer loop. The syntax is given below.\n",
    "\n",
    "Syntax"
   ]
  },
  {
   "cell_type": "code",
   "execution_count": 42,
   "id": "091669bb",
   "metadata": {},
   "outputs": [
    {
     "name": "stdout",
     "output_type": "stream",
     "text": [
      "Enter the rows5\n",
      "\n",
      "* \n",
      "* * \n",
      "* * * \n",
      "* * * * \n",
      "* * * * * \n"
     ]
    }
   ],
   "source": [
    "# user input for number of rows\n",
    "rows=int(input(\"Enter the rows\"))\n",
    "\n",
    "#Outer Loop will print number of rows\n",
    "\n",
    "for i in range(0,rows+1):\n",
    "    #inner Loop will print number of Asticks\n",
    "    \n",
    "    for j in range(i):\n",
    "        print(\"*\",end=\" \")\n",
    "    print()\n"
   ]
  },
  {
   "cell_type": "code",
   "execution_count": 43,
   "id": "79e431a8",
   "metadata": {},
   "outputs": [
    {
     "name": "stdout",
     "output_type": "stream",
     "text": [
      "Enter the rows5\n",
      "\n",
      "1 \n",
      "2 2 \n",
      "3 3 3 \n",
      "4 4 4 4 \n",
      "5 5 5 5 5 \n"
     ]
    }
   ],
   "source": [
    "# Example 2 : Program to number pyramid.\n",
    "\n",
    "rows=int(input(\"Enter the rows\"))\n",
    "\n",
    "for i in range(0,rows+1):\n",
    "    for j in range(i):\n",
    "        print(i,end=\" \")\n",
    "    print()"
   ]
  },
  {
   "cell_type": "markdown",
   "id": "43082360",
   "metadata": {},
   "source": [
    "# Using else statement with for loop\n",
    "Unlike other languages like C, C++, or Java, Python allows us to use the else statement with the for loop which can be executed only when all the iterations are exhausted. Here, we must notice that if the loop contains any of the break statement then the else statement will not be executed."
   ]
  },
  {
   "cell_type": "code",
   "execution_count": 44,
   "id": "0a5a2ba3",
   "metadata": {},
   "outputs": [
    {
     "name": "stdout",
     "output_type": "stream",
     "text": [
      "0\n",
      "1\n",
      "2\n",
      "3\n",
      "4\n",
      "for loop completly exhausted, since there is no break\n"
     ]
    }
   ],
   "source": [
    "for i in range(0,5):\n",
    "    print(i)\n",
    "    \n",
    "else:\n",
    "    print(\"for loop completly exhausted, since there is no break\")"
   ]
  },
  {
   "cell_type": "markdown",
   "id": "15a98aab",
   "metadata": {},
   "source": [
    "# Python While loop\n",
    "The Python while loop allows a part of the code to be executed until the given condition returns false. It is also known as a pre-tested loop.\n",
    "\n",
    "It can be viewed as a repeating if statement. When we don't know the number of iterations then the while loop is most effective to use.\n",
    "\n",
    "The syntax is given below."
   ]
  },
  {
   "cell_type": "code",
   "execution_count": 50,
   "id": "93ea9675",
   "metadata": {},
   "outputs": [
    {
     "name": "stdout",
     "output_type": "stream",
     "text": [
      "1 2 3 4 5 6 7 8 9 "
     ]
    }
   ],
   "source": [
    "# Example-1: Program to print 1 to 10 using while loop\n",
    "i=1\n",
    "\n",
    "while(i<10):\n",
    "    print(i,end=\" \")\n",
    "    i+= 1"
   ]
  },
  {
   "cell_type": "code",
   "execution_count": 59,
   "id": "4d0dedcd",
   "metadata": {},
   "outputs": [
    {
     "name": "stdout",
     "output_type": "stream",
     "text": [
      "Enter the number: 2\n",
      "2x1=2\n",
      "2x2=4\n",
      "2x3=6\n",
      "2x4=8\n",
      "2x5=10\n",
      "2x6=12\n",
      "2x7=14\n",
      "2x8=16\n",
      "2x9=18\n",
      "2x10=20\n"
     ]
    }
   ],
   "source": [
    "# Example-1: Program to print 1 to 10 using while loop\n",
    "\n",
    "i=1\n",
    "\n",
    "num=0\n",
    "num=int(input(\"Enter the number: \"))\n",
    "\n",
    "while i<=10:\n",
    "    print(f\"{num}x{i}={num*i}\")\n",
    "    i=i+1"
   ]
  },
  {
   "cell_type": "markdown",
   "id": "0cdcc86f",
   "metadata": {},
   "source": [
    "# Using else with while loop\n",
    "Python allows us to use the else statement with the while loop also. The else block is executed when the condition given in the while statement becomes false. Like for loop, if the while loop is broken using break statement, then the else block will not be executed, and the statement present after else block will be executed. The else statement is optional to use with the while loop."
   ]
  },
  {
   "cell_type": "code",
   "execution_count": 60,
   "id": "dc071bb9",
   "metadata": {},
   "outputs": [
    {
     "name": "stdout",
     "output_type": "stream",
     "text": [
      "1 2 3 4 5 The while loop exhausted\n"
     ]
    }
   ],
   "source": [
    "i=1\n",
    "while(i<=5):\n",
    "    print(i,end=\" \")\n",
    "    i=i+1\n",
    "else:\n",
    "    print(\"The while loop exhausted\")"
   ]
  },
  {
   "cell_type": "code",
   "execution_count": 65,
   "id": "7ffe3f87",
   "metadata": {},
   "outputs": [
    {
     "name": "stdout",
     "output_type": "stream",
     "text": [
      "Enter the terms 10\n",
      " Fibonacci Sequences \n",
      "0 1 1 2 3 5 8 13 21 34 "
     ]
    }
   ],
   "source": [
    "# Example Program to print Fibonacci number of the given limit\n",
    "term= int(input(\"Enter the terms \"))\n",
    "# first two initial terms\n",
    "\n",
    "a=0\n",
    "b=1\n",
    "count=0\n",
    "\n",
    "# check if the number of terms is Zero or Negative\n",
    "if (term<=0):\n",
    "    print(\"Please Enter a valid number\")\n",
    "    \n",
    "elif (term==1):\n",
    "    print(\" Fibonacci sequence upto 1\",\" :\")\n",
    "\n",
    "else:\n",
    "    print(\" Fibonacci Sequences \")\n",
    "    \n",
    "    while (count< term):\n",
    "        print(a,end=\" \")\n",
    "        c=a+b\n",
    "        #updating\n",
    "        a=b\n",
    "        b=c\n",
    "        count+=1\n",
    "        "
   ]
  },
  {
   "cell_type": "markdown",
   "id": "e50114c6",
   "metadata": {},
   "source": [
    "# Break Statement\n",
    "The break is a keyword in python which is used to bring the program control out of the loop. The break statement breaks the loops one by one, i.e., in the case of nested loops, it breaks the inner loop first and then proceeds to outer loops. In other words, we can say that break is used to abort the current execution of the program and the control goes to the next line after the loop.\n",
    "\n",
    "The break is commonly used in the cases where we need to break the loop for a given condition.\n",
    "\n",
    "The syntax of the break is given below."
   ]
  },
  {
   "cell_type": "code",
   "execution_count": 72,
   "id": "049948de",
   "metadata": {},
   "outputs": [
    {
     "name": "stdout",
     "output_type": "stream",
     "text": [
      "Item Matched \n",
      "Found the value\n"
     ]
    }
   ],
   "source": [
    "lis1=[1,2,3,4,5]\n",
    "count=1;\n",
    "\n",
    "for i in list1:\n",
    "    if i==4:\n",
    "        print(\"Item Matched \")\n",
    "        count=count+1;\n",
    "        break\n",
    "print(\"Found the value\");"
   ]
  },
  {
   "cell_type": "code",
   "execution_count": 70,
   "id": "6ab53912",
   "metadata": {},
   "outputs": [
    {
     "name": "stdout",
     "output_type": "stream",
     "text": [
      "item matched\n",
      "found the value\n"
     ]
    }
   ],
   "source": [
    "# Example 1\n",
    "list1 =[1,2,3,4]  \n",
    "count = 1;  \n",
    "for i in list1:  \n",
    "    if i == 4:  \n",
    "        print(\"item matched\")  \n",
    "        count = count + 1;  \n",
    "        break  \n",
    "print(\"found the value\");  "
   ]
  },
  {
   "cell_type": "code",
   "execution_count": 78,
   "id": "5a760243",
   "metadata": {},
   "outputs": [
    {
     "name": "stdout",
     "output_type": "stream",
     "text": [
      "D a t a   T r a i n "
     ]
    }
   ],
   "source": [
    "str=\"Data Trained\"\n",
    "\n",
    "for i in str:\n",
    "    if i=='e':\n",
    "        break\n",
    "    print(i,end=\" \")"
   ]
  },
  {
   "cell_type": "markdown",
   "id": "fc912656",
   "metadata": {},
   "source": [
    "# Python continue Statement\n",
    "The continue statement in Python is used to bring the program control to the beginning of the loop. The continue statement skips the remaining lines of code inside the loop and start with the next iteration. It is mainly used for a particular condition inside the loop so that we can skip some specific code for a particular condition.The continue statement in Python is used to bring the program control to the beginning of the loop. The continue statement skips the remaining lines of code inside the loop and start with the next iteration. It is mainly used for a particular condition inside the loop so that we can skip some specific code for a particular condition."
   ]
  },
  {
   "cell_type": "code",
   "execution_count": 80,
   "id": "dee8098f",
   "metadata": {},
   "outputs": [
    {
     "name": "stdout",
     "output_type": "stream",
     "text": [
      "1 2 3 4 6 7 8 9 10 "
     ]
    }
   ],
   "source": [
    "i=0\n",
    "\n",
    "while(i<10):\n",
    "    i=i+1\n",
    "    if(i==5):\n",
    "        continue\n",
    "    print(i,end=\" \")"
   ]
  },
  {
   "cell_type": "markdown",
   "id": "9335c554",
   "metadata": {},
   "source": [
    "- Check 5 has been skipped"
   ]
  },
  {
   "cell_type": "code",
   "execution_count": 86,
   "id": "0dc0d90b",
   "metadata": {},
   "outputs": [
    {
     "name": "stdout",
     "output_type": "stream",
     "text": [
      "D a t a   t r a n e d "
     ]
    }
   ],
   "source": [
    "str=\"Data trained\"\n",
    "\n",
    "for i in str:\n",
    "    if i=='i':\n",
    "        continue\n",
    "    print(i,end=\" \")"
   ]
  },
  {
   "cell_type": "markdown",
   "id": "af2062e0",
   "metadata": {},
   "source": [
    "- Check i missing "
   ]
  },
  {
   "cell_type": "markdown",
   "id": "0b47f680",
   "metadata": {},
   "source": [
    "# Pass Statement\n",
    "In Python, the pass keyword is used to execute nothing; it means, when we don't want to execute code, the pass can be used to execute empty. It is the same as the name refers to. It just makes the control to pass by without executing any code. If we want to bypass any code pass statement can be used.\n",
    "\n",
    "It is beneficial when a statement is required syntactically, but we want we don't want to execute or execute it later. The difference between the comments and pass is that, comments are entirely ignored by the Python interpreter, where the pass statement is not ignored.\n",
    "\n",
    "Suppose we have a loop, and we do not want to execute right this moment, but we will execute in the future. Here we can use the pass."
   ]
  },
  {
   "cell_type": "code",
   "execution_count": 88,
   "id": "83b8c3e6",
   "metadata": {},
   "outputs": [
    {
     "name": "stdout",
     "output_type": "stream",
     "text": [
      "0\n",
      "2\n",
      "4\n",
      "6\n",
      "8\n",
      "10\n",
      "12\n",
      "14\n",
      "16\n",
      "18\n"
     ]
    }
   ],
   "source": [
    "# Example : If the number is even we are doing nothing and if it is odd then we are displaying the number.\n",
    "\n",
    "i=0\n",
    "\n",
    "while(i<20):\n",
    "    if (i%2==0):\n",
    "        print(i)\n",
    "    else:\n",
    "        pass\n",
    "    i+= 1"
   ]
  },
  {
   "cell_type": "code",
   "execution_count": 89,
   "id": "9474616c",
   "metadata": {},
   "outputs": [
    {
     "name": "stdout",
     "output_type": "stream",
     "text": [
      "31\n",
      "43\n"
     ]
    }
   ],
   "source": [
    "for num in [20,10,30,31,43]:\n",
    "    if num%2==0:\n",
    "        pass\n",
    "    else:\n",
    "        print(num)"
   ]
  },
  {
   "cell_type": "code",
   "execution_count": 90,
   "id": "d681d58d",
   "metadata": {},
   "outputs": [
    {
     "name": "stdout",
     "output_type": "stream",
     "text": [
      "1\n",
      "2\n",
      "3\n",
      "5\n"
     ]
    }
   ],
   "source": [
    "for i in [1,2,3,4,5]:\n",
    "    if (i==4):\n",
    "        pass\n",
    "    else:\n",
    "        print(i)"
   ]
  },
  {
   "cell_type": "code",
   "execution_count": 96,
   "id": "0ac9a703",
   "metadata": {},
   "outputs": [
    {
     "name": "stdout",
     "output_type": "stream",
     "text": [
      "Enter the number: 1000\n",
      "1000  is not a armstrong number\n"
     ]
    }
   ],
   "source": [
    "## Python program to check if the number is an Armstrong number or not\n",
    "\n",
    "# take input from the user\n",
    "\n",
    "num=int(input(\"Enter the number: \"))\n",
    "\n",
    "sum=0\n",
    "\n",
    "#find the sum of the cube of each digit\n",
    "\n",
    "temp=num\n",
    "\n",
    "while temp>0:\n",
    "    digit=temp%10\n",
    "    sum=sum+digit**3\n",
    "    temp//=10\n",
    "    \n",
    "if num == sum:\n",
    "    print(num,\"is an armstrong number\")\n",
    "else:\n",
    "    print(num,\" is not a armstrong number\")"
   ]
  },
  {
   "cell_type": "code",
   "execution_count": 100,
   "id": "e32642a6",
   "metadata": {},
   "outputs": [
    {
     "name": "stdout",
     "output_type": "stream",
     "text": [
      "2 3 4 "
     ]
    }
   ],
   "source": [
    "for i in range(2,5):\n",
    "    print(i,end=\" \")"
   ]
  },
  {
   "cell_type": "code",
   "execution_count": 102,
   "id": "0d9d7f63",
   "metadata": {},
   "outputs": [
    {
     "name": "stdout",
     "output_type": "stream",
     "text": [
      "Enter the Number : 3\n",
      "3 Number is prime\n"
     ]
    }
   ],
   "source": [
    "# Program to check if a number is prime or not\n",
    "\n",
    "user=(int(input(\"Enter the Number : \")))\n",
    "\n",
    "if user>1:\n",
    "    #check for factors\n",
    "    for i in range(2,user):\n",
    "        if (user%i)==0:\n",
    "            print(user,\"is not a prime number\")\n",
    "            print(i, \"times\",user//i,\"is\",user)\n",
    "            \n",
    "            break\n",
    "    else:\n",
    "        print(user,\"Number is prime\")\n",
    "            \n",
    "else:\n",
    "    print(user, \"is not a prime Number\")"
   ]
  },
  {
   "cell_type": "code",
   "execution_count": 104,
   "id": "368200ca",
   "metadata": {},
   "outputs": [
    {
     "name": "stdout",
     "output_type": "stream",
     "text": [
      "Enter the number 13\n",
      "The factorial of  13 is 6227020800\n"
     ]
    }
   ],
   "source": [
    "# Python program to find the factorial of a number provided by the user.\n",
    "\n",
    "# to take the input from the user\n",
    "num= int(input(\"Enter the number \"))\n",
    "factorial=1\n",
    "\n",
    "#check if the number is negative, positive or zero\n",
    "\n",
    "if num<0:\n",
    "    print(\"Sorry the factorial doesn't exist for negative numbers\")\n",
    "elif num==0:\n",
    "    print(\"The factorial of 0 is 1\")\n",
    "    \n",
    "else:\n",
    "    for  i in range(1,num+1):\n",
    "        factorial=factorial*i\n",
    "        \n",
    "    print(\"The factorial of \",num,\"is\",factorial)"
   ]
  },
  {
   "cell_type": "markdown",
   "id": "99819aa4",
   "metadata": {},
   "source": [
    "# Python Strings\n",
    "Python string is the collection of the characters surrounded by single quotes, double quotes, or triple quotes. The computer does not understand the characters; internally, it stores manipulated character as the combination of the 0's and 1's.\n",
    "\n",
    "Each character is encoded in the ASCII or Unicode character. So we can say that Python strings are also called the collection of Unicode characters.\n",
    "\n",
    "In Python, strings can be created by enclosing the character or the sequence of characters in the quotes. Python allows us to use single quotes, double quotes, or triple quotes to create the string."
   ]
  },
  {
   "cell_type": "code",
   "execution_count": 105,
   "id": "12177ae4",
   "metadata": {},
   "outputs": [
    {
     "name": "stdout",
     "output_type": "stream",
     "text": [
      "Hi Python <class 'str'>\n"
     ]
    }
   ],
   "source": [
    "#syntex\n",
    "str1=\"Hi Python\"\n",
    "print(str1,type(str1))"
   ]
  },
  {
   "cell_type": "markdown",
   "id": "9f63558a",
   "metadata": {},
   "source": [
    "# Creating String in Python\n",
    "We can create a string by enclosing the characters in single-quotes or double- quotes. Python also provides triple-quotes to represent the string, but it is generally used for multiline string or docstrings."
   ]
  },
  {
   "cell_type": "code",
   "execution_count": 106,
   "id": "b91b0e61",
   "metadata": {},
   "outputs": [
    {
     "name": "stdout",
     "output_type": "stream",
     "text": [
      "Hello Python\n"
     ]
    }
   ],
   "source": [
    "str1=\"Hello Python\"\n",
    "print(str1)"
   ]
  },
  {
   "cell_type": "code",
   "execution_count": 107,
   "id": "64293a38",
   "metadata": {},
   "outputs": [
    {
     "name": "stdout",
     "output_type": "stream",
     "text": [
      "Hello Python\n",
      "Triple code is \n",
      "used for multiple lines or\n",
      "docstring\n"
     ]
    }
   ],
   "source": [
    "str2=\"Hello Python\"\n",
    "print(str2)\n",
    "\n",
    "str3=\"\"\"Triple code is \n",
    "used for multiple lines or\n",
    "docstring\"\"\"\n",
    "print(str3)"
   ]
  },
  {
   "cell_type": "markdown",
   "id": "e52d30d3",
   "metadata": {},
   "source": [
    "# Strings indexing and splitting\n",
    "Like other languages, the indexing of the Python strings starts from 0. For example, The string \"HELLO\" is indexed as given in the below example"
   ]
  },
  {
   "cell_type": "code",
   "execution_count": 109,
   "id": "2c131ee4",
   "metadata": {},
   "outputs": [
    {
     "name": "stdout",
     "output_type": "stream",
     "text": [
      "H\n",
      "e\n",
      "l\n",
      "l\n",
      "o\n"
     ]
    }
   ],
   "source": [
    "str1=\"Hello\"\n",
    "\n",
    "print(str1[0])\n",
    "print(str1[1])\n",
    "print(str1[2])\n",
    "print(str1[3])\n",
    "print(str1[4])"
   ]
  },
  {
   "cell_type": "code",
   "execution_count": 110,
   "id": "a60feb44",
   "metadata": {},
   "outputs": [
    {
     "ename": "IndexError",
     "evalue": "string index out of range",
     "output_type": "error",
     "traceback": [
      "\u001b[1;31m---------------------------------------------------------------------------\u001b[0m",
      "\u001b[1;31mIndexError\u001b[0m                                Traceback (most recent call last)",
      "Input \u001b[1;32mIn [110]\u001b[0m, in \u001b[0;36m<cell line: 1>\u001b[1;34m()\u001b[0m\n\u001b[1;32m----> 1\u001b[0m \u001b[38;5;28mprint\u001b[39m(\u001b[43mstr1\u001b[49m\u001b[43m[\u001b[49m\u001b[38;5;241;43m5\u001b[39;49m\u001b[43m]\u001b[49m)\n",
      "\u001b[1;31mIndexError\u001b[0m: string index out of range"
     ]
    }
   ],
   "source": [
    "print(str1[5])"
   ]
  },
  {
   "cell_type": "markdown",
   "id": "74a9a158",
   "metadata": {},
   "source": [
    "As shown in Python, the slice operator [ ] is used to access the individual characters of the string. However, we can use the : (colon) operator in Python to access the substring from the given string.\n",
    "\n",
    "we must notice that the upper range given in the slice operator is always exclusive i.e., if str = 'HELLO' is given, then str[1:3] will always include str[1] = 'E', str[2] = 'L' and nothing else.\n",
    "\n",
    "Consider the following example."
   ]
  },
  {
   "cell_type": "code",
   "execution_count": 111,
   "id": "99be784e",
   "metadata": {},
   "outputs": [
    {
     "name": "stdout",
     "output_type": "stream",
     "text": [
      "Data Trained\n",
      "ata Trained\n",
      " Trained\n"
     ]
    }
   ],
   "source": [
    "# given String\n",
    "str2=\"Data Trained\"\n",
    "\n",
    "print(str2[0:])\n",
    "print(str2[1:])\n",
    "print(str2[4:])"
   ]
  },
  {
   "cell_type": "code",
   "execution_count": 112,
   "id": "d2914dd6",
   "metadata": {},
   "outputs": [
    {
     "name": "stdout",
     "output_type": "stream",
     "text": [
      "D\n",
      "ED\n",
      "NED\n",
      "INED\n"
     ]
    }
   ],
   "source": [
    "str3=\"DATA TRAINED\"\n",
    "print(str3[-1])\n",
    "print(str3[-2:])\n",
    "print(str3[-3:])\n",
    "print(str3[-4:])"
   ]
  },
  {
   "cell_type": "markdown",
   "id": "6f868117",
   "metadata": {},
   "source": [
    "Reassigning Strings Updating the content of the strings is as easy as assigning it to a new string. The string object doesn't support item assignment i.e., A string can only be replaced with new string since its content cannot be partially replaced. Strings are immutable in Python.\n",
    "\n",
    "Consider the following example."
   ]
  },
  {
   "cell_type": "code",
   "execution_count": 113,
   "id": "3dd5e8e4",
   "metadata": {},
   "outputs": [
    {
     "ename": "TypeError",
     "evalue": "'str' object does not support item assignment",
     "output_type": "error",
     "traceback": [
      "\u001b[1;31m---------------------------------------------------------------------------\u001b[0m",
      "\u001b[1;31mTypeError\u001b[0m                                 Traceback (most recent call last)",
      "Input \u001b[1;32mIn [113]\u001b[0m, in \u001b[0;36m<cell line: 2>\u001b[1;34m()\u001b[0m\n\u001b[0;32m      1\u001b[0m str1 \u001b[38;5;241m=\u001b[39m\u001b[38;5;124m\"\u001b[39m\u001b[38;5;124mHello\u001b[39m\u001b[38;5;124m\"\u001b[39m\n\u001b[1;32m----> 2\u001b[0m str1[\u001b[38;5;241m0\u001b[39m]\u001b[38;5;241m=\u001b[39m\u001b[38;5;124m'\u001b[39m\u001b[38;5;124mh\u001b[39m\u001b[38;5;124m'\u001b[39m\n\u001b[0;32m      3\u001b[0m str1\n",
      "\u001b[1;31mTypeError\u001b[0m: 'str' object does not support item assignment"
     ]
    }
   ],
   "source": [
    "str1 =\"Hello\"\n",
    "str1[0]='h'\n",
    "str1"
   ]
  },
  {
   "cell_type": "code",
   "execution_count": 114,
   "id": "91ef26ab",
   "metadata": {},
   "outputs": [
    {
     "name": "stdout",
     "output_type": "stream",
     "text": [
      "Hello\n",
      "hello\n"
     ]
    }
   ],
   "source": [
    "# Example 2:\n",
    "str1=\"Hello\"\n",
    "print(str1)\n",
    "\n",
    "str1=\"hello\"\n",
    "print(str1)"
   ]
  },
  {
   "cell_type": "markdown",
   "id": "8c792c50",
   "metadata": {},
   "source": [
    "# Deleting the String\n",
    "As we know that strings are immutable. We cannot delete or remove the characters from the string. But we can delete the entire string using the del keyword."
   ]
  },
  {
   "cell_type": "code",
   "execution_count": 115,
   "id": "91d125c6",
   "metadata": {},
   "outputs": [
    {
     "ename": "TypeError",
     "evalue": "'str' object doesn't support item deletion",
     "output_type": "error",
     "traceback": [
      "\u001b[1;31m---------------------------------------------------------------------------\u001b[0m",
      "\u001b[1;31mTypeError\u001b[0m                                 Traceback (most recent call last)",
      "Input \u001b[1;32mIn [115]\u001b[0m, in \u001b[0;36m<cell line: 3>\u001b[1;34m()\u001b[0m\n\u001b[0;32m      1\u001b[0m \u001b[38;5;28mstr\u001b[39m\u001b[38;5;241m=\u001b[39m\u001b[38;5;124m\"\u001b[39m\u001b[38;5;124mDATATRAINED\u001b[39m\u001b[38;5;124m\"\u001b[39m\n\u001b[1;32m----> 3\u001b[0m \u001b[38;5;28;01mdel\u001b[39;00m str1[\u001b[38;5;241m1\u001b[39m]\n",
      "\u001b[1;31mTypeError\u001b[0m: 'str' object doesn't support item deletion"
     ]
    }
   ],
   "source": [
    "str=\"DATATRAINED\"\n",
    "\n",
    "del str1[1] #can't del element"
   ]
  },
  {
   "cell_type": "code",
   "execution_count": 116,
   "id": "1d93e10a",
   "metadata": {},
   "outputs": [
    {
     "ename": "NameError",
     "evalue": "name 'str1' is not defined",
     "output_type": "error",
     "traceback": [
      "\u001b[1;31m---------------------------------------------------------------------------\u001b[0m",
      "\u001b[1;31mNameError\u001b[0m                                 Traceback (most recent call last)",
      "Input \u001b[1;32mIn [116]\u001b[0m, in \u001b[0;36m<cell line: 2>\u001b[1;34m()\u001b[0m\n\u001b[0;32m      1\u001b[0m \u001b[38;5;28;01mdel\u001b[39;00m(str1)\n\u001b[1;32m----> 2\u001b[0m \u001b[38;5;28mprint\u001b[39m(\u001b[43mstr1\u001b[49m)\n",
      "\u001b[1;31mNameError\u001b[0m: name 'str1' is not defined"
     ]
    }
   ],
   "source": [
    "del(str1)\n",
    "print(str1)"
   ]
  },
  {
   "cell_type": "markdown",
   "id": "6773e60e",
   "metadata": {},
   "source": [
    "# String Operators\n",
    "Example\n",
    "Consider the following example to understand the real use of Python operators."
   ]
  },
  {
   "cell_type": "code",
   "execution_count": 117,
   "id": "cc76acc3",
   "metadata": {},
   "outputs": [
    {
     "name": "stdout",
     "output_type": "stream",
     "text": [
      "HelloHelloHello\n",
      "Hello world\n",
      "o\n",
      "ll\n",
      "False\n",
      "False\n"
     ]
    }
   ],
   "source": [
    "str4 =\"Hello\"\n",
    "str1=\" world\"\n",
    "\n",
    "print(str4*3)\n",
    "print(str4+str1)\n",
    "print(str4[4])\n",
    "print(str4[2:4])\n",
    "print('w' in str4)\n",
    "print(\"wo\" not in str1)"
   ]
  },
  {
   "cell_type": "code",
   "execution_count": 118,
   "id": "a0c13a64",
   "metadata": {},
   "outputs": [
    {
     "name": "stdout",
     "output_type": "stream",
     "text": [
      "C://python37\n"
     ]
    }
   ],
   "source": [
    "print(r'C://python37')"
   ]
  },
  {
   "cell_type": "code",
   "execution_count": 119,
   "id": "96581c52",
   "metadata": {},
   "outputs": [
    {
     "name": "stdout",
     "output_type": "stream",
     "text": [
      "The string str : Hello\n"
     ]
    }
   ],
   "source": [
    "print(\"The string str : %s\"%(str4))"
   ]
  },
  {
   "cell_type": "markdown",
   "id": "7d4d746a",
   "metadata": {},
   "source": [
    "# Python String Formatting\n",
    "Escape Sequence Let's suppose we need to write the text as - They said, \"Hello what's going on?\"- the given statement can be written in single quotes or double quotes but it will raise the SyntaxError as it contains both single and double-quotes.\n",
    "\n",
    "Example"
   ]
  },
  {
   "cell_type": "code",
   "execution_count": 122,
   "id": "e9deb239",
   "metadata": {},
   "outputs": [],
   "source": [
    "str=\"They said, \"'Hello what\\'s goingon?'\"\""
   ]
  },
  {
   "cell_type": "code",
   "execution_count": 123,
   "id": "cf2aa223",
   "metadata": {},
   "outputs": [
    {
     "data": {
      "text/plain": [
       "\"They said, Hello what's goingon?\""
      ]
     },
     "execution_count": 123,
     "metadata": {},
     "output_type": "execute_result"
    }
   ],
   "source": [
    "str"
   ]
  },
  {
   "cell_type": "markdown",
   "id": "3601b864",
   "metadata": {},
   "source": [
    "We can use the triple quotes to accomplish this problem but Python provides the escape sequence.\n",
    "\n",
    "The backslash(/) symbol denotes the escape sequence. The backslash can be followed by a special character and it interpreted differently. The single quotes inside the string must be escaped. We can apply the same as in the double quotes."
   ]
  },
  {
   "cell_type": "code",
   "execution_count": 124,
   "id": "9338754d",
   "metadata": {},
   "outputs": [
    {
     "name": "stdout",
     "output_type": "stream",
     "text": [
      "''They said, \"What's there?\"\n",
      "They said, \"What's going on?\"\n",
      "They said, \"What's going on?\"\n"
     ]
    }
   ],
   "source": [
    "# using triple quotes  \n",
    "print('''''They said, \"What's there?\"''')  \n",
    "  \n",
    "# escaping single quotes  \n",
    "print('They said, \"What\\'s going on?\"')  \n",
    "  \n",
    "# escaping double quotes  \n",
    "print(\"They said, \\\"What's going on?\\\"\")  "
   ]
  },
  {
   "cell_type": "code",
   "execution_count": 125,
   "id": "e0d97eb6",
   "metadata": {},
   "outputs": [
    {
     "name": "stdout",
     "output_type": "stream",
     "text": [
      "www.example.com\\example\n",
      "what\\s your favourate food?\n",
      "Printing \n",
      " new \n",
      " line \n",
      "after\n",
      " every\n",
      "word\n"
     ]
    }
   ],
   "source": [
    "# Example\n",
    "print(\"www.example.com\\\\example\")\n",
    "print('what\\s your favourate food?')\n",
    "print(\"Printing \\n new \\n line \\nafter\\n every\\nword\")"
   ]
  },
  {
   "cell_type": "code",
   "execution_count": 127,
   "id": "c11ee3ae",
   "metadata": {},
   "outputs": [
    {
     "name": "stdout",
     "output_type": "stream",
     "text": [
      "Printing \tnew \ttab\tevery\tword\n"
     ]
    }
   ],
   "source": [
    "print(\"Printing \\tnew \\ttab\\tevery\\tword\")"
   ]
  },
  {
   "cell_type": "markdown",
   "id": "a86b96d2",
   "metadata": {},
   "source": [
    "# The format() method\n",
    "The format() method is the most flexible and useful method in formatting strings. The curly braces {} are used as the placeholder in the string and replaced by the format() method argument.\n",
    "\n",
    "Let's have a look at the given an example:"
   ]
  },
  {
   "cell_type": "code",
   "execution_count": 128,
   "id": "a0a14062",
   "metadata": {},
   "outputs": [
    {
     "name": "stdout",
     "output_type": "stream",
     "text": [
      "Devansh and Abhishek both are the best friend \n"
     ]
    }
   ],
   "source": [
    "#using Curly braces\n",
    "print(\"{0} and {1} both are the best friend \".format(\"Devansh\",\"Abhishek\"))"
   ]
  },
  {
   "cell_type": "code",
   "execution_count": 130,
   "id": "8c31ad7d",
   "metadata": {},
   "outputs": [
    {
     "name": "stdout",
     "output_type": "stream",
     "text": [
      "Shaym and Raj best players\n"
     ]
    }
   ],
   "source": [
    "# positional Arguments\n",
    "print(\"{1} and {0} best players\".format(\"Raj\",\"Shaym\"))"
   ]
  },
  {
   "cell_type": "code",
   "execution_count": 131,
   "id": "46b02801",
   "metadata": {},
   "outputs": [
    {
     "name": "stdout",
     "output_type": "stream",
     "text": [
      "James,peter,Ricky\n"
     ]
    }
   ],
   "source": [
    "#Keyword Arguments\n",
    "print(\"{a},{b},{c}\".format(a='James',b=\"peter\",c=\"Ricky\"))"
   ]
  },
  {
   "cell_type": "markdown",
   "id": "169d808b",
   "metadata": {},
   "source": [
    "# Python String Formatting Using % Operator\n",
    "Python allows us to use the format specifiers used in C's printf statement. The format specifiers in Python are treated in the same way as they are treated in C. However, Python provides an additional operator %, which is used as an interface between the format specifiers and their values. In other words, we can say that it binds the format specifiers to the values.\n",
    "\n",
    "Consider the following example."
   ]
  },
  {
   "cell_type": "code",
   "execution_count": 136,
   "id": "3fb969fc",
   "metadata": {},
   "outputs": [
    {
     "name": "stdout",
     "output_type": "stream",
     "text": [
      "Hi I am Integer.... My value is 20\n",
      "Hi I am Float... My value is 1.290000\n",
      "My Value is Devansh\n"
     ]
    }
   ],
   "source": [
    "Integer =20\n",
    "Float=1.290\n",
    "string=\"Devansh\"\n",
    "print(\"Hi I am Integer.... My value is %d\\nHi I am Float... My value is %f\\nMy Value is %s\"%(Integer,Float,string))"
   ]
  },
  {
   "cell_type": "markdown",
   "id": "0e6ace12",
   "metadata": {},
   "source": [
    "# Python String functions"
   ]
  },
  {
   "cell_type": "code",
   "execution_count": 139,
   "id": "3684a1f5",
   "metadata": {},
   "outputs": [
    {
     "name": "stdout",
     "output_type": "stream",
     "text": [
      "Datatrained\n",
      "****DataTrained*****\n",
      "True\n",
      "True\n",
      "True\n",
      "False\n",
      "False\n",
      "False\n",
      "False\n",
      "DATATRAINED\n",
      "datatrained\n",
      "dataTrained\n",
      "['D', 't', 'Tr', 'ined']\n",
      "True\n",
      "dATAtRAINED\n",
      "Datatrained\n",
      "True\n"
     ]
    }
   ],
   "source": [
    "example=\"DataTrained\"\n",
    "print(example.capitalize())\n",
    "print(example.center(20,\"*\"))\n",
    "print(example.endswith(\"ed\"))\n",
    "print(example.isalnum())\n",
    "print(example.isalpha())\n",
    "print(example.isdecimal())\n",
    "print(example.isdigit())\n",
    "print(example.islower())\n",
    "print(example.isupper())\n",
    "print(example.upper())\n",
    "print(example.lower())\n",
    "print(example.replace(\"D\",'d'))\n",
    "print(example.split(\"a\"))\n",
    "print(example.startswith(\"Da\"))\n",
    "print(example.swapcase())\n",
    "print(example.title())\n",
    "print(example.isidentifier())"
   ]
  },
  {
   "cell_type": "markdown",
   "id": "f9388e25",
   "metadata": {},
   "source": [
    "--------------------------"
   ]
  },
  {
   "cell_type": "markdown",
   "id": "57d41f20",
   "metadata": {},
   "source": [
    "# Python List\n",
    "A list in Python is used to store the sequence of various types of data. Python lists are mutable type its mean we can modify its element after it created. However, Python consists of six data-types that are capable to store the sequences, but the most common and reliable type is the list.\n",
    "\n",
    "A list can be defined as a collection of values or items of different types. The items in the list are separated with the comma (,) and enclosed with the square brackets [ ].\n",
    "\n",
    "A list can be define as below"
   ]
  },
  {
   "cell_type": "code",
   "execution_count": 142,
   "id": "4ab98f3b",
   "metadata": {},
   "outputs": [],
   "source": [
    "L1=[\"Jhon\",\"USA\",102]\n",
    "L2=[1,2,3,4,5,6]\n",
    "L3=['Hello','DataTrained']"
   ]
  },
  {
   "cell_type": "markdown",
   "id": "f2e796a0",
   "metadata": {},
   "source": [
    "If we try to print the type of L1, L2, and L3 using type() function then it will come out to be a list."
   ]
  },
  {
   "cell_type": "code",
   "execution_count": 143,
   "id": "64d2bb4d",
   "metadata": {},
   "outputs": [
    {
     "name": "stdout",
     "output_type": "stream",
     "text": [
      "<class 'list'> <class 'list'> <class 'list'>\n"
     ]
    }
   ],
   "source": [
    "print(type(L1),type(L2),type(L3))"
   ]
  },
  {
   "cell_type": "markdown",
   "id": "d72d651c",
   "metadata": {},
   "source": [
    "# Characteristics of Lists\n",
    "The list has the following characteristics:\n",
    "\n",
    "- The lists are ordered.\n",
    "\n",
    "- The element of the list can access by index.\n",
    "\n",
    "- The lists are the mutable type.\n",
    "\n",
    "- The lists are mutable types.\n",
    "\n",
    "- A list can store the number of various elements.\n",
    "\n",
    "Let's check the first statement that lists are the ordered"
   ]
  },
  {
   "cell_type": "code",
   "execution_count": 145,
   "id": "0a06bab7",
   "metadata": {},
   "outputs": [
    {
     "data": {
      "text/plain": [
       "True"
      ]
     },
     "execution_count": 145,
     "metadata": {},
     "output_type": "execute_result"
    }
   ],
   "source": [
    "a=[1,2,'Peter',4.50,'Ricky',5,6]\n",
    "b=[1,2,'Peter',4.50,'Ricky',5,6]\n",
    "a==b"
   ]
  },
  {
   "cell_type": "code",
   "execution_count": 146,
   "id": "bdd75e76",
   "metadata": {},
   "outputs": [
    {
     "data": {
      "text/plain": [
       "False"
      ]
     },
     "execution_count": 146,
     "metadata": {},
     "output_type": "execute_result"
    }
   ],
   "source": [
    "a=[1,2,'Peter',4.50,'Ricky',5,6]\n",
    "b=[1,2,5,'Peter',4.50,'Ricky',6]\n",
    "a==b"
   ]
  },
  {
   "cell_type": "code",
   "execution_count": 152,
   "id": "9fa1c54b",
   "metadata": {},
   "outputs": [
    {
     "name": "stdout",
     "output_type": "stream",
     "text": [
      "printing employee data...\n",
      "Name :Jhon,ID: 102, country:USA\n",
      "Printing Departments..... \n",
      "\n",
      "DEPARTMENT 1: Name:CS,ID:11 \n",
      "DEPARTMENT 2:Name:IT,ID:11\n",
      "HOD Details.......\n",
      "\n",
      "CS HOD Name: Mr. Sinnha, Id: 10\n",
      "\n",
      "IT HOD NAME: Mr. Bhushan,Id: 11 \n"
     ]
    }
   ],
   "source": [
    "emp=['Jhon',102,'USA']\n",
    "Dep1=['CS',10]\n",
    "Dep2=['IT',11]\n",
    "HOD_CS=[10,'Mr. Sinnha']\n",
    "HOD_IT=[11,'Mr. Bhushan']\n",
    "\n",
    "print(\"printing employee data...\")\n",
    "print(\"Name :%s,ID: %d, country:%s\"%(emp[0],emp[1],emp[2]))\n",
    "print(\"Printing Departments.....\",\"\\n\")\n",
    "\n",
    "print(\"DEPARTMENT 1: Name:%s,ID:%d \\nDEPARTMENT 2:Name:%s,ID:%s\"%(Dep1[0],Dep2[1],Dep2[0],Dep2[1]))\n",
    "print(\"HOD Details.......\")\n",
    "\n",
    "print(\"\\nCS HOD Name: %s, Id: %d\"%(HOD_CS[1],HOD_CS[0]))\n",
    "print(\"\\nIT HOD NAME: %s,Id: %d \"%(HOD_IT[1],HOD_IT[0]))"
   ]
  },
  {
   "cell_type": "markdown",
   "id": "039b86ed",
   "metadata": {},
   "source": [
    "In the above example, we have created the lists which consist of the employee and department details and printed the corresponding details. Observe the above code to understand the concept of the list better."
   ]
  },
  {
   "cell_type": "markdown",
   "id": "b7cab015",
   "metadata": {},
   "source": [
    "# List indexing and splitting\n",
    "The indexing is processed in the same way as it happens with the strings. The elements of the list can be accessed by using the slice operator [].\n",
    "\n",
    "The index starts from 0 and goes to length - 1. The first element of the list is stored at the 0th index, the second element of the list is stored at the 1st index, and so on."
   ]
  },
  {
   "cell_type": "code",
   "execution_count": 153,
   "id": "7a725b94",
   "metadata": {},
   "outputs": [
    {
     "name": "stdout",
     "output_type": "stream",
     "text": [
      "0\n",
      "1\n",
      "2\n",
      "3\n",
      "4\n",
      "5\n",
      "6\n",
      "7\n",
      "\n",
      " [0, 1, 2]\n",
      "[3, 4, 5]\n",
      "[6, 7]\n"
     ]
    }
   ],
   "source": [
    "list_example=[0,1,2,3,4,5,6,7]\n",
    "print(list_example[0])\n",
    "print(list_example[1])\n",
    "print(list_example[2])\n",
    "print(list_example[3])\n",
    "print(list_example[4])\n",
    "print(list_example[5])\n",
    "print(list_example[6])\n",
    "print(list_example[7])\n",
    "\n",
    "print(\"\\n\",list_example[0:3])\n",
    "print(list_example[3:6])\n",
    "print(list_example[6:])"
   ]
  },
  {
   "cell_type": "code",
   "execution_count": 154,
   "id": "afef97e0",
   "metadata": {},
   "outputs": [
    {
     "name": "stdout",
     "output_type": "stream",
     "text": [
      "1\n",
      "2\n",
      "3\n",
      "4\n",
      "5\n",
      "6\n",
      "7\n",
      "8\n",
      "[8]\n",
      "[3, 4, 5]\n",
      "[2, 4, 6]\n"
     ]
    }
   ],
   "source": [
    "list=[1,2,3,4,5,6,7,8]\n",
    "print(list[0])\n",
    "print(list[1])\n",
    "print(list[2])\n",
    "print(list[3])\n",
    "print(list[4])\n",
    "print(list[5])\n",
    "print(list[6])\n",
    "print(list[7])\n",
    "print(list[7:])\n",
    "print(list[2:5])\n",
    "print(list[1:6:2])"
   ]
  },
  {
   "cell_type": "markdown",
   "id": "edc243aa",
   "metadata": {},
   "source": [
    "Unlike other languages, Python provides the flexibility to use the negative indexing also. The negative indices are counted from the right. The last element (rightmost) of the list has the index -1; its adjacent left element is present at the index -2 and so on until the left-most elements are encountered.\n",
    "\n",
    "Let's have a look at the following example where we will use negative indexing to access the elements of the list."
   ]
  },
  {
   "cell_type": "code",
   "execution_count": 155,
   "id": "8818a234",
   "metadata": {},
   "outputs": [
    {
     "name": "stdout",
     "output_type": "stream",
     "text": [
      "5\n",
      "[1, 2, 3, 4]\n",
      "[3, 4]\n"
     ]
    }
   ],
   "source": [
    "list=[1,2,3,4,5]\n",
    "print(list[-1])\n",
    "print(list[:-1])\n",
    "print(list[-3:-1])"
   ]
  },
  {
   "cell_type": "markdown",
   "id": "87e58bb3",
   "metadata": {},
   "source": [
    "As we discussed above, we can get an element by using negative indexing. In the above code, the first print statement returned the rightmost element of the list. The second print statement returned the sub-list, and so on.\n",
    "\n",
    "# Updating List values\n",
    "Lists are the most versatile data structures in Python since they are mutable, and their values can be updated by using the slice and assignment operator.\n",
    "\n",
    "Python also provides append() and insert() methods, which can be used to add values to the list.\n",
    "\n",
    "Consider the following example to update the values inside the list."
   ]
  },
  {
   "cell_type": "code",
   "execution_count": 156,
   "id": "381c3a4a",
   "metadata": {},
   "outputs": [
    {
     "name": "stdout",
     "output_type": "stream",
     "text": [
      "[1, 2, 3, 4, 5, 6]\n",
      "[1, 2, 10, 4, 5, 6]\n",
      "[1, 89, 78, 4, 5, 6]\n",
      "[1, 89, 78, 4, 5, 25]\n"
     ]
    }
   ],
   "source": [
    "list=[1,2,3,4,5,6]\n",
    "print(list)\n",
    "\n",
    "list[2]=10\n",
    "print(list)\n",
    "\n",
    "list[1:3]=[89,78]\n",
    "print(list)\n",
    "\n",
    "list[-1]=25\n",
    "print(list)"
   ]
  },
  {
   "cell_type": "markdown",
   "id": "b11ec97c",
   "metadata": {},
   "source": [
    "# Python List Operations\n",
    "The concatenation (+) and repetition (*) operators work in the same way as they were working with the strings.\n",
    "\n",
    "Let's see how the list responds to various operators.\n",
    "\n",
    "Consider a Lists\n",
    "\n",
    "- l1 = [1, 2, 3, 4], and\n",
    "- l2 = [5, 6, 7, 8] to perform operation."
   ]
  },
  {
   "cell_type": "markdown",
   "id": "542806aa",
   "metadata": {},
   "source": [
    "# Iterating a List\n",
    "A list can be iterated by using a for - in loop. A simple list containing four strings, which can be iterated as follows."
   ]
  },
  {
   "cell_type": "code",
   "execution_count": 157,
   "id": "1e9b3951",
   "metadata": {},
   "outputs": [
    {
     "name": "stdout",
     "output_type": "stream",
     "text": [
      "Jhon\n",
      "David\n",
      "James\n",
      "Jonathan\n"
     ]
    }
   ],
   "source": [
    "list=['Jhon','David','James','Jonathan']\n",
    "\n",
    "for i in list:\n",
    "    print(i)\n",
    "    \n",
    "    # The i variable will iterate over the element of the list"
   ]
  },
  {
   "cell_type": "code",
   "execution_count": 159,
   "id": "673fde41",
   "metadata": {},
   "outputs": [
    {
     "name": "stdout",
     "output_type": "stream",
     "text": [
      "Enter the number of elements in the list: 5\n",
      "Enter the item1\n",
      "Enter the item1\n",
      "Enter the item1\n",
      "Enter the item1\n",
      "Enter the item1\n",
      "Printing the list item\n",
      "1\t1\t1\t1\t1\t"
     ]
    }
   ],
   "source": [
    "l=[]#empty list\n",
    "\n",
    "n=int(input(\"Enter the number of elements in the list: \"))\n",
    "\n",
    "# for loop\n",
    "\n",
    "for i in range(0,n):\n",
    "    # the input is taken from the user and added into list\n",
    "    l.append(input(\"Enter the item\"))\n",
    "print(\"Printing the list item\")\n",
    "\n",
    "for i in l:\n",
    "    print(i,end=\"\\t\")"
   ]
  },
  {
   "cell_type": "markdown",
   "id": "2d3a5d61",
   "metadata": {},
   "source": [
    "# Removing elements from the list\n",
    "Python provides the remove() function which is used to remove the element from the list. Consider the following example to understand this concept.\n",
    "\n",
    "Example - "
   ]
  },
  {
   "cell_type": "code",
   "execution_count": 160,
   "id": "eb51e6b1",
   "metadata": {},
   "outputs": [
    {
     "name": "stdout",
     "output_type": "stream",
     "text": [
      "Printing original list : \n",
      "0 1 2 3 4 \n",
      "printing the list after the removal of first element....\n",
      "0 1 3 4 "
     ]
    }
   ],
   "source": [
    "list=[0,1,2,3,4]\n",
    "print(\"Printing original list : \");\n",
    "\n",
    "for i in list:\n",
    "    print(i,end=\" \")\n",
    "list.remove(2)\n",
    "print(\"\\nprinting the list after the removal of first element....\")\n",
    "\n",
    "for i in list:\n",
    "    print(i,end=\" \")"
   ]
  },
  {
   "cell_type": "markdown",
   "id": "f6d2cd0f",
   "metadata": {},
   "source": [
    "# Python List Built-in functions\n",
    "Python provides the following built-in functions, which can be used with the lists.\n",
    "\n",
    "Let's have a look at the few list examples.\n",
    "\n",
    "Example: 1- Write the program to remove the duplicate element of the list"
   ]
  },
  {
   "cell_type": "code",
   "execution_count": 162,
   "id": "a6fcad62",
   "metadata": {},
   "outputs": [
    {
     "name": "stdout",
     "output_type": "stream",
     "text": [
      "[1, 2, 3, 55, 98, 65, 13, 29]\n"
     ]
    }
   ],
   "source": [
    "list1 = [1,2,2,3,55,98,65,65,13,29]  \n",
    "# Declare an empty list that will store unique values  \n",
    "\n",
    "list2=[]\n",
    "\n",
    "for i in list1:\n",
    "    if i not in list2:\n",
    "        list2.append(i)\n",
    "print(list2)"
   ]
  },
  {
   "cell_type": "code",
   "execution_count": 163,
   "id": "a71c0a00",
   "metadata": {},
   "outputs": [
    {
     "data": {
      "text/plain": [
       "[1, 2, 2, 3, 55, 98, 65, 65, 13, 29]"
      ]
     },
     "execution_count": 163,
     "metadata": {},
     "output_type": "execute_result"
    }
   ],
   "source": [
    "list1"
   ]
  },
  {
   "cell_type": "markdown",
   "id": "33e2fb68",
   "metadata": {},
   "source": [
    "Example:2- Write a program to find the sum of the element in the list."
   ]
  },
  {
   "cell_type": "code",
   "execution_count": 164,
   "id": "7befcff2",
   "metadata": {},
   "outputs": [
    {
     "name": "stdout",
     "output_type": "stream",
     "text": [
      "The sum is 67\n"
     ]
    }
   ],
   "source": [
    "list1=[3,4,5,9,10,12,24]\n",
    "\n",
    "sum=0\n",
    "\n",
    "for i in list1:\n",
    "    sum=sum+i\n",
    "    \n",
    "print(\"The sum is\",sum)"
   ]
  },
  {
   "cell_type": "markdown",
   "id": "70f22960",
   "metadata": {},
   "source": [
    "Example: 3- Write the program to find the lists consist of at least one common element."
   ]
  },
  {
   "cell_type": "code",
   "execution_count": 168,
   "id": "f166c26e",
   "metadata": {},
   "outputs": [
    {
     "name": "stdout",
     "output_type": "stream",
     "text": [
      "The common element is:  2\n"
     ]
    }
   ],
   "source": [
    "list1=[1,2,3,4,5,6]\n",
    "list2=[7,8,9,2,10]\n",
    "for i in list1:\n",
    "    for y in list2:\n",
    "        if i==y:\n",
    "            print(\"The common element is: \",i)"
   ]
  },
  {
   "cell_type": "markdown",
   "id": "44f48af9",
   "metadata": {},
   "source": [
    "-----------------------"
   ]
  },
  {
   "cell_type": "markdown",
   "id": "2d102829",
   "metadata": {},
   "source": [
    "-----------------------"
   ]
  },
  {
   "cell_type": "markdown",
   "id": "a6b03e8d",
   "metadata": {},
   "source": [
    "# Python Tuple\n",
    "Python Tuple is used to store the sequence of immutable Python objects. The tuple is similar to lists since the value of the items stored in the list can be changed, whereas the tuple is immutable, and the value of the items stored in the tuple cannot be changed.\n",
    "\n",
    "# Creating a tuple\n",
    "A tuple can be written as the collection of comma-separated (,) values enclosed with the small () brackets. The parentheses are optional but it is good practice to use.\n",
    "\n",
    "A tuple can be defined as follows."
   ]
  },
  {
   "cell_type": "code",
   "execution_count": 171,
   "id": "cea017a6",
   "metadata": {},
   "outputs": [
    {
     "name": "stdout",
     "output_type": "stream",
     "text": [
      "<class 'tuple'>\n",
      "<class 'tuple'>\n",
      "<class 'tuple'>\n"
     ]
    }
   ],
   "source": [
    "T1=(101,\"Peter\",22)\n",
    "T2=(\"Apple\",\"Banana\",\"Orange\")\n",
    "T3=10,20,30,40,50\n",
    "\n",
    "print(type(T1))\n",
    "print(type(T2))\n",
    "print(type(T3))"
   ]
  },
  {
   "cell_type": "code",
   "execution_count": 172,
   "id": "c57faa62",
   "metadata": {},
   "outputs": [
    {
     "name": "stdout",
     "output_type": "stream",
     "text": [
      "<class 'str'>\n"
     ]
    }
   ],
   "source": [
    "tup1=(\"Data Trained\")\n",
    "print(type(tup1))"
   ]
  },
  {
   "cell_type": "code",
   "execution_count": 173,
   "id": "641d6cd2",
   "metadata": {},
   "outputs": [
    {
     "data": {
      "text/plain": [
       "tuple"
      ]
     },
     "execution_count": 173,
     "metadata": {},
     "output_type": "execute_result"
    }
   ],
   "source": [
    "# creating tuple with single function\n",
    "tup2=(\"Data Trained\",)\n",
    "type(tup2)"
   ]
  },
  {
   "cell_type": "markdown",
   "id": "72254c0f",
   "metadata": {},
   "source": [
    "A tuple is indexed in the same way as the lists. The items in the tuple can be accessed by using their specific index value.\n",
    "\n",
    "Consider the following example of tuple:"
   ]
  },
  {
   "cell_type": "code",
   "execution_count": 178,
   "id": "013f6c7a",
   "metadata": {},
   "outputs": [
    {
     "name": "stdout",
     "output_type": "stream",
     "text": [
      "(10, 20, 30, 40, 50, 60)\n",
      "tuple1[0]=10\n",
      "tuple1[1]=20\n",
      "tuple1[2]=30\n",
      "tuple1[3]=40\n",
      "tuple1[4]=50\n",
      "tuple1[5]=60\n"
     ]
    }
   ],
   "source": [
    "tuple1=(10,20,30,40,50,60)\n",
    "print(tuple1)\n",
    "count=0\n",
    "\n",
    "for i in tuple1:\n",
    "    print(\"tuple1[%d]=%d\"%(count,i))\n",
    "    count=count+1"
   ]
  },
  {
   "cell_type": "code",
   "execution_count": 182,
   "id": "8e257198",
   "metadata": {},
   "outputs": [
    {
     "name": "stdout",
     "output_type": "stream",
     "text": [
      "Enter the tuple elements.....2\n"
     ]
    },
    {
     "ename": "TypeError",
     "evalue": "'tuple' object is not callable",
     "output_type": "error",
     "traceback": [
      "\u001b[1;31m---------------------------------------------------------------------------\u001b[0m",
      "\u001b[1;31mTypeError\u001b[0m                                 Traceback (most recent call last)",
      "Input \u001b[1;32mIn [182]\u001b[0m, in \u001b[0;36m<cell line: 3>\u001b[1;34m()\u001b[0m\n\u001b[0;32m      1\u001b[0m \u001b[38;5;66;03m#example2\u001b[39;00m\n\u001b[1;32m----> 3\u001b[0m tuple1\u001b[38;5;241m=\u001b[39m\u001b[38;5;28;43mtuple\u001b[39;49m\u001b[43m(\u001b[49m\u001b[38;5;28;43minput\u001b[39;49m\u001b[43m(\u001b[49m\u001b[38;5;124;43m\"\u001b[39;49m\u001b[38;5;124;43mEnter the tuple elements.....\u001b[39;49m\u001b[38;5;124;43m\"\u001b[39;49m\u001b[43m)\u001b[49m\u001b[43m)\u001b[49m\n\u001b[0;32m      4\u001b[0m \u001b[38;5;28mprint\u001b[39m(tuple1)\n\u001b[0;32m      5\u001b[0m count\u001b[38;5;241m=\u001b[39m\u001b[38;5;241m0\u001b[39m\n",
      "\u001b[1;31mTypeError\u001b[0m: 'tuple' object is not callable"
     ]
    }
   ],
   "source": [
    "#example2\n",
    "\n",
    "tuple1=tuple(input(\"Enter the tuple elements.....\"))\n",
    "print(tuple1)\n",
    "count=0\n",
    "\n",
    "for i in tuple1:\n",
    "    print(\"tuple1[%d]=%s\"%(count,i))\n",
    "    count=count+1"
   ]
  },
  {
   "cell_type": "code",
   "execution_count": 185,
   "id": "e1ae27ab",
   "metadata": {},
   "outputs": [
    {
     "name": "stdout",
     "output_type": "stream",
     "text": [
      "Enter the tuple elements ...2\n"
     ]
    },
    {
     "ename": "TypeError",
     "evalue": "'tuple' object is not callable",
     "output_type": "error",
     "traceback": [
      "\u001b[1;31m---------------------------------------------------------------------------\u001b[0m",
      "\u001b[1;31mTypeError\u001b[0m                                 Traceback (most recent call last)",
      "Input \u001b[1;32mIn [185]\u001b[0m, in \u001b[0;36m<cell line: 1>\u001b[1;34m()\u001b[0m\n\u001b[1;32m----> 1\u001b[0m tuple1 \u001b[38;5;241m=\u001b[39m \u001b[38;5;28;43mtuple\u001b[39;49m\u001b[43m(\u001b[49m\u001b[38;5;28;43minput\u001b[39;49m\u001b[43m(\u001b[49m\u001b[38;5;124;43m\"\u001b[39;49m\u001b[38;5;124;43mEnter the tuple elements ...\u001b[39;49m\u001b[38;5;124;43m\"\u001b[39;49m\u001b[43m)\u001b[49m\u001b[43m)\u001b[49m  \n\u001b[0;32m      2\u001b[0m \u001b[38;5;28mprint\u001b[39m(tuple1)    \n\u001b[0;32m      3\u001b[0m count \u001b[38;5;241m=\u001b[39m \u001b[38;5;241m0\u001b[39m    \n",
      "\u001b[1;31mTypeError\u001b[0m: 'tuple' object is not callable"
     ]
    }
   ],
   "source": [
    "tuple1 = tuple(input(\"Enter the tuple elements ...\"))  \n",
    "print(tuple1)    \n",
    "count = 0    \n",
    "for i in tuple1:    \n",
    "    print(\"tuple1[%d] = %s\"%(count, i))   \n",
    "    count = count+1 "
   ]
  },
  {
   "cell_type": "markdown",
   "id": "8afe029a",
   "metadata": {},
   "source": [
    "# Tuple indexing and slicing\n",
    "A tuple is indexed in the same way as the lists. The items in the tuple can be accessed by using their specific index value.The indexing in the tuple starts from 0 and goes to length(tuple) - 1.\n",
    "\n",
    "The items in the tuple can be accessed by using the index [] operator. Python also allows us to use the colon operator to access multiple items in the tuple."
   ]
  },
  {
   "cell_type": "code",
   "execution_count": 186,
   "id": "326b9cf2",
   "metadata": {},
   "outputs": [
    {
     "name": "stdout",
     "output_type": "stream",
     "text": [
      "1\n",
      "2\n",
      "3\n"
     ]
    }
   ],
   "source": [
    "tup=(1,2,3,4,5,6,7)\n",
    "\n",
    "print(tup[0])\n",
    "print(tup[1])\n",
    "print(tup[2])\n"
   ]
  },
  {
   "cell_type": "code",
   "execution_count": 187,
   "id": "a0111b61",
   "metadata": {},
   "outputs": [
    {
     "ename": "IndexError",
     "evalue": "tuple index out of range",
     "output_type": "error",
     "traceback": [
      "\u001b[1;31m---------------------------------------------------------------------------\u001b[0m",
      "\u001b[1;31mIndexError\u001b[0m                                Traceback (most recent call last)",
      "Input \u001b[1;32mIn [187]\u001b[0m, in \u001b[0;36m<cell line: 1>\u001b[1;34m()\u001b[0m\n\u001b[1;32m----> 1\u001b[0m \u001b[38;5;28mprint\u001b[39m(\u001b[43mtup\u001b[49m\u001b[43m[\u001b[49m\u001b[38;5;241;43m8\u001b[39;49m\u001b[43m]\u001b[49m)\n",
      "\u001b[1;31mIndexError\u001b[0m: tuple index out of range"
     ]
    }
   ],
   "source": [
    "print(tup[8])"
   ]
  },
  {
   "cell_type": "code",
   "execution_count": 188,
   "id": "9927c9f0",
   "metadata": {},
   "outputs": [
    {
     "name": "stdout",
     "output_type": "stream",
     "text": [
      "(2, 3, 4, 5, 6, 7)\n",
      "(1, 2, 3, 4)\n",
      "(2, 3, 4, 5)\n",
      "(1, 3, 5)\n"
     ]
    }
   ],
   "source": [
    "tuple=(1,2,3,4,5,6,7)\n",
    "\n",
    "print(tuple[1:])\n",
    "print(tuple[:4])\n",
    "print(tuple[1:5])\n",
    "print(tuple[0:6:2])"
   ]
  },
  {
   "cell_type": "markdown",
   "id": "3decacd2",
   "metadata": {},
   "source": [
    "# Negative Indexing\n",
    "The tuple element can also access by using negative indexing. The index of -1 denotes the rightmost element and -2 to the second last item and so on.\n",
    "\n",
    "The elements from left to right are traversed using the negative indexing. Consider the following example:"
   ]
  },
  {
   "cell_type": "code",
   "execution_count": 189,
   "id": "bb97945e",
   "metadata": {},
   "outputs": [
    {
     "name": "stdout",
     "output_type": "stream",
     "text": [
      "5\n",
      "2\n",
      "(3, 4)\n",
      "(1, 2, 3, 4)\n",
      "4\n"
     ]
    }
   ],
   "source": [
    "tuple=(1,2,3,4,5)\n",
    "print(tuple[-1])\n",
    "print(tuple[-4])\n",
    "print(tuple[-3:-1])\n",
    "print(tuple[:-1])\n",
    "print(tuple[-2])"
   ]
  },
  {
   "cell_type": "markdown",
   "id": "8aa2808f",
   "metadata": {},
   "source": [
    "# Deleting Tuple\n",
    "Unlike lists, the tuple items cannot be deleted by using the del keyword as tuples are immutable. To delete an entire tuple, we can use the del keyword with the tuple name.\n",
    "\n",
    "Consider the following example."
   ]
  },
  {
   "cell_type": "code",
   "execution_count": 191,
   "id": "ce213154",
   "metadata": {},
   "outputs": [
    {
     "name": "stdout",
     "output_type": "stream",
     "text": [
      "(1, 2, 3, 4, 5, 6)\n"
     ]
    },
    {
     "ename": "NameError",
     "evalue": "name 'tuple1' is not defined",
     "output_type": "error",
     "traceback": [
      "\u001b[1;31m---------------------------------------------------------------------------\u001b[0m",
      "\u001b[1;31mNameError\u001b[0m                                 Traceback (most recent call last)",
      "Input \u001b[1;32mIn [191]\u001b[0m, in \u001b[0;36m<cell line: 5>\u001b[1;34m()\u001b[0m\n\u001b[0;32m      2\u001b[0m \u001b[38;5;28mprint\u001b[39m(tuple1)\n\u001b[0;32m      4\u001b[0m \u001b[38;5;28;01mdel\u001b[39;00m tuple1\n\u001b[1;32m----> 5\u001b[0m \u001b[38;5;28mprint\u001b[39m(\u001b[43mtuple1\u001b[49m)\n",
      "\u001b[1;31mNameError\u001b[0m: name 'tuple1' is not defined"
     ]
    }
   ],
   "source": [
    "tuple1=(1,2,3,4,5,6)\n",
    "print(tuple1)\n",
    "\n",
    "del tuple1\n",
    "print(tuple1)"
   ]
  },
  {
   "cell_type": "markdown",
   "id": "711eac1a",
   "metadata": {},
   "source": [
    "# Basic Tuple operations\n",
    "The operators like concatenation (+), repetition (*), Membership (in) works in the same way as they work with the list. Consider the following table for more detail.\n",
    "\n",
    "Let's say Tuple t = (1, 2, 3, 4, 5) and Tuple t1 = (6, 7, 8, 9) are declared.\n",
    "\n",
    "Python Tuple inbuilt functions\n",
    "\n",
    "Function Description\n",
    "\n",
    "- cmp(tuple1, tuple2) It compares two tuples and returns true if tuple1 is greater than tuple2 otherwise false.\n",
    "\n",
    "- len(tuple) It calculates the length of the tuple.\n",
    "\n",
    "- max(tuple) It returns the maximum element of the tuple\n",
    "\n",
    "- min(tuple) It returns the minimum element of the tuple.\n",
    "\n",
    "- tuple(seq) It converts the specified sequence to the tupl\n",
    "\n",
    "# Where use tuple?\n",
    "Using tuple instead of list is used in the following scenario.\n",
    "\n",
    "Using tuple instead of list gives us a clear idea that tuple data is constant and must not be changed.\n",
    "\n",
    "Tuple can simulate a dictionary without keys. Consider the following nested structure, which can be used as a dictionary."
   ]
  },
  {
   "cell_type": "code",
   "execution_count": 192,
   "id": "ae1ed1d2",
   "metadata": {},
   "outputs": [
    {
     "data": {
      "text/plain": [
       "[(101, 'Jhon', 22), (102, 'Mike', 28), (103, 'Dustin', 30)]"
      ]
     },
     "execution_count": 192,
     "metadata": {},
     "output_type": "execute_result"
    }
   ],
   "source": [
    "[(101,'Jhon',22),(102,'Mike',28),(103,'Dustin',30)]"
   ]
  },
  {
   "cell_type": "markdown",
   "id": "6550cb1e",
   "metadata": {},
   "source": [
    "-----------------------"
   ]
  },
  {
   "cell_type": "markdown",
   "id": "ee6b9374",
   "metadata": {},
   "source": [
    "-----------------------"
   ]
  },
  {
   "cell_type": "markdown",
   "id": "f980cb06",
   "metadata": {},
   "source": [
    "# Python Set\n",
    "\n",
    "- A Python set is the collection of the unordered items. \n",
    "- Each element in the set must be unique, immutable, and the sets remove the duplicate elements. \n",
    "- Sets are mutable which means we can modify it after its creation.\n",
    "\n",
    "Unlike other collections in Python, there is no index attached to the elements of the set, i.e., we cannot directly access any element of the set by the index. However, we can print them all together, or we can get the list of elements by looping through the set.\n",
    "\n",
    "Creating a set\n",
    "The set can be created by enclosing the comma-separated immutable items with the curly braces {}. Python also provides the set() method, which can be used to create the set by the passed sequence."
   ]
  },
  {
   "cell_type": "code",
   "execution_count": 193,
   "id": "e1648805",
   "metadata": {},
   "outputs": [
    {
     "name": "stdout",
     "output_type": "stream",
     "text": [
      "{'Thursday', 'Tuesday', 'Saturday', 'Sunday', 'Wednesday', 'Friday', 'Monday'}\n"
     ]
    }
   ],
   "source": [
    "Day={'Monday','Tuesday','Wednesday','Thursday','Friday','Saturday','Sunday'}\n",
    "print(Day)"
   ]
  },
  {
   "cell_type": "code",
   "execution_count": 194,
   "id": "1d18edb1",
   "metadata": {},
   "outputs": [
    {
     "name": "stdout",
     "output_type": "stream",
     "text": [
      "<class 'set'>\n",
      "\n",
      "Looping Through the set elements.....\n",
      "\n",
      "\n",
      "Thursday\n",
      "Tuesday\n",
      "Saturday\n",
      "Sunday\n",
      "Wednesday\n",
      "Friday\n",
      "Monday\n"
     ]
    }
   ],
   "source": [
    "print(type(Day),end=\"\\n\\n\")\n",
    "print(\"Looping Through the set elements.....\\n\\n\")\n",
    "\n",
    "for i in Day:\n",
    "    print(i)"
   ]
  },
  {
   "cell_type": "code",
   "execution_count": 196,
   "id": "62c25731",
   "metadata": {},
   "outputs": [
    {
     "name": "stdout",
     "output_type": "stream",
     "text": [
      "{'Wednesday', 'Monday', 'Friday', 'Thursday', 'Tuesday', 'Saturday', 'Sunday'}\n",
      "\n",
      " <class 'set'>\n",
      "looping through the set elements ... \n",
      "Wednesday\n",
      "Monday\n",
      "Friday\n",
      "Thursday\n",
      "Tuesday\n",
      "Saturday\n",
      "Sunday\n"
     ]
    }
   ],
   "source": [
    "Days = set([\"Monday\", \"Tuesday\", \"Wednesday\", \"Thursday\", \"Friday\", \"Saturday\", \"Sunday\"])    \n",
    "print(Days)    \n",
    "print(\"\\n\",type(Days))    \n",
    "print(\"looping through the set elements ... \")    \n",
    "for i in Days:    \n",
    "    print(i) \n"
   ]
  },
  {
   "cell_type": "code",
   "execution_count": 198,
   "id": "1064ef8f",
   "metadata": {},
   "outputs": [
    {
     "name": "stdout",
     "output_type": "stream",
     "text": [
      "<class 'set'>\n"
     ]
    }
   ],
   "source": [
    "# Creating a set which have immutable elements\n",
    "\n",
    "set1={1,2,3,\"DataTrained\",20.5,14}\n",
    "print(type(set1))"
   ]
  },
  {
   "cell_type": "code",
   "execution_count": 201,
   "id": "0fdad321",
   "metadata": {},
   "outputs": [
    {
     "ename": "TypeError",
     "evalue": "unhashable type: 'list'",
     "output_type": "error",
     "traceback": [
      "\u001b[1;31m---------------------------------------------------------------------------\u001b[0m",
      "\u001b[1;31mTypeError\u001b[0m                                 Traceback (most recent call last)",
      "Input \u001b[1;32mIn [201]\u001b[0m, in \u001b[0;36m<cell line: 1>\u001b[1;34m()\u001b[0m\n\u001b[1;32m----> 1\u001b[0m set2\u001b[38;5;241m=\u001b[39m{\u001b[38;5;241m1\u001b[39m,\u001b[38;5;241m2\u001b[39m,\u001b[38;5;241m3\u001b[39m,[\u001b[38;5;124m'\u001b[39m\u001b[38;5;124mDataTrained\u001b[39m\u001b[38;5;124m'\u001b[39m,\u001b[38;5;241m4\u001b[39m]}\n\u001b[0;32m      2\u001b[0m \u001b[38;5;28mtype\u001b[39m(set2)\n",
      "\u001b[1;31mTypeError\u001b[0m: unhashable type: 'list'"
     ]
    }
   ],
   "source": [
    "set2={1,2,3,['DataTrained',4]}\n",
    "type(set2)"
   ]
  },
  {
   "cell_type": "markdown",
   "id": "21914655",
   "metadata": {},
   "source": [
    "In the above code, we have created two sets, the set set1 have immutable elements and set2 have one mutable element as a list. While checking the type of set2, it raised an error, which means set can contain only immutable elements.\n",
    "\n",
    "Creating an empty set is a bit different because empty curly {} braces are also used to create a dictionary as well. So Python provides the set() method used without an argument to create an empty set."
   ]
  },
  {
   "cell_type": "code",
   "execution_count": 203,
   "id": "17404fe0",
   "metadata": {},
   "outputs": [
    {
     "name": "stdout",
     "output_type": "stream",
     "text": [
      "<class 'dict'>\n"
     ]
    },
    {
     "ename": "TypeError",
     "evalue": "'set' object is not callable",
     "output_type": "error",
     "traceback": [
      "\u001b[1;31m---------------------------------------------------------------------------\u001b[0m",
      "\u001b[1;31mTypeError\u001b[0m                                 Traceback (most recent call last)",
      "Input \u001b[1;32mIn [203]\u001b[0m, in \u001b[0;36m<cell line: 6>\u001b[1;34m()\u001b[0m\n\u001b[0;32m      3\u001b[0m \u001b[38;5;28mprint\u001b[39m(\u001b[38;5;28mtype\u001b[39m(set3))  \n\u001b[0;32m      5\u001b[0m \u001b[38;5;66;03m# Empty set using set() function  \u001b[39;00m\n\u001b[1;32m----> 6\u001b[0m set4 \u001b[38;5;241m=\u001b[39m \u001b[38;5;28;43mset\u001b[39;49m\u001b[43m(\u001b[49m\u001b[43m)\u001b[49m  \n\u001b[0;32m      7\u001b[0m \u001b[38;5;28mprint\u001b[39m(\u001b[38;5;28mtype\u001b[39m(set4))\n",
      "\u001b[1;31mTypeError\u001b[0m: 'set' object is not callable"
     ]
    }
   ],
   "source": [
    "# Empty curly braces will create dictionary  \n",
    "set3 = {}  \n",
    "print(type(set3))  \n",
    "  \n",
    "# Empty set using set() function  \n",
    "set4 = set()  \n",
    "print(type(set4))  "
   ]
  },
  {
   "cell_type": "markdown",
   "id": "8a6ffbbe",
   "metadata": {},
   "source": [
    "Let's see what happened if we provide the duplicate element to the set"
   ]
  },
  {
   "cell_type": "code",
   "execution_count": 204,
   "id": "52fbe962",
   "metadata": {},
   "outputs": [
    {
     "name": "stdout",
     "output_type": "stream",
     "text": [
      "check Duplicated values {1, 2, 4, 5, 8, 9, 10}\n"
     ]
    }
   ],
   "source": [
    "set5 = {1,2,4,4,5,8,9,9,10} \n",
    "print(\"check Duplicated values\",set5)"
   ]
  },
  {
   "cell_type": "markdown",
   "id": "9783d157",
   "metadata": {},
   "source": [
    "# Adding items to the set\n",
    "Python provides the add() method and update() method which can be used to add some particular item to the set. The add() method is used to add a single element whereas the update() method is used to add multiple elements to the set. Consider the following example.\n",
    "\n",
    "## Example: 1 - Using add() method"
   ]
  },
  {
   "cell_type": "code",
   "execution_count": 207,
   "id": "bdfa7bcb",
   "metadata": {},
   "outputs": [
    {
     "ename": "TypeError",
     "evalue": "'set' object is not callable",
     "output_type": "error",
     "traceback": [
      "\u001b[1;31m---------------------------------------------------------------------------\u001b[0m",
      "\u001b[1;31mTypeError\u001b[0m                                 Traceback (most recent call last)",
      "Input \u001b[1;32mIn [207]\u001b[0m, in \u001b[0;36m<cell line: 1>\u001b[1;34m()\u001b[0m\n\u001b[1;32m----> 1\u001b[0m Months\u001b[38;5;241m=\u001b[39m\u001b[38;5;28;43mset\u001b[39;49m\u001b[43m(\u001b[49m\u001b[38;5;124;43m'\u001b[39;49m\u001b[38;5;124;43mJan\u001b[39;49m\u001b[38;5;124;43m'\u001b[39;49m\u001b[43m,\u001b[49m\u001b[38;5;124;43m'\u001b[39;49m\u001b[38;5;124;43mFeb\u001b[39;49m\u001b[38;5;124;43m'\u001b[39;49m\u001b[43m,\u001b[49m\u001b[38;5;124;43m'\u001b[39;49m\u001b[38;5;124;43mMarch\u001b[39;49m\u001b[38;5;124;43m'\u001b[39;49m\u001b[43m,\u001b[49m\u001b[38;5;124;43m'\u001b[39;49m\u001b[38;5;124;43mApril\u001b[39;49m\u001b[38;5;124;43m'\u001b[39;49m\u001b[43m,\u001b[49m\u001b[38;5;124;43m'\u001b[39;49m\u001b[38;5;124;43mMay\u001b[39;49m\u001b[38;5;124;43m'\u001b[39;49m\u001b[43m,\u001b[49m\u001b[38;5;124;43m'\u001b[39;49m\u001b[38;5;124;43mJune\u001b[39;49m\u001b[38;5;124;43m'\u001b[39;49m\u001b[43m,\u001b[49m\u001b[38;5;124;43m'\u001b[39;49m\u001b[38;5;124;43mJuly\u001b[39;49m\u001b[38;5;124;43m'\u001b[39;49m\u001b[43m)\u001b[49m\n\u001b[0;32m      2\u001b[0m \u001b[38;5;28mprint\u001b[39m(\u001b[38;5;124m\"\u001b[39m\u001b[38;5;130;01m\\n\u001b[39;00m\u001b[38;5;124mprinting the original\u001b[39m\u001b[38;5;124m\"\u001b[39m,Months)\n",
      "\u001b[1;31mTypeError\u001b[0m: 'set' object is not callable"
     ]
    }
   ],
   "source": [
    "Months=set'Jan','Feb','March','April','May','June','July')\n",
    "print(\"\\nprinting the original\",Months)"
   ]
  },
  {
   "cell_type": "code",
   "execution_count": 211,
   "id": "0ee799aa",
   "metadata": {},
   "outputs": [
    {
     "name": "stdout",
     "output_type": "stream",
     "text": [
      "\n",
      "printing the original set ... \n"
     ]
    },
    {
     "data": {
      "text/plain": [
       "{'April', 'February', 'January', 'June', 'March', 'May'}"
      ]
     },
     "execution_count": 211,
     "metadata": {},
     "output_type": "execute_result"
    }
   ],
   "source": [
    "Months = {\"January\",\"February\", \"March\", \"April\", \"May\", \"June\"}    \n",
    "print(\"\\nprinting the original set ... \")    \n",
    "Months    "
   ]
  },
  {
   "cell_type": "code",
   "execution_count": 212,
   "id": "fcf8303a",
   "metadata": {},
   "outputs": [],
   "source": [
    "Months.update(['July','August','September','October'])"
   ]
  },
  {
   "cell_type": "code",
   "execution_count": 214,
   "id": "ee672dc1",
   "metadata": {},
   "outputs": [
    {
     "name": "stdout",
     "output_type": "stream",
     "text": [
      "{'August', 'March', 'January', 'October', 'February', 'April', 'July', 'May', 'June', 'September'}\n"
     ]
    }
   ],
   "source": [
    "print(Months)"
   ]
  },
  {
   "cell_type": "code",
   "execution_count": 215,
   "id": "16b5bb13",
   "metadata": {},
   "outputs": [
    {
     "name": "stdout",
     "output_type": "stream",
     "text": [
      "\n",
      "Adding other months to the set...\n"
     ]
    }
   ],
   "source": [
    "print(\"\\nAdding other months to the set...\");    \n",
    "Months.add(\"December\");"
   ]
  },
  {
   "cell_type": "code",
   "execution_count": 216,
   "id": "25cbb8d1",
   "metadata": {},
   "outputs": [
    {
     "name": "stdout",
     "output_type": "stream",
     "text": [
      "{'August', 'March', 'January', 'October', 'February', 'April', 'July', 'May', 'June', 'December', 'September'}\n"
     ]
    }
   ],
   "source": [
    "print(Months)"
   ]
  },
  {
   "cell_type": "markdown",
   "id": "e9377160",
   "metadata": {},
   "source": [
    "# Removing items from the set\n",
    "Python provides the discard() method and remove() method which can be used to remove the items from the set. The difference between these function, using discard() function if the item does not exist in the set then the set remain unchanged whereas remove() method will through an error.\n",
    "\n",
    "Consider the following example.\n",
    "\n",
    "Example-1 Using discard() method"
   ]
  },
  {
   "cell_type": "code",
   "execution_count": 217,
   "id": "70e38343",
   "metadata": {},
   "outputs": [],
   "source": [
    "Months.discard(\"December\")\n",
    "Months.discard(\"May\")"
   ]
  },
  {
   "cell_type": "markdown",
   "id": "f684646b",
   "metadata": {},
   "source": [
    "We can also use the pop() method to remove the item. Generally, the pop() method will always remove the last item but the set is unordered, we can't determine which element will be popped from set.\n",
    "\n",
    "Consider the following example to remove the item from the set using pop() metho"
   ]
  },
  {
   "cell_type": "code",
   "execution_count": 219,
   "id": "8674240a",
   "metadata": {},
   "outputs": [
    {
     "name": "stdout",
     "output_type": "stream",
     "text": [
      "\n",
      "printing the original set ... \n",
      "{'August', 'March', 'January', 'October', 'February', 'April', 'July', 'June', 'September'}\n",
      "\n",
      "Removing some months from the set...\n",
      "\n",
      "Printing the modified set...\n",
      "{'January', 'October', 'February', 'April', 'July', 'June', 'September'}\n"
     ]
    }
   ],
   "source": [
    "  print(\"\\nprinting the original set ... \")    \n",
    "print(Months)    \n",
    "print(\"\\nRemoving some months from the set...\");    \n",
    "Months.pop();    \n",
    "Months.pop();    \n",
    "print(\"\\nPrinting the modified set...\");    \n",
    "print(Months)    "
   ]
  },
  {
   "cell_type": "markdown",
   "id": "d74af961",
   "metadata": {},
   "source": [
    "# Difference between discard() and remove()\n",
    "Despite the fact that discard() and remove() method both perform the same task, There is one main difference between discard() and remove().\n",
    "\n",
    "If the key to be deleted from the set using discard() doesn't exist in the set, the Python will not give the error. The program maintains its control flow.\n",
    "\n",
    "On the other hand, if the item to be deleted from the set using remove() doesn't exist in the set, the Python will raise an error.\n",
    "\n",
    "Consider the following example."
   ]
  },
  {
   "cell_type": "code",
   "execution_count": 220,
   "id": "2cb9bee5",
   "metadata": {},
   "outputs": [
    {
     "name": "stdout",
     "output_type": "stream",
     "text": [
      "\n",
      "printing the original set ... \n",
      "{'February', 'April', 'May', 'June', 'January', 'March'}\n",
      "\n",
      "Removing items through discard() method...\n",
      "\n",
      "printing the modified set...\n",
      "{'February', 'April', 'May', 'June', 'January', 'March'}\n"
     ]
    }
   ],
   "source": [
    "Months = {\"January\",\"February\", \"March\", \"April\", \"May\", \"June\"}   \n",
    "print(\"\\nprinting the original set ... \")    \n",
    "print(Months)    \n",
    "print(\"\\nRemoving items through discard() method...\");    \n",
    "Months.discard(\"Feb\"); #will not give an error although the key feb is not available in the set    \n",
    "print(\"\\nprinting the modified set...\")    \n",
    "print(Months)"
   ]
  },
  {
   "cell_type": "code",
   "execution_count": 222,
   "id": "9f593f1f",
   "metadata": {},
   "outputs": [
    {
     "name": "stdout",
     "output_type": "stream",
     "text": [
      "\n",
      "Removing items through remove() method...\n",
      "\n",
      "Printing the modified set...\n",
      "{'April', 'May', 'June', 'January', 'March'}\n"
     ]
    }
   ],
   "source": [
    "print(\"\\nRemoving items through remove() method...\");    \n",
    "Months.remove(\"February\") #will give an error as the key jan is not available in the set.     \n",
    "print(\"\\nPrinting the modified set...\")    \n",
    "print(Months)"
   ]
  },
  {
   "cell_type": "markdown",
   "id": "eb9a3b24",
   "metadata": {},
   "source": [
    "# Python Set Operations\n",
    "Set can be performed mathematical operation such as union, intersection, difference, and symmetric difference. Python provides the facility to carry out these operations with operators or methods. We describe these operations as follows.\n",
    "\n",
    "# Union of two Sets\n",
    "The union of two sets is calculated by using the pipe (|) operator. The union of the two sets contains all the items that are present in both the sets.\n",
    "\n",
    "Consider the following example to calculate the union of two sets.\n",
    "\n",
    "Example 1: using union | operato"
   ]
  },
  {
   "cell_type": "code",
   "execution_count": 223,
   "id": "9fc4ac62",
   "metadata": {},
   "outputs": [
    {
     "name": "stdout",
     "output_type": "stream",
     "text": [
      "{'Thursday', 'Friday', 'Tuesday', 'Sunday', 'Saturday', 'Wednesday', 'Monday'}\n"
     ]
    }
   ],
   "source": [
    "Days1 = {\"Monday\",\"Tuesday\",\"Wednesday\",\"Thursday\", \"Sunday\"}    \n",
    "Days2 = {\"Friday\",\"Saturday\",\"Sunday\"}    \n",
    "\n",
    "print(Days1|Days2) #printing the union of the sets "
   ]
  },
  {
   "cell_type": "markdown",
   "id": "1c51a5a3",
   "metadata": {},
   "source": [
    "# Python Dictionary\n",
    "Python Dictionary is used to store the data in a key-value pair format. The dictionary is the data type in Python, which can simulate the real-life data arrangement where some specific value exists for some particular key. It is the mutable data-structure. The dictionary is defined into element Keys and values.\n",
    "\n",
    "- Keys must be a single element\n",
    "- Value can be any type such as list, tuple, integer, etc.\n",
    "\n",
    "In other words, we can say that a dictionary is the collection of key-value pairs where the value can be any Python object. In contrast, the keys are the immutable Python object, i.e., Numbers, string, or tuple.\n",
    "\n",
    "## Creating the dictionary\n",
    "The dictionary can be created by using multiple key-value pairs enclosed with the curly brackets {}, and each key is separated from its value by the colon (:).The syntax to define the dictionary is given below."
   ]
  },
  {
   "cell_type": "code",
   "execution_count": 1,
   "id": "b61466ab",
   "metadata": {},
   "outputs": [
    {
     "data": {
      "text/plain": [
       "{'Name': 'Tom', 'Age': 22}"
      ]
     },
     "execution_count": 1,
     "metadata": {},
     "output_type": "execute_result"
    }
   ],
   "source": [
    "Dict={\"Name\":\"Tom\",\"Age\":22}\n",
    "Dict"
   ]
  },
  {
   "cell_type": "code",
   "execution_count": 3,
   "id": "1e2c9da5",
   "metadata": {},
   "outputs": [
    {
     "data": {
      "text/plain": [
       "dict_keys(['Name', 'Age'])"
      ]
     },
     "execution_count": 3,
     "metadata": {},
     "output_type": "execute_result"
    }
   ],
   "source": [
    "# keys\n",
    "Dict.keys()"
   ]
  },
  {
   "cell_type": "code",
   "execution_count": 4,
   "id": "baee9c84",
   "metadata": {},
   "outputs": [
    {
     "data": {
      "text/plain": [
       "dict_values(['Tom', 22])"
      ]
     },
     "execution_count": 4,
     "metadata": {},
     "output_type": "execute_result"
    }
   ],
   "source": [
    "Dict.values()"
   ]
  },
  {
   "cell_type": "code",
   "execution_count": 5,
   "id": "10e3b598",
   "metadata": {},
   "outputs": [
    {
     "data": {
      "text/plain": [
       "dict_items([('Name', 'Tom'), ('Age', 22)])"
      ]
     },
     "execution_count": 5,
     "metadata": {},
     "output_type": "execute_result"
    }
   ],
   "source": [
    "Dict.items()"
   ]
  },
  {
   "cell_type": "code",
   "execution_count": 7,
   "id": "d8761b66",
   "metadata": {},
   "outputs": [
    {
     "name": "stdout",
     "output_type": "stream",
     "text": [
      "Type Shows  <class 'dict'> \n",
      "\n",
      "Data in Employees\n",
      "{'Name': 'John', 'Age': 29, 'Salary': 25000, 'Company': 'Google'}\n"
     ]
    }
   ],
   "source": [
    "Employee={\"Name\":\"John\",\"Age\":29,\"Salary\":25000,\"Company\":\"Google\"}\n",
    "print(\"Type Shows \",type(Employee),\"\\n\")\n",
    "print(\"Data in Employees\")\n",
    "print(Employee)"
   ]
  },
  {
   "cell_type": "markdown",
   "id": "0f554845",
   "metadata": {},
   "source": [
    "Python provides the built-in function dict() method which is also used to create dictionary. The empty curly braces {} is used to create empty dictionary."
   ]
  },
  {
   "cell_type": "code",
   "execution_count": 8,
   "id": "5003b33c",
   "metadata": {},
   "outputs": [
    {
     "name": "stdout",
     "output_type": "stream",
     "text": [
      "Empty Dictionary\n",
      "{}\n"
     ]
    }
   ],
   "source": [
    "Dict={}\n",
    "print(\"Empty Dictionary\")\n",
    "print(Dict)"
   ]
  },
  {
   "cell_type": "code",
   "execution_count": 9,
   "id": "c1350f95",
   "metadata": {},
   "outputs": [
    {
     "name": "stdout",
     "output_type": "stream",
     "text": [
      "\n",
      "Create Dictionary by using dict():\n",
      "{1: 'Data', 2: 'Train', 3: 'ed'}\n"
     ]
    }
   ],
   "source": [
    "# creating a Dictionary\n",
    "# with dict() method\n",
    "\n",
    "Dict=dict({1:'Data',2:'Train',3:'ed'})\n",
    "print(\"\\nCreate Dictionary by using dict():\")\n",
    "print(Dict)"
   ]
  },
  {
   "cell_type": "code",
   "execution_count": 10,
   "id": "457f816f",
   "metadata": {},
   "outputs": [
    {
     "name": "stdout",
     "output_type": "stream",
     "text": [
      "\n",
      "Dictionary with each item as a pair: \n",
      "{1: 'Devansh', 2: 'Sharma'}\n"
     ]
    }
   ],
   "source": [
    "# creating a Dictionary\n",
    "\n",
    "Dict=dict([(1,'Devansh'),(2,'Sharma')])\n",
    "print(\"\\nDictionary with each item as a pair: \")\n",
    "print(Dict)"
   ]
  },
  {
   "cell_type": "markdown",
   "id": "8506740d",
   "metadata": {},
   "source": [
    "# Accessing the Dictionary Values\n",
    "\n",
    "We have discussed how the data can be accessed in the list and turple by using the indexing.\n",
    "\n",
    "However, the values can be accessed in the dictionary by using the keys as keys are unique in the dictionary.\n",
    "\n",
    "The dictionary values can be accessed in the following way."
   ]
  },
  {
   "cell_type": "code",
   "execution_count": 12,
   "id": "4782928a",
   "metadata": {},
   "outputs": [
    {
     "name": "stdout",
     "output_type": "stream",
     "text": [
      "<class 'dict'>\n",
      "Name :John\n",
      "Age : 29\n",
      "Salary:25000\n",
      "Company:Google\n"
     ]
    }
   ],
   "source": [
    "Employee={\"Name\":\"John\",\"Age\":29,\"Salary\":25000,\"Company\":\"Google\"}\n",
    "print(type(Employee))\n",
    "\n",
    "print(\"Name :%s\" %Employee[\"Name\"])\n",
    "print(\"Age : %s\" %Employee[\"Age\"])\n",
    "print(\"Salary:%s\"%Employee[\"Salary\"])\n",
    "print(\"Company:%s\"%Employee[\"Company\"])"
   ]
  },
  {
   "cell_type": "code",
   "execution_count": 13,
   "id": "3e7f3484",
   "metadata": {},
   "outputs": [
    {
     "data": {
      "text/plain": [
       "'John'"
      ]
     },
     "execution_count": 13,
     "metadata": {},
     "output_type": "execute_result"
    }
   ],
   "source": [
    "Employee['Name']"
   ]
  },
  {
   "cell_type": "markdown",
   "id": "89aeb798",
   "metadata": {},
   "source": [
    "## Adding Values to dict"
   ]
  },
  {
   "cell_type": "markdown",
   "id": "f66c8408",
   "metadata": {},
   "source": [
    "Dictionary is:\n",
    "\n",
    "1. Mutable\n",
    "2. Values can be updated as Dict[key]\n",
    "3. The update() is used to update the existing \n",
    "\n",
    "NOTE: If the key- value already present in the dictionary, the value gets updated. Otherwise, the new keys added in the dictionary.\n",
    "\n"
   ]
  },
  {
   "cell_type": "code",
   "execution_count": 2,
   "id": "4aa7ce1a",
   "metadata": {},
   "outputs": [
    {
     "name": "stdout",
     "output_type": "stream",
     "text": [
      "Empty Dict\n",
      "{}\n",
      "\n",
      " Dictionary after Adding 3 elements: \n",
      "{0: 'Peter', 2: 'Joseph', 3: 'Ricky'}\n",
      "\n",
      "Dictionary after adding 3 elements: \n",
      "{0: 'Peter', 2: 'Joseph', 3: 'Ricky', 'Emp_age': (20, 33, 24)}\n",
      "\n",
      "Updated Key Value: \n",
      "{0: 'Peter', 2: 'Joseph', 3: 'Data Tained', 'Emp_age': (20, 33, 24)}\n"
     ]
    }
   ],
   "source": [
    "# creating empty dict\n",
    "dict1={}\n",
    "print(\"Empty Dict\")\n",
    "print(dict1)\n",
    "\n",
    "# Adding Elements to dictionary one at a time\n",
    "dict1[0]=\"Peter\"\n",
    "dict1[2]=\"Joseph\"\n",
    "dict1[3]=\"Ricky\"\n",
    "print(\"\\n Dictionary after Adding 3 elements: \")\n",
    "print(dict1)\n",
    "\n",
    "#Adding set of values\n",
    "# with a single key\n",
    "# The Emp_ages doesn't exist to dictionary\n",
    "\n",
    "dict1['Emp_age']=20,33,24\n",
    "print(\"\\nDictionary after adding 3 elements: \")\n",
    "print(dict1)\n",
    "\n",
    "#Updating existing Key's Values\n",
    "dict1[3]=\"Data Tained\"\n",
    "print(\"\\nUpdated Key Value: \")\n",
    "print(dict1)"
   ]
  },
  {
   "cell_type": "code",
   "execution_count": 4,
   "id": "06dfa82f",
   "metadata": {},
   "outputs": [
    {
     "name": "stdout",
     "output_type": "stream",
     "text": [
      "<class 'dict'>\n",
      "Printing Employee data.....\n",
      "{'Name': 'John', 'Age': 29, 'Salary': 25000, 'Company': 'Google'}\n",
      "Enter the Details of the new employees.... \n",
      "\n",
      "Name: a\n",
      "Age: 20\n",
      "Salary: 2000\n",
      "Company: ebt\n",
      "printing the new data\n",
      "{'Name': 'a', 'Age': 20, 'Salary': 2000, 'Company': 'ebt'}\n"
     ]
    }
   ],
   "source": [
    "# Example-2 :\n",
    "\n",
    "Employee={\"Name\":\"John\",\"Age\":29,\"Salary\":25000,\"Company\":\"Google\"}\n",
    "print(type(Employee))\n",
    "print(\"Printing Employee data.....\")\n",
    "print(Employee)\n",
    "print(\"Enter the Details of the new employees....\",\"\\n\")\n",
    "\n",
    "# adding by input taken from user\n",
    "\n",
    "Employee['Name']=input(\"Name: \")\n",
    "Employee[\"Age\"]=int(input(\"Age: \"))\n",
    "Employee['Salary']=int(input(\"Salary: \"))\n",
    "Employee['Company']=input(\"Company: \")\n",
    "print(\"printing the new data\")\n",
    "\n",
    "print(Employee)"
   ]
  },
  {
   "cell_type": "markdown",
   "id": "c9f8ac57",
   "metadata": {},
   "source": [
    "## Deleting Elements using Del keywords\n",
    "\n",
    "- The items of the dictionary can be deleted by using the del keyword as given below"
   ]
  },
  {
   "cell_type": "code",
   "execution_count": 6,
   "id": "05335779",
   "metadata": {},
   "outputs": [
    {
     "name": "stdout",
     "output_type": "stream",
     "text": [
      "<class 'dict'> \n",
      "\n",
      "printing Employee Data\n",
      " {'Name': 'John', 'Age': 29, 'Salary': 25000, 'Company': 'Google'}\n",
      "\n",
      "Deleting Employee Data\n",
      "printing the modified information\n",
      " {'Age': 29, 'Salary': 25000}\n",
      "deleting the dictionary: Employee \n"
     ]
    }
   ],
   "source": [
    "Employee={\"Name\":\"John\",\"Age\":29,\"Salary\":25000,\"Company\":\"Google\"}\n",
    "print(type(Employee),\"\\n\")\n",
    "\n",
    "print(\"printing Employee Data\\n\",Employee)\n",
    "\n",
    "print(\"\\nDeleting Employee Data\")\n",
    "del Employee['Name']\n",
    "del Employee['Company']\n",
    "\n",
    "print(\"printing the modified information\\n\",Employee)\n",
    "\n",
    "print(\"deleting the dictionary: Employee \");\n",
    "del Employee"
   ]
  },
  {
   "cell_type": "code",
   "execution_count": 8,
   "id": "860f263a",
   "metadata": {},
   "outputs": [
    {
     "name": "stdout",
     "output_type": "stream",
     "text": [
      "Lets try to print it again\n",
      "Table doesn't exhist\n"
     ]
    }
   ],
   "source": [
    "print(\"Lets try to print it again\")\n",
    "\n",
    "try:\n",
    "    print(Employee)\n",
    "except:\n",
    "    print(\"Table doesn't exhist\")"
   ]
  },
  {
   "cell_type": "markdown",
   "id": "77c41b0a",
   "metadata": {},
   "source": [
    "The last print Statement in the above code, it raised an error because we tried to print the Employee Dictionary that already deleted.\n",
    "- Using pop() method\n",
    "\n",
    "The pop() method accepts that key as an argument and romove the associated value. Consider the following Example."
   ]
  },
  {
   "cell_type": "code",
   "execution_count": 12,
   "id": "a4da19a0",
   "metadata": {},
   "outputs": [
    {
     "name": "stdout",
     "output_type": "stream",
     "text": [
      "Printing Dict {1: 'Data Trained', 2: 'Peter', 3: 'Thomas'} \n",
      "\n",
      "After Removal of element\n",
      " {1: 'Data Trained', 2: 'Peter'}\n"
     ]
    }
   ],
   "source": [
    "# Creating a Dictionary\n",
    "\n",
    "Dict={1:\"Data Trained\",2:\"Peter\",3:\"Thomas\"}\n",
    "\n",
    "print(\"Printing Dict\",Dict,\"\\n\")\n",
    "\n",
    "# using pop method\n",
    "pop_ele=Dict.pop(3)\n",
    "\n",
    "print(\"After Removal of element\\n\",Dict)"
   ]
  },
  {
   "cell_type": "markdown",
   "id": "d2f78cb8",
   "metadata": {},
   "source": [
    "Python also provides a built-in methods popitem() and clear() method for remove elements from the dictionary. The popitem() removes the arbitrary element from a dictionary, whereas the clear() method removes all elements to the whole dictionary."
   ]
  },
  {
   "cell_type": "markdown",
   "id": "20424fa5",
   "metadata": {},
   "source": [
    "# Iterating Dictionary\n",
    "\n",
    "- A dictionary can be iterated using for loops as given below.\n",
    "\n",
    "Example 1"
   ]
  },
  {
   "cell_type": "code",
   "execution_count": 14,
   "id": "0e7ae2b0",
   "metadata": {},
   "outputs": [
    {
     "name": "stdout",
     "output_type": "stream",
     "text": [
      "Name\n",
      "Age\n",
      "Salary\n",
      "Company\n"
     ]
    }
   ],
   "source": [
    "# For loop to print all the keys of the dictionary\n",
    "\n",
    "Employee={\"Name\":\"John\",\"Age\":29,\"Salary\":25000,\"Company\":\"Google\"}\n",
    "\n",
    "for keys in Employee:\n",
    "    print(keys)"
   ]
  },
  {
   "cell_type": "code",
   "execution_count": 15,
   "id": "300c4f33",
   "metadata": {},
   "outputs": [
    {
     "name": "stdout",
     "output_type": "stream",
     "text": [
      "John\n",
      "29\n",
      "25000\n",
      "Google\n"
     ]
    }
   ],
   "source": [
    "# Example 2: for loop to print all  the values of the dictionary\n",
    "\n",
    "Employee={\"Name\":\"John\",\"Age\":29,\"Salary\":25000,\"Company\":\"Google\"}\n",
    "\n",
    "for values in  Employee:\n",
    "    print(Employee[values])"
   ]
  },
  {
   "cell_type": "code",
   "execution_count": 16,
   "id": "3baaca82",
   "metadata": {},
   "outputs": [
    {
     "name": "stdout",
     "output_type": "stream",
     "text": [
      "John\n",
      "29\n",
      "25000\n",
      "Google\n"
     ]
    }
   ],
   "source": [
    "# Example -3 : for loop to print the values of the dictionary by using values() method.\n",
    "\n",
    "Employee={\"Name\":\"John\",\"Age\":29,\"Salary\":25000,\"Company\":\"Google\"}\n",
    " \n",
    "for value in Employee.values():\n",
    "    print(value)"
   ]
  },
  {
   "cell_type": "code",
   "execution_count": 17,
   "id": "3dff758a",
   "metadata": {},
   "outputs": [
    {
     "name": "stdout",
     "output_type": "stream",
     "text": [
      "Name\n",
      "Age\n",
      "Salary\n",
      "Company\n"
     ]
    }
   ],
   "source": [
    "# Example -4 : for loop to print the values of the dictionary by using keys() method.\n",
    "\n",
    "Employee={\"Name\":\"John\",\"Age\":29,\"Salary\":25000,\"Company\":\"Google\"}\n",
    " \n",
    "for key in Employee.keys():\n",
    "    print(key)"
   ]
  },
  {
   "cell_type": "markdown",
   "id": "1b4c9535",
   "metadata": {},
   "source": [
    "# Properties of Dictionary keys"
   ]
  },
  {
   "cell_type": "markdown",
   "id": "8f03cb96",
   "metadata": {},
   "source": [
    "1. In the dictionary, we cannot store multiple values for the same keys, if we pass more than one values for a single key, then the value which is last assigned is considered as the values of the key.\n",
    "\n",
    "Consider the following example:"
   ]
  },
  {
   "cell_type": "code",
   "execution_count": 19,
   "id": "9c48e051",
   "metadata": {},
   "outputs": [
    {
     "name": "stdout",
     "output_type": "stream",
     "text": [
      "Employee\n",
      "Name  :  John\n",
      "Age  :  29\n",
      "Salary  :  25000\n",
      "Comapny  :  Google\n"
     ]
    }
   ],
   "source": [
    "Employee={\"Name\":\"John\",\"Age\":29,\"Salary\":25000,\"Comapny\":\"Google\",\"Name\":\"John\"}\n",
    "print(\"Employee\")\n",
    "\n",
    "for key,values in Employee.items():\n",
    "    print(key,\" : \",values)"
   ]
  },
  {
   "cell_type": "markdown",
   "id": "155ccd1a",
   "metadata": {},
   "source": [
    "2. In python, the key cannot be any mutable object. We can use numbers, strings, or tuples as the key, but we cannot use any mutable object like the list as the key in the dictionary.\n",
    "\n",
    "Consider the following example."
   ]
  },
  {
   "cell_type": "code",
   "execution_count": 21,
   "id": "fcac0a5d",
   "metadata": {},
   "outputs": [
    {
     "ename": "TypeError",
     "evalue": "unhashable type: 'list'",
     "output_type": "error",
     "traceback": [
      "\u001b[1;31m---------------------------------------------------------------------------\u001b[0m",
      "\u001b[1;31mTypeError\u001b[0m                                 Traceback (most recent call last)",
      "Input \u001b[1;32mIn [21]\u001b[0m, in \u001b[0;36m<cell line: 1>\u001b[1;34m()\u001b[0m\n\u001b[1;32m----> 1\u001b[0m Employee\u001b[38;5;241m=\u001b[39m{\u001b[38;5;124m\"\u001b[39m\u001b[38;5;124mName\u001b[39m\u001b[38;5;124m\"\u001b[39m:\u001b[38;5;124m\"\u001b[39m\u001b[38;5;124mJohn\u001b[39m\u001b[38;5;124m\"\u001b[39m,\u001b[38;5;124m\"\u001b[39m\u001b[38;5;124mAge\u001b[39m\u001b[38;5;124m\"\u001b[39m:\u001b[38;5;241m29\u001b[39m,\u001b[38;5;124m\"\u001b[39m\u001b[38;5;124mSalary\u001b[39m\u001b[38;5;124m\"\u001b[39m:\u001b[38;5;241m2500\u001b[39m,\u001b[38;5;124m\"\u001b[39m\u001b[38;5;124mCompany\u001b[39m\u001b[38;5;124m\"\u001b[39m:\u001b[38;5;124m\"\u001b[39m\u001b[38;5;124mGoogle\u001b[39m\u001b[38;5;124m\"\u001b[39m,[\u001b[38;5;241m100\u001b[39m,\u001b[38;5;241m101\u001b[39m,\u001b[38;5;241m102\u001b[39m]:\u001b[38;5;124m\"\u001b[39m\u001b[38;5;124mDepartment\u001b[39m\u001b[38;5;124m\"\u001b[39m}\n\u001b[0;32m      3\u001b[0m \u001b[38;5;28mprint\u001b[39m(Employee)\n",
      "\u001b[1;31mTypeError\u001b[0m: unhashable type: 'list'"
     ]
    }
   ],
   "source": [
    "Employee={\"Name\":\"John\",\"Age\":29,\"Salary\":2500,\"Company\":\"Google\",[100,101,102]:\"Department\"}\n",
    "\n",
    "# shows error\n",
    "print(Employee)"
   ]
  },
  {
   "cell_type": "code",
   "execution_count": 22,
   "id": "413de2e0",
   "metadata": {},
   "outputs": [
    {
     "ename": "ValueError",
     "evalue": "too many values to unpack (expected 2)",
     "output_type": "error",
     "traceback": [
      "\u001b[1;31m---------------------------------------------------------------------------\u001b[0m",
      "\u001b[1;31mValueError\u001b[0m                                Traceback (most recent call last)",
      "Input \u001b[1;32mIn [22]\u001b[0m, in \u001b[0;36m<cell line: 1>\u001b[1;34m()\u001b[0m\n\u001b[1;32m----> 1\u001b[0m \u001b[38;5;28;01mfor\u001b[39;00m key,values \u001b[38;5;129;01min\u001b[39;00m Employee:\n\u001b[0;32m      2\u001b[0m     \u001b[38;5;28mprint\u001b[39m(key,\u001b[38;5;124m\"\u001b[39m\u001b[38;5;124m : \u001b[39m\u001b[38;5;124m\"\u001b[39m,values)\n",
      "\u001b[1;31mValueError\u001b[0m: too many values to unpack (expected 2)"
     ]
    }
   ],
   "source": [
    "for key,values in Employee:\n",
    "    print(key,\" : \",values)"
   ]
  },
  {
   "cell_type": "markdown",
   "id": "a3de81ab",
   "metadata": {},
   "source": [
    "# Built-in Dictionary functions\n",
    "\n",
    "- The built-in python dictionary methods along with the description are given below.\n",
    "\n"
   ]
  },
  {
   "cell_type": "markdown",
   "id": "9dee3cc8",
   "metadata": {},
   "source": [
    "-----------------"
   ]
  },
  {
   "cell_type": "code",
   "execution_count": null,
   "id": "93ad4e13",
   "metadata": {},
   "outputs": [],
   "source": []
  }
 ],
 "metadata": {
  "kernelspec": {
   "display_name": "Python 3 (ipykernel)",
   "language": "python",
   "name": "python3"
  },
  "language_info": {
   "codemirror_mode": {
    "name": "ipython",
    "version": 3
   },
   "file_extension": ".py",
   "mimetype": "text/x-python",
   "name": "python",
   "nbconvert_exporter": "python",
   "pygments_lexer": "ipython3",
   "version": "3.9.12"
  }
 },
 "nbformat": 4,
 "nbformat_minor": 5
}
