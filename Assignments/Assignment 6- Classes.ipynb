{
 "cells": [
  {
   "cell_type": "code",
   "execution_count": 2,
   "id": "cf75e683",
   "metadata": {},
   "outputs": [
    {
     "data": {
      "text/plain": [
       "3.0"
      ]
     },
     "execution_count": 2,
     "metadata": {},
     "output_type": "execute_result"
    }
   ],
   "source": [
    "# class\n",
    "class Complex:\n",
    "    def __init__(self,realpart,imagepart):\n",
    "        self.r=realpart\n",
    "        self.i=imagepart\n",
    "    \n",
    "x=Complex(3.0,-4.5)\n",
    "\n",
    "x.r #realpart"
   ]
  },
  {
   "cell_type": "code",
   "execution_count": 3,
   "id": "afa2624b",
   "metadata": {},
   "outputs": [
    {
     "data": {
      "text/plain": [
       "-4.5"
      ]
     },
     "execution_count": 3,
     "metadata": {},
     "output_type": "execute_result"
    }
   ],
   "source": [
    "x.i"
   ]
  },
  {
   "cell_type": "code",
   "execution_count": 5,
   "id": "82b481a2",
   "metadata": {},
   "outputs": [
    {
     "data": {
      "text/plain": [
       "'canine'"
      ]
     },
     "execution_count": 5,
     "metadata": {},
     "output_type": "execute_result"
    }
   ],
   "source": [
    "class Lion:\n",
    "    kind='canine' #global class\n",
    "    def __init__(self,name):\n",
    "        self.name=name\n",
    "\n",
    "        \n",
    "d=Lion('Fido') #instance called applied name\n",
    "e=Lion('Buddy')\n",
    "        \n",
    "d.kind #shared by all lion(global)  "
   ]
  },
  {
   "cell_type": "code",
   "execution_count": 6,
   "id": "f5aaeab5",
   "metadata": {},
   "outputs": [
    {
     "data": {
      "text/plain": [
       "'canine'"
      ]
     },
     "execution_count": 6,
     "metadata": {},
     "output_type": "execute_result"
    }
   ],
   "source": [
    "e.kind #(global variable)"
   ]
  },
  {
   "cell_type": "code",
   "execution_count": 7,
   "id": "32dc3d8a",
   "metadata": {},
   "outputs": [
    {
     "data": {
      "text/plain": [
       "'Fido'"
      ]
     },
     "execution_count": 7,
     "metadata": {},
     "output_type": "execute_result"
    }
   ],
   "source": [
    "d.name "
   ]
  },
  {
   "cell_type": "code",
   "execution_count": 8,
   "id": "745a9103",
   "metadata": {},
   "outputs": [
    {
     "data": {
      "text/plain": [
       "'Buddy'"
      ]
     },
     "execution_count": 8,
     "metadata": {},
     "output_type": "execute_result"
    }
   ],
   "source": [
    "e.name"
   ]
  },
  {
   "cell_type": "code",
   "execution_count": 24,
   "id": "96407b11",
   "metadata": {},
   "outputs": [],
   "source": [
    "class Pet:\n",
    "    \n",
    "    def __init__(self,name):\n",
    "        self.name=name\n",
    "        \n",
    "        self.tricks=[]# creates a new empty list for each dog\n",
    "        \n",
    "\n",
    "    def add_trick(self, trick):\n",
    "        self.tricks.append(trick)\n",
    "        \n",
    "            \n",
    "d=Pet('Fido')\n",
    "e=Pet('Buddy')"
   ]
  },
  {
   "cell_type": "code",
   "execution_count": 25,
   "id": "184524f6",
   "metadata": {},
   "outputs": [
    {
     "data": {
      "text/plain": [
       "'Fido'"
      ]
     },
     "execution_count": 25,
     "metadata": {},
     "output_type": "execute_result"
    }
   ],
   "source": [
    "d.name"
   ]
  },
  {
   "cell_type": "code",
   "execution_count": 26,
   "id": "7d33c938",
   "metadata": {},
   "outputs": [
    {
     "data": {
      "text/plain": [
       "'Buddy'"
      ]
     },
     "execution_count": 26,
     "metadata": {},
     "output_type": "execute_result"
    }
   ],
   "source": [
    "e.name"
   ]
  },
  {
   "cell_type": "code",
   "execution_count": 27,
   "id": "ddc277bf",
   "metadata": {},
   "outputs": [],
   "source": [
    "d.add_trick('roll over')"
   ]
  },
  {
   "cell_type": "code",
   "execution_count": 28,
   "id": "dd6d75e6",
   "metadata": {},
   "outputs": [],
   "source": [
    "e.add_trick(\"play dead\")"
   ]
  },
  {
   "cell_type": "code",
   "execution_count": 30,
   "id": "a65768bd",
   "metadata": {},
   "outputs": [
    {
     "data": {
      "text/plain": [
       "['roll over']"
      ]
     },
     "execution_count": 30,
     "metadata": {},
     "output_type": "execute_result"
    }
   ],
   "source": [
    "d.tricks"
   ]
  },
  {
   "cell_type": "code",
   "execution_count": 31,
   "id": "bf1aaecf",
   "metadata": {},
   "outputs": [
    {
     "data": {
      "text/plain": [
       "['play dead']"
      ]
     },
     "execution_count": 31,
     "metadata": {},
     "output_type": "execute_result"
    }
   ],
   "source": [
    "e.tricks"
   ]
  },
  {
   "cell_type": "markdown",
   "id": "0bbfa075",
   "metadata": {},
   "source": [
    "### In class Methods may call other methods by using method attributes of the self argument:"
   ]
  },
  {
   "cell_type": "code",
   "execution_count": 33,
   "id": "002c97a4",
   "metadata": {},
   "outputs": [],
   "source": [
    "class Bag:\n",
    "    def __init__(self):\n",
    "        self.data=[]\n",
    "    def add(self,x):\n",
    "        self.data.append(x)\n",
    "    def addtwice(self,x):\n",
    "        self.add(x)\n",
    "        self.add(x)\n",
    "        \n",
    "        \n",
    "bg=Bag()\n",
    "bg.addtwice(\"Cricket\")    "
   ]
  },
  {
   "cell_type": "markdown",
   "id": "9b321454",
   "metadata": {},
   "source": [
    "### File input/output operations"
   ]
  },
  {
   "cell_type": "code",
   "execution_count": 35,
   "id": "2a06a268",
   "metadata": {},
   "outputs": [
    {
     "name": "stdout",
     "output_type": "stream",
     "text": [
      "Please enter a number: fff\n",
      "OOPs! That was no valid number.Try Again....\n",
      "Please enter a number: 112\n"
     ]
    }
   ],
   "source": [
    "f= open(\"workfile.txt\",'w')# make workfile and write any content inside it\n",
    "with open(\"workfile.txt\") as f:\n",
    "    read_data=f.read()\n",
    "    \n",
    "# Exception Handling\n",
    "\n",
    "while True:\n",
    "    try:\n",
    "        x=int(input(\"Please enter a number: \"))\n",
    "        break\n",
    "    except ValueError:\n",
    "        print(\"OOPs! That was no valid number.Try Again....\")"
   ]
  },
  {
   "cell_type": "code",
   "execution_count": 36,
   "id": "54ce4e27",
   "metadata": {},
   "outputs": [
    {
     "data": {
      "text/plain": [
       "0.7071067811865476"
      ]
     },
     "execution_count": 36,
     "metadata": {},
     "output_type": "execute_result"
    }
   ],
   "source": [
    "import math\n",
    "\n",
    "math.cos(math.pi/4)"
   ]
  },
  {
   "cell_type": "code",
   "execution_count": 37,
   "id": "ae635cb1",
   "metadata": {},
   "outputs": [
    {
     "data": {
      "text/plain": [
       "10.0"
      ]
     },
     "execution_count": 37,
     "metadata": {},
     "output_type": "execute_result"
    }
   ],
   "source": [
    "math.log(1024,2)"
   ]
  },
  {
   "cell_type": "code",
   "execution_count": 40,
   "id": "be721867",
   "metadata": {},
   "outputs": [
    {
     "data": {
      "text/plain": [
       "1.6071428571428572"
      ]
     },
     "execution_count": 40,
     "metadata": {},
     "output_type": "execute_result"
    }
   ],
   "source": [
    "import statistics\n",
    "\n",
    "data=[2.75,1.75,1.25,0.25,0.5,1.25,3.5]\n",
    "\n",
    "statistics.mean(data)"
   ]
  },
  {
   "cell_type": "code",
   "execution_count": 41,
   "id": "02ae054d",
   "metadata": {},
   "outputs": [
    {
     "data": {
      "text/plain": [
       "1.25"
      ]
     },
     "execution_count": 41,
     "metadata": {},
     "output_type": "execute_result"
    }
   ],
   "source": [
    "statistics.median(data)"
   ]
  },
  {
   "cell_type": "code",
   "execution_count": 45,
   "id": "e33eb80d",
   "metadata": {},
   "outputs": [
    {
     "data": {
      "text/plain": [
       "[0, 1, 2, 3, 4, 5, 6, 7]"
      ]
     },
     "execution_count": 45,
     "metadata": {},
     "output_type": "execute_result"
    }
   ],
   "source": [
    "# Write a function to append the number 1 to 8 in a list using loop inside it.\n",
    "\n",
    "def append(n):\n",
    "    box=[]\n",
    "    for i in range(n,n+8):\n",
    "        box.append(i)\n",
    "        \n",
    "    return box\n",
    "\n",
    "append(0)"
   ]
  },
  {
   "cell_type": "code",
   "execution_count": 44,
   "id": "3383301a",
   "metadata": {},
   "outputs": [
    {
     "name": "stdout",
     "output_type": "stream",
     "text": [
      "[1, 2, 3, 4, 5, 6, 7]\n"
     ]
    }
   ],
   "source": [
    "def f1():\n",
    "    s=[]\n",
    "    for i in range(1,8):\n",
    "        s.append(i)\n",
    "    print(s)\n",
    "f1()"
   ]
  },
  {
   "cell_type": "markdown",
   "id": "af389a63",
   "metadata": {},
   "source": [
    "### Task: Write a function to generate the table by using user input."
   ]
  },
  {
   "cell_type": "code",
   "execution_count": 51,
   "id": "b0dc36b1",
   "metadata": {},
   "outputs": [
    {
     "name": "stdout",
     "output_type": "stream",
     "text": [
      "Enter any number to generate the table2\n",
      "2 * 1 = 2\n",
      "2 * 2 = 4\n",
      "2 * 3 = 6\n",
      "2 * 4 = 8\n",
      "2 * 5 = 10\n",
      "2 * 6 = 12\n",
      "2 * 7 = 14\n",
      "2 * 8 = 16\n",
      "2 * 9 = 18\n",
      "2 * 10 = 20\n"
     ]
    }
   ],
   "source": [
    "def f2():\n",
    "    p= int(input(\"Enter any number to generate the table\"))\n",
    "    for i in range(1,11):\n",
    "        print(p,\"*\",i,\"=\",p*i)\n",
    "        \n",
    "f2()"
   ]
  },
  {
   "cell_type": "markdown",
   "id": "ca80661f",
   "metadata": {},
   "source": [
    "### Task: Write a parametric function to pass user input values and find simple interest."
   ]
  },
  {
   "cell_type": "code",
   "execution_count": 56,
   "id": "01b8a5dd",
   "metadata": {},
   "outputs": [
    {
     "name": "stdout",
     "output_type": "stream",
     "text": [
      "Principle  100\n",
      "Rate  13\n",
      "Time  1\n",
      "Simple Intrest  13.0\n",
      "Amount  113.0\n"
     ]
    }
   ],
   "source": [
    "def si(p,r,t):\n",
    "    sip=(p*r*t)/100\n",
    "    print(\"Principle \",p)\n",
    "    print(\"Rate \",r)\n",
    "    print(\"Time \",t)\n",
    "    print(\"Simple Intrest \",sip)\n",
    "    print(\"Amount \",p+sip)\n",
    "    \n",
    "si(100,13,1)"
   ]
  },
  {
   "cell_type": "markdown",
   "id": "66ec2216",
   "metadata": {},
   "source": [
    "### Task: Write a function to take user input and append the data in a list."
   ]
  },
  {
   "cell_type": "code",
   "execution_count": 74,
   "id": "4f87cf22",
   "metadata": {},
   "outputs": [
    {
     "data": {
      "text/plain": [
       "[1]"
      ]
     },
     "execution_count": 74,
     "metadata": {},
     "output_type": "execute_result"
    }
   ],
   "source": [
    "def append(n):\n",
    "    s=[]\n",
    "    s.append(n)\n",
    "    return(s)\n",
    "    \n",
    "append(1)     "
   ]
  },
  {
   "cell_type": "code",
   "execution_count": 71,
   "id": "dc305309",
   "metadata": {},
   "outputs": [
    {
     "data": {
      "text/plain": [
       "[2]"
      ]
     },
     "execution_count": 71,
     "metadata": {},
     "output_type": "execute_result"
    }
   ],
   "source": [
    "append(2)"
   ]
  },
  {
   "cell_type": "code",
   "execution_count": 80,
   "id": "de4899d7",
   "metadata": {},
   "outputs": [
    {
     "name": "stdout",
     "output_type": "stream",
     "text": [
      "Enter value 1\n",
      "Enter value 2\n",
      "Enter value 3\n",
      "Enter value 4\n",
      "Enter value 5\n",
      "['1', '2', '3', '4', '5']\n"
     ]
    }
   ],
   "source": [
    "def s2():\n",
    "    s=[]\n",
    "    \n",
    "    for i in range(1,6):\n",
    "        p=input(\"Enter value \")\n",
    "        s.append(p)\n",
    "    print(s)\n",
    "s2()"
   ]
  }
 ],
 "metadata": {
  "kernelspec": {
   "display_name": "Python 3 (ipykernel)",
   "language": "python",
   "name": "python3"
  },
  "language_info": {
   "codemirror_mode": {
    "name": "ipython",
    "version": 3
   },
   "file_extension": ".py",
   "mimetype": "text/x-python",
   "name": "python",
   "nbconvert_exporter": "python",
   "pygments_lexer": "ipython3",
   "version": "3.9.12"
  }
 },
 "nbformat": 4,
 "nbformat_minor": 5
}
