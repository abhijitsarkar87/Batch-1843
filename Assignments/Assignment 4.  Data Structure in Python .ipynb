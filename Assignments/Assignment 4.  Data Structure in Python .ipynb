{
 "cells": [
  {
   "cell_type": "code",
   "execution_count": 2,
   "id": "49b3eb9d",
   "metadata": {},
   "outputs": [
    {
     "name": "stdout",
     "output_type": "stream",
     "text": [
      "0 1 2 3 "
     ]
    }
   ],
   "source": [
    "# Loops/if\n",
    "\n",
    "x=0\n",
    "# define a while loop\n",
    "\n",
    "while (x<4):\n",
    "    print(x,end=\" \")\n",
    "    \n",
    "    x=x+1 #increment"
   ]
  },
  {
   "cell_type": "markdown",
   "id": "66c6ec8b",
   "metadata": {},
   "source": [
    "### Print First 10 natural numbers using while loop"
   ]
  },
  {
   "cell_type": "code",
   "execution_count": 4,
   "id": "293becaf",
   "metadata": {},
   "outputs": [
    {
     "name": "stdout",
     "output_type": "stream",
     "text": [
      "1 2 3 4 5 6 7 8 9 10 "
     ]
    }
   ],
   "source": [
    "# program 1:Print first 10 natural numbers\n",
    "\n",
    "i=1\n",
    "\n",
    "while i<=10:\n",
    "    print(i,end=\" \")\n",
    "    \n",
    "    i=i+1"
   ]
  },
  {
   "cell_type": "code",
   "execution_count": 6,
   "id": "9cd2a2cc",
   "metadata": {},
   "outputs": [
    {
     "name": "stdout",
     "output_type": "stream",
     "text": [
      "2 3 4 5 6 "
     ]
    }
   ],
   "source": [
    "for i in range(2,7):\n",
    "    print(i,end=\" \")"
   ]
  },
  {
   "cell_type": "code",
   "execution_count": 8,
   "id": "2cc355d7",
   "metadata": {},
   "outputs": [
    {
     "name": "stdout",
     "output_type": "stream",
     "text": [
      "Jan Feb Mar April May June "
     ]
    }
   ],
   "source": [
    "Months=[\"Jan\",\"Feb\",\"Mar\",\"April\",\"May\",\"June\"]\n",
    "\n",
    "for m in Months:\n",
    "    print(m,end=\" \")"
   ]
  },
  {
   "cell_type": "code",
   "execution_count": 10,
   "id": "7efe2014",
   "metadata": {},
   "outputs": [
    {
     "name": "stdout",
     "output_type": "stream",
     "text": [
      "cat\n",
      "window\n",
      "defenestrate\n"
     ]
    }
   ],
   "source": [
    "# Measure Some Strings:\n",
    "\n",
    "words=['cat','window','defenestrate']\n",
    "\n",
    "for w in words:\n",
    "    print(w)"
   ]
  },
  {
   "cell_type": "code",
   "execution_count": 11,
   "id": "5aea36d8",
   "metadata": {},
   "outputs": [
    {
     "name": "stdout",
     "output_type": "stream",
     "text": [
      "cat 3\n",
      "window 6\n",
      "defenestrate 12\n"
     ]
    }
   ],
   "source": [
    "for w in words:\n",
    "    print(w,len(w))"
   ]
  },
  {
   "cell_type": "code",
   "execution_count": 12,
   "id": "a7fbd987",
   "metadata": {},
   "outputs": [
    {
     "data": {
      "text/plain": [
       "range(5, 10)"
      ]
     },
     "execution_count": 12,
     "metadata": {},
     "output_type": "execute_result"
    }
   ],
   "source": [
    "range(5,10)"
   ]
  },
  {
   "cell_type": "code",
   "execution_count": 13,
   "id": "57905828",
   "metadata": {},
   "outputs": [
    {
     "data": {
      "text/plain": [
       "range(0, 10, 3)"
      ]
     },
     "execution_count": 13,
     "metadata": {},
     "output_type": "execute_result"
    }
   ],
   "source": [
    "range(0,10,3)"
   ]
  },
  {
   "cell_type": "code",
   "execution_count": 14,
   "id": "a3f6c39b",
   "metadata": {},
   "outputs": [
    {
     "data": {
      "text/plain": [
       "[0, 1, 2, 3, 4, 5, 6, 7, 8]"
      ]
     },
     "execution_count": 14,
     "metadata": {},
     "output_type": "execute_result"
    }
   ],
   "source": [
    "list(range(9))"
   ]
  },
  {
   "cell_type": "code",
   "execution_count": 16,
   "id": "e1243543",
   "metadata": {},
   "outputs": [
    {
     "name": "stdout",
     "output_type": "stream",
     "text": [
      "0 1 2 3 4 "
     ]
    }
   ],
   "source": [
    "a=[\"Marry\",\"Had\",\"a\",\"little\",\"lamb\"]\n",
    "\n",
    "for i in range(len(a)):\n",
    "    print(i,end=\" \")"
   ]
  },
  {
   "cell_type": "code",
   "execution_count": 17,
   "id": "e0401c94",
   "metadata": {},
   "outputs": [
    {
     "name": "stdout",
     "output_type": "stream",
     "text": [
      "x is greater than y\n"
     ]
    }
   ],
   "source": [
    "x=8\n",
    "y=4\n",
    "\n",
    "if(x<y):\n",
    "    st=\"x is less than y\"\n",
    "    \n",
    "else:\n",
    "    st=\"x is greater than y\"\n",
    "print(st)"
   ]
  },
  {
   "cell_type": "code",
   "execution_count": 18,
   "id": "03f012dd",
   "metadata": {},
   "outputs": [
    {
     "name": "stdout",
     "output_type": "stream",
     "text": [
      "Please enter an integer: 42\n"
     ]
    }
   ],
   "source": [
    "x=int(input(\"Please enter an integer: \"))\n"
   ]
  },
  {
   "cell_type": "code",
   "execution_count": 19,
   "id": "19a99dc6",
   "metadata": {},
   "outputs": [
    {
     "name": "stdout",
     "output_type": "stream",
     "text": [
      "More\n"
     ]
    }
   ],
   "source": [
    "if x<0:\n",
    "    x=0\n",
    "    print(\"Negative changed to zero\")\n",
    "elif x==0:\n",
    "    print(\"zero\")\n",
    "elif x==1:\n",
    "    print(\"Single\")\n",
    "else:\n",
    "    print(\"More\")"
   ]
  },
  {
   "cell_type": "markdown",
   "id": "1045b8c5",
   "metadata": {},
   "source": [
    "### Write a program using if-elif with different country value and total values."
   ]
  },
  {
   "cell_type": "code",
   "execution_count": 2,
   "id": "b35efbe1",
   "metadata": {},
   "outputs": [
    {
     "name": "stdout",
     "output_type": "stream",
     "text": [
      "Free\n"
     ]
    }
   ],
   "source": [
    "total=100\n",
    "#country=\"US\"\n",
    "country=\"AU\"\n",
    "\n",
    "if country==\"US\":\n",
    "    if total<=50:\n",
    "        print(\"Shipping Cost is $50\")\n",
    "    elif total <=100:\n",
    "        print(\"Shipping Cost is $25\")\n",
    "    \n",
    "    elif total <=150:\n",
    "        print(\"Shipping Cost $5\")\n",
    "    else:\n",
    "        print(\"Free\")\n",
    "\n",
    "    \n",
    "if country==\"AU\":\n",
    "    if total<=50:\n",
    "        print(\"Shipping cost is $100\")\n",
    "        \n",
    "    else:\n",
    "        print(\"Free\")"
   ]
  },
  {
   "cell_type": "code",
   "execution_count": 6,
   "id": "d3daa92a",
   "metadata": {},
   "outputs": [
    {
     "name": "stdout",
     "output_type": "stream",
     "text": [
      "Number stands nor Prime nor composite 1\n",
      "Found Even Number 2\n",
      "odd 3\n",
      "Found Even Number 4\n",
      "odd 5\n",
      "Found Even Number 6\n",
      "odd 7\n",
      "Found Even Number 8\n",
      "odd 9\n"
     ]
    }
   ],
   "source": [
    "# write a program to find even or odd using for loop /range function.\n",
    "\n",
    "for i in range(1,10):\n",
    "    if i%2==0:\n",
    "        print(\"Found Even Number\",i)\n",
    "    elif i==1:\n",
    "        print(\"Number stands nor Prime nor composite\",i)\n",
    "    else:\n",
    "        print(\"odd\",i)"
   ]
  },
  {
   "cell_type": "markdown",
   "id": "d8df2522",
   "metadata": {},
   "source": [
    "# Continue"
   ]
  },
  {
   "cell_type": "code",
   "execution_count": 8,
   "id": "285b9783",
   "metadata": {},
   "outputs": [
    {
     "name": "stdout",
     "output_type": "stream",
     "text": [
      "odd Number 1\n",
      "Evn Numb 2\n",
      "odd Number 3\n",
      "Evn Numb 4\n",
      "Evn Numb 6\n",
      "odd Number 7\n",
      "Evn Numb 8\n",
      "odd Number 9\n",
      "Evn Numb 10\n",
      "odd Number 11\n",
      "Evn Numb 12\n",
      "odd Number 13\n",
      "Evn Numb 14\n",
      "Evn Numb 16\n",
      "odd Number 17\n",
      "Evn Numb 18\n",
      "odd Number 19\n"
     ]
    }
   ],
   "source": [
    "# write two different loops for break if x is even number and continue when the number is divide by 5.\n",
    "for i in range(1,20):\n",
    "    if i%2==0:\n",
    "        print(\"Evn Numb\",i)\n",
    "        \n",
    "    elif i%5==0:\n",
    "        continue\n",
    "        \n",
    "    else:\n",
    "        print(\"odd Number\",i)"
   ]
  },
  {
   "cell_type": "markdown",
   "id": "cd086a49",
   "metadata": {},
   "source": [
    "# Break loop"
   ]
  },
  {
   "cell_type": "code",
   "execution_count": 14,
   "id": "a33dc67e",
   "metadata": {},
   "outputs": [
    {
     "name": "stdout",
     "output_type": "stream",
     "text": [
      "1\n",
      "2\n",
      "3\n",
      "4\n"
     ]
    }
   ],
   "source": [
    "for x in range (1,10):\n",
    "    if (x == 5): \n",
    "        break\n",
    "    print(x)"
   ]
  },
  {
   "cell_type": "code",
   "execution_count": 12,
   "id": "2b8093b6",
   "metadata": {},
   "outputs": [
    {
     "name": "stdout",
     "output_type": "stream",
     "text": [
      "11\n",
      "12\n",
      "13\n",
      "14\n",
      "16\n",
      "17\n",
      "18\n",
      "19\n"
     ]
    }
   ],
   "source": [
    "# use the break and continue statements\n",
    "\n",
    "for x in range (10,20): #if (x == 15): break\n",
    "    if (x % 5 == 0) :\n",
    "        continue\n",
    "    print(x)"
   ]
  },
  {
   "cell_type": "code",
   "execution_count": 15,
   "id": "acb2b5ec",
   "metadata": {},
   "outputs": [
    {
     "name": "stdout",
     "output_type": "stream",
     "text": [
      "Display numbers divisible by 5 from a list  5\n",
      "Display numbers divisible by 5 from a list  10\n",
      "Display numbers divisible by 5 from a list  15\n"
     ]
    }
   ],
   "source": [
    "# Display numbers divisible by 5 from a list.Iterate the given list of numbers and print only those numbers which are divisible by 5.\n",
    "\n",
    "for i in list(range(1,20)):\n",
    "    if i%5==0:\n",
    "        print(\"Display numbers divisible by 5 from a list \",i)\n",
    "    else:\n",
    "        continue"
   ]
  },
  {
   "cell_type": "code",
   "execution_count": 16,
   "id": "00eb3e01",
   "metadata": {},
   "outputs": [
    {
     "name": "stdout",
     "output_type": "stream",
     "text": [
      "Given List : [10, 20, 33, 46, 55]\n",
      "Divisible by 5 :\n",
      "10\n",
      "20\n",
      "55\n"
     ]
    }
   ],
   "source": [
    "numlist =[10,20,33,46,55]\n",
    "\n",
    "print(\"Given List :\",numlist)\n",
    "print(\"Divisible by 5 :\")\n",
    "\n",
    "for num in numlist:\n",
    "    if num%5==0:\n",
    "        print(num)"
   ]
  },
  {
   "cell_type": "code",
   "execution_count": 21,
   "id": "6dc722f3",
   "metadata": {},
   "outputs": [
    {
     "name": "stdout",
     "output_type": "stream",
     "text": [
      "Enter number 5\n",
      "\n",
      "\n",
      "Sum is:  15\n"
     ]
    }
   ],
   "source": [
    "# Calculate the sum of all numbers from 1 to a given number\n",
    "\n",
    "# s: store the sum of all numbers from 1 to a given number\n",
    "\n",
    "s=0\n",
    "n=int(input(\"Enter number \"))\n",
    "\n",
    "# run loop n times\n",
    "# stop: n+1 (because range never include stop number in result)\n",
    "\n",
    "for i in range(1,n+1,1):\n",
    "    # add current numbers to sum variable\n",
    "    \n",
    "    s=s+i\n",
    "    \n",
    "print(\"\\n\")\n",
    "\n",
    "print(\"Sum is: \",s)\n",
    "\n",
    "# 1+2+3+4+5"
   ]
  },
  {
   "cell_type": "markdown",
   "id": "d2bca2ba",
   "metadata": {},
   "source": [
    "# Multiplication table"
   ]
  },
  {
   "cell_type": "code",
   "execution_count": 25,
   "id": "33cdb085",
   "metadata": {},
   "outputs": [
    {
     "name": "stdout",
     "output_type": "stream",
     "text": [
      "2 * 1 = 2\n",
      "2 * 2 = 4\n",
      "2 * 3 = 6\n",
      "2 * 4 = 8\n",
      "2 * 5 = 10\n",
      "2 * 6 = 12\n",
      "2 * 7 = 14\n",
      "2 * 8 = 16\n",
      "2 * 9 = 18\n",
      "2 * 10 = 20\n"
     ]
    }
   ],
   "source": [
    "# Write a program to print multiplication table of a given number\n",
    "\n",
    "n=2\n",
    "# stop=11(because range never include stop number in result)\n",
    "# run loop 10 times\n",
    "\n",
    "for i in range(1,11,1):\n",
    "    #2*i(current number)\n",
    "    \n",
    "    product=n*i\n",
    "    print(n,\"*\",i,\"=\",product)"
   ]
  },
  {
   "cell_type": "markdown",
   "id": "780bdb53",
   "metadata": {},
   "source": [
    "# List Comprehension"
   ]
  },
  {
   "cell_type": "code",
   "execution_count": 26,
   "id": "3c2e5dbe",
   "metadata": {},
   "outputs": [],
   "source": [
    "# Practice below codes for list comprehension\n",
    "\n",
    "vec=[-4,-2,0,2,4]"
   ]
  },
  {
   "cell_type": "code",
   "execution_count": 27,
   "id": "8f4b39c1",
   "metadata": {},
   "outputs": [
    {
     "data": {
      "text/plain": [
       "[-8, -4, 0, 4, 8]"
      ]
     },
     "execution_count": 27,
     "metadata": {},
     "output_type": "execute_result"
    }
   ],
   "source": [
    "# create a new list with the values doubled\n",
    "[x*2 for x in vec]"
   ]
  },
  {
   "cell_type": "code",
   "execution_count": 28,
   "id": "7f7d5f25",
   "metadata": {},
   "outputs": [
    {
     "data": {
      "text/plain": [
       "[0, 2, 4]"
      ]
     },
     "execution_count": 28,
     "metadata": {},
     "output_type": "execute_result"
    }
   ],
   "source": [
    "# filter the list to exclude negative numbers\n",
    "[x for x in vec if x>=0]"
   ]
  },
  {
   "cell_type": "code",
   "execution_count": 29,
   "id": "a861ef67",
   "metadata": {},
   "outputs": [
    {
     "data": {
      "text/plain": [
       "[4, 2, 0, 2, 4]"
      ]
     },
     "execution_count": 29,
     "metadata": {},
     "output_type": "execute_result"
    }
   ],
   "source": [
    "# Apply a function to all the elements\n",
    "[abs(x) for x in vec]"
   ]
  },
  {
   "cell_type": "code",
   "execution_count": 31,
   "id": "d6a50f74",
   "metadata": {},
   "outputs": [
    {
     "data": {
      "text/plain": [
       "['banana', 'loganberry', 'passion fruit']"
      ]
     },
     "execution_count": 31,
     "metadata": {},
     "output_type": "execute_result"
    }
   ],
   "source": [
    "# call a method on each element\n",
    "\n",
    "freshfruit=['banana','loganberry','passion fruit']\n",
    "\n",
    "[i.strip() for i in freshfruit]"
   ]
  },
  {
   "cell_type": "code",
   "execution_count": 35,
   "id": "800c95f2",
   "metadata": {},
   "outputs": [
    {
     "data": {
      "text/plain": [
       "[(0, 0), (1, 1), (2, 4), (3, 9), (4, 16), (5, 25)]"
      ]
     },
     "execution_count": 35,
     "metadata": {},
     "output_type": "execute_result"
    }
   ],
   "source": [
    "# create a list of 2 tuples like (number,square)\n",
    "[(x,x**2)for x in range(6)]\n"
   ]
  },
  {
   "cell_type": "code",
   "execution_count": 43,
   "id": "278e2a17",
   "metadata": {},
   "outputs": [
    {
     "name": "stdout",
     "output_type": "stream",
     "text": [
      "apple\n",
      "banana\n",
      "orange\n",
      "pear\n"
     ]
    }
   ],
   "source": [
    "# loop over sequence in sorted order, use the sorted() function which returns a new sorted list while leaving the source unaltered\n",
    "\n",
    "basket = ['apple', 'orange', 'apple', 'pear', 'orange', 'banana']\n",
    "\n",
    "for i in sorted(set(basket)):\n",
    "    print(i)"
   ]
  },
  {
   "cell_type": "code",
   "execution_count": 45,
   "id": "9e7edc54",
   "metadata": {},
   "outputs": [
    {
     "name": "stdout",
     "output_type": "stream",
     "text": [
      "9 7 5 3 1 "
     ]
    }
   ],
   "source": [
    "# To loop over a sequence in reverse, first specify the sequence in a forward direction and then call the reversed() function.\n",
    "\n",
    "for i in reversed(range(1,10,2)):\n",
    "    print(i,end=\" \")"
   ]
  },
  {
   "cell_type": "markdown",
   "id": "5917bd6c",
   "metadata": {},
   "source": [
    "# IF ELSE  Practice"
   ]
  },
  {
   "cell_type": "code",
   "execution_count": 46,
   "id": "183153ff",
   "metadata": {},
   "outputs": [
    {
     "name": "stdout",
     "output_type": "stream",
     "text": [
      " Today is the day of Odin, The supreme diety. \n"
     ]
    }
   ],
   "source": [
    "today=\"Wednusday\"\n",
    "\n",
    "if today == \"Sunday\":\n",
    "    print(\"Today is the day of Sun. \")\n",
    "\n",
    "elif today == \"Monday\":\n",
    "    print(\" Today is the day of Moon. \")\n",
    "    \n",
    "elif today ==\" Tuesday \":\n",
    "    print(\"Today is the day of Tyr, The good of war. \")\n",
    "    \n",
    "elif today == \"Wednusday\":\n",
    "    print(\" Today is the day of Odin, The supreme diety. \")\n",
    "    \n",
    "elif today == \"Thrusday\":\n",
    "    print(\" Today is the day of Thor, The god of Thunder. \")\n",
    "\n",
    "elif today == \"Friday\":\n",
    "    print(\" Today is the day of Frigga, The goddess of Beauty. \")\n",
    "    \n",
    "elif today == \"Saturday\":\n",
    "    print(\"Today is the day of Saturn, The god of fun and feasting. \")\n",
    "    \n",
    "    "
   ]
  },
  {
   "cell_type": "markdown",
   "id": "54bb0689",
   "metadata": {},
   "source": [
    "## Using if, elif and else together"
   ]
  },
  {
   "cell_type": "raw",
   "id": "10f400e2",
   "metadata": {},
   "source": [
    "You can also include an `else` statement at the end of a chain of `if`, `elif`... statements. This code within the `else` block is evaluated when none of the conditions hold true."
   ]
  },
  {
   "cell_type": "code",
   "execution_count": 47,
   "id": "2d79efa5",
   "metadata": {},
   "outputs": [
    {
     "name": "stdout",
     "output_type": "stream",
     "text": [
      "All Checks  Failed!\n",
      "49 is not divisible by 2,3 or 5 \n"
     ]
    }
   ],
   "source": [
    "a_number =49\n",
    "\n",
    "if a_number %2==0:\n",
    "    print(\"{} is the divisible by 2 \".format(a_number))\n",
    "    \n",
    "elif a_number %3==0:\n",
    "    print(\"{} is the divisible by 3 \".format(a_number))\n",
    "    \n",
    "elif a_number %5==0:\n",
    "    print(\" {} is divisible by 5 \".format(a_number))\n",
    "\n",
    "else:\n",
    "    print(\"All Checks  Failed!\")\n",
    "    print(\"{} is not divisible by 2,3 or 5 \".format(a_number))"
   ]
  },
  {
   "cell_type": "markdown",
   "id": "1b4fbcaf",
   "metadata": {},
   "source": [
    "### Ranges are used for iterating over lists when you need to track the index of elements while iterating."
   ]
  },
  {
   "cell_type": "code",
   "execution_count": 48,
   "id": "1bea3e1d",
   "metadata": {},
   "outputs": [
    {
     "name": "stdout",
     "output_type": "stream",
     "text": [
      "The value at position 0 is Monday.\n",
      "The value at position 1 is Tuesday.\n",
      "The value at position 2 is Wednesday.\n",
      "The value at position 3 is Thursday.\n",
      "The value at position 4 is Friday.\n"
     ]
    }
   ],
   "source": [
    "a_list=['Monday','Tuesday',\"Wednesday\",\"Thursday\",\"Friday\"]\n",
    "\n",
    "for i in range(len(a_list)):\n",
    "    print(\"The value at position {} is {}.\".format(i,a_list[i]))"
   ]
  },
  {
   "cell_type": "raw",
   "id": "8810d9c5",
   "metadata": {},
   "source": [
    "Similar to while loops, for loops also support the break and continue statements. break is used for breaking out of the loop and continue is used for skipping ahead to the next iteration."
   ]
  },
  {
   "cell_type": "code",
   "execution_count": 56,
   "id": "bfded97f",
   "metadata": {},
   "outputs": [
    {
     "name": "stdout",
     "output_type": "stream",
     "text": [
      "Today is Monday\n",
      "Today is Tuesday\n",
      "Today is Wednesday\n",
      "I don't work beyond Wednesday!\n"
     ]
    }
   ],
   "source": [
    "weekd= [\"Monday\",\"Tuesday\",\"Wednesday\",\"Thursday\",\"Friday\"]\n",
    "for day in weekd:\n",
    "    print(\"Today is {}\".format(day))\n",
    "    if (day==\"Wednesday\"):\n",
    "        print(\"I don't work beyond Wednesday!\")\n",
    "        break"
   ]
  },
  {
   "cell_type": "code",
   "execution_count": 58,
   "id": "d833b393",
   "metadata": {},
   "outputs": [
    {
     "name": "stdout",
     "output_type": "stream",
     "text": [
      "Today is Monday\n",
      "Today is Tuesday\n",
      "I don't work on Wednesday!\n",
      "Today is Thursday\n",
      "Today is Friday\n"
     ]
    }
   ],
   "source": [
    "for day in weekd:\n",
    "    if (day ==\"Wednesday\"):\n",
    "        print(\"I don't work on Wednesday!\")\n",
    "        continue\n",
    "    print(\"Today is {}\".format(day))"
   ]
  },
  {
   "cell_type": "markdown",
   "id": "f206fb06",
   "metadata": {},
   "source": [
    "# Question for Revision"
   ]
  },
  {
   "cell_type": "markdown",
   "id": "5fb92d95",
   "metadata": {},
   "source": [
    "Try answering the following questions to test your understanding of the topics covered ."
   ]
  },
  {
   "cell_type": "markdown",
   "id": "ce3c93a1",
   "metadata": {},
   "source": [
    "Q. What is branching in programming language?\n",
    "\n",
    "- Branching is a basic concept in computer science. It means an instruction that tells a computer to begin executing a different part of a program rather than executing statements one-by-one."
   ]
  },
  {
   "cell_type": "markdown",
   "id": "595367ca",
   "metadata": {},
   "source": [
    "Q2. What is the purpose of the if statement in Python?\n",
    "\n",
    "- The if statement in Python is used for the purpose of making decisions. The Python if statement comprises of a piece of code that only executes when the if statement’s condition is TRUE. If the condition is FALSE\n"
   ]
  },
  {
   "cell_type": "markdown",
   "id": "afcea9e8",
   "metadata": {},
   "source": [
    "Q3. What is the syntax of the if statement? Give an example.\n",
    "\n",
    "- if state is always used with a condition. The condition is evaluted first, before exceuting any statement inside the body\n",
    "i=0\n",
    "\n",
    "if i<10:\n",
    "print(i"
   ]
  },
  {
   "cell_type": "code",
   "execution_count": 65,
   "id": "ac600d7b",
   "metadata": {},
   "outputs": [
    {
     "name": "stdout",
     "output_type": "stream",
     "text": [
      "1\n",
      "2\n",
      "3\n",
      "4\n",
      "5\n",
      "6\n",
      "7\n",
      "8\n",
      "9\n"
     ]
    }
   ],
   "source": [
    "i=0\n",
    "for i in range(1,10,1):\n",
    "    if i<10:\n",
    "        print(i)\n",
    "    \n",
    "        i=i+1"
   ]
  },
  {
   "cell_type": "markdown",
   "id": "758d9882",
   "metadata": {},
   "source": [
    "What is indentation? Why is it used?\n",
    "\n",
    "- In computer programming language, indentation is used to format program source code to improve readablity. Space left is of 4 blocks  "
   ]
  },
  {
   "cell_type": "markdown",
   "id": "b4743f49",
   "metadata": {},
   "source": [
    "Q. What is an indented block of statements?\n",
    "\n",
    "- To make python more readable and friendly indentation blocks are being used"
   ]
  },
  {
   "cell_type": "markdown",
   "id": "dd8ed57c",
   "metadata": {},
   "source": [
    "Q. How do you perform indentation in Python?What happens if some code is not indented correctly?\n",
    "\n",
    "- Python indentation refers to adding white space before a statement to a particular block of code. In another word, all the statements with the same space to the right, belong to the same code block.\n",
    "\n",
    "- Indentation is a very important concept of Python because without properly indenting the Python code, you will end up seeing IndentationError and the code will not get compiled."
   ]
  },
  {
   "cell_type": "markdown",
   "id": "5212e959",
   "metadata": {},
   "source": [
    "Q. What happens when the condition within the if statement evaluates to True? What happens if the condition evaluates for false?\n",
    "\n",
    "- The One with a True statement would be executed but False will not be executed "
   ]
  },
  {
   "cell_type": "markdown",
   "id": "15dace58",
   "metadata": {},
   "source": [
    "Q. How do you check if a number is even?\n",
    "\n",
    "- If the number dived by 2 and remender left is zero then property of that number is as even."
   ]
  },
  {
   "cell_type": "markdown",
   "id": "5b68092e",
   "metadata": {},
   "source": [
    "Q. What is the purpose of the else statement in Python?\n",
    "\n",
    "- Else with loop is used with both while and for loop. The else block is executed at the end of loop means when the given loop condition is false then the else block is executed. So let’s see the example of while loop and for loop with else below."
   ]
  },
  {
   "cell_type": "code",
   "execution_count": 68,
   "id": "0a792233",
   "metadata": {},
   "outputs": [
    {
     "name": "stdout",
     "output_type": "stream",
     "text": [
      "1  is more than zero\n",
      "2  is more than zero\n",
      "3  is more than zero\n",
      "4  is more than zero\n",
      "5  is more than zero\n",
      "5 is equal or less than zero\n"
     ]
    }
   ],
   "source": [
    "#Q. What is the syntax of the else statement? Give an example.\n",
    "\n",
    "i=0\n",
    "\n",
    "while(i<5):\n",
    "    i+=1\n",
    "    print(i, \" is more than zero\")\n",
    "    \n",
    "else:\n",
    "    print(i, \"is equal or less than zero\")"
   ]
  },
  {
   "cell_type": "code",
   "execution_count": 72,
   "id": "6de7fccf",
   "metadata": {},
   "outputs": [
    {
     "name": "stdout",
     "output_type": "stream",
     "text": [
      "1 2 3 4 5 6 7 8 9 10 None\n",
      "2 3 4 5 6 7 8 9 10 None\n",
      "3 4 5 6 7 8 9 10 None\n",
      "4 5 6 7 8 9 10 None\n",
      "5 6 7 8 9 10 None\n",
      "6 7 8 9 10 None\n",
      "7 8 9 10 None\n",
      "8 9 10 None\n",
      "9 10 None\n",
      "10 None\n"
     ]
    }
   ],
   "source": [
    "for i in range(0,10):\n",
    "    while(i<10):\n",
    "        i+=1\n",
    "        print(i,end=\" \")\n",
    "    \n",
    "    else:\n",
    "        print(\"None\")"
   ]
  },
  {
   "cell_type": "markdown",
   "id": "d69ac756",
   "metadata": {},
   "source": [
    "Write a program that prints different messages based on whether a number is positive or negative."
   ]
  },
  {
   "cell_type": "code",
   "execution_count": 85,
   "id": "41cb612e",
   "metadata": {},
   "outputs": [
    {
     "name": "stdout",
     "output_type": "stream",
     "text": [
      "Enter any number: 1\n",
      "Postive Number\n"
     ]
    }
   ],
   "source": [
    "n=int(input(\"Enter any number: \"))\n",
    "\n",
    "if n>0:\n",
    "    print(\"Postive Number\")\n",
    "    \n",
    "elif n==0:\n",
    "    print(\"Zero\")\n",
    "else:\n",
    "    print(\"Negative Number\")"
   ]
  },
  {
   "cell_type": "markdown",
   "id": "408020ce",
   "metadata": {},
   "source": [
    "Q. Can the else statement be used without an if statement?\n",
    "\n",
    "- If Statement can be used by else statement whereas else can't be written with out iF statement.\n",
    "\n",
    "- If none of the condition mate the loop will fail."
   ]
  },
  {
   "cell_type": "markdown",
   "id": "c17ca189",
   "metadata": {},
   "source": [
    "Q. What is the purpose of the elif statement in Python?\n",
    "\n",
    "- Python elif (short for else if) is used to execute a continuous chain of conditional logic ladder. "
   ]
  },
  {
   "cell_type": "markdown",
   "id": "9ecb6d05",
   "metadata": {},
   "source": [
    "Q. What is the syntax of the elif statement? Give an example.\n",
    "\n",
    "- Use the elif condition is used to include multiple conditional expressions after the if condition or between the if and else conditions. \n",
    "\n",
    "Syntax: \n",
    "\n",
    "if [boolean expression]: \n",
    "    [statements] \n",
    "elif [boolean expresion]:\n",
    "    [statements]\n",
    "elif [boolean expresion]:\n",
    "    [statements] \n",
    "else:\n",
    "    [statements]"
   ]
  },
  {
   "cell_type": "markdown",
   "id": "2e4704b9",
   "metadata": {},
   "source": [
    "\n",
    "------------------------------------------------------\n",
    "\n",
    "What is the purpose of the elif statement in Python?\n",
    "\n",
    "What is the syntax of the elif statement? Give an example.\n",
    "\n",
    "Write a program that prints different messages for different months of the year.\n",
    "\n",
    "Write a program that uses if, elif, and else statements together.\n",
    "\n",
    "Can the elif statement be used without an if statement?\n",
    "\n",
    "Can the elif statement be used without an else statement?\n",
    "\n",
    " "
   ]
  },
  {
   "cell_type": "code",
   "execution_count": null,
   "id": "56041ebe",
   "metadata": {},
   "outputs": [],
   "source": []
  }
 ],
 "metadata": {
  "kernelspec": {
   "display_name": "Python 3 (ipykernel)",
   "language": "python",
   "name": "python3"
  },
  "language_info": {
   "codemirror_mode": {
    "name": "ipython",
    "version": 3
   },
   "file_extension": ".py",
   "mimetype": "text/x-python",
   "name": "python",
   "nbconvert_exporter": "python",
   "pygments_lexer": "ipython3",
   "version": "3.9.12"
  }
 },
 "nbformat": 4,
 "nbformat_minor": 5
}
