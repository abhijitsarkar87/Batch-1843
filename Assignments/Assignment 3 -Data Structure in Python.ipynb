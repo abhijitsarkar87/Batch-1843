{
 "cells": [
  {
   "cell_type": "markdown",
   "id": "6847618f",
   "metadata": {},
   "source": [
    "# String Functions"
   ]
  },
  {
   "cell_type": "code",
   "execution_count": 1,
   "id": "ea85f832",
   "metadata": {},
   "outputs": [
    {
     "data": {
      "text/plain": [
       "'tesla'"
      ]
     },
     "execution_count": 1,
     "metadata": {},
     "output_type": "execute_result"
    }
   ],
   "source": [
    "name=\"Tesla\"\n",
    "name.lower()"
   ]
  },
  {
   "cell_type": "code",
   "execution_count": 2,
   "id": "052d5ecc",
   "metadata": {},
   "outputs": [
    {
     "data": {
      "text/plain": [
       "'TESLA'"
      ]
     },
     "execution_count": 2,
     "metadata": {},
     "output_type": "execute_result"
    }
   ],
   "source": [
    "name.upper()"
   ]
  },
  {
   "cell_type": "code",
   "execution_count": 3,
   "id": "8c406642",
   "metadata": {},
   "outputs": [
    {
     "data": {
      "text/plain": [
       "5"
      ]
     },
     "execution_count": 3,
     "metadata": {},
     "output_type": "execute_result"
    }
   ],
   "source": [
    "len(name)\n",
    "# no indexing"
   ]
  },
  {
   "cell_type": "code",
   "execution_count": 4,
   "id": "dd73f12b",
   "metadata": {},
   "outputs": [
    {
     "data": {
      "text/plain": [
       "'Tesla'"
      ]
     },
     "execution_count": 4,
     "metadata": {},
     "output_type": "execute_result"
    }
   ],
   "source": [
    "name.capitalize()"
   ]
  },
  {
   "cell_type": "code",
   "execution_count": 5,
   "id": "6da772cf",
   "metadata": {},
   "outputs": [
    {
     "data": {
      "text/plain": [
       "True"
      ]
     },
     "execution_count": 5,
     "metadata": {},
     "output_type": "execute_result"
    }
   ],
   "source": [
    "name.isalpha()"
   ]
  },
  {
   "cell_type": "code",
   "execution_count": 7,
   "id": "23bb72f4",
   "metadata": {},
   "outputs": [
    {
     "data": {
      "text/plain": [
       "False"
      ]
     },
     "execution_count": 7,
     "metadata": {},
     "output_type": "execute_result"
    }
   ],
   "source": [
    "startship=\"Enterprise\"\n",
    "startship.startswith(\"en\")"
   ]
  },
  {
   "cell_type": "code",
   "execution_count": 9,
   "id": "5479ac7b",
   "metadata": {},
   "outputs": [
    {
     "data": {
      "text/plain": [
       "True"
      ]
     },
     "execution_count": 9,
     "metadata": {},
     "output_type": "execute_result"
    }
   ],
   "source": [
    "startship.startswith(\"En\")"
   ]
  },
  {
   "cell_type": "code",
   "execution_count": 10,
   "id": "aaf44d41",
   "metadata": {},
   "outputs": [
    {
     "data": {
      "text/plain": [
       "True"
      ]
     },
     "execution_count": 10,
     "metadata": {},
     "output_type": "execute_result"
    }
   ],
   "source": [
    "startship.endswith(\"ise\")"
   ]
  },
  {
   "cell_type": "markdown",
   "id": "8ccd8a14",
   "metadata": {},
   "source": [
    "# Replace"
   ]
  },
  {
   "cell_type": "code",
   "execution_count": 11,
   "id": "03eeb0f3",
   "metadata": {},
   "outputs": [],
   "source": [
    "# str.replace(old,new)"
   ]
  },
  {
   "cell_type": "code",
   "execution_count": 12,
   "id": "a6b02b7d",
   "metadata": {},
   "outputs": [],
   "source": [
    "string=\"Welcome Sir \""
   ]
  },
  {
   "cell_type": "code",
   "execution_count": 13,
   "id": "1f551e11",
   "metadata": {},
   "outputs": [
    {
     "name": "stdout",
     "output_type": "stream",
     "text": [
      "Welcome Sir \n"
     ]
    }
   ],
   "source": [
    "# original string\n",
    "print(string)"
   ]
  },
  {
   "cell_type": "code",
   "execution_count": 14,
   "id": "250627bd",
   "metadata": {},
   "outputs": [
    {
     "name": "stdout",
     "output_type": "stream",
     "text": [
      "GoodBye Sir \n"
     ]
    }
   ],
   "source": [
    "# with  two parameters\n",
    "\n",
    "print(string.replace(\"Welcome\",\"GoodBye\"))"
   ]
  },
  {
   "cell_type": "code",
   "execution_count": 15,
   "id": "7f8ae4f3",
   "metadata": {},
   "outputs": [
    {
     "name": "stdout",
     "output_type": "stream",
     "text": [
      "I like apple\n"
     ]
    }
   ],
   "source": [
    "txt=\"I like bananas\"\n",
    "x=txt.replace(\"bananas\",\"apple\")\n",
    "print(x)"
   ]
  },
  {
   "cell_type": "code",
   "execution_count": 16,
   "id": "03c0690e",
   "metadata": {},
   "outputs": [
    {
     "name": "stdout",
     "output_type": "stream",
     "text": [
      "I like bananas\n"
     ]
    }
   ],
   "source": [
    "print(txt)"
   ]
  },
  {
   "cell_type": "code",
   "execution_count": 20,
   "id": "51c2ed90",
   "metadata": {},
   "outputs": [
    {
     "data": {
      "text/plain": [
       "0"
      ]
     },
     "execution_count": 20,
     "metadata": {},
     "output_type": "execute_result"
    }
   ],
   "source": [
    "phrase=\"the surprise is in here somewhere\"\n",
    "phrase.find(\"the\")"
   ]
  },
  {
   "cell_type": "code",
   "execution_count": 22,
   "id": "5f08f910",
   "metadata": {},
   "outputs": [
    {
     "data": {
      "text/plain": [
       "9"
      ]
     },
     "execution_count": 22,
     "metadata": {},
     "output_type": "execute_result"
    }
   ],
   "source": [
    "phrase.find(\"is\")"
   ]
  },
  {
   "cell_type": "code",
   "execution_count": 23,
   "id": "dd83c978",
   "metadata": {},
   "outputs": [
    {
     "data": {
      "text/plain": [
       "4"
      ]
     },
     "execution_count": 23,
     "metadata": {},
     "output_type": "execute_result"
    }
   ],
   "source": [
    "phrase.find(\"surprise\")"
   ]
  },
  {
   "cell_type": "code",
   "execution_count": 24,
   "id": "5eee349a",
   "metadata": {},
   "outputs": [],
   "source": [
    "text=\"Hello World DataTrained\""
   ]
  },
  {
   "cell_type": "markdown",
   "id": "52130274",
   "metadata": {},
   "source": [
    "# Splits at space"
   ]
  },
  {
   "cell_type": "code",
   "execution_count": 25,
   "id": "def6ede9",
   "metadata": {},
   "outputs": [
    {
     "name": "stdout",
     "output_type": "stream",
     "text": [
      "['Hello', 'World', 'DataTrained']\n"
     ]
    }
   ],
   "source": [
    "print(text.split())"
   ]
  },
  {
   "cell_type": "code",
   "execution_count": 30,
   "id": "b44e685e",
   "metadata": {},
   "outputs": [
    {
     "data": {
      "text/plain": [
       "'DataTrained'"
      ]
     },
     "execution_count": 30,
     "metadata": {},
     "output_type": "execute_result"
    }
   ],
   "source": [
    "text.split(\" \")[2]"
   ]
  },
  {
   "cell_type": "code",
   "execution_count": 34,
   "id": "2dbd3d74",
   "metadata": {},
   "outputs": [
    {
     "name": "stdout",
     "output_type": "stream",
     "text": [
      "['Hello World DataTrained']\n"
     ]
    }
   ],
   "source": [
    "# splits at\",\n",
    "print(text.split(\",\"))"
   ]
  },
  {
   "cell_type": "code",
   "execution_count": 35,
   "id": "e76813c2",
   "metadata": {},
   "outputs": [
    {
     "name": "stdout",
     "output_type": "stream",
     "text": [
      "['Hello World DataTrained']\n"
     ]
    }
   ],
   "source": [
    "print(text.split(\":\"))"
   ]
  },
  {
   "cell_type": "markdown",
   "id": "df26b124",
   "metadata": {},
   "source": [
    "# Task:"
   ]
  },
  {
   "cell_type": "code",
   "execution_count": 42,
   "id": "64b81a12",
   "metadata": {},
   "outputs": [
    {
     "name": "stdout",
     "output_type": "stream",
     "text": [
      "animals \n",
      "\n",
      "badger \n",
      "\n",
      "honey bee \n",
      "\n",
      "honey badger \n",
      "\n"
     ]
    }
   ],
   "source": [
    "#2 Write a program that converts the following strings to lowercase:\n",
    "\n",
    "# Print each lowercase string on a separate line.\n",
    "list1=[\"Animals\", \"Badger\", \"Honey Bee\", \"Honey Badger\"]\n",
    "\n",
    "for i in list1:\n",
    "    l=i.lower()\n",
    "    print(l,\"\\n\")"
   ]
  },
  {
   "cell_type": "code",
   "execution_count": 45,
   "id": "a3d0be4f",
   "metadata": {},
   "outputs": [
    {
     "name": "stdout",
     "output_type": "stream",
     "text": [
      "becomes\n"
     ]
    }
   ],
   "source": [
    "#2 Write a program that prints out the result of .startswith(\"be\") on each of the following strings:\n",
    "string1 = \"Becomes\"\n",
    "\n",
    "string2 = \"becomes\"\n",
    "\n",
    "string3 = \"BEAR\"\n",
    "\n",
    "string4 = \" bEautiful\"\n",
    "\n",
    "list2=[string1,string2,string3,string4]\n",
    "\n",
    "for i in list2:\n",
    "    if i.startswith(\"be\"):\n",
    "        print(i)"
   ]
  },
  {
   "cell_type": "markdown",
   "id": "147fee4d",
   "metadata": {},
   "source": [
    "Q3. Using the same four strings from above, write a program that uses string methods to alter each string so that .startswith(\"be\") returns True for all of them"
   ]
  },
  {
   "cell_type": "code",
   "execution_count": 54,
   "id": "f5fc8a70",
   "metadata": {},
   "outputs": [
    {
     "data": {
      "text/plain": [
       "['becomes', 'becomes', 'bear', ' beautiful']"
      ]
     },
     "execution_count": 54,
     "metadata": {},
     "output_type": "execute_result"
    }
   ],
   "source": [
    "c=[ i.lower() for i in list2]\n",
    "c"
   ]
  },
  {
   "cell_type": "code",
   "execution_count": 57,
   "id": "0048138f",
   "metadata": {},
   "outputs": [
    {
     "name": "stdout",
     "output_type": "stream",
     "text": [
      "becomes\n",
      "becomes\n",
      "bear\n"
     ]
    }
   ],
   "source": [
    "for i in list2:\n",
    "    i=i.lower()\n",
    "    if i.startswith(\"be\"):\n",
    "        print(i)"
   ]
  },
  {
   "cell_type": "code",
   "execution_count": 58,
   "id": "49f820cb",
   "metadata": {},
   "outputs": [
    {
     "name": "stdout",
     "output_type": "stream",
     "text": [
      "Enter Your Name Abhijit Sarkar\n",
      "Abhijit Sarkar\n"
     ]
    }
   ],
   "source": [
    "#4 Write a program that takes input from the user and displays that input back.\n",
    "\n",
    "user=input(\"Enter Your Name \")\n",
    "print(user)"
   ]
  },
  {
   "cell_type": "code",
   "execution_count": 60,
   "id": "c83bf521",
   "metadata": {},
   "outputs": [
    {
     "name": "stdout",
     "output_type": "stream",
     "text": [
      "Hello World Enter your Place of birth West Bengal\n",
      "west bengal\n"
     ]
    }
   ],
   "source": [
    "#5 Write a program that takes input from the user and displays the input in lowercase.\n",
    "user=input(\"Hello World Enter your Place of birth \")\n",
    "print(user.lower())"
   ]
  },
  {
   "cell_type": "code",
   "execution_count": 61,
   "id": "7478c09d",
   "metadata": {},
   "outputs": [
    {
     "name": "stdout",
     "output_type": "stream",
     "text": [
      "Enter the Name Data Trained\n",
      "12\n"
     ]
    }
   ],
   "source": [
    "#6 Write a program that takes input from the user and displays the number of characters/len in the input.\n",
    "\n",
    "user=input(\"Enter the Name \")\n",
    "print(len(user))"
   ]
  },
  {
   "cell_type": "markdown",
   "id": "02cbfce2",
   "metadata": {},
   "source": [
    "---------------"
   ]
  }
 ],
 "metadata": {
  "kernelspec": {
   "display_name": "Python 3 (ipykernel)",
   "language": "python",
   "name": "python3"
  },
  "language_info": {
   "codemirror_mode": {
    "name": "ipython",
    "version": 3
   },
   "file_extension": ".py",
   "mimetype": "text/x-python",
   "name": "python",
   "nbconvert_exporter": "python",
   "pygments_lexer": "ipython3",
   "version": "3.9.12"
  }
 },
 "nbformat": 4,
 "nbformat_minor": 5
}
