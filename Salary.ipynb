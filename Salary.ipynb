{
 "cells": [
  {
   "cell_type": "code",
   "execution_count": 1,
   "id": "aa13114a",
   "metadata": {},
   "outputs": [],
   "source": [
    "import numpy as np\n",
    "import pandas as pd\n",
    "import seaborn as sns\n",
    "import matplotlib.pyplot as plt\n",
    "%matplotlib inline\n",
    "\n",
    "import scipy\n",
    "from scipy.stats import zscore\n",
    "from scipy.stats import boxcox\n",
    "\n",
    "import sklearn\n",
    "from sklearn.svm import SVR\n",
    "from sklearn.neighbors import KNeighborsRegressor\n",
    "from sklearn.naive_bayes import GaussianNB\n",
    "from sklearn.tree import DecisionTreeRegressor\n",
    "from sklearn.linear_model import SGDRegressor\n",
    "\n",
    "from sklearn.ensemble import RandomForestRegressor\n",
    "\n",
    "\n",
    "from sklearn.ensemble import AdaBoostRegressor\n",
    "from sklearn.ensemble import GradientBoostingRegressor"
   ]
  },
  {
   "cell_type": "code",
   "execution_count": 2,
   "id": "413f5afb",
   "metadata": {},
   "outputs": [],
   "source": [
    "df=pd.read_csv(\"Salaries.csv\")"
   ]
  },
  {
   "cell_type": "code",
   "execution_count": 3,
   "id": "b1f4eb85",
   "metadata": {},
   "outputs": [
    {
     "data": {
      "text/html": [
       "<div>\n",
       "<style scoped>\n",
       "    .dataframe tbody tr th:only-of-type {\n",
       "        vertical-align: middle;\n",
       "    }\n",
       "\n",
       "    .dataframe tbody tr th {\n",
       "        vertical-align: top;\n",
       "    }\n",
       "\n",
       "    .dataframe thead th {\n",
       "        text-align: right;\n",
       "    }\n",
       "</style>\n",
       "<table border=\"1\" class=\"dataframe\">\n",
       "  <thead>\n",
       "    <tr style=\"text-align: right;\">\n",
       "      <th></th>\n",
       "      <th>rank</th>\n",
       "      <th>discipline</th>\n",
       "      <th>yrs.since.phd</th>\n",
       "      <th>yrs.service</th>\n",
       "      <th>sex</th>\n",
       "      <th>salary</th>\n",
       "    </tr>\n",
       "  </thead>\n",
       "  <tbody>\n",
       "    <tr>\n",
       "      <th>0</th>\n",
       "      <td>Prof</td>\n",
       "      <td>B</td>\n",
       "      <td>19</td>\n",
       "      <td>18</td>\n",
       "      <td>Male</td>\n",
       "      <td>139750</td>\n",
       "    </tr>\n",
       "    <tr>\n",
       "      <th>1</th>\n",
       "      <td>Prof</td>\n",
       "      <td>B</td>\n",
       "      <td>20</td>\n",
       "      <td>16</td>\n",
       "      <td>Male</td>\n",
       "      <td>173200</td>\n",
       "    </tr>\n",
       "    <tr>\n",
       "      <th>2</th>\n",
       "      <td>AsstProf</td>\n",
       "      <td>B</td>\n",
       "      <td>4</td>\n",
       "      <td>3</td>\n",
       "      <td>Male</td>\n",
       "      <td>79750</td>\n",
       "    </tr>\n",
       "    <tr>\n",
       "      <th>3</th>\n",
       "      <td>Prof</td>\n",
       "      <td>B</td>\n",
       "      <td>45</td>\n",
       "      <td>39</td>\n",
       "      <td>Male</td>\n",
       "      <td>115000</td>\n",
       "    </tr>\n",
       "    <tr>\n",
       "      <th>4</th>\n",
       "      <td>Prof</td>\n",
       "      <td>B</td>\n",
       "      <td>40</td>\n",
       "      <td>41</td>\n",
       "      <td>Male</td>\n",
       "      <td>141500</td>\n",
       "    </tr>\n",
       "  </tbody>\n",
       "</table>\n",
       "</div>"
      ],
      "text/plain": [
       "       rank discipline  yrs.since.phd  yrs.service   sex  salary\n",
       "0      Prof          B             19           18  Male  139750\n",
       "1      Prof          B             20           16  Male  173200\n",
       "2  AsstProf          B              4            3  Male   79750\n",
       "3      Prof          B             45           39  Male  115000\n",
       "4      Prof          B             40           41  Male  141500"
      ]
     },
     "execution_count": 3,
     "metadata": {},
     "output_type": "execute_result"
    }
   ],
   "source": [
    "df.head()"
   ]
  },
  {
   "cell_type": "code",
   "execution_count": 4,
   "id": "69fdb25f",
   "metadata": {},
   "outputs": [
    {
     "data": {
      "text/html": [
       "<div>\n",
       "<style scoped>\n",
       "    .dataframe tbody tr th:only-of-type {\n",
       "        vertical-align: middle;\n",
       "    }\n",
       "\n",
       "    .dataframe tbody tr th {\n",
       "        vertical-align: top;\n",
       "    }\n",
       "\n",
       "    .dataframe thead th {\n",
       "        text-align: right;\n",
       "    }\n",
       "</style>\n",
       "<table border=\"1\" class=\"dataframe\">\n",
       "  <thead>\n",
       "    <tr style=\"text-align: right;\">\n",
       "      <th></th>\n",
       "      <th>rank</th>\n",
       "      <th>discipline</th>\n",
       "      <th>yrs.since.phd</th>\n",
       "      <th>yrs.service</th>\n",
       "      <th>sex</th>\n",
       "      <th>salary</th>\n",
       "    </tr>\n",
       "  </thead>\n",
       "  <tbody>\n",
       "    <tr>\n",
       "      <th>392</th>\n",
       "      <td>Prof</td>\n",
       "      <td>A</td>\n",
       "      <td>33</td>\n",
       "      <td>30</td>\n",
       "      <td>Male</td>\n",
       "      <td>103106</td>\n",
       "    </tr>\n",
       "    <tr>\n",
       "      <th>393</th>\n",
       "      <td>Prof</td>\n",
       "      <td>A</td>\n",
       "      <td>31</td>\n",
       "      <td>19</td>\n",
       "      <td>Male</td>\n",
       "      <td>150564</td>\n",
       "    </tr>\n",
       "    <tr>\n",
       "      <th>394</th>\n",
       "      <td>Prof</td>\n",
       "      <td>A</td>\n",
       "      <td>42</td>\n",
       "      <td>25</td>\n",
       "      <td>Male</td>\n",
       "      <td>101738</td>\n",
       "    </tr>\n",
       "    <tr>\n",
       "      <th>395</th>\n",
       "      <td>Prof</td>\n",
       "      <td>A</td>\n",
       "      <td>25</td>\n",
       "      <td>15</td>\n",
       "      <td>Male</td>\n",
       "      <td>95329</td>\n",
       "    </tr>\n",
       "    <tr>\n",
       "      <th>396</th>\n",
       "      <td>AsstProf</td>\n",
       "      <td>A</td>\n",
       "      <td>8</td>\n",
       "      <td>4</td>\n",
       "      <td>Male</td>\n",
       "      <td>81035</td>\n",
       "    </tr>\n",
       "  </tbody>\n",
       "</table>\n",
       "</div>"
      ],
      "text/plain": [
       "         rank discipline  yrs.since.phd  yrs.service   sex  salary\n",
       "392      Prof          A             33           30  Male  103106\n",
       "393      Prof          A             31           19  Male  150564\n",
       "394      Prof          A             42           25  Male  101738\n",
       "395      Prof          A             25           15  Male   95329\n",
       "396  AsstProf          A              8            4  Male   81035"
      ]
     },
     "execution_count": 4,
     "metadata": {},
     "output_type": "execute_result"
    }
   ],
   "source": [
    "df.tail()"
   ]
  },
  {
   "cell_type": "code",
   "execution_count": 5,
   "id": "80e4b0b3",
   "metadata": {},
   "outputs": [
    {
     "data": {
      "text/plain": [
       "(397, 6)"
      ]
     },
     "execution_count": 5,
     "metadata": {},
     "output_type": "execute_result"
    }
   ],
   "source": [
    "df.shape"
   ]
  },
  {
   "cell_type": "code",
   "execution_count": 6,
   "id": "6a1b8179",
   "metadata": {},
   "outputs": [
    {
     "data": {
      "text/plain": [
       "pandas.core.frame.DataFrame"
      ]
     },
     "execution_count": 6,
     "metadata": {},
     "output_type": "execute_result"
    }
   ],
   "source": [
    "type(df)"
   ]
  },
  {
   "cell_type": "code",
   "execution_count": 7,
   "id": "819e09b9",
   "metadata": {},
   "outputs": [
    {
     "name": "stdout",
     "output_type": "stream",
     "text": [
      "<class 'pandas.core.frame.DataFrame'>\n",
      "RangeIndex: 397 entries, 0 to 396\n",
      "Data columns (total 6 columns):\n",
      " #   Column         Non-Null Count  Dtype \n",
      "---  ------         --------------  ----- \n",
      " 0   rank           397 non-null    object\n",
      " 1   discipline     397 non-null    object\n",
      " 2   yrs.since.phd  397 non-null    int64 \n",
      " 3   yrs.service    397 non-null    int64 \n",
      " 4   sex            397 non-null    object\n",
      " 5   salary         397 non-null    int64 \n",
      "dtypes: int64(3), object(3)\n",
      "memory usage: 18.7+ KB\n"
     ]
    }
   ],
   "source": [
    "df.info()"
   ]
  },
  {
   "cell_type": "markdown",
   "id": "0bf65c37",
   "metadata": {},
   "source": [
    "## About Columns:-"
   ]
  },
  {
   "cell_type": "markdown",
   "id": "95aa154e",
   "metadata": {},
   "source": [
    "  1. Rank: Person holding the job title\n",
    "  2. Discipline: Job Category\n",
    "  3. Yrs.science.phd: Will determine the years since, they completed phd\n",
    "  4. Yrs.Service: Service Served by the Person\n",
    "  5. Sex: Gender of the person\n",
    "  6. Salary: Present salary of that person"
   ]
  },
  {
   "cell_type": "markdown",
   "id": "60791e0d",
   "metadata": {},
   "source": [
    "## Null Values"
   ]
  },
  {
   "cell_type": "code",
   "execution_count": 8,
   "id": "726859b0",
   "metadata": {},
   "outputs": [
    {
     "data": {
      "text/plain": [
       "rank             0\n",
       "discipline       0\n",
       "yrs.since.phd    0\n",
       "yrs.service      0\n",
       "sex              0\n",
       "salary           0\n",
       "dtype: int64"
      ]
     },
     "execution_count": 8,
     "metadata": {},
     "output_type": "execute_result"
    }
   ],
   "source": [
    "df.isnull().sum()"
   ]
  },
  {
   "cell_type": "code",
   "execution_count": 9,
   "id": "34ea7880",
   "metadata": {},
   "outputs": [
    {
     "data": {
      "text/plain": [
       "[]"
      ]
     },
     "execution_count": 9,
     "metadata": {},
     "output_type": "execute_result"
    }
   ],
   "source": [
    "# No null Data\n",
    "[features for features in df.columns if df[features].isnull().sum()>0]"
   ]
  },
  {
   "cell_type": "code",
   "execution_count": 10,
   "id": "207eac46",
   "metadata": {},
   "outputs": [
    {
     "data": {
      "text/plain": [
       "<AxesSubplot:>"
      ]
     },
     "execution_count": 10,
     "metadata": {},
     "output_type": "execute_result"
    },
    {
     "data": {
      "image/png": "[encoded data removed]",
      "text/plain": [
       "<Figure size 576x288 with 2 Axes>"
      ]
     },
     "metadata": {
      "needs_background": "light"
     },
     "output_type": "display_data"
    }
   ],
   "source": [
    "plt.figure(figsize=(8,4))\n",
    "sns.heatmap(df.isnull())"
   ]
  },
  {
   "cell_type": "markdown",
   "id": "89bc4662",
   "metadata": {},
   "source": [
    "# EDA"
   ]
  },
  {
   "cell_type": "code",
   "execution_count": 11,
   "id": "9b11253e",
   "metadata": {},
   "outputs": [
    {
     "data": {
      "text/plain": [
       "Index(['rank', 'discipline', 'yrs.since.phd', 'yrs.service', 'sex', 'salary'], dtype='object')"
      ]
     },
     "execution_count": 11,
     "metadata": {},
     "output_type": "execute_result"
    }
   ],
   "source": [
    "df.columns"
   ]
  },
  {
   "cell_type": "markdown",
   "id": "290e44f3",
   "metadata": {},
   "source": [
    "### Univariate Analysis"
   ]
  },
  {
   "cell_type": "code",
   "execution_count": 12,
   "id": "5dec4845",
   "metadata": {},
   "outputs": [
    {
     "data": {
      "text/plain": [
       "Prof         266\n",
       "AsstProf      67\n",
       "AssocProf     64\n",
       "Name: rank, dtype: int64"
      ]
     },
     "execution_count": 12,
     "metadata": {},
     "output_type": "execute_result"
    },
    {
     "data": {
      "image/png": "[encoded data removed]",
      "text/plain": [
       "<Figure size 432x288 with 1 Axes>"
      ]
     },
     "metadata": {
      "needs_background": "light"
     },
     "output_type": "display_data"
    }
   ],
   "source": [
    "sns.countplot(x=\"rank\",data=df)\n",
    "df['rank'].value_counts()"
   ]
  },
  {
   "cell_type": "markdown",
   "id": "fb64b8c9",
   "metadata": {},
   "source": [
    "From the above observed value \"Rank column\" are having 3 different ranks."
   ]
  },
  {
   "cell_type": "code",
   "execution_count": 13,
   "id": "78faaf04",
   "metadata": {},
   "outputs": [
    {
     "data": {
      "text/plain": [
       "B    216\n",
       "A    181\n",
       "Name: discipline, dtype: int64"
      ]
     },
     "execution_count": 13,
     "metadata": {},
     "output_type": "execute_result"
    },
    {
     "data": {
      "image/png": "[encoded data removed]",
      "text/plain": [
       "<Figure size 432x288 with 1 Axes>"
      ]
     },
     "metadata": {
      "needs_background": "light"
     },
     "output_type": "display_data"
    }
   ],
   "source": [
    "sns.countplot(x='discipline',data=df)\n",
    "df['discipline'].value_counts()"
   ]
  },
  {
   "cell_type": "markdown",
   "id": "bd772376",
   "metadata": {},
   "source": [
    "In Discipline column, We found two job category"
   ]
  },
  {
   "cell_type": "code",
   "execution_count": 14,
   "id": "c37c0cf0",
   "metadata": {},
   "outputs": [
    {
     "data": {
      "text/plain": [
       "Male      358\n",
       "Female     39\n",
       "Name: sex, dtype: int64"
      ]
     },
     "execution_count": 14,
     "metadata": {},
     "output_type": "execute_result"
    },
    {
     "data": {
      "image/png": "[encoded data removed]",
      "text/plain": [
       "<Figure size 432x288 with 1 Axes>"
      ]
     },
     "metadata": {
      "needs_background": "light"
     },
     "output_type": "display_data"
    }
   ],
   "source": [
    "sns.countplot(x='sex',data=df)\n",
    "df['sex'].value_counts()"
   ]
  },
  {
   "cell_type": "markdown",
   "id": "e49c049e",
   "metadata": {},
   "source": [
    "Both \"Male\" and \"Female\" are involved in Jobs but Maximum are male "
   ]
  },
  {
   "cell_type": "code",
   "execution_count": 15,
   "id": "5a1821e3",
   "metadata": {},
   "outputs": [
    {
     "data": {
      "text/plain": [
       "<AxesSubplot:xlabel='yrs.since.phd', ylabel='Count'>"
      ]
     },
     "execution_count": 15,
     "metadata": {},
     "output_type": "execute_result"
    },
    {
     "data": {
      "image/png": "[encoded data removed]",
      "text/plain": [
       "<Figure size 432x288 with 1 Axes>"
      ]
     },
     "metadata": {
      "needs_background": "light"
     },
     "output_type": "display_data"
    }
   ],
   "source": [
    "sns.histplot(x='yrs.since.phd',data=df)"
   ]
  },
  {
   "cell_type": "markdown",
   "id": "1dd2c2ac",
   "metadata": {},
   "source": [
    "maximum number of sex completed phd since year(10,20)yrs"
   ]
  },
  {
   "cell_type": "markdown",
   "id": "b5bf7917",
   "metadata": {},
   "source": [
    "### Bivariate Analysis"
   ]
  },
  {
   "cell_type": "code",
   "execution_count": 16,
   "id": "2095c6d6",
   "metadata": {},
   "outputs": [
    {
     "data": {
      "text/plain": [
       "<AxesSubplot:xlabel='yrs.since.phd', ylabel='Count'>"
      ]
     },
     "execution_count": 16,
     "metadata": {},
     "output_type": "execute_result"
    },
    {
     "data": {
      "image/png": "[encoded data removed]",
      "text/plain": [
       "<Figure size 432x288 with 1 Axes>"
      ]
     },
     "metadata": {
      "needs_background": "light"
     },
     "output_type": "display_data"
    }
   ],
   "source": [
    "sns.histplot(x='yrs.since.phd',hue='sex',data=df)"
   ]
  },
  {
   "cell_type": "markdown",
   "id": "525c276b",
   "metadata": {},
   "source": [
    "Male are maximum in number as compared with Female, No females are working after 40 above whereas male are working "
   ]
  },
  {
   "cell_type": "code",
   "execution_count": 17,
   "id": "3918f297",
   "metadata": {},
   "outputs": [
    {
     "data": {
      "text/plain": [
       "<AxesSubplot:xlabel='yrs.service', ylabel='Count'>"
      ]
     },
     "execution_count": 17,
     "metadata": {},
     "output_type": "execute_result"
    },
    {
     "data": {
      "image/png": "[encoded data removed]",
      "text/plain": [
       "<Figure size 432x288 with 1 Axes>"
      ]
     },
     "metadata": {
      "needs_background": "light"
     },
     "output_type": "display_data"
    }
   ],
   "source": [
    "sns.histplot(x='yrs.service',hue='sex',data=df)"
   ]
  },
  {
   "cell_type": "code",
   "execution_count": 18,
   "id": "adb7d1e0",
   "metadata": {},
   "outputs": [
    {
     "data": {
      "text/plain": [
       "<AxesSubplot:xlabel='yrs.since.phd', ylabel='salary'>"
      ]
     },
     "execution_count": 18,
     "metadata": {},
     "output_type": "execute_result"
    },
    {
     "data": {
      "image/png": "[encoded data removed]",
      "text/plain": [
       "<Figure size 432x288 with 1 Axes>"
      ]
     },
     "metadata": {
      "needs_background": "light"
     },
     "output_type": "display_data"
    }
   ],
   "source": [
    "#bivariate analysis\n",
    "sns.scatterplot(x='yrs.since.phd',y='salary',data=df)"
   ]
  },
  {
   "cell_type": "markdown",
   "id": "7e635a4c",
   "metadata": {},
   "source": [
    "maximum phd holders having salary above 75,000,few lies below even after 50 years"
   ]
  },
  {
   "cell_type": "code",
   "execution_count": 19,
   "id": "36778fd2",
   "metadata": {},
   "outputs": [
    {
     "data": {
      "text/plain": [
       "<AxesSubplot:xlabel='yrs.since.phd', ylabel='salary'>"
      ]
     },
     "execution_count": 19,
     "metadata": {},
     "output_type": "execute_result"
    },
    {
     "data": {
      "image/png": "[encoded data removed]",
      "text/plain": [
       "<Figure size 720x432 with 1 Axes>"
      ]
     },
     "metadata": {
      "needs_background": "light"
     },
     "output_type": "display_data"
    }
   ],
   "source": [
    "plt.figure(figsize=(10,6))\n",
    "sns.scatterplot(x='yrs.since.phd',y='salary',hue='sex',data=df)"
   ]
  },
  {
   "cell_type": "markdown",
   "id": "0d6529b4",
   "metadata": {},
   "source": [
    "Data points are showing maximum salary above 200000 after phd is in mid of 30 years to 40 years after complition of PHD, Hight salary reported in mid of 35 to 40 years. "
   ]
  },
  {
   "cell_type": "markdown",
   "id": "6343a14b",
   "metadata": {},
   "source": [
    "### Depth Analysis of Nominal  and odinal data with target variable"
   ]
  },
  {
   "cell_type": "code",
   "execution_count": 20,
   "id": "a58b28a8",
   "metadata": {},
   "outputs": [
    {
     "data": {
      "text/plain": [
       "<seaborn.axisgrid.FacetGrid at 0x164af9a01f0>"
      ]
     },
     "execution_count": 20,
     "metadata": {},
     "output_type": "execute_result"
    },
    {
     "data": {
      "text/plain": [
       "<Figure size 720x432 with 0 Axes>"
      ]
     },
     "metadata": {},
     "output_type": "display_data"
    },
    {
     "data": {
      "image/png": "[encoded data removed]",
      "text/plain": [
       "<Figure size 360x360 with 1 Axes>"
      ]
     },
     "metadata": {
      "needs_background": "light"
     },
     "output_type": "display_data"
    }
   ],
   "source": [
    "plt.figure(figsize=(10,6))\n",
    "sns.catplot(x='rank',y='salary',data=df)"
   ]
  },
  {
   "cell_type": "markdown",
   "id": "3a8a58c7",
   "metadata": {},
   "source": [
    "Salary of Prof is more followed by AssocProf and AsstProfrank "
   ]
  },
  {
   "cell_type": "code",
   "execution_count": 21,
   "id": "44eb09ed",
   "metadata": {},
   "outputs": [
    {
     "data": {
      "text/plain": [
       "<seaborn.axisgrid.FacetGrid at 0x164b0bb6370>"
      ]
     },
     "execution_count": 21,
     "metadata": {},
     "output_type": "execute_result"
    },
    {
     "data": {
      "text/plain": [
       "<Figure size 720x432 with 0 Axes>"
      ]
     },
     "metadata": {},
     "output_type": "display_data"
    },
    {
     "data": {
      "image/png": "[encoded data removed]",
      "text/plain": [
       "<Figure size 432.125x360 with 1 Axes>"
      ]
     },
     "metadata": {
      "needs_background": "light"
     },
     "output_type": "display_data"
    }
   ],
   "source": [
    "plt.figure(figsize=(10,6))\n",
    "sns.catplot(x='rank',y='salary',hue='sex',kind='swarm',data=df)"
   ]
  },
  {
   "cell_type": "markdown",
   "id": "ba4abcd5",
   "metadata": {},
   "source": [
    "Male with the highest salary as compare to Female.\n",
    "Maximum salary recieved by male is above 225000\n",
    "Maximum salary recieved by female is around 170000"
   ]
  },
  {
   "cell_type": "code",
   "execution_count": 22,
   "id": "0838fb9a",
   "metadata": {},
   "outputs": [
    {
     "data": {
      "text/plain": [
       "<AxesSubplot:xlabel='rank', ylabel='count'>"
      ]
     },
     "execution_count": 22,
     "metadata": {},
     "output_type": "execute_result"
    },
    {
     "data": {
      "image/png": "[encoded data removed]",
      "text/plain": [
       "<Figure size 576x360 with 1 Axes>"
      ]
     },
     "metadata": {
      "needs_background": "light"
     },
     "output_type": "display_data"
    }
   ],
   "source": [
    "plt.figure(figsize=(8,5))\n",
    "sns.countplot(x='rank',hue='sex',data=df)"
   ]
  },
  {
   "cell_type": "markdown",
   "id": "96c65861",
   "metadata": {},
   "source": [
    "Maximum Female are working as Prof. Maximum male as Prof"
   ]
  },
  {
   "cell_type": "code",
   "execution_count": 23,
   "id": "fb17c024",
   "metadata": {},
   "outputs": [
    {
     "data": {
      "text/plain": [
       "<seaborn.axisgrid.FacetGrid at 0x164b0c969a0>"
      ]
     },
     "execution_count": 23,
     "metadata": {},
     "output_type": "execute_result"
    },
    {
     "data": {
      "text/plain": [
       "<Figure size 576x360 with 0 Axes>"
      ]
     },
     "metadata": {},
     "output_type": "display_data"
    },
    {
     "data": {
      "image/png": "[encoded data removed]",
      "text/plain": [
       "<Figure size 432.125x360 with 1 Axes>"
      ]
     },
     "metadata": {
      "needs_background": "light"
     },
     "output_type": "display_data"
    }
   ],
   "source": [
    "plt.figure(figsize=(8,5))\n",
    "sns.catplot(x='discipline',y='salary',hue='sex',data=df)"
   ]
  },
  {
   "cell_type": "markdown",
   "id": "5f68910f",
   "metadata": {},
   "source": [
    "Maximum salary is recieved by Female is at discipline 'B'\n",
    "\n",
    "Maximum salary is recieved by Male is at discipline 'B' followed by discipline'A' "
   ]
  },
  {
   "cell_type": "code",
   "execution_count": 24,
   "id": "060144cb",
   "metadata": {},
   "outputs": [
    {
     "data": {
      "text/plain": [
       "<AxesSubplot:xlabel='discipline', ylabel='count'>"
      ]
     },
     "execution_count": 24,
     "metadata": {},
     "output_type": "execute_result"
    },
    {
     "data": {
      "image/png": "[encoded data removed]",
      "text/plain": [
       "<Figure size 576x360 with 1 Axes>"
      ]
     },
     "metadata": {
      "needs_background": "light"
     },
     "output_type": "display_data"
    }
   ],
   "source": [
    "plt.figure(figsize=(8,5))\n",
    "sns.countplot(x='discipline',hue='sex',data=df)"
   ]
  },
  {
   "cell_type": "markdown",
   "id": "9549bc30",
   "metadata": {},
   "source": [
    "Maximum Female is In discipline 'B'"
   ]
  },
  {
   "cell_type": "code",
   "execution_count": 25,
   "id": "91baca72",
   "metadata": {},
   "outputs": [
    {
     "data": {
      "text/plain": [
       "<AxesSubplot:xlabel='yrs.since.phd', ylabel='salary'>"
      ]
     },
     "execution_count": 25,
     "metadata": {},
     "output_type": "execute_result"
    },
    {
     "data": {
      "image/png": "[encoded data removed]",
      "text/plain": [
       "<Figure size 576x432 with 1 Axes>"
      ]
     },
     "metadata": {
      "needs_background": "light"
     },
     "output_type": "display_data"
    }
   ],
   "source": [
    "plt.figure(figsize=(8,6))\n",
    "sns.regplot(x='yrs.since.phd',y='salary',data=df)\n",
    "# both data are int."
   ]
  },
  {
   "cell_type": "markdown",
   "id": "15b1e692",
   "metadata": {},
   "source": [
    "After 10 years of complition of phd, maximum candidates got their salary hike. and Year.Since.phd is positively related with Salary."
   ]
  },
  {
   "cell_type": "code",
   "execution_count": 26,
   "id": "e7145d3e",
   "metadata": {},
   "outputs": [
    {
     "data": {
      "text/plain": [
       "<AxesSubplot:xlabel='yrs.service', ylabel='salary'>"
      ]
     },
     "execution_count": 26,
     "metadata": {},
     "output_type": "execute_result"
    },
    {
     "data": {
      "image/png": "[encoded data removed]",
      "text/plain": [
       "<Figure size 576x432 with 1 Axes>"
      ]
     },
     "metadata": {
      "needs_background": "light"
     },
     "output_type": "display_data"
    }
   ],
   "source": [
    "plt.figure(figsize=(8,6))\n",
    "sns.regplot(x='yrs.service',y='salary',data=df)"
   ]
  },
  {
   "cell_type": "markdown",
   "id": "af04a3d5",
   "metadata": {},
   "source": [
    "Maximum salary at the time of joining lies at 75000 to 75000"
   ]
  },
  {
   "cell_type": "code",
   "execution_count": 27,
   "id": "65fc684a",
   "metadata": {},
   "outputs": [
    {
     "data": {
      "text/plain": [
       "rank             object\n",
       "discipline       object\n",
       "yrs.since.phd     int64\n",
       "yrs.service       int64\n",
       "sex              object\n",
       "salary            int64\n",
       "dtype: object"
      ]
     },
     "execution_count": 27,
     "metadata": {},
     "output_type": "execute_result"
    }
   ],
   "source": [
    "df.dtypes"
   ]
  },
  {
   "cell_type": "code",
   "execution_count": 28,
   "id": "7e41fa07",
   "metadata": {},
   "outputs": [
    {
     "data": {
      "text/plain": [
       "<seaborn.axisgrid.PairGrid at 0x164b0e91430>"
      ]
     },
     "execution_count": 28,
     "metadata": {},
     "output_type": "execute_result"
    },
    {
     "data": {
      "image/png": "[encoded data removed]",
      "text/plain": [
       "<Figure size 612.125x540 with 12 Axes>"
      ]
     },
     "metadata": {
      "needs_background": "light"
     },
     "output_type": "display_data"
    }
   ],
   "source": [
    "sns.pairplot(df,hue='sex')"
   ]
  },
  {
   "cell_type": "markdown",
   "id": "16111971",
   "metadata": {},
   "source": [
    "## Encoding:"
   ]
  },
  {
   "cell_type": "code",
   "execution_count": 29,
   "id": "21a6676c",
   "metadata": {},
   "outputs": [],
   "source": [
    "from sklearn.preprocessing import OrdinalEncoder\n",
    "\n",
    "enc=OrdinalEncoder()"
   ]
  },
  {
   "cell_type": "code",
   "execution_count": 30,
   "id": "e43083f7",
   "metadata": {},
   "outputs": [],
   "source": [
    "for i in df.columns:\n",
    "    \n",
    "    if df[i].dtypes == 'object':\n",
    "        df[i]=enc.fit_transform(df[i].values.reshape(-1,1))"
   ]
  },
  {
   "cell_type": "code",
   "execution_count": 31,
   "id": "8840cc1a",
   "metadata": {},
   "outputs": [
    {
     "data": {
      "text/html": [
       "<div>\n",
       "<style scoped>\n",
       "    .dataframe tbody tr th:only-of-type {\n",
       "        vertical-align: middle;\n",
       "    }\n",
       "\n",
       "    .dataframe tbody tr th {\n",
       "        vertical-align: top;\n",
       "    }\n",
       "\n",
       "    .dataframe thead th {\n",
       "        text-align: right;\n",
       "    }\n",
       "</style>\n",
       "<table border=\"1\" class=\"dataframe\">\n",
       "  <thead>\n",
       "    <tr style=\"text-align: right;\">\n",
       "      <th></th>\n",
       "      <th>rank</th>\n",
       "      <th>discipline</th>\n",
       "      <th>yrs.since.phd</th>\n",
       "      <th>yrs.service</th>\n",
       "      <th>sex</th>\n",
       "      <th>salary</th>\n",
       "    </tr>\n",
       "  </thead>\n",
       "  <tbody>\n",
       "    <tr>\n",
       "      <th>0</th>\n",
       "      <td>2.0</td>\n",
       "      <td>1.0</td>\n",
       "      <td>19</td>\n",
       "      <td>18</td>\n",
       "      <td>1.0</td>\n",
       "      <td>139750</td>\n",
       "    </tr>\n",
       "    <tr>\n",
       "      <th>1</th>\n",
       "      <td>2.0</td>\n",
       "      <td>1.0</td>\n",
       "      <td>20</td>\n",
       "      <td>16</td>\n",
       "      <td>1.0</td>\n",
       "      <td>173200</td>\n",
       "    </tr>\n",
       "    <tr>\n",
       "      <th>2</th>\n",
       "      <td>1.0</td>\n",
       "      <td>1.0</td>\n",
       "      <td>4</td>\n",
       "      <td>3</td>\n",
       "      <td>1.0</td>\n",
       "      <td>79750</td>\n",
       "    </tr>\n",
       "    <tr>\n",
       "      <th>3</th>\n",
       "      <td>2.0</td>\n",
       "      <td>1.0</td>\n",
       "      <td>45</td>\n",
       "      <td>39</td>\n",
       "      <td>1.0</td>\n",
       "      <td>115000</td>\n",
       "    </tr>\n",
       "    <tr>\n",
       "      <th>4</th>\n",
       "      <td>2.0</td>\n",
       "      <td>1.0</td>\n",
       "      <td>40</td>\n",
       "      <td>41</td>\n",
       "      <td>1.0</td>\n",
       "      <td>141500</td>\n",
       "    </tr>\n",
       "    <tr>\n",
       "      <th>...</th>\n",
       "      <td>...</td>\n",
       "      <td>...</td>\n",
       "      <td>...</td>\n",
       "      <td>...</td>\n",
       "      <td>...</td>\n",
       "      <td>...</td>\n",
       "    </tr>\n",
       "    <tr>\n",
       "      <th>392</th>\n",
       "      <td>2.0</td>\n",
       "      <td>0.0</td>\n",
       "      <td>33</td>\n",
       "      <td>30</td>\n",
       "      <td>1.0</td>\n",
       "      <td>103106</td>\n",
       "    </tr>\n",
       "    <tr>\n",
       "      <th>393</th>\n",
       "      <td>2.0</td>\n",
       "      <td>0.0</td>\n",
       "      <td>31</td>\n",
       "      <td>19</td>\n",
       "      <td>1.0</td>\n",
       "      <td>150564</td>\n",
       "    </tr>\n",
       "    <tr>\n",
       "      <th>394</th>\n",
       "      <td>2.0</td>\n",
       "      <td>0.0</td>\n",
       "      <td>42</td>\n",
       "      <td>25</td>\n",
       "      <td>1.0</td>\n",
       "      <td>101738</td>\n",
       "    </tr>\n",
       "    <tr>\n",
       "      <th>395</th>\n",
       "      <td>2.0</td>\n",
       "      <td>0.0</td>\n",
       "      <td>25</td>\n",
       "      <td>15</td>\n",
       "      <td>1.0</td>\n",
       "      <td>95329</td>\n",
       "    </tr>\n",
       "    <tr>\n",
       "      <th>396</th>\n",
       "      <td>1.0</td>\n",
       "      <td>0.0</td>\n",
       "      <td>8</td>\n",
       "      <td>4</td>\n",
       "      <td>1.0</td>\n",
       "      <td>81035</td>\n",
       "    </tr>\n",
       "  </tbody>\n",
       "</table>\n",
       "<p>397 rows × 6 columns</p>\n",
       "</div>"
      ],
      "text/plain": [
       "     rank  discipline  yrs.since.phd  yrs.service  sex  salary\n",
       "0     2.0         1.0             19           18  1.0  139750\n",
       "1     2.0         1.0             20           16  1.0  173200\n",
       "2     1.0         1.0              4            3  1.0   79750\n",
       "3     2.0         1.0             45           39  1.0  115000\n",
       "4     2.0         1.0             40           41  1.0  141500\n",
       "..    ...         ...            ...          ...  ...     ...\n",
       "392   2.0         0.0             33           30  1.0  103106\n",
       "393   2.0         0.0             31           19  1.0  150564\n",
       "394   2.0         0.0             42           25  1.0  101738\n",
       "395   2.0         0.0             25           15  1.0   95329\n",
       "396   1.0         0.0              8            4  1.0   81035\n",
       "\n",
       "[397 rows x 6 columns]"
      ]
     },
     "execution_count": 31,
     "metadata": {},
     "output_type": "execute_result"
    }
   ],
   "source": [
    "df"
   ]
  },
  {
   "cell_type": "markdown",
   "id": "b98cfd55",
   "metadata": {},
   "source": [
    "Maximum with positivite correlation"
   ]
  },
  {
   "cell_type": "code",
   "execution_count": 32,
   "id": "6806bcef",
   "metadata": {},
   "outputs": [
    {
     "name": "stdout",
     "output_type": "stream",
     "text": [
      "<class 'pandas.core.frame.DataFrame'>\n",
      "RangeIndex: 397 entries, 0 to 396\n",
      "Data columns (total 6 columns):\n",
      " #   Column         Non-Null Count  Dtype  \n",
      "---  ------         --------------  -----  \n",
      " 0   rank           397 non-null    float64\n",
      " 1   discipline     397 non-null    float64\n",
      " 2   yrs.since.phd  397 non-null    int64  \n",
      " 3   yrs.service    397 non-null    int64  \n",
      " 4   sex            397 non-null    float64\n",
      " 5   salary         397 non-null    int64  \n",
      "dtypes: float64(3), int64(3)\n",
      "memory usage: 18.7 KB\n"
     ]
    }
   ],
   "source": [
    "df.info()"
   ]
  },
  {
   "cell_type": "markdown",
   "id": "555b5bd5",
   "metadata": {},
   "source": [
    "# Correlation:"
   ]
  },
  {
   "cell_type": "code",
   "execution_count": 33,
   "id": "c83c3f6a",
   "metadata": {},
   "outputs": [
    {
     "data": {
      "text/html": [
       "<div>\n",
       "<style scoped>\n",
       "    .dataframe tbody tr th:only-of-type {\n",
       "        vertical-align: middle;\n",
       "    }\n",
       "\n",
       "    .dataframe tbody tr th {\n",
       "        vertical-align: top;\n",
       "    }\n",
       "\n",
       "    .dataframe thead th {\n",
       "        text-align: right;\n",
       "    }\n",
       "</style>\n",
       "<table border=\"1\" class=\"dataframe\">\n",
       "  <thead>\n",
       "    <tr style=\"text-align: right;\">\n",
       "      <th></th>\n",
       "      <th>rank</th>\n",
       "      <th>discipline</th>\n",
       "      <th>yrs.since.phd</th>\n",
       "      <th>yrs.service</th>\n",
       "      <th>sex</th>\n",
       "      <th>salary</th>\n",
       "    </tr>\n",
       "  </thead>\n",
       "  <tbody>\n",
       "    <tr>\n",
       "      <th>rank</th>\n",
       "      <td>1.000000</td>\n",
       "      <td>-0.086266</td>\n",
       "      <td>0.525500</td>\n",
       "      <td>0.447499</td>\n",
       "      <td>0.132492</td>\n",
       "      <td>0.522207</td>\n",
       "    </tr>\n",
       "    <tr>\n",
       "      <th>discipline</th>\n",
       "      <td>-0.086266</td>\n",
       "      <td>1.000000</td>\n",
       "      <td>-0.218087</td>\n",
       "      <td>-0.164599</td>\n",
       "      <td>0.003724</td>\n",
       "      <td>0.156084</td>\n",
       "    </tr>\n",
       "    <tr>\n",
       "      <th>yrs.since.phd</th>\n",
       "      <td>0.525500</td>\n",
       "      <td>-0.218087</td>\n",
       "      <td>1.000000</td>\n",
       "      <td>0.909649</td>\n",
       "      <td>0.148788</td>\n",
       "      <td>0.419231</td>\n",
       "    </tr>\n",
       "    <tr>\n",
       "      <th>yrs.service</th>\n",
       "      <td>0.447499</td>\n",
       "      <td>-0.164599</td>\n",
       "      <td>0.909649</td>\n",
       "      <td>1.000000</td>\n",
       "      <td>0.153740</td>\n",
       "      <td>0.334745</td>\n",
       "    </tr>\n",
       "    <tr>\n",
       "      <th>sex</th>\n",
       "      <td>0.132492</td>\n",
       "      <td>0.003724</td>\n",
       "      <td>0.148788</td>\n",
       "      <td>0.153740</td>\n",
       "      <td>1.000000</td>\n",
       "      <td>0.138610</td>\n",
       "    </tr>\n",
       "    <tr>\n",
       "      <th>salary</th>\n",
       "      <td>0.522207</td>\n",
       "      <td>0.156084</td>\n",
       "      <td>0.419231</td>\n",
       "      <td>0.334745</td>\n",
       "      <td>0.138610</td>\n",
       "      <td>1.000000</td>\n",
       "    </tr>\n",
       "  </tbody>\n",
       "</table>\n",
       "</div>"
      ],
      "text/plain": [
       "                   rank  discipline  yrs.since.phd  yrs.service       sex  \\\n",
       "rank           1.000000   -0.086266       0.525500     0.447499  0.132492   \n",
       "discipline    -0.086266    1.000000      -0.218087    -0.164599  0.003724   \n",
       "yrs.since.phd  0.525500   -0.218087       1.000000     0.909649  0.148788   \n",
       "yrs.service    0.447499   -0.164599       0.909649     1.000000  0.153740   \n",
       "sex            0.132492    0.003724       0.148788     0.153740  1.000000   \n",
       "salary         0.522207    0.156084       0.419231     0.334745  0.138610   \n",
       "\n",
       "                 salary  \n",
       "rank           0.522207  \n",
       "discipline     0.156084  \n",
       "yrs.since.phd  0.419231  \n",
       "yrs.service    0.334745  \n",
       "sex            0.138610  \n",
       "salary         1.000000  "
      ]
     },
     "execution_count": 33,
     "metadata": {},
     "output_type": "execute_result"
    }
   ],
   "source": [
    "df.corr()"
   ]
  },
  {
   "cell_type": "code",
   "execution_count": 34,
   "id": "f81e6ae6",
   "metadata": {},
   "outputs": [
    {
     "data": {
      "text/plain": [
       "<AxesSubplot:>"
      ]
     },
     "execution_count": 34,
     "metadata": {},
     "output_type": "execute_result"
    },
    {
     "data": {
      "image/png": "[encoded data removed]",
      "text/plain": [
       "<Figure size 1296x432 with 2 Axes>"
      ]
     },
     "metadata": {
      "needs_background": "light"
     },
     "output_type": "display_data"
    }
   ],
   "source": [
    "plt.figure(figsize=(18,6))\n",
    "sns.heatmap(df.corr(),annot=True,cmap=\"rocket\",linewidth=0.2,fmt='0.2f')"
   ]
  },
  {
   "cell_type": "markdown",
   "id": "3d118546",
   "metadata": {},
   "source": [
    "### Outcome of corelation:\n",
    "\n",
    "1. sex is 14 percent correlated with the target variable which is a week bond.\n",
    "2. Years of service is 33 percent correlated with the target variable which is very good bond.\n",
    "3. Years Since Phd is 42 percent correlted with the target variable which is strong bond.\n",
    "4. discipline is 16 percent correlated with the target variable which is good bond.\n",
    "5. rank is 52 percent correlated with the target variable, which is a strong bond\n",
    "6. salary is Target Variable\n",
    "\n",
    "Maximum correlation- 'Rank'\n",
    "\n",
    "Week correlation- 'sex'"
   ]
  },
  {
   "cell_type": "markdown",
   "id": "fb96c9f1",
   "metadata": {},
   "source": [
    "### Checking columns witch is positively and negatively correlated with target variable."
   ]
  },
  {
   "cell_type": "code",
   "execution_count": 35,
   "id": "49c84b60",
   "metadata": {},
   "outputs": [
    {
     "data": {
      "text/plain": [
       "sex              0.138610\n",
       "discipline       0.156084\n",
       "yrs.service      0.334745\n",
       "yrs.since.phd    0.419231\n",
       "rank             0.522207\n",
       "salary           1.000000\n",
       "Name: salary, dtype: float64"
      ]
     },
     "execution_count": 35,
     "metadata": {},
     "output_type": "execute_result"
    }
   ],
   "source": [
    "df.corr()['salary'].sort_values()"
   ]
  },
  {
   "cell_type": "code",
   "execution_count": 36,
   "id": "8ff7a64d",
   "metadata": {},
   "outputs": [
    {
     "data": {
      "text/plain": [
       "Text(0.5, 1.0, 'Correlation')"
      ]
     },
     "execution_count": 36,
     "metadata": {},
     "output_type": "execute_result"
    },
    {
     "data": {
      "image/png": "[encoded data removed]",
      "text/plain": [
       "<Figure size 576x288 with 1 Axes>"
      ]
     },
     "metadata": {
      "needs_background": "light"
     },
     "output_type": "display_data"
    }
   ],
   "source": [
    "plt.figure(figsize=(8,4))\n",
    "df.corr()['salary'].sort_values(ascending=False).drop(['salary']).plot(kind='bar',color='g')\n",
    "plt.xlabel(\"Feature\",fontsize=14)\n",
    "plt.ylabel(\"Columns with Target Name\",fontsize=14)\n",
    "plt.title(\"Correlation\",fontsize=18)"
   ]
  },
  {
   "cell_type": "markdown",
   "id": "f2f2c392",
   "metadata": {},
   "source": [
    "'sex' has week correlated with Target Variable."
   ]
  },
  {
   "cell_type": "markdown",
   "id": "cab8a8a6",
   "metadata": {},
   "source": [
    "#### Less Correlated so No Multicolinearity.."
   ]
  },
  {
   "cell_type": "markdown",
   "id": "26b34029",
   "metadata": {},
   "source": [
    "## Satistical Summary(Descriptive Statistics)"
   ]
  },
  {
   "cell_type": "code",
   "execution_count": 37,
   "id": "c3c020ba",
   "metadata": {},
   "outputs": [
    {
     "data": {
      "text/html": [
       "<div>\n",
       "<style scoped>\n",
       "    .dataframe tbody tr th:only-of-type {\n",
       "        vertical-align: middle;\n",
       "    }\n",
       "\n",
       "    .dataframe tbody tr th {\n",
       "        vertical-align: top;\n",
       "    }\n",
       "\n",
       "    .dataframe thead th {\n",
       "        text-align: right;\n",
       "    }\n",
       "</style>\n",
       "<table border=\"1\" class=\"dataframe\">\n",
       "  <thead>\n",
       "    <tr style=\"text-align: right;\">\n",
       "      <th></th>\n",
       "      <th>rank</th>\n",
       "      <th>discipline</th>\n",
       "      <th>yrs.since.phd</th>\n",
       "      <th>yrs.service</th>\n",
       "      <th>sex</th>\n",
       "      <th>salary</th>\n",
       "    </tr>\n",
       "  </thead>\n",
       "  <tbody>\n",
       "    <tr>\n",
       "      <th>count</th>\n",
       "      <td>397.000000</td>\n",
       "      <td>397.000000</td>\n",
       "      <td>397.000000</td>\n",
       "      <td>397.000000</td>\n",
       "      <td>397.000000</td>\n",
       "      <td>397.000000</td>\n",
       "    </tr>\n",
       "    <tr>\n",
       "      <th>mean</th>\n",
       "      <td>1.508816</td>\n",
       "      <td>0.544081</td>\n",
       "      <td>22.314861</td>\n",
       "      <td>17.614610</td>\n",
       "      <td>0.901763</td>\n",
       "      <td>113706.458438</td>\n",
       "    </tr>\n",
       "    <tr>\n",
       "      <th>std</th>\n",
       "      <td>0.757486</td>\n",
       "      <td>0.498682</td>\n",
       "      <td>12.887003</td>\n",
       "      <td>13.006024</td>\n",
       "      <td>0.298010</td>\n",
       "      <td>30289.038695</td>\n",
       "    </tr>\n",
       "    <tr>\n",
       "      <th>min</th>\n",
       "      <td>0.000000</td>\n",
       "      <td>0.000000</td>\n",
       "      <td>1.000000</td>\n",
       "      <td>0.000000</td>\n",
       "      <td>0.000000</td>\n",
       "      <td>57800.000000</td>\n",
       "    </tr>\n",
       "    <tr>\n",
       "      <th>25%</th>\n",
       "      <td>1.000000</td>\n",
       "      <td>0.000000</td>\n",
       "      <td>12.000000</td>\n",
       "      <td>7.000000</td>\n",
       "      <td>1.000000</td>\n",
       "      <td>91000.000000</td>\n",
       "    </tr>\n",
       "    <tr>\n",
       "      <th>50%</th>\n",
       "      <td>2.000000</td>\n",
       "      <td>1.000000</td>\n",
       "      <td>21.000000</td>\n",
       "      <td>16.000000</td>\n",
       "      <td>1.000000</td>\n",
       "      <td>107300.000000</td>\n",
       "    </tr>\n",
       "    <tr>\n",
       "      <th>75%</th>\n",
       "      <td>2.000000</td>\n",
       "      <td>1.000000</td>\n",
       "      <td>32.000000</td>\n",
       "      <td>27.000000</td>\n",
       "      <td>1.000000</td>\n",
       "      <td>134185.000000</td>\n",
       "    </tr>\n",
       "    <tr>\n",
       "      <th>max</th>\n",
       "      <td>2.000000</td>\n",
       "      <td>1.000000</td>\n",
       "      <td>56.000000</td>\n",
       "      <td>60.000000</td>\n",
       "      <td>1.000000</td>\n",
       "      <td>231545.000000</td>\n",
       "    </tr>\n",
       "  </tbody>\n",
       "</table>\n",
       "</div>"
      ],
      "text/plain": [
       "             rank  discipline  yrs.since.phd  yrs.service         sex  \\\n",
       "count  397.000000  397.000000     397.000000   397.000000  397.000000   \n",
       "mean     1.508816    0.544081      22.314861    17.614610    0.901763   \n",
       "std      0.757486    0.498682      12.887003    13.006024    0.298010   \n",
       "min      0.000000    0.000000       1.000000     0.000000    0.000000   \n",
       "25%      1.000000    0.000000      12.000000     7.000000    1.000000   \n",
       "50%      2.000000    1.000000      21.000000    16.000000    1.000000   \n",
       "75%      2.000000    1.000000      32.000000    27.000000    1.000000   \n",
       "max      2.000000    1.000000      56.000000    60.000000    1.000000   \n",
       "\n",
       "              salary  \n",
       "count     397.000000  \n",
       "mean   113706.458438  \n",
       "std     30289.038695  \n",
       "min     57800.000000  \n",
       "25%     91000.000000  \n",
       "50%    107300.000000  \n",
       "75%    134185.000000  \n",
       "max    231545.000000  "
      ]
     },
     "execution_count": 37,
     "metadata": {},
     "output_type": "execute_result"
    }
   ],
   "source": [
    "df.describe()"
   ]
  },
  {
   "cell_type": "code",
   "execution_count": 38,
   "id": "9cd02b01",
   "metadata": {},
   "outputs": [],
   "source": [
    "# counts are intact means no missing value\n",
    "# mean is greater than median at yrs.since.phd, yrs.service hence columns \"Right Skewed Data\"\n",
    "# mean is greater than median at salary is right skewd but its a target variable\n",
    "# median is greater than mean at rank,discipline,sex are 'Left skewed data' but category variable.\n",
    "\n",
    "# spread in data is found\n",
    "# Skwness is present\n",
    "\n",
    "# huge outliers in years of service"
   ]
  },
  {
   "cell_type": "code",
   "execution_count": 39,
   "id": "869dd48a",
   "metadata": {},
   "outputs": [
    {
     "data": {
      "text/plain": [
       "<AxesSubplot:>"
      ]
     },
     "execution_count": 39,
     "metadata": {},
     "output_type": "execute_result"
    },
    {
     "data": {
      "image/png": "[encoded data removed]",
      "text/plain": [
       "<Figure size 1800x576 with 2 Axes>"
      ]
     },
     "metadata": {
      "needs_background": "light"
     },
     "output_type": "display_data"
    }
   ],
   "source": [
    "plt.figure(figsize=(25,8))\n",
    "sns.heatmap(df.describe(),annot=True,cmap='rocket',linewidth=0.02,fmt='0.2f',linecolor='w')"
   ]
  },
  {
   "cell_type": "markdown",
   "id": "fe9662a4",
   "metadata": {},
   "source": [
    "## Checking Outliers:"
   ]
  },
  {
   "cell_type": "code",
   "execution_count": 40,
   "id": "596989e4",
   "metadata": {},
   "outputs": [
    {
     "data": {
      "text/plain": [
       "Index(['rank', 'discipline', 'yrs.since.phd', 'yrs.service', 'sex', 'salary'], dtype='object')"
      ]
     },
     "execution_count": 40,
     "metadata": {},
     "output_type": "execute_result"
    }
   ],
   "source": [
    "df.columns"
   ]
  },
  {
   "cell_type": "code",
   "execution_count": 41,
   "id": "d73f7c15",
   "metadata": {},
   "outputs": [
    {
     "name": "stdout",
     "output_type": "stream",
     "text": [
      "<class 'pandas.core.frame.DataFrame'>\n",
      "RangeIndex: 397 entries, 0 to 396\n",
      "Data columns (total 6 columns):\n",
      " #   Column         Non-Null Count  Dtype  \n",
      "---  ------         --------------  -----  \n",
      " 0   rank           397 non-null    float64\n",
      " 1   discipline     397 non-null    float64\n",
      " 2   yrs.since.phd  397 non-null    int64  \n",
      " 3   yrs.service    397 non-null    int64  \n",
      " 4   sex            397 non-null    float64\n",
      " 5   salary         397 non-null    int64  \n",
      "dtypes: float64(3), int64(3)\n",
      "memory usage: 18.7 KB\n"
     ]
    }
   ],
   "source": [
    "df.info() # info of columns"
   ]
  },
  {
   "cell_type": "code",
   "execution_count": 42,
   "id": "c98bec04",
   "metadata": {},
   "outputs": [
    {
     "data": {
      "text/plain": [
       "<AxesSubplot:xlabel='rank'>"
      ]
     },
     "execution_count": 42,
     "metadata": {},
     "output_type": "execute_result"
    },
    {
     "data": {
      "image/png": "[encoded data removed]",
      "text/plain": [
       "<Figure size 432x288 with 1 Axes>"
      ]
     },
     "metadata": {
      "needs_background": "light"
     },
     "output_type": "display_data"
    }
   ],
   "source": [
    "sns.boxplot(x='rank',data=df) "
   ]
  },
  {
   "cell_type": "code",
   "execution_count": 43,
   "id": "854b7493",
   "metadata": {},
   "outputs": [
    {
     "data": {
      "text/plain": [
       "<AxesSubplot:xlabel='discipline'>"
      ]
     },
     "execution_count": 43,
     "metadata": {},
     "output_type": "execute_result"
    },
    {
     "data": {
      "image/png": "[encoded data removed]",
      "text/plain": [
       "<Figure size 432x288 with 1 Axes>"
      ]
     },
     "metadata": {
      "needs_background": "light"
     },
     "output_type": "display_data"
    }
   ],
   "source": [
    "sns.boxplot(x='discipline',data=df)"
   ]
  },
  {
   "cell_type": "code",
   "execution_count": 44,
   "id": "a38e8ebe",
   "metadata": {},
   "outputs": [
    {
     "data": {
      "text/plain": [
       "<AxesSubplot:xlabel='yrs.since.phd'>"
      ]
     },
     "execution_count": 44,
     "metadata": {},
     "output_type": "execute_result"
    },
    {
     "data": {
      "image/png": "[encoded data removed]",
      "text/plain": [
       "<Figure size 432x288 with 1 Axes>"
      ]
     },
     "metadata": {
      "needs_background": "light"
     },
     "output_type": "display_data"
    }
   ],
   "source": [
    "sns.boxplot(x='yrs.since.phd',data=df)"
   ]
  },
  {
   "cell_type": "code",
   "execution_count": 45,
   "id": "e4438713",
   "metadata": {},
   "outputs": [
    {
     "data": {
      "text/plain": [
       "<AxesSubplot:xlabel='yrs.service'>"
      ]
     },
     "execution_count": 45,
     "metadata": {},
     "output_type": "execute_result"
    },
    {
     "data": {
      "image/png": "[encoded data removed]",
      "text/plain": [
       "<Figure size 432x288 with 1 Axes>"
      ]
     },
     "metadata": {
      "needs_background": "light"
     },
     "output_type": "display_data"
    }
   ],
   "source": [
    "sns.boxplot(x='yrs.service',data=df)"
   ]
  },
  {
   "cell_type": "code",
   "execution_count": 46,
   "id": "ee8239b7",
   "metadata": {},
   "outputs": [
    {
     "data": {
      "text/plain": [
       "<AxesSubplot:xlabel='sex'>"
      ]
     },
     "execution_count": 46,
     "metadata": {},
     "output_type": "execute_result"
    },
    {
     "data": {
      "image/png": "[encoded data removed]",
      "text/plain": [
       "<Figure size 432x288 with 1 Axes>"
      ]
     },
     "metadata": {
      "needs_background": "light"
     },
     "output_type": "display_data"
    }
   ],
   "source": [
    "sns.boxplot(x='sex',data=df)"
   ]
  },
  {
   "cell_type": "code",
   "execution_count": 47,
   "id": "56879bdb",
   "metadata": {},
   "outputs": [
    {
     "data": {
      "text/plain": [
       "<AxesSubplot:xlabel='salary'>"
      ]
     },
     "execution_count": 47,
     "metadata": {},
     "output_type": "execute_result"
    },
    {
     "data": {
      "image/png": "[encoded data removed]",
      "text/plain": [
       "<Figure size 432x288 with 1 Axes>"
      ]
     },
     "metadata": {
      "needs_background": "light"
     },
     "output_type": "display_data"
    }
   ],
   "source": [
    "sns.boxplot(x='salary',data=df) # target variable"
   ]
  },
  {
   "cell_type": "markdown",
   "id": "da47e5ec",
   "metadata": {},
   "source": [
    "From all the above observation we found that:\n",
    "    \n",
    "   - Their is no outliers in Rank, discipline, yrs.since.phd columns.\n",
    "   - Their is a outlier present in sex colum which is a category column.\n",
    "   - Their is a outlier present present in salary column but that is target variable.\n",
    "   - Their is a outlier in yrs.service which is a integer value.\n",
    "  \n",
    "    `Finally We found outlier on yrs.service column that needs to to treated."
   ]
  },
  {
   "cell_type": "markdown",
   "id": "a49a0262",
   "metadata": {},
   "source": [
    "# Skewness"
   ]
  },
  {
   "cell_type": "code",
   "execution_count": 48,
   "id": "cfac47da",
   "metadata": {},
   "outputs": [],
   "source": [
    "import warnings\n",
    "warnings.filterwarnings('ignore')"
   ]
  },
  {
   "cell_type": "code",
   "execution_count": 49,
   "id": "c80e4977",
   "metadata": {},
   "outputs": [
    {
     "data": {
      "text/plain": [
       "rank            -1.151164\n",
       "discipline      -0.177684\n",
       "yrs.since.phd    0.300880\n",
       "yrs.service      0.650569\n",
       "sex             -2.709958\n",
       "salary           0.714568\n",
       "dtype: float64"
      ]
     },
     "execution_count": 49,
     "metadata": {},
     "output_type": "execute_result"
    }
   ],
   "source": [
    "df.skew()"
   ]
  },
  {
   "cell_type": "markdown",
   "id": "382b4d78",
   "metadata": {},
   "source": [
    "# Observation:\n",
    "\n",
    "The Outcome of the skewness. Skewness threshold is taken +/-68.\n",
    "Column having outliers:\n",
    "    1. Rank\n",
    "    2. sex\n",
    "    3. salary\n",
    "    \n",
    "    #rank,sex category variable contain sknewness, \n",
    "    #salary which is a target variable contain skwenss\n",
    "     "
   ]
  },
  {
   "cell_type": "code",
   "execution_count": 50,
   "id": "0e9b9ac0",
   "metadata": {},
   "outputs": [
    {
     "data": {
      "text/plain": [
       "<AxesSubplot:xlabel='rank', ylabel='Density'>"
      ]
     },
     "execution_count": 50,
     "metadata": {},
     "output_type": "execute_result"
    },
    {
     "data": {
      "image/png": "[encoded data removed]",
      "text/plain": [
       "<Figure size 432x288 with 1 Axes>"
      ]
     },
     "metadata": {
      "needs_background": "light"
     },
     "output_type": "display_data"
    }
   ],
   "source": [
    "sns.distplot(df['rank'])"
   ]
  },
  {
   "cell_type": "markdown",
   "id": "16477498",
   "metadata": {},
   "source": [
    "The data of this column is not normalised.The blocks is out of the normalised curve\n",
    "\n",
    "This plot is Trimodal. Trimodal-three modes(Frequency)"
   ]
  },
  {
   "cell_type": "code",
   "execution_count": 51,
   "id": "873fb4df",
   "metadata": {},
   "outputs": [
    {
     "data": {
      "text/plain": [
       "<AxesSubplot:xlabel='discipline', ylabel='Density'>"
      ]
     },
     "execution_count": 51,
     "metadata": {},
     "output_type": "execute_result"
    },
    {
     "data": {
      "image/png": "[encoded data removed]",
      "text/plain": [
       "<Figure size 432x288 with 1 Axes>"
      ]
     },
     "metadata": {
      "needs_background": "light"
     },
     "output_type": "display_data"
    }
   ],
   "source": [
    "sns.distplot(df['discipline'])"
   ]
  },
  {
   "cell_type": "markdown",
   "id": "a6edaa39",
   "metadata": {},
   "source": [
    "The data of this column is not normalised. The blocks is out of the normalised curve. This plot is bimodal, Bimodel=Two Modes(frequency)"
   ]
  },
  {
   "cell_type": "code",
   "execution_count": 52,
   "id": "9586d6aa",
   "metadata": {},
   "outputs": [
    {
     "data": {
      "text/plain": [
       "<AxesSubplot:xlabel='yrs.since.phd', ylabel='Density'>"
      ]
     },
     "execution_count": 52,
     "metadata": {},
     "output_type": "execute_result"
    },
    {
     "data": {
      "image/png": "[encoded data removed]",
      "text/plain": [
       "<Figure size 432x288 with 1 Axes>"
      ]
     },
     "metadata": {
      "needs_background": "light"
     },
     "output_type": "display_data"
    }
   ],
   "source": [
    "sns.distplot(df['yrs.since.phd'])"
   ]
  },
  {
   "cell_type": "markdown",
   "id": "7ed117db",
   "metadata": {},
   "source": [
    "The data in this column is not normalised. The blocks is out of the normalised curve. "
   ]
  },
  {
   "cell_type": "code",
   "execution_count": 53,
   "id": "fe631234",
   "metadata": {},
   "outputs": [
    {
     "data": {
      "text/plain": [
       "<AxesSubplot:xlabel='yrs.service', ylabel='Density'>"
      ]
     },
     "execution_count": 53,
     "metadata": {},
     "output_type": "execute_result"
    },
    {
     "data": {
      "image/png": "[encoded data removed]",
      "text/plain": [
       "<Figure size 432x288 with 1 Axes>"
      ]
     },
     "metadata": {
      "needs_background": "light"
     },
     "output_type": "display_data"
    }
   ],
   "source": [
    "sns.distplot(df['yrs.service'])"
   ]
  },
  {
   "cell_type": "markdown",
   "id": "431224e4",
   "metadata": {},
   "source": [
    "The data in this column is not normalised, The blocks is out of the normal curve"
   ]
  },
  {
   "cell_type": "code",
   "execution_count": 54,
   "id": "8717c826",
   "metadata": {},
   "outputs": [
    {
     "data": {
      "text/plain": [
       "<AxesSubplot:xlabel='sex', ylabel='Density'>"
      ]
     },
     "execution_count": 54,
     "metadata": {},
     "output_type": "execute_result"
    },
    {
     "data": {
      "image/png": "[encoded data removed]",
      "text/plain": [
       "<Figure size 432x288 with 1 Axes>"
      ]
     },
     "metadata": {
      "needs_background": "light"
     },
     "output_type": "display_data"
    }
   ],
   "source": [
    "sns.distplot(df['sex'])"
   ]
  },
  {
   "cell_type": "markdown",
   "id": "5758e4f0",
   "metadata": {},
   "source": [
    "The data in the column is not nomalized, the blocks is out of the normal curve"
   ]
  },
  {
   "cell_type": "code",
   "execution_count": 55,
   "id": "e7c62b7f",
   "metadata": {},
   "outputs": [
    {
     "data": {
      "text/plain": [
       "<AxesSubplot:xlabel='salary', ylabel='Density'>"
      ]
     },
     "execution_count": 55,
     "metadata": {},
     "output_type": "execute_result"
    },
    {
     "data": {
      "image/png": "[encoded data removed]",
      "text/plain": [
       "<Figure size 432x288 with 1 Axes>"
      ]
     },
     "metadata": {
      "needs_background": "light"
     },
     "output_type": "display_data"
    }
   ],
   "source": [
    "sns.distplot(df[\"salary\"])"
   ]
  },
  {
   "cell_type": "markdown",
   "id": "510e2c58",
   "metadata": {},
   "source": [
    "The data in the column is not normalised, the blocks is out of the normal curve"
   ]
  },
  {
   "cell_type": "code",
   "execution_count": 56,
   "id": "0ec85262",
   "metadata": {},
   "outputs": [
    {
     "data": {
      "text/plain": [
       "rank            -1.151164\n",
       "discipline      -0.177684\n",
       "yrs.since.phd    0.300880\n",
       "yrs.service      0.650569\n",
       "sex             -2.709958\n",
       "salary           0.714568\n",
       "dtype: float64"
      ]
     },
     "execution_count": 56,
     "metadata": {},
     "output_type": "execute_result"
    }
   ],
   "source": [
    "df.skew()"
   ]
  },
  {
   "cell_type": "markdown",
   "id": "93587d18",
   "metadata": {},
   "source": [
    "### We observed by seeing the Distribution, Data are skewed\n",
    "\n",
    "1. Rank,Discipline,Sex is a category data\n",
    "\n",
    "2. Yrs.since.phd, yrs.service is a int data\n",
    "\n",
    "3. Salary is a Target variable\n"
   ]
  },
  {
   "cell_type": "markdown",
   "id": "91cf2a41",
   "metadata": {},
   "source": [
    "# DATA CLEANSING:"
   ]
  },
  {
   "cell_type": "code",
   "execution_count": 57,
   "id": "ed8ac03e",
   "metadata": {},
   "outputs": [
    {
     "data": {
      "text/plain": [
       "sex              0.138610\n",
       "discipline       0.156084\n",
       "yrs.service      0.334745\n",
       "yrs.since.phd    0.419231\n",
       "rank             0.522207\n",
       "salary           1.000000\n",
       "Name: salary, dtype: float64"
      ]
     },
     "execution_count": 57,
     "metadata": {},
     "output_type": "execute_result"
    }
   ],
   "source": [
    "df.corr()['salary'].sort_values()"
   ]
  },
  {
   "cell_type": "code",
   "execution_count": 58,
   "id": "acd7c48f",
   "metadata": {},
   "outputs": [],
   "source": [
    "# sex is less cor-related with target variable."
   ]
  },
  {
   "cell_type": "code",
   "execution_count": 59,
   "id": "a094eb63",
   "metadata": {},
   "outputs": [],
   "source": [
    "delete=pd.DataFrame({\"Correlation with target\":0.138610,\n",
    "                     \"Column_Name\":\"sex\",\n",
    "                     \"Normalised\":\"No\",\n",
    "                     \"Outliers\":\"Yes\"},index=[0])"
   ]
  },
  {
   "cell_type": "code",
   "execution_count": 60,
   "id": "aa460ace",
   "metadata": {},
   "outputs": [
    {
     "data": {
      "text/html": [
       "<div>\n",
       "<style scoped>\n",
       "    .dataframe tbody tr th:only-of-type {\n",
       "        vertical-align: middle;\n",
       "    }\n",
       "\n",
       "    .dataframe tbody tr th {\n",
       "        vertical-align: top;\n",
       "    }\n",
       "\n",
       "    .dataframe thead th {\n",
       "        text-align: right;\n",
       "    }\n",
       "</style>\n",
       "<table border=\"1\" class=\"dataframe\">\n",
       "  <thead>\n",
       "    <tr style=\"text-align: right;\">\n",
       "      <th></th>\n",
       "      <th>Correlation with target</th>\n",
       "      <th>Column_Name</th>\n",
       "      <th>Normalised</th>\n",
       "      <th>Outliers</th>\n",
       "    </tr>\n",
       "  </thead>\n",
       "  <tbody>\n",
       "    <tr>\n",
       "      <th>0</th>\n",
       "      <td>0.13861</td>\n",
       "      <td>sex</td>\n",
       "      <td>No</td>\n",
       "      <td>Yes</td>\n",
       "    </tr>\n",
       "  </tbody>\n",
       "</table>\n",
       "</div>"
      ],
      "text/plain": [
       "   Correlation with target Column_Name Normalised Outliers\n",
       "0                  0.13861         sex         No      Yes"
      ]
     },
     "execution_count": 60,
     "metadata": {},
     "output_type": "execute_result"
    }
   ],
   "source": [
    "delete"
   ]
  },
  {
   "cell_type": "code",
   "execution_count": 61,
   "id": "7b7da7d0",
   "metadata": {},
   "outputs": [],
   "source": [
    "df.drop(['sex'],axis=1,inplace=True)"
   ]
  },
  {
   "cell_type": "code",
   "execution_count": 62,
   "id": "42c55d5e",
   "metadata": {},
   "outputs": [
    {
     "data": {
      "text/html": [
       "<div>\n",
       "<style scoped>\n",
       "    .dataframe tbody tr th:only-of-type {\n",
       "        vertical-align: middle;\n",
       "    }\n",
       "\n",
       "    .dataframe tbody tr th {\n",
       "        vertical-align: top;\n",
       "    }\n",
       "\n",
       "    .dataframe thead th {\n",
       "        text-align: right;\n",
       "    }\n",
       "</style>\n",
       "<table border=\"1\" class=\"dataframe\">\n",
       "  <thead>\n",
       "    <tr style=\"text-align: right;\">\n",
       "      <th></th>\n",
       "      <th>rank</th>\n",
       "      <th>discipline</th>\n",
       "      <th>yrs.since.phd</th>\n",
       "      <th>yrs.service</th>\n",
       "      <th>salary</th>\n",
       "    </tr>\n",
       "  </thead>\n",
       "  <tbody>\n",
       "    <tr>\n",
       "      <th>310</th>\n",
       "      <td>2.0</td>\n",
       "      <td>0.0</td>\n",
       "      <td>20</td>\n",
       "      <td>7</td>\n",
       "      <td>92050</td>\n",
       "    </tr>\n",
       "  </tbody>\n",
       "</table>\n",
       "</div>"
      ],
      "text/plain": [
       "     rank  discipline  yrs.since.phd  yrs.service  salary\n",
       "310   2.0         0.0             20            7   92050"
      ]
     },
     "execution_count": 62,
     "metadata": {},
     "output_type": "execute_result"
    }
   ],
   "source": [
    "df.sample()"
   ]
  },
  {
   "cell_type": "code",
   "execution_count": 63,
   "id": "afd36a60",
   "metadata": {},
   "outputs": [
    {
     "name": "stdout",
     "output_type": "stream",
     "text": [
      "<class 'pandas.core.frame.DataFrame'>\n",
      "RangeIndex: 397 entries, 0 to 396\n",
      "Data columns (total 5 columns):\n",
      " #   Column         Non-Null Count  Dtype  \n",
      "---  ------         --------------  -----  \n",
      " 0   rank           397 non-null    float64\n",
      " 1   discipline     397 non-null    float64\n",
      " 2   yrs.since.phd  397 non-null    int64  \n",
      " 3   yrs.service    397 non-null    int64  \n",
      " 4   salary         397 non-null    int64  \n",
      "dtypes: float64(2), int64(3)\n",
      "memory usage: 15.6 KB\n"
     ]
    }
   ],
   "source": [
    "df.info()"
   ]
  },
  {
   "cell_type": "markdown",
   "id": "3020b5c8",
   "metadata": {},
   "source": [
    "## Remove Outliers"
   ]
  },
  {
   "cell_type": "code",
   "execution_count": 64,
   "id": "5be92d34",
   "metadata": {},
   "outputs": [],
   "source": [
    "z=np.abs(zscore(df))#making all columns postive"
   ]
  },
  {
   "cell_type": "code",
   "execution_count": 65,
   "id": "7a2506be",
   "metadata": {},
   "outputs": [
    {
     "name": "stdout",
     "output_type": "stream",
     "text": [
      "(array([ 43, 131, 330, 364], dtype=int64), array([4, 3, 3, 4], dtype=int64))\n"
     ]
    }
   ],
   "source": [
    "threshold=3\n",
    "print(np.where(z>3))"
   ]
  },
  {
   "cell_type": "code",
   "execution_count": 66,
   "id": "a4f3d795",
   "metadata": {},
   "outputs": [
    {
     "data": {
      "text/plain": [
       "3.8953773005457175"
      ]
     },
     "execution_count": 66,
     "metadata": {},
     "output_type": "execute_result"
    }
   ],
   "source": [
    "z.iloc[43,4]"
   ]
  },
  {
   "cell_type": "code",
   "execution_count": 67,
   "id": "bdcd47b1",
   "metadata": {},
   "outputs": [
    {
     "data": {
      "text/plain": [
       "3.034410248101501"
      ]
     },
     "execution_count": 67,
     "metadata": {},
     "output_type": "execute_result"
    }
   ],
   "source": [
    "z.iloc[364,4]"
   ]
  },
  {
   "cell_type": "code",
   "execution_count": 68,
   "id": "891dbf7c",
   "metadata": {},
   "outputs": [],
   "source": [
    "df_new=df[(z<3).all(axis=1)]"
   ]
  },
  {
   "cell_type": "code",
   "execution_count": 69,
   "id": "e05ae869",
   "metadata": {},
   "outputs": [
    {
     "data": {
      "text/html": [
       "<div>\n",
       "<style scoped>\n",
       "    .dataframe tbody tr th:only-of-type {\n",
       "        vertical-align: middle;\n",
       "    }\n",
       "\n",
       "    .dataframe tbody tr th {\n",
       "        vertical-align: top;\n",
       "    }\n",
       "\n",
       "    .dataframe thead th {\n",
       "        text-align: right;\n",
       "    }\n",
       "</style>\n",
       "<table border=\"1\" class=\"dataframe\">\n",
       "  <thead>\n",
       "    <tr style=\"text-align: right;\">\n",
       "      <th></th>\n",
       "      <th>rank</th>\n",
       "      <th>discipline</th>\n",
       "      <th>yrs.since.phd</th>\n",
       "      <th>yrs.service</th>\n",
       "      <th>salary</th>\n",
       "    </tr>\n",
       "  </thead>\n",
       "  <tbody>\n",
       "    <tr>\n",
       "      <th>0</th>\n",
       "      <td>2.0</td>\n",
       "      <td>1.0</td>\n",
       "      <td>19</td>\n",
       "      <td>18</td>\n",
       "      <td>139750</td>\n",
       "    </tr>\n",
       "    <tr>\n",
       "      <th>1</th>\n",
       "      <td>2.0</td>\n",
       "      <td>1.0</td>\n",
       "      <td>20</td>\n",
       "      <td>16</td>\n",
       "      <td>173200</td>\n",
       "    </tr>\n",
       "    <tr>\n",
       "      <th>2</th>\n",
       "      <td>1.0</td>\n",
       "      <td>1.0</td>\n",
       "      <td>4</td>\n",
       "      <td>3</td>\n",
       "      <td>79750</td>\n",
       "    </tr>\n",
       "    <tr>\n",
       "      <th>3</th>\n",
       "      <td>2.0</td>\n",
       "      <td>1.0</td>\n",
       "      <td>45</td>\n",
       "      <td>39</td>\n",
       "      <td>115000</td>\n",
       "    </tr>\n",
       "    <tr>\n",
       "      <th>4</th>\n",
       "      <td>2.0</td>\n",
       "      <td>1.0</td>\n",
       "      <td>40</td>\n",
       "      <td>41</td>\n",
       "      <td>141500</td>\n",
       "    </tr>\n",
       "    <tr>\n",
       "      <th>...</th>\n",
       "      <td>...</td>\n",
       "      <td>...</td>\n",
       "      <td>...</td>\n",
       "      <td>...</td>\n",
       "      <td>...</td>\n",
       "    </tr>\n",
       "    <tr>\n",
       "      <th>392</th>\n",
       "      <td>2.0</td>\n",
       "      <td>0.0</td>\n",
       "      <td>33</td>\n",
       "      <td>30</td>\n",
       "      <td>103106</td>\n",
       "    </tr>\n",
       "    <tr>\n",
       "      <th>393</th>\n",
       "      <td>2.0</td>\n",
       "      <td>0.0</td>\n",
       "      <td>31</td>\n",
       "      <td>19</td>\n",
       "      <td>150564</td>\n",
       "    </tr>\n",
       "    <tr>\n",
       "      <th>394</th>\n",
       "      <td>2.0</td>\n",
       "      <td>0.0</td>\n",
       "      <td>42</td>\n",
       "      <td>25</td>\n",
       "      <td>101738</td>\n",
       "    </tr>\n",
       "    <tr>\n",
       "      <th>395</th>\n",
       "      <td>2.0</td>\n",
       "      <td>0.0</td>\n",
       "      <td>25</td>\n",
       "      <td>15</td>\n",
       "      <td>95329</td>\n",
       "    </tr>\n",
       "    <tr>\n",
       "      <th>396</th>\n",
       "      <td>1.0</td>\n",
       "      <td>0.0</td>\n",
       "      <td>8</td>\n",
       "      <td>4</td>\n",
       "      <td>81035</td>\n",
       "    </tr>\n",
       "  </tbody>\n",
       "</table>\n",
       "<p>393 rows × 5 columns</p>\n",
       "</div>"
      ],
      "text/plain": [
       "     rank  discipline  yrs.since.phd  yrs.service  salary\n",
       "0     2.0         1.0             19           18  139750\n",
       "1     2.0         1.0             20           16  173200\n",
       "2     1.0         1.0              4            3   79750\n",
       "3     2.0         1.0             45           39  115000\n",
       "4     2.0         1.0             40           41  141500\n",
       "..    ...         ...            ...          ...     ...\n",
       "392   2.0         0.0             33           30  103106\n",
       "393   2.0         0.0             31           19  150564\n",
       "394   2.0         0.0             42           25  101738\n",
       "395   2.0         0.0             25           15   95329\n",
       "396   1.0         0.0              8            4   81035\n",
       "\n",
       "[393 rows x 5 columns]"
      ]
     },
     "execution_count": 69,
     "metadata": {},
     "output_type": "execute_result"
    }
   ],
   "source": [
    "df_new"
   ]
  },
  {
   "cell_type": "code",
   "execution_count": 70,
   "id": "59bdbbe2",
   "metadata": {},
   "outputs": [
    {
     "name": "stdout",
     "output_type": "stream",
     "text": [
      "Size of Old Data SET   (397, 5)\n",
      "\n",
      "Size of New Data SET   (393, 5)\n"
     ]
    }
   ],
   "source": [
    "print(\"Size of Old Data SET  \",df.shape)\n",
    "print(\"\\nSize of New Data SET  \",df_new.shape)"
   ]
  },
  {
   "cell_type": "code",
   "execution_count": 71,
   "id": "a22512ce",
   "metadata": {},
   "outputs": [
    {
     "name": "stdout",
     "output_type": "stream",
     "text": [
      "DATA LOSS PERCENT--->  1.0075566750629723\n"
     ]
    }
   ],
   "source": [
    "print(\"DATA LOSS PERCENT---> \",((397-393)/397)*100)"
   ]
  },
  {
   "cell_type": "code",
   "execution_count": 72,
   "id": "9fd4d6d6",
   "metadata": {},
   "outputs": [],
   "source": [
    "#Data is divided into two parts"
   ]
  },
  {
   "cell_type": "code",
   "execution_count": 73,
   "id": "7951811d",
   "metadata": {},
   "outputs": [],
   "source": [
    "x=df_new.iloc[:,:-1]\n",
    "y=df_new.iloc[:,-1]"
   ]
  },
  {
   "cell_type": "markdown",
   "id": "0e4ba01d",
   "metadata": {},
   "source": [
    "### Transforming data to Remove Skewness"
   ]
  },
  {
   "cell_type": "code",
   "execution_count": 74,
   "id": "de044a80",
   "metadata": {},
   "outputs": [
    {
     "data": {
      "text/plain": [
       "rank            -1.135734\n",
       "discipline      -0.179514\n",
       "yrs.since.phd    0.288531\n",
       "yrs.service      0.588861\n",
       "dtype: float64"
      ]
     },
     "execution_count": 74,
     "metadata": {},
     "output_type": "execute_result"
    }
   ],
   "source": [
    "x.skew() #checking screwness in df"
   ]
  },
  {
   "cell_type": "code",
   "execution_count": 75,
   "id": "bc1ca4b3",
   "metadata": {},
   "outputs": [],
   "source": [
    " # Power transform is not working:\n",
    "\n",
    "from sklearn.preprocessing import power_transform\n",
    "x=power_transform(x,method='yeo-johnson')"
   ]
  },
  {
   "cell_type": "code",
   "execution_count": 76,
   "id": "815f0d73",
   "metadata": {},
   "outputs": [
    {
     "name": "stdout",
     "output_type": "stream",
     "text": [
      "[[ 0.69481738  0.91457564 -0.11344983  0.26888583]\n",
      " [ 0.69481738  0.91457564 -0.03455335  0.1209006 ]\n",
      " [-1.0753989   0.91457564 -1.6242611  -1.28449532]\n",
      " ...\n",
      " [ 0.69481738 -1.09340328  1.42772852  0.72581897]\n",
      " [ 0.69481738 -1.09340328  0.33874878  0.04312953]\n",
      " [-1.0753989  -1.09340328 -1.12908354 -1.11979784]]\n"
     ]
    }
   ],
   "source": [
    "print(x)"
   ]
  },
  {
   "cell_type": "markdown",
   "id": "048b406d",
   "metadata": {},
   "source": [
    "## Scaling Data"
   ]
  },
  {
   "cell_type": "code",
   "execution_count": 77,
   "id": "28a03044",
   "metadata": {},
   "outputs": [],
   "source": [
    "from sklearn.preprocessing import MinMaxScaler\n",
    "mms=MinMaxScaler()\n",
    "\n",
    "x=mms.fit_transform(x)"
   ]
  },
  {
   "cell_type": "code",
   "execution_count": 78,
   "id": "143f2611",
   "metadata": {},
   "outputs": [
    {
     "data": {
      "text/plain": [
       "array([[1.        , 1.        , 0.46555325, 0.56141797],\n",
       "       [1.        , 1.        , 0.48382448, 0.52515552],\n",
       "       [0.26651065, 1.        , 0.11567236, 0.18077588],\n",
       "       ...,\n",
       "       [1.        , 0.        , 0.82246669, 0.67338533],\n",
       "       [1.        , 0.        , 0.57027556, 0.50609842],\n",
       "       [0.26651065, 0.        , 0.23034795, 0.22113351]])"
      ]
     },
     "execution_count": 78,
     "metadata": {},
     "output_type": "execute_result"
    }
   ],
   "source": [
    "x"
   ]
  },
  {
   "cell_type": "code",
   "execution_count": 79,
   "id": "83e24905",
   "metadata": {},
   "outputs": [
    {
     "data": {
      "text/plain": [
       "0.5609970008331717"
      ]
     },
     "execution_count": 79,
     "metadata": {},
     "output_type": "execute_result"
    }
   ],
   "source": [
    "x.mean()"
   ]
  },
  {
   "cell_type": "code",
   "execution_count": 80,
   "id": "7afd15ed",
   "metadata": {},
   "outputs": [
    {
     "data": {
      "text/plain": [
       "0.3760167176420353"
      ]
     },
     "execution_count": 80,
     "metadata": {},
     "output_type": "execute_result"
    }
   ],
   "source": [
    "x.std()"
   ]
  },
  {
   "cell_type": "markdown",
   "id": "2bef904d",
   "metadata": {},
   "source": [
    "# Since the outcome is a continious value we will use Linear Regression."
   ]
  },
  {
   "cell_type": "code",
   "execution_count": 81,
   "id": "4af771ba",
   "metadata": {},
   "outputs": [],
   "source": [
    "from sklearn.model_selection import train_test_split\n",
    "from sklearn.linear_model import LinearRegression\n",
    "from sklearn.metrics import mean_squared_error,mean_absolute_error,r2_score\n",
    "lr=LinearRegression()"
   ]
  },
  {
   "cell_type": "code",
   "execution_count": 82,
   "id": "3573b8ce",
   "metadata": {},
   "outputs": [
    {
     "name": "stdout",
     "output_type": "stream",
     "text": [
      "At random state 0,The Training accuracy is : 0.4187183174707221\n",
      "At random state 0,The Test accuracy is : 0.42407580045887894\n",
      "\n",
      "\n",
      "At random state 1,The Training accuracy is : 0.36126499815761526\n",
      "At random state 1,The Test accuracy is : 0.556093199804601\n",
      "\n",
      "\n",
      "At random state 2,The Training accuracy is : 0.4243180858341572\n",
      "At random state 2,The Test accuracy is : 0.39017739488448244\n",
      "\n",
      "\n",
      "At random state 3,The Training accuracy is : 0.41702274878989576\n",
      "At random state 3,The Test accuracy is : 0.4370542665664737\n",
      "\n",
      "\n",
      "At random state 4,The Training accuracy is : 0.45577811587730443\n",
      "At random state 4,The Test accuracy is : 0.30160143552125995\n",
      "\n",
      "\n",
      "At random state 5,The Training accuracy is : 0.4317058651085739\n",
      "At random state 5,The Test accuracy is : 0.392667727969916\n",
      "\n",
      "\n",
      "At random state 6,The Training accuracy is : 0.4550840504335585\n",
      "At random state 6,The Test accuracy is : 0.3394911327106397\n",
      "\n",
      "\n",
      "At random state 7,The Training accuracy is : 0.42662156068824153\n",
      "At random state 7,The Test accuracy is : 0.38397168807866444\n",
      "\n",
      "\n",
      "At random state 8,The Training accuracy is : 0.42555930650537954\n",
      "At random state 8,The Test accuracy is : 0.41217657971062693\n",
      "\n",
      "\n",
      "At random state 9,The Training accuracy is : 0.42879024025220847\n",
      "At random state 9,The Test accuracy is : 0.40948553447203073\n",
      "\n",
      "\n",
      "At random state 10,The Training accuracy is : 0.41859517081174324\n",
      "At random state 10,The Test accuracy is : 0.4128948811019092\n",
      "\n",
      "\n",
      "At random state 11,The Training accuracy is : 0.41163234129939275\n",
      "At random state 11,The Test accuracy is : 0.4440724178129224\n",
      "\n",
      "\n",
      "At random state 12,The Training accuracy is : 0.4471688448546858\n",
      "At random state 12,The Test accuracy is : 0.3688928112591171\n",
      "\n",
      "\n",
      "At random state 13,The Training accuracy is : 0.4100397426472385\n",
      "At random state 13,The Test accuracy is : 0.4232321403871384\n",
      "\n",
      "\n",
      "At random state 14,The Training accuracy is : 0.4762648834325518\n",
      "At random state 14,The Test accuracy is : 0.2674777040443138\n",
      "\n",
      "\n",
      "At random state 15,The Training accuracy is : 0.3851701909713017\n",
      "At random state 15,The Test accuracy is : 0.48345256726179764\n",
      "\n",
      "\n",
      "At random state 16,The Training accuracy is : 0.45706635614877134\n",
      "At random state 16,The Test accuracy is : 0.326364168658821\n",
      "\n",
      "\n",
      "At random state 17,The Training accuracy is : 0.4275790802841617\n",
      "At random state 17,The Test accuracy is : 0.3906115345530281\n",
      "\n",
      "\n",
      "At random state 18,The Training accuracy is : 0.42383769431967866\n",
      "At random state 18,The Test accuracy is : 0.40549486680492\n",
      "\n",
      "\n",
      "At random state 19,The Training accuracy is : 0.40675056171694657\n",
      "At random state 19,The Test accuracy is : 0.45175634571239465\n",
      "\n",
      "\n",
      "At random state 20,The Training accuracy is : 0.39542648695353444\n",
      "At random state 20,The Test accuracy is : 0.47823049727611233\n",
      "\n",
      "\n",
      "At random state 21,The Training accuracy is : 0.4317640155586864\n",
      "At random state 21,The Test accuracy is : 0.3983838724120352\n",
      "\n",
      "\n",
      "At random state 22,The Training accuracy is : 0.4289809181732368\n",
      "At random state 22,The Test accuracy is : 0.3913040765083017\n",
      "\n",
      "\n",
      "At random state 23,The Training accuracy is : 0.4611305575056669\n",
      "At random state 23,The Test accuracy is : 0.3394363918676646\n",
      "\n",
      "\n",
      "At random state 24,The Training accuracy is : 0.3879135419785342\n",
      "At random state 24,The Test accuracy is : 0.49943589396023147\n",
      "\n",
      "\n",
      "At random state 25,The Training accuracy is : 0.4458380135436114\n",
      "At random state 25,The Test accuracy is : 0.32344492782449596\n",
      "\n",
      "\n",
      "At random state 26,The Training accuracy is : 0.3977838755865225\n",
      "At random state 26,The Test accuracy is : 0.4764196197138638\n",
      "\n",
      "\n",
      "At random state 27,The Training accuracy is : 0.44455136463141387\n",
      "At random state 27,The Test accuracy is : 0.36447685407133634\n",
      "\n",
      "\n",
      "At random state 28,The Training accuracy is : 0.4237509588922135\n",
      "At random state 28,The Test accuracy is : 0.419340366579227\n",
      "\n",
      "\n",
      "At random state 29,The Training accuracy is : 0.4126997326113542\n",
      "At random state 29,The Test accuracy is : 0.4118859393756238\n",
      "\n",
      "\n",
      "At random state 30,The Training accuracy is : 0.40652681638120036\n",
      "At random state 30,The Test accuracy is : 0.4521386865255308\n",
      "\n",
      "\n",
      "At random state 31,The Training accuracy is : 0.4055050339559092\n",
      "At random state 31,The Test accuracy is : 0.42664877496616993\n",
      "\n",
      "\n",
      "At random state 32,The Training accuracy is : 0.46689548179060136\n",
      "At random state 32,The Test accuracy is : 0.30301279570245854\n",
      "\n",
      "\n",
      "At random state 33,The Training accuracy is : 0.45962987545249445\n",
      "At random state 33,The Test accuracy is : 0.3292943558851533\n",
      "\n",
      "\n",
      "At random state 34,The Training accuracy is : 0.44215335238084674\n",
      "At random state 34,The Test accuracy is : 0.3464850623671366\n",
      "\n",
      "\n",
      "At random state 35,The Training accuracy is : 0.406747365949783\n",
      "At random state 35,The Test accuracy is : 0.44713511014378204\n",
      "\n",
      "\n",
      "At random state 36,The Training accuracy is : 0.48232964799587064\n",
      "At random state 36,The Test accuracy is : 0.28789434099359945\n",
      "\n",
      "\n",
      "At random state 37,The Training accuracy is : 0.4441672352767756\n",
      "At random state 37,The Test accuracy is : 0.374154230087997\n",
      "\n",
      "\n",
      "At random state 38,The Training accuracy is : 0.43744022068615696\n",
      "At random state 38,The Test accuracy is : 0.38763230815765637\n",
      "\n",
      "\n",
      "At random state 39,The Training accuracy is : 0.4382009531747386\n",
      "At random state 39,The Test accuracy is : 0.38498984693492344\n",
      "\n",
      "\n",
      "At random state 40,The Training accuracy is : 0.4536112409027543\n",
      "At random state 40,The Test accuracy is : 0.34477275407910335\n",
      "\n",
      "\n",
      "At random state 41,The Training accuracy is : 0.4317961120532704\n",
      "At random state 41,The Test accuracy is : 0.33597265645053476\n",
      "\n",
      "\n",
      "At random state 42,The Training accuracy is : 0.4563855291352771\n",
      "At random state 42,The Test accuracy is : 0.35160208940602755\n",
      "\n",
      "\n",
      "At random state 43,The Training accuracy is : 0.46302879375688877\n",
      "At random state 43,The Test accuracy is : 0.25350446966996143\n",
      "\n",
      "\n",
      "At random state 44,The Training accuracy is : 0.40679855568345535\n",
      "At random state 44,The Test accuracy is : 0.4547960817610436\n",
      "\n",
      "\n",
      "At random state 45,The Training accuracy is : 0.4457882037954025\n",
      "At random state 45,The Test accuracy is : 0.34995083473806654\n",
      "\n",
      "\n",
      "At random state 46,The Training accuracy is : 0.4512025233494562\n",
      "At random state 46,The Test accuracy is : 0.3468173668352724\n",
      "\n",
      "\n",
      "At random state 47,The Training accuracy is : 0.42067540635401224\n",
      "At random state 47,The Test accuracy is : 0.39788868080381956\n",
      "\n",
      "\n",
      "At random state 48,The Training accuracy is : 0.41845833901297025\n",
      "At random state 48,The Test accuracy is : 0.41685134901191234\n",
      "\n",
      "\n",
      "At random state 49,The Training accuracy is : 0.42182183679098995\n",
      "At random state 49,The Test accuracy is : 0.39199034274304745\n",
      "\n",
      "\n",
      "At random state 50,The Training accuracy is : 0.4264513463706524\n",
      "At random state 50,The Test accuracy is : 0.40597511995084934\n",
      "\n",
      "\n",
      "At random state 51,The Training accuracy is : 0.4340086235185595\n",
      "At random state 51,The Test accuracy is : 0.36931434568450094\n",
      "\n",
      "\n",
      "At random state 52,The Training accuracy is : 0.408763663749258\n",
      "At random state 52,The Test accuracy is : 0.43601989981351796\n",
      "\n",
      "\n",
      "At random state 53,The Training accuracy is : 0.4381773134328858\n",
      "At random state 53,The Test accuracy is : 0.38011849012882704\n",
      "\n",
      "\n",
      "At random state 54,The Training accuracy is : 0.39202047426705977\n",
      "At random state 54,The Test accuracy is : 0.4672230024609383\n",
      "\n",
      "\n",
      "At random state 55,The Training accuracy is : 0.4019929434007278\n",
      "At random state 55,The Test accuracy is : 0.46390955077498297\n",
      "\n",
      "\n",
      "At random state 56,The Training accuracy is : 0.4526712664330579\n",
      "At random state 56,The Test accuracy is : 0.3088868502852602\n",
      "\n",
      "\n",
      "At random state 57,The Training accuracy is : 0.4297872847933767\n",
      "At random state 57,The Test accuracy is : 0.4030812792506018\n",
      "\n",
      "\n",
      "At random state 58,The Training accuracy is : 0.5121819494885373\n",
      "At random state 58,The Test accuracy is : 0.21846024089600202\n",
      "\n",
      "\n",
      "At random state 59,The Training accuracy is : 0.44426673237745873\n",
      "At random state 59,The Test accuracy is : 0.3728826499404708\n",
      "\n",
      "\n",
      "At random state 60,The Training accuracy is : 0.4831849988496215\n",
      "At random state 60,The Test accuracy is : 0.2516693218665379\n",
      "\n",
      "\n",
      "At random state 61,The Training accuracy is : 0.4220413032785293\n",
      "At random state 61,The Test accuracy is : 0.3993471387705263\n",
      "\n",
      "\n",
      "At random state 62,The Training accuracy is : 0.4288076616932681\n",
      "At random state 62,The Test accuracy is : 0.3950661475536482\n",
      "\n",
      "\n",
      "At random state 63,The Training accuracy is : 0.43294795490129967\n",
      "At random state 63,The Test accuracy is : 0.3934481547498109\n",
      "\n",
      "\n",
      "At random state 64,The Training accuracy is : 0.39395799819214683\n",
      "At random state 64,The Test accuracy is : 0.49401826376686786\n",
      "\n",
      "\n",
      "At random state 65,The Training accuracy is : 0.41652371241812103\n",
      "At random state 65,The Test accuracy is : 0.43379602198971834\n",
      "\n",
      "\n",
      "At random state 66,The Training accuracy is : 0.37056195695197536\n",
      "At random state 66,The Test accuracy is : 0.5401696515330989\n",
      "\n",
      "\n",
      "At random state 67,The Training accuracy is : 0.4225746764122592\n",
      "At random state 67,The Test accuracy is : 0.3969789558785558\n",
      "\n",
      "\n",
      "At random state 68,The Training accuracy is : 0.45322351683079387\n",
      "At random state 68,The Test accuracy is : 0.3439972454263077\n",
      "\n",
      "\n",
      "At random state 69,The Training accuracy is : 0.45104982194017973\n",
      "At random state 69,The Test accuracy is : 0.35222666008078574\n",
      "\n",
      "\n",
      "At random state 70,The Training accuracy is : 0.46938097632347864\n",
      "At random state 70,The Test accuracy is : 0.32519832102149415\n",
      "\n",
      "\n",
      "At random state 71,The Training accuracy is : 0.4689053440917209\n",
      "At random state 71,The Test accuracy is : 0.3302702074649827\n",
      "\n",
      "\n",
      "At random state 72,The Training accuracy is : 0.4455995698774795\n",
      "At random state 72,The Test accuracy is : 0.36484103691744096\n",
      "\n",
      "\n",
      "At random state 73,The Training accuracy is : 0.3965276447061973\n",
      "At random state 73,The Test accuracy is : 0.4645836847021352\n",
      "\n",
      "\n",
      "At random state 74,The Training accuracy is : 0.4073761857220892\n",
      "At random state 74,The Test accuracy is : 0.43452326321325385\n",
      "\n",
      "\n",
      "At random state 75,The Training accuracy is : 0.4575821261647054\n",
      "At random state 75,The Test accuracy is : 0.33843844539739487\n",
      "\n",
      "\n",
      "At random state 76,The Training accuracy is : 0.42406398170056814\n",
      "At random state 76,The Test accuracy is : 0.4185731186872257\n",
      "\n",
      "\n",
      "At random state 77,The Training accuracy is : 0.4289197903302977\n",
      "At random state 77,The Test accuracy is : 0.40200116167915534\n",
      "\n",
      "\n",
      "At random state 78,The Training accuracy is : 0.46998414135725886\n",
      "At random state 78,The Test accuracy is : 0.29732234580767514\n",
      "\n",
      "\n",
      "At random state 79,The Training accuracy is : 0.41632626848168397\n",
      "At random state 79,The Test accuracy is : 0.43576319557051946\n",
      "\n",
      "\n",
      "At random state 80,The Training accuracy is : 0.4064248617244869\n",
      "At random state 80,The Test accuracy is : 0.43516847033809114\n",
      "\n",
      "\n",
      "At random state 81,The Training accuracy is : 0.4011451013511389\n",
      "At random state 81,The Test accuracy is : 0.45624468661886863\n",
      "\n",
      "\n",
      "At random state 82,The Training accuracy is : 0.43316466954214605\n",
      "At random state 82,The Test accuracy is : 0.3944107798453821\n",
      "\n",
      "\n",
      "At random state 83,The Training accuracy is : 0.4556674430168959\n",
      "At random state 83,The Test accuracy is : 0.3318296404954464\n",
      "\n",
      "\n",
      "At random state 84,The Training accuracy is : 0.41788967901170093\n",
      "At random state 84,The Test accuracy is : 0.42690875944223816\n",
      "\n",
      "\n",
      "At random state 85,The Training accuracy is : 0.4286342946096062\n",
      "At random state 85,The Test accuracy is : 0.3978696965917109\n",
      "\n",
      "\n",
      "At random state 86,The Training accuracy is : 0.4485346897470329\n",
      "At random state 86,The Test accuracy is : 0.3627096284418442\n",
      "\n",
      "\n",
      "At random state 87,The Training accuracy is : 0.43699342500621796\n",
      "At random state 87,The Test accuracy is : 0.3825133821273399\n",
      "\n",
      "\n",
      "At random state 88,The Training accuracy is : 0.42338724620546353\n",
      "At random state 88,The Test accuracy is : 0.4011508900036689\n",
      "\n",
      "\n",
      "At random state 89,The Training accuracy is : 0.46912855276242993\n",
      "At random state 89,The Test accuracy is : 0.3109985816971511\n",
      "\n",
      "\n",
      "At random state 90,The Training accuracy is : 0.4142545906264846\n",
      "At random state 90,The Test accuracy is : 0.4370204556256736\n",
      "\n",
      "\n",
      "At random state 91,The Training accuracy is : 0.41493439769174134\n",
      "At random state 91,The Test accuracy is : 0.4375090419276625\n",
      "\n",
      "\n",
      "At random state 92,The Training accuracy is : 0.3695304651750908\n",
      "At random state 92,The Test accuracy is : 0.5406399908021761\n",
      "\n",
      "\n",
      "At random state 93,The Training accuracy is : 0.4324220998147481\n",
      "At random state 93,The Test accuracy is : 0.39591428259093187\n",
      "\n",
      "\n",
      "At random state 94,The Training accuracy is : 0.43160993249227886\n",
      "At random state 94,The Test accuracy is : 0.3909425408070839\n",
      "\n",
      "\n",
      "At random state 95,The Training accuracy is : 0.4454742841148207\n",
      "At random state 95,The Test accuracy is : 0.35883029099527874\n",
      "\n",
      "\n",
      "At random state 96,The Training accuracy is : 0.42873446347942623\n",
      "At random state 96,The Test accuracy is : 0.3943083693041316\n",
      "\n",
      "\n",
      "At random state 97,The Training accuracy is : 0.43858816063661576\n",
      "At random state 97,The Test accuracy is : 0.34757813800409576\n",
      "\n",
      "\n",
      "At random state 98,The Training accuracy is : 0.4116118892152264\n",
      "At random state 98,The Test accuracy is : 0.4408730847854203\n",
      "\n",
      "\n",
      "At random state 99,The Training accuracy is : 0.409336128482661\n",
      "At random state 99,The Test accuracy is : 0.42171528656031654\n",
      "\n",
      "\n"
     ]
    }
   ],
   "source": [
    "for i in range(0,100):\n",
    "    x_train,x_test,y_train,y_test=train_test_split(x,y,test_size=0.3,random_state=i)\n",
    "    lr.fit(x_train,y_train)\n",
    "    pred_train=lr.predict(x_train)\n",
    "    pred_test=lr.predict(x_test)\n",
    "    \n",
    "    print(f\"At random state {i},The Training accuracy is : {r2_score(y_train,pred_train)}\")\n",
    "    print(f\"At random state {i},The Test accuracy is : {r2_score(y_test,pred_test)}\")\n",
    "    print(\"\\n\")"
   ]
  },
  {
   "cell_type": "code",
   "execution_count": 83,
   "id": "19c5cb91",
   "metadata": {},
   "outputs": [
    {
     "data": {
      "text/plain": [
       "array([[1.        , 1.        , 0.46555325, 0.56141797],\n",
       "       [1.        , 1.        , 0.48382448, 0.52515552],\n",
       "       [0.26651065, 1.        , 0.11567236, 0.18077588],\n",
       "       ...,\n",
       "       [1.        , 0.        , 0.82246669, 0.67338533],\n",
       "       [1.        , 0.        , 0.57027556, 0.50609842],\n",
       "       [0.26651065, 0.        , 0.23034795, 0.22113351]])"
      ]
     },
     "execution_count": 83,
     "metadata": {},
     "output_type": "execute_result"
    }
   ],
   "source": [
    "x # checking  x data"
   ]
  },
  {
   "cell_type": "code",
   "execution_count": 84,
   "id": "92772e3a",
   "metadata": {},
   "outputs": [
    {
     "data": {
      "text/plain": [
       "0      139750\n",
       "1      173200\n",
       "2       79750\n",
       "3      115000\n",
       "4      141500\n",
       "        ...  \n",
       "392    103106\n",
       "393    150564\n",
       "394    101738\n",
       "395     95329\n",
       "396     81035\n",
       "Name: salary, Length: 393, dtype: int64"
      ]
     },
     "execution_count": 84,
     "metadata": {},
     "output_type": "execute_result"
    }
   ],
   "source": [
    "y #checking y data"
   ]
  },
  {
   "cell_type": "code",
   "execution_count": 85,
   "id": "32c1c901",
   "metadata": {},
   "outputs": [],
   "source": [
    "x_train,x_test,y_train,y_test=train_test_split(x,y,random_state=99,test_size=0.1)\n",
    "lr.fit(x_train,y_train) #sent for training\n",
    "pred_train=lr.predict(x_train) #predict train y\n",
    "pred_test=lr.predict(x_test)# predict test y"
   ]
  },
  {
   "cell_type": "code",
   "execution_count": 86,
   "id": "f0f79ef1",
   "metadata": {},
   "outputs": [
    {
     "name": "stdout",
     "output_type": "stream",
     "text": [
      "Training Absolute_error  17552.835805859453  Test Absolute_error  15808.341226018156 \n",
      "\n",
      "Training Mean_squared_error  507072866.06417084 Test mean_squared_error  335828302.4303237 \n",
      "\n",
      "Training R2_score 0.4136302714181924 Test R2_Score 0.49121442933842163\n"
     ]
    }
   ],
   "source": [
    "#checking absolute error\n",
    "print(\"Training Absolute_error \",mean_absolute_error(y_train,pred_train),\" Test Absolute_error \",(mean_absolute_error(y_test,pred_test)),\"\\n\")\n",
    "\n",
    "#checking mean squared error\n",
    "print(\"Training Mean_squared_error \",mean_squared_error(y_train,pred_train),\"Test mean_squared_error \",(mean_squared_error(y_test,pred_test)),\"\\n\")\n",
    "\n",
    "#checking r2 score\n",
    "print(\"Training R2_score\",r2_score(y_train,pred_train),\"Test R2_Score\",r2_score(y_test,pred_test))"
   ]
  },
  {
   "cell_type": "code",
   "execution_count": 87,
   "id": "a41164f5",
   "metadata": {},
   "outputs": [],
   "source": [
    "from sklearn.svm import SVR\n",
    "from sklearn.neighbors import KNeighborsRegressor\n",
    "from sklearn.naive_bayes import GaussianNB\n",
    "from sklearn.tree import DecisionTreeRegressor\n",
    "from sklearn.linear_model import SGDRegressor\n",
    "\n",
    "svc=SVR()\n",
    "knn=KNeighborsRegressor()\n",
    "gnb=GaussianNB()\n",
    "dtc=DecisionTreeRegressor()\n",
    "sgd=SGDRegressor()\n",
    "\n",
    "models=[svc,knn,gnb,dtc,sgd]"
   ]
  },
  {
   "cell_type": "markdown",
   "id": "9f97462c",
   "metadata": {},
   "source": [
    "## Cross Validation for Linear regression"
   ]
  },
  {
   "cell_type": "code",
   "execution_count": 88,
   "id": "95d719a6",
   "metadata": {},
   "outputs": [],
   "source": [
    "from sklearn.model_selection import cross_val_score # import lib"
   ]
  },
  {
   "cell_type": "code",
   "execution_count": 89,
   "id": "271e10ee",
   "metadata": {},
   "outputs": [
    {
     "name": "stdout",
     "output_type": "stream",
     "text": [
      "At cross fold 2 the cv score is0.3725726621126142 and accuracy score for training is -0.41761802532332326 and accuracy for the testing is 0.18351545940480207\n",
      "\n",
      "\n",
      "At cross fold 3 the cv score is0.3614825257185709 and accuracy score for training is -0.41761802532332326 and accuracy for the testing is 0.18351545940480207\n",
      "\n",
      "\n",
      "At cross fold 4 the cv score is0.37375824207620056 and accuracy score for training is -0.41761802532332326 and accuracy for the testing is 0.18351545940480207\n",
      "\n",
      "\n",
      "At cross fold 5 the cv score is0.36138672712740993 and accuracy score for training is -0.41761802532332326 and accuracy for the testing is 0.18351545940480207\n",
      "\n",
      "\n",
      "At cross fold 6 the cv score is0.3787726919349539 and accuracy score for training is -0.41761802532332326 and accuracy for the testing is 0.18351545940480207\n",
      "\n",
      "\n",
      "At cross fold 7 the cv score is0.3719882470425055 and accuracy score for training is -0.41761802532332326 and accuracy for the testing is 0.18351545940480207\n",
      "\n",
      "\n"
     ]
    }
   ],
   "source": [
    "Train_accuracy=r2_score(pred_train,y_train)\n",
    "Test_accuracy=r2_score(pred_test,y_test)\n",
    "\n",
    "from sklearn.model_selection import cross_val_score\n",
    "\n",
    "for i in range(2,8):\n",
    "    cv_score=cross_val_score(lr,x,y,cv=i)\n",
    "    cv_mean=cv_score.mean()\n",
    "    \n",
    "    print(f\"At cross fold {i} the cv score is{cv_mean} and accuracy score for training is {Train_accuracy} and accuracy for the testing is {Test_accuracy}\")\n",
    "    print(\"\\n\")"
   ]
  },
  {
   "cell_type": "markdown",
   "id": "1ea5abc5",
   "metadata": {},
   "source": [
    "#### For classification problem- model with least difference between cross validation and accuracy is the best model. \n",
    "\n",
    "WE are selecting 3"
   ]
  },
  {
   "cell_type": "code",
   "execution_count": 90,
   "id": "21d48bde",
   "metadata": {},
   "outputs": [
    {
     "data": {
      "image/png": "[encoded data removed]",
      "text/plain": [
       "<Figure size 720x432 with 1 Axes>"
      ]
     },
     "metadata": {
      "needs_background": "light"
     },
     "output_type": "display_data"
    }
   ],
   "source": [
    "import matplotlib.pyplot as plt\n",
    "plt.figure(figsize=(10,6))\n",
    "\n",
    "plt.scatter(x=pred_test,y=y_test,color='r') #scatter test value and predict value\n",
    "plt.plot(pred_test,pred_test,color='b')\n",
    "plt.xlabel(\"Actual Data\",fontsize=14)\n",
    "plt.ylabel(\"Predicted\",fontsize=14)\n",
    "plt.title(\"Linear Regression\",fontsize=18)\n",
    "plt.show()"
   ]
  },
  {
   "cell_type": "markdown",
   "id": "05eca88e",
   "metadata": {},
   "source": [
    "# Regularization"
   ]
  },
  {
   "cell_type": "code",
   "execution_count": 91,
   "id": "9aa6bfc3",
   "metadata": {},
   "outputs": [],
   "source": [
    "from sklearn.model_selection import GridSearchCV\n",
    "from sklearn.model_selection import cross_val_score"
   ]
  },
  {
   "cell_type": "code",
   "execution_count": 92,
   "id": "cab9e041",
   "metadata": {},
   "outputs": [
    {
     "name": "stdout",
     "output_type": "stream",
     "text": [
      "{'alpha': 1, 'random_state': 0}\n"
     ]
    }
   ],
   "source": [
    "from sklearn.linear_model import Lasso\n",
    "\n",
    "parameters={'alpha':[.0001,.001,.01,.1,1,10],'random_state':list(range(0,10))}\n",
    "\n",
    "ls=Lasso()\n",
    "clf=GridSearchCV(ls,parameters)\n",
    "clf.fit(x_train,y_train)\n",
    "\n",
    "\n",
    "print(clf.best_params_)"
   ]
  },
  {
   "cell_type": "code",
   "execution_count": 93,
   "id": "80591bc8",
   "metadata": {},
   "outputs": [
    {
     "data": {
      "text/plain": [
       "41.36297908398653"
      ]
     },
     "execution_count": 93,
     "metadata": {},
     "output_type": "execute_result"
    }
   ],
   "source": [
    "# final training\n",
    "ls=Lasso(alpha=1,random_state=0)\n",
    "ls.fit(x_train,y_train)\n",
    "ls_score_training=ls.score(x_train,y_train)\n",
    "pred_ls=ls.predict(x_test)\n",
    "\n",
    "ls_score_training*100"
   ]
  },
  {
   "cell_type": "code",
   "execution_count": 94,
   "id": "37e99a97",
   "metadata": {},
   "outputs": [
    {
     "data": {
      "text/plain": [
       "0.49137918216654064"
      ]
     },
     "execution_count": 94,
     "metadata": {},
     "output_type": "execute_result"
    }
   ],
   "source": [
    "pred_ls=ls.predict(x_test)\n",
    "lss = r2_score(y_test,pred_ls)\n",
    "lss"
   ]
  },
  {
   "cell_type": "code",
   "execution_count": 95,
   "id": "10c7f5e1",
   "metadata": {},
   "outputs": [
    {
     "data": {
      "text/plain": [
       "0.3727460457099773"
      ]
     },
     "execution_count": 95,
     "metadata": {},
     "output_type": "execute_result"
    }
   ],
   "source": [
    "cv_score=cross_val_score(ls,x,y,cv=2)\n",
    "cv_mean=cv_score.mean()\n",
    "cv_mean"
   ]
  },
  {
   "cell_type": "markdown",
   "id": "335ec6f7",
   "metadata": {},
   "source": [
    "# Ensemble Technique:"
   ]
  },
  {
   "cell_type": "markdown",
   "id": "0b9176bf",
   "metadata": {},
   "source": [
    "#### Using Random Forest"
   ]
  },
  {
   "cell_type": "code",
   "execution_count": 96,
   "id": "66478446",
   "metadata": {},
   "outputs": [
    {
     "data": {
      "text/plain": [
       "{'criterion': 'mae', 'max_features': 'sqrt'}"
      ]
     },
     "execution_count": 96,
     "metadata": {},
     "output_type": "execute_result"
    }
   ],
   "source": [
    "from sklearn.model_selection import GridSearchCV\n",
    "from sklearn.ensemble import RandomForestRegressor\n",
    "\n",
    "parameters={'criterion':['mse','mae'],\n",
    "           'max_features':['auto','sqrt','log2']}\n",
    "\n",
    "rf=RandomForestRegressor() #instance\n",
    "\n",
    "clf=GridSearchCV(rf,parameters)#instance with paraemters\n",
    "clf.fit(x_train,y_train)#train\n",
    "\n",
    "clf.best_params_"
   ]
  },
  {
   "cell_type": "code",
   "execution_count": 97,
   "id": "52fa9f7a",
   "metadata": {},
   "outputs": [
    {
     "name": "stdout",
     "output_type": "stream",
     "text": [
      "63.24230492967566\n",
      "Random Mean Score 35.430533118996934\n"
     ]
    }
   ],
   "source": [
    "rf=RandomForestRegressor(criterion='mae',max_features='auto')\n",
    "\n",
    "rf.fit(x_train,y_train)\n",
    "rf.score(x_train,y_train)\n",
    "pred_decision=rf.predict(x_test)\n",
    "\n",
    "rfs=r2_score(y_test,pred_decision)\n",
    "print(rfs*100)\n",
    "\n",
    "rfscore=cross_val_score(rf,x,y,cv=2)\n",
    "rfc=rfscore.mean()\n",
    "print(\"Random Mean Score\",rfc*100)"
   ]
  },
  {
   "cell_type": "markdown",
   "id": "65f65ae0",
   "metadata": {},
   "source": [
    "### AdaBoost REGRESSOR"
   ]
  },
  {
   "cell_type": "code",
   "execution_count": 98,
   "id": "2093b4e6",
   "metadata": {},
   "outputs": [],
   "source": [
    "from sklearn.ensemble import AdaBoostRegressor\n",
    "from sklearn.model_selection import GridSearchCV"
   ]
  },
  {
   "cell_type": "code",
   "execution_count": 99,
   "id": "6c5f9ded",
   "metadata": {},
   "outputs": [
    {
     "data": {
      "text/plain": [
       "{'loss': 'linear', 'n_estimators': 52}"
      ]
     },
     "execution_count": 99,
     "metadata": {},
     "output_type": "execute_result"
    }
   ],
   "source": [
    "Parameters={'loss':['linear','square','exponential'],\n",
    "           'n_estimators':list(range(50,100))}\n",
    "\n",
    "ad=AdaBoostRegressor()\n",
    "clf=GridSearchCV(ad,Parameters)#instance with paraemters\n",
    "clf.fit(x_train,y_train)#train\n",
    "clf.best_params_"
   ]
  },
  {
   "cell_type": "code",
   "execution_count": 105,
   "id": "1fa915bf",
   "metadata": {},
   "outputs": [
    {
     "name": "stdout",
     "output_type": "stream",
     "text": [
      "test score 0.6507645078312495\n",
      "AdaBoost Mean score  0.4324530505956655\n"
     ]
    }
   ],
   "source": [
    "ad=AdaBoostRegressor(loss='linear',n_estimators=57)\n",
    "ad.fit(x_train,y_train)\n",
    "ad.score(x_train,y_train)\n",
    "pred_decision=ad.predict(x_test)\n",
    "\n",
    "ads=r2_score(y_test,pred_decision)\n",
    "print(\"test score\",ads)\n",
    "\n",
    "adscore=cross_val_score(ad,x,y,cv=2)\n",
    "ad_mean=adscore.mean()\n",
    "print(\"AdaBoost Mean score \",ad_mean)"
   ]
  },
  {
   "cell_type": "markdown",
   "id": "a2b53922",
   "metadata": {},
   "source": [
    "### Gradient Boosting Regressor"
   ]
  },
  {
   "cell_type": "code",
   "execution_count": 101,
   "id": "aeb1fe8b",
   "metadata": {},
   "outputs": [],
   "source": [
    "from sklearn.ensemble import GradientBoostingRegressor\n",
    "from sklearn.model_selection import GridSearchCV"
   ]
  },
  {
   "cell_type": "code",
   "execution_count": 102,
   "id": "4aafd5c9",
   "metadata": {},
   "outputs": [
    {
     "data": {
      "text/plain": [
       "{'criterion': 'friedman_mse', 'loss': 'absolute_error', 'n_estimators': 118}"
      ]
     },
     "execution_count": 102,
     "metadata": {},
     "output_type": "execute_result"
    }
   ],
   "source": [
    "Parameters={'loss':['squared_error', 'absolute_error', 'huber', 'quantile'],\n",
    "           'criterion':['friedman_mse','squared_error','mse'],\n",
    "           'n_estimators':list(range(100,150))}\n",
    "\n",
    "gbr=GradientBoostingRegresmin_samples_splitint or floatsor()\n",
    "clf=GridSearchCV(gbr,Parameters)\n",
    "clf.fit(x_train,y_train)\n",
    "clf.best_params_"
   ]
  },
  {
   "cell_type": "code",
   "execution_count": 106,
   "id": "03a6ba5b",
   "metadata": {},
   "outputs": [
    {
     "name": "stdout",
     "output_type": "stream",
     "text": [
      "test Score 0.6693813666526833\n",
      "gbr Mean 0.3501298176267985\n"
     ]
    }
   ],
   "source": [
    "gbr=GradientBoostingRegressor(criterion='friedman_mse', loss='absolute_error', n_estimators=118)\n",
    "gbr.fit(x_train,y_train)\n",
    "gbr.score(x_train,y_train)\n",
    "pred_decision=gbr.predict(x_test)\n",
    "\n",
    "gbrs=r2_score(y_test,pred_decision)\n",
    "print(\"test Score\",gbrs)\n",
    "\n",
    "gbrscore=cross_val_score(gbr,x,y,cv=2)\n",
    "gbr_mean=gbrscore.mean()\n",
    "\n",
    "print(\"gbr Mean\",gbr_mean)"
   ]
  },
  {
   "cell_type": "code",
   "execution_count": 108,
   "id": "8e164b4b",
   "metadata": {},
   "outputs": [],
   "source": [
    "#saving \n",
    "import pickle\n",
    "filename='salary.pkl'\n",
    "pickle.dump(gbr,open(filename,'wb'))"
   ]
  },
  {
   "cell_type": "markdown",
   "id": "d6cc0e8b",
   "metadata": {},
   "source": [
    "conclusion:\n",
    "\n",
    "#opening up the pickle."
   ]
  },
  {
   "cell_type": "code",
   "execution_count": 110,
   "id": "85948e55",
   "metadata": {},
   "outputs": [
    {
     "name": "stdout",
     "output_type": "stream",
     "text": [
      "66.93813666526833\n"
     ]
    }
   ],
   "source": [
    "loaded_model =pickle.load(open('salary.pkl','rb'))\n",
    "result=loaded_model.score(x_test,y_test)\n",
    "print(result*100)"
   ]
  },
  {
   "cell_type": "code",
   "execution_count": 115,
   "id": "a5ce0cde",
   "metadata": {},
   "outputs": [
    {
     "data": {
      "text/html": [
       "<div>\n",
       "<style scoped>\n",
       "    .dataframe tbody tr th:only-of-type {\n",
       "        vertical-align: middle;\n",
       "    }\n",
       "\n",
       "    .dataframe tbody tr th {\n",
       "        vertical-align: top;\n",
       "    }\n",
       "\n",
       "    .dataframe thead th {\n",
       "        text-align: right;\n",
       "    }\n",
       "</style>\n",
       "<table border=\"1\" class=\"dataframe\">\n",
       "  <thead>\n",
       "    <tr style=\"text-align: right;\">\n",
       "      <th></th>\n",
       "      <th>0</th>\n",
       "      <th>1</th>\n",
       "      <th>2</th>\n",
       "      <th>3</th>\n",
       "      <th>4</th>\n",
       "      <th>5</th>\n",
       "      <th>6</th>\n",
       "      <th>7</th>\n",
       "      <th>8</th>\n",
       "      <th>9</th>\n",
       "      <th>...</th>\n",
       "      <th>30</th>\n",
       "      <th>31</th>\n",
       "      <th>32</th>\n",
       "      <th>33</th>\n",
       "      <th>34</th>\n",
       "      <th>35</th>\n",
       "      <th>36</th>\n",
       "      <th>37</th>\n",
       "      <th>38</th>\n",
       "      <th>39</th>\n",
       "    </tr>\n",
       "  </thead>\n",
       "  <tbody>\n",
       "    <tr>\n",
       "      <th>Predicted</th>\n",
       "      <td>89104.151462</td>\n",
       "      <td>122482.05805</td>\n",
       "      <td>122026.20602</td>\n",
       "      <td>75515.201913</td>\n",
       "      <td>129707.778292</td>\n",
       "      <td>119071.968638</td>\n",
       "      <td>82860.7974</td>\n",
       "      <td>104860.837476</td>\n",
       "      <td>120877.979293</td>\n",
       "      <td>110216.729939</td>\n",
       "      <td>...</td>\n",
       "      <td>122482.05805</td>\n",
       "      <td>132733.167377</td>\n",
       "      <td>73274.56739</td>\n",
       "      <td>74026.548246</td>\n",
       "      <td>86359.725144</td>\n",
       "      <td>104427.730653</td>\n",
       "      <td>82436.225018</td>\n",
       "      <td>119071.968638</td>\n",
       "      <td>88386.608511</td>\n",
       "      <td>103448.794961</td>\n",
       "    </tr>\n",
       "    <tr>\n",
       "      <th>Original</th>\n",
       "      <td>89104.151462</td>\n",
       "      <td>122482.05805</td>\n",
       "      <td>122026.20602</td>\n",
       "      <td>75515.201913</td>\n",
       "      <td>129707.778292</td>\n",
       "      <td>119071.968638</td>\n",
       "      <td>82860.7974</td>\n",
       "      <td>104860.837476</td>\n",
       "      <td>120877.979293</td>\n",
       "      <td>110216.729939</td>\n",
       "      <td>...</td>\n",
       "      <td>122482.05805</td>\n",
       "      <td>132733.167377</td>\n",
       "      <td>73274.56739</td>\n",
       "      <td>74026.548246</td>\n",
       "      <td>86359.725144</td>\n",
       "      <td>104427.730653</td>\n",
       "      <td>82436.225018</td>\n",
       "      <td>119071.968638</td>\n",
       "      <td>88386.608511</td>\n",
       "      <td>103448.794961</td>\n",
       "    </tr>\n",
       "  </tbody>\n",
       "</table>\n",
       "<p>2 rows × 40 columns</p>\n",
       "</div>"
      ],
      "text/plain": [
       "                     0             1             2             3   \\\n",
       "Predicted  89104.151462  122482.05805  122026.20602  75515.201913   \n",
       "Original   89104.151462  122482.05805  122026.20602  75515.201913   \n",
       "\n",
       "                      4              5           6              7   \\\n",
       "Predicted  129707.778292  119071.968638  82860.7974  104860.837476   \n",
       "Original   129707.778292  119071.968638  82860.7974  104860.837476   \n",
       "\n",
       "                      8              9   ...            30             31  \\\n",
       "Predicted  120877.979293  110216.729939  ...  122482.05805  132733.167377   \n",
       "Original   120877.979293  110216.729939  ...  122482.05805  132733.167377   \n",
       "\n",
       "                    32            33            34             35  \\\n",
       "Predicted  73274.56739  74026.548246  86359.725144  104427.730653   \n",
       "Original   73274.56739  74026.548246  86359.725144  104427.730653   \n",
       "\n",
       "                     36             37            38             39  \n",
       "Predicted  82436.225018  119071.968638  88386.608511  103448.794961  \n",
       "Original   82436.225018  119071.968638  88386.608511  103448.794961  \n",
       "\n",
       "[2 rows x 40 columns]"
      ]
     },
     "execution_count": 115,
     "metadata": {},
     "output_type": "execute_result"
    }
   ],
   "source": [
    "conclusion=pd.DataFrame([loaded_model.predict(x_test)[:],pred_decision[:]],index=[\"Predicted\",\"Original\"])\n",
    "conclusion"
   ]
  },
  {
   "cell_type": "code",
   "execution_count": null,
   "id": "61ca73c6",
   "metadata": {},
   "outputs": [],
   "source": []
  }
 ],
 "metadata": {
  "kernelspec": {
   "display_name": "Python 3 (ipykernel)",
   "language": "python",
   "name": "python3"
  },
  "language_info": {
   "codemirror_mode": {
    "name": "ipython",
    "version": 3
   },
   "file_extension": ".py",
   "mimetype": "text/x-python",
   "name": "python",
   "nbconvert_exporter": "python",
   "pygments_lexer": "ipython3",
   "version": "3.9.12"
  }
 },
 "nbformat": 4,
 "nbformat_minor": 5
}
