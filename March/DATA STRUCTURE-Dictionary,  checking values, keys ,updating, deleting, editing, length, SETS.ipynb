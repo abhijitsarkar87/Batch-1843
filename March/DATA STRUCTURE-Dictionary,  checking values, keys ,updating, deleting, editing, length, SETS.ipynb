{
 "cells": [
  {
   "cell_type": "markdown",
   "id": "39e69316",
   "metadata": {},
   "source": [
    "# DATA STRUCTURE"
   ]
  },
  {
   "cell_type": "code",
   "execution_count": 2,
   "id": "4176f3ac",
   "metadata": {},
   "outputs": [],
   "source": [
    "# dictonary consist of two value 1. Key  2. Value\n",
    "\n",
    "#curly brackets are used for dictionary {Key1:value1}"
   ]
  },
  {
   "cell_type": "markdown",
   "id": "5f112ab3",
   "metadata": {},
   "source": [
    "DICTIONARY"
   ]
  },
  {
   "cell_type": "code",
   "execution_count": 3,
   "id": "ae7279d0",
   "metadata": {},
   "outputs": [],
   "source": [
    "#FORMAT OF WRITING\n",
    "\n",
    "#mydict={Key1:value1,key2:value2, key3:value3,key4:value4}"
   ]
  },
  {
   "cell_type": "code",
   "execution_count": 4,
   "id": "68f702a9",
   "metadata": {},
   "outputs": [],
   "source": [
    "mydict={\"Emp1\":101,\"Name\":\"Abhijit Sarkar\",\"Dept\":\"Sales\"}"
   ]
  },
  {
   "cell_type": "code",
   "execution_count": 5,
   "id": "b4868ef3",
   "metadata": {},
   "outputs": [
    {
     "data": {
      "text/plain": [
       "{'Emp1': 101, 'Name': 'Abhijit Sarkar', 'Dept': 'Sales'}"
      ]
     },
     "execution_count": 5,
     "metadata": {},
     "output_type": "execute_result"
    }
   ],
   "source": [
    "mydict"
   ]
  },
  {
   "cell_type": "code",
   "execution_count": 6,
   "id": "8d2014a6",
   "metadata": {},
   "outputs": [
    {
     "data": {
      "text/plain": [
       "101"
      ]
     },
     "execution_count": 6,
     "metadata": {},
     "output_type": "execute_result"
    }
   ],
   "source": [
    "mydict[\"Emp1\"]"
   ]
  },
  {
   "cell_type": "code",
   "execution_count": 7,
   "id": "d6eca180",
   "metadata": {},
   "outputs": [
    {
     "data": {
      "text/plain": [
       "'Abhijit Sarkar'"
      ]
     },
     "execution_count": 7,
     "metadata": {},
     "output_type": "execute_result"
    }
   ],
   "source": [
    "mydict[\"Name\"]"
   ]
  },
  {
   "cell_type": "code",
   "execution_count": 8,
   "id": "84deff3b",
   "metadata": {},
   "outputs": [
    {
     "data": {
      "text/plain": [
       "'Sales'"
      ]
     },
     "execution_count": 8,
     "metadata": {},
     "output_type": "execute_result"
    }
   ],
   "source": [
    "mydict[\"Dept\"]"
   ]
  },
  {
   "cell_type": "code",
   "execution_count": 10,
   "id": "f7f593f8",
   "metadata": {},
   "outputs": [],
   "source": [
    "mydict[\"Dept\"]=\"Marketing\""
   ]
  },
  {
   "cell_type": "code",
   "execution_count": 11,
   "id": "c84a4c7a",
   "metadata": {},
   "outputs": [
    {
     "data": {
      "text/plain": [
       "{'Emp1': 101, 'Name': 'Abhijit Sarkar', 'Dept': 'Marketing'}"
      ]
     },
     "execution_count": 11,
     "metadata": {},
     "output_type": "execute_result"
    }
   ],
   "source": [
    "mydict"
   ]
  },
  {
   "cell_type": "code",
   "execution_count": 12,
   "id": "1dccc8a7",
   "metadata": {},
   "outputs": [
    {
     "data": {
      "text/plain": [
       "dict_keys(['Emp1', 'Name', 'Dept'])"
      ]
     },
     "execution_count": 12,
     "metadata": {},
     "output_type": "execute_result"
    }
   ],
   "source": [
    "# Shows only keys,\n",
    "\n",
    "mydict.keys()"
   ]
  },
  {
   "cell_type": "code",
   "execution_count": 13,
   "id": "4ac071ba",
   "metadata": {},
   "outputs": [
    {
     "data": {
      "text/plain": [
       "dict_values([101, 'Abhijit Sarkar', 'Marketing'])"
      ]
     },
     "execution_count": 13,
     "metadata": {},
     "output_type": "execute_result"
    }
   ],
   "source": [
    "# Shows only Values\n",
    "\n",
    "mydict.values()"
   ]
  },
  {
   "cell_type": "code",
   "execution_count": 14,
   "id": "04ac1a23",
   "metadata": {},
   "outputs": [
    {
     "data": {
      "text/plain": [
       "dict_items([('Emp1', 101), ('Name', 'Abhijit Sarkar'), ('Dept', 'Marketing')])"
      ]
     },
     "execution_count": 14,
     "metadata": {},
     "output_type": "execute_result"
    }
   ],
   "source": [
    "# Shows keys and values\n",
    "\n",
    "mydict.items()"
   ]
  },
  {
   "cell_type": "code",
   "execution_count": 63,
   "id": "3c8d413b",
   "metadata": {},
   "outputs": [
    {
     "data": {
      "text/plain": [
       "{'Emp1': 101, 'Name': 'Abhijit Sarkar', 'Dept': 'Marketing', 'Age': 10}"
      ]
     },
     "execution_count": 63,
     "metadata": {},
     "output_type": "execute_result"
    }
   ],
   "source": [
    "mydict"
   ]
  },
  {
   "cell_type": "code",
   "execution_count": 64,
   "id": "e78906ed",
   "metadata": {},
   "outputs": [
    {
     "data": {
      "text/plain": [
       "10"
      ]
     },
     "execution_count": 64,
     "metadata": {},
     "output_type": "execute_result"
    }
   ],
   "source": [
    "mydict.pop(\"Age\")"
   ]
  },
  {
   "cell_type": "code",
   "execution_count": 65,
   "id": "ddedfb07",
   "metadata": {},
   "outputs": [
    {
     "data": {
      "text/plain": [
       "{'Emp1': 101, 'Name': 'Abhijit Sarkar', 'Dept': 'Marketing'}"
      ]
     },
     "execution_count": 65,
     "metadata": {},
     "output_type": "execute_result"
    }
   ],
   "source": [
    " mydict"
   ]
  },
  {
   "cell_type": "markdown",
   "id": "98110f85",
   "metadata": {},
   "source": [
    "---------------------------------"
   ]
  },
  {
   "cell_type": "code",
   "execution_count": 15,
   "id": "3b4c5c71",
   "metadata": {},
   "outputs": [],
   "source": [
    "mydict1={\"Name\":\"Zara\",\"Class\":\"First\", \"Age\": 7}"
   ]
  },
  {
   "cell_type": "code",
   "execution_count": 16,
   "id": "68b149e7",
   "metadata": {},
   "outputs": [
    {
     "data": {
      "text/plain": [
       "{'Name': 'Zara', 'Class': 'First', 'Age': 7}"
      ]
     },
     "execution_count": 16,
     "metadata": {},
     "output_type": "execute_result"
    }
   ],
   "source": [
    "mydict1"
   ]
  },
  {
   "cell_type": "code",
   "execution_count": 17,
   "id": "051a5237",
   "metadata": {},
   "outputs": [
    {
     "data": {
      "text/plain": [
       "'Zara'"
      ]
     },
     "execution_count": 17,
     "metadata": {},
     "output_type": "execute_result"
    }
   ],
   "source": [
    "mydict1[\"Name\"]"
   ]
  },
  {
   "cell_type": "code",
   "execution_count": 18,
   "id": "89438072",
   "metadata": {},
   "outputs": [
    {
     "data": {
      "text/plain": [
       "'First'"
      ]
     },
     "execution_count": 18,
     "metadata": {},
     "output_type": "execute_result"
    }
   ],
   "source": [
    "mydict1[\"Class\"]"
   ]
  },
  {
   "cell_type": "code",
   "execution_count": 19,
   "id": "fe6a0393",
   "metadata": {},
   "outputs": [
    {
     "data": {
      "text/plain": [
       "7"
      ]
     },
     "execution_count": 19,
     "metadata": {},
     "output_type": "execute_result"
    }
   ],
   "source": [
    "mydict1[\"Age\"]"
   ]
  },
  {
   "cell_type": "code",
   "execution_count": 24,
   "id": "55eb5217",
   "metadata": {},
   "outputs": [
    {
     "data": {
      "text/plain": [
       "dict_keys(['Name', 'Class', 'Age'])"
      ]
     },
     "execution_count": 24,
     "metadata": {},
     "output_type": "execute_result"
    }
   ],
   "source": [
    "mydict1.keys()"
   ]
  },
  {
   "cell_type": "code",
   "execution_count": 25,
   "id": "24400274",
   "metadata": {},
   "outputs": [
    {
     "data": {
      "text/plain": [
       "dict_values(['Zara', 'First', 7])"
      ]
     },
     "execution_count": 25,
     "metadata": {},
     "output_type": "execute_result"
    }
   ],
   "source": [
    "mydict1.values()"
   ]
  },
  {
   "cell_type": "code",
   "execution_count": 26,
   "id": "55a0ce36",
   "metadata": {},
   "outputs": [
    {
     "data": {
      "text/plain": [
       "dict_items([('Name', 'Zara'), ('Class', 'First'), ('Age', 7)])"
      ]
     },
     "execution_count": 26,
     "metadata": {},
     "output_type": "execute_result"
    }
   ],
   "source": [
    "mydict1.items()"
   ]
  },
  {
   "cell_type": "code",
   "execution_count": 30,
   "id": "4074cbc0",
   "metadata": {},
   "outputs": [],
   "source": [
    "mydict1[\"Age\"]=10"
   ]
  },
  {
   "cell_type": "code",
   "execution_count": 31,
   "id": "84a4cbf9",
   "metadata": {},
   "outputs": [
    {
     "data": {
      "text/plain": [
       "{'Name': 'Zara', 'Class': 'First', 'Age': 10}"
      ]
     },
     "execution_count": 31,
     "metadata": {},
     "output_type": "execute_result"
    }
   ],
   "source": [
    "mydict1"
   ]
  },
  {
   "cell_type": "code",
   "execution_count": 36,
   "id": "1f8da79d",
   "metadata": {},
   "outputs": [
    {
     "data": {
      "text/plain": [
       "3"
      ]
     },
     "execution_count": 36,
     "metadata": {},
     "output_type": "execute_result"
    }
   ],
   "source": [
    "len(mydict1)"
   ]
  },
  {
   "cell_type": "code",
   "execution_count": 39,
   "id": "21d15cb2",
   "metadata": {},
   "outputs": [
    {
     "name": "stdout",
     "output_type": "stream",
     "text": [
      "Name found to be  : Zara\n"
     ]
    }
   ],
   "source": [
    "print(\"Name found to be  :\",mydict1[\"Name\"])"
   ]
  },
  {
   "cell_type": "code",
   "execution_count": 40,
   "id": "75da5c6a",
   "metadata": {},
   "outputs": [
    {
     "name": "stdout",
     "output_type": "stream",
     "text": [
      "Age found to be : 10\n"
     ]
    }
   ],
   "source": [
    "print(\"Age found to be :\", mydict1[\"Age\"])"
   ]
  },
  {
   "cell_type": "code",
   "execution_count": 41,
   "id": "f5b3eba3",
   "metadata": {},
   "outputs": [
    {
     "data": {
      "text/plain": [
       "{'Name': 'Zara', 'Class': 'First', 'Age': 10}"
      ]
     },
     "execution_count": 41,
     "metadata": {},
     "output_type": "execute_result"
    }
   ],
   "source": [
    "mydict1"
   ]
  },
  {
   "cell_type": "code",
   "execution_count": 47,
   "id": "f59e26fc",
   "metadata": {},
   "outputs": [
    {
     "name": "stdout",
     "output_type": "stream",
     "text": [
      "Name of kid : Zara of Class : First Age :  10\n"
     ]
    }
   ],
   "source": [
    "print(\"Name of kid :\",mydict1[\"Name\"],\"of Class :\",mydict1[\"Class\"],\"Age: \",mydict1[\"Age\"])"
   ]
  },
  {
   "cell_type": "code",
   "execution_count": 48,
   "id": "c224842c",
   "metadata": {},
   "outputs": [],
   "source": [
    "# Updating or adding new data to dictionary\n",
    "\n",
    "mydict1.update({\"Fees\":5000})"
   ]
  },
  {
   "cell_type": "code",
   "execution_count": 49,
   "id": "fa380228",
   "metadata": {},
   "outputs": [
    {
     "data": {
      "text/plain": [
       "{'Name': 'Zara', 'Class': 'First', 'Age': 10, 'Fees': 5000}"
      ]
     },
     "execution_count": 49,
     "metadata": {},
     "output_type": "execute_result"
    }
   ],
   "source": [
    "mydict1"
   ]
  },
  {
   "cell_type": "code",
   "execution_count": 51,
   "id": "3694eab3",
   "metadata": {},
   "outputs": [],
   "source": [
    "# changing the value's with key's\n",
    "\n",
    "mydict1[\"Fees\"]=9500\n"
   ]
  },
  {
   "cell_type": "code",
   "execution_count": 52,
   "id": "bdc58fff",
   "metadata": {},
   "outputs": [
    {
     "data": {
      "text/plain": [
       "{'Name': 'Zara', 'Class': 'First', 'Age': 10, 'Fees': 9500}"
      ]
     },
     "execution_count": 52,
     "metadata": {},
     "output_type": "execute_result"
    }
   ],
   "source": [
    "mydict1"
   ]
  },
  {
   "cell_type": "code",
   "execution_count": 53,
   "id": "dbcc9564",
   "metadata": {},
   "outputs": [
    {
     "name": "stdout",
     "output_type": "stream",
     "text": [
      "{'Name': 'Zara', 'Class': 'First', 'Age': 10, 'Fees': 9500}\n"
     ]
    }
   ],
   "source": [
    "print(mydict1)"
   ]
  },
  {
   "cell_type": "markdown",
   "id": "8aa04f93",
   "metadata": {},
   "source": [
    "--------------------------------------------------------"
   ]
  },
  {
   "cell_type": "code",
   "execution_count": 55,
   "id": "d4c9a0ad",
   "metadata": {},
   "outputs": [],
   "source": [
    "colordict={\"rock\":\"brown\",\"trees\":\"green\",\"apple\":\"red\",\"banana\":\"yellow\"}"
   ]
  },
  {
   "cell_type": "code",
   "execution_count": 56,
   "id": "7b5e0eae",
   "metadata": {},
   "outputs": [
    {
     "data": {
      "text/plain": [
       "{'rock': 'brown', 'trees': 'green', 'apple': 'red', 'banana': 'yellow'}"
      ]
     },
     "execution_count": 56,
     "metadata": {},
     "output_type": "execute_result"
    }
   ],
   "source": [
    "colordict"
   ]
  },
  {
   "cell_type": "code",
   "execution_count": 57,
   "id": "5a7622d2",
   "metadata": {},
   "outputs": [
    {
     "name": "stdout",
     "output_type": "stream",
     "text": [
      "{'rock': 'brown', 'trees': 'green', 'apple': 'red', 'banana': 'yellow'}\n"
     ]
    }
   ],
   "source": [
    "print(colordict)"
   ]
  },
  {
   "cell_type": "code",
   "execution_count": 58,
   "id": "d6bb3011",
   "metadata": {},
   "outputs": [
    {
     "data": {
      "text/plain": [
       "dict_keys(['rock', 'trees', 'apple', 'banana'])"
      ]
     },
     "execution_count": 58,
     "metadata": {},
     "output_type": "execute_result"
    }
   ],
   "source": [
    "colordict.keys()"
   ]
  },
  {
   "cell_type": "code",
   "execution_count": 60,
   "id": "7c85784d",
   "metadata": {},
   "outputs": [
    {
     "data": {
      "text/plain": [
       "dict_values(['brown', 'green', 'red', 'yellow'])"
      ]
     },
     "execution_count": 60,
     "metadata": {},
     "output_type": "execute_result"
    }
   ],
   "source": [
    "colordict.values()"
   ]
  },
  {
   "cell_type": "code",
   "execution_count": 62,
   "id": "b5574675",
   "metadata": {},
   "outputs": [
    {
     "data": {
      "text/plain": [
       "dict_items([('rock', 'brown'), ('trees', 'green'), ('apple', 'red'), ('banana', 'yellow')])"
      ]
     },
     "execution_count": 62,
     "metadata": {},
     "output_type": "execute_result"
    }
   ],
   "source": [
    "colordict.items()"
   ]
  },
  {
   "cell_type": "code",
   "execution_count": 66,
   "id": "c6f26acf",
   "metadata": {},
   "outputs": [],
   "source": [
    "newdict={10:\"C++\", 20:\"Java\",30:\"python\",40:\"Ruby\",}"
   ]
  },
  {
   "cell_type": "code",
   "execution_count": 67,
   "id": "930f7901",
   "metadata": {},
   "outputs": [
    {
     "data": {
      "text/plain": [
       "{10: 'C++', 20: 'Java', 30: 'python', 40: 'Ruby'}"
      ]
     },
     "execution_count": 67,
     "metadata": {},
     "output_type": "execute_result"
    }
   ],
   "source": [
    "newdict"
   ]
  },
  {
   "cell_type": "code",
   "execution_count": 68,
   "id": "a0717b12",
   "metadata": {},
   "outputs": [
    {
     "data": {
      "text/plain": [
       "dict_keys([10, 20, 30, 40])"
      ]
     },
     "execution_count": 68,
     "metadata": {},
     "output_type": "execute_result"
    }
   ],
   "source": [
    "newdict.keys()"
   ]
  },
  {
   "cell_type": "code",
   "execution_count": 69,
   "id": "2f65a9e8",
   "metadata": {},
   "outputs": [
    {
     "data": {
      "text/plain": [
       "dict_values(['C++', 'Java', 'python', 'Ruby'])"
      ]
     },
     "execution_count": 69,
     "metadata": {},
     "output_type": "execute_result"
    }
   ],
   "source": [
    "newdict.values()"
   ]
  },
  {
   "cell_type": "code",
   "execution_count": 70,
   "id": "ab2d5bda",
   "metadata": {},
   "outputs": [
    {
     "data": {
      "text/plain": [
       "dict_items([(10, 'C++'), (20, 'Java'), (30, 'python'), (40, 'Ruby')])"
      ]
     },
     "execution_count": 70,
     "metadata": {},
     "output_type": "execute_result"
    }
   ],
   "source": [
    "newdict.items()"
   ]
  },
  {
   "cell_type": "code",
   "execution_count": 71,
   "id": "08f028ad",
   "metadata": {},
   "outputs": [
    {
     "data": {
      "text/plain": [
       "{10: 'C++', 20: 'Java', 30: 'python', 40: 'Ruby'}"
      ]
     },
     "execution_count": 71,
     "metadata": {},
     "output_type": "execute_result"
    }
   ],
   "source": [
    "newdict"
   ]
  },
  {
   "cell_type": "code",
   "execution_count": 72,
   "id": "6471bf95",
   "metadata": {},
   "outputs": [],
   "source": [
    "# adding new value's and key's indictionary\n",
    "\n",
    "newdict.update({50:\"Rails\"})"
   ]
  },
  {
   "cell_type": "code",
   "execution_count": 73,
   "id": "b15bb2b9",
   "metadata": {},
   "outputs": [
    {
     "name": "stdout",
     "output_type": "stream",
     "text": [
      "{10: 'C++', 20: 'Java', 30: 'python', 40: 'Ruby', 50: 'Rails'}\n"
     ]
    }
   ],
   "source": [
    "# printing dictionary\n",
    "\n",
    "print(newdict)"
   ]
  },
  {
   "cell_type": "code",
   "execution_count": 74,
   "id": "38a8b845",
   "metadata": {},
   "outputs": [],
   "source": [
    "# changing the value by key\n",
    "\n",
    "newdict[40]=\"C Sharp\""
   ]
  },
  {
   "cell_type": "code",
   "execution_count": 75,
   "id": "c8d7b4ff",
   "metadata": {},
   "outputs": [
    {
     "data": {
      "text/plain": [
       "{10: 'C++', 20: 'Java', 30: 'python', 40: 'C Sharp', 50: 'Rails'}"
      ]
     },
     "execution_count": 75,
     "metadata": {},
     "output_type": "execute_result"
    }
   ],
   "source": [
    "newdict"
   ]
  },
  {
   "cell_type": "code",
   "execution_count": 76,
   "id": "61cb672b",
   "metadata": {},
   "outputs": [
    {
     "data": {
      "text/plain": [
       "5"
      ]
     },
     "execution_count": 76,
     "metadata": {},
     "output_type": "execute_result"
    }
   ],
   "source": [
    "len(newdict)"
   ]
  },
  {
   "cell_type": "code",
   "execution_count": 77,
   "id": "d3487293",
   "metadata": {},
   "outputs": [],
   "source": [
    "# deleting a key with value\n",
    "\n",
    "del newdict[50]"
   ]
  },
  {
   "cell_type": "code",
   "execution_count": 78,
   "id": "90c9941e",
   "metadata": {},
   "outputs": [
    {
     "name": "stdout",
     "output_type": "stream",
     "text": [
      "{10: 'C++', 20: 'Java', 30: 'python', 40: 'C Sharp'}\n"
     ]
    }
   ],
   "source": [
    "print(newdict)"
   ]
  },
  {
   "cell_type": "code",
   "execution_count": 79,
   "id": "5ba3bafc",
   "metadata": {},
   "outputs": [
    {
     "data": {
      "text/plain": [
       "4"
      ]
     },
     "execution_count": 79,
     "metadata": {},
     "output_type": "execute_result"
    }
   ],
   "source": [
    "len(newdict)"
   ]
  },
  {
   "cell_type": "code",
   "execution_count": 81,
   "id": "14bce551",
   "metadata": {},
   "outputs": [
    {
     "data": {
      "text/plain": [
       "'python'"
      ]
     },
     "execution_count": 81,
     "metadata": {},
     "output_type": "execute_result"
    }
   ],
   "source": [
    "# deleting a key with pop methord\n",
    "\n",
    "newdict.pop(30)"
   ]
  },
  {
   "cell_type": "code",
   "execution_count": 82,
   "id": "a69467dc",
   "metadata": {},
   "outputs": [
    {
     "data": {
      "text/plain": [
       "3"
      ]
     },
     "execution_count": 82,
     "metadata": {},
     "output_type": "execute_result"
    }
   ],
   "source": [
    "len(newdict)"
   ]
  },
  {
   "cell_type": "code",
   "execution_count": 83,
   "id": "da255d30",
   "metadata": {},
   "outputs": [
    {
     "name": "stdout",
     "output_type": "stream",
     "text": [
      "{10: 'C++', 20: 'Java', 40: 'C Sharp'}\n"
     ]
    }
   ],
   "source": [
    "print(newdict)"
   ]
  },
  {
   "cell_type": "code",
   "execution_count": 84,
   "id": "b58a3ab3",
   "metadata": {},
   "outputs": [
    {
     "data": {
      "text/plain": [
       "dict_items([(10, 'C++'), (20, 'Java'), (40, 'C Sharp')])"
      ]
     },
     "execution_count": 84,
     "metadata": {},
     "output_type": "execute_result"
    }
   ],
   "source": [
    "newdict.items()"
   ]
  },
  {
   "cell_type": "markdown",
   "id": "b22bb6a4",
   "metadata": {},
   "source": [
    "------------------------------------------"
   ]
  },
  {
   "cell_type": "markdown",
   "id": "69aed1f7",
   "metadata": {},
   "source": [
    "CREATING DICTIONARY WITH MULTIPLE VALUES"
   ]
  },
  {
   "cell_type": "code",
   "execution_count": 86,
   "id": "39f74a08",
   "metadata": {},
   "outputs": [],
   "source": [
    "dict2={'id':[1,2,3],'name':[\"jack\",\"jill\",\"Andrew\"],\"grade\":[\"First\",\"Second\",\"Third\"]}"
   ]
  },
  {
   "cell_type": "code",
   "execution_count": 87,
   "id": "a58e1504",
   "metadata": {},
   "outputs": [
    {
     "name": "stdout",
     "output_type": "stream",
     "text": [
      "{'id': [1, 2, 3], 'name': ['jack', 'jill', 'Andrew'], 'grade': ['First', 'Second', 'Third']}\n"
     ]
    }
   ],
   "source": [
    "print(dict2)"
   ]
  },
  {
   "cell_type": "code",
   "execution_count": 89,
   "id": "f28463d9",
   "metadata": {},
   "outputs": [
    {
     "name": "stdout",
     "output_type": "stream",
     "text": [
      "{1: ['red', 'green', 'Blue'], 2: ['White', 'Pink', 'Purple'], 3: ['Brown', 'Yellow', 'light Green']}\n"
     ]
    }
   ],
   "source": [
    "newdict2={1:[\"red\",\"green\",\"Blue\"],2:[\"White\",\"Pink\",\"Purple\"],3:[\"Brown\",\"Yellow\",\"light Green\"]}\n",
    "print(newdict2)"
   ]
  },
  {
   "cell_type": "code",
   "execution_count": 90,
   "id": "26520885",
   "metadata": {},
   "outputs": [
    {
     "data": {
      "text/plain": [
       "dict_keys([1, 2, 3])"
      ]
     },
     "execution_count": 90,
     "metadata": {},
     "output_type": "execute_result"
    }
   ],
   "source": [
    "newdict2.keys()"
   ]
  },
  {
   "cell_type": "code",
   "execution_count": 91,
   "id": "dd62a482",
   "metadata": {},
   "outputs": [
    {
     "data": {
      "text/plain": [
       "dict_values([['red', 'green', 'Blue'], ['White', 'Pink', 'Purple'], ['Brown', 'Yellow', 'light Green']])"
      ]
     },
     "execution_count": 91,
     "metadata": {},
     "output_type": "execute_result"
    }
   ],
   "source": [
    "newdict2.values()"
   ]
  },
  {
   "cell_type": "code",
   "execution_count": 92,
   "id": "400c633b",
   "metadata": {},
   "outputs": [
    {
     "data": {
      "text/plain": [
       "dict_items([(1, ['red', 'green', 'Blue']), (2, ['White', 'Pink', 'Purple']), (3, ['Brown', 'Yellow', 'light Green'])])"
      ]
     },
     "execution_count": 92,
     "metadata": {},
     "output_type": "execute_result"
    }
   ],
   "source": [
    "newdict2.items()"
   ]
  },
  {
   "cell_type": "code",
   "execution_count": 95,
   "id": "ea58ea08",
   "metadata": {},
   "outputs": [],
   "source": [
    "# clear Dictionary\n",
    "\n",
    "newdict2.clear()"
   ]
  },
  {
   "cell_type": "code",
   "execution_count": 96,
   "id": "6007f2f4",
   "metadata": {},
   "outputs": [
    {
     "data": {
      "text/plain": [
       "{}"
      ]
     },
     "execution_count": 96,
     "metadata": {},
     "output_type": "execute_result"
    }
   ],
   "source": [
    "newdict2"
   ]
  },
  {
   "cell_type": "code",
   "execution_count": 97,
   "id": "5a1f1fe7",
   "metadata": {},
   "outputs": [],
   "source": [
    "# delete dictionary\n",
    "\n",
    "del newdict2"
   ]
  },
  {
   "cell_type": "code",
   "execution_count": 98,
   "id": "12cd434a",
   "metadata": {},
   "outputs": [
    {
     "ename": "NameError",
     "evalue": "name 'newdict2' is not defined",
     "output_type": "error",
     "traceback": [
      "\u001b[1;31m---------------------------------------------------------------------------\u001b[0m",
      "\u001b[1;31mNameError\u001b[0m                                 Traceback (most recent call last)",
      "\u001b[1;32mC:\\Users\\ABHIJI~1\\AppData\\Local\\Temp/ipykernel_16896/2485830472.py\u001b[0m in \u001b[0;36m<module>\u001b[1;34m\u001b[0m\n\u001b[1;32m----> 1\u001b[1;33m \u001b[0mnewdict2\u001b[0m\u001b[1;33m\u001b[0m\u001b[1;33m\u001b[0m\u001b[0m\n\u001b[0m",
      "\u001b[1;31mNameError\u001b[0m: name 'newdict2' is not defined"
     ]
    }
   ],
   "source": [
    "newdict2"
   ]
  },
  {
   "cell_type": "markdown",
   "id": "14fa592f",
   "metadata": {},
   "source": [
    "# SETS"
   ]
  },
  {
   "cell_type": "code",
   "execution_count": 100,
   "id": "80ec69d0",
   "metadata": {},
   "outputs": [],
   "source": [
    "# SET WILL NOT ALLOW ANY DUPLICATE VALUES\n",
    "\n",
    "# IT DOESNOT HAVE ANY INDEXING\n",
    "\n",
    "# IMMUTABLE "
   ]
  },
  {
   "cell_type": "code",
   "execution_count": 101,
   "id": "502f2178",
   "metadata": {},
   "outputs": [
    {
     "data": {
      "text/plain": [
       "(22, 23, 24, 35, 90)"
      ]
     },
     "execution_count": 101,
     "metadata": {},
     "output_type": "execute_result"
    }
   ],
   "source": [
    "X=(22,23,24,35,90)\n",
    "X"
   ]
  },
  {
   "cell_type": "code",
   "execution_count": 102,
   "id": "dc180d38",
   "metadata": {},
   "outputs": [
    {
     "data": {
      "text/plain": [
       "(42, 43, 44, 45, 46, 47)"
      ]
     },
     "execution_count": 102,
     "metadata": {},
     "output_type": "execute_result"
    }
   ],
   "source": [
    "Y=(42,43,44,45,46,47)\n",
    "Y"
   ]
  },
  {
   "cell_type": "code",
   "execution_count": 103,
   "id": "f7d5e796",
   "metadata": {},
   "outputs": [
    {
     "data": {
      "text/plain": [
       "{'Thursday', 'Wednusday', 'monday', 'tuesday'}"
      ]
     },
     "execution_count": 103,
     "metadata": {},
     "output_type": "execute_result"
    }
   ],
   "source": [
    "days={\"monday\",\"tuesday\",\"Thursday\",\"Wednusday\"}\n",
    "days"
   ]
  },
  {
   "cell_type": "code",
   "execution_count": 105,
   "id": "abd60ba8",
   "metadata": {},
   "outputs": [
    {
     "data": {
      "text/plain": [
       "{'Sunday', 'Thursday', 'Wednusday', 'monday', 'tuesday'}"
      ]
     },
     "execution_count": 105,
     "metadata": {},
     "output_type": "execute_result"
    }
   ],
   "source": [
    "days.add(\"Sunday\")\n",
    "\n",
    "days"
   ]
  },
  {
   "cell_type": "code",
   "execution_count": 106,
   "id": "7b203159",
   "metadata": {},
   "outputs": [
    {
     "ename": "TypeError",
     "evalue": "'set' object is not subscriptable",
     "output_type": "error",
     "traceback": [
      "\u001b[1;31m---------------------------------------------------------------------------\u001b[0m",
      "\u001b[1;31mTypeError\u001b[0m                                 Traceback (most recent call last)",
      "\u001b[1;32mC:\\Users\\ABHIJI~1\\AppData\\Local\\Temp/ipykernel_16896/4008055489.py\u001b[0m in \u001b[0;36m<module>\u001b[1;34m\u001b[0m\n\u001b[1;32m----> 1\u001b[1;33m \u001b[0mdays\u001b[0m\u001b[1;33m[\u001b[0m\u001b[1;36m0\u001b[0m\u001b[1;33m]\u001b[0m\u001b[1;33m\u001b[0m\u001b[1;33m\u001b[0m\u001b[0m\n\u001b[0m",
      "\u001b[1;31mTypeError\u001b[0m: 'set' object is not subscriptable"
     ]
    }
   ],
   "source": [
    "#No indexing\n",
    "\n",
    "days[0]"
   ]
  },
  {
   "cell_type": "code",
   "execution_count": 107,
   "id": "fae58f3f",
   "metadata": {},
   "outputs": [],
   "source": [
    "#Removing item on sets\n",
    "\n",
    "days.remove(\"Sunday\")"
   ]
  },
  {
   "cell_type": "code",
   "execution_count": 108,
   "id": "7051a57a",
   "metadata": {},
   "outputs": [
    {
     "data": {
      "text/plain": [
       "'Thursday'"
      ]
     },
     "execution_count": 108,
     "metadata": {},
     "output_type": "execute_result"
    }
   ],
   "source": [
    "#days.pop() will remove any item as no intexing\n",
    "\n",
    "days.pop()"
   ]
  },
  {
   "cell_type": "code",
   "execution_count": 109,
   "id": "cd2378db",
   "metadata": {},
   "outputs": [
    {
     "data": {
      "text/plain": [
       "{'Wednusday', 'monday', 'tuesday'}"
      ]
     },
     "execution_count": 109,
     "metadata": {},
     "output_type": "execute_result"
    }
   ],
   "source": [
    "days"
   ]
  },
  {
   "cell_type": "code",
   "execution_count": 111,
   "id": "b7ea2807",
   "metadata": {},
   "outputs": [],
   "source": [
    "days.clear()"
   ]
  },
  {
   "cell_type": "code",
   "execution_count": 112,
   "id": "ded7053f",
   "metadata": {},
   "outputs": [
    {
     "data": {
      "text/plain": [
       "set()"
      ]
     },
     "execution_count": 112,
     "metadata": {},
     "output_type": "execute_result"
    }
   ],
   "source": [
    "days"
   ]
  },
  {
   "cell_type": "code",
   "execution_count": 113,
   "id": "eb3457de",
   "metadata": {},
   "outputs": [],
   "source": [
    "del days"
   ]
  },
  {
   "cell_type": "code",
   "execution_count": 114,
   "id": "6d6ce075",
   "metadata": {},
   "outputs": [
    {
     "ename": "NameError",
     "evalue": "name 'days' is not defined",
     "output_type": "error",
     "traceback": [
      "\u001b[1;31m---------------------------------------------------------------------------\u001b[0m",
      "\u001b[1;31mNameError\u001b[0m                                 Traceback (most recent call last)",
      "\u001b[1;32mC:\\Users\\ABHIJI~1\\AppData\\Local\\Temp/ipykernel_16896/2286027535.py\u001b[0m in \u001b[0;36m<module>\u001b[1;34m\u001b[0m\n\u001b[1;32m----> 1\u001b[1;33m \u001b[0mdays\u001b[0m\u001b[1;33m\u001b[0m\u001b[1;33m\u001b[0m\u001b[0m\n\u001b[0m",
      "\u001b[1;31mNameError\u001b[0m: name 'days' is not defined"
     ]
    }
   ],
   "source": [
    "days"
   ]
  },
  {
   "cell_type": "markdown",
   "id": "a80f1d02",
   "metadata": {},
   "source": [
    "-------------------------------------------------------------------------------"
   ]
  },
  {
   "cell_type": "markdown",
   "id": "aaa6c676",
   "metadata": {},
   "source": [
    "REVISION"
   ]
  },
  {
   "cell_type": "code",
   "execution_count": 115,
   "id": "d5d582f4",
   "metadata": {},
   "outputs": [],
   "source": [
    "#FOR ADDING LIST.APPEND(VALUE)"
   ]
  },
  {
   "cell_type": "code",
   "execution_count": 116,
   "id": "99ac7f39",
   "metadata": {},
   "outputs": [],
   "source": [
    "#LIST.INSERT(INDEX NO,\"VALUE\")"
   ]
  },
  {
   "cell_type": "code",
   "execution_count": 117,
   "id": "5f33c178",
   "metadata": {},
   "outputs": [],
   "source": [
    "#LIST.EXTEND(VALUE,VALUE)"
   ]
  },
  {
   "cell_type": "code",
   "execution_count": 118,
   "id": "770e5171",
   "metadata": {},
   "outputs": [],
   "source": [
    "# ASSENDING ORDER ARRAGEMENT   LIST.SORT()"
   ]
  },
  {
   "cell_type": "code",
   "execution_count": 119,
   "id": "a0ffe01e",
   "metadata": {},
   "outputs": [],
   "source": [
    "# DECENDING ORDER ARRENGEMENT  LIST.REVERSE()"
   ]
  },
  {
   "cell_type": "code",
   "execution_count": 120,
   "id": "8d4b2630",
   "metadata": {},
   "outputs": [],
   "source": [
    "# DELETE FROM BACK             LIST.POP()  "
   ]
  },
  {
   "cell_type": "code",
   "execution_count": 121,
   "id": "cecf60ee",
   "metadata": {},
   "outputs": [],
   "source": [
    "# DELETE FROM INDEX            LIST.POP(INDEX NUMBER)"
   ]
  },
  {
   "cell_type": "code",
   "execution_count": 122,
   "id": "bc8afca0",
   "metadata": {},
   "outputs": [],
   "source": [
    "# REMOVE      LIST.REMOVE(NAME OF ITEM TO BE REMOVED)"
   ]
  },
  {
   "cell_type": "code",
   "execution_count": 123,
   "id": "6ae4c731",
   "metadata": {},
   "outputs": [],
   "source": [
    "# CLEAR       LIST.CLEAR()"
   ]
  },
  {
   "cell_type": "code",
   "execution_count": 124,
   "id": "afd02f83",
   "metadata": {},
   "outputs": [],
   "source": [
    "# DELETE       DEL LIST"
   ]
  },
  {
   "cell_type": "markdown",
   "id": "28b6af5e",
   "metadata": {},
   "source": [
    "----------------------------------------"
   ]
  },
  {
   "cell_type": "code",
   "execution_count": null,
   "id": "02dea56f",
   "metadata": {},
   "outputs": [],
   "source": []
  }
 ],
 "metadata": {
  "kernelspec": {
   "display_name": "Python 3 (ipykernel)",
   "language": "python",
   "name": "python3"
  },
  "language_info": {
   "codemirror_mode": {
    "name": "ipython",
    "version": 3
   },
   "file_extension": ".py",
   "mimetype": "text/x-python",
   "name": "python",
   "nbconvert_exporter": "python",
   "pygments_lexer": "ipython3",
   "version": "3.9.12"
  }
 },
 "nbformat": 4,
 "nbformat_minor": 5
}
