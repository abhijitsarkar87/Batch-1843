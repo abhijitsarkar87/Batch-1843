{
 "cells": [
  {
   "cell_type": "markdown",
   "id": "f7edbfb1",
   "metadata": {},
   "source": [
    "# PYTHON BASICS"
   ]
  },
  {
   "cell_type": "markdown",
   "id": "a6a1efdd",
   "metadata": {},
   "source": [
    "WORKING with OPERATORS"
   ]
  },
  {
   "cell_type": "code",
   "execution_count": 1,
   "id": "940a4c69",
   "metadata": {},
   "outputs": [
    {
     "data": {
      "text/plain": [
       "2"
      ]
     },
     "execution_count": 1,
     "metadata": {},
     "output_type": "execute_result"
    }
   ],
   "source": [
    "1+1"
   ]
  },
  {
   "cell_type": "code",
   "execution_count": 2,
   "id": "a31df1c8",
   "metadata": {},
   "outputs": [
    {
     "data": {
      "text/plain": [
       "1"
      ]
     },
     "execution_count": 2,
     "metadata": {},
     "output_type": "execute_result"
    }
   ],
   "source": [
    "2-1"
   ]
  },
  {
   "cell_type": "code",
   "execution_count": 5,
   "id": "09a7b46a",
   "metadata": {},
   "outputs": [
    {
     "data": {
      "text/plain": [
       "6"
      ]
     },
     "execution_count": 5,
     "metadata": {},
     "output_type": "execute_result"
    }
   ],
   "source": [
    "3*2"
   ]
  },
  {
   "cell_type": "code",
   "execution_count": 6,
   "id": "53a416c3",
   "metadata": {},
   "outputs": [
    {
     "data": {
      "text/plain": [
       "5.0"
      ]
     },
     "execution_count": 6,
     "metadata": {},
     "output_type": "execute_result"
    }
   ],
   "source": [
    "10/2"
   ]
  },
  {
   "cell_type": "code",
   "execution_count": 7,
   "id": "e6e8afdd",
   "metadata": {},
   "outputs": [
    {
     "data": {
      "text/plain": [
       "0"
      ]
     },
     "execution_count": 7,
     "metadata": {},
     "output_type": "execute_result"
    }
   ],
   "source": [
    "10%2"
   ]
  },
  {
   "cell_type": "code",
   "execution_count": 9,
   "id": "7f3501a1",
   "metadata": {},
   "outputs": [
    {
     "data": {
      "text/plain": [
       "5.5"
      ]
     },
     "execution_count": 9,
     "metadata": {},
     "output_type": "execute_result"
    }
   ],
   "source": [
    "11/2"
   ]
  },
  {
   "cell_type": "markdown",
   "id": "4aba100d",
   "metadata": {},
   "source": [
    "FLOOR DIVISION"
   ]
  },
  {
   "cell_type": "code",
   "execution_count": 10,
   "id": "bf28e564",
   "metadata": {},
   "outputs": [
    {
     "data": {
      "text/plain": [
       "5"
      ]
     },
     "execution_count": 10,
     "metadata": {},
     "output_type": "execute_result"
    }
   ],
   "source": [
    "11//2"
   ]
  },
  {
   "cell_type": "markdown",
   "id": "11de07a9",
   "metadata": {},
   "source": [
    "# MODULO OPERATOR"
   ]
  },
  {
   "cell_type": "code",
   "execution_count": 11,
   "id": "ff063c5c",
   "metadata": {},
   "outputs": [
    {
     "data": {
      "text/plain": [
       "0"
      ]
     },
     "execution_count": 11,
     "metadata": {},
     "output_type": "execute_result"
    }
   ],
   "source": [
    "10%2"
   ]
  },
  {
   "cell_type": "code",
   "execution_count": 12,
   "id": "17241d63",
   "metadata": {},
   "outputs": [
    {
     "data": {
      "text/plain": [
       "1"
      ]
     },
     "execution_count": 12,
     "metadata": {},
     "output_type": "execute_result"
    }
   ],
   "source": [
    "11%2"
   ]
  },
  {
   "cell_type": "code",
   "execution_count": 13,
   "id": "2ffee4a4",
   "metadata": {},
   "outputs": [
    {
     "data": {
      "text/plain": [
       "0"
      ]
     },
     "execution_count": 13,
     "metadata": {},
     "output_type": "execute_result"
    }
   ],
   "source": [
    "15%3"
   ]
  },
  {
   "cell_type": "markdown",
   "id": "5c1e7fd6",
   "metadata": {},
   "source": [
    "POWER \n"
   ]
  },
  {
   "cell_type": "code",
   "execution_count": 1,
   "id": "354d768a",
   "metadata": {},
   "outputs": [],
   "source": [
    "#A TO POWER b \n",
    "#A**b\n"
   ]
  },
  {
   "cell_type": "code",
   "execution_count": 15,
   "id": "00aabc76",
   "metadata": {},
   "outputs": [
    {
     "data": {
      "text/plain": [
       "256"
      ]
     },
     "execution_count": 15,
     "metadata": {},
     "output_type": "execute_result"
    }
   ],
   "source": [
    "2**8"
   ]
  },
  {
   "cell_type": "code",
   "execution_count": 23,
   "id": "d09e0a9b",
   "metadata": {},
   "outputs": [
    {
     "data": {
      "text/plain": [
       "4"
      ]
     },
     "execution_count": 23,
     "metadata": {},
     "output_type": "execute_result"
    }
   ],
   "source": [
    "#ONE STAR IS MULTIPLY\n",
    "\n",
    "2*2"
   ]
  },
  {
   "cell_type": "code",
   "execution_count": 24,
   "id": "8f8eeabe",
   "metadata": {},
   "outputs": [
    {
     "data": {
      "text/plain": [
       "27"
      ]
     },
     "execution_count": 24,
     "metadata": {},
     "output_type": "execute_result"
    }
   ],
   "source": [
    "#TWO STAR IS THREE TO THE POWER 3\n",
    "3**3"
   ]
  },
  {
   "cell_type": "code",
   "execution_count": 19,
   "id": "9c6683b9",
   "metadata": {},
   "outputs": [
    {
     "data": {
      "text/plain": [
       "64"
      ]
     },
     "execution_count": 19,
     "metadata": {},
     "output_type": "execute_result"
    }
   ],
   "source": [
    "4**3"
   ]
  },
  {
   "cell_type": "code",
   "execution_count": 20,
   "id": "87b43ab0",
   "metadata": {},
   "outputs": [
    {
     "data": {
      "text/plain": [
       "32"
      ]
     },
     "execution_count": 20,
     "metadata": {},
     "output_type": "execute_result"
    }
   ],
   "source": [
    "2**5"
   ]
  },
  {
   "cell_type": "code",
   "execution_count": 21,
   "id": "db3d047b",
   "metadata": {},
   "outputs": [
    {
     "data": {
      "text/plain": [
       "25"
      ]
     },
     "execution_count": 21,
     "metadata": {},
     "output_type": "execute_result"
    }
   ],
   "source": [
    "5**2"
   ]
  },
  {
   "cell_type": "code",
   "execution_count": 22,
   "id": "16a610dd",
   "metadata": {},
   "outputs": [
    {
     "data": {
      "text/plain": [
       "49"
      ]
     },
     "execution_count": 22,
     "metadata": {},
     "output_type": "execute_result"
    }
   ],
   "source": [
    "7**2"
   ]
  },
  {
   "cell_type": "markdown",
   "id": "f735459b",
   "metadata": {},
   "source": [
    "VARIABLES"
   ]
  },
  {
   "cell_type": "markdown",
   "id": "54b37029",
   "metadata": {},
   "source": [
    "working with variable"
   ]
  },
  {
   "cell_type": "code",
   "execution_count": 25,
   "id": "f63164f5",
   "metadata": {},
   "outputs": [],
   "source": [
    "a=2"
   ]
  },
  {
   "cell_type": "code",
   "execution_count": 26,
   "id": "f937171f",
   "metadata": {},
   "outputs": [
    {
     "data": {
      "text/plain": [
       "2"
      ]
     },
     "execution_count": 26,
     "metadata": {},
     "output_type": "execute_result"
    }
   ],
   "source": [
    "a"
   ]
  },
  {
   "cell_type": "code",
   "execution_count": 27,
   "id": "7fd91d6d",
   "metadata": {},
   "outputs": [],
   "source": [
    "b=30"
   ]
  },
  {
   "cell_type": "code",
   "execution_count": 28,
   "id": "b64104b1",
   "metadata": {},
   "outputs": [
    {
     "data": {
      "text/plain": [
       "30"
      ]
     },
     "execution_count": 28,
     "metadata": {},
     "output_type": "execute_result"
    }
   ],
   "source": [
    "b"
   ]
  },
  {
   "cell_type": "code",
   "execution_count": 29,
   "id": "6cbadb75",
   "metadata": {},
   "outputs": [
    {
     "data": {
      "text/plain": [
       "32"
      ]
     },
     "execution_count": 29,
     "metadata": {},
     "output_type": "execute_result"
    }
   ],
   "source": [
    "a+b"
   ]
  },
  {
   "cell_type": "code",
   "execution_count": 30,
   "id": "c1364000",
   "metadata": {},
   "outputs": [
    {
     "data": {
      "text/plain": [
       "-28"
      ]
     },
     "execution_count": 30,
     "metadata": {},
     "output_type": "execute_result"
    }
   ],
   "source": [
    "a-b"
   ]
  },
  {
   "cell_type": "code",
   "execution_count": 31,
   "id": "1216adda",
   "metadata": {},
   "outputs": [
    {
     "data": {
      "text/plain": [
       "28"
      ]
     },
     "execution_count": 31,
     "metadata": {},
     "output_type": "execute_result"
    }
   ],
   "source": [
    "b-a"
   ]
  },
  {
   "cell_type": "code",
   "execution_count": 32,
   "id": "ba18cc40",
   "metadata": {},
   "outputs": [
    {
     "data": {
      "text/plain": [
       "60"
      ]
     },
     "execution_count": 32,
     "metadata": {},
     "output_type": "execute_result"
    }
   ],
   "source": [
    "a*b"
   ]
  },
  {
   "cell_type": "code",
   "execution_count": 33,
   "id": "54f59869",
   "metadata": {},
   "outputs": [
    {
     "data": {
      "text/plain": [
       "-28"
      ]
     },
     "execution_count": 33,
     "metadata": {},
     "output_type": "execute_result"
    }
   ],
   "source": [
    "c=a-b\n",
    "c"
   ]
  },
  {
   "cell_type": "code",
   "execution_count": 35,
   "id": "080fb48d",
   "metadata": {},
   "outputs": [
    {
     "data": {
      "text/plain": [
       "58"
      ]
     },
     "execution_count": 35,
     "metadata": {},
     "output_type": "execute_result"
    }
   ],
   "source": [
    "d=b-c\n",
    "d"
   ]
  },
  {
   "cell_type": "code",
   "execution_count": 37,
   "id": "ad982d65",
   "metadata": {},
   "outputs": [
    {
     "data": {
      "text/plain": [
       "60"
      ]
     },
     "execution_count": 37,
     "metadata": {},
     "output_type": "execute_result"
    }
   ],
   "source": [
    "e=b*a\n",
    "e"
   ]
  },
  {
   "cell_type": "code",
   "execution_count": 38,
   "id": "0a761b63",
   "metadata": {},
   "outputs": [
    {
     "data": {
      "text/plain": [
       "0"
      ]
     },
     "execution_count": 38,
     "metadata": {},
     "output_type": "execute_result"
    }
   ],
   "source": [
    "b%a"
   ]
  },
  {
   "cell_type": "code",
   "execution_count": 39,
   "id": "a46d85fb",
   "metadata": {},
   "outputs": [
    {
     "data": {
      "text/plain": [
       "2"
      ]
     },
     "execution_count": 39,
     "metadata": {},
     "output_type": "execute_result"
    }
   ],
   "source": [
    "a%b"
   ]
  },
  {
   "cell_type": "code",
   "execution_count": 40,
   "id": "81ba2160",
   "metadata": {},
   "outputs": [
    {
     "name": "stdout",
     "output_type": "stream",
     "text": [
      "b= 30\n"
     ]
    }
   ],
   "source": [
    "print('b=',b)"
   ]
  },
  {
   "cell_type": "code",
   "execution_count": 42,
   "id": "6aa37891",
   "metadata": {},
   "outputs": [
    {
     "name": "stdout",
     "output_type": "stream",
     "text": [
      "Difference= 58\n"
     ]
    }
   ],
   "source": [
    "print(\"Difference=\",d)"
   ]
  },
  {
   "cell_type": "code",
   "execution_count": 6,
   "id": "e58aae22",
   "metadata": {},
   "outputs": [
    {
     "name": "stdout",
     "output_type": "stream",
     "text": [
      "12\n",
      "5\n",
      "sum= 17\n",
      "diffference= 7\n",
      "multiply= 60\n",
      "divide= 2.4\n",
      "divide= 2\n",
      "remender= 2\n"
     ]
    }
   ],
   "source": [
    "a=12\n",
    "b=5\n",
    "print(a)\n",
    "print(b)\n",
    "print('sum=',a+b)\n",
    "print('diffference=', a-b)\n",
    "print(\"multiply=\",a*b)\n",
    "print(\"divide=\",a/b)\n",
    "print(\"divide=\",a//b)\n",
    "print(\"remender=\",a%b)\n"
   ]
  },
  {
   "cell_type": "markdown",
   "id": "12c24c1b",
   "metadata": {},
   "source": [
    "LENGTH FUNCTION"
   ]
  },
  {
   "cell_type": "code",
   "execution_count": 8,
   "id": "06911d4e",
   "metadata": {},
   "outputs": [
    {
     "data": {
      "text/plain": [
       "7"
      ]
     },
     "execution_count": 8,
     "metadata": {},
     "output_type": "execute_result"
    }
   ],
   "source": [
    "len('NEWYORK')"
   ]
  },
  {
   "cell_type": "code",
   "execution_count": 9,
   "id": "0833d1c7",
   "metadata": {},
   "outputs": [
    {
     "data": {
      "text/plain": [
       "4"
      ]
     },
     "execution_count": 9,
     "metadata": {},
     "output_type": "execute_result"
    }
   ],
   "source": [
    "len('pune')"
   ]
  },
  {
   "cell_type": "code",
   "execution_count": 10,
   "id": "e4a3b985",
   "metadata": {},
   "outputs": [
    {
     "data": {
      "text/plain": [
       "5"
      ]
     },
     "execution_count": 10,
     "metadata": {},
     "output_type": "execute_result"
    }
   ],
   "source": [
    "len(\"India\")"
   ]
  },
  {
   "cell_type": "code",
   "execution_count": 11,
   "id": "4da9528d",
   "metadata": {},
   "outputs": [
    {
     "data": {
      "text/plain": [
       "5"
      ]
     },
     "execution_count": 11,
     "metadata": {},
     "output_type": "execute_result"
    }
   ],
   "source": [
    "m='INDIA'\n",
    "\n",
    "len(m)\n"
   ]
  },
  {
   "cell_type": "code",
   "execution_count": 15,
   "id": "2cf1761a",
   "metadata": {},
   "outputs": [
    {
     "name": "stdout",
     "output_type": "stream",
     "text": [
      "INDIA\n"
     ]
    }
   ],
   "source": [
    "print(m)\n",
    "\n"
   ]
  },
  {
   "cell_type": "code",
   "execution_count": 14,
   "id": "e5e80dac",
   "metadata": {},
   "outputs": [
    {
     "name": "stdout",
     "output_type": "stream",
     "text": [
      "5 INDIA\n"
     ]
    }
   ],
   "source": [
    "print(len(m),m)"
   ]
  },
  {
   "cell_type": "markdown",
   "id": "d5348482",
   "metadata": {},
   "source": [
    "STRING CON-CATENATION"
   ]
  },
  {
   "cell_type": "code",
   "execution_count": 16,
   "id": "4d693c55",
   "metadata": {},
   "outputs": [
    {
     "data": {
      "text/plain": [
       "'HappyBithday'"
      ]
     },
     "execution_count": 16,
     "metadata": {},
     "output_type": "execute_result"
    }
   ],
   "source": [
    "\"Happy\"+\"Bithday\""
   ]
  },
  {
   "cell_type": "code",
   "execution_count": 21,
   "id": "504969aa",
   "metadata": {},
   "outputs": [
    {
     "data": {
      "text/plain": [
       "'SpaceX is working in space Tourism '"
      ]
     },
     "execution_count": 21,
     "metadata": {},
     "output_type": "execute_result"
    }
   ],
   "source": [
    "\"SpaceX \" + \"is working \"+\"in \"+\"space \" +\"Tourism \""
   ]
  },
  {
   "cell_type": "code",
   "execution_count": 24,
   "id": "279edf71",
   "metadata": {},
   "outputs": [
    {
     "data": {
      "text/plain": [
       "'ELON MASK TESLA CEO '"
      ]
     },
     "execution_count": 24,
     "metadata": {},
     "output_type": "execute_result"
    }
   ],
   "source": [
    "\"ELON \"+\"MASK \"+\"TESLA \"+\"CEO \""
   ]
  },
  {
   "cell_type": "code",
   "execution_count": 31,
   "id": "192b773b",
   "metadata": {},
   "outputs": [
    {
     "name": "stdout",
     "output_type": "stream",
     "text": [
      "8  ABHIJIT\n",
      "7  SARKAR\n"
     ]
    },
    {
     "data": {
      "text/plain": [
       "' ABHIJIT SARKAR'"
      ]
     },
     "execution_count": 31,
     "metadata": {},
     "output_type": "execute_result"
    }
   ],
   "source": [
    "FIRSTNAME=\" ABHIJIT\"\n",
    "LASTNAME=\" SARKAR\"\n",
    "\n",
    "print(len(FIRSTNAME),FIRSTNAME)\n",
    "print(len(LASTNAME),LASTNAME)\n",
    "\n",
    "FIRSTNAME+LASTNAME"
   ]
  },
  {
   "cell_type": "code",
   "execution_count": 32,
   "id": "9242100a",
   "metadata": {},
   "outputs": [
    {
     "data": {
      "text/plain": [
       "'I am learning something New'"
      ]
     },
     "execution_count": 32,
     "metadata": {},
     "output_type": "execute_result"
    }
   ],
   "source": [
    "\"I\"+\" am\"+\" learning\"+\" something\"+\" New\""
   ]
  },
  {
   "cell_type": "markdown",
   "id": "6ca4c918",
   "metadata": {},
   "source": [
    "# Area of Rectangle"
   ]
  },
  {
   "cell_type": "code",
   "execution_count": 35,
   "id": "6fb7ba94",
   "metadata": {},
   "outputs": [
    {
     "name": "stdout",
     "output_type": "stream",
     "text": [
      "Length= 20\n",
      "Breadth= 4\n",
      "Area of Rectangle= 80\n"
     ]
    }
   ],
   "source": [
    "#area of a rectangle\n",
    "\n",
    "length=20\n",
    "breadth=4\n",
    "\n",
    "area=length*breadth\n",
    "\n",
    "print(\"Length=\",length)\n",
    "print(\"Breadth=\",breadth)\n",
    "print(\"Area of Rectangle=\",area)"
   ]
  },
  {
   "cell_type": "code",
   "execution_count": 34,
   "id": "3e076cf7",
   "metadata": {},
   "outputs": [
    {
     "name": "stdout",
     "output_type": "stream",
     "text": [
      "length= 20\n",
      "Area of Square= 400\n"
     ]
    }
   ],
   "source": [
    "# Area of Square\n",
    "\n",
    "length=10\n",
    "\n",
    "Areaofsquare=length**2\n",
    "\n",
    "print(\"length=\",length)\n",
    "print(\"Area of Square=\",Areaofsquare)"
   ]
  },
  {
   "cell_type": "markdown",
   "id": "634e66d2",
   "metadata": {},
   "source": [
    "# Boolean operators"
   ]
  },
  {
   "cell_type": "code",
   "execution_count": 36,
   "id": "2fb02802",
   "metadata": {},
   "outputs": [
    {
     "data": {
      "text/plain": [
       "False"
      ]
     },
     "execution_count": 36,
     "metadata": {},
     "output_type": "execute_result"
    }
   ],
   "source": [
    "#( != means not equals  )\n",
    "\n",
    "70!=70"
   ]
  },
  {
   "cell_type": "code",
   "execution_count": 37,
   "id": "26d61769",
   "metadata": {},
   "outputs": [
    {
     "data": {
      "text/plain": [
       "False"
      ]
     },
     "execution_count": 37,
     "metadata": {},
     "output_type": "execute_result"
    }
   ],
   "source": [
    "5>6"
   ]
  },
  {
   "cell_type": "code",
   "execution_count": 38,
   "id": "0a55a388",
   "metadata": {},
   "outputs": [
    {
     "data": {
      "text/plain": [
       "True"
      ]
     },
     "execution_count": 38,
     "metadata": {},
     "output_type": "execute_result"
    }
   ],
   "source": [
    "7>6"
   ]
  },
  {
   "cell_type": "code",
   "execution_count": 39,
   "id": "53680c50",
   "metadata": {},
   "outputs": [
    {
     "data": {
      "text/plain": [
       "True"
      ]
     },
     "execution_count": 39,
     "metadata": {},
     "output_type": "execute_result"
    }
   ],
   "source": [
    "5<6"
   ]
  },
  {
   "cell_type": "code",
   "execution_count": 40,
   "id": "7a136ff3",
   "metadata": {},
   "outputs": [
    {
     "data": {
      "text/plain": [
       "False"
      ]
     },
     "execution_count": 40,
     "metadata": {},
     "output_type": "execute_result"
    }
   ],
   "source": [
    "7<6"
   ]
  },
  {
   "cell_type": "code",
   "execution_count": 41,
   "id": "f61387db",
   "metadata": {},
   "outputs": [
    {
     "data": {
      "text/plain": [
       "True"
      ]
     },
     "execution_count": 41,
     "metadata": {},
     "output_type": "execute_result"
    }
   ],
   "source": [
    "6==6"
   ]
  },
  {
   "cell_type": "code",
   "execution_count": 42,
   "id": "ab1f26a0",
   "metadata": {},
   "outputs": [
    {
     "data": {
      "text/plain": [
       "False"
      ]
     },
     "execution_count": 42,
     "metadata": {},
     "output_type": "execute_result"
    }
   ],
   "source": [
    "9==8"
   ]
  },
  {
   "cell_type": "code",
   "execution_count": 43,
   "id": "530d4f99",
   "metadata": {},
   "outputs": [
    {
     "data": {
      "text/plain": [
       "False"
      ]
     },
     "execution_count": 43,
     "metadata": {},
     "output_type": "execute_result"
    }
   ],
   "source": [
    "10>11"
   ]
  },
  {
   "cell_type": "code",
   "execution_count": 44,
   "id": "5c231f51",
   "metadata": {},
   "outputs": [
    {
     "data": {
      "text/plain": [
       "True"
      ]
     },
     "execution_count": 44,
     "metadata": {},
     "output_type": "execute_result"
    }
   ],
   "source": [
    "11>10"
   ]
  },
  {
   "cell_type": "code",
   "execution_count": 45,
   "id": "6bdd8deb",
   "metadata": {},
   "outputs": [
    {
     "data": {
      "text/plain": [
       "False"
      ]
     },
     "execution_count": 45,
     "metadata": {},
     "output_type": "execute_result"
    }
   ],
   "source": [
    "8!=8"
   ]
  },
  {
   "cell_type": "code",
   "execution_count": 46,
   "id": "a7fc0a19",
   "metadata": {},
   "outputs": [
    {
     "data": {
      "text/plain": [
       "False"
      ]
     },
     "execution_count": 46,
     "metadata": {},
     "output_type": "execute_result"
    }
   ],
   "source": [
    "8==9"
   ]
  },
  {
   "cell_type": "code",
   "execution_count": 48,
   "id": "39325280",
   "metadata": {},
   "outputs": [
    {
     "data": {
      "text/plain": [
       "False"
      ]
     },
     "execution_count": 48,
     "metadata": {},
     "output_type": "execute_result"
    }
   ],
   "source": [
    "10>11"
   ]
  },
  {
   "cell_type": "code",
   "execution_count": 51,
   "id": "c7a9edd4",
   "metadata": {},
   "outputs": [
    {
     "name": "stdout",
     "output_type": "stream",
     "text": [
      "IS T greater then B----->  False\n",
      "is t less than b -------> True\n",
      "is T is equal equal to b> False\n",
      "is T is not equal to b--> True\n"
     ]
    }
   ],
   "source": [
    "t=11\n",
    "b=15\n",
    "\n",
    "print(\"IS T greater then B-----> \",t>b)\n",
    "print(\"is t less than b ------->\",t<b)\n",
    "print(\"is T is equal equal to b>\",t==b)\n",
    "print(\"is T is not equal to b-->\",t!=b)"
   ]
  },
  {
   "cell_type": "code",
   "execution_count": 55,
   "id": "28536b14",
   "metadata": {},
   "outputs": [
    {
     "name": "stdout",
     "output_type": "stream",
     "text": [
      "ENTER YOUR COUNTRY NAME=India\n"
     ]
    },
    {
     "data": {
      "text/plain": [
       "'India'"
      ]
     },
     "execution_count": 55,
     "metadata": {},
     "output_type": "execute_result"
    }
   ],
   "source": [
    "country=input(\"ENTER YOUR COUNTRY NAME=\")\n",
    "\n",
    "country\n",
    "\n",
    "#need to press Enter on keyboard or else computer would hang.\n",
    "\n",
    "# if it hangs go to kernel,Interrupt"
   ]
  },
  {
   "cell_type": "code",
   "execution_count": null,
   "id": "d2d5c80f",
   "metadata": {},
   "outputs": [],
   "source": [
    "# PYTHON Was created by \"Guido Van Rossum\" \"1991\"  \" National \""
   ]
  },
  {
   "cell_type": "code",
   "execution_count": null,
   "id": "342af8d6",
   "metadata": {},
   "outputs": [],
   "source": [
    "#  **Interpreter work for single-single line\n",
    "\n",
    "#   **Compilier works for more than one line \n"
   ]
  }
 ],
 "metadata": {
  "kernelspec": {
   "display_name": "Python 3 (ipykernel)",
   "language": "python",
   "name": "python3"
  },
  "language_info": {
   "codemirror_mode": {
    "name": "ipython",
    "version": 3
   },
   "file_extension": ".py",
   "mimetype": "text/x-python",
   "name": "python",
   "nbconvert_exporter": "python",
   "pygments_lexer": "ipython3",
   "version": "3.9.7"
  }
 },
 "nbformat": 4,
 "nbformat_minor": 5
}
