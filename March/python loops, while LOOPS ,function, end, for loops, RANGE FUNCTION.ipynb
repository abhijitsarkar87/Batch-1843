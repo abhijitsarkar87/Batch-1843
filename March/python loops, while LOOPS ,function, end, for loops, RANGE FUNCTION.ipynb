{
 "cells": [
  {
   "cell_type": "markdown",
   "id": "4e9f1501",
   "metadata": {},
   "source": [
    "# PYTHON LOOPS"
   ]
  },
  {
   "cell_type": "code",
   "execution_count": 1,
   "id": "d1f56edb",
   "metadata": {},
   "outputs": [],
   "source": [
    "# LOOPS \n",
    "\n",
    "#INITIALIZATION--->I=0\n",
    "\n",
    "#CONDITION------>WHILE(I<5) PRINT(I)\n",
    "\n",
    "#INCREMENT------->I=I+1 WHERE I IS ZERO "
   ]
  },
  {
   "cell_type": "code",
   "execution_count": 2,
   "id": "e809ffa4",
   "metadata": {},
   "outputs": [
    {
     "name": "stdout",
     "output_type": "stream",
     "text": [
      "0\n",
      "1\n",
      "2\n"
     ]
    }
   ],
   "source": [
    "#initialisation\n",
    "i=0\n",
    "\n",
    "#condition\n",
    "while(i<3):\n",
    "    print(i)\n",
    "    \n",
    "    #increment\n",
    "    i=i+1\n",
    "    "
   ]
  },
  {
   "cell_type": "code",
   "execution_count": 3,
   "id": "54f28f17",
   "metadata": {},
   "outputs": [
    {
     "name": "stdout",
     "output_type": "stream",
     "text": [
      "0\n",
      "1\n",
      "2\n",
      "3\n"
     ]
    }
   ],
   "source": [
    "i=0\n",
    "\n",
    "while(i<=3):\n",
    "    print(i)\n",
    "    \n",
    "    i=i+1"
   ]
  },
  {
   "cell_type": "code",
   "execution_count": 4,
   "id": "cd26f2cf",
   "metadata": {},
   "outputs": [
    {
     "name": "stdout",
     "output_type": "stream",
     "text": [
      "0\n",
      "1\n",
      "2\n",
      "3\n",
      "4\n",
      "5\n",
      "6\n"
     ]
    }
   ],
   "source": [
    "i=0\n",
    "\n",
    "while(i<7):\n",
    "    print(i)\n",
    "    \n",
    "    i=i+1"
   ]
  },
  {
   "cell_type": "code",
   "execution_count": 5,
   "id": "09b38e77",
   "metadata": {},
   "outputs": [
    {
     "name": "stdout",
     "output_type": "stream",
     "text": [
      "0\n",
      "1\n",
      "2\n"
     ]
    }
   ],
   "source": [
    "k=0\n",
    "\n",
    "while(k<3):\n",
    "    print(k,)\n",
    "    \n",
    "    k=k+1"
   ]
  },
  {
   "cell_type": "code",
   "execution_count": 6,
   "id": "a20a363e",
   "metadata": {},
   "outputs": [
    {
     "name": "stdout",
     "output_type": "stream",
     "text": [
      "0\n",
      "1\n",
      "2\n",
      "3\n",
      "4\n",
      "5\n",
      "6\n",
      "7\n",
      "8\n",
      "9\n"
     ]
    }
   ],
   "source": [
    "j=0\n",
    "while(j<10):\n",
    "    print(j)\n",
    "    \n",
    "    j=j+1"
   ]
  },
  {
   "cell_type": "code",
   "execution_count": 7,
   "id": "e15bb6a3",
   "metadata": {},
   "outputs": [
    {
     "name": "stdout",
     "output_type": "stream",
     "text": [
      "0\n",
      "2\n",
      "4\n",
      "6\n",
      "8\n"
     ]
    }
   ],
   "source": [
    "p=0\n",
    "while(p<10):\n",
    "    print(p)\n",
    "    \n",
    "    p=p+2"
   ]
  },
  {
   "cell_type": "code",
   "execution_count": 11,
   "id": "3675c9de",
   "metadata": {},
   "outputs": [
    {
     "name": "stdout",
     "output_type": "stream",
     "text": [
      "0\n",
      "5\n",
      "10\n",
      "15\n"
     ]
    }
   ],
   "source": [
    "k=0\n",
    "while(k<20):\n",
    "    print(k)\n",
    "    \n",
    "    k=k+5\n"
   ]
  },
  {
   "cell_type": "code",
   "execution_count": 12,
   "id": "cbe111c8",
   "metadata": {},
   "outputs": [
    {
     "name": "stdout",
     "output_type": "stream",
     "text": [
      "m--> 0\n",
      "m--> 1\n",
      "m--> 2\n",
      "m--> 3\n",
      "m--> 4\n"
     ]
    }
   ],
   "source": [
    "m=0\n",
    "\n",
    "while(m<5):\n",
    "    print(\"m-->\",m)\n",
    "    \n",
    "    m=m+1"
   ]
  },
  {
   "cell_type": "code",
   "execution_count": 14,
   "id": "2153c0ef",
   "metadata": {},
   "outputs": [
    {
     "name": "stdout",
     "output_type": "stream",
     "text": [
      "the value of s....> 0\n",
      "the value of s....> 2\n",
      "the value of s....> 4\n",
      "the value of s....> 6\n",
      "the value of s....> 8\n"
     ]
    }
   ],
   "source": [
    "s=0\n",
    "\n",
    "while(s<10):\n",
    "    print(\"the value of s....>\",s)\n",
    "    \n",
    "    s=s+2"
   ]
  },
  {
   "cell_type": "code",
   "execution_count": 16,
   "id": "a56623e8",
   "metadata": {},
   "outputs": [
    {
     "name": "stdout",
     "output_type": "stream",
     "text": [
      "0 2 4 6 8 10 12 14 16 18 "
     ]
    }
   ],
   "source": [
    "c=0\n",
    "\n",
    "while(c<20):\n",
    "    print(c,end=\" \")\n",
    "    \n",
    "    c=c+2"
   ]
  },
  {
   "cell_type": "code",
   "execution_count": 18,
   "id": "6c60fa91",
   "metadata": {},
   "outputs": [
    {
     "name": "stdout",
     "output_type": "stream",
     "text": [
      "5 9 13 17 21 25 29 "
     ]
    }
   ],
   "source": [
    "d=5\n",
    "\n",
    "while(d<30):\n",
    "    \n",
    "    print(d,end=\" \")\n",
    "    \n",
    "    d=d+4"
   ]
  },
  {
   "cell_type": "markdown",
   "id": "29098664",
   "metadata": {},
   "source": [
    "# LOOPS"
   ]
  },
  {
   "cell_type": "markdown",
   "id": "992e5dc5",
   "metadata": {},
   "source": [
    "FOR LOOP"
   ]
  },
  {
   "cell_type": "code",
   "execution_count": 2,
   "id": "e8c96433",
   "metadata": {},
   "outputs": [
    {
     "name": "stdout",
     "output_type": "stream",
     "text": [
      "100 200 300 400 500 "
     ]
    }
   ],
   "source": [
    "for index in[100,200,300,400,500]:\n",
    "    \n",
    "    print(index,end=\" \")"
   ]
  },
  {
   "cell_type": "code",
   "execution_count": 3,
   "id": "fb0ece39",
   "metadata": {},
   "outputs": [
    {
     "name": "stdout",
     "output_type": "stream",
     "text": [
      "22 33 44 55 66 "
     ]
    }
   ],
   "source": [
    "for index in[22,33,44,55,66]:\n",
    "    \n",
    "    print(index,end=\" \")"
   ]
  },
  {
   "cell_type": "code",
   "execution_count": 4,
   "id": "e92c2e85",
   "metadata": {},
   "outputs": [
    {
     "name": "stdout",
     "output_type": "stream",
     "text": [
      "11 23 34 45 56 1 67 "
     ]
    }
   ],
   "source": [
    "for i in[11,23,34,45,56,1,67]:\n",
    "    \n",
    "    print(i,end=\" \")"
   ]
  },
  {
   "cell_type": "code",
   "execution_count": 6,
   "id": "e57ca2e5",
   "metadata": {},
   "outputs": [
    {
     "name": "stdout",
     "output_type": "stream",
     "text": [
      "12.9 45.8 34.9 Abc "
     ]
    }
   ],
   "source": [
    "for p in[12.9,45.8,34.9,\"Abc\"]:\n",
    "    \n",
    "    print(p,end=\" \")"
   ]
  },
  {
   "cell_type": "code",
   "execution_count": 7,
   "id": "bcacb0e0",
   "metadata": {},
   "outputs": [
    {
     "name": "stdout",
     "output_type": "stream",
     "text": [
      "a b c d e "
     ]
    }
   ],
   "source": [
    "for j in[\"a\",\"b\",\"c\",\"d\",\"e\"]:\n",
    "    \n",
    "    print(j,end=\" \")"
   ]
  },
  {
   "cell_type": "code",
   "execution_count": 8,
   "id": "2e44111c",
   "metadata": {},
   "outputs": [
    {
     "name": "stdout",
     "output_type": "stream",
     "text": [
      "mercury\n",
      "Venus\n",
      "Neptune\n"
     ]
    }
   ],
   "source": [
    "for j1 in [\"mercury\",\"Venus\",\"Neptune\"]:\n",
    "    \n",
    "    print(j1)"
   ]
  },
  {
   "cell_type": "code",
   "execution_count": 10,
   "id": "9a8f315c",
   "metadata": {},
   "outputs": [
    {
     "name": "stdout",
     "output_type": "stream",
     "text": [
      "Arctic  Africa  Asia  Antartica  America  "
     ]
    }
   ],
   "source": [
    "for d in[\"Arctic\",\"Africa\",\"Asia\",\"Antartica\",\"America\"]:\n",
    "    \n",
    "    print(d, end=\"  \")"
   ]
  },
  {
   "cell_type": "code",
   "execution_count": 12,
   "id": "06db4119",
   "metadata": {},
   "outputs": [
    {
     "name": "stdout",
     "output_type": "stream",
     "text": [
      "10 20 30 40 50 60 "
     ]
    }
   ],
   "source": [
    "for j2 in[10,20,30,40,50,60]:\n",
    "    \n",
    "    print (j2, end=\" \")"
   ]
  },
  {
   "cell_type": "code",
   "execution_count": 13,
   "id": "3daf5437",
   "metadata": {},
   "outputs": [
    {
     "name": "stdout",
     "output_type": "stream",
     "text": [
      "Apple Mango 78 900 45.6 "
     ]
    }
   ],
   "source": [
    "for k in[\"Apple\",\"Mango\",78,900,45.6,]:\n",
    "    \n",
    "    print(k,end=\" \")"
   ]
  },
  {
   "cell_type": "markdown",
   "id": "5a6f4a0d",
   "metadata": {},
   "source": [
    "----------------------------------------------"
   ]
  },
  {
   "cell_type": "markdown",
   "id": "f073ec77",
   "metadata": {},
   "source": [
    "RANGE FUNCTION"
   ]
  },
  {
   "cell_type": "code",
   "execution_count": 14,
   "id": "77423b02",
   "metadata": {},
   "outputs": [
    {
     "data": {
      "text/plain": [
       "range(0, 5)"
      ]
     },
     "execution_count": 14,
     "metadata": {},
     "output_type": "execute_result"
    }
   ],
   "source": [
    "range(5)"
   ]
  },
  {
   "cell_type": "code",
   "execution_count": 15,
   "id": "9cd822b3",
   "metadata": {},
   "outputs": [
    {
     "data": {
      "text/plain": [
       "range(0, 10)"
      ]
     },
     "execution_count": 15,
     "metadata": {},
     "output_type": "execute_result"
    }
   ],
   "source": [
    "range(10)"
   ]
  },
  {
   "cell_type": "code",
   "execution_count": 16,
   "id": "536e7576",
   "metadata": {},
   "outputs": [
    {
     "data": {
      "text/plain": [
       "[0, 1, 2, 3, 4, 5, 6, 7, 8, 9]"
      ]
     },
     "execution_count": 16,
     "metadata": {},
     "output_type": "execute_result"
    }
   ],
   "source": [
    "list(range(10))"
   ]
  },
  {
   "cell_type": "code",
   "execution_count": 17,
   "id": "22b05ed6",
   "metadata": {},
   "outputs": [
    {
     "data": {
      "text/plain": [
       "[0, 1, 2, 3, 4, 5, 6, 7, 8, 9, 10, 11, 12, 13, 14, 15, 16, 17, 18, 19]"
      ]
     },
     "execution_count": 17,
     "metadata": {},
     "output_type": "execute_result"
    }
   ],
   "source": [
    "list(range(20))"
   ]
  },
  {
   "cell_type": "code",
   "execution_count": 19,
   "id": "c1b79dd3",
   "metadata": {},
   "outputs": [
    {
     "data": {
      "text/plain": [
       "[0, 1, 2, 3, 4, 5, 6]"
      ]
     },
     "execution_count": 19,
     "metadata": {},
     "output_type": "execute_result"
    }
   ],
   "source": [
    "list(range(7))"
   ]
  },
  {
   "cell_type": "code",
   "execution_count": 21,
   "id": "b3a5bfa2",
   "metadata": {},
   "outputs": [
    {
     "name": "stdout",
     "output_type": "stream",
     "text": [
      "0\n",
      "1\n",
      "2\n",
      "3\n",
      "4\n"
     ]
    }
   ],
   "source": [
    "for i in range(5):\n",
    "    print(i)"
   ]
  },
  {
   "cell_type": "code",
   "execution_count": 22,
   "id": "f1c3c6cf",
   "metadata": {},
   "outputs": [
    {
     "name": "stdout",
     "output_type": "stream",
     "text": [
      "0 1 2 3 4 5 6 7 8 9 "
     ]
    }
   ],
   "source": [
    "for p in range(10):\n",
    "    print(p,end=\" \")"
   ]
  },
  {
   "cell_type": "code",
   "execution_count": 24,
   "id": "d20002e1",
   "metadata": {},
   "outputs": [
    {
     "name": "stdout",
     "output_type": "stream",
     "text": [
      "0 1 2 3 4 5 6 7 8 9 10 11 12 13 14 15 16 17 18 19 "
     ]
    }
   ],
   "source": [
    "for i in range(20):\n",
    "    print(i,end=\" \")"
   ]
  },
  {
   "cell_type": "code",
   "execution_count": 27,
   "id": "4177f7eb",
   "metadata": {},
   "outputs": [
    {
     "data": {
      "text/plain": [
       "[0, 1, 2, 3, 4, 5, 6, 7, 8, 9, 10, 11, 12, 13, 14, 15, 16, 17, 18, 19]"
      ]
     },
     "execution_count": 27,
     "metadata": {},
     "output_type": "execute_result"
    }
   ],
   "source": [
    "data=list(range(20))\n",
    "data"
   ]
  },
  {
   "cell_type": "code",
   "execution_count": 3,
   "id": "17cca086",
   "metadata": {},
   "outputs": [
    {
     "data": {
      "text/plain": [
       "range(0, 5)"
      ]
     },
     "execution_count": 3,
     "metadata": {},
     "output_type": "execute_result"
    }
   ],
   "source": [
    "range(0,5)"
   ]
  },
  {
   "cell_type": "code",
   "execution_count": 4,
   "id": "832fccde",
   "metadata": {},
   "outputs": [
    {
     "data": {
      "text/plain": [
       "[0, 1, 2, 3, 4]"
      ]
     },
     "execution_count": 4,
     "metadata": {},
     "output_type": "execute_result"
    }
   ],
   "source": [
    "list(range(0,5))"
   ]
  },
  {
   "cell_type": "code",
   "execution_count": 5,
   "id": "239647fb",
   "metadata": {},
   "outputs": [
    {
     "data": {
      "text/plain": [
       "[0, 5, 10, 15, 20, 25, 30, 35, 40, 45]"
      ]
     },
     "execution_count": 5,
     "metadata": {},
     "output_type": "execute_result"
    }
   ],
   "source": [
    "# range(start,end,jump)\n",
    "\n",
    "list(range(0,50,5))"
   ]
  },
  {
   "cell_type": "code",
   "execution_count": 6,
   "id": "432859fa",
   "metadata": {},
   "outputs": [
    {
     "data": {
      "text/plain": [
       "[0, 2, 4, 6, 8]"
      ]
     },
     "execution_count": 6,
     "metadata": {},
     "output_type": "execute_result"
    }
   ],
   "source": [
    "list(range(0,10,2))"
   ]
  },
  {
   "cell_type": "code",
   "execution_count": 7,
   "id": "3ef9bcc8",
   "metadata": {},
   "outputs": [
    {
     "data": {
      "text/plain": [
       "[1, 2, 3, 4, 5, 6, 7, 8, 9]"
      ]
     },
     "execution_count": 7,
     "metadata": {},
     "output_type": "execute_result"
    }
   ],
   "source": [
    "list(range(1,10,1))"
   ]
  },
  {
   "cell_type": "code",
   "execution_count": 8,
   "id": "7e276046",
   "metadata": {},
   "outputs": [
    {
     "name": "stdout",
     "output_type": "stream",
     "text": [
      "0\n",
      "1\n",
      "2\n",
      "3\n",
      "4\n"
     ]
    }
   ],
   "source": [
    "for i in range(0,5):\n",
    "    print(i)"
   ]
  },
  {
   "cell_type": "code",
   "execution_count": 9,
   "id": "830017d8",
   "metadata": {},
   "outputs": [
    {
     "name": "stdout",
     "output_type": "stream",
     "text": [
      "5\n",
      "7\n",
      "9\n",
      "11\n",
      "13\n"
     ]
    }
   ],
   "source": [
    "for i in range(5,15,2):\n",
    "    print(i)"
   ]
  },
  {
   "cell_type": "code",
   "execution_count": 10,
   "id": "0576fc8e",
   "metadata": {},
   "outputs": [
    {
     "name": "stdout",
     "output_type": "stream",
     "text": [
      "5\n",
      "6\n",
      "7\n",
      "8\n",
      "9\n",
      "10\n",
      "11\n",
      "12\n",
      "13\n",
      "14\n"
     ]
    }
   ],
   "source": [
    "for i in range(5,15):\n",
    "    print(i)"
   ]
  },
  {
   "cell_type": "code",
   "execution_count": 12,
   "id": "c8b9fe22",
   "metadata": {},
   "outputs": [
    {
     "name": "stdout",
     "output_type": "stream",
     "text": [
      "0\n",
      "2\n",
      "4\n",
      "6\n",
      "8\n"
     ]
    }
   ],
   "source": [
    "for n in range(0,10,2):\n",
    "    print(n)"
   ]
  },
  {
   "cell_type": "code",
   "execution_count": 13,
   "id": "0117d50b",
   "metadata": {},
   "outputs": [
    {
     "name": "stdout",
     "output_type": "stream",
     "text": [
      "0\n",
      "5\n",
      "10\n",
      "15\n",
      "20\n",
      "25\n"
     ]
    }
   ],
   "source": [
    "for m in range(0,30,5):\n",
    "    print(m)"
   ]
  },
  {
   "cell_type": "markdown",
   "id": "a79cfffe",
   "metadata": {},
   "source": [
    "-----------------------------------------"
   ]
  }
 ],
 "metadata": {
  "kernelspec": {
   "display_name": "Python 3 (ipykernel)",
   "language": "python",
   "name": "python3"
  },
  "language_info": {
   "codemirror_mode": {
    "name": "ipython",
    "version": 3
   },
   "file_extension": ".py",
   "mimetype": "text/x-python",
   "name": "python",
   "nbconvert_exporter": "python",
   "pygments_lexer": "ipython3",
   "version": "3.9.7"
  }
 },
 "nbformat": 4,
 "nbformat_minor": 5
}
